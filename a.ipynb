{
 "cells": [
  {
   "cell_type": "code",
   "execution_count": 5,
   "id": "initial_id",
   "metadata": {
    "collapsed": true,
    "ExecuteTime": {
     "end_time": "2024-03-29T11:23:39.009372Z",
     "start_time": "2024-03-29T11:23:38.724436Z"
    }
   },
   "outputs": [],
   "source": [
    "import pandas as pd\n",
    "import numpy as np\n",
    "import plotly.graph_objects as go\n",
    "import plotly.express as px\n",
    "import base64\n",
    "import io\n",
    "from dash import dcc, html"
   ]
  },
  {
   "cell_type": "code",
   "execution_count": 34,
   "outputs": [],
   "source": [
    "train = pd.read_csv(\"./data/Xtrain.csv\", index_col=[0])\n",
    "shap_values = pd.read_csv('./data/shap_values.csv', index_col=[0])"
   ],
   "metadata": {
    "collapsed": false,
    "ExecuteTime": {
     "end_time": "2024-03-30T08:56:55.739817Z",
     "start_time": "2024-03-30T08:56:55.494044Z"
    }
   },
   "id": "cb9eeb168ec2889e"
  },
  {
   "cell_type": "code",
   "execution_count": 35,
   "outputs": [],
   "source": [
    "shap_values.columns = train.columns"
   ],
   "metadata": {
    "collapsed": false,
    "ExecuteTime": {
     "end_time": "2024-03-30T08:56:56.266005Z",
     "start_time": "2024-03-30T08:56:56.259780Z"
    }
   },
   "id": "7779d16c01fc27a4"
  },
  {
   "cell_type": "code",
   "execution_count": 66,
   "outputs": [
    {
     "data": {
      "text/plain": "        AMT_CREDIT_SUM_disc_int_zz967500pp0ww1017957917pp38vv  \\\n0                                               -0.065704       \n1                                               -0.096510       \n2                                                0.062368       \n3                                                0.062368       \n4                                                0.063093       \n...                                                   ...       \n244880                                           0.026612       \n244881                                           0.071587       \n244882                                           0.047835       \n244883                                           0.062368       \n244884                                           0.023601       \n\n        EXT_SOURCE_2_disc_int_zz0pp38ww0pp85vv  \\\n0                                    -0.168249   \n1                                    -0.173284   \n2                                    -0.168756   \n3                                    -0.168756   \n4                                    -0.169378   \n...                                        ...   \n244880                               -0.136166   \n244881                               -0.159966   \n244882                                0.412850   \n244883                               -0.168756   \n244884                                0.318211   \n\n        EXT_SOURCE_1_disc_int_zz0pp26ww0pp96vv  \\\n0                                    -0.128536   \n1                                    -0.129850   \n2                                    -0.121458   \n3                                    -0.121458   \n4                                    -0.123182   \n...                                        ...   \n244880                               -0.112319   \n244881                               -0.120297   \n244882                               -0.122816   \n244883                               -0.121458   \n244884                                0.444336   \n\n        EXT_SOURCE_3_disc_int_zz0pp33ww0pp9vv  \\\n0                                   -0.249488   \n1                                   -0.242892   \n2                                   -0.223920   \n3                                   -0.223920   \n4                                   -0.237796   \n...                                       ...   \n244880                               0.573867   \n244881                              -0.222140   \n244882                              -0.208838   \n244883                              -0.223920   \n244884                               0.573268   \n\n        NAME_INCOME_TYPE_discret_Low_income  \\\n0                                 -0.330479   \n1                                  0.091370   \n2                                  0.104317   \n3                                  0.104317   \n4                                  0.083892   \n...                                     ...   \n244880                            -0.347161   \n244881                             0.101513   \n244882                             0.113658   \n244883                             0.104317   \n244884                            -0.359613   \n\n        AMT_CREDIT_SUM_DEBT_disc_int_zzff6981558pp21ww9090pp0vv  \\\n0                                               -0.250592         \n1                                                0.074408         \n2                                               -0.248381         \n3                                               -0.248381         \n4                                               -0.245975         \n...                                                   ...         \n244880                                           0.075890         \n244881                                           0.077807         \n244882                                          -0.231536         \n244883                                          -0.248381         \n244884                                           0.072568         \n\n        DAYS_EMPLOYED_disc_int_zzff17912wwff2420vv  \n0                                         0.078179  \n1                                         0.104804  \n2                                         0.103211  \n3                                         0.103211  \n4                                        -0.264107  \n...                                            ...  \n244880                                    0.071800  \n244881                                    0.104778  \n244882                                    0.098980  \n244883                                    0.103211  \n244884                                    0.062913  \n\n[244885 rows x 7 columns]",
      "text/html": "<div>\n<style scoped>\n    .dataframe tbody tr th:only-of-type {\n        vertical-align: middle;\n    }\n\n    .dataframe tbody tr th {\n        vertical-align: top;\n    }\n\n    .dataframe thead th {\n        text-align: right;\n    }\n</style>\n<table border=\"1\" class=\"dataframe\">\n  <thead>\n    <tr style=\"text-align: right;\">\n      <th></th>\n      <th>AMT_CREDIT_SUM_disc_int_zz967500pp0ww1017957917pp38vv</th>\n      <th>EXT_SOURCE_2_disc_int_zz0pp38ww0pp85vv</th>\n      <th>EXT_SOURCE_1_disc_int_zz0pp26ww0pp96vv</th>\n      <th>EXT_SOURCE_3_disc_int_zz0pp33ww0pp9vv</th>\n      <th>NAME_INCOME_TYPE_discret_Low_income</th>\n      <th>AMT_CREDIT_SUM_DEBT_disc_int_zzff6981558pp21ww9090pp0vv</th>\n      <th>DAYS_EMPLOYED_disc_int_zzff17912wwff2420vv</th>\n    </tr>\n  </thead>\n  <tbody>\n    <tr>\n      <th>0</th>\n      <td>-0.065704</td>\n      <td>-0.168249</td>\n      <td>-0.128536</td>\n      <td>-0.249488</td>\n      <td>-0.330479</td>\n      <td>-0.250592</td>\n      <td>0.078179</td>\n    </tr>\n    <tr>\n      <th>1</th>\n      <td>-0.096510</td>\n      <td>-0.173284</td>\n      <td>-0.129850</td>\n      <td>-0.242892</td>\n      <td>0.091370</td>\n      <td>0.074408</td>\n      <td>0.104804</td>\n    </tr>\n    <tr>\n      <th>2</th>\n      <td>0.062368</td>\n      <td>-0.168756</td>\n      <td>-0.121458</td>\n      <td>-0.223920</td>\n      <td>0.104317</td>\n      <td>-0.248381</td>\n      <td>0.103211</td>\n    </tr>\n    <tr>\n      <th>3</th>\n      <td>0.062368</td>\n      <td>-0.168756</td>\n      <td>-0.121458</td>\n      <td>-0.223920</td>\n      <td>0.104317</td>\n      <td>-0.248381</td>\n      <td>0.103211</td>\n    </tr>\n    <tr>\n      <th>4</th>\n      <td>0.063093</td>\n      <td>-0.169378</td>\n      <td>-0.123182</td>\n      <td>-0.237796</td>\n      <td>0.083892</td>\n      <td>-0.245975</td>\n      <td>-0.264107</td>\n    </tr>\n    <tr>\n      <th>...</th>\n      <td>...</td>\n      <td>...</td>\n      <td>...</td>\n      <td>...</td>\n      <td>...</td>\n      <td>...</td>\n      <td>...</td>\n    </tr>\n    <tr>\n      <th>244880</th>\n      <td>0.026612</td>\n      <td>-0.136166</td>\n      <td>-0.112319</td>\n      <td>0.573867</td>\n      <td>-0.347161</td>\n      <td>0.075890</td>\n      <td>0.071800</td>\n    </tr>\n    <tr>\n      <th>244881</th>\n      <td>0.071587</td>\n      <td>-0.159966</td>\n      <td>-0.120297</td>\n      <td>-0.222140</td>\n      <td>0.101513</td>\n      <td>0.077807</td>\n      <td>0.104778</td>\n    </tr>\n    <tr>\n      <th>244882</th>\n      <td>0.047835</td>\n      <td>0.412850</td>\n      <td>-0.122816</td>\n      <td>-0.208838</td>\n      <td>0.113658</td>\n      <td>-0.231536</td>\n      <td>0.098980</td>\n    </tr>\n    <tr>\n      <th>244883</th>\n      <td>0.062368</td>\n      <td>-0.168756</td>\n      <td>-0.121458</td>\n      <td>-0.223920</td>\n      <td>0.104317</td>\n      <td>-0.248381</td>\n      <td>0.103211</td>\n    </tr>\n    <tr>\n      <th>244884</th>\n      <td>0.023601</td>\n      <td>0.318211</td>\n      <td>0.444336</td>\n      <td>0.573268</td>\n      <td>-0.359613</td>\n      <td>0.072568</td>\n      <td>0.062913</td>\n    </tr>\n  </tbody>\n</table>\n<p>244885 rows × 7 columns</p>\n</div>"
     },
     "execution_count": 66,
     "metadata": {},
     "output_type": "execute_result"
    }
   ],
   "source": [
    "shap_values"
   ],
   "metadata": {
    "collapsed": false,
    "ExecuteTime": {
     "end_time": "2024-03-29T16:37:36.199420Z",
     "start_time": "2024-03-29T16:37:36.194713Z"
    }
   },
   "id": "f23cbb33ac7a48f2"
  },
  {
   "cell_type": "code",
   "execution_count": 68,
   "outputs": [],
   "source": [
    "train.reset_index(inplace=True, drop=True)"
   ],
   "metadata": {
    "collapsed": false,
    "ExecuteTime": {
     "end_time": "2024-03-29T16:40:23.755337Z",
     "start_time": "2024-03-29T16:40:23.748189Z"
    }
   },
   "id": "2b1f3b41064eceb4"
  },
  {
   "cell_type": "code",
   "execution_count": 69,
   "outputs": [
    {
     "data": {
      "text/plain": "        AMT_CREDIT_SUM_disc_int_zz967500pp0ww1017957917pp38vv  \\\n0                                                       0       \n1                                                       0       \n2                                                       1       \n3                                                       1       \n4                                                       1       \n...                                                   ...       \n244880                                                  1       \n244881                                                  1       \n244882                                                  1       \n244883                                                  1       \n244884                                                  0       \n\n        EXT_SOURCE_2_disc_int_zz0pp38ww0pp85vv  \\\n0                                            0   \n1                                            0   \n2                                            0   \n3                                            0   \n4                                            0   \n...                                        ...   \n244880                                       0   \n244881                                       0   \n244882                                       1   \n244883                                       0   \n244884                                       1   \n\n        EXT_SOURCE_1_disc_int_zz0pp26ww0pp96vv  \\\n0                                            0   \n1                                            0   \n2                                            0   \n3                                            0   \n4                                            0   \n...                                        ...   \n244880                                       0   \n244881                                       0   \n244882                                       0   \n244883                                       0   \n244884                                       1   \n\n        EXT_SOURCE_3_disc_int_zz0pp33ww0pp9vv  \\\n0                                           0   \n1                                           0   \n2                                           0   \n3                                           0   \n4                                           0   \n...                                       ...   \n244880                                      1   \n244881                                      0   \n244882                                      0   \n244883                                      0   \n244884                                      1   \n\n        NAME_INCOME_TYPE_discret_Low_income  \\\n0                                         0   \n1                                         1   \n2                                         1   \n3                                         1   \n4                                         1   \n...                                     ...   \n244880                                    0   \n244881                                    1   \n244882                                    1   \n244883                                    1   \n244884                                    0   \n\n        AMT_CREDIT_SUM_DEBT_disc_int_zzff6981558pp21ww9090pp0vv  \\\n0                                                       0         \n1                                                       1         \n2                                                       0         \n3                                                       0         \n4                                                       0         \n...                                                   ...         \n244880                                                  1         \n244881                                                  1         \n244882                                                  0         \n244883                                                  0         \n244884                                                  1         \n\n        DAYS_EMPLOYED_disc_int_zzff17912wwff2420vv  \n0                                                1  \n1                                                1  \n2                                                1  \n3                                                1  \n4                                                0  \n...                                            ...  \n244880                                           1  \n244881                                           1  \n244882                                           1  \n244883                                           1  \n244884                                           1  \n\n[244885 rows x 7 columns]",
      "text/html": "<div>\n<style scoped>\n    .dataframe tbody tr th:only-of-type {\n        vertical-align: middle;\n    }\n\n    .dataframe tbody tr th {\n        vertical-align: top;\n    }\n\n    .dataframe thead th {\n        text-align: right;\n    }\n</style>\n<table border=\"1\" class=\"dataframe\">\n  <thead>\n    <tr style=\"text-align: right;\">\n      <th></th>\n      <th>AMT_CREDIT_SUM_disc_int_zz967500pp0ww1017957917pp38vv</th>\n      <th>EXT_SOURCE_2_disc_int_zz0pp38ww0pp85vv</th>\n      <th>EXT_SOURCE_1_disc_int_zz0pp26ww0pp96vv</th>\n      <th>EXT_SOURCE_3_disc_int_zz0pp33ww0pp9vv</th>\n      <th>NAME_INCOME_TYPE_discret_Low_income</th>\n      <th>AMT_CREDIT_SUM_DEBT_disc_int_zzff6981558pp21ww9090pp0vv</th>\n      <th>DAYS_EMPLOYED_disc_int_zzff17912wwff2420vv</th>\n    </tr>\n  </thead>\n  <tbody>\n    <tr>\n      <th>0</th>\n      <td>0</td>\n      <td>0</td>\n      <td>0</td>\n      <td>0</td>\n      <td>0</td>\n      <td>0</td>\n      <td>1</td>\n    </tr>\n    <tr>\n      <th>1</th>\n      <td>0</td>\n      <td>0</td>\n      <td>0</td>\n      <td>0</td>\n      <td>1</td>\n      <td>1</td>\n      <td>1</td>\n    </tr>\n    <tr>\n      <th>2</th>\n      <td>1</td>\n      <td>0</td>\n      <td>0</td>\n      <td>0</td>\n      <td>1</td>\n      <td>0</td>\n      <td>1</td>\n    </tr>\n    <tr>\n      <th>3</th>\n      <td>1</td>\n      <td>0</td>\n      <td>0</td>\n      <td>0</td>\n      <td>1</td>\n      <td>0</td>\n      <td>1</td>\n    </tr>\n    <tr>\n      <th>4</th>\n      <td>1</td>\n      <td>0</td>\n      <td>0</td>\n      <td>0</td>\n      <td>1</td>\n      <td>0</td>\n      <td>0</td>\n    </tr>\n    <tr>\n      <th>...</th>\n      <td>...</td>\n      <td>...</td>\n      <td>...</td>\n      <td>...</td>\n      <td>...</td>\n      <td>...</td>\n      <td>...</td>\n    </tr>\n    <tr>\n      <th>244880</th>\n      <td>1</td>\n      <td>0</td>\n      <td>0</td>\n      <td>1</td>\n      <td>0</td>\n      <td>1</td>\n      <td>1</td>\n    </tr>\n    <tr>\n      <th>244881</th>\n      <td>1</td>\n      <td>0</td>\n      <td>0</td>\n      <td>0</td>\n      <td>1</td>\n      <td>1</td>\n      <td>1</td>\n    </tr>\n    <tr>\n      <th>244882</th>\n      <td>1</td>\n      <td>1</td>\n      <td>0</td>\n      <td>0</td>\n      <td>1</td>\n      <td>0</td>\n      <td>1</td>\n    </tr>\n    <tr>\n      <th>244883</th>\n      <td>1</td>\n      <td>0</td>\n      <td>0</td>\n      <td>0</td>\n      <td>1</td>\n      <td>0</td>\n      <td>1</td>\n    </tr>\n    <tr>\n      <th>244884</th>\n      <td>0</td>\n      <td>1</td>\n      <td>1</td>\n      <td>1</td>\n      <td>0</td>\n      <td>1</td>\n      <td>1</td>\n    </tr>\n  </tbody>\n</table>\n<p>244885 rows × 7 columns</p>\n</div>"
     },
     "execution_count": 69,
     "metadata": {},
     "output_type": "execute_result"
    }
   ],
   "source": [
    "train"
   ],
   "metadata": {
    "collapsed": false,
    "ExecuteTime": {
     "end_time": "2024-03-29T16:40:26.261808Z",
     "start_time": "2024-03-29T16:40:26.258446Z"
    }
   },
   "id": "c3740d626680e5dd"
  },
  {
   "cell_type": "code",
   "execution_count": 106,
   "outputs": [
    {
     "data": {
      "text/plain": "        AMT_CREDIT_SUM_disc_int_zz967500pp0ww1017957917pp38vv  \\\n0                                               -0.065704       \n1                                               -0.096510       \n2                                                0.062368       \n3                                                0.062368       \n4                                                0.063093       \n...                                                   ...       \n244880                                           0.026612       \n244881                                           0.071587       \n244882                                           0.047835       \n244883                                           0.062368       \n244884                                           0.023601       \n\n        EXT_SOURCE_2_disc_int_zz0pp38ww0pp85vv  \\\n0                                    -0.168249   \n1                                    -0.173284   \n2                                    -0.168756   \n3                                    -0.168756   \n4                                    -0.169378   \n...                                        ...   \n244880                               -0.136166   \n244881                               -0.159966   \n244882                                0.412850   \n244883                               -0.168756   \n244884                                0.318211   \n\n        EXT_SOURCE_1_disc_int_zz0pp26ww0pp96vv  \\\n0                                    -0.128536   \n1                                    -0.129850   \n2                                    -0.121458   \n3                                    -0.121458   \n4                                    -0.123182   \n...                                        ...   \n244880                               -0.112319   \n244881                               -0.120297   \n244882                               -0.122816   \n244883                               -0.121458   \n244884                                0.444336   \n\n        EXT_SOURCE_3_disc_int_zz0pp33ww0pp9vv  \\\n0                                   -0.249488   \n1                                   -0.242892   \n2                                   -0.223920   \n3                                   -0.223920   \n4                                   -0.237796   \n...                                       ...   \n244880                               0.573867   \n244881                              -0.222140   \n244882                              -0.208838   \n244883                              -0.223920   \n244884                               0.573268   \n\n        NAME_INCOME_TYPE_discret_Low_income  \\\n0                                 -0.330479   \n1                                  0.091370   \n2                                  0.104317   \n3                                  0.104317   \n4                                  0.083892   \n...                                     ...   \n244880                            -0.347161   \n244881                             0.101513   \n244882                             0.113658   \n244883                             0.104317   \n244884                            -0.359613   \n\n        AMT_CREDIT_SUM_DEBT_disc_int_zzff6981558pp21ww9090pp0vv  \\\n0                                               -0.250592         \n1                                                0.074408         \n2                                               -0.248381         \n3                                               -0.248381         \n4                                               -0.245975         \n...                                                   ...         \n244880                                           0.075890         \n244881                                           0.077807         \n244882                                          -0.231536         \n244883                                          -0.248381         \n244884                                           0.072568         \n\n        DAYS_EMPLOYED_disc_int_zzff17912wwff2420vv  \n0                                         0.078179  \n1                                         0.104804  \n2                                         0.103211  \n3                                         0.103211  \n4                                        -0.264107  \n...                                            ...  \n244880                                    0.071800  \n244881                                    0.104778  \n244882                                    0.098980  \n244883                                    0.103211  \n244884                                    0.062913  \n\n[244885 rows x 7 columns]",
      "text/html": "<div>\n<style scoped>\n    .dataframe tbody tr th:only-of-type {\n        vertical-align: middle;\n    }\n\n    .dataframe tbody tr th {\n        vertical-align: top;\n    }\n\n    .dataframe thead th {\n        text-align: right;\n    }\n</style>\n<table border=\"1\" class=\"dataframe\">\n  <thead>\n    <tr style=\"text-align: right;\">\n      <th></th>\n      <th>AMT_CREDIT_SUM_disc_int_zz967500pp0ww1017957917pp38vv</th>\n      <th>EXT_SOURCE_2_disc_int_zz0pp38ww0pp85vv</th>\n      <th>EXT_SOURCE_1_disc_int_zz0pp26ww0pp96vv</th>\n      <th>EXT_SOURCE_3_disc_int_zz0pp33ww0pp9vv</th>\n      <th>NAME_INCOME_TYPE_discret_Low_income</th>\n      <th>AMT_CREDIT_SUM_DEBT_disc_int_zzff6981558pp21ww9090pp0vv</th>\n      <th>DAYS_EMPLOYED_disc_int_zzff17912wwff2420vv</th>\n    </tr>\n  </thead>\n  <tbody>\n    <tr>\n      <th>0</th>\n      <td>-0.065704</td>\n      <td>-0.168249</td>\n      <td>-0.128536</td>\n      <td>-0.249488</td>\n      <td>-0.330479</td>\n      <td>-0.250592</td>\n      <td>0.078179</td>\n    </tr>\n    <tr>\n      <th>1</th>\n      <td>-0.096510</td>\n      <td>-0.173284</td>\n      <td>-0.129850</td>\n      <td>-0.242892</td>\n      <td>0.091370</td>\n      <td>0.074408</td>\n      <td>0.104804</td>\n    </tr>\n    <tr>\n      <th>2</th>\n      <td>0.062368</td>\n      <td>-0.168756</td>\n      <td>-0.121458</td>\n      <td>-0.223920</td>\n      <td>0.104317</td>\n      <td>-0.248381</td>\n      <td>0.103211</td>\n    </tr>\n    <tr>\n      <th>3</th>\n      <td>0.062368</td>\n      <td>-0.168756</td>\n      <td>-0.121458</td>\n      <td>-0.223920</td>\n      <td>0.104317</td>\n      <td>-0.248381</td>\n      <td>0.103211</td>\n    </tr>\n    <tr>\n      <th>4</th>\n      <td>0.063093</td>\n      <td>-0.169378</td>\n      <td>-0.123182</td>\n      <td>-0.237796</td>\n      <td>0.083892</td>\n      <td>-0.245975</td>\n      <td>-0.264107</td>\n    </tr>\n    <tr>\n      <th>...</th>\n      <td>...</td>\n      <td>...</td>\n      <td>...</td>\n      <td>...</td>\n      <td>...</td>\n      <td>...</td>\n      <td>...</td>\n    </tr>\n    <tr>\n      <th>244880</th>\n      <td>0.026612</td>\n      <td>-0.136166</td>\n      <td>-0.112319</td>\n      <td>0.573867</td>\n      <td>-0.347161</td>\n      <td>0.075890</td>\n      <td>0.071800</td>\n    </tr>\n    <tr>\n      <th>244881</th>\n      <td>0.071587</td>\n      <td>-0.159966</td>\n      <td>-0.120297</td>\n      <td>-0.222140</td>\n      <td>0.101513</td>\n      <td>0.077807</td>\n      <td>0.104778</td>\n    </tr>\n    <tr>\n      <th>244882</th>\n      <td>0.047835</td>\n      <td>0.412850</td>\n      <td>-0.122816</td>\n      <td>-0.208838</td>\n      <td>0.113658</td>\n      <td>-0.231536</td>\n      <td>0.098980</td>\n    </tr>\n    <tr>\n      <th>244883</th>\n      <td>0.062368</td>\n      <td>-0.168756</td>\n      <td>-0.121458</td>\n      <td>-0.223920</td>\n      <td>0.104317</td>\n      <td>-0.248381</td>\n      <td>0.103211</td>\n    </tr>\n    <tr>\n      <th>244884</th>\n      <td>0.023601</td>\n      <td>0.318211</td>\n      <td>0.444336</td>\n      <td>0.573268</td>\n      <td>-0.359613</td>\n      <td>0.072568</td>\n      <td>0.062913</td>\n    </tr>\n  </tbody>\n</table>\n<p>244885 rows × 7 columns</p>\n</div>"
     },
     "execution_count": 106,
     "metadata": {},
     "output_type": "execute_result"
    }
   ],
   "source": [
    "shap_values"
   ],
   "metadata": {
    "collapsed": false,
    "ExecuteTime": {
     "end_time": "2024-03-29T17:22:21.276273Z",
     "start_time": "2024-03-29T17:22:21.213919Z"
    }
   },
   "id": "2e644fbf03116ace"
  },
  {
   "cell_type": "code",
   "execution_count": 108,
   "outputs": [],
   "source": [
    "shap_values = pd.DataFrame(\n",
    "    {\"A\" : [-0.065704,-0.096510,0.062368,0.062368,0.063093], \n",
    "     'B' : [-0.168249,-0.173284,-0.168756,-0.168756,-0.169378]})"
   ],
   "metadata": {
    "collapsed": false,
    "ExecuteTime": {
     "end_time": "2024-03-29T17:24:25.382909Z",
     "start_time": "2024-03-29T17:24:25.315827Z"
    }
   },
   "id": "a3ba58286d657b94"
  },
  {
   "cell_type": "code",
   "execution_count": 109,
   "outputs": [],
   "source": [
    "train  = pd.DataFrame(\n",
    "    {\"A\" : [0,1,1,0,0], \n",
    "     'B' : [1,1,0,0,1]})"
   ],
   "metadata": {
    "collapsed": false,
    "ExecuteTime": {
     "end_time": "2024-03-29T17:25:38.453773Z",
     "start_time": "2024-03-29T17:25:38.385034Z"
    }
   },
   "id": "ad5f81ed460ab92b"
  },
  {
   "cell_type": "code",
   "execution_count": 110,
   "outputs": [],
   "source": [
    "merged_df = shap_values.join(train, lsuffix='_shap', rsuffix='_train')"
   ],
   "metadata": {
    "collapsed": false,
    "ExecuteTime": {
     "end_time": "2024-03-29T17:25:43.528160Z",
     "start_time": "2024-03-29T17:25:43.430469Z"
    }
   },
   "id": "666a5cdd01cc8e2e"
  },
  {
   "cell_type": "code",
   "execution_count": 113,
   "outputs": [],
   "source": [
    "figures = []\n",
    "\n",
    "# Pour chaque caractéristique, créez un strip plot.\n",
    "for column in shap_values.columns:\n",
    "    fig = px.strip(merged_df, x=merged_df[column+'_shap'], color=merged_df[column+'_train'], orientation='h', stripmode='overlay')\n",
    "\n",
    "    fig.update_layout(\n",
    "        title=f'Bee swarm plot de la valeur de Shapley pour {column}',\n",
    "        xaxis_title='Valeur de Shapley (impact sur la sortie du modèle)',\n",
    "        yaxis_title='Caractéristique'\n",
    "    )\n",
    "    \n",
    "    figures.append(fig)"
   ],
   "metadata": {
    "collapsed": false,
    "ExecuteTime": {
     "end_time": "2024-03-29T17:26:29.433656Z",
     "start_time": "2024-03-29T17:26:29.335105Z"
    }
   },
   "id": "24f6cc02731b95db"
  },
  {
   "cell_type": "code",
   "execution_count": 116,
   "outputs": [
    {
     "data": {
      "application/vnd.plotly.v1+json": {
       "data": [
        {
         "alignmentgroup": "True",
         "boxpoints": "all",
         "fillcolor": "rgba(255,255,255,0)",
         "hoveron": "points",
         "hovertemplate": "A_train=0<br>A_shap=%{x}<extra></extra>",
         "legendgroup": "0",
         "line": {
          "color": "rgba(255,255,255,0)"
         },
         "marker": {
          "color": "#636efa"
         },
         "name": "0",
         "offsetgroup": "0",
         "orientation": "h",
         "pointpos": 0,
         "showlegend": true,
         "x": [
          -0.065704,
          0.062368,
          0.063093
         ],
         "x0": " ",
         "xaxis": "x",
         "y0": " ",
         "yaxis": "y",
         "type": "box"
        },
        {
         "alignmentgroup": "True",
         "boxpoints": "all",
         "fillcolor": "rgba(255,255,255,0)",
         "hoveron": "points",
         "hovertemplate": "A_train=1<br>A_shap=%{x}<extra></extra>",
         "legendgroup": "1",
         "line": {
          "color": "rgba(255,255,255,0)"
         },
         "marker": {
          "color": "#EF553B"
         },
         "name": "1",
         "offsetgroup": "1",
         "orientation": "h",
         "pointpos": 0,
         "showlegend": true,
         "x": [
          -0.09651,
          0.062368
         ],
         "x0": " ",
         "xaxis": "x",
         "y0": " ",
         "yaxis": "y",
         "type": "box"
        }
       ],
       "layout": {
        "template": {
         "data": {
          "histogram2dcontour": [
           {
            "type": "histogram2dcontour",
            "colorbar": {
             "outlinewidth": 0,
             "ticks": ""
            },
            "colorscale": [
             [
              0.0,
              "#0d0887"
             ],
             [
              0.1111111111111111,
              "#46039f"
             ],
             [
              0.2222222222222222,
              "#7201a8"
             ],
             [
              0.3333333333333333,
              "#9c179e"
             ],
             [
              0.4444444444444444,
              "#bd3786"
             ],
             [
              0.5555555555555556,
              "#d8576b"
             ],
             [
              0.6666666666666666,
              "#ed7953"
             ],
             [
              0.7777777777777778,
              "#fb9f3a"
             ],
             [
              0.8888888888888888,
              "#fdca26"
             ],
             [
              1.0,
              "#f0f921"
             ]
            ]
           }
          ],
          "choropleth": [
           {
            "type": "choropleth",
            "colorbar": {
             "outlinewidth": 0,
             "ticks": ""
            }
           }
          ],
          "histogram2d": [
           {
            "type": "histogram2d",
            "colorbar": {
             "outlinewidth": 0,
             "ticks": ""
            },
            "colorscale": [
             [
              0.0,
              "#0d0887"
             ],
             [
              0.1111111111111111,
              "#46039f"
             ],
             [
              0.2222222222222222,
              "#7201a8"
             ],
             [
              0.3333333333333333,
              "#9c179e"
             ],
             [
              0.4444444444444444,
              "#bd3786"
             ],
             [
              0.5555555555555556,
              "#d8576b"
             ],
             [
              0.6666666666666666,
              "#ed7953"
             ],
             [
              0.7777777777777778,
              "#fb9f3a"
             ],
             [
              0.8888888888888888,
              "#fdca26"
             ],
             [
              1.0,
              "#f0f921"
             ]
            ]
           }
          ],
          "heatmap": [
           {
            "type": "heatmap",
            "colorbar": {
             "outlinewidth": 0,
             "ticks": ""
            },
            "colorscale": [
             [
              0.0,
              "#0d0887"
             ],
             [
              0.1111111111111111,
              "#46039f"
             ],
             [
              0.2222222222222222,
              "#7201a8"
             ],
             [
              0.3333333333333333,
              "#9c179e"
             ],
             [
              0.4444444444444444,
              "#bd3786"
             ],
             [
              0.5555555555555556,
              "#d8576b"
             ],
             [
              0.6666666666666666,
              "#ed7953"
             ],
             [
              0.7777777777777778,
              "#fb9f3a"
             ],
             [
              0.8888888888888888,
              "#fdca26"
             ],
             [
              1.0,
              "#f0f921"
             ]
            ]
           }
          ],
          "heatmapgl": [
           {
            "type": "heatmapgl",
            "colorbar": {
             "outlinewidth": 0,
             "ticks": ""
            },
            "colorscale": [
             [
              0.0,
              "#0d0887"
             ],
             [
              0.1111111111111111,
              "#46039f"
             ],
             [
              0.2222222222222222,
              "#7201a8"
             ],
             [
              0.3333333333333333,
              "#9c179e"
             ],
             [
              0.4444444444444444,
              "#bd3786"
             ],
             [
              0.5555555555555556,
              "#d8576b"
             ],
             [
              0.6666666666666666,
              "#ed7953"
             ],
             [
              0.7777777777777778,
              "#fb9f3a"
             ],
             [
              0.8888888888888888,
              "#fdca26"
             ],
             [
              1.0,
              "#f0f921"
             ]
            ]
           }
          ],
          "contourcarpet": [
           {
            "type": "contourcarpet",
            "colorbar": {
             "outlinewidth": 0,
             "ticks": ""
            }
           }
          ],
          "contour": [
           {
            "type": "contour",
            "colorbar": {
             "outlinewidth": 0,
             "ticks": ""
            },
            "colorscale": [
             [
              0.0,
              "#0d0887"
             ],
             [
              0.1111111111111111,
              "#46039f"
             ],
             [
              0.2222222222222222,
              "#7201a8"
             ],
             [
              0.3333333333333333,
              "#9c179e"
             ],
             [
              0.4444444444444444,
              "#bd3786"
             ],
             [
              0.5555555555555556,
              "#d8576b"
             ],
             [
              0.6666666666666666,
              "#ed7953"
             ],
             [
              0.7777777777777778,
              "#fb9f3a"
             ],
             [
              0.8888888888888888,
              "#fdca26"
             ],
             [
              1.0,
              "#f0f921"
             ]
            ]
           }
          ],
          "surface": [
           {
            "type": "surface",
            "colorbar": {
             "outlinewidth": 0,
             "ticks": ""
            },
            "colorscale": [
             [
              0.0,
              "#0d0887"
             ],
             [
              0.1111111111111111,
              "#46039f"
             ],
             [
              0.2222222222222222,
              "#7201a8"
             ],
             [
              0.3333333333333333,
              "#9c179e"
             ],
             [
              0.4444444444444444,
              "#bd3786"
             ],
             [
              0.5555555555555556,
              "#d8576b"
             ],
             [
              0.6666666666666666,
              "#ed7953"
             ],
             [
              0.7777777777777778,
              "#fb9f3a"
             ],
             [
              0.8888888888888888,
              "#fdca26"
             ],
             [
              1.0,
              "#f0f921"
             ]
            ]
           }
          ],
          "mesh3d": [
           {
            "type": "mesh3d",
            "colorbar": {
             "outlinewidth": 0,
             "ticks": ""
            }
           }
          ],
          "scatter": [
           {
            "fillpattern": {
             "fillmode": "overlay",
             "size": 10,
             "solidity": 0.2
            },
            "type": "scatter"
           }
          ],
          "parcoords": [
           {
            "type": "parcoords",
            "line": {
             "colorbar": {
              "outlinewidth": 0,
              "ticks": ""
             }
            }
           }
          ],
          "scatterpolargl": [
           {
            "type": "scatterpolargl",
            "marker": {
             "colorbar": {
              "outlinewidth": 0,
              "ticks": ""
             }
            }
           }
          ],
          "bar": [
           {
            "error_x": {
             "color": "#2a3f5f"
            },
            "error_y": {
             "color": "#2a3f5f"
            },
            "marker": {
             "line": {
              "color": "#E5ECF6",
              "width": 0.5
             },
             "pattern": {
              "fillmode": "overlay",
              "size": 10,
              "solidity": 0.2
             }
            },
            "type": "bar"
           }
          ],
          "scattergeo": [
           {
            "type": "scattergeo",
            "marker": {
             "colorbar": {
              "outlinewidth": 0,
              "ticks": ""
             }
            }
           }
          ],
          "scatterpolar": [
           {
            "type": "scatterpolar",
            "marker": {
             "colorbar": {
              "outlinewidth": 0,
              "ticks": ""
             }
            }
           }
          ],
          "histogram": [
           {
            "marker": {
             "pattern": {
              "fillmode": "overlay",
              "size": 10,
              "solidity": 0.2
             }
            },
            "type": "histogram"
           }
          ],
          "scattergl": [
           {
            "type": "scattergl",
            "marker": {
             "colorbar": {
              "outlinewidth": 0,
              "ticks": ""
             }
            }
           }
          ],
          "scatter3d": [
           {
            "type": "scatter3d",
            "line": {
             "colorbar": {
              "outlinewidth": 0,
              "ticks": ""
             }
            },
            "marker": {
             "colorbar": {
              "outlinewidth": 0,
              "ticks": ""
             }
            }
           }
          ],
          "scattermapbox": [
           {
            "type": "scattermapbox",
            "marker": {
             "colorbar": {
              "outlinewidth": 0,
              "ticks": ""
             }
            }
           }
          ],
          "scatterternary": [
           {
            "type": "scatterternary",
            "marker": {
             "colorbar": {
              "outlinewidth": 0,
              "ticks": ""
             }
            }
           }
          ],
          "scattercarpet": [
           {
            "type": "scattercarpet",
            "marker": {
             "colorbar": {
              "outlinewidth": 0,
              "ticks": ""
             }
            }
           }
          ],
          "carpet": [
           {
            "aaxis": {
             "endlinecolor": "#2a3f5f",
             "gridcolor": "white",
             "linecolor": "white",
             "minorgridcolor": "white",
             "startlinecolor": "#2a3f5f"
            },
            "baxis": {
             "endlinecolor": "#2a3f5f",
             "gridcolor": "white",
             "linecolor": "white",
             "minorgridcolor": "white",
             "startlinecolor": "#2a3f5f"
            },
            "type": "carpet"
           }
          ],
          "table": [
           {
            "cells": {
             "fill": {
              "color": "#EBF0F8"
             },
             "line": {
              "color": "white"
             }
            },
            "header": {
             "fill": {
              "color": "#C8D4E3"
             },
             "line": {
              "color": "white"
             }
            },
            "type": "table"
           }
          ],
          "barpolar": [
           {
            "marker": {
             "line": {
              "color": "#E5ECF6",
              "width": 0.5
             },
             "pattern": {
              "fillmode": "overlay",
              "size": 10,
              "solidity": 0.2
             }
            },
            "type": "barpolar"
           }
          ],
          "pie": [
           {
            "automargin": true,
            "type": "pie"
           }
          ]
         },
         "layout": {
          "autotypenumbers": "strict",
          "colorway": [
           "#636efa",
           "#EF553B",
           "#00cc96",
           "#ab63fa",
           "#FFA15A",
           "#19d3f3",
           "#FF6692",
           "#B6E880",
           "#FF97FF",
           "#FECB52"
          ],
          "font": {
           "color": "#2a3f5f"
          },
          "hovermode": "closest",
          "hoverlabel": {
           "align": "left"
          },
          "paper_bgcolor": "white",
          "plot_bgcolor": "#E5ECF6",
          "polar": {
           "bgcolor": "#E5ECF6",
           "angularaxis": {
            "gridcolor": "white",
            "linecolor": "white",
            "ticks": ""
           },
           "radialaxis": {
            "gridcolor": "white",
            "linecolor": "white",
            "ticks": ""
           }
          },
          "ternary": {
           "bgcolor": "#E5ECF6",
           "aaxis": {
            "gridcolor": "white",
            "linecolor": "white",
            "ticks": ""
           },
           "baxis": {
            "gridcolor": "white",
            "linecolor": "white",
            "ticks": ""
           },
           "caxis": {
            "gridcolor": "white",
            "linecolor": "white",
            "ticks": ""
           }
          },
          "coloraxis": {
           "colorbar": {
            "outlinewidth": 0,
            "ticks": ""
           }
          },
          "colorscale": {
           "sequential": [
            [
             0.0,
             "#0d0887"
            ],
            [
             0.1111111111111111,
             "#46039f"
            ],
            [
             0.2222222222222222,
             "#7201a8"
            ],
            [
             0.3333333333333333,
             "#9c179e"
            ],
            [
             0.4444444444444444,
             "#bd3786"
            ],
            [
             0.5555555555555556,
             "#d8576b"
            ],
            [
             0.6666666666666666,
             "#ed7953"
            ],
            [
             0.7777777777777778,
             "#fb9f3a"
            ],
            [
             0.8888888888888888,
             "#fdca26"
            ],
            [
             1.0,
             "#f0f921"
            ]
           ],
           "sequentialminus": [
            [
             0.0,
             "#0d0887"
            ],
            [
             0.1111111111111111,
             "#46039f"
            ],
            [
             0.2222222222222222,
             "#7201a8"
            ],
            [
             0.3333333333333333,
             "#9c179e"
            ],
            [
             0.4444444444444444,
             "#bd3786"
            ],
            [
             0.5555555555555556,
             "#d8576b"
            ],
            [
             0.6666666666666666,
             "#ed7953"
            ],
            [
             0.7777777777777778,
             "#fb9f3a"
            ],
            [
             0.8888888888888888,
             "#fdca26"
            ],
            [
             1.0,
             "#f0f921"
            ]
           ],
           "diverging": [
            [
             0,
             "#8e0152"
            ],
            [
             0.1,
             "#c51b7d"
            ],
            [
             0.2,
             "#de77ae"
            ],
            [
             0.3,
             "#f1b6da"
            ],
            [
             0.4,
             "#fde0ef"
            ],
            [
             0.5,
             "#f7f7f7"
            ],
            [
             0.6,
             "#e6f5d0"
            ],
            [
             0.7,
             "#b8e186"
            ],
            [
             0.8,
             "#7fbc41"
            ],
            [
             0.9,
             "#4d9221"
            ],
            [
             1,
             "#276419"
            ]
           ]
          },
          "xaxis": {
           "gridcolor": "white",
           "linecolor": "white",
           "ticks": "",
           "title": {
            "standoff": 15
           },
           "zerolinecolor": "white",
           "automargin": true,
           "zerolinewidth": 2
          },
          "yaxis": {
           "gridcolor": "white",
           "linecolor": "white",
           "ticks": "",
           "title": {
            "standoff": 15
           },
           "zerolinecolor": "white",
           "automargin": true,
           "zerolinewidth": 2
          },
          "scene": {
           "xaxis": {
            "backgroundcolor": "#E5ECF6",
            "gridcolor": "white",
            "linecolor": "white",
            "showbackground": true,
            "ticks": "",
            "zerolinecolor": "white",
            "gridwidth": 2
           },
           "yaxis": {
            "backgroundcolor": "#E5ECF6",
            "gridcolor": "white",
            "linecolor": "white",
            "showbackground": true,
            "ticks": "",
            "zerolinecolor": "white",
            "gridwidth": 2
           },
           "zaxis": {
            "backgroundcolor": "#E5ECF6",
            "gridcolor": "white",
            "linecolor": "white",
            "showbackground": true,
            "ticks": "",
            "zerolinecolor": "white",
            "gridwidth": 2
           }
          },
          "shapedefaults": {
           "line": {
            "color": "#2a3f5f"
           }
          },
          "annotationdefaults": {
           "arrowcolor": "#2a3f5f",
           "arrowhead": 0,
           "arrowwidth": 1
          },
          "geo": {
           "bgcolor": "white",
           "landcolor": "#E5ECF6",
           "subunitcolor": "white",
           "showland": true,
           "showlakes": true,
           "lakecolor": "white"
          },
          "title": {
           "x": 0.05
          },
          "mapbox": {
           "style": "light"
          }
         }
        },
        "xaxis": {
         "anchor": "y",
         "domain": [
          0.0,
          1.0
         ],
         "title": {
          "text": "Valeur de Shapley (impact sur la sortie du modèle)"
         }
        },
        "yaxis": {
         "anchor": "x",
         "domain": [
          0.0,
          1.0
         ],
         "title": {
          "text": "Caractéristique"
         }
        },
        "legend": {
         "title": {
          "text": "A_train"
         },
         "tracegroupgap": 0
        },
        "margin": {
         "t": 60
        },
        "boxmode": "overlay",
        "title": {
         "text": "Bee swarm plot de la valeur de Shapley pour A"
        }
       },
       "config": {
        "plotlyServerURL": "https://plot.ly"
       }
      },
      "text/html": "<div>                            <div id=\"0a40ce33-2719-4103-af34-949fa8f921a4\" class=\"plotly-graph-div\" style=\"height:525px; width:100%;\"></div>            <script type=\"text/javascript\">                require([\"plotly\"], function(Plotly) {                    window.PLOTLYENV=window.PLOTLYENV || {};                                    if (document.getElementById(\"0a40ce33-2719-4103-af34-949fa8f921a4\")) {                    Plotly.newPlot(                        \"0a40ce33-2719-4103-af34-949fa8f921a4\",                        [{\"alignmentgroup\":\"True\",\"boxpoints\":\"all\",\"fillcolor\":\"rgba(255,255,255,0)\",\"hoveron\":\"points\",\"hovertemplate\":\"A_train=0\\u003cbr\\u003eA_shap=%{x}\\u003cextra\\u003e\\u003c\\u002fextra\\u003e\",\"legendgroup\":\"0\",\"line\":{\"color\":\"rgba(255,255,255,0)\"},\"marker\":{\"color\":\"#636efa\"},\"name\":\"0\",\"offsetgroup\":\"0\",\"orientation\":\"h\",\"pointpos\":0,\"showlegend\":true,\"x\":[-0.065704,0.062368,0.063093],\"x0\":\" \",\"xaxis\":\"x\",\"y0\":\" \",\"yaxis\":\"y\",\"type\":\"box\"},{\"alignmentgroup\":\"True\",\"boxpoints\":\"all\",\"fillcolor\":\"rgba(255,255,255,0)\",\"hoveron\":\"points\",\"hovertemplate\":\"A_train=1\\u003cbr\\u003eA_shap=%{x}\\u003cextra\\u003e\\u003c\\u002fextra\\u003e\",\"legendgroup\":\"1\",\"line\":{\"color\":\"rgba(255,255,255,0)\"},\"marker\":{\"color\":\"#EF553B\"},\"name\":\"1\",\"offsetgroup\":\"1\",\"orientation\":\"h\",\"pointpos\":0,\"showlegend\":true,\"x\":[-0.09651,0.062368],\"x0\":\" \",\"xaxis\":\"x\",\"y0\":\" \",\"yaxis\":\"y\",\"type\":\"box\"}],                        {\"template\":{\"data\":{\"histogram2dcontour\":[{\"type\":\"histogram2dcontour\",\"colorbar\":{\"outlinewidth\":0,\"ticks\":\"\"},\"colorscale\":[[0.0,\"#0d0887\"],[0.1111111111111111,\"#46039f\"],[0.2222222222222222,\"#7201a8\"],[0.3333333333333333,\"#9c179e\"],[0.4444444444444444,\"#bd3786\"],[0.5555555555555556,\"#d8576b\"],[0.6666666666666666,\"#ed7953\"],[0.7777777777777778,\"#fb9f3a\"],[0.8888888888888888,\"#fdca26\"],[1.0,\"#f0f921\"]]}],\"choropleth\":[{\"type\":\"choropleth\",\"colorbar\":{\"outlinewidth\":0,\"ticks\":\"\"}}],\"histogram2d\":[{\"type\":\"histogram2d\",\"colorbar\":{\"outlinewidth\":0,\"ticks\":\"\"},\"colorscale\":[[0.0,\"#0d0887\"],[0.1111111111111111,\"#46039f\"],[0.2222222222222222,\"#7201a8\"],[0.3333333333333333,\"#9c179e\"],[0.4444444444444444,\"#bd3786\"],[0.5555555555555556,\"#d8576b\"],[0.6666666666666666,\"#ed7953\"],[0.7777777777777778,\"#fb9f3a\"],[0.8888888888888888,\"#fdca26\"],[1.0,\"#f0f921\"]]}],\"heatmap\":[{\"type\":\"heatmap\",\"colorbar\":{\"outlinewidth\":0,\"ticks\":\"\"},\"colorscale\":[[0.0,\"#0d0887\"],[0.1111111111111111,\"#46039f\"],[0.2222222222222222,\"#7201a8\"],[0.3333333333333333,\"#9c179e\"],[0.4444444444444444,\"#bd3786\"],[0.5555555555555556,\"#d8576b\"],[0.6666666666666666,\"#ed7953\"],[0.7777777777777778,\"#fb9f3a\"],[0.8888888888888888,\"#fdca26\"],[1.0,\"#f0f921\"]]}],\"heatmapgl\":[{\"type\":\"heatmapgl\",\"colorbar\":{\"outlinewidth\":0,\"ticks\":\"\"},\"colorscale\":[[0.0,\"#0d0887\"],[0.1111111111111111,\"#46039f\"],[0.2222222222222222,\"#7201a8\"],[0.3333333333333333,\"#9c179e\"],[0.4444444444444444,\"#bd3786\"],[0.5555555555555556,\"#d8576b\"],[0.6666666666666666,\"#ed7953\"],[0.7777777777777778,\"#fb9f3a\"],[0.8888888888888888,\"#fdca26\"],[1.0,\"#f0f921\"]]}],\"contourcarpet\":[{\"type\":\"contourcarpet\",\"colorbar\":{\"outlinewidth\":0,\"ticks\":\"\"}}],\"contour\":[{\"type\":\"contour\",\"colorbar\":{\"outlinewidth\":0,\"ticks\":\"\"},\"colorscale\":[[0.0,\"#0d0887\"],[0.1111111111111111,\"#46039f\"],[0.2222222222222222,\"#7201a8\"],[0.3333333333333333,\"#9c179e\"],[0.4444444444444444,\"#bd3786\"],[0.5555555555555556,\"#d8576b\"],[0.6666666666666666,\"#ed7953\"],[0.7777777777777778,\"#fb9f3a\"],[0.8888888888888888,\"#fdca26\"],[1.0,\"#f0f921\"]]}],\"surface\":[{\"type\":\"surface\",\"colorbar\":{\"outlinewidth\":0,\"ticks\":\"\"},\"colorscale\":[[0.0,\"#0d0887\"],[0.1111111111111111,\"#46039f\"],[0.2222222222222222,\"#7201a8\"],[0.3333333333333333,\"#9c179e\"],[0.4444444444444444,\"#bd3786\"],[0.5555555555555556,\"#d8576b\"],[0.6666666666666666,\"#ed7953\"],[0.7777777777777778,\"#fb9f3a\"],[0.8888888888888888,\"#fdca26\"],[1.0,\"#f0f921\"]]}],\"mesh3d\":[{\"type\":\"mesh3d\",\"colorbar\":{\"outlinewidth\":0,\"ticks\":\"\"}}],\"scatter\":[{\"fillpattern\":{\"fillmode\":\"overlay\",\"size\":10,\"solidity\":0.2},\"type\":\"scatter\"}],\"parcoords\":[{\"type\":\"parcoords\",\"line\":{\"colorbar\":{\"outlinewidth\":0,\"ticks\":\"\"}}}],\"scatterpolargl\":[{\"type\":\"scatterpolargl\",\"marker\":{\"colorbar\":{\"outlinewidth\":0,\"ticks\":\"\"}}}],\"bar\":[{\"error_x\":{\"color\":\"#2a3f5f\"},\"error_y\":{\"color\":\"#2a3f5f\"},\"marker\":{\"line\":{\"color\":\"#E5ECF6\",\"width\":0.5},\"pattern\":{\"fillmode\":\"overlay\",\"size\":10,\"solidity\":0.2}},\"type\":\"bar\"}],\"scattergeo\":[{\"type\":\"scattergeo\",\"marker\":{\"colorbar\":{\"outlinewidth\":0,\"ticks\":\"\"}}}],\"scatterpolar\":[{\"type\":\"scatterpolar\",\"marker\":{\"colorbar\":{\"outlinewidth\":0,\"ticks\":\"\"}}}],\"histogram\":[{\"marker\":{\"pattern\":{\"fillmode\":\"overlay\",\"size\":10,\"solidity\":0.2}},\"type\":\"histogram\"}],\"scattergl\":[{\"type\":\"scattergl\",\"marker\":{\"colorbar\":{\"outlinewidth\":0,\"ticks\":\"\"}}}],\"scatter3d\":[{\"type\":\"scatter3d\",\"line\":{\"colorbar\":{\"outlinewidth\":0,\"ticks\":\"\"}},\"marker\":{\"colorbar\":{\"outlinewidth\":0,\"ticks\":\"\"}}}],\"scattermapbox\":[{\"type\":\"scattermapbox\",\"marker\":{\"colorbar\":{\"outlinewidth\":0,\"ticks\":\"\"}}}],\"scatterternary\":[{\"type\":\"scatterternary\",\"marker\":{\"colorbar\":{\"outlinewidth\":0,\"ticks\":\"\"}}}],\"scattercarpet\":[{\"type\":\"scattercarpet\",\"marker\":{\"colorbar\":{\"outlinewidth\":0,\"ticks\":\"\"}}}],\"carpet\":[{\"aaxis\":{\"endlinecolor\":\"#2a3f5f\",\"gridcolor\":\"white\",\"linecolor\":\"white\",\"minorgridcolor\":\"white\",\"startlinecolor\":\"#2a3f5f\"},\"baxis\":{\"endlinecolor\":\"#2a3f5f\",\"gridcolor\":\"white\",\"linecolor\":\"white\",\"minorgridcolor\":\"white\",\"startlinecolor\":\"#2a3f5f\"},\"type\":\"carpet\"}],\"table\":[{\"cells\":{\"fill\":{\"color\":\"#EBF0F8\"},\"line\":{\"color\":\"white\"}},\"header\":{\"fill\":{\"color\":\"#C8D4E3\"},\"line\":{\"color\":\"white\"}},\"type\":\"table\"}],\"barpolar\":[{\"marker\":{\"line\":{\"color\":\"#E5ECF6\",\"width\":0.5},\"pattern\":{\"fillmode\":\"overlay\",\"size\":10,\"solidity\":0.2}},\"type\":\"barpolar\"}],\"pie\":[{\"automargin\":true,\"type\":\"pie\"}]},\"layout\":{\"autotypenumbers\":\"strict\",\"colorway\":[\"#636efa\",\"#EF553B\",\"#00cc96\",\"#ab63fa\",\"#FFA15A\",\"#19d3f3\",\"#FF6692\",\"#B6E880\",\"#FF97FF\",\"#FECB52\"],\"font\":{\"color\":\"#2a3f5f\"},\"hovermode\":\"closest\",\"hoverlabel\":{\"align\":\"left\"},\"paper_bgcolor\":\"white\",\"plot_bgcolor\":\"#E5ECF6\",\"polar\":{\"bgcolor\":\"#E5ECF6\",\"angularaxis\":{\"gridcolor\":\"white\",\"linecolor\":\"white\",\"ticks\":\"\"},\"radialaxis\":{\"gridcolor\":\"white\",\"linecolor\":\"white\",\"ticks\":\"\"}},\"ternary\":{\"bgcolor\":\"#E5ECF6\",\"aaxis\":{\"gridcolor\":\"white\",\"linecolor\":\"white\",\"ticks\":\"\"},\"baxis\":{\"gridcolor\":\"white\",\"linecolor\":\"white\",\"ticks\":\"\"},\"caxis\":{\"gridcolor\":\"white\",\"linecolor\":\"white\",\"ticks\":\"\"}},\"coloraxis\":{\"colorbar\":{\"outlinewidth\":0,\"ticks\":\"\"}},\"colorscale\":{\"sequential\":[[0.0,\"#0d0887\"],[0.1111111111111111,\"#46039f\"],[0.2222222222222222,\"#7201a8\"],[0.3333333333333333,\"#9c179e\"],[0.4444444444444444,\"#bd3786\"],[0.5555555555555556,\"#d8576b\"],[0.6666666666666666,\"#ed7953\"],[0.7777777777777778,\"#fb9f3a\"],[0.8888888888888888,\"#fdca26\"],[1.0,\"#f0f921\"]],\"sequentialminus\":[[0.0,\"#0d0887\"],[0.1111111111111111,\"#46039f\"],[0.2222222222222222,\"#7201a8\"],[0.3333333333333333,\"#9c179e\"],[0.4444444444444444,\"#bd3786\"],[0.5555555555555556,\"#d8576b\"],[0.6666666666666666,\"#ed7953\"],[0.7777777777777778,\"#fb9f3a\"],[0.8888888888888888,\"#fdca26\"],[1.0,\"#f0f921\"]],\"diverging\":[[0,\"#8e0152\"],[0.1,\"#c51b7d\"],[0.2,\"#de77ae\"],[0.3,\"#f1b6da\"],[0.4,\"#fde0ef\"],[0.5,\"#f7f7f7\"],[0.6,\"#e6f5d0\"],[0.7,\"#b8e186\"],[0.8,\"#7fbc41\"],[0.9,\"#4d9221\"],[1,\"#276419\"]]},\"xaxis\":{\"gridcolor\":\"white\",\"linecolor\":\"white\",\"ticks\":\"\",\"title\":{\"standoff\":15},\"zerolinecolor\":\"white\",\"automargin\":true,\"zerolinewidth\":2},\"yaxis\":{\"gridcolor\":\"white\",\"linecolor\":\"white\",\"ticks\":\"\",\"title\":{\"standoff\":15},\"zerolinecolor\":\"white\",\"automargin\":true,\"zerolinewidth\":2},\"scene\":{\"xaxis\":{\"backgroundcolor\":\"#E5ECF6\",\"gridcolor\":\"white\",\"linecolor\":\"white\",\"showbackground\":true,\"ticks\":\"\",\"zerolinecolor\":\"white\",\"gridwidth\":2},\"yaxis\":{\"backgroundcolor\":\"#E5ECF6\",\"gridcolor\":\"white\",\"linecolor\":\"white\",\"showbackground\":true,\"ticks\":\"\",\"zerolinecolor\":\"white\",\"gridwidth\":2},\"zaxis\":{\"backgroundcolor\":\"#E5ECF6\",\"gridcolor\":\"white\",\"linecolor\":\"white\",\"showbackground\":true,\"ticks\":\"\",\"zerolinecolor\":\"white\",\"gridwidth\":2}},\"shapedefaults\":{\"line\":{\"color\":\"#2a3f5f\"}},\"annotationdefaults\":{\"arrowcolor\":\"#2a3f5f\",\"arrowhead\":0,\"arrowwidth\":1},\"geo\":{\"bgcolor\":\"white\",\"landcolor\":\"#E5ECF6\",\"subunitcolor\":\"white\",\"showland\":true,\"showlakes\":true,\"lakecolor\":\"white\"},\"title\":{\"x\":0.05},\"mapbox\":{\"style\":\"light\"}}},\"xaxis\":{\"anchor\":\"y\",\"domain\":[0.0,1.0],\"title\":{\"text\":\"Valeur de Shapley (impact sur la sortie du mod\\u00e8le)\"}},\"yaxis\":{\"anchor\":\"x\",\"domain\":[0.0,1.0],\"title\":{\"text\":\"Caract\\u00e9ristique\"}},\"legend\":{\"title\":{\"text\":\"A_train\"},\"tracegroupgap\":0},\"margin\":{\"t\":60},\"boxmode\":\"overlay\",\"title\":{\"text\":\"Bee swarm plot de la valeur de Shapley pour A\"}},                        {\"responsive\": true}                    ).then(function(){\n                            \nvar gd = document.getElementById('0a40ce33-2719-4103-af34-949fa8f921a4');\nvar x = new MutationObserver(function (mutations, observer) {{\n        var display = window.getComputedStyle(gd).display;\n        if (!display || display === 'none') {{\n            console.log([gd, 'removed!']);\n            Plotly.purge(gd);\n            observer.disconnect();\n        }}\n}});\n\n// Listen for the removal of the full notebook cells\nvar notebookContainer = gd.closest('#notebook-container');\nif (notebookContainer) {{\n    x.observe(notebookContainer, {childList: true});\n}}\n\n// Listen for the clearing of the current output cell\nvar outputEl = gd.closest('.output');\nif (outputEl) {{\n    x.observe(outputEl, {childList: true});\n}}\n\n                        })                };                });            </script>        </div>"
     },
     "metadata": {},
     "output_type": "display_data"
    }
   ],
   "source": [
    "figures[0].show()"
   ],
   "metadata": {
    "collapsed": false,
    "ExecuteTime": {
     "end_time": "2024-03-29T17:26:39.117512Z",
     "start_time": "2024-03-29T17:26:39.052981Z"
    }
   },
   "id": "6eb0e795dd480bb9"
  },
  {
   "cell_type": "code",
   "execution_count": 118,
   "outputs": [
    {
     "data": {
      "application/vnd.plotly.v1+json": {
       "data": [
        {
         "alignmentgroup": "True",
         "boxpoints": "all",
         "fillcolor": "rgba(255,255,255,0)",
         "hoveron": "points",
         "hovertemplate": "A_train=0<br>A_shap=%{x}<extra></extra>",
         "legendgroup": "0",
         "line": {
          "color": "rgba(255,255,255,0)"
         },
         "marker": {
          "color": "#636efa"
         },
         "name": "0",
         "offsetgroup": "0",
         "orientation": "h",
         "pointpos": 0,
         "showlegend": true,
         "x": [
          -0.065704,
          0.062368,
          0.063093
         ],
         "x0": " ",
         "xaxis": "x",
         "y0": " ",
         "yaxis": "y",
         "type": "box"
        },
        {
         "alignmentgroup": "True",
         "boxpoints": "all",
         "fillcolor": "rgba(255,255,255,0)",
         "hoveron": "points",
         "hovertemplate": "A_train=1<br>A_shap=%{x}<extra></extra>",
         "legendgroup": "1",
         "line": {
          "color": "rgba(255,255,255,0)"
         },
         "marker": {
          "color": "#EF553B"
         },
         "name": "1",
         "offsetgroup": "1",
         "orientation": "h",
         "pointpos": 0,
         "showlegend": true,
         "x": [
          -0.09651,
          0.062368
         ],
         "x0": " ",
         "xaxis": "x",
         "y0": " ",
         "yaxis": "y",
         "type": "box"
        },
        {
         "alignmentgroup": "True",
         "boxpoints": "all",
         "fillcolor": "rgba(255,255,255,0)",
         "hoveron": "points",
         "hovertemplate": "B_train=1<br>B_shap=%{x}<extra></extra>",
         "legendgroup": "1",
         "line": {
          "color": "rgba(255,255,255,0)"
         },
         "marker": {
          "color": "#636efa"
         },
         "name": "1",
         "offsetgroup": "1",
         "orientation": "h",
         "pointpos": 0,
         "showlegend": true,
         "x": [
          -0.168249,
          -0.173284,
          -0.169378
         ],
         "x0": " ",
         "xaxis": "x2",
         "y0": " ",
         "yaxis": "y2",
         "type": "box"
        },
        {
         "alignmentgroup": "True",
         "boxpoints": "all",
         "fillcolor": "rgba(255,255,255,0)",
         "hoveron": "points",
         "hovertemplate": "B_train=0<br>B_shap=%{x}<extra></extra>",
         "legendgroup": "0",
         "line": {
          "color": "rgba(255,255,255,0)"
         },
         "marker": {
          "color": "#EF553B"
         },
         "name": "0",
         "offsetgroup": "0",
         "orientation": "h",
         "pointpos": 0,
         "showlegend": true,
         "x": [
          -0.168756,
          -0.168756
         ],
         "x0": " ",
         "xaxis": "x2",
         "y0": " ",
         "yaxis": "y2",
         "type": "box"
        }
       ],
       "layout": {
        "template": {
         "data": {
          "histogram2dcontour": [
           {
            "type": "histogram2dcontour",
            "colorbar": {
             "outlinewidth": 0,
             "ticks": ""
            },
            "colorscale": [
             [
              0.0,
              "#0d0887"
             ],
             [
              0.1111111111111111,
              "#46039f"
             ],
             [
              0.2222222222222222,
              "#7201a8"
             ],
             [
              0.3333333333333333,
              "#9c179e"
             ],
             [
              0.4444444444444444,
              "#bd3786"
             ],
             [
              0.5555555555555556,
              "#d8576b"
             ],
             [
              0.6666666666666666,
              "#ed7953"
             ],
             [
              0.7777777777777778,
              "#fb9f3a"
             ],
             [
              0.8888888888888888,
              "#fdca26"
             ],
             [
              1.0,
              "#f0f921"
             ]
            ]
           }
          ],
          "choropleth": [
           {
            "type": "choropleth",
            "colorbar": {
             "outlinewidth": 0,
             "ticks": ""
            }
           }
          ],
          "histogram2d": [
           {
            "type": "histogram2d",
            "colorbar": {
             "outlinewidth": 0,
             "ticks": ""
            },
            "colorscale": [
             [
              0.0,
              "#0d0887"
             ],
             [
              0.1111111111111111,
              "#46039f"
             ],
             [
              0.2222222222222222,
              "#7201a8"
             ],
             [
              0.3333333333333333,
              "#9c179e"
             ],
             [
              0.4444444444444444,
              "#bd3786"
             ],
             [
              0.5555555555555556,
              "#d8576b"
             ],
             [
              0.6666666666666666,
              "#ed7953"
             ],
             [
              0.7777777777777778,
              "#fb9f3a"
             ],
             [
              0.8888888888888888,
              "#fdca26"
             ],
             [
              1.0,
              "#f0f921"
             ]
            ]
           }
          ],
          "heatmap": [
           {
            "type": "heatmap",
            "colorbar": {
             "outlinewidth": 0,
             "ticks": ""
            },
            "colorscale": [
             [
              0.0,
              "#0d0887"
             ],
             [
              0.1111111111111111,
              "#46039f"
             ],
             [
              0.2222222222222222,
              "#7201a8"
             ],
             [
              0.3333333333333333,
              "#9c179e"
             ],
             [
              0.4444444444444444,
              "#bd3786"
             ],
             [
              0.5555555555555556,
              "#d8576b"
             ],
             [
              0.6666666666666666,
              "#ed7953"
             ],
             [
              0.7777777777777778,
              "#fb9f3a"
             ],
             [
              0.8888888888888888,
              "#fdca26"
             ],
             [
              1.0,
              "#f0f921"
             ]
            ]
           }
          ],
          "heatmapgl": [
           {
            "type": "heatmapgl",
            "colorbar": {
             "outlinewidth": 0,
             "ticks": ""
            },
            "colorscale": [
             [
              0.0,
              "#0d0887"
             ],
             [
              0.1111111111111111,
              "#46039f"
             ],
             [
              0.2222222222222222,
              "#7201a8"
             ],
             [
              0.3333333333333333,
              "#9c179e"
             ],
             [
              0.4444444444444444,
              "#bd3786"
             ],
             [
              0.5555555555555556,
              "#d8576b"
             ],
             [
              0.6666666666666666,
              "#ed7953"
             ],
             [
              0.7777777777777778,
              "#fb9f3a"
             ],
             [
              0.8888888888888888,
              "#fdca26"
             ],
             [
              1.0,
              "#f0f921"
             ]
            ]
           }
          ],
          "contourcarpet": [
           {
            "type": "contourcarpet",
            "colorbar": {
             "outlinewidth": 0,
             "ticks": ""
            }
           }
          ],
          "contour": [
           {
            "type": "contour",
            "colorbar": {
             "outlinewidth": 0,
             "ticks": ""
            },
            "colorscale": [
             [
              0.0,
              "#0d0887"
             ],
             [
              0.1111111111111111,
              "#46039f"
             ],
             [
              0.2222222222222222,
              "#7201a8"
             ],
             [
              0.3333333333333333,
              "#9c179e"
             ],
             [
              0.4444444444444444,
              "#bd3786"
             ],
             [
              0.5555555555555556,
              "#d8576b"
             ],
             [
              0.6666666666666666,
              "#ed7953"
             ],
             [
              0.7777777777777778,
              "#fb9f3a"
             ],
             [
              0.8888888888888888,
              "#fdca26"
             ],
             [
              1.0,
              "#f0f921"
             ]
            ]
           }
          ],
          "surface": [
           {
            "type": "surface",
            "colorbar": {
             "outlinewidth": 0,
             "ticks": ""
            },
            "colorscale": [
             [
              0.0,
              "#0d0887"
             ],
             [
              0.1111111111111111,
              "#46039f"
             ],
             [
              0.2222222222222222,
              "#7201a8"
             ],
             [
              0.3333333333333333,
              "#9c179e"
             ],
             [
              0.4444444444444444,
              "#bd3786"
             ],
             [
              0.5555555555555556,
              "#d8576b"
             ],
             [
              0.6666666666666666,
              "#ed7953"
             ],
             [
              0.7777777777777778,
              "#fb9f3a"
             ],
             [
              0.8888888888888888,
              "#fdca26"
             ],
             [
              1.0,
              "#f0f921"
             ]
            ]
           }
          ],
          "mesh3d": [
           {
            "type": "mesh3d",
            "colorbar": {
             "outlinewidth": 0,
             "ticks": ""
            }
           }
          ],
          "scatter": [
           {
            "fillpattern": {
             "fillmode": "overlay",
             "size": 10,
             "solidity": 0.2
            },
            "type": "scatter"
           }
          ],
          "parcoords": [
           {
            "type": "parcoords",
            "line": {
             "colorbar": {
              "outlinewidth": 0,
              "ticks": ""
             }
            }
           }
          ],
          "scatterpolargl": [
           {
            "type": "scatterpolargl",
            "marker": {
             "colorbar": {
              "outlinewidth": 0,
              "ticks": ""
             }
            }
           }
          ],
          "bar": [
           {
            "error_x": {
             "color": "#2a3f5f"
            },
            "error_y": {
             "color": "#2a3f5f"
            },
            "marker": {
             "line": {
              "color": "#E5ECF6",
              "width": 0.5
             },
             "pattern": {
              "fillmode": "overlay",
              "size": 10,
              "solidity": 0.2
             }
            },
            "type": "bar"
           }
          ],
          "scattergeo": [
           {
            "type": "scattergeo",
            "marker": {
             "colorbar": {
              "outlinewidth": 0,
              "ticks": ""
             }
            }
           }
          ],
          "scatterpolar": [
           {
            "type": "scatterpolar",
            "marker": {
             "colorbar": {
              "outlinewidth": 0,
              "ticks": ""
             }
            }
           }
          ],
          "histogram": [
           {
            "marker": {
             "pattern": {
              "fillmode": "overlay",
              "size": 10,
              "solidity": 0.2
             }
            },
            "type": "histogram"
           }
          ],
          "scattergl": [
           {
            "type": "scattergl",
            "marker": {
             "colorbar": {
              "outlinewidth": 0,
              "ticks": ""
             }
            }
           }
          ],
          "scatter3d": [
           {
            "type": "scatter3d",
            "line": {
             "colorbar": {
              "outlinewidth": 0,
              "ticks": ""
             }
            },
            "marker": {
             "colorbar": {
              "outlinewidth": 0,
              "ticks": ""
             }
            }
           }
          ],
          "scattermapbox": [
           {
            "type": "scattermapbox",
            "marker": {
             "colorbar": {
              "outlinewidth": 0,
              "ticks": ""
             }
            }
           }
          ],
          "scatterternary": [
           {
            "type": "scatterternary",
            "marker": {
             "colorbar": {
              "outlinewidth": 0,
              "ticks": ""
             }
            }
           }
          ],
          "scattercarpet": [
           {
            "type": "scattercarpet",
            "marker": {
             "colorbar": {
              "outlinewidth": 0,
              "ticks": ""
             }
            }
           }
          ],
          "carpet": [
           {
            "aaxis": {
             "endlinecolor": "#2a3f5f",
             "gridcolor": "white",
             "linecolor": "white",
             "minorgridcolor": "white",
             "startlinecolor": "#2a3f5f"
            },
            "baxis": {
             "endlinecolor": "#2a3f5f",
             "gridcolor": "white",
             "linecolor": "white",
             "minorgridcolor": "white",
             "startlinecolor": "#2a3f5f"
            },
            "type": "carpet"
           }
          ],
          "table": [
           {
            "cells": {
             "fill": {
              "color": "#EBF0F8"
             },
             "line": {
              "color": "white"
             }
            },
            "header": {
             "fill": {
              "color": "#C8D4E3"
             },
             "line": {
              "color": "white"
             }
            },
            "type": "table"
           }
          ],
          "barpolar": [
           {
            "marker": {
             "line": {
              "color": "#E5ECF6",
              "width": 0.5
             },
             "pattern": {
              "fillmode": "overlay",
              "size": 10,
              "solidity": 0.2
             }
            },
            "type": "barpolar"
           }
          ],
          "pie": [
           {
            "automargin": true,
            "type": "pie"
           }
          ]
         },
         "layout": {
          "autotypenumbers": "strict",
          "colorway": [
           "#636efa",
           "#EF553B",
           "#00cc96",
           "#ab63fa",
           "#FFA15A",
           "#19d3f3",
           "#FF6692",
           "#B6E880",
           "#FF97FF",
           "#FECB52"
          ],
          "font": {
           "color": "#2a3f5f"
          },
          "hovermode": "closest",
          "hoverlabel": {
           "align": "left"
          },
          "paper_bgcolor": "white",
          "plot_bgcolor": "#E5ECF6",
          "polar": {
           "bgcolor": "#E5ECF6",
           "angularaxis": {
            "gridcolor": "white",
            "linecolor": "white",
            "ticks": ""
           },
           "radialaxis": {
            "gridcolor": "white",
            "linecolor": "white",
            "ticks": ""
           }
          },
          "ternary": {
           "bgcolor": "#E5ECF6",
           "aaxis": {
            "gridcolor": "white",
            "linecolor": "white",
            "ticks": ""
           },
           "baxis": {
            "gridcolor": "white",
            "linecolor": "white",
            "ticks": ""
           },
           "caxis": {
            "gridcolor": "white",
            "linecolor": "white",
            "ticks": ""
           }
          },
          "coloraxis": {
           "colorbar": {
            "outlinewidth": 0,
            "ticks": ""
           }
          },
          "colorscale": {
           "sequential": [
            [
             0.0,
             "#0d0887"
            ],
            [
             0.1111111111111111,
             "#46039f"
            ],
            [
             0.2222222222222222,
             "#7201a8"
            ],
            [
             0.3333333333333333,
             "#9c179e"
            ],
            [
             0.4444444444444444,
             "#bd3786"
            ],
            [
             0.5555555555555556,
             "#d8576b"
            ],
            [
             0.6666666666666666,
             "#ed7953"
            ],
            [
             0.7777777777777778,
             "#fb9f3a"
            ],
            [
             0.8888888888888888,
             "#fdca26"
            ],
            [
             1.0,
             "#f0f921"
            ]
           ],
           "sequentialminus": [
            [
             0.0,
             "#0d0887"
            ],
            [
             0.1111111111111111,
             "#46039f"
            ],
            [
             0.2222222222222222,
             "#7201a8"
            ],
            [
             0.3333333333333333,
             "#9c179e"
            ],
            [
             0.4444444444444444,
             "#bd3786"
            ],
            [
             0.5555555555555556,
             "#d8576b"
            ],
            [
             0.6666666666666666,
             "#ed7953"
            ],
            [
             0.7777777777777778,
             "#fb9f3a"
            ],
            [
             0.8888888888888888,
             "#fdca26"
            ],
            [
             1.0,
             "#f0f921"
            ]
           ],
           "diverging": [
            [
             0,
             "#8e0152"
            ],
            [
             0.1,
             "#c51b7d"
            ],
            [
             0.2,
             "#de77ae"
            ],
            [
             0.3,
             "#f1b6da"
            ],
            [
             0.4,
             "#fde0ef"
            ],
            [
             0.5,
             "#f7f7f7"
            ],
            [
             0.6,
             "#e6f5d0"
            ],
            [
             0.7,
             "#b8e186"
            ],
            [
             0.8,
             "#7fbc41"
            ],
            [
             0.9,
             "#4d9221"
            ],
            [
             1,
             "#276419"
            ]
           ]
          },
          "xaxis": {
           "gridcolor": "white",
           "linecolor": "white",
           "ticks": "",
           "title": {
            "standoff": 15
           },
           "zerolinecolor": "white",
           "automargin": true,
           "zerolinewidth": 2
          },
          "yaxis": {
           "gridcolor": "white",
           "linecolor": "white",
           "ticks": "",
           "title": {
            "standoff": 15
           },
           "zerolinecolor": "white",
           "automargin": true,
           "zerolinewidth": 2
          },
          "scene": {
           "xaxis": {
            "backgroundcolor": "#E5ECF6",
            "gridcolor": "white",
            "linecolor": "white",
            "showbackground": true,
            "ticks": "",
            "zerolinecolor": "white",
            "gridwidth": 2
           },
           "yaxis": {
            "backgroundcolor": "#E5ECF6",
            "gridcolor": "white",
            "linecolor": "white",
            "showbackground": true,
            "ticks": "",
            "zerolinecolor": "white",
            "gridwidth": 2
           },
           "zaxis": {
            "backgroundcolor": "#E5ECF6",
            "gridcolor": "white",
            "linecolor": "white",
            "showbackground": true,
            "ticks": "",
            "zerolinecolor": "white",
            "gridwidth": 2
           }
          },
          "shapedefaults": {
           "line": {
            "color": "#2a3f5f"
           }
          },
          "annotationdefaults": {
           "arrowcolor": "#2a3f5f",
           "arrowhead": 0,
           "arrowwidth": 1
          },
          "geo": {
           "bgcolor": "white",
           "landcolor": "#E5ECF6",
           "subunitcolor": "white",
           "showland": true,
           "showlakes": true,
           "lakecolor": "white"
          },
          "title": {
           "x": 0.05
          },
          "mapbox": {
           "style": "light"
          }
         }
        },
        "xaxis": {
         "anchor": "y",
         "domain": [
          0.0,
          0.45
         ],
         "title": {
          "text": "Shapley Value (impact on model output)"
         }
        },
        "yaxis": {
         "anchor": "x",
         "domain": [
          0.0,
          1.0
         ],
         "title": {
          "text": "Feature"
         }
        },
        "xaxis2": {
         "anchor": "y2",
         "domain": [
          0.55,
          1.0
         ],
         "title": {
          "text": "Shapley Value (impact on model output)"
         }
        },
        "yaxis2": {
         "anchor": "x2",
         "domain": [
          0.0,
          1.0
         ],
         "title": {
          "text": "Feature"
         }
        },
        "annotations": [
         {
          "font": {
           "size": 16
          },
          "showarrow": false,
          "text": "Shapley value for A",
          "x": 0.225,
          "xanchor": "center",
          "xref": "paper",
          "y": 1.0,
          "yanchor": "bottom",
          "yref": "paper"
         },
         {
          "font": {
           "size": 16
          },
          "showarrow": false,
          "text": "Shapley value for B",
          "x": 0.775,
          "xanchor": "center",
          "xref": "paper",
          "y": 1.0,
          "yanchor": "bottom",
          "yref": "paper"
         }
        ],
        "title": {
         "text": "Combined Bee Swarm Plot of Shapley Values"
        },
        "height": 600,
        "width": 1000
       },
       "config": {
        "plotlyServerURL": "https://plot.ly"
       }
      },
      "text/html": "<div>                            <div id=\"d09333a3-55c0-4fc2-8e40-2bf1e54408a2\" class=\"plotly-graph-div\" style=\"height:600px; width:1000px;\"></div>            <script type=\"text/javascript\">                require([\"plotly\"], function(Plotly) {                    window.PLOTLYENV=window.PLOTLYENV || {};                                    if (document.getElementById(\"d09333a3-55c0-4fc2-8e40-2bf1e54408a2\")) {                    Plotly.newPlot(                        \"d09333a3-55c0-4fc2-8e40-2bf1e54408a2\",                        [{\"alignmentgroup\":\"True\",\"boxpoints\":\"all\",\"fillcolor\":\"rgba(255,255,255,0)\",\"hoveron\":\"points\",\"hovertemplate\":\"A_train=0\\u003cbr\\u003eA_shap=%{x}\\u003cextra\\u003e\\u003c\\u002fextra\\u003e\",\"legendgroup\":\"0\",\"line\":{\"color\":\"rgba(255,255,255,0)\"},\"marker\":{\"color\":\"#636efa\"},\"name\":\"0\",\"offsetgroup\":\"0\",\"orientation\":\"h\",\"pointpos\":0,\"showlegend\":true,\"x\":[-0.065704,0.062368,0.063093],\"x0\":\" \",\"xaxis\":\"x\",\"y0\":\" \",\"yaxis\":\"y\",\"type\":\"box\"},{\"alignmentgroup\":\"True\",\"boxpoints\":\"all\",\"fillcolor\":\"rgba(255,255,255,0)\",\"hoveron\":\"points\",\"hovertemplate\":\"A_train=1\\u003cbr\\u003eA_shap=%{x}\\u003cextra\\u003e\\u003c\\u002fextra\\u003e\",\"legendgroup\":\"1\",\"line\":{\"color\":\"rgba(255,255,255,0)\"},\"marker\":{\"color\":\"#EF553B\"},\"name\":\"1\",\"offsetgroup\":\"1\",\"orientation\":\"h\",\"pointpos\":0,\"showlegend\":true,\"x\":[-0.09651,0.062368],\"x0\":\" \",\"xaxis\":\"x\",\"y0\":\" \",\"yaxis\":\"y\",\"type\":\"box\"},{\"alignmentgroup\":\"True\",\"boxpoints\":\"all\",\"fillcolor\":\"rgba(255,255,255,0)\",\"hoveron\":\"points\",\"hovertemplate\":\"B_train=1\\u003cbr\\u003eB_shap=%{x}\\u003cextra\\u003e\\u003c\\u002fextra\\u003e\",\"legendgroup\":\"1\",\"line\":{\"color\":\"rgba(255,255,255,0)\"},\"marker\":{\"color\":\"#636efa\"},\"name\":\"1\",\"offsetgroup\":\"1\",\"orientation\":\"h\",\"pointpos\":0,\"showlegend\":true,\"x\":[-0.168249,-0.173284,-0.169378],\"x0\":\" \",\"xaxis\":\"x2\",\"y0\":\" \",\"yaxis\":\"y2\",\"type\":\"box\"},{\"alignmentgroup\":\"True\",\"boxpoints\":\"all\",\"fillcolor\":\"rgba(255,255,255,0)\",\"hoveron\":\"points\",\"hovertemplate\":\"B_train=0\\u003cbr\\u003eB_shap=%{x}\\u003cextra\\u003e\\u003c\\u002fextra\\u003e\",\"legendgroup\":\"0\",\"line\":{\"color\":\"rgba(255,255,255,0)\"},\"marker\":{\"color\":\"#EF553B\"},\"name\":\"0\",\"offsetgroup\":\"0\",\"orientation\":\"h\",\"pointpos\":0,\"showlegend\":true,\"x\":[-0.168756,-0.168756],\"x0\":\" \",\"xaxis\":\"x2\",\"y0\":\" \",\"yaxis\":\"y2\",\"type\":\"box\"}],                        {\"template\":{\"data\":{\"histogram2dcontour\":[{\"type\":\"histogram2dcontour\",\"colorbar\":{\"outlinewidth\":0,\"ticks\":\"\"},\"colorscale\":[[0.0,\"#0d0887\"],[0.1111111111111111,\"#46039f\"],[0.2222222222222222,\"#7201a8\"],[0.3333333333333333,\"#9c179e\"],[0.4444444444444444,\"#bd3786\"],[0.5555555555555556,\"#d8576b\"],[0.6666666666666666,\"#ed7953\"],[0.7777777777777778,\"#fb9f3a\"],[0.8888888888888888,\"#fdca26\"],[1.0,\"#f0f921\"]]}],\"choropleth\":[{\"type\":\"choropleth\",\"colorbar\":{\"outlinewidth\":0,\"ticks\":\"\"}}],\"histogram2d\":[{\"type\":\"histogram2d\",\"colorbar\":{\"outlinewidth\":0,\"ticks\":\"\"},\"colorscale\":[[0.0,\"#0d0887\"],[0.1111111111111111,\"#46039f\"],[0.2222222222222222,\"#7201a8\"],[0.3333333333333333,\"#9c179e\"],[0.4444444444444444,\"#bd3786\"],[0.5555555555555556,\"#d8576b\"],[0.6666666666666666,\"#ed7953\"],[0.7777777777777778,\"#fb9f3a\"],[0.8888888888888888,\"#fdca26\"],[1.0,\"#f0f921\"]]}],\"heatmap\":[{\"type\":\"heatmap\",\"colorbar\":{\"outlinewidth\":0,\"ticks\":\"\"},\"colorscale\":[[0.0,\"#0d0887\"],[0.1111111111111111,\"#46039f\"],[0.2222222222222222,\"#7201a8\"],[0.3333333333333333,\"#9c179e\"],[0.4444444444444444,\"#bd3786\"],[0.5555555555555556,\"#d8576b\"],[0.6666666666666666,\"#ed7953\"],[0.7777777777777778,\"#fb9f3a\"],[0.8888888888888888,\"#fdca26\"],[1.0,\"#f0f921\"]]}],\"heatmapgl\":[{\"type\":\"heatmapgl\",\"colorbar\":{\"outlinewidth\":0,\"ticks\":\"\"},\"colorscale\":[[0.0,\"#0d0887\"],[0.1111111111111111,\"#46039f\"],[0.2222222222222222,\"#7201a8\"],[0.3333333333333333,\"#9c179e\"],[0.4444444444444444,\"#bd3786\"],[0.5555555555555556,\"#d8576b\"],[0.6666666666666666,\"#ed7953\"],[0.7777777777777778,\"#fb9f3a\"],[0.8888888888888888,\"#fdca26\"],[1.0,\"#f0f921\"]]}],\"contourcarpet\":[{\"type\":\"contourcarpet\",\"colorbar\":{\"outlinewidth\":0,\"ticks\":\"\"}}],\"contour\":[{\"type\":\"contour\",\"colorbar\":{\"outlinewidth\":0,\"ticks\":\"\"},\"colorscale\":[[0.0,\"#0d0887\"],[0.1111111111111111,\"#46039f\"],[0.2222222222222222,\"#7201a8\"],[0.3333333333333333,\"#9c179e\"],[0.4444444444444444,\"#bd3786\"],[0.5555555555555556,\"#d8576b\"],[0.6666666666666666,\"#ed7953\"],[0.7777777777777778,\"#fb9f3a\"],[0.8888888888888888,\"#fdca26\"],[1.0,\"#f0f921\"]]}],\"surface\":[{\"type\":\"surface\",\"colorbar\":{\"outlinewidth\":0,\"ticks\":\"\"},\"colorscale\":[[0.0,\"#0d0887\"],[0.1111111111111111,\"#46039f\"],[0.2222222222222222,\"#7201a8\"],[0.3333333333333333,\"#9c179e\"],[0.4444444444444444,\"#bd3786\"],[0.5555555555555556,\"#d8576b\"],[0.6666666666666666,\"#ed7953\"],[0.7777777777777778,\"#fb9f3a\"],[0.8888888888888888,\"#fdca26\"],[1.0,\"#f0f921\"]]}],\"mesh3d\":[{\"type\":\"mesh3d\",\"colorbar\":{\"outlinewidth\":0,\"ticks\":\"\"}}],\"scatter\":[{\"fillpattern\":{\"fillmode\":\"overlay\",\"size\":10,\"solidity\":0.2},\"type\":\"scatter\"}],\"parcoords\":[{\"type\":\"parcoords\",\"line\":{\"colorbar\":{\"outlinewidth\":0,\"ticks\":\"\"}}}],\"scatterpolargl\":[{\"type\":\"scatterpolargl\",\"marker\":{\"colorbar\":{\"outlinewidth\":0,\"ticks\":\"\"}}}],\"bar\":[{\"error_x\":{\"color\":\"#2a3f5f\"},\"error_y\":{\"color\":\"#2a3f5f\"},\"marker\":{\"line\":{\"color\":\"#E5ECF6\",\"width\":0.5},\"pattern\":{\"fillmode\":\"overlay\",\"size\":10,\"solidity\":0.2}},\"type\":\"bar\"}],\"scattergeo\":[{\"type\":\"scattergeo\",\"marker\":{\"colorbar\":{\"outlinewidth\":0,\"ticks\":\"\"}}}],\"scatterpolar\":[{\"type\":\"scatterpolar\",\"marker\":{\"colorbar\":{\"outlinewidth\":0,\"ticks\":\"\"}}}],\"histogram\":[{\"marker\":{\"pattern\":{\"fillmode\":\"overlay\",\"size\":10,\"solidity\":0.2}},\"type\":\"histogram\"}],\"scattergl\":[{\"type\":\"scattergl\",\"marker\":{\"colorbar\":{\"outlinewidth\":0,\"ticks\":\"\"}}}],\"scatter3d\":[{\"type\":\"scatter3d\",\"line\":{\"colorbar\":{\"outlinewidth\":0,\"ticks\":\"\"}},\"marker\":{\"colorbar\":{\"outlinewidth\":0,\"ticks\":\"\"}}}],\"scattermapbox\":[{\"type\":\"scattermapbox\",\"marker\":{\"colorbar\":{\"outlinewidth\":0,\"ticks\":\"\"}}}],\"scatterternary\":[{\"type\":\"scatterternary\",\"marker\":{\"colorbar\":{\"outlinewidth\":0,\"ticks\":\"\"}}}],\"scattercarpet\":[{\"type\":\"scattercarpet\",\"marker\":{\"colorbar\":{\"outlinewidth\":0,\"ticks\":\"\"}}}],\"carpet\":[{\"aaxis\":{\"endlinecolor\":\"#2a3f5f\",\"gridcolor\":\"white\",\"linecolor\":\"white\",\"minorgridcolor\":\"white\",\"startlinecolor\":\"#2a3f5f\"},\"baxis\":{\"endlinecolor\":\"#2a3f5f\",\"gridcolor\":\"white\",\"linecolor\":\"white\",\"minorgridcolor\":\"white\",\"startlinecolor\":\"#2a3f5f\"},\"type\":\"carpet\"}],\"table\":[{\"cells\":{\"fill\":{\"color\":\"#EBF0F8\"},\"line\":{\"color\":\"white\"}},\"header\":{\"fill\":{\"color\":\"#C8D4E3\"},\"line\":{\"color\":\"white\"}},\"type\":\"table\"}],\"barpolar\":[{\"marker\":{\"line\":{\"color\":\"#E5ECF6\",\"width\":0.5},\"pattern\":{\"fillmode\":\"overlay\",\"size\":10,\"solidity\":0.2}},\"type\":\"barpolar\"}],\"pie\":[{\"automargin\":true,\"type\":\"pie\"}]},\"layout\":{\"autotypenumbers\":\"strict\",\"colorway\":[\"#636efa\",\"#EF553B\",\"#00cc96\",\"#ab63fa\",\"#FFA15A\",\"#19d3f3\",\"#FF6692\",\"#B6E880\",\"#FF97FF\",\"#FECB52\"],\"font\":{\"color\":\"#2a3f5f\"},\"hovermode\":\"closest\",\"hoverlabel\":{\"align\":\"left\"},\"paper_bgcolor\":\"white\",\"plot_bgcolor\":\"#E5ECF6\",\"polar\":{\"bgcolor\":\"#E5ECF6\",\"angularaxis\":{\"gridcolor\":\"white\",\"linecolor\":\"white\",\"ticks\":\"\"},\"radialaxis\":{\"gridcolor\":\"white\",\"linecolor\":\"white\",\"ticks\":\"\"}},\"ternary\":{\"bgcolor\":\"#E5ECF6\",\"aaxis\":{\"gridcolor\":\"white\",\"linecolor\":\"white\",\"ticks\":\"\"},\"baxis\":{\"gridcolor\":\"white\",\"linecolor\":\"white\",\"ticks\":\"\"},\"caxis\":{\"gridcolor\":\"white\",\"linecolor\":\"white\",\"ticks\":\"\"}},\"coloraxis\":{\"colorbar\":{\"outlinewidth\":0,\"ticks\":\"\"}},\"colorscale\":{\"sequential\":[[0.0,\"#0d0887\"],[0.1111111111111111,\"#46039f\"],[0.2222222222222222,\"#7201a8\"],[0.3333333333333333,\"#9c179e\"],[0.4444444444444444,\"#bd3786\"],[0.5555555555555556,\"#d8576b\"],[0.6666666666666666,\"#ed7953\"],[0.7777777777777778,\"#fb9f3a\"],[0.8888888888888888,\"#fdca26\"],[1.0,\"#f0f921\"]],\"sequentialminus\":[[0.0,\"#0d0887\"],[0.1111111111111111,\"#46039f\"],[0.2222222222222222,\"#7201a8\"],[0.3333333333333333,\"#9c179e\"],[0.4444444444444444,\"#bd3786\"],[0.5555555555555556,\"#d8576b\"],[0.6666666666666666,\"#ed7953\"],[0.7777777777777778,\"#fb9f3a\"],[0.8888888888888888,\"#fdca26\"],[1.0,\"#f0f921\"]],\"diverging\":[[0,\"#8e0152\"],[0.1,\"#c51b7d\"],[0.2,\"#de77ae\"],[0.3,\"#f1b6da\"],[0.4,\"#fde0ef\"],[0.5,\"#f7f7f7\"],[0.6,\"#e6f5d0\"],[0.7,\"#b8e186\"],[0.8,\"#7fbc41\"],[0.9,\"#4d9221\"],[1,\"#276419\"]]},\"xaxis\":{\"gridcolor\":\"white\",\"linecolor\":\"white\",\"ticks\":\"\",\"title\":{\"standoff\":15},\"zerolinecolor\":\"white\",\"automargin\":true,\"zerolinewidth\":2},\"yaxis\":{\"gridcolor\":\"white\",\"linecolor\":\"white\",\"ticks\":\"\",\"title\":{\"standoff\":15},\"zerolinecolor\":\"white\",\"automargin\":true,\"zerolinewidth\":2},\"scene\":{\"xaxis\":{\"backgroundcolor\":\"#E5ECF6\",\"gridcolor\":\"white\",\"linecolor\":\"white\",\"showbackground\":true,\"ticks\":\"\",\"zerolinecolor\":\"white\",\"gridwidth\":2},\"yaxis\":{\"backgroundcolor\":\"#E5ECF6\",\"gridcolor\":\"white\",\"linecolor\":\"white\",\"showbackground\":true,\"ticks\":\"\",\"zerolinecolor\":\"white\",\"gridwidth\":2},\"zaxis\":{\"backgroundcolor\":\"#E5ECF6\",\"gridcolor\":\"white\",\"linecolor\":\"white\",\"showbackground\":true,\"ticks\":\"\",\"zerolinecolor\":\"white\",\"gridwidth\":2}},\"shapedefaults\":{\"line\":{\"color\":\"#2a3f5f\"}},\"annotationdefaults\":{\"arrowcolor\":\"#2a3f5f\",\"arrowhead\":0,\"arrowwidth\":1},\"geo\":{\"bgcolor\":\"white\",\"landcolor\":\"#E5ECF6\",\"subunitcolor\":\"white\",\"showland\":true,\"showlakes\":true,\"lakecolor\":\"white\"},\"title\":{\"x\":0.05},\"mapbox\":{\"style\":\"light\"}}},\"xaxis\":{\"anchor\":\"y\",\"domain\":[0.0,0.45],\"title\":{\"text\":\"Shapley Value (impact on model output)\"}},\"yaxis\":{\"anchor\":\"x\",\"domain\":[0.0,1.0],\"title\":{\"text\":\"Feature\"}},\"xaxis2\":{\"anchor\":\"y2\",\"domain\":[0.55,1.0],\"title\":{\"text\":\"Shapley Value (impact on model output)\"}},\"yaxis2\":{\"anchor\":\"x2\",\"domain\":[0.0,1.0],\"title\":{\"text\":\"Feature\"}},\"annotations\":[{\"font\":{\"size\":16},\"showarrow\":false,\"text\":\"Shapley value for A\",\"x\":0.225,\"xanchor\":\"center\",\"xref\":\"paper\",\"y\":1.0,\"yanchor\":\"bottom\",\"yref\":\"paper\"},{\"font\":{\"size\":16},\"showarrow\":false,\"text\":\"Shapley value for B\",\"x\":0.775,\"xanchor\":\"center\",\"xref\":\"paper\",\"y\":1.0,\"yanchor\":\"bottom\",\"yref\":\"paper\"}],\"title\":{\"text\":\"Combined Bee Swarm Plot of Shapley Values\"},\"height\":600,\"width\":1000},                        {\"responsive\": true}                    ).then(function(){\n                            \nvar gd = document.getElementById('d09333a3-55c0-4fc2-8e40-2bf1e54408a2');\nvar x = new MutationObserver(function (mutations, observer) {{\n        var display = window.getComputedStyle(gd).display;\n        if (!display || display === 'none') {{\n            console.log([gd, 'removed!']);\n            Plotly.purge(gd);\n            observer.disconnect();\n        }}\n}});\n\n// Listen for the removal of the full notebook cells\nvar notebookContainer = gd.closest('#notebook-container');\nif (notebookContainer) {{\n    x.observe(notebookContainer, {childList: true});\n}}\n\n// Listen for the clearing of the current output cell\nvar outputEl = gd.closest('.output');\nif (outputEl) {{\n    x.observe(outputEl, {childList: true});\n}}\n\n                        })                };                });            </script>        </div>"
     },
     "metadata": {},
     "output_type": "display_data"
    }
   ],
   "source": [
    "import plotly.subplots as sp\n",
    "shap_values = pd.DataFrame(\n",
    "    {\"A\": [-0.065704, -0.096510, 0.062368, 0.062368, 0.063093], \n",
    "     \"B\": [-0.168249, -0.173284, -0.168756, -0.168756, -0.169378]})\n",
    "\n",
    "train = pd.DataFrame(\n",
    "    {\"A\": [0, 1, 1, 0, 0], \n",
    "     \"B\": [1, 1, 0, 0, 1]})\n",
    "\n",
    "merged_df = shap_values.join(train, lsuffix='_shap', rsuffix='_train')\n",
    "\n",
    "# Calculate the number of rows/columns for the subplot grid\n",
    "num_variables = len(shap_values.columns)\n",
    "num_rows = 1\n",
    "num_cols = num_variables\n",
    "\n",
    "# Create a subplot figure\n",
    "fig = sp.make_subplots(rows=num_rows, cols=num_cols, subplot_titles=[f'Shapley value for {col}' for col in shap_values.columns])\n",
    "\n",
    "for idx, column in enumerate(shap_values.columns, start=1):\n",
    "    # Create a strip plot for each variable\n",
    "    strip_fig = px.strip(merged_df, x=merged_df[column+'_shap'], color=merged_df[column+'_train'], orientation='h', stripmode='overlay')\n",
    "    \n",
    "    # Extract the data from the generated strip plot\n",
    "    for trace in strip_fig.data:\n",
    "        fig.add_trace(trace, row=1, col=idx)\n",
    "\n",
    "    # Update xaxis and yaxis titles for each subplot\n",
    "    fig.update_xaxes(title_text='Shapley Value (impact on model output)', row=1, col=idx)\n",
    "    fig.update_yaxes(title_text='Feature', row=1, col=idx)\n",
    "\n",
    "# Update layout if needed\n",
    "fig.update_layout(height=600, width=1000, title_text=\"Combined Bee Swarm Plot of Shapley Values\")\n",
    "fig.show()"
   ],
   "metadata": {
    "collapsed": false,
    "ExecuteTime": {
     "end_time": "2024-03-29T17:38:57.083407Z",
     "start_time": "2024-03-29T17:38:56.985142Z"
    }
   },
   "id": "88b07e19a0adba92"
  },
  {
   "cell_type": "code",
   "execution_count": 10,
   "outputs": [],
   "source": [
    "import pandas as pd\n",
    "import plotly.express as px\n",
    "\n",
    "# Sample data\n",
    "shap_values = pd.DataFrame({\n",
    "\"A\": [-0.065704, -0.096510, 0.062368, 0.062368, \n",
    "0.063093],\n",
    "\"B\": [-0.168249, -0.173284, -0.168756, -0.168756, \n",
    "-0.169378]\n",
    "})\n",
    "\n",
    "train = pd.DataFrame({\n",
    "\"A\": [0, 1, 1, 0, 0],\n",
    "\"B\": [1, 1, 0, 0, 1]\n",
    "})\n",
    "\n",
    "# Joining SHAP values and one-hot encoded features\n",
    "merged_df = shap_values.join(train, lsuffix='_shap', rsuffix='_train')\n",
    "\n",
    "# Melt the merged DataFrame to long format\n",
    "melted_df = merged_df.melt(value_vars=[col for col in \n",
    "merged_df.columns if '_shap' in col],\n",
    "                       var_name='Feature', \n",
    "                       value_name='SHAP Value')"
   ],
   "metadata": {
    "collapsed": false,
    "ExecuteTime": {
     "end_time": "2024-03-30T08:48:54.128997Z",
     "start_time": "2024-03-30T08:48:54.124374Z"
    }
   },
   "id": "e95b2192e377d643"
  },
  {
   "cell_type": "code",
   "execution_count": 12,
   "outputs": [
    {
     "ename": "KeyError",
     "evalue": "5",
     "output_type": "error",
     "traceback": [
      "\u001B[0;31m---------------------------------------------------------------------------\u001B[0m",
      "\u001B[0;31mValueError\u001B[0m                                Traceback (most recent call last)",
      "File \u001B[0;32m~/Documents/École/Université/M2/M2_S1/Challenge_Nexialog/venv/lib/python3.9/site-packages/pandas/core/indexes/range.py:414\u001B[0m, in \u001B[0;36mRangeIndex.get_loc\u001B[0;34m(self, key)\u001B[0m\n\u001B[1;32m    413\u001B[0m \u001B[38;5;28;01mtry\u001B[39;00m:\n\u001B[0;32m--> 414\u001B[0m     \u001B[38;5;28;01mreturn\u001B[39;00m \u001B[38;5;28;43mself\u001B[39;49m\u001B[38;5;241;43m.\u001B[39;49m\u001B[43m_range\u001B[49m\u001B[38;5;241;43m.\u001B[39;49m\u001B[43mindex\u001B[49m\u001B[43m(\u001B[49m\u001B[43mnew_key\u001B[49m\u001B[43m)\u001B[49m\n\u001B[1;32m    415\u001B[0m \u001B[38;5;28;01mexcept\u001B[39;00m \u001B[38;5;167;01mValueError\u001B[39;00m \u001B[38;5;28;01mas\u001B[39;00m err:\n",
      "\u001B[0;31mValueError\u001B[0m: 5 is not in range",
      "\nThe above exception was the direct cause of the following exception:\n",
      "\u001B[0;31mKeyError\u001B[0m                                  Traceback (most recent call last)",
      "Cell \u001B[0;32mIn[12], line 2\u001B[0m\n\u001B[1;32m      1\u001B[0m melted_df[\u001B[38;5;124m'\u001B[39m\u001B[38;5;124mFeature\u001B[39m\u001B[38;5;124m'\u001B[39m]\u001B[38;5;241m.\u001B[39mstr\u001B[38;5;241m.\u001B[39mreplace(\u001B[38;5;124m'\u001B[39m\u001B[38;5;124m_shap\u001B[39m\u001B[38;5;124m'\u001B[39m, \u001B[38;5;124m'\u001B[39m\u001B[38;5;124m'\u001B[39m)\n\u001B[0;32m----> 2\u001B[0m melted_df[\u001B[38;5;124m'\u001B[39m\u001B[38;5;124mOne-hot Value\u001B[39m\u001B[38;5;124m'\u001B[39m] \u001B[38;5;241m=\u001B[39m \u001B[43mmelted_df\u001B[49m\u001B[38;5;241;43m.\u001B[39;49m\u001B[43mapply\u001B[49m\u001B[43m(\u001B[49m\u001B[38;5;28;43;01mlambda\u001B[39;49;00m\u001B[43m \u001B[49m\u001B[43mx\u001B[49m\u001B[43m:\u001B[49m\u001B[43m \u001B[49m\n\u001B[1;32m      3\u001B[0m \u001B[43mmerged_df\u001B[49m\u001B[38;5;241;43m.\u001B[39;49m\u001B[43mloc\u001B[49m\u001B[43m[\u001B[49m\u001B[43mx\u001B[49m\u001B[38;5;241;43m.\u001B[39;49m\u001B[43mname\u001B[49m\u001B[43m,\u001B[49m\u001B[43m \u001B[49m\u001B[43mx\u001B[49m\u001B[43m[\u001B[49m\u001B[38;5;124;43m'\u001B[39;49m\u001B[38;5;124;43mFeature\u001B[39;49m\u001B[38;5;124;43m'\u001B[39;49m\u001B[43m]\u001B[49m\u001B[43m]\u001B[49m\u001B[43m,\u001B[49m\u001B[43m \u001B[49m\u001B[43maxis\u001B[49m\u001B[38;5;241;43m=\u001B[39;49m\u001B[38;5;241;43m1\u001B[39;49m\u001B[43m)\u001B[49m\n",
      "File \u001B[0;32m~/Documents/École/Université/M2/M2_S1/Challenge_Nexialog/venv/lib/python3.9/site-packages/pandas/core/frame.py:10034\u001B[0m, in \u001B[0;36mDataFrame.apply\u001B[0;34m(self, func, axis, raw, result_type, args, by_row, **kwargs)\u001B[0m\n\u001B[1;32m  10022\u001B[0m \u001B[38;5;28;01mfrom\u001B[39;00m \u001B[38;5;21;01mpandas\u001B[39;00m\u001B[38;5;21;01m.\u001B[39;00m\u001B[38;5;21;01mcore\u001B[39;00m\u001B[38;5;21;01m.\u001B[39;00m\u001B[38;5;21;01mapply\u001B[39;00m \u001B[38;5;28;01mimport\u001B[39;00m frame_apply\n\u001B[1;32m  10024\u001B[0m op \u001B[38;5;241m=\u001B[39m frame_apply(\n\u001B[1;32m  10025\u001B[0m     \u001B[38;5;28mself\u001B[39m,\n\u001B[1;32m  10026\u001B[0m     func\u001B[38;5;241m=\u001B[39mfunc,\n\u001B[0;32m   (...)\u001B[0m\n\u001B[1;32m  10032\u001B[0m     kwargs\u001B[38;5;241m=\u001B[39mkwargs,\n\u001B[1;32m  10033\u001B[0m )\n\u001B[0;32m> 10034\u001B[0m \u001B[38;5;28;01mreturn\u001B[39;00m \u001B[43mop\u001B[49m\u001B[38;5;241;43m.\u001B[39;49m\u001B[43mapply\u001B[49m\u001B[43m(\u001B[49m\u001B[43m)\u001B[49m\u001B[38;5;241m.\u001B[39m__finalize__(\u001B[38;5;28mself\u001B[39m, method\u001B[38;5;241m=\u001B[39m\u001B[38;5;124m\"\u001B[39m\u001B[38;5;124mapply\u001B[39m\u001B[38;5;124m\"\u001B[39m)\n",
      "File \u001B[0;32m~/Documents/École/Université/M2/M2_S1/Challenge_Nexialog/venv/lib/python3.9/site-packages/pandas/core/apply.py:837\u001B[0m, in \u001B[0;36mFrameApply.apply\u001B[0;34m(self)\u001B[0m\n\u001B[1;32m    834\u001B[0m \u001B[38;5;28;01melif\u001B[39;00m \u001B[38;5;28mself\u001B[39m\u001B[38;5;241m.\u001B[39mraw:\n\u001B[1;32m    835\u001B[0m     \u001B[38;5;28;01mreturn\u001B[39;00m \u001B[38;5;28mself\u001B[39m\u001B[38;5;241m.\u001B[39mapply_raw()\n\u001B[0;32m--> 837\u001B[0m \u001B[38;5;28;01mreturn\u001B[39;00m \u001B[38;5;28;43mself\u001B[39;49m\u001B[38;5;241;43m.\u001B[39;49m\u001B[43mapply_standard\u001B[49m\u001B[43m(\u001B[49m\u001B[43m)\u001B[49m\n",
      "File \u001B[0;32m~/Documents/École/Université/M2/M2_S1/Challenge_Nexialog/venv/lib/python3.9/site-packages/pandas/core/apply.py:965\u001B[0m, in \u001B[0;36mFrameApply.apply_standard\u001B[0;34m(self)\u001B[0m\n\u001B[1;32m    964\u001B[0m \u001B[38;5;28;01mdef\u001B[39;00m \u001B[38;5;21mapply_standard\u001B[39m(\u001B[38;5;28mself\u001B[39m):\n\u001B[0;32m--> 965\u001B[0m     results, res_index \u001B[38;5;241m=\u001B[39m \u001B[38;5;28;43mself\u001B[39;49m\u001B[38;5;241;43m.\u001B[39;49m\u001B[43mapply_series_generator\u001B[49m\u001B[43m(\u001B[49m\u001B[43m)\u001B[49m\n\u001B[1;32m    967\u001B[0m     \u001B[38;5;66;03m# wrap results\u001B[39;00m\n\u001B[1;32m    968\u001B[0m     \u001B[38;5;28;01mreturn\u001B[39;00m \u001B[38;5;28mself\u001B[39m\u001B[38;5;241m.\u001B[39mwrap_results(results, res_index)\n",
      "File \u001B[0;32m~/Documents/École/Université/M2/M2_S1/Challenge_Nexialog/venv/lib/python3.9/site-packages/pandas/core/apply.py:981\u001B[0m, in \u001B[0;36mFrameApply.apply_series_generator\u001B[0;34m(self)\u001B[0m\n\u001B[1;32m    978\u001B[0m \u001B[38;5;28;01mwith\u001B[39;00m option_context(\u001B[38;5;124m\"\u001B[39m\u001B[38;5;124mmode.chained_assignment\u001B[39m\u001B[38;5;124m\"\u001B[39m, \u001B[38;5;28;01mNone\u001B[39;00m):\n\u001B[1;32m    979\u001B[0m     \u001B[38;5;28;01mfor\u001B[39;00m i, v \u001B[38;5;129;01min\u001B[39;00m \u001B[38;5;28menumerate\u001B[39m(series_gen):\n\u001B[1;32m    980\u001B[0m         \u001B[38;5;66;03m# ignore SettingWithCopy here in case the user mutates\u001B[39;00m\n\u001B[0;32m--> 981\u001B[0m         results[i] \u001B[38;5;241m=\u001B[39m \u001B[38;5;28;43mself\u001B[39;49m\u001B[38;5;241;43m.\u001B[39;49m\u001B[43mfunc\u001B[49m\u001B[43m(\u001B[49m\u001B[43mv\u001B[49m\u001B[43m,\u001B[49m\u001B[43m \u001B[49m\u001B[38;5;241;43m*\u001B[39;49m\u001B[38;5;28;43mself\u001B[39;49m\u001B[38;5;241;43m.\u001B[39;49m\u001B[43margs\u001B[49m\u001B[43m,\u001B[49m\u001B[43m \u001B[49m\u001B[38;5;241;43m*\u001B[39;49m\u001B[38;5;241;43m*\u001B[39;49m\u001B[38;5;28;43mself\u001B[39;49m\u001B[38;5;241;43m.\u001B[39;49m\u001B[43mkwargs\u001B[49m\u001B[43m)\u001B[49m\n\u001B[1;32m    982\u001B[0m         \u001B[38;5;28;01mif\u001B[39;00m \u001B[38;5;28misinstance\u001B[39m(results[i], ABCSeries):\n\u001B[1;32m    983\u001B[0m             \u001B[38;5;66;03m# If we have a view on v, we need to make a copy because\u001B[39;00m\n\u001B[1;32m    984\u001B[0m             \u001B[38;5;66;03m#  series_generator will swap out the underlying data\u001B[39;00m\n\u001B[1;32m    985\u001B[0m             results[i] \u001B[38;5;241m=\u001B[39m results[i]\u001B[38;5;241m.\u001B[39mcopy(deep\u001B[38;5;241m=\u001B[39m\u001B[38;5;28;01mFalse\u001B[39;00m)\n",
      "Cell \u001B[0;32mIn[12], line 3\u001B[0m, in \u001B[0;36m<lambda>\u001B[0;34m(x)\u001B[0m\n\u001B[1;32m      1\u001B[0m melted_df[\u001B[38;5;124m'\u001B[39m\u001B[38;5;124mFeature\u001B[39m\u001B[38;5;124m'\u001B[39m]\u001B[38;5;241m.\u001B[39mstr\u001B[38;5;241m.\u001B[39mreplace(\u001B[38;5;124m'\u001B[39m\u001B[38;5;124m_shap\u001B[39m\u001B[38;5;124m'\u001B[39m, \u001B[38;5;124m'\u001B[39m\u001B[38;5;124m'\u001B[39m)\n\u001B[1;32m      2\u001B[0m melted_df[\u001B[38;5;124m'\u001B[39m\u001B[38;5;124mOne-hot Value\u001B[39m\u001B[38;5;124m'\u001B[39m] \u001B[38;5;241m=\u001B[39m melted_df\u001B[38;5;241m.\u001B[39mapply(\u001B[38;5;28;01mlambda\u001B[39;00m x: \n\u001B[0;32m----> 3\u001B[0m \u001B[43mmerged_df\u001B[49m\u001B[38;5;241;43m.\u001B[39;49m\u001B[43mloc\u001B[49m\u001B[43m[\u001B[49m\u001B[43mx\u001B[49m\u001B[38;5;241;43m.\u001B[39;49m\u001B[43mname\u001B[49m\u001B[43m,\u001B[49m\u001B[43m \u001B[49m\u001B[43mx\u001B[49m\u001B[43m[\u001B[49m\u001B[38;5;124;43m'\u001B[39;49m\u001B[38;5;124;43mFeature\u001B[39;49m\u001B[38;5;124;43m'\u001B[39;49m\u001B[43m]\u001B[49m\u001B[43m]\u001B[49m, axis\u001B[38;5;241m=\u001B[39m\u001B[38;5;241m1\u001B[39m)\n",
      "File \u001B[0;32m~/Documents/École/Université/M2/M2_S1/Challenge_Nexialog/venv/lib/python3.9/site-packages/pandas/core/indexing.py:1146\u001B[0m, in \u001B[0;36m_LocationIndexer.__getitem__\u001B[0;34m(self, key)\u001B[0m\n\u001B[1;32m   1144\u001B[0m     key \u001B[38;5;241m=\u001B[39m \u001B[38;5;28mtuple\u001B[39m(com\u001B[38;5;241m.\u001B[39mapply_if_callable(x, \u001B[38;5;28mself\u001B[39m\u001B[38;5;241m.\u001B[39mobj) \u001B[38;5;28;01mfor\u001B[39;00m x \u001B[38;5;129;01min\u001B[39;00m key)\n\u001B[1;32m   1145\u001B[0m     \u001B[38;5;28;01mif\u001B[39;00m \u001B[38;5;28mself\u001B[39m\u001B[38;5;241m.\u001B[39m_is_scalar_access(key):\n\u001B[0;32m-> 1146\u001B[0m         \u001B[38;5;28;01mreturn\u001B[39;00m \u001B[38;5;28;43mself\u001B[39;49m\u001B[38;5;241;43m.\u001B[39;49m\u001B[43mobj\u001B[49m\u001B[38;5;241;43m.\u001B[39;49m\u001B[43m_get_value\u001B[49m\u001B[43m(\u001B[49m\u001B[38;5;241;43m*\u001B[39;49m\u001B[43mkey\u001B[49m\u001B[43m,\u001B[49m\u001B[43m \u001B[49m\u001B[43mtakeable\u001B[49m\u001B[38;5;241;43m=\u001B[39;49m\u001B[38;5;28;43mself\u001B[39;49m\u001B[38;5;241;43m.\u001B[39;49m\u001B[43m_takeable\u001B[49m\u001B[43m)\u001B[49m\n\u001B[1;32m   1147\u001B[0m     \u001B[38;5;28;01mreturn\u001B[39;00m \u001B[38;5;28mself\u001B[39m\u001B[38;5;241m.\u001B[39m_getitem_tuple(key)\n\u001B[1;32m   1148\u001B[0m \u001B[38;5;28;01melse\u001B[39;00m:\n\u001B[1;32m   1149\u001B[0m     \u001B[38;5;66;03m# we by definition only have the 0th axis\u001B[39;00m\n",
      "File \u001B[0;32m~/Documents/École/Université/M2/M2_S1/Challenge_Nexialog/venv/lib/python3.9/site-packages/pandas/core/frame.py:4012\u001B[0m, in \u001B[0;36mDataFrame._get_value\u001B[0;34m(self, index, col, takeable)\u001B[0m\n\u001B[1;32m   4006\u001B[0m engine \u001B[38;5;241m=\u001B[39m \u001B[38;5;28mself\u001B[39m\u001B[38;5;241m.\u001B[39mindex\u001B[38;5;241m.\u001B[39m_engine\n\u001B[1;32m   4008\u001B[0m \u001B[38;5;28;01mif\u001B[39;00m \u001B[38;5;129;01mnot\u001B[39;00m \u001B[38;5;28misinstance\u001B[39m(\u001B[38;5;28mself\u001B[39m\u001B[38;5;241m.\u001B[39mindex, MultiIndex):\n\u001B[1;32m   4009\u001B[0m     \u001B[38;5;66;03m# CategoricalIndex: Trying to use the engine fastpath may give incorrect\u001B[39;00m\n\u001B[1;32m   4010\u001B[0m     \u001B[38;5;66;03m#  results if our categories are integers that dont match our codes\u001B[39;00m\n\u001B[1;32m   4011\u001B[0m     \u001B[38;5;66;03m# IntervalIndex: IntervalTree has no get_loc\u001B[39;00m\n\u001B[0;32m-> 4012\u001B[0m     row \u001B[38;5;241m=\u001B[39m \u001B[38;5;28;43mself\u001B[39;49m\u001B[38;5;241;43m.\u001B[39;49m\u001B[43mindex\u001B[49m\u001B[38;5;241;43m.\u001B[39;49m\u001B[43mget_loc\u001B[49m\u001B[43m(\u001B[49m\u001B[43mindex\u001B[49m\u001B[43m)\u001B[49m\n\u001B[1;32m   4013\u001B[0m     \u001B[38;5;28;01mreturn\u001B[39;00m series\u001B[38;5;241m.\u001B[39m_values[row]\n\u001B[1;32m   4015\u001B[0m \u001B[38;5;66;03m# For MultiIndex going through engine effectively restricts us to\u001B[39;00m\n\u001B[1;32m   4016\u001B[0m \u001B[38;5;66;03m#  same-length tuples; see test_get_set_value_no_partial_indexing\u001B[39;00m\n",
      "File \u001B[0;32m~/Documents/École/Université/M2/M2_S1/Challenge_Nexialog/venv/lib/python3.9/site-packages/pandas/core/indexes/range.py:416\u001B[0m, in \u001B[0;36mRangeIndex.get_loc\u001B[0;34m(self, key)\u001B[0m\n\u001B[1;32m    414\u001B[0m         \u001B[38;5;28;01mreturn\u001B[39;00m \u001B[38;5;28mself\u001B[39m\u001B[38;5;241m.\u001B[39m_range\u001B[38;5;241m.\u001B[39mindex(new_key)\n\u001B[1;32m    415\u001B[0m     \u001B[38;5;28;01mexcept\u001B[39;00m \u001B[38;5;167;01mValueError\u001B[39;00m \u001B[38;5;28;01mas\u001B[39;00m err:\n\u001B[0;32m--> 416\u001B[0m         \u001B[38;5;28;01mraise\u001B[39;00m \u001B[38;5;167;01mKeyError\u001B[39;00m(key) \u001B[38;5;28;01mfrom\u001B[39;00m \u001B[38;5;21;01merr\u001B[39;00m\n\u001B[1;32m    417\u001B[0m \u001B[38;5;28;01mif\u001B[39;00m \u001B[38;5;28misinstance\u001B[39m(key, Hashable):\n\u001B[1;32m    418\u001B[0m     \u001B[38;5;28;01mraise\u001B[39;00m \u001B[38;5;167;01mKeyError\u001B[39;00m(key)\n",
      "\u001B[0;31mKeyError\u001B[0m: 5"
     ]
    }
   ],
   "source": [
    "melted_df['Feature'].str.replace('_shap', '')\n",
    "melted_df['One-hot Value'] = melted_df.apply(lambda x: \n",
    "merged_df.loc[x.name, x['Feature'] + '_train'], axis=1)"
   ],
   "metadata": {
    "collapsed": false,
    "ExecuteTime": {
     "end_time": "2024-03-30T08:48:55.329504Z",
     "start_time": "2024-03-30T08:48:55.240788Z"
    }
   },
   "id": "302d1ae482cace58"
  },
  {
   "cell_type": "code",
   "execution_count": null,
   "outputs": [],
   "source": [
    "fig = px.strip(melted_df, x='SHAP Value', y='Feature', \n",
    "           color='One-hot Value',\n",
    "           orientation='h', stripmode='overlay', \n",
    "title='Bee Swarm Plot of SHAP Values by Feature')\n",
    "\n",
    "fig.update_layout(\n",
    "xaxis_title='SHAP Value (Impact on Model Output)',\n",
    "yaxis_title='Feature')\n",
    "\n",
    "fig.show()"
   ],
   "metadata": {
    "collapsed": false
   },
   "id": "468d7b90e54a508"
  },
  {
   "cell_type": "code",
   "execution_count": 51,
   "outputs": [
    {
     "data": {
      "application/vnd.plotly.v1+json": {
       "data": [
        {
         "alignmentgroup": "True",
         "boxpoints": "all",
         "fillcolor": "rgba(255,255,255,0)",
         "hoveron": "points",
         "hovertemplate": "One-hot Value=0.0<br>SHAP Value=%{x}<br>Feature=%{y}<extra></extra>",
         "legendgroup": "0.0",
         "line": {
          "color": "rgba(255,255,255,0)"
         },
         "marker": {
          "color": "#636efa"
         },
         "name": "0.0",
         "offsetgroup": "0.0",
         "orientation": "h",
         "pointpos": 0,
         "showlegend": true,
         "x": [
          -0.065703735,
          -0.09650998,
          -0.054466244,
          -0.059187885,
          -0.022225067,
          -0.030796062,
          -0.022225067,
          -0.05935665,
          -0.045306817,
          -0.06289105,
          -0.09650998,
          -0.030796062,
          -0.093191646,
          -0.09271817,
          -0.09650998,
          -0.003974016,
          -0.07341319,
          -0.093191646,
          -0.09650998,
          -0.05851907,
          -0.054466244,
          -0.038897526,
          -0.06971481,
          -0.075356655,
          -0.06588254,
          -0.09650998,
          -0.0887044,
          -0.030796062,
          -0.07150952,
          -0.09650998,
          -0.06971481,
          -0.065703735,
          0.03294395,
          -0.09271817,
          -0.06289105,
          -0.06484737,
          -0.093191646,
          -0.075356655,
          -0.06971481,
          -0.09650998,
          -0.093191646,
          -0.09650998,
          -0.09271817,
          -0.06289105,
          -0.05851907,
          -0.06971481,
          -0.054466244,
          -0.075356655,
          -0.06971481,
          -0.045306817,
          -0.054466244,
          -0.05851907,
          -0.09271817,
          -0.09650998,
          -0.09650998,
          -0.01778402,
          -0.09271817,
          -0.054466244,
          -0.022225067,
          -0.030796062,
          -0.045306817,
          -0.07150952,
          -0.06588254,
          -0.09271817,
          -0.06289105,
          -0.060252164,
          -0.09650998,
          -0.075356655,
          -0.060252164,
          -0.00910508,
          -0.06971481,
          -0.05935665,
          -0.075356655,
          -0.044252936,
          0.0028049683,
          -0.09650998,
          -0.022225067,
          -0.07150952,
          -0.09650998,
          -0.038897526,
          -0.054466244,
          -0.09271817,
          -0.09271817,
          -0.093191646,
          -0.09271817,
          -0.054466244,
          -0.06971481,
          -0.00910508,
          -0.045306817,
          -0.09650998,
          -0.031961966,
          -0.09650998,
          -0.093191646,
          -0.09650998,
          -0.038897526,
          -0.05935665,
          -0.093191646,
          -0.06971481,
          -0.09271817,
          -0.06971481,
          -0.01778402,
          -0.065703735,
          -0.09271817,
          -0.054466244,
          -0.09650998,
          -0.05935665,
          -0.09650998,
          -0.0719793,
          -0.0719793,
          -0.030796062,
          -0.0887044,
          -0.07150952,
          -0.093191646,
          -0.093191646,
          -0.09650998,
          -0.05851907,
          -0.030796062,
          -0.09271817,
          -0.05935665,
          -0.09271817,
          -0.09271817,
          -0.09271817,
          -0.09271817,
          -0.09271817,
          -0.044218317,
          -0.065703735,
          -0.09271817,
          -0.03578926,
          -0.09650998,
          -0.09650998,
          -0.09650998,
          -0.09271817,
          -0.06971481,
          -0.09271817,
          -0.09271817,
          -0.09271817,
          -0.05935665,
          -0.09650998,
          -0.09650998,
          -0.054466244,
          -0.06971481,
          0.023600914,
          -0.05935665,
          -0.045306817,
          -0.09271817,
          -0.09271817,
          -0.09650998,
          -0.07150952,
          -0.09650998,
          -0.044218317,
          -0.09650998,
          -0.06971481,
          -0.09650998,
          -0.09650998,
          -0.05935665,
          -0.01778402,
          -0.07150952,
          -0.09271817,
          -0.09650998,
          -0.05935665,
          -0.09650998,
          -0.05935665,
          -0.09650998,
          -0.044218317,
          -0.06289105,
          -0.09271817,
          -0.054466244,
          -0.06971481,
          -0.09650998,
          -0.024509573,
          -0.044218317,
          -0.05935665,
          -0.09650998,
          -0.06484737,
          -0.09271817,
          -0.09650998,
          -0.075356655,
          -0.003974016,
          -0.06971481,
          -0.093191646,
          -0.09271817,
          -0.027578495,
          -0.09271817,
          -0.027578495,
          -0.00910508,
          -0.09650998,
          -0.06971481,
          -0.09650998,
          -0.09271817,
          -0.06971481,
          -0.065703735,
          -0.022225067,
          -0.09650998,
          0.004941756,
          -0.036064528,
          -0.054466244,
          -0.06971481,
          -0.09271817,
          -0.022225067,
          -0.09650998,
          -0.09650998,
          -0.05935665,
          -0.06588254,
          -0.09650998,
          -0.054466244,
          -0.09271817,
          -0.054466244,
          -0.093191646,
          0.023600914,
          -0.065703735,
          -0.05935665,
          -0.05935665,
          -0.0887044,
          -0.075356655,
          -0.0719793,
          -0.0887044,
          -0.060252164,
          -0.16824946,
          -0.17328438,
          -0.16875614,
          -0.16875614,
          -0.1693778,
          -0.16925286,
          -0.15996629,
          -0.16875614,
          -0.18020411,
          -0.15316644,
          -0.13616553,
          -0.16541539,
          -0.1477688,
          -0.17328438,
          -0.15999436,
          -0.15316644,
          -0.1807704,
          -0.14950563,
          -0.17838132,
          -0.15999436,
          -0.14950563,
          -0.15996629,
          -0.17328438,
          -0.1693778,
          -0.15996629,
          -0.14950563,
          -0.1807704,
          -0.17328438,
          -0.16033491,
          -0.16925286,
          -0.16217804,
          -0.15999436,
          -0.17412162,
          -0.17328438,
          -0.14950563,
          -0.18646093,
          -0.15999436,
          -0.16875614,
          -0.1477688,
          -0.15996629,
          -0.16875614,
          -0.16875614,
          -0.16875614,
          -0.15316644,
          -0.17815287,
          -0.17328438,
          -0.1693778,
          -0.16217804,
          -0.16824946,
          -0.15999436,
          -0.15996629,
          -0.17838132,
          -0.16649935,
          -0.16875614,
          -0.13616553,
          -0.16875614,
          -0.16875614,
          -0.1807704,
          -0.16217804,
          -0.15996629,
          -0.15996629,
          -0.17328438,
          -0.1477688,
          -0.1693778,
          -0.15514404,
          -0.1807704,
          -0.17328438,
          -0.17838132,
          -0.15996629,
          -0.15996629,
          -0.16875614,
          -0.15514404,
          -0.1477688,
          -0.16217804,
          -0.16925286,
          -0.14827423,
          -0.16875614,
          -0.15996629,
          -0.16217804,
          -0.15514404,
          -0.16925286,
          -0.15999436,
          -0.15999436,
          -0.17838132,
          -0.15996629,
          -0.17328438,
          -0.15999436,
          -0.1499753,
          -0.17328438,
          -0.15514404,
          -0.17079557,
          -0.1477688,
          -0.17079557,
          -0.16499315,
          -0.17838132,
          -0.16925286,
          -0.15996629,
          -0.15999436,
          -0.15316644,
          -0.15999436,
          -0.14950563,
          -0.17815287,
          -0.16875614,
          -0.17412162,
          -0.17838132,
          -0.17328438,
          -0.16875614,
          -0.16217804,
          -0.16541539,
          -0.15105413,
          -0.15996629,
          -0.17328438,
          -0.15999436,
          -0.14950563,
          -0.15999436,
          -0.1477688,
          -0.17815287,
          -0.15999436,
          -0.17328438,
          -0.15996629,
          -0.16925286,
          -0.17838132,
          -0.17079557,
          -0.17838132,
          -0.1807704,
          -0.17838132,
          -0.16875614,
          -0.16925286,
          -0.16875614,
          -0.1477688,
          -0.16217804,
          -0.16875614,
          -0.17328438,
          -0.15996629,
          -0.16081658,
          -0.17328438,
          -0.1807704,
          -0.17328438,
          -0.16541539,
          -0.1807704,
          -0.16217804,
          -0.17838132,
          -0.16875614,
          -0.16217804,
          -0.16499315,
          -0.16824946,
          -0.15996629,
          -0.17838132,
          -0.16925286,
          -0.17328438,
          -0.15996629,
          -0.16875614,
          -0.16541539,
          -0.17328438,
          -0.17108765,
          -0.17108765,
          -0.13874681,
          -0.15316644,
          -0.16875614,
          -0.18646093,
          -0.16875614,
          -0.17815287,
          -0.1807704,
          -0.16875614,
          -0.15514404,
          -0.14827423,
          -0.15996629,
          -0.1477688,
          -0.1807704,
          -0.17328438,
          -0.15514404,
          -0.16875614,
          -0.16875614,
          -0.15996629,
          -0.15996629,
          -0.15316644,
          -0.15996629,
          -0.13616553,
          -0.17758833,
          -0.15514404,
          -0.15999436,
          -0.1477688,
          -0.15996629,
          -0.15996629,
          -0.17838132,
          -0.15996629,
          -0.16541539,
          -0.17838132,
          -0.1477688,
          -0.17838132,
          -0.17838132,
          -0.17838132,
          -0.17838132,
          -0.14950563,
          -0.16875614,
          -0.17079557,
          -0.16875614,
          -0.1477688,
          -0.16824946,
          -0.15996629,
          -0.17838132,
          -0.1693778,
          -0.17328438,
          -0.16875614,
          -0.17328438,
          -0.15996629,
          -0.15514404,
          -0.16875614,
          -0.17328438,
          -0.17838132,
          -0.16875614,
          -0.15996629,
          -0.13616553,
          -0.16217804,
          -0.17838132,
          -0.1693778,
          -0.17838132,
          -0.17838132,
          -0.16541539,
          -0.15189342,
          -0.17328438,
          -0.17328438,
          -0.16925286,
          -0.16217804,
          -0.15996629,
          -0.16875614,
          -0.16541539,
          -0.13616553,
          -0.17838132,
          -0.16908178,
          -0.17758833,
          -0.17838132,
          -0.15999436,
          -0.17079557,
          -0.1477688,
          -0.17328438,
          -0.17815287,
          -0.15996629,
          -0.15514404,
          -0.17328438,
          -0.17328438,
          -0.16875614,
          -0.15999436,
          -0.14950563,
          -0.16217804,
          -0.17328438,
          -0.17328438,
          -0.15514404,
          -0.15996629,
          -0.16541539,
          -0.16499315,
          -0.15999436,
          -0.15996629,
          -0.17815287,
          -0.17838132,
          -0.17328438,
          -0.16541539,
          -0.15999436,
          -0.17328438,
          -0.15189342,
          -0.16541539,
          -0.15999436,
          -0.15996629,
          -0.1693778,
          -0.15514404,
          -0.17328438,
          -0.17838132,
          -0.16925286,
          -0.16217804,
          -0.17328438,
          -0.17028387,
          -0.14950563,
          -0.17079557,
          -0.1693778,
          -0.16541539,
          -0.15996629,
          -0.16875614,
          -0.17328438,
          -0.15996629,
          -0.1477688,
          -0.16649935,
          -0.15999436,
          -0.17838132,
          -0.14950563,
          -0.17328438,
          -0.16217804,
          -0.1693778,
          -0.1807704,
          -0.1693778,
          -0.17079557,
          -0.17838132,
          -0.17838132,
          -0.15189342,
          -0.15996629,
          -0.1477688,
          -0.15999436,
          -0.17328438,
          -0.15996629,
          -0.16217804,
          -0.17328438,
          -0.15999436,
          -0.16875614,
          -0.16875614,
          -0.16875614,
          -0.17838132,
          -0.16217804,
          -0.16824946,
          -0.1477688,
          -0.17328438,
          -0.15514404,
          -0.14950563,
          -0.16875614,
          -0.15996629,
          -0.14226112,
          -0.1477688,
          -0.16875614,
          -0.1477688,
          -0.13616553,
          -0.16875614,
          -0.16107953,
          -0.1477688,
          -0.16925286,
          -0.1477688,
          -0.14827423,
          -0.16217804,
          -0.17838132,
          -0.15996629,
          -0.15996629,
          -0.15996629,
          -0.16875614,
          -0.15996629,
          -0.15999436,
          -0.15996629,
          -0.16875614,
          -0.15999436,
          -0.1477688,
          -0.15996629,
          -0.1477688,
          -0.17328438,
          -0.17328438,
          -0.16875614,
          -0.16541539,
          -0.15996629,
          -0.15999436,
          -0.16875614,
          -0.15514404,
          -0.17412162,
          -0.14950563,
          -0.17758833,
          -0.17328438,
          -0.16875614,
          -0.16925286,
          -0.17838132,
          -0.16875614,
          -0.15996629,
          -0.1477688,
          -0.16925286,
          -0.15514404,
          -0.15996629,
          -0.1807704,
          -0.16875614,
          -0.16875614,
          -0.15996629,
          -0.16875614,
          -0.16824946,
          -0.16541539,
          -0.16875614,
          -0.16541539,
          -0.18646093,
          -0.16875614,
          -0.17108765,
          -0.18646093,
          -0.15999436,
          -0.16033491,
          -0.15996629,
          -0.12853603,
          -0.12984966,
          -0.121457696,
          -0.121457696,
          -0.12318163,
          -0.13335958,
          -0.12029709,
          -0.121457696,
          -0.12832296,
          -0.12734725,
          -0.12832296,
          -0.11231882,
          -0.13084668,
          -0.11992331,
          -0.1183312,
          -0.12156988,
          -0.12890616,
          -0.12984966,
          -0.12350992,
          -0.12734725,
          -0.13154395,
          -0.1157126,
          -0.13394278,
          -0.11357299,
          -0.12281592,
          -0.12350992,
          -0.1157126,
          -0.12029709,
          -0.12984966,
          -0.12318163,
          -0.12157549,
          -0.11949244,
          -0.12029709,
          -0.1298056,
          -0.1157126,
          -0.13154395,
          -0.12984966,
          -0.11392273,
          -0.13335958,
          -0.12230162,
          -0.12777811,
          -0.12157549,
          -0.12350992,
          -0.12803148,
          -0.12984966,
          -0.1157126,
          -0.1341482,
          -0.12350992,
          -0.121457696,
          -0.1183312,
          -0.12029709,
          -0.121457696,
          -0.121457696,
          -0.10756062,
          -0.121457696,
          -0.12734725,
          -0.12984966,
          -0.12318163,
          -0.12777811,
          -0.12853603,
          -0.12350992,
          -0.116991006,
          -0.12029709,
          -0.13394278,
          -0.12890616,
          -0.11357299,
          -0.12281592,
          -0.13130704,
          -0.121457696,
          -0.11231882,
          -0.121457696,
          -0.121457696,
          -0.13154395,
          -0.12803148,
          -0.12777811,
          -0.12029709,
          -0.12029709,
          -0.12984966,
          -0.1183312,
          -0.12318163,
          -0.11855542,
          -0.13154395,
          -0.11357299,
          -0.12984966,
          -0.13394278,
          -0.12029709,
          -0.12029709,
          -0.121457696,
          -0.12890616,
          -0.11855542,
          -0.1183312,
          -0.12777811,
          -0.13335958,
          -0.117345184,
          -0.12803148,
          -0.121457696,
          -0.12029709,
          -0.12777811,
          -0.11855542,
          -0.11992331,
          -0.13335958,
          -0.12350992,
          -0.12157549,
          -0.12350992,
          -0.13394278,
          -0.12029709,
          -0.12984966,
          -0.12350992,
          -0.12984966,
          -0.11855542,
          -0.116991006,
          -0.1183312,
          -0.12156988,
          -0.116991006,
          -0.13394278,
          -0.13335958,
          -0.12029709,
          -0.12832296,
          -0.12350992,
          -0.12734725,
          -0.11992331,
          -0.12350992,
          -0.1157126,
          -0.121457696,
          -0.13394278,
          -0.12890616,
          -0.12919141,
          -0.12984966,
          -0.12803148,
          -0.121457696,
          -0.12919141,
          -0.12777811,
          -0.13084668,
          -0.12803148,
          -0.12029709,
          -0.12984966,
          -0.12350992,
          -0.1157126,
          -0.12350992,
          -0.1183312,
          -0.116991006,
          -0.11387704,
          -0.12832296,
          -0.12350992,
          -0.12984966,
          -0.12230162,
          -0.12029709,
          -0.13335958,
          -0.13394278,
          -0.13394278,
          -0.13154395,
          -0.12281592,
          -0.13394278,
          -0.12157549,
          -0.121457696,
          -0.13335958,
          -0.11699749,
          -0.116991006,
          -0.121457696,
          -0.1183312,
          -0.12777811,
          -0.121457696,
          -0.11992331,
          -0.12984966,
          -0.12029709,
          -0.13136375,
          -0.12281592,
          -0.1213214,
          -0.12984966,
          -0.13154395,
          -0.12984966,
          -0.12230162,
          -0.13084668,
          -0.13154395,
          -0.12777811,
          -0.13394278,
          -0.121457696,
          -0.12777811,
          -0.12853603,
          -0.12029709,
          -0.13394278,
          -0.13335958,
          -0.12984966,
          -0.12029709,
          -0.121457696,
          -0.13084668,
          -0.12984966,
          -0.13337484,
          -0.13337484,
          -0.12281592,
          -0.115454994,
          -0.12734725,
          -0.121457696,
          -0.1341482,
          -0.121457696,
          -0.13154395,
          -0.121457696,
          -0.11855542,
          -0.12281592,
          -0.117345184,
          -0.12029709,
          -0.1183312,
          -0.13154395,
          -0.12984966,
          -0.11855542,
          -0.121457696,
          -0.121457696,
          -0.12029709,
          -0.12029709,
          -0.12734725,
          -0.12029709,
          -0.11231882,
          -0.11855542,
          -0.12350992,
          -0.1183312,
          -0.12029709,
          -0.12029709,
          -0.13394278,
          -0.12029709,
          -0.13084668,
          -0.13394278,
          -0.12156988,
          -0.1183312,
          -0.13394278,
          -0.11699749,
          -0.13394278,
          -0.13394278,
          -0.12281592,
          -0.13394278,
          -0.1157126,
          -0.121457696,
          -0.121457696,
          -0.12157549,
          -0.1183312,
          -0.12853603,
          -0.12029709,
          -0.13394278,
          -0.12318163,
          -0.1290285,
          -0.12984966,
          -0.121457696,
          -0.12984966,
          -0.12029709,
          -0.11855542,
          -0.121457696,
          -0.12984966,
          -0.13394278,
          -0.121457696,
          -0.12029709,
          -0.11231882,
          -0.12777811,
          -0.13394278,
          -0.12318163,
          -0.11387704,
          -0.13394278,
          -0.13394278,
          -0.13084668,
          -0.115639254,
          -0.12984966,
          -0.12984966,
          -0.12157549,
          -0.13335958,
          -0.12777811,
          -0.12029709,
          -0.121457696,
          -0.13084668,
          -0.11231882,
          -0.11992331,
          -0.13394278,
          -0.13394278,
          -0.12350992,
          -0.1183312,
          -0.12984966,
          -0.10756062,
          -0.12029709,
          -0.11855542,
          -0.12281592,
          -0.12984966,
          -0.12984966,
          -0.121457696,
          -0.12350992,
          -0.1157126,
          -0.12777811,
          -0.12984966,
          -0.116991006,
          -0.12984966,
          -0.12157549,
          -0.11855542,
          -0.12029709,
          -0.13084668,
          -0.12350992,
          -0.11699749,
          -0.12029709,
          -0.13394278,
          -0.12984966,
          -0.13084668,
          -0.12350992,
          -0.12984966,
          -0.115639254,
          -0.13084668,
          -0.12350992,
          -0.12029709,
          -0.12318163,
          -0.116991006,
          -0.11855542,
          -0.12984966,
          -0.12890616,
          -0.13394278,
          -0.13335958,
          -0.12281592,
          -0.12777811,
          -0.12984966,
          -0.1157126,
          -0.12318163,
          -0.13084668,
          -0.12029709,
          -0.121457696,
          -0.12984966,
          -0.12029709,
          -0.1183312,
          -0.13130704,
          -0.12350992,
          -0.10756062,
          -0.13394278,
          -0.1157126,
          -0.12984966,
          -0.12803148,
          -0.11949244,
          -0.12777811,
          -0.12318163,
          -0.13154395,
          -0.12318163,
          -0.13394278,
          -0.13394278,
          -0.115639254,
          -0.12029709,
          -0.1183312,
          -0.12350992,
          -0.11540514,
          -0.12984966,
          -0.11507098,
          -0.12029709,
          -0.12777811,
          -0.12984966,
          -0.12350992,
          -0.10756062,
          -0.121457696,
          -0.12156988,
          -0.121457696,
          -0.121457696,
          -0.13394278,
          -0.12777811,
          -0.11387704,
          -0.12853603,
          -0.12832296,
          -0.1183312,
          -0.12984966,
          -0.11855542,
          -0.1157126,
          -0.121457696,
          -0.12029709,
          -0.1183312,
          -0.121457696,
          -0.1183312,
          -0.11231882,
          -0.121457696,
          -0.12939881,
          -0.1183312,
          -0.13335958,
          -0.1183312,
          -0.117345184,
          -0.12777811,
          -0.13394278,
          -0.11699749,
          -0.12029709,
          -0.12029709,
          -0.12029709,
          -0.121457696,
          -0.12029709,
          -0.12350992,
          -0.12029709,
          -0.121457696,
          -0.12350992,
          -0.11357299,
          -0.12281592,
          -0.1183312,
          -0.12029709,
          -0.12832296,
          -0.1183312,
          -0.12984966,
          -0.12984966,
          -0.121457696,
          -0.13084668,
          -0.12029709,
          -0.12350992,
          -0.121457696,
          -0.11855542,
          -0.1157126,
          -0.12984966,
          -0.121457696,
          -0.13335958,
          -0.13394278,
          -0.121457696,
          -0.12029709,
          -0.116991006,
          -0.1183312,
          -0.13335958,
          -0.11855542,
          -0.12029709,
          -0.13154395,
          -0.121457696,
          -0.121457696,
          -0.12029709,
          -0.121457696,
          -0.12853603,
          -0.13084668,
          -0.121457696,
          -0.13084668,
          -0.1341482,
          -0.121457696,
          -0.12803148,
          -0.13337484,
          -0.1341482,
          -0.12350992,
          -0.12029709,
          -0.12919141,
          -0.24948809,
          -0.2428922,
          -0.22391975,
          -0.22391975,
          -0.2377961,
          -0.22213972,
          -0.22391975,
          -0.2382259,
          -0.24129274,
          -0.22930023,
          -0.22328974,
          -0.24643712,
          -0.2428922,
          -0.2357713,
          -0.23935457,
          -0.25744352,
          -0.21817912,
          -0.2088378,
          -0.2357713,
          -0.22213972,
          -0.2428922,
          -0.2377961,
          -0.2109114,
          -0.22213972,
          -0.22574773,
          -0.20068088,
          -0.23935457,
          -0.2428922,
          -0.22032833,
          -0.25184825,
          -0.2509387,
          -0.2109114,
          -0.2357713,
          -0.23313901,
          -0.2427433,
          -0.2428922,
          -0.25415066,
          -0.2357713,
          -0.22391975,
          -0.22930023,
          -0.22213972,
          -0.22391975,
          -0.22391975,
          -0.22391975,
          -0.23008153,
          -0.2428922,
          -0.2377961,
          -0.2509387,
          -0.24948809,
          -0.2357713,
          -0.22213972,
          -0.25744352,
          -0.24643712,
          -0.21817912,
          -0.19100605,
          -0.2088378,
          -0.22391975,
          -0.2017396,
          -0.22391975,
          -0.22391975,
          -0.23935457,
          -0.23313901,
          -0.2509387,
          -0.22213972,
          -0.22213972,
          -0.2428922,
          -0.22930023,
          -0.2377961,
          -0.23316725,
          -0.23935457,
          -0.21817912,
          -0.2428922,
          -0.25744352,
          -0.22213972,
          -0.22213972,
          -0.22391975,
          -0.24643712,
          -0.23316725,
          -0.22930023,
          -0.22032833,
          -0.2509387,
          -0.19430414,
          -0.23313901,
          -0.22391975,
          -0.22213972,
          -0.2509387,
          -0.23316725,
          -0.24129274,
          -0.2357713,
          -0.2017396,
          -0.2109114,
          -0.22032833,
          -0.2357713,
          -0.25744352,
          -0.22213972,
          -0.2428922,
          -0.19430414,
          -0.2357713,
          -0.2428922,
          -0.23316725,
          -0.20553246,
          -0.22930023,
          -0.20553246,
          -0.22328974,
          -0.25744352,
          -0.22213972,
          -0.2357713,
          -0.24129274,
          -0.2357713,
          -0.20842707,
          -0.23008153,
          -0.22391975,
          -0.2427433,
          -0.25744352,
          -0.24643712,
          -0.2392906,
          -0.2428922,
          -0.23313901,
          -0.22391975,
          -0.2392906,
          -0.2509387,
          -0.23313901,
          -0.24715623,
          -0.22213972,
          -0.2428922,
          -0.2357713,
          -0.2357713,
          -0.22930023,
          -0.21819252,
          -0.23008153,
          -0.2357713,
          -0.2428922,
          -0.25184825,
          -0.22213972,
          -0.25744352,
          -0.20553246,
          -0.25744352,
          -0.23935457,
          -0.2088378,
          -0.25744352,
          -0.2109114,
          -0.22391975,
          -0.22391975,
          -0.22930023,
          -0.2509387,
          -0.22391975,
          -0.24129274,
          -0.2428922,
          -0.22213972,
          -0.2088378,
          -0.22146092,
          -0.2428922,
          -0.23935457,
          -0.2428922,
          -0.25184825,
          -0.23935457,
          -0.2509387,
          -0.25744352,
          -0.22391975,
          -0.2509387,
          -0.24948809,
          -0.22213972,
          -0.25744352,
          -0.2428922,
          -0.22213972,
          -0.22391975,
          -0.2428922,
          -0.26274747,
          -0.26274747,
          -0.2088378,
          -0.19100605,
          -0.22391975,
          -0.25415066,
          -0.22391975,
          -0.23008153,
          -0.23935457,
          -0.22391975,
          -0.23316725,
          -0.2088378,
          -0.22213972,
          -0.22930023,
          -0.23935457,
          -0.2428922,
          -0.19430414,
          -0.22032833,
          -0.23316725,
          -0.22391975,
          -0.22391975,
          -0.22213972,
          -0.22213972,
          -0.22213972,
          -0.20608799,
          -0.23316725,
          -0.2357713,
          -0.22930023,
          -0.22213972,
          -0.22213972,
          -0.25744352,
          -0.22213972,
          -0.25744352,
          -0.22328974,
          -0.22930023,
          -0.25744352,
          -0.25744352,
          -0.25744352,
          -0.2088378,
          -0.25744352,
          -0.22391975,
          -0.20553246,
          -0.22391975,
          -0.23173688,
          -0.2109114,
          -0.22930023,
          -0.24948809,
          -0.22213972,
          -0.25744352,
          -0.2377961,
          -0.2428922,
          -0.22391975,
          -0.2428922,
          -0.22213972,
          -0.23316725,
          -0.22391975,
          -0.2428922,
          -0.25744352,
          -0.22391975,
          -0.22213972,
          -0.2509387,
          -0.20068088,
          -0.25744352,
          -0.2377961,
          -0.21819252,
          -0.25744352,
          -0.25744352,
          -0.2428922,
          -0.2428922,
          -0.2109114,
          -0.2509387,
          -0.22213972,
          -0.22391975,
          -0.24129274,
          -0.25744352,
          -0.21807477,
          -0.20608799,
          -0.25744352,
          -0.2357713,
          -0.20479295,
          -0.20553246,
          -0.22930023,
          -0.2428922,
          -0.23008153,
          -0.22213972,
          -0.23316725,
          -0.2088378,
          -0.2428922,
          -0.23173688,
          -0.2428922,
          -0.22391975,
          -0.2357713,
          -0.2509387,
          -0.2428922,
          -0.2428922,
          -0.2109114,
          -0.23316725,
          -0.22213972,
          -0.2017396,
          -0.2357713,
          -0.22213972,
          -0.23008153,
          -0.25744352,
          -0.2428922,
          -0.2357713,
          -0.2428922,
          -0.2357713,
          -0.22213972,
          -0.2377961,
          -0.23316725,
          -0.2428922,
          -0.23173688,
          -0.24643712,
          -0.25744352,
          -0.2088378,
          -0.2509387,
          -0.2428922,
          -0.23173688,
          -0.20553246,
          -0.2377961,
          -0.22213972,
          -0.22391975,
          -0.2428922,
          -0.22213972,
          -0.22930023,
          -0.2357713,
          -0.25744352,
          -0.2428922,
          -0.23313901,
          -0.2509387,
          -0.2377961,
          -0.23935457,
          -0.2377961,
          -0.20553246,
          -0.25744352,
          -0.22759108,
          -0.25744352,
          -0.22213972,
          -0.22930023,
          -0.2357713,
          -0.22759108,
          -0.2428922,
          -0.2278149,
          -0.22213972,
          -0.2509387,
          -0.2428922,
          -0.2357713,
          -0.22391975,
          -0.22328974,
          -0.22391975,
          -0.22391975,
          -0.25744352,
          -0.2509387,
          -0.21819252,
          -0.24948809,
          -0.22930023,
          -0.2428922,
          -0.23316725,
          -0.22391975,
          -0.22213972,
          -0.22930023,
          -0.22391975,
          -0.22930023,
          -0.22391975,
          -0.22930023,
          -0.22930023,
          -0.2509387,
          -0.25744352,
          -0.22213972,
          -0.22213972,
          -0.22213972,
          -0.22391975,
          -0.22213972,
          -0.2357713,
          -0.22213972,
          -0.22391975,
          -0.2357713,
          -0.21817912,
          -0.2088378,
          -0.22930023,
          -0.22213972,
          -0.22930023,
          -0.2428922,
          -0.2428922,
          -0.22391975,
          -0.22213972,
          -0.2357713,
          -0.22391975,
          -0.23316725,
          -0.2427433,
          -0.20608799,
          -0.2428922,
          -0.22391975,
          -0.25744352,
          -0.22391975,
          -0.22213972,
          -0.22930023,
          -0.23316725,
          -0.22213972,
          -0.23935457,
          -0.22391975,
          -0.22391975,
          -0.22213972,
          -0.22391975,
          -0.24948809,
          -0.22391975,
          -0.25415066,
          -0.22391975,
          -0.23313901,
          -0.26274747,
          -0.25415066,
          -0.2357713,
          -0.22213972,
          -0.2392906,
          -0.33047947,
          -0.30828515,
          -0.34716147,
          -0.34284106,
          -0.35378832,
          -0.30828515,
          -0.38182414,
          -0.33274794,
          -0.40712586,
          -0.28326648,
          -0.31827193,
          -0.35378832,
          -0.37509102,
          -0.30828515,
          -0.31827193,
          -0.33047947,
          -0.4024852,
          -0.30224434,
          -0.38182414,
          -0.34716147,
          -0.4024852,
          -0.31827193,
          -0.4024852,
          -0.35378832,
          -0.36586383,
          -0.38182414,
          -0.36586383,
          -0.35378832,
          -0.31827193,
          -0.31827193,
          -0.36586383,
          -0.34284106,
          -0.36586383,
          -0.35378832,
          -0.30828515,
          -0.34284106,
          -0.3358153,
          -0.31827193,
          -0.26667616,
          -0.35378832,
          -0.39674866,
          -0.28326648,
          -0.35378832,
          -0.31827193,
          -0.34284106,
          -0.26389796,
          -0.28326648,
          -0.31827193,
          -0.31827193,
          -0.33047947,
          -0.26752815,
          -0.26752815,
          -0.29518923,
          -0.30828515,
          -0.36586383,
          -0.35378832,
          -0.36586383,
          -0.30828515,
          -0.34716147,
          -0.36586383,
          -0.35378832,
          -0.35378832,
          -0.35378832,
          -0.33047947,
          -0.36586383,
          -0.34716147,
          -0.31827193,
          -0.40712586,
          -0.39674866,
          -0.31827193,
          -0.35961312,
          -0.34716147,
          -0.34284106,
          -0.35378832,
          -0.37509102,
          -0.36586383,
          -0.31827193,
          -0.36586383,
          -0.36586383,
          -0.41560712,
          -0.31827193,
          -0.35378832,
          -0.37509102,
          -0.33274794,
          -0.31827193,
          -0.36761373,
          -0.35378832,
          -0.36761373,
          -0.31466445,
          -0.31827193,
          -0.37509102,
          -0.31827193,
          -0.39674866,
          -0.33047947,
          -0.41560712,
          -0.35378832,
          -0.36586383,
          -0.31367642,
          -0.35378832,
          -0.35378832,
          -0.34716147,
          -0.25663817,
          -0.35378832,
          -0.35378832,
          -0.31827193,
          -0.38182414,
          -0.35378832,
          -0.35378832,
          -0.36586383,
          -0.35378832,
          -0.36586383,
          -0.35961312,
          -0.33047947,
          -0.26752815,
          -0.25059244,
          -0.248381,
          -0.248381,
          -0.24597499,
          -0.248381,
          -0.23469897,
          -0.23924327,
          -0.23153552,
          -0.24597499,
          -0.22515248,
          -0.23924327,
          -0.23795377,
          -0.23588948,
          -0.248381,
          -0.248381,
          -0.248381,
          -0.248381,
          -0.24597499,
          -0.25059244,
          -0.23072363,
          -0.23153552,
          -0.25212914,
          -0.248381,
          -0.23106201,
          -0.248381,
          -0.248381,
          -0.23924327,
          -0.24597499,
          -0.259599,
          -0.23924327,
          -0.248381,
          -0.259599,
          -0.248381,
          -0.259599,
          -0.23106201,
          -0.259599,
          -0.248381,
          -0.22015037,
          -0.248381,
          -0.22015037,
          -0.2477199,
          -0.24557076,
          -0.23924327,
          -0.23153552,
          -0.248381,
          -0.2426488,
          -0.248381,
          -0.248381,
          -0.23153552,
          -0.22748119,
          -0.23924327,
          -0.23924327,
          -0.248381,
          -0.25059244,
          -0.248381,
          -0.23153552,
          -0.23072363,
          -0.248381,
          -0.23588948,
          -0.248381,
          -0.23924327,
          -0.248381,
          -0.259599,
          -0.23153552,
          -0.23924327,
          -0.259599,
          -0.248381,
          -0.248381,
          -0.2451742,
          -0.259599,
          -0.2426488,
          -0.23153552,
          -0.248381,
          -0.248381,
          -0.25059244,
          -0.24597499,
          -0.248381,
          -0.259599,
          -0.248381,
          -0.248381,
          -0.24597499,
          -0.24557076,
          -0.24847688,
          -0.24493948,
          -0.248381,
          -0.2471609,
          -0.2451742,
          -0.259599,
          -0.23153552,
          -0.248381,
          -0.259599,
          -0.23106201,
          -0.2426488,
          -0.24847688,
          -0.24597499,
          -0.259599,
          -0.25684845,
          -0.23153552,
          -0.24597499,
          -0.248381,
          -0.25212914,
          -0.24597499,
          -0.23924327,
          -0.24597499,
          -0.24847688,
          -0.24493948,
          -0.248381,
          -0.248381,
          -0.248381,
          -0.24557076,
          -0.25059244,
          -0.25684845,
          -0.259599,
          -0.248381,
          -0.248381,
          -0.248381,
          -0.2402941,
          -0.2426488,
          -0.248381,
          -0.248381,
          -0.23153552,
          -0.248381,
          -0.248381,
          -0.259599,
          -0.2451742,
          -0.248381,
          -0.248381,
          -0.259599,
          -0.23924327,
          -0.248381,
          -0.248381,
          -0.248381,
          -0.25059244,
          -0.248381,
          -0.23588948,
          -0.248381,
          -0.23588948,
          -0.22015037,
          -0.2641066,
          -0.23564897,
          -0.25008747,
          -0.23393922,
          -0.23393922,
          -0.2722809,
          -0.25960234,
          -0.2663875,
          -0.2638768,
          -0.2663875,
          -0.2641066,
          -0.24386455,
          -0.23564897,
          -0.20596652,
          -0.2663875,
          -0.2487467,
          -0.2606598,
          -0.2663875,
          -0.2641066,
          -0.2663875,
          -0.18178554,
          -0.2638768,
          -0.25960234,
          -0.27265805,
          -0.2641066,
          -0.2638768,
          -0.25960234,
          -0.25261092,
          -0.25261092,
          -0.23564897,
          -0.24011482,
          -0.23564897,
          -0.2663875,
          -0.27265805,
          -0.2663875,
          -0.2638768,
          -0.2663875,
          -0.23197582,
          -0.2722809,
          -0.22461401,
          -0.2638768,
          -0.23564897,
          -0.23393922,
          -0.2663875,
          -0.2663875,
          -0.20594141,
          -0.2487467,
          -0.2638768,
          -0.25960234,
          -0.2545428,
          -0.2545428,
          -0.20083329,
          -0.23399444,
          -0.2663875,
          -0.2663875,
          -0.23393922,
          -0.2663875,
          -0.20596652,
          -0.23564897,
          -0.2638768,
          -0.2638768,
          -0.2638768,
          -0.23564897,
          -0.19778094,
          -0.2681575,
          -0.20596652,
          -0.2638768,
          -0.22461401,
          -0.2638768,
          -0.23564897,
          -0.22081605,
          -0.22081605,
          -0.19445299,
          -0.2606598,
          -0.24011482,
          -0.2663875,
          -0.2638768,
          -0.2638768,
          -0.2722809,
          -0.2638768,
          -0.2638768,
          -0.2638768,
          -0.2638768,
          -0.25664908,
          -0.2638768,
          -0.2641066,
          -0.2638768,
          -0.2638768,
          -0.2641066,
          -0.2638768,
          -0.2638768,
          -0.23564897,
          -0.2638768,
          -0.25643024,
          -0.2638768,
          -0.2663875,
          -0.27222365,
          -0.25664908,
          -0.2663875,
          -0.27265805,
          -0.22461401,
          -0.2663875,
          -0.2638768,
          -0.2663875,
          -0.2663875,
          -0.2641066,
          -0.25664908,
          -0.25960234,
          -0.2638768,
          -0.23564897,
          -0.25664908,
          -0.2641066,
          -0.2663875,
          -0.2638768,
          -0.2641066,
          -0.2641066,
          -0.2638768,
          -0.2638768,
          -0.2663875,
          -0.24857295,
          -0.21085127,
          -0.2663875,
          -0.2722809,
          -0.2638768,
          -0.23393922,
          -0.17819251,
          -0.23564897,
          -0.24011482,
          -0.2638768,
          -0.2663875,
          -0.2663875,
          -0.23393922,
          -0.2663875,
          -0.2487467,
          -0.23564897,
          -0.2638768,
          -0.23564897,
          -0.2606598,
          -0.22081605,
          -0.2606598,
          -0.2663875,
          -0.2545428
         ],
         "x0": " ",
         "xaxis": "x",
         "y": [
          "AMT_CREDIT_SUM_disc_int_[967500.0;1017957917.38]",
          "AMT_CREDIT_SUM_disc_int_[967500.0;1017957917.38]",
          "AMT_CREDIT_SUM_disc_int_[967500.0;1017957917.38]",
          "AMT_CREDIT_SUM_disc_int_[967500.0;1017957917.38]",
          "AMT_CREDIT_SUM_disc_int_[967500.0;1017957917.38]",
          "AMT_CREDIT_SUM_disc_int_[967500.0;1017957917.38]",
          "AMT_CREDIT_SUM_disc_int_[967500.0;1017957917.38]",
          "AMT_CREDIT_SUM_disc_int_[967500.0;1017957917.38]",
          "AMT_CREDIT_SUM_disc_int_[967500.0;1017957917.38]",
          "AMT_CREDIT_SUM_disc_int_[967500.0;1017957917.38]",
          "AMT_CREDIT_SUM_disc_int_[967500.0;1017957917.38]",
          "AMT_CREDIT_SUM_disc_int_[967500.0;1017957917.38]",
          "AMT_CREDIT_SUM_disc_int_[967500.0;1017957917.38]",
          "AMT_CREDIT_SUM_disc_int_[967500.0;1017957917.38]",
          "AMT_CREDIT_SUM_disc_int_[967500.0;1017957917.38]",
          "AMT_CREDIT_SUM_disc_int_[967500.0;1017957917.38]",
          "AMT_CREDIT_SUM_disc_int_[967500.0;1017957917.38]",
          "AMT_CREDIT_SUM_disc_int_[967500.0;1017957917.38]",
          "AMT_CREDIT_SUM_disc_int_[967500.0;1017957917.38]",
          "AMT_CREDIT_SUM_disc_int_[967500.0;1017957917.38]",
          "AMT_CREDIT_SUM_disc_int_[967500.0;1017957917.38]",
          "AMT_CREDIT_SUM_disc_int_[967500.0;1017957917.38]",
          "AMT_CREDIT_SUM_disc_int_[967500.0;1017957917.38]",
          "AMT_CREDIT_SUM_disc_int_[967500.0;1017957917.38]",
          "AMT_CREDIT_SUM_disc_int_[967500.0;1017957917.38]",
          "AMT_CREDIT_SUM_disc_int_[967500.0;1017957917.38]",
          "AMT_CREDIT_SUM_disc_int_[967500.0;1017957917.38]",
          "AMT_CREDIT_SUM_disc_int_[967500.0;1017957917.38]",
          "AMT_CREDIT_SUM_disc_int_[967500.0;1017957917.38]",
          "AMT_CREDIT_SUM_disc_int_[967500.0;1017957917.38]",
          "AMT_CREDIT_SUM_disc_int_[967500.0;1017957917.38]",
          "AMT_CREDIT_SUM_disc_int_[967500.0;1017957917.38]",
          "AMT_CREDIT_SUM_disc_int_[967500.0;1017957917.38]",
          "AMT_CREDIT_SUM_disc_int_[967500.0;1017957917.38]",
          "AMT_CREDIT_SUM_disc_int_[967500.0;1017957917.38]",
          "AMT_CREDIT_SUM_disc_int_[967500.0;1017957917.38]",
          "AMT_CREDIT_SUM_disc_int_[967500.0;1017957917.38]",
          "AMT_CREDIT_SUM_disc_int_[967500.0;1017957917.38]",
          "AMT_CREDIT_SUM_disc_int_[967500.0;1017957917.38]",
          "AMT_CREDIT_SUM_disc_int_[967500.0;1017957917.38]",
          "AMT_CREDIT_SUM_disc_int_[967500.0;1017957917.38]",
          "AMT_CREDIT_SUM_disc_int_[967500.0;1017957917.38]",
          "AMT_CREDIT_SUM_disc_int_[967500.0;1017957917.38]",
          "AMT_CREDIT_SUM_disc_int_[967500.0;1017957917.38]",
          "AMT_CREDIT_SUM_disc_int_[967500.0;1017957917.38]",
          "AMT_CREDIT_SUM_disc_int_[967500.0;1017957917.38]",
          "AMT_CREDIT_SUM_disc_int_[967500.0;1017957917.38]",
          "AMT_CREDIT_SUM_disc_int_[967500.0;1017957917.38]",
          "AMT_CREDIT_SUM_disc_int_[967500.0;1017957917.38]",
          "AMT_CREDIT_SUM_disc_int_[967500.0;1017957917.38]",
          "AMT_CREDIT_SUM_disc_int_[967500.0;1017957917.38]",
          "AMT_CREDIT_SUM_disc_int_[967500.0;1017957917.38]",
          "AMT_CREDIT_SUM_disc_int_[967500.0;1017957917.38]",
          "AMT_CREDIT_SUM_disc_int_[967500.0;1017957917.38]",
          "AMT_CREDIT_SUM_disc_int_[967500.0;1017957917.38]",
          "AMT_CREDIT_SUM_disc_int_[967500.0;1017957917.38]",
          "AMT_CREDIT_SUM_disc_int_[967500.0;1017957917.38]",
          "AMT_CREDIT_SUM_disc_int_[967500.0;1017957917.38]",
          "AMT_CREDIT_SUM_disc_int_[967500.0;1017957917.38]",
          "AMT_CREDIT_SUM_disc_int_[967500.0;1017957917.38]",
          "AMT_CREDIT_SUM_disc_int_[967500.0;1017957917.38]",
          "AMT_CREDIT_SUM_disc_int_[967500.0;1017957917.38]",
          "AMT_CREDIT_SUM_disc_int_[967500.0;1017957917.38]",
          "AMT_CREDIT_SUM_disc_int_[967500.0;1017957917.38]",
          "AMT_CREDIT_SUM_disc_int_[967500.0;1017957917.38]",
          "AMT_CREDIT_SUM_disc_int_[967500.0;1017957917.38]",
          "AMT_CREDIT_SUM_disc_int_[967500.0;1017957917.38]",
          "AMT_CREDIT_SUM_disc_int_[967500.0;1017957917.38]",
          "AMT_CREDIT_SUM_disc_int_[967500.0;1017957917.38]",
          "AMT_CREDIT_SUM_disc_int_[967500.0;1017957917.38]",
          "AMT_CREDIT_SUM_disc_int_[967500.0;1017957917.38]",
          "AMT_CREDIT_SUM_disc_int_[967500.0;1017957917.38]",
          "AMT_CREDIT_SUM_disc_int_[967500.0;1017957917.38]",
          "AMT_CREDIT_SUM_disc_int_[967500.0;1017957917.38]",
          "AMT_CREDIT_SUM_disc_int_[967500.0;1017957917.38]",
          "AMT_CREDIT_SUM_disc_int_[967500.0;1017957917.38]",
          "AMT_CREDIT_SUM_disc_int_[967500.0;1017957917.38]",
          "AMT_CREDIT_SUM_disc_int_[967500.0;1017957917.38]",
          "AMT_CREDIT_SUM_disc_int_[967500.0;1017957917.38]",
          "AMT_CREDIT_SUM_disc_int_[967500.0;1017957917.38]",
          "AMT_CREDIT_SUM_disc_int_[967500.0;1017957917.38]",
          "AMT_CREDIT_SUM_disc_int_[967500.0;1017957917.38]",
          "AMT_CREDIT_SUM_disc_int_[967500.0;1017957917.38]",
          "AMT_CREDIT_SUM_disc_int_[967500.0;1017957917.38]",
          "AMT_CREDIT_SUM_disc_int_[967500.0;1017957917.38]",
          "AMT_CREDIT_SUM_disc_int_[967500.0;1017957917.38]",
          "AMT_CREDIT_SUM_disc_int_[967500.0;1017957917.38]",
          "AMT_CREDIT_SUM_disc_int_[967500.0;1017957917.38]",
          "AMT_CREDIT_SUM_disc_int_[967500.0;1017957917.38]",
          "AMT_CREDIT_SUM_disc_int_[967500.0;1017957917.38]",
          "AMT_CREDIT_SUM_disc_int_[967500.0;1017957917.38]",
          "AMT_CREDIT_SUM_disc_int_[967500.0;1017957917.38]",
          "AMT_CREDIT_SUM_disc_int_[967500.0;1017957917.38]",
          "AMT_CREDIT_SUM_disc_int_[967500.0;1017957917.38]",
          "AMT_CREDIT_SUM_disc_int_[967500.0;1017957917.38]",
          "AMT_CREDIT_SUM_disc_int_[967500.0;1017957917.38]",
          "AMT_CREDIT_SUM_disc_int_[967500.0;1017957917.38]",
          "AMT_CREDIT_SUM_disc_int_[967500.0;1017957917.38]",
          "AMT_CREDIT_SUM_disc_int_[967500.0;1017957917.38]",
          "AMT_CREDIT_SUM_disc_int_[967500.0;1017957917.38]",
          "AMT_CREDIT_SUM_disc_int_[967500.0;1017957917.38]",
          "AMT_CREDIT_SUM_disc_int_[967500.0;1017957917.38]",
          "AMT_CREDIT_SUM_disc_int_[967500.0;1017957917.38]",
          "AMT_CREDIT_SUM_disc_int_[967500.0;1017957917.38]",
          "AMT_CREDIT_SUM_disc_int_[967500.0;1017957917.38]",
          "AMT_CREDIT_SUM_disc_int_[967500.0;1017957917.38]",
          "AMT_CREDIT_SUM_disc_int_[967500.0;1017957917.38]",
          "AMT_CREDIT_SUM_disc_int_[967500.0;1017957917.38]",
          "AMT_CREDIT_SUM_disc_int_[967500.0;1017957917.38]",
          "AMT_CREDIT_SUM_disc_int_[967500.0;1017957917.38]",
          "AMT_CREDIT_SUM_disc_int_[967500.0;1017957917.38]",
          "AMT_CREDIT_SUM_disc_int_[967500.0;1017957917.38]",
          "AMT_CREDIT_SUM_disc_int_[967500.0;1017957917.38]",
          "AMT_CREDIT_SUM_disc_int_[967500.0;1017957917.38]",
          "AMT_CREDIT_SUM_disc_int_[967500.0;1017957917.38]",
          "AMT_CREDIT_SUM_disc_int_[967500.0;1017957917.38]",
          "AMT_CREDIT_SUM_disc_int_[967500.0;1017957917.38]",
          "AMT_CREDIT_SUM_disc_int_[967500.0;1017957917.38]",
          "AMT_CREDIT_SUM_disc_int_[967500.0;1017957917.38]",
          "AMT_CREDIT_SUM_disc_int_[967500.0;1017957917.38]",
          "AMT_CREDIT_SUM_disc_int_[967500.0;1017957917.38]",
          "AMT_CREDIT_SUM_disc_int_[967500.0;1017957917.38]",
          "AMT_CREDIT_SUM_disc_int_[967500.0;1017957917.38]",
          "AMT_CREDIT_SUM_disc_int_[967500.0;1017957917.38]",
          "AMT_CREDIT_SUM_disc_int_[967500.0;1017957917.38]",
          "AMT_CREDIT_SUM_disc_int_[967500.0;1017957917.38]",
          "AMT_CREDIT_SUM_disc_int_[967500.0;1017957917.38]",
          "AMT_CREDIT_SUM_disc_int_[967500.0;1017957917.38]",
          "AMT_CREDIT_SUM_disc_int_[967500.0;1017957917.38]",
          "AMT_CREDIT_SUM_disc_int_[967500.0;1017957917.38]",
          "AMT_CREDIT_SUM_disc_int_[967500.0;1017957917.38]",
          "AMT_CREDIT_SUM_disc_int_[967500.0;1017957917.38]",
          "AMT_CREDIT_SUM_disc_int_[967500.0;1017957917.38]",
          "AMT_CREDIT_SUM_disc_int_[967500.0;1017957917.38]",
          "AMT_CREDIT_SUM_disc_int_[967500.0;1017957917.38]",
          "AMT_CREDIT_SUM_disc_int_[967500.0;1017957917.38]",
          "AMT_CREDIT_SUM_disc_int_[967500.0;1017957917.38]",
          "AMT_CREDIT_SUM_disc_int_[967500.0;1017957917.38]",
          "AMT_CREDIT_SUM_disc_int_[967500.0;1017957917.38]",
          "AMT_CREDIT_SUM_disc_int_[967500.0;1017957917.38]",
          "AMT_CREDIT_SUM_disc_int_[967500.0;1017957917.38]",
          "AMT_CREDIT_SUM_disc_int_[967500.0;1017957917.38]",
          "AMT_CREDIT_SUM_disc_int_[967500.0;1017957917.38]",
          "AMT_CREDIT_SUM_disc_int_[967500.0;1017957917.38]",
          "AMT_CREDIT_SUM_disc_int_[967500.0;1017957917.38]",
          "AMT_CREDIT_SUM_disc_int_[967500.0;1017957917.38]",
          "AMT_CREDIT_SUM_disc_int_[967500.0;1017957917.38]",
          "AMT_CREDIT_SUM_disc_int_[967500.0;1017957917.38]",
          "AMT_CREDIT_SUM_disc_int_[967500.0;1017957917.38]",
          "AMT_CREDIT_SUM_disc_int_[967500.0;1017957917.38]",
          "AMT_CREDIT_SUM_disc_int_[967500.0;1017957917.38]",
          "AMT_CREDIT_SUM_disc_int_[967500.0;1017957917.38]",
          "AMT_CREDIT_SUM_disc_int_[967500.0;1017957917.38]",
          "AMT_CREDIT_SUM_disc_int_[967500.0;1017957917.38]",
          "AMT_CREDIT_SUM_disc_int_[967500.0;1017957917.38]",
          "AMT_CREDIT_SUM_disc_int_[967500.0;1017957917.38]",
          "AMT_CREDIT_SUM_disc_int_[967500.0;1017957917.38]",
          "AMT_CREDIT_SUM_disc_int_[967500.0;1017957917.38]",
          "AMT_CREDIT_SUM_disc_int_[967500.0;1017957917.38]",
          "AMT_CREDIT_SUM_disc_int_[967500.0;1017957917.38]",
          "AMT_CREDIT_SUM_disc_int_[967500.0;1017957917.38]",
          "AMT_CREDIT_SUM_disc_int_[967500.0;1017957917.38]",
          "AMT_CREDIT_SUM_disc_int_[967500.0;1017957917.38]",
          "AMT_CREDIT_SUM_disc_int_[967500.0;1017957917.38]",
          "AMT_CREDIT_SUM_disc_int_[967500.0;1017957917.38]",
          "AMT_CREDIT_SUM_disc_int_[967500.0;1017957917.38]",
          "AMT_CREDIT_SUM_disc_int_[967500.0;1017957917.38]",
          "AMT_CREDIT_SUM_disc_int_[967500.0;1017957917.38]",
          "AMT_CREDIT_SUM_disc_int_[967500.0;1017957917.38]",
          "AMT_CREDIT_SUM_disc_int_[967500.0;1017957917.38]",
          "AMT_CREDIT_SUM_disc_int_[967500.0;1017957917.38]",
          "AMT_CREDIT_SUM_disc_int_[967500.0;1017957917.38]",
          "AMT_CREDIT_SUM_disc_int_[967500.0;1017957917.38]",
          "AMT_CREDIT_SUM_disc_int_[967500.0;1017957917.38]",
          "AMT_CREDIT_SUM_disc_int_[967500.0;1017957917.38]",
          "AMT_CREDIT_SUM_disc_int_[967500.0;1017957917.38]",
          "AMT_CREDIT_SUM_disc_int_[967500.0;1017957917.38]",
          "AMT_CREDIT_SUM_disc_int_[967500.0;1017957917.38]",
          "AMT_CREDIT_SUM_disc_int_[967500.0;1017957917.38]",
          "AMT_CREDIT_SUM_disc_int_[967500.0;1017957917.38]",
          "AMT_CREDIT_SUM_disc_int_[967500.0;1017957917.38]",
          "AMT_CREDIT_SUM_disc_int_[967500.0;1017957917.38]",
          "AMT_CREDIT_SUM_disc_int_[967500.0;1017957917.38]",
          "AMT_CREDIT_SUM_disc_int_[967500.0;1017957917.38]",
          "AMT_CREDIT_SUM_disc_int_[967500.0;1017957917.38]",
          "AMT_CREDIT_SUM_disc_int_[967500.0;1017957917.38]",
          "AMT_CREDIT_SUM_disc_int_[967500.0;1017957917.38]",
          "AMT_CREDIT_SUM_disc_int_[967500.0;1017957917.38]",
          "AMT_CREDIT_SUM_disc_int_[967500.0;1017957917.38]",
          "AMT_CREDIT_SUM_disc_int_[967500.0;1017957917.38]",
          "AMT_CREDIT_SUM_disc_int_[967500.0;1017957917.38]",
          "AMT_CREDIT_SUM_disc_int_[967500.0;1017957917.38]",
          "AMT_CREDIT_SUM_disc_int_[967500.0;1017957917.38]",
          "AMT_CREDIT_SUM_disc_int_[967500.0;1017957917.38]",
          "AMT_CREDIT_SUM_disc_int_[967500.0;1017957917.38]",
          "AMT_CREDIT_SUM_disc_int_[967500.0;1017957917.38]",
          "AMT_CREDIT_SUM_disc_int_[967500.0;1017957917.38]",
          "AMT_CREDIT_SUM_disc_int_[967500.0;1017957917.38]",
          "AMT_CREDIT_SUM_disc_int_[967500.0;1017957917.38]",
          "AMT_CREDIT_SUM_disc_int_[967500.0;1017957917.38]",
          "AMT_CREDIT_SUM_disc_int_[967500.0;1017957917.38]",
          "AMT_CREDIT_SUM_disc_int_[967500.0;1017957917.38]",
          "AMT_CREDIT_SUM_disc_int_[967500.0;1017957917.38]",
          "AMT_CREDIT_SUM_disc_int_[967500.0;1017957917.38]",
          "AMT_CREDIT_SUM_disc_int_[967500.0;1017957917.38]",
          "AMT_CREDIT_SUM_disc_int_[967500.0;1017957917.38]",
          "AMT_CREDIT_SUM_disc_int_[967500.0;1017957917.38]",
          "AMT_CREDIT_SUM_disc_int_[967500.0;1017957917.38]",
          "AMT_CREDIT_SUM_disc_int_[967500.0;1017957917.38]",
          "AMT_CREDIT_SUM_disc_int_[967500.0;1017957917.38]",
          "AMT_CREDIT_SUM_disc_int_[967500.0;1017957917.38]",
          "AMT_CREDIT_SUM_disc_int_[967500.0;1017957917.38]",
          "AMT_CREDIT_SUM_disc_int_[967500.0;1017957917.38]",
          "AMT_CREDIT_SUM_disc_int_[967500.0;1017957917.38]",
          "AMT_CREDIT_SUM_disc_int_[967500.0;1017957917.38]",
          "AMT_CREDIT_SUM_disc_int_[967500.0;1017957917.38]",
          "AMT_CREDIT_SUM_disc_int_[967500.0;1017957917.38]",
          "EXT_SOURCE_2_disc_int_[0.38;0.85]",
          "EXT_SOURCE_2_disc_int_[0.38;0.85]",
          "EXT_SOURCE_2_disc_int_[0.38;0.85]",
          "EXT_SOURCE_2_disc_int_[0.38;0.85]",
          "EXT_SOURCE_2_disc_int_[0.38;0.85]",
          "EXT_SOURCE_2_disc_int_[0.38;0.85]",
          "EXT_SOURCE_2_disc_int_[0.38;0.85]",
          "EXT_SOURCE_2_disc_int_[0.38;0.85]",
          "EXT_SOURCE_2_disc_int_[0.38;0.85]",
          "EXT_SOURCE_2_disc_int_[0.38;0.85]",
          "EXT_SOURCE_2_disc_int_[0.38;0.85]",
          "EXT_SOURCE_2_disc_int_[0.38;0.85]",
          "EXT_SOURCE_2_disc_int_[0.38;0.85]",
          "EXT_SOURCE_2_disc_int_[0.38;0.85]",
          "EXT_SOURCE_2_disc_int_[0.38;0.85]",
          "EXT_SOURCE_2_disc_int_[0.38;0.85]",
          "EXT_SOURCE_2_disc_int_[0.38;0.85]",
          "EXT_SOURCE_2_disc_int_[0.38;0.85]",
          "EXT_SOURCE_2_disc_int_[0.38;0.85]",
          "EXT_SOURCE_2_disc_int_[0.38;0.85]",
          "EXT_SOURCE_2_disc_int_[0.38;0.85]",
          "EXT_SOURCE_2_disc_int_[0.38;0.85]",
          "EXT_SOURCE_2_disc_int_[0.38;0.85]",
          "EXT_SOURCE_2_disc_int_[0.38;0.85]",
          "EXT_SOURCE_2_disc_int_[0.38;0.85]",
          "EXT_SOURCE_2_disc_int_[0.38;0.85]",
          "EXT_SOURCE_2_disc_int_[0.38;0.85]",
          "EXT_SOURCE_2_disc_int_[0.38;0.85]",
          "EXT_SOURCE_2_disc_int_[0.38;0.85]",
          "EXT_SOURCE_2_disc_int_[0.38;0.85]",
          "EXT_SOURCE_2_disc_int_[0.38;0.85]",
          "EXT_SOURCE_2_disc_int_[0.38;0.85]",
          "EXT_SOURCE_2_disc_int_[0.38;0.85]",
          "EXT_SOURCE_2_disc_int_[0.38;0.85]",
          "EXT_SOURCE_2_disc_int_[0.38;0.85]",
          "EXT_SOURCE_2_disc_int_[0.38;0.85]",
          "EXT_SOURCE_2_disc_int_[0.38;0.85]",
          "EXT_SOURCE_2_disc_int_[0.38;0.85]",
          "EXT_SOURCE_2_disc_int_[0.38;0.85]",
          "EXT_SOURCE_2_disc_int_[0.38;0.85]",
          "EXT_SOURCE_2_disc_int_[0.38;0.85]",
          "EXT_SOURCE_2_disc_int_[0.38;0.85]",
          "EXT_SOURCE_2_disc_int_[0.38;0.85]",
          "EXT_SOURCE_2_disc_int_[0.38;0.85]",
          "EXT_SOURCE_2_disc_int_[0.38;0.85]",
          "EXT_SOURCE_2_disc_int_[0.38;0.85]",
          "EXT_SOURCE_2_disc_int_[0.38;0.85]",
          "EXT_SOURCE_2_disc_int_[0.38;0.85]",
          "EXT_SOURCE_2_disc_int_[0.38;0.85]",
          "EXT_SOURCE_2_disc_int_[0.38;0.85]",
          "EXT_SOURCE_2_disc_int_[0.38;0.85]",
          "EXT_SOURCE_2_disc_int_[0.38;0.85]",
          "EXT_SOURCE_2_disc_int_[0.38;0.85]",
          "EXT_SOURCE_2_disc_int_[0.38;0.85]",
          "EXT_SOURCE_2_disc_int_[0.38;0.85]",
          "EXT_SOURCE_2_disc_int_[0.38;0.85]",
          "EXT_SOURCE_2_disc_int_[0.38;0.85]",
          "EXT_SOURCE_2_disc_int_[0.38;0.85]",
          "EXT_SOURCE_2_disc_int_[0.38;0.85]",
          "EXT_SOURCE_2_disc_int_[0.38;0.85]",
          "EXT_SOURCE_2_disc_int_[0.38;0.85]",
          "EXT_SOURCE_2_disc_int_[0.38;0.85]",
          "EXT_SOURCE_2_disc_int_[0.38;0.85]",
          "EXT_SOURCE_2_disc_int_[0.38;0.85]",
          "EXT_SOURCE_2_disc_int_[0.38;0.85]",
          "EXT_SOURCE_2_disc_int_[0.38;0.85]",
          "EXT_SOURCE_2_disc_int_[0.38;0.85]",
          "EXT_SOURCE_2_disc_int_[0.38;0.85]",
          "EXT_SOURCE_2_disc_int_[0.38;0.85]",
          "EXT_SOURCE_2_disc_int_[0.38;0.85]",
          "EXT_SOURCE_2_disc_int_[0.38;0.85]",
          "EXT_SOURCE_2_disc_int_[0.38;0.85]",
          "EXT_SOURCE_2_disc_int_[0.38;0.85]",
          "EXT_SOURCE_2_disc_int_[0.38;0.85]",
          "EXT_SOURCE_2_disc_int_[0.38;0.85]",
          "EXT_SOURCE_2_disc_int_[0.38;0.85]",
          "EXT_SOURCE_2_disc_int_[0.38;0.85]",
          "EXT_SOURCE_2_disc_int_[0.38;0.85]",
          "EXT_SOURCE_2_disc_int_[0.38;0.85]",
          "EXT_SOURCE_2_disc_int_[0.38;0.85]",
          "EXT_SOURCE_2_disc_int_[0.38;0.85]",
          "EXT_SOURCE_2_disc_int_[0.38;0.85]",
          "EXT_SOURCE_2_disc_int_[0.38;0.85]",
          "EXT_SOURCE_2_disc_int_[0.38;0.85]",
          "EXT_SOURCE_2_disc_int_[0.38;0.85]",
          "EXT_SOURCE_2_disc_int_[0.38;0.85]",
          "EXT_SOURCE_2_disc_int_[0.38;0.85]",
          "EXT_SOURCE_2_disc_int_[0.38;0.85]",
          "EXT_SOURCE_2_disc_int_[0.38;0.85]",
          "EXT_SOURCE_2_disc_int_[0.38;0.85]",
          "EXT_SOURCE_2_disc_int_[0.38;0.85]",
          "EXT_SOURCE_2_disc_int_[0.38;0.85]",
          "EXT_SOURCE_2_disc_int_[0.38;0.85]",
          "EXT_SOURCE_2_disc_int_[0.38;0.85]",
          "EXT_SOURCE_2_disc_int_[0.38;0.85]",
          "EXT_SOURCE_2_disc_int_[0.38;0.85]",
          "EXT_SOURCE_2_disc_int_[0.38;0.85]",
          "EXT_SOURCE_2_disc_int_[0.38;0.85]",
          "EXT_SOURCE_2_disc_int_[0.38;0.85]",
          "EXT_SOURCE_2_disc_int_[0.38;0.85]",
          "EXT_SOURCE_2_disc_int_[0.38;0.85]",
          "EXT_SOURCE_2_disc_int_[0.38;0.85]",
          "EXT_SOURCE_2_disc_int_[0.38;0.85]",
          "EXT_SOURCE_2_disc_int_[0.38;0.85]",
          "EXT_SOURCE_2_disc_int_[0.38;0.85]",
          "EXT_SOURCE_2_disc_int_[0.38;0.85]",
          "EXT_SOURCE_2_disc_int_[0.38;0.85]",
          "EXT_SOURCE_2_disc_int_[0.38;0.85]",
          "EXT_SOURCE_2_disc_int_[0.38;0.85]",
          "EXT_SOURCE_2_disc_int_[0.38;0.85]",
          "EXT_SOURCE_2_disc_int_[0.38;0.85]",
          "EXT_SOURCE_2_disc_int_[0.38;0.85]",
          "EXT_SOURCE_2_disc_int_[0.38;0.85]",
          "EXT_SOURCE_2_disc_int_[0.38;0.85]",
          "EXT_SOURCE_2_disc_int_[0.38;0.85]",
          "EXT_SOURCE_2_disc_int_[0.38;0.85]",
          "EXT_SOURCE_2_disc_int_[0.38;0.85]",
          "EXT_SOURCE_2_disc_int_[0.38;0.85]",
          "EXT_SOURCE_2_disc_int_[0.38;0.85]",
          "EXT_SOURCE_2_disc_int_[0.38;0.85]",
          "EXT_SOURCE_2_disc_int_[0.38;0.85]",
          "EXT_SOURCE_2_disc_int_[0.38;0.85]",
          "EXT_SOURCE_2_disc_int_[0.38;0.85]",
          "EXT_SOURCE_2_disc_int_[0.38;0.85]",
          "EXT_SOURCE_2_disc_int_[0.38;0.85]",
          "EXT_SOURCE_2_disc_int_[0.38;0.85]",
          "EXT_SOURCE_2_disc_int_[0.38;0.85]",
          "EXT_SOURCE_2_disc_int_[0.38;0.85]",
          "EXT_SOURCE_2_disc_int_[0.38;0.85]",
          "EXT_SOURCE_2_disc_int_[0.38;0.85]",
          "EXT_SOURCE_2_disc_int_[0.38;0.85]",
          "EXT_SOURCE_2_disc_int_[0.38;0.85]",
          "EXT_SOURCE_2_disc_int_[0.38;0.85]",
          "EXT_SOURCE_2_disc_int_[0.38;0.85]",
          "EXT_SOURCE_2_disc_int_[0.38;0.85]",
          "EXT_SOURCE_2_disc_int_[0.38;0.85]",
          "EXT_SOURCE_2_disc_int_[0.38;0.85]",
          "EXT_SOURCE_2_disc_int_[0.38;0.85]",
          "EXT_SOURCE_2_disc_int_[0.38;0.85]",
          "EXT_SOURCE_2_disc_int_[0.38;0.85]",
          "EXT_SOURCE_2_disc_int_[0.38;0.85]",
          "EXT_SOURCE_2_disc_int_[0.38;0.85]",
          "EXT_SOURCE_2_disc_int_[0.38;0.85]",
          "EXT_SOURCE_2_disc_int_[0.38;0.85]",
          "EXT_SOURCE_2_disc_int_[0.38;0.85]",
          "EXT_SOURCE_2_disc_int_[0.38;0.85]",
          "EXT_SOURCE_2_disc_int_[0.38;0.85]",
          "EXT_SOURCE_2_disc_int_[0.38;0.85]",
          "EXT_SOURCE_2_disc_int_[0.38;0.85]",
          "EXT_SOURCE_2_disc_int_[0.38;0.85]",
          "EXT_SOURCE_2_disc_int_[0.38;0.85]",
          "EXT_SOURCE_2_disc_int_[0.38;0.85]",
          "EXT_SOURCE_2_disc_int_[0.38;0.85]",
          "EXT_SOURCE_2_disc_int_[0.38;0.85]",
          "EXT_SOURCE_2_disc_int_[0.38;0.85]",
          "EXT_SOURCE_2_disc_int_[0.38;0.85]",
          "EXT_SOURCE_2_disc_int_[0.38;0.85]",
          "EXT_SOURCE_2_disc_int_[0.38;0.85]",
          "EXT_SOURCE_2_disc_int_[0.38;0.85]",
          "EXT_SOURCE_2_disc_int_[0.38;0.85]",
          "EXT_SOURCE_2_disc_int_[0.38;0.85]",
          "EXT_SOURCE_2_disc_int_[0.38;0.85]",
          "EXT_SOURCE_2_disc_int_[0.38;0.85]",
          "EXT_SOURCE_2_disc_int_[0.38;0.85]",
          "EXT_SOURCE_2_disc_int_[0.38;0.85]",
          "EXT_SOURCE_2_disc_int_[0.38;0.85]",
          "EXT_SOURCE_2_disc_int_[0.38;0.85]",
          "EXT_SOURCE_2_disc_int_[0.38;0.85]",
          "EXT_SOURCE_2_disc_int_[0.38;0.85]",
          "EXT_SOURCE_2_disc_int_[0.38;0.85]",
          "EXT_SOURCE_2_disc_int_[0.38;0.85]",
          "EXT_SOURCE_2_disc_int_[0.38;0.85]",
          "EXT_SOURCE_2_disc_int_[0.38;0.85]",
          "EXT_SOURCE_2_disc_int_[0.38;0.85]",
          "EXT_SOURCE_2_disc_int_[0.38;0.85]",
          "EXT_SOURCE_2_disc_int_[0.38;0.85]",
          "EXT_SOURCE_2_disc_int_[0.38;0.85]",
          "EXT_SOURCE_2_disc_int_[0.38;0.85]",
          "EXT_SOURCE_2_disc_int_[0.38;0.85]",
          "EXT_SOURCE_2_disc_int_[0.38;0.85]",
          "EXT_SOURCE_2_disc_int_[0.38;0.85]",
          "EXT_SOURCE_2_disc_int_[0.38;0.85]",
          "EXT_SOURCE_2_disc_int_[0.38;0.85]",
          "EXT_SOURCE_2_disc_int_[0.38;0.85]",
          "EXT_SOURCE_2_disc_int_[0.38;0.85]",
          "EXT_SOURCE_2_disc_int_[0.38;0.85]",
          "EXT_SOURCE_2_disc_int_[0.38;0.85]",
          "EXT_SOURCE_2_disc_int_[0.38;0.85]",
          "EXT_SOURCE_2_disc_int_[0.38;0.85]",
          "EXT_SOURCE_2_disc_int_[0.38;0.85]",
          "EXT_SOURCE_2_disc_int_[0.38;0.85]",
          "EXT_SOURCE_2_disc_int_[0.38;0.85]",
          "EXT_SOURCE_2_disc_int_[0.38;0.85]",
          "EXT_SOURCE_2_disc_int_[0.38;0.85]",
          "EXT_SOURCE_2_disc_int_[0.38;0.85]",
          "EXT_SOURCE_2_disc_int_[0.38;0.85]",
          "EXT_SOURCE_2_disc_int_[0.38;0.85]",
          "EXT_SOURCE_2_disc_int_[0.38;0.85]",
          "EXT_SOURCE_2_disc_int_[0.38;0.85]",
          "EXT_SOURCE_2_disc_int_[0.38;0.85]",
          "EXT_SOURCE_2_disc_int_[0.38;0.85]",
          "EXT_SOURCE_2_disc_int_[0.38;0.85]",
          "EXT_SOURCE_2_disc_int_[0.38;0.85]",
          "EXT_SOURCE_2_disc_int_[0.38;0.85]",
          "EXT_SOURCE_2_disc_int_[0.38;0.85]",
          "EXT_SOURCE_2_disc_int_[0.38;0.85]",
          "EXT_SOURCE_2_disc_int_[0.38;0.85]",
          "EXT_SOURCE_2_disc_int_[0.38;0.85]",
          "EXT_SOURCE_2_disc_int_[0.38;0.85]",
          "EXT_SOURCE_2_disc_int_[0.38;0.85]",
          "EXT_SOURCE_2_disc_int_[0.38;0.85]",
          "EXT_SOURCE_2_disc_int_[0.38;0.85]",
          "EXT_SOURCE_2_disc_int_[0.38;0.85]",
          "EXT_SOURCE_2_disc_int_[0.38;0.85]",
          "EXT_SOURCE_2_disc_int_[0.38;0.85]",
          "EXT_SOURCE_2_disc_int_[0.38;0.85]",
          "EXT_SOURCE_2_disc_int_[0.38;0.85]",
          "EXT_SOURCE_2_disc_int_[0.38;0.85]",
          "EXT_SOURCE_2_disc_int_[0.38;0.85]",
          "EXT_SOURCE_2_disc_int_[0.38;0.85]",
          "EXT_SOURCE_2_disc_int_[0.38;0.85]",
          "EXT_SOURCE_2_disc_int_[0.38;0.85]",
          "EXT_SOURCE_2_disc_int_[0.38;0.85]",
          "EXT_SOURCE_2_disc_int_[0.38;0.85]",
          "EXT_SOURCE_2_disc_int_[0.38;0.85]",
          "EXT_SOURCE_2_disc_int_[0.38;0.85]",
          "EXT_SOURCE_2_disc_int_[0.38;0.85]",
          "EXT_SOURCE_2_disc_int_[0.38;0.85]",
          "EXT_SOURCE_2_disc_int_[0.38;0.85]",
          "EXT_SOURCE_2_disc_int_[0.38;0.85]",
          "EXT_SOURCE_2_disc_int_[0.38;0.85]",
          "EXT_SOURCE_2_disc_int_[0.38;0.85]",
          "EXT_SOURCE_2_disc_int_[0.38;0.85]",
          "EXT_SOURCE_2_disc_int_[0.38;0.85]",
          "EXT_SOURCE_2_disc_int_[0.38;0.85]",
          "EXT_SOURCE_2_disc_int_[0.38;0.85]",
          "EXT_SOURCE_2_disc_int_[0.38;0.85]",
          "EXT_SOURCE_2_disc_int_[0.38;0.85]",
          "EXT_SOURCE_2_disc_int_[0.38;0.85]",
          "EXT_SOURCE_2_disc_int_[0.38;0.85]",
          "EXT_SOURCE_2_disc_int_[0.38;0.85]",
          "EXT_SOURCE_2_disc_int_[0.38;0.85]",
          "EXT_SOURCE_2_disc_int_[0.38;0.85]",
          "EXT_SOURCE_2_disc_int_[0.38;0.85]",
          "EXT_SOURCE_2_disc_int_[0.38;0.85]",
          "EXT_SOURCE_2_disc_int_[0.38;0.85]",
          "EXT_SOURCE_2_disc_int_[0.38;0.85]",
          "EXT_SOURCE_2_disc_int_[0.38;0.85]",
          "EXT_SOURCE_2_disc_int_[0.38;0.85]",
          "EXT_SOURCE_2_disc_int_[0.38;0.85]",
          "EXT_SOURCE_2_disc_int_[0.38;0.85]",
          "EXT_SOURCE_2_disc_int_[0.38;0.85]",
          "EXT_SOURCE_2_disc_int_[0.38;0.85]",
          "EXT_SOURCE_2_disc_int_[0.38;0.85]",
          "EXT_SOURCE_2_disc_int_[0.38;0.85]",
          "EXT_SOURCE_2_disc_int_[0.38;0.85]",
          "EXT_SOURCE_2_disc_int_[0.38;0.85]",
          "EXT_SOURCE_2_disc_int_[0.38;0.85]",
          "EXT_SOURCE_2_disc_int_[0.38;0.85]",
          "EXT_SOURCE_2_disc_int_[0.38;0.85]",
          "EXT_SOURCE_2_disc_int_[0.38;0.85]",
          "EXT_SOURCE_2_disc_int_[0.38;0.85]",
          "EXT_SOURCE_2_disc_int_[0.38;0.85]",
          "EXT_SOURCE_2_disc_int_[0.38;0.85]",
          "EXT_SOURCE_2_disc_int_[0.38;0.85]",
          "EXT_SOURCE_2_disc_int_[0.38;0.85]",
          "EXT_SOURCE_2_disc_int_[0.38;0.85]",
          "EXT_SOURCE_2_disc_int_[0.38;0.85]",
          "EXT_SOURCE_2_disc_int_[0.38;0.85]",
          "EXT_SOURCE_2_disc_int_[0.38;0.85]",
          "EXT_SOURCE_2_disc_int_[0.38;0.85]",
          "EXT_SOURCE_2_disc_int_[0.38;0.85]",
          "EXT_SOURCE_2_disc_int_[0.38;0.85]",
          "EXT_SOURCE_2_disc_int_[0.38;0.85]",
          "EXT_SOURCE_2_disc_int_[0.38;0.85]",
          "EXT_SOURCE_2_disc_int_[0.38;0.85]",
          "EXT_SOURCE_2_disc_int_[0.38;0.85]",
          "EXT_SOURCE_2_disc_int_[0.38;0.85]",
          "EXT_SOURCE_2_disc_int_[0.38;0.85]",
          "EXT_SOURCE_2_disc_int_[0.38;0.85]",
          "EXT_SOURCE_2_disc_int_[0.38;0.85]",
          "EXT_SOURCE_2_disc_int_[0.38;0.85]",
          "EXT_SOURCE_2_disc_int_[0.38;0.85]",
          "EXT_SOURCE_2_disc_int_[0.38;0.85]",
          "EXT_SOURCE_2_disc_int_[0.38;0.85]",
          "EXT_SOURCE_2_disc_int_[0.38;0.85]",
          "EXT_SOURCE_2_disc_int_[0.38;0.85]",
          "EXT_SOURCE_2_disc_int_[0.38;0.85]",
          "EXT_SOURCE_2_disc_int_[0.38;0.85]",
          "EXT_SOURCE_2_disc_int_[0.38;0.85]",
          "EXT_SOURCE_2_disc_int_[0.38;0.85]",
          "EXT_SOURCE_2_disc_int_[0.38;0.85]",
          "EXT_SOURCE_2_disc_int_[0.38;0.85]",
          "EXT_SOURCE_2_disc_int_[0.38;0.85]",
          "EXT_SOURCE_2_disc_int_[0.38;0.85]",
          "EXT_SOURCE_2_disc_int_[0.38;0.85]",
          "EXT_SOURCE_2_disc_int_[0.38;0.85]",
          "EXT_SOURCE_2_disc_int_[0.38;0.85]",
          "EXT_SOURCE_2_disc_int_[0.38;0.85]",
          "EXT_SOURCE_2_disc_int_[0.38;0.85]",
          "EXT_SOURCE_2_disc_int_[0.38;0.85]",
          "EXT_SOURCE_2_disc_int_[0.38;0.85]",
          "EXT_SOURCE_2_disc_int_[0.38;0.85]",
          "EXT_SOURCE_2_disc_int_[0.38;0.85]",
          "EXT_SOURCE_2_disc_int_[0.38;0.85]",
          "EXT_SOURCE_2_disc_int_[0.38;0.85]",
          "EXT_SOURCE_2_disc_int_[0.38;0.85]",
          "EXT_SOURCE_2_disc_int_[0.38;0.85]",
          "EXT_SOURCE_2_disc_int_[0.38;0.85]",
          "EXT_SOURCE_2_disc_int_[0.38;0.85]",
          "EXT_SOURCE_2_disc_int_[0.38;0.85]",
          "EXT_SOURCE_2_disc_int_[0.38;0.85]",
          "EXT_SOURCE_2_disc_int_[0.38;0.85]",
          "EXT_SOURCE_2_disc_int_[0.38;0.85]",
          "EXT_SOURCE_2_disc_int_[0.38;0.85]",
          "EXT_SOURCE_2_disc_int_[0.38;0.85]",
          "EXT_SOURCE_2_disc_int_[0.38;0.85]",
          "EXT_SOURCE_2_disc_int_[0.38;0.85]",
          "EXT_SOURCE_2_disc_int_[0.38;0.85]",
          "EXT_SOURCE_2_disc_int_[0.38;0.85]",
          "EXT_SOURCE_2_disc_int_[0.38;0.85]",
          "EXT_SOURCE_2_disc_int_[0.38;0.85]",
          "EXT_SOURCE_2_disc_int_[0.38;0.85]",
          "EXT_SOURCE_2_disc_int_[0.38;0.85]",
          "EXT_SOURCE_2_disc_int_[0.38;0.85]",
          "EXT_SOURCE_2_disc_int_[0.38;0.85]",
          "EXT_SOURCE_2_disc_int_[0.38;0.85]",
          "EXT_SOURCE_2_disc_int_[0.38;0.85]",
          "EXT_SOURCE_2_disc_int_[0.38;0.85]",
          "EXT_SOURCE_2_disc_int_[0.38;0.85]",
          "EXT_SOURCE_2_disc_int_[0.38;0.85]",
          "EXT_SOURCE_2_disc_int_[0.38;0.85]",
          "EXT_SOURCE_2_disc_int_[0.38;0.85]",
          "EXT_SOURCE_2_disc_int_[0.38;0.85]",
          "EXT_SOURCE_2_disc_int_[0.38;0.85]",
          "EXT_SOURCE_2_disc_int_[0.38;0.85]",
          "EXT_SOURCE_2_disc_int_[0.38;0.85]",
          "EXT_SOURCE_2_disc_int_[0.38;0.85]",
          "EXT_SOURCE_2_disc_int_[0.38;0.85]",
          "EXT_SOURCE_2_disc_int_[0.38;0.85]",
          "EXT_SOURCE_2_disc_int_[0.38;0.85]",
          "EXT_SOURCE_2_disc_int_[0.38;0.85]",
          "EXT_SOURCE_2_disc_int_[0.38;0.85]",
          "EXT_SOURCE_2_disc_int_[0.38;0.85]",
          "EXT_SOURCE_2_disc_int_[0.38;0.85]",
          "EXT_SOURCE_2_disc_int_[0.38;0.85]",
          "EXT_SOURCE_2_disc_int_[0.38;0.85]",
          "EXT_SOURCE_2_disc_int_[0.38;0.85]",
          "EXT_SOURCE_2_disc_int_[0.38;0.85]",
          "EXT_SOURCE_2_disc_int_[0.38;0.85]",
          "EXT_SOURCE_2_disc_int_[0.38;0.85]",
          "EXT_SOURCE_2_disc_int_[0.38;0.85]",
          "EXT_SOURCE_2_disc_int_[0.38;0.85]",
          "EXT_SOURCE_2_disc_int_[0.38;0.85]",
          "EXT_SOURCE_2_disc_int_[0.38;0.85]",
          "EXT_SOURCE_2_disc_int_[0.38;0.85]",
          "EXT_SOURCE_2_disc_int_[0.38;0.85]",
          "EXT_SOURCE_2_disc_int_[0.38;0.85]",
          "EXT_SOURCE_2_disc_int_[0.38;0.85]",
          "EXT_SOURCE_2_disc_int_[0.38;0.85]",
          "EXT_SOURCE_2_disc_int_[0.38;0.85]",
          "EXT_SOURCE_2_disc_int_[0.38;0.85]",
          "EXT_SOURCE_2_disc_int_[0.38;0.85]",
          "EXT_SOURCE_2_disc_int_[0.38;0.85]",
          "EXT_SOURCE_2_disc_int_[0.38;0.85]",
          "EXT_SOURCE_2_disc_int_[0.38;0.85]",
          "EXT_SOURCE_2_disc_int_[0.38;0.85]",
          "EXT_SOURCE_2_disc_int_[0.38;0.85]",
          "EXT_SOURCE_2_disc_int_[0.38;0.85]",
          "EXT_SOURCE_2_disc_int_[0.38;0.85]",
          "EXT_SOURCE_2_disc_int_[0.38;0.85]",
          "EXT_SOURCE_2_disc_int_[0.38;0.85]",
          "EXT_SOURCE_2_disc_int_[0.38;0.85]",
          "EXT_SOURCE_2_disc_int_[0.38;0.85]",
          "EXT_SOURCE_2_disc_int_[0.38;0.85]",
          "EXT_SOURCE_1_disc_int_[0.26;0.96]",
          "EXT_SOURCE_1_disc_int_[0.26;0.96]",
          "EXT_SOURCE_1_disc_int_[0.26;0.96]",
          "EXT_SOURCE_1_disc_int_[0.26;0.96]",
          "EXT_SOURCE_1_disc_int_[0.26;0.96]",
          "EXT_SOURCE_1_disc_int_[0.26;0.96]",
          "EXT_SOURCE_1_disc_int_[0.26;0.96]",
          "EXT_SOURCE_1_disc_int_[0.26;0.96]",
          "EXT_SOURCE_1_disc_int_[0.26;0.96]",
          "EXT_SOURCE_1_disc_int_[0.26;0.96]",
          "EXT_SOURCE_1_disc_int_[0.26;0.96]",
          "EXT_SOURCE_1_disc_int_[0.26;0.96]",
          "EXT_SOURCE_1_disc_int_[0.26;0.96]",
          "EXT_SOURCE_1_disc_int_[0.26;0.96]",
          "EXT_SOURCE_1_disc_int_[0.26;0.96]",
          "EXT_SOURCE_1_disc_int_[0.26;0.96]",
          "EXT_SOURCE_1_disc_int_[0.26;0.96]",
          "EXT_SOURCE_1_disc_int_[0.26;0.96]",
          "EXT_SOURCE_1_disc_int_[0.26;0.96]",
          "EXT_SOURCE_1_disc_int_[0.26;0.96]",
          "EXT_SOURCE_1_disc_int_[0.26;0.96]",
          "EXT_SOURCE_1_disc_int_[0.26;0.96]",
          "EXT_SOURCE_1_disc_int_[0.26;0.96]",
          "EXT_SOURCE_1_disc_int_[0.26;0.96]",
          "EXT_SOURCE_1_disc_int_[0.26;0.96]",
          "EXT_SOURCE_1_disc_int_[0.26;0.96]",
          "EXT_SOURCE_1_disc_int_[0.26;0.96]",
          "EXT_SOURCE_1_disc_int_[0.26;0.96]",
          "EXT_SOURCE_1_disc_int_[0.26;0.96]",
          "EXT_SOURCE_1_disc_int_[0.26;0.96]",
          "EXT_SOURCE_1_disc_int_[0.26;0.96]",
          "EXT_SOURCE_1_disc_int_[0.26;0.96]",
          "EXT_SOURCE_1_disc_int_[0.26;0.96]",
          "EXT_SOURCE_1_disc_int_[0.26;0.96]",
          "EXT_SOURCE_1_disc_int_[0.26;0.96]",
          "EXT_SOURCE_1_disc_int_[0.26;0.96]",
          "EXT_SOURCE_1_disc_int_[0.26;0.96]",
          "EXT_SOURCE_1_disc_int_[0.26;0.96]",
          "EXT_SOURCE_1_disc_int_[0.26;0.96]",
          "EXT_SOURCE_1_disc_int_[0.26;0.96]",
          "EXT_SOURCE_1_disc_int_[0.26;0.96]",
          "EXT_SOURCE_1_disc_int_[0.26;0.96]",
          "EXT_SOURCE_1_disc_int_[0.26;0.96]",
          "EXT_SOURCE_1_disc_int_[0.26;0.96]",
          "EXT_SOURCE_1_disc_int_[0.26;0.96]",
          "EXT_SOURCE_1_disc_int_[0.26;0.96]",
          "EXT_SOURCE_1_disc_int_[0.26;0.96]",
          "EXT_SOURCE_1_disc_int_[0.26;0.96]",
          "EXT_SOURCE_1_disc_int_[0.26;0.96]",
          "EXT_SOURCE_1_disc_int_[0.26;0.96]",
          "EXT_SOURCE_1_disc_int_[0.26;0.96]",
          "EXT_SOURCE_1_disc_int_[0.26;0.96]",
          "EXT_SOURCE_1_disc_int_[0.26;0.96]",
          "EXT_SOURCE_1_disc_int_[0.26;0.96]",
          "EXT_SOURCE_1_disc_int_[0.26;0.96]",
          "EXT_SOURCE_1_disc_int_[0.26;0.96]",
          "EXT_SOURCE_1_disc_int_[0.26;0.96]",
          "EXT_SOURCE_1_disc_int_[0.26;0.96]",
          "EXT_SOURCE_1_disc_int_[0.26;0.96]",
          "EXT_SOURCE_1_disc_int_[0.26;0.96]",
          "EXT_SOURCE_1_disc_int_[0.26;0.96]",
          "EXT_SOURCE_1_disc_int_[0.26;0.96]",
          "EXT_SOURCE_1_disc_int_[0.26;0.96]",
          "EXT_SOURCE_1_disc_int_[0.26;0.96]",
          "EXT_SOURCE_1_disc_int_[0.26;0.96]",
          "EXT_SOURCE_1_disc_int_[0.26;0.96]",
          "EXT_SOURCE_1_disc_int_[0.26;0.96]",
          "EXT_SOURCE_1_disc_int_[0.26;0.96]",
          "EXT_SOURCE_1_disc_int_[0.26;0.96]",
          "EXT_SOURCE_1_disc_int_[0.26;0.96]",
          "EXT_SOURCE_1_disc_int_[0.26;0.96]",
          "EXT_SOURCE_1_disc_int_[0.26;0.96]",
          "EXT_SOURCE_1_disc_int_[0.26;0.96]",
          "EXT_SOURCE_1_disc_int_[0.26;0.96]",
          "EXT_SOURCE_1_disc_int_[0.26;0.96]",
          "EXT_SOURCE_1_disc_int_[0.26;0.96]",
          "EXT_SOURCE_1_disc_int_[0.26;0.96]",
          "EXT_SOURCE_1_disc_int_[0.26;0.96]",
          "EXT_SOURCE_1_disc_int_[0.26;0.96]",
          "EXT_SOURCE_1_disc_int_[0.26;0.96]",
          "EXT_SOURCE_1_disc_int_[0.26;0.96]",
          "EXT_SOURCE_1_disc_int_[0.26;0.96]",
          "EXT_SOURCE_1_disc_int_[0.26;0.96]",
          "EXT_SOURCE_1_disc_int_[0.26;0.96]",
          "EXT_SOURCE_1_disc_int_[0.26;0.96]",
          "EXT_SOURCE_1_disc_int_[0.26;0.96]",
          "EXT_SOURCE_1_disc_int_[0.26;0.96]",
          "EXT_SOURCE_1_disc_int_[0.26;0.96]",
          "EXT_SOURCE_1_disc_int_[0.26;0.96]",
          "EXT_SOURCE_1_disc_int_[0.26;0.96]",
          "EXT_SOURCE_1_disc_int_[0.26;0.96]",
          "EXT_SOURCE_1_disc_int_[0.26;0.96]",
          "EXT_SOURCE_1_disc_int_[0.26;0.96]",
          "EXT_SOURCE_1_disc_int_[0.26;0.96]",
          "EXT_SOURCE_1_disc_int_[0.26;0.96]",
          "EXT_SOURCE_1_disc_int_[0.26;0.96]",
          "EXT_SOURCE_1_disc_int_[0.26;0.96]",
          "EXT_SOURCE_1_disc_int_[0.26;0.96]",
          "EXT_SOURCE_1_disc_int_[0.26;0.96]",
          "EXT_SOURCE_1_disc_int_[0.26;0.96]",
          "EXT_SOURCE_1_disc_int_[0.26;0.96]",
          "EXT_SOURCE_1_disc_int_[0.26;0.96]",
          "EXT_SOURCE_1_disc_int_[0.26;0.96]",
          "EXT_SOURCE_1_disc_int_[0.26;0.96]",
          "EXT_SOURCE_1_disc_int_[0.26;0.96]",
          "EXT_SOURCE_1_disc_int_[0.26;0.96]",
          "EXT_SOURCE_1_disc_int_[0.26;0.96]",
          "EXT_SOURCE_1_disc_int_[0.26;0.96]",
          "EXT_SOURCE_1_disc_int_[0.26;0.96]",
          "EXT_SOURCE_1_disc_int_[0.26;0.96]",
          "EXT_SOURCE_1_disc_int_[0.26;0.96]",
          "EXT_SOURCE_1_disc_int_[0.26;0.96]",
          "EXT_SOURCE_1_disc_int_[0.26;0.96]",
          "EXT_SOURCE_1_disc_int_[0.26;0.96]",
          "EXT_SOURCE_1_disc_int_[0.26;0.96]",
          "EXT_SOURCE_1_disc_int_[0.26;0.96]",
          "EXT_SOURCE_1_disc_int_[0.26;0.96]",
          "EXT_SOURCE_1_disc_int_[0.26;0.96]",
          "EXT_SOURCE_1_disc_int_[0.26;0.96]",
          "EXT_SOURCE_1_disc_int_[0.26;0.96]",
          "EXT_SOURCE_1_disc_int_[0.26;0.96]",
          "EXT_SOURCE_1_disc_int_[0.26;0.96]",
          "EXT_SOURCE_1_disc_int_[0.26;0.96]",
          "EXT_SOURCE_1_disc_int_[0.26;0.96]",
          "EXT_SOURCE_1_disc_int_[0.26;0.96]",
          "EXT_SOURCE_1_disc_int_[0.26;0.96]",
          "EXT_SOURCE_1_disc_int_[0.26;0.96]",
          "EXT_SOURCE_1_disc_int_[0.26;0.96]",
          "EXT_SOURCE_1_disc_int_[0.26;0.96]",
          "EXT_SOURCE_1_disc_int_[0.26;0.96]",
          "EXT_SOURCE_1_disc_int_[0.26;0.96]",
          "EXT_SOURCE_1_disc_int_[0.26;0.96]",
          "EXT_SOURCE_1_disc_int_[0.26;0.96]",
          "EXT_SOURCE_1_disc_int_[0.26;0.96]",
          "EXT_SOURCE_1_disc_int_[0.26;0.96]",
          "EXT_SOURCE_1_disc_int_[0.26;0.96]",
          "EXT_SOURCE_1_disc_int_[0.26;0.96]",
          "EXT_SOURCE_1_disc_int_[0.26;0.96]",
          "EXT_SOURCE_1_disc_int_[0.26;0.96]",
          "EXT_SOURCE_1_disc_int_[0.26;0.96]",
          "EXT_SOURCE_1_disc_int_[0.26;0.96]",
          "EXT_SOURCE_1_disc_int_[0.26;0.96]",
          "EXT_SOURCE_1_disc_int_[0.26;0.96]",
          "EXT_SOURCE_1_disc_int_[0.26;0.96]",
          "EXT_SOURCE_1_disc_int_[0.26;0.96]",
          "EXT_SOURCE_1_disc_int_[0.26;0.96]",
          "EXT_SOURCE_1_disc_int_[0.26;0.96]",
          "EXT_SOURCE_1_disc_int_[0.26;0.96]",
          "EXT_SOURCE_1_disc_int_[0.26;0.96]",
          "EXT_SOURCE_1_disc_int_[0.26;0.96]",
          "EXT_SOURCE_1_disc_int_[0.26;0.96]",
          "EXT_SOURCE_1_disc_int_[0.26;0.96]",
          "EXT_SOURCE_1_disc_int_[0.26;0.96]",
          "EXT_SOURCE_1_disc_int_[0.26;0.96]",
          "EXT_SOURCE_1_disc_int_[0.26;0.96]",
          "EXT_SOURCE_1_disc_int_[0.26;0.96]",
          "EXT_SOURCE_1_disc_int_[0.26;0.96]",
          "EXT_SOURCE_1_disc_int_[0.26;0.96]",
          "EXT_SOURCE_1_disc_int_[0.26;0.96]",
          "EXT_SOURCE_1_disc_int_[0.26;0.96]",
          "EXT_SOURCE_1_disc_int_[0.26;0.96]",
          "EXT_SOURCE_1_disc_int_[0.26;0.96]",
          "EXT_SOURCE_1_disc_int_[0.26;0.96]",
          "EXT_SOURCE_1_disc_int_[0.26;0.96]",
          "EXT_SOURCE_1_disc_int_[0.26;0.96]",
          "EXT_SOURCE_1_disc_int_[0.26;0.96]",
          "EXT_SOURCE_1_disc_int_[0.26;0.96]",
          "EXT_SOURCE_1_disc_int_[0.26;0.96]",
          "EXT_SOURCE_1_disc_int_[0.26;0.96]",
          "EXT_SOURCE_1_disc_int_[0.26;0.96]",
          "EXT_SOURCE_1_disc_int_[0.26;0.96]",
          "EXT_SOURCE_1_disc_int_[0.26;0.96]",
          "EXT_SOURCE_1_disc_int_[0.26;0.96]",
          "EXT_SOURCE_1_disc_int_[0.26;0.96]",
          "EXT_SOURCE_1_disc_int_[0.26;0.96]",
          "EXT_SOURCE_1_disc_int_[0.26;0.96]",
          "EXT_SOURCE_1_disc_int_[0.26;0.96]",
          "EXT_SOURCE_1_disc_int_[0.26;0.96]",
          "EXT_SOURCE_1_disc_int_[0.26;0.96]",
          "EXT_SOURCE_1_disc_int_[0.26;0.96]",
          "EXT_SOURCE_1_disc_int_[0.26;0.96]",
          "EXT_SOURCE_1_disc_int_[0.26;0.96]",
          "EXT_SOURCE_1_disc_int_[0.26;0.96]",
          "EXT_SOURCE_1_disc_int_[0.26;0.96]",
          "EXT_SOURCE_1_disc_int_[0.26;0.96]",
          "EXT_SOURCE_1_disc_int_[0.26;0.96]",
          "EXT_SOURCE_1_disc_int_[0.26;0.96]",
          "EXT_SOURCE_1_disc_int_[0.26;0.96]",
          "EXT_SOURCE_1_disc_int_[0.26;0.96]",
          "EXT_SOURCE_1_disc_int_[0.26;0.96]",
          "EXT_SOURCE_1_disc_int_[0.26;0.96]",
          "EXT_SOURCE_1_disc_int_[0.26;0.96]",
          "EXT_SOURCE_1_disc_int_[0.26;0.96]",
          "EXT_SOURCE_1_disc_int_[0.26;0.96]",
          "EXT_SOURCE_1_disc_int_[0.26;0.96]",
          "EXT_SOURCE_1_disc_int_[0.26;0.96]",
          "EXT_SOURCE_1_disc_int_[0.26;0.96]",
          "EXT_SOURCE_1_disc_int_[0.26;0.96]",
          "EXT_SOURCE_1_disc_int_[0.26;0.96]",
          "EXT_SOURCE_1_disc_int_[0.26;0.96]",
          "EXT_SOURCE_1_disc_int_[0.26;0.96]",
          "EXT_SOURCE_1_disc_int_[0.26;0.96]",
          "EXT_SOURCE_1_disc_int_[0.26;0.96]",
          "EXT_SOURCE_1_disc_int_[0.26;0.96]",
          "EXT_SOURCE_1_disc_int_[0.26;0.96]",
          "EXT_SOURCE_1_disc_int_[0.26;0.96]",
          "EXT_SOURCE_1_disc_int_[0.26;0.96]",
          "EXT_SOURCE_1_disc_int_[0.26;0.96]",
          "EXT_SOURCE_1_disc_int_[0.26;0.96]",
          "EXT_SOURCE_1_disc_int_[0.26;0.96]",
          "EXT_SOURCE_1_disc_int_[0.26;0.96]",
          "EXT_SOURCE_1_disc_int_[0.26;0.96]",
          "EXT_SOURCE_1_disc_int_[0.26;0.96]",
          "EXT_SOURCE_1_disc_int_[0.26;0.96]",
          "EXT_SOURCE_1_disc_int_[0.26;0.96]",
          "EXT_SOURCE_1_disc_int_[0.26;0.96]",
          "EXT_SOURCE_1_disc_int_[0.26;0.96]",
          "EXT_SOURCE_1_disc_int_[0.26;0.96]",
          "EXT_SOURCE_1_disc_int_[0.26;0.96]",
          "EXT_SOURCE_1_disc_int_[0.26;0.96]",
          "EXT_SOURCE_1_disc_int_[0.26;0.96]",
          "EXT_SOURCE_1_disc_int_[0.26;0.96]",
          "EXT_SOURCE_1_disc_int_[0.26;0.96]",
          "EXT_SOURCE_1_disc_int_[0.26;0.96]",
          "EXT_SOURCE_1_disc_int_[0.26;0.96]",
          "EXT_SOURCE_1_disc_int_[0.26;0.96]",
          "EXT_SOURCE_1_disc_int_[0.26;0.96]",
          "EXT_SOURCE_1_disc_int_[0.26;0.96]",
          "EXT_SOURCE_1_disc_int_[0.26;0.96]",
          "EXT_SOURCE_1_disc_int_[0.26;0.96]",
          "EXT_SOURCE_1_disc_int_[0.26;0.96]",
          "EXT_SOURCE_1_disc_int_[0.26;0.96]",
          "EXT_SOURCE_1_disc_int_[0.26;0.96]",
          "EXT_SOURCE_1_disc_int_[0.26;0.96]",
          "EXT_SOURCE_1_disc_int_[0.26;0.96]",
          "EXT_SOURCE_1_disc_int_[0.26;0.96]",
          "EXT_SOURCE_1_disc_int_[0.26;0.96]",
          "EXT_SOURCE_1_disc_int_[0.26;0.96]",
          "EXT_SOURCE_1_disc_int_[0.26;0.96]",
          "EXT_SOURCE_1_disc_int_[0.26;0.96]",
          "EXT_SOURCE_1_disc_int_[0.26;0.96]",
          "EXT_SOURCE_1_disc_int_[0.26;0.96]",
          "EXT_SOURCE_1_disc_int_[0.26;0.96]",
          "EXT_SOURCE_1_disc_int_[0.26;0.96]",
          "EXT_SOURCE_1_disc_int_[0.26;0.96]",
          "EXT_SOURCE_1_disc_int_[0.26;0.96]",
          "EXT_SOURCE_1_disc_int_[0.26;0.96]",
          "EXT_SOURCE_1_disc_int_[0.26;0.96]",
          "EXT_SOURCE_1_disc_int_[0.26;0.96]",
          "EXT_SOURCE_1_disc_int_[0.26;0.96]",
          "EXT_SOURCE_1_disc_int_[0.26;0.96]",
          "EXT_SOURCE_1_disc_int_[0.26;0.96]",
          "EXT_SOURCE_1_disc_int_[0.26;0.96]",
          "EXT_SOURCE_1_disc_int_[0.26;0.96]",
          "EXT_SOURCE_1_disc_int_[0.26;0.96]",
          "EXT_SOURCE_1_disc_int_[0.26;0.96]",
          "EXT_SOURCE_1_disc_int_[0.26;0.96]",
          "EXT_SOURCE_1_disc_int_[0.26;0.96]",
          "EXT_SOURCE_1_disc_int_[0.26;0.96]",
          "EXT_SOURCE_1_disc_int_[0.26;0.96]",
          "EXT_SOURCE_1_disc_int_[0.26;0.96]",
          "EXT_SOURCE_1_disc_int_[0.26;0.96]",
          "EXT_SOURCE_1_disc_int_[0.26;0.96]",
          "EXT_SOURCE_1_disc_int_[0.26;0.96]",
          "EXT_SOURCE_1_disc_int_[0.26;0.96]",
          "EXT_SOURCE_1_disc_int_[0.26;0.96]",
          "EXT_SOURCE_1_disc_int_[0.26;0.96]",
          "EXT_SOURCE_1_disc_int_[0.26;0.96]",
          "EXT_SOURCE_1_disc_int_[0.26;0.96]",
          "EXT_SOURCE_1_disc_int_[0.26;0.96]",
          "EXT_SOURCE_1_disc_int_[0.26;0.96]",
          "EXT_SOURCE_1_disc_int_[0.26;0.96]",
          "EXT_SOURCE_1_disc_int_[0.26;0.96]",
          "EXT_SOURCE_1_disc_int_[0.26;0.96]",
          "EXT_SOURCE_1_disc_int_[0.26;0.96]",
          "EXT_SOURCE_1_disc_int_[0.26;0.96]",
          "EXT_SOURCE_1_disc_int_[0.26;0.96]",
          "EXT_SOURCE_1_disc_int_[0.26;0.96]",
          "EXT_SOURCE_1_disc_int_[0.26;0.96]",
          "EXT_SOURCE_1_disc_int_[0.26;0.96]",
          "EXT_SOURCE_1_disc_int_[0.26;0.96]",
          "EXT_SOURCE_1_disc_int_[0.26;0.96]",
          "EXT_SOURCE_1_disc_int_[0.26;0.96]",
          "EXT_SOURCE_1_disc_int_[0.26;0.96]",
          "EXT_SOURCE_1_disc_int_[0.26;0.96]",
          "EXT_SOURCE_1_disc_int_[0.26;0.96]",
          "EXT_SOURCE_1_disc_int_[0.26;0.96]",
          "EXT_SOURCE_1_disc_int_[0.26;0.96]",
          "EXT_SOURCE_1_disc_int_[0.26;0.96]",
          "EXT_SOURCE_1_disc_int_[0.26;0.96]",
          "EXT_SOURCE_1_disc_int_[0.26;0.96]",
          "EXT_SOURCE_1_disc_int_[0.26;0.96]",
          "EXT_SOURCE_1_disc_int_[0.26;0.96]",
          "EXT_SOURCE_1_disc_int_[0.26;0.96]",
          "EXT_SOURCE_1_disc_int_[0.26;0.96]",
          "EXT_SOURCE_1_disc_int_[0.26;0.96]",
          "EXT_SOURCE_1_disc_int_[0.26;0.96]",
          "EXT_SOURCE_1_disc_int_[0.26;0.96]",
          "EXT_SOURCE_1_disc_int_[0.26;0.96]",
          "EXT_SOURCE_1_disc_int_[0.26;0.96]",
          "EXT_SOURCE_1_disc_int_[0.26;0.96]",
          "EXT_SOURCE_1_disc_int_[0.26;0.96]",
          "EXT_SOURCE_1_disc_int_[0.26;0.96]",
          "EXT_SOURCE_1_disc_int_[0.26;0.96]",
          "EXT_SOURCE_1_disc_int_[0.26;0.96]",
          "EXT_SOURCE_1_disc_int_[0.26;0.96]",
          "EXT_SOURCE_1_disc_int_[0.26;0.96]",
          "EXT_SOURCE_1_disc_int_[0.26;0.96]",
          "EXT_SOURCE_1_disc_int_[0.26;0.96]",
          "EXT_SOURCE_1_disc_int_[0.26;0.96]",
          "EXT_SOURCE_1_disc_int_[0.26;0.96]",
          "EXT_SOURCE_1_disc_int_[0.26;0.96]",
          "EXT_SOURCE_1_disc_int_[0.26;0.96]",
          "EXT_SOURCE_1_disc_int_[0.26;0.96]",
          "EXT_SOURCE_1_disc_int_[0.26;0.96]",
          "EXT_SOURCE_1_disc_int_[0.26;0.96]",
          "EXT_SOURCE_1_disc_int_[0.26;0.96]",
          "EXT_SOURCE_1_disc_int_[0.26;0.96]",
          "EXT_SOURCE_1_disc_int_[0.26;0.96]",
          "EXT_SOURCE_1_disc_int_[0.26;0.96]",
          "EXT_SOURCE_1_disc_int_[0.26;0.96]",
          "EXT_SOURCE_1_disc_int_[0.26;0.96]",
          "EXT_SOURCE_1_disc_int_[0.26;0.96]",
          "EXT_SOURCE_1_disc_int_[0.26;0.96]",
          "EXT_SOURCE_1_disc_int_[0.26;0.96]",
          "EXT_SOURCE_1_disc_int_[0.26;0.96]",
          "EXT_SOURCE_1_disc_int_[0.26;0.96]",
          "EXT_SOURCE_1_disc_int_[0.26;0.96]",
          "EXT_SOURCE_1_disc_int_[0.26;0.96]",
          "EXT_SOURCE_1_disc_int_[0.26;0.96]",
          "EXT_SOURCE_1_disc_int_[0.26;0.96]",
          "EXT_SOURCE_1_disc_int_[0.26;0.96]",
          "EXT_SOURCE_1_disc_int_[0.26;0.96]",
          "EXT_SOURCE_1_disc_int_[0.26;0.96]",
          "EXT_SOURCE_1_disc_int_[0.26;0.96]",
          "EXT_SOURCE_1_disc_int_[0.26;0.96]",
          "EXT_SOURCE_1_disc_int_[0.26;0.96]",
          "EXT_SOURCE_1_disc_int_[0.26;0.96]",
          "EXT_SOURCE_1_disc_int_[0.26;0.96]",
          "EXT_SOURCE_1_disc_int_[0.26;0.96]",
          "EXT_SOURCE_1_disc_int_[0.26;0.96]",
          "EXT_SOURCE_1_disc_int_[0.26;0.96]",
          "EXT_SOURCE_1_disc_int_[0.26;0.96]",
          "EXT_SOURCE_1_disc_int_[0.26;0.96]",
          "EXT_SOURCE_1_disc_int_[0.26;0.96]",
          "EXT_SOURCE_1_disc_int_[0.26;0.96]",
          "EXT_SOURCE_1_disc_int_[0.26;0.96]",
          "EXT_SOURCE_1_disc_int_[0.26;0.96]",
          "EXT_SOURCE_1_disc_int_[0.26;0.96]",
          "EXT_SOURCE_1_disc_int_[0.26;0.96]",
          "EXT_SOURCE_1_disc_int_[0.26;0.96]",
          "EXT_SOURCE_1_disc_int_[0.26;0.96]",
          "EXT_SOURCE_1_disc_int_[0.26;0.96]",
          "EXT_SOURCE_1_disc_int_[0.26;0.96]",
          "EXT_SOURCE_1_disc_int_[0.26;0.96]",
          "EXT_SOURCE_1_disc_int_[0.26;0.96]",
          "EXT_SOURCE_1_disc_int_[0.26;0.96]",
          "EXT_SOURCE_1_disc_int_[0.26;0.96]",
          "EXT_SOURCE_1_disc_int_[0.26;0.96]",
          "EXT_SOURCE_1_disc_int_[0.26;0.96]",
          "EXT_SOURCE_1_disc_int_[0.26;0.96]",
          "EXT_SOURCE_1_disc_int_[0.26;0.96]",
          "EXT_SOURCE_1_disc_int_[0.26;0.96]",
          "EXT_SOURCE_1_disc_int_[0.26;0.96]",
          "EXT_SOURCE_1_disc_int_[0.26;0.96]",
          "EXT_SOURCE_1_disc_int_[0.26;0.96]",
          "EXT_SOURCE_1_disc_int_[0.26;0.96]",
          "EXT_SOURCE_1_disc_int_[0.26;0.96]",
          "EXT_SOURCE_1_disc_int_[0.26;0.96]",
          "EXT_SOURCE_1_disc_int_[0.26;0.96]",
          "EXT_SOURCE_1_disc_int_[0.26;0.96]",
          "EXT_SOURCE_1_disc_int_[0.26;0.96]",
          "EXT_SOURCE_1_disc_int_[0.26;0.96]",
          "EXT_SOURCE_1_disc_int_[0.26;0.96]",
          "EXT_SOURCE_1_disc_int_[0.26;0.96]",
          "EXT_SOURCE_1_disc_int_[0.26;0.96]",
          "EXT_SOURCE_1_disc_int_[0.26;0.96]",
          "EXT_SOURCE_1_disc_int_[0.26;0.96]",
          "EXT_SOURCE_1_disc_int_[0.26;0.96]",
          "EXT_SOURCE_1_disc_int_[0.26;0.96]",
          "EXT_SOURCE_1_disc_int_[0.26;0.96]",
          "EXT_SOURCE_1_disc_int_[0.26;0.96]",
          "EXT_SOURCE_1_disc_int_[0.26;0.96]",
          "EXT_SOURCE_1_disc_int_[0.26;0.96]",
          "EXT_SOURCE_1_disc_int_[0.26;0.96]",
          "EXT_SOURCE_1_disc_int_[0.26;0.96]",
          "EXT_SOURCE_1_disc_int_[0.26;0.96]",
          "EXT_SOURCE_1_disc_int_[0.26;0.96]",
          "EXT_SOURCE_1_disc_int_[0.26;0.96]",
          "EXT_SOURCE_1_disc_int_[0.26;0.96]",
          "EXT_SOURCE_1_disc_int_[0.26;0.96]",
          "EXT_SOURCE_1_disc_int_[0.26;0.96]",
          "EXT_SOURCE_1_disc_int_[0.26;0.96]",
          "EXT_SOURCE_1_disc_int_[0.26;0.96]",
          "EXT_SOURCE_1_disc_int_[0.26;0.96]",
          "EXT_SOURCE_1_disc_int_[0.26;0.96]",
          "EXT_SOURCE_1_disc_int_[0.26;0.96]",
          "EXT_SOURCE_1_disc_int_[0.26;0.96]",
          "EXT_SOURCE_1_disc_int_[0.26;0.96]",
          "EXT_SOURCE_1_disc_int_[0.26;0.96]",
          "EXT_SOURCE_1_disc_int_[0.26;0.96]",
          "EXT_SOURCE_1_disc_int_[0.26;0.96]",
          "EXT_SOURCE_1_disc_int_[0.26;0.96]",
          "EXT_SOURCE_1_disc_int_[0.26;0.96]",
          "EXT_SOURCE_1_disc_int_[0.26;0.96]",
          "EXT_SOURCE_1_disc_int_[0.26;0.96]",
          "EXT_SOURCE_1_disc_int_[0.26;0.96]",
          "EXT_SOURCE_1_disc_int_[0.26;0.96]",
          "EXT_SOURCE_1_disc_int_[0.26;0.96]",
          "EXT_SOURCE_1_disc_int_[0.26;0.96]",
          "EXT_SOURCE_1_disc_int_[0.26;0.96]",
          "EXT_SOURCE_1_disc_int_[0.26;0.96]",
          "EXT_SOURCE_1_disc_int_[0.26;0.96]",
          "EXT_SOURCE_1_disc_int_[0.26;0.96]",
          "EXT_SOURCE_1_disc_int_[0.26;0.96]",
          "EXT_SOURCE_1_disc_int_[0.26;0.96]",
          "EXT_SOURCE_1_disc_int_[0.26;0.96]",
          "EXT_SOURCE_1_disc_int_[0.26;0.96]",
          "EXT_SOURCE_1_disc_int_[0.26;0.96]",
          "EXT_SOURCE_1_disc_int_[0.26;0.96]",
          "EXT_SOURCE_1_disc_int_[0.26;0.96]",
          "EXT_SOURCE_1_disc_int_[0.26;0.96]",
          "EXT_SOURCE_1_disc_int_[0.26;0.96]",
          "EXT_SOURCE_1_disc_int_[0.26;0.96]",
          "EXT_SOURCE_1_disc_int_[0.26;0.96]",
          "EXT_SOURCE_1_disc_int_[0.26;0.96]",
          "EXT_SOURCE_3_disc_int_[0.33;0.9]",
          "EXT_SOURCE_3_disc_int_[0.33;0.9]",
          "EXT_SOURCE_3_disc_int_[0.33;0.9]",
          "EXT_SOURCE_3_disc_int_[0.33;0.9]",
          "EXT_SOURCE_3_disc_int_[0.33;0.9]",
          "EXT_SOURCE_3_disc_int_[0.33;0.9]",
          "EXT_SOURCE_3_disc_int_[0.33;0.9]",
          "EXT_SOURCE_3_disc_int_[0.33;0.9]",
          "EXT_SOURCE_3_disc_int_[0.33;0.9]",
          "EXT_SOURCE_3_disc_int_[0.33;0.9]",
          "EXT_SOURCE_3_disc_int_[0.33;0.9]",
          "EXT_SOURCE_3_disc_int_[0.33;0.9]",
          "EXT_SOURCE_3_disc_int_[0.33;0.9]",
          "EXT_SOURCE_3_disc_int_[0.33;0.9]",
          "EXT_SOURCE_3_disc_int_[0.33;0.9]",
          "EXT_SOURCE_3_disc_int_[0.33;0.9]",
          "EXT_SOURCE_3_disc_int_[0.33;0.9]",
          "EXT_SOURCE_3_disc_int_[0.33;0.9]",
          "EXT_SOURCE_3_disc_int_[0.33;0.9]",
          "EXT_SOURCE_3_disc_int_[0.33;0.9]",
          "EXT_SOURCE_3_disc_int_[0.33;0.9]",
          "EXT_SOURCE_3_disc_int_[0.33;0.9]",
          "EXT_SOURCE_3_disc_int_[0.33;0.9]",
          "EXT_SOURCE_3_disc_int_[0.33;0.9]",
          "EXT_SOURCE_3_disc_int_[0.33;0.9]",
          "EXT_SOURCE_3_disc_int_[0.33;0.9]",
          "EXT_SOURCE_3_disc_int_[0.33;0.9]",
          "EXT_SOURCE_3_disc_int_[0.33;0.9]",
          "EXT_SOURCE_3_disc_int_[0.33;0.9]",
          "EXT_SOURCE_3_disc_int_[0.33;0.9]",
          "EXT_SOURCE_3_disc_int_[0.33;0.9]",
          "EXT_SOURCE_3_disc_int_[0.33;0.9]",
          "EXT_SOURCE_3_disc_int_[0.33;0.9]",
          "EXT_SOURCE_3_disc_int_[0.33;0.9]",
          "EXT_SOURCE_3_disc_int_[0.33;0.9]",
          "EXT_SOURCE_3_disc_int_[0.33;0.9]",
          "EXT_SOURCE_3_disc_int_[0.33;0.9]",
          "EXT_SOURCE_3_disc_int_[0.33;0.9]",
          "EXT_SOURCE_3_disc_int_[0.33;0.9]",
          "EXT_SOURCE_3_disc_int_[0.33;0.9]",
          "EXT_SOURCE_3_disc_int_[0.33;0.9]",
          "EXT_SOURCE_3_disc_int_[0.33;0.9]",
          "EXT_SOURCE_3_disc_int_[0.33;0.9]",
          "EXT_SOURCE_3_disc_int_[0.33;0.9]",
          "EXT_SOURCE_3_disc_int_[0.33;0.9]",
          "EXT_SOURCE_3_disc_int_[0.33;0.9]",
          "EXT_SOURCE_3_disc_int_[0.33;0.9]",
          "EXT_SOURCE_3_disc_int_[0.33;0.9]",
          "EXT_SOURCE_3_disc_int_[0.33;0.9]",
          "EXT_SOURCE_3_disc_int_[0.33;0.9]",
          "EXT_SOURCE_3_disc_int_[0.33;0.9]",
          "EXT_SOURCE_3_disc_int_[0.33;0.9]",
          "EXT_SOURCE_3_disc_int_[0.33;0.9]",
          "EXT_SOURCE_3_disc_int_[0.33;0.9]",
          "EXT_SOURCE_3_disc_int_[0.33;0.9]",
          "EXT_SOURCE_3_disc_int_[0.33;0.9]",
          "EXT_SOURCE_3_disc_int_[0.33;0.9]",
          "EXT_SOURCE_3_disc_int_[0.33;0.9]",
          "EXT_SOURCE_3_disc_int_[0.33;0.9]",
          "EXT_SOURCE_3_disc_int_[0.33;0.9]",
          "EXT_SOURCE_3_disc_int_[0.33;0.9]",
          "EXT_SOURCE_3_disc_int_[0.33;0.9]",
          "EXT_SOURCE_3_disc_int_[0.33;0.9]",
          "EXT_SOURCE_3_disc_int_[0.33;0.9]",
          "EXT_SOURCE_3_disc_int_[0.33;0.9]",
          "EXT_SOURCE_3_disc_int_[0.33;0.9]",
          "EXT_SOURCE_3_disc_int_[0.33;0.9]",
          "EXT_SOURCE_3_disc_int_[0.33;0.9]",
          "EXT_SOURCE_3_disc_int_[0.33;0.9]",
          "EXT_SOURCE_3_disc_int_[0.33;0.9]",
          "EXT_SOURCE_3_disc_int_[0.33;0.9]",
          "EXT_SOURCE_3_disc_int_[0.33;0.9]",
          "EXT_SOURCE_3_disc_int_[0.33;0.9]",
          "EXT_SOURCE_3_disc_int_[0.33;0.9]",
          "EXT_SOURCE_3_disc_int_[0.33;0.9]",
          "EXT_SOURCE_3_disc_int_[0.33;0.9]",
          "EXT_SOURCE_3_disc_int_[0.33;0.9]",
          "EXT_SOURCE_3_disc_int_[0.33;0.9]",
          "EXT_SOURCE_3_disc_int_[0.33;0.9]",
          "EXT_SOURCE_3_disc_int_[0.33;0.9]",
          "EXT_SOURCE_3_disc_int_[0.33;0.9]",
          "EXT_SOURCE_3_disc_int_[0.33;0.9]",
          "EXT_SOURCE_3_disc_int_[0.33;0.9]",
          "EXT_SOURCE_3_disc_int_[0.33;0.9]",
          "EXT_SOURCE_3_disc_int_[0.33;0.9]",
          "EXT_SOURCE_3_disc_int_[0.33;0.9]",
          "EXT_SOURCE_3_disc_int_[0.33;0.9]",
          "EXT_SOURCE_3_disc_int_[0.33;0.9]",
          "EXT_SOURCE_3_disc_int_[0.33;0.9]",
          "EXT_SOURCE_3_disc_int_[0.33;0.9]",
          "EXT_SOURCE_3_disc_int_[0.33;0.9]",
          "EXT_SOURCE_3_disc_int_[0.33;0.9]",
          "EXT_SOURCE_3_disc_int_[0.33;0.9]",
          "EXT_SOURCE_3_disc_int_[0.33;0.9]",
          "EXT_SOURCE_3_disc_int_[0.33;0.9]",
          "EXT_SOURCE_3_disc_int_[0.33;0.9]",
          "EXT_SOURCE_3_disc_int_[0.33;0.9]",
          "EXT_SOURCE_3_disc_int_[0.33;0.9]",
          "EXT_SOURCE_3_disc_int_[0.33;0.9]",
          "EXT_SOURCE_3_disc_int_[0.33;0.9]",
          "EXT_SOURCE_3_disc_int_[0.33;0.9]",
          "EXT_SOURCE_3_disc_int_[0.33;0.9]",
          "EXT_SOURCE_3_disc_int_[0.33;0.9]",
          "EXT_SOURCE_3_disc_int_[0.33;0.9]",
          "EXT_SOURCE_3_disc_int_[0.33;0.9]",
          "EXT_SOURCE_3_disc_int_[0.33;0.9]",
          "EXT_SOURCE_3_disc_int_[0.33;0.9]",
          "EXT_SOURCE_3_disc_int_[0.33;0.9]",
          "EXT_SOURCE_3_disc_int_[0.33;0.9]",
          "EXT_SOURCE_3_disc_int_[0.33;0.9]",
          "EXT_SOURCE_3_disc_int_[0.33;0.9]",
          "EXT_SOURCE_3_disc_int_[0.33;0.9]",
          "EXT_SOURCE_3_disc_int_[0.33;0.9]",
          "EXT_SOURCE_3_disc_int_[0.33;0.9]",
          "EXT_SOURCE_3_disc_int_[0.33;0.9]",
          "EXT_SOURCE_3_disc_int_[0.33;0.9]",
          "EXT_SOURCE_3_disc_int_[0.33;0.9]",
          "EXT_SOURCE_3_disc_int_[0.33;0.9]",
          "EXT_SOURCE_3_disc_int_[0.33;0.9]",
          "EXT_SOURCE_3_disc_int_[0.33;0.9]",
          "EXT_SOURCE_3_disc_int_[0.33;0.9]",
          "EXT_SOURCE_3_disc_int_[0.33;0.9]",
          "EXT_SOURCE_3_disc_int_[0.33;0.9]",
          "EXT_SOURCE_3_disc_int_[0.33;0.9]",
          "EXT_SOURCE_3_disc_int_[0.33;0.9]",
          "EXT_SOURCE_3_disc_int_[0.33;0.9]",
          "EXT_SOURCE_3_disc_int_[0.33;0.9]",
          "EXT_SOURCE_3_disc_int_[0.33;0.9]",
          "EXT_SOURCE_3_disc_int_[0.33;0.9]",
          "EXT_SOURCE_3_disc_int_[0.33;0.9]",
          "EXT_SOURCE_3_disc_int_[0.33;0.9]",
          "EXT_SOURCE_3_disc_int_[0.33;0.9]",
          "EXT_SOURCE_3_disc_int_[0.33;0.9]",
          "EXT_SOURCE_3_disc_int_[0.33;0.9]",
          "EXT_SOURCE_3_disc_int_[0.33;0.9]",
          "EXT_SOURCE_3_disc_int_[0.33;0.9]",
          "EXT_SOURCE_3_disc_int_[0.33;0.9]",
          "EXT_SOURCE_3_disc_int_[0.33;0.9]",
          "EXT_SOURCE_3_disc_int_[0.33;0.9]",
          "EXT_SOURCE_3_disc_int_[0.33;0.9]",
          "EXT_SOURCE_3_disc_int_[0.33;0.9]",
          "EXT_SOURCE_3_disc_int_[0.33;0.9]",
          "EXT_SOURCE_3_disc_int_[0.33;0.9]",
          "EXT_SOURCE_3_disc_int_[0.33;0.9]",
          "EXT_SOURCE_3_disc_int_[0.33;0.9]",
          "EXT_SOURCE_3_disc_int_[0.33;0.9]",
          "EXT_SOURCE_3_disc_int_[0.33;0.9]",
          "EXT_SOURCE_3_disc_int_[0.33;0.9]",
          "EXT_SOURCE_3_disc_int_[0.33;0.9]",
          "EXT_SOURCE_3_disc_int_[0.33;0.9]",
          "EXT_SOURCE_3_disc_int_[0.33;0.9]",
          "EXT_SOURCE_3_disc_int_[0.33;0.9]",
          "EXT_SOURCE_3_disc_int_[0.33;0.9]",
          "EXT_SOURCE_3_disc_int_[0.33;0.9]",
          "EXT_SOURCE_3_disc_int_[0.33;0.9]",
          "EXT_SOURCE_3_disc_int_[0.33;0.9]",
          "EXT_SOURCE_3_disc_int_[0.33;0.9]",
          "EXT_SOURCE_3_disc_int_[0.33;0.9]",
          "EXT_SOURCE_3_disc_int_[0.33;0.9]",
          "EXT_SOURCE_3_disc_int_[0.33;0.9]",
          "EXT_SOURCE_3_disc_int_[0.33;0.9]",
          "EXT_SOURCE_3_disc_int_[0.33;0.9]",
          "EXT_SOURCE_3_disc_int_[0.33;0.9]",
          "EXT_SOURCE_3_disc_int_[0.33;0.9]",
          "EXT_SOURCE_3_disc_int_[0.33;0.9]",
          "EXT_SOURCE_3_disc_int_[0.33;0.9]",
          "EXT_SOURCE_3_disc_int_[0.33;0.9]",
          "EXT_SOURCE_3_disc_int_[0.33;0.9]",
          "EXT_SOURCE_3_disc_int_[0.33;0.9]",
          "EXT_SOURCE_3_disc_int_[0.33;0.9]",
          "EXT_SOURCE_3_disc_int_[0.33;0.9]",
          "EXT_SOURCE_3_disc_int_[0.33;0.9]",
          "EXT_SOURCE_3_disc_int_[0.33;0.9]",
          "EXT_SOURCE_3_disc_int_[0.33;0.9]",
          "EXT_SOURCE_3_disc_int_[0.33;0.9]",
          "EXT_SOURCE_3_disc_int_[0.33;0.9]",
          "EXT_SOURCE_3_disc_int_[0.33;0.9]",
          "EXT_SOURCE_3_disc_int_[0.33;0.9]",
          "EXT_SOURCE_3_disc_int_[0.33;0.9]",
          "EXT_SOURCE_3_disc_int_[0.33;0.9]",
          "EXT_SOURCE_3_disc_int_[0.33;0.9]",
          "EXT_SOURCE_3_disc_int_[0.33;0.9]",
          "EXT_SOURCE_3_disc_int_[0.33;0.9]",
          "EXT_SOURCE_3_disc_int_[0.33;0.9]",
          "EXT_SOURCE_3_disc_int_[0.33;0.9]",
          "EXT_SOURCE_3_disc_int_[0.33;0.9]",
          "EXT_SOURCE_3_disc_int_[0.33;0.9]",
          "EXT_SOURCE_3_disc_int_[0.33;0.9]",
          "EXT_SOURCE_3_disc_int_[0.33;0.9]",
          "EXT_SOURCE_3_disc_int_[0.33;0.9]",
          "EXT_SOURCE_3_disc_int_[0.33;0.9]",
          "EXT_SOURCE_3_disc_int_[0.33;0.9]",
          "EXT_SOURCE_3_disc_int_[0.33;0.9]",
          "EXT_SOURCE_3_disc_int_[0.33;0.9]",
          "EXT_SOURCE_3_disc_int_[0.33;0.9]",
          "EXT_SOURCE_3_disc_int_[0.33;0.9]",
          "EXT_SOURCE_3_disc_int_[0.33;0.9]",
          "EXT_SOURCE_3_disc_int_[0.33;0.9]",
          "EXT_SOURCE_3_disc_int_[0.33;0.9]",
          "EXT_SOURCE_3_disc_int_[0.33;0.9]",
          "EXT_SOURCE_3_disc_int_[0.33;0.9]",
          "EXT_SOURCE_3_disc_int_[0.33;0.9]",
          "EXT_SOURCE_3_disc_int_[0.33;0.9]",
          "EXT_SOURCE_3_disc_int_[0.33;0.9]",
          "EXT_SOURCE_3_disc_int_[0.33;0.9]",
          "EXT_SOURCE_3_disc_int_[0.33;0.9]",
          "EXT_SOURCE_3_disc_int_[0.33;0.9]",
          "EXT_SOURCE_3_disc_int_[0.33;0.9]",
          "EXT_SOURCE_3_disc_int_[0.33;0.9]",
          "EXT_SOURCE_3_disc_int_[0.33;0.9]",
          "EXT_SOURCE_3_disc_int_[0.33;0.9]",
          "EXT_SOURCE_3_disc_int_[0.33;0.9]",
          "EXT_SOURCE_3_disc_int_[0.33;0.9]",
          "EXT_SOURCE_3_disc_int_[0.33;0.9]",
          "EXT_SOURCE_3_disc_int_[0.33;0.9]",
          "EXT_SOURCE_3_disc_int_[0.33;0.9]",
          "EXT_SOURCE_3_disc_int_[0.33;0.9]",
          "EXT_SOURCE_3_disc_int_[0.33;0.9]",
          "EXT_SOURCE_3_disc_int_[0.33;0.9]",
          "EXT_SOURCE_3_disc_int_[0.33;0.9]",
          "EXT_SOURCE_3_disc_int_[0.33;0.9]",
          "EXT_SOURCE_3_disc_int_[0.33;0.9]",
          "EXT_SOURCE_3_disc_int_[0.33;0.9]",
          "EXT_SOURCE_3_disc_int_[0.33;0.9]",
          "EXT_SOURCE_3_disc_int_[0.33;0.9]",
          "EXT_SOURCE_3_disc_int_[0.33;0.9]",
          "EXT_SOURCE_3_disc_int_[0.33;0.9]",
          "EXT_SOURCE_3_disc_int_[0.33;0.9]",
          "EXT_SOURCE_3_disc_int_[0.33;0.9]",
          "EXT_SOURCE_3_disc_int_[0.33;0.9]",
          "EXT_SOURCE_3_disc_int_[0.33;0.9]",
          "EXT_SOURCE_3_disc_int_[0.33;0.9]",
          "EXT_SOURCE_3_disc_int_[0.33;0.9]",
          "EXT_SOURCE_3_disc_int_[0.33;0.9]",
          "EXT_SOURCE_3_disc_int_[0.33;0.9]",
          "EXT_SOURCE_3_disc_int_[0.33;0.9]",
          "EXT_SOURCE_3_disc_int_[0.33;0.9]",
          "EXT_SOURCE_3_disc_int_[0.33;0.9]",
          "EXT_SOURCE_3_disc_int_[0.33;0.9]",
          "EXT_SOURCE_3_disc_int_[0.33;0.9]",
          "EXT_SOURCE_3_disc_int_[0.33;0.9]",
          "EXT_SOURCE_3_disc_int_[0.33;0.9]",
          "EXT_SOURCE_3_disc_int_[0.33;0.9]",
          "EXT_SOURCE_3_disc_int_[0.33;0.9]",
          "EXT_SOURCE_3_disc_int_[0.33;0.9]",
          "EXT_SOURCE_3_disc_int_[0.33;0.9]",
          "EXT_SOURCE_3_disc_int_[0.33;0.9]",
          "EXT_SOURCE_3_disc_int_[0.33;0.9]",
          "EXT_SOURCE_3_disc_int_[0.33;0.9]",
          "EXT_SOURCE_3_disc_int_[0.33;0.9]",
          "EXT_SOURCE_3_disc_int_[0.33;0.9]",
          "EXT_SOURCE_3_disc_int_[0.33;0.9]",
          "EXT_SOURCE_3_disc_int_[0.33;0.9]",
          "EXT_SOURCE_3_disc_int_[0.33;0.9]",
          "EXT_SOURCE_3_disc_int_[0.33;0.9]",
          "EXT_SOURCE_3_disc_int_[0.33;0.9]",
          "EXT_SOURCE_3_disc_int_[0.33;0.9]",
          "EXT_SOURCE_3_disc_int_[0.33;0.9]",
          "EXT_SOURCE_3_disc_int_[0.33;0.9]",
          "EXT_SOURCE_3_disc_int_[0.33;0.9]",
          "EXT_SOURCE_3_disc_int_[0.33;0.9]",
          "EXT_SOURCE_3_disc_int_[0.33;0.9]",
          "EXT_SOURCE_3_disc_int_[0.33;0.9]",
          "EXT_SOURCE_3_disc_int_[0.33;0.9]",
          "EXT_SOURCE_3_disc_int_[0.33;0.9]",
          "EXT_SOURCE_3_disc_int_[0.33;0.9]",
          "EXT_SOURCE_3_disc_int_[0.33;0.9]",
          "EXT_SOURCE_3_disc_int_[0.33;0.9]",
          "EXT_SOURCE_3_disc_int_[0.33;0.9]",
          "EXT_SOURCE_3_disc_int_[0.33;0.9]",
          "EXT_SOURCE_3_disc_int_[0.33;0.9]",
          "EXT_SOURCE_3_disc_int_[0.33;0.9]",
          "EXT_SOURCE_3_disc_int_[0.33;0.9]",
          "EXT_SOURCE_3_disc_int_[0.33;0.9]",
          "EXT_SOURCE_3_disc_int_[0.33;0.9]",
          "EXT_SOURCE_3_disc_int_[0.33;0.9]",
          "EXT_SOURCE_3_disc_int_[0.33;0.9]",
          "EXT_SOURCE_3_disc_int_[0.33;0.9]",
          "EXT_SOURCE_3_disc_int_[0.33;0.9]",
          "EXT_SOURCE_3_disc_int_[0.33;0.9]",
          "EXT_SOURCE_3_disc_int_[0.33;0.9]",
          "EXT_SOURCE_3_disc_int_[0.33;0.9]",
          "EXT_SOURCE_3_disc_int_[0.33;0.9]",
          "EXT_SOURCE_3_disc_int_[0.33;0.9]",
          "EXT_SOURCE_3_disc_int_[0.33;0.9]",
          "EXT_SOURCE_3_disc_int_[0.33;0.9]",
          "EXT_SOURCE_3_disc_int_[0.33;0.9]",
          "EXT_SOURCE_3_disc_int_[0.33;0.9]",
          "EXT_SOURCE_3_disc_int_[0.33;0.9]",
          "EXT_SOURCE_3_disc_int_[0.33;0.9]",
          "EXT_SOURCE_3_disc_int_[0.33;0.9]",
          "EXT_SOURCE_3_disc_int_[0.33;0.9]",
          "EXT_SOURCE_3_disc_int_[0.33;0.9]",
          "EXT_SOURCE_3_disc_int_[0.33;0.9]",
          "EXT_SOURCE_3_disc_int_[0.33;0.9]",
          "EXT_SOURCE_3_disc_int_[0.33;0.9]",
          "EXT_SOURCE_3_disc_int_[0.33;0.9]",
          "EXT_SOURCE_3_disc_int_[0.33;0.9]",
          "EXT_SOURCE_3_disc_int_[0.33;0.9]",
          "EXT_SOURCE_3_disc_int_[0.33;0.9]",
          "EXT_SOURCE_3_disc_int_[0.33;0.9]",
          "EXT_SOURCE_3_disc_int_[0.33;0.9]",
          "EXT_SOURCE_3_disc_int_[0.33;0.9]",
          "EXT_SOURCE_3_disc_int_[0.33;0.9]",
          "EXT_SOURCE_3_disc_int_[0.33;0.9]",
          "EXT_SOURCE_3_disc_int_[0.33;0.9]",
          "EXT_SOURCE_3_disc_int_[0.33;0.9]",
          "EXT_SOURCE_3_disc_int_[0.33;0.9]",
          "EXT_SOURCE_3_disc_int_[0.33;0.9]",
          "EXT_SOURCE_3_disc_int_[0.33;0.9]",
          "EXT_SOURCE_3_disc_int_[0.33;0.9]",
          "EXT_SOURCE_3_disc_int_[0.33;0.9]",
          "EXT_SOURCE_3_disc_int_[0.33;0.9]",
          "EXT_SOURCE_3_disc_int_[0.33;0.9]",
          "EXT_SOURCE_3_disc_int_[0.33;0.9]",
          "EXT_SOURCE_3_disc_int_[0.33;0.9]",
          "EXT_SOURCE_3_disc_int_[0.33;0.9]",
          "EXT_SOURCE_3_disc_int_[0.33;0.9]",
          "EXT_SOURCE_3_disc_int_[0.33;0.9]",
          "EXT_SOURCE_3_disc_int_[0.33;0.9]",
          "EXT_SOURCE_3_disc_int_[0.33;0.9]",
          "EXT_SOURCE_3_disc_int_[0.33;0.9]",
          "EXT_SOURCE_3_disc_int_[0.33;0.9]",
          "EXT_SOURCE_3_disc_int_[0.33;0.9]",
          "EXT_SOURCE_3_disc_int_[0.33;0.9]",
          "EXT_SOURCE_3_disc_int_[0.33;0.9]",
          "EXT_SOURCE_3_disc_int_[0.33;0.9]",
          "EXT_SOURCE_3_disc_int_[0.33;0.9]",
          "EXT_SOURCE_3_disc_int_[0.33;0.9]",
          "EXT_SOURCE_3_disc_int_[0.33;0.9]",
          "EXT_SOURCE_3_disc_int_[0.33;0.9]",
          "EXT_SOURCE_3_disc_int_[0.33;0.9]",
          "EXT_SOURCE_3_disc_int_[0.33;0.9]",
          "EXT_SOURCE_3_disc_int_[0.33;0.9]",
          "EXT_SOURCE_3_disc_int_[0.33;0.9]",
          "EXT_SOURCE_3_disc_int_[0.33;0.9]",
          "EXT_SOURCE_3_disc_int_[0.33;0.9]",
          "EXT_SOURCE_3_disc_int_[0.33;0.9]",
          "EXT_SOURCE_3_disc_int_[0.33;0.9]",
          "EXT_SOURCE_3_disc_int_[0.33;0.9]",
          "EXT_SOURCE_3_disc_int_[0.33;0.9]",
          "EXT_SOURCE_3_disc_int_[0.33;0.9]",
          "EXT_SOURCE_3_disc_int_[0.33;0.9]",
          "EXT_SOURCE_3_disc_int_[0.33;0.9]",
          "EXT_SOURCE_3_disc_int_[0.33;0.9]",
          "EXT_SOURCE_3_disc_int_[0.33;0.9]",
          "EXT_SOURCE_3_disc_int_[0.33;0.9]",
          "EXT_SOURCE_3_disc_int_[0.33;0.9]",
          "EXT_SOURCE_3_disc_int_[0.33;0.9]",
          "EXT_SOURCE_3_disc_int_[0.33;0.9]",
          "EXT_SOURCE_3_disc_int_[0.33;0.9]",
          "EXT_SOURCE_3_disc_int_[0.33;0.9]",
          "EXT_SOURCE_3_disc_int_[0.33;0.9]",
          "EXT_SOURCE_3_disc_int_[0.33;0.9]",
          "EXT_SOURCE_3_disc_int_[0.33;0.9]",
          "EXT_SOURCE_3_disc_int_[0.33;0.9]",
          "EXT_SOURCE_3_disc_int_[0.33;0.9]",
          "EXT_SOURCE_3_disc_int_[0.33;0.9]",
          "EXT_SOURCE_3_disc_int_[0.33;0.9]",
          "EXT_SOURCE_3_disc_int_[0.33;0.9]",
          "EXT_SOURCE_3_disc_int_[0.33;0.9]",
          "EXT_SOURCE_3_disc_int_[0.33;0.9]",
          "EXT_SOURCE_3_disc_int_[0.33;0.9]",
          "EXT_SOURCE_3_disc_int_[0.33;0.9]",
          "EXT_SOURCE_3_disc_int_[0.33;0.9]",
          "EXT_SOURCE_3_disc_int_[0.33;0.9]",
          "EXT_SOURCE_3_disc_int_[0.33;0.9]",
          "EXT_SOURCE_3_disc_int_[0.33;0.9]",
          "EXT_SOURCE_3_disc_int_[0.33;0.9]",
          "EXT_SOURCE_3_disc_int_[0.33;0.9]",
          "EXT_SOURCE_3_disc_int_[0.33;0.9]",
          "EXT_SOURCE_3_disc_int_[0.33;0.9]",
          "EXT_SOURCE_3_disc_int_[0.33;0.9]",
          "EXT_SOURCE_3_disc_int_[0.33;0.9]",
          "EXT_SOURCE_3_disc_int_[0.33;0.9]",
          "EXT_SOURCE_3_disc_int_[0.33;0.9]",
          "EXT_SOURCE_3_disc_int_[0.33;0.9]",
          "EXT_SOURCE_3_disc_int_[0.33;0.9]",
          "EXT_SOURCE_3_disc_int_[0.33;0.9]",
          "EXT_SOURCE_3_disc_int_[0.33;0.9]",
          "EXT_SOURCE_3_disc_int_[0.33;0.9]",
          "NAME_INCOME_TYPE_discret_Low_income",
          "NAME_INCOME_TYPE_discret_Low_income",
          "NAME_INCOME_TYPE_discret_Low_income",
          "NAME_INCOME_TYPE_discret_Low_income",
          "NAME_INCOME_TYPE_discret_Low_income",
          "NAME_INCOME_TYPE_discret_Low_income",
          "NAME_INCOME_TYPE_discret_Low_income",
          "NAME_INCOME_TYPE_discret_Low_income",
          "NAME_INCOME_TYPE_discret_Low_income",
          "NAME_INCOME_TYPE_discret_Low_income",
          "NAME_INCOME_TYPE_discret_Low_income",
          "NAME_INCOME_TYPE_discret_Low_income",
          "NAME_INCOME_TYPE_discret_Low_income",
          "NAME_INCOME_TYPE_discret_Low_income",
          "NAME_INCOME_TYPE_discret_Low_income",
          "NAME_INCOME_TYPE_discret_Low_income",
          "NAME_INCOME_TYPE_discret_Low_income",
          "NAME_INCOME_TYPE_discret_Low_income",
          "NAME_INCOME_TYPE_discret_Low_income",
          "NAME_INCOME_TYPE_discret_Low_income",
          "NAME_INCOME_TYPE_discret_Low_income",
          "NAME_INCOME_TYPE_discret_Low_income",
          "NAME_INCOME_TYPE_discret_Low_income",
          "NAME_INCOME_TYPE_discret_Low_income",
          "NAME_INCOME_TYPE_discret_Low_income",
          "NAME_INCOME_TYPE_discret_Low_income",
          "NAME_INCOME_TYPE_discret_Low_income",
          "NAME_INCOME_TYPE_discret_Low_income",
          "NAME_INCOME_TYPE_discret_Low_income",
          "NAME_INCOME_TYPE_discret_Low_income",
          "NAME_INCOME_TYPE_discret_Low_income",
          "NAME_INCOME_TYPE_discret_Low_income",
          "NAME_INCOME_TYPE_discret_Low_income",
          "NAME_INCOME_TYPE_discret_Low_income",
          "NAME_INCOME_TYPE_discret_Low_income",
          "NAME_INCOME_TYPE_discret_Low_income",
          "NAME_INCOME_TYPE_discret_Low_income",
          "NAME_INCOME_TYPE_discret_Low_income",
          "NAME_INCOME_TYPE_discret_Low_income",
          "NAME_INCOME_TYPE_discret_Low_income",
          "NAME_INCOME_TYPE_discret_Low_income",
          "NAME_INCOME_TYPE_discret_Low_income",
          "NAME_INCOME_TYPE_discret_Low_income",
          "NAME_INCOME_TYPE_discret_Low_income",
          "NAME_INCOME_TYPE_discret_Low_income",
          "NAME_INCOME_TYPE_discret_Low_income",
          "NAME_INCOME_TYPE_discret_Low_income",
          "NAME_INCOME_TYPE_discret_Low_income",
          "NAME_INCOME_TYPE_discret_Low_income",
          "NAME_INCOME_TYPE_discret_Low_income",
          "NAME_INCOME_TYPE_discret_Low_income",
          "NAME_INCOME_TYPE_discret_Low_income",
          "NAME_INCOME_TYPE_discret_Low_income",
          "NAME_INCOME_TYPE_discret_Low_income",
          "NAME_INCOME_TYPE_discret_Low_income",
          "NAME_INCOME_TYPE_discret_Low_income",
          "NAME_INCOME_TYPE_discret_Low_income",
          "NAME_INCOME_TYPE_discret_Low_income",
          "NAME_INCOME_TYPE_discret_Low_income",
          "NAME_INCOME_TYPE_discret_Low_income",
          "NAME_INCOME_TYPE_discret_Low_income",
          "NAME_INCOME_TYPE_discret_Low_income",
          "NAME_INCOME_TYPE_discret_Low_income",
          "NAME_INCOME_TYPE_discret_Low_income",
          "NAME_INCOME_TYPE_discret_Low_income",
          "NAME_INCOME_TYPE_discret_Low_income",
          "NAME_INCOME_TYPE_discret_Low_income",
          "NAME_INCOME_TYPE_discret_Low_income",
          "NAME_INCOME_TYPE_discret_Low_income",
          "NAME_INCOME_TYPE_discret_Low_income",
          "NAME_INCOME_TYPE_discret_Low_income",
          "NAME_INCOME_TYPE_discret_Low_income",
          "NAME_INCOME_TYPE_discret_Low_income",
          "NAME_INCOME_TYPE_discret_Low_income",
          "NAME_INCOME_TYPE_discret_Low_income",
          "NAME_INCOME_TYPE_discret_Low_income",
          "NAME_INCOME_TYPE_discret_Low_income",
          "NAME_INCOME_TYPE_discret_Low_income",
          "NAME_INCOME_TYPE_discret_Low_income",
          "NAME_INCOME_TYPE_discret_Low_income",
          "NAME_INCOME_TYPE_discret_Low_income",
          "NAME_INCOME_TYPE_discret_Low_income",
          "NAME_INCOME_TYPE_discret_Low_income",
          "NAME_INCOME_TYPE_discret_Low_income",
          "NAME_INCOME_TYPE_discret_Low_income",
          "NAME_INCOME_TYPE_discret_Low_income",
          "NAME_INCOME_TYPE_discret_Low_income",
          "NAME_INCOME_TYPE_discret_Low_income",
          "NAME_INCOME_TYPE_discret_Low_income",
          "NAME_INCOME_TYPE_discret_Low_income",
          "NAME_INCOME_TYPE_discret_Low_income",
          "NAME_INCOME_TYPE_discret_Low_income",
          "NAME_INCOME_TYPE_discret_Low_income",
          "NAME_INCOME_TYPE_discret_Low_income",
          "NAME_INCOME_TYPE_discret_Low_income",
          "NAME_INCOME_TYPE_discret_Low_income",
          "NAME_INCOME_TYPE_discret_Low_income",
          "NAME_INCOME_TYPE_discret_Low_income",
          "NAME_INCOME_TYPE_discret_Low_income",
          "NAME_INCOME_TYPE_discret_Low_income",
          "NAME_INCOME_TYPE_discret_Low_income",
          "NAME_INCOME_TYPE_discret_Low_income",
          "NAME_INCOME_TYPE_discret_Low_income",
          "NAME_INCOME_TYPE_discret_Low_income",
          "NAME_INCOME_TYPE_discret_Low_income",
          "NAME_INCOME_TYPE_discret_Low_income",
          "NAME_INCOME_TYPE_discret_Low_income",
          "NAME_INCOME_TYPE_discret_Low_income",
          "NAME_INCOME_TYPE_discret_Low_income",
          "NAME_INCOME_TYPE_discret_Low_income",
          "NAME_INCOME_TYPE_discret_Low_income",
          "NAME_INCOME_TYPE_discret_Low_income",
          "NAME_INCOME_TYPE_discret_Low_income",
          "NAME_INCOME_TYPE_discret_Low_income",
          "AMT_CREDIT_SUM_DEBT_disc_int_[-6981558.21;9090.0]",
          "AMT_CREDIT_SUM_DEBT_disc_int_[-6981558.21;9090.0]",
          "AMT_CREDIT_SUM_DEBT_disc_int_[-6981558.21;9090.0]",
          "AMT_CREDIT_SUM_DEBT_disc_int_[-6981558.21;9090.0]",
          "AMT_CREDIT_SUM_DEBT_disc_int_[-6981558.21;9090.0]",
          "AMT_CREDIT_SUM_DEBT_disc_int_[-6981558.21;9090.0]",
          "AMT_CREDIT_SUM_DEBT_disc_int_[-6981558.21;9090.0]",
          "AMT_CREDIT_SUM_DEBT_disc_int_[-6981558.21;9090.0]",
          "AMT_CREDIT_SUM_DEBT_disc_int_[-6981558.21;9090.0]",
          "AMT_CREDIT_SUM_DEBT_disc_int_[-6981558.21;9090.0]",
          "AMT_CREDIT_SUM_DEBT_disc_int_[-6981558.21;9090.0]",
          "AMT_CREDIT_SUM_DEBT_disc_int_[-6981558.21;9090.0]",
          "AMT_CREDIT_SUM_DEBT_disc_int_[-6981558.21;9090.0]",
          "AMT_CREDIT_SUM_DEBT_disc_int_[-6981558.21;9090.0]",
          "AMT_CREDIT_SUM_DEBT_disc_int_[-6981558.21;9090.0]",
          "AMT_CREDIT_SUM_DEBT_disc_int_[-6981558.21;9090.0]",
          "AMT_CREDIT_SUM_DEBT_disc_int_[-6981558.21;9090.0]",
          "AMT_CREDIT_SUM_DEBT_disc_int_[-6981558.21;9090.0]",
          "AMT_CREDIT_SUM_DEBT_disc_int_[-6981558.21;9090.0]",
          "AMT_CREDIT_SUM_DEBT_disc_int_[-6981558.21;9090.0]",
          "AMT_CREDIT_SUM_DEBT_disc_int_[-6981558.21;9090.0]",
          "AMT_CREDIT_SUM_DEBT_disc_int_[-6981558.21;9090.0]",
          "AMT_CREDIT_SUM_DEBT_disc_int_[-6981558.21;9090.0]",
          "AMT_CREDIT_SUM_DEBT_disc_int_[-6981558.21;9090.0]",
          "AMT_CREDIT_SUM_DEBT_disc_int_[-6981558.21;9090.0]",
          "AMT_CREDIT_SUM_DEBT_disc_int_[-6981558.21;9090.0]",
          "AMT_CREDIT_SUM_DEBT_disc_int_[-6981558.21;9090.0]",
          "AMT_CREDIT_SUM_DEBT_disc_int_[-6981558.21;9090.0]",
          "AMT_CREDIT_SUM_DEBT_disc_int_[-6981558.21;9090.0]",
          "AMT_CREDIT_SUM_DEBT_disc_int_[-6981558.21;9090.0]",
          "AMT_CREDIT_SUM_DEBT_disc_int_[-6981558.21;9090.0]",
          "AMT_CREDIT_SUM_DEBT_disc_int_[-6981558.21;9090.0]",
          "AMT_CREDIT_SUM_DEBT_disc_int_[-6981558.21;9090.0]",
          "AMT_CREDIT_SUM_DEBT_disc_int_[-6981558.21;9090.0]",
          "AMT_CREDIT_SUM_DEBT_disc_int_[-6981558.21;9090.0]",
          "AMT_CREDIT_SUM_DEBT_disc_int_[-6981558.21;9090.0]",
          "AMT_CREDIT_SUM_DEBT_disc_int_[-6981558.21;9090.0]",
          "AMT_CREDIT_SUM_DEBT_disc_int_[-6981558.21;9090.0]",
          "AMT_CREDIT_SUM_DEBT_disc_int_[-6981558.21;9090.0]",
          "AMT_CREDIT_SUM_DEBT_disc_int_[-6981558.21;9090.0]",
          "AMT_CREDIT_SUM_DEBT_disc_int_[-6981558.21;9090.0]",
          "AMT_CREDIT_SUM_DEBT_disc_int_[-6981558.21;9090.0]",
          "AMT_CREDIT_SUM_DEBT_disc_int_[-6981558.21;9090.0]",
          "AMT_CREDIT_SUM_DEBT_disc_int_[-6981558.21;9090.0]",
          "AMT_CREDIT_SUM_DEBT_disc_int_[-6981558.21;9090.0]",
          "AMT_CREDIT_SUM_DEBT_disc_int_[-6981558.21;9090.0]",
          "AMT_CREDIT_SUM_DEBT_disc_int_[-6981558.21;9090.0]",
          "AMT_CREDIT_SUM_DEBT_disc_int_[-6981558.21;9090.0]",
          "AMT_CREDIT_SUM_DEBT_disc_int_[-6981558.21;9090.0]",
          "AMT_CREDIT_SUM_DEBT_disc_int_[-6981558.21;9090.0]",
          "AMT_CREDIT_SUM_DEBT_disc_int_[-6981558.21;9090.0]",
          "AMT_CREDIT_SUM_DEBT_disc_int_[-6981558.21;9090.0]",
          "AMT_CREDIT_SUM_DEBT_disc_int_[-6981558.21;9090.0]",
          "AMT_CREDIT_SUM_DEBT_disc_int_[-6981558.21;9090.0]",
          "AMT_CREDIT_SUM_DEBT_disc_int_[-6981558.21;9090.0]",
          "AMT_CREDIT_SUM_DEBT_disc_int_[-6981558.21;9090.0]",
          "AMT_CREDIT_SUM_DEBT_disc_int_[-6981558.21;9090.0]",
          "AMT_CREDIT_SUM_DEBT_disc_int_[-6981558.21;9090.0]",
          "AMT_CREDIT_SUM_DEBT_disc_int_[-6981558.21;9090.0]",
          "AMT_CREDIT_SUM_DEBT_disc_int_[-6981558.21;9090.0]",
          "AMT_CREDIT_SUM_DEBT_disc_int_[-6981558.21;9090.0]",
          "AMT_CREDIT_SUM_DEBT_disc_int_[-6981558.21;9090.0]",
          "AMT_CREDIT_SUM_DEBT_disc_int_[-6981558.21;9090.0]",
          "AMT_CREDIT_SUM_DEBT_disc_int_[-6981558.21;9090.0]",
          "AMT_CREDIT_SUM_DEBT_disc_int_[-6981558.21;9090.0]",
          "AMT_CREDIT_SUM_DEBT_disc_int_[-6981558.21;9090.0]",
          "AMT_CREDIT_SUM_DEBT_disc_int_[-6981558.21;9090.0]",
          "AMT_CREDIT_SUM_DEBT_disc_int_[-6981558.21;9090.0]",
          "AMT_CREDIT_SUM_DEBT_disc_int_[-6981558.21;9090.0]",
          "AMT_CREDIT_SUM_DEBT_disc_int_[-6981558.21;9090.0]",
          "AMT_CREDIT_SUM_DEBT_disc_int_[-6981558.21;9090.0]",
          "AMT_CREDIT_SUM_DEBT_disc_int_[-6981558.21;9090.0]",
          "AMT_CREDIT_SUM_DEBT_disc_int_[-6981558.21;9090.0]",
          "AMT_CREDIT_SUM_DEBT_disc_int_[-6981558.21;9090.0]",
          "AMT_CREDIT_SUM_DEBT_disc_int_[-6981558.21;9090.0]",
          "AMT_CREDIT_SUM_DEBT_disc_int_[-6981558.21;9090.0]",
          "AMT_CREDIT_SUM_DEBT_disc_int_[-6981558.21;9090.0]",
          "AMT_CREDIT_SUM_DEBT_disc_int_[-6981558.21;9090.0]",
          "AMT_CREDIT_SUM_DEBT_disc_int_[-6981558.21;9090.0]",
          "AMT_CREDIT_SUM_DEBT_disc_int_[-6981558.21;9090.0]",
          "AMT_CREDIT_SUM_DEBT_disc_int_[-6981558.21;9090.0]",
          "AMT_CREDIT_SUM_DEBT_disc_int_[-6981558.21;9090.0]",
          "AMT_CREDIT_SUM_DEBT_disc_int_[-6981558.21;9090.0]",
          "AMT_CREDIT_SUM_DEBT_disc_int_[-6981558.21;9090.0]",
          "AMT_CREDIT_SUM_DEBT_disc_int_[-6981558.21;9090.0]",
          "AMT_CREDIT_SUM_DEBT_disc_int_[-6981558.21;9090.0]",
          "AMT_CREDIT_SUM_DEBT_disc_int_[-6981558.21;9090.0]",
          "AMT_CREDIT_SUM_DEBT_disc_int_[-6981558.21;9090.0]",
          "AMT_CREDIT_SUM_DEBT_disc_int_[-6981558.21;9090.0]",
          "AMT_CREDIT_SUM_DEBT_disc_int_[-6981558.21;9090.0]",
          "AMT_CREDIT_SUM_DEBT_disc_int_[-6981558.21;9090.0]",
          "AMT_CREDIT_SUM_DEBT_disc_int_[-6981558.21;9090.0]",
          "AMT_CREDIT_SUM_DEBT_disc_int_[-6981558.21;9090.0]",
          "AMT_CREDIT_SUM_DEBT_disc_int_[-6981558.21;9090.0]",
          "AMT_CREDIT_SUM_DEBT_disc_int_[-6981558.21;9090.0]",
          "AMT_CREDIT_SUM_DEBT_disc_int_[-6981558.21;9090.0]",
          "AMT_CREDIT_SUM_DEBT_disc_int_[-6981558.21;9090.0]",
          "AMT_CREDIT_SUM_DEBT_disc_int_[-6981558.21;9090.0]",
          "AMT_CREDIT_SUM_DEBT_disc_int_[-6981558.21;9090.0]",
          "AMT_CREDIT_SUM_DEBT_disc_int_[-6981558.21;9090.0]",
          "AMT_CREDIT_SUM_DEBT_disc_int_[-6981558.21;9090.0]",
          "AMT_CREDIT_SUM_DEBT_disc_int_[-6981558.21;9090.0]",
          "AMT_CREDIT_SUM_DEBT_disc_int_[-6981558.21;9090.0]",
          "AMT_CREDIT_SUM_DEBT_disc_int_[-6981558.21;9090.0]",
          "AMT_CREDIT_SUM_DEBT_disc_int_[-6981558.21;9090.0]",
          "AMT_CREDIT_SUM_DEBT_disc_int_[-6981558.21;9090.0]",
          "AMT_CREDIT_SUM_DEBT_disc_int_[-6981558.21;9090.0]",
          "AMT_CREDIT_SUM_DEBT_disc_int_[-6981558.21;9090.0]",
          "AMT_CREDIT_SUM_DEBT_disc_int_[-6981558.21;9090.0]",
          "AMT_CREDIT_SUM_DEBT_disc_int_[-6981558.21;9090.0]",
          "AMT_CREDIT_SUM_DEBT_disc_int_[-6981558.21;9090.0]",
          "AMT_CREDIT_SUM_DEBT_disc_int_[-6981558.21;9090.0]",
          "AMT_CREDIT_SUM_DEBT_disc_int_[-6981558.21;9090.0]",
          "AMT_CREDIT_SUM_DEBT_disc_int_[-6981558.21;9090.0]",
          "AMT_CREDIT_SUM_DEBT_disc_int_[-6981558.21;9090.0]",
          "AMT_CREDIT_SUM_DEBT_disc_int_[-6981558.21;9090.0]",
          "AMT_CREDIT_SUM_DEBT_disc_int_[-6981558.21;9090.0]",
          "AMT_CREDIT_SUM_DEBT_disc_int_[-6981558.21;9090.0]",
          "AMT_CREDIT_SUM_DEBT_disc_int_[-6981558.21;9090.0]",
          "AMT_CREDIT_SUM_DEBT_disc_int_[-6981558.21;9090.0]",
          "AMT_CREDIT_SUM_DEBT_disc_int_[-6981558.21;9090.0]",
          "AMT_CREDIT_SUM_DEBT_disc_int_[-6981558.21;9090.0]",
          "AMT_CREDIT_SUM_DEBT_disc_int_[-6981558.21;9090.0]",
          "AMT_CREDIT_SUM_DEBT_disc_int_[-6981558.21;9090.0]",
          "AMT_CREDIT_SUM_DEBT_disc_int_[-6981558.21;9090.0]",
          "AMT_CREDIT_SUM_DEBT_disc_int_[-6981558.21;9090.0]",
          "AMT_CREDIT_SUM_DEBT_disc_int_[-6981558.21;9090.0]",
          "AMT_CREDIT_SUM_DEBT_disc_int_[-6981558.21;9090.0]",
          "AMT_CREDIT_SUM_DEBT_disc_int_[-6981558.21;9090.0]",
          "AMT_CREDIT_SUM_DEBT_disc_int_[-6981558.21;9090.0]",
          "AMT_CREDIT_SUM_DEBT_disc_int_[-6981558.21;9090.0]",
          "AMT_CREDIT_SUM_DEBT_disc_int_[-6981558.21;9090.0]",
          "AMT_CREDIT_SUM_DEBT_disc_int_[-6981558.21;9090.0]",
          "AMT_CREDIT_SUM_DEBT_disc_int_[-6981558.21;9090.0]",
          "AMT_CREDIT_SUM_DEBT_disc_int_[-6981558.21;9090.0]",
          "AMT_CREDIT_SUM_DEBT_disc_int_[-6981558.21;9090.0]",
          "AMT_CREDIT_SUM_DEBT_disc_int_[-6981558.21;9090.0]",
          "AMT_CREDIT_SUM_DEBT_disc_int_[-6981558.21;9090.0]",
          "DAYS_EMPLOYED_disc_int_[-17912;-2420]",
          "DAYS_EMPLOYED_disc_int_[-17912;-2420]",
          "DAYS_EMPLOYED_disc_int_[-17912;-2420]",
          "DAYS_EMPLOYED_disc_int_[-17912;-2420]",
          "DAYS_EMPLOYED_disc_int_[-17912;-2420]",
          "DAYS_EMPLOYED_disc_int_[-17912;-2420]",
          "DAYS_EMPLOYED_disc_int_[-17912;-2420]",
          "DAYS_EMPLOYED_disc_int_[-17912;-2420]",
          "DAYS_EMPLOYED_disc_int_[-17912;-2420]",
          "DAYS_EMPLOYED_disc_int_[-17912;-2420]",
          "DAYS_EMPLOYED_disc_int_[-17912;-2420]",
          "DAYS_EMPLOYED_disc_int_[-17912;-2420]",
          "DAYS_EMPLOYED_disc_int_[-17912;-2420]",
          "DAYS_EMPLOYED_disc_int_[-17912;-2420]",
          "DAYS_EMPLOYED_disc_int_[-17912;-2420]",
          "DAYS_EMPLOYED_disc_int_[-17912;-2420]",
          "DAYS_EMPLOYED_disc_int_[-17912;-2420]",
          "DAYS_EMPLOYED_disc_int_[-17912;-2420]",
          "DAYS_EMPLOYED_disc_int_[-17912;-2420]",
          "DAYS_EMPLOYED_disc_int_[-17912;-2420]",
          "DAYS_EMPLOYED_disc_int_[-17912;-2420]",
          "DAYS_EMPLOYED_disc_int_[-17912;-2420]",
          "DAYS_EMPLOYED_disc_int_[-17912;-2420]",
          "DAYS_EMPLOYED_disc_int_[-17912;-2420]",
          "DAYS_EMPLOYED_disc_int_[-17912;-2420]",
          "DAYS_EMPLOYED_disc_int_[-17912;-2420]",
          "DAYS_EMPLOYED_disc_int_[-17912;-2420]",
          "DAYS_EMPLOYED_disc_int_[-17912;-2420]",
          "DAYS_EMPLOYED_disc_int_[-17912;-2420]",
          "DAYS_EMPLOYED_disc_int_[-17912;-2420]",
          "DAYS_EMPLOYED_disc_int_[-17912;-2420]",
          "DAYS_EMPLOYED_disc_int_[-17912;-2420]",
          "DAYS_EMPLOYED_disc_int_[-17912;-2420]",
          "DAYS_EMPLOYED_disc_int_[-17912;-2420]",
          "DAYS_EMPLOYED_disc_int_[-17912;-2420]",
          "DAYS_EMPLOYED_disc_int_[-17912;-2420]",
          "DAYS_EMPLOYED_disc_int_[-17912;-2420]",
          "DAYS_EMPLOYED_disc_int_[-17912;-2420]",
          "DAYS_EMPLOYED_disc_int_[-17912;-2420]",
          "DAYS_EMPLOYED_disc_int_[-17912;-2420]",
          "DAYS_EMPLOYED_disc_int_[-17912;-2420]",
          "DAYS_EMPLOYED_disc_int_[-17912;-2420]",
          "DAYS_EMPLOYED_disc_int_[-17912;-2420]",
          "DAYS_EMPLOYED_disc_int_[-17912;-2420]",
          "DAYS_EMPLOYED_disc_int_[-17912;-2420]",
          "DAYS_EMPLOYED_disc_int_[-17912;-2420]",
          "DAYS_EMPLOYED_disc_int_[-17912;-2420]",
          "DAYS_EMPLOYED_disc_int_[-17912;-2420]",
          "DAYS_EMPLOYED_disc_int_[-17912;-2420]",
          "DAYS_EMPLOYED_disc_int_[-17912;-2420]",
          "DAYS_EMPLOYED_disc_int_[-17912;-2420]",
          "DAYS_EMPLOYED_disc_int_[-17912;-2420]",
          "DAYS_EMPLOYED_disc_int_[-17912;-2420]",
          "DAYS_EMPLOYED_disc_int_[-17912;-2420]",
          "DAYS_EMPLOYED_disc_int_[-17912;-2420]",
          "DAYS_EMPLOYED_disc_int_[-17912;-2420]",
          "DAYS_EMPLOYED_disc_int_[-17912;-2420]",
          "DAYS_EMPLOYED_disc_int_[-17912;-2420]",
          "DAYS_EMPLOYED_disc_int_[-17912;-2420]",
          "DAYS_EMPLOYED_disc_int_[-17912;-2420]",
          "DAYS_EMPLOYED_disc_int_[-17912;-2420]",
          "DAYS_EMPLOYED_disc_int_[-17912;-2420]",
          "DAYS_EMPLOYED_disc_int_[-17912;-2420]",
          "DAYS_EMPLOYED_disc_int_[-17912;-2420]",
          "DAYS_EMPLOYED_disc_int_[-17912;-2420]",
          "DAYS_EMPLOYED_disc_int_[-17912;-2420]",
          "DAYS_EMPLOYED_disc_int_[-17912;-2420]",
          "DAYS_EMPLOYED_disc_int_[-17912;-2420]",
          "DAYS_EMPLOYED_disc_int_[-17912;-2420]",
          "DAYS_EMPLOYED_disc_int_[-17912;-2420]",
          "DAYS_EMPLOYED_disc_int_[-17912;-2420]",
          "DAYS_EMPLOYED_disc_int_[-17912;-2420]",
          "DAYS_EMPLOYED_disc_int_[-17912;-2420]",
          "DAYS_EMPLOYED_disc_int_[-17912;-2420]",
          "DAYS_EMPLOYED_disc_int_[-17912;-2420]",
          "DAYS_EMPLOYED_disc_int_[-17912;-2420]",
          "DAYS_EMPLOYED_disc_int_[-17912;-2420]",
          "DAYS_EMPLOYED_disc_int_[-17912;-2420]",
          "DAYS_EMPLOYED_disc_int_[-17912;-2420]",
          "DAYS_EMPLOYED_disc_int_[-17912;-2420]",
          "DAYS_EMPLOYED_disc_int_[-17912;-2420]",
          "DAYS_EMPLOYED_disc_int_[-17912;-2420]",
          "DAYS_EMPLOYED_disc_int_[-17912;-2420]",
          "DAYS_EMPLOYED_disc_int_[-17912;-2420]",
          "DAYS_EMPLOYED_disc_int_[-17912;-2420]",
          "DAYS_EMPLOYED_disc_int_[-17912;-2420]",
          "DAYS_EMPLOYED_disc_int_[-17912;-2420]",
          "DAYS_EMPLOYED_disc_int_[-17912;-2420]",
          "DAYS_EMPLOYED_disc_int_[-17912;-2420]",
          "DAYS_EMPLOYED_disc_int_[-17912;-2420]",
          "DAYS_EMPLOYED_disc_int_[-17912;-2420]",
          "DAYS_EMPLOYED_disc_int_[-17912;-2420]",
          "DAYS_EMPLOYED_disc_int_[-17912;-2420]",
          "DAYS_EMPLOYED_disc_int_[-17912;-2420]",
          "DAYS_EMPLOYED_disc_int_[-17912;-2420]",
          "DAYS_EMPLOYED_disc_int_[-17912;-2420]",
          "DAYS_EMPLOYED_disc_int_[-17912;-2420]",
          "DAYS_EMPLOYED_disc_int_[-17912;-2420]",
          "DAYS_EMPLOYED_disc_int_[-17912;-2420]",
          "DAYS_EMPLOYED_disc_int_[-17912;-2420]",
          "DAYS_EMPLOYED_disc_int_[-17912;-2420]",
          "DAYS_EMPLOYED_disc_int_[-17912;-2420]",
          "DAYS_EMPLOYED_disc_int_[-17912;-2420]",
          "DAYS_EMPLOYED_disc_int_[-17912;-2420]",
          "DAYS_EMPLOYED_disc_int_[-17912;-2420]",
          "DAYS_EMPLOYED_disc_int_[-17912;-2420]",
          "DAYS_EMPLOYED_disc_int_[-17912;-2420]",
          "DAYS_EMPLOYED_disc_int_[-17912;-2420]",
          "DAYS_EMPLOYED_disc_int_[-17912;-2420]",
          "DAYS_EMPLOYED_disc_int_[-17912;-2420]",
          "DAYS_EMPLOYED_disc_int_[-17912;-2420]",
          "DAYS_EMPLOYED_disc_int_[-17912;-2420]",
          "DAYS_EMPLOYED_disc_int_[-17912;-2420]",
          "DAYS_EMPLOYED_disc_int_[-17912;-2420]",
          "DAYS_EMPLOYED_disc_int_[-17912;-2420]",
          "DAYS_EMPLOYED_disc_int_[-17912;-2420]",
          "DAYS_EMPLOYED_disc_int_[-17912;-2420]",
          "DAYS_EMPLOYED_disc_int_[-17912;-2420]",
          "DAYS_EMPLOYED_disc_int_[-17912;-2420]",
          "DAYS_EMPLOYED_disc_int_[-17912;-2420]",
          "DAYS_EMPLOYED_disc_int_[-17912;-2420]",
          "DAYS_EMPLOYED_disc_int_[-17912;-2420]",
          "DAYS_EMPLOYED_disc_int_[-17912;-2420]",
          "DAYS_EMPLOYED_disc_int_[-17912;-2420]",
          "DAYS_EMPLOYED_disc_int_[-17912;-2420]",
          "DAYS_EMPLOYED_disc_int_[-17912;-2420]",
          "DAYS_EMPLOYED_disc_int_[-17912;-2420]",
          "DAYS_EMPLOYED_disc_int_[-17912;-2420]",
          "DAYS_EMPLOYED_disc_int_[-17912;-2420]",
          "DAYS_EMPLOYED_disc_int_[-17912;-2420]",
          "DAYS_EMPLOYED_disc_int_[-17912;-2420]",
          "DAYS_EMPLOYED_disc_int_[-17912;-2420]",
          "DAYS_EMPLOYED_disc_int_[-17912;-2420]",
          "DAYS_EMPLOYED_disc_int_[-17912;-2420]",
          "DAYS_EMPLOYED_disc_int_[-17912;-2420]",
          "DAYS_EMPLOYED_disc_int_[-17912;-2420]",
          "DAYS_EMPLOYED_disc_int_[-17912;-2420]",
          "DAYS_EMPLOYED_disc_int_[-17912;-2420]",
          "DAYS_EMPLOYED_disc_int_[-17912;-2420]",
          "DAYS_EMPLOYED_disc_int_[-17912;-2420]",
          "DAYS_EMPLOYED_disc_int_[-17912;-2420]",
          "DAYS_EMPLOYED_disc_int_[-17912;-2420]"
         ],
         "y0": " ",
         "yaxis": "y",
         "type": "box"
        },
        {
         "alignmentgroup": "True",
         "boxpoints": "all",
         "fillcolor": "rgba(255,255,255,0)",
         "hoveron": "points",
         "hovertemplate": "One-hot Value=1.0<br>SHAP Value=%{x}<br>Feature=%{y}<extra></extra>",
         "legendgroup": "1.0",
         "line": {
          "color": "rgba(255,255,255,0)"
         },
         "marker": {
          "color": "#EF553B"
         },
         "name": "1.0",
         "offsetgroup": "1.0",
         "orientation": "h",
         "pointpos": 0,
         "showlegend": true,
         "x": [
          0.062368423,
          0.062368423,
          0.06309322,
          0.07158674,
          0.062368423,
          0.02661154,
          0.052723028,
          0.05124597,
          0.0728941,
          0.047436886,
          0.034719538,
          0.04783464,
          0.0728941,
          0.047436886,
          0.07158674,
          0.06309322,
          0.054961596,
          0.07158674,
          0.047436886,
          0.023565765,
          0.02603069,
          0.02212961,
          0.054961596,
          0.0728941,
          0.047436886,
          0.0728941,
          0.062368423,
          0.052723028,
          0.07158674,
          0.062368423,
          0.062368423,
          0.0068215462,
          0.062368423,
          0.06309322,
          -0.007898733,
          0.0728941,
          0.029025223,
          0.07158674,
          0.034719538,
          0.035703823,
          0.04783464,
          0.062368423,
          0.02661154,
          0.029601494,
          0.062368423,
          0.062368423,
          -0.007898733,
          0.07158674,
          -0.007898733,
          0.07158674,
          0.052723028,
          0.06309322,
          0.044367246,
          0.034719538,
          0.07158674,
          0.07158674,
          0.062368423,
          0.044367246,
          0.052723028,
          0.0066679255,
          0.0066679255,
          0.04324047,
          0.047194347,
          0.062368423,
          0.07158674,
          0.044367246,
          0.0728941,
          0.029601494,
          0.054961596,
          0.0728941,
          0.07158674,
          0.04324047,
          0.0728941,
          0.023983993,
          0.044367246,
          0.029025223,
          0.05374707,
          0.052723028,
          0.05374707,
          0.05124597,
          0.029025223,
          0.07158674,
          0.0728941,
          0.0728941,
          0.021670954,
          0.047436886,
          0.062368423,
          0.013737588,
          0.062368423,
          0.013737588,
          0.07158674,
          0.0728941,
          0.047436886,
          0.0728941,
          0.052723028,
          0.029025223,
          0.02845513,
          0.0728941,
          0.07158674,
          0.05374707,
          0.04783464,
          0.054961596,
          0.062368423,
          0.027977644,
          0.029025223,
          0.062368423,
          0.052723028,
          0.062368423,
          0.07158674,
          0.04783464,
          0.04353647,
          0.013737588,
          0.062368423,
          0.07158674,
          0.07158674,
          0.062368423,
          0.04783464,
          0.029993996,
          0.035703823,
          0.062368423,
          0.062368423,
          0.062368423,
          0.044367246,
          0.04783464,
          0.047194347,
          0.07158674,
          0.052723028,
          0.04324047,
          0.044367246,
          0.062368423,
          0.062368423,
          0.07158674,
          0.07158674,
          0.07158674,
          0.02661154,
          0.044119053,
          0.044367246,
          0.0728941,
          0.052723028,
          0.07158674,
          0.07158674,
          0.07158674,
          0.05124597,
          0.052723028,
          0.013737588,
          0.027977644,
          0.04783464,
          0.047436886,
          0.062368423,
          0.05374707,
          0.062368423,
          0.054961596,
          0.052723028,
          0.07158674,
          0.06309322,
          0.062368423,
          0.07158674,
          0.044367246,
          0.062368423,
          0.062368423,
          0.07158674,
          0.02661154,
          0.023565765,
          0.06309322,
          0.02845513,
          0.044297926,
          0.054961596,
          0.07158674,
          0.012280322,
          0.062368423,
          0.02661154,
          0.04303968,
          0.044119053,
          0.0728941,
          0.037720673,
          0.05374707,
          0.052723028,
          0.013737588,
          0.0068215462,
          0.07158674,
          0.044367246,
          0.04783464,
          0.013737588,
          0.062368423,
          0.0728941,
          0.047436886,
          0.029025223,
          0.054961596,
          0.044367246,
          0.07158674,
          0.029601494,
          0.0728941,
          0.027977644,
          0.07158674,
          0.0728941,
          0.044297926,
          0.0728941,
          0.07158674,
          0.06309322,
          0.029025223,
          0.044367246,
          -0.008493441,
          0.04783464,
          0.047436886,
          0.05374707,
          0.06309322,
          0.07158674,
          0.062368423,
          0.07158674,
          0.052723028,
          0.0728941,
          0.0068215462,
          0.047436886,
          0.06309322,
          0.06309322,
          0.05374707,
          0.044297926,
          0.07158674,
          0.052723028,
          0.0728941,
          0.02375973,
          0.03462889,
          0.07158674,
          0.012280322,
          0.0728941,
          0.0068215462,
          0.062368423,
          0.05124597,
          0.062368423,
          0.062368423,
          0.02845513,
          -0.008493441,
          0.052723028,
          0.044367246,
          0.047436886,
          0.062368423,
          0.07158674,
          0.052723028,
          0.062368423,
          0.052723028,
          0.02661154,
          0.062368423,
          0.052723028,
          0.052723028,
          0.047194347,
          0.027977644,
          0.07158674,
          0.07158674,
          0.07158674,
          0.062368423,
          0.07158674,
          0.0728941,
          0.07158674,
          0.062368423,
          0.0728941,
          0.034719538,
          0.04783464,
          0.052723028,
          0.07158674,
          0.052723028,
          0.062368423,
          0.07158674,
          0.0728941,
          0.062368423,
          0.044367246,
          0.047436886,
          0.044119053,
          0.062368423,
          0.062368423,
          0.07158674,
          0.029025223,
          0.052723028,
          0.044367246,
          0.07158674,
          0.062368423,
          0.062368423,
          0.07158674,
          0.062368423,
          0.062368423,
          0.062368423,
          0.0728941,
          0.02603069,
          0.07158674,
          0.40685204,
          0.40685204,
          0.40272278,
          0.39728397,
          0.43037233,
          0.37472048,
          0.41284955,
          0.3992229,
          0.38301516,
          0.43514755,
          0.31823677,
          0.38033357,
          0.36929506,
          0.41696241,
          0.3992229,
          0.42368338,
          0.353404,
          0.29692027,
          0.323442,
          0.37633887,
          0.43037233,
          0.37472048,
          0.36552784,
          0.41284955,
          0.35832307,
          0.42368338,
          0.29692027,
          0.29692027,
          0.37472048,
          0.43037233,
          0.36929506,
          0.31932408,
          0.31932408,
          0.3531553,
          0.42368338,
          0.40272278,
          0.35832307,
          0.3992229,
          0.36929506,
          0.3531553,
          0.37633887,
          0.39728397,
          0.37633887,
          0.40685204,
          0.40272278,
          0.3170853,
          0.43037233,
          0.44333383,
          0.33027127,
          0.42368338,
          0.44333383,
          0.34801993,
          0.42368338,
          0.33027127,
          0.35046285,
          0.37633887,
          0.38623515,
          0.40685204,
          0.41696241,
          0.41284955,
          0.3992229,
          0.38302037,
          0.37633887,
          0.34801993,
          0.40272278,
          0.41284955,
          0.4124079,
          0.33027127,
          0.41696241,
          0.41284955,
          0.36552784,
          0.41284955,
          0.3531553,
          0.36929506,
          0.39728397,
          0.33027127,
          0.38302037,
          0.41284955,
          0.3692209,
          0.3992229,
          0.4024082,
          0.31823677,
          0.38623515,
          0.3992229,
          0.33569866,
          0.31821072,
          0.40272278,
          0.34445328,
          0.33027127,
          0.353404,
          0.41284955,
          0.3692209,
          0.33027127,
          0.37633887,
          0.3992229,
          0.35832307,
          0.38302037,
          0.37633887,
          0.3692209,
          0.43037233,
          0.30023563,
          0.41284955,
          0.3692209,
          0.353404,
          0.42368338,
          0.38301516,
          0.33791834,
          0.33791834,
          0.3721548,
          0.34801993,
          0.3803322,
          0.33569866,
          0.353404,
          0.39728397,
          0.38623515,
          0.30023563,
          0.40685204,
          0.38302037,
          0.37472048,
          0.41284955,
          0.40685204,
          0.37633887,
          0.31821072,
          0.42368338,
          0.44333383,
          0.57245946,
          0.45999268,
          0.4730589,
          0.5035075,
          0.5697512,
          0.55120915,
          0.4139722,
          0.44999534,
          0.4822505,
          0.48133537,
          0.4139722,
          0.4139722,
          0.5035075,
          0.43573692,
          0.43573692,
          0.4814047,
          0.48133537,
          0.5035075,
          0.4814047,
          0.48492655,
          0.51792157,
          0.51792157,
          0.5288047,
          0.46680892,
          0.55120915,
          0.5697512,
          0.43654212,
          0.4664765,
          0.43654212,
          0.5726275,
          0.46522307,
          0.55120915,
          0.51792157,
          0.4664765,
          0.43654212,
          0.5288047,
          0.4822505,
          0.55120915,
          0.4814047,
          0.5035075,
          0.52209836,
          0.43654212,
          0.51792157,
          0.5093767,
          0.45999268,
          0.43480352,
          0.44433567,
          0.53385603,
          0.52209836,
          0.48451492,
          0.51792157,
          0.55120915,
          0.43654212,
          0.5093767,
          0.43654212,
          0.48133537,
          0.5288047,
          0.55120915,
          0.5093767,
          0.4092957,
          0.51417816,
          0.5093767,
          0.51792157,
          0.51792157,
          0.4825246,
          0.4825246,
          0.4664765,
          0.43480352,
          0.4092957,
          0.5121906,
          0.5697512,
          0.52209836,
          0.44433567,
          0.4730589,
          0.6354723,
          0.6138299,
          0.6172592,
          0.6138299,
          0.57386744,
          0.608733,
          0.6172592,
          0.5681824,
          0.5681824,
          0.59818596,
          0.5681824,
          0.5353426,
          0.56233585,
          0.6354723,
          0.5681824,
          0.5520688,
          0.6172592,
          0.51753426,
          0.58801126,
          0.54606605,
          0.60162705,
          0.57386744,
          0.51753426,
          0.51753426,
          0.5323792,
          0.5323792,
          0.6354723,
          0.59319305,
          0.6354723,
          0.556747,
          0.54606605,
          0.54606605,
          0.60864294,
          0.6354723,
          0.6138299,
          0.6172592,
          0.5681824,
          0.5132263,
          0.56611884,
          0.608733,
          0.5132263,
          0.5683465,
          0.5681824,
          0.54606605,
          0.6138299,
          0.6354723,
          0.6354723,
          0.5390373,
          0.54606605,
          0.56611884,
          0.63786006,
          0.5132263,
          0.608733,
          0.60864294,
          0.6354723,
          0.608733,
          0.59273964,
          0.6172592,
          0.59319305,
          0.6172592,
          0.57386744,
          0.608733,
          0.5132263,
          0.5390373,
          0.5681824,
          0.5893421,
          0.57386744,
          0.608733,
          0.5706473,
          0.6354723,
          0.5036036,
          0.573268,
          0.608733,
          0.57386744,
          0.5132263,
          0.5520688,
          0.5132263,
          0.5681824,
          0.54606605,
          0.608733,
          0.60864294,
          0.5390373,
          0.608733,
          0.5706473,
          0.608733,
          0.54606605,
          0.51202893,
          0.6354723,
          0.5855098,
          0.5681824,
          0.608733,
          0.60162705,
          0.5520688,
          0.5681824,
          0.59818596,
          0.5706473,
          0.56882524,
          0.56611884,
          0.5036036,
          0.5520688,
          0.51202893,
          0.6138299,
          0.5681824,
          0.5923412,
          0.57386744,
          0.6354108,
          0.6354723,
          0.59319305,
          0.5390373,
          0.6138299,
          0.608733,
          0.5681824,
          0.6354723,
          0.54606605,
          0.6354723,
          0.573268,
          0.608733,
          0.608733,
          0.5353426,
          0.09137044,
          0.104316644,
          0.104316644,
          0.08389246,
          0.07258304,
          0.10151298,
          0.104316644,
          0.075128466,
          0.0772297,
          0.0772297,
          0.084784575,
          0.090822496,
          0.08160981,
          0.09137044,
          0.08469092,
          0.09421189,
          0.09529413,
          0.07664456,
          0.11365825,
          0.08469092,
          0.09529413,
          0.10151298,
          0.09137044,
          0.08389246,
          0.110177025,
          0.10151298,
          0.102387175,
          0.09529413,
          0.09421189,
          0.09137044,
          0.09518417,
          0.08546014,
          0.10318665,
          0.07258304,
          0.110177025,
          0.08469092,
          0.09886818,
          0.07518816,
          0.09137044,
          0.09529413,
          0.07588388,
          0.08469092,
          0.104316644,
          0.10151298,
          0.104316644,
          0.104316644,
          0.104316644,
          0.09097283,
          0.09137044,
          0.08389246,
          0.08469092,
          0.10363959,
          0.10151298,
          0.07664456,
          0.08160981,
          0.11847206,
          0.11365825,
          0.08639767,
          0.104316644,
          0.0944566,
          0.104316644,
          0.104316644,
          0.09421189,
          0.09886818,
          0.10151298,
          0.10151298,
          0.09137044,
          0.08389246,
          0.09421189,
          0.09137044,
          0.07664456,
          0.10151298,
          0.10151298,
          0.104316644,
          0.08160981,
          0.10318665,
          0.09035672,
          0.09035672,
          0.11428986,
          0.07258304,
          0.080996424,
          0.09886818,
          0.104316644,
          0.10151298,
          0.07258304,
          0.08469092,
          0.0944566,
          0.110177025,
          0.10318665,
          0.08469092,
          0.07664456,
          0.10151298,
          0.09137044,
          0.11428986,
          0.08469092,
          0.07982766,
          0.09137044,
          0.10363959,
          0.10090972,
          0.10090972,
          0.090822496,
          0.10363959,
          0.07161994,
          0.07664456,
          0.07258304,
          0.10151298,
          0.0772297,
          0.08469092,
          0.08469092,
          0.09529413,
          0.09097283,
          0.104316644,
          0.07518816,
          0.07664456,
          0.08160981,
          0.08152669,
          0.10824572,
          0.09137044,
          0.09886818,
          0.104316644,
          0.08152669,
          0.096775495,
          0.084784575,
          0.09886818,
          0.10824572,
          0.10151298,
          0.080372185,
          0.09137044,
          0.08469092,
          0.09529413,
          0.08469092,
          0.10363959,
          0.0772297,
          0.09097283,
          0.08469092,
          0.09137044,
          0.10151298,
          0.07258304,
          0.07664456,
          0.10090972,
          0.07664456,
          0.09421189,
          0.11365825,
          0.07664456,
          0.110177025,
          0.104316644,
          0.07258304,
          0.10589245,
          0.10363959,
          0.104316644,
          0.104316644,
          0.096775495,
          0.09137044,
          0.10151298,
          0.11365825,
          0.0907016,
          0.10824572,
          0.09137044,
          0.09421189,
          0.09137044,
          0.084784575,
          0.09421189,
          0.07664456,
          0.104316644,
          0.07161994,
          0.10151298,
          0.07664456,
          0.07258304,
          0.09137044,
          0.10151298,
          0.104316644,
          0.084784575,
          0.09137044,
          0.11365825,
          0.11847206,
          0.104316644,
          0.07588388,
          0.104316644,
          0.09097283,
          0.09421189,
          0.104316644,
          0.11365825,
          0.080996424,
          0.10151298,
          0.09421189,
          0.09137044,
          0.11428986,
          0.10318665,
          0.104316644,
          0.104316644,
          0.10151298,
          0.10151298,
          0.10151298,
          0.104414366,
          0.08469092,
          0.10151298,
          0.10151298,
          0.07664456,
          0.10151298,
          0.084784575,
          0.07664456,
          0.090822496,
          0.07664456,
          0.10824572,
          0.10589245,
          0.07664456,
          0.07664456,
          0.11365825,
          0.07664456,
          0.09529413,
          0.104316644,
          0.10090972,
          0.104316644,
          0.0848695,
          0.110177025,
          0.10151298,
          0.07664456,
          0.08389246,
          0.091963716,
          0.09137044,
          0.104316644,
          0.09137044,
          0.10151298,
          0.104316644,
          0.09137044,
          0.07664456,
          0.104316644,
          0.10151298,
          0.07664456,
          0.08389246,
          0.07664456,
          0.07664456,
          0.084784575,
          0.09686945,
          0.09137044,
          0.09137044,
          0.110177025,
          0.07258304,
          0.10151298,
          0.111199565,
          0.104316644,
          0.084784575,
          0.07664456,
          0.08293138,
          0.104414366,
          0.07664456,
          0.08469092,
          0.09387652,
          0.10090972,
          0.09137044,
          0.09097283,
          0.10824572,
          0.10151298,
          0.11365825,
          0.09137044,
          0.0848695,
          0.09137044,
          0.10824572,
          0.104316644,
          0.08469092,
          0.09529413,
          0.09137044,
          0.10363959,
          0.09137044,
          0.110177025,
          0.10151298,
          0.084784575,
          0.0944566,
          0.07161994,
          0.08469092,
          0.10589245,
          0.10151298,
          0.09097283,
          0.07664456,
          0.09137044,
          0.084784575,
          0.08469092,
          0.09137044,
          0.09686945,
          0.084784575,
          0.08469092,
          0.10151298,
          0.08389246,
          0.10363959,
          0.09137044,
          0.0848695,
          0.08160981,
          0.07664456,
          0.07258304,
          0.11365825,
          0.09137044,
          0.08488028,
          0.0848695,
          0.09529413,
          0.10090972,
          0.08389246,
          0.084784575,
          0.10151298,
          0.104316644,
          0.09137044,
          0.10151298,
          0.08639767,
          0.08469092,
          0.07664456,
          0.09529413,
          0.09137044,
          0.09886818,
          0.08389246,
          0.09421189,
          0.08389246,
          0.10090972,
          0.07664456,
          0.07664456,
          0.09686945,
          0.10151298,
          0.08469092,
          0.086809404,
          0.096775495,
          0.09137044,
          0.10151298,
          0.111199565,
          0.09137044,
          0.08469092,
          0.104316644,
          0.090822496,
          0.104316644,
          0.104316644,
          0.07664456,
          0.0772297,
          0.09137044,
          0.09529413,
          0.104316644,
          0.10151298,
          0.104316644,
          0.104316644,
          0.07258304,
          0.080996424,
          0.07664456,
          0.10589245,
          0.10151298,
          0.10151298,
          0.10151298,
          0.104316644,
          0.10151298,
          0.08469092,
          0.10151298,
          0.104316644,
          0.08469092,
          0.11365825,
          0.10151298,
          0.0772297,
          0.09137044,
          0.09137044,
          0.104316644,
          0.084784575,
          0.10151298,
          0.08469092,
          0.104316644,
          0.07518816,
          0.09529413,
          0.104414366,
          0.09137044,
          0.104316644,
          0.07258304,
          0.07664456,
          0.104316644,
          0.10151298,
          0.10363959,
          0.07258304,
          0.10151298,
          0.09421189,
          0.104316644,
          0.104316644,
          0.10151298,
          0.104316644,
          0.084784575,
          0.104316644,
          0.084784575,
          0.07588388,
          0.104316644,
          0.09886818,
          0.07588388,
          0.08469092,
          0.09518417,
          0.10151298,
          0.08152669,
          0.07440759,
          0.07025022,
          0.07780652,
          0.067278095,
          0.07462866,
          0.067278095,
          0.07589049,
          0.0721652,
          0.07395733,
          0.08146769,
          0.07035164,
          0.06733405,
          0.07440759,
          0.07636517,
          0.07462866,
          0.07346566,
          0.07263602,
          0.076606065,
          0.07636517,
          0.07346566,
          0.07780652,
          0.07440759,
          0.07223552,
          0.07280844,
          0.07780652,
          0.07346566,
          0.07636434,
          0.07440759,
          0.072050884,
          0.0675597,
          0.07025022,
          0.06787144,
          0.07810739,
          0.07223552,
          0.07636517,
          0.06954815,
          0.07091285,
          0.07440759,
          0.07346566,
          0.07636517,
          0.08146769,
          0.07780652,
          0.07335871,
          0.07462866,
          0.07156288,
          0.07440759,
          0.07810739,
          0.07383278,
          0.07636517,
          0.06746064,
          0.070224494,
          0.07780652,
          0.07263602,
          0.06733405,
          0.076606065,
          0.07589049,
          0.06954815,
          0.07383278,
          0.07810739,
          0.07780652,
          0.07383278,
          0.07780652,
          0.07440759,
          0.08146769,
          0.076606065,
          0.07440759,
          0.07263602,
          0.07780652,
          0.07780652,
          0.06733405,
          0.08146769,
          0.0675597,
          0.06876024,
          0.07810739,
          0.06876024,
          0.07096119,
          0.07025022,
          0.07188091,
          0.06954815,
          0.07780652,
          0.07810739,
          0.07395733,
          0.07025022,
          0.07636517,
          0.07223552,
          0.0675597,
          0.07636517,
          0.07263602,
          0.07780652,
          0.07440759,
          0.07096119,
          0.07636517,
          0.071587674,
          0.07440759,
          0.070224494,
          0.07567594,
          0.08146769,
          0.07567594,
          0.07035164,
          0.070224494,
          0.06924286,
          0.07263602,
          0.07025022,
          0.07780652,
          0.067278095,
          0.07636517,
          0.07462866,
          0.07395733,
          0.07636517,
          0.07173021,
          0.07346566,
          0.07156288,
          0.07091285,
          0.07263602,
          0.06733405,
          0.06966597,
          0.07440759,
          0.06954815,
          0.068362944,
          0.07810739,
          0.0721652,
          0.06954815,
          0.06966597,
          0.07177346,
          0.07780652,
          0.07440759,
          0.07636517,
          0.07346566,
          0.07636517,
          0.08146769,
          0.070224494,
          0.067278095,
          0.07156288,
          0.07636517,
          0.07440759,
          0.06787144,
          0.07780652,
          0.07025022,
          0.07263602,
          0.07567594,
          0.07263602,
          0.07263602,
          0.07223552,
          0.07025022,
          0.070224494,
          0.08146769,
          0.07810739,
          0.068362944,
          0.07395733,
          0.07440759,
          0.07780652,
          0.0688419,
          0.06966597,
          0.07440759,
          0.07440759,
          0.06787144,
          0.0721652,
          0.07810739,
          0.07263602,
          0.07810739,
          0.06924286,
          0.07780652,
          0.07263602,
          0.07025022,
          0.07440759,
          0.07780652,
          0.0721652,
          0.07440759,
          0.07246403,
          0.07246403,
          0.070433944,
          0.07462866,
          0.07156288,
          0.07188091,
          0.07780652,
          0.08146769,
          0.07440759,
          0.07096119,
          0.0675597,
          0.07780652,
          0.07780652,
          0.07462866,
          0.07780652,
          0.07589049,
          0.07636517,
          0.08146769,
          0.07780652,
          0.07780652,
          0.07263602,
          0.07780652,
          0.0721652,
          0.07263602,
          0.07035164,
          0.08146769,
          0.07263602,
          0.06966597,
          0.07263602,
          0.07263602,
          0.07263602,
          0.07346566,
          0.07567594,
          0.066467136,
          0.07223552,
          0.08146769,
          0.07780652,
          0.07263602,
          0.0696356,
          0.07440759,
          0.07440759,
          0.07780652,
          0.07440759,
          0.07263602,
          0.07780652,
          0.07589049,
          0.07810739,
          0.07636434,
          0.07263602,
          0.07263602,
          0.07263602,
          0.0721652,
          0.07440759,
          0.07440759,
          0.07223552,
          0.07025022,
          0.07810739,
          0.07780652,
          0.07256839,
          0.0721652,
          0.07589049,
          0.07395733,
          0.07263602,
          0.07263602,
          0.07636517,
          0.07019886,
          0.07567594,
          0.08146769,
          0.07440759,
          0.07156288,
          0.06966597,
          0.07335871,
          0.07780652,
          0.07440759,
          0.066467136,
          0.07440759,
          0.06966597,
          0.07636517,
          0.07346566,
          0.07810739,
          0.07440759,
          0.070224494,
          0.07440759,
          0.07223552,
          0.07780652,
          0.0721652,
          0.06924286,
          0.07636517,
          0.07780652,
          0.07156288,
          0.07263602,
          0.07440759,
          0.0721652,
          0.07636517,
          0.07440759,
          0.0721652,
          0.07636517,
          0.07780652,
          0.070224494,
          0.07440759,
          0.066467136,
          0.06733405,
          0.07263602,
          0.07025022,
          0.07810739,
          0.07440759,
          0.07003629,
          0.066467136,
          0.07346566,
          0.07567594,
          0.0721652,
          0.07780652,
          0.07440759,
          0.07780652,
          0.08146769,
          0.07636517,
          0.07335871,
          0.07263602,
          0.07346566,
          0.07440759,
          0.06954815,
          0.07280844,
          0.07810739,
          0.07567594,
          0.07263602,
          0.073001474,
          0.07263602,
          0.07780652,
          0.08146769,
          0.07636517,
          0.073001474,
          0.06819721,
          0.068362944,
          0.07440759,
          0.070850395,
          0.07780652,
          0.07810739,
          0.07440759,
          0.07636517,
          0.07335871,
          0.07035164,
          0.07263602,
          0.07810739,
          0.067278095,
          0.08146769,
          0.07440759,
          0.07346566,
          0.07780652,
          0.07353236,
          0.08146769,
          0.08146769,
          0.07589049,
          0.08146769,
          0.07025022,
          0.08146769,
          0.07188091,
          0.07810739,
          0.07263602,
          0.07780652,
          0.07780652,
          0.07780652,
          0.07780652,
          0.07636517,
          0.07780652,
          0.07636517,
          0.076606065,
          0.08146769,
          0.07780652,
          0.067278095,
          0.08146769,
          0.07440759,
          0.07440759,
          0.0721652,
          0.07780652,
          0.07636517,
          0.07091285,
          0.07346566,
          0.07440759,
          0.07025022,
          0.07263602,
          0.07780652,
          0.070224494,
          0.08146769,
          0.07025022,
          0.07780652,
          0.07256839,
          0.07780652,
          0.0721652,
          0.0721652,
          0.06954815,
          0.07246403,
          0.07636517,
          0.072050884,
          0.07780652,
          0.07817934,
          0.10480378,
          0.10321104,
          0.10321104,
          0.1047776,
          0.10321104,
          0.07302034,
          0.07179995,
          0.091740936,
          0.07409527,
          0.080481276,
          0.10480378,
          0.07302034,
          0.10289537,
          0.09240803,
          0.075710475,
          0.09898022,
          0.09240803,
          0.1047776,
          0.10480378,
          0.10079509,
          0.065660596,
          0.1047776,
          0.09513568,
          0.09240803,
          0.07230609,
          0.10289537,
          0.10480378,
          0.08704676,
          0.09350166,
          0.082394935,
          0.10079509,
          0.0972924,
          0.10480378,
          0.09240803,
          0.10321104,
          0.080481276,
          0.1047776,
          0.10321104,
          0.10321104,
          0.06796908,
          0.10321104,
          0.07302034,
          0.09729867,
          0.10480378,
          0.082394935,
          0.07817934,
          0.06596518,
          0.08936543,
          0.1047776,
          0.075710475,
          0.09688934,
          0.09898022,
          0.08963344,
          0.10321104,
          0.07179995,
          0.10321104,
          0.10321104,
          0.10289537,
          0.0972924,
          0.06596518,
          0.082394935,
          0.1047776,
          0.06596518,
          0.1047776,
          0.10480378,
          0.080481276,
          0.076607525,
          0.10289537,
          0.075710475,
          0.10480378,
          0.1047776,
          0.1047776,
          0.10321104,
          0.076607525,
          0.080481276,
          0.09350166,
          0.082394935,
          0.09774769,
          0.0972924,
          0.10321104,
          0.1047776,
          0.082394935,
          0.076607525,
          0.07409527,
          0.10079509,
          0.09350166,
          0.1047776,
          0.10480378,
          0.09774769,
          0.10480378,
          0.076607525,
          0.08936543,
          0.098015845,
          0.080481276,
          0.098015845,
          0.08936543,
          0.1047776,
          0.07302034,
          0.07409527,
          0.09240803,
          0.09729867,
          0.10321104,
          0.08771854,
          0.10480378,
          0.0972924,
          0.10321104,
          0.08277922,
          0.082394935,
          0.091740936,
          0.0972924,
          0.08771854,
          0.1047776,
          0.10480378,
          0.09240803,
          0.080481276,
          0.08936543,
          0.07158841,
          0.09729867,
          0.10480378,
          0.1047776,
          0.098015845,
          0.10289537,
          0.09898022,
          0.10079509,
          0.10321104,
          0.08735147,
          0.08936543,
          0.10321104,
          0.080481276,
          0.082394935,
          0.10321104,
          0.08277922,
          0.07409527,
          0.10480378,
          0.1047776,
          0.09898022,
          0.08771854,
          0.10480378,
          0.10289537,
          0.10480378,
          0.091740936,
          0.10289537,
          0.082394935,
          0.10321104,
          0.082394935,
          0.07817934,
          0.1047776,
          0.10480378,
          0.1047776,
          0.10321104,
          0.091740936,
          0.10480378,
          0.09898022,
          0.09688934,
          0.07302034,
          0.10321104,
          0.10321104,
          0.09729867,
          0.10289537,
          0.10321104,
          0.076607525,
          0.09898022,
          0.1047776,
          0.080481276,
          0.10289537,
          0.10480378,
          0.09774769,
          0.09350166,
          0.076607525,
          0.10321104,
          0.10321104,
          0.1047776,
          0.1047776,
          0.07302034,
          0.1047776,
          0.07179995,
          0.09740582,
          0.076607525,
          0.080481276,
          0.1047776,
          0.1047776,
          0.1047776,
          0.091740936,
          0.080481276,
          0.08771854,
          0.08735147,
          0.09898022,
          0.09240803,
          0.10321104,
          0.098015845,
          0.10321104,
          0.10079509,
          0.080481276,
          0.07817934,
          0.1047776,
          0.08516947,
          0.10480378,
          0.10321104,
          0.10480378,
          0.1047776,
          0.076607525,
          0.10321104,
          0.10480378,
          0.10321104,
          0.1047776,
          0.07179995,
          0.082394935,
          0.07230609,
          0.07158841,
          0.091740936,
          0.090642385,
          0.10480378,
          0.10480378,
          0.10079509,
          0.082394935,
          0.1047776,
          0.0866611,
          0.06291336,
          0.10321104,
          0.091740936,
          0.07179995,
          0.07409527,
          0.09740582,
          0.098015845,
          0.080481276,
          0.10480378,
          0.09729867,
          0.08771854,
          0.06796908,
          0.1047776,
          0.076607525,
          0.09898022,
          0.10480378,
          0.10480378,
          0.08771854,
          0.10321104,
          0.09240803,
          0.082394935,
          0.10480378,
          0.08936543,
          0.10480378,
          0.10079509,
          0.076607525,
          0.1047776,
          0.091740936,
          0.08735147,
          0.1047776,
          0.09729867,
          0.10480378,
          0.091740936,
          0.10480378,
          0.090642385,
          0.091740936,
          0.1047776,
          0.08936543,
          0.076607525,
          0.10480378,
          0.06260058,
          0.09898022,
          0.082394935,
          0.10480378,
          0.08563632,
          0.09240803,
          0.098015845,
          0.091740936,
          0.1047776,
          0.10321104,
          0.10480378,
          0.1047776,
          0.080481276,
          0.08963344,
          0.06796908,
          0.09240803,
          0.10480378,
          0.0972924,
          0.065660596,
          0.082394935,
          0.10289537,
          0.098015845,
          0.06994754,
          0.090642385,
          0.1047776,
          0.080481276,
          0.06994754,
          0.08277922,
          0.10480378,
          0.1047776,
          0.082394935,
          0.0866611,
          0.10480378,
          0.06796908,
          0.10321104,
          0.10321104,
          0.10321104,
          0.082394935,
          0.07158841,
          0.07817934,
          0.06260058,
          0.080481276,
          0.10480378,
          0.076607525,
          0.09240803,
          0.10321104,
          0.1047776,
          0.06655873,
          0.080481276,
          0.10321104,
          0.080481276,
          0.07179995,
          0.10321104,
          0.080481276,
          0.080481276,
          0.082394935,
          0.08735147,
          0.1047776,
          0.1047776,
          0.1047776,
          0.10321104,
          0.1047776,
          0.1047776,
          0.10321104,
          0.075710475,
          0.09898022,
          0.080481276,
          0.1047776,
          0.080481276,
          0.10480378,
          0.10480378,
          0.10321104,
          0.091740936,
          0.1047776,
          0.10321104,
          0.076607525,
          0.09240803,
          0.09740582,
          0.10480378,
          0.10321104,
          0.10321104,
          0.1047776,
          0.08936543,
          0.080481276,
          0.076607525,
          0.1047776,
          0.10289537,
          0.10321104,
          0.10321104,
          0.06291336,
          0.1047776,
          0.10321104,
          0.07817934,
          0.091740936,
          0.10321104,
          0.091740936,
          0.10321104,
          0.0972924,
          0.08704676,
          0.1047776
         ],
         "x0": " ",
         "xaxis": "x",
         "y": [
          "AMT_CREDIT_SUM_disc_int_[967500.0;1017957917.38]",
          "AMT_CREDIT_SUM_disc_int_[967500.0;1017957917.38]",
          "AMT_CREDIT_SUM_disc_int_[967500.0;1017957917.38]",
          "AMT_CREDIT_SUM_disc_int_[967500.0;1017957917.38]",
          "AMT_CREDIT_SUM_disc_int_[967500.0;1017957917.38]",
          "AMT_CREDIT_SUM_disc_int_[967500.0;1017957917.38]",
          "AMT_CREDIT_SUM_disc_int_[967500.0;1017957917.38]",
          "AMT_CREDIT_SUM_disc_int_[967500.0;1017957917.38]",
          "AMT_CREDIT_SUM_disc_int_[967500.0;1017957917.38]",
          "AMT_CREDIT_SUM_disc_int_[967500.0;1017957917.38]",
          "AMT_CREDIT_SUM_disc_int_[967500.0;1017957917.38]",
          "AMT_CREDIT_SUM_disc_int_[967500.0;1017957917.38]",
          "AMT_CREDIT_SUM_disc_int_[967500.0;1017957917.38]",
          "AMT_CREDIT_SUM_disc_int_[967500.0;1017957917.38]",
          "AMT_CREDIT_SUM_disc_int_[967500.0;1017957917.38]",
          "AMT_CREDIT_SUM_disc_int_[967500.0;1017957917.38]",
          "AMT_CREDIT_SUM_disc_int_[967500.0;1017957917.38]",
          "AMT_CREDIT_SUM_disc_int_[967500.0;1017957917.38]",
          "AMT_CREDIT_SUM_disc_int_[967500.0;1017957917.38]",
          "AMT_CREDIT_SUM_disc_int_[967500.0;1017957917.38]",
          "AMT_CREDIT_SUM_disc_int_[967500.0;1017957917.38]",
          "AMT_CREDIT_SUM_disc_int_[967500.0;1017957917.38]",
          "AMT_CREDIT_SUM_disc_int_[967500.0;1017957917.38]",
          "AMT_CREDIT_SUM_disc_int_[967500.0;1017957917.38]",
          "AMT_CREDIT_SUM_disc_int_[967500.0;1017957917.38]",
          "AMT_CREDIT_SUM_disc_int_[967500.0;1017957917.38]",
          "AMT_CREDIT_SUM_disc_int_[967500.0;1017957917.38]",
          "AMT_CREDIT_SUM_disc_int_[967500.0;1017957917.38]",
          "AMT_CREDIT_SUM_disc_int_[967500.0;1017957917.38]",
          "AMT_CREDIT_SUM_disc_int_[967500.0;1017957917.38]",
          "AMT_CREDIT_SUM_disc_int_[967500.0;1017957917.38]",
          "AMT_CREDIT_SUM_disc_int_[967500.0;1017957917.38]",
          "AMT_CREDIT_SUM_disc_int_[967500.0;1017957917.38]",
          "AMT_CREDIT_SUM_disc_int_[967500.0;1017957917.38]",
          "AMT_CREDIT_SUM_disc_int_[967500.0;1017957917.38]",
          "AMT_CREDIT_SUM_disc_int_[967500.0;1017957917.38]",
          "AMT_CREDIT_SUM_disc_int_[967500.0;1017957917.38]",
          "AMT_CREDIT_SUM_disc_int_[967500.0;1017957917.38]",
          "AMT_CREDIT_SUM_disc_int_[967500.0;1017957917.38]",
          "AMT_CREDIT_SUM_disc_int_[967500.0;1017957917.38]",
          "AMT_CREDIT_SUM_disc_int_[967500.0;1017957917.38]",
          "AMT_CREDIT_SUM_disc_int_[967500.0;1017957917.38]",
          "AMT_CREDIT_SUM_disc_int_[967500.0;1017957917.38]",
          "AMT_CREDIT_SUM_disc_int_[967500.0;1017957917.38]",
          "AMT_CREDIT_SUM_disc_int_[967500.0;1017957917.38]",
          "AMT_CREDIT_SUM_disc_int_[967500.0;1017957917.38]",
          "AMT_CREDIT_SUM_disc_int_[967500.0;1017957917.38]",
          "AMT_CREDIT_SUM_disc_int_[967500.0;1017957917.38]",
          "AMT_CREDIT_SUM_disc_int_[967500.0;1017957917.38]",
          "AMT_CREDIT_SUM_disc_int_[967500.0;1017957917.38]",
          "AMT_CREDIT_SUM_disc_int_[967500.0;1017957917.38]",
          "AMT_CREDIT_SUM_disc_int_[967500.0;1017957917.38]",
          "AMT_CREDIT_SUM_disc_int_[967500.0;1017957917.38]",
          "AMT_CREDIT_SUM_disc_int_[967500.0;1017957917.38]",
          "AMT_CREDIT_SUM_disc_int_[967500.0;1017957917.38]",
          "AMT_CREDIT_SUM_disc_int_[967500.0;1017957917.38]",
          "AMT_CREDIT_SUM_disc_int_[967500.0;1017957917.38]",
          "AMT_CREDIT_SUM_disc_int_[967500.0;1017957917.38]",
          "AMT_CREDIT_SUM_disc_int_[967500.0;1017957917.38]",
          "AMT_CREDIT_SUM_disc_int_[967500.0;1017957917.38]",
          "AMT_CREDIT_SUM_disc_int_[967500.0;1017957917.38]",
          "AMT_CREDIT_SUM_disc_int_[967500.0;1017957917.38]",
          "AMT_CREDIT_SUM_disc_int_[967500.0;1017957917.38]",
          "AMT_CREDIT_SUM_disc_int_[967500.0;1017957917.38]",
          "AMT_CREDIT_SUM_disc_int_[967500.0;1017957917.38]",
          "AMT_CREDIT_SUM_disc_int_[967500.0;1017957917.38]",
          "AMT_CREDIT_SUM_disc_int_[967500.0;1017957917.38]",
          "AMT_CREDIT_SUM_disc_int_[967500.0;1017957917.38]",
          "AMT_CREDIT_SUM_disc_int_[967500.0;1017957917.38]",
          "AMT_CREDIT_SUM_disc_int_[967500.0;1017957917.38]",
          "AMT_CREDIT_SUM_disc_int_[967500.0;1017957917.38]",
          "AMT_CREDIT_SUM_disc_int_[967500.0;1017957917.38]",
          "AMT_CREDIT_SUM_disc_int_[967500.0;1017957917.38]",
          "AMT_CREDIT_SUM_disc_int_[967500.0;1017957917.38]",
          "AMT_CREDIT_SUM_disc_int_[967500.0;1017957917.38]",
          "AMT_CREDIT_SUM_disc_int_[967500.0;1017957917.38]",
          "AMT_CREDIT_SUM_disc_int_[967500.0;1017957917.38]",
          "AMT_CREDIT_SUM_disc_int_[967500.0;1017957917.38]",
          "AMT_CREDIT_SUM_disc_int_[967500.0;1017957917.38]",
          "AMT_CREDIT_SUM_disc_int_[967500.0;1017957917.38]",
          "AMT_CREDIT_SUM_disc_int_[967500.0;1017957917.38]",
          "AMT_CREDIT_SUM_disc_int_[967500.0;1017957917.38]",
          "AMT_CREDIT_SUM_disc_int_[967500.0;1017957917.38]",
          "AMT_CREDIT_SUM_disc_int_[967500.0;1017957917.38]",
          "AMT_CREDIT_SUM_disc_int_[967500.0;1017957917.38]",
          "AMT_CREDIT_SUM_disc_int_[967500.0;1017957917.38]",
          "AMT_CREDIT_SUM_disc_int_[967500.0;1017957917.38]",
          "AMT_CREDIT_SUM_disc_int_[967500.0;1017957917.38]",
          "AMT_CREDIT_SUM_disc_int_[967500.0;1017957917.38]",
          "AMT_CREDIT_SUM_disc_int_[967500.0;1017957917.38]",
          "AMT_CREDIT_SUM_disc_int_[967500.0;1017957917.38]",
          "AMT_CREDIT_SUM_disc_int_[967500.0;1017957917.38]",
          "AMT_CREDIT_SUM_disc_int_[967500.0;1017957917.38]",
          "AMT_CREDIT_SUM_disc_int_[967500.0;1017957917.38]",
          "AMT_CREDIT_SUM_disc_int_[967500.0;1017957917.38]",
          "AMT_CREDIT_SUM_disc_int_[967500.0;1017957917.38]",
          "AMT_CREDIT_SUM_disc_int_[967500.0;1017957917.38]",
          "AMT_CREDIT_SUM_disc_int_[967500.0;1017957917.38]",
          "AMT_CREDIT_SUM_disc_int_[967500.0;1017957917.38]",
          "AMT_CREDIT_SUM_disc_int_[967500.0;1017957917.38]",
          "AMT_CREDIT_SUM_disc_int_[967500.0;1017957917.38]",
          "AMT_CREDIT_SUM_disc_int_[967500.0;1017957917.38]",
          "AMT_CREDIT_SUM_disc_int_[967500.0;1017957917.38]",
          "AMT_CREDIT_SUM_disc_int_[967500.0;1017957917.38]",
          "AMT_CREDIT_SUM_disc_int_[967500.0;1017957917.38]",
          "AMT_CREDIT_SUM_disc_int_[967500.0;1017957917.38]",
          "AMT_CREDIT_SUM_disc_int_[967500.0;1017957917.38]",
          "AMT_CREDIT_SUM_disc_int_[967500.0;1017957917.38]",
          "AMT_CREDIT_SUM_disc_int_[967500.0;1017957917.38]",
          "AMT_CREDIT_SUM_disc_int_[967500.0;1017957917.38]",
          "AMT_CREDIT_SUM_disc_int_[967500.0;1017957917.38]",
          "AMT_CREDIT_SUM_disc_int_[967500.0;1017957917.38]",
          "AMT_CREDIT_SUM_disc_int_[967500.0;1017957917.38]",
          "AMT_CREDIT_SUM_disc_int_[967500.0;1017957917.38]",
          "AMT_CREDIT_SUM_disc_int_[967500.0;1017957917.38]",
          "AMT_CREDIT_SUM_disc_int_[967500.0;1017957917.38]",
          "AMT_CREDIT_SUM_disc_int_[967500.0;1017957917.38]",
          "AMT_CREDIT_SUM_disc_int_[967500.0;1017957917.38]",
          "AMT_CREDIT_SUM_disc_int_[967500.0;1017957917.38]",
          "AMT_CREDIT_SUM_disc_int_[967500.0;1017957917.38]",
          "AMT_CREDIT_SUM_disc_int_[967500.0;1017957917.38]",
          "AMT_CREDIT_SUM_disc_int_[967500.0;1017957917.38]",
          "AMT_CREDIT_SUM_disc_int_[967500.0;1017957917.38]",
          "AMT_CREDIT_SUM_disc_int_[967500.0;1017957917.38]",
          "AMT_CREDIT_SUM_disc_int_[967500.0;1017957917.38]",
          "AMT_CREDIT_SUM_disc_int_[967500.0;1017957917.38]",
          "AMT_CREDIT_SUM_disc_int_[967500.0;1017957917.38]",
          "AMT_CREDIT_SUM_disc_int_[967500.0;1017957917.38]",
          "AMT_CREDIT_SUM_disc_int_[967500.0;1017957917.38]",
          "AMT_CREDIT_SUM_disc_int_[967500.0;1017957917.38]",
          "AMT_CREDIT_SUM_disc_int_[967500.0;1017957917.38]",
          "AMT_CREDIT_SUM_disc_int_[967500.0;1017957917.38]",
          "AMT_CREDIT_SUM_disc_int_[967500.0;1017957917.38]",
          "AMT_CREDIT_SUM_disc_int_[967500.0;1017957917.38]",
          "AMT_CREDIT_SUM_disc_int_[967500.0;1017957917.38]",
          "AMT_CREDIT_SUM_disc_int_[967500.0;1017957917.38]",
          "AMT_CREDIT_SUM_disc_int_[967500.0;1017957917.38]",
          "AMT_CREDIT_SUM_disc_int_[967500.0;1017957917.38]",
          "AMT_CREDIT_SUM_disc_int_[967500.0;1017957917.38]",
          "AMT_CREDIT_SUM_disc_int_[967500.0;1017957917.38]",
          "AMT_CREDIT_SUM_disc_int_[967500.0;1017957917.38]",
          "AMT_CREDIT_SUM_disc_int_[967500.0;1017957917.38]",
          "AMT_CREDIT_SUM_disc_int_[967500.0;1017957917.38]",
          "AMT_CREDIT_SUM_disc_int_[967500.0;1017957917.38]",
          "AMT_CREDIT_SUM_disc_int_[967500.0;1017957917.38]",
          "AMT_CREDIT_SUM_disc_int_[967500.0;1017957917.38]",
          "AMT_CREDIT_SUM_disc_int_[967500.0;1017957917.38]",
          "AMT_CREDIT_SUM_disc_int_[967500.0;1017957917.38]",
          "AMT_CREDIT_SUM_disc_int_[967500.0;1017957917.38]",
          "AMT_CREDIT_SUM_disc_int_[967500.0;1017957917.38]",
          "AMT_CREDIT_SUM_disc_int_[967500.0;1017957917.38]",
          "AMT_CREDIT_SUM_disc_int_[967500.0;1017957917.38]",
          "AMT_CREDIT_SUM_disc_int_[967500.0;1017957917.38]",
          "AMT_CREDIT_SUM_disc_int_[967500.0;1017957917.38]",
          "AMT_CREDIT_SUM_disc_int_[967500.0;1017957917.38]",
          "AMT_CREDIT_SUM_disc_int_[967500.0;1017957917.38]",
          "AMT_CREDIT_SUM_disc_int_[967500.0;1017957917.38]",
          "AMT_CREDIT_SUM_disc_int_[967500.0;1017957917.38]",
          "AMT_CREDIT_SUM_disc_int_[967500.0;1017957917.38]",
          "AMT_CREDIT_SUM_disc_int_[967500.0;1017957917.38]",
          "AMT_CREDIT_SUM_disc_int_[967500.0;1017957917.38]",
          "AMT_CREDIT_SUM_disc_int_[967500.0;1017957917.38]",
          "AMT_CREDIT_SUM_disc_int_[967500.0;1017957917.38]",
          "AMT_CREDIT_SUM_disc_int_[967500.0;1017957917.38]",
          "AMT_CREDIT_SUM_disc_int_[967500.0;1017957917.38]",
          "AMT_CREDIT_SUM_disc_int_[967500.0;1017957917.38]",
          "AMT_CREDIT_SUM_disc_int_[967500.0;1017957917.38]",
          "AMT_CREDIT_SUM_disc_int_[967500.0;1017957917.38]",
          "AMT_CREDIT_SUM_disc_int_[967500.0;1017957917.38]",
          "AMT_CREDIT_SUM_disc_int_[967500.0;1017957917.38]",
          "AMT_CREDIT_SUM_disc_int_[967500.0;1017957917.38]",
          "AMT_CREDIT_SUM_disc_int_[967500.0;1017957917.38]",
          "AMT_CREDIT_SUM_disc_int_[967500.0;1017957917.38]",
          "AMT_CREDIT_SUM_disc_int_[967500.0;1017957917.38]",
          "AMT_CREDIT_SUM_disc_int_[967500.0;1017957917.38]",
          "AMT_CREDIT_SUM_disc_int_[967500.0;1017957917.38]",
          "AMT_CREDIT_SUM_disc_int_[967500.0;1017957917.38]",
          "AMT_CREDIT_SUM_disc_int_[967500.0;1017957917.38]",
          "AMT_CREDIT_SUM_disc_int_[967500.0;1017957917.38]",
          "AMT_CREDIT_SUM_disc_int_[967500.0;1017957917.38]",
          "AMT_CREDIT_SUM_disc_int_[967500.0;1017957917.38]",
          "AMT_CREDIT_SUM_disc_int_[967500.0;1017957917.38]",
          "AMT_CREDIT_SUM_disc_int_[967500.0;1017957917.38]",
          "AMT_CREDIT_SUM_disc_int_[967500.0;1017957917.38]",
          "AMT_CREDIT_SUM_disc_int_[967500.0;1017957917.38]",
          "AMT_CREDIT_SUM_disc_int_[967500.0;1017957917.38]",
          "AMT_CREDIT_SUM_disc_int_[967500.0;1017957917.38]",
          "AMT_CREDIT_SUM_disc_int_[967500.0;1017957917.38]",
          "AMT_CREDIT_SUM_disc_int_[967500.0;1017957917.38]",
          "AMT_CREDIT_SUM_disc_int_[967500.0;1017957917.38]",
          "AMT_CREDIT_SUM_disc_int_[967500.0;1017957917.38]",
          "AMT_CREDIT_SUM_disc_int_[967500.0;1017957917.38]",
          "AMT_CREDIT_SUM_disc_int_[967500.0;1017957917.38]",
          "AMT_CREDIT_SUM_disc_int_[967500.0;1017957917.38]",
          "AMT_CREDIT_SUM_disc_int_[967500.0;1017957917.38]",
          "AMT_CREDIT_SUM_disc_int_[967500.0;1017957917.38]",
          "AMT_CREDIT_SUM_disc_int_[967500.0;1017957917.38]",
          "AMT_CREDIT_SUM_disc_int_[967500.0;1017957917.38]",
          "AMT_CREDIT_SUM_disc_int_[967500.0;1017957917.38]",
          "AMT_CREDIT_SUM_disc_int_[967500.0;1017957917.38]",
          "AMT_CREDIT_SUM_disc_int_[967500.0;1017957917.38]",
          "AMT_CREDIT_SUM_disc_int_[967500.0;1017957917.38]",
          "AMT_CREDIT_SUM_disc_int_[967500.0;1017957917.38]",
          "AMT_CREDIT_SUM_disc_int_[967500.0;1017957917.38]",
          "AMT_CREDIT_SUM_disc_int_[967500.0;1017957917.38]",
          "AMT_CREDIT_SUM_disc_int_[967500.0;1017957917.38]",
          "AMT_CREDIT_SUM_disc_int_[967500.0;1017957917.38]",
          "AMT_CREDIT_SUM_disc_int_[967500.0;1017957917.38]",
          "AMT_CREDIT_SUM_disc_int_[967500.0;1017957917.38]",
          "AMT_CREDIT_SUM_disc_int_[967500.0;1017957917.38]",
          "AMT_CREDIT_SUM_disc_int_[967500.0;1017957917.38]",
          "AMT_CREDIT_SUM_disc_int_[967500.0;1017957917.38]",
          "AMT_CREDIT_SUM_disc_int_[967500.0;1017957917.38]",
          "AMT_CREDIT_SUM_disc_int_[967500.0;1017957917.38]",
          "AMT_CREDIT_SUM_disc_int_[967500.0;1017957917.38]",
          "AMT_CREDIT_SUM_disc_int_[967500.0;1017957917.38]",
          "AMT_CREDIT_SUM_disc_int_[967500.0;1017957917.38]",
          "AMT_CREDIT_SUM_disc_int_[967500.0;1017957917.38]",
          "AMT_CREDIT_SUM_disc_int_[967500.0;1017957917.38]",
          "AMT_CREDIT_SUM_disc_int_[967500.0;1017957917.38]",
          "AMT_CREDIT_SUM_disc_int_[967500.0;1017957917.38]",
          "AMT_CREDIT_SUM_disc_int_[967500.0;1017957917.38]",
          "AMT_CREDIT_SUM_disc_int_[967500.0;1017957917.38]",
          "AMT_CREDIT_SUM_disc_int_[967500.0;1017957917.38]",
          "AMT_CREDIT_SUM_disc_int_[967500.0;1017957917.38]",
          "AMT_CREDIT_SUM_disc_int_[967500.0;1017957917.38]",
          "AMT_CREDIT_SUM_disc_int_[967500.0;1017957917.38]",
          "AMT_CREDIT_SUM_disc_int_[967500.0;1017957917.38]",
          "AMT_CREDIT_SUM_disc_int_[967500.0;1017957917.38]",
          "AMT_CREDIT_SUM_disc_int_[967500.0;1017957917.38]",
          "AMT_CREDIT_SUM_disc_int_[967500.0;1017957917.38]",
          "AMT_CREDIT_SUM_disc_int_[967500.0;1017957917.38]",
          "AMT_CREDIT_SUM_disc_int_[967500.0;1017957917.38]",
          "AMT_CREDIT_SUM_disc_int_[967500.0;1017957917.38]",
          "AMT_CREDIT_SUM_disc_int_[967500.0;1017957917.38]",
          "AMT_CREDIT_SUM_disc_int_[967500.0;1017957917.38]",
          "AMT_CREDIT_SUM_disc_int_[967500.0;1017957917.38]",
          "AMT_CREDIT_SUM_disc_int_[967500.0;1017957917.38]",
          "AMT_CREDIT_SUM_disc_int_[967500.0;1017957917.38]",
          "AMT_CREDIT_SUM_disc_int_[967500.0;1017957917.38]",
          "AMT_CREDIT_SUM_disc_int_[967500.0;1017957917.38]",
          "AMT_CREDIT_SUM_disc_int_[967500.0;1017957917.38]",
          "AMT_CREDIT_SUM_disc_int_[967500.0;1017957917.38]",
          "AMT_CREDIT_SUM_disc_int_[967500.0;1017957917.38]",
          "AMT_CREDIT_SUM_disc_int_[967500.0;1017957917.38]",
          "AMT_CREDIT_SUM_disc_int_[967500.0;1017957917.38]",
          "AMT_CREDIT_SUM_disc_int_[967500.0;1017957917.38]",
          "AMT_CREDIT_SUM_disc_int_[967500.0;1017957917.38]",
          "AMT_CREDIT_SUM_disc_int_[967500.0;1017957917.38]",
          "AMT_CREDIT_SUM_disc_int_[967500.0;1017957917.38]",
          "AMT_CREDIT_SUM_disc_int_[967500.0;1017957917.38]",
          "AMT_CREDIT_SUM_disc_int_[967500.0;1017957917.38]",
          "AMT_CREDIT_SUM_disc_int_[967500.0;1017957917.38]",
          "AMT_CREDIT_SUM_disc_int_[967500.0;1017957917.38]",
          "AMT_CREDIT_SUM_disc_int_[967500.0;1017957917.38]",
          "AMT_CREDIT_SUM_disc_int_[967500.0;1017957917.38]",
          "AMT_CREDIT_SUM_disc_int_[967500.0;1017957917.38]",
          "AMT_CREDIT_SUM_disc_int_[967500.0;1017957917.38]",
          "AMT_CREDIT_SUM_disc_int_[967500.0;1017957917.38]",
          "AMT_CREDIT_SUM_disc_int_[967500.0;1017957917.38]",
          "AMT_CREDIT_SUM_disc_int_[967500.0;1017957917.38]",
          "AMT_CREDIT_SUM_disc_int_[967500.0;1017957917.38]",
          "AMT_CREDIT_SUM_disc_int_[967500.0;1017957917.38]",
          "AMT_CREDIT_SUM_disc_int_[967500.0;1017957917.38]",
          "AMT_CREDIT_SUM_disc_int_[967500.0;1017957917.38]",
          "AMT_CREDIT_SUM_disc_int_[967500.0;1017957917.38]",
          "AMT_CREDIT_SUM_disc_int_[967500.0;1017957917.38]",
          "AMT_CREDIT_SUM_disc_int_[967500.0;1017957917.38]",
          "AMT_CREDIT_SUM_disc_int_[967500.0;1017957917.38]",
          "AMT_CREDIT_SUM_disc_int_[967500.0;1017957917.38]",
          "AMT_CREDIT_SUM_disc_int_[967500.0;1017957917.38]",
          "AMT_CREDIT_SUM_disc_int_[967500.0;1017957917.38]",
          "AMT_CREDIT_SUM_disc_int_[967500.0;1017957917.38]",
          "AMT_CREDIT_SUM_disc_int_[967500.0;1017957917.38]",
          "AMT_CREDIT_SUM_disc_int_[967500.0;1017957917.38]",
          "AMT_CREDIT_SUM_disc_int_[967500.0;1017957917.38]",
          "AMT_CREDIT_SUM_disc_int_[967500.0;1017957917.38]",
          "AMT_CREDIT_SUM_disc_int_[967500.0;1017957917.38]",
          "AMT_CREDIT_SUM_disc_int_[967500.0;1017957917.38]",
          "AMT_CREDIT_SUM_disc_int_[967500.0;1017957917.38]",
          "AMT_CREDIT_SUM_disc_int_[967500.0;1017957917.38]",
          "AMT_CREDIT_SUM_disc_int_[967500.0;1017957917.38]",
          "AMT_CREDIT_SUM_disc_int_[967500.0;1017957917.38]",
          "EXT_SOURCE_2_disc_int_[0.38;0.85]",
          "EXT_SOURCE_2_disc_int_[0.38;0.85]",
          "EXT_SOURCE_2_disc_int_[0.38;0.85]",
          "EXT_SOURCE_2_disc_int_[0.38;0.85]",
          "EXT_SOURCE_2_disc_int_[0.38;0.85]",
          "EXT_SOURCE_2_disc_int_[0.38;0.85]",
          "EXT_SOURCE_2_disc_int_[0.38;0.85]",
          "EXT_SOURCE_2_disc_int_[0.38;0.85]",
          "EXT_SOURCE_2_disc_int_[0.38;0.85]",
          "EXT_SOURCE_2_disc_int_[0.38;0.85]",
          "EXT_SOURCE_2_disc_int_[0.38;0.85]",
          "EXT_SOURCE_2_disc_int_[0.38;0.85]",
          "EXT_SOURCE_2_disc_int_[0.38;0.85]",
          "EXT_SOURCE_2_disc_int_[0.38;0.85]",
          "EXT_SOURCE_2_disc_int_[0.38;0.85]",
          "EXT_SOURCE_2_disc_int_[0.38;0.85]",
          "EXT_SOURCE_2_disc_int_[0.38;0.85]",
          "EXT_SOURCE_2_disc_int_[0.38;0.85]",
          "EXT_SOURCE_2_disc_int_[0.38;0.85]",
          "EXT_SOURCE_2_disc_int_[0.38;0.85]",
          "EXT_SOURCE_2_disc_int_[0.38;0.85]",
          "EXT_SOURCE_2_disc_int_[0.38;0.85]",
          "EXT_SOURCE_2_disc_int_[0.38;0.85]",
          "EXT_SOURCE_2_disc_int_[0.38;0.85]",
          "EXT_SOURCE_2_disc_int_[0.38;0.85]",
          "EXT_SOURCE_2_disc_int_[0.38;0.85]",
          "EXT_SOURCE_2_disc_int_[0.38;0.85]",
          "EXT_SOURCE_2_disc_int_[0.38;0.85]",
          "EXT_SOURCE_2_disc_int_[0.38;0.85]",
          "EXT_SOURCE_2_disc_int_[0.38;0.85]",
          "EXT_SOURCE_2_disc_int_[0.38;0.85]",
          "EXT_SOURCE_2_disc_int_[0.38;0.85]",
          "EXT_SOURCE_2_disc_int_[0.38;0.85]",
          "EXT_SOURCE_2_disc_int_[0.38;0.85]",
          "EXT_SOURCE_2_disc_int_[0.38;0.85]",
          "EXT_SOURCE_2_disc_int_[0.38;0.85]",
          "EXT_SOURCE_2_disc_int_[0.38;0.85]",
          "EXT_SOURCE_2_disc_int_[0.38;0.85]",
          "EXT_SOURCE_2_disc_int_[0.38;0.85]",
          "EXT_SOURCE_2_disc_int_[0.38;0.85]",
          "EXT_SOURCE_2_disc_int_[0.38;0.85]",
          "EXT_SOURCE_2_disc_int_[0.38;0.85]",
          "EXT_SOURCE_2_disc_int_[0.38;0.85]",
          "EXT_SOURCE_2_disc_int_[0.38;0.85]",
          "EXT_SOURCE_2_disc_int_[0.38;0.85]",
          "EXT_SOURCE_2_disc_int_[0.38;0.85]",
          "EXT_SOURCE_2_disc_int_[0.38;0.85]",
          "EXT_SOURCE_2_disc_int_[0.38;0.85]",
          "EXT_SOURCE_2_disc_int_[0.38;0.85]",
          "EXT_SOURCE_2_disc_int_[0.38;0.85]",
          "EXT_SOURCE_2_disc_int_[0.38;0.85]",
          "EXT_SOURCE_2_disc_int_[0.38;0.85]",
          "EXT_SOURCE_2_disc_int_[0.38;0.85]",
          "EXT_SOURCE_2_disc_int_[0.38;0.85]",
          "EXT_SOURCE_2_disc_int_[0.38;0.85]",
          "EXT_SOURCE_2_disc_int_[0.38;0.85]",
          "EXT_SOURCE_2_disc_int_[0.38;0.85]",
          "EXT_SOURCE_2_disc_int_[0.38;0.85]",
          "EXT_SOURCE_2_disc_int_[0.38;0.85]",
          "EXT_SOURCE_2_disc_int_[0.38;0.85]",
          "EXT_SOURCE_2_disc_int_[0.38;0.85]",
          "EXT_SOURCE_2_disc_int_[0.38;0.85]",
          "EXT_SOURCE_2_disc_int_[0.38;0.85]",
          "EXT_SOURCE_2_disc_int_[0.38;0.85]",
          "EXT_SOURCE_2_disc_int_[0.38;0.85]",
          "EXT_SOURCE_2_disc_int_[0.38;0.85]",
          "EXT_SOURCE_2_disc_int_[0.38;0.85]",
          "EXT_SOURCE_2_disc_int_[0.38;0.85]",
          "EXT_SOURCE_2_disc_int_[0.38;0.85]",
          "EXT_SOURCE_2_disc_int_[0.38;0.85]",
          "EXT_SOURCE_2_disc_int_[0.38;0.85]",
          "EXT_SOURCE_2_disc_int_[0.38;0.85]",
          "EXT_SOURCE_2_disc_int_[0.38;0.85]",
          "EXT_SOURCE_2_disc_int_[0.38;0.85]",
          "EXT_SOURCE_2_disc_int_[0.38;0.85]",
          "EXT_SOURCE_2_disc_int_[0.38;0.85]",
          "EXT_SOURCE_2_disc_int_[0.38;0.85]",
          "EXT_SOURCE_2_disc_int_[0.38;0.85]",
          "EXT_SOURCE_2_disc_int_[0.38;0.85]",
          "EXT_SOURCE_2_disc_int_[0.38;0.85]",
          "EXT_SOURCE_2_disc_int_[0.38;0.85]",
          "EXT_SOURCE_2_disc_int_[0.38;0.85]",
          "EXT_SOURCE_2_disc_int_[0.38;0.85]",
          "EXT_SOURCE_2_disc_int_[0.38;0.85]",
          "EXT_SOURCE_2_disc_int_[0.38;0.85]",
          "EXT_SOURCE_2_disc_int_[0.38;0.85]",
          "EXT_SOURCE_2_disc_int_[0.38;0.85]",
          "EXT_SOURCE_2_disc_int_[0.38;0.85]",
          "EXT_SOURCE_2_disc_int_[0.38;0.85]",
          "EXT_SOURCE_2_disc_int_[0.38;0.85]",
          "EXT_SOURCE_2_disc_int_[0.38;0.85]",
          "EXT_SOURCE_2_disc_int_[0.38;0.85]",
          "EXT_SOURCE_2_disc_int_[0.38;0.85]",
          "EXT_SOURCE_2_disc_int_[0.38;0.85]",
          "EXT_SOURCE_2_disc_int_[0.38;0.85]",
          "EXT_SOURCE_2_disc_int_[0.38;0.85]",
          "EXT_SOURCE_2_disc_int_[0.38;0.85]",
          "EXT_SOURCE_2_disc_int_[0.38;0.85]",
          "EXT_SOURCE_2_disc_int_[0.38;0.85]",
          "EXT_SOURCE_2_disc_int_[0.38;0.85]",
          "EXT_SOURCE_2_disc_int_[0.38;0.85]",
          "EXT_SOURCE_2_disc_int_[0.38;0.85]",
          "EXT_SOURCE_2_disc_int_[0.38;0.85]",
          "EXT_SOURCE_2_disc_int_[0.38;0.85]",
          "EXT_SOURCE_2_disc_int_[0.38;0.85]",
          "EXT_SOURCE_2_disc_int_[0.38;0.85]",
          "EXT_SOURCE_2_disc_int_[0.38;0.85]",
          "EXT_SOURCE_2_disc_int_[0.38;0.85]",
          "EXT_SOURCE_2_disc_int_[0.38;0.85]",
          "EXT_SOURCE_2_disc_int_[0.38;0.85]",
          "EXT_SOURCE_2_disc_int_[0.38;0.85]",
          "EXT_SOURCE_2_disc_int_[0.38;0.85]",
          "EXT_SOURCE_2_disc_int_[0.38;0.85]",
          "EXT_SOURCE_2_disc_int_[0.38;0.85]",
          "EXT_SOURCE_2_disc_int_[0.38;0.85]",
          "EXT_SOURCE_2_disc_int_[0.38;0.85]",
          "EXT_SOURCE_2_disc_int_[0.38;0.85]",
          "EXT_SOURCE_2_disc_int_[0.38;0.85]",
          "EXT_SOURCE_2_disc_int_[0.38;0.85]",
          "EXT_SOURCE_2_disc_int_[0.38;0.85]",
          "EXT_SOURCE_2_disc_int_[0.38;0.85]",
          "EXT_SOURCE_2_disc_int_[0.38;0.85]",
          "EXT_SOURCE_2_disc_int_[0.38;0.85]",
          "EXT_SOURCE_2_disc_int_[0.38;0.85]",
          "EXT_SOURCE_2_disc_int_[0.38;0.85]",
          "EXT_SOURCE_1_disc_int_[0.26;0.96]",
          "EXT_SOURCE_1_disc_int_[0.26;0.96]",
          "EXT_SOURCE_1_disc_int_[0.26;0.96]",
          "EXT_SOURCE_1_disc_int_[0.26;0.96]",
          "EXT_SOURCE_1_disc_int_[0.26;0.96]",
          "EXT_SOURCE_1_disc_int_[0.26;0.96]",
          "EXT_SOURCE_1_disc_int_[0.26;0.96]",
          "EXT_SOURCE_1_disc_int_[0.26;0.96]",
          "EXT_SOURCE_1_disc_int_[0.26;0.96]",
          "EXT_SOURCE_1_disc_int_[0.26;0.96]",
          "EXT_SOURCE_1_disc_int_[0.26;0.96]",
          "EXT_SOURCE_1_disc_int_[0.26;0.96]",
          "EXT_SOURCE_1_disc_int_[0.26;0.96]",
          "EXT_SOURCE_1_disc_int_[0.26;0.96]",
          "EXT_SOURCE_1_disc_int_[0.26;0.96]",
          "EXT_SOURCE_1_disc_int_[0.26;0.96]",
          "EXT_SOURCE_1_disc_int_[0.26;0.96]",
          "EXT_SOURCE_1_disc_int_[0.26;0.96]",
          "EXT_SOURCE_1_disc_int_[0.26;0.96]",
          "EXT_SOURCE_1_disc_int_[0.26;0.96]",
          "EXT_SOURCE_1_disc_int_[0.26;0.96]",
          "EXT_SOURCE_1_disc_int_[0.26;0.96]",
          "EXT_SOURCE_1_disc_int_[0.26;0.96]",
          "EXT_SOURCE_1_disc_int_[0.26;0.96]",
          "EXT_SOURCE_1_disc_int_[0.26;0.96]",
          "EXT_SOURCE_1_disc_int_[0.26;0.96]",
          "EXT_SOURCE_1_disc_int_[0.26;0.96]",
          "EXT_SOURCE_1_disc_int_[0.26;0.96]",
          "EXT_SOURCE_1_disc_int_[0.26;0.96]",
          "EXT_SOURCE_1_disc_int_[0.26;0.96]",
          "EXT_SOURCE_1_disc_int_[0.26;0.96]",
          "EXT_SOURCE_1_disc_int_[0.26;0.96]",
          "EXT_SOURCE_1_disc_int_[0.26;0.96]",
          "EXT_SOURCE_1_disc_int_[0.26;0.96]",
          "EXT_SOURCE_1_disc_int_[0.26;0.96]",
          "EXT_SOURCE_1_disc_int_[0.26;0.96]",
          "EXT_SOURCE_1_disc_int_[0.26;0.96]",
          "EXT_SOURCE_1_disc_int_[0.26;0.96]",
          "EXT_SOURCE_1_disc_int_[0.26;0.96]",
          "EXT_SOURCE_1_disc_int_[0.26;0.96]",
          "EXT_SOURCE_1_disc_int_[0.26;0.96]",
          "EXT_SOURCE_1_disc_int_[0.26;0.96]",
          "EXT_SOURCE_1_disc_int_[0.26;0.96]",
          "EXT_SOURCE_1_disc_int_[0.26;0.96]",
          "EXT_SOURCE_1_disc_int_[0.26;0.96]",
          "EXT_SOURCE_1_disc_int_[0.26;0.96]",
          "EXT_SOURCE_1_disc_int_[0.26;0.96]",
          "EXT_SOURCE_1_disc_int_[0.26;0.96]",
          "EXT_SOURCE_1_disc_int_[0.26;0.96]",
          "EXT_SOURCE_1_disc_int_[0.26;0.96]",
          "EXT_SOURCE_1_disc_int_[0.26;0.96]",
          "EXT_SOURCE_1_disc_int_[0.26;0.96]",
          "EXT_SOURCE_1_disc_int_[0.26;0.96]",
          "EXT_SOURCE_1_disc_int_[0.26;0.96]",
          "EXT_SOURCE_1_disc_int_[0.26;0.96]",
          "EXT_SOURCE_1_disc_int_[0.26;0.96]",
          "EXT_SOURCE_1_disc_int_[0.26;0.96]",
          "EXT_SOURCE_1_disc_int_[0.26;0.96]",
          "EXT_SOURCE_1_disc_int_[0.26;0.96]",
          "EXT_SOURCE_1_disc_int_[0.26;0.96]",
          "EXT_SOURCE_1_disc_int_[0.26;0.96]",
          "EXT_SOURCE_1_disc_int_[0.26;0.96]",
          "EXT_SOURCE_1_disc_int_[0.26;0.96]",
          "EXT_SOURCE_1_disc_int_[0.26;0.96]",
          "EXT_SOURCE_1_disc_int_[0.26;0.96]",
          "EXT_SOURCE_1_disc_int_[0.26;0.96]",
          "EXT_SOURCE_1_disc_int_[0.26;0.96]",
          "EXT_SOURCE_1_disc_int_[0.26;0.96]",
          "EXT_SOURCE_1_disc_int_[0.26;0.96]",
          "EXT_SOURCE_1_disc_int_[0.26;0.96]",
          "EXT_SOURCE_1_disc_int_[0.26;0.96]",
          "EXT_SOURCE_1_disc_int_[0.26;0.96]",
          "EXT_SOURCE_1_disc_int_[0.26;0.96]",
          "EXT_SOURCE_1_disc_int_[0.26;0.96]",
          "EXT_SOURCE_3_disc_int_[0.33;0.9]",
          "EXT_SOURCE_3_disc_int_[0.33;0.9]",
          "EXT_SOURCE_3_disc_int_[0.33;0.9]",
          "EXT_SOURCE_3_disc_int_[0.33;0.9]",
          "EXT_SOURCE_3_disc_int_[0.33;0.9]",
          "EXT_SOURCE_3_disc_int_[0.33;0.9]",
          "EXT_SOURCE_3_disc_int_[0.33;0.9]",
          "EXT_SOURCE_3_disc_int_[0.33;0.9]",
          "EXT_SOURCE_3_disc_int_[0.33;0.9]",
          "EXT_SOURCE_3_disc_int_[0.33;0.9]",
          "EXT_SOURCE_3_disc_int_[0.33;0.9]",
          "EXT_SOURCE_3_disc_int_[0.33;0.9]",
          "EXT_SOURCE_3_disc_int_[0.33;0.9]",
          "EXT_SOURCE_3_disc_int_[0.33;0.9]",
          "EXT_SOURCE_3_disc_int_[0.33;0.9]",
          "EXT_SOURCE_3_disc_int_[0.33;0.9]",
          "EXT_SOURCE_3_disc_int_[0.33;0.9]",
          "EXT_SOURCE_3_disc_int_[0.33;0.9]",
          "EXT_SOURCE_3_disc_int_[0.33;0.9]",
          "EXT_SOURCE_3_disc_int_[0.33;0.9]",
          "EXT_SOURCE_3_disc_int_[0.33;0.9]",
          "EXT_SOURCE_3_disc_int_[0.33;0.9]",
          "EXT_SOURCE_3_disc_int_[0.33;0.9]",
          "EXT_SOURCE_3_disc_int_[0.33;0.9]",
          "EXT_SOURCE_3_disc_int_[0.33;0.9]",
          "EXT_SOURCE_3_disc_int_[0.33;0.9]",
          "EXT_SOURCE_3_disc_int_[0.33;0.9]",
          "EXT_SOURCE_3_disc_int_[0.33;0.9]",
          "EXT_SOURCE_3_disc_int_[0.33;0.9]",
          "EXT_SOURCE_3_disc_int_[0.33;0.9]",
          "EXT_SOURCE_3_disc_int_[0.33;0.9]",
          "EXT_SOURCE_3_disc_int_[0.33;0.9]",
          "EXT_SOURCE_3_disc_int_[0.33;0.9]",
          "EXT_SOURCE_3_disc_int_[0.33;0.9]",
          "EXT_SOURCE_3_disc_int_[0.33;0.9]",
          "EXT_SOURCE_3_disc_int_[0.33;0.9]",
          "EXT_SOURCE_3_disc_int_[0.33;0.9]",
          "EXT_SOURCE_3_disc_int_[0.33;0.9]",
          "EXT_SOURCE_3_disc_int_[0.33;0.9]",
          "EXT_SOURCE_3_disc_int_[0.33;0.9]",
          "EXT_SOURCE_3_disc_int_[0.33;0.9]",
          "EXT_SOURCE_3_disc_int_[0.33;0.9]",
          "EXT_SOURCE_3_disc_int_[0.33;0.9]",
          "EXT_SOURCE_3_disc_int_[0.33;0.9]",
          "EXT_SOURCE_3_disc_int_[0.33;0.9]",
          "EXT_SOURCE_3_disc_int_[0.33;0.9]",
          "EXT_SOURCE_3_disc_int_[0.33;0.9]",
          "EXT_SOURCE_3_disc_int_[0.33;0.9]",
          "EXT_SOURCE_3_disc_int_[0.33;0.9]",
          "EXT_SOURCE_3_disc_int_[0.33;0.9]",
          "EXT_SOURCE_3_disc_int_[0.33;0.9]",
          "EXT_SOURCE_3_disc_int_[0.33;0.9]",
          "EXT_SOURCE_3_disc_int_[0.33;0.9]",
          "EXT_SOURCE_3_disc_int_[0.33;0.9]",
          "EXT_SOURCE_3_disc_int_[0.33;0.9]",
          "EXT_SOURCE_3_disc_int_[0.33;0.9]",
          "EXT_SOURCE_3_disc_int_[0.33;0.9]",
          "EXT_SOURCE_3_disc_int_[0.33;0.9]",
          "EXT_SOURCE_3_disc_int_[0.33;0.9]",
          "EXT_SOURCE_3_disc_int_[0.33;0.9]",
          "EXT_SOURCE_3_disc_int_[0.33;0.9]",
          "EXT_SOURCE_3_disc_int_[0.33;0.9]",
          "EXT_SOURCE_3_disc_int_[0.33;0.9]",
          "EXT_SOURCE_3_disc_int_[0.33;0.9]",
          "EXT_SOURCE_3_disc_int_[0.33;0.9]",
          "EXT_SOURCE_3_disc_int_[0.33;0.9]",
          "EXT_SOURCE_3_disc_int_[0.33;0.9]",
          "EXT_SOURCE_3_disc_int_[0.33;0.9]",
          "EXT_SOURCE_3_disc_int_[0.33;0.9]",
          "EXT_SOURCE_3_disc_int_[0.33;0.9]",
          "EXT_SOURCE_3_disc_int_[0.33;0.9]",
          "EXT_SOURCE_3_disc_int_[0.33;0.9]",
          "EXT_SOURCE_3_disc_int_[0.33;0.9]",
          "EXT_SOURCE_3_disc_int_[0.33;0.9]",
          "EXT_SOURCE_3_disc_int_[0.33;0.9]",
          "EXT_SOURCE_3_disc_int_[0.33;0.9]",
          "EXT_SOURCE_3_disc_int_[0.33;0.9]",
          "EXT_SOURCE_3_disc_int_[0.33;0.9]",
          "EXT_SOURCE_3_disc_int_[0.33;0.9]",
          "EXT_SOURCE_3_disc_int_[0.33;0.9]",
          "EXT_SOURCE_3_disc_int_[0.33;0.9]",
          "EXT_SOURCE_3_disc_int_[0.33;0.9]",
          "EXT_SOURCE_3_disc_int_[0.33;0.9]",
          "EXT_SOURCE_3_disc_int_[0.33;0.9]",
          "EXT_SOURCE_3_disc_int_[0.33;0.9]",
          "EXT_SOURCE_3_disc_int_[0.33;0.9]",
          "EXT_SOURCE_3_disc_int_[0.33;0.9]",
          "EXT_SOURCE_3_disc_int_[0.33;0.9]",
          "EXT_SOURCE_3_disc_int_[0.33;0.9]",
          "EXT_SOURCE_3_disc_int_[0.33;0.9]",
          "EXT_SOURCE_3_disc_int_[0.33;0.9]",
          "EXT_SOURCE_3_disc_int_[0.33;0.9]",
          "EXT_SOURCE_3_disc_int_[0.33;0.9]",
          "EXT_SOURCE_3_disc_int_[0.33;0.9]",
          "EXT_SOURCE_3_disc_int_[0.33;0.9]",
          "EXT_SOURCE_3_disc_int_[0.33;0.9]",
          "EXT_SOURCE_3_disc_int_[0.33;0.9]",
          "EXT_SOURCE_3_disc_int_[0.33;0.9]",
          "EXT_SOURCE_3_disc_int_[0.33;0.9]",
          "EXT_SOURCE_3_disc_int_[0.33;0.9]",
          "EXT_SOURCE_3_disc_int_[0.33;0.9]",
          "EXT_SOURCE_3_disc_int_[0.33;0.9]",
          "EXT_SOURCE_3_disc_int_[0.33;0.9]",
          "EXT_SOURCE_3_disc_int_[0.33;0.9]",
          "EXT_SOURCE_3_disc_int_[0.33;0.9]",
          "EXT_SOURCE_3_disc_int_[0.33;0.9]",
          "EXT_SOURCE_3_disc_int_[0.33;0.9]",
          "EXT_SOURCE_3_disc_int_[0.33;0.9]",
          "EXT_SOURCE_3_disc_int_[0.33;0.9]",
          "EXT_SOURCE_3_disc_int_[0.33;0.9]",
          "EXT_SOURCE_3_disc_int_[0.33;0.9]",
          "EXT_SOURCE_3_disc_int_[0.33;0.9]",
          "EXT_SOURCE_3_disc_int_[0.33;0.9]",
          "EXT_SOURCE_3_disc_int_[0.33;0.9]",
          "EXT_SOURCE_3_disc_int_[0.33;0.9]",
          "EXT_SOURCE_3_disc_int_[0.33;0.9]",
          "EXT_SOURCE_3_disc_int_[0.33;0.9]",
          "EXT_SOURCE_3_disc_int_[0.33;0.9]",
          "EXT_SOURCE_3_disc_int_[0.33;0.9]",
          "NAME_INCOME_TYPE_discret_Low_income",
          "NAME_INCOME_TYPE_discret_Low_income",
          "NAME_INCOME_TYPE_discret_Low_income",
          "NAME_INCOME_TYPE_discret_Low_income",
          "NAME_INCOME_TYPE_discret_Low_income",
          "NAME_INCOME_TYPE_discret_Low_income",
          "NAME_INCOME_TYPE_discret_Low_income",
          "NAME_INCOME_TYPE_discret_Low_income",
          "NAME_INCOME_TYPE_discret_Low_income",
          "NAME_INCOME_TYPE_discret_Low_income",
          "NAME_INCOME_TYPE_discret_Low_income",
          "NAME_INCOME_TYPE_discret_Low_income",
          "NAME_INCOME_TYPE_discret_Low_income",
          "NAME_INCOME_TYPE_discret_Low_income",
          "NAME_INCOME_TYPE_discret_Low_income",
          "NAME_INCOME_TYPE_discret_Low_income",
          "NAME_INCOME_TYPE_discret_Low_income",
          "NAME_INCOME_TYPE_discret_Low_income",
          "NAME_INCOME_TYPE_discret_Low_income",
          "NAME_INCOME_TYPE_discret_Low_income",
          "NAME_INCOME_TYPE_discret_Low_income",
          "NAME_INCOME_TYPE_discret_Low_income",
          "NAME_INCOME_TYPE_discret_Low_income",
          "NAME_INCOME_TYPE_discret_Low_income",
          "NAME_INCOME_TYPE_discret_Low_income",
          "NAME_INCOME_TYPE_discret_Low_income",
          "NAME_INCOME_TYPE_discret_Low_income",
          "NAME_INCOME_TYPE_discret_Low_income",
          "NAME_INCOME_TYPE_discret_Low_income",
          "NAME_INCOME_TYPE_discret_Low_income",
          "NAME_INCOME_TYPE_discret_Low_income",
          "NAME_INCOME_TYPE_discret_Low_income",
          "NAME_INCOME_TYPE_discret_Low_income",
          "NAME_INCOME_TYPE_discret_Low_income",
          "NAME_INCOME_TYPE_discret_Low_income",
          "NAME_INCOME_TYPE_discret_Low_income",
          "NAME_INCOME_TYPE_discret_Low_income",
          "NAME_INCOME_TYPE_discret_Low_income",
          "NAME_INCOME_TYPE_discret_Low_income",
          "NAME_INCOME_TYPE_discret_Low_income",
          "NAME_INCOME_TYPE_discret_Low_income",
          "NAME_INCOME_TYPE_discret_Low_income",
          "NAME_INCOME_TYPE_discret_Low_income",
          "NAME_INCOME_TYPE_discret_Low_income",
          "NAME_INCOME_TYPE_discret_Low_income",
          "NAME_INCOME_TYPE_discret_Low_income",
          "NAME_INCOME_TYPE_discret_Low_income",
          "NAME_INCOME_TYPE_discret_Low_income",
          "NAME_INCOME_TYPE_discret_Low_income",
          "NAME_INCOME_TYPE_discret_Low_income",
          "NAME_INCOME_TYPE_discret_Low_income",
          "NAME_INCOME_TYPE_discret_Low_income",
          "NAME_INCOME_TYPE_discret_Low_income",
          "NAME_INCOME_TYPE_discret_Low_income",
          "NAME_INCOME_TYPE_discret_Low_income",
          "NAME_INCOME_TYPE_discret_Low_income",
          "NAME_INCOME_TYPE_discret_Low_income",
          "NAME_INCOME_TYPE_discret_Low_income",
          "NAME_INCOME_TYPE_discret_Low_income",
          "NAME_INCOME_TYPE_discret_Low_income",
          "NAME_INCOME_TYPE_discret_Low_income",
          "NAME_INCOME_TYPE_discret_Low_income",
          "NAME_INCOME_TYPE_discret_Low_income",
          "NAME_INCOME_TYPE_discret_Low_income",
          "NAME_INCOME_TYPE_discret_Low_income",
          "NAME_INCOME_TYPE_discret_Low_income",
          "NAME_INCOME_TYPE_discret_Low_income",
          "NAME_INCOME_TYPE_discret_Low_income",
          "NAME_INCOME_TYPE_discret_Low_income",
          "NAME_INCOME_TYPE_discret_Low_income",
          "NAME_INCOME_TYPE_discret_Low_income",
          "NAME_INCOME_TYPE_discret_Low_income",
          "NAME_INCOME_TYPE_discret_Low_income",
          "NAME_INCOME_TYPE_discret_Low_income",
          "NAME_INCOME_TYPE_discret_Low_income",
          "NAME_INCOME_TYPE_discret_Low_income",
          "NAME_INCOME_TYPE_discret_Low_income",
          "NAME_INCOME_TYPE_discret_Low_income",
          "NAME_INCOME_TYPE_discret_Low_income",
          "NAME_INCOME_TYPE_discret_Low_income",
          "NAME_INCOME_TYPE_discret_Low_income",
          "NAME_INCOME_TYPE_discret_Low_income",
          "NAME_INCOME_TYPE_discret_Low_income",
          "NAME_INCOME_TYPE_discret_Low_income",
          "NAME_INCOME_TYPE_discret_Low_income",
          "NAME_INCOME_TYPE_discret_Low_income",
          "NAME_INCOME_TYPE_discret_Low_income",
          "NAME_INCOME_TYPE_discret_Low_income",
          "NAME_INCOME_TYPE_discret_Low_income",
          "NAME_INCOME_TYPE_discret_Low_income",
          "NAME_INCOME_TYPE_discret_Low_income",
          "NAME_INCOME_TYPE_discret_Low_income",
          "NAME_INCOME_TYPE_discret_Low_income",
          "NAME_INCOME_TYPE_discret_Low_income",
          "NAME_INCOME_TYPE_discret_Low_income",
          "NAME_INCOME_TYPE_discret_Low_income",
          "NAME_INCOME_TYPE_discret_Low_income",
          "NAME_INCOME_TYPE_discret_Low_income",
          "NAME_INCOME_TYPE_discret_Low_income",
          "NAME_INCOME_TYPE_discret_Low_income",
          "NAME_INCOME_TYPE_discret_Low_income",
          "NAME_INCOME_TYPE_discret_Low_income",
          "NAME_INCOME_TYPE_discret_Low_income",
          "NAME_INCOME_TYPE_discret_Low_income",
          "NAME_INCOME_TYPE_discret_Low_income",
          "NAME_INCOME_TYPE_discret_Low_income",
          "NAME_INCOME_TYPE_discret_Low_income",
          "NAME_INCOME_TYPE_discret_Low_income",
          "NAME_INCOME_TYPE_discret_Low_income",
          "NAME_INCOME_TYPE_discret_Low_income",
          "NAME_INCOME_TYPE_discret_Low_income",
          "NAME_INCOME_TYPE_discret_Low_income",
          "NAME_INCOME_TYPE_discret_Low_income",
          "NAME_INCOME_TYPE_discret_Low_income",
          "NAME_INCOME_TYPE_discret_Low_income",
          "NAME_INCOME_TYPE_discret_Low_income",
          "NAME_INCOME_TYPE_discret_Low_income",
          "NAME_INCOME_TYPE_discret_Low_income",
          "NAME_INCOME_TYPE_discret_Low_income",
          "NAME_INCOME_TYPE_discret_Low_income",
          "NAME_INCOME_TYPE_discret_Low_income",
          "NAME_INCOME_TYPE_discret_Low_income",
          "NAME_INCOME_TYPE_discret_Low_income",
          "NAME_INCOME_TYPE_discret_Low_income",
          "NAME_INCOME_TYPE_discret_Low_income",
          "NAME_INCOME_TYPE_discret_Low_income",
          "NAME_INCOME_TYPE_discret_Low_income",
          "NAME_INCOME_TYPE_discret_Low_income",
          "NAME_INCOME_TYPE_discret_Low_income",
          "NAME_INCOME_TYPE_discret_Low_income",
          "NAME_INCOME_TYPE_discret_Low_income",
          "NAME_INCOME_TYPE_discret_Low_income",
          "NAME_INCOME_TYPE_discret_Low_income",
          "NAME_INCOME_TYPE_discret_Low_income",
          "NAME_INCOME_TYPE_discret_Low_income",
          "NAME_INCOME_TYPE_discret_Low_income",
          "NAME_INCOME_TYPE_discret_Low_income",
          "NAME_INCOME_TYPE_discret_Low_income",
          "NAME_INCOME_TYPE_discret_Low_income",
          "NAME_INCOME_TYPE_discret_Low_income",
          "NAME_INCOME_TYPE_discret_Low_income",
          "NAME_INCOME_TYPE_discret_Low_income",
          "NAME_INCOME_TYPE_discret_Low_income",
          "NAME_INCOME_TYPE_discret_Low_income",
          "NAME_INCOME_TYPE_discret_Low_income",
          "NAME_INCOME_TYPE_discret_Low_income",
          "NAME_INCOME_TYPE_discret_Low_income",
          "NAME_INCOME_TYPE_discret_Low_income",
          "NAME_INCOME_TYPE_discret_Low_income",
          "NAME_INCOME_TYPE_discret_Low_income",
          "NAME_INCOME_TYPE_discret_Low_income",
          "NAME_INCOME_TYPE_discret_Low_income",
          "NAME_INCOME_TYPE_discret_Low_income",
          "NAME_INCOME_TYPE_discret_Low_income",
          "NAME_INCOME_TYPE_discret_Low_income",
          "NAME_INCOME_TYPE_discret_Low_income",
          "NAME_INCOME_TYPE_discret_Low_income",
          "NAME_INCOME_TYPE_discret_Low_income",
          "NAME_INCOME_TYPE_discret_Low_income",
          "NAME_INCOME_TYPE_discret_Low_income",
          "NAME_INCOME_TYPE_discret_Low_income",
          "NAME_INCOME_TYPE_discret_Low_income",
          "NAME_INCOME_TYPE_discret_Low_income",
          "NAME_INCOME_TYPE_discret_Low_income",
          "NAME_INCOME_TYPE_discret_Low_income",
          "NAME_INCOME_TYPE_discret_Low_income",
          "NAME_INCOME_TYPE_discret_Low_income",
          "NAME_INCOME_TYPE_discret_Low_income",
          "NAME_INCOME_TYPE_discret_Low_income",
          "NAME_INCOME_TYPE_discret_Low_income",
          "NAME_INCOME_TYPE_discret_Low_income",
          "NAME_INCOME_TYPE_discret_Low_income",
          "NAME_INCOME_TYPE_discret_Low_income",
          "NAME_INCOME_TYPE_discret_Low_income",
          "NAME_INCOME_TYPE_discret_Low_income",
          "NAME_INCOME_TYPE_discret_Low_income",
          "NAME_INCOME_TYPE_discret_Low_income",
          "NAME_INCOME_TYPE_discret_Low_income",
          "NAME_INCOME_TYPE_discret_Low_income",
          "NAME_INCOME_TYPE_discret_Low_income",
          "NAME_INCOME_TYPE_discret_Low_income",
          "NAME_INCOME_TYPE_discret_Low_income",
          "NAME_INCOME_TYPE_discret_Low_income",
          "NAME_INCOME_TYPE_discret_Low_income",
          "NAME_INCOME_TYPE_discret_Low_income",
          "NAME_INCOME_TYPE_discret_Low_income",
          "NAME_INCOME_TYPE_discret_Low_income",
          "NAME_INCOME_TYPE_discret_Low_income",
          "NAME_INCOME_TYPE_discret_Low_income",
          "NAME_INCOME_TYPE_discret_Low_income",
          "NAME_INCOME_TYPE_discret_Low_income",
          "NAME_INCOME_TYPE_discret_Low_income",
          "NAME_INCOME_TYPE_discret_Low_income",
          "NAME_INCOME_TYPE_discret_Low_income",
          "NAME_INCOME_TYPE_discret_Low_income",
          "NAME_INCOME_TYPE_discret_Low_income",
          "NAME_INCOME_TYPE_discret_Low_income",
          "NAME_INCOME_TYPE_discret_Low_income",
          "NAME_INCOME_TYPE_discret_Low_income",
          "NAME_INCOME_TYPE_discret_Low_income",
          "NAME_INCOME_TYPE_discret_Low_income",
          "NAME_INCOME_TYPE_discret_Low_income",
          "NAME_INCOME_TYPE_discret_Low_income",
          "NAME_INCOME_TYPE_discret_Low_income",
          "NAME_INCOME_TYPE_discret_Low_income",
          "NAME_INCOME_TYPE_discret_Low_income",
          "NAME_INCOME_TYPE_discret_Low_income",
          "NAME_INCOME_TYPE_discret_Low_income",
          "NAME_INCOME_TYPE_discret_Low_income",
          "NAME_INCOME_TYPE_discret_Low_income",
          "NAME_INCOME_TYPE_discret_Low_income",
          "NAME_INCOME_TYPE_discret_Low_income",
          "NAME_INCOME_TYPE_discret_Low_income",
          "NAME_INCOME_TYPE_discret_Low_income",
          "NAME_INCOME_TYPE_discret_Low_income",
          "NAME_INCOME_TYPE_discret_Low_income",
          "NAME_INCOME_TYPE_discret_Low_income",
          "NAME_INCOME_TYPE_discret_Low_income",
          "NAME_INCOME_TYPE_discret_Low_income",
          "NAME_INCOME_TYPE_discret_Low_income",
          "NAME_INCOME_TYPE_discret_Low_income",
          "NAME_INCOME_TYPE_discret_Low_income",
          "NAME_INCOME_TYPE_discret_Low_income",
          "NAME_INCOME_TYPE_discret_Low_income",
          "NAME_INCOME_TYPE_discret_Low_income",
          "NAME_INCOME_TYPE_discret_Low_income",
          "NAME_INCOME_TYPE_discret_Low_income",
          "NAME_INCOME_TYPE_discret_Low_income",
          "NAME_INCOME_TYPE_discret_Low_income",
          "NAME_INCOME_TYPE_discret_Low_income",
          "NAME_INCOME_TYPE_discret_Low_income",
          "NAME_INCOME_TYPE_discret_Low_income",
          "NAME_INCOME_TYPE_discret_Low_income",
          "NAME_INCOME_TYPE_discret_Low_income",
          "NAME_INCOME_TYPE_discret_Low_income",
          "NAME_INCOME_TYPE_discret_Low_income",
          "NAME_INCOME_TYPE_discret_Low_income",
          "NAME_INCOME_TYPE_discret_Low_income",
          "NAME_INCOME_TYPE_discret_Low_income",
          "NAME_INCOME_TYPE_discret_Low_income",
          "NAME_INCOME_TYPE_discret_Low_income",
          "NAME_INCOME_TYPE_discret_Low_income",
          "NAME_INCOME_TYPE_discret_Low_income",
          "NAME_INCOME_TYPE_discret_Low_income",
          "NAME_INCOME_TYPE_discret_Low_income",
          "NAME_INCOME_TYPE_discret_Low_income",
          "NAME_INCOME_TYPE_discret_Low_income",
          "NAME_INCOME_TYPE_discret_Low_income",
          "NAME_INCOME_TYPE_discret_Low_income",
          "NAME_INCOME_TYPE_discret_Low_income",
          "NAME_INCOME_TYPE_discret_Low_income",
          "NAME_INCOME_TYPE_discret_Low_income",
          "NAME_INCOME_TYPE_discret_Low_income",
          "NAME_INCOME_TYPE_discret_Low_income",
          "NAME_INCOME_TYPE_discret_Low_income",
          "NAME_INCOME_TYPE_discret_Low_income",
          "NAME_INCOME_TYPE_discret_Low_income",
          "NAME_INCOME_TYPE_discret_Low_income",
          "NAME_INCOME_TYPE_discret_Low_income",
          "NAME_INCOME_TYPE_discret_Low_income",
          "NAME_INCOME_TYPE_discret_Low_income",
          "NAME_INCOME_TYPE_discret_Low_income",
          "NAME_INCOME_TYPE_discret_Low_income",
          "NAME_INCOME_TYPE_discret_Low_income",
          "NAME_INCOME_TYPE_discret_Low_income",
          "NAME_INCOME_TYPE_discret_Low_income",
          "NAME_INCOME_TYPE_discret_Low_income",
          "NAME_INCOME_TYPE_discret_Low_income",
          "NAME_INCOME_TYPE_discret_Low_income",
          "NAME_INCOME_TYPE_discret_Low_income",
          "NAME_INCOME_TYPE_discret_Low_income",
          "NAME_INCOME_TYPE_discret_Low_income",
          "NAME_INCOME_TYPE_discret_Low_income",
          "NAME_INCOME_TYPE_discret_Low_income",
          "NAME_INCOME_TYPE_discret_Low_income",
          "NAME_INCOME_TYPE_discret_Low_income",
          "NAME_INCOME_TYPE_discret_Low_income",
          "NAME_INCOME_TYPE_discret_Low_income",
          "NAME_INCOME_TYPE_discret_Low_income",
          "NAME_INCOME_TYPE_discret_Low_income",
          "NAME_INCOME_TYPE_discret_Low_income",
          "NAME_INCOME_TYPE_discret_Low_income",
          "NAME_INCOME_TYPE_discret_Low_income",
          "NAME_INCOME_TYPE_discret_Low_income",
          "NAME_INCOME_TYPE_discret_Low_income",
          "NAME_INCOME_TYPE_discret_Low_income",
          "NAME_INCOME_TYPE_discret_Low_income",
          "NAME_INCOME_TYPE_discret_Low_income",
          "NAME_INCOME_TYPE_discret_Low_income",
          "NAME_INCOME_TYPE_discret_Low_income",
          "NAME_INCOME_TYPE_discret_Low_income",
          "NAME_INCOME_TYPE_discret_Low_income",
          "NAME_INCOME_TYPE_discret_Low_income",
          "NAME_INCOME_TYPE_discret_Low_income",
          "NAME_INCOME_TYPE_discret_Low_income",
          "NAME_INCOME_TYPE_discret_Low_income",
          "NAME_INCOME_TYPE_discret_Low_income",
          "NAME_INCOME_TYPE_discret_Low_income",
          "NAME_INCOME_TYPE_discret_Low_income",
          "NAME_INCOME_TYPE_discret_Low_income",
          "NAME_INCOME_TYPE_discret_Low_income",
          "NAME_INCOME_TYPE_discret_Low_income",
          "NAME_INCOME_TYPE_discret_Low_income",
          "NAME_INCOME_TYPE_discret_Low_income",
          "NAME_INCOME_TYPE_discret_Low_income",
          "NAME_INCOME_TYPE_discret_Low_income",
          "NAME_INCOME_TYPE_discret_Low_income",
          "NAME_INCOME_TYPE_discret_Low_income",
          "NAME_INCOME_TYPE_discret_Low_income",
          "NAME_INCOME_TYPE_discret_Low_income",
          "NAME_INCOME_TYPE_discret_Low_income",
          "NAME_INCOME_TYPE_discret_Low_income",
          "NAME_INCOME_TYPE_discret_Low_income",
          "NAME_INCOME_TYPE_discret_Low_income",
          "NAME_INCOME_TYPE_discret_Low_income",
          "NAME_INCOME_TYPE_discret_Low_income",
          "NAME_INCOME_TYPE_discret_Low_income",
          "NAME_INCOME_TYPE_discret_Low_income",
          "NAME_INCOME_TYPE_discret_Low_income",
          "NAME_INCOME_TYPE_discret_Low_income",
          "NAME_INCOME_TYPE_discret_Low_income",
          "NAME_INCOME_TYPE_discret_Low_income",
          "NAME_INCOME_TYPE_discret_Low_income",
          "NAME_INCOME_TYPE_discret_Low_income",
          "NAME_INCOME_TYPE_discret_Low_income",
          "NAME_INCOME_TYPE_discret_Low_income",
          "NAME_INCOME_TYPE_discret_Low_income",
          "NAME_INCOME_TYPE_discret_Low_income",
          "NAME_INCOME_TYPE_discret_Low_income",
          "NAME_INCOME_TYPE_discret_Low_income",
          "NAME_INCOME_TYPE_discret_Low_income",
          "NAME_INCOME_TYPE_discret_Low_income",
          "NAME_INCOME_TYPE_discret_Low_income",
          "NAME_INCOME_TYPE_discret_Low_income",
          "NAME_INCOME_TYPE_discret_Low_income",
          "NAME_INCOME_TYPE_discret_Low_income",
          "NAME_INCOME_TYPE_discret_Low_income",
          "NAME_INCOME_TYPE_discret_Low_income",
          "NAME_INCOME_TYPE_discret_Low_income",
          "NAME_INCOME_TYPE_discret_Low_income",
          "NAME_INCOME_TYPE_discret_Low_income",
          "NAME_INCOME_TYPE_discret_Low_income",
          "NAME_INCOME_TYPE_discret_Low_income",
          "NAME_INCOME_TYPE_discret_Low_income",
          "NAME_INCOME_TYPE_discret_Low_income",
          "NAME_INCOME_TYPE_discret_Low_income",
          "NAME_INCOME_TYPE_discret_Low_income",
          "NAME_INCOME_TYPE_discret_Low_income",
          "NAME_INCOME_TYPE_discret_Low_income",
          "NAME_INCOME_TYPE_discret_Low_income",
          "NAME_INCOME_TYPE_discret_Low_income",
          "NAME_INCOME_TYPE_discret_Low_income",
          "NAME_INCOME_TYPE_discret_Low_income",
          "NAME_INCOME_TYPE_discret_Low_income",
          "NAME_INCOME_TYPE_discret_Low_income",
          "NAME_INCOME_TYPE_discret_Low_income",
          "NAME_INCOME_TYPE_discret_Low_income",
          "NAME_INCOME_TYPE_discret_Low_income",
          "NAME_INCOME_TYPE_discret_Low_income",
          "NAME_INCOME_TYPE_discret_Low_income",
          "NAME_INCOME_TYPE_discret_Low_income",
          "NAME_INCOME_TYPE_discret_Low_income",
          "NAME_INCOME_TYPE_discret_Low_income",
          "NAME_INCOME_TYPE_discret_Low_income",
          "NAME_INCOME_TYPE_discret_Low_income",
          "NAME_INCOME_TYPE_discret_Low_income",
          "NAME_INCOME_TYPE_discret_Low_income",
          "NAME_INCOME_TYPE_discret_Low_income",
          "NAME_INCOME_TYPE_discret_Low_income",
          "NAME_INCOME_TYPE_discret_Low_income",
          "NAME_INCOME_TYPE_discret_Low_income",
          "NAME_INCOME_TYPE_discret_Low_income",
          "NAME_INCOME_TYPE_discret_Low_income",
          "NAME_INCOME_TYPE_discret_Low_income",
          "NAME_INCOME_TYPE_discret_Low_income",
          "NAME_INCOME_TYPE_discret_Low_income",
          "NAME_INCOME_TYPE_discret_Low_income",
          "NAME_INCOME_TYPE_discret_Low_income",
          "NAME_INCOME_TYPE_discret_Low_income",
          "NAME_INCOME_TYPE_discret_Low_income",
          "NAME_INCOME_TYPE_discret_Low_income",
          "NAME_INCOME_TYPE_discret_Low_income",
          "NAME_INCOME_TYPE_discret_Low_income",
          "NAME_INCOME_TYPE_discret_Low_income",
          "NAME_INCOME_TYPE_discret_Low_income",
          "NAME_INCOME_TYPE_discret_Low_income",
          "AMT_CREDIT_SUM_DEBT_disc_int_[-6981558.21;9090.0]",
          "AMT_CREDIT_SUM_DEBT_disc_int_[-6981558.21;9090.0]",
          "AMT_CREDIT_SUM_DEBT_disc_int_[-6981558.21;9090.0]",
          "AMT_CREDIT_SUM_DEBT_disc_int_[-6981558.21;9090.0]",
          "AMT_CREDIT_SUM_DEBT_disc_int_[-6981558.21;9090.0]",
          "AMT_CREDIT_SUM_DEBT_disc_int_[-6981558.21;9090.0]",
          "AMT_CREDIT_SUM_DEBT_disc_int_[-6981558.21;9090.0]",
          "AMT_CREDIT_SUM_DEBT_disc_int_[-6981558.21;9090.0]",
          "AMT_CREDIT_SUM_DEBT_disc_int_[-6981558.21;9090.0]",
          "AMT_CREDIT_SUM_DEBT_disc_int_[-6981558.21;9090.0]",
          "AMT_CREDIT_SUM_DEBT_disc_int_[-6981558.21;9090.0]",
          "AMT_CREDIT_SUM_DEBT_disc_int_[-6981558.21;9090.0]",
          "AMT_CREDIT_SUM_DEBT_disc_int_[-6981558.21;9090.0]",
          "AMT_CREDIT_SUM_DEBT_disc_int_[-6981558.21;9090.0]",
          "AMT_CREDIT_SUM_DEBT_disc_int_[-6981558.21;9090.0]",
          "AMT_CREDIT_SUM_DEBT_disc_int_[-6981558.21;9090.0]",
          "AMT_CREDIT_SUM_DEBT_disc_int_[-6981558.21;9090.0]",
          "AMT_CREDIT_SUM_DEBT_disc_int_[-6981558.21;9090.0]",
          "AMT_CREDIT_SUM_DEBT_disc_int_[-6981558.21;9090.0]",
          "AMT_CREDIT_SUM_DEBT_disc_int_[-6981558.21;9090.0]",
          "AMT_CREDIT_SUM_DEBT_disc_int_[-6981558.21;9090.0]",
          "AMT_CREDIT_SUM_DEBT_disc_int_[-6981558.21;9090.0]",
          "AMT_CREDIT_SUM_DEBT_disc_int_[-6981558.21;9090.0]",
          "AMT_CREDIT_SUM_DEBT_disc_int_[-6981558.21;9090.0]",
          "AMT_CREDIT_SUM_DEBT_disc_int_[-6981558.21;9090.0]",
          "AMT_CREDIT_SUM_DEBT_disc_int_[-6981558.21;9090.0]",
          "AMT_CREDIT_SUM_DEBT_disc_int_[-6981558.21;9090.0]",
          "AMT_CREDIT_SUM_DEBT_disc_int_[-6981558.21;9090.0]",
          "AMT_CREDIT_SUM_DEBT_disc_int_[-6981558.21;9090.0]",
          "AMT_CREDIT_SUM_DEBT_disc_int_[-6981558.21;9090.0]",
          "AMT_CREDIT_SUM_DEBT_disc_int_[-6981558.21;9090.0]",
          "AMT_CREDIT_SUM_DEBT_disc_int_[-6981558.21;9090.0]",
          "AMT_CREDIT_SUM_DEBT_disc_int_[-6981558.21;9090.0]",
          "AMT_CREDIT_SUM_DEBT_disc_int_[-6981558.21;9090.0]",
          "AMT_CREDIT_SUM_DEBT_disc_int_[-6981558.21;9090.0]",
          "AMT_CREDIT_SUM_DEBT_disc_int_[-6981558.21;9090.0]",
          "AMT_CREDIT_SUM_DEBT_disc_int_[-6981558.21;9090.0]",
          "AMT_CREDIT_SUM_DEBT_disc_int_[-6981558.21;9090.0]",
          "AMT_CREDIT_SUM_DEBT_disc_int_[-6981558.21;9090.0]",
          "AMT_CREDIT_SUM_DEBT_disc_int_[-6981558.21;9090.0]",
          "AMT_CREDIT_SUM_DEBT_disc_int_[-6981558.21;9090.0]",
          "AMT_CREDIT_SUM_DEBT_disc_int_[-6981558.21;9090.0]",
          "AMT_CREDIT_SUM_DEBT_disc_int_[-6981558.21;9090.0]",
          "AMT_CREDIT_SUM_DEBT_disc_int_[-6981558.21;9090.0]",
          "AMT_CREDIT_SUM_DEBT_disc_int_[-6981558.21;9090.0]",
          "AMT_CREDIT_SUM_DEBT_disc_int_[-6981558.21;9090.0]",
          "AMT_CREDIT_SUM_DEBT_disc_int_[-6981558.21;9090.0]",
          "AMT_CREDIT_SUM_DEBT_disc_int_[-6981558.21;9090.0]",
          "AMT_CREDIT_SUM_DEBT_disc_int_[-6981558.21;9090.0]",
          "AMT_CREDIT_SUM_DEBT_disc_int_[-6981558.21;9090.0]",
          "AMT_CREDIT_SUM_DEBT_disc_int_[-6981558.21;9090.0]",
          "AMT_CREDIT_SUM_DEBT_disc_int_[-6981558.21;9090.0]",
          "AMT_CREDIT_SUM_DEBT_disc_int_[-6981558.21;9090.0]",
          "AMT_CREDIT_SUM_DEBT_disc_int_[-6981558.21;9090.0]",
          "AMT_CREDIT_SUM_DEBT_disc_int_[-6981558.21;9090.0]",
          "AMT_CREDIT_SUM_DEBT_disc_int_[-6981558.21;9090.0]",
          "AMT_CREDIT_SUM_DEBT_disc_int_[-6981558.21;9090.0]",
          "AMT_CREDIT_SUM_DEBT_disc_int_[-6981558.21;9090.0]",
          "AMT_CREDIT_SUM_DEBT_disc_int_[-6981558.21;9090.0]",
          "AMT_CREDIT_SUM_DEBT_disc_int_[-6981558.21;9090.0]",
          "AMT_CREDIT_SUM_DEBT_disc_int_[-6981558.21;9090.0]",
          "AMT_CREDIT_SUM_DEBT_disc_int_[-6981558.21;9090.0]",
          "AMT_CREDIT_SUM_DEBT_disc_int_[-6981558.21;9090.0]",
          "AMT_CREDIT_SUM_DEBT_disc_int_[-6981558.21;9090.0]",
          "AMT_CREDIT_SUM_DEBT_disc_int_[-6981558.21;9090.0]",
          "AMT_CREDIT_SUM_DEBT_disc_int_[-6981558.21;9090.0]",
          "AMT_CREDIT_SUM_DEBT_disc_int_[-6981558.21;9090.0]",
          "AMT_CREDIT_SUM_DEBT_disc_int_[-6981558.21;9090.0]",
          "AMT_CREDIT_SUM_DEBT_disc_int_[-6981558.21;9090.0]",
          "AMT_CREDIT_SUM_DEBT_disc_int_[-6981558.21;9090.0]",
          "AMT_CREDIT_SUM_DEBT_disc_int_[-6981558.21;9090.0]",
          "AMT_CREDIT_SUM_DEBT_disc_int_[-6981558.21;9090.0]",
          "AMT_CREDIT_SUM_DEBT_disc_int_[-6981558.21;9090.0]",
          "AMT_CREDIT_SUM_DEBT_disc_int_[-6981558.21;9090.0]",
          "AMT_CREDIT_SUM_DEBT_disc_int_[-6981558.21;9090.0]",
          "AMT_CREDIT_SUM_DEBT_disc_int_[-6981558.21;9090.0]",
          "AMT_CREDIT_SUM_DEBT_disc_int_[-6981558.21;9090.0]",
          "AMT_CREDIT_SUM_DEBT_disc_int_[-6981558.21;9090.0]",
          "AMT_CREDIT_SUM_DEBT_disc_int_[-6981558.21;9090.0]",
          "AMT_CREDIT_SUM_DEBT_disc_int_[-6981558.21;9090.0]",
          "AMT_CREDIT_SUM_DEBT_disc_int_[-6981558.21;9090.0]",
          "AMT_CREDIT_SUM_DEBT_disc_int_[-6981558.21;9090.0]",
          "AMT_CREDIT_SUM_DEBT_disc_int_[-6981558.21;9090.0]",
          "AMT_CREDIT_SUM_DEBT_disc_int_[-6981558.21;9090.0]",
          "AMT_CREDIT_SUM_DEBT_disc_int_[-6981558.21;9090.0]",
          "AMT_CREDIT_SUM_DEBT_disc_int_[-6981558.21;9090.0]",
          "AMT_CREDIT_SUM_DEBT_disc_int_[-6981558.21;9090.0]",
          "AMT_CREDIT_SUM_DEBT_disc_int_[-6981558.21;9090.0]",
          "AMT_CREDIT_SUM_DEBT_disc_int_[-6981558.21;9090.0]",
          "AMT_CREDIT_SUM_DEBT_disc_int_[-6981558.21;9090.0]",
          "AMT_CREDIT_SUM_DEBT_disc_int_[-6981558.21;9090.0]",
          "AMT_CREDIT_SUM_DEBT_disc_int_[-6981558.21;9090.0]",
          "AMT_CREDIT_SUM_DEBT_disc_int_[-6981558.21;9090.0]",
          "AMT_CREDIT_SUM_DEBT_disc_int_[-6981558.21;9090.0]",
          "AMT_CREDIT_SUM_DEBT_disc_int_[-6981558.21;9090.0]",
          "AMT_CREDIT_SUM_DEBT_disc_int_[-6981558.21;9090.0]",
          "AMT_CREDIT_SUM_DEBT_disc_int_[-6981558.21;9090.0]",
          "AMT_CREDIT_SUM_DEBT_disc_int_[-6981558.21;9090.0]",
          "AMT_CREDIT_SUM_DEBT_disc_int_[-6981558.21;9090.0]",
          "AMT_CREDIT_SUM_DEBT_disc_int_[-6981558.21;9090.0]",
          "AMT_CREDIT_SUM_DEBT_disc_int_[-6981558.21;9090.0]",
          "AMT_CREDIT_SUM_DEBT_disc_int_[-6981558.21;9090.0]",
          "AMT_CREDIT_SUM_DEBT_disc_int_[-6981558.21;9090.0]",
          "AMT_CREDIT_SUM_DEBT_disc_int_[-6981558.21;9090.0]",
          "AMT_CREDIT_SUM_DEBT_disc_int_[-6981558.21;9090.0]",
          "AMT_CREDIT_SUM_DEBT_disc_int_[-6981558.21;9090.0]",
          "AMT_CREDIT_SUM_DEBT_disc_int_[-6981558.21;9090.0]",
          "AMT_CREDIT_SUM_DEBT_disc_int_[-6981558.21;9090.0]",
          "AMT_CREDIT_SUM_DEBT_disc_int_[-6981558.21;9090.0]",
          "AMT_CREDIT_SUM_DEBT_disc_int_[-6981558.21;9090.0]",
          "AMT_CREDIT_SUM_DEBT_disc_int_[-6981558.21;9090.0]",
          "AMT_CREDIT_SUM_DEBT_disc_int_[-6981558.21;9090.0]",
          "AMT_CREDIT_SUM_DEBT_disc_int_[-6981558.21;9090.0]",
          "AMT_CREDIT_SUM_DEBT_disc_int_[-6981558.21;9090.0]",
          "AMT_CREDIT_SUM_DEBT_disc_int_[-6981558.21;9090.0]",
          "AMT_CREDIT_SUM_DEBT_disc_int_[-6981558.21;9090.0]",
          "AMT_CREDIT_SUM_DEBT_disc_int_[-6981558.21;9090.0]",
          "AMT_CREDIT_SUM_DEBT_disc_int_[-6981558.21;9090.0]",
          "AMT_CREDIT_SUM_DEBT_disc_int_[-6981558.21;9090.0]",
          "AMT_CREDIT_SUM_DEBT_disc_int_[-6981558.21;9090.0]",
          "AMT_CREDIT_SUM_DEBT_disc_int_[-6981558.21;9090.0]",
          "AMT_CREDIT_SUM_DEBT_disc_int_[-6981558.21;9090.0]",
          "AMT_CREDIT_SUM_DEBT_disc_int_[-6981558.21;9090.0]",
          "AMT_CREDIT_SUM_DEBT_disc_int_[-6981558.21;9090.0]",
          "AMT_CREDIT_SUM_DEBT_disc_int_[-6981558.21;9090.0]",
          "AMT_CREDIT_SUM_DEBT_disc_int_[-6981558.21;9090.0]",
          "AMT_CREDIT_SUM_DEBT_disc_int_[-6981558.21;9090.0]",
          "AMT_CREDIT_SUM_DEBT_disc_int_[-6981558.21;9090.0]",
          "AMT_CREDIT_SUM_DEBT_disc_int_[-6981558.21;9090.0]",
          "AMT_CREDIT_SUM_DEBT_disc_int_[-6981558.21;9090.0]",
          "AMT_CREDIT_SUM_DEBT_disc_int_[-6981558.21;9090.0]",
          "AMT_CREDIT_SUM_DEBT_disc_int_[-6981558.21;9090.0]",
          "AMT_CREDIT_SUM_DEBT_disc_int_[-6981558.21;9090.0]",
          "AMT_CREDIT_SUM_DEBT_disc_int_[-6981558.21;9090.0]",
          "AMT_CREDIT_SUM_DEBT_disc_int_[-6981558.21;9090.0]",
          "AMT_CREDIT_SUM_DEBT_disc_int_[-6981558.21;9090.0]",
          "AMT_CREDIT_SUM_DEBT_disc_int_[-6981558.21;9090.0]",
          "AMT_CREDIT_SUM_DEBT_disc_int_[-6981558.21;9090.0]",
          "AMT_CREDIT_SUM_DEBT_disc_int_[-6981558.21;9090.0]",
          "AMT_CREDIT_SUM_DEBT_disc_int_[-6981558.21;9090.0]",
          "AMT_CREDIT_SUM_DEBT_disc_int_[-6981558.21;9090.0]",
          "AMT_CREDIT_SUM_DEBT_disc_int_[-6981558.21;9090.0]",
          "AMT_CREDIT_SUM_DEBT_disc_int_[-6981558.21;9090.0]",
          "AMT_CREDIT_SUM_DEBT_disc_int_[-6981558.21;9090.0]",
          "AMT_CREDIT_SUM_DEBT_disc_int_[-6981558.21;9090.0]",
          "AMT_CREDIT_SUM_DEBT_disc_int_[-6981558.21;9090.0]",
          "AMT_CREDIT_SUM_DEBT_disc_int_[-6981558.21;9090.0]",
          "AMT_CREDIT_SUM_DEBT_disc_int_[-6981558.21;9090.0]",
          "AMT_CREDIT_SUM_DEBT_disc_int_[-6981558.21;9090.0]",
          "AMT_CREDIT_SUM_DEBT_disc_int_[-6981558.21;9090.0]",
          "AMT_CREDIT_SUM_DEBT_disc_int_[-6981558.21;9090.0]",
          "AMT_CREDIT_SUM_DEBT_disc_int_[-6981558.21;9090.0]",
          "AMT_CREDIT_SUM_DEBT_disc_int_[-6981558.21;9090.0]",
          "AMT_CREDIT_SUM_DEBT_disc_int_[-6981558.21;9090.0]",
          "AMT_CREDIT_SUM_DEBT_disc_int_[-6981558.21;9090.0]",
          "AMT_CREDIT_SUM_DEBT_disc_int_[-6981558.21;9090.0]",
          "AMT_CREDIT_SUM_DEBT_disc_int_[-6981558.21;9090.0]",
          "AMT_CREDIT_SUM_DEBT_disc_int_[-6981558.21;9090.0]",
          "AMT_CREDIT_SUM_DEBT_disc_int_[-6981558.21;9090.0]",
          "AMT_CREDIT_SUM_DEBT_disc_int_[-6981558.21;9090.0]",
          "AMT_CREDIT_SUM_DEBT_disc_int_[-6981558.21;9090.0]",
          "AMT_CREDIT_SUM_DEBT_disc_int_[-6981558.21;9090.0]",
          "AMT_CREDIT_SUM_DEBT_disc_int_[-6981558.21;9090.0]",
          "AMT_CREDIT_SUM_DEBT_disc_int_[-6981558.21;9090.0]",
          "AMT_CREDIT_SUM_DEBT_disc_int_[-6981558.21;9090.0]",
          "AMT_CREDIT_SUM_DEBT_disc_int_[-6981558.21;9090.0]",
          "AMT_CREDIT_SUM_DEBT_disc_int_[-6981558.21;9090.0]",
          "AMT_CREDIT_SUM_DEBT_disc_int_[-6981558.21;9090.0]",
          "AMT_CREDIT_SUM_DEBT_disc_int_[-6981558.21;9090.0]",
          "AMT_CREDIT_SUM_DEBT_disc_int_[-6981558.21;9090.0]",
          "AMT_CREDIT_SUM_DEBT_disc_int_[-6981558.21;9090.0]",
          "AMT_CREDIT_SUM_DEBT_disc_int_[-6981558.21;9090.0]",
          "AMT_CREDIT_SUM_DEBT_disc_int_[-6981558.21;9090.0]",
          "AMT_CREDIT_SUM_DEBT_disc_int_[-6981558.21;9090.0]",
          "AMT_CREDIT_SUM_DEBT_disc_int_[-6981558.21;9090.0]",
          "AMT_CREDIT_SUM_DEBT_disc_int_[-6981558.21;9090.0]",
          "AMT_CREDIT_SUM_DEBT_disc_int_[-6981558.21;9090.0]",
          "AMT_CREDIT_SUM_DEBT_disc_int_[-6981558.21;9090.0]",
          "AMT_CREDIT_SUM_DEBT_disc_int_[-6981558.21;9090.0]",
          "AMT_CREDIT_SUM_DEBT_disc_int_[-6981558.21;9090.0]",
          "AMT_CREDIT_SUM_DEBT_disc_int_[-6981558.21;9090.0]",
          "AMT_CREDIT_SUM_DEBT_disc_int_[-6981558.21;9090.0]",
          "AMT_CREDIT_SUM_DEBT_disc_int_[-6981558.21;9090.0]",
          "AMT_CREDIT_SUM_DEBT_disc_int_[-6981558.21;9090.0]",
          "AMT_CREDIT_SUM_DEBT_disc_int_[-6981558.21;9090.0]",
          "AMT_CREDIT_SUM_DEBT_disc_int_[-6981558.21;9090.0]",
          "AMT_CREDIT_SUM_DEBT_disc_int_[-6981558.21;9090.0]",
          "AMT_CREDIT_SUM_DEBT_disc_int_[-6981558.21;9090.0]",
          "AMT_CREDIT_SUM_DEBT_disc_int_[-6981558.21;9090.0]",
          "AMT_CREDIT_SUM_DEBT_disc_int_[-6981558.21;9090.0]",
          "AMT_CREDIT_SUM_DEBT_disc_int_[-6981558.21;9090.0]",
          "AMT_CREDIT_SUM_DEBT_disc_int_[-6981558.21;9090.0]",
          "AMT_CREDIT_SUM_DEBT_disc_int_[-6981558.21;9090.0]",
          "AMT_CREDIT_SUM_DEBT_disc_int_[-6981558.21;9090.0]",
          "AMT_CREDIT_SUM_DEBT_disc_int_[-6981558.21;9090.0]",
          "AMT_CREDIT_SUM_DEBT_disc_int_[-6981558.21;9090.0]",
          "AMT_CREDIT_SUM_DEBT_disc_int_[-6981558.21;9090.0]",
          "AMT_CREDIT_SUM_DEBT_disc_int_[-6981558.21;9090.0]",
          "AMT_CREDIT_SUM_DEBT_disc_int_[-6981558.21;9090.0]",
          "AMT_CREDIT_SUM_DEBT_disc_int_[-6981558.21;9090.0]",
          "AMT_CREDIT_SUM_DEBT_disc_int_[-6981558.21;9090.0]",
          "AMT_CREDIT_SUM_DEBT_disc_int_[-6981558.21;9090.0]",
          "AMT_CREDIT_SUM_DEBT_disc_int_[-6981558.21;9090.0]",
          "AMT_CREDIT_SUM_DEBT_disc_int_[-6981558.21;9090.0]",
          "AMT_CREDIT_SUM_DEBT_disc_int_[-6981558.21;9090.0]",
          "AMT_CREDIT_SUM_DEBT_disc_int_[-6981558.21;9090.0]",
          "AMT_CREDIT_SUM_DEBT_disc_int_[-6981558.21;9090.0]",
          "AMT_CREDIT_SUM_DEBT_disc_int_[-6981558.21;9090.0]",
          "AMT_CREDIT_SUM_DEBT_disc_int_[-6981558.21;9090.0]",
          "AMT_CREDIT_SUM_DEBT_disc_int_[-6981558.21;9090.0]",
          "AMT_CREDIT_SUM_DEBT_disc_int_[-6981558.21;9090.0]",
          "AMT_CREDIT_SUM_DEBT_disc_int_[-6981558.21;9090.0]",
          "AMT_CREDIT_SUM_DEBT_disc_int_[-6981558.21;9090.0]",
          "AMT_CREDIT_SUM_DEBT_disc_int_[-6981558.21;9090.0]",
          "AMT_CREDIT_SUM_DEBT_disc_int_[-6981558.21;9090.0]",
          "AMT_CREDIT_SUM_DEBT_disc_int_[-6981558.21;9090.0]",
          "AMT_CREDIT_SUM_DEBT_disc_int_[-6981558.21;9090.0]",
          "AMT_CREDIT_SUM_DEBT_disc_int_[-6981558.21;9090.0]",
          "AMT_CREDIT_SUM_DEBT_disc_int_[-6981558.21;9090.0]",
          "AMT_CREDIT_SUM_DEBT_disc_int_[-6981558.21;9090.0]",
          "AMT_CREDIT_SUM_DEBT_disc_int_[-6981558.21;9090.0]",
          "AMT_CREDIT_SUM_DEBT_disc_int_[-6981558.21;9090.0]",
          "AMT_CREDIT_SUM_DEBT_disc_int_[-6981558.21;9090.0]",
          "AMT_CREDIT_SUM_DEBT_disc_int_[-6981558.21;9090.0]",
          "AMT_CREDIT_SUM_DEBT_disc_int_[-6981558.21;9090.0]",
          "AMT_CREDIT_SUM_DEBT_disc_int_[-6981558.21;9090.0]",
          "AMT_CREDIT_SUM_DEBT_disc_int_[-6981558.21;9090.0]",
          "AMT_CREDIT_SUM_DEBT_disc_int_[-6981558.21;9090.0]",
          "AMT_CREDIT_SUM_DEBT_disc_int_[-6981558.21;9090.0]",
          "AMT_CREDIT_SUM_DEBT_disc_int_[-6981558.21;9090.0]",
          "AMT_CREDIT_SUM_DEBT_disc_int_[-6981558.21;9090.0]",
          "AMT_CREDIT_SUM_DEBT_disc_int_[-6981558.21;9090.0]",
          "AMT_CREDIT_SUM_DEBT_disc_int_[-6981558.21;9090.0]",
          "AMT_CREDIT_SUM_DEBT_disc_int_[-6981558.21;9090.0]",
          "AMT_CREDIT_SUM_DEBT_disc_int_[-6981558.21;9090.0]",
          "AMT_CREDIT_SUM_DEBT_disc_int_[-6981558.21;9090.0]",
          "AMT_CREDIT_SUM_DEBT_disc_int_[-6981558.21;9090.0]",
          "AMT_CREDIT_SUM_DEBT_disc_int_[-6981558.21;9090.0]",
          "AMT_CREDIT_SUM_DEBT_disc_int_[-6981558.21;9090.0]",
          "AMT_CREDIT_SUM_DEBT_disc_int_[-6981558.21;9090.0]",
          "AMT_CREDIT_SUM_DEBT_disc_int_[-6981558.21;9090.0]",
          "AMT_CREDIT_SUM_DEBT_disc_int_[-6981558.21;9090.0]",
          "AMT_CREDIT_SUM_DEBT_disc_int_[-6981558.21;9090.0]",
          "AMT_CREDIT_SUM_DEBT_disc_int_[-6981558.21;9090.0]",
          "AMT_CREDIT_SUM_DEBT_disc_int_[-6981558.21;9090.0]",
          "AMT_CREDIT_SUM_DEBT_disc_int_[-6981558.21;9090.0]",
          "AMT_CREDIT_SUM_DEBT_disc_int_[-6981558.21;9090.0]",
          "AMT_CREDIT_SUM_DEBT_disc_int_[-6981558.21;9090.0]",
          "AMT_CREDIT_SUM_DEBT_disc_int_[-6981558.21;9090.0]",
          "AMT_CREDIT_SUM_DEBT_disc_int_[-6981558.21;9090.0]",
          "AMT_CREDIT_SUM_DEBT_disc_int_[-6981558.21;9090.0]",
          "AMT_CREDIT_SUM_DEBT_disc_int_[-6981558.21;9090.0]",
          "AMT_CREDIT_SUM_DEBT_disc_int_[-6981558.21;9090.0]",
          "AMT_CREDIT_SUM_DEBT_disc_int_[-6981558.21;9090.0]",
          "AMT_CREDIT_SUM_DEBT_disc_int_[-6981558.21;9090.0]",
          "AMT_CREDIT_SUM_DEBT_disc_int_[-6981558.21;9090.0]",
          "AMT_CREDIT_SUM_DEBT_disc_int_[-6981558.21;9090.0]",
          "AMT_CREDIT_SUM_DEBT_disc_int_[-6981558.21;9090.0]",
          "AMT_CREDIT_SUM_DEBT_disc_int_[-6981558.21;9090.0]",
          "AMT_CREDIT_SUM_DEBT_disc_int_[-6981558.21;9090.0]",
          "AMT_CREDIT_SUM_DEBT_disc_int_[-6981558.21;9090.0]",
          "AMT_CREDIT_SUM_DEBT_disc_int_[-6981558.21;9090.0]",
          "AMT_CREDIT_SUM_DEBT_disc_int_[-6981558.21;9090.0]",
          "AMT_CREDIT_SUM_DEBT_disc_int_[-6981558.21;9090.0]",
          "AMT_CREDIT_SUM_DEBT_disc_int_[-6981558.21;9090.0]",
          "AMT_CREDIT_SUM_DEBT_disc_int_[-6981558.21;9090.0]",
          "AMT_CREDIT_SUM_DEBT_disc_int_[-6981558.21;9090.0]",
          "AMT_CREDIT_SUM_DEBT_disc_int_[-6981558.21;9090.0]",
          "AMT_CREDIT_SUM_DEBT_disc_int_[-6981558.21;9090.0]",
          "AMT_CREDIT_SUM_DEBT_disc_int_[-6981558.21;9090.0]",
          "AMT_CREDIT_SUM_DEBT_disc_int_[-6981558.21;9090.0]",
          "AMT_CREDIT_SUM_DEBT_disc_int_[-6981558.21;9090.0]",
          "AMT_CREDIT_SUM_DEBT_disc_int_[-6981558.21;9090.0]",
          "AMT_CREDIT_SUM_DEBT_disc_int_[-6981558.21;9090.0]",
          "AMT_CREDIT_SUM_DEBT_disc_int_[-6981558.21;9090.0]",
          "AMT_CREDIT_SUM_DEBT_disc_int_[-6981558.21;9090.0]",
          "AMT_CREDIT_SUM_DEBT_disc_int_[-6981558.21;9090.0]",
          "AMT_CREDIT_SUM_DEBT_disc_int_[-6981558.21;9090.0]",
          "AMT_CREDIT_SUM_DEBT_disc_int_[-6981558.21;9090.0]",
          "AMT_CREDIT_SUM_DEBT_disc_int_[-6981558.21;9090.0]",
          "AMT_CREDIT_SUM_DEBT_disc_int_[-6981558.21;9090.0]",
          "AMT_CREDIT_SUM_DEBT_disc_int_[-6981558.21;9090.0]",
          "AMT_CREDIT_SUM_DEBT_disc_int_[-6981558.21;9090.0]",
          "AMT_CREDIT_SUM_DEBT_disc_int_[-6981558.21;9090.0]",
          "AMT_CREDIT_SUM_DEBT_disc_int_[-6981558.21;9090.0]",
          "AMT_CREDIT_SUM_DEBT_disc_int_[-6981558.21;9090.0]",
          "AMT_CREDIT_SUM_DEBT_disc_int_[-6981558.21;9090.0]",
          "AMT_CREDIT_SUM_DEBT_disc_int_[-6981558.21;9090.0]",
          "AMT_CREDIT_SUM_DEBT_disc_int_[-6981558.21;9090.0]",
          "AMT_CREDIT_SUM_DEBT_disc_int_[-6981558.21;9090.0]",
          "AMT_CREDIT_SUM_DEBT_disc_int_[-6981558.21;9090.0]",
          "AMT_CREDIT_SUM_DEBT_disc_int_[-6981558.21;9090.0]",
          "AMT_CREDIT_SUM_DEBT_disc_int_[-6981558.21;9090.0]",
          "AMT_CREDIT_SUM_DEBT_disc_int_[-6981558.21;9090.0]",
          "AMT_CREDIT_SUM_DEBT_disc_int_[-6981558.21;9090.0]",
          "AMT_CREDIT_SUM_DEBT_disc_int_[-6981558.21;9090.0]",
          "AMT_CREDIT_SUM_DEBT_disc_int_[-6981558.21;9090.0]",
          "AMT_CREDIT_SUM_DEBT_disc_int_[-6981558.21;9090.0]",
          "AMT_CREDIT_SUM_DEBT_disc_int_[-6981558.21;9090.0]",
          "AMT_CREDIT_SUM_DEBT_disc_int_[-6981558.21;9090.0]",
          "AMT_CREDIT_SUM_DEBT_disc_int_[-6981558.21;9090.0]",
          "AMT_CREDIT_SUM_DEBT_disc_int_[-6981558.21;9090.0]",
          "AMT_CREDIT_SUM_DEBT_disc_int_[-6981558.21;9090.0]",
          "AMT_CREDIT_SUM_DEBT_disc_int_[-6981558.21;9090.0]",
          "AMT_CREDIT_SUM_DEBT_disc_int_[-6981558.21;9090.0]",
          "AMT_CREDIT_SUM_DEBT_disc_int_[-6981558.21;9090.0]",
          "AMT_CREDIT_SUM_DEBT_disc_int_[-6981558.21;9090.0]",
          "AMT_CREDIT_SUM_DEBT_disc_int_[-6981558.21;9090.0]",
          "AMT_CREDIT_SUM_DEBT_disc_int_[-6981558.21;9090.0]",
          "AMT_CREDIT_SUM_DEBT_disc_int_[-6981558.21;9090.0]",
          "AMT_CREDIT_SUM_DEBT_disc_int_[-6981558.21;9090.0]",
          "AMT_CREDIT_SUM_DEBT_disc_int_[-6981558.21;9090.0]",
          "AMT_CREDIT_SUM_DEBT_disc_int_[-6981558.21;9090.0]",
          "AMT_CREDIT_SUM_DEBT_disc_int_[-6981558.21;9090.0]",
          "AMT_CREDIT_SUM_DEBT_disc_int_[-6981558.21;9090.0]",
          "AMT_CREDIT_SUM_DEBT_disc_int_[-6981558.21;9090.0]",
          "AMT_CREDIT_SUM_DEBT_disc_int_[-6981558.21;9090.0]",
          "AMT_CREDIT_SUM_DEBT_disc_int_[-6981558.21;9090.0]",
          "AMT_CREDIT_SUM_DEBT_disc_int_[-6981558.21;9090.0]",
          "AMT_CREDIT_SUM_DEBT_disc_int_[-6981558.21;9090.0]",
          "AMT_CREDIT_SUM_DEBT_disc_int_[-6981558.21;9090.0]",
          "AMT_CREDIT_SUM_DEBT_disc_int_[-6981558.21;9090.0]",
          "AMT_CREDIT_SUM_DEBT_disc_int_[-6981558.21;9090.0]",
          "AMT_CREDIT_SUM_DEBT_disc_int_[-6981558.21;9090.0]",
          "AMT_CREDIT_SUM_DEBT_disc_int_[-6981558.21;9090.0]",
          "AMT_CREDIT_SUM_DEBT_disc_int_[-6981558.21;9090.0]",
          "AMT_CREDIT_SUM_DEBT_disc_int_[-6981558.21;9090.0]",
          "AMT_CREDIT_SUM_DEBT_disc_int_[-6981558.21;9090.0]",
          "AMT_CREDIT_SUM_DEBT_disc_int_[-6981558.21;9090.0]",
          "AMT_CREDIT_SUM_DEBT_disc_int_[-6981558.21;9090.0]",
          "AMT_CREDIT_SUM_DEBT_disc_int_[-6981558.21;9090.0]",
          "AMT_CREDIT_SUM_DEBT_disc_int_[-6981558.21;9090.0]",
          "AMT_CREDIT_SUM_DEBT_disc_int_[-6981558.21;9090.0]",
          "AMT_CREDIT_SUM_DEBT_disc_int_[-6981558.21;9090.0]",
          "AMT_CREDIT_SUM_DEBT_disc_int_[-6981558.21;9090.0]",
          "AMT_CREDIT_SUM_DEBT_disc_int_[-6981558.21;9090.0]",
          "AMT_CREDIT_SUM_DEBT_disc_int_[-6981558.21;9090.0]",
          "AMT_CREDIT_SUM_DEBT_disc_int_[-6981558.21;9090.0]",
          "AMT_CREDIT_SUM_DEBT_disc_int_[-6981558.21;9090.0]",
          "AMT_CREDIT_SUM_DEBT_disc_int_[-6981558.21;9090.0]",
          "AMT_CREDIT_SUM_DEBT_disc_int_[-6981558.21;9090.0]",
          "AMT_CREDIT_SUM_DEBT_disc_int_[-6981558.21;9090.0]",
          "AMT_CREDIT_SUM_DEBT_disc_int_[-6981558.21;9090.0]",
          "AMT_CREDIT_SUM_DEBT_disc_int_[-6981558.21;9090.0]",
          "AMT_CREDIT_SUM_DEBT_disc_int_[-6981558.21;9090.0]",
          "AMT_CREDIT_SUM_DEBT_disc_int_[-6981558.21;9090.0]",
          "AMT_CREDIT_SUM_DEBT_disc_int_[-6981558.21;9090.0]",
          "AMT_CREDIT_SUM_DEBT_disc_int_[-6981558.21;9090.0]",
          "AMT_CREDIT_SUM_DEBT_disc_int_[-6981558.21;9090.0]",
          "AMT_CREDIT_SUM_DEBT_disc_int_[-6981558.21;9090.0]",
          "AMT_CREDIT_SUM_DEBT_disc_int_[-6981558.21;9090.0]",
          "AMT_CREDIT_SUM_DEBT_disc_int_[-6981558.21;9090.0]",
          "AMT_CREDIT_SUM_DEBT_disc_int_[-6981558.21;9090.0]",
          "AMT_CREDIT_SUM_DEBT_disc_int_[-6981558.21;9090.0]",
          "AMT_CREDIT_SUM_DEBT_disc_int_[-6981558.21;9090.0]",
          "AMT_CREDIT_SUM_DEBT_disc_int_[-6981558.21;9090.0]",
          "AMT_CREDIT_SUM_DEBT_disc_int_[-6981558.21;9090.0]",
          "AMT_CREDIT_SUM_DEBT_disc_int_[-6981558.21;9090.0]",
          "AMT_CREDIT_SUM_DEBT_disc_int_[-6981558.21;9090.0]",
          "AMT_CREDIT_SUM_DEBT_disc_int_[-6981558.21;9090.0]",
          "AMT_CREDIT_SUM_DEBT_disc_int_[-6981558.21;9090.0]",
          "AMT_CREDIT_SUM_DEBT_disc_int_[-6981558.21;9090.0]",
          "DAYS_EMPLOYED_disc_int_[-17912;-2420]",
          "DAYS_EMPLOYED_disc_int_[-17912;-2420]",
          "DAYS_EMPLOYED_disc_int_[-17912;-2420]",
          "DAYS_EMPLOYED_disc_int_[-17912;-2420]",
          "DAYS_EMPLOYED_disc_int_[-17912;-2420]",
          "DAYS_EMPLOYED_disc_int_[-17912;-2420]",
          "DAYS_EMPLOYED_disc_int_[-17912;-2420]",
          "DAYS_EMPLOYED_disc_int_[-17912;-2420]",
          "DAYS_EMPLOYED_disc_int_[-17912;-2420]",
          "DAYS_EMPLOYED_disc_int_[-17912;-2420]",
          "DAYS_EMPLOYED_disc_int_[-17912;-2420]",
          "DAYS_EMPLOYED_disc_int_[-17912;-2420]",
          "DAYS_EMPLOYED_disc_int_[-17912;-2420]",
          "DAYS_EMPLOYED_disc_int_[-17912;-2420]",
          "DAYS_EMPLOYED_disc_int_[-17912;-2420]",
          "DAYS_EMPLOYED_disc_int_[-17912;-2420]",
          "DAYS_EMPLOYED_disc_int_[-17912;-2420]",
          "DAYS_EMPLOYED_disc_int_[-17912;-2420]",
          "DAYS_EMPLOYED_disc_int_[-17912;-2420]",
          "DAYS_EMPLOYED_disc_int_[-17912;-2420]",
          "DAYS_EMPLOYED_disc_int_[-17912;-2420]",
          "DAYS_EMPLOYED_disc_int_[-17912;-2420]",
          "DAYS_EMPLOYED_disc_int_[-17912;-2420]",
          "DAYS_EMPLOYED_disc_int_[-17912;-2420]",
          "DAYS_EMPLOYED_disc_int_[-17912;-2420]",
          "DAYS_EMPLOYED_disc_int_[-17912;-2420]",
          "DAYS_EMPLOYED_disc_int_[-17912;-2420]",
          "DAYS_EMPLOYED_disc_int_[-17912;-2420]",
          "DAYS_EMPLOYED_disc_int_[-17912;-2420]",
          "DAYS_EMPLOYED_disc_int_[-17912;-2420]",
          "DAYS_EMPLOYED_disc_int_[-17912;-2420]",
          "DAYS_EMPLOYED_disc_int_[-17912;-2420]",
          "DAYS_EMPLOYED_disc_int_[-17912;-2420]",
          "DAYS_EMPLOYED_disc_int_[-17912;-2420]",
          "DAYS_EMPLOYED_disc_int_[-17912;-2420]",
          "DAYS_EMPLOYED_disc_int_[-17912;-2420]",
          "DAYS_EMPLOYED_disc_int_[-17912;-2420]",
          "DAYS_EMPLOYED_disc_int_[-17912;-2420]",
          "DAYS_EMPLOYED_disc_int_[-17912;-2420]",
          "DAYS_EMPLOYED_disc_int_[-17912;-2420]",
          "DAYS_EMPLOYED_disc_int_[-17912;-2420]",
          "DAYS_EMPLOYED_disc_int_[-17912;-2420]",
          "DAYS_EMPLOYED_disc_int_[-17912;-2420]",
          "DAYS_EMPLOYED_disc_int_[-17912;-2420]",
          "DAYS_EMPLOYED_disc_int_[-17912;-2420]",
          "DAYS_EMPLOYED_disc_int_[-17912;-2420]",
          "DAYS_EMPLOYED_disc_int_[-17912;-2420]",
          "DAYS_EMPLOYED_disc_int_[-17912;-2420]",
          "DAYS_EMPLOYED_disc_int_[-17912;-2420]",
          "DAYS_EMPLOYED_disc_int_[-17912;-2420]",
          "DAYS_EMPLOYED_disc_int_[-17912;-2420]",
          "DAYS_EMPLOYED_disc_int_[-17912;-2420]",
          "DAYS_EMPLOYED_disc_int_[-17912;-2420]",
          "DAYS_EMPLOYED_disc_int_[-17912;-2420]",
          "DAYS_EMPLOYED_disc_int_[-17912;-2420]",
          "DAYS_EMPLOYED_disc_int_[-17912;-2420]",
          "DAYS_EMPLOYED_disc_int_[-17912;-2420]",
          "DAYS_EMPLOYED_disc_int_[-17912;-2420]",
          "DAYS_EMPLOYED_disc_int_[-17912;-2420]",
          "DAYS_EMPLOYED_disc_int_[-17912;-2420]",
          "DAYS_EMPLOYED_disc_int_[-17912;-2420]",
          "DAYS_EMPLOYED_disc_int_[-17912;-2420]",
          "DAYS_EMPLOYED_disc_int_[-17912;-2420]",
          "DAYS_EMPLOYED_disc_int_[-17912;-2420]",
          "DAYS_EMPLOYED_disc_int_[-17912;-2420]",
          "DAYS_EMPLOYED_disc_int_[-17912;-2420]",
          "DAYS_EMPLOYED_disc_int_[-17912;-2420]",
          "DAYS_EMPLOYED_disc_int_[-17912;-2420]",
          "DAYS_EMPLOYED_disc_int_[-17912;-2420]",
          "DAYS_EMPLOYED_disc_int_[-17912;-2420]",
          "DAYS_EMPLOYED_disc_int_[-17912;-2420]",
          "DAYS_EMPLOYED_disc_int_[-17912;-2420]",
          "DAYS_EMPLOYED_disc_int_[-17912;-2420]",
          "DAYS_EMPLOYED_disc_int_[-17912;-2420]",
          "DAYS_EMPLOYED_disc_int_[-17912;-2420]",
          "DAYS_EMPLOYED_disc_int_[-17912;-2420]",
          "DAYS_EMPLOYED_disc_int_[-17912;-2420]",
          "DAYS_EMPLOYED_disc_int_[-17912;-2420]",
          "DAYS_EMPLOYED_disc_int_[-17912;-2420]",
          "DAYS_EMPLOYED_disc_int_[-17912;-2420]",
          "DAYS_EMPLOYED_disc_int_[-17912;-2420]",
          "DAYS_EMPLOYED_disc_int_[-17912;-2420]",
          "DAYS_EMPLOYED_disc_int_[-17912;-2420]",
          "DAYS_EMPLOYED_disc_int_[-17912;-2420]",
          "DAYS_EMPLOYED_disc_int_[-17912;-2420]",
          "DAYS_EMPLOYED_disc_int_[-17912;-2420]",
          "DAYS_EMPLOYED_disc_int_[-17912;-2420]",
          "DAYS_EMPLOYED_disc_int_[-17912;-2420]",
          "DAYS_EMPLOYED_disc_int_[-17912;-2420]",
          "DAYS_EMPLOYED_disc_int_[-17912;-2420]",
          "DAYS_EMPLOYED_disc_int_[-17912;-2420]",
          "DAYS_EMPLOYED_disc_int_[-17912;-2420]",
          "DAYS_EMPLOYED_disc_int_[-17912;-2420]",
          "DAYS_EMPLOYED_disc_int_[-17912;-2420]",
          "DAYS_EMPLOYED_disc_int_[-17912;-2420]",
          "DAYS_EMPLOYED_disc_int_[-17912;-2420]",
          "DAYS_EMPLOYED_disc_int_[-17912;-2420]",
          "DAYS_EMPLOYED_disc_int_[-17912;-2420]",
          "DAYS_EMPLOYED_disc_int_[-17912;-2420]",
          "DAYS_EMPLOYED_disc_int_[-17912;-2420]",
          "DAYS_EMPLOYED_disc_int_[-17912;-2420]",
          "DAYS_EMPLOYED_disc_int_[-17912;-2420]",
          "DAYS_EMPLOYED_disc_int_[-17912;-2420]",
          "DAYS_EMPLOYED_disc_int_[-17912;-2420]",
          "DAYS_EMPLOYED_disc_int_[-17912;-2420]",
          "DAYS_EMPLOYED_disc_int_[-17912;-2420]",
          "DAYS_EMPLOYED_disc_int_[-17912;-2420]",
          "DAYS_EMPLOYED_disc_int_[-17912;-2420]",
          "DAYS_EMPLOYED_disc_int_[-17912;-2420]",
          "DAYS_EMPLOYED_disc_int_[-17912;-2420]",
          "DAYS_EMPLOYED_disc_int_[-17912;-2420]",
          "DAYS_EMPLOYED_disc_int_[-17912;-2420]",
          "DAYS_EMPLOYED_disc_int_[-17912;-2420]",
          "DAYS_EMPLOYED_disc_int_[-17912;-2420]",
          "DAYS_EMPLOYED_disc_int_[-17912;-2420]",
          "DAYS_EMPLOYED_disc_int_[-17912;-2420]",
          "DAYS_EMPLOYED_disc_int_[-17912;-2420]",
          "DAYS_EMPLOYED_disc_int_[-17912;-2420]",
          "DAYS_EMPLOYED_disc_int_[-17912;-2420]",
          "DAYS_EMPLOYED_disc_int_[-17912;-2420]",
          "DAYS_EMPLOYED_disc_int_[-17912;-2420]",
          "DAYS_EMPLOYED_disc_int_[-17912;-2420]",
          "DAYS_EMPLOYED_disc_int_[-17912;-2420]",
          "DAYS_EMPLOYED_disc_int_[-17912;-2420]",
          "DAYS_EMPLOYED_disc_int_[-17912;-2420]",
          "DAYS_EMPLOYED_disc_int_[-17912;-2420]",
          "DAYS_EMPLOYED_disc_int_[-17912;-2420]",
          "DAYS_EMPLOYED_disc_int_[-17912;-2420]",
          "DAYS_EMPLOYED_disc_int_[-17912;-2420]",
          "DAYS_EMPLOYED_disc_int_[-17912;-2420]",
          "DAYS_EMPLOYED_disc_int_[-17912;-2420]",
          "DAYS_EMPLOYED_disc_int_[-17912;-2420]",
          "DAYS_EMPLOYED_disc_int_[-17912;-2420]",
          "DAYS_EMPLOYED_disc_int_[-17912;-2420]",
          "DAYS_EMPLOYED_disc_int_[-17912;-2420]",
          "DAYS_EMPLOYED_disc_int_[-17912;-2420]",
          "DAYS_EMPLOYED_disc_int_[-17912;-2420]",
          "DAYS_EMPLOYED_disc_int_[-17912;-2420]",
          "DAYS_EMPLOYED_disc_int_[-17912;-2420]",
          "DAYS_EMPLOYED_disc_int_[-17912;-2420]",
          "DAYS_EMPLOYED_disc_int_[-17912;-2420]",
          "DAYS_EMPLOYED_disc_int_[-17912;-2420]",
          "DAYS_EMPLOYED_disc_int_[-17912;-2420]",
          "DAYS_EMPLOYED_disc_int_[-17912;-2420]",
          "DAYS_EMPLOYED_disc_int_[-17912;-2420]",
          "DAYS_EMPLOYED_disc_int_[-17912;-2420]",
          "DAYS_EMPLOYED_disc_int_[-17912;-2420]",
          "DAYS_EMPLOYED_disc_int_[-17912;-2420]",
          "DAYS_EMPLOYED_disc_int_[-17912;-2420]",
          "DAYS_EMPLOYED_disc_int_[-17912;-2420]",
          "DAYS_EMPLOYED_disc_int_[-17912;-2420]",
          "DAYS_EMPLOYED_disc_int_[-17912;-2420]",
          "DAYS_EMPLOYED_disc_int_[-17912;-2420]",
          "DAYS_EMPLOYED_disc_int_[-17912;-2420]",
          "DAYS_EMPLOYED_disc_int_[-17912;-2420]",
          "DAYS_EMPLOYED_disc_int_[-17912;-2420]",
          "DAYS_EMPLOYED_disc_int_[-17912;-2420]",
          "DAYS_EMPLOYED_disc_int_[-17912;-2420]",
          "DAYS_EMPLOYED_disc_int_[-17912;-2420]",
          "DAYS_EMPLOYED_disc_int_[-17912;-2420]",
          "DAYS_EMPLOYED_disc_int_[-17912;-2420]",
          "DAYS_EMPLOYED_disc_int_[-17912;-2420]",
          "DAYS_EMPLOYED_disc_int_[-17912;-2420]",
          "DAYS_EMPLOYED_disc_int_[-17912;-2420]",
          "DAYS_EMPLOYED_disc_int_[-17912;-2420]",
          "DAYS_EMPLOYED_disc_int_[-17912;-2420]",
          "DAYS_EMPLOYED_disc_int_[-17912;-2420]",
          "DAYS_EMPLOYED_disc_int_[-17912;-2420]",
          "DAYS_EMPLOYED_disc_int_[-17912;-2420]",
          "DAYS_EMPLOYED_disc_int_[-17912;-2420]",
          "DAYS_EMPLOYED_disc_int_[-17912;-2420]",
          "DAYS_EMPLOYED_disc_int_[-17912;-2420]",
          "DAYS_EMPLOYED_disc_int_[-17912;-2420]",
          "DAYS_EMPLOYED_disc_int_[-17912;-2420]",
          "DAYS_EMPLOYED_disc_int_[-17912;-2420]",
          "DAYS_EMPLOYED_disc_int_[-17912;-2420]",
          "DAYS_EMPLOYED_disc_int_[-17912;-2420]",
          "DAYS_EMPLOYED_disc_int_[-17912;-2420]",
          "DAYS_EMPLOYED_disc_int_[-17912;-2420]",
          "DAYS_EMPLOYED_disc_int_[-17912;-2420]",
          "DAYS_EMPLOYED_disc_int_[-17912;-2420]",
          "DAYS_EMPLOYED_disc_int_[-17912;-2420]",
          "DAYS_EMPLOYED_disc_int_[-17912;-2420]",
          "DAYS_EMPLOYED_disc_int_[-17912;-2420]",
          "DAYS_EMPLOYED_disc_int_[-17912;-2420]",
          "DAYS_EMPLOYED_disc_int_[-17912;-2420]",
          "DAYS_EMPLOYED_disc_int_[-17912;-2420]",
          "DAYS_EMPLOYED_disc_int_[-17912;-2420]",
          "DAYS_EMPLOYED_disc_int_[-17912;-2420]",
          "DAYS_EMPLOYED_disc_int_[-17912;-2420]",
          "DAYS_EMPLOYED_disc_int_[-17912;-2420]",
          "DAYS_EMPLOYED_disc_int_[-17912;-2420]",
          "DAYS_EMPLOYED_disc_int_[-17912;-2420]",
          "DAYS_EMPLOYED_disc_int_[-17912;-2420]",
          "DAYS_EMPLOYED_disc_int_[-17912;-2420]",
          "DAYS_EMPLOYED_disc_int_[-17912;-2420]",
          "DAYS_EMPLOYED_disc_int_[-17912;-2420]",
          "DAYS_EMPLOYED_disc_int_[-17912;-2420]",
          "DAYS_EMPLOYED_disc_int_[-17912;-2420]",
          "DAYS_EMPLOYED_disc_int_[-17912;-2420]",
          "DAYS_EMPLOYED_disc_int_[-17912;-2420]",
          "DAYS_EMPLOYED_disc_int_[-17912;-2420]",
          "DAYS_EMPLOYED_disc_int_[-17912;-2420]",
          "DAYS_EMPLOYED_disc_int_[-17912;-2420]",
          "DAYS_EMPLOYED_disc_int_[-17912;-2420]",
          "DAYS_EMPLOYED_disc_int_[-17912;-2420]",
          "DAYS_EMPLOYED_disc_int_[-17912;-2420]",
          "DAYS_EMPLOYED_disc_int_[-17912;-2420]",
          "DAYS_EMPLOYED_disc_int_[-17912;-2420]",
          "DAYS_EMPLOYED_disc_int_[-17912;-2420]",
          "DAYS_EMPLOYED_disc_int_[-17912;-2420]",
          "DAYS_EMPLOYED_disc_int_[-17912;-2420]",
          "DAYS_EMPLOYED_disc_int_[-17912;-2420]",
          "DAYS_EMPLOYED_disc_int_[-17912;-2420]",
          "DAYS_EMPLOYED_disc_int_[-17912;-2420]",
          "DAYS_EMPLOYED_disc_int_[-17912;-2420]",
          "DAYS_EMPLOYED_disc_int_[-17912;-2420]",
          "DAYS_EMPLOYED_disc_int_[-17912;-2420]",
          "DAYS_EMPLOYED_disc_int_[-17912;-2420]",
          "DAYS_EMPLOYED_disc_int_[-17912;-2420]",
          "DAYS_EMPLOYED_disc_int_[-17912;-2420]",
          "DAYS_EMPLOYED_disc_int_[-17912;-2420]",
          "DAYS_EMPLOYED_disc_int_[-17912;-2420]",
          "DAYS_EMPLOYED_disc_int_[-17912;-2420]",
          "DAYS_EMPLOYED_disc_int_[-17912;-2420]",
          "DAYS_EMPLOYED_disc_int_[-17912;-2420]",
          "DAYS_EMPLOYED_disc_int_[-17912;-2420]",
          "DAYS_EMPLOYED_disc_int_[-17912;-2420]",
          "DAYS_EMPLOYED_disc_int_[-17912;-2420]",
          "DAYS_EMPLOYED_disc_int_[-17912;-2420]",
          "DAYS_EMPLOYED_disc_int_[-17912;-2420]",
          "DAYS_EMPLOYED_disc_int_[-17912;-2420]",
          "DAYS_EMPLOYED_disc_int_[-17912;-2420]",
          "DAYS_EMPLOYED_disc_int_[-17912;-2420]",
          "DAYS_EMPLOYED_disc_int_[-17912;-2420]",
          "DAYS_EMPLOYED_disc_int_[-17912;-2420]",
          "DAYS_EMPLOYED_disc_int_[-17912;-2420]",
          "DAYS_EMPLOYED_disc_int_[-17912;-2420]",
          "DAYS_EMPLOYED_disc_int_[-17912;-2420]",
          "DAYS_EMPLOYED_disc_int_[-17912;-2420]",
          "DAYS_EMPLOYED_disc_int_[-17912;-2420]",
          "DAYS_EMPLOYED_disc_int_[-17912;-2420]",
          "DAYS_EMPLOYED_disc_int_[-17912;-2420]",
          "DAYS_EMPLOYED_disc_int_[-17912;-2420]",
          "DAYS_EMPLOYED_disc_int_[-17912;-2420]",
          "DAYS_EMPLOYED_disc_int_[-17912;-2420]",
          "DAYS_EMPLOYED_disc_int_[-17912;-2420]",
          "DAYS_EMPLOYED_disc_int_[-17912;-2420]",
          "DAYS_EMPLOYED_disc_int_[-17912;-2420]",
          "DAYS_EMPLOYED_disc_int_[-17912;-2420]",
          "DAYS_EMPLOYED_disc_int_[-17912;-2420]",
          "DAYS_EMPLOYED_disc_int_[-17912;-2420]",
          "DAYS_EMPLOYED_disc_int_[-17912;-2420]",
          "DAYS_EMPLOYED_disc_int_[-17912;-2420]",
          "DAYS_EMPLOYED_disc_int_[-17912;-2420]",
          "DAYS_EMPLOYED_disc_int_[-17912;-2420]",
          "DAYS_EMPLOYED_disc_int_[-17912;-2420]",
          "DAYS_EMPLOYED_disc_int_[-17912;-2420]",
          "DAYS_EMPLOYED_disc_int_[-17912;-2420]",
          "DAYS_EMPLOYED_disc_int_[-17912;-2420]",
          "DAYS_EMPLOYED_disc_int_[-17912;-2420]",
          "DAYS_EMPLOYED_disc_int_[-17912;-2420]",
          "DAYS_EMPLOYED_disc_int_[-17912;-2420]",
          "DAYS_EMPLOYED_disc_int_[-17912;-2420]",
          "DAYS_EMPLOYED_disc_int_[-17912;-2420]",
          "DAYS_EMPLOYED_disc_int_[-17912;-2420]",
          "DAYS_EMPLOYED_disc_int_[-17912;-2420]",
          "DAYS_EMPLOYED_disc_int_[-17912;-2420]",
          "DAYS_EMPLOYED_disc_int_[-17912;-2420]",
          "DAYS_EMPLOYED_disc_int_[-17912;-2420]",
          "DAYS_EMPLOYED_disc_int_[-17912;-2420]",
          "DAYS_EMPLOYED_disc_int_[-17912;-2420]",
          "DAYS_EMPLOYED_disc_int_[-17912;-2420]",
          "DAYS_EMPLOYED_disc_int_[-17912;-2420]",
          "DAYS_EMPLOYED_disc_int_[-17912;-2420]",
          "DAYS_EMPLOYED_disc_int_[-17912;-2420]",
          "DAYS_EMPLOYED_disc_int_[-17912;-2420]",
          "DAYS_EMPLOYED_disc_int_[-17912;-2420]",
          "DAYS_EMPLOYED_disc_int_[-17912;-2420]",
          "DAYS_EMPLOYED_disc_int_[-17912;-2420]",
          "DAYS_EMPLOYED_disc_int_[-17912;-2420]",
          "DAYS_EMPLOYED_disc_int_[-17912;-2420]",
          "DAYS_EMPLOYED_disc_int_[-17912;-2420]",
          "DAYS_EMPLOYED_disc_int_[-17912;-2420]",
          "DAYS_EMPLOYED_disc_int_[-17912;-2420]",
          "DAYS_EMPLOYED_disc_int_[-17912;-2420]",
          "DAYS_EMPLOYED_disc_int_[-17912;-2420]",
          "DAYS_EMPLOYED_disc_int_[-17912;-2420]",
          "DAYS_EMPLOYED_disc_int_[-17912;-2420]",
          "DAYS_EMPLOYED_disc_int_[-17912;-2420]",
          "DAYS_EMPLOYED_disc_int_[-17912;-2420]",
          "DAYS_EMPLOYED_disc_int_[-17912;-2420]",
          "DAYS_EMPLOYED_disc_int_[-17912;-2420]",
          "DAYS_EMPLOYED_disc_int_[-17912;-2420]",
          "DAYS_EMPLOYED_disc_int_[-17912;-2420]",
          "DAYS_EMPLOYED_disc_int_[-17912;-2420]",
          "DAYS_EMPLOYED_disc_int_[-17912;-2420]",
          "DAYS_EMPLOYED_disc_int_[-17912;-2420]",
          "DAYS_EMPLOYED_disc_int_[-17912;-2420]",
          "DAYS_EMPLOYED_disc_int_[-17912;-2420]",
          "DAYS_EMPLOYED_disc_int_[-17912;-2420]",
          "DAYS_EMPLOYED_disc_int_[-17912;-2420]",
          "DAYS_EMPLOYED_disc_int_[-17912;-2420]",
          "DAYS_EMPLOYED_disc_int_[-17912;-2420]",
          "DAYS_EMPLOYED_disc_int_[-17912;-2420]",
          "DAYS_EMPLOYED_disc_int_[-17912;-2420]",
          "DAYS_EMPLOYED_disc_int_[-17912;-2420]",
          "DAYS_EMPLOYED_disc_int_[-17912;-2420]",
          "DAYS_EMPLOYED_disc_int_[-17912;-2420]",
          "DAYS_EMPLOYED_disc_int_[-17912;-2420]",
          "DAYS_EMPLOYED_disc_int_[-17912;-2420]",
          "DAYS_EMPLOYED_disc_int_[-17912;-2420]",
          "DAYS_EMPLOYED_disc_int_[-17912;-2420]",
          "DAYS_EMPLOYED_disc_int_[-17912;-2420]",
          "DAYS_EMPLOYED_disc_int_[-17912;-2420]",
          "DAYS_EMPLOYED_disc_int_[-17912;-2420]",
          "DAYS_EMPLOYED_disc_int_[-17912;-2420]",
          "DAYS_EMPLOYED_disc_int_[-17912;-2420]",
          "DAYS_EMPLOYED_disc_int_[-17912;-2420]",
          "DAYS_EMPLOYED_disc_int_[-17912;-2420]",
          "DAYS_EMPLOYED_disc_int_[-17912;-2420]",
          "DAYS_EMPLOYED_disc_int_[-17912;-2420]",
          "DAYS_EMPLOYED_disc_int_[-17912;-2420]",
          "DAYS_EMPLOYED_disc_int_[-17912;-2420]",
          "DAYS_EMPLOYED_disc_int_[-17912;-2420]",
          "DAYS_EMPLOYED_disc_int_[-17912;-2420]",
          "DAYS_EMPLOYED_disc_int_[-17912;-2420]",
          "DAYS_EMPLOYED_disc_int_[-17912;-2420]",
          "DAYS_EMPLOYED_disc_int_[-17912;-2420]",
          "DAYS_EMPLOYED_disc_int_[-17912;-2420]",
          "DAYS_EMPLOYED_disc_int_[-17912;-2420]",
          "DAYS_EMPLOYED_disc_int_[-17912;-2420]",
          "DAYS_EMPLOYED_disc_int_[-17912;-2420]",
          "DAYS_EMPLOYED_disc_int_[-17912;-2420]",
          "DAYS_EMPLOYED_disc_int_[-17912;-2420]",
          "DAYS_EMPLOYED_disc_int_[-17912;-2420]",
          "DAYS_EMPLOYED_disc_int_[-17912;-2420]",
          "DAYS_EMPLOYED_disc_int_[-17912;-2420]",
          "DAYS_EMPLOYED_disc_int_[-17912;-2420]",
          "DAYS_EMPLOYED_disc_int_[-17912;-2420]",
          "DAYS_EMPLOYED_disc_int_[-17912;-2420]",
          "DAYS_EMPLOYED_disc_int_[-17912;-2420]",
          "DAYS_EMPLOYED_disc_int_[-17912;-2420]",
          "DAYS_EMPLOYED_disc_int_[-17912;-2420]",
          "DAYS_EMPLOYED_disc_int_[-17912;-2420]",
          "DAYS_EMPLOYED_disc_int_[-17912;-2420]",
          "DAYS_EMPLOYED_disc_int_[-17912;-2420]",
          "DAYS_EMPLOYED_disc_int_[-17912;-2420]",
          "DAYS_EMPLOYED_disc_int_[-17912;-2420]",
          "DAYS_EMPLOYED_disc_int_[-17912;-2420]",
          "DAYS_EMPLOYED_disc_int_[-17912;-2420]",
          "DAYS_EMPLOYED_disc_int_[-17912;-2420]",
          "DAYS_EMPLOYED_disc_int_[-17912;-2420]",
          "DAYS_EMPLOYED_disc_int_[-17912;-2420]",
          "DAYS_EMPLOYED_disc_int_[-17912;-2420]",
          "DAYS_EMPLOYED_disc_int_[-17912;-2420]",
          "DAYS_EMPLOYED_disc_int_[-17912;-2420]",
          "DAYS_EMPLOYED_disc_int_[-17912;-2420]"
         ],
         "y0": " ",
         "yaxis": "y",
         "type": "box"
        }
       ],
       "layout": {
        "template": {
         "data": {
          "histogram2dcontour": [
           {
            "type": "histogram2dcontour",
            "colorbar": {
             "outlinewidth": 0,
             "ticks": ""
            },
            "colorscale": [
             [
              0.0,
              "#0d0887"
             ],
             [
              0.1111111111111111,
              "#46039f"
             ],
             [
              0.2222222222222222,
              "#7201a8"
             ],
             [
              0.3333333333333333,
              "#9c179e"
             ],
             [
              0.4444444444444444,
              "#bd3786"
             ],
             [
              0.5555555555555556,
              "#d8576b"
             ],
             [
              0.6666666666666666,
              "#ed7953"
             ],
             [
              0.7777777777777778,
              "#fb9f3a"
             ],
             [
              0.8888888888888888,
              "#fdca26"
             ],
             [
              1.0,
              "#f0f921"
             ]
            ]
           }
          ],
          "choropleth": [
           {
            "type": "choropleth",
            "colorbar": {
             "outlinewidth": 0,
             "ticks": ""
            }
           }
          ],
          "histogram2d": [
           {
            "type": "histogram2d",
            "colorbar": {
             "outlinewidth": 0,
             "ticks": ""
            },
            "colorscale": [
             [
              0.0,
              "#0d0887"
             ],
             [
              0.1111111111111111,
              "#46039f"
             ],
             [
              0.2222222222222222,
              "#7201a8"
             ],
             [
              0.3333333333333333,
              "#9c179e"
             ],
             [
              0.4444444444444444,
              "#bd3786"
             ],
             [
              0.5555555555555556,
              "#d8576b"
             ],
             [
              0.6666666666666666,
              "#ed7953"
             ],
             [
              0.7777777777777778,
              "#fb9f3a"
             ],
             [
              0.8888888888888888,
              "#fdca26"
             ],
             [
              1.0,
              "#f0f921"
             ]
            ]
           }
          ],
          "heatmap": [
           {
            "type": "heatmap",
            "colorbar": {
             "outlinewidth": 0,
             "ticks": ""
            },
            "colorscale": [
             [
              0.0,
              "#0d0887"
             ],
             [
              0.1111111111111111,
              "#46039f"
             ],
             [
              0.2222222222222222,
              "#7201a8"
             ],
             [
              0.3333333333333333,
              "#9c179e"
             ],
             [
              0.4444444444444444,
              "#bd3786"
             ],
             [
              0.5555555555555556,
              "#d8576b"
             ],
             [
              0.6666666666666666,
              "#ed7953"
             ],
             [
              0.7777777777777778,
              "#fb9f3a"
             ],
             [
              0.8888888888888888,
              "#fdca26"
             ],
             [
              1.0,
              "#f0f921"
             ]
            ]
           }
          ],
          "heatmapgl": [
           {
            "type": "heatmapgl",
            "colorbar": {
             "outlinewidth": 0,
             "ticks": ""
            },
            "colorscale": [
             [
              0.0,
              "#0d0887"
             ],
             [
              0.1111111111111111,
              "#46039f"
             ],
             [
              0.2222222222222222,
              "#7201a8"
             ],
             [
              0.3333333333333333,
              "#9c179e"
             ],
             [
              0.4444444444444444,
              "#bd3786"
             ],
             [
              0.5555555555555556,
              "#d8576b"
             ],
             [
              0.6666666666666666,
              "#ed7953"
             ],
             [
              0.7777777777777778,
              "#fb9f3a"
             ],
             [
              0.8888888888888888,
              "#fdca26"
             ],
             [
              1.0,
              "#f0f921"
             ]
            ]
           }
          ],
          "contourcarpet": [
           {
            "type": "contourcarpet",
            "colorbar": {
             "outlinewidth": 0,
             "ticks": ""
            }
           }
          ],
          "contour": [
           {
            "type": "contour",
            "colorbar": {
             "outlinewidth": 0,
             "ticks": ""
            },
            "colorscale": [
             [
              0.0,
              "#0d0887"
             ],
             [
              0.1111111111111111,
              "#46039f"
             ],
             [
              0.2222222222222222,
              "#7201a8"
             ],
             [
              0.3333333333333333,
              "#9c179e"
             ],
             [
              0.4444444444444444,
              "#bd3786"
             ],
             [
              0.5555555555555556,
              "#d8576b"
             ],
             [
              0.6666666666666666,
              "#ed7953"
             ],
             [
              0.7777777777777778,
              "#fb9f3a"
             ],
             [
              0.8888888888888888,
              "#fdca26"
             ],
             [
              1.0,
              "#f0f921"
             ]
            ]
           }
          ],
          "surface": [
           {
            "type": "surface",
            "colorbar": {
             "outlinewidth": 0,
             "ticks": ""
            },
            "colorscale": [
             [
              0.0,
              "#0d0887"
             ],
             [
              0.1111111111111111,
              "#46039f"
             ],
             [
              0.2222222222222222,
              "#7201a8"
             ],
             [
              0.3333333333333333,
              "#9c179e"
             ],
             [
              0.4444444444444444,
              "#bd3786"
             ],
             [
              0.5555555555555556,
              "#d8576b"
             ],
             [
              0.6666666666666666,
              "#ed7953"
             ],
             [
              0.7777777777777778,
              "#fb9f3a"
             ],
             [
              0.8888888888888888,
              "#fdca26"
             ],
             [
              1.0,
              "#f0f921"
             ]
            ]
           }
          ],
          "mesh3d": [
           {
            "type": "mesh3d",
            "colorbar": {
             "outlinewidth": 0,
             "ticks": ""
            }
           }
          ],
          "scatter": [
           {
            "fillpattern": {
             "fillmode": "overlay",
             "size": 10,
             "solidity": 0.2
            },
            "type": "scatter"
           }
          ],
          "parcoords": [
           {
            "type": "parcoords",
            "line": {
             "colorbar": {
              "outlinewidth": 0,
              "ticks": ""
             }
            }
           }
          ],
          "scatterpolargl": [
           {
            "type": "scatterpolargl",
            "marker": {
             "colorbar": {
              "outlinewidth": 0,
              "ticks": ""
             }
            }
           }
          ],
          "bar": [
           {
            "error_x": {
             "color": "#2a3f5f"
            },
            "error_y": {
             "color": "#2a3f5f"
            },
            "marker": {
             "line": {
              "color": "#E5ECF6",
              "width": 0.5
             },
             "pattern": {
              "fillmode": "overlay",
              "size": 10,
              "solidity": 0.2
             }
            },
            "type": "bar"
           }
          ],
          "scattergeo": [
           {
            "type": "scattergeo",
            "marker": {
             "colorbar": {
              "outlinewidth": 0,
              "ticks": ""
             }
            }
           }
          ],
          "scatterpolar": [
           {
            "type": "scatterpolar",
            "marker": {
             "colorbar": {
              "outlinewidth": 0,
              "ticks": ""
             }
            }
           }
          ],
          "histogram": [
           {
            "marker": {
             "pattern": {
              "fillmode": "overlay",
              "size": 10,
              "solidity": 0.2
             }
            },
            "type": "histogram"
           }
          ],
          "scattergl": [
           {
            "type": "scattergl",
            "marker": {
             "colorbar": {
              "outlinewidth": 0,
              "ticks": ""
             }
            }
           }
          ],
          "scatter3d": [
           {
            "type": "scatter3d",
            "line": {
             "colorbar": {
              "outlinewidth": 0,
              "ticks": ""
             }
            },
            "marker": {
             "colorbar": {
              "outlinewidth": 0,
              "ticks": ""
             }
            }
           }
          ],
          "scattermapbox": [
           {
            "type": "scattermapbox",
            "marker": {
             "colorbar": {
              "outlinewidth": 0,
              "ticks": ""
             }
            }
           }
          ],
          "scatterternary": [
           {
            "type": "scatterternary",
            "marker": {
             "colorbar": {
              "outlinewidth": 0,
              "ticks": ""
             }
            }
           }
          ],
          "scattercarpet": [
           {
            "type": "scattercarpet",
            "marker": {
             "colorbar": {
              "outlinewidth": 0,
              "ticks": ""
             }
            }
           }
          ],
          "carpet": [
           {
            "aaxis": {
             "endlinecolor": "#2a3f5f",
             "gridcolor": "white",
             "linecolor": "white",
             "minorgridcolor": "white",
             "startlinecolor": "#2a3f5f"
            },
            "baxis": {
             "endlinecolor": "#2a3f5f",
             "gridcolor": "white",
             "linecolor": "white",
             "minorgridcolor": "white",
             "startlinecolor": "#2a3f5f"
            },
            "type": "carpet"
           }
          ],
          "table": [
           {
            "cells": {
             "fill": {
              "color": "#EBF0F8"
             },
             "line": {
              "color": "white"
             }
            },
            "header": {
             "fill": {
              "color": "#C8D4E3"
             },
             "line": {
              "color": "white"
             }
            },
            "type": "table"
           }
          ],
          "barpolar": [
           {
            "marker": {
             "line": {
              "color": "#E5ECF6",
              "width": 0.5
             },
             "pattern": {
              "fillmode": "overlay",
              "size": 10,
              "solidity": 0.2
             }
            },
            "type": "barpolar"
           }
          ],
          "pie": [
           {
            "automargin": true,
            "type": "pie"
           }
          ]
         },
         "layout": {
          "autotypenumbers": "strict",
          "colorway": [
           "#636efa",
           "#EF553B",
           "#00cc96",
           "#ab63fa",
           "#FFA15A",
           "#19d3f3",
           "#FF6692",
           "#B6E880",
           "#FF97FF",
           "#FECB52"
          ],
          "font": {
           "color": "#2a3f5f"
          },
          "hovermode": "closest",
          "hoverlabel": {
           "align": "left"
          },
          "paper_bgcolor": "white",
          "plot_bgcolor": "#E5ECF6",
          "polar": {
           "bgcolor": "#E5ECF6",
           "angularaxis": {
            "gridcolor": "white",
            "linecolor": "white",
            "ticks": ""
           },
           "radialaxis": {
            "gridcolor": "white",
            "linecolor": "white",
            "ticks": ""
           }
          },
          "ternary": {
           "bgcolor": "#E5ECF6",
           "aaxis": {
            "gridcolor": "white",
            "linecolor": "white",
            "ticks": ""
           },
           "baxis": {
            "gridcolor": "white",
            "linecolor": "white",
            "ticks": ""
           },
           "caxis": {
            "gridcolor": "white",
            "linecolor": "white",
            "ticks": ""
           }
          },
          "coloraxis": {
           "colorbar": {
            "outlinewidth": 0,
            "ticks": ""
           }
          },
          "colorscale": {
           "sequential": [
            [
             0.0,
             "#0d0887"
            ],
            [
             0.1111111111111111,
             "#46039f"
            ],
            [
             0.2222222222222222,
             "#7201a8"
            ],
            [
             0.3333333333333333,
             "#9c179e"
            ],
            [
             0.4444444444444444,
             "#bd3786"
            ],
            [
             0.5555555555555556,
             "#d8576b"
            ],
            [
             0.6666666666666666,
             "#ed7953"
            ],
            [
             0.7777777777777778,
             "#fb9f3a"
            ],
            [
             0.8888888888888888,
             "#fdca26"
            ],
            [
             1.0,
             "#f0f921"
            ]
           ],
           "sequentialminus": [
            [
             0.0,
             "#0d0887"
            ],
            [
             0.1111111111111111,
             "#46039f"
            ],
            [
             0.2222222222222222,
             "#7201a8"
            ],
            [
             0.3333333333333333,
             "#9c179e"
            ],
            [
             0.4444444444444444,
             "#bd3786"
            ],
            [
             0.5555555555555556,
             "#d8576b"
            ],
            [
             0.6666666666666666,
             "#ed7953"
            ],
            [
             0.7777777777777778,
             "#fb9f3a"
            ],
            [
             0.8888888888888888,
             "#fdca26"
            ],
            [
             1.0,
             "#f0f921"
            ]
           ],
           "diverging": [
            [
             0,
             "#8e0152"
            ],
            [
             0.1,
             "#c51b7d"
            ],
            [
             0.2,
             "#de77ae"
            ],
            [
             0.3,
             "#f1b6da"
            ],
            [
             0.4,
             "#fde0ef"
            ],
            [
             0.5,
             "#f7f7f7"
            ],
            [
             0.6,
             "#e6f5d0"
            ],
            [
             0.7,
             "#b8e186"
            ],
            [
             0.8,
             "#7fbc41"
            ],
            [
             0.9,
             "#4d9221"
            ],
            [
             1,
             "#276419"
            ]
           ]
          },
          "xaxis": {
           "gridcolor": "white",
           "linecolor": "white",
           "ticks": "",
           "title": {
            "standoff": 15
           },
           "zerolinecolor": "white",
           "automargin": true,
           "zerolinewidth": 2
          },
          "yaxis": {
           "gridcolor": "white",
           "linecolor": "white",
           "ticks": "",
           "title": {
            "standoff": 15
           },
           "zerolinecolor": "white",
           "automargin": true,
           "zerolinewidth": 2
          },
          "scene": {
           "xaxis": {
            "backgroundcolor": "#E5ECF6",
            "gridcolor": "white",
            "linecolor": "white",
            "showbackground": true,
            "ticks": "",
            "zerolinecolor": "white",
            "gridwidth": 2
           },
           "yaxis": {
            "backgroundcolor": "#E5ECF6",
            "gridcolor": "white",
            "linecolor": "white",
            "showbackground": true,
            "ticks": "",
            "zerolinecolor": "white",
            "gridwidth": 2
           },
           "zaxis": {
            "backgroundcolor": "#E5ECF6",
            "gridcolor": "white",
            "linecolor": "white",
            "showbackground": true,
            "ticks": "",
            "zerolinecolor": "white",
            "gridwidth": 2
           }
          },
          "shapedefaults": {
           "line": {
            "color": "#2a3f5f"
           }
          },
          "annotationdefaults": {
           "arrowcolor": "#2a3f5f",
           "arrowhead": 0,
           "arrowwidth": 1
          },
          "geo": {
           "bgcolor": "white",
           "landcolor": "#E5ECF6",
           "subunitcolor": "white",
           "showland": true,
           "showlakes": true,
           "lakecolor": "white"
          },
          "title": {
           "x": 0.05
          },
          "mapbox": {
           "style": "light"
          }
         }
        },
        "xaxis": {
         "anchor": "y",
         "domain": [
          0.0,
          1.0
         ],
         "title": {
          "text": "SHAP Value (Impact on Model Output)"
         }
        },
        "yaxis": {
         "anchor": "x",
         "domain": [
          0.0,
          1.0
         ],
         "title": {
          "text": "Feature"
         }
        },
        "legend": {
         "title": {
          "text": "One-hot Value"
         },
         "tracegroupgap": 0
        },
        "title": {
         "text": "Bee Swarm Plot of SHAP Values by Feature"
        },
        "boxmode": "overlay"
       },
       "config": {
        "plotlyServerURL": "https://plot.ly"
       }
      },
      "text/html": "<div>                            <div id=\"e7724943-24f2-4f94-8095-eb7be82562dc\" class=\"plotly-graph-div\" style=\"height:525px; width:100%;\"></div>            <script type=\"text/javascript\">                require([\"plotly\"], function(Plotly) {                    window.PLOTLYENV=window.PLOTLYENV || {};                                    if (document.getElementById(\"e7724943-24f2-4f94-8095-eb7be82562dc\")) {                    Plotly.newPlot(                        \"e7724943-24f2-4f94-8095-eb7be82562dc\",                        [{\"alignmentgroup\":\"True\",\"boxpoints\":\"all\",\"fillcolor\":\"rgba(255,255,255,0)\",\"hoveron\":\"points\",\"hovertemplate\":\"One-hot Value=0.0\\u003cbr\\u003eSHAP Value=%{x}\\u003cbr\\u003eFeature=%{y}\\u003cextra\\u003e\\u003c\\u002fextra\\u003e\",\"legendgroup\":\"0.0\",\"line\":{\"color\":\"rgba(255,255,255,0)\"},\"marker\":{\"color\":\"#636efa\"},\"name\":\"0.0\",\"offsetgroup\":\"0.0\",\"orientation\":\"h\",\"pointpos\":0,\"showlegend\":true,\"x\":[-0.065703735,-0.09650998,-0.054466244,-0.059187885,-0.022225067,-0.030796062,-0.022225067,-0.05935665,-0.045306817,-0.06289105,-0.09650998,-0.030796062,-0.093191646,-0.09271817,-0.09650998,-0.003974016,-0.07341319,-0.093191646,-0.09650998,-0.05851907,-0.054466244,-0.038897526,-0.06971481,-0.075356655,-0.06588254,-0.09650998,-0.0887044,-0.030796062,-0.07150952,-0.09650998,-0.06971481,-0.065703735,0.03294395,-0.09271817,-0.06289105,-0.06484737,-0.093191646,-0.075356655,-0.06971481,-0.09650998,-0.093191646,-0.09650998,-0.09271817,-0.06289105,-0.05851907,-0.06971481,-0.054466244,-0.075356655,-0.06971481,-0.045306817,-0.054466244,-0.05851907,-0.09271817,-0.09650998,-0.09650998,-0.01778402,-0.09271817,-0.054466244,-0.022225067,-0.030796062,-0.045306817,-0.07150952,-0.06588254,-0.09271817,-0.06289105,-0.060252164,-0.09650998,-0.075356655,-0.060252164,-0.00910508,-0.06971481,-0.05935665,-0.075356655,-0.044252936,0.0028049683,-0.09650998,-0.022225067,-0.07150952,-0.09650998,-0.038897526,-0.054466244,-0.09271817,-0.09271817,-0.093191646,-0.09271817,-0.054466244,-0.06971481,-0.00910508,-0.045306817,-0.09650998,-0.031961966,-0.09650998,-0.093191646,-0.09650998,-0.038897526,-0.05935665,-0.093191646,-0.06971481,-0.09271817,-0.06971481,-0.01778402,-0.065703735,-0.09271817,-0.054466244,-0.09650998,-0.05935665,-0.09650998,-0.0719793,-0.0719793,-0.030796062,-0.0887044,-0.07150952,-0.093191646,-0.093191646,-0.09650998,-0.05851907,-0.030796062,-0.09271817,-0.05935665,-0.09271817,-0.09271817,-0.09271817,-0.09271817,-0.09271817,-0.044218317,-0.065703735,-0.09271817,-0.03578926,-0.09650998,-0.09650998,-0.09650998,-0.09271817,-0.06971481,-0.09271817,-0.09271817,-0.09271817,-0.05935665,-0.09650998,-0.09650998,-0.054466244,-0.06971481,0.023600914,-0.05935665,-0.045306817,-0.09271817,-0.09271817,-0.09650998,-0.07150952,-0.09650998,-0.044218317,-0.09650998,-0.06971481,-0.09650998,-0.09650998,-0.05935665,-0.01778402,-0.07150952,-0.09271817,-0.09650998,-0.05935665,-0.09650998,-0.05935665,-0.09650998,-0.044218317,-0.06289105,-0.09271817,-0.054466244,-0.06971481,-0.09650998,-0.024509573,-0.044218317,-0.05935665,-0.09650998,-0.06484737,-0.09271817,-0.09650998,-0.075356655,-0.003974016,-0.06971481,-0.093191646,-0.09271817,-0.027578495,-0.09271817,-0.027578495,-0.00910508,-0.09650998,-0.06971481,-0.09650998,-0.09271817,-0.06971481,-0.065703735,-0.022225067,-0.09650998,0.004941756,-0.036064528,-0.054466244,-0.06971481,-0.09271817,-0.022225067,-0.09650998,-0.09650998,-0.05935665,-0.06588254,-0.09650998,-0.054466244,-0.09271817,-0.054466244,-0.093191646,0.023600914,-0.065703735,-0.05935665,-0.05935665,-0.0887044,-0.075356655,-0.0719793,-0.0887044,-0.060252164,-0.16824946,-0.17328438,-0.16875614,-0.16875614,-0.1693778,-0.16925286,-0.15996629,-0.16875614,-0.18020411,-0.15316644,-0.13616553,-0.16541539,-0.1477688,-0.17328438,-0.15999436,-0.15316644,-0.1807704,-0.14950563,-0.17838132,-0.15999436,-0.14950563,-0.15996629,-0.17328438,-0.1693778,-0.15996629,-0.14950563,-0.1807704,-0.17328438,-0.16033491,-0.16925286,-0.16217804,-0.15999436,-0.17412162,-0.17328438,-0.14950563,-0.18646093,-0.15999436,-0.16875614,-0.1477688,-0.15996629,-0.16875614,-0.16875614,-0.16875614,-0.15316644,-0.17815287,-0.17328438,-0.1693778,-0.16217804,-0.16824946,-0.15999436,-0.15996629,-0.17838132,-0.16649935,-0.16875614,-0.13616553,-0.16875614,-0.16875614,-0.1807704,-0.16217804,-0.15996629,-0.15996629,-0.17328438,-0.1477688,-0.1693778,-0.15514404,-0.1807704,-0.17328438,-0.17838132,-0.15996629,-0.15996629,-0.16875614,-0.15514404,-0.1477688,-0.16217804,-0.16925286,-0.14827423,-0.16875614,-0.15996629,-0.16217804,-0.15514404,-0.16925286,-0.15999436,-0.15999436,-0.17838132,-0.15996629,-0.17328438,-0.15999436,-0.1499753,-0.17328438,-0.15514404,-0.17079557,-0.1477688,-0.17079557,-0.16499315,-0.17838132,-0.16925286,-0.15996629,-0.15999436,-0.15316644,-0.15999436,-0.14950563,-0.17815287,-0.16875614,-0.17412162,-0.17838132,-0.17328438,-0.16875614,-0.16217804,-0.16541539,-0.15105413,-0.15996629,-0.17328438,-0.15999436,-0.14950563,-0.15999436,-0.1477688,-0.17815287,-0.15999436,-0.17328438,-0.15996629,-0.16925286,-0.17838132,-0.17079557,-0.17838132,-0.1807704,-0.17838132,-0.16875614,-0.16925286,-0.16875614,-0.1477688,-0.16217804,-0.16875614,-0.17328438,-0.15996629,-0.16081658,-0.17328438,-0.1807704,-0.17328438,-0.16541539,-0.1807704,-0.16217804,-0.17838132,-0.16875614,-0.16217804,-0.16499315,-0.16824946,-0.15996629,-0.17838132,-0.16925286,-0.17328438,-0.15996629,-0.16875614,-0.16541539,-0.17328438,-0.17108765,-0.17108765,-0.13874681,-0.15316644,-0.16875614,-0.18646093,-0.16875614,-0.17815287,-0.1807704,-0.16875614,-0.15514404,-0.14827423,-0.15996629,-0.1477688,-0.1807704,-0.17328438,-0.15514404,-0.16875614,-0.16875614,-0.15996629,-0.15996629,-0.15316644,-0.15996629,-0.13616553,-0.17758833,-0.15514404,-0.15999436,-0.1477688,-0.15996629,-0.15996629,-0.17838132,-0.15996629,-0.16541539,-0.17838132,-0.1477688,-0.17838132,-0.17838132,-0.17838132,-0.17838132,-0.14950563,-0.16875614,-0.17079557,-0.16875614,-0.1477688,-0.16824946,-0.15996629,-0.17838132,-0.1693778,-0.17328438,-0.16875614,-0.17328438,-0.15996629,-0.15514404,-0.16875614,-0.17328438,-0.17838132,-0.16875614,-0.15996629,-0.13616553,-0.16217804,-0.17838132,-0.1693778,-0.17838132,-0.17838132,-0.16541539,-0.15189342,-0.17328438,-0.17328438,-0.16925286,-0.16217804,-0.15996629,-0.16875614,-0.16541539,-0.13616553,-0.17838132,-0.16908178,-0.17758833,-0.17838132,-0.15999436,-0.17079557,-0.1477688,-0.17328438,-0.17815287,-0.15996629,-0.15514404,-0.17328438,-0.17328438,-0.16875614,-0.15999436,-0.14950563,-0.16217804,-0.17328438,-0.17328438,-0.15514404,-0.15996629,-0.16541539,-0.16499315,-0.15999436,-0.15996629,-0.17815287,-0.17838132,-0.17328438,-0.16541539,-0.15999436,-0.17328438,-0.15189342,-0.16541539,-0.15999436,-0.15996629,-0.1693778,-0.15514404,-0.17328438,-0.17838132,-0.16925286,-0.16217804,-0.17328438,-0.17028387,-0.14950563,-0.17079557,-0.1693778,-0.16541539,-0.15996629,-0.16875614,-0.17328438,-0.15996629,-0.1477688,-0.16649935,-0.15999436,-0.17838132,-0.14950563,-0.17328438,-0.16217804,-0.1693778,-0.1807704,-0.1693778,-0.17079557,-0.17838132,-0.17838132,-0.15189342,-0.15996629,-0.1477688,-0.15999436,-0.17328438,-0.15996629,-0.16217804,-0.17328438,-0.15999436,-0.16875614,-0.16875614,-0.16875614,-0.17838132,-0.16217804,-0.16824946,-0.1477688,-0.17328438,-0.15514404,-0.14950563,-0.16875614,-0.15996629,-0.14226112,-0.1477688,-0.16875614,-0.1477688,-0.13616553,-0.16875614,-0.16107953,-0.1477688,-0.16925286,-0.1477688,-0.14827423,-0.16217804,-0.17838132,-0.15996629,-0.15996629,-0.15996629,-0.16875614,-0.15996629,-0.15999436,-0.15996629,-0.16875614,-0.15999436,-0.1477688,-0.15996629,-0.1477688,-0.17328438,-0.17328438,-0.16875614,-0.16541539,-0.15996629,-0.15999436,-0.16875614,-0.15514404,-0.17412162,-0.14950563,-0.17758833,-0.17328438,-0.16875614,-0.16925286,-0.17838132,-0.16875614,-0.15996629,-0.1477688,-0.16925286,-0.15514404,-0.15996629,-0.1807704,-0.16875614,-0.16875614,-0.15996629,-0.16875614,-0.16824946,-0.16541539,-0.16875614,-0.16541539,-0.18646093,-0.16875614,-0.17108765,-0.18646093,-0.15999436,-0.16033491,-0.15996629,-0.12853603,-0.12984966,-0.121457696,-0.121457696,-0.12318163,-0.13335958,-0.12029709,-0.121457696,-0.12832296,-0.12734725,-0.12832296,-0.11231882,-0.13084668,-0.11992331,-0.1183312,-0.12156988,-0.12890616,-0.12984966,-0.12350992,-0.12734725,-0.13154395,-0.1157126,-0.13394278,-0.11357299,-0.12281592,-0.12350992,-0.1157126,-0.12029709,-0.12984966,-0.12318163,-0.12157549,-0.11949244,-0.12029709,-0.1298056,-0.1157126,-0.13154395,-0.12984966,-0.11392273,-0.13335958,-0.12230162,-0.12777811,-0.12157549,-0.12350992,-0.12803148,-0.12984966,-0.1157126,-0.1341482,-0.12350992,-0.121457696,-0.1183312,-0.12029709,-0.121457696,-0.121457696,-0.10756062,-0.121457696,-0.12734725,-0.12984966,-0.12318163,-0.12777811,-0.12853603,-0.12350992,-0.116991006,-0.12029709,-0.13394278,-0.12890616,-0.11357299,-0.12281592,-0.13130704,-0.121457696,-0.11231882,-0.121457696,-0.121457696,-0.13154395,-0.12803148,-0.12777811,-0.12029709,-0.12029709,-0.12984966,-0.1183312,-0.12318163,-0.11855542,-0.13154395,-0.11357299,-0.12984966,-0.13394278,-0.12029709,-0.12029709,-0.121457696,-0.12890616,-0.11855542,-0.1183312,-0.12777811,-0.13335958,-0.117345184,-0.12803148,-0.121457696,-0.12029709,-0.12777811,-0.11855542,-0.11992331,-0.13335958,-0.12350992,-0.12157549,-0.12350992,-0.13394278,-0.12029709,-0.12984966,-0.12350992,-0.12984966,-0.11855542,-0.116991006,-0.1183312,-0.12156988,-0.116991006,-0.13394278,-0.13335958,-0.12029709,-0.12832296,-0.12350992,-0.12734725,-0.11992331,-0.12350992,-0.1157126,-0.121457696,-0.13394278,-0.12890616,-0.12919141,-0.12984966,-0.12803148,-0.121457696,-0.12919141,-0.12777811,-0.13084668,-0.12803148,-0.12029709,-0.12984966,-0.12350992,-0.1157126,-0.12350992,-0.1183312,-0.116991006,-0.11387704,-0.12832296,-0.12350992,-0.12984966,-0.12230162,-0.12029709,-0.13335958,-0.13394278,-0.13394278,-0.13154395,-0.12281592,-0.13394278,-0.12157549,-0.121457696,-0.13335958,-0.11699749,-0.116991006,-0.121457696,-0.1183312,-0.12777811,-0.121457696,-0.11992331,-0.12984966,-0.12029709,-0.13136375,-0.12281592,-0.1213214,-0.12984966,-0.13154395,-0.12984966,-0.12230162,-0.13084668,-0.13154395,-0.12777811,-0.13394278,-0.121457696,-0.12777811,-0.12853603,-0.12029709,-0.13394278,-0.13335958,-0.12984966,-0.12029709,-0.121457696,-0.13084668,-0.12984966,-0.13337484,-0.13337484,-0.12281592,-0.115454994,-0.12734725,-0.121457696,-0.1341482,-0.121457696,-0.13154395,-0.121457696,-0.11855542,-0.12281592,-0.117345184,-0.12029709,-0.1183312,-0.13154395,-0.12984966,-0.11855542,-0.121457696,-0.121457696,-0.12029709,-0.12029709,-0.12734725,-0.12029709,-0.11231882,-0.11855542,-0.12350992,-0.1183312,-0.12029709,-0.12029709,-0.13394278,-0.12029709,-0.13084668,-0.13394278,-0.12156988,-0.1183312,-0.13394278,-0.11699749,-0.13394278,-0.13394278,-0.12281592,-0.13394278,-0.1157126,-0.121457696,-0.121457696,-0.12157549,-0.1183312,-0.12853603,-0.12029709,-0.13394278,-0.12318163,-0.1290285,-0.12984966,-0.121457696,-0.12984966,-0.12029709,-0.11855542,-0.121457696,-0.12984966,-0.13394278,-0.121457696,-0.12029709,-0.11231882,-0.12777811,-0.13394278,-0.12318163,-0.11387704,-0.13394278,-0.13394278,-0.13084668,-0.115639254,-0.12984966,-0.12984966,-0.12157549,-0.13335958,-0.12777811,-0.12029709,-0.121457696,-0.13084668,-0.11231882,-0.11992331,-0.13394278,-0.13394278,-0.12350992,-0.1183312,-0.12984966,-0.10756062,-0.12029709,-0.11855542,-0.12281592,-0.12984966,-0.12984966,-0.121457696,-0.12350992,-0.1157126,-0.12777811,-0.12984966,-0.116991006,-0.12984966,-0.12157549,-0.11855542,-0.12029709,-0.13084668,-0.12350992,-0.11699749,-0.12029709,-0.13394278,-0.12984966,-0.13084668,-0.12350992,-0.12984966,-0.115639254,-0.13084668,-0.12350992,-0.12029709,-0.12318163,-0.116991006,-0.11855542,-0.12984966,-0.12890616,-0.13394278,-0.13335958,-0.12281592,-0.12777811,-0.12984966,-0.1157126,-0.12318163,-0.13084668,-0.12029709,-0.121457696,-0.12984966,-0.12029709,-0.1183312,-0.13130704,-0.12350992,-0.10756062,-0.13394278,-0.1157126,-0.12984966,-0.12803148,-0.11949244,-0.12777811,-0.12318163,-0.13154395,-0.12318163,-0.13394278,-0.13394278,-0.115639254,-0.12029709,-0.1183312,-0.12350992,-0.11540514,-0.12984966,-0.11507098,-0.12029709,-0.12777811,-0.12984966,-0.12350992,-0.10756062,-0.121457696,-0.12156988,-0.121457696,-0.121457696,-0.13394278,-0.12777811,-0.11387704,-0.12853603,-0.12832296,-0.1183312,-0.12984966,-0.11855542,-0.1157126,-0.121457696,-0.12029709,-0.1183312,-0.121457696,-0.1183312,-0.11231882,-0.121457696,-0.12939881,-0.1183312,-0.13335958,-0.1183312,-0.117345184,-0.12777811,-0.13394278,-0.11699749,-0.12029709,-0.12029709,-0.12029709,-0.121457696,-0.12029709,-0.12350992,-0.12029709,-0.121457696,-0.12350992,-0.11357299,-0.12281592,-0.1183312,-0.12029709,-0.12832296,-0.1183312,-0.12984966,-0.12984966,-0.121457696,-0.13084668,-0.12029709,-0.12350992,-0.121457696,-0.11855542,-0.1157126,-0.12984966,-0.121457696,-0.13335958,-0.13394278,-0.121457696,-0.12029709,-0.116991006,-0.1183312,-0.13335958,-0.11855542,-0.12029709,-0.13154395,-0.121457696,-0.121457696,-0.12029709,-0.121457696,-0.12853603,-0.13084668,-0.121457696,-0.13084668,-0.1341482,-0.121457696,-0.12803148,-0.13337484,-0.1341482,-0.12350992,-0.12029709,-0.12919141,-0.24948809,-0.2428922,-0.22391975,-0.22391975,-0.2377961,-0.22213972,-0.22391975,-0.2382259,-0.24129274,-0.22930023,-0.22328974,-0.24643712,-0.2428922,-0.2357713,-0.23935457,-0.25744352,-0.21817912,-0.2088378,-0.2357713,-0.22213972,-0.2428922,-0.2377961,-0.2109114,-0.22213972,-0.22574773,-0.20068088,-0.23935457,-0.2428922,-0.22032833,-0.25184825,-0.2509387,-0.2109114,-0.2357713,-0.23313901,-0.2427433,-0.2428922,-0.25415066,-0.2357713,-0.22391975,-0.22930023,-0.22213972,-0.22391975,-0.22391975,-0.22391975,-0.23008153,-0.2428922,-0.2377961,-0.2509387,-0.24948809,-0.2357713,-0.22213972,-0.25744352,-0.24643712,-0.21817912,-0.19100605,-0.2088378,-0.22391975,-0.2017396,-0.22391975,-0.22391975,-0.23935457,-0.23313901,-0.2509387,-0.22213972,-0.22213972,-0.2428922,-0.22930023,-0.2377961,-0.23316725,-0.23935457,-0.21817912,-0.2428922,-0.25744352,-0.22213972,-0.22213972,-0.22391975,-0.24643712,-0.23316725,-0.22930023,-0.22032833,-0.2509387,-0.19430414,-0.23313901,-0.22391975,-0.22213972,-0.2509387,-0.23316725,-0.24129274,-0.2357713,-0.2017396,-0.2109114,-0.22032833,-0.2357713,-0.25744352,-0.22213972,-0.2428922,-0.19430414,-0.2357713,-0.2428922,-0.23316725,-0.20553246,-0.22930023,-0.20553246,-0.22328974,-0.25744352,-0.22213972,-0.2357713,-0.24129274,-0.2357713,-0.20842707,-0.23008153,-0.22391975,-0.2427433,-0.25744352,-0.24643712,-0.2392906,-0.2428922,-0.23313901,-0.22391975,-0.2392906,-0.2509387,-0.23313901,-0.24715623,-0.22213972,-0.2428922,-0.2357713,-0.2357713,-0.22930023,-0.21819252,-0.23008153,-0.2357713,-0.2428922,-0.25184825,-0.22213972,-0.25744352,-0.20553246,-0.25744352,-0.23935457,-0.2088378,-0.25744352,-0.2109114,-0.22391975,-0.22391975,-0.22930023,-0.2509387,-0.22391975,-0.24129274,-0.2428922,-0.22213972,-0.2088378,-0.22146092,-0.2428922,-0.23935457,-0.2428922,-0.25184825,-0.23935457,-0.2509387,-0.25744352,-0.22391975,-0.2509387,-0.24948809,-0.22213972,-0.25744352,-0.2428922,-0.22213972,-0.22391975,-0.2428922,-0.26274747,-0.26274747,-0.2088378,-0.19100605,-0.22391975,-0.25415066,-0.22391975,-0.23008153,-0.23935457,-0.22391975,-0.23316725,-0.2088378,-0.22213972,-0.22930023,-0.23935457,-0.2428922,-0.19430414,-0.22032833,-0.23316725,-0.22391975,-0.22391975,-0.22213972,-0.22213972,-0.22213972,-0.20608799,-0.23316725,-0.2357713,-0.22930023,-0.22213972,-0.22213972,-0.25744352,-0.22213972,-0.25744352,-0.22328974,-0.22930023,-0.25744352,-0.25744352,-0.25744352,-0.2088378,-0.25744352,-0.22391975,-0.20553246,-0.22391975,-0.23173688,-0.2109114,-0.22930023,-0.24948809,-0.22213972,-0.25744352,-0.2377961,-0.2428922,-0.22391975,-0.2428922,-0.22213972,-0.23316725,-0.22391975,-0.2428922,-0.25744352,-0.22391975,-0.22213972,-0.2509387,-0.20068088,-0.25744352,-0.2377961,-0.21819252,-0.25744352,-0.25744352,-0.2428922,-0.2428922,-0.2109114,-0.2509387,-0.22213972,-0.22391975,-0.24129274,-0.25744352,-0.21807477,-0.20608799,-0.25744352,-0.2357713,-0.20479295,-0.20553246,-0.22930023,-0.2428922,-0.23008153,-0.22213972,-0.23316725,-0.2088378,-0.2428922,-0.23173688,-0.2428922,-0.22391975,-0.2357713,-0.2509387,-0.2428922,-0.2428922,-0.2109114,-0.23316725,-0.22213972,-0.2017396,-0.2357713,-0.22213972,-0.23008153,-0.25744352,-0.2428922,-0.2357713,-0.2428922,-0.2357713,-0.22213972,-0.2377961,-0.23316725,-0.2428922,-0.23173688,-0.24643712,-0.25744352,-0.2088378,-0.2509387,-0.2428922,-0.23173688,-0.20553246,-0.2377961,-0.22213972,-0.22391975,-0.2428922,-0.22213972,-0.22930023,-0.2357713,-0.25744352,-0.2428922,-0.23313901,-0.2509387,-0.2377961,-0.23935457,-0.2377961,-0.20553246,-0.25744352,-0.22759108,-0.25744352,-0.22213972,-0.22930023,-0.2357713,-0.22759108,-0.2428922,-0.2278149,-0.22213972,-0.2509387,-0.2428922,-0.2357713,-0.22391975,-0.22328974,-0.22391975,-0.22391975,-0.25744352,-0.2509387,-0.21819252,-0.24948809,-0.22930023,-0.2428922,-0.23316725,-0.22391975,-0.22213972,-0.22930023,-0.22391975,-0.22930023,-0.22391975,-0.22930023,-0.22930023,-0.2509387,-0.25744352,-0.22213972,-0.22213972,-0.22213972,-0.22391975,-0.22213972,-0.2357713,-0.22213972,-0.22391975,-0.2357713,-0.21817912,-0.2088378,-0.22930023,-0.22213972,-0.22930023,-0.2428922,-0.2428922,-0.22391975,-0.22213972,-0.2357713,-0.22391975,-0.23316725,-0.2427433,-0.20608799,-0.2428922,-0.22391975,-0.25744352,-0.22391975,-0.22213972,-0.22930023,-0.23316725,-0.22213972,-0.23935457,-0.22391975,-0.22391975,-0.22213972,-0.22391975,-0.24948809,-0.22391975,-0.25415066,-0.22391975,-0.23313901,-0.26274747,-0.25415066,-0.2357713,-0.22213972,-0.2392906,-0.33047947,-0.30828515,-0.34716147,-0.34284106,-0.35378832,-0.30828515,-0.38182414,-0.33274794,-0.40712586,-0.28326648,-0.31827193,-0.35378832,-0.37509102,-0.30828515,-0.31827193,-0.33047947,-0.4024852,-0.30224434,-0.38182414,-0.34716147,-0.4024852,-0.31827193,-0.4024852,-0.35378832,-0.36586383,-0.38182414,-0.36586383,-0.35378832,-0.31827193,-0.31827193,-0.36586383,-0.34284106,-0.36586383,-0.35378832,-0.30828515,-0.34284106,-0.3358153,-0.31827193,-0.26667616,-0.35378832,-0.39674866,-0.28326648,-0.35378832,-0.31827193,-0.34284106,-0.26389796,-0.28326648,-0.31827193,-0.31827193,-0.33047947,-0.26752815,-0.26752815,-0.29518923,-0.30828515,-0.36586383,-0.35378832,-0.36586383,-0.30828515,-0.34716147,-0.36586383,-0.35378832,-0.35378832,-0.35378832,-0.33047947,-0.36586383,-0.34716147,-0.31827193,-0.40712586,-0.39674866,-0.31827193,-0.35961312,-0.34716147,-0.34284106,-0.35378832,-0.37509102,-0.36586383,-0.31827193,-0.36586383,-0.36586383,-0.41560712,-0.31827193,-0.35378832,-0.37509102,-0.33274794,-0.31827193,-0.36761373,-0.35378832,-0.36761373,-0.31466445,-0.31827193,-0.37509102,-0.31827193,-0.39674866,-0.33047947,-0.41560712,-0.35378832,-0.36586383,-0.31367642,-0.35378832,-0.35378832,-0.34716147,-0.25663817,-0.35378832,-0.35378832,-0.31827193,-0.38182414,-0.35378832,-0.35378832,-0.36586383,-0.35378832,-0.36586383,-0.35961312,-0.33047947,-0.26752815,-0.25059244,-0.248381,-0.248381,-0.24597499,-0.248381,-0.23469897,-0.23924327,-0.23153552,-0.24597499,-0.22515248,-0.23924327,-0.23795377,-0.23588948,-0.248381,-0.248381,-0.248381,-0.248381,-0.24597499,-0.25059244,-0.23072363,-0.23153552,-0.25212914,-0.248381,-0.23106201,-0.248381,-0.248381,-0.23924327,-0.24597499,-0.259599,-0.23924327,-0.248381,-0.259599,-0.248381,-0.259599,-0.23106201,-0.259599,-0.248381,-0.22015037,-0.248381,-0.22015037,-0.2477199,-0.24557076,-0.23924327,-0.23153552,-0.248381,-0.2426488,-0.248381,-0.248381,-0.23153552,-0.22748119,-0.23924327,-0.23924327,-0.248381,-0.25059244,-0.248381,-0.23153552,-0.23072363,-0.248381,-0.23588948,-0.248381,-0.23924327,-0.248381,-0.259599,-0.23153552,-0.23924327,-0.259599,-0.248381,-0.248381,-0.2451742,-0.259599,-0.2426488,-0.23153552,-0.248381,-0.248381,-0.25059244,-0.24597499,-0.248381,-0.259599,-0.248381,-0.248381,-0.24597499,-0.24557076,-0.24847688,-0.24493948,-0.248381,-0.2471609,-0.2451742,-0.259599,-0.23153552,-0.248381,-0.259599,-0.23106201,-0.2426488,-0.24847688,-0.24597499,-0.259599,-0.25684845,-0.23153552,-0.24597499,-0.248381,-0.25212914,-0.24597499,-0.23924327,-0.24597499,-0.24847688,-0.24493948,-0.248381,-0.248381,-0.248381,-0.24557076,-0.25059244,-0.25684845,-0.259599,-0.248381,-0.248381,-0.248381,-0.2402941,-0.2426488,-0.248381,-0.248381,-0.23153552,-0.248381,-0.248381,-0.259599,-0.2451742,-0.248381,-0.248381,-0.259599,-0.23924327,-0.248381,-0.248381,-0.248381,-0.25059244,-0.248381,-0.23588948,-0.248381,-0.23588948,-0.22015037,-0.2641066,-0.23564897,-0.25008747,-0.23393922,-0.23393922,-0.2722809,-0.25960234,-0.2663875,-0.2638768,-0.2663875,-0.2641066,-0.24386455,-0.23564897,-0.20596652,-0.2663875,-0.2487467,-0.2606598,-0.2663875,-0.2641066,-0.2663875,-0.18178554,-0.2638768,-0.25960234,-0.27265805,-0.2641066,-0.2638768,-0.25960234,-0.25261092,-0.25261092,-0.23564897,-0.24011482,-0.23564897,-0.2663875,-0.27265805,-0.2663875,-0.2638768,-0.2663875,-0.23197582,-0.2722809,-0.22461401,-0.2638768,-0.23564897,-0.23393922,-0.2663875,-0.2663875,-0.20594141,-0.2487467,-0.2638768,-0.25960234,-0.2545428,-0.2545428,-0.20083329,-0.23399444,-0.2663875,-0.2663875,-0.23393922,-0.2663875,-0.20596652,-0.23564897,-0.2638768,-0.2638768,-0.2638768,-0.23564897,-0.19778094,-0.2681575,-0.20596652,-0.2638768,-0.22461401,-0.2638768,-0.23564897,-0.22081605,-0.22081605,-0.19445299,-0.2606598,-0.24011482,-0.2663875,-0.2638768,-0.2638768,-0.2722809,-0.2638768,-0.2638768,-0.2638768,-0.2638768,-0.25664908,-0.2638768,-0.2641066,-0.2638768,-0.2638768,-0.2641066,-0.2638768,-0.2638768,-0.23564897,-0.2638768,-0.25643024,-0.2638768,-0.2663875,-0.27222365,-0.25664908,-0.2663875,-0.27265805,-0.22461401,-0.2663875,-0.2638768,-0.2663875,-0.2663875,-0.2641066,-0.25664908,-0.25960234,-0.2638768,-0.23564897,-0.25664908,-0.2641066,-0.2663875,-0.2638768,-0.2641066,-0.2641066,-0.2638768,-0.2638768,-0.2663875,-0.24857295,-0.21085127,-0.2663875,-0.2722809,-0.2638768,-0.23393922,-0.17819251,-0.23564897,-0.24011482,-0.2638768,-0.2663875,-0.2663875,-0.23393922,-0.2663875,-0.2487467,-0.23564897,-0.2638768,-0.23564897,-0.2606598,-0.22081605,-0.2606598,-0.2663875,-0.2545428],\"x0\":\" \",\"xaxis\":\"x\",\"y\":[\"AMT_CREDIT_SUM_disc_int_[967500.0;1017957917.38]\",\"AMT_CREDIT_SUM_disc_int_[967500.0;1017957917.38]\",\"AMT_CREDIT_SUM_disc_int_[967500.0;1017957917.38]\",\"AMT_CREDIT_SUM_disc_int_[967500.0;1017957917.38]\",\"AMT_CREDIT_SUM_disc_int_[967500.0;1017957917.38]\",\"AMT_CREDIT_SUM_disc_int_[967500.0;1017957917.38]\",\"AMT_CREDIT_SUM_disc_int_[967500.0;1017957917.38]\",\"AMT_CREDIT_SUM_disc_int_[967500.0;1017957917.38]\",\"AMT_CREDIT_SUM_disc_int_[967500.0;1017957917.38]\",\"AMT_CREDIT_SUM_disc_int_[967500.0;1017957917.38]\",\"AMT_CREDIT_SUM_disc_int_[967500.0;1017957917.38]\",\"AMT_CREDIT_SUM_disc_int_[967500.0;1017957917.38]\",\"AMT_CREDIT_SUM_disc_int_[967500.0;1017957917.38]\",\"AMT_CREDIT_SUM_disc_int_[967500.0;1017957917.38]\",\"AMT_CREDIT_SUM_disc_int_[967500.0;1017957917.38]\",\"AMT_CREDIT_SUM_disc_int_[967500.0;1017957917.38]\",\"AMT_CREDIT_SUM_disc_int_[967500.0;1017957917.38]\",\"AMT_CREDIT_SUM_disc_int_[967500.0;1017957917.38]\",\"AMT_CREDIT_SUM_disc_int_[967500.0;1017957917.38]\",\"AMT_CREDIT_SUM_disc_int_[967500.0;1017957917.38]\",\"AMT_CREDIT_SUM_disc_int_[967500.0;1017957917.38]\",\"AMT_CREDIT_SUM_disc_int_[967500.0;1017957917.38]\",\"AMT_CREDIT_SUM_disc_int_[967500.0;1017957917.38]\",\"AMT_CREDIT_SUM_disc_int_[967500.0;1017957917.38]\",\"AMT_CREDIT_SUM_disc_int_[967500.0;1017957917.38]\",\"AMT_CREDIT_SUM_disc_int_[967500.0;1017957917.38]\",\"AMT_CREDIT_SUM_disc_int_[967500.0;1017957917.38]\",\"AMT_CREDIT_SUM_disc_int_[967500.0;1017957917.38]\",\"AMT_CREDIT_SUM_disc_int_[967500.0;1017957917.38]\",\"AMT_CREDIT_SUM_disc_int_[967500.0;1017957917.38]\",\"AMT_CREDIT_SUM_disc_int_[967500.0;1017957917.38]\",\"AMT_CREDIT_SUM_disc_int_[967500.0;1017957917.38]\",\"AMT_CREDIT_SUM_disc_int_[967500.0;1017957917.38]\",\"AMT_CREDIT_SUM_disc_int_[967500.0;1017957917.38]\",\"AMT_CREDIT_SUM_disc_int_[967500.0;1017957917.38]\",\"AMT_CREDIT_SUM_disc_int_[967500.0;1017957917.38]\",\"AMT_CREDIT_SUM_disc_int_[967500.0;1017957917.38]\",\"AMT_CREDIT_SUM_disc_int_[967500.0;1017957917.38]\",\"AMT_CREDIT_SUM_disc_int_[967500.0;1017957917.38]\",\"AMT_CREDIT_SUM_disc_int_[967500.0;1017957917.38]\",\"AMT_CREDIT_SUM_disc_int_[967500.0;1017957917.38]\",\"AMT_CREDIT_SUM_disc_int_[967500.0;1017957917.38]\",\"AMT_CREDIT_SUM_disc_int_[967500.0;1017957917.38]\",\"AMT_CREDIT_SUM_disc_int_[967500.0;1017957917.38]\",\"AMT_CREDIT_SUM_disc_int_[967500.0;1017957917.38]\",\"AMT_CREDIT_SUM_disc_int_[967500.0;1017957917.38]\",\"AMT_CREDIT_SUM_disc_int_[967500.0;1017957917.38]\",\"AMT_CREDIT_SUM_disc_int_[967500.0;1017957917.38]\",\"AMT_CREDIT_SUM_disc_int_[967500.0;1017957917.38]\",\"AMT_CREDIT_SUM_disc_int_[967500.0;1017957917.38]\",\"AMT_CREDIT_SUM_disc_int_[967500.0;1017957917.38]\",\"AMT_CREDIT_SUM_disc_int_[967500.0;1017957917.38]\",\"AMT_CREDIT_SUM_disc_int_[967500.0;1017957917.38]\",\"AMT_CREDIT_SUM_disc_int_[967500.0;1017957917.38]\",\"AMT_CREDIT_SUM_disc_int_[967500.0;1017957917.38]\",\"AMT_CREDIT_SUM_disc_int_[967500.0;1017957917.38]\",\"AMT_CREDIT_SUM_disc_int_[967500.0;1017957917.38]\",\"AMT_CREDIT_SUM_disc_int_[967500.0;1017957917.38]\",\"AMT_CREDIT_SUM_disc_int_[967500.0;1017957917.38]\",\"AMT_CREDIT_SUM_disc_int_[967500.0;1017957917.38]\",\"AMT_CREDIT_SUM_disc_int_[967500.0;1017957917.38]\",\"AMT_CREDIT_SUM_disc_int_[967500.0;1017957917.38]\",\"AMT_CREDIT_SUM_disc_int_[967500.0;1017957917.38]\",\"AMT_CREDIT_SUM_disc_int_[967500.0;1017957917.38]\",\"AMT_CREDIT_SUM_disc_int_[967500.0;1017957917.38]\",\"AMT_CREDIT_SUM_disc_int_[967500.0;1017957917.38]\",\"AMT_CREDIT_SUM_disc_int_[967500.0;1017957917.38]\",\"AMT_CREDIT_SUM_disc_int_[967500.0;1017957917.38]\",\"AMT_CREDIT_SUM_disc_int_[967500.0;1017957917.38]\",\"AMT_CREDIT_SUM_disc_int_[967500.0;1017957917.38]\",\"AMT_CREDIT_SUM_disc_int_[967500.0;1017957917.38]\",\"AMT_CREDIT_SUM_disc_int_[967500.0;1017957917.38]\",\"AMT_CREDIT_SUM_disc_int_[967500.0;1017957917.38]\",\"AMT_CREDIT_SUM_disc_int_[967500.0;1017957917.38]\",\"AMT_CREDIT_SUM_disc_int_[967500.0;1017957917.38]\",\"AMT_CREDIT_SUM_disc_int_[967500.0;1017957917.38]\",\"AMT_CREDIT_SUM_disc_int_[967500.0;1017957917.38]\",\"AMT_CREDIT_SUM_disc_int_[967500.0;1017957917.38]\",\"AMT_CREDIT_SUM_disc_int_[967500.0;1017957917.38]\",\"AMT_CREDIT_SUM_disc_int_[967500.0;1017957917.38]\",\"AMT_CREDIT_SUM_disc_int_[967500.0;1017957917.38]\",\"AMT_CREDIT_SUM_disc_int_[967500.0;1017957917.38]\",\"AMT_CREDIT_SUM_disc_int_[967500.0;1017957917.38]\",\"AMT_CREDIT_SUM_disc_int_[967500.0;1017957917.38]\",\"AMT_CREDIT_SUM_disc_int_[967500.0;1017957917.38]\",\"AMT_CREDIT_SUM_disc_int_[967500.0;1017957917.38]\",\"AMT_CREDIT_SUM_disc_int_[967500.0;1017957917.38]\",\"AMT_CREDIT_SUM_disc_int_[967500.0;1017957917.38]\",\"AMT_CREDIT_SUM_disc_int_[967500.0;1017957917.38]\",\"AMT_CREDIT_SUM_disc_int_[967500.0;1017957917.38]\",\"AMT_CREDIT_SUM_disc_int_[967500.0;1017957917.38]\",\"AMT_CREDIT_SUM_disc_int_[967500.0;1017957917.38]\",\"AMT_CREDIT_SUM_disc_int_[967500.0;1017957917.38]\",\"AMT_CREDIT_SUM_disc_int_[967500.0;1017957917.38]\",\"AMT_CREDIT_SUM_disc_int_[967500.0;1017957917.38]\",\"AMT_CREDIT_SUM_disc_int_[967500.0;1017957917.38]\",\"AMT_CREDIT_SUM_disc_int_[967500.0;1017957917.38]\",\"AMT_CREDIT_SUM_disc_int_[967500.0;1017957917.38]\",\"AMT_CREDIT_SUM_disc_int_[967500.0;1017957917.38]\",\"AMT_CREDIT_SUM_disc_int_[967500.0;1017957917.38]\",\"AMT_CREDIT_SUM_disc_int_[967500.0;1017957917.38]\",\"AMT_CREDIT_SUM_disc_int_[967500.0;1017957917.38]\",\"AMT_CREDIT_SUM_disc_int_[967500.0;1017957917.38]\",\"AMT_CREDIT_SUM_disc_int_[967500.0;1017957917.38]\",\"AMT_CREDIT_SUM_disc_int_[967500.0;1017957917.38]\",\"AMT_CREDIT_SUM_disc_int_[967500.0;1017957917.38]\",\"AMT_CREDIT_SUM_disc_int_[967500.0;1017957917.38]\",\"AMT_CREDIT_SUM_disc_int_[967500.0;1017957917.38]\",\"AMT_CREDIT_SUM_disc_int_[967500.0;1017957917.38]\",\"AMT_CREDIT_SUM_disc_int_[967500.0;1017957917.38]\",\"AMT_CREDIT_SUM_disc_int_[967500.0;1017957917.38]\",\"AMT_CREDIT_SUM_disc_int_[967500.0;1017957917.38]\",\"AMT_CREDIT_SUM_disc_int_[967500.0;1017957917.38]\",\"AMT_CREDIT_SUM_disc_int_[967500.0;1017957917.38]\",\"AMT_CREDIT_SUM_disc_int_[967500.0;1017957917.38]\",\"AMT_CREDIT_SUM_disc_int_[967500.0;1017957917.38]\",\"AMT_CREDIT_SUM_disc_int_[967500.0;1017957917.38]\",\"AMT_CREDIT_SUM_disc_int_[967500.0;1017957917.38]\",\"AMT_CREDIT_SUM_disc_int_[967500.0;1017957917.38]\",\"AMT_CREDIT_SUM_disc_int_[967500.0;1017957917.38]\",\"AMT_CREDIT_SUM_disc_int_[967500.0;1017957917.38]\",\"AMT_CREDIT_SUM_disc_int_[967500.0;1017957917.38]\",\"AMT_CREDIT_SUM_disc_int_[967500.0;1017957917.38]\",\"AMT_CREDIT_SUM_disc_int_[967500.0;1017957917.38]\",\"AMT_CREDIT_SUM_disc_int_[967500.0;1017957917.38]\",\"AMT_CREDIT_SUM_disc_int_[967500.0;1017957917.38]\",\"AMT_CREDIT_SUM_disc_int_[967500.0;1017957917.38]\",\"AMT_CREDIT_SUM_disc_int_[967500.0;1017957917.38]\",\"AMT_CREDIT_SUM_disc_int_[967500.0;1017957917.38]\",\"AMT_CREDIT_SUM_disc_int_[967500.0;1017957917.38]\",\"AMT_CREDIT_SUM_disc_int_[967500.0;1017957917.38]\",\"AMT_CREDIT_SUM_disc_int_[967500.0;1017957917.38]\",\"AMT_CREDIT_SUM_disc_int_[967500.0;1017957917.38]\",\"AMT_CREDIT_SUM_disc_int_[967500.0;1017957917.38]\",\"AMT_CREDIT_SUM_disc_int_[967500.0;1017957917.38]\",\"AMT_CREDIT_SUM_disc_int_[967500.0;1017957917.38]\",\"AMT_CREDIT_SUM_disc_int_[967500.0;1017957917.38]\",\"AMT_CREDIT_SUM_disc_int_[967500.0;1017957917.38]\",\"AMT_CREDIT_SUM_disc_int_[967500.0;1017957917.38]\",\"AMT_CREDIT_SUM_disc_int_[967500.0;1017957917.38]\",\"AMT_CREDIT_SUM_disc_int_[967500.0;1017957917.38]\",\"AMT_CREDIT_SUM_disc_int_[967500.0;1017957917.38]\",\"AMT_CREDIT_SUM_disc_int_[967500.0;1017957917.38]\",\"AMT_CREDIT_SUM_disc_int_[967500.0;1017957917.38]\",\"AMT_CREDIT_SUM_disc_int_[967500.0;1017957917.38]\",\"AMT_CREDIT_SUM_disc_int_[967500.0;1017957917.38]\",\"AMT_CREDIT_SUM_disc_int_[967500.0;1017957917.38]\",\"AMT_CREDIT_SUM_disc_int_[967500.0;1017957917.38]\",\"AMT_CREDIT_SUM_disc_int_[967500.0;1017957917.38]\",\"AMT_CREDIT_SUM_disc_int_[967500.0;1017957917.38]\",\"AMT_CREDIT_SUM_disc_int_[967500.0;1017957917.38]\",\"AMT_CREDIT_SUM_disc_int_[967500.0;1017957917.38]\",\"AMT_CREDIT_SUM_disc_int_[967500.0;1017957917.38]\",\"AMT_CREDIT_SUM_disc_int_[967500.0;1017957917.38]\",\"AMT_CREDIT_SUM_disc_int_[967500.0;1017957917.38]\",\"AMT_CREDIT_SUM_disc_int_[967500.0;1017957917.38]\",\"AMT_CREDIT_SUM_disc_int_[967500.0;1017957917.38]\",\"AMT_CREDIT_SUM_disc_int_[967500.0;1017957917.38]\",\"AMT_CREDIT_SUM_disc_int_[967500.0;1017957917.38]\",\"AMT_CREDIT_SUM_disc_int_[967500.0;1017957917.38]\",\"AMT_CREDIT_SUM_disc_int_[967500.0;1017957917.38]\",\"AMT_CREDIT_SUM_disc_int_[967500.0;1017957917.38]\",\"AMT_CREDIT_SUM_disc_int_[967500.0;1017957917.38]\",\"AMT_CREDIT_SUM_disc_int_[967500.0;1017957917.38]\",\"AMT_CREDIT_SUM_disc_int_[967500.0;1017957917.38]\",\"AMT_CREDIT_SUM_disc_int_[967500.0;1017957917.38]\",\"AMT_CREDIT_SUM_disc_int_[967500.0;1017957917.38]\",\"AMT_CREDIT_SUM_disc_int_[967500.0;1017957917.38]\",\"AMT_CREDIT_SUM_disc_int_[967500.0;1017957917.38]\",\"AMT_CREDIT_SUM_disc_int_[967500.0;1017957917.38]\",\"AMT_CREDIT_SUM_disc_int_[967500.0;1017957917.38]\",\"AMT_CREDIT_SUM_disc_int_[967500.0;1017957917.38]\",\"AMT_CREDIT_SUM_disc_int_[967500.0;1017957917.38]\",\"AMT_CREDIT_SUM_disc_int_[967500.0;1017957917.38]\",\"AMT_CREDIT_SUM_disc_int_[967500.0;1017957917.38]\",\"AMT_CREDIT_SUM_disc_int_[967500.0;1017957917.38]\",\"AMT_CREDIT_SUM_disc_int_[967500.0;1017957917.38]\",\"AMT_CREDIT_SUM_disc_int_[967500.0;1017957917.38]\",\"AMT_CREDIT_SUM_disc_int_[967500.0;1017957917.38]\",\"AMT_CREDIT_SUM_disc_int_[967500.0;1017957917.38]\",\"AMT_CREDIT_SUM_disc_int_[967500.0;1017957917.38]\",\"AMT_CREDIT_SUM_disc_int_[967500.0;1017957917.38]\",\"AMT_CREDIT_SUM_disc_int_[967500.0;1017957917.38]\",\"AMT_CREDIT_SUM_disc_int_[967500.0;1017957917.38]\",\"AMT_CREDIT_SUM_disc_int_[967500.0;1017957917.38]\",\"AMT_CREDIT_SUM_disc_int_[967500.0;1017957917.38]\",\"AMT_CREDIT_SUM_disc_int_[967500.0;1017957917.38]\",\"AMT_CREDIT_SUM_disc_int_[967500.0;1017957917.38]\",\"AMT_CREDIT_SUM_disc_int_[967500.0;1017957917.38]\",\"AMT_CREDIT_SUM_disc_int_[967500.0;1017957917.38]\",\"AMT_CREDIT_SUM_disc_int_[967500.0;1017957917.38]\",\"AMT_CREDIT_SUM_disc_int_[967500.0;1017957917.38]\",\"AMT_CREDIT_SUM_disc_int_[967500.0;1017957917.38]\",\"AMT_CREDIT_SUM_disc_int_[967500.0;1017957917.38]\",\"AMT_CREDIT_SUM_disc_int_[967500.0;1017957917.38]\",\"AMT_CREDIT_SUM_disc_int_[967500.0;1017957917.38]\",\"AMT_CREDIT_SUM_disc_int_[967500.0;1017957917.38]\",\"AMT_CREDIT_SUM_disc_int_[967500.0;1017957917.38]\",\"AMT_CREDIT_SUM_disc_int_[967500.0;1017957917.38]\",\"AMT_CREDIT_SUM_disc_int_[967500.0;1017957917.38]\",\"AMT_CREDIT_SUM_disc_int_[967500.0;1017957917.38]\",\"AMT_CREDIT_SUM_disc_int_[967500.0;1017957917.38]\",\"AMT_CREDIT_SUM_disc_int_[967500.0;1017957917.38]\",\"AMT_CREDIT_SUM_disc_int_[967500.0;1017957917.38]\",\"AMT_CREDIT_SUM_disc_int_[967500.0;1017957917.38]\",\"AMT_CREDIT_SUM_disc_int_[967500.0;1017957917.38]\",\"AMT_CREDIT_SUM_disc_int_[967500.0;1017957917.38]\",\"AMT_CREDIT_SUM_disc_int_[967500.0;1017957917.38]\",\"AMT_CREDIT_SUM_disc_int_[967500.0;1017957917.38]\",\"AMT_CREDIT_SUM_disc_int_[967500.0;1017957917.38]\",\"AMT_CREDIT_SUM_disc_int_[967500.0;1017957917.38]\",\"AMT_CREDIT_SUM_disc_int_[967500.0;1017957917.38]\",\"AMT_CREDIT_SUM_disc_int_[967500.0;1017957917.38]\",\"AMT_CREDIT_SUM_disc_int_[967500.0;1017957917.38]\",\"AMT_CREDIT_SUM_disc_int_[967500.0;1017957917.38]\",\"AMT_CREDIT_SUM_disc_int_[967500.0;1017957917.38]\",\"AMT_CREDIT_SUM_disc_int_[967500.0;1017957917.38]\",\"EXT_SOURCE_2_disc_int_[0.38;0.85]\",\"EXT_SOURCE_2_disc_int_[0.38;0.85]\",\"EXT_SOURCE_2_disc_int_[0.38;0.85]\",\"EXT_SOURCE_2_disc_int_[0.38;0.85]\",\"EXT_SOURCE_2_disc_int_[0.38;0.85]\",\"EXT_SOURCE_2_disc_int_[0.38;0.85]\",\"EXT_SOURCE_2_disc_int_[0.38;0.85]\",\"EXT_SOURCE_2_disc_int_[0.38;0.85]\",\"EXT_SOURCE_2_disc_int_[0.38;0.85]\",\"EXT_SOURCE_2_disc_int_[0.38;0.85]\",\"EXT_SOURCE_2_disc_int_[0.38;0.85]\",\"EXT_SOURCE_2_disc_int_[0.38;0.85]\",\"EXT_SOURCE_2_disc_int_[0.38;0.85]\",\"EXT_SOURCE_2_disc_int_[0.38;0.85]\",\"EXT_SOURCE_2_disc_int_[0.38;0.85]\",\"EXT_SOURCE_2_disc_int_[0.38;0.85]\",\"EXT_SOURCE_2_disc_int_[0.38;0.85]\",\"EXT_SOURCE_2_disc_int_[0.38;0.85]\",\"EXT_SOURCE_2_disc_int_[0.38;0.85]\",\"EXT_SOURCE_2_disc_int_[0.38;0.85]\",\"EXT_SOURCE_2_disc_int_[0.38;0.85]\",\"EXT_SOURCE_2_disc_int_[0.38;0.85]\",\"EXT_SOURCE_2_disc_int_[0.38;0.85]\",\"EXT_SOURCE_2_disc_int_[0.38;0.85]\",\"EXT_SOURCE_2_disc_int_[0.38;0.85]\",\"EXT_SOURCE_2_disc_int_[0.38;0.85]\",\"EXT_SOURCE_2_disc_int_[0.38;0.85]\",\"EXT_SOURCE_2_disc_int_[0.38;0.85]\",\"EXT_SOURCE_2_disc_int_[0.38;0.85]\",\"EXT_SOURCE_2_disc_int_[0.38;0.85]\",\"EXT_SOURCE_2_disc_int_[0.38;0.85]\",\"EXT_SOURCE_2_disc_int_[0.38;0.85]\",\"EXT_SOURCE_2_disc_int_[0.38;0.85]\",\"EXT_SOURCE_2_disc_int_[0.38;0.85]\",\"EXT_SOURCE_2_disc_int_[0.38;0.85]\",\"EXT_SOURCE_2_disc_int_[0.38;0.85]\",\"EXT_SOURCE_2_disc_int_[0.38;0.85]\",\"EXT_SOURCE_2_disc_int_[0.38;0.85]\",\"EXT_SOURCE_2_disc_int_[0.38;0.85]\",\"EXT_SOURCE_2_disc_int_[0.38;0.85]\",\"EXT_SOURCE_2_disc_int_[0.38;0.85]\",\"EXT_SOURCE_2_disc_int_[0.38;0.85]\",\"EXT_SOURCE_2_disc_int_[0.38;0.85]\",\"EXT_SOURCE_2_disc_int_[0.38;0.85]\",\"EXT_SOURCE_2_disc_int_[0.38;0.85]\",\"EXT_SOURCE_2_disc_int_[0.38;0.85]\",\"EXT_SOURCE_2_disc_int_[0.38;0.85]\",\"EXT_SOURCE_2_disc_int_[0.38;0.85]\",\"EXT_SOURCE_2_disc_int_[0.38;0.85]\",\"EXT_SOURCE_2_disc_int_[0.38;0.85]\",\"EXT_SOURCE_2_disc_int_[0.38;0.85]\",\"EXT_SOURCE_2_disc_int_[0.38;0.85]\",\"EXT_SOURCE_2_disc_int_[0.38;0.85]\",\"EXT_SOURCE_2_disc_int_[0.38;0.85]\",\"EXT_SOURCE_2_disc_int_[0.38;0.85]\",\"EXT_SOURCE_2_disc_int_[0.38;0.85]\",\"EXT_SOURCE_2_disc_int_[0.38;0.85]\",\"EXT_SOURCE_2_disc_int_[0.38;0.85]\",\"EXT_SOURCE_2_disc_int_[0.38;0.85]\",\"EXT_SOURCE_2_disc_int_[0.38;0.85]\",\"EXT_SOURCE_2_disc_int_[0.38;0.85]\",\"EXT_SOURCE_2_disc_int_[0.38;0.85]\",\"EXT_SOURCE_2_disc_int_[0.38;0.85]\",\"EXT_SOURCE_2_disc_int_[0.38;0.85]\",\"EXT_SOURCE_2_disc_int_[0.38;0.85]\",\"EXT_SOURCE_2_disc_int_[0.38;0.85]\",\"EXT_SOURCE_2_disc_int_[0.38;0.85]\",\"EXT_SOURCE_2_disc_int_[0.38;0.85]\",\"EXT_SOURCE_2_disc_int_[0.38;0.85]\",\"EXT_SOURCE_2_disc_int_[0.38;0.85]\",\"EXT_SOURCE_2_disc_int_[0.38;0.85]\",\"EXT_SOURCE_2_disc_int_[0.38;0.85]\",\"EXT_SOURCE_2_disc_int_[0.38;0.85]\",\"EXT_SOURCE_2_disc_int_[0.38;0.85]\",\"EXT_SOURCE_2_disc_int_[0.38;0.85]\",\"EXT_SOURCE_2_disc_int_[0.38;0.85]\",\"EXT_SOURCE_2_disc_int_[0.38;0.85]\",\"EXT_SOURCE_2_disc_int_[0.38;0.85]\",\"EXT_SOURCE_2_disc_int_[0.38;0.85]\",\"EXT_SOURCE_2_disc_int_[0.38;0.85]\",\"EXT_SOURCE_2_disc_int_[0.38;0.85]\",\"EXT_SOURCE_2_disc_int_[0.38;0.85]\",\"EXT_SOURCE_2_disc_int_[0.38;0.85]\",\"EXT_SOURCE_2_disc_int_[0.38;0.85]\",\"EXT_SOURCE_2_disc_int_[0.38;0.85]\",\"EXT_SOURCE_2_disc_int_[0.38;0.85]\",\"EXT_SOURCE_2_disc_int_[0.38;0.85]\",\"EXT_SOURCE_2_disc_int_[0.38;0.85]\",\"EXT_SOURCE_2_disc_int_[0.38;0.85]\",\"EXT_SOURCE_2_disc_int_[0.38;0.85]\",\"EXT_SOURCE_2_disc_int_[0.38;0.85]\",\"EXT_SOURCE_2_disc_int_[0.38;0.85]\",\"EXT_SOURCE_2_disc_int_[0.38;0.85]\",\"EXT_SOURCE_2_disc_int_[0.38;0.85]\",\"EXT_SOURCE_2_disc_int_[0.38;0.85]\",\"EXT_SOURCE_2_disc_int_[0.38;0.85]\",\"EXT_SOURCE_2_disc_int_[0.38;0.85]\",\"EXT_SOURCE_2_disc_int_[0.38;0.85]\",\"EXT_SOURCE_2_disc_int_[0.38;0.85]\",\"EXT_SOURCE_2_disc_int_[0.38;0.85]\",\"EXT_SOURCE_2_disc_int_[0.38;0.85]\",\"EXT_SOURCE_2_disc_int_[0.38;0.85]\",\"EXT_SOURCE_2_disc_int_[0.38;0.85]\",\"EXT_SOURCE_2_disc_int_[0.38;0.85]\",\"EXT_SOURCE_2_disc_int_[0.38;0.85]\",\"EXT_SOURCE_2_disc_int_[0.38;0.85]\",\"EXT_SOURCE_2_disc_int_[0.38;0.85]\",\"EXT_SOURCE_2_disc_int_[0.38;0.85]\",\"EXT_SOURCE_2_disc_int_[0.38;0.85]\",\"EXT_SOURCE_2_disc_int_[0.38;0.85]\",\"EXT_SOURCE_2_disc_int_[0.38;0.85]\",\"EXT_SOURCE_2_disc_int_[0.38;0.85]\",\"EXT_SOURCE_2_disc_int_[0.38;0.85]\",\"EXT_SOURCE_2_disc_int_[0.38;0.85]\",\"EXT_SOURCE_2_disc_int_[0.38;0.85]\",\"EXT_SOURCE_2_disc_int_[0.38;0.85]\",\"EXT_SOURCE_2_disc_int_[0.38;0.85]\",\"EXT_SOURCE_2_disc_int_[0.38;0.85]\",\"EXT_SOURCE_2_disc_int_[0.38;0.85]\",\"EXT_SOURCE_2_disc_int_[0.38;0.85]\",\"EXT_SOURCE_2_disc_int_[0.38;0.85]\",\"EXT_SOURCE_2_disc_int_[0.38;0.85]\",\"EXT_SOURCE_2_disc_int_[0.38;0.85]\",\"EXT_SOURCE_2_disc_int_[0.38;0.85]\",\"EXT_SOURCE_2_disc_int_[0.38;0.85]\",\"EXT_SOURCE_2_disc_int_[0.38;0.85]\",\"EXT_SOURCE_2_disc_int_[0.38;0.85]\",\"EXT_SOURCE_2_disc_int_[0.38;0.85]\",\"EXT_SOURCE_2_disc_int_[0.38;0.85]\",\"EXT_SOURCE_2_disc_int_[0.38;0.85]\",\"EXT_SOURCE_2_disc_int_[0.38;0.85]\",\"EXT_SOURCE_2_disc_int_[0.38;0.85]\",\"EXT_SOURCE_2_disc_int_[0.38;0.85]\",\"EXT_SOURCE_2_disc_int_[0.38;0.85]\",\"EXT_SOURCE_2_disc_int_[0.38;0.85]\",\"EXT_SOURCE_2_disc_int_[0.38;0.85]\",\"EXT_SOURCE_2_disc_int_[0.38;0.85]\",\"EXT_SOURCE_2_disc_int_[0.38;0.85]\",\"EXT_SOURCE_2_disc_int_[0.38;0.85]\",\"EXT_SOURCE_2_disc_int_[0.38;0.85]\",\"EXT_SOURCE_2_disc_int_[0.38;0.85]\",\"EXT_SOURCE_2_disc_int_[0.38;0.85]\",\"EXT_SOURCE_2_disc_int_[0.38;0.85]\",\"EXT_SOURCE_2_disc_int_[0.38;0.85]\",\"EXT_SOURCE_2_disc_int_[0.38;0.85]\",\"EXT_SOURCE_2_disc_int_[0.38;0.85]\",\"EXT_SOURCE_2_disc_int_[0.38;0.85]\",\"EXT_SOURCE_2_disc_int_[0.38;0.85]\",\"EXT_SOURCE_2_disc_int_[0.38;0.85]\",\"EXT_SOURCE_2_disc_int_[0.38;0.85]\",\"EXT_SOURCE_2_disc_int_[0.38;0.85]\",\"EXT_SOURCE_2_disc_int_[0.38;0.85]\",\"EXT_SOURCE_2_disc_int_[0.38;0.85]\",\"EXT_SOURCE_2_disc_int_[0.38;0.85]\",\"EXT_SOURCE_2_disc_int_[0.38;0.85]\",\"EXT_SOURCE_2_disc_int_[0.38;0.85]\",\"EXT_SOURCE_2_disc_int_[0.38;0.85]\",\"EXT_SOURCE_2_disc_int_[0.38;0.85]\",\"EXT_SOURCE_2_disc_int_[0.38;0.85]\",\"EXT_SOURCE_2_disc_int_[0.38;0.85]\",\"EXT_SOURCE_2_disc_int_[0.38;0.85]\",\"EXT_SOURCE_2_disc_int_[0.38;0.85]\",\"EXT_SOURCE_2_disc_int_[0.38;0.85]\",\"EXT_SOURCE_2_disc_int_[0.38;0.85]\",\"EXT_SOURCE_2_disc_int_[0.38;0.85]\",\"EXT_SOURCE_2_disc_int_[0.38;0.85]\",\"EXT_SOURCE_2_disc_int_[0.38;0.85]\",\"EXT_SOURCE_2_disc_int_[0.38;0.85]\",\"EXT_SOURCE_2_disc_int_[0.38;0.85]\",\"EXT_SOURCE_2_disc_int_[0.38;0.85]\",\"EXT_SOURCE_2_disc_int_[0.38;0.85]\",\"EXT_SOURCE_2_disc_int_[0.38;0.85]\",\"EXT_SOURCE_2_disc_int_[0.38;0.85]\",\"EXT_SOURCE_2_disc_int_[0.38;0.85]\",\"EXT_SOURCE_2_disc_int_[0.38;0.85]\",\"EXT_SOURCE_2_disc_int_[0.38;0.85]\",\"EXT_SOURCE_2_disc_int_[0.38;0.85]\",\"EXT_SOURCE_2_disc_int_[0.38;0.85]\",\"EXT_SOURCE_2_disc_int_[0.38;0.85]\",\"EXT_SOURCE_2_disc_int_[0.38;0.85]\",\"EXT_SOURCE_2_disc_int_[0.38;0.85]\",\"EXT_SOURCE_2_disc_int_[0.38;0.85]\",\"EXT_SOURCE_2_disc_int_[0.38;0.85]\",\"EXT_SOURCE_2_disc_int_[0.38;0.85]\",\"EXT_SOURCE_2_disc_int_[0.38;0.85]\",\"EXT_SOURCE_2_disc_int_[0.38;0.85]\",\"EXT_SOURCE_2_disc_int_[0.38;0.85]\",\"EXT_SOURCE_2_disc_int_[0.38;0.85]\",\"EXT_SOURCE_2_disc_int_[0.38;0.85]\",\"EXT_SOURCE_2_disc_int_[0.38;0.85]\",\"EXT_SOURCE_2_disc_int_[0.38;0.85]\",\"EXT_SOURCE_2_disc_int_[0.38;0.85]\",\"EXT_SOURCE_2_disc_int_[0.38;0.85]\",\"EXT_SOURCE_2_disc_int_[0.38;0.85]\",\"EXT_SOURCE_2_disc_int_[0.38;0.85]\",\"EXT_SOURCE_2_disc_int_[0.38;0.85]\",\"EXT_SOURCE_2_disc_int_[0.38;0.85]\",\"EXT_SOURCE_2_disc_int_[0.38;0.85]\",\"EXT_SOURCE_2_disc_int_[0.38;0.85]\",\"EXT_SOURCE_2_disc_int_[0.38;0.85]\",\"EXT_SOURCE_2_disc_int_[0.38;0.85]\",\"EXT_SOURCE_2_disc_int_[0.38;0.85]\",\"EXT_SOURCE_2_disc_int_[0.38;0.85]\",\"EXT_SOURCE_2_disc_int_[0.38;0.85]\",\"EXT_SOURCE_2_disc_int_[0.38;0.85]\",\"EXT_SOURCE_2_disc_int_[0.38;0.85]\",\"EXT_SOURCE_2_disc_int_[0.38;0.85]\",\"EXT_SOURCE_2_disc_int_[0.38;0.85]\",\"EXT_SOURCE_2_disc_int_[0.38;0.85]\",\"EXT_SOURCE_2_disc_int_[0.38;0.85]\",\"EXT_SOURCE_2_disc_int_[0.38;0.85]\",\"EXT_SOURCE_2_disc_int_[0.38;0.85]\",\"EXT_SOURCE_2_disc_int_[0.38;0.85]\",\"EXT_SOURCE_2_disc_int_[0.38;0.85]\",\"EXT_SOURCE_2_disc_int_[0.38;0.85]\",\"EXT_SOURCE_2_disc_int_[0.38;0.85]\",\"EXT_SOURCE_2_disc_int_[0.38;0.85]\",\"EXT_SOURCE_2_disc_int_[0.38;0.85]\",\"EXT_SOURCE_2_disc_int_[0.38;0.85]\",\"EXT_SOURCE_2_disc_int_[0.38;0.85]\",\"EXT_SOURCE_2_disc_int_[0.38;0.85]\",\"EXT_SOURCE_2_disc_int_[0.38;0.85]\",\"EXT_SOURCE_2_disc_int_[0.38;0.85]\",\"EXT_SOURCE_2_disc_int_[0.38;0.85]\",\"EXT_SOURCE_2_disc_int_[0.38;0.85]\",\"EXT_SOURCE_2_disc_int_[0.38;0.85]\",\"EXT_SOURCE_2_disc_int_[0.38;0.85]\",\"EXT_SOURCE_2_disc_int_[0.38;0.85]\",\"EXT_SOURCE_2_disc_int_[0.38;0.85]\",\"EXT_SOURCE_2_disc_int_[0.38;0.85]\",\"EXT_SOURCE_2_disc_int_[0.38;0.85]\",\"EXT_SOURCE_2_disc_int_[0.38;0.85]\",\"EXT_SOURCE_2_disc_int_[0.38;0.85]\",\"EXT_SOURCE_2_disc_int_[0.38;0.85]\",\"EXT_SOURCE_2_disc_int_[0.38;0.85]\",\"EXT_SOURCE_2_disc_int_[0.38;0.85]\",\"EXT_SOURCE_2_disc_int_[0.38;0.85]\",\"EXT_SOURCE_2_disc_int_[0.38;0.85]\",\"EXT_SOURCE_2_disc_int_[0.38;0.85]\",\"EXT_SOURCE_2_disc_int_[0.38;0.85]\",\"EXT_SOURCE_2_disc_int_[0.38;0.85]\",\"EXT_SOURCE_2_disc_int_[0.38;0.85]\",\"EXT_SOURCE_2_disc_int_[0.38;0.85]\",\"EXT_SOURCE_2_disc_int_[0.38;0.85]\",\"EXT_SOURCE_2_disc_int_[0.38;0.85]\",\"EXT_SOURCE_2_disc_int_[0.38;0.85]\",\"EXT_SOURCE_2_disc_int_[0.38;0.85]\",\"EXT_SOURCE_2_disc_int_[0.38;0.85]\",\"EXT_SOURCE_2_disc_int_[0.38;0.85]\",\"EXT_SOURCE_2_disc_int_[0.38;0.85]\",\"EXT_SOURCE_2_disc_int_[0.38;0.85]\",\"EXT_SOURCE_2_disc_int_[0.38;0.85]\",\"EXT_SOURCE_2_disc_int_[0.38;0.85]\",\"EXT_SOURCE_2_disc_int_[0.38;0.85]\",\"EXT_SOURCE_2_disc_int_[0.38;0.85]\",\"EXT_SOURCE_2_disc_int_[0.38;0.85]\",\"EXT_SOURCE_2_disc_int_[0.38;0.85]\",\"EXT_SOURCE_2_disc_int_[0.38;0.85]\",\"EXT_SOURCE_2_disc_int_[0.38;0.85]\",\"EXT_SOURCE_2_disc_int_[0.38;0.85]\",\"EXT_SOURCE_2_disc_int_[0.38;0.85]\",\"EXT_SOURCE_2_disc_int_[0.38;0.85]\",\"EXT_SOURCE_2_disc_int_[0.38;0.85]\",\"EXT_SOURCE_2_disc_int_[0.38;0.85]\",\"EXT_SOURCE_2_disc_int_[0.38;0.85]\",\"EXT_SOURCE_2_disc_int_[0.38;0.85]\",\"EXT_SOURCE_2_disc_int_[0.38;0.85]\",\"EXT_SOURCE_2_disc_int_[0.38;0.85]\",\"EXT_SOURCE_2_disc_int_[0.38;0.85]\",\"EXT_SOURCE_2_disc_int_[0.38;0.85]\",\"EXT_SOURCE_2_disc_int_[0.38;0.85]\",\"EXT_SOURCE_2_disc_int_[0.38;0.85]\",\"EXT_SOURCE_2_disc_int_[0.38;0.85]\",\"EXT_SOURCE_2_disc_int_[0.38;0.85]\",\"EXT_SOURCE_2_disc_int_[0.38;0.85]\",\"EXT_SOURCE_2_disc_int_[0.38;0.85]\",\"EXT_SOURCE_2_disc_int_[0.38;0.85]\",\"EXT_SOURCE_2_disc_int_[0.38;0.85]\",\"EXT_SOURCE_2_disc_int_[0.38;0.85]\",\"EXT_SOURCE_2_disc_int_[0.38;0.85]\",\"EXT_SOURCE_2_disc_int_[0.38;0.85]\",\"EXT_SOURCE_2_disc_int_[0.38;0.85]\",\"EXT_SOURCE_2_disc_int_[0.38;0.85]\",\"EXT_SOURCE_2_disc_int_[0.38;0.85]\",\"EXT_SOURCE_2_disc_int_[0.38;0.85]\",\"EXT_SOURCE_2_disc_int_[0.38;0.85]\",\"EXT_SOURCE_2_disc_int_[0.38;0.85]\",\"EXT_SOURCE_2_disc_int_[0.38;0.85]\",\"EXT_SOURCE_2_disc_int_[0.38;0.85]\",\"EXT_SOURCE_2_disc_int_[0.38;0.85]\",\"EXT_SOURCE_2_disc_int_[0.38;0.85]\",\"EXT_SOURCE_2_disc_int_[0.38;0.85]\",\"EXT_SOURCE_2_disc_int_[0.38;0.85]\",\"EXT_SOURCE_2_disc_int_[0.38;0.85]\",\"EXT_SOURCE_2_disc_int_[0.38;0.85]\",\"EXT_SOURCE_2_disc_int_[0.38;0.85]\",\"EXT_SOURCE_2_disc_int_[0.38;0.85]\",\"EXT_SOURCE_2_disc_int_[0.38;0.85]\",\"EXT_SOURCE_2_disc_int_[0.38;0.85]\",\"EXT_SOURCE_2_disc_int_[0.38;0.85]\",\"EXT_SOURCE_2_disc_int_[0.38;0.85]\",\"EXT_SOURCE_2_disc_int_[0.38;0.85]\",\"EXT_SOURCE_2_disc_int_[0.38;0.85]\",\"EXT_SOURCE_2_disc_int_[0.38;0.85]\",\"EXT_SOURCE_2_disc_int_[0.38;0.85]\",\"EXT_SOURCE_2_disc_int_[0.38;0.85]\",\"EXT_SOURCE_2_disc_int_[0.38;0.85]\",\"EXT_SOURCE_2_disc_int_[0.38;0.85]\",\"EXT_SOURCE_2_disc_int_[0.38;0.85]\",\"EXT_SOURCE_2_disc_int_[0.38;0.85]\",\"EXT_SOURCE_2_disc_int_[0.38;0.85]\",\"EXT_SOURCE_2_disc_int_[0.38;0.85]\",\"EXT_SOURCE_2_disc_int_[0.38;0.85]\",\"EXT_SOURCE_2_disc_int_[0.38;0.85]\",\"EXT_SOURCE_2_disc_int_[0.38;0.85]\",\"EXT_SOURCE_2_disc_int_[0.38;0.85]\",\"EXT_SOURCE_2_disc_int_[0.38;0.85]\",\"EXT_SOURCE_2_disc_int_[0.38;0.85]\",\"EXT_SOURCE_2_disc_int_[0.38;0.85]\",\"EXT_SOURCE_2_disc_int_[0.38;0.85]\",\"EXT_SOURCE_2_disc_int_[0.38;0.85]\",\"EXT_SOURCE_2_disc_int_[0.38;0.85]\",\"EXT_SOURCE_2_disc_int_[0.38;0.85]\",\"EXT_SOURCE_2_disc_int_[0.38;0.85]\",\"EXT_SOURCE_2_disc_int_[0.38;0.85]\",\"EXT_SOURCE_2_disc_int_[0.38;0.85]\",\"EXT_SOURCE_2_disc_int_[0.38;0.85]\",\"EXT_SOURCE_2_disc_int_[0.38;0.85]\",\"EXT_SOURCE_2_disc_int_[0.38;0.85]\",\"EXT_SOURCE_2_disc_int_[0.38;0.85]\",\"EXT_SOURCE_2_disc_int_[0.38;0.85]\",\"EXT_SOURCE_2_disc_int_[0.38;0.85]\",\"EXT_SOURCE_2_disc_int_[0.38;0.85]\",\"EXT_SOURCE_2_disc_int_[0.38;0.85]\",\"EXT_SOURCE_2_disc_int_[0.38;0.85]\",\"EXT_SOURCE_2_disc_int_[0.38;0.85]\",\"EXT_SOURCE_2_disc_int_[0.38;0.85]\",\"EXT_SOURCE_2_disc_int_[0.38;0.85]\",\"EXT_SOURCE_2_disc_int_[0.38;0.85]\",\"EXT_SOURCE_2_disc_int_[0.38;0.85]\",\"EXT_SOURCE_2_disc_int_[0.38;0.85]\",\"EXT_SOURCE_2_disc_int_[0.38;0.85]\",\"EXT_SOURCE_2_disc_int_[0.38;0.85]\",\"EXT_SOURCE_2_disc_int_[0.38;0.85]\",\"EXT_SOURCE_2_disc_int_[0.38;0.85]\",\"EXT_SOURCE_2_disc_int_[0.38;0.85]\",\"EXT_SOURCE_2_disc_int_[0.38;0.85]\",\"EXT_SOURCE_2_disc_int_[0.38;0.85]\",\"EXT_SOURCE_2_disc_int_[0.38;0.85]\",\"EXT_SOURCE_2_disc_int_[0.38;0.85]\",\"EXT_SOURCE_2_disc_int_[0.38;0.85]\",\"EXT_SOURCE_2_disc_int_[0.38;0.85]\",\"EXT_SOURCE_2_disc_int_[0.38;0.85]\",\"EXT_SOURCE_2_disc_int_[0.38;0.85]\",\"EXT_SOURCE_2_disc_int_[0.38;0.85]\",\"EXT_SOURCE_2_disc_int_[0.38;0.85]\",\"EXT_SOURCE_2_disc_int_[0.38;0.85]\",\"EXT_SOURCE_2_disc_int_[0.38;0.85]\",\"EXT_SOURCE_2_disc_int_[0.38;0.85]\",\"EXT_SOURCE_2_disc_int_[0.38;0.85]\",\"EXT_SOURCE_2_disc_int_[0.38;0.85]\",\"EXT_SOURCE_2_disc_int_[0.38;0.85]\",\"EXT_SOURCE_2_disc_int_[0.38;0.85]\",\"EXT_SOURCE_2_disc_int_[0.38;0.85]\",\"EXT_SOURCE_2_disc_int_[0.38;0.85]\",\"EXT_SOURCE_2_disc_int_[0.38;0.85]\",\"EXT_SOURCE_2_disc_int_[0.38;0.85]\",\"EXT_SOURCE_2_disc_int_[0.38;0.85]\",\"EXT_SOURCE_2_disc_int_[0.38;0.85]\",\"EXT_SOURCE_2_disc_int_[0.38;0.85]\",\"EXT_SOURCE_2_disc_int_[0.38;0.85]\",\"EXT_SOURCE_2_disc_int_[0.38;0.85]\",\"EXT_SOURCE_2_disc_int_[0.38;0.85]\",\"EXT_SOURCE_2_disc_int_[0.38;0.85]\",\"EXT_SOURCE_2_disc_int_[0.38;0.85]\",\"EXT_SOURCE_1_disc_int_[0.26;0.96]\",\"EXT_SOURCE_1_disc_int_[0.26;0.96]\",\"EXT_SOURCE_1_disc_int_[0.26;0.96]\",\"EXT_SOURCE_1_disc_int_[0.26;0.96]\",\"EXT_SOURCE_1_disc_int_[0.26;0.96]\",\"EXT_SOURCE_1_disc_int_[0.26;0.96]\",\"EXT_SOURCE_1_disc_int_[0.26;0.96]\",\"EXT_SOURCE_1_disc_int_[0.26;0.96]\",\"EXT_SOURCE_1_disc_int_[0.26;0.96]\",\"EXT_SOURCE_1_disc_int_[0.26;0.96]\",\"EXT_SOURCE_1_disc_int_[0.26;0.96]\",\"EXT_SOURCE_1_disc_int_[0.26;0.96]\",\"EXT_SOURCE_1_disc_int_[0.26;0.96]\",\"EXT_SOURCE_1_disc_int_[0.26;0.96]\",\"EXT_SOURCE_1_disc_int_[0.26;0.96]\",\"EXT_SOURCE_1_disc_int_[0.26;0.96]\",\"EXT_SOURCE_1_disc_int_[0.26;0.96]\",\"EXT_SOURCE_1_disc_int_[0.26;0.96]\",\"EXT_SOURCE_1_disc_int_[0.26;0.96]\",\"EXT_SOURCE_1_disc_int_[0.26;0.96]\",\"EXT_SOURCE_1_disc_int_[0.26;0.96]\",\"EXT_SOURCE_1_disc_int_[0.26;0.96]\",\"EXT_SOURCE_1_disc_int_[0.26;0.96]\",\"EXT_SOURCE_1_disc_int_[0.26;0.96]\",\"EXT_SOURCE_1_disc_int_[0.26;0.96]\",\"EXT_SOURCE_1_disc_int_[0.26;0.96]\",\"EXT_SOURCE_1_disc_int_[0.26;0.96]\",\"EXT_SOURCE_1_disc_int_[0.26;0.96]\",\"EXT_SOURCE_1_disc_int_[0.26;0.96]\",\"EXT_SOURCE_1_disc_int_[0.26;0.96]\",\"EXT_SOURCE_1_disc_int_[0.26;0.96]\",\"EXT_SOURCE_1_disc_int_[0.26;0.96]\",\"EXT_SOURCE_1_disc_int_[0.26;0.96]\",\"EXT_SOURCE_1_disc_int_[0.26;0.96]\",\"EXT_SOURCE_1_disc_int_[0.26;0.96]\",\"EXT_SOURCE_1_disc_int_[0.26;0.96]\",\"EXT_SOURCE_1_disc_int_[0.26;0.96]\",\"EXT_SOURCE_1_disc_int_[0.26;0.96]\",\"EXT_SOURCE_1_disc_int_[0.26;0.96]\",\"EXT_SOURCE_1_disc_int_[0.26;0.96]\",\"EXT_SOURCE_1_disc_int_[0.26;0.96]\",\"EXT_SOURCE_1_disc_int_[0.26;0.96]\",\"EXT_SOURCE_1_disc_int_[0.26;0.96]\",\"EXT_SOURCE_1_disc_int_[0.26;0.96]\",\"EXT_SOURCE_1_disc_int_[0.26;0.96]\",\"EXT_SOURCE_1_disc_int_[0.26;0.96]\",\"EXT_SOURCE_1_disc_int_[0.26;0.96]\",\"EXT_SOURCE_1_disc_int_[0.26;0.96]\",\"EXT_SOURCE_1_disc_int_[0.26;0.96]\",\"EXT_SOURCE_1_disc_int_[0.26;0.96]\",\"EXT_SOURCE_1_disc_int_[0.26;0.96]\",\"EXT_SOURCE_1_disc_int_[0.26;0.96]\",\"EXT_SOURCE_1_disc_int_[0.26;0.96]\",\"EXT_SOURCE_1_disc_int_[0.26;0.96]\",\"EXT_SOURCE_1_disc_int_[0.26;0.96]\",\"EXT_SOURCE_1_disc_int_[0.26;0.96]\",\"EXT_SOURCE_1_disc_int_[0.26;0.96]\",\"EXT_SOURCE_1_disc_int_[0.26;0.96]\",\"EXT_SOURCE_1_disc_int_[0.26;0.96]\",\"EXT_SOURCE_1_disc_int_[0.26;0.96]\",\"EXT_SOURCE_1_disc_int_[0.26;0.96]\",\"EXT_SOURCE_1_disc_int_[0.26;0.96]\",\"EXT_SOURCE_1_disc_int_[0.26;0.96]\",\"EXT_SOURCE_1_disc_int_[0.26;0.96]\",\"EXT_SOURCE_1_disc_int_[0.26;0.96]\",\"EXT_SOURCE_1_disc_int_[0.26;0.96]\",\"EXT_SOURCE_1_disc_int_[0.26;0.96]\",\"EXT_SOURCE_1_disc_int_[0.26;0.96]\",\"EXT_SOURCE_1_disc_int_[0.26;0.96]\",\"EXT_SOURCE_1_disc_int_[0.26;0.96]\",\"EXT_SOURCE_1_disc_int_[0.26;0.96]\",\"EXT_SOURCE_1_disc_int_[0.26;0.96]\",\"EXT_SOURCE_1_disc_int_[0.26;0.96]\",\"EXT_SOURCE_1_disc_int_[0.26;0.96]\",\"EXT_SOURCE_1_disc_int_[0.26;0.96]\",\"EXT_SOURCE_1_disc_int_[0.26;0.96]\",\"EXT_SOURCE_1_disc_int_[0.26;0.96]\",\"EXT_SOURCE_1_disc_int_[0.26;0.96]\",\"EXT_SOURCE_1_disc_int_[0.26;0.96]\",\"EXT_SOURCE_1_disc_int_[0.26;0.96]\",\"EXT_SOURCE_1_disc_int_[0.26;0.96]\",\"EXT_SOURCE_1_disc_int_[0.26;0.96]\",\"EXT_SOURCE_1_disc_int_[0.26;0.96]\",\"EXT_SOURCE_1_disc_int_[0.26;0.96]\",\"EXT_SOURCE_1_disc_int_[0.26;0.96]\",\"EXT_SOURCE_1_disc_int_[0.26;0.96]\",\"EXT_SOURCE_1_disc_int_[0.26;0.96]\",\"EXT_SOURCE_1_disc_int_[0.26;0.96]\",\"EXT_SOURCE_1_disc_int_[0.26;0.96]\",\"EXT_SOURCE_1_disc_int_[0.26;0.96]\",\"EXT_SOURCE_1_disc_int_[0.26;0.96]\",\"EXT_SOURCE_1_disc_int_[0.26;0.96]\",\"EXT_SOURCE_1_disc_int_[0.26;0.96]\",\"EXT_SOURCE_1_disc_int_[0.26;0.96]\",\"EXT_SOURCE_1_disc_int_[0.26;0.96]\",\"EXT_SOURCE_1_disc_int_[0.26;0.96]\",\"EXT_SOURCE_1_disc_int_[0.26;0.96]\",\"EXT_SOURCE_1_disc_int_[0.26;0.96]\",\"EXT_SOURCE_1_disc_int_[0.26;0.96]\",\"EXT_SOURCE_1_disc_int_[0.26;0.96]\",\"EXT_SOURCE_1_disc_int_[0.26;0.96]\",\"EXT_SOURCE_1_disc_int_[0.26;0.96]\",\"EXT_SOURCE_1_disc_int_[0.26;0.96]\",\"EXT_SOURCE_1_disc_int_[0.26;0.96]\",\"EXT_SOURCE_1_disc_int_[0.26;0.96]\",\"EXT_SOURCE_1_disc_int_[0.26;0.96]\",\"EXT_SOURCE_1_disc_int_[0.26;0.96]\",\"EXT_SOURCE_1_disc_int_[0.26;0.96]\",\"EXT_SOURCE_1_disc_int_[0.26;0.96]\",\"EXT_SOURCE_1_disc_int_[0.26;0.96]\",\"EXT_SOURCE_1_disc_int_[0.26;0.96]\",\"EXT_SOURCE_1_disc_int_[0.26;0.96]\",\"EXT_SOURCE_1_disc_int_[0.26;0.96]\",\"EXT_SOURCE_1_disc_int_[0.26;0.96]\",\"EXT_SOURCE_1_disc_int_[0.26;0.96]\",\"EXT_SOURCE_1_disc_int_[0.26;0.96]\",\"EXT_SOURCE_1_disc_int_[0.26;0.96]\",\"EXT_SOURCE_1_disc_int_[0.26;0.96]\",\"EXT_SOURCE_1_disc_int_[0.26;0.96]\",\"EXT_SOURCE_1_disc_int_[0.26;0.96]\",\"EXT_SOURCE_1_disc_int_[0.26;0.96]\",\"EXT_SOURCE_1_disc_int_[0.26;0.96]\",\"EXT_SOURCE_1_disc_int_[0.26;0.96]\",\"EXT_SOURCE_1_disc_int_[0.26;0.96]\",\"EXT_SOURCE_1_disc_int_[0.26;0.96]\",\"EXT_SOURCE_1_disc_int_[0.26;0.96]\",\"EXT_SOURCE_1_disc_int_[0.26;0.96]\",\"EXT_SOURCE_1_disc_int_[0.26;0.96]\",\"EXT_SOURCE_1_disc_int_[0.26;0.96]\",\"EXT_SOURCE_1_disc_int_[0.26;0.96]\",\"EXT_SOURCE_1_disc_int_[0.26;0.96]\",\"EXT_SOURCE_1_disc_int_[0.26;0.96]\",\"EXT_SOURCE_1_disc_int_[0.26;0.96]\",\"EXT_SOURCE_1_disc_int_[0.26;0.96]\",\"EXT_SOURCE_1_disc_int_[0.26;0.96]\",\"EXT_SOURCE_1_disc_int_[0.26;0.96]\",\"EXT_SOURCE_1_disc_int_[0.26;0.96]\",\"EXT_SOURCE_1_disc_int_[0.26;0.96]\",\"EXT_SOURCE_1_disc_int_[0.26;0.96]\",\"EXT_SOURCE_1_disc_int_[0.26;0.96]\",\"EXT_SOURCE_1_disc_int_[0.26;0.96]\",\"EXT_SOURCE_1_disc_int_[0.26;0.96]\",\"EXT_SOURCE_1_disc_int_[0.26;0.96]\",\"EXT_SOURCE_1_disc_int_[0.26;0.96]\",\"EXT_SOURCE_1_disc_int_[0.26;0.96]\",\"EXT_SOURCE_1_disc_int_[0.26;0.96]\",\"EXT_SOURCE_1_disc_int_[0.26;0.96]\",\"EXT_SOURCE_1_disc_int_[0.26;0.96]\",\"EXT_SOURCE_1_disc_int_[0.26;0.96]\",\"EXT_SOURCE_1_disc_int_[0.26;0.96]\",\"EXT_SOURCE_1_disc_int_[0.26;0.96]\",\"EXT_SOURCE_1_disc_int_[0.26;0.96]\",\"EXT_SOURCE_1_disc_int_[0.26;0.96]\",\"EXT_SOURCE_1_disc_int_[0.26;0.96]\",\"EXT_SOURCE_1_disc_int_[0.26;0.96]\",\"EXT_SOURCE_1_disc_int_[0.26;0.96]\",\"EXT_SOURCE_1_disc_int_[0.26;0.96]\",\"EXT_SOURCE_1_disc_int_[0.26;0.96]\",\"EXT_SOURCE_1_disc_int_[0.26;0.96]\",\"EXT_SOURCE_1_disc_int_[0.26;0.96]\",\"EXT_SOURCE_1_disc_int_[0.26;0.96]\",\"EXT_SOURCE_1_disc_int_[0.26;0.96]\",\"EXT_SOURCE_1_disc_int_[0.26;0.96]\",\"EXT_SOURCE_1_disc_int_[0.26;0.96]\",\"EXT_SOURCE_1_disc_int_[0.26;0.96]\",\"EXT_SOURCE_1_disc_int_[0.26;0.96]\",\"EXT_SOURCE_1_disc_int_[0.26;0.96]\",\"EXT_SOURCE_1_disc_int_[0.26;0.96]\",\"EXT_SOURCE_1_disc_int_[0.26;0.96]\",\"EXT_SOURCE_1_disc_int_[0.26;0.96]\",\"EXT_SOURCE_1_disc_int_[0.26;0.96]\",\"EXT_SOURCE_1_disc_int_[0.26;0.96]\",\"EXT_SOURCE_1_disc_int_[0.26;0.96]\",\"EXT_SOURCE_1_disc_int_[0.26;0.96]\",\"EXT_SOURCE_1_disc_int_[0.26;0.96]\",\"EXT_SOURCE_1_disc_int_[0.26;0.96]\",\"EXT_SOURCE_1_disc_int_[0.26;0.96]\",\"EXT_SOURCE_1_disc_int_[0.26;0.96]\",\"EXT_SOURCE_1_disc_int_[0.26;0.96]\",\"EXT_SOURCE_1_disc_int_[0.26;0.96]\",\"EXT_SOURCE_1_disc_int_[0.26;0.96]\",\"EXT_SOURCE_1_disc_int_[0.26;0.96]\",\"EXT_SOURCE_1_disc_int_[0.26;0.96]\",\"EXT_SOURCE_1_disc_int_[0.26;0.96]\",\"EXT_SOURCE_1_disc_int_[0.26;0.96]\",\"EXT_SOURCE_1_disc_int_[0.26;0.96]\",\"EXT_SOURCE_1_disc_int_[0.26;0.96]\",\"EXT_SOURCE_1_disc_int_[0.26;0.96]\",\"EXT_SOURCE_1_disc_int_[0.26;0.96]\",\"EXT_SOURCE_1_disc_int_[0.26;0.96]\",\"EXT_SOURCE_1_disc_int_[0.26;0.96]\",\"EXT_SOURCE_1_disc_int_[0.26;0.96]\",\"EXT_SOURCE_1_disc_int_[0.26;0.96]\",\"EXT_SOURCE_1_disc_int_[0.26;0.96]\",\"EXT_SOURCE_1_disc_int_[0.26;0.96]\",\"EXT_SOURCE_1_disc_int_[0.26;0.96]\",\"EXT_SOURCE_1_disc_int_[0.26;0.96]\",\"EXT_SOURCE_1_disc_int_[0.26;0.96]\",\"EXT_SOURCE_1_disc_int_[0.26;0.96]\",\"EXT_SOURCE_1_disc_int_[0.26;0.96]\",\"EXT_SOURCE_1_disc_int_[0.26;0.96]\",\"EXT_SOURCE_1_disc_int_[0.26;0.96]\",\"EXT_SOURCE_1_disc_int_[0.26;0.96]\",\"EXT_SOURCE_1_disc_int_[0.26;0.96]\",\"EXT_SOURCE_1_disc_int_[0.26;0.96]\",\"EXT_SOURCE_1_disc_int_[0.26;0.96]\",\"EXT_SOURCE_1_disc_int_[0.26;0.96]\",\"EXT_SOURCE_1_disc_int_[0.26;0.96]\",\"EXT_SOURCE_1_disc_int_[0.26;0.96]\",\"EXT_SOURCE_1_disc_int_[0.26;0.96]\",\"EXT_SOURCE_1_disc_int_[0.26;0.96]\",\"EXT_SOURCE_1_disc_int_[0.26;0.96]\",\"EXT_SOURCE_1_disc_int_[0.26;0.96]\",\"EXT_SOURCE_1_disc_int_[0.26;0.96]\",\"EXT_SOURCE_1_disc_int_[0.26;0.96]\",\"EXT_SOURCE_1_disc_int_[0.26;0.96]\",\"EXT_SOURCE_1_disc_int_[0.26;0.96]\",\"EXT_SOURCE_1_disc_int_[0.26;0.96]\",\"EXT_SOURCE_1_disc_int_[0.26;0.96]\",\"EXT_SOURCE_1_disc_int_[0.26;0.96]\",\"EXT_SOURCE_1_disc_int_[0.26;0.96]\",\"EXT_SOURCE_1_disc_int_[0.26;0.96]\",\"EXT_SOURCE_1_disc_int_[0.26;0.96]\",\"EXT_SOURCE_1_disc_int_[0.26;0.96]\",\"EXT_SOURCE_1_disc_int_[0.26;0.96]\",\"EXT_SOURCE_1_disc_int_[0.26;0.96]\",\"EXT_SOURCE_1_disc_int_[0.26;0.96]\",\"EXT_SOURCE_1_disc_int_[0.26;0.96]\",\"EXT_SOURCE_1_disc_int_[0.26;0.96]\",\"EXT_SOURCE_1_disc_int_[0.26;0.96]\",\"EXT_SOURCE_1_disc_int_[0.26;0.96]\",\"EXT_SOURCE_1_disc_int_[0.26;0.96]\",\"EXT_SOURCE_1_disc_int_[0.26;0.96]\",\"EXT_SOURCE_1_disc_int_[0.26;0.96]\",\"EXT_SOURCE_1_disc_int_[0.26;0.96]\",\"EXT_SOURCE_1_disc_int_[0.26;0.96]\",\"EXT_SOURCE_1_disc_int_[0.26;0.96]\",\"EXT_SOURCE_1_disc_int_[0.26;0.96]\",\"EXT_SOURCE_1_disc_int_[0.26;0.96]\",\"EXT_SOURCE_1_disc_int_[0.26;0.96]\",\"EXT_SOURCE_1_disc_int_[0.26;0.96]\",\"EXT_SOURCE_1_disc_int_[0.26;0.96]\",\"EXT_SOURCE_1_disc_int_[0.26;0.96]\",\"EXT_SOURCE_1_disc_int_[0.26;0.96]\",\"EXT_SOURCE_1_disc_int_[0.26;0.96]\",\"EXT_SOURCE_1_disc_int_[0.26;0.96]\",\"EXT_SOURCE_1_disc_int_[0.26;0.96]\",\"EXT_SOURCE_1_disc_int_[0.26;0.96]\",\"EXT_SOURCE_1_disc_int_[0.26;0.96]\",\"EXT_SOURCE_1_disc_int_[0.26;0.96]\",\"EXT_SOURCE_1_disc_int_[0.26;0.96]\",\"EXT_SOURCE_1_disc_int_[0.26;0.96]\",\"EXT_SOURCE_1_disc_int_[0.26;0.96]\",\"EXT_SOURCE_1_disc_int_[0.26;0.96]\",\"EXT_SOURCE_1_disc_int_[0.26;0.96]\",\"EXT_SOURCE_1_disc_int_[0.26;0.96]\",\"EXT_SOURCE_1_disc_int_[0.26;0.96]\",\"EXT_SOURCE_1_disc_int_[0.26;0.96]\",\"EXT_SOURCE_1_disc_int_[0.26;0.96]\",\"EXT_SOURCE_1_disc_int_[0.26;0.96]\",\"EXT_SOURCE_1_disc_int_[0.26;0.96]\",\"EXT_SOURCE_1_disc_int_[0.26;0.96]\",\"EXT_SOURCE_1_disc_int_[0.26;0.96]\",\"EXT_SOURCE_1_disc_int_[0.26;0.96]\",\"EXT_SOURCE_1_disc_int_[0.26;0.96]\",\"EXT_SOURCE_1_disc_int_[0.26;0.96]\",\"EXT_SOURCE_1_disc_int_[0.26;0.96]\",\"EXT_SOURCE_1_disc_int_[0.26;0.96]\",\"EXT_SOURCE_1_disc_int_[0.26;0.96]\",\"EXT_SOURCE_1_disc_int_[0.26;0.96]\",\"EXT_SOURCE_1_disc_int_[0.26;0.96]\",\"EXT_SOURCE_1_disc_int_[0.26;0.96]\",\"EXT_SOURCE_1_disc_int_[0.26;0.96]\",\"EXT_SOURCE_1_disc_int_[0.26;0.96]\",\"EXT_SOURCE_1_disc_int_[0.26;0.96]\",\"EXT_SOURCE_1_disc_int_[0.26;0.96]\",\"EXT_SOURCE_1_disc_int_[0.26;0.96]\",\"EXT_SOURCE_1_disc_int_[0.26;0.96]\",\"EXT_SOURCE_1_disc_int_[0.26;0.96]\",\"EXT_SOURCE_1_disc_int_[0.26;0.96]\",\"EXT_SOURCE_1_disc_int_[0.26;0.96]\",\"EXT_SOURCE_1_disc_int_[0.26;0.96]\",\"EXT_SOURCE_1_disc_int_[0.26;0.96]\",\"EXT_SOURCE_1_disc_int_[0.26;0.96]\",\"EXT_SOURCE_1_disc_int_[0.26;0.96]\",\"EXT_SOURCE_1_disc_int_[0.26;0.96]\",\"EXT_SOURCE_1_disc_int_[0.26;0.96]\",\"EXT_SOURCE_1_disc_int_[0.26;0.96]\",\"EXT_SOURCE_1_disc_int_[0.26;0.96]\",\"EXT_SOURCE_1_disc_int_[0.26;0.96]\",\"EXT_SOURCE_1_disc_int_[0.26;0.96]\",\"EXT_SOURCE_1_disc_int_[0.26;0.96]\",\"EXT_SOURCE_1_disc_int_[0.26;0.96]\",\"EXT_SOURCE_1_disc_int_[0.26;0.96]\",\"EXT_SOURCE_1_disc_int_[0.26;0.96]\",\"EXT_SOURCE_1_disc_int_[0.26;0.96]\",\"EXT_SOURCE_1_disc_int_[0.26;0.96]\",\"EXT_SOURCE_1_disc_int_[0.26;0.96]\",\"EXT_SOURCE_1_disc_int_[0.26;0.96]\",\"EXT_SOURCE_1_disc_int_[0.26;0.96]\",\"EXT_SOURCE_1_disc_int_[0.26;0.96]\",\"EXT_SOURCE_1_disc_int_[0.26;0.96]\",\"EXT_SOURCE_1_disc_int_[0.26;0.96]\",\"EXT_SOURCE_1_disc_int_[0.26;0.96]\",\"EXT_SOURCE_1_disc_int_[0.26;0.96]\",\"EXT_SOURCE_1_disc_int_[0.26;0.96]\",\"EXT_SOURCE_1_disc_int_[0.26;0.96]\",\"EXT_SOURCE_1_disc_int_[0.26;0.96]\",\"EXT_SOURCE_1_disc_int_[0.26;0.96]\",\"EXT_SOURCE_1_disc_int_[0.26;0.96]\",\"EXT_SOURCE_1_disc_int_[0.26;0.96]\",\"EXT_SOURCE_1_disc_int_[0.26;0.96]\",\"EXT_SOURCE_1_disc_int_[0.26;0.96]\",\"EXT_SOURCE_1_disc_int_[0.26;0.96]\",\"EXT_SOURCE_1_disc_int_[0.26;0.96]\",\"EXT_SOURCE_1_disc_int_[0.26;0.96]\",\"EXT_SOURCE_1_disc_int_[0.26;0.96]\",\"EXT_SOURCE_1_disc_int_[0.26;0.96]\",\"EXT_SOURCE_1_disc_int_[0.26;0.96]\",\"EXT_SOURCE_1_disc_int_[0.26;0.96]\",\"EXT_SOURCE_1_disc_int_[0.26;0.96]\",\"EXT_SOURCE_1_disc_int_[0.26;0.96]\",\"EXT_SOURCE_1_disc_int_[0.26;0.96]\",\"EXT_SOURCE_1_disc_int_[0.26;0.96]\",\"EXT_SOURCE_1_disc_int_[0.26;0.96]\",\"EXT_SOURCE_1_disc_int_[0.26;0.96]\",\"EXT_SOURCE_1_disc_int_[0.26;0.96]\",\"EXT_SOURCE_1_disc_int_[0.26;0.96]\",\"EXT_SOURCE_1_disc_int_[0.26;0.96]\",\"EXT_SOURCE_1_disc_int_[0.26;0.96]\",\"EXT_SOURCE_1_disc_int_[0.26;0.96]\",\"EXT_SOURCE_1_disc_int_[0.26;0.96]\",\"EXT_SOURCE_1_disc_int_[0.26;0.96]\",\"EXT_SOURCE_1_disc_int_[0.26;0.96]\",\"EXT_SOURCE_1_disc_int_[0.26;0.96]\",\"EXT_SOURCE_1_disc_int_[0.26;0.96]\",\"EXT_SOURCE_1_disc_int_[0.26;0.96]\",\"EXT_SOURCE_1_disc_int_[0.26;0.96]\",\"EXT_SOURCE_1_disc_int_[0.26;0.96]\",\"EXT_SOURCE_1_disc_int_[0.26;0.96]\",\"EXT_SOURCE_1_disc_int_[0.26;0.96]\",\"EXT_SOURCE_1_disc_int_[0.26;0.96]\",\"EXT_SOURCE_1_disc_int_[0.26;0.96]\",\"EXT_SOURCE_1_disc_int_[0.26;0.96]\",\"EXT_SOURCE_1_disc_int_[0.26;0.96]\",\"EXT_SOURCE_1_disc_int_[0.26;0.96]\",\"EXT_SOURCE_1_disc_int_[0.26;0.96]\",\"EXT_SOURCE_1_disc_int_[0.26;0.96]\",\"EXT_SOURCE_1_disc_int_[0.26;0.96]\",\"EXT_SOURCE_1_disc_int_[0.26;0.96]\",\"EXT_SOURCE_1_disc_int_[0.26;0.96]\",\"EXT_SOURCE_1_disc_int_[0.26;0.96]\",\"EXT_SOURCE_1_disc_int_[0.26;0.96]\",\"EXT_SOURCE_1_disc_int_[0.26;0.96]\",\"EXT_SOURCE_1_disc_int_[0.26;0.96]\",\"EXT_SOURCE_1_disc_int_[0.26;0.96]\",\"EXT_SOURCE_1_disc_int_[0.26;0.96]\",\"EXT_SOURCE_1_disc_int_[0.26;0.96]\",\"EXT_SOURCE_1_disc_int_[0.26;0.96]\",\"EXT_SOURCE_1_disc_int_[0.26;0.96]\",\"EXT_SOURCE_1_disc_int_[0.26;0.96]\",\"EXT_SOURCE_1_disc_int_[0.26;0.96]\",\"EXT_SOURCE_1_disc_int_[0.26;0.96]\",\"EXT_SOURCE_1_disc_int_[0.26;0.96]\",\"EXT_SOURCE_1_disc_int_[0.26;0.96]\",\"EXT_SOURCE_1_disc_int_[0.26;0.96]\",\"EXT_SOURCE_1_disc_int_[0.26;0.96]\",\"EXT_SOURCE_1_disc_int_[0.26;0.96]\",\"EXT_SOURCE_1_disc_int_[0.26;0.96]\",\"EXT_SOURCE_1_disc_int_[0.26;0.96]\",\"EXT_SOURCE_1_disc_int_[0.26;0.96]\",\"EXT_SOURCE_1_disc_int_[0.26;0.96]\",\"EXT_SOURCE_1_disc_int_[0.26;0.96]\",\"EXT_SOURCE_1_disc_int_[0.26;0.96]\",\"EXT_SOURCE_1_disc_int_[0.26;0.96]\",\"EXT_SOURCE_1_disc_int_[0.26;0.96]\",\"EXT_SOURCE_1_disc_int_[0.26;0.96]\",\"EXT_SOURCE_1_disc_int_[0.26;0.96]\",\"EXT_SOURCE_1_disc_int_[0.26;0.96]\",\"EXT_SOURCE_1_disc_int_[0.26;0.96]\",\"EXT_SOURCE_1_disc_int_[0.26;0.96]\",\"EXT_SOURCE_1_disc_int_[0.26;0.96]\",\"EXT_SOURCE_1_disc_int_[0.26;0.96]\",\"EXT_SOURCE_1_disc_int_[0.26;0.96]\",\"EXT_SOURCE_1_disc_int_[0.26;0.96]\",\"EXT_SOURCE_1_disc_int_[0.26;0.96]\",\"EXT_SOURCE_1_disc_int_[0.26;0.96]\",\"EXT_SOURCE_1_disc_int_[0.26;0.96]\",\"EXT_SOURCE_1_disc_int_[0.26;0.96]\",\"EXT_SOURCE_1_disc_int_[0.26;0.96]\",\"EXT_SOURCE_1_disc_int_[0.26;0.96]\",\"EXT_SOURCE_1_disc_int_[0.26;0.96]\",\"EXT_SOURCE_1_disc_int_[0.26;0.96]\",\"EXT_SOURCE_1_disc_int_[0.26;0.96]\",\"EXT_SOURCE_1_disc_int_[0.26;0.96]\",\"EXT_SOURCE_1_disc_int_[0.26;0.96]\",\"EXT_SOURCE_1_disc_int_[0.26;0.96]\",\"EXT_SOURCE_1_disc_int_[0.26;0.96]\",\"EXT_SOURCE_1_disc_int_[0.26;0.96]\",\"EXT_SOURCE_1_disc_int_[0.26;0.96]\",\"EXT_SOURCE_1_disc_int_[0.26;0.96]\",\"EXT_SOURCE_1_disc_int_[0.26;0.96]\",\"EXT_SOURCE_1_disc_int_[0.26;0.96]\",\"EXT_SOURCE_1_disc_int_[0.26;0.96]\",\"EXT_SOURCE_1_disc_int_[0.26;0.96]\",\"EXT_SOURCE_1_disc_int_[0.26;0.96]\",\"EXT_SOURCE_1_disc_int_[0.26;0.96]\",\"EXT_SOURCE_1_disc_int_[0.26;0.96]\",\"EXT_SOURCE_1_disc_int_[0.26;0.96]\",\"EXT_SOURCE_1_disc_int_[0.26;0.96]\",\"EXT_SOURCE_1_disc_int_[0.26;0.96]\",\"EXT_SOURCE_1_disc_int_[0.26;0.96]\",\"EXT_SOURCE_1_disc_int_[0.26;0.96]\",\"EXT_SOURCE_1_disc_int_[0.26;0.96]\",\"EXT_SOURCE_1_disc_int_[0.26;0.96]\",\"EXT_SOURCE_1_disc_int_[0.26;0.96]\",\"EXT_SOURCE_1_disc_int_[0.26;0.96]\",\"EXT_SOURCE_1_disc_int_[0.26;0.96]\",\"EXT_SOURCE_1_disc_int_[0.26;0.96]\",\"EXT_SOURCE_1_disc_int_[0.26;0.96]\",\"EXT_SOURCE_1_disc_int_[0.26;0.96]\",\"EXT_SOURCE_1_disc_int_[0.26;0.96]\",\"EXT_SOURCE_1_disc_int_[0.26;0.96]\",\"EXT_SOURCE_1_disc_int_[0.26;0.96]\",\"EXT_SOURCE_1_disc_int_[0.26;0.96]\",\"EXT_SOURCE_1_disc_int_[0.26;0.96]\",\"EXT_SOURCE_3_disc_int_[0.33;0.9]\",\"EXT_SOURCE_3_disc_int_[0.33;0.9]\",\"EXT_SOURCE_3_disc_int_[0.33;0.9]\",\"EXT_SOURCE_3_disc_int_[0.33;0.9]\",\"EXT_SOURCE_3_disc_int_[0.33;0.9]\",\"EXT_SOURCE_3_disc_int_[0.33;0.9]\",\"EXT_SOURCE_3_disc_int_[0.33;0.9]\",\"EXT_SOURCE_3_disc_int_[0.33;0.9]\",\"EXT_SOURCE_3_disc_int_[0.33;0.9]\",\"EXT_SOURCE_3_disc_int_[0.33;0.9]\",\"EXT_SOURCE_3_disc_int_[0.33;0.9]\",\"EXT_SOURCE_3_disc_int_[0.33;0.9]\",\"EXT_SOURCE_3_disc_int_[0.33;0.9]\",\"EXT_SOURCE_3_disc_int_[0.33;0.9]\",\"EXT_SOURCE_3_disc_int_[0.33;0.9]\",\"EXT_SOURCE_3_disc_int_[0.33;0.9]\",\"EXT_SOURCE_3_disc_int_[0.33;0.9]\",\"EXT_SOURCE_3_disc_int_[0.33;0.9]\",\"EXT_SOURCE_3_disc_int_[0.33;0.9]\",\"EXT_SOURCE_3_disc_int_[0.33;0.9]\",\"EXT_SOURCE_3_disc_int_[0.33;0.9]\",\"EXT_SOURCE_3_disc_int_[0.33;0.9]\",\"EXT_SOURCE_3_disc_int_[0.33;0.9]\",\"EXT_SOURCE_3_disc_int_[0.33;0.9]\",\"EXT_SOURCE_3_disc_int_[0.33;0.9]\",\"EXT_SOURCE_3_disc_int_[0.33;0.9]\",\"EXT_SOURCE_3_disc_int_[0.33;0.9]\",\"EXT_SOURCE_3_disc_int_[0.33;0.9]\",\"EXT_SOURCE_3_disc_int_[0.33;0.9]\",\"EXT_SOURCE_3_disc_int_[0.33;0.9]\",\"EXT_SOURCE_3_disc_int_[0.33;0.9]\",\"EXT_SOURCE_3_disc_int_[0.33;0.9]\",\"EXT_SOURCE_3_disc_int_[0.33;0.9]\",\"EXT_SOURCE_3_disc_int_[0.33;0.9]\",\"EXT_SOURCE_3_disc_int_[0.33;0.9]\",\"EXT_SOURCE_3_disc_int_[0.33;0.9]\",\"EXT_SOURCE_3_disc_int_[0.33;0.9]\",\"EXT_SOURCE_3_disc_int_[0.33;0.9]\",\"EXT_SOURCE_3_disc_int_[0.33;0.9]\",\"EXT_SOURCE_3_disc_int_[0.33;0.9]\",\"EXT_SOURCE_3_disc_int_[0.33;0.9]\",\"EXT_SOURCE_3_disc_int_[0.33;0.9]\",\"EXT_SOURCE_3_disc_int_[0.33;0.9]\",\"EXT_SOURCE_3_disc_int_[0.33;0.9]\",\"EXT_SOURCE_3_disc_int_[0.33;0.9]\",\"EXT_SOURCE_3_disc_int_[0.33;0.9]\",\"EXT_SOURCE_3_disc_int_[0.33;0.9]\",\"EXT_SOURCE_3_disc_int_[0.33;0.9]\",\"EXT_SOURCE_3_disc_int_[0.33;0.9]\",\"EXT_SOURCE_3_disc_int_[0.33;0.9]\",\"EXT_SOURCE_3_disc_int_[0.33;0.9]\",\"EXT_SOURCE_3_disc_int_[0.33;0.9]\",\"EXT_SOURCE_3_disc_int_[0.33;0.9]\",\"EXT_SOURCE_3_disc_int_[0.33;0.9]\",\"EXT_SOURCE_3_disc_int_[0.33;0.9]\",\"EXT_SOURCE_3_disc_int_[0.33;0.9]\",\"EXT_SOURCE_3_disc_int_[0.33;0.9]\",\"EXT_SOURCE_3_disc_int_[0.33;0.9]\",\"EXT_SOURCE_3_disc_int_[0.33;0.9]\",\"EXT_SOURCE_3_disc_int_[0.33;0.9]\",\"EXT_SOURCE_3_disc_int_[0.33;0.9]\",\"EXT_SOURCE_3_disc_int_[0.33;0.9]\",\"EXT_SOURCE_3_disc_int_[0.33;0.9]\",\"EXT_SOURCE_3_disc_int_[0.33;0.9]\",\"EXT_SOURCE_3_disc_int_[0.33;0.9]\",\"EXT_SOURCE_3_disc_int_[0.33;0.9]\",\"EXT_SOURCE_3_disc_int_[0.33;0.9]\",\"EXT_SOURCE_3_disc_int_[0.33;0.9]\",\"EXT_SOURCE_3_disc_int_[0.33;0.9]\",\"EXT_SOURCE_3_disc_int_[0.33;0.9]\",\"EXT_SOURCE_3_disc_int_[0.33;0.9]\",\"EXT_SOURCE_3_disc_int_[0.33;0.9]\",\"EXT_SOURCE_3_disc_int_[0.33;0.9]\",\"EXT_SOURCE_3_disc_int_[0.33;0.9]\",\"EXT_SOURCE_3_disc_int_[0.33;0.9]\",\"EXT_SOURCE_3_disc_int_[0.33;0.9]\",\"EXT_SOURCE_3_disc_int_[0.33;0.9]\",\"EXT_SOURCE_3_disc_int_[0.33;0.9]\",\"EXT_SOURCE_3_disc_int_[0.33;0.9]\",\"EXT_SOURCE_3_disc_int_[0.33;0.9]\",\"EXT_SOURCE_3_disc_int_[0.33;0.9]\",\"EXT_SOURCE_3_disc_int_[0.33;0.9]\",\"EXT_SOURCE_3_disc_int_[0.33;0.9]\",\"EXT_SOURCE_3_disc_int_[0.33;0.9]\",\"EXT_SOURCE_3_disc_int_[0.33;0.9]\",\"EXT_SOURCE_3_disc_int_[0.33;0.9]\",\"EXT_SOURCE_3_disc_int_[0.33;0.9]\",\"EXT_SOURCE_3_disc_int_[0.33;0.9]\",\"EXT_SOURCE_3_disc_int_[0.33;0.9]\",\"EXT_SOURCE_3_disc_int_[0.33;0.9]\",\"EXT_SOURCE_3_disc_int_[0.33;0.9]\",\"EXT_SOURCE_3_disc_int_[0.33;0.9]\",\"EXT_SOURCE_3_disc_int_[0.33;0.9]\",\"EXT_SOURCE_3_disc_int_[0.33;0.9]\",\"EXT_SOURCE_3_disc_int_[0.33;0.9]\",\"EXT_SOURCE_3_disc_int_[0.33;0.9]\",\"EXT_SOURCE_3_disc_int_[0.33;0.9]\",\"EXT_SOURCE_3_disc_int_[0.33;0.9]\",\"EXT_SOURCE_3_disc_int_[0.33;0.9]\",\"EXT_SOURCE_3_disc_int_[0.33;0.9]\",\"EXT_SOURCE_3_disc_int_[0.33;0.9]\",\"EXT_SOURCE_3_disc_int_[0.33;0.9]\",\"EXT_SOURCE_3_disc_int_[0.33;0.9]\",\"EXT_SOURCE_3_disc_int_[0.33;0.9]\",\"EXT_SOURCE_3_disc_int_[0.33;0.9]\",\"EXT_SOURCE_3_disc_int_[0.33;0.9]\",\"EXT_SOURCE_3_disc_int_[0.33;0.9]\",\"EXT_SOURCE_3_disc_int_[0.33;0.9]\",\"EXT_SOURCE_3_disc_int_[0.33;0.9]\",\"EXT_SOURCE_3_disc_int_[0.33;0.9]\",\"EXT_SOURCE_3_disc_int_[0.33;0.9]\",\"EXT_SOURCE_3_disc_int_[0.33;0.9]\",\"EXT_SOURCE_3_disc_int_[0.33;0.9]\",\"EXT_SOURCE_3_disc_int_[0.33;0.9]\",\"EXT_SOURCE_3_disc_int_[0.33;0.9]\",\"EXT_SOURCE_3_disc_int_[0.33;0.9]\",\"EXT_SOURCE_3_disc_int_[0.33;0.9]\",\"EXT_SOURCE_3_disc_int_[0.33;0.9]\",\"EXT_SOURCE_3_disc_int_[0.33;0.9]\",\"EXT_SOURCE_3_disc_int_[0.33;0.9]\",\"EXT_SOURCE_3_disc_int_[0.33;0.9]\",\"EXT_SOURCE_3_disc_int_[0.33;0.9]\",\"EXT_SOURCE_3_disc_int_[0.33;0.9]\",\"EXT_SOURCE_3_disc_int_[0.33;0.9]\",\"EXT_SOURCE_3_disc_int_[0.33;0.9]\",\"EXT_SOURCE_3_disc_int_[0.33;0.9]\",\"EXT_SOURCE_3_disc_int_[0.33;0.9]\",\"EXT_SOURCE_3_disc_int_[0.33;0.9]\",\"EXT_SOURCE_3_disc_int_[0.33;0.9]\",\"EXT_SOURCE_3_disc_int_[0.33;0.9]\",\"EXT_SOURCE_3_disc_int_[0.33;0.9]\",\"EXT_SOURCE_3_disc_int_[0.33;0.9]\",\"EXT_SOURCE_3_disc_int_[0.33;0.9]\",\"EXT_SOURCE_3_disc_int_[0.33;0.9]\",\"EXT_SOURCE_3_disc_int_[0.33;0.9]\",\"EXT_SOURCE_3_disc_int_[0.33;0.9]\",\"EXT_SOURCE_3_disc_int_[0.33;0.9]\",\"EXT_SOURCE_3_disc_int_[0.33;0.9]\",\"EXT_SOURCE_3_disc_int_[0.33;0.9]\",\"EXT_SOURCE_3_disc_int_[0.33;0.9]\",\"EXT_SOURCE_3_disc_int_[0.33;0.9]\",\"EXT_SOURCE_3_disc_int_[0.33;0.9]\",\"EXT_SOURCE_3_disc_int_[0.33;0.9]\",\"EXT_SOURCE_3_disc_int_[0.33;0.9]\",\"EXT_SOURCE_3_disc_int_[0.33;0.9]\",\"EXT_SOURCE_3_disc_int_[0.33;0.9]\",\"EXT_SOURCE_3_disc_int_[0.33;0.9]\",\"EXT_SOURCE_3_disc_int_[0.33;0.9]\",\"EXT_SOURCE_3_disc_int_[0.33;0.9]\",\"EXT_SOURCE_3_disc_int_[0.33;0.9]\",\"EXT_SOURCE_3_disc_int_[0.33;0.9]\",\"EXT_SOURCE_3_disc_int_[0.33;0.9]\",\"EXT_SOURCE_3_disc_int_[0.33;0.9]\",\"EXT_SOURCE_3_disc_int_[0.33;0.9]\",\"EXT_SOURCE_3_disc_int_[0.33;0.9]\",\"EXT_SOURCE_3_disc_int_[0.33;0.9]\",\"EXT_SOURCE_3_disc_int_[0.33;0.9]\",\"EXT_SOURCE_3_disc_int_[0.33;0.9]\",\"EXT_SOURCE_3_disc_int_[0.33;0.9]\",\"EXT_SOURCE_3_disc_int_[0.33;0.9]\",\"EXT_SOURCE_3_disc_int_[0.33;0.9]\",\"EXT_SOURCE_3_disc_int_[0.33;0.9]\",\"EXT_SOURCE_3_disc_int_[0.33;0.9]\",\"EXT_SOURCE_3_disc_int_[0.33;0.9]\",\"EXT_SOURCE_3_disc_int_[0.33;0.9]\",\"EXT_SOURCE_3_disc_int_[0.33;0.9]\",\"EXT_SOURCE_3_disc_int_[0.33;0.9]\",\"EXT_SOURCE_3_disc_int_[0.33;0.9]\",\"EXT_SOURCE_3_disc_int_[0.33;0.9]\",\"EXT_SOURCE_3_disc_int_[0.33;0.9]\",\"EXT_SOURCE_3_disc_int_[0.33;0.9]\",\"EXT_SOURCE_3_disc_int_[0.33;0.9]\",\"EXT_SOURCE_3_disc_int_[0.33;0.9]\",\"EXT_SOURCE_3_disc_int_[0.33;0.9]\",\"EXT_SOURCE_3_disc_int_[0.33;0.9]\",\"EXT_SOURCE_3_disc_int_[0.33;0.9]\",\"EXT_SOURCE_3_disc_int_[0.33;0.9]\",\"EXT_SOURCE_3_disc_int_[0.33;0.9]\",\"EXT_SOURCE_3_disc_int_[0.33;0.9]\",\"EXT_SOURCE_3_disc_int_[0.33;0.9]\",\"EXT_SOURCE_3_disc_int_[0.33;0.9]\",\"EXT_SOURCE_3_disc_int_[0.33;0.9]\",\"EXT_SOURCE_3_disc_int_[0.33;0.9]\",\"EXT_SOURCE_3_disc_int_[0.33;0.9]\",\"EXT_SOURCE_3_disc_int_[0.33;0.9]\",\"EXT_SOURCE_3_disc_int_[0.33;0.9]\",\"EXT_SOURCE_3_disc_int_[0.33;0.9]\",\"EXT_SOURCE_3_disc_int_[0.33;0.9]\",\"EXT_SOURCE_3_disc_int_[0.33;0.9]\",\"EXT_SOURCE_3_disc_int_[0.33;0.9]\",\"EXT_SOURCE_3_disc_int_[0.33;0.9]\",\"EXT_SOURCE_3_disc_int_[0.33;0.9]\",\"EXT_SOURCE_3_disc_int_[0.33;0.9]\",\"EXT_SOURCE_3_disc_int_[0.33;0.9]\",\"EXT_SOURCE_3_disc_int_[0.33;0.9]\",\"EXT_SOURCE_3_disc_int_[0.33;0.9]\",\"EXT_SOURCE_3_disc_int_[0.33;0.9]\",\"EXT_SOURCE_3_disc_int_[0.33;0.9]\",\"EXT_SOURCE_3_disc_int_[0.33;0.9]\",\"EXT_SOURCE_3_disc_int_[0.33;0.9]\",\"EXT_SOURCE_3_disc_int_[0.33;0.9]\",\"EXT_SOURCE_3_disc_int_[0.33;0.9]\",\"EXT_SOURCE_3_disc_int_[0.33;0.9]\",\"EXT_SOURCE_3_disc_int_[0.33;0.9]\",\"EXT_SOURCE_3_disc_int_[0.33;0.9]\",\"EXT_SOURCE_3_disc_int_[0.33;0.9]\",\"EXT_SOURCE_3_disc_int_[0.33;0.9]\",\"EXT_SOURCE_3_disc_int_[0.33;0.9]\",\"EXT_SOURCE_3_disc_int_[0.33;0.9]\",\"EXT_SOURCE_3_disc_int_[0.33;0.9]\",\"EXT_SOURCE_3_disc_int_[0.33;0.9]\",\"EXT_SOURCE_3_disc_int_[0.33;0.9]\",\"EXT_SOURCE_3_disc_int_[0.33;0.9]\",\"EXT_SOURCE_3_disc_int_[0.33;0.9]\",\"EXT_SOURCE_3_disc_int_[0.33;0.9]\",\"EXT_SOURCE_3_disc_int_[0.33;0.9]\",\"EXT_SOURCE_3_disc_int_[0.33;0.9]\",\"EXT_SOURCE_3_disc_int_[0.33;0.9]\",\"EXT_SOURCE_3_disc_int_[0.33;0.9]\",\"EXT_SOURCE_3_disc_int_[0.33;0.9]\",\"EXT_SOURCE_3_disc_int_[0.33;0.9]\",\"EXT_SOURCE_3_disc_int_[0.33;0.9]\",\"EXT_SOURCE_3_disc_int_[0.33;0.9]\",\"EXT_SOURCE_3_disc_int_[0.33;0.9]\",\"EXT_SOURCE_3_disc_int_[0.33;0.9]\",\"EXT_SOURCE_3_disc_int_[0.33;0.9]\",\"EXT_SOURCE_3_disc_int_[0.33;0.9]\",\"EXT_SOURCE_3_disc_int_[0.33;0.9]\",\"EXT_SOURCE_3_disc_int_[0.33;0.9]\",\"EXT_SOURCE_3_disc_int_[0.33;0.9]\",\"EXT_SOURCE_3_disc_int_[0.33;0.9]\",\"EXT_SOURCE_3_disc_int_[0.33;0.9]\",\"EXT_SOURCE_3_disc_int_[0.33;0.9]\",\"EXT_SOURCE_3_disc_int_[0.33;0.9]\",\"EXT_SOURCE_3_disc_int_[0.33;0.9]\",\"EXT_SOURCE_3_disc_int_[0.33;0.9]\",\"EXT_SOURCE_3_disc_int_[0.33;0.9]\",\"EXT_SOURCE_3_disc_int_[0.33;0.9]\",\"EXT_SOURCE_3_disc_int_[0.33;0.9]\",\"EXT_SOURCE_3_disc_int_[0.33;0.9]\",\"EXT_SOURCE_3_disc_int_[0.33;0.9]\",\"EXT_SOURCE_3_disc_int_[0.33;0.9]\",\"EXT_SOURCE_3_disc_int_[0.33;0.9]\",\"EXT_SOURCE_3_disc_int_[0.33;0.9]\",\"EXT_SOURCE_3_disc_int_[0.33;0.9]\",\"EXT_SOURCE_3_disc_int_[0.33;0.9]\",\"EXT_SOURCE_3_disc_int_[0.33;0.9]\",\"EXT_SOURCE_3_disc_int_[0.33;0.9]\",\"EXT_SOURCE_3_disc_int_[0.33;0.9]\",\"EXT_SOURCE_3_disc_int_[0.33;0.9]\",\"EXT_SOURCE_3_disc_int_[0.33;0.9]\",\"EXT_SOURCE_3_disc_int_[0.33;0.9]\",\"EXT_SOURCE_3_disc_int_[0.33;0.9]\",\"EXT_SOURCE_3_disc_int_[0.33;0.9]\",\"EXT_SOURCE_3_disc_int_[0.33;0.9]\",\"EXT_SOURCE_3_disc_int_[0.33;0.9]\",\"EXT_SOURCE_3_disc_int_[0.33;0.9]\",\"EXT_SOURCE_3_disc_int_[0.33;0.9]\",\"EXT_SOURCE_3_disc_int_[0.33;0.9]\",\"EXT_SOURCE_3_disc_int_[0.33;0.9]\",\"EXT_SOURCE_3_disc_int_[0.33;0.9]\",\"EXT_SOURCE_3_disc_int_[0.33;0.9]\",\"EXT_SOURCE_3_disc_int_[0.33;0.9]\",\"EXT_SOURCE_3_disc_int_[0.33;0.9]\",\"EXT_SOURCE_3_disc_int_[0.33;0.9]\",\"EXT_SOURCE_3_disc_int_[0.33;0.9]\",\"EXT_SOURCE_3_disc_int_[0.33;0.9]\",\"EXT_SOURCE_3_disc_int_[0.33;0.9]\",\"EXT_SOURCE_3_disc_int_[0.33;0.9]\",\"EXT_SOURCE_3_disc_int_[0.33;0.9]\",\"EXT_SOURCE_3_disc_int_[0.33;0.9]\",\"EXT_SOURCE_3_disc_int_[0.33;0.9]\",\"EXT_SOURCE_3_disc_int_[0.33;0.9]\",\"EXT_SOURCE_3_disc_int_[0.33;0.9]\",\"EXT_SOURCE_3_disc_int_[0.33;0.9]\",\"EXT_SOURCE_3_disc_int_[0.33;0.9]\",\"EXT_SOURCE_3_disc_int_[0.33;0.9]\",\"EXT_SOURCE_3_disc_int_[0.33;0.9]\",\"EXT_SOURCE_3_disc_int_[0.33;0.9]\",\"EXT_SOURCE_3_disc_int_[0.33;0.9]\",\"EXT_SOURCE_3_disc_int_[0.33;0.9]\",\"EXT_SOURCE_3_disc_int_[0.33;0.9]\",\"EXT_SOURCE_3_disc_int_[0.33;0.9]\",\"EXT_SOURCE_3_disc_int_[0.33;0.9]\",\"EXT_SOURCE_3_disc_int_[0.33;0.9]\",\"EXT_SOURCE_3_disc_int_[0.33;0.9]\",\"EXT_SOURCE_3_disc_int_[0.33;0.9]\",\"EXT_SOURCE_3_disc_int_[0.33;0.9]\",\"EXT_SOURCE_3_disc_int_[0.33;0.9]\",\"EXT_SOURCE_3_disc_int_[0.33;0.9]\",\"EXT_SOURCE_3_disc_int_[0.33;0.9]\",\"EXT_SOURCE_3_disc_int_[0.33;0.9]\",\"EXT_SOURCE_3_disc_int_[0.33;0.9]\",\"EXT_SOURCE_3_disc_int_[0.33;0.9]\",\"EXT_SOURCE_3_disc_int_[0.33;0.9]\",\"EXT_SOURCE_3_disc_int_[0.33;0.9]\",\"EXT_SOURCE_3_disc_int_[0.33;0.9]\",\"EXT_SOURCE_3_disc_int_[0.33;0.9]\",\"EXT_SOURCE_3_disc_int_[0.33;0.9]\",\"EXT_SOURCE_3_disc_int_[0.33;0.9]\",\"EXT_SOURCE_3_disc_int_[0.33;0.9]\",\"EXT_SOURCE_3_disc_int_[0.33;0.9]\",\"EXT_SOURCE_3_disc_int_[0.33;0.9]\",\"EXT_SOURCE_3_disc_int_[0.33;0.9]\",\"EXT_SOURCE_3_disc_int_[0.33;0.9]\",\"EXT_SOURCE_3_disc_int_[0.33;0.9]\",\"EXT_SOURCE_3_disc_int_[0.33;0.9]\",\"EXT_SOURCE_3_disc_int_[0.33;0.9]\",\"EXT_SOURCE_3_disc_int_[0.33;0.9]\",\"EXT_SOURCE_3_disc_int_[0.33;0.9]\",\"EXT_SOURCE_3_disc_int_[0.33;0.9]\",\"EXT_SOURCE_3_disc_int_[0.33;0.9]\",\"EXT_SOURCE_3_disc_int_[0.33;0.9]\",\"EXT_SOURCE_3_disc_int_[0.33;0.9]\",\"EXT_SOURCE_3_disc_int_[0.33;0.9]\",\"EXT_SOURCE_3_disc_int_[0.33;0.9]\",\"EXT_SOURCE_3_disc_int_[0.33;0.9]\",\"EXT_SOURCE_3_disc_int_[0.33;0.9]\",\"EXT_SOURCE_3_disc_int_[0.33;0.9]\",\"EXT_SOURCE_3_disc_int_[0.33;0.9]\",\"EXT_SOURCE_3_disc_int_[0.33;0.9]\",\"EXT_SOURCE_3_disc_int_[0.33;0.9]\",\"EXT_SOURCE_3_disc_int_[0.33;0.9]\",\"EXT_SOURCE_3_disc_int_[0.33;0.9]\",\"EXT_SOURCE_3_disc_int_[0.33;0.9]\",\"EXT_SOURCE_3_disc_int_[0.33;0.9]\",\"EXT_SOURCE_3_disc_int_[0.33;0.9]\",\"EXT_SOURCE_3_disc_int_[0.33;0.9]\",\"EXT_SOURCE_3_disc_int_[0.33;0.9]\",\"EXT_SOURCE_3_disc_int_[0.33;0.9]\",\"EXT_SOURCE_3_disc_int_[0.33;0.9]\",\"EXT_SOURCE_3_disc_int_[0.33;0.9]\",\"EXT_SOURCE_3_disc_int_[0.33;0.9]\",\"EXT_SOURCE_3_disc_int_[0.33;0.9]\",\"EXT_SOURCE_3_disc_int_[0.33;0.9]\",\"EXT_SOURCE_3_disc_int_[0.33;0.9]\",\"EXT_SOURCE_3_disc_int_[0.33;0.9]\",\"EXT_SOURCE_3_disc_int_[0.33;0.9]\",\"EXT_SOURCE_3_disc_int_[0.33;0.9]\",\"EXT_SOURCE_3_disc_int_[0.33;0.9]\",\"EXT_SOURCE_3_disc_int_[0.33;0.9]\",\"EXT_SOURCE_3_disc_int_[0.33;0.9]\",\"EXT_SOURCE_3_disc_int_[0.33;0.9]\",\"EXT_SOURCE_3_disc_int_[0.33;0.9]\",\"EXT_SOURCE_3_disc_int_[0.33;0.9]\",\"EXT_SOURCE_3_disc_int_[0.33;0.9]\",\"EXT_SOURCE_3_disc_int_[0.33;0.9]\",\"EXT_SOURCE_3_disc_int_[0.33;0.9]\",\"EXT_SOURCE_3_disc_int_[0.33;0.9]\",\"EXT_SOURCE_3_disc_int_[0.33;0.9]\",\"EXT_SOURCE_3_disc_int_[0.33;0.9]\",\"EXT_SOURCE_3_disc_int_[0.33;0.9]\",\"EXT_SOURCE_3_disc_int_[0.33;0.9]\",\"EXT_SOURCE_3_disc_int_[0.33;0.9]\",\"EXT_SOURCE_3_disc_int_[0.33;0.9]\",\"EXT_SOURCE_3_disc_int_[0.33;0.9]\",\"EXT_SOURCE_3_disc_int_[0.33;0.9]\",\"EXT_SOURCE_3_disc_int_[0.33;0.9]\",\"EXT_SOURCE_3_disc_int_[0.33;0.9]\",\"EXT_SOURCE_3_disc_int_[0.33;0.9]\",\"EXT_SOURCE_3_disc_int_[0.33;0.9]\",\"EXT_SOURCE_3_disc_int_[0.33;0.9]\",\"EXT_SOURCE_3_disc_int_[0.33;0.9]\",\"EXT_SOURCE_3_disc_int_[0.33;0.9]\",\"EXT_SOURCE_3_disc_int_[0.33;0.9]\",\"EXT_SOURCE_3_disc_int_[0.33;0.9]\",\"EXT_SOURCE_3_disc_int_[0.33;0.9]\",\"EXT_SOURCE_3_disc_int_[0.33;0.9]\",\"EXT_SOURCE_3_disc_int_[0.33;0.9]\",\"EXT_SOURCE_3_disc_int_[0.33;0.9]\",\"EXT_SOURCE_3_disc_int_[0.33;0.9]\",\"EXT_SOURCE_3_disc_int_[0.33;0.9]\",\"EXT_SOURCE_3_disc_int_[0.33;0.9]\",\"EXT_SOURCE_3_disc_int_[0.33;0.9]\",\"EXT_SOURCE_3_disc_int_[0.33;0.9]\",\"EXT_SOURCE_3_disc_int_[0.33;0.9]\",\"EXT_SOURCE_3_disc_int_[0.33;0.9]\",\"EXT_SOURCE_3_disc_int_[0.33;0.9]\",\"EXT_SOURCE_3_disc_int_[0.33;0.9]\",\"EXT_SOURCE_3_disc_int_[0.33;0.9]\",\"EXT_SOURCE_3_disc_int_[0.33;0.9]\",\"NAME_INCOME_TYPE_discret_Low_income\",\"NAME_INCOME_TYPE_discret_Low_income\",\"NAME_INCOME_TYPE_discret_Low_income\",\"NAME_INCOME_TYPE_discret_Low_income\",\"NAME_INCOME_TYPE_discret_Low_income\",\"NAME_INCOME_TYPE_discret_Low_income\",\"NAME_INCOME_TYPE_discret_Low_income\",\"NAME_INCOME_TYPE_discret_Low_income\",\"NAME_INCOME_TYPE_discret_Low_income\",\"NAME_INCOME_TYPE_discret_Low_income\",\"NAME_INCOME_TYPE_discret_Low_income\",\"NAME_INCOME_TYPE_discret_Low_income\",\"NAME_INCOME_TYPE_discret_Low_income\",\"NAME_INCOME_TYPE_discret_Low_income\",\"NAME_INCOME_TYPE_discret_Low_income\",\"NAME_INCOME_TYPE_discret_Low_income\",\"NAME_INCOME_TYPE_discret_Low_income\",\"NAME_INCOME_TYPE_discret_Low_income\",\"NAME_INCOME_TYPE_discret_Low_income\",\"NAME_INCOME_TYPE_discret_Low_income\",\"NAME_INCOME_TYPE_discret_Low_income\",\"NAME_INCOME_TYPE_discret_Low_income\",\"NAME_INCOME_TYPE_discret_Low_income\",\"NAME_INCOME_TYPE_discret_Low_income\",\"NAME_INCOME_TYPE_discret_Low_income\",\"NAME_INCOME_TYPE_discret_Low_income\",\"NAME_INCOME_TYPE_discret_Low_income\",\"NAME_INCOME_TYPE_discret_Low_income\",\"NAME_INCOME_TYPE_discret_Low_income\",\"NAME_INCOME_TYPE_discret_Low_income\",\"NAME_INCOME_TYPE_discret_Low_income\",\"NAME_INCOME_TYPE_discret_Low_income\",\"NAME_INCOME_TYPE_discret_Low_income\",\"NAME_INCOME_TYPE_discret_Low_income\",\"NAME_INCOME_TYPE_discret_Low_income\",\"NAME_INCOME_TYPE_discret_Low_income\",\"NAME_INCOME_TYPE_discret_Low_income\",\"NAME_INCOME_TYPE_discret_Low_income\",\"NAME_INCOME_TYPE_discret_Low_income\",\"NAME_INCOME_TYPE_discret_Low_income\",\"NAME_INCOME_TYPE_discret_Low_income\",\"NAME_INCOME_TYPE_discret_Low_income\",\"NAME_INCOME_TYPE_discret_Low_income\",\"NAME_INCOME_TYPE_discret_Low_income\",\"NAME_INCOME_TYPE_discret_Low_income\",\"NAME_INCOME_TYPE_discret_Low_income\",\"NAME_INCOME_TYPE_discret_Low_income\",\"NAME_INCOME_TYPE_discret_Low_income\",\"NAME_INCOME_TYPE_discret_Low_income\",\"NAME_INCOME_TYPE_discret_Low_income\",\"NAME_INCOME_TYPE_discret_Low_income\",\"NAME_INCOME_TYPE_discret_Low_income\",\"NAME_INCOME_TYPE_discret_Low_income\",\"NAME_INCOME_TYPE_discret_Low_income\",\"NAME_INCOME_TYPE_discret_Low_income\",\"NAME_INCOME_TYPE_discret_Low_income\",\"NAME_INCOME_TYPE_discret_Low_income\",\"NAME_INCOME_TYPE_discret_Low_income\",\"NAME_INCOME_TYPE_discret_Low_income\",\"NAME_INCOME_TYPE_discret_Low_income\",\"NAME_INCOME_TYPE_discret_Low_income\",\"NAME_INCOME_TYPE_discret_Low_income\",\"NAME_INCOME_TYPE_discret_Low_income\",\"NAME_INCOME_TYPE_discret_Low_income\",\"NAME_INCOME_TYPE_discret_Low_income\",\"NAME_INCOME_TYPE_discret_Low_income\",\"NAME_INCOME_TYPE_discret_Low_income\",\"NAME_INCOME_TYPE_discret_Low_income\",\"NAME_INCOME_TYPE_discret_Low_income\",\"NAME_INCOME_TYPE_discret_Low_income\",\"NAME_INCOME_TYPE_discret_Low_income\",\"NAME_INCOME_TYPE_discret_Low_income\",\"NAME_INCOME_TYPE_discret_Low_income\",\"NAME_INCOME_TYPE_discret_Low_income\",\"NAME_INCOME_TYPE_discret_Low_income\",\"NAME_INCOME_TYPE_discret_Low_income\",\"NAME_INCOME_TYPE_discret_Low_income\",\"NAME_INCOME_TYPE_discret_Low_income\",\"NAME_INCOME_TYPE_discret_Low_income\",\"NAME_INCOME_TYPE_discret_Low_income\",\"NAME_INCOME_TYPE_discret_Low_income\",\"NAME_INCOME_TYPE_discret_Low_income\",\"NAME_INCOME_TYPE_discret_Low_income\",\"NAME_INCOME_TYPE_discret_Low_income\",\"NAME_INCOME_TYPE_discret_Low_income\",\"NAME_INCOME_TYPE_discret_Low_income\",\"NAME_INCOME_TYPE_discret_Low_income\",\"NAME_INCOME_TYPE_discret_Low_income\",\"NAME_INCOME_TYPE_discret_Low_income\",\"NAME_INCOME_TYPE_discret_Low_income\",\"NAME_INCOME_TYPE_discret_Low_income\",\"NAME_INCOME_TYPE_discret_Low_income\",\"NAME_INCOME_TYPE_discret_Low_income\",\"NAME_INCOME_TYPE_discret_Low_income\",\"NAME_INCOME_TYPE_discret_Low_income\",\"NAME_INCOME_TYPE_discret_Low_income\",\"NAME_INCOME_TYPE_discret_Low_income\",\"NAME_INCOME_TYPE_discret_Low_income\",\"NAME_INCOME_TYPE_discret_Low_income\",\"NAME_INCOME_TYPE_discret_Low_income\",\"NAME_INCOME_TYPE_discret_Low_income\",\"NAME_INCOME_TYPE_discret_Low_income\",\"NAME_INCOME_TYPE_discret_Low_income\",\"NAME_INCOME_TYPE_discret_Low_income\",\"NAME_INCOME_TYPE_discret_Low_income\",\"NAME_INCOME_TYPE_discret_Low_income\",\"NAME_INCOME_TYPE_discret_Low_income\",\"NAME_INCOME_TYPE_discret_Low_income\",\"NAME_INCOME_TYPE_discret_Low_income\",\"NAME_INCOME_TYPE_discret_Low_income\",\"NAME_INCOME_TYPE_discret_Low_income\",\"NAME_INCOME_TYPE_discret_Low_income\",\"NAME_INCOME_TYPE_discret_Low_income\",\"NAME_INCOME_TYPE_discret_Low_income\",\"AMT_CREDIT_SUM_DEBT_disc_int_[-6981558.21;9090.0]\",\"AMT_CREDIT_SUM_DEBT_disc_int_[-6981558.21;9090.0]\",\"AMT_CREDIT_SUM_DEBT_disc_int_[-6981558.21;9090.0]\",\"AMT_CREDIT_SUM_DEBT_disc_int_[-6981558.21;9090.0]\",\"AMT_CREDIT_SUM_DEBT_disc_int_[-6981558.21;9090.0]\",\"AMT_CREDIT_SUM_DEBT_disc_int_[-6981558.21;9090.0]\",\"AMT_CREDIT_SUM_DEBT_disc_int_[-6981558.21;9090.0]\",\"AMT_CREDIT_SUM_DEBT_disc_int_[-6981558.21;9090.0]\",\"AMT_CREDIT_SUM_DEBT_disc_int_[-6981558.21;9090.0]\",\"AMT_CREDIT_SUM_DEBT_disc_int_[-6981558.21;9090.0]\",\"AMT_CREDIT_SUM_DEBT_disc_int_[-6981558.21;9090.0]\",\"AMT_CREDIT_SUM_DEBT_disc_int_[-6981558.21;9090.0]\",\"AMT_CREDIT_SUM_DEBT_disc_int_[-6981558.21;9090.0]\",\"AMT_CREDIT_SUM_DEBT_disc_int_[-6981558.21;9090.0]\",\"AMT_CREDIT_SUM_DEBT_disc_int_[-6981558.21;9090.0]\",\"AMT_CREDIT_SUM_DEBT_disc_int_[-6981558.21;9090.0]\",\"AMT_CREDIT_SUM_DEBT_disc_int_[-6981558.21;9090.0]\",\"AMT_CREDIT_SUM_DEBT_disc_int_[-6981558.21;9090.0]\",\"AMT_CREDIT_SUM_DEBT_disc_int_[-6981558.21;9090.0]\",\"AMT_CREDIT_SUM_DEBT_disc_int_[-6981558.21;9090.0]\",\"AMT_CREDIT_SUM_DEBT_disc_int_[-6981558.21;9090.0]\",\"AMT_CREDIT_SUM_DEBT_disc_int_[-6981558.21;9090.0]\",\"AMT_CREDIT_SUM_DEBT_disc_int_[-6981558.21;9090.0]\",\"AMT_CREDIT_SUM_DEBT_disc_int_[-6981558.21;9090.0]\",\"AMT_CREDIT_SUM_DEBT_disc_int_[-6981558.21;9090.0]\",\"AMT_CREDIT_SUM_DEBT_disc_int_[-6981558.21;9090.0]\",\"AMT_CREDIT_SUM_DEBT_disc_int_[-6981558.21;9090.0]\",\"AMT_CREDIT_SUM_DEBT_disc_int_[-6981558.21;9090.0]\",\"AMT_CREDIT_SUM_DEBT_disc_int_[-6981558.21;9090.0]\",\"AMT_CREDIT_SUM_DEBT_disc_int_[-6981558.21;9090.0]\",\"AMT_CREDIT_SUM_DEBT_disc_int_[-6981558.21;9090.0]\",\"AMT_CREDIT_SUM_DEBT_disc_int_[-6981558.21;9090.0]\",\"AMT_CREDIT_SUM_DEBT_disc_int_[-6981558.21;9090.0]\",\"AMT_CREDIT_SUM_DEBT_disc_int_[-6981558.21;9090.0]\",\"AMT_CREDIT_SUM_DEBT_disc_int_[-6981558.21;9090.0]\",\"AMT_CREDIT_SUM_DEBT_disc_int_[-6981558.21;9090.0]\",\"AMT_CREDIT_SUM_DEBT_disc_int_[-6981558.21;9090.0]\",\"AMT_CREDIT_SUM_DEBT_disc_int_[-6981558.21;9090.0]\",\"AMT_CREDIT_SUM_DEBT_disc_int_[-6981558.21;9090.0]\",\"AMT_CREDIT_SUM_DEBT_disc_int_[-6981558.21;9090.0]\",\"AMT_CREDIT_SUM_DEBT_disc_int_[-6981558.21;9090.0]\",\"AMT_CREDIT_SUM_DEBT_disc_int_[-6981558.21;9090.0]\",\"AMT_CREDIT_SUM_DEBT_disc_int_[-6981558.21;9090.0]\",\"AMT_CREDIT_SUM_DEBT_disc_int_[-6981558.21;9090.0]\",\"AMT_CREDIT_SUM_DEBT_disc_int_[-6981558.21;9090.0]\",\"AMT_CREDIT_SUM_DEBT_disc_int_[-6981558.21;9090.0]\",\"AMT_CREDIT_SUM_DEBT_disc_int_[-6981558.21;9090.0]\",\"AMT_CREDIT_SUM_DEBT_disc_int_[-6981558.21;9090.0]\",\"AMT_CREDIT_SUM_DEBT_disc_int_[-6981558.21;9090.0]\",\"AMT_CREDIT_SUM_DEBT_disc_int_[-6981558.21;9090.0]\",\"AMT_CREDIT_SUM_DEBT_disc_int_[-6981558.21;9090.0]\",\"AMT_CREDIT_SUM_DEBT_disc_int_[-6981558.21;9090.0]\",\"AMT_CREDIT_SUM_DEBT_disc_int_[-6981558.21;9090.0]\",\"AMT_CREDIT_SUM_DEBT_disc_int_[-6981558.21;9090.0]\",\"AMT_CREDIT_SUM_DEBT_disc_int_[-6981558.21;9090.0]\",\"AMT_CREDIT_SUM_DEBT_disc_int_[-6981558.21;9090.0]\",\"AMT_CREDIT_SUM_DEBT_disc_int_[-6981558.21;9090.0]\",\"AMT_CREDIT_SUM_DEBT_disc_int_[-6981558.21;9090.0]\",\"AMT_CREDIT_SUM_DEBT_disc_int_[-6981558.21;9090.0]\",\"AMT_CREDIT_SUM_DEBT_disc_int_[-6981558.21;9090.0]\",\"AMT_CREDIT_SUM_DEBT_disc_int_[-6981558.21;9090.0]\",\"AMT_CREDIT_SUM_DEBT_disc_int_[-6981558.21;9090.0]\",\"AMT_CREDIT_SUM_DEBT_disc_int_[-6981558.21;9090.0]\",\"AMT_CREDIT_SUM_DEBT_disc_int_[-6981558.21;9090.0]\",\"AMT_CREDIT_SUM_DEBT_disc_int_[-6981558.21;9090.0]\",\"AMT_CREDIT_SUM_DEBT_disc_int_[-6981558.21;9090.0]\",\"AMT_CREDIT_SUM_DEBT_disc_int_[-6981558.21;9090.0]\",\"AMT_CREDIT_SUM_DEBT_disc_int_[-6981558.21;9090.0]\",\"AMT_CREDIT_SUM_DEBT_disc_int_[-6981558.21;9090.0]\",\"AMT_CREDIT_SUM_DEBT_disc_int_[-6981558.21;9090.0]\",\"AMT_CREDIT_SUM_DEBT_disc_int_[-6981558.21;9090.0]\",\"AMT_CREDIT_SUM_DEBT_disc_int_[-6981558.21;9090.0]\",\"AMT_CREDIT_SUM_DEBT_disc_int_[-6981558.21;9090.0]\",\"AMT_CREDIT_SUM_DEBT_disc_int_[-6981558.21;9090.0]\",\"AMT_CREDIT_SUM_DEBT_disc_int_[-6981558.21;9090.0]\",\"AMT_CREDIT_SUM_DEBT_disc_int_[-6981558.21;9090.0]\",\"AMT_CREDIT_SUM_DEBT_disc_int_[-6981558.21;9090.0]\",\"AMT_CREDIT_SUM_DEBT_disc_int_[-6981558.21;9090.0]\",\"AMT_CREDIT_SUM_DEBT_disc_int_[-6981558.21;9090.0]\",\"AMT_CREDIT_SUM_DEBT_disc_int_[-6981558.21;9090.0]\",\"AMT_CREDIT_SUM_DEBT_disc_int_[-6981558.21;9090.0]\",\"AMT_CREDIT_SUM_DEBT_disc_int_[-6981558.21;9090.0]\",\"AMT_CREDIT_SUM_DEBT_disc_int_[-6981558.21;9090.0]\",\"AMT_CREDIT_SUM_DEBT_disc_int_[-6981558.21;9090.0]\",\"AMT_CREDIT_SUM_DEBT_disc_int_[-6981558.21;9090.0]\",\"AMT_CREDIT_SUM_DEBT_disc_int_[-6981558.21;9090.0]\",\"AMT_CREDIT_SUM_DEBT_disc_int_[-6981558.21;9090.0]\",\"AMT_CREDIT_SUM_DEBT_disc_int_[-6981558.21;9090.0]\",\"AMT_CREDIT_SUM_DEBT_disc_int_[-6981558.21;9090.0]\",\"AMT_CREDIT_SUM_DEBT_disc_int_[-6981558.21;9090.0]\",\"AMT_CREDIT_SUM_DEBT_disc_int_[-6981558.21;9090.0]\",\"AMT_CREDIT_SUM_DEBT_disc_int_[-6981558.21;9090.0]\",\"AMT_CREDIT_SUM_DEBT_disc_int_[-6981558.21;9090.0]\",\"AMT_CREDIT_SUM_DEBT_disc_int_[-6981558.21;9090.0]\",\"AMT_CREDIT_SUM_DEBT_disc_int_[-6981558.21;9090.0]\",\"AMT_CREDIT_SUM_DEBT_disc_int_[-6981558.21;9090.0]\",\"AMT_CREDIT_SUM_DEBT_disc_int_[-6981558.21;9090.0]\",\"AMT_CREDIT_SUM_DEBT_disc_int_[-6981558.21;9090.0]\",\"AMT_CREDIT_SUM_DEBT_disc_int_[-6981558.21;9090.0]\",\"AMT_CREDIT_SUM_DEBT_disc_int_[-6981558.21;9090.0]\",\"AMT_CREDIT_SUM_DEBT_disc_int_[-6981558.21;9090.0]\",\"AMT_CREDIT_SUM_DEBT_disc_int_[-6981558.21;9090.0]\",\"AMT_CREDIT_SUM_DEBT_disc_int_[-6981558.21;9090.0]\",\"AMT_CREDIT_SUM_DEBT_disc_int_[-6981558.21;9090.0]\",\"AMT_CREDIT_SUM_DEBT_disc_int_[-6981558.21;9090.0]\",\"AMT_CREDIT_SUM_DEBT_disc_int_[-6981558.21;9090.0]\",\"AMT_CREDIT_SUM_DEBT_disc_int_[-6981558.21;9090.0]\",\"AMT_CREDIT_SUM_DEBT_disc_int_[-6981558.21;9090.0]\",\"AMT_CREDIT_SUM_DEBT_disc_int_[-6981558.21;9090.0]\",\"AMT_CREDIT_SUM_DEBT_disc_int_[-6981558.21;9090.0]\",\"AMT_CREDIT_SUM_DEBT_disc_int_[-6981558.21;9090.0]\",\"AMT_CREDIT_SUM_DEBT_disc_int_[-6981558.21;9090.0]\",\"AMT_CREDIT_SUM_DEBT_disc_int_[-6981558.21;9090.0]\",\"AMT_CREDIT_SUM_DEBT_disc_int_[-6981558.21;9090.0]\",\"AMT_CREDIT_SUM_DEBT_disc_int_[-6981558.21;9090.0]\",\"AMT_CREDIT_SUM_DEBT_disc_int_[-6981558.21;9090.0]\",\"AMT_CREDIT_SUM_DEBT_disc_int_[-6981558.21;9090.0]\",\"AMT_CREDIT_SUM_DEBT_disc_int_[-6981558.21;9090.0]\",\"AMT_CREDIT_SUM_DEBT_disc_int_[-6981558.21;9090.0]\",\"AMT_CREDIT_SUM_DEBT_disc_int_[-6981558.21;9090.0]\",\"AMT_CREDIT_SUM_DEBT_disc_int_[-6981558.21;9090.0]\",\"AMT_CREDIT_SUM_DEBT_disc_int_[-6981558.21;9090.0]\",\"AMT_CREDIT_SUM_DEBT_disc_int_[-6981558.21;9090.0]\",\"AMT_CREDIT_SUM_DEBT_disc_int_[-6981558.21;9090.0]\",\"AMT_CREDIT_SUM_DEBT_disc_int_[-6981558.21;9090.0]\",\"AMT_CREDIT_SUM_DEBT_disc_int_[-6981558.21;9090.0]\",\"AMT_CREDIT_SUM_DEBT_disc_int_[-6981558.21;9090.0]\",\"AMT_CREDIT_SUM_DEBT_disc_int_[-6981558.21;9090.0]\",\"AMT_CREDIT_SUM_DEBT_disc_int_[-6981558.21;9090.0]\",\"AMT_CREDIT_SUM_DEBT_disc_int_[-6981558.21;9090.0]\",\"AMT_CREDIT_SUM_DEBT_disc_int_[-6981558.21;9090.0]\",\"AMT_CREDIT_SUM_DEBT_disc_int_[-6981558.21;9090.0]\",\"AMT_CREDIT_SUM_DEBT_disc_int_[-6981558.21;9090.0]\",\"AMT_CREDIT_SUM_DEBT_disc_int_[-6981558.21;9090.0]\",\"AMT_CREDIT_SUM_DEBT_disc_int_[-6981558.21;9090.0]\",\"AMT_CREDIT_SUM_DEBT_disc_int_[-6981558.21;9090.0]\",\"AMT_CREDIT_SUM_DEBT_disc_int_[-6981558.21;9090.0]\",\"AMT_CREDIT_SUM_DEBT_disc_int_[-6981558.21;9090.0]\",\"DAYS_EMPLOYED_disc_int_[-17912;-2420]\",\"DAYS_EMPLOYED_disc_int_[-17912;-2420]\",\"DAYS_EMPLOYED_disc_int_[-17912;-2420]\",\"DAYS_EMPLOYED_disc_int_[-17912;-2420]\",\"DAYS_EMPLOYED_disc_int_[-17912;-2420]\",\"DAYS_EMPLOYED_disc_int_[-17912;-2420]\",\"DAYS_EMPLOYED_disc_int_[-17912;-2420]\",\"DAYS_EMPLOYED_disc_int_[-17912;-2420]\",\"DAYS_EMPLOYED_disc_int_[-17912;-2420]\",\"DAYS_EMPLOYED_disc_int_[-17912;-2420]\",\"DAYS_EMPLOYED_disc_int_[-17912;-2420]\",\"DAYS_EMPLOYED_disc_int_[-17912;-2420]\",\"DAYS_EMPLOYED_disc_int_[-17912;-2420]\",\"DAYS_EMPLOYED_disc_int_[-17912;-2420]\",\"DAYS_EMPLOYED_disc_int_[-17912;-2420]\",\"DAYS_EMPLOYED_disc_int_[-17912;-2420]\",\"DAYS_EMPLOYED_disc_int_[-17912;-2420]\",\"DAYS_EMPLOYED_disc_int_[-17912;-2420]\",\"DAYS_EMPLOYED_disc_int_[-17912;-2420]\",\"DAYS_EMPLOYED_disc_int_[-17912;-2420]\",\"DAYS_EMPLOYED_disc_int_[-17912;-2420]\",\"DAYS_EMPLOYED_disc_int_[-17912;-2420]\",\"DAYS_EMPLOYED_disc_int_[-17912;-2420]\",\"DAYS_EMPLOYED_disc_int_[-17912;-2420]\",\"DAYS_EMPLOYED_disc_int_[-17912;-2420]\",\"DAYS_EMPLOYED_disc_int_[-17912;-2420]\",\"DAYS_EMPLOYED_disc_int_[-17912;-2420]\",\"DAYS_EMPLOYED_disc_int_[-17912;-2420]\",\"DAYS_EMPLOYED_disc_int_[-17912;-2420]\",\"DAYS_EMPLOYED_disc_int_[-17912;-2420]\",\"DAYS_EMPLOYED_disc_int_[-17912;-2420]\",\"DAYS_EMPLOYED_disc_int_[-17912;-2420]\",\"DAYS_EMPLOYED_disc_int_[-17912;-2420]\",\"DAYS_EMPLOYED_disc_int_[-17912;-2420]\",\"DAYS_EMPLOYED_disc_int_[-17912;-2420]\",\"DAYS_EMPLOYED_disc_int_[-17912;-2420]\",\"DAYS_EMPLOYED_disc_int_[-17912;-2420]\",\"DAYS_EMPLOYED_disc_int_[-17912;-2420]\",\"DAYS_EMPLOYED_disc_int_[-17912;-2420]\",\"DAYS_EMPLOYED_disc_int_[-17912;-2420]\",\"DAYS_EMPLOYED_disc_int_[-17912;-2420]\",\"DAYS_EMPLOYED_disc_int_[-17912;-2420]\",\"DAYS_EMPLOYED_disc_int_[-17912;-2420]\",\"DAYS_EMPLOYED_disc_int_[-17912;-2420]\",\"DAYS_EMPLOYED_disc_int_[-17912;-2420]\",\"DAYS_EMPLOYED_disc_int_[-17912;-2420]\",\"DAYS_EMPLOYED_disc_int_[-17912;-2420]\",\"DAYS_EMPLOYED_disc_int_[-17912;-2420]\",\"DAYS_EMPLOYED_disc_int_[-17912;-2420]\",\"DAYS_EMPLOYED_disc_int_[-17912;-2420]\",\"DAYS_EMPLOYED_disc_int_[-17912;-2420]\",\"DAYS_EMPLOYED_disc_int_[-17912;-2420]\",\"DAYS_EMPLOYED_disc_int_[-17912;-2420]\",\"DAYS_EMPLOYED_disc_int_[-17912;-2420]\",\"DAYS_EMPLOYED_disc_int_[-17912;-2420]\",\"DAYS_EMPLOYED_disc_int_[-17912;-2420]\",\"DAYS_EMPLOYED_disc_int_[-17912;-2420]\",\"DAYS_EMPLOYED_disc_int_[-17912;-2420]\",\"DAYS_EMPLOYED_disc_int_[-17912;-2420]\",\"DAYS_EMPLOYED_disc_int_[-17912;-2420]\",\"DAYS_EMPLOYED_disc_int_[-17912;-2420]\",\"DAYS_EMPLOYED_disc_int_[-17912;-2420]\",\"DAYS_EMPLOYED_disc_int_[-17912;-2420]\",\"DAYS_EMPLOYED_disc_int_[-17912;-2420]\",\"DAYS_EMPLOYED_disc_int_[-17912;-2420]\",\"DAYS_EMPLOYED_disc_int_[-17912;-2420]\",\"DAYS_EMPLOYED_disc_int_[-17912;-2420]\",\"DAYS_EMPLOYED_disc_int_[-17912;-2420]\",\"DAYS_EMPLOYED_disc_int_[-17912;-2420]\",\"DAYS_EMPLOYED_disc_int_[-17912;-2420]\",\"DAYS_EMPLOYED_disc_int_[-17912;-2420]\",\"DAYS_EMPLOYED_disc_int_[-17912;-2420]\",\"DAYS_EMPLOYED_disc_int_[-17912;-2420]\",\"DAYS_EMPLOYED_disc_int_[-17912;-2420]\",\"DAYS_EMPLOYED_disc_int_[-17912;-2420]\",\"DAYS_EMPLOYED_disc_int_[-17912;-2420]\",\"DAYS_EMPLOYED_disc_int_[-17912;-2420]\",\"DAYS_EMPLOYED_disc_int_[-17912;-2420]\",\"DAYS_EMPLOYED_disc_int_[-17912;-2420]\",\"DAYS_EMPLOYED_disc_int_[-17912;-2420]\",\"DAYS_EMPLOYED_disc_int_[-17912;-2420]\",\"DAYS_EMPLOYED_disc_int_[-17912;-2420]\",\"DAYS_EMPLOYED_disc_int_[-17912;-2420]\",\"DAYS_EMPLOYED_disc_int_[-17912;-2420]\",\"DAYS_EMPLOYED_disc_int_[-17912;-2420]\",\"DAYS_EMPLOYED_disc_int_[-17912;-2420]\",\"DAYS_EMPLOYED_disc_int_[-17912;-2420]\",\"DAYS_EMPLOYED_disc_int_[-17912;-2420]\",\"DAYS_EMPLOYED_disc_int_[-17912;-2420]\",\"DAYS_EMPLOYED_disc_int_[-17912;-2420]\",\"DAYS_EMPLOYED_disc_int_[-17912;-2420]\",\"DAYS_EMPLOYED_disc_int_[-17912;-2420]\",\"DAYS_EMPLOYED_disc_int_[-17912;-2420]\",\"DAYS_EMPLOYED_disc_int_[-17912;-2420]\",\"DAYS_EMPLOYED_disc_int_[-17912;-2420]\",\"DAYS_EMPLOYED_disc_int_[-17912;-2420]\",\"DAYS_EMPLOYED_disc_int_[-17912;-2420]\",\"DAYS_EMPLOYED_disc_int_[-17912;-2420]\",\"DAYS_EMPLOYED_disc_int_[-17912;-2420]\",\"DAYS_EMPLOYED_disc_int_[-17912;-2420]\",\"DAYS_EMPLOYED_disc_int_[-17912;-2420]\",\"DAYS_EMPLOYED_disc_int_[-17912;-2420]\",\"DAYS_EMPLOYED_disc_int_[-17912;-2420]\",\"DAYS_EMPLOYED_disc_int_[-17912;-2420]\",\"DAYS_EMPLOYED_disc_int_[-17912;-2420]\",\"DAYS_EMPLOYED_disc_int_[-17912;-2420]\",\"DAYS_EMPLOYED_disc_int_[-17912;-2420]\",\"DAYS_EMPLOYED_disc_int_[-17912;-2420]\",\"DAYS_EMPLOYED_disc_int_[-17912;-2420]\",\"DAYS_EMPLOYED_disc_int_[-17912;-2420]\",\"DAYS_EMPLOYED_disc_int_[-17912;-2420]\",\"DAYS_EMPLOYED_disc_int_[-17912;-2420]\",\"DAYS_EMPLOYED_disc_int_[-17912;-2420]\",\"DAYS_EMPLOYED_disc_int_[-17912;-2420]\",\"DAYS_EMPLOYED_disc_int_[-17912;-2420]\",\"DAYS_EMPLOYED_disc_int_[-17912;-2420]\",\"DAYS_EMPLOYED_disc_int_[-17912;-2420]\",\"DAYS_EMPLOYED_disc_int_[-17912;-2420]\",\"DAYS_EMPLOYED_disc_int_[-17912;-2420]\",\"DAYS_EMPLOYED_disc_int_[-17912;-2420]\",\"DAYS_EMPLOYED_disc_int_[-17912;-2420]\",\"DAYS_EMPLOYED_disc_int_[-17912;-2420]\",\"DAYS_EMPLOYED_disc_int_[-17912;-2420]\",\"DAYS_EMPLOYED_disc_int_[-17912;-2420]\",\"DAYS_EMPLOYED_disc_int_[-17912;-2420]\",\"DAYS_EMPLOYED_disc_int_[-17912;-2420]\",\"DAYS_EMPLOYED_disc_int_[-17912;-2420]\",\"DAYS_EMPLOYED_disc_int_[-17912;-2420]\",\"DAYS_EMPLOYED_disc_int_[-17912;-2420]\",\"DAYS_EMPLOYED_disc_int_[-17912;-2420]\",\"DAYS_EMPLOYED_disc_int_[-17912;-2420]\",\"DAYS_EMPLOYED_disc_int_[-17912;-2420]\",\"DAYS_EMPLOYED_disc_int_[-17912;-2420]\",\"DAYS_EMPLOYED_disc_int_[-17912;-2420]\",\"DAYS_EMPLOYED_disc_int_[-17912;-2420]\",\"DAYS_EMPLOYED_disc_int_[-17912;-2420]\",\"DAYS_EMPLOYED_disc_int_[-17912;-2420]\",\"DAYS_EMPLOYED_disc_int_[-17912;-2420]\",\"DAYS_EMPLOYED_disc_int_[-17912;-2420]\",\"DAYS_EMPLOYED_disc_int_[-17912;-2420]\",\"DAYS_EMPLOYED_disc_int_[-17912;-2420]\",\"DAYS_EMPLOYED_disc_int_[-17912;-2420]\"],\"y0\":\" \",\"yaxis\":\"y\",\"type\":\"box\"},{\"alignmentgroup\":\"True\",\"boxpoints\":\"all\",\"fillcolor\":\"rgba(255,255,255,0)\",\"hoveron\":\"points\",\"hovertemplate\":\"One-hot Value=1.0\\u003cbr\\u003eSHAP Value=%{x}\\u003cbr\\u003eFeature=%{y}\\u003cextra\\u003e\\u003c\\u002fextra\\u003e\",\"legendgroup\":\"1.0\",\"line\":{\"color\":\"rgba(255,255,255,0)\"},\"marker\":{\"color\":\"#EF553B\"},\"name\":\"1.0\",\"offsetgroup\":\"1.0\",\"orientation\":\"h\",\"pointpos\":0,\"showlegend\":true,\"x\":[0.062368423,0.062368423,0.06309322,0.07158674,0.062368423,0.02661154,0.052723028,0.05124597,0.0728941,0.047436886,0.034719538,0.04783464,0.0728941,0.047436886,0.07158674,0.06309322,0.054961596,0.07158674,0.047436886,0.023565765,0.02603069,0.02212961,0.054961596,0.0728941,0.047436886,0.0728941,0.062368423,0.052723028,0.07158674,0.062368423,0.062368423,0.0068215462,0.062368423,0.06309322,-0.007898733,0.0728941,0.029025223,0.07158674,0.034719538,0.035703823,0.04783464,0.062368423,0.02661154,0.029601494,0.062368423,0.062368423,-0.007898733,0.07158674,-0.007898733,0.07158674,0.052723028,0.06309322,0.044367246,0.034719538,0.07158674,0.07158674,0.062368423,0.044367246,0.052723028,0.0066679255,0.0066679255,0.04324047,0.047194347,0.062368423,0.07158674,0.044367246,0.0728941,0.029601494,0.054961596,0.0728941,0.07158674,0.04324047,0.0728941,0.023983993,0.044367246,0.029025223,0.05374707,0.052723028,0.05374707,0.05124597,0.029025223,0.07158674,0.0728941,0.0728941,0.021670954,0.047436886,0.062368423,0.013737588,0.062368423,0.013737588,0.07158674,0.0728941,0.047436886,0.0728941,0.052723028,0.029025223,0.02845513,0.0728941,0.07158674,0.05374707,0.04783464,0.054961596,0.062368423,0.027977644,0.029025223,0.062368423,0.052723028,0.062368423,0.07158674,0.04783464,0.04353647,0.013737588,0.062368423,0.07158674,0.07158674,0.062368423,0.04783464,0.029993996,0.035703823,0.062368423,0.062368423,0.062368423,0.044367246,0.04783464,0.047194347,0.07158674,0.052723028,0.04324047,0.044367246,0.062368423,0.062368423,0.07158674,0.07158674,0.07158674,0.02661154,0.044119053,0.044367246,0.0728941,0.052723028,0.07158674,0.07158674,0.07158674,0.05124597,0.052723028,0.013737588,0.027977644,0.04783464,0.047436886,0.062368423,0.05374707,0.062368423,0.054961596,0.052723028,0.07158674,0.06309322,0.062368423,0.07158674,0.044367246,0.062368423,0.062368423,0.07158674,0.02661154,0.023565765,0.06309322,0.02845513,0.044297926,0.054961596,0.07158674,0.012280322,0.062368423,0.02661154,0.04303968,0.044119053,0.0728941,0.037720673,0.05374707,0.052723028,0.013737588,0.0068215462,0.07158674,0.044367246,0.04783464,0.013737588,0.062368423,0.0728941,0.047436886,0.029025223,0.054961596,0.044367246,0.07158674,0.029601494,0.0728941,0.027977644,0.07158674,0.0728941,0.044297926,0.0728941,0.07158674,0.06309322,0.029025223,0.044367246,-0.008493441,0.04783464,0.047436886,0.05374707,0.06309322,0.07158674,0.062368423,0.07158674,0.052723028,0.0728941,0.0068215462,0.047436886,0.06309322,0.06309322,0.05374707,0.044297926,0.07158674,0.052723028,0.0728941,0.02375973,0.03462889,0.07158674,0.012280322,0.0728941,0.0068215462,0.062368423,0.05124597,0.062368423,0.062368423,0.02845513,-0.008493441,0.052723028,0.044367246,0.047436886,0.062368423,0.07158674,0.052723028,0.062368423,0.052723028,0.02661154,0.062368423,0.052723028,0.052723028,0.047194347,0.027977644,0.07158674,0.07158674,0.07158674,0.062368423,0.07158674,0.0728941,0.07158674,0.062368423,0.0728941,0.034719538,0.04783464,0.052723028,0.07158674,0.052723028,0.062368423,0.07158674,0.0728941,0.062368423,0.044367246,0.047436886,0.044119053,0.062368423,0.062368423,0.07158674,0.029025223,0.052723028,0.044367246,0.07158674,0.062368423,0.062368423,0.07158674,0.062368423,0.062368423,0.062368423,0.0728941,0.02603069,0.07158674,0.40685204,0.40685204,0.40272278,0.39728397,0.43037233,0.37472048,0.41284955,0.3992229,0.38301516,0.43514755,0.31823677,0.38033357,0.36929506,0.41696241,0.3992229,0.42368338,0.353404,0.29692027,0.323442,0.37633887,0.43037233,0.37472048,0.36552784,0.41284955,0.35832307,0.42368338,0.29692027,0.29692027,0.37472048,0.43037233,0.36929506,0.31932408,0.31932408,0.3531553,0.42368338,0.40272278,0.35832307,0.3992229,0.36929506,0.3531553,0.37633887,0.39728397,0.37633887,0.40685204,0.40272278,0.3170853,0.43037233,0.44333383,0.33027127,0.42368338,0.44333383,0.34801993,0.42368338,0.33027127,0.35046285,0.37633887,0.38623515,0.40685204,0.41696241,0.41284955,0.3992229,0.38302037,0.37633887,0.34801993,0.40272278,0.41284955,0.4124079,0.33027127,0.41696241,0.41284955,0.36552784,0.41284955,0.3531553,0.36929506,0.39728397,0.33027127,0.38302037,0.41284955,0.3692209,0.3992229,0.4024082,0.31823677,0.38623515,0.3992229,0.33569866,0.31821072,0.40272278,0.34445328,0.33027127,0.353404,0.41284955,0.3692209,0.33027127,0.37633887,0.3992229,0.35832307,0.38302037,0.37633887,0.3692209,0.43037233,0.30023563,0.41284955,0.3692209,0.353404,0.42368338,0.38301516,0.33791834,0.33791834,0.3721548,0.34801993,0.3803322,0.33569866,0.353404,0.39728397,0.38623515,0.30023563,0.40685204,0.38302037,0.37472048,0.41284955,0.40685204,0.37633887,0.31821072,0.42368338,0.44333383,0.57245946,0.45999268,0.4730589,0.5035075,0.5697512,0.55120915,0.4139722,0.44999534,0.4822505,0.48133537,0.4139722,0.4139722,0.5035075,0.43573692,0.43573692,0.4814047,0.48133537,0.5035075,0.4814047,0.48492655,0.51792157,0.51792157,0.5288047,0.46680892,0.55120915,0.5697512,0.43654212,0.4664765,0.43654212,0.5726275,0.46522307,0.55120915,0.51792157,0.4664765,0.43654212,0.5288047,0.4822505,0.55120915,0.4814047,0.5035075,0.52209836,0.43654212,0.51792157,0.5093767,0.45999268,0.43480352,0.44433567,0.53385603,0.52209836,0.48451492,0.51792157,0.55120915,0.43654212,0.5093767,0.43654212,0.48133537,0.5288047,0.55120915,0.5093767,0.4092957,0.51417816,0.5093767,0.51792157,0.51792157,0.4825246,0.4825246,0.4664765,0.43480352,0.4092957,0.5121906,0.5697512,0.52209836,0.44433567,0.4730589,0.6354723,0.6138299,0.6172592,0.6138299,0.57386744,0.608733,0.6172592,0.5681824,0.5681824,0.59818596,0.5681824,0.5353426,0.56233585,0.6354723,0.5681824,0.5520688,0.6172592,0.51753426,0.58801126,0.54606605,0.60162705,0.57386744,0.51753426,0.51753426,0.5323792,0.5323792,0.6354723,0.59319305,0.6354723,0.556747,0.54606605,0.54606605,0.60864294,0.6354723,0.6138299,0.6172592,0.5681824,0.5132263,0.56611884,0.608733,0.5132263,0.5683465,0.5681824,0.54606605,0.6138299,0.6354723,0.6354723,0.5390373,0.54606605,0.56611884,0.63786006,0.5132263,0.608733,0.60864294,0.6354723,0.608733,0.59273964,0.6172592,0.59319305,0.6172592,0.57386744,0.608733,0.5132263,0.5390373,0.5681824,0.5893421,0.57386744,0.608733,0.5706473,0.6354723,0.5036036,0.573268,0.608733,0.57386744,0.5132263,0.5520688,0.5132263,0.5681824,0.54606605,0.608733,0.60864294,0.5390373,0.608733,0.5706473,0.608733,0.54606605,0.51202893,0.6354723,0.5855098,0.5681824,0.608733,0.60162705,0.5520688,0.5681824,0.59818596,0.5706473,0.56882524,0.56611884,0.5036036,0.5520688,0.51202893,0.6138299,0.5681824,0.5923412,0.57386744,0.6354108,0.6354723,0.59319305,0.5390373,0.6138299,0.608733,0.5681824,0.6354723,0.54606605,0.6354723,0.573268,0.608733,0.608733,0.5353426,0.09137044,0.104316644,0.104316644,0.08389246,0.07258304,0.10151298,0.104316644,0.075128466,0.0772297,0.0772297,0.084784575,0.090822496,0.08160981,0.09137044,0.08469092,0.09421189,0.09529413,0.07664456,0.11365825,0.08469092,0.09529413,0.10151298,0.09137044,0.08389246,0.110177025,0.10151298,0.102387175,0.09529413,0.09421189,0.09137044,0.09518417,0.08546014,0.10318665,0.07258304,0.110177025,0.08469092,0.09886818,0.07518816,0.09137044,0.09529413,0.07588388,0.08469092,0.104316644,0.10151298,0.104316644,0.104316644,0.104316644,0.09097283,0.09137044,0.08389246,0.08469092,0.10363959,0.10151298,0.07664456,0.08160981,0.11847206,0.11365825,0.08639767,0.104316644,0.0944566,0.104316644,0.104316644,0.09421189,0.09886818,0.10151298,0.10151298,0.09137044,0.08389246,0.09421189,0.09137044,0.07664456,0.10151298,0.10151298,0.104316644,0.08160981,0.10318665,0.09035672,0.09035672,0.11428986,0.07258304,0.080996424,0.09886818,0.104316644,0.10151298,0.07258304,0.08469092,0.0944566,0.110177025,0.10318665,0.08469092,0.07664456,0.10151298,0.09137044,0.11428986,0.08469092,0.07982766,0.09137044,0.10363959,0.10090972,0.10090972,0.090822496,0.10363959,0.07161994,0.07664456,0.07258304,0.10151298,0.0772297,0.08469092,0.08469092,0.09529413,0.09097283,0.104316644,0.07518816,0.07664456,0.08160981,0.08152669,0.10824572,0.09137044,0.09886818,0.104316644,0.08152669,0.096775495,0.084784575,0.09886818,0.10824572,0.10151298,0.080372185,0.09137044,0.08469092,0.09529413,0.08469092,0.10363959,0.0772297,0.09097283,0.08469092,0.09137044,0.10151298,0.07258304,0.07664456,0.10090972,0.07664456,0.09421189,0.11365825,0.07664456,0.110177025,0.104316644,0.07258304,0.10589245,0.10363959,0.104316644,0.104316644,0.096775495,0.09137044,0.10151298,0.11365825,0.0907016,0.10824572,0.09137044,0.09421189,0.09137044,0.084784575,0.09421189,0.07664456,0.104316644,0.07161994,0.10151298,0.07664456,0.07258304,0.09137044,0.10151298,0.104316644,0.084784575,0.09137044,0.11365825,0.11847206,0.104316644,0.07588388,0.104316644,0.09097283,0.09421189,0.104316644,0.11365825,0.080996424,0.10151298,0.09421189,0.09137044,0.11428986,0.10318665,0.104316644,0.104316644,0.10151298,0.10151298,0.10151298,0.104414366,0.08469092,0.10151298,0.10151298,0.07664456,0.10151298,0.084784575,0.07664456,0.090822496,0.07664456,0.10824572,0.10589245,0.07664456,0.07664456,0.11365825,0.07664456,0.09529413,0.104316644,0.10090972,0.104316644,0.0848695,0.110177025,0.10151298,0.07664456,0.08389246,0.091963716,0.09137044,0.104316644,0.09137044,0.10151298,0.104316644,0.09137044,0.07664456,0.104316644,0.10151298,0.07664456,0.08389246,0.07664456,0.07664456,0.084784575,0.09686945,0.09137044,0.09137044,0.110177025,0.07258304,0.10151298,0.111199565,0.104316644,0.084784575,0.07664456,0.08293138,0.104414366,0.07664456,0.08469092,0.09387652,0.10090972,0.09137044,0.09097283,0.10824572,0.10151298,0.11365825,0.09137044,0.0848695,0.09137044,0.10824572,0.104316644,0.08469092,0.09529413,0.09137044,0.10363959,0.09137044,0.110177025,0.10151298,0.084784575,0.0944566,0.07161994,0.08469092,0.10589245,0.10151298,0.09097283,0.07664456,0.09137044,0.084784575,0.08469092,0.09137044,0.09686945,0.084784575,0.08469092,0.10151298,0.08389246,0.10363959,0.09137044,0.0848695,0.08160981,0.07664456,0.07258304,0.11365825,0.09137044,0.08488028,0.0848695,0.09529413,0.10090972,0.08389246,0.084784575,0.10151298,0.104316644,0.09137044,0.10151298,0.08639767,0.08469092,0.07664456,0.09529413,0.09137044,0.09886818,0.08389246,0.09421189,0.08389246,0.10090972,0.07664456,0.07664456,0.09686945,0.10151298,0.08469092,0.086809404,0.096775495,0.09137044,0.10151298,0.111199565,0.09137044,0.08469092,0.104316644,0.090822496,0.104316644,0.104316644,0.07664456,0.0772297,0.09137044,0.09529413,0.104316644,0.10151298,0.104316644,0.104316644,0.07258304,0.080996424,0.07664456,0.10589245,0.10151298,0.10151298,0.10151298,0.104316644,0.10151298,0.08469092,0.10151298,0.104316644,0.08469092,0.11365825,0.10151298,0.0772297,0.09137044,0.09137044,0.104316644,0.084784575,0.10151298,0.08469092,0.104316644,0.07518816,0.09529413,0.104414366,0.09137044,0.104316644,0.07258304,0.07664456,0.104316644,0.10151298,0.10363959,0.07258304,0.10151298,0.09421189,0.104316644,0.104316644,0.10151298,0.104316644,0.084784575,0.104316644,0.084784575,0.07588388,0.104316644,0.09886818,0.07588388,0.08469092,0.09518417,0.10151298,0.08152669,0.07440759,0.07025022,0.07780652,0.067278095,0.07462866,0.067278095,0.07589049,0.0721652,0.07395733,0.08146769,0.07035164,0.06733405,0.07440759,0.07636517,0.07462866,0.07346566,0.07263602,0.076606065,0.07636517,0.07346566,0.07780652,0.07440759,0.07223552,0.07280844,0.07780652,0.07346566,0.07636434,0.07440759,0.072050884,0.0675597,0.07025022,0.06787144,0.07810739,0.07223552,0.07636517,0.06954815,0.07091285,0.07440759,0.07346566,0.07636517,0.08146769,0.07780652,0.07335871,0.07462866,0.07156288,0.07440759,0.07810739,0.07383278,0.07636517,0.06746064,0.070224494,0.07780652,0.07263602,0.06733405,0.076606065,0.07589049,0.06954815,0.07383278,0.07810739,0.07780652,0.07383278,0.07780652,0.07440759,0.08146769,0.076606065,0.07440759,0.07263602,0.07780652,0.07780652,0.06733405,0.08146769,0.0675597,0.06876024,0.07810739,0.06876024,0.07096119,0.07025022,0.07188091,0.06954815,0.07780652,0.07810739,0.07395733,0.07025022,0.07636517,0.07223552,0.0675597,0.07636517,0.07263602,0.07780652,0.07440759,0.07096119,0.07636517,0.071587674,0.07440759,0.070224494,0.07567594,0.08146769,0.07567594,0.07035164,0.070224494,0.06924286,0.07263602,0.07025022,0.07780652,0.067278095,0.07636517,0.07462866,0.07395733,0.07636517,0.07173021,0.07346566,0.07156288,0.07091285,0.07263602,0.06733405,0.06966597,0.07440759,0.06954815,0.068362944,0.07810739,0.0721652,0.06954815,0.06966597,0.07177346,0.07780652,0.07440759,0.07636517,0.07346566,0.07636517,0.08146769,0.070224494,0.067278095,0.07156288,0.07636517,0.07440759,0.06787144,0.07780652,0.07025022,0.07263602,0.07567594,0.07263602,0.07263602,0.07223552,0.07025022,0.070224494,0.08146769,0.07810739,0.068362944,0.07395733,0.07440759,0.07780652,0.0688419,0.06966597,0.07440759,0.07440759,0.06787144,0.0721652,0.07810739,0.07263602,0.07810739,0.06924286,0.07780652,0.07263602,0.07025022,0.07440759,0.07780652,0.0721652,0.07440759,0.07246403,0.07246403,0.070433944,0.07462866,0.07156288,0.07188091,0.07780652,0.08146769,0.07440759,0.07096119,0.0675597,0.07780652,0.07780652,0.07462866,0.07780652,0.07589049,0.07636517,0.08146769,0.07780652,0.07780652,0.07263602,0.07780652,0.0721652,0.07263602,0.07035164,0.08146769,0.07263602,0.06966597,0.07263602,0.07263602,0.07263602,0.07346566,0.07567594,0.066467136,0.07223552,0.08146769,0.07780652,0.07263602,0.0696356,0.07440759,0.07440759,0.07780652,0.07440759,0.07263602,0.07780652,0.07589049,0.07810739,0.07636434,0.07263602,0.07263602,0.07263602,0.0721652,0.07440759,0.07440759,0.07223552,0.07025022,0.07810739,0.07780652,0.07256839,0.0721652,0.07589049,0.07395733,0.07263602,0.07263602,0.07636517,0.07019886,0.07567594,0.08146769,0.07440759,0.07156288,0.06966597,0.07335871,0.07780652,0.07440759,0.066467136,0.07440759,0.06966597,0.07636517,0.07346566,0.07810739,0.07440759,0.070224494,0.07440759,0.07223552,0.07780652,0.0721652,0.06924286,0.07636517,0.07780652,0.07156288,0.07263602,0.07440759,0.0721652,0.07636517,0.07440759,0.0721652,0.07636517,0.07780652,0.070224494,0.07440759,0.066467136,0.06733405,0.07263602,0.07025022,0.07810739,0.07440759,0.07003629,0.066467136,0.07346566,0.07567594,0.0721652,0.07780652,0.07440759,0.07780652,0.08146769,0.07636517,0.07335871,0.07263602,0.07346566,0.07440759,0.06954815,0.07280844,0.07810739,0.07567594,0.07263602,0.073001474,0.07263602,0.07780652,0.08146769,0.07636517,0.073001474,0.06819721,0.068362944,0.07440759,0.070850395,0.07780652,0.07810739,0.07440759,0.07636517,0.07335871,0.07035164,0.07263602,0.07810739,0.067278095,0.08146769,0.07440759,0.07346566,0.07780652,0.07353236,0.08146769,0.08146769,0.07589049,0.08146769,0.07025022,0.08146769,0.07188091,0.07810739,0.07263602,0.07780652,0.07780652,0.07780652,0.07780652,0.07636517,0.07780652,0.07636517,0.076606065,0.08146769,0.07780652,0.067278095,0.08146769,0.07440759,0.07440759,0.0721652,0.07780652,0.07636517,0.07091285,0.07346566,0.07440759,0.07025022,0.07263602,0.07780652,0.070224494,0.08146769,0.07025022,0.07780652,0.07256839,0.07780652,0.0721652,0.0721652,0.06954815,0.07246403,0.07636517,0.072050884,0.07780652,0.07817934,0.10480378,0.10321104,0.10321104,0.1047776,0.10321104,0.07302034,0.07179995,0.091740936,0.07409527,0.080481276,0.10480378,0.07302034,0.10289537,0.09240803,0.075710475,0.09898022,0.09240803,0.1047776,0.10480378,0.10079509,0.065660596,0.1047776,0.09513568,0.09240803,0.07230609,0.10289537,0.10480378,0.08704676,0.09350166,0.082394935,0.10079509,0.0972924,0.10480378,0.09240803,0.10321104,0.080481276,0.1047776,0.10321104,0.10321104,0.06796908,0.10321104,0.07302034,0.09729867,0.10480378,0.082394935,0.07817934,0.06596518,0.08936543,0.1047776,0.075710475,0.09688934,0.09898022,0.08963344,0.10321104,0.07179995,0.10321104,0.10321104,0.10289537,0.0972924,0.06596518,0.082394935,0.1047776,0.06596518,0.1047776,0.10480378,0.080481276,0.076607525,0.10289537,0.075710475,0.10480378,0.1047776,0.1047776,0.10321104,0.076607525,0.080481276,0.09350166,0.082394935,0.09774769,0.0972924,0.10321104,0.1047776,0.082394935,0.076607525,0.07409527,0.10079509,0.09350166,0.1047776,0.10480378,0.09774769,0.10480378,0.076607525,0.08936543,0.098015845,0.080481276,0.098015845,0.08936543,0.1047776,0.07302034,0.07409527,0.09240803,0.09729867,0.10321104,0.08771854,0.10480378,0.0972924,0.10321104,0.08277922,0.082394935,0.091740936,0.0972924,0.08771854,0.1047776,0.10480378,0.09240803,0.080481276,0.08936543,0.07158841,0.09729867,0.10480378,0.1047776,0.098015845,0.10289537,0.09898022,0.10079509,0.10321104,0.08735147,0.08936543,0.10321104,0.080481276,0.082394935,0.10321104,0.08277922,0.07409527,0.10480378,0.1047776,0.09898022,0.08771854,0.10480378,0.10289537,0.10480378,0.091740936,0.10289537,0.082394935,0.10321104,0.082394935,0.07817934,0.1047776,0.10480378,0.1047776,0.10321104,0.091740936,0.10480378,0.09898022,0.09688934,0.07302034,0.10321104,0.10321104,0.09729867,0.10289537,0.10321104,0.076607525,0.09898022,0.1047776,0.080481276,0.10289537,0.10480378,0.09774769,0.09350166,0.076607525,0.10321104,0.10321104,0.1047776,0.1047776,0.07302034,0.1047776,0.07179995,0.09740582,0.076607525,0.080481276,0.1047776,0.1047776,0.1047776,0.091740936,0.080481276,0.08771854,0.08735147,0.09898022,0.09240803,0.10321104,0.098015845,0.10321104,0.10079509,0.080481276,0.07817934,0.1047776,0.08516947,0.10480378,0.10321104,0.10480378,0.1047776,0.076607525,0.10321104,0.10480378,0.10321104,0.1047776,0.07179995,0.082394935,0.07230609,0.07158841,0.091740936,0.090642385,0.10480378,0.10480378,0.10079509,0.082394935,0.1047776,0.0866611,0.06291336,0.10321104,0.091740936,0.07179995,0.07409527,0.09740582,0.098015845,0.080481276,0.10480378,0.09729867,0.08771854,0.06796908,0.1047776,0.076607525,0.09898022,0.10480378,0.10480378,0.08771854,0.10321104,0.09240803,0.082394935,0.10480378,0.08936543,0.10480378,0.10079509,0.076607525,0.1047776,0.091740936,0.08735147,0.1047776,0.09729867,0.10480378,0.091740936,0.10480378,0.090642385,0.091740936,0.1047776,0.08936543,0.076607525,0.10480378,0.06260058,0.09898022,0.082394935,0.10480378,0.08563632,0.09240803,0.098015845,0.091740936,0.1047776,0.10321104,0.10480378,0.1047776,0.080481276,0.08963344,0.06796908,0.09240803,0.10480378,0.0972924,0.065660596,0.082394935,0.10289537,0.098015845,0.06994754,0.090642385,0.1047776,0.080481276,0.06994754,0.08277922,0.10480378,0.1047776,0.082394935,0.0866611,0.10480378,0.06796908,0.10321104,0.10321104,0.10321104,0.082394935,0.07158841,0.07817934,0.06260058,0.080481276,0.10480378,0.076607525,0.09240803,0.10321104,0.1047776,0.06655873,0.080481276,0.10321104,0.080481276,0.07179995,0.10321104,0.080481276,0.080481276,0.082394935,0.08735147,0.1047776,0.1047776,0.1047776,0.10321104,0.1047776,0.1047776,0.10321104,0.075710475,0.09898022,0.080481276,0.1047776,0.080481276,0.10480378,0.10480378,0.10321104,0.091740936,0.1047776,0.10321104,0.076607525,0.09240803,0.09740582,0.10480378,0.10321104,0.10321104,0.1047776,0.08936543,0.080481276,0.076607525,0.1047776,0.10289537,0.10321104,0.10321104,0.06291336,0.1047776,0.10321104,0.07817934,0.091740936,0.10321104,0.091740936,0.10321104,0.0972924,0.08704676,0.1047776],\"x0\":\" \",\"xaxis\":\"x\",\"y\":[\"AMT_CREDIT_SUM_disc_int_[967500.0;1017957917.38]\",\"AMT_CREDIT_SUM_disc_int_[967500.0;1017957917.38]\",\"AMT_CREDIT_SUM_disc_int_[967500.0;1017957917.38]\",\"AMT_CREDIT_SUM_disc_int_[967500.0;1017957917.38]\",\"AMT_CREDIT_SUM_disc_int_[967500.0;1017957917.38]\",\"AMT_CREDIT_SUM_disc_int_[967500.0;1017957917.38]\",\"AMT_CREDIT_SUM_disc_int_[967500.0;1017957917.38]\",\"AMT_CREDIT_SUM_disc_int_[967500.0;1017957917.38]\",\"AMT_CREDIT_SUM_disc_int_[967500.0;1017957917.38]\",\"AMT_CREDIT_SUM_disc_int_[967500.0;1017957917.38]\",\"AMT_CREDIT_SUM_disc_int_[967500.0;1017957917.38]\",\"AMT_CREDIT_SUM_disc_int_[967500.0;1017957917.38]\",\"AMT_CREDIT_SUM_disc_int_[967500.0;1017957917.38]\",\"AMT_CREDIT_SUM_disc_int_[967500.0;1017957917.38]\",\"AMT_CREDIT_SUM_disc_int_[967500.0;1017957917.38]\",\"AMT_CREDIT_SUM_disc_int_[967500.0;1017957917.38]\",\"AMT_CREDIT_SUM_disc_int_[967500.0;1017957917.38]\",\"AMT_CREDIT_SUM_disc_int_[967500.0;1017957917.38]\",\"AMT_CREDIT_SUM_disc_int_[967500.0;1017957917.38]\",\"AMT_CREDIT_SUM_disc_int_[967500.0;1017957917.38]\",\"AMT_CREDIT_SUM_disc_int_[967500.0;1017957917.38]\",\"AMT_CREDIT_SUM_disc_int_[967500.0;1017957917.38]\",\"AMT_CREDIT_SUM_disc_int_[967500.0;1017957917.38]\",\"AMT_CREDIT_SUM_disc_int_[967500.0;1017957917.38]\",\"AMT_CREDIT_SUM_disc_int_[967500.0;1017957917.38]\",\"AMT_CREDIT_SUM_disc_int_[967500.0;1017957917.38]\",\"AMT_CREDIT_SUM_disc_int_[967500.0;1017957917.38]\",\"AMT_CREDIT_SUM_disc_int_[967500.0;1017957917.38]\",\"AMT_CREDIT_SUM_disc_int_[967500.0;1017957917.38]\",\"AMT_CREDIT_SUM_disc_int_[967500.0;1017957917.38]\",\"AMT_CREDIT_SUM_disc_int_[967500.0;1017957917.38]\",\"AMT_CREDIT_SUM_disc_int_[967500.0;1017957917.38]\",\"AMT_CREDIT_SUM_disc_int_[967500.0;1017957917.38]\",\"AMT_CREDIT_SUM_disc_int_[967500.0;1017957917.38]\",\"AMT_CREDIT_SUM_disc_int_[967500.0;1017957917.38]\",\"AMT_CREDIT_SUM_disc_int_[967500.0;1017957917.38]\",\"AMT_CREDIT_SUM_disc_int_[967500.0;1017957917.38]\",\"AMT_CREDIT_SUM_disc_int_[967500.0;1017957917.38]\",\"AMT_CREDIT_SUM_disc_int_[967500.0;1017957917.38]\",\"AMT_CREDIT_SUM_disc_int_[967500.0;1017957917.38]\",\"AMT_CREDIT_SUM_disc_int_[967500.0;1017957917.38]\",\"AMT_CREDIT_SUM_disc_int_[967500.0;1017957917.38]\",\"AMT_CREDIT_SUM_disc_int_[967500.0;1017957917.38]\",\"AMT_CREDIT_SUM_disc_int_[967500.0;1017957917.38]\",\"AMT_CREDIT_SUM_disc_int_[967500.0;1017957917.38]\",\"AMT_CREDIT_SUM_disc_int_[967500.0;1017957917.38]\",\"AMT_CREDIT_SUM_disc_int_[967500.0;1017957917.38]\",\"AMT_CREDIT_SUM_disc_int_[967500.0;1017957917.38]\",\"AMT_CREDIT_SUM_disc_int_[967500.0;1017957917.38]\",\"AMT_CREDIT_SUM_disc_int_[967500.0;1017957917.38]\",\"AMT_CREDIT_SUM_disc_int_[967500.0;1017957917.38]\",\"AMT_CREDIT_SUM_disc_int_[967500.0;1017957917.38]\",\"AMT_CREDIT_SUM_disc_int_[967500.0;1017957917.38]\",\"AMT_CREDIT_SUM_disc_int_[967500.0;1017957917.38]\",\"AMT_CREDIT_SUM_disc_int_[967500.0;1017957917.38]\",\"AMT_CREDIT_SUM_disc_int_[967500.0;1017957917.38]\",\"AMT_CREDIT_SUM_disc_int_[967500.0;1017957917.38]\",\"AMT_CREDIT_SUM_disc_int_[967500.0;1017957917.38]\",\"AMT_CREDIT_SUM_disc_int_[967500.0;1017957917.38]\",\"AMT_CREDIT_SUM_disc_int_[967500.0;1017957917.38]\",\"AMT_CREDIT_SUM_disc_int_[967500.0;1017957917.38]\",\"AMT_CREDIT_SUM_disc_int_[967500.0;1017957917.38]\",\"AMT_CREDIT_SUM_disc_int_[967500.0;1017957917.38]\",\"AMT_CREDIT_SUM_disc_int_[967500.0;1017957917.38]\",\"AMT_CREDIT_SUM_disc_int_[967500.0;1017957917.38]\",\"AMT_CREDIT_SUM_disc_int_[967500.0;1017957917.38]\",\"AMT_CREDIT_SUM_disc_int_[967500.0;1017957917.38]\",\"AMT_CREDIT_SUM_disc_int_[967500.0;1017957917.38]\",\"AMT_CREDIT_SUM_disc_int_[967500.0;1017957917.38]\",\"AMT_CREDIT_SUM_disc_int_[967500.0;1017957917.38]\",\"AMT_CREDIT_SUM_disc_int_[967500.0;1017957917.38]\",\"AMT_CREDIT_SUM_disc_int_[967500.0;1017957917.38]\",\"AMT_CREDIT_SUM_disc_int_[967500.0;1017957917.38]\",\"AMT_CREDIT_SUM_disc_int_[967500.0;1017957917.38]\",\"AMT_CREDIT_SUM_disc_int_[967500.0;1017957917.38]\",\"AMT_CREDIT_SUM_disc_int_[967500.0;1017957917.38]\",\"AMT_CREDIT_SUM_disc_int_[967500.0;1017957917.38]\",\"AMT_CREDIT_SUM_disc_int_[967500.0;1017957917.38]\",\"AMT_CREDIT_SUM_disc_int_[967500.0;1017957917.38]\",\"AMT_CREDIT_SUM_disc_int_[967500.0;1017957917.38]\",\"AMT_CREDIT_SUM_disc_int_[967500.0;1017957917.38]\",\"AMT_CREDIT_SUM_disc_int_[967500.0;1017957917.38]\",\"AMT_CREDIT_SUM_disc_int_[967500.0;1017957917.38]\",\"AMT_CREDIT_SUM_disc_int_[967500.0;1017957917.38]\",\"AMT_CREDIT_SUM_disc_int_[967500.0;1017957917.38]\",\"AMT_CREDIT_SUM_disc_int_[967500.0;1017957917.38]\",\"AMT_CREDIT_SUM_disc_int_[967500.0;1017957917.38]\",\"AMT_CREDIT_SUM_disc_int_[967500.0;1017957917.38]\",\"AMT_CREDIT_SUM_disc_int_[967500.0;1017957917.38]\",\"AMT_CREDIT_SUM_disc_int_[967500.0;1017957917.38]\",\"AMT_CREDIT_SUM_disc_int_[967500.0;1017957917.38]\",\"AMT_CREDIT_SUM_disc_int_[967500.0;1017957917.38]\",\"AMT_CREDIT_SUM_disc_int_[967500.0;1017957917.38]\",\"AMT_CREDIT_SUM_disc_int_[967500.0;1017957917.38]\",\"AMT_CREDIT_SUM_disc_int_[967500.0;1017957917.38]\",\"AMT_CREDIT_SUM_disc_int_[967500.0;1017957917.38]\",\"AMT_CREDIT_SUM_disc_int_[967500.0;1017957917.38]\",\"AMT_CREDIT_SUM_disc_int_[967500.0;1017957917.38]\",\"AMT_CREDIT_SUM_disc_int_[967500.0;1017957917.38]\",\"AMT_CREDIT_SUM_disc_int_[967500.0;1017957917.38]\",\"AMT_CREDIT_SUM_disc_int_[967500.0;1017957917.38]\",\"AMT_CREDIT_SUM_disc_int_[967500.0;1017957917.38]\",\"AMT_CREDIT_SUM_disc_int_[967500.0;1017957917.38]\",\"AMT_CREDIT_SUM_disc_int_[967500.0;1017957917.38]\",\"AMT_CREDIT_SUM_disc_int_[967500.0;1017957917.38]\",\"AMT_CREDIT_SUM_disc_int_[967500.0;1017957917.38]\",\"AMT_CREDIT_SUM_disc_int_[967500.0;1017957917.38]\",\"AMT_CREDIT_SUM_disc_int_[967500.0;1017957917.38]\",\"AMT_CREDIT_SUM_disc_int_[967500.0;1017957917.38]\",\"AMT_CREDIT_SUM_disc_int_[967500.0;1017957917.38]\",\"AMT_CREDIT_SUM_disc_int_[967500.0;1017957917.38]\",\"AMT_CREDIT_SUM_disc_int_[967500.0;1017957917.38]\",\"AMT_CREDIT_SUM_disc_int_[967500.0;1017957917.38]\",\"AMT_CREDIT_SUM_disc_int_[967500.0;1017957917.38]\",\"AMT_CREDIT_SUM_disc_int_[967500.0;1017957917.38]\",\"AMT_CREDIT_SUM_disc_int_[967500.0;1017957917.38]\",\"AMT_CREDIT_SUM_disc_int_[967500.0;1017957917.38]\",\"AMT_CREDIT_SUM_disc_int_[967500.0;1017957917.38]\",\"AMT_CREDIT_SUM_disc_int_[967500.0;1017957917.38]\",\"AMT_CREDIT_SUM_disc_int_[967500.0;1017957917.38]\",\"AMT_CREDIT_SUM_disc_int_[967500.0;1017957917.38]\",\"AMT_CREDIT_SUM_disc_int_[967500.0;1017957917.38]\",\"AMT_CREDIT_SUM_disc_int_[967500.0;1017957917.38]\",\"AMT_CREDIT_SUM_disc_int_[967500.0;1017957917.38]\",\"AMT_CREDIT_SUM_disc_int_[967500.0;1017957917.38]\",\"AMT_CREDIT_SUM_disc_int_[967500.0;1017957917.38]\",\"AMT_CREDIT_SUM_disc_int_[967500.0;1017957917.38]\",\"AMT_CREDIT_SUM_disc_int_[967500.0;1017957917.38]\",\"AMT_CREDIT_SUM_disc_int_[967500.0;1017957917.38]\",\"AMT_CREDIT_SUM_disc_int_[967500.0;1017957917.38]\",\"AMT_CREDIT_SUM_disc_int_[967500.0;1017957917.38]\",\"AMT_CREDIT_SUM_disc_int_[967500.0;1017957917.38]\",\"AMT_CREDIT_SUM_disc_int_[967500.0;1017957917.38]\",\"AMT_CREDIT_SUM_disc_int_[967500.0;1017957917.38]\",\"AMT_CREDIT_SUM_disc_int_[967500.0;1017957917.38]\",\"AMT_CREDIT_SUM_disc_int_[967500.0;1017957917.38]\",\"AMT_CREDIT_SUM_disc_int_[967500.0;1017957917.38]\",\"AMT_CREDIT_SUM_disc_int_[967500.0;1017957917.38]\",\"AMT_CREDIT_SUM_disc_int_[967500.0;1017957917.38]\",\"AMT_CREDIT_SUM_disc_int_[967500.0;1017957917.38]\",\"AMT_CREDIT_SUM_disc_int_[967500.0;1017957917.38]\",\"AMT_CREDIT_SUM_disc_int_[967500.0;1017957917.38]\",\"AMT_CREDIT_SUM_disc_int_[967500.0;1017957917.38]\",\"AMT_CREDIT_SUM_disc_int_[967500.0;1017957917.38]\",\"AMT_CREDIT_SUM_disc_int_[967500.0;1017957917.38]\",\"AMT_CREDIT_SUM_disc_int_[967500.0;1017957917.38]\",\"AMT_CREDIT_SUM_disc_int_[967500.0;1017957917.38]\",\"AMT_CREDIT_SUM_disc_int_[967500.0;1017957917.38]\",\"AMT_CREDIT_SUM_disc_int_[967500.0;1017957917.38]\",\"AMT_CREDIT_SUM_disc_int_[967500.0;1017957917.38]\",\"AMT_CREDIT_SUM_disc_int_[967500.0;1017957917.38]\",\"AMT_CREDIT_SUM_disc_int_[967500.0;1017957917.38]\",\"AMT_CREDIT_SUM_disc_int_[967500.0;1017957917.38]\",\"AMT_CREDIT_SUM_disc_int_[967500.0;1017957917.38]\",\"AMT_CREDIT_SUM_disc_int_[967500.0;1017957917.38]\",\"AMT_CREDIT_SUM_disc_int_[967500.0;1017957917.38]\",\"AMT_CREDIT_SUM_disc_int_[967500.0;1017957917.38]\",\"AMT_CREDIT_SUM_disc_int_[967500.0;1017957917.38]\",\"AMT_CREDIT_SUM_disc_int_[967500.0;1017957917.38]\",\"AMT_CREDIT_SUM_disc_int_[967500.0;1017957917.38]\",\"AMT_CREDIT_SUM_disc_int_[967500.0;1017957917.38]\",\"AMT_CREDIT_SUM_disc_int_[967500.0;1017957917.38]\",\"AMT_CREDIT_SUM_disc_int_[967500.0;1017957917.38]\",\"AMT_CREDIT_SUM_disc_int_[967500.0;1017957917.38]\",\"AMT_CREDIT_SUM_disc_int_[967500.0;1017957917.38]\",\"AMT_CREDIT_SUM_disc_int_[967500.0;1017957917.38]\",\"AMT_CREDIT_SUM_disc_int_[967500.0;1017957917.38]\",\"AMT_CREDIT_SUM_disc_int_[967500.0;1017957917.38]\",\"AMT_CREDIT_SUM_disc_int_[967500.0;1017957917.38]\",\"AMT_CREDIT_SUM_disc_int_[967500.0;1017957917.38]\",\"AMT_CREDIT_SUM_disc_int_[967500.0;1017957917.38]\",\"AMT_CREDIT_SUM_disc_int_[967500.0;1017957917.38]\",\"AMT_CREDIT_SUM_disc_int_[967500.0;1017957917.38]\",\"AMT_CREDIT_SUM_disc_int_[967500.0;1017957917.38]\",\"AMT_CREDIT_SUM_disc_int_[967500.0;1017957917.38]\",\"AMT_CREDIT_SUM_disc_int_[967500.0;1017957917.38]\",\"AMT_CREDIT_SUM_disc_int_[967500.0;1017957917.38]\",\"AMT_CREDIT_SUM_disc_int_[967500.0;1017957917.38]\",\"AMT_CREDIT_SUM_disc_int_[967500.0;1017957917.38]\",\"AMT_CREDIT_SUM_disc_int_[967500.0;1017957917.38]\",\"AMT_CREDIT_SUM_disc_int_[967500.0;1017957917.38]\",\"AMT_CREDIT_SUM_disc_int_[967500.0;1017957917.38]\",\"AMT_CREDIT_SUM_disc_int_[967500.0;1017957917.38]\",\"AMT_CREDIT_SUM_disc_int_[967500.0;1017957917.38]\",\"AMT_CREDIT_SUM_disc_int_[967500.0;1017957917.38]\",\"AMT_CREDIT_SUM_disc_int_[967500.0;1017957917.38]\",\"AMT_CREDIT_SUM_disc_int_[967500.0;1017957917.38]\",\"AMT_CREDIT_SUM_disc_int_[967500.0;1017957917.38]\",\"AMT_CREDIT_SUM_disc_int_[967500.0;1017957917.38]\",\"AMT_CREDIT_SUM_disc_int_[967500.0;1017957917.38]\",\"AMT_CREDIT_SUM_disc_int_[967500.0;1017957917.38]\",\"AMT_CREDIT_SUM_disc_int_[967500.0;1017957917.38]\",\"AMT_CREDIT_SUM_disc_int_[967500.0;1017957917.38]\",\"AMT_CREDIT_SUM_disc_int_[967500.0;1017957917.38]\",\"AMT_CREDIT_SUM_disc_int_[967500.0;1017957917.38]\",\"AMT_CREDIT_SUM_disc_int_[967500.0;1017957917.38]\",\"AMT_CREDIT_SUM_disc_int_[967500.0;1017957917.38]\",\"AMT_CREDIT_SUM_disc_int_[967500.0;1017957917.38]\",\"AMT_CREDIT_SUM_disc_int_[967500.0;1017957917.38]\",\"AMT_CREDIT_SUM_disc_int_[967500.0;1017957917.38]\",\"AMT_CREDIT_SUM_disc_int_[967500.0;1017957917.38]\",\"AMT_CREDIT_SUM_disc_int_[967500.0;1017957917.38]\",\"AMT_CREDIT_SUM_disc_int_[967500.0;1017957917.38]\",\"AMT_CREDIT_SUM_disc_int_[967500.0;1017957917.38]\",\"AMT_CREDIT_SUM_disc_int_[967500.0;1017957917.38]\",\"AMT_CREDIT_SUM_disc_int_[967500.0;1017957917.38]\",\"AMT_CREDIT_SUM_disc_int_[967500.0;1017957917.38]\",\"AMT_CREDIT_SUM_disc_int_[967500.0;1017957917.38]\",\"AMT_CREDIT_SUM_disc_int_[967500.0;1017957917.38]\",\"AMT_CREDIT_SUM_disc_int_[967500.0;1017957917.38]\",\"AMT_CREDIT_SUM_disc_int_[967500.0;1017957917.38]\",\"AMT_CREDIT_SUM_disc_int_[967500.0;1017957917.38]\",\"AMT_CREDIT_SUM_disc_int_[967500.0;1017957917.38]\",\"AMT_CREDIT_SUM_disc_int_[967500.0;1017957917.38]\",\"AMT_CREDIT_SUM_disc_int_[967500.0;1017957917.38]\",\"AMT_CREDIT_SUM_disc_int_[967500.0;1017957917.38]\",\"AMT_CREDIT_SUM_disc_int_[967500.0;1017957917.38]\",\"AMT_CREDIT_SUM_disc_int_[967500.0;1017957917.38]\",\"AMT_CREDIT_SUM_disc_int_[967500.0;1017957917.38]\",\"AMT_CREDIT_SUM_disc_int_[967500.0;1017957917.38]\",\"AMT_CREDIT_SUM_disc_int_[967500.0;1017957917.38]\",\"AMT_CREDIT_SUM_disc_int_[967500.0;1017957917.38]\",\"AMT_CREDIT_SUM_disc_int_[967500.0;1017957917.38]\",\"AMT_CREDIT_SUM_disc_int_[967500.0;1017957917.38]\",\"AMT_CREDIT_SUM_disc_int_[967500.0;1017957917.38]\",\"AMT_CREDIT_SUM_disc_int_[967500.0;1017957917.38]\",\"AMT_CREDIT_SUM_disc_int_[967500.0;1017957917.38]\",\"AMT_CREDIT_SUM_disc_int_[967500.0;1017957917.38]\",\"AMT_CREDIT_SUM_disc_int_[967500.0;1017957917.38]\",\"AMT_CREDIT_SUM_disc_int_[967500.0;1017957917.38]\",\"AMT_CREDIT_SUM_disc_int_[967500.0;1017957917.38]\",\"AMT_CREDIT_SUM_disc_int_[967500.0;1017957917.38]\",\"AMT_CREDIT_SUM_disc_int_[967500.0;1017957917.38]\",\"AMT_CREDIT_SUM_disc_int_[967500.0;1017957917.38]\",\"AMT_CREDIT_SUM_disc_int_[967500.0;1017957917.38]\",\"AMT_CREDIT_SUM_disc_int_[967500.0;1017957917.38]\",\"AMT_CREDIT_SUM_disc_int_[967500.0;1017957917.38]\",\"AMT_CREDIT_SUM_disc_int_[967500.0;1017957917.38]\",\"AMT_CREDIT_SUM_disc_int_[967500.0;1017957917.38]\",\"AMT_CREDIT_SUM_disc_int_[967500.0;1017957917.38]\",\"AMT_CREDIT_SUM_disc_int_[967500.0;1017957917.38]\",\"AMT_CREDIT_SUM_disc_int_[967500.0;1017957917.38]\",\"AMT_CREDIT_SUM_disc_int_[967500.0;1017957917.38]\",\"AMT_CREDIT_SUM_disc_int_[967500.0;1017957917.38]\",\"AMT_CREDIT_SUM_disc_int_[967500.0;1017957917.38]\",\"AMT_CREDIT_SUM_disc_int_[967500.0;1017957917.38]\",\"AMT_CREDIT_SUM_disc_int_[967500.0;1017957917.38]\",\"AMT_CREDIT_SUM_disc_int_[967500.0;1017957917.38]\",\"AMT_CREDIT_SUM_disc_int_[967500.0;1017957917.38]\",\"AMT_CREDIT_SUM_disc_int_[967500.0;1017957917.38]\",\"AMT_CREDIT_SUM_disc_int_[967500.0;1017957917.38]\",\"AMT_CREDIT_SUM_disc_int_[967500.0;1017957917.38]\",\"AMT_CREDIT_SUM_disc_int_[967500.0;1017957917.38]\",\"AMT_CREDIT_SUM_disc_int_[967500.0;1017957917.38]\",\"AMT_CREDIT_SUM_disc_int_[967500.0;1017957917.38]\",\"AMT_CREDIT_SUM_disc_int_[967500.0;1017957917.38]\",\"AMT_CREDIT_SUM_disc_int_[967500.0;1017957917.38]\",\"AMT_CREDIT_SUM_disc_int_[967500.0;1017957917.38]\",\"AMT_CREDIT_SUM_disc_int_[967500.0;1017957917.38]\",\"AMT_CREDIT_SUM_disc_int_[967500.0;1017957917.38]\",\"AMT_CREDIT_SUM_disc_int_[967500.0;1017957917.38]\",\"AMT_CREDIT_SUM_disc_int_[967500.0;1017957917.38]\",\"AMT_CREDIT_SUM_disc_int_[967500.0;1017957917.38]\",\"AMT_CREDIT_SUM_disc_int_[967500.0;1017957917.38]\",\"AMT_CREDIT_SUM_disc_int_[967500.0;1017957917.38]\",\"AMT_CREDIT_SUM_disc_int_[967500.0;1017957917.38]\",\"AMT_CREDIT_SUM_disc_int_[967500.0;1017957917.38]\",\"AMT_CREDIT_SUM_disc_int_[967500.0;1017957917.38]\",\"AMT_CREDIT_SUM_disc_int_[967500.0;1017957917.38]\",\"AMT_CREDIT_SUM_disc_int_[967500.0;1017957917.38]\",\"AMT_CREDIT_SUM_disc_int_[967500.0;1017957917.38]\",\"AMT_CREDIT_SUM_disc_int_[967500.0;1017957917.38]\",\"AMT_CREDIT_SUM_disc_int_[967500.0;1017957917.38]\",\"AMT_CREDIT_SUM_disc_int_[967500.0;1017957917.38]\",\"AMT_CREDIT_SUM_disc_int_[967500.0;1017957917.38]\",\"AMT_CREDIT_SUM_disc_int_[967500.0;1017957917.38]\",\"AMT_CREDIT_SUM_disc_int_[967500.0;1017957917.38]\",\"AMT_CREDIT_SUM_disc_int_[967500.0;1017957917.38]\",\"AMT_CREDIT_SUM_disc_int_[967500.0;1017957917.38]\",\"AMT_CREDIT_SUM_disc_int_[967500.0;1017957917.38]\",\"AMT_CREDIT_SUM_disc_int_[967500.0;1017957917.38]\",\"AMT_CREDIT_SUM_disc_int_[967500.0;1017957917.38]\",\"AMT_CREDIT_SUM_disc_int_[967500.0;1017957917.38]\",\"EXT_SOURCE_2_disc_int_[0.38;0.85]\",\"EXT_SOURCE_2_disc_int_[0.38;0.85]\",\"EXT_SOURCE_2_disc_int_[0.38;0.85]\",\"EXT_SOURCE_2_disc_int_[0.38;0.85]\",\"EXT_SOURCE_2_disc_int_[0.38;0.85]\",\"EXT_SOURCE_2_disc_int_[0.38;0.85]\",\"EXT_SOURCE_2_disc_int_[0.38;0.85]\",\"EXT_SOURCE_2_disc_int_[0.38;0.85]\",\"EXT_SOURCE_2_disc_int_[0.38;0.85]\",\"EXT_SOURCE_2_disc_int_[0.38;0.85]\",\"EXT_SOURCE_2_disc_int_[0.38;0.85]\",\"EXT_SOURCE_2_disc_int_[0.38;0.85]\",\"EXT_SOURCE_2_disc_int_[0.38;0.85]\",\"EXT_SOURCE_2_disc_int_[0.38;0.85]\",\"EXT_SOURCE_2_disc_int_[0.38;0.85]\",\"EXT_SOURCE_2_disc_int_[0.38;0.85]\",\"EXT_SOURCE_2_disc_int_[0.38;0.85]\",\"EXT_SOURCE_2_disc_int_[0.38;0.85]\",\"EXT_SOURCE_2_disc_int_[0.38;0.85]\",\"EXT_SOURCE_2_disc_int_[0.38;0.85]\",\"EXT_SOURCE_2_disc_int_[0.38;0.85]\",\"EXT_SOURCE_2_disc_int_[0.38;0.85]\",\"EXT_SOURCE_2_disc_int_[0.38;0.85]\",\"EXT_SOURCE_2_disc_int_[0.38;0.85]\",\"EXT_SOURCE_2_disc_int_[0.38;0.85]\",\"EXT_SOURCE_2_disc_int_[0.38;0.85]\",\"EXT_SOURCE_2_disc_int_[0.38;0.85]\",\"EXT_SOURCE_2_disc_int_[0.38;0.85]\",\"EXT_SOURCE_2_disc_int_[0.38;0.85]\",\"EXT_SOURCE_2_disc_int_[0.38;0.85]\",\"EXT_SOURCE_2_disc_int_[0.38;0.85]\",\"EXT_SOURCE_2_disc_int_[0.38;0.85]\",\"EXT_SOURCE_2_disc_int_[0.38;0.85]\",\"EXT_SOURCE_2_disc_int_[0.38;0.85]\",\"EXT_SOURCE_2_disc_int_[0.38;0.85]\",\"EXT_SOURCE_2_disc_int_[0.38;0.85]\",\"EXT_SOURCE_2_disc_int_[0.38;0.85]\",\"EXT_SOURCE_2_disc_int_[0.38;0.85]\",\"EXT_SOURCE_2_disc_int_[0.38;0.85]\",\"EXT_SOURCE_2_disc_int_[0.38;0.85]\",\"EXT_SOURCE_2_disc_int_[0.38;0.85]\",\"EXT_SOURCE_2_disc_int_[0.38;0.85]\",\"EXT_SOURCE_2_disc_int_[0.38;0.85]\",\"EXT_SOURCE_2_disc_int_[0.38;0.85]\",\"EXT_SOURCE_2_disc_int_[0.38;0.85]\",\"EXT_SOURCE_2_disc_int_[0.38;0.85]\",\"EXT_SOURCE_2_disc_int_[0.38;0.85]\",\"EXT_SOURCE_2_disc_int_[0.38;0.85]\",\"EXT_SOURCE_2_disc_int_[0.38;0.85]\",\"EXT_SOURCE_2_disc_int_[0.38;0.85]\",\"EXT_SOURCE_2_disc_int_[0.38;0.85]\",\"EXT_SOURCE_2_disc_int_[0.38;0.85]\",\"EXT_SOURCE_2_disc_int_[0.38;0.85]\",\"EXT_SOURCE_2_disc_int_[0.38;0.85]\",\"EXT_SOURCE_2_disc_int_[0.38;0.85]\",\"EXT_SOURCE_2_disc_int_[0.38;0.85]\",\"EXT_SOURCE_2_disc_int_[0.38;0.85]\",\"EXT_SOURCE_2_disc_int_[0.38;0.85]\",\"EXT_SOURCE_2_disc_int_[0.38;0.85]\",\"EXT_SOURCE_2_disc_int_[0.38;0.85]\",\"EXT_SOURCE_2_disc_int_[0.38;0.85]\",\"EXT_SOURCE_2_disc_int_[0.38;0.85]\",\"EXT_SOURCE_2_disc_int_[0.38;0.85]\",\"EXT_SOURCE_2_disc_int_[0.38;0.85]\",\"EXT_SOURCE_2_disc_int_[0.38;0.85]\",\"EXT_SOURCE_2_disc_int_[0.38;0.85]\",\"EXT_SOURCE_2_disc_int_[0.38;0.85]\",\"EXT_SOURCE_2_disc_int_[0.38;0.85]\",\"EXT_SOURCE_2_disc_int_[0.38;0.85]\",\"EXT_SOURCE_2_disc_int_[0.38;0.85]\",\"EXT_SOURCE_2_disc_int_[0.38;0.85]\",\"EXT_SOURCE_2_disc_int_[0.38;0.85]\",\"EXT_SOURCE_2_disc_int_[0.38;0.85]\",\"EXT_SOURCE_2_disc_int_[0.38;0.85]\",\"EXT_SOURCE_2_disc_int_[0.38;0.85]\",\"EXT_SOURCE_2_disc_int_[0.38;0.85]\",\"EXT_SOURCE_2_disc_int_[0.38;0.85]\",\"EXT_SOURCE_2_disc_int_[0.38;0.85]\",\"EXT_SOURCE_2_disc_int_[0.38;0.85]\",\"EXT_SOURCE_2_disc_int_[0.38;0.85]\",\"EXT_SOURCE_2_disc_int_[0.38;0.85]\",\"EXT_SOURCE_2_disc_int_[0.38;0.85]\",\"EXT_SOURCE_2_disc_int_[0.38;0.85]\",\"EXT_SOURCE_2_disc_int_[0.38;0.85]\",\"EXT_SOURCE_2_disc_int_[0.38;0.85]\",\"EXT_SOURCE_2_disc_int_[0.38;0.85]\",\"EXT_SOURCE_2_disc_int_[0.38;0.85]\",\"EXT_SOURCE_2_disc_int_[0.38;0.85]\",\"EXT_SOURCE_2_disc_int_[0.38;0.85]\",\"EXT_SOURCE_2_disc_int_[0.38;0.85]\",\"EXT_SOURCE_2_disc_int_[0.38;0.85]\",\"EXT_SOURCE_2_disc_int_[0.38;0.85]\",\"EXT_SOURCE_2_disc_int_[0.38;0.85]\",\"EXT_SOURCE_2_disc_int_[0.38;0.85]\",\"EXT_SOURCE_2_disc_int_[0.38;0.85]\",\"EXT_SOURCE_2_disc_int_[0.38;0.85]\",\"EXT_SOURCE_2_disc_int_[0.38;0.85]\",\"EXT_SOURCE_2_disc_int_[0.38;0.85]\",\"EXT_SOURCE_2_disc_int_[0.38;0.85]\",\"EXT_SOURCE_2_disc_int_[0.38;0.85]\",\"EXT_SOURCE_2_disc_int_[0.38;0.85]\",\"EXT_SOURCE_2_disc_int_[0.38;0.85]\",\"EXT_SOURCE_2_disc_int_[0.38;0.85]\",\"EXT_SOURCE_2_disc_int_[0.38;0.85]\",\"EXT_SOURCE_2_disc_int_[0.38;0.85]\",\"EXT_SOURCE_2_disc_int_[0.38;0.85]\",\"EXT_SOURCE_2_disc_int_[0.38;0.85]\",\"EXT_SOURCE_2_disc_int_[0.38;0.85]\",\"EXT_SOURCE_2_disc_int_[0.38;0.85]\",\"EXT_SOURCE_2_disc_int_[0.38;0.85]\",\"EXT_SOURCE_2_disc_int_[0.38;0.85]\",\"EXT_SOURCE_2_disc_int_[0.38;0.85]\",\"EXT_SOURCE_2_disc_int_[0.38;0.85]\",\"EXT_SOURCE_2_disc_int_[0.38;0.85]\",\"EXT_SOURCE_2_disc_int_[0.38;0.85]\",\"EXT_SOURCE_2_disc_int_[0.38;0.85]\",\"EXT_SOURCE_2_disc_int_[0.38;0.85]\",\"EXT_SOURCE_2_disc_int_[0.38;0.85]\",\"EXT_SOURCE_2_disc_int_[0.38;0.85]\",\"EXT_SOURCE_2_disc_int_[0.38;0.85]\",\"EXT_SOURCE_2_disc_int_[0.38;0.85]\",\"EXT_SOURCE_2_disc_int_[0.38;0.85]\",\"EXT_SOURCE_2_disc_int_[0.38;0.85]\",\"EXT_SOURCE_2_disc_int_[0.38;0.85]\",\"EXT_SOURCE_2_disc_int_[0.38;0.85]\",\"EXT_SOURCE_1_disc_int_[0.26;0.96]\",\"EXT_SOURCE_1_disc_int_[0.26;0.96]\",\"EXT_SOURCE_1_disc_int_[0.26;0.96]\",\"EXT_SOURCE_1_disc_int_[0.26;0.96]\",\"EXT_SOURCE_1_disc_int_[0.26;0.96]\",\"EXT_SOURCE_1_disc_int_[0.26;0.96]\",\"EXT_SOURCE_1_disc_int_[0.26;0.96]\",\"EXT_SOURCE_1_disc_int_[0.26;0.96]\",\"EXT_SOURCE_1_disc_int_[0.26;0.96]\",\"EXT_SOURCE_1_disc_int_[0.26;0.96]\",\"EXT_SOURCE_1_disc_int_[0.26;0.96]\",\"EXT_SOURCE_1_disc_int_[0.26;0.96]\",\"EXT_SOURCE_1_disc_int_[0.26;0.96]\",\"EXT_SOURCE_1_disc_int_[0.26;0.96]\",\"EXT_SOURCE_1_disc_int_[0.26;0.96]\",\"EXT_SOURCE_1_disc_int_[0.26;0.96]\",\"EXT_SOURCE_1_disc_int_[0.26;0.96]\",\"EXT_SOURCE_1_disc_int_[0.26;0.96]\",\"EXT_SOURCE_1_disc_int_[0.26;0.96]\",\"EXT_SOURCE_1_disc_int_[0.26;0.96]\",\"EXT_SOURCE_1_disc_int_[0.26;0.96]\",\"EXT_SOURCE_1_disc_int_[0.26;0.96]\",\"EXT_SOURCE_1_disc_int_[0.26;0.96]\",\"EXT_SOURCE_1_disc_int_[0.26;0.96]\",\"EXT_SOURCE_1_disc_int_[0.26;0.96]\",\"EXT_SOURCE_1_disc_int_[0.26;0.96]\",\"EXT_SOURCE_1_disc_int_[0.26;0.96]\",\"EXT_SOURCE_1_disc_int_[0.26;0.96]\",\"EXT_SOURCE_1_disc_int_[0.26;0.96]\",\"EXT_SOURCE_1_disc_int_[0.26;0.96]\",\"EXT_SOURCE_1_disc_int_[0.26;0.96]\",\"EXT_SOURCE_1_disc_int_[0.26;0.96]\",\"EXT_SOURCE_1_disc_int_[0.26;0.96]\",\"EXT_SOURCE_1_disc_int_[0.26;0.96]\",\"EXT_SOURCE_1_disc_int_[0.26;0.96]\",\"EXT_SOURCE_1_disc_int_[0.26;0.96]\",\"EXT_SOURCE_1_disc_int_[0.26;0.96]\",\"EXT_SOURCE_1_disc_int_[0.26;0.96]\",\"EXT_SOURCE_1_disc_int_[0.26;0.96]\",\"EXT_SOURCE_1_disc_int_[0.26;0.96]\",\"EXT_SOURCE_1_disc_int_[0.26;0.96]\",\"EXT_SOURCE_1_disc_int_[0.26;0.96]\",\"EXT_SOURCE_1_disc_int_[0.26;0.96]\",\"EXT_SOURCE_1_disc_int_[0.26;0.96]\",\"EXT_SOURCE_1_disc_int_[0.26;0.96]\",\"EXT_SOURCE_1_disc_int_[0.26;0.96]\",\"EXT_SOURCE_1_disc_int_[0.26;0.96]\",\"EXT_SOURCE_1_disc_int_[0.26;0.96]\",\"EXT_SOURCE_1_disc_int_[0.26;0.96]\",\"EXT_SOURCE_1_disc_int_[0.26;0.96]\",\"EXT_SOURCE_1_disc_int_[0.26;0.96]\",\"EXT_SOURCE_1_disc_int_[0.26;0.96]\",\"EXT_SOURCE_1_disc_int_[0.26;0.96]\",\"EXT_SOURCE_1_disc_int_[0.26;0.96]\",\"EXT_SOURCE_1_disc_int_[0.26;0.96]\",\"EXT_SOURCE_1_disc_int_[0.26;0.96]\",\"EXT_SOURCE_1_disc_int_[0.26;0.96]\",\"EXT_SOURCE_1_disc_int_[0.26;0.96]\",\"EXT_SOURCE_1_disc_int_[0.26;0.96]\",\"EXT_SOURCE_1_disc_int_[0.26;0.96]\",\"EXT_SOURCE_1_disc_int_[0.26;0.96]\",\"EXT_SOURCE_1_disc_int_[0.26;0.96]\",\"EXT_SOURCE_1_disc_int_[0.26;0.96]\",\"EXT_SOURCE_1_disc_int_[0.26;0.96]\",\"EXT_SOURCE_1_disc_int_[0.26;0.96]\",\"EXT_SOURCE_1_disc_int_[0.26;0.96]\",\"EXT_SOURCE_1_disc_int_[0.26;0.96]\",\"EXT_SOURCE_1_disc_int_[0.26;0.96]\",\"EXT_SOURCE_1_disc_int_[0.26;0.96]\",\"EXT_SOURCE_1_disc_int_[0.26;0.96]\",\"EXT_SOURCE_1_disc_int_[0.26;0.96]\",\"EXT_SOURCE_1_disc_int_[0.26;0.96]\",\"EXT_SOURCE_1_disc_int_[0.26;0.96]\",\"EXT_SOURCE_1_disc_int_[0.26;0.96]\",\"EXT_SOURCE_3_disc_int_[0.33;0.9]\",\"EXT_SOURCE_3_disc_int_[0.33;0.9]\",\"EXT_SOURCE_3_disc_int_[0.33;0.9]\",\"EXT_SOURCE_3_disc_int_[0.33;0.9]\",\"EXT_SOURCE_3_disc_int_[0.33;0.9]\",\"EXT_SOURCE_3_disc_int_[0.33;0.9]\",\"EXT_SOURCE_3_disc_int_[0.33;0.9]\",\"EXT_SOURCE_3_disc_int_[0.33;0.9]\",\"EXT_SOURCE_3_disc_int_[0.33;0.9]\",\"EXT_SOURCE_3_disc_int_[0.33;0.9]\",\"EXT_SOURCE_3_disc_int_[0.33;0.9]\",\"EXT_SOURCE_3_disc_int_[0.33;0.9]\",\"EXT_SOURCE_3_disc_int_[0.33;0.9]\",\"EXT_SOURCE_3_disc_int_[0.33;0.9]\",\"EXT_SOURCE_3_disc_int_[0.33;0.9]\",\"EXT_SOURCE_3_disc_int_[0.33;0.9]\",\"EXT_SOURCE_3_disc_int_[0.33;0.9]\",\"EXT_SOURCE_3_disc_int_[0.33;0.9]\",\"EXT_SOURCE_3_disc_int_[0.33;0.9]\",\"EXT_SOURCE_3_disc_int_[0.33;0.9]\",\"EXT_SOURCE_3_disc_int_[0.33;0.9]\",\"EXT_SOURCE_3_disc_int_[0.33;0.9]\",\"EXT_SOURCE_3_disc_int_[0.33;0.9]\",\"EXT_SOURCE_3_disc_int_[0.33;0.9]\",\"EXT_SOURCE_3_disc_int_[0.33;0.9]\",\"EXT_SOURCE_3_disc_int_[0.33;0.9]\",\"EXT_SOURCE_3_disc_int_[0.33;0.9]\",\"EXT_SOURCE_3_disc_int_[0.33;0.9]\",\"EXT_SOURCE_3_disc_int_[0.33;0.9]\",\"EXT_SOURCE_3_disc_int_[0.33;0.9]\",\"EXT_SOURCE_3_disc_int_[0.33;0.9]\",\"EXT_SOURCE_3_disc_int_[0.33;0.9]\",\"EXT_SOURCE_3_disc_int_[0.33;0.9]\",\"EXT_SOURCE_3_disc_int_[0.33;0.9]\",\"EXT_SOURCE_3_disc_int_[0.33;0.9]\",\"EXT_SOURCE_3_disc_int_[0.33;0.9]\",\"EXT_SOURCE_3_disc_int_[0.33;0.9]\",\"EXT_SOURCE_3_disc_int_[0.33;0.9]\",\"EXT_SOURCE_3_disc_int_[0.33;0.9]\",\"EXT_SOURCE_3_disc_int_[0.33;0.9]\",\"EXT_SOURCE_3_disc_int_[0.33;0.9]\",\"EXT_SOURCE_3_disc_int_[0.33;0.9]\",\"EXT_SOURCE_3_disc_int_[0.33;0.9]\",\"EXT_SOURCE_3_disc_int_[0.33;0.9]\",\"EXT_SOURCE_3_disc_int_[0.33;0.9]\",\"EXT_SOURCE_3_disc_int_[0.33;0.9]\",\"EXT_SOURCE_3_disc_int_[0.33;0.9]\",\"EXT_SOURCE_3_disc_int_[0.33;0.9]\",\"EXT_SOURCE_3_disc_int_[0.33;0.9]\",\"EXT_SOURCE_3_disc_int_[0.33;0.9]\",\"EXT_SOURCE_3_disc_int_[0.33;0.9]\",\"EXT_SOURCE_3_disc_int_[0.33;0.9]\",\"EXT_SOURCE_3_disc_int_[0.33;0.9]\",\"EXT_SOURCE_3_disc_int_[0.33;0.9]\",\"EXT_SOURCE_3_disc_int_[0.33;0.9]\",\"EXT_SOURCE_3_disc_int_[0.33;0.9]\",\"EXT_SOURCE_3_disc_int_[0.33;0.9]\",\"EXT_SOURCE_3_disc_int_[0.33;0.9]\",\"EXT_SOURCE_3_disc_int_[0.33;0.9]\",\"EXT_SOURCE_3_disc_int_[0.33;0.9]\",\"EXT_SOURCE_3_disc_int_[0.33;0.9]\",\"EXT_SOURCE_3_disc_int_[0.33;0.9]\",\"EXT_SOURCE_3_disc_int_[0.33;0.9]\",\"EXT_SOURCE_3_disc_int_[0.33;0.9]\",\"EXT_SOURCE_3_disc_int_[0.33;0.9]\",\"EXT_SOURCE_3_disc_int_[0.33;0.9]\",\"EXT_SOURCE_3_disc_int_[0.33;0.9]\",\"EXT_SOURCE_3_disc_int_[0.33;0.9]\",\"EXT_SOURCE_3_disc_int_[0.33;0.9]\",\"EXT_SOURCE_3_disc_int_[0.33;0.9]\",\"EXT_SOURCE_3_disc_int_[0.33;0.9]\",\"EXT_SOURCE_3_disc_int_[0.33;0.9]\",\"EXT_SOURCE_3_disc_int_[0.33;0.9]\",\"EXT_SOURCE_3_disc_int_[0.33;0.9]\",\"EXT_SOURCE_3_disc_int_[0.33;0.9]\",\"EXT_SOURCE_3_disc_int_[0.33;0.9]\",\"EXT_SOURCE_3_disc_int_[0.33;0.9]\",\"EXT_SOURCE_3_disc_int_[0.33;0.9]\",\"EXT_SOURCE_3_disc_int_[0.33;0.9]\",\"EXT_SOURCE_3_disc_int_[0.33;0.9]\",\"EXT_SOURCE_3_disc_int_[0.33;0.9]\",\"EXT_SOURCE_3_disc_int_[0.33;0.9]\",\"EXT_SOURCE_3_disc_int_[0.33;0.9]\",\"EXT_SOURCE_3_disc_int_[0.33;0.9]\",\"EXT_SOURCE_3_disc_int_[0.33;0.9]\",\"EXT_SOURCE_3_disc_int_[0.33;0.9]\",\"EXT_SOURCE_3_disc_int_[0.33;0.9]\",\"EXT_SOURCE_3_disc_int_[0.33;0.9]\",\"EXT_SOURCE_3_disc_int_[0.33;0.9]\",\"EXT_SOURCE_3_disc_int_[0.33;0.9]\",\"EXT_SOURCE_3_disc_int_[0.33;0.9]\",\"EXT_SOURCE_3_disc_int_[0.33;0.9]\",\"EXT_SOURCE_3_disc_int_[0.33;0.9]\",\"EXT_SOURCE_3_disc_int_[0.33;0.9]\",\"EXT_SOURCE_3_disc_int_[0.33;0.9]\",\"EXT_SOURCE_3_disc_int_[0.33;0.9]\",\"EXT_SOURCE_3_disc_int_[0.33;0.9]\",\"EXT_SOURCE_3_disc_int_[0.33;0.9]\",\"EXT_SOURCE_3_disc_int_[0.33;0.9]\",\"EXT_SOURCE_3_disc_int_[0.33;0.9]\",\"EXT_SOURCE_3_disc_int_[0.33;0.9]\",\"EXT_SOURCE_3_disc_int_[0.33;0.9]\",\"EXT_SOURCE_3_disc_int_[0.33;0.9]\",\"EXT_SOURCE_3_disc_int_[0.33;0.9]\",\"EXT_SOURCE_3_disc_int_[0.33;0.9]\",\"EXT_SOURCE_3_disc_int_[0.33;0.9]\",\"EXT_SOURCE_3_disc_int_[0.33;0.9]\",\"EXT_SOURCE_3_disc_int_[0.33;0.9]\",\"EXT_SOURCE_3_disc_int_[0.33;0.9]\",\"EXT_SOURCE_3_disc_int_[0.33;0.9]\",\"EXT_SOURCE_3_disc_int_[0.33;0.9]\",\"EXT_SOURCE_3_disc_int_[0.33;0.9]\",\"EXT_SOURCE_3_disc_int_[0.33;0.9]\",\"EXT_SOURCE_3_disc_int_[0.33;0.9]\",\"EXT_SOURCE_3_disc_int_[0.33;0.9]\",\"EXT_SOURCE_3_disc_int_[0.33;0.9]\",\"EXT_SOURCE_3_disc_int_[0.33;0.9]\",\"EXT_SOURCE_3_disc_int_[0.33;0.9]\",\"EXT_SOURCE_3_disc_int_[0.33;0.9]\",\"NAME_INCOME_TYPE_discret_Low_income\",\"NAME_INCOME_TYPE_discret_Low_income\",\"NAME_INCOME_TYPE_discret_Low_income\",\"NAME_INCOME_TYPE_discret_Low_income\",\"NAME_INCOME_TYPE_discret_Low_income\",\"NAME_INCOME_TYPE_discret_Low_income\",\"NAME_INCOME_TYPE_discret_Low_income\",\"NAME_INCOME_TYPE_discret_Low_income\",\"NAME_INCOME_TYPE_discret_Low_income\",\"NAME_INCOME_TYPE_discret_Low_income\",\"NAME_INCOME_TYPE_discret_Low_income\",\"NAME_INCOME_TYPE_discret_Low_income\",\"NAME_INCOME_TYPE_discret_Low_income\",\"NAME_INCOME_TYPE_discret_Low_income\",\"NAME_INCOME_TYPE_discret_Low_income\",\"NAME_INCOME_TYPE_discret_Low_income\",\"NAME_INCOME_TYPE_discret_Low_income\",\"NAME_INCOME_TYPE_discret_Low_income\",\"NAME_INCOME_TYPE_discret_Low_income\",\"NAME_INCOME_TYPE_discret_Low_income\",\"NAME_INCOME_TYPE_discret_Low_income\",\"NAME_INCOME_TYPE_discret_Low_income\",\"NAME_INCOME_TYPE_discret_Low_income\",\"NAME_INCOME_TYPE_discret_Low_income\",\"NAME_INCOME_TYPE_discret_Low_income\",\"NAME_INCOME_TYPE_discret_Low_income\",\"NAME_INCOME_TYPE_discret_Low_income\",\"NAME_INCOME_TYPE_discret_Low_income\",\"NAME_INCOME_TYPE_discret_Low_income\",\"NAME_INCOME_TYPE_discret_Low_income\",\"NAME_INCOME_TYPE_discret_Low_income\",\"NAME_INCOME_TYPE_discret_Low_income\",\"NAME_INCOME_TYPE_discret_Low_income\",\"NAME_INCOME_TYPE_discret_Low_income\",\"NAME_INCOME_TYPE_discret_Low_income\",\"NAME_INCOME_TYPE_discret_Low_income\",\"NAME_INCOME_TYPE_discret_Low_income\",\"NAME_INCOME_TYPE_discret_Low_income\",\"NAME_INCOME_TYPE_discret_Low_income\",\"NAME_INCOME_TYPE_discret_Low_income\",\"NAME_INCOME_TYPE_discret_Low_income\",\"NAME_INCOME_TYPE_discret_Low_income\",\"NAME_INCOME_TYPE_discret_Low_income\",\"NAME_INCOME_TYPE_discret_Low_income\",\"NAME_INCOME_TYPE_discret_Low_income\",\"NAME_INCOME_TYPE_discret_Low_income\",\"NAME_INCOME_TYPE_discret_Low_income\",\"NAME_INCOME_TYPE_discret_Low_income\",\"NAME_INCOME_TYPE_discret_Low_income\",\"NAME_INCOME_TYPE_discret_Low_income\",\"NAME_INCOME_TYPE_discret_Low_income\",\"NAME_INCOME_TYPE_discret_Low_income\",\"NAME_INCOME_TYPE_discret_Low_income\",\"NAME_INCOME_TYPE_discret_Low_income\",\"NAME_INCOME_TYPE_discret_Low_income\",\"NAME_INCOME_TYPE_discret_Low_income\",\"NAME_INCOME_TYPE_discret_Low_income\",\"NAME_INCOME_TYPE_discret_Low_income\",\"NAME_INCOME_TYPE_discret_Low_income\",\"NAME_INCOME_TYPE_discret_Low_income\",\"NAME_INCOME_TYPE_discret_Low_income\",\"NAME_INCOME_TYPE_discret_Low_income\",\"NAME_INCOME_TYPE_discret_Low_income\",\"NAME_INCOME_TYPE_discret_Low_income\",\"NAME_INCOME_TYPE_discret_Low_income\",\"NAME_INCOME_TYPE_discret_Low_income\",\"NAME_INCOME_TYPE_discret_Low_income\",\"NAME_INCOME_TYPE_discret_Low_income\",\"NAME_INCOME_TYPE_discret_Low_income\",\"NAME_INCOME_TYPE_discret_Low_income\",\"NAME_INCOME_TYPE_discret_Low_income\",\"NAME_INCOME_TYPE_discret_Low_income\",\"NAME_INCOME_TYPE_discret_Low_income\",\"NAME_INCOME_TYPE_discret_Low_income\",\"NAME_INCOME_TYPE_discret_Low_income\",\"NAME_INCOME_TYPE_discret_Low_income\",\"NAME_INCOME_TYPE_discret_Low_income\",\"NAME_INCOME_TYPE_discret_Low_income\",\"NAME_INCOME_TYPE_discret_Low_income\",\"NAME_INCOME_TYPE_discret_Low_income\",\"NAME_INCOME_TYPE_discret_Low_income\",\"NAME_INCOME_TYPE_discret_Low_income\",\"NAME_INCOME_TYPE_discret_Low_income\",\"NAME_INCOME_TYPE_discret_Low_income\",\"NAME_INCOME_TYPE_discret_Low_income\",\"NAME_INCOME_TYPE_discret_Low_income\",\"NAME_INCOME_TYPE_discret_Low_income\",\"NAME_INCOME_TYPE_discret_Low_income\",\"NAME_INCOME_TYPE_discret_Low_income\",\"NAME_INCOME_TYPE_discret_Low_income\",\"NAME_INCOME_TYPE_discret_Low_income\",\"NAME_INCOME_TYPE_discret_Low_income\",\"NAME_INCOME_TYPE_discret_Low_income\",\"NAME_INCOME_TYPE_discret_Low_income\",\"NAME_INCOME_TYPE_discret_Low_income\",\"NAME_INCOME_TYPE_discret_Low_income\",\"NAME_INCOME_TYPE_discret_Low_income\",\"NAME_INCOME_TYPE_discret_Low_income\",\"NAME_INCOME_TYPE_discret_Low_income\",\"NAME_INCOME_TYPE_discret_Low_income\",\"NAME_INCOME_TYPE_discret_Low_income\",\"NAME_INCOME_TYPE_discret_Low_income\",\"NAME_INCOME_TYPE_discret_Low_income\",\"NAME_INCOME_TYPE_discret_Low_income\",\"NAME_INCOME_TYPE_discret_Low_income\",\"NAME_INCOME_TYPE_discret_Low_income\",\"NAME_INCOME_TYPE_discret_Low_income\",\"NAME_INCOME_TYPE_discret_Low_income\",\"NAME_INCOME_TYPE_discret_Low_income\",\"NAME_INCOME_TYPE_discret_Low_income\",\"NAME_INCOME_TYPE_discret_Low_income\",\"NAME_INCOME_TYPE_discret_Low_income\",\"NAME_INCOME_TYPE_discret_Low_income\",\"NAME_INCOME_TYPE_discret_Low_income\",\"NAME_INCOME_TYPE_discret_Low_income\",\"NAME_INCOME_TYPE_discret_Low_income\",\"NAME_INCOME_TYPE_discret_Low_income\",\"NAME_INCOME_TYPE_discret_Low_income\",\"NAME_INCOME_TYPE_discret_Low_income\",\"NAME_INCOME_TYPE_discret_Low_income\",\"NAME_INCOME_TYPE_discret_Low_income\",\"NAME_INCOME_TYPE_discret_Low_income\",\"NAME_INCOME_TYPE_discret_Low_income\",\"NAME_INCOME_TYPE_discret_Low_income\",\"NAME_INCOME_TYPE_discret_Low_income\",\"NAME_INCOME_TYPE_discret_Low_income\",\"NAME_INCOME_TYPE_discret_Low_income\",\"NAME_INCOME_TYPE_discret_Low_income\",\"NAME_INCOME_TYPE_discret_Low_income\",\"NAME_INCOME_TYPE_discret_Low_income\",\"NAME_INCOME_TYPE_discret_Low_income\",\"NAME_INCOME_TYPE_discret_Low_income\",\"NAME_INCOME_TYPE_discret_Low_income\",\"NAME_INCOME_TYPE_discret_Low_income\",\"NAME_INCOME_TYPE_discret_Low_income\",\"NAME_INCOME_TYPE_discret_Low_income\",\"NAME_INCOME_TYPE_discret_Low_income\",\"NAME_INCOME_TYPE_discret_Low_income\",\"NAME_INCOME_TYPE_discret_Low_income\",\"NAME_INCOME_TYPE_discret_Low_income\",\"NAME_INCOME_TYPE_discret_Low_income\",\"NAME_INCOME_TYPE_discret_Low_income\",\"NAME_INCOME_TYPE_discret_Low_income\",\"NAME_INCOME_TYPE_discret_Low_income\",\"NAME_INCOME_TYPE_discret_Low_income\",\"NAME_INCOME_TYPE_discret_Low_income\",\"NAME_INCOME_TYPE_discret_Low_income\",\"NAME_INCOME_TYPE_discret_Low_income\",\"NAME_INCOME_TYPE_discret_Low_income\",\"NAME_INCOME_TYPE_discret_Low_income\",\"NAME_INCOME_TYPE_discret_Low_income\",\"NAME_INCOME_TYPE_discret_Low_income\",\"NAME_INCOME_TYPE_discret_Low_income\",\"NAME_INCOME_TYPE_discret_Low_income\",\"NAME_INCOME_TYPE_discret_Low_income\",\"NAME_INCOME_TYPE_discret_Low_income\",\"NAME_INCOME_TYPE_discret_Low_income\",\"NAME_INCOME_TYPE_discret_Low_income\",\"NAME_INCOME_TYPE_discret_Low_income\",\"NAME_INCOME_TYPE_discret_Low_income\",\"NAME_INCOME_TYPE_discret_Low_income\",\"NAME_INCOME_TYPE_discret_Low_income\",\"NAME_INCOME_TYPE_discret_Low_income\",\"NAME_INCOME_TYPE_discret_Low_income\",\"NAME_INCOME_TYPE_discret_Low_income\",\"NAME_INCOME_TYPE_discret_Low_income\",\"NAME_INCOME_TYPE_discret_Low_income\",\"NAME_INCOME_TYPE_discret_Low_income\",\"NAME_INCOME_TYPE_discret_Low_income\",\"NAME_INCOME_TYPE_discret_Low_income\",\"NAME_INCOME_TYPE_discret_Low_income\",\"NAME_INCOME_TYPE_discret_Low_income\",\"NAME_INCOME_TYPE_discret_Low_income\",\"NAME_INCOME_TYPE_discret_Low_income\",\"NAME_INCOME_TYPE_discret_Low_income\",\"NAME_INCOME_TYPE_discret_Low_income\",\"NAME_INCOME_TYPE_discret_Low_income\",\"NAME_INCOME_TYPE_discret_Low_income\",\"NAME_INCOME_TYPE_discret_Low_income\",\"NAME_INCOME_TYPE_discret_Low_income\",\"NAME_INCOME_TYPE_discret_Low_income\",\"NAME_INCOME_TYPE_discret_Low_income\",\"NAME_INCOME_TYPE_discret_Low_income\",\"NAME_INCOME_TYPE_discret_Low_income\",\"NAME_INCOME_TYPE_discret_Low_income\",\"NAME_INCOME_TYPE_discret_Low_income\",\"NAME_INCOME_TYPE_discret_Low_income\",\"NAME_INCOME_TYPE_discret_Low_income\",\"NAME_INCOME_TYPE_discret_Low_income\",\"NAME_INCOME_TYPE_discret_Low_income\",\"NAME_INCOME_TYPE_discret_Low_income\",\"NAME_INCOME_TYPE_discret_Low_income\",\"NAME_INCOME_TYPE_discret_Low_income\",\"NAME_INCOME_TYPE_discret_Low_income\",\"NAME_INCOME_TYPE_discret_Low_income\",\"NAME_INCOME_TYPE_discret_Low_income\",\"NAME_INCOME_TYPE_discret_Low_income\",\"NAME_INCOME_TYPE_discret_Low_income\",\"NAME_INCOME_TYPE_discret_Low_income\",\"NAME_INCOME_TYPE_discret_Low_income\",\"NAME_INCOME_TYPE_discret_Low_income\",\"NAME_INCOME_TYPE_discret_Low_income\",\"NAME_INCOME_TYPE_discret_Low_income\",\"NAME_INCOME_TYPE_discret_Low_income\",\"NAME_INCOME_TYPE_discret_Low_income\",\"NAME_INCOME_TYPE_discret_Low_income\",\"NAME_INCOME_TYPE_discret_Low_income\",\"NAME_INCOME_TYPE_discret_Low_income\",\"NAME_INCOME_TYPE_discret_Low_income\",\"NAME_INCOME_TYPE_discret_Low_income\",\"NAME_INCOME_TYPE_discret_Low_income\",\"NAME_INCOME_TYPE_discret_Low_income\",\"NAME_INCOME_TYPE_discret_Low_income\",\"NAME_INCOME_TYPE_discret_Low_income\",\"NAME_INCOME_TYPE_discret_Low_income\",\"NAME_INCOME_TYPE_discret_Low_income\",\"NAME_INCOME_TYPE_discret_Low_income\",\"NAME_INCOME_TYPE_discret_Low_income\",\"NAME_INCOME_TYPE_discret_Low_income\",\"NAME_INCOME_TYPE_discret_Low_income\",\"NAME_INCOME_TYPE_discret_Low_income\",\"NAME_INCOME_TYPE_discret_Low_income\",\"NAME_INCOME_TYPE_discret_Low_income\",\"NAME_INCOME_TYPE_discret_Low_income\",\"NAME_INCOME_TYPE_discret_Low_income\",\"NAME_INCOME_TYPE_discret_Low_income\",\"NAME_INCOME_TYPE_discret_Low_income\",\"NAME_INCOME_TYPE_discret_Low_income\",\"NAME_INCOME_TYPE_discret_Low_income\",\"NAME_INCOME_TYPE_discret_Low_income\",\"NAME_INCOME_TYPE_discret_Low_income\",\"NAME_INCOME_TYPE_discret_Low_income\",\"NAME_INCOME_TYPE_discret_Low_income\",\"NAME_INCOME_TYPE_discret_Low_income\",\"NAME_INCOME_TYPE_discret_Low_income\",\"NAME_INCOME_TYPE_discret_Low_income\",\"NAME_INCOME_TYPE_discret_Low_income\",\"NAME_INCOME_TYPE_discret_Low_income\",\"NAME_INCOME_TYPE_discret_Low_income\",\"NAME_INCOME_TYPE_discret_Low_income\",\"NAME_INCOME_TYPE_discret_Low_income\",\"NAME_INCOME_TYPE_discret_Low_income\",\"NAME_INCOME_TYPE_discret_Low_income\",\"NAME_INCOME_TYPE_discret_Low_income\",\"NAME_INCOME_TYPE_discret_Low_income\",\"NAME_INCOME_TYPE_discret_Low_income\",\"NAME_INCOME_TYPE_discret_Low_income\",\"NAME_INCOME_TYPE_discret_Low_income\",\"NAME_INCOME_TYPE_discret_Low_income\",\"NAME_INCOME_TYPE_discret_Low_income\",\"NAME_INCOME_TYPE_discret_Low_income\",\"NAME_INCOME_TYPE_discret_Low_income\",\"NAME_INCOME_TYPE_discret_Low_income\",\"NAME_INCOME_TYPE_discret_Low_income\",\"NAME_INCOME_TYPE_discret_Low_income\",\"NAME_INCOME_TYPE_discret_Low_income\",\"NAME_INCOME_TYPE_discret_Low_income\",\"NAME_INCOME_TYPE_discret_Low_income\",\"NAME_INCOME_TYPE_discret_Low_income\",\"NAME_INCOME_TYPE_discret_Low_income\",\"NAME_INCOME_TYPE_discret_Low_income\",\"NAME_INCOME_TYPE_discret_Low_income\",\"NAME_INCOME_TYPE_discret_Low_income\",\"NAME_INCOME_TYPE_discret_Low_income\",\"NAME_INCOME_TYPE_discret_Low_income\",\"NAME_INCOME_TYPE_discret_Low_income\",\"NAME_INCOME_TYPE_discret_Low_income\",\"NAME_INCOME_TYPE_discret_Low_income\",\"NAME_INCOME_TYPE_discret_Low_income\",\"NAME_INCOME_TYPE_discret_Low_income\",\"NAME_INCOME_TYPE_discret_Low_income\",\"NAME_INCOME_TYPE_discret_Low_income\",\"NAME_INCOME_TYPE_discret_Low_income\",\"NAME_INCOME_TYPE_discret_Low_income\",\"NAME_INCOME_TYPE_discret_Low_income\",\"NAME_INCOME_TYPE_discret_Low_income\",\"NAME_INCOME_TYPE_discret_Low_income\",\"NAME_INCOME_TYPE_discret_Low_income\",\"NAME_INCOME_TYPE_discret_Low_income\",\"NAME_INCOME_TYPE_discret_Low_income\",\"NAME_INCOME_TYPE_discret_Low_income\",\"NAME_INCOME_TYPE_discret_Low_income\",\"NAME_INCOME_TYPE_discret_Low_income\",\"NAME_INCOME_TYPE_discret_Low_income\",\"NAME_INCOME_TYPE_discret_Low_income\",\"NAME_INCOME_TYPE_discret_Low_income\",\"NAME_INCOME_TYPE_discret_Low_income\",\"NAME_INCOME_TYPE_discret_Low_income\",\"NAME_INCOME_TYPE_discret_Low_income\",\"NAME_INCOME_TYPE_discret_Low_income\",\"NAME_INCOME_TYPE_discret_Low_income\",\"NAME_INCOME_TYPE_discret_Low_income\",\"NAME_INCOME_TYPE_discret_Low_income\",\"NAME_INCOME_TYPE_discret_Low_income\",\"NAME_INCOME_TYPE_discret_Low_income\",\"NAME_INCOME_TYPE_discret_Low_income\",\"NAME_INCOME_TYPE_discret_Low_income\",\"NAME_INCOME_TYPE_discret_Low_income\",\"NAME_INCOME_TYPE_discret_Low_income\",\"NAME_INCOME_TYPE_discret_Low_income\",\"NAME_INCOME_TYPE_discret_Low_income\",\"NAME_INCOME_TYPE_discret_Low_income\",\"NAME_INCOME_TYPE_discret_Low_income\",\"NAME_INCOME_TYPE_discret_Low_income\",\"NAME_INCOME_TYPE_discret_Low_income\",\"NAME_INCOME_TYPE_discret_Low_income\",\"NAME_INCOME_TYPE_discret_Low_income\",\"NAME_INCOME_TYPE_discret_Low_income\",\"NAME_INCOME_TYPE_discret_Low_income\",\"NAME_INCOME_TYPE_discret_Low_income\",\"NAME_INCOME_TYPE_discret_Low_income\",\"NAME_INCOME_TYPE_discret_Low_income\",\"NAME_INCOME_TYPE_discret_Low_income\",\"NAME_INCOME_TYPE_discret_Low_income\",\"NAME_INCOME_TYPE_discret_Low_income\",\"NAME_INCOME_TYPE_discret_Low_income\",\"NAME_INCOME_TYPE_discret_Low_income\",\"NAME_INCOME_TYPE_discret_Low_income\",\"NAME_INCOME_TYPE_discret_Low_income\",\"NAME_INCOME_TYPE_discret_Low_income\",\"NAME_INCOME_TYPE_discret_Low_income\",\"NAME_INCOME_TYPE_discret_Low_income\",\"NAME_INCOME_TYPE_discret_Low_income\",\"NAME_INCOME_TYPE_discret_Low_income\",\"NAME_INCOME_TYPE_discret_Low_income\",\"NAME_INCOME_TYPE_discret_Low_income\",\"NAME_INCOME_TYPE_discret_Low_income\",\"NAME_INCOME_TYPE_discret_Low_income\",\"NAME_INCOME_TYPE_discret_Low_income\",\"NAME_INCOME_TYPE_discret_Low_income\",\"NAME_INCOME_TYPE_discret_Low_income\",\"NAME_INCOME_TYPE_discret_Low_income\",\"NAME_INCOME_TYPE_discret_Low_income\",\"NAME_INCOME_TYPE_discret_Low_income\",\"NAME_INCOME_TYPE_discret_Low_income\",\"NAME_INCOME_TYPE_discret_Low_income\",\"NAME_INCOME_TYPE_discret_Low_income\",\"NAME_INCOME_TYPE_discret_Low_income\",\"NAME_INCOME_TYPE_discret_Low_income\",\"NAME_INCOME_TYPE_discret_Low_income\",\"NAME_INCOME_TYPE_discret_Low_income\",\"NAME_INCOME_TYPE_discret_Low_income\",\"NAME_INCOME_TYPE_discret_Low_income\",\"NAME_INCOME_TYPE_discret_Low_income\",\"NAME_INCOME_TYPE_discret_Low_income\",\"NAME_INCOME_TYPE_discret_Low_income\",\"NAME_INCOME_TYPE_discret_Low_income\",\"NAME_INCOME_TYPE_discret_Low_income\",\"NAME_INCOME_TYPE_discret_Low_income\",\"NAME_INCOME_TYPE_discret_Low_income\",\"NAME_INCOME_TYPE_discret_Low_income\",\"NAME_INCOME_TYPE_discret_Low_income\",\"NAME_INCOME_TYPE_discret_Low_income\",\"NAME_INCOME_TYPE_discret_Low_income\",\"NAME_INCOME_TYPE_discret_Low_income\",\"NAME_INCOME_TYPE_discret_Low_income\",\"NAME_INCOME_TYPE_discret_Low_income\",\"NAME_INCOME_TYPE_discret_Low_income\",\"NAME_INCOME_TYPE_discret_Low_income\",\"NAME_INCOME_TYPE_discret_Low_income\",\"NAME_INCOME_TYPE_discret_Low_income\",\"NAME_INCOME_TYPE_discret_Low_income\",\"NAME_INCOME_TYPE_discret_Low_income\",\"NAME_INCOME_TYPE_discret_Low_income\",\"NAME_INCOME_TYPE_discret_Low_income\",\"NAME_INCOME_TYPE_discret_Low_income\",\"NAME_INCOME_TYPE_discret_Low_income\",\"NAME_INCOME_TYPE_discret_Low_income\",\"NAME_INCOME_TYPE_discret_Low_income\",\"NAME_INCOME_TYPE_discret_Low_income\",\"NAME_INCOME_TYPE_discret_Low_income\",\"NAME_INCOME_TYPE_discret_Low_income\",\"NAME_INCOME_TYPE_discret_Low_income\",\"NAME_INCOME_TYPE_discret_Low_income\",\"NAME_INCOME_TYPE_discret_Low_income\",\"NAME_INCOME_TYPE_discret_Low_income\",\"NAME_INCOME_TYPE_discret_Low_income\",\"NAME_INCOME_TYPE_discret_Low_income\",\"NAME_INCOME_TYPE_discret_Low_income\",\"NAME_INCOME_TYPE_discret_Low_income\",\"NAME_INCOME_TYPE_discret_Low_income\",\"NAME_INCOME_TYPE_discret_Low_income\",\"NAME_INCOME_TYPE_discret_Low_income\",\"NAME_INCOME_TYPE_discret_Low_income\",\"NAME_INCOME_TYPE_discret_Low_income\",\"NAME_INCOME_TYPE_discret_Low_income\",\"AMT_CREDIT_SUM_DEBT_disc_int_[-6981558.21;9090.0]\",\"AMT_CREDIT_SUM_DEBT_disc_int_[-6981558.21;9090.0]\",\"AMT_CREDIT_SUM_DEBT_disc_int_[-6981558.21;9090.0]\",\"AMT_CREDIT_SUM_DEBT_disc_int_[-6981558.21;9090.0]\",\"AMT_CREDIT_SUM_DEBT_disc_int_[-6981558.21;9090.0]\",\"AMT_CREDIT_SUM_DEBT_disc_int_[-6981558.21;9090.0]\",\"AMT_CREDIT_SUM_DEBT_disc_int_[-6981558.21;9090.0]\",\"AMT_CREDIT_SUM_DEBT_disc_int_[-6981558.21;9090.0]\",\"AMT_CREDIT_SUM_DEBT_disc_int_[-6981558.21;9090.0]\",\"AMT_CREDIT_SUM_DEBT_disc_int_[-6981558.21;9090.0]\",\"AMT_CREDIT_SUM_DEBT_disc_int_[-6981558.21;9090.0]\",\"AMT_CREDIT_SUM_DEBT_disc_int_[-6981558.21;9090.0]\",\"AMT_CREDIT_SUM_DEBT_disc_int_[-6981558.21;9090.0]\",\"AMT_CREDIT_SUM_DEBT_disc_int_[-6981558.21;9090.0]\",\"AMT_CREDIT_SUM_DEBT_disc_int_[-6981558.21;9090.0]\",\"AMT_CREDIT_SUM_DEBT_disc_int_[-6981558.21;9090.0]\",\"AMT_CREDIT_SUM_DEBT_disc_int_[-6981558.21;9090.0]\",\"AMT_CREDIT_SUM_DEBT_disc_int_[-6981558.21;9090.0]\",\"AMT_CREDIT_SUM_DEBT_disc_int_[-6981558.21;9090.0]\",\"AMT_CREDIT_SUM_DEBT_disc_int_[-6981558.21;9090.0]\",\"AMT_CREDIT_SUM_DEBT_disc_int_[-6981558.21;9090.0]\",\"AMT_CREDIT_SUM_DEBT_disc_int_[-6981558.21;9090.0]\",\"AMT_CREDIT_SUM_DEBT_disc_int_[-6981558.21;9090.0]\",\"AMT_CREDIT_SUM_DEBT_disc_int_[-6981558.21;9090.0]\",\"AMT_CREDIT_SUM_DEBT_disc_int_[-6981558.21;9090.0]\",\"AMT_CREDIT_SUM_DEBT_disc_int_[-6981558.21;9090.0]\",\"AMT_CREDIT_SUM_DEBT_disc_int_[-6981558.21;9090.0]\",\"AMT_CREDIT_SUM_DEBT_disc_int_[-6981558.21;9090.0]\",\"AMT_CREDIT_SUM_DEBT_disc_int_[-6981558.21;9090.0]\",\"AMT_CREDIT_SUM_DEBT_disc_int_[-6981558.21;9090.0]\",\"AMT_CREDIT_SUM_DEBT_disc_int_[-6981558.21;9090.0]\",\"AMT_CREDIT_SUM_DEBT_disc_int_[-6981558.21;9090.0]\",\"AMT_CREDIT_SUM_DEBT_disc_int_[-6981558.21;9090.0]\",\"AMT_CREDIT_SUM_DEBT_disc_int_[-6981558.21;9090.0]\",\"AMT_CREDIT_SUM_DEBT_disc_int_[-6981558.21;9090.0]\",\"AMT_CREDIT_SUM_DEBT_disc_int_[-6981558.21;9090.0]\",\"AMT_CREDIT_SUM_DEBT_disc_int_[-6981558.21;9090.0]\",\"AMT_CREDIT_SUM_DEBT_disc_int_[-6981558.21;9090.0]\",\"AMT_CREDIT_SUM_DEBT_disc_int_[-6981558.21;9090.0]\",\"AMT_CREDIT_SUM_DEBT_disc_int_[-6981558.21;9090.0]\",\"AMT_CREDIT_SUM_DEBT_disc_int_[-6981558.21;9090.0]\",\"AMT_CREDIT_SUM_DEBT_disc_int_[-6981558.21;9090.0]\",\"AMT_CREDIT_SUM_DEBT_disc_int_[-6981558.21;9090.0]\",\"AMT_CREDIT_SUM_DEBT_disc_int_[-6981558.21;9090.0]\",\"AMT_CREDIT_SUM_DEBT_disc_int_[-6981558.21;9090.0]\",\"AMT_CREDIT_SUM_DEBT_disc_int_[-6981558.21;9090.0]\",\"AMT_CREDIT_SUM_DEBT_disc_int_[-6981558.21;9090.0]\",\"AMT_CREDIT_SUM_DEBT_disc_int_[-6981558.21;9090.0]\",\"AMT_CREDIT_SUM_DEBT_disc_int_[-6981558.21;9090.0]\",\"AMT_CREDIT_SUM_DEBT_disc_int_[-6981558.21;9090.0]\",\"AMT_CREDIT_SUM_DEBT_disc_int_[-6981558.21;9090.0]\",\"AMT_CREDIT_SUM_DEBT_disc_int_[-6981558.21;9090.0]\",\"AMT_CREDIT_SUM_DEBT_disc_int_[-6981558.21;9090.0]\",\"AMT_CREDIT_SUM_DEBT_disc_int_[-6981558.21;9090.0]\",\"AMT_CREDIT_SUM_DEBT_disc_int_[-6981558.21;9090.0]\",\"AMT_CREDIT_SUM_DEBT_disc_int_[-6981558.21;9090.0]\",\"AMT_CREDIT_SUM_DEBT_disc_int_[-6981558.21;9090.0]\",\"AMT_CREDIT_SUM_DEBT_disc_int_[-6981558.21;9090.0]\",\"AMT_CREDIT_SUM_DEBT_disc_int_[-6981558.21;9090.0]\",\"AMT_CREDIT_SUM_DEBT_disc_int_[-6981558.21;9090.0]\",\"AMT_CREDIT_SUM_DEBT_disc_int_[-6981558.21;9090.0]\",\"AMT_CREDIT_SUM_DEBT_disc_int_[-6981558.21;9090.0]\",\"AMT_CREDIT_SUM_DEBT_disc_int_[-6981558.21;9090.0]\",\"AMT_CREDIT_SUM_DEBT_disc_int_[-6981558.21;9090.0]\",\"AMT_CREDIT_SUM_DEBT_disc_int_[-6981558.21;9090.0]\",\"AMT_CREDIT_SUM_DEBT_disc_int_[-6981558.21;9090.0]\",\"AMT_CREDIT_SUM_DEBT_disc_int_[-6981558.21;9090.0]\",\"AMT_CREDIT_SUM_DEBT_disc_int_[-6981558.21;9090.0]\",\"AMT_CREDIT_SUM_DEBT_disc_int_[-6981558.21;9090.0]\",\"AMT_CREDIT_SUM_DEBT_disc_int_[-6981558.21;9090.0]\",\"AMT_CREDIT_SUM_DEBT_disc_int_[-6981558.21;9090.0]\",\"AMT_CREDIT_SUM_DEBT_disc_int_[-6981558.21;9090.0]\",\"AMT_CREDIT_SUM_DEBT_disc_int_[-6981558.21;9090.0]\",\"AMT_CREDIT_SUM_DEBT_disc_int_[-6981558.21;9090.0]\",\"AMT_CREDIT_SUM_DEBT_disc_int_[-6981558.21;9090.0]\",\"AMT_CREDIT_SUM_DEBT_disc_int_[-6981558.21;9090.0]\",\"AMT_CREDIT_SUM_DEBT_disc_int_[-6981558.21;9090.0]\",\"AMT_CREDIT_SUM_DEBT_disc_int_[-6981558.21;9090.0]\",\"AMT_CREDIT_SUM_DEBT_disc_int_[-6981558.21;9090.0]\",\"AMT_CREDIT_SUM_DEBT_disc_int_[-6981558.21;9090.0]\",\"AMT_CREDIT_SUM_DEBT_disc_int_[-6981558.21;9090.0]\",\"AMT_CREDIT_SUM_DEBT_disc_int_[-6981558.21;9090.0]\",\"AMT_CREDIT_SUM_DEBT_disc_int_[-6981558.21;9090.0]\",\"AMT_CREDIT_SUM_DEBT_disc_int_[-6981558.21;9090.0]\",\"AMT_CREDIT_SUM_DEBT_disc_int_[-6981558.21;9090.0]\",\"AMT_CREDIT_SUM_DEBT_disc_int_[-6981558.21;9090.0]\",\"AMT_CREDIT_SUM_DEBT_disc_int_[-6981558.21;9090.0]\",\"AMT_CREDIT_SUM_DEBT_disc_int_[-6981558.21;9090.0]\",\"AMT_CREDIT_SUM_DEBT_disc_int_[-6981558.21;9090.0]\",\"AMT_CREDIT_SUM_DEBT_disc_int_[-6981558.21;9090.0]\",\"AMT_CREDIT_SUM_DEBT_disc_int_[-6981558.21;9090.0]\",\"AMT_CREDIT_SUM_DEBT_disc_int_[-6981558.21;9090.0]\",\"AMT_CREDIT_SUM_DEBT_disc_int_[-6981558.21;9090.0]\",\"AMT_CREDIT_SUM_DEBT_disc_int_[-6981558.21;9090.0]\",\"AMT_CREDIT_SUM_DEBT_disc_int_[-6981558.21;9090.0]\",\"AMT_CREDIT_SUM_DEBT_disc_int_[-6981558.21;9090.0]\",\"AMT_CREDIT_SUM_DEBT_disc_int_[-6981558.21;9090.0]\",\"AMT_CREDIT_SUM_DEBT_disc_int_[-6981558.21;9090.0]\",\"AMT_CREDIT_SUM_DEBT_disc_int_[-6981558.21;9090.0]\",\"AMT_CREDIT_SUM_DEBT_disc_int_[-6981558.21;9090.0]\",\"AMT_CREDIT_SUM_DEBT_disc_int_[-6981558.21;9090.0]\",\"AMT_CREDIT_SUM_DEBT_disc_int_[-6981558.21;9090.0]\",\"AMT_CREDIT_SUM_DEBT_disc_int_[-6981558.21;9090.0]\",\"AMT_CREDIT_SUM_DEBT_disc_int_[-6981558.21;9090.0]\",\"AMT_CREDIT_SUM_DEBT_disc_int_[-6981558.21;9090.0]\",\"AMT_CREDIT_SUM_DEBT_disc_int_[-6981558.21;9090.0]\",\"AMT_CREDIT_SUM_DEBT_disc_int_[-6981558.21;9090.0]\",\"AMT_CREDIT_SUM_DEBT_disc_int_[-6981558.21;9090.0]\",\"AMT_CREDIT_SUM_DEBT_disc_int_[-6981558.21;9090.0]\",\"AMT_CREDIT_SUM_DEBT_disc_int_[-6981558.21;9090.0]\",\"AMT_CREDIT_SUM_DEBT_disc_int_[-6981558.21;9090.0]\",\"AMT_CREDIT_SUM_DEBT_disc_int_[-6981558.21;9090.0]\",\"AMT_CREDIT_SUM_DEBT_disc_int_[-6981558.21;9090.0]\",\"AMT_CREDIT_SUM_DEBT_disc_int_[-6981558.21;9090.0]\",\"AMT_CREDIT_SUM_DEBT_disc_int_[-6981558.21;9090.0]\",\"AMT_CREDIT_SUM_DEBT_disc_int_[-6981558.21;9090.0]\",\"AMT_CREDIT_SUM_DEBT_disc_int_[-6981558.21;9090.0]\",\"AMT_CREDIT_SUM_DEBT_disc_int_[-6981558.21;9090.0]\",\"AMT_CREDIT_SUM_DEBT_disc_int_[-6981558.21;9090.0]\",\"AMT_CREDIT_SUM_DEBT_disc_int_[-6981558.21;9090.0]\",\"AMT_CREDIT_SUM_DEBT_disc_int_[-6981558.21;9090.0]\",\"AMT_CREDIT_SUM_DEBT_disc_int_[-6981558.21;9090.0]\",\"AMT_CREDIT_SUM_DEBT_disc_int_[-6981558.21;9090.0]\",\"AMT_CREDIT_SUM_DEBT_disc_int_[-6981558.21;9090.0]\",\"AMT_CREDIT_SUM_DEBT_disc_int_[-6981558.21;9090.0]\",\"AMT_CREDIT_SUM_DEBT_disc_int_[-6981558.21;9090.0]\",\"AMT_CREDIT_SUM_DEBT_disc_int_[-6981558.21;9090.0]\",\"AMT_CREDIT_SUM_DEBT_disc_int_[-6981558.21;9090.0]\",\"AMT_CREDIT_SUM_DEBT_disc_int_[-6981558.21;9090.0]\",\"AMT_CREDIT_SUM_DEBT_disc_int_[-6981558.21;9090.0]\",\"AMT_CREDIT_SUM_DEBT_disc_int_[-6981558.21;9090.0]\",\"AMT_CREDIT_SUM_DEBT_disc_int_[-6981558.21;9090.0]\",\"AMT_CREDIT_SUM_DEBT_disc_int_[-6981558.21;9090.0]\",\"AMT_CREDIT_SUM_DEBT_disc_int_[-6981558.21;9090.0]\",\"AMT_CREDIT_SUM_DEBT_disc_int_[-6981558.21;9090.0]\",\"AMT_CREDIT_SUM_DEBT_disc_int_[-6981558.21;9090.0]\",\"AMT_CREDIT_SUM_DEBT_disc_int_[-6981558.21;9090.0]\",\"AMT_CREDIT_SUM_DEBT_disc_int_[-6981558.21;9090.0]\",\"AMT_CREDIT_SUM_DEBT_disc_int_[-6981558.21;9090.0]\",\"AMT_CREDIT_SUM_DEBT_disc_int_[-6981558.21;9090.0]\",\"AMT_CREDIT_SUM_DEBT_disc_int_[-6981558.21;9090.0]\",\"AMT_CREDIT_SUM_DEBT_disc_int_[-6981558.21;9090.0]\",\"AMT_CREDIT_SUM_DEBT_disc_int_[-6981558.21;9090.0]\",\"AMT_CREDIT_SUM_DEBT_disc_int_[-6981558.21;9090.0]\",\"AMT_CREDIT_SUM_DEBT_disc_int_[-6981558.21;9090.0]\",\"AMT_CREDIT_SUM_DEBT_disc_int_[-6981558.21;9090.0]\",\"AMT_CREDIT_SUM_DEBT_disc_int_[-6981558.21;9090.0]\",\"AMT_CREDIT_SUM_DEBT_disc_int_[-6981558.21;9090.0]\",\"AMT_CREDIT_SUM_DEBT_disc_int_[-6981558.21;9090.0]\",\"AMT_CREDIT_SUM_DEBT_disc_int_[-6981558.21;9090.0]\",\"AMT_CREDIT_SUM_DEBT_disc_int_[-6981558.21;9090.0]\",\"AMT_CREDIT_SUM_DEBT_disc_int_[-6981558.21;9090.0]\",\"AMT_CREDIT_SUM_DEBT_disc_int_[-6981558.21;9090.0]\",\"AMT_CREDIT_SUM_DEBT_disc_int_[-6981558.21;9090.0]\",\"AMT_CREDIT_SUM_DEBT_disc_int_[-6981558.21;9090.0]\",\"AMT_CREDIT_SUM_DEBT_disc_int_[-6981558.21;9090.0]\",\"AMT_CREDIT_SUM_DEBT_disc_int_[-6981558.21;9090.0]\",\"AMT_CREDIT_SUM_DEBT_disc_int_[-6981558.21;9090.0]\",\"AMT_CREDIT_SUM_DEBT_disc_int_[-6981558.21;9090.0]\",\"AMT_CREDIT_SUM_DEBT_disc_int_[-6981558.21;9090.0]\",\"AMT_CREDIT_SUM_DEBT_disc_int_[-6981558.21;9090.0]\",\"AMT_CREDIT_SUM_DEBT_disc_int_[-6981558.21;9090.0]\",\"AMT_CREDIT_SUM_DEBT_disc_int_[-6981558.21;9090.0]\",\"AMT_CREDIT_SUM_DEBT_disc_int_[-6981558.21;9090.0]\",\"AMT_CREDIT_SUM_DEBT_disc_int_[-6981558.21;9090.0]\",\"AMT_CREDIT_SUM_DEBT_disc_int_[-6981558.21;9090.0]\",\"AMT_CREDIT_SUM_DEBT_disc_int_[-6981558.21;9090.0]\",\"AMT_CREDIT_SUM_DEBT_disc_int_[-6981558.21;9090.0]\",\"AMT_CREDIT_SUM_DEBT_disc_int_[-6981558.21;9090.0]\",\"AMT_CREDIT_SUM_DEBT_disc_int_[-6981558.21;9090.0]\",\"AMT_CREDIT_SUM_DEBT_disc_int_[-6981558.21;9090.0]\",\"AMT_CREDIT_SUM_DEBT_disc_int_[-6981558.21;9090.0]\",\"AMT_CREDIT_SUM_DEBT_disc_int_[-6981558.21;9090.0]\",\"AMT_CREDIT_SUM_DEBT_disc_int_[-6981558.21;9090.0]\",\"AMT_CREDIT_SUM_DEBT_disc_int_[-6981558.21;9090.0]\",\"AMT_CREDIT_SUM_DEBT_disc_int_[-6981558.21;9090.0]\",\"AMT_CREDIT_SUM_DEBT_disc_int_[-6981558.21;9090.0]\",\"AMT_CREDIT_SUM_DEBT_disc_int_[-6981558.21;9090.0]\",\"AMT_CREDIT_SUM_DEBT_disc_int_[-6981558.21;9090.0]\",\"AMT_CREDIT_SUM_DEBT_disc_int_[-6981558.21;9090.0]\",\"AMT_CREDIT_SUM_DEBT_disc_int_[-6981558.21;9090.0]\",\"AMT_CREDIT_SUM_DEBT_disc_int_[-6981558.21;9090.0]\",\"AMT_CREDIT_SUM_DEBT_disc_int_[-6981558.21;9090.0]\",\"AMT_CREDIT_SUM_DEBT_disc_int_[-6981558.21;9090.0]\",\"AMT_CREDIT_SUM_DEBT_disc_int_[-6981558.21;9090.0]\",\"AMT_CREDIT_SUM_DEBT_disc_int_[-6981558.21;9090.0]\",\"AMT_CREDIT_SUM_DEBT_disc_int_[-6981558.21;9090.0]\",\"AMT_CREDIT_SUM_DEBT_disc_int_[-6981558.21;9090.0]\",\"AMT_CREDIT_SUM_DEBT_disc_int_[-6981558.21;9090.0]\",\"AMT_CREDIT_SUM_DEBT_disc_int_[-6981558.21;9090.0]\",\"AMT_CREDIT_SUM_DEBT_disc_int_[-6981558.21;9090.0]\",\"AMT_CREDIT_SUM_DEBT_disc_int_[-6981558.21;9090.0]\",\"AMT_CREDIT_SUM_DEBT_disc_int_[-6981558.21;9090.0]\",\"AMT_CREDIT_SUM_DEBT_disc_int_[-6981558.21;9090.0]\",\"AMT_CREDIT_SUM_DEBT_disc_int_[-6981558.21;9090.0]\",\"AMT_CREDIT_SUM_DEBT_disc_int_[-6981558.21;9090.0]\",\"AMT_CREDIT_SUM_DEBT_disc_int_[-6981558.21;9090.0]\",\"AMT_CREDIT_SUM_DEBT_disc_int_[-6981558.21;9090.0]\",\"AMT_CREDIT_SUM_DEBT_disc_int_[-6981558.21;9090.0]\",\"AMT_CREDIT_SUM_DEBT_disc_int_[-6981558.21;9090.0]\",\"AMT_CREDIT_SUM_DEBT_disc_int_[-6981558.21;9090.0]\",\"AMT_CREDIT_SUM_DEBT_disc_int_[-6981558.21;9090.0]\",\"AMT_CREDIT_SUM_DEBT_disc_int_[-6981558.21;9090.0]\",\"AMT_CREDIT_SUM_DEBT_disc_int_[-6981558.21;9090.0]\",\"AMT_CREDIT_SUM_DEBT_disc_int_[-6981558.21;9090.0]\",\"AMT_CREDIT_SUM_DEBT_disc_int_[-6981558.21;9090.0]\",\"AMT_CREDIT_SUM_DEBT_disc_int_[-6981558.21;9090.0]\",\"AMT_CREDIT_SUM_DEBT_disc_int_[-6981558.21;9090.0]\",\"AMT_CREDIT_SUM_DEBT_disc_int_[-6981558.21;9090.0]\",\"AMT_CREDIT_SUM_DEBT_disc_int_[-6981558.21;9090.0]\",\"AMT_CREDIT_SUM_DEBT_disc_int_[-6981558.21;9090.0]\",\"AMT_CREDIT_SUM_DEBT_disc_int_[-6981558.21;9090.0]\",\"AMT_CREDIT_SUM_DEBT_disc_int_[-6981558.21;9090.0]\",\"AMT_CREDIT_SUM_DEBT_disc_int_[-6981558.21;9090.0]\",\"AMT_CREDIT_SUM_DEBT_disc_int_[-6981558.21;9090.0]\",\"AMT_CREDIT_SUM_DEBT_disc_int_[-6981558.21;9090.0]\",\"AMT_CREDIT_SUM_DEBT_disc_int_[-6981558.21;9090.0]\",\"AMT_CREDIT_SUM_DEBT_disc_int_[-6981558.21;9090.0]\",\"AMT_CREDIT_SUM_DEBT_disc_int_[-6981558.21;9090.0]\",\"AMT_CREDIT_SUM_DEBT_disc_int_[-6981558.21;9090.0]\",\"AMT_CREDIT_SUM_DEBT_disc_int_[-6981558.21;9090.0]\",\"AMT_CREDIT_SUM_DEBT_disc_int_[-6981558.21;9090.0]\",\"AMT_CREDIT_SUM_DEBT_disc_int_[-6981558.21;9090.0]\",\"AMT_CREDIT_SUM_DEBT_disc_int_[-6981558.21;9090.0]\",\"AMT_CREDIT_SUM_DEBT_disc_int_[-6981558.21;9090.0]\",\"AMT_CREDIT_SUM_DEBT_disc_int_[-6981558.21;9090.0]\",\"AMT_CREDIT_SUM_DEBT_disc_int_[-6981558.21;9090.0]\",\"AMT_CREDIT_SUM_DEBT_disc_int_[-6981558.21;9090.0]\",\"AMT_CREDIT_SUM_DEBT_disc_int_[-6981558.21;9090.0]\",\"AMT_CREDIT_SUM_DEBT_disc_int_[-6981558.21;9090.0]\",\"AMT_CREDIT_SUM_DEBT_disc_int_[-6981558.21;9090.0]\",\"AMT_CREDIT_SUM_DEBT_disc_int_[-6981558.21;9090.0]\",\"AMT_CREDIT_SUM_DEBT_disc_int_[-6981558.21;9090.0]\",\"AMT_CREDIT_SUM_DEBT_disc_int_[-6981558.21;9090.0]\",\"AMT_CREDIT_SUM_DEBT_disc_int_[-6981558.21;9090.0]\",\"AMT_CREDIT_SUM_DEBT_disc_int_[-6981558.21;9090.0]\",\"AMT_CREDIT_SUM_DEBT_disc_int_[-6981558.21;9090.0]\",\"AMT_CREDIT_SUM_DEBT_disc_int_[-6981558.21;9090.0]\",\"AMT_CREDIT_SUM_DEBT_disc_int_[-6981558.21;9090.0]\",\"AMT_CREDIT_SUM_DEBT_disc_int_[-6981558.21;9090.0]\",\"AMT_CREDIT_SUM_DEBT_disc_int_[-6981558.21;9090.0]\",\"AMT_CREDIT_SUM_DEBT_disc_int_[-6981558.21;9090.0]\",\"AMT_CREDIT_SUM_DEBT_disc_int_[-6981558.21;9090.0]\",\"AMT_CREDIT_SUM_DEBT_disc_int_[-6981558.21;9090.0]\",\"AMT_CREDIT_SUM_DEBT_disc_int_[-6981558.21;9090.0]\",\"AMT_CREDIT_SUM_DEBT_disc_int_[-6981558.21;9090.0]\",\"AMT_CREDIT_SUM_DEBT_disc_int_[-6981558.21;9090.0]\",\"AMT_CREDIT_SUM_DEBT_disc_int_[-6981558.21;9090.0]\",\"AMT_CREDIT_SUM_DEBT_disc_int_[-6981558.21;9090.0]\",\"AMT_CREDIT_SUM_DEBT_disc_int_[-6981558.21;9090.0]\",\"AMT_CREDIT_SUM_DEBT_disc_int_[-6981558.21;9090.0]\",\"AMT_CREDIT_SUM_DEBT_disc_int_[-6981558.21;9090.0]\",\"AMT_CREDIT_SUM_DEBT_disc_int_[-6981558.21;9090.0]\",\"AMT_CREDIT_SUM_DEBT_disc_int_[-6981558.21;9090.0]\",\"AMT_CREDIT_SUM_DEBT_disc_int_[-6981558.21;9090.0]\",\"AMT_CREDIT_SUM_DEBT_disc_int_[-6981558.21;9090.0]\",\"AMT_CREDIT_SUM_DEBT_disc_int_[-6981558.21;9090.0]\",\"AMT_CREDIT_SUM_DEBT_disc_int_[-6981558.21;9090.0]\",\"AMT_CREDIT_SUM_DEBT_disc_int_[-6981558.21;9090.0]\",\"AMT_CREDIT_SUM_DEBT_disc_int_[-6981558.21;9090.0]\",\"AMT_CREDIT_SUM_DEBT_disc_int_[-6981558.21;9090.0]\",\"AMT_CREDIT_SUM_DEBT_disc_int_[-6981558.21;9090.0]\",\"AMT_CREDIT_SUM_DEBT_disc_int_[-6981558.21;9090.0]\",\"AMT_CREDIT_SUM_DEBT_disc_int_[-6981558.21;9090.0]\",\"AMT_CREDIT_SUM_DEBT_disc_int_[-6981558.21;9090.0]\",\"AMT_CREDIT_SUM_DEBT_disc_int_[-6981558.21;9090.0]\",\"AMT_CREDIT_SUM_DEBT_disc_int_[-6981558.21;9090.0]\",\"AMT_CREDIT_SUM_DEBT_disc_int_[-6981558.21;9090.0]\",\"AMT_CREDIT_SUM_DEBT_disc_int_[-6981558.21;9090.0]\",\"AMT_CREDIT_SUM_DEBT_disc_int_[-6981558.21;9090.0]\",\"AMT_CREDIT_SUM_DEBT_disc_int_[-6981558.21;9090.0]\",\"AMT_CREDIT_SUM_DEBT_disc_int_[-6981558.21;9090.0]\",\"AMT_CREDIT_SUM_DEBT_disc_int_[-6981558.21;9090.0]\",\"AMT_CREDIT_SUM_DEBT_disc_int_[-6981558.21;9090.0]\",\"AMT_CREDIT_SUM_DEBT_disc_int_[-6981558.21;9090.0]\",\"AMT_CREDIT_SUM_DEBT_disc_int_[-6981558.21;9090.0]\",\"AMT_CREDIT_SUM_DEBT_disc_int_[-6981558.21;9090.0]\",\"AMT_CREDIT_SUM_DEBT_disc_int_[-6981558.21;9090.0]\",\"AMT_CREDIT_SUM_DEBT_disc_int_[-6981558.21;9090.0]\",\"AMT_CREDIT_SUM_DEBT_disc_int_[-6981558.21;9090.0]\",\"AMT_CREDIT_SUM_DEBT_disc_int_[-6981558.21;9090.0]\",\"AMT_CREDIT_SUM_DEBT_disc_int_[-6981558.21;9090.0]\",\"AMT_CREDIT_SUM_DEBT_disc_int_[-6981558.21;9090.0]\",\"AMT_CREDIT_SUM_DEBT_disc_int_[-6981558.21;9090.0]\",\"AMT_CREDIT_SUM_DEBT_disc_int_[-6981558.21;9090.0]\",\"AMT_CREDIT_SUM_DEBT_disc_int_[-6981558.21;9090.0]\",\"AMT_CREDIT_SUM_DEBT_disc_int_[-6981558.21;9090.0]\",\"AMT_CREDIT_SUM_DEBT_disc_int_[-6981558.21;9090.0]\",\"AMT_CREDIT_SUM_DEBT_disc_int_[-6981558.21;9090.0]\",\"AMT_CREDIT_SUM_DEBT_disc_int_[-6981558.21;9090.0]\",\"AMT_CREDIT_SUM_DEBT_disc_int_[-6981558.21;9090.0]\",\"AMT_CREDIT_SUM_DEBT_disc_int_[-6981558.21;9090.0]\",\"AMT_CREDIT_SUM_DEBT_disc_int_[-6981558.21;9090.0]\",\"AMT_CREDIT_SUM_DEBT_disc_int_[-6981558.21;9090.0]\",\"AMT_CREDIT_SUM_DEBT_disc_int_[-6981558.21;9090.0]\",\"AMT_CREDIT_SUM_DEBT_disc_int_[-6981558.21;9090.0]\",\"AMT_CREDIT_SUM_DEBT_disc_int_[-6981558.21;9090.0]\",\"AMT_CREDIT_SUM_DEBT_disc_int_[-6981558.21;9090.0]\",\"AMT_CREDIT_SUM_DEBT_disc_int_[-6981558.21;9090.0]\",\"AMT_CREDIT_SUM_DEBT_disc_int_[-6981558.21;9090.0]\",\"AMT_CREDIT_SUM_DEBT_disc_int_[-6981558.21;9090.0]\",\"AMT_CREDIT_SUM_DEBT_disc_int_[-6981558.21;9090.0]\",\"AMT_CREDIT_SUM_DEBT_disc_int_[-6981558.21;9090.0]\",\"AMT_CREDIT_SUM_DEBT_disc_int_[-6981558.21;9090.0]\",\"AMT_CREDIT_SUM_DEBT_disc_int_[-6981558.21;9090.0]\",\"AMT_CREDIT_SUM_DEBT_disc_int_[-6981558.21;9090.0]\",\"AMT_CREDIT_SUM_DEBT_disc_int_[-6981558.21;9090.0]\",\"AMT_CREDIT_SUM_DEBT_disc_int_[-6981558.21;9090.0]\",\"AMT_CREDIT_SUM_DEBT_disc_int_[-6981558.21;9090.0]\",\"AMT_CREDIT_SUM_DEBT_disc_int_[-6981558.21;9090.0]\",\"AMT_CREDIT_SUM_DEBT_disc_int_[-6981558.21;9090.0]\",\"AMT_CREDIT_SUM_DEBT_disc_int_[-6981558.21;9090.0]\",\"AMT_CREDIT_SUM_DEBT_disc_int_[-6981558.21;9090.0]\",\"AMT_CREDIT_SUM_DEBT_disc_int_[-6981558.21;9090.0]\",\"AMT_CREDIT_SUM_DEBT_disc_int_[-6981558.21;9090.0]\",\"AMT_CREDIT_SUM_DEBT_disc_int_[-6981558.21;9090.0]\",\"AMT_CREDIT_SUM_DEBT_disc_int_[-6981558.21;9090.0]\",\"AMT_CREDIT_SUM_DEBT_disc_int_[-6981558.21;9090.0]\",\"AMT_CREDIT_SUM_DEBT_disc_int_[-6981558.21;9090.0]\",\"AMT_CREDIT_SUM_DEBT_disc_int_[-6981558.21;9090.0]\",\"AMT_CREDIT_SUM_DEBT_disc_int_[-6981558.21;9090.0]\",\"AMT_CREDIT_SUM_DEBT_disc_int_[-6981558.21;9090.0]\",\"AMT_CREDIT_SUM_DEBT_disc_int_[-6981558.21;9090.0]\",\"AMT_CREDIT_SUM_DEBT_disc_int_[-6981558.21;9090.0]\",\"AMT_CREDIT_SUM_DEBT_disc_int_[-6981558.21;9090.0]\",\"AMT_CREDIT_SUM_DEBT_disc_int_[-6981558.21;9090.0]\",\"AMT_CREDIT_SUM_DEBT_disc_int_[-6981558.21;9090.0]\",\"AMT_CREDIT_SUM_DEBT_disc_int_[-6981558.21;9090.0]\",\"AMT_CREDIT_SUM_DEBT_disc_int_[-6981558.21;9090.0]\",\"AMT_CREDIT_SUM_DEBT_disc_int_[-6981558.21;9090.0]\",\"AMT_CREDIT_SUM_DEBT_disc_int_[-6981558.21;9090.0]\",\"AMT_CREDIT_SUM_DEBT_disc_int_[-6981558.21;9090.0]\",\"AMT_CREDIT_SUM_DEBT_disc_int_[-6981558.21;9090.0]\",\"AMT_CREDIT_SUM_DEBT_disc_int_[-6981558.21;9090.0]\",\"AMT_CREDIT_SUM_DEBT_disc_int_[-6981558.21;9090.0]\",\"AMT_CREDIT_SUM_DEBT_disc_int_[-6981558.21;9090.0]\",\"AMT_CREDIT_SUM_DEBT_disc_int_[-6981558.21;9090.0]\",\"AMT_CREDIT_SUM_DEBT_disc_int_[-6981558.21;9090.0]\",\"AMT_CREDIT_SUM_DEBT_disc_int_[-6981558.21;9090.0]\",\"AMT_CREDIT_SUM_DEBT_disc_int_[-6981558.21;9090.0]\",\"AMT_CREDIT_SUM_DEBT_disc_int_[-6981558.21;9090.0]\",\"AMT_CREDIT_SUM_DEBT_disc_int_[-6981558.21;9090.0]\",\"AMT_CREDIT_SUM_DEBT_disc_int_[-6981558.21;9090.0]\",\"AMT_CREDIT_SUM_DEBT_disc_int_[-6981558.21;9090.0]\",\"AMT_CREDIT_SUM_DEBT_disc_int_[-6981558.21;9090.0]\",\"AMT_CREDIT_SUM_DEBT_disc_int_[-6981558.21;9090.0]\",\"AMT_CREDIT_SUM_DEBT_disc_int_[-6981558.21;9090.0]\",\"AMT_CREDIT_SUM_DEBT_disc_int_[-6981558.21;9090.0]\",\"AMT_CREDIT_SUM_DEBT_disc_int_[-6981558.21;9090.0]\",\"AMT_CREDIT_SUM_DEBT_disc_int_[-6981558.21;9090.0]\",\"AMT_CREDIT_SUM_DEBT_disc_int_[-6981558.21;9090.0]\",\"AMT_CREDIT_SUM_DEBT_disc_int_[-6981558.21;9090.0]\",\"AMT_CREDIT_SUM_DEBT_disc_int_[-6981558.21;9090.0]\",\"AMT_CREDIT_SUM_DEBT_disc_int_[-6981558.21;9090.0]\",\"AMT_CREDIT_SUM_DEBT_disc_int_[-6981558.21;9090.0]\",\"AMT_CREDIT_SUM_DEBT_disc_int_[-6981558.21;9090.0]\",\"AMT_CREDIT_SUM_DEBT_disc_int_[-6981558.21;9090.0]\",\"AMT_CREDIT_SUM_DEBT_disc_int_[-6981558.21;9090.0]\",\"AMT_CREDIT_SUM_DEBT_disc_int_[-6981558.21;9090.0]\",\"AMT_CREDIT_SUM_DEBT_disc_int_[-6981558.21;9090.0]\",\"AMT_CREDIT_SUM_DEBT_disc_int_[-6981558.21;9090.0]\",\"AMT_CREDIT_SUM_DEBT_disc_int_[-6981558.21;9090.0]\",\"DAYS_EMPLOYED_disc_int_[-17912;-2420]\",\"DAYS_EMPLOYED_disc_int_[-17912;-2420]\",\"DAYS_EMPLOYED_disc_int_[-17912;-2420]\",\"DAYS_EMPLOYED_disc_int_[-17912;-2420]\",\"DAYS_EMPLOYED_disc_int_[-17912;-2420]\",\"DAYS_EMPLOYED_disc_int_[-17912;-2420]\",\"DAYS_EMPLOYED_disc_int_[-17912;-2420]\",\"DAYS_EMPLOYED_disc_int_[-17912;-2420]\",\"DAYS_EMPLOYED_disc_int_[-17912;-2420]\",\"DAYS_EMPLOYED_disc_int_[-17912;-2420]\",\"DAYS_EMPLOYED_disc_int_[-17912;-2420]\",\"DAYS_EMPLOYED_disc_int_[-17912;-2420]\",\"DAYS_EMPLOYED_disc_int_[-17912;-2420]\",\"DAYS_EMPLOYED_disc_int_[-17912;-2420]\",\"DAYS_EMPLOYED_disc_int_[-17912;-2420]\",\"DAYS_EMPLOYED_disc_int_[-17912;-2420]\",\"DAYS_EMPLOYED_disc_int_[-17912;-2420]\",\"DAYS_EMPLOYED_disc_int_[-17912;-2420]\",\"DAYS_EMPLOYED_disc_int_[-17912;-2420]\",\"DAYS_EMPLOYED_disc_int_[-17912;-2420]\",\"DAYS_EMPLOYED_disc_int_[-17912;-2420]\",\"DAYS_EMPLOYED_disc_int_[-17912;-2420]\",\"DAYS_EMPLOYED_disc_int_[-17912;-2420]\",\"DAYS_EMPLOYED_disc_int_[-17912;-2420]\",\"DAYS_EMPLOYED_disc_int_[-17912;-2420]\",\"DAYS_EMPLOYED_disc_int_[-17912;-2420]\",\"DAYS_EMPLOYED_disc_int_[-17912;-2420]\",\"DAYS_EMPLOYED_disc_int_[-17912;-2420]\",\"DAYS_EMPLOYED_disc_int_[-17912;-2420]\",\"DAYS_EMPLOYED_disc_int_[-17912;-2420]\",\"DAYS_EMPLOYED_disc_int_[-17912;-2420]\",\"DAYS_EMPLOYED_disc_int_[-17912;-2420]\",\"DAYS_EMPLOYED_disc_int_[-17912;-2420]\",\"DAYS_EMPLOYED_disc_int_[-17912;-2420]\",\"DAYS_EMPLOYED_disc_int_[-17912;-2420]\",\"DAYS_EMPLOYED_disc_int_[-17912;-2420]\",\"DAYS_EMPLOYED_disc_int_[-17912;-2420]\",\"DAYS_EMPLOYED_disc_int_[-17912;-2420]\",\"DAYS_EMPLOYED_disc_int_[-17912;-2420]\",\"DAYS_EMPLOYED_disc_int_[-17912;-2420]\",\"DAYS_EMPLOYED_disc_int_[-17912;-2420]\",\"DAYS_EMPLOYED_disc_int_[-17912;-2420]\",\"DAYS_EMPLOYED_disc_int_[-17912;-2420]\",\"DAYS_EMPLOYED_disc_int_[-17912;-2420]\",\"DAYS_EMPLOYED_disc_int_[-17912;-2420]\",\"DAYS_EMPLOYED_disc_int_[-17912;-2420]\",\"DAYS_EMPLOYED_disc_int_[-17912;-2420]\",\"DAYS_EMPLOYED_disc_int_[-17912;-2420]\",\"DAYS_EMPLOYED_disc_int_[-17912;-2420]\",\"DAYS_EMPLOYED_disc_int_[-17912;-2420]\",\"DAYS_EMPLOYED_disc_int_[-17912;-2420]\",\"DAYS_EMPLOYED_disc_int_[-17912;-2420]\",\"DAYS_EMPLOYED_disc_int_[-17912;-2420]\",\"DAYS_EMPLOYED_disc_int_[-17912;-2420]\",\"DAYS_EMPLOYED_disc_int_[-17912;-2420]\",\"DAYS_EMPLOYED_disc_int_[-17912;-2420]\",\"DAYS_EMPLOYED_disc_int_[-17912;-2420]\",\"DAYS_EMPLOYED_disc_int_[-17912;-2420]\",\"DAYS_EMPLOYED_disc_int_[-17912;-2420]\",\"DAYS_EMPLOYED_disc_int_[-17912;-2420]\",\"DAYS_EMPLOYED_disc_int_[-17912;-2420]\",\"DAYS_EMPLOYED_disc_int_[-17912;-2420]\",\"DAYS_EMPLOYED_disc_int_[-17912;-2420]\",\"DAYS_EMPLOYED_disc_int_[-17912;-2420]\",\"DAYS_EMPLOYED_disc_int_[-17912;-2420]\",\"DAYS_EMPLOYED_disc_int_[-17912;-2420]\",\"DAYS_EMPLOYED_disc_int_[-17912;-2420]\",\"DAYS_EMPLOYED_disc_int_[-17912;-2420]\",\"DAYS_EMPLOYED_disc_int_[-17912;-2420]\",\"DAYS_EMPLOYED_disc_int_[-17912;-2420]\",\"DAYS_EMPLOYED_disc_int_[-17912;-2420]\",\"DAYS_EMPLOYED_disc_int_[-17912;-2420]\",\"DAYS_EMPLOYED_disc_int_[-17912;-2420]\",\"DAYS_EMPLOYED_disc_int_[-17912;-2420]\",\"DAYS_EMPLOYED_disc_int_[-17912;-2420]\",\"DAYS_EMPLOYED_disc_int_[-17912;-2420]\",\"DAYS_EMPLOYED_disc_int_[-17912;-2420]\",\"DAYS_EMPLOYED_disc_int_[-17912;-2420]\",\"DAYS_EMPLOYED_disc_int_[-17912;-2420]\",\"DAYS_EMPLOYED_disc_int_[-17912;-2420]\",\"DAYS_EMPLOYED_disc_int_[-17912;-2420]\",\"DAYS_EMPLOYED_disc_int_[-17912;-2420]\",\"DAYS_EMPLOYED_disc_int_[-17912;-2420]\",\"DAYS_EMPLOYED_disc_int_[-17912;-2420]\",\"DAYS_EMPLOYED_disc_int_[-17912;-2420]\",\"DAYS_EMPLOYED_disc_int_[-17912;-2420]\",\"DAYS_EMPLOYED_disc_int_[-17912;-2420]\",\"DAYS_EMPLOYED_disc_int_[-17912;-2420]\",\"DAYS_EMPLOYED_disc_int_[-17912;-2420]\",\"DAYS_EMPLOYED_disc_int_[-17912;-2420]\",\"DAYS_EMPLOYED_disc_int_[-17912;-2420]\",\"DAYS_EMPLOYED_disc_int_[-17912;-2420]\",\"DAYS_EMPLOYED_disc_int_[-17912;-2420]\",\"DAYS_EMPLOYED_disc_int_[-17912;-2420]\",\"DAYS_EMPLOYED_disc_int_[-17912;-2420]\",\"DAYS_EMPLOYED_disc_int_[-17912;-2420]\",\"DAYS_EMPLOYED_disc_int_[-17912;-2420]\",\"DAYS_EMPLOYED_disc_int_[-17912;-2420]\",\"DAYS_EMPLOYED_disc_int_[-17912;-2420]\",\"DAYS_EMPLOYED_disc_int_[-17912;-2420]\",\"DAYS_EMPLOYED_disc_int_[-17912;-2420]\",\"DAYS_EMPLOYED_disc_int_[-17912;-2420]\",\"DAYS_EMPLOYED_disc_int_[-17912;-2420]\",\"DAYS_EMPLOYED_disc_int_[-17912;-2420]\",\"DAYS_EMPLOYED_disc_int_[-17912;-2420]\",\"DAYS_EMPLOYED_disc_int_[-17912;-2420]\",\"DAYS_EMPLOYED_disc_int_[-17912;-2420]\",\"DAYS_EMPLOYED_disc_int_[-17912;-2420]\",\"DAYS_EMPLOYED_disc_int_[-17912;-2420]\",\"DAYS_EMPLOYED_disc_int_[-17912;-2420]\",\"DAYS_EMPLOYED_disc_int_[-17912;-2420]\",\"DAYS_EMPLOYED_disc_int_[-17912;-2420]\",\"DAYS_EMPLOYED_disc_int_[-17912;-2420]\",\"DAYS_EMPLOYED_disc_int_[-17912;-2420]\",\"DAYS_EMPLOYED_disc_int_[-17912;-2420]\",\"DAYS_EMPLOYED_disc_int_[-17912;-2420]\",\"DAYS_EMPLOYED_disc_int_[-17912;-2420]\",\"DAYS_EMPLOYED_disc_int_[-17912;-2420]\",\"DAYS_EMPLOYED_disc_int_[-17912;-2420]\",\"DAYS_EMPLOYED_disc_int_[-17912;-2420]\",\"DAYS_EMPLOYED_disc_int_[-17912;-2420]\",\"DAYS_EMPLOYED_disc_int_[-17912;-2420]\",\"DAYS_EMPLOYED_disc_int_[-17912;-2420]\",\"DAYS_EMPLOYED_disc_int_[-17912;-2420]\",\"DAYS_EMPLOYED_disc_int_[-17912;-2420]\",\"DAYS_EMPLOYED_disc_int_[-17912;-2420]\",\"DAYS_EMPLOYED_disc_int_[-17912;-2420]\",\"DAYS_EMPLOYED_disc_int_[-17912;-2420]\",\"DAYS_EMPLOYED_disc_int_[-17912;-2420]\",\"DAYS_EMPLOYED_disc_int_[-17912;-2420]\",\"DAYS_EMPLOYED_disc_int_[-17912;-2420]\",\"DAYS_EMPLOYED_disc_int_[-17912;-2420]\",\"DAYS_EMPLOYED_disc_int_[-17912;-2420]\",\"DAYS_EMPLOYED_disc_int_[-17912;-2420]\",\"DAYS_EMPLOYED_disc_int_[-17912;-2420]\",\"DAYS_EMPLOYED_disc_int_[-17912;-2420]\",\"DAYS_EMPLOYED_disc_int_[-17912;-2420]\",\"DAYS_EMPLOYED_disc_int_[-17912;-2420]\",\"DAYS_EMPLOYED_disc_int_[-17912;-2420]\",\"DAYS_EMPLOYED_disc_int_[-17912;-2420]\",\"DAYS_EMPLOYED_disc_int_[-17912;-2420]\",\"DAYS_EMPLOYED_disc_int_[-17912;-2420]\",\"DAYS_EMPLOYED_disc_int_[-17912;-2420]\",\"DAYS_EMPLOYED_disc_int_[-17912;-2420]\",\"DAYS_EMPLOYED_disc_int_[-17912;-2420]\",\"DAYS_EMPLOYED_disc_int_[-17912;-2420]\",\"DAYS_EMPLOYED_disc_int_[-17912;-2420]\",\"DAYS_EMPLOYED_disc_int_[-17912;-2420]\",\"DAYS_EMPLOYED_disc_int_[-17912;-2420]\",\"DAYS_EMPLOYED_disc_int_[-17912;-2420]\",\"DAYS_EMPLOYED_disc_int_[-17912;-2420]\",\"DAYS_EMPLOYED_disc_int_[-17912;-2420]\",\"DAYS_EMPLOYED_disc_int_[-17912;-2420]\",\"DAYS_EMPLOYED_disc_int_[-17912;-2420]\",\"DAYS_EMPLOYED_disc_int_[-17912;-2420]\",\"DAYS_EMPLOYED_disc_int_[-17912;-2420]\",\"DAYS_EMPLOYED_disc_int_[-17912;-2420]\",\"DAYS_EMPLOYED_disc_int_[-17912;-2420]\",\"DAYS_EMPLOYED_disc_int_[-17912;-2420]\",\"DAYS_EMPLOYED_disc_int_[-17912;-2420]\",\"DAYS_EMPLOYED_disc_int_[-17912;-2420]\",\"DAYS_EMPLOYED_disc_int_[-17912;-2420]\",\"DAYS_EMPLOYED_disc_int_[-17912;-2420]\",\"DAYS_EMPLOYED_disc_int_[-17912;-2420]\",\"DAYS_EMPLOYED_disc_int_[-17912;-2420]\",\"DAYS_EMPLOYED_disc_int_[-17912;-2420]\",\"DAYS_EMPLOYED_disc_int_[-17912;-2420]\",\"DAYS_EMPLOYED_disc_int_[-17912;-2420]\",\"DAYS_EMPLOYED_disc_int_[-17912;-2420]\",\"DAYS_EMPLOYED_disc_int_[-17912;-2420]\",\"DAYS_EMPLOYED_disc_int_[-17912;-2420]\",\"DAYS_EMPLOYED_disc_int_[-17912;-2420]\",\"DAYS_EMPLOYED_disc_int_[-17912;-2420]\",\"DAYS_EMPLOYED_disc_int_[-17912;-2420]\",\"DAYS_EMPLOYED_disc_int_[-17912;-2420]\",\"DAYS_EMPLOYED_disc_int_[-17912;-2420]\",\"DAYS_EMPLOYED_disc_int_[-17912;-2420]\",\"DAYS_EMPLOYED_disc_int_[-17912;-2420]\",\"DAYS_EMPLOYED_disc_int_[-17912;-2420]\",\"DAYS_EMPLOYED_disc_int_[-17912;-2420]\",\"DAYS_EMPLOYED_disc_int_[-17912;-2420]\",\"DAYS_EMPLOYED_disc_int_[-17912;-2420]\",\"DAYS_EMPLOYED_disc_int_[-17912;-2420]\",\"DAYS_EMPLOYED_disc_int_[-17912;-2420]\",\"DAYS_EMPLOYED_disc_int_[-17912;-2420]\",\"DAYS_EMPLOYED_disc_int_[-17912;-2420]\",\"DAYS_EMPLOYED_disc_int_[-17912;-2420]\",\"DAYS_EMPLOYED_disc_int_[-17912;-2420]\",\"DAYS_EMPLOYED_disc_int_[-17912;-2420]\",\"DAYS_EMPLOYED_disc_int_[-17912;-2420]\",\"DAYS_EMPLOYED_disc_int_[-17912;-2420]\",\"DAYS_EMPLOYED_disc_int_[-17912;-2420]\",\"DAYS_EMPLOYED_disc_int_[-17912;-2420]\",\"DAYS_EMPLOYED_disc_int_[-17912;-2420]\",\"DAYS_EMPLOYED_disc_int_[-17912;-2420]\",\"DAYS_EMPLOYED_disc_int_[-17912;-2420]\",\"DAYS_EMPLOYED_disc_int_[-17912;-2420]\",\"DAYS_EMPLOYED_disc_int_[-17912;-2420]\",\"DAYS_EMPLOYED_disc_int_[-17912;-2420]\",\"DAYS_EMPLOYED_disc_int_[-17912;-2420]\",\"DAYS_EMPLOYED_disc_int_[-17912;-2420]\",\"DAYS_EMPLOYED_disc_int_[-17912;-2420]\",\"DAYS_EMPLOYED_disc_int_[-17912;-2420]\",\"DAYS_EMPLOYED_disc_int_[-17912;-2420]\",\"DAYS_EMPLOYED_disc_int_[-17912;-2420]\",\"DAYS_EMPLOYED_disc_int_[-17912;-2420]\",\"DAYS_EMPLOYED_disc_int_[-17912;-2420]\",\"DAYS_EMPLOYED_disc_int_[-17912;-2420]\",\"DAYS_EMPLOYED_disc_int_[-17912;-2420]\",\"DAYS_EMPLOYED_disc_int_[-17912;-2420]\",\"DAYS_EMPLOYED_disc_int_[-17912;-2420]\",\"DAYS_EMPLOYED_disc_int_[-17912;-2420]\",\"DAYS_EMPLOYED_disc_int_[-17912;-2420]\",\"DAYS_EMPLOYED_disc_int_[-17912;-2420]\",\"DAYS_EMPLOYED_disc_int_[-17912;-2420]\",\"DAYS_EMPLOYED_disc_int_[-17912;-2420]\",\"DAYS_EMPLOYED_disc_int_[-17912;-2420]\",\"DAYS_EMPLOYED_disc_int_[-17912;-2420]\",\"DAYS_EMPLOYED_disc_int_[-17912;-2420]\",\"DAYS_EMPLOYED_disc_int_[-17912;-2420]\",\"DAYS_EMPLOYED_disc_int_[-17912;-2420]\",\"DAYS_EMPLOYED_disc_int_[-17912;-2420]\",\"DAYS_EMPLOYED_disc_int_[-17912;-2420]\",\"DAYS_EMPLOYED_disc_int_[-17912;-2420]\",\"DAYS_EMPLOYED_disc_int_[-17912;-2420]\",\"DAYS_EMPLOYED_disc_int_[-17912;-2420]\",\"DAYS_EMPLOYED_disc_int_[-17912;-2420]\",\"DAYS_EMPLOYED_disc_int_[-17912;-2420]\",\"DAYS_EMPLOYED_disc_int_[-17912;-2420]\",\"DAYS_EMPLOYED_disc_int_[-17912;-2420]\",\"DAYS_EMPLOYED_disc_int_[-17912;-2420]\",\"DAYS_EMPLOYED_disc_int_[-17912;-2420]\",\"DAYS_EMPLOYED_disc_int_[-17912;-2420]\",\"DAYS_EMPLOYED_disc_int_[-17912;-2420]\",\"DAYS_EMPLOYED_disc_int_[-17912;-2420]\",\"DAYS_EMPLOYED_disc_int_[-17912;-2420]\",\"DAYS_EMPLOYED_disc_int_[-17912;-2420]\",\"DAYS_EMPLOYED_disc_int_[-17912;-2420]\",\"DAYS_EMPLOYED_disc_int_[-17912;-2420]\",\"DAYS_EMPLOYED_disc_int_[-17912;-2420]\",\"DAYS_EMPLOYED_disc_int_[-17912;-2420]\",\"DAYS_EMPLOYED_disc_int_[-17912;-2420]\",\"DAYS_EMPLOYED_disc_int_[-17912;-2420]\",\"DAYS_EMPLOYED_disc_int_[-17912;-2420]\",\"DAYS_EMPLOYED_disc_int_[-17912;-2420]\",\"DAYS_EMPLOYED_disc_int_[-17912;-2420]\",\"DAYS_EMPLOYED_disc_int_[-17912;-2420]\",\"DAYS_EMPLOYED_disc_int_[-17912;-2420]\",\"DAYS_EMPLOYED_disc_int_[-17912;-2420]\",\"DAYS_EMPLOYED_disc_int_[-17912;-2420]\",\"DAYS_EMPLOYED_disc_int_[-17912;-2420]\",\"DAYS_EMPLOYED_disc_int_[-17912;-2420]\",\"DAYS_EMPLOYED_disc_int_[-17912;-2420]\",\"DAYS_EMPLOYED_disc_int_[-17912;-2420]\",\"DAYS_EMPLOYED_disc_int_[-17912;-2420]\",\"DAYS_EMPLOYED_disc_int_[-17912;-2420]\",\"DAYS_EMPLOYED_disc_int_[-17912;-2420]\",\"DAYS_EMPLOYED_disc_int_[-17912;-2420]\",\"DAYS_EMPLOYED_disc_int_[-17912;-2420]\",\"DAYS_EMPLOYED_disc_int_[-17912;-2420]\",\"DAYS_EMPLOYED_disc_int_[-17912;-2420]\",\"DAYS_EMPLOYED_disc_int_[-17912;-2420]\",\"DAYS_EMPLOYED_disc_int_[-17912;-2420]\",\"DAYS_EMPLOYED_disc_int_[-17912;-2420]\",\"DAYS_EMPLOYED_disc_int_[-17912;-2420]\",\"DAYS_EMPLOYED_disc_int_[-17912;-2420]\",\"DAYS_EMPLOYED_disc_int_[-17912;-2420]\",\"DAYS_EMPLOYED_disc_int_[-17912;-2420]\",\"DAYS_EMPLOYED_disc_int_[-17912;-2420]\",\"DAYS_EMPLOYED_disc_int_[-17912;-2420]\",\"DAYS_EMPLOYED_disc_int_[-17912;-2420]\",\"DAYS_EMPLOYED_disc_int_[-17912;-2420]\",\"DAYS_EMPLOYED_disc_int_[-17912;-2420]\",\"DAYS_EMPLOYED_disc_int_[-17912;-2420]\",\"DAYS_EMPLOYED_disc_int_[-17912;-2420]\",\"DAYS_EMPLOYED_disc_int_[-17912;-2420]\",\"DAYS_EMPLOYED_disc_int_[-17912;-2420]\",\"DAYS_EMPLOYED_disc_int_[-17912;-2420]\",\"DAYS_EMPLOYED_disc_int_[-17912;-2420]\",\"DAYS_EMPLOYED_disc_int_[-17912;-2420]\",\"DAYS_EMPLOYED_disc_int_[-17912;-2420]\",\"DAYS_EMPLOYED_disc_int_[-17912;-2420]\",\"DAYS_EMPLOYED_disc_int_[-17912;-2420]\",\"DAYS_EMPLOYED_disc_int_[-17912;-2420]\",\"DAYS_EMPLOYED_disc_int_[-17912;-2420]\",\"DAYS_EMPLOYED_disc_int_[-17912;-2420]\",\"DAYS_EMPLOYED_disc_int_[-17912;-2420]\",\"DAYS_EMPLOYED_disc_int_[-17912;-2420]\",\"DAYS_EMPLOYED_disc_int_[-17912;-2420]\",\"DAYS_EMPLOYED_disc_int_[-17912;-2420]\",\"DAYS_EMPLOYED_disc_int_[-17912;-2420]\",\"DAYS_EMPLOYED_disc_int_[-17912;-2420]\",\"DAYS_EMPLOYED_disc_int_[-17912;-2420]\",\"DAYS_EMPLOYED_disc_int_[-17912;-2420]\",\"DAYS_EMPLOYED_disc_int_[-17912;-2420]\",\"DAYS_EMPLOYED_disc_int_[-17912;-2420]\",\"DAYS_EMPLOYED_disc_int_[-17912;-2420]\",\"DAYS_EMPLOYED_disc_int_[-17912;-2420]\",\"DAYS_EMPLOYED_disc_int_[-17912;-2420]\",\"DAYS_EMPLOYED_disc_int_[-17912;-2420]\",\"DAYS_EMPLOYED_disc_int_[-17912;-2420]\",\"DAYS_EMPLOYED_disc_int_[-17912;-2420]\",\"DAYS_EMPLOYED_disc_int_[-17912;-2420]\",\"DAYS_EMPLOYED_disc_int_[-17912;-2420]\",\"DAYS_EMPLOYED_disc_int_[-17912;-2420]\",\"DAYS_EMPLOYED_disc_int_[-17912;-2420]\",\"DAYS_EMPLOYED_disc_int_[-17912;-2420]\",\"DAYS_EMPLOYED_disc_int_[-17912;-2420]\",\"DAYS_EMPLOYED_disc_int_[-17912;-2420]\",\"DAYS_EMPLOYED_disc_int_[-17912;-2420]\",\"DAYS_EMPLOYED_disc_int_[-17912;-2420]\",\"DAYS_EMPLOYED_disc_int_[-17912;-2420]\",\"DAYS_EMPLOYED_disc_int_[-17912;-2420]\",\"DAYS_EMPLOYED_disc_int_[-17912;-2420]\",\"DAYS_EMPLOYED_disc_int_[-17912;-2420]\",\"DAYS_EMPLOYED_disc_int_[-17912;-2420]\",\"DAYS_EMPLOYED_disc_int_[-17912;-2420]\",\"DAYS_EMPLOYED_disc_int_[-17912;-2420]\",\"DAYS_EMPLOYED_disc_int_[-17912;-2420]\",\"DAYS_EMPLOYED_disc_int_[-17912;-2420]\",\"DAYS_EMPLOYED_disc_int_[-17912;-2420]\",\"DAYS_EMPLOYED_disc_int_[-17912;-2420]\",\"DAYS_EMPLOYED_disc_int_[-17912;-2420]\",\"DAYS_EMPLOYED_disc_int_[-17912;-2420]\",\"DAYS_EMPLOYED_disc_int_[-17912;-2420]\",\"DAYS_EMPLOYED_disc_int_[-17912;-2420]\",\"DAYS_EMPLOYED_disc_int_[-17912;-2420]\",\"DAYS_EMPLOYED_disc_int_[-17912;-2420]\",\"DAYS_EMPLOYED_disc_int_[-17912;-2420]\",\"DAYS_EMPLOYED_disc_int_[-17912;-2420]\",\"DAYS_EMPLOYED_disc_int_[-17912;-2420]\",\"DAYS_EMPLOYED_disc_int_[-17912;-2420]\",\"DAYS_EMPLOYED_disc_int_[-17912;-2420]\",\"DAYS_EMPLOYED_disc_int_[-17912;-2420]\",\"DAYS_EMPLOYED_disc_int_[-17912;-2420]\",\"DAYS_EMPLOYED_disc_int_[-17912;-2420]\",\"DAYS_EMPLOYED_disc_int_[-17912;-2420]\",\"DAYS_EMPLOYED_disc_int_[-17912;-2420]\",\"DAYS_EMPLOYED_disc_int_[-17912;-2420]\",\"DAYS_EMPLOYED_disc_int_[-17912;-2420]\",\"DAYS_EMPLOYED_disc_int_[-17912;-2420]\",\"DAYS_EMPLOYED_disc_int_[-17912;-2420]\",\"DAYS_EMPLOYED_disc_int_[-17912;-2420]\",\"DAYS_EMPLOYED_disc_int_[-17912;-2420]\",\"DAYS_EMPLOYED_disc_int_[-17912;-2420]\",\"DAYS_EMPLOYED_disc_int_[-17912;-2420]\",\"DAYS_EMPLOYED_disc_int_[-17912;-2420]\",\"DAYS_EMPLOYED_disc_int_[-17912;-2420]\",\"DAYS_EMPLOYED_disc_int_[-17912;-2420]\",\"DAYS_EMPLOYED_disc_int_[-17912;-2420]\",\"DAYS_EMPLOYED_disc_int_[-17912;-2420]\",\"DAYS_EMPLOYED_disc_int_[-17912;-2420]\",\"DAYS_EMPLOYED_disc_int_[-17912;-2420]\",\"DAYS_EMPLOYED_disc_int_[-17912;-2420]\",\"DAYS_EMPLOYED_disc_int_[-17912;-2420]\",\"DAYS_EMPLOYED_disc_int_[-17912;-2420]\",\"DAYS_EMPLOYED_disc_int_[-17912;-2420]\",\"DAYS_EMPLOYED_disc_int_[-17912;-2420]\"],\"y0\":\" \",\"yaxis\":\"y\",\"type\":\"box\"}],                        {\"template\":{\"data\":{\"histogram2dcontour\":[{\"type\":\"histogram2dcontour\",\"colorbar\":{\"outlinewidth\":0,\"ticks\":\"\"},\"colorscale\":[[0.0,\"#0d0887\"],[0.1111111111111111,\"#46039f\"],[0.2222222222222222,\"#7201a8\"],[0.3333333333333333,\"#9c179e\"],[0.4444444444444444,\"#bd3786\"],[0.5555555555555556,\"#d8576b\"],[0.6666666666666666,\"#ed7953\"],[0.7777777777777778,\"#fb9f3a\"],[0.8888888888888888,\"#fdca26\"],[1.0,\"#f0f921\"]]}],\"choropleth\":[{\"type\":\"choropleth\",\"colorbar\":{\"outlinewidth\":0,\"ticks\":\"\"}}],\"histogram2d\":[{\"type\":\"histogram2d\",\"colorbar\":{\"outlinewidth\":0,\"ticks\":\"\"},\"colorscale\":[[0.0,\"#0d0887\"],[0.1111111111111111,\"#46039f\"],[0.2222222222222222,\"#7201a8\"],[0.3333333333333333,\"#9c179e\"],[0.4444444444444444,\"#bd3786\"],[0.5555555555555556,\"#d8576b\"],[0.6666666666666666,\"#ed7953\"],[0.7777777777777778,\"#fb9f3a\"],[0.8888888888888888,\"#fdca26\"],[1.0,\"#f0f921\"]]}],\"heatmap\":[{\"type\":\"heatmap\",\"colorbar\":{\"outlinewidth\":0,\"ticks\":\"\"},\"colorscale\":[[0.0,\"#0d0887\"],[0.1111111111111111,\"#46039f\"],[0.2222222222222222,\"#7201a8\"],[0.3333333333333333,\"#9c179e\"],[0.4444444444444444,\"#bd3786\"],[0.5555555555555556,\"#d8576b\"],[0.6666666666666666,\"#ed7953\"],[0.7777777777777778,\"#fb9f3a\"],[0.8888888888888888,\"#fdca26\"],[1.0,\"#f0f921\"]]}],\"heatmapgl\":[{\"type\":\"heatmapgl\",\"colorbar\":{\"outlinewidth\":0,\"ticks\":\"\"},\"colorscale\":[[0.0,\"#0d0887\"],[0.1111111111111111,\"#46039f\"],[0.2222222222222222,\"#7201a8\"],[0.3333333333333333,\"#9c179e\"],[0.4444444444444444,\"#bd3786\"],[0.5555555555555556,\"#d8576b\"],[0.6666666666666666,\"#ed7953\"],[0.7777777777777778,\"#fb9f3a\"],[0.8888888888888888,\"#fdca26\"],[1.0,\"#f0f921\"]]}],\"contourcarpet\":[{\"type\":\"contourcarpet\",\"colorbar\":{\"outlinewidth\":0,\"ticks\":\"\"}}],\"contour\":[{\"type\":\"contour\",\"colorbar\":{\"outlinewidth\":0,\"ticks\":\"\"},\"colorscale\":[[0.0,\"#0d0887\"],[0.1111111111111111,\"#46039f\"],[0.2222222222222222,\"#7201a8\"],[0.3333333333333333,\"#9c179e\"],[0.4444444444444444,\"#bd3786\"],[0.5555555555555556,\"#d8576b\"],[0.6666666666666666,\"#ed7953\"],[0.7777777777777778,\"#fb9f3a\"],[0.8888888888888888,\"#fdca26\"],[1.0,\"#f0f921\"]]}],\"surface\":[{\"type\":\"surface\",\"colorbar\":{\"outlinewidth\":0,\"ticks\":\"\"},\"colorscale\":[[0.0,\"#0d0887\"],[0.1111111111111111,\"#46039f\"],[0.2222222222222222,\"#7201a8\"],[0.3333333333333333,\"#9c179e\"],[0.4444444444444444,\"#bd3786\"],[0.5555555555555556,\"#d8576b\"],[0.6666666666666666,\"#ed7953\"],[0.7777777777777778,\"#fb9f3a\"],[0.8888888888888888,\"#fdca26\"],[1.0,\"#f0f921\"]]}],\"mesh3d\":[{\"type\":\"mesh3d\",\"colorbar\":{\"outlinewidth\":0,\"ticks\":\"\"}}],\"scatter\":[{\"fillpattern\":{\"fillmode\":\"overlay\",\"size\":10,\"solidity\":0.2},\"type\":\"scatter\"}],\"parcoords\":[{\"type\":\"parcoords\",\"line\":{\"colorbar\":{\"outlinewidth\":0,\"ticks\":\"\"}}}],\"scatterpolargl\":[{\"type\":\"scatterpolargl\",\"marker\":{\"colorbar\":{\"outlinewidth\":0,\"ticks\":\"\"}}}],\"bar\":[{\"error_x\":{\"color\":\"#2a3f5f\"},\"error_y\":{\"color\":\"#2a3f5f\"},\"marker\":{\"line\":{\"color\":\"#E5ECF6\",\"width\":0.5},\"pattern\":{\"fillmode\":\"overlay\",\"size\":10,\"solidity\":0.2}},\"type\":\"bar\"}],\"scattergeo\":[{\"type\":\"scattergeo\",\"marker\":{\"colorbar\":{\"outlinewidth\":0,\"ticks\":\"\"}}}],\"scatterpolar\":[{\"type\":\"scatterpolar\",\"marker\":{\"colorbar\":{\"outlinewidth\":0,\"ticks\":\"\"}}}],\"histogram\":[{\"marker\":{\"pattern\":{\"fillmode\":\"overlay\",\"size\":10,\"solidity\":0.2}},\"type\":\"histogram\"}],\"scattergl\":[{\"type\":\"scattergl\",\"marker\":{\"colorbar\":{\"outlinewidth\":0,\"ticks\":\"\"}}}],\"scatter3d\":[{\"type\":\"scatter3d\",\"line\":{\"colorbar\":{\"outlinewidth\":0,\"ticks\":\"\"}},\"marker\":{\"colorbar\":{\"outlinewidth\":0,\"ticks\":\"\"}}}],\"scattermapbox\":[{\"type\":\"scattermapbox\",\"marker\":{\"colorbar\":{\"outlinewidth\":0,\"ticks\":\"\"}}}],\"scatterternary\":[{\"type\":\"scatterternary\",\"marker\":{\"colorbar\":{\"outlinewidth\":0,\"ticks\":\"\"}}}],\"scattercarpet\":[{\"type\":\"scattercarpet\",\"marker\":{\"colorbar\":{\"outlinewidth\":0,\"ticks\":\"\"}}}],\"carpet\":[{\"aaxis\":{\"endlinecolor\":\"#2a3f5f\",\"gridcolor\":\"white\",\"linecolor\":\"white\",\"minorgridcolor\":\"white\",\"startlinecolor\":\"#2a3f5f\"},\"baxis\":{\"endlinecolor\":\"#2a3f5f\",\"gridcolor\":\"white\",\"linecolor\":\"white\",\"minorgridcolor\":\"white\",\"startlinecolor\":\"#2a3f5f\"},\"type\":\"carpet\"}],\"table\":[{\"cells\":{\"fill\":{\"color\":\"#EBF0F8\"},\"line\":{\"color\":\"white\"}},\"header\":{\"fill\":{\"color\":\"#C8D4E3\"},\"line\":{\"color\":\"white\"}},\"type\":\"table\"}],\"barpolar\":[{\"marker\":{\"line\":{\"color\":\"#E5ECF6\",\"width\":0.5},\"pattern\":{\"fillmode\":\"overlay\",\"size\":10,\"solidity\":0.2}},\"type\":\"barpolar\"}],\"pie\":[{\"automargin\":true,\"type\":\"pie\"}]},\"layout\":{\"autotypenumbers\":\"strict\",\"colorway\":[\"#636efa\",\"#EF553B\",\"#00cc96\",\"#ab63fa\",\"#FFA15A\",\"#19d3f3\",\"#FF6692\",\"#B6E880\",\"#FF97FF\",\"#FECB52\"],\"font\":{\"color\":\"#2a3f5f\"},\"hovermode\":\"closest\",\"hoverlabel\":{\"align\":\"left\"},\"paper_bgcolor\":\"white\",\"plot_bgcolor\":\"#E5ECF6\",\"polar\":{\"bgcolor\":\"#E5ECF6\",\"angularaxis\":{\"gridcolor\":\"white\",\"linecolor\":\"white\",\"ticks\":\"\"},\"radialaxis\":{\"gridcolor\":\"white\",\"linecolor\":\"white\",\"ticks\":\"\"}},\"ternary\":{\"bgcolor\":\"#E5ECF6\",\"aaxis\":{\"gridcolor\":\"white\",\"linecolor\":\"white\",\"ticks\":\"\"},\"baxis\":{\"gridcolor\":\"white\",\"linecolor\":\"white\",\"ticks\":\"\"},\"caxis\":{\"gridcolor\":\"white\",\"linecolor\":\"white\",\"ticks\":\"\"}},\"coloraxis\":{\"colorbar\":{\"outlinewidth\":0,\"ticks\":\"\"}},\"colorscale\":{\"sequential\":[[0.0,\"#0d0887\"],[0.1111111111111111,\"#46039f\"],[0.2222222222222222,\"#7201a8\"],[0.3333333333333333,\"#9c179e\"],[0.4444444444444444,\"#bd3786\"],[0.5555555555555556,\"#d8576b\"],[0.6666666666666666,\"#ed7953\"],[0.7777777777777778,\"#fb9f3a\"],[0.8888888888888888,\"#fdca26\"],[1.0,\"#f0f921\"]],\"sequentialminus\":[[0.0,\"#0d0887\"],[0.1111111111111111,\"#46039f\"],[0.2222222222222222,\"#7201a8\"],[0.3333333333333333,\"#9c179e\"],[0.4444444444444444,\"#bd3786\"],[0.5555555555555556,\"#d8576b\"],[0.6666666666666666,\"#ed7953\"],[0.7777777777777778,\"#fb9f3a\"],[0.8888888888888888,\"#fdca26\"],[1.0,\"#f0f921\"]],\"diverging\":[[0,\"#8e0152\"],[0.1,\"#c51b7d\"],[0.2,\"#de77ae\"],[0.3,\"#f1b6da\"],[0.4,\"#fde0ef\"],[0.5,\"#f7f7f7\"],[0.6,\"#e6f5d0\"],[0.7,\"#b8e186\"],[0.8,\"#7fbc41\"],[0.9,\"#4d9221\"],[1,\"#276419\"]]},\"xaxis\":{\"gridcolor\":\"white\",\"linecolor\":\"white\",\"ticks\":\"\",\"title\":{\"standoff\":15},\"zerolinecolor\":\"white\",\"automargin\":true,\"zerolinewidth\":2},\"yaxis\":{\"gridcolor\":\"white\",\"linecolor\":\"white\",\"ticks\":\"\",\"title\":{\"standoff\":15},\"zerolinecolor\":\"white\",\"automargin\":true,\"zerolinewidth\":2},\"scene\":{\"xaxis\":{\"backgroundcolor\":\"#E5ECF6\",\"gridcolor\":\"white\",\"linecolor\":\"white\",\"showbackground\":true,\"ticks\":\"\",\"zerolinecolor\":\"white\",\"gridwidth\":2},\"yaxis\":{\"backgroundcolor\":\"#E5ECF6\",\"gridcolor\":\"white\",\"linecolor\":\"white\",\"showbackground\":true,\"ticks\":\"\",\"zerolinecolor\":\"white\",\"gridwidth\":2},\"zaxis\":{\"backgroundcolor\":\"#E5ECF6\",\"gridcolor\":\"white\",\"linecolor\":\"white\",\"showbackground\":true,\"ticks\":\"\",\"zerolinecolor\":\"white\",\"gridwidth\":2}},\"shapedefaults\":{\"line\":{\"color\":\"#2a3f5f\"}},\"annotationdefaults\":{\"arrowcolor\":\"#2a3f5f\",\"arrowhead\":0,\"arrowwidth\":1},\"geo\":{\"bgcolor\":\"white\",\"landcolor\":\"#E5ECF6\",\"subunitcolor\":\"white\",\"showland\":true,\"showlakes\":true,\"lakecolor\":\"white\"},\"title\":{\"x\":0.05},\"mapbox\":{\"style\":\"light\"}}},\"xaxis\":{\"anchor\":\"y\",\"domain\":[0.0,1.0],\"title\":{\"text\":\"SHAP Value (Impact on Model Output)\"}},\"yaxis\":{\"anchor\":\"x\",\"domain\":[0.0,1.0],\"title\":{\"text\":\"Feature\"}},\"legend\":{\"title\":{\"text\":\"One-hot Value\"},\"tracegroupgap\":0},\"title\":{\"text\":\"Bee Swarm Plot of SHAP Values by Feature\"},\"boxmode\":\"overlay\"},                        {\"responsive\": true}                    ).then(function(){\n                            \nvar gd = document.getElementById('e7724943-24f2-4f94-8095-eb7be82562dc');\nvar x = new MutationObserver(function (mutations, observer) {{\n        var display = window.getComputedStyle(gd).display;\n        if (!display || display === 'none') {{\n            console.log([gd, 'removed!']);\n            Plotly.purge(gd);\n            observer.disconnect();\n        }}\n}});\n\n// Listen for the removal of the full notebook cells\nvar notebookContainer = gd.closest('#notebook-container');\nif (notebookContainer) {{\n    x.observe(notebookContainer, {childList: true});\n}}\n\n// Listen for the clearing of the current output cell\nvar outputEl = gd.closest('.output');\nif (outputEl) {{\n    x.observe(outputEl, {childList: true});\n}}\n\n                        })                };                });            </script>        </div>"
     },
     "metadata": {},
     "output_type": "display_data"
    }
   ],
   "source": [
    "import pandas as pd\n",
    "import plotly.express as px\n",
    "\n",
    "train = pd.read_csv(\"./data/Xtrain.csv\", index_col=[0])\n",
    "shap_values = pd.read_csv('./data/shap_values.csv', index_col=[0])\n",
    "shap_values.columns = train.columns\n",
    "train.reset_index(inplace=True, drop=True)\n",
    "\n",
    "replacements = {\n",
    "    'zz': '[',\n",
    "    'vv': ']',\n",
    "    'ww': ';',\n",
    "    'ff': '-',\n",
    "    'pp': '.'\n",
    "}\n",
    "\n",
    "# Appliquer les substitutions à chaque nom de colonne\n",
    "for old, new in replacements.items():\n",
    "    train.columns = [col.replace(old, new) for col in train.columns]\n",
    "    shap_values.columns = [col.replace(old, new) for col in shap_values.columns]\n",
    "    \n",
    "\n",
    "train = train.iloc[:500,:]\n",
    "shap_values = shap_values.iloc[:500,:]\n",
    "\n",
    "# Joining SHAP values and one-hot encoded features\n",
    "merged_df = shap_values.join(train, lsuffix='_shap', rsuffix='_train')\n",
    "\n",
    "# Melt the merged DataFrame to long format\n",
    "melted_df = merged_df.melt(value_vars=[col for col in\n",
    "                                       merged_df.columns if '_shap' in col],\n",
    "                           var_name='Feature',\n",
    "                           value_name='SHAP Value')\n",
    "\n",
    "melted_df['Feature']  = melted_df['Feature'].str.replace('_shap', '')\n",
    "\n",
    "for feature in train.columns:\n",
    "    feature_shap = feature + '_shap'\n",
    "    feature_train = feature + '_train'\n",
    "    melted_df.loc[melted_df['Feature'] == feature, 'One-hot Value'] = merged_df[feature_train].values\n",
    "\n",
    "# Generate the plot again\n",
    "fig = px.strip(melted_df, x='SHAP Value', y='Feature', \n",
    "               color='One-hot Value',\n",
    "               orientation='h', stripmode='overlay', \n",
    "               title='Bee Swarm Plot of SHAP Values by Feature')\n",
    "\n",
    "fig.update_layout(xaxis_title='SHAP Value (Impact on Model Output)',\n",
    "                  yaxis_title='Feature')\n",
    "\n",
    "fig.show()"
   ],
   "metadata": {
    "collapsed": false,
    "ExecuteTime": {
     "end_time": "2024-03-30T09:10:21.647258Z",
     "start_time": "2024-03-30T09:10:21.332666Z"
    }
   },
   "id": "610b45af0b0911dd"
  },
  {
   "cell_type": "code",
   "execution_count": 37,
   "outputs": [
    {
     "data": {
      "text/plain": "                                                Feature  SHAP Value  \\\n0     AMT_CREDIT_SUM_disc_int_zz967500pp0ww101795791...   -0.065704   \n1     AMT_CREDIT_SUM_disc_int_zz967500pp0ww101795791...   -0.096510   \n2     AMT_CREDIT_SUM_disc_int_zz967500pp0ww101795791...    0.062368   \n3     AMT_CREDIT_SUM_disc_int_zz967500pp0ww101795791...    0.062368   \n4     AMT_CREDIT_SUM_disc_int_zz967500pp0ww101795791...    0.063093   \n...                                                 ...         ...   \n3495         DAYS_EMPLOYED_disc_int_zzff17912wwff2420vv   -0.260660   \n3496         DAYS_EMPLOYED_disc_int_zzff17912wwff2420vv   -0.266387   \n3497         DAYS_EMPLOYED_disc_int_zzff17912wwff2420vv    0.087047   \n3498         DAYS_EMPLOYED_disc_int_zzff17912wwff2420vv    0.104778   \n3499         DAYS_EMPLOYED_disc_int_zzff17912wwff2420vv   -0.254543   \n\n      One-hot Value  \n0               NaN  \n1               NaN  \n2               NaN  \n3               NaN  \n4               NaN  \n...             ...  \n3495            NaN  \n3496            NaN  \n3497            NaN  \n3498            NaN  \n3499            NaN  \n\n[3500 rows x 3 columns]",
      "text/html": "<div>\n<style scoped>\n    .dataframe tbody tr th:only-of-type {\n        vertical-align: middle;\n    }\n\n    .dataframe tbody tr th {\n        vertical-align: top;\n    }\n\n    .dataframe thead th {\n        text-align: right;\n    }\n</style>\n<table border=\"1\" class=\"dataframe\">\n  <thead>\n    <tr style=\"text-align: right;\">\n      <th></th>\n      <th>Feature</th>\n      <th>SHAP Value</th>\n      <th>One-hot Value</th>\n    </tr>\n  </thead>\n  <tbody>\n    <tr>\n      <th>0</th>\n      <td>AMT_CREDIT_SUM_disc_int_zz967500pp0ww101795791...</td>\n      <td>-0.065704</td>\n      <td>NaN</td>\n    </tr>\n    <tr>\n      <th>1</th>\n      <td>AMT_CREDIT_SUM_disc_int_zz967500pp0ww101795791...</td>\n      <td>-0.096510</td>\n      <td>NaN</td>\n    </tr>\n    <tr>\n      <th>2</th>\n      <td>AMT_CREDIT_SUM_disc_int_zz967500pp0ww101795791...</td>\n      <td>0.062368</td>\n      <td>NaN</td>\n    </tr>\n    <tr>\n      <th>3</th>\n      <td>AMT_CREDIT_SUM_disc_int_zz967500pp0ww101795791...</td>\n      <td>0.062368</td>\n      <td>NaN</td>\n    </tr>\n    <tr>\n      <th>4</th>\n      <td>AMT_CREDIT_SUM_disc_int_zz967500pp0ww101795791...</td>\n      <td>0.063093</td>\n      <td>NaN</td>\n    </tr>\n    <tr>\n      <th>...</th>\n      <td>...</td>\n      <td>...</td>\n      <td>...</td>\n    </tr>\n    <tr>\n      <th>3495</th>\n      <td>DAYS_EMPLOYED_disc_int_zzff17912wwff2420vv</td>\n      <td>-0.260660</td>\n      <td>NaN</td>\n    </tr>\n    <tr>\n      <th>3496</th>\n      <td>DAYS_EMPLOYED_disc_int_zzff17912wwff2420vv</td>\n      <td>-0.266387</td>\n      <td>NaN</td>\n    </tr>\n    <tr>\n      <th>3497</th>\n      <td>DAYS_EMPLOYED_disc_int_zzff17912wwff2420vv</td>\n      <td>0.087047</td>\n      <td>NaN</td>\n    </tr>\n    <tr>\n      <th>3498</th>\n      <td>DAYS_EMPLOYED_disc_int_zzff17912wwff2420vv</td>\n      <td>0.104778</td>\n      <td>NaN</td>\n    </tr>\n    <tr>\n      <th>3499</th>\n      <td>DAYS_EMPLOYED_disc_int_zzff17912wwff2420vv</td>\n      <td>-0.254543</td>\n      <td>NaN</td>\n    </tr>\n  </tbody>\n</table>\n<p>3500 rows × 3 columns</p>\n</div>"
     },
     "execution_count": 37,
     "metadata": {},
     "output_type": "execute_result"
    }
   ],
   "source": [
    "melted_df"
   ],
   "metadata": {
    "collapsed": false,
    "ExecuteTime": {
     "end_time": "2024-03-30T08:57:41.142006Z",
     "start_time": "2024-03-30T08:57:41.117090Z"
    }
   },
   "id": "55746aa464977b0"
  },
  {
   "cell_type": "code",
   "execution_count": 42,
   "outputs": [
    {
     "data": {
      "application/vnd.plotly.v1+json": {
       "data": [
        {
         "alignmentgroup": "True",
         "boxpoints": "all",
         "fillcolor": "rgba(255,255,255,0)",
         "hoveron": "points",
         "hovertemplate": "One-hot Value=0.0<br>SHAP Value=%{x}<br>Feature=%{y}<extra></extra>",
         "legendgroup": "0.0",
         "line": {
          "color": "rgba(255,255,255,0)"
         },
         "marker": {
          "color": "#636efa"
         },
         "name": "0.0",
         "offsetgroup": "0.0",
         "orientation": "h",
         "pointpos": 0,
         "showlegend": true,
         "x": [
          -0.065704,
          0.062368,
          0.063093,
          -0.168756,
          -0.168756
         ],
         "x0": " ",
         "xaxis": "x",
         "y": [
          "A",
          "A",
          "A",
          "B",
          "B"
         ],
         "y0": " ",
         "yaxis": "y",
         "type": "box"
        },
        {
         "alignmentgroup": "True",
         "boxpoints": "all",
         "fillcolor": "rgba(255,255,255,0)",
         "hoveron": "points",
         "hovertemplate": "One-hot Value=1.0<br>SHAP Value=%{x}<br>Feature=%{y}<extra></extra>",
         "legendgroup": "1.0",
         "line": {
          "color": "rgba(255,255,255,0)"
         },
         "marker": {
          "color": "#EF553B"
         },
         "name": "1.0",
         "offsetgroup": "1.0",
         "orientation": "h",
         "pointpos": 0,
         "showlegend": true,
         "x": [
          -0.09651,
          0.062368,
          -0.168249,
          -0.173284,
          -0.169378
         ],
         "x0": " ",
         "xaxis": "x",
         "y": [
          "A",
          "A",
          "B",
          "B",
          "B"
         ],
         "y0": " ",
         "yaxis": "y",
         "type": "box"
        }
       ],
       "layout": {
        "template": {
         "data": {
          "histogram2dcontour": [
           {
            "type": "histogram2dcontour",
            "colorbar": {
             "outlinewidth": 0,
             "ticks": ""
            },
            "colorscale": [
             [
              0.0,
              "#0d0887"
             ],
             [
              0.1111111111111111,
              "#46039f"
             ],
             [
              0.2222222222222222,
              "#7201a8"
             ],
             [
              0.3333333333333333,
              "#9c179e"
             ],
             [
              0.4444444444444444,
              "#bd3786"
             ],
             [
              0.5555555555555556,
              "#d8576b"
             ],
             [
              0.6666666666666666,
              "#ed7953"
             ],
             [
              0.7777777777777778,
              "#fb9f3a"
             ],
             [
              0.8888888888888888,
              "#fdca26"
             ],
             [
              1.0,
              "#f0f921"
             ]
            ]
           }
          ],
          "choropleth": [
           {
            "type": "choropleth",
            "colorbar": {
             "outlinewidth": 0,
             "ticks": ""
            }
           }
          ],
          "histogram2d": [
           {
            "type": "histogram2d",
            "colorbar": {
             "outlinewidth": 0,
             "ticks": ""
            },
            "colorscale": [
             [
              0.0,
              "#0d0887"
             ],
             [
              0.1111111111111111,
              "#46039f"
             ],
             [
              0.2222222222222222,
              "#7201a8"
             ],
             [
              0.3333333333333333,
              "#9c179e"
             ],
             [
              0.4444444444444444,
              "#bd3786"
             ],
             [
              0.5555555555555556,
              "#d8576b"
             ],
             [
              0.6666666666666666,
              "#ed7953"
             ],
             [
              0.7777777777777778,
              "#fb9f3a"
             ],
             [
              0.8888888888888888,
              "#fdca26"
             ],
             [
              1.0,
              "#f0f921"
             ]
            ]
           }
          ],
          "heatmap": [
           {
            "type": "heatmap",
            "colorbar": {
             "outlinewidth": 0,
             "ticks": ""
            },
            "colorscale": [
             [
              0.0,
              "#0d0887"
             ],
             [
              0.1111111111111111,
              "#46039f"
             ],
             [
              0.2222222222222222,
              "#7201a8"
             ],
             [
              0.3333333333333333,
              "#9c179e"
             ],
             [
              0.4444444444444444,
              "#bd3786"
             ],
             [
              0.5555555555555556,
              "#d8576b"
             ],
             [
              0.6666666666666666,
              "#ed7953"
             ],
             [
              0.7777777777777778,
              "#fb9f3a"
             ],
             [
              0.8888888888888888,
              "#fdca26"
             ],
             [
              1.0,
              "#f0f921"
             ]
            ]
           }
          ],
          "heatmapgl": [
           {
            "type": "heatmapgl",
            "colorbar": {
             "outlinewidth": 0,
             "ticks": ""
            },
            "colorscale": [
             [
              0.0,
              "#0d0887"
             ],
             [
              0.1111111111111111,
              "#46039f"
             ],
             [
              0.2222222222222222,
              "#7201a8"
             ],
             [
              0.3333333333333333,
              "#9c179e"
             ],
             [
              0.4444444444444444,
              "#bd3786"
             ],
             [
              0.5555555555555556,
              "#d8576b"
             ],
             [
              0.6666666666666666,
              "#ed7953"
             ],
             [
              0.7777777777777778,
              "#fb9f3a"
             ],
             [
              0.8888888888888888,
              "#fdca26"
             ],
             [
              1.0,
              "#f0f921"
             ]
            ]
           }
          ],
          "contourcarpet": [
           {
            "type": "contourcarpet",
            "colorbar": {
             "outlinewidth": 0,
             "ticks": ""
            }
           }
          ],
          "contour": [
           {
            "type": "contour",
            "colorbar": {
             "outlinewidth": 0,
             "ticks": ""
            },
            "colorscale": [
             [
              0.0,
              "#0d0887"
             ],
             [
              0.1111111111111111,
              "#46039f"
             ],
             [
              0.2222222222222222,
              "#7201a8"
             ],
             [
              0.3333333333333333,
              "#9c179e"
             ],
             [
              0.4444444444444444,
              "#bd3786"
             ],
             [
              0.5555555555555556,
              "#d8576b"
             ],
             [
              0.6666666666666666,
              "#ed7953"
             ],
             [
              0.7777777777777778,
              "#fb9f3a"
             ],
             [
              0.8888888888888888,
              "#fdca26"
             ],
             [
              1.0,
              "#f0f921"
             ]
            ]
           }
          ],
          "surface": [
           {
            "type": "surface",
            "colorbar": {
             "outlinewidth": 0,
             "ticks": ""
            },
            "colorscale": [
             [
              0.0,
              "#0d0887"
             ],
             [
              0.1111111111111111,
              "#46039f"
             ],
             [
              0.2222222222222222,
              "#7201a8"
             ],
             [
              0.3333333333333333,
              "#9c179e"
             ],
             [
              0.4444444444444444,
              "#bd3786"
             ],
             [
              0.5555555555555556,
              "#d8576b"
             ],
             [
              0.6666666666666666,
              "#ed7953"
             ],
             [
              0.7777777777777778,
              "#fb9f3a"
             ],
             [
              0.8888888888888888,
              "#fdca26"
             ],
             [
              1.0,
              "#f0f921"
             ]
            ]
           }
          ],
          "mesh3d": [
           {
            "type": "mesh3d",
            "colorbar": {
             "outlinewidth": 0,
             "ticks": ""
            }
           }
          ],
          "scatter": [
           {
            "fillpattern": {
             "fillmode": "overlay",
             "size": 10,
             "solidity": 0.2
            },
            "type": "scatter"
           }
          ],
          "parcoords": [
           {
            "type": "parcoords",
            "line": {
             "colorbar": {
              "outlinewidth": 0,
              "ticks": ""
             }
            }
           }
          ],
          "scatterpolargl": [
           {
            "type": "scatterpolargl",
            "marker": {
             "colorbar": {
              "outlinewidth": 0,
              "ticks": ""
             }
            }
           }
          ],
          "bar": [
           {
            "error_x": {
             "color": "#2a3f5f"
            },
            "error_y": {
             "color": "#2a3f5f"
            },
            "marker": {
             "line": {
              "color": "#E5ECF6",
              "width": 0.5
             },
             "pattern": {
              "fillmode": "overlay",
              "size": 10,
              "solidity": 0.2
             }
            },
            "type": "bar"
           }
          ],
          "scattergeo": [
           {
            "type": "scattergeo",
            "marker": {
             "colorbar": {
              "outlinewidth": 0,
              "ticks": ""
             }
            }
           }
          ],
          "scatterpolar": [
           {
            "type": "scatterpolar",
            "marker": {
             "colorbar": {
              "outlinewidth": 0,
              "ticks": ""
             }
            }
           }
          ],
          "histogram": [
           {
            "marker": {
             "pattern": {
              "fillmode": "overlay",
              "size": 10,
              "solidity": 0.2
             }
            },
            "type": "histogram"
           }
          ],
          "scattergl": [
           {
            "type": "scattergl",
            "marker": {
             "colorbar": {
              "outlinewidth": 0,
              "ticks": ""
             }
            }
           }
          ],
          "scatter3d": [
           {
            "type": "scatter3d",
            "line": {
             "colorbar": {
              "outlinewidth": 0,
              "ticks": ""
             }
            },
            "marker": {
             "colorbar": {
              "outlinewidth": 0,
              "ticks": ""
             }
            }
           }
          ],
          "scattermapbox": [
           {
            "type": "scattermapbox",
            "marker": {
             "colorbar": {
              "outlinewidth": 0,
              "ticks": ""
             }
            }
           }
          ],
          "scatterternary": [
           {
            "type": "scatterternary",
            "marker": {
             "colorbar": {
              "outlinewidth": 0,
              "ticks": ""
             }
            }
           }
          ],
          "scattercarpet": [
           {
            "type": "scattercarpet",
            "marker": {
             "colorbar": {
              "outlinewidth": 0,
              "ticks": ""
             }
            }
           }
          ],
          "carpet": [
           {
            "aaxis": {
             "endlinecolor": "#2a3f5f",
             "gridcolor": "white",
             "linecolor": "white",
             "minorgridcolor": "white",
             "startlinecolor": "#2a3f5f"
            },
            "baxis": {
             "endlinecolor": "#2a3f5f",
             "gridcolor": "white",
             "linecolor": "white",
             "minorgridcolor": "white",
             "startlinecolor": "#2a3f5f"
            },
            "type": "carpet"
           }
          ],
          "table": [
           {
            "cells": {
             "fill": {
              "color": "#EBF0F8"
             },
             "line": {
              "color": "white"
             }
            },
            "header": {
             "fill": {
              "color": "#C8D4E3"
             },
             "line": {
              "color": "white"
             }
            },
            "type": "table"
           }
          ],
          "barpolar": [
           {
            "marker": {
             "line": {
              "color": "#E5ECF6",
              "width": 0.5
             },
             "pattern": {
              "fillmode": "overlay",
              "size": 10,
              "solidity": 0.2
             }
            },
            "type": "barpolar"
           }
          ],
          "pie": [
           {
            "automargin": true,
            "type": "pie"
           }
          ]
         },
         "layout": {
          "autotypenumbers": "strict",
          "colorway": [
           "#636efa",
           "#EF553B",
           "#00cc96",
           "#ab63fa",
           "#FFA15A",
           "#19d3f3",
           "#FF6692",
           "#B6E880",
           "#FF97FF",
           "#FECB52"
          ],
          "font": {
           "color": "#2a3f5f"
          },
          "hovermode": "closest",
          "hoverlabel": {
           "align": "left"
          },
          "paper_bgcolor": "white",
          "plot_bgcolor": "#E5ECF6",
          "polar": {
           "bgcolor": "#E5ECF6",
           "angularaxis": {
            "gridcolor": "white",
            "linecolor": "white",
            "ticks": ""
           },
           "radialaxis": {
            "gridcolor": "white",
            "linecolor": "white",
            "ticks": ""
           }
          },
          "ternary": {
           "bgcolor": "#E5ECF6",
           "aaxis": {
            "gridcolor": "white",
            "linecolor": "white",
            "ticks": ""
           },
           "baxis": {
            "gridcolor": "white",
            "linecolor": "white",
            "ticks": ""
           },
           "caxis": {
            "gridcolor": "white",
            "linecolor": "white",
            "ticks": ""
           }
          },
          "coloraxis": {
           "colorbar": {
            "outlinewidth": 0,
            "ticks": ""
           }
          },
          "colorscale": {
           "sequential": [
            [
             0.0,
             "#0d0887"
            ],
            [
             0.1111111111111111,
             "#46039f"
            ],
            [
             0.2222222222222222,
             "#7201a8"
            ],
            [
             0.3333333333333333,
             "#9c179e"
            ],
            [
             0.4444444444444444,
             "#bd3786"
            ],
            [
             0.5555555555555556,
             "#d8576b"
            ],
            [
             0.6666666666666666,
             "#ed7953"
            ],
            [
             0.7777777777777778,
             "#fb9f3a"
            ],
            [
             0.8888888888888888,
             "#fdca26"
            ],
            [
             1.0,
             "#f0f921"
            ]
           ],
           "sequentialminus": [
            [
             0.0,
             "#0d0887"
            ],
            [
             0.1111111111111111,
             "#46039f"
            ],
            [
             0.2222222222222222,
             "#7201a8"
            ],
            [
             0.3333333333333333,
             "#9c179e"
            ],
            [
             0.4444444444444444,
             "#bd3786"
            ],
            [
             0.5555555555555556,
             "#d8576b"
            ],
            [
             0.6666666666666666,
             "#ed7953"
            ],
            [
             0.7777777777777778,
             "#fb9f3a"
            ],
            [
             0.8888888888888888,
             "#fdca26"
            ],
            [
             1.0,
             "#f0f921"
            ]
           ],
           "diverging": [
            [
             0,
             "#8e0152"
            ],
            [
             0.1,
             "#c51b7d"
            ],
            [
             0.2,
             "#de77ae"
            ],
            [
             0.3,
             "#f1b6da"
            ],
            [
             0.4,
             "#fde0ef"
            ],
            [
             0.5,
             "#f7f7f7"
            ],
            [
             0.6,
             "#e6f5d0"
            ],
            [
             0.7,
             "#b8e186"
            ],
            [
             0.8,
             "#7fbc41"
            ],
            [
             0.9,
             "#4d9221"
            ],
            [
             1,
             "#276419"
            ]
           ]
          },
          "xaxis": {
           "gridcolor": "white",
           "linecolor": "white",
           "ticks": "",
           "title": {
            "standoff": 15
           },
           "zerolinecolor": "white",
           "automargin": true,
           "zerolinewidth": 2
          },
          "yaxis": {
           "gridcolor": "white",
           "linecolor": "white",
           "ticks": "",
           "title": {
            "standoff": 15
           },
           "zerolinecolor": "white",
           "automargin": true,
           "zerolinewidth": 2
          },
          "scene": {
           "xaxis": {
            "backgroundcolor": "#E5ECF6",
            "gridcolor": "white",
            "linecolor": "white",
            "showbackground": true,
            "ticks": "",
            "zerolinecolor": "white",
            "gridwidth": 2
           },
           "yaxis": {
            "backgroundcolor": "#E5ECF6",
            "gridcolor": "white",
            "linecolor": "white",
            "showbackground": true,
            "ticks": "",
            "zerolinecolor": "white",
            "gridwidth": 2
           },
           "zaxis": {
            "backgroundcolor": "#E5ECF6",
            "gridcolor": "white",
            "linecolor": "white",
            "showbackground": true,
            "ticks": "",
            "zerolinecolor": "white",
            "gridwidth": 2
           }
          },
          "shapedefaults": {
           "line": {
            "color": "#2a3f5f"
           }
          },
          "annotationdefaults": {
           "arrowcolor": "#2a3f5f",
           "arrowhead": 0,
           "arrowwidth": 1
          },
          "geo": {
           "bgcolor": "white",
           "landcolor": "#E5ECF6",
           "subunitcolor": "white",
           "showland": true,
           "showlakes": true,
           "lakecolor": "white"
          },
          "title": {
           "x": 0.05
          },
          "mapbox": {
           "style": "light"
          }
         }
        },
        "xaxis": {
         "anchor": "y",
         "domain": [
          0.0,
          1.0
         ],
         "title": {
          "text": "SHAP Value (Impact on Model Output)"
         }
        },
        "yaxis": {
         "anchor": "x",
         "domain": [
          0.0,
          1.0
         ],
         "title": {
          "text": "Feature"
         }
        },
        "legend": {
         "title": {
          "text": "One-hot Value"
         },
         "tracegroupgap": 0
        },
        "title": {
         "text": "Bee Swarm Plot of SHAP Values by Feature"
        },
        "boxmode": "overlay"
       },
       "config": {
        "plotlyServerURL": "https://plot.ly"
       }
      },
      "text/html": "<div>                            <div id=\"0fa6e445-b7ad-4ffa-9bf9-1a49c8227543\" class=\"plotly-graph-div\" style=\"height:525px; width:100%;\"></div>            <script type=\"text/javascript\">                require([\"plotly\"], function(Plotly) {                    window.PLOTLYENV=window.PLOTLYENV || {};                                    if (document.getElementById(\"0fa6e445-b7ad-4ffa-9bf9-1a49c8227543\")) {                    Plotly.newPlot(                        \"0fa6e445-b7ad-4ffa-9bf9-1a49c8227543\",                        [{\"alignmentgroup\":\"True\",\"boxpoints\":\"all\",\"fillcolor\":\"rgba(255,255,255,0)\",\"hoveron\":\"points\",\"hovertemplate\":\"One-hot Value=0.0\\u003cbr\\u003eSHAP Value=%{x}\\u003cbr\\u003eFeature=%{y}\\u003cextra\\u003e\\u003c\\u002fextra\\u003e\",\"legendgroup\":\"0.0\",\"line\":{\"color\":\"rgba(255,255,255,0)\"},\"marker\":{\"color\":\"#636efa\"},\"name\":\"0.0\",\"offsetgroup\":\"0.0\",\"orientation\":\"h\",\"pointpos\":0,\"showlegend\":true,\"x\":[-0.065704,0.062368,0.063093,-0.168756,-0.168756],\"x0\":\" \",\"xaxis\":\"x\",\"y\":[\"A\",\"A\",\"A\",\"B\",\"B\"],\"y0\":\" \",\"yaxis\":\"y\",\"type\":\"box\"},{\"alignmentgroup\":\"True\",\"boxpoints\":\"all\",\"fillcolor\":\"rgba(255,255,255,0)\",\"hoveron\":\"points\",\"hovertemplate\":\"One-hot Value=1.0\\u003cbr\\u003eSHAP Value=%{x}\\u003cbr\\u003eFeature=%{y}\\u003cextra\\u003e\\u003c\\u002fextra\\u003e\",\"legendgroup\":\"1.0\",\"line\":{\"color\":\"rgba(255,255,255,0)\"},\"marker\":{\"color\":\"#EF553B\"},\"name\":\"1.0\",\"offsetgroup\":\"1.0\",\"orientation\":\"h\",\"pointpos\":0,\"showlegend\":true,\"x\":[-0.09651,0.062368,-0.168249,-0.173284,-0.169378],\"x0\":\" \",\"xaxis\":\"x\",\"y\":[\"A\",\"A\",\"B\",\"B\",\"B\"],\"y0\":\" \",\"yaxis\":\"y\",\"type\":\"box\"}],                        {\"template\":{\"data\":{\"histogram2dcontour\":[{\"type\":\"histogram2dcontour\",\"colorbar\":{\"outlinewidth\":0,\"ticks\":\"\"},\"colorscale\":[[0.0,\"#0d0887\"],[0.1111111111111111,\"#46039f\"],[0.2222222222222222,\"#7201a8\"],[0.3333333333333333,\"#9c179e\"],[0.4444444444444444,\"#bd3786\"],[0.5555555555555556,\"#d8576b\"],[0.6666666666666666,\"#ed7953\"],[0.7777777777777778,\"#fb9f3a\"],[0.8888888888888888,\"#fdca26\"],[1.0,\"#f0f921\"]]}],\"choropleth\":[{\"type\":\"choropleth\",\"colorbar\":{\"outlinewidth\":0,\"ticks\":\"\"}}],\"histogram2d\":[{\"type\":\"histogram2d\",\"colorbar\":{\"outlinewidth\":0,\"ticks\":\"\"},\"colorscale\":[[0.0,\"#0d0887\"],[0.1111111111111111,\"#46039f\"],[0.2222222222222222,\"#7201a8\"],[0.3333333333333333,\"#9c179e\"],[0.4444444444444444,\"#bd3786\"],[0.5555555555555556,\"#d8576b\"],[0.6666666666666666,\"#ed7953\"],[0.7777777777777778,\"#fb9f3a\"],[0.8888888888888888,\"#fdca26\"],[1.0,\"#f0f921\"]]}],\"heatmap\":[{\"type\":\"heatmap\",\"colorbar\":{\"outlinewidth\":0,\"ticks\":\"\"},\"colorscale\":[[0.0,\"#0d0887\"],[0.1111111111111111,\"#46039f\"],[0.2222222222222222,\"#7201a8\"],[0.3333333333333333,\"#9c179e\"],[0.4444444444444444,\"#bd3786\"],[0.5555555555555556,\"#d8576b\"],[0.6666666666666666,\"#ed7953\"],[0.7777777777777778,\"#fb9f3a\"],[0.8888888888888888,\"#fdca26\"],[1.0,\"#f0f921\"]]}],\"heatmapgl\":[{\"type\":\"heatmapgl\",\"colorbar\":{\"outlinewidth\":0,\"ticks\":\"\"},\"colorscale\":[[0.0,\"#0d0887\"],[0.1111111111111111,\"#46039f\"],[0.2222222222222222,\"#7201a8\"],[0.3333333333333333,\"#9c179e\"],[0.4444444444444444,\"#bd3786\"],[0.5555555555555556,\"#d8576b\"],[0.6666666666666666,\"#ed7953\"],[0.7777777777777778,\"#fb9f3a\"],[0.8888888888888888,\"#fdca26\"],[1.0,\"#f0f921\"]]}],\"contourcarpet\":[{\"type\":\"contourcarpet\",\"colorbar\":{\"outlinewidth\":0,\"ticks\":\"\"}}],\"contour\":[{\"type\":\"contour\",\"colorbar\":{\"outlinewidth\":0,\"ticks\":\"\"},\"colorscale\":[[0.0,\"#0d0887\"],[0.1111111111111111,\"#46039f\"],[0.2222222222222222,\"#7201a8\"],[0.3333333333333333,\"#9c179e\"],[0.4444444444444444,\"#bd3786\"],[0.5555555555555556,\"#d8576b\"],[0.6666666666666666,\"#ed7953\"],[0.7777777777777778,\"#fb9f3a\"],[0.8888888888888888,\"#fdca26\"],[1.0,\"#f0f921\"]]}],\"surface\":[{\"type\":\"surface\",\"colorbar\":{\"outlinewidth\":0,\"ticks\":\"\"},\"colorscale\":[[0.0,\"#0d0887\"],[0.1111111111111111,\"#46039f\"],[0.2222222222222222,\"#7201a8\"],[0.3333333333333333,\"#9c179e\"],[0.4444444444444444,\"#bd3786\"],[0.5555555555555556,\"#d8576b\"],[0.6666666666666666,\"#ed7953\"],[0.7777777777777778,\"#fb9f3a\"],[0.8888888888888888,\"#fdca26\"],[1.0,\"#f0f921\"]]}],\"mesh3d\":[{\"type\":\"mesh3d\",\"colorbar\":{\"outlinewidth\":0,\"ticks\":\"\"}}],\"scatter\":[{\"fillpattern\":{\"fillmode\":\"overlay\",\"size\":10,\"solidity\":0.2},\"type\":\"scatter\"}],\"parcoords\":[{\"type\":\"parcoords\",\"line\":{\"colorbar\":{\"outlinewidth\":0,\"ticks\":\"\"}}}],\"scatterpolargl\":[{\"type\":\"scatterpolargl\",\"marker\":{\"colorbar\":{\"outlinewidth\":0,\"ticks\":\"\"}}}],\"bar\":[{\"error_x\":{\"color\":\"#2a3f5f\"},\"error_y\":{\"color\":\"#2a3f5f\"},\"marker\":{\"line\":{\"color\":\"#E5ECF6\",\"width\":0.5},\"pattern\":{\"fillmode\":\"overlay\",\"size\":10,\"solidity\":0.2}},\"type\":\"bar\"}],\"scattergeo\":[{\"type\":\"scattergeo\",\"marker\":{\"colorbar\":{\"outlinewidth\":0,\"ticks\":\"\"}}}],\"scatterpolar\":[{\"type\":\"scatterpolar\",\"marker\":{\"colorbar\":{\"outlinewidth\":0,\"ticks\":\"\"}}}],\"histogram\":[{\"marker\":{\"pattern\":{\"fillmode\":\"overlay\",\"size\":10,\"solidity\":0.2}},\"type\":\"histogram\"}],\"scattergl\":[{\"type\":\"scattergl\",\"marker\":{\"colorbar\":{\"outlinewidth\":0,\"ticks\":\"\"}}}],\"scatter3d\":[{\"type\":\"scatter3d\",\"line\":{\"colorbar\":{\"outlinewidth\":0,\"ticks\":\"\"}},\"marker\":{\"colorbar\":{\"outlinewidth\":0,\"ticks\":\"\"}}}],\"scattermapbox\":[{\"type\":\"scattermapbox\",\"marker\":{\"colorbar\":{\"outlinewidth\":0,\"ticks\":\"\"}}}],\"scatterternary\":[{\"type\":\"scatterternary\",\"marker\":{\"colorbar\":{\"outlinewidth\":0,\"ticks\":\"\"}}}],\"scattercarpet\":[{\"type\":\"scattercarpet\",\"marker\":{\"colorbar\":{\"outlinewidth\":0,\"ticks\":\"\"}}}],\"carpet\":[{\"aaxis\":{\"endlinecolor\":\"#2a3f5f\",\"gridcolor\":\"white\",\"linecolor\":\"white\",\"minorgridcolor\":\"white\",\"startlinecolor\":\"#2a3f5f\"},\"baxis\":{\"endlinecolor\":\"#2a3f5f\",\"gridcolor\":\"white\",\"linecolor\":\"white\",\"minorgridcolor\":\"white\",\"startlinecolor\":\"#2a3f5f\"},\"type\":\"carpet\"}],\"table\":[{\"cells\":{\"fill\":{\"color\":\"#EBF0F8\"},\"line\":{\"color\":\"white\"}},\"header\":{\"fill\":{\"color\":\"#C8D4E3\"},\"line\":{\"color\":\"white\"}},\"type\":\"table\"}],\"barpolar\":[{\"marker\":{\"line\":{\"color\":\"#E5ECF6\",\"width\":0.5},\"pattern\":{\"fillmode\":\"overlay\",\"size\":10,\"solidity\":0.2}},\"type\":\"barpolar\"}],\"pie\":[{\"automargin\":true,\"type\":\"pie\"}]},\"layout\":{\"autotypenumbers\":\"strict\",\"colorway\":[\"#636efa\",\"#EF553B\",\"#00cc96\",\"#ab63fa\",\"#FFA15A\",\"#19d3f3\",\"#FF6692\",\"#B6E880\",\"#FF97FF\",\"#FECB52\"],\"font\":{\"color\":\"#2a3f5f\"},\"hovermode\":\"closest\",\"hoverlabel\":{\"align\":\"left\"},\"paper_bgcolor\":\"white\",\"plot_bgcolor\":\"#E5ECF6\",\"polar\":{\"bgcolor\":\"#E5ECF6\",\"angularaxis\":{\"gridcolor\":\"white\",\"linecolor\":\"white\",\"ticks\":\"\"},\"radialaxis\":{\"gridcolor\":\"white\",\"linecolor\":\"white\",\"ticks\":\"\"}},\"ternary\":{\"bgcolor\":\"#E5ECF6\",\"aaxis\":{\"gridcolor\":\"white\",\"linecolor\":\"white\",\"ticks\":\"\"},\"baxis\":{\"gridcolor\":\"white\",\"linecolor\":\"white\",\"ticks\":\"\"},\"caxis\":{\"gridcolor\":\"white\",\"linecolor\":\"white\",\"ticks\":\"\"}},\"coloraxis\":{\"colorbar\":{\"outlinewidth\":0,\"ticks\":\"\"}},\"colorscale\":{\"sequential\":[[0.0,\"#0d0887\"],[0.1111111111111111,\"#46039f\"],[0.2222222222222222,\"#7201a8\"],[0.3333333333333333,\"#9c179e\"],[0.4444444444444444,\"#bd3786\"],[0.5555555555555556,\"#d8576b\"],[0.6666666666666666,\"#ed7953\"],[0.7777777777777778,\"#fb9f3a\"],[0.8888888888888888,\"#fdca26\"],[1.0,\"#f0f921\"]],\"sequentialminus\":[[0.0,\"#0d0887\"],[0.1111111111111111,\"#46039f\"],[0.2222222222222222,\"#7201a8\"],[0.3333333333333333,\"#9c179e\"],[0.4444444444444444,\"#bd3786\"],[0.5555555555555556,\"#d8576b\"],[0.6666666666666666,\"#ed7953\"],[0.7777777777777778,\"#fb9f3a\"],[0.8888888888888888,\"#fdca26\"],[1.0,\"#f0f921\"]],\"diverging\":[[0,\"#8e0152\"],[0.1,\"#c51b7d\"],[0.2,\"#de77ae\"],[0.3,\"#f1b6da\"],[0.4,\"#fde0ef\"],[0.5,\"#f7f7f7\"],[0.6,\"#e6f5d0\"],[0.7,\"#b8e186\"],[0.8,\"#7fbc41\"],[0.9,\"#4d9221\"],[1,\"#276419\"]]},\"xaxis\":{\"gridcolor\":\"white\",\"linecolor\":\"white\",\"ticks\":\"\",\"title\":{\"standoff\":15},\"zerolinecolor\":\"white\",\"automargin\":true,\"zerolinewidth\":2},\"yaxis\":{\"gridcolor\":\"white\",\"linecolor\":\"white\",\"ticks\":\"\",\"title\":{\"standoff\":15},\"zerolinecolor\":\"white\",\"automargin\":true,\"zerolinewidth\":2},\"scene\":{\"xaxis\":{\"backgroundcolor\":\"#E5ECF6\",\"gridcolor\":\"white\",\"linecolor\":\"white\",\"showbackground\":true,\"ticks\":\"\",\"zerolinecolor\":\"white\",\"gridwidth\":2},\"yaxis\":{\"backgroundcolor\":\"#E5ECF6\",\"gridcolor\":\"white\",\"linecolor\":\"white\",\"showbackground\":true,\"ticks\":\"\",\"zerolinecolor\":\"white\",\"gridwidth\":2},\"zaxis\":{\"backgroundcolor\":\"#E5ECF6\",\"gridcolor\":\"white\",\"linecolor\":\"white\",\"showbackground\":true,\"ticks\":\"\",\"zerolinecolor\":\"white\",\"gridwidth\":2}},\"shapedefaults\":{\"line\":{\"color\":\"#2a3f5f\"}},\"annotationdefaults\":{\"arrowcolor\":\"#2a3f5f\",\"arrowhead\":0,\"arrowwidth\":1},\"geo\":{\"bgcolor\":\"white\",\"landcolor\":\"#E5ECF6\",\"subunitcolor\":\"white\",\"showland\":true,\"showlakes\":true,\"lakecolor\":\"white\"},\"title\":{\"x\":0.05},\"mapbox\":{\"style\":\"light\"}}},\"xaxis\":{\"anchor\":\"y\",\"domain\":[0.0,1.0],\"title\":{\"text\":\"SHAP Value (Impact on Model Output)\"}},\"yaxis\":{\"anchor\":\"x\",\"domain\":[0.0,1.0],\"title\":{\"text\":\"Feature\"}},\"legend\":{\"title\":{\"text\":\"One-hot Value\"},\"tracegroupgap\":0},\"title\":{\"text\":\"Bee Swarm Plot of SHAP Values by Feature\"},\"boxmode\":\"overlay\"},                        {\"responsive\": true}                    ).then(function(){\n                            \nvar gd = document.getElementById('0fa6e445-b7ad-4ffa-9bf9-1a49c8227543');\nvar x = new MutationObserver(function (mutations, observer) {{\n        var display = window.getComputedStyle(gd).display;\n        if (!display || display === 'none') {{\n            console.log([gd, 'removed!']);\n            Plotly.purge(gd);\n            observer.disconnect();\n        }}\n}});\n\n// Listen for the removal of the full notebook cells\nvar notebookContainer = gd.closest('#notebook-container');\nif (notebookContainer) {{\n    x.observe(notebookContainer, {childList: true});\n}}\n\n// Listen for the clearing of the current output cell\nvar outputEl = gd.closest('.output');\nif (outputEl) {{\n    x.observe(outputEl, {childList: true});\n}}\n\n                        })                };                });            </script>        </div>"
     },
     "metadata": {},
     "output_type": "display_data"
    }
   ],
   "source": [
    "shap_values = pd.DataFrame({\n",
    "\"A\": [np.random([0,1]) for i in range 1000],\n",
    "\"B\": [-0.168249, -0.173284, -0.168756, -0.168756, \n",
    "-0.169378]\n",
    "})\n",
    "\n",
    "train = pd.DataFrame({\n",
    "\"A\": [0, 1, 1, 0, 0],\n",
    "\"B\": [1, 1, 0, 0, 1]\n",
    "})\n",
    "\n",
    "# Joining SHAP values and one-hot encoded features\n",
    "merged_df = shap_values.join(train, lsuffix='_shap', rsuffix='_train')\n",
    "\n",
    "# Melt the merged DataFrame to long format\n",
    "melted_df = merged_df.melt(value_vars=[col for col in \n",
    "merged_df.columns if '_shap' in col],\n",
    "                       var_name='Feature', \n",
    "                       value_name='SHAP Value')\n",
    "melted_df['Feature'] = melted_df['Feature'].str.replace('_shap', '', regex=False)\n",
    "\n",
    "# Directly assign the 'One-hot Value' using a vectorized approach\n",
    "# This avoids using apply() which caused the indexing issue\n",
    "for feature in train.columns:\n",
    "    feature_shap = feature + '_shap'\n",
    "    feature_train = feature + '_train'\n",
    "    melted_df.loc[melted_df['Feature'] == feature, 'One-hot Value'] = merged_df[feature_train].values\n",
    "\n",
    "# Generate the plot again\n",
    "fig = px.strip(melted_df, x='SHAP Value', y='Feature', \n",
    "               color='One-hot Value',\n",
    "               orientation='h', stripmode='overlay', \n",
    "               title='Bee Swarm Plot of SHAP Values by Feature')\n",
    "\n",
    "fig.update_layout(xaxis_title='SHAP Value (Impact on Model Output)',\n",
    "                  yaxis_title='Feature')\n",
    "\n",
    "fig.show()"
   ],
   "metadata": {
    "collapsed": false,
    "ExecuteTime": {
     "end_time": "2024-03-30T08:59:22.155513Z",
     "start_time": "2024-03-30T08:59:22.112439Z"
    }
   },
   "id": "6784c90aa6cc7672"
  },
  {
   "cell_type": "code",
   "execution_count": 43,
   "outputs": [
    {
     "ename": "SyntaxError",
     "evalue": "invalid syntax (3891811578.py, line 1)",
     "output_type": "error",
     "traceback": [
      "\u001B[0;36m  Cell \u001B[0;32mIn[43], line 1\u001B[0;36m\u001B[0m\n\u001B[0;31m    [np.random([0,1]) for i in range 1000]\u001B[0m\n\u001B[0m                                     ^\u001B[0m\n\u001B[0;31mSyntaxError\u001B[0m\u001B[0;31m:\u001B[0m invalid syntax\n"
     ]
    }
   ],
   "source": [
    "[np.random([0,1]) for i in range 1000]"
   ],
   "metadata": {
    "collapsed": false,
    "ExecuteTime": {
     "end_time": "2024-03-30T09:03:08.553473Z",
     "start_time": "2024-03-30T09:03:08.527347Z"
    }
   },
   "id": "165da4fb3ac9fc7c"
  },
  {
   "cell_type": "code",
   "execution_count": 46,
   "outputs": [
    {
     "data": {
      "text/plain": "Index(['AMT_CREDIT_SUM_disc_int_zz967500pp0ww1017957917pp38vv',\n       'EXT_SOURCE_2_disc_int_zz0pp38ww0pp85vv',\n       'EXT_SOURCE_1_disc_int_zz0pp26ww0pp96vv',\n       'EXT_SOURCE_3_disc_int_zz0pp33ww0pp9vv',\n       'NAME_INCOME_TYPE_discret_Low_income',\n       'AMT_CREDIT_SUM_DEBT_disc_int_zzff6981558pp21ww9090pp0vv',\n       'DAYS_EMPLOYED_disc_int_zzff17912wwff2420vv'],\n      dtype='object')"
     },
     "execution_count": 46,
     "metadata": {},
     "output_type": "execute_result"
    }
   ],
   "source": [
    "train.columns"
   ],
   "metadata": {
    "collapsed": false,
    "ExecuteTime": {
     "end_time": "2024-03-30T09:06:10.277871Z",
     "start_time": "2024-03-30T09:06:10.264959Z"
    }
   },
   "id": "e7db9f86bbae21dc"
  },
  {
   "cell_type": "code",
   "execution_count": 49,
   "outputs": [],
   "source": [
    "replacements = {\n",
    "    'zz': '[',\n",
    "    'vv': ']',\n",
    "    'ww': ';',\n",
    "    'ff': '-',\n",
    "    'pp': '.'\n",
    "}\n",
    "\n",
    "# Appliquer les substitutions à chaque nom de colonne\n",
    "for old, new in replacements.items():\n",
    "    train.columns = [col.replace(old, new) for col in train.columns]\n"
   ],
   "metadata": {
    "collapsed": false,
    "ExecuteTime": {
     "end_time": "2024-03-30T09:09:50.950426Z",
     "start_time": "2024-03-30T09:09:50.910005Z"
    }
   },
   "id": "b794f4d9471f69c5"
  },
  {
   "cell_type": "code",
   "execution_count": 50,
   "outputs": [
    {
     "data": {
      "text/plain": "     AMT_CREDIT_SUM_disc_int_[967500.0;1017957917.38]  \\\n0                                                   0   \n1                                                   0   \n2                                                   1   \n3                                                   1   \n4                                                   1   \n..                                                ...   \n495                                                 0   \n496                                                 1   \n497                                                 1   \n498                                                 1   \n499                                                 0   \n\n     EXT_SOURCE_2_disc_int_[0.38;0.85]  EXT_SOURCE_1_disc_int_[0.26;0.96]  \\\n0                                    0                                  0   \n1                                    0                                  0   \n2                                    0                                  0   \n3                                    0                                  0   \n4                                    0                                  0   \n..                                 ...                                ...   \n495                                  0                                  0   \n496                                  0                                  0   \n497                                  0                                  1   \n498                                  0                                  0   \n499                                  1                                  0   \n\n     EXT_SOURCE_3_disc_int_[0.33;0.9]  NAME_INCOME_TYPE_discret_Low_income  \\\n0                                   0                                    0   \n1                                   0                                    1   \n2                                   0                                    1   \n3                                   0                                    1   \n4                                   0                                    1   \n..                                ...                                  ...   \n495                                 0                                    1   \n496                                 0                                    1   \n497                                 1                                    1   \n498                                 0                                    1   \n499                                 0                                    1   \n\n     AMT_CREDIT_SUM_DEBT_disc_int_[-6981558.21;9090.0]  \\\n0                                                    0   \n1                                                    1   \n2                                                    0   \n3                                                    0   \n4                                                    0   \n..                                                 ...   \n495                                                  0   \n496                                                  1   \n497                                                  1   \n498                                                  1   \n499                                                  0   \n\n     DAYS_EMPLOYED_disc_int_[-17912;-2420]  \n0                                        1  \n1                                        1  \n2                                        1  \n3                                        1  \n4                                        0  \n..                                     ...  \n495                                      0  \n496                                      0  \n497                                      1  \n498                                      1  \n499                                      0  \n\n[500 rows x 7 columns]",
      "text/html": "<div>\n<style scoped>\n    .dataframe tbody tr th:only-of-type {\n        vertical-align: middle;\n    }\n\n    .dataframe tbody tr th {\n        vertical-align: top;\n    }\n\n    .dataframe thead th {\n        text-align: right;\n    }\n</style>\n<table border=\"1\" class=\"dataframe\">\n  <thead>\n    <tr style=\"text-align: right;\">\n      <th></th>\n      <th>AMT_CREDIT_SUM_disc_int_[967500.0;1017957917.38]</th>\n      <th>EXT_SOURCE_2_disc_int_[0.38;0.85]</th>\n      <th>EXT_SOURCE_1_disc_int_[0.26;0.96]</th>\n      <th>EXT_SOURCE_3_disc_int_[0.33;0.9]</th>\n      <th>NAME_INCOME_TYPE_discret_Low_income</th>\n      <th>AMT_CREDIT_SUM_DEBT_disc_int_[-6981558.21;9090.0]</th>\n      <th>DAYS_EMPLOYED_disc_int_[-17912;-2420]</th>\n    </tr>\n  </thead>\n  <tbody>\n    <tr>\n      <th>0</th>\n      <td>0</td>\n      <td>0</td>\n      <td>0</td>\n      <td>0</td>\n      <td>0</td>\n      <td>0</td>\n      <td>1</td>\n    </tr>\n    <tr>\n      <th>1</th>\n      <td>0</td>\n      <td>0</td>\n      <td>0</td>\n      <td>0</td>\n      <td>1</td>\n      <td>1</td>\n      <td>1</td>\n    </tr>\n    <tr>\n      <th>2</th>\n      <td>1</td>\n      <td>0</td>\n      <td>0</td>\n      <td>0</td>\n      <td>1</td>\n      <td>0</td>\n      <td>1</td>\n    </tr>\n    <tr>\n      <th>3</th>\n      <td>1</td>\n      <td>0</td>\n      <td>0</td>\n      <td>0</td>\n      <td>1</td>\n      <td>0</td>\n      <td>1</td>\n    </tr>\n    <tr>\n      <th>4</th>\n      <td>1</td>\n      <td>0</td>\n      <td>0</td>\n      <td>0</td>\n      <td>1</td>\n      <td>0</td>\n      <td>0</td>\n    </tr>\n    <tr>\n      <th>...</th>\n      <td>...</td>\n      <td>...</td>\n      <td>...</td>\n      <td>...</td>\n      <td>...</td>\n      <td>...</td>\n      <td>...</td>\n    </tr>\n    <tr>\n      <th>495</th>\n      <td>0</td>\n      <td>0</td>\n      <td>0</td>\n      <td>0</td>\n      <td>1</td>\n      <td>0</td>\n      <td>0</td>\n    </tr>\n    <tr>\n      <th>496</th>\n      <td>1</td>\n      <td>0</td>\n      <td>0</td>\n      <td>0</td>\n      <td>1</td>\n      <td>1</td>\n      <td>0</td>\n    </tr>\n    <tr>\n      <th>497</th>\n      <td>1</td>\n      <td>0</td>\n      <td>1</td>\n      <td>1</td>\n      <td>1</td>\n      <td>1</td>\n      <td>1</td>\n    </tr>\n    <tr>\n      <th>498</th>\n      <td>1</td>\n      <td>0</td>\n      <td>0</td>\n      <td>0</td>\n      <td>1</td>\n      <td>1</td>\n      <td>1</td>\n    </tr>\n    <tr>\n      <th>499</th>\n      <td>0</td>\n      <td>1</td>\n      <td>0</td>\n      <td>0</td>\n      <td>1</td>\n      <td>0</td>\n      <td>0</td>\n    </tr>\n  </tbody>\n</table>\n<p>500 rows × 7 columns</p>\n</div>"
     },
     "execution_count": 50,
     "metadata": {},
     "output_type": "execute_result"
    }
   ],
   "source": [
    "train"
   ],
   "metadata": {
    "collapsed": false,
    "ExecuteTime": {
     "end_time": "2024-03-30T09:09:52.058054Z",
     "start_time": "2024-03-30T09:09:52.045629Z"
    }
   },
   "id": "369f2cad3d196e4b"
  },
  {
   "cell_type": "code",
   "execution_count": null,
   "outputs": [],
   "source": [],
   "metadata": {
    "collapsed": false
   },
   "id": "b457934681feebcf"
  }
 ],
 "metadata": {
  "kernelspec": {
   "display_name": "Python 3",
   "language": "python",
   "name": "python3"
  },
  "language_info": {
   "codemirror_mode": {
    "name": "ipython",
    "version": 2
   },
   "file_extension": ".py",
   "mimetype": "text/x-python",
   "name": "python",
   "nbconvert_exporter": "python",
   "pygments_lexer": "ipython2",
   "version": "2.7.6"
  }
 },
 "nbformat": 4,
 "nbformat_minor": 5
}
