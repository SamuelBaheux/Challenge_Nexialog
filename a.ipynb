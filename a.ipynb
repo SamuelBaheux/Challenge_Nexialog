{
 "cells": [
  {
   "cell_type": "code",
   "execution_count": 1,
   "id": "initial_id",
   "metadata": {
    "collapsed": true,
    "ExecuteTime": {
     "end_time": "2024-03-31T20:17:00.189095Z",
     "start_time": "2024-03-31T20:16:59.473853Z"
    }
   },
   "outputs": [],
   "source": [
    "import pandas as pd\n",
    "import numpy as np\n",
    "import plotly.graph_objects as go\n",
    "import plotly.express as px\n",
    "import base64\n",
    "import io\n",
    "from dash import dcc, html"
   ]
  },
  {
   "cell_type": "code",
   "execution_count": 2,
   "outputs": [],
   "source": [
    "df = pd.read_csv(\"./data/df_score.csv\")"
   ],
   "metadata": {
    "collapsed": false,
    "ExecuteTime": {
     "end_time": "2024-03-31T20:17:11.434459Z",
     "start_time": "2024-03-31T20:17:10.363722Z"
    }
   },
   "id": "a752ee0b5b74a162"
  },
  {
   "cell_type": "code",
   "execution_count": 5,
   "outputs": [
    {
     "data": {
      "text/plain": "   Unnamed: 0 date_mensuelle  TARGET DAYS_CREDIT_ENDDATE_disc_int  \\\n0           0     2013-01-01       0             [-38.0;214193.0]   \n1           1     2013-01-01       0            [-155271.0;-39.0]   \n2           2     2013-01-01       0             [-38.0;214193.0]   \n3           3     2013-01-01       0            [-155271.0;-39.0]   \n4           4     2013-01-01       0             [-38.0;214193.0]   \n\n  DAYS_FIRST_DRAWING_disc_int RATE_DOWN_PAYMENT_disc_int  \\\n0        [730486.0;9131075.0]                [-0.0;0.21]   \n1        [730486.0;9131075.0]                [-0.0;0.21]   \n2          [-3505.0;730484.0]                [-0.0;0.21]   \n3          [-3505.0;730484.0]                [-0.0;0.21]   \n4          [-3505.0;730484.0]                [-0.0;0.21]   \n\n     AMT_PAYMENT_disc_int NAME_INCOME_TYPE_discret  \\\n0  [149850.4;25537053.78]              high_income   \n1  [149850.4;25537053.78]              high_income   \n2          [0.0;149849.5]              high_income   \n3          [0.0;149849.5]              high_income   \n4          [0.0;149849.5]              high_income   \n\n  NAME_EDUCATION_TYPE_discret NAME_FAMILY_STATUS_discret  ...  \\\n0                       lower                     couple  ...   \n1                      higher                     couple  ...   \n2                       lower                     couple  ...   \n3                       lower                      alone  ...   \n4                       lower                      alone  ...   \n\n  REGION_RATING_CLIENT REGION_RATING_CLIENT_W_CITY FLAG_WORK_PHONE FLAG_PHONE  \\\n0                trois                       trois            zero         un   \n1                trois                       trois            zero         un   \n2                 deux                     un_deux              un       zero   \n3                   un                     un_deux            zero       zero   \n4                 deux                     un_deux            zero         un   \n\n  LIVE_CITY_NOT_WORK_CITY NAME_CONTRACT_TYPE FLAG_OWN_CAR FLAG_OWN_REALTY  \\\n0                    zero         Cash loans            Y               Y   \n1                    zero         Cash loans            N               Y   \n2                    zero         Cash loans            Y               N   \n3                    zero         Cash loans            Y               Y   \n4                      un         Cash loans            N               N   \n\n  CODE_GENDER   Score_ind  \n0           M   80.851064  \n1           F  276.595745  \n2           F  200.000000  \n3           F  395.744681  \n4           F  200.000000  \n\n[5 rows x 24 columns]",
      "text/html": "<div>\n<style scoped>\n    .dataframe tbody tr th:only-of-type {\n        vertical-align: middle;\n    }\n\n    .dataframe tbody tr th {\n        vertical-align: top;\n    }\n\n    .dataframe thead th {\n        text-align: right;\n    }\n</style>\n<table border=\"1\" class=\"dataframe\">\n  <thead>\n    <tr style=\"text-align: right;\">\n      <th></th>\n      <th>Unnamed: 0</th>\n      <th>date_mensuelle</th>\n      <th>TARGET</th>\n      <th>DAYS_CREDIT_ENDDATE_disc_int</th>\n      <th>DAYS_FIRST_DRAWING_disc_int</th>\n      <th>RATE_DOWN_PAYMENT_disc_int</th>\n      <th>AMT_PAYMENT_disc_int</th>\n      <th>NAME_INCOME_TYPE_discret</th>\n      <th>NAME_EDUCATION_TYPE_discret</th>\n      <th>NAME_FAMILY_STATUS_discret</th>\n      <th>...</th>\n      <th>REGION_RATING_CLIENT</th>\n      <th>REGION_RATING_CLIENT_W_CITY</th>\n      <th>FLAG_WORK_PHONE</th>\n      <th>FLAG_PHONE</th>\n      <th>LIVE_CITY_NOT_WORK_CITY</th>\n      <th>NAME_CONTRACT_TYPE</th>\n      <th>FLAG_OWN_CAR</th>\n      <th>FLAG_OWN_REALTY</th>\n      <th>CODE_GENDER</th>\n      <th>Score_ind</th>\n    </tr>\n  </thead>\n  <tbody>\n    <tr>\n      <th>0</th>\n      <td>0</td>\n      <td>2013-01-01</td>\n      <td>0</td>\n      <td>[-38.0;214193.0]</td>\n      <td>[730486.0;9131075.0]</td>\n      <td>[-0.0;0.21]</td>\n      <td>[149850.4;25537053.78]</td>\n      <td>high_income</td>\n      <td>lower</td>\n      <td>couple</td>\n      <td>...</td>\n      <td>trois</td>\n      <td>trois</td>\n      <td>zero</td>\n      <td>un</td>\n      <td>zero</td>\n      <td>Cash loans</td>\n      <td>Y</td>\n      <td>Y</td>\n      <td>M</td>\n      <td>80.851064</td>\n    </tr>\n    <tr>\n      <th>1</th>\n      <td>1</td>\n      <td>2013-01-01</td>\n      <td>0</td>\n      <td>[-155271.0;-39.0]</td>\n      <td>[730486.0;9131075.0]</td>\n      <td>[-0.0;0.21]</td>\n      <td>[149850.4;25537053.78]</td>\n      <td>high_income</td>\n      <td>higher</td>\n      <td>couple</td>\n      <td>...</td>\n      <td>trois</td>\n      <td>trois</td>\n      <td>zero</td>\n      <td>un</td>\n      <td>zero</td>\n      <td>Cash loans</td>\n      <td>N</td>\n      <td>Y</td>\n      <td>F</td>\n      <td>276.595745</td>\n    </tr>\n    <tr>\n      <th>2</th>\n      <td>2</td>\n      <td>2013-01-01</td>\n      <td>0</td>\n      <td>[-38.0;214193.0]</td>\n      <td>[-3505.0;730484.0]</td>\n      <td>[-0.0;0.21]</td>\n      <td>[0.0;149849.5]</td>\n      <td>high_income</td>\n      <td>lower</td>\n      <td>couple</td>\n      <td>...</td>\n      <td>deux</td>\n      <td>un_deux</td>\n      <td>un</td>\n      <td>zero</td>\n      <td>zero</td>\n      <td>Cash loans</td>\n      <td>Y</td>\n      <td>N</td>\n      <td>F</td>\n      <td>200.000000</td>\n    </tr>\n    <tr>\n      <th>3</th>\n      <td>3</td>\n      <td>2013-01-01</td>\n      <td>0</td>\n      <td>[-155271.0;-39.0]</td>\n      <td>[-3505.0;730484.0]</td>\n      <td>[-0.0;0.21]</td>\n      <td>[0.0;149849.5]</td>\n      <td>high_income</td>\n      <td>lower</td>\n      <td>alone</td>\n      <td>...</td>\n      <td>un</td>\n      <td>un_deux</td>\n      <td>zero</td>\n      <td>zero</td>\n      <td>zero</td>\n      <td>Cash loans</td>\n      <td>Y</td>\n      <td>Y</td>\n      <td>F</td>\n      <td>395.744681</td>\n    </tr>\n    <tr>\n      <th>4</th>\n      <td>4</td>\n      <td>2013-01-01</td>\n      <td>0</td>\n      <td>[-38.0;214193.0]</td>\n      <td>[-3505.0;730484.0]</td>\n      <td>[-0.0;0.21]</td>\n      <td>[0.0;149849.5]</td>\n      <td>high_income</td>\n      <td>lower</td>\n      <td>alone</td>\n      <td>...</td>\n      <td>deux</td>\n      <td>un_deux</td>\n      <td>zero</td>\n      <td>un</td>\n      <td>un</td>\n      <td>Cash loans</td>\n      <td>N</td>\n      <td>N</td>\n      <td>F</td>\n      <td>200.000000</td>\n    </tr>\n  </tbody>\n</table>\n<p>5 rows × 24 columns</p>\n</div>"
     },
     "execution_count": 5,
     "metadata": {},
     "output_type": "execute_result"
    }
   ],
   "source": [
    "df.head()"
   ],
   "metadata": {
    "collapsed": false,
    "ExecuteTime": {
     "end_time": "2024-03-31T20:18:20.741603Z",
     "start_time": "2024-03-31T20:18:20.732696Z"
    }
   },
   "id": "341fa366524f17b9"
  },
  {
   "cell_type": "code",
   "execution_count": 18,
   "outputs": [
    {
     "data": {
      "application/vnd.plotly.v1+json": {
       "data": [
        {
         "hovertemplate": "date_mensuelle=%{x}<br>TARGET=%{y}<extra></extra>",
         "ids": [
          0.1041069723018147,
          0.06436567164179105
         ],
         "legendgroup": "",
         "line": {
          "color": "#636efa",
          "dash": "solid"
         },
         "marker": {
          "symbol": "circle"
         },
         "mode": "lines",
         "name": "",
         "orientation": "v",
         "showlegend": false,
         "x": [
          "2013-01-01",
          "2013-01-01"
         ],
         "xaxis": "x",
         "y": [
          0.1041069723018147,
          0.06436567164179105
         ],
         "yaxis": "y",
         "type": "scatter"
        }
       ],
       "layout": {
        "template": {
         "data": {
          "histogram2dcontour": [
           {
            "type": "histogram2dcontour",
            "colorbar": {
             "outlinewidth": 0,
             "ticks": ""
            },
            "colorscale": [
             [
              0.0,
              "#0d0887"
             ],
             [
              0.1111111111111111,
              "#46039f"
             ],
             [
              0.2222222222222222,
              "#7201a8"
             ],
             [
              0.3333333333333333,
              "#9c179e"
             ],
             [
              0.4444444444444444,
              "#bd3786"
             ],
             [
              0.5555555555555556,
              "#d8576b"
             ],
             [
              0.6666666666666666,
              "#ed7953"
             ],
             [
              0.7777777777777778,
              "#fb9f3a"
             ],
             [
              0.8888888888888888,
              "#fdca26"
             ],
             [
              1.0,
              "#f0f921"
             ]
            ]
           }
          ],
          "choropleth": [
           {
            "type": "choropleth",
            "colorbar": {
             "outlinewidth": 0,
             "ticks": ""
            }
           }
          ],
          "histogram2d": [
           {
            "type": "histogram2d",
            "colorbar": {
             "outlinewidth": 0,
             "ticks": ""
            },
            "colorscale": [
             [
              0.0,
              "#0d0887"
             ],
             [
              0.1111111111111111,
              "#46039f"
             ],
             [
              0.2222222222222222,
              "#7201a8"
             ],
             [
              0.3333333333333333,
              "#9c179e"
             ],
             [
              0.4444444444444444,
              "#bd3786"
             ],
             [
              0.5555555555555556,
              "#d8576b"
             ],
             [
              0.6666666666666666,
              "#ed7953"
             ],
             [
              0.7777777777777778,
              "#fb9f3a"
             ],
             [
              0.8888888888888888,
              "#fdca26"
             ],
             [
              1.0,
              "#f0f921"
             ]
            ]
           }
          ],
          "heatmap": [
           {
            "type": "heatmap",
            "colorbar": {
             "outlinewidth": 0,
             "ticks": ""
            },
            "colorscale": [
             [
              0.0,
              "#0d0887"
             ],
             [
              0.1111111111111111,
              "#46039f"
             ],
             [
              0.2222222222222222,
              "#7201a8"
             ],
             [
              0.3333333333333333,
              "#9c179e"
             ],
             [
              0.4444444444444444,
              "#bd3786"
             ],
             [
              0.5555555555555556,
              "#d8576b"
             ],
             [
              0.6666666666666666,
              "#ed7953"
             ],
             [
              0.7777777777777778,
              "#fb9f3a"
             ],
             [
              0.8888888888888888,
              "#fdca26"
             ],
             [
              1.0,
              "#f0f921"
             ]
            ]
           }
          ],
          "heatmapgl": [
           {
            "type": "heatmapgl",
            "colorbar": {
             "outlinewidth": 0,
             "ticks": ""
            },
            "colorscale": [
             [
              0.0,
              "#0d0887"
             ],
             [
              0.1111111111111111,
              "#46039f"
             ],
             [
              0.2222222222222222,
              "#7201a8"
             ],
             [
              0.3333333333333333,
              "#9c179e"
             ],
             [
              0.4444444444444444,
              "#bd3786"
             ],
             [
              0.5555555555555556,
              "#d8576b"
             ],
             [
              0.6666666666666666,
              "#ed7953"
             ],
             [
              0.7777777777777778,
              "#fb9f3a"
             ],
             [
              0.8888888888888888,
              "#fdca26"
             ],
             [
              1.0,
              "#f0f921"
             ]
            ]
           }
          ],
          "contourcarpet": [
           {
            "type": "contourcarpet",
            "colorbar": {
             "outlinewidth": 0,
             "ticks": ""
            }
           }
          ],
          "contour": [
           {
            "type": "contour",
            "colorbar": {
             "outlinewidth": 0,
             "ticks": ""
            },
            "colorscale": [
             [
              0.0,
              "#0d0887"
             ],
             [
              0.1111111111111111,
              "#46039f"
             ],
             [
              0.2222222222222222,
              "#7201a8"
             ],
             [
              0.3333333333333333,
              "#9c179e"
             ],
             [
              0.4444444444444444,
              "#bd3786"
             ],
             [
              0.5555555555555556,
              "#d8576b"
             ],
             [
              0.6666666666666666,
              "#ed7953"
             ],
             [
              0.7777777777777778,
              "#fb9f3a"
             ],
             [
              0.8888888888888888,
              "#fdca26"
             ],
             [
              1.0,
              "#f0f921"
             ]
            ]
           }
          ],
          "surface": [
           {
            "type": "surface",
            "colorbar": {
             "outlinewidth": 0,
             "ticks": ""
            },
            "colorscale": [
             [
              0.0,
              "#0d0887"
             ],
             [
              0.1111111111111111,
              "#46039f"
             ],
             [
              0.2222222222222222,
              "#7201a8"
             ],
             [
              0.3333333333333333,
              "#9c179e"
             ],
             [
              0.4444444444444444,
              "#bd3786"
             ],
             [
              0.5555555555555556,
              "#d8576b"
             ],
             [
              0.6666666666666666,
              "#ed7953"
             ],
             [
              0.7777777777777778,
              "#fb9f3a"
             ],
             [
              0.8888888888888888,
              "#fdca26"
             ],
             [
              1.0,
              "#f0f921"
             ]
            ]
           }
          ],
          "mesh3d": [
           {
            "type": "mesh3d",
            "colorbar": {
             "outlinewidth": 0,
             "ticks": ""
            }
           }
          ],
          "scatter": [
           {
            "fillpattern": {
             "fillmode": "overlay",
             "size": 10,
             "solidity": 0.2
            },
            "type": "scatter"
           }
          ],
          "parcoords": [
           {
            "type": "parcoords",
            "line": {
             "colorbar": {
              "outlinewidth": 0,
              "ticks": ""
             }
            }
           }
          ],
          "scatterpolargl": [
           {
            "type": "scatterpolargl",
            "marker": {
             "colorbar": {
              "outlinewidth": 0,
              "ticks": ""
             }
            }
           }
          ],
          "bar": [
           {
            "error_x": {
             "color": "#2a3f5f"
            },
            "error_y": {
             "color": "#2a3f5f"
            },
            "marker": {
             "line": {
              "color": "#E5ECF6",
              "width": 0.5
             },
             "pattern": {
              "fillmode": "overlay",
              "size": 10,
              "solidity": 0.2
             }
            },
            "type": "bar"
           }
          ],
          "scattergeo": [
           {
            "type": "scattergeo",
            "marker": {
             "colorbar": {
              "outlinewidth": 0,
              "ticks": ""
             }
            }
           }
          ],
          "scatterpolar": [
           {
            "type": "scatterpolar",
            "marker": {
             "colorbar": {
              "outlinewidth": 0,
              "ticks": ""
             }
            }
           }
          ],
          "histogram": [
           {
            "marker": {
             "pattern": {
              "fillmode": "overlay",
              "size": 10,
              "solidity": 0.2
             }
            },
            "type": "histogram"
           }
          ],
          "scattergl": [
           {
            "type": "scattergl",
            "marker": {
             "colorbar": {
              "outlinewidth": 0,
              "ticks": ""
             }
            }
           }
          ],
          "scatter3d": [
           {
            "type": "scatter3d",
            "line": {
             "colorbar": {
              "outlinewidth": 0,
              "ticks": ""
             }
            },
            "marker": {
             "colorbar": {
              "outlinewidth": 0,
              "ticks": ""
             }
            }
           }
          ],
          "scattermapbox": [
           {
            "type": "scattermapbox",
            "marker": {
             "colorbar": {
              "outlinewidth": 0,
              "ticks": ""
             }
            }
           }
          ],
          "scatterternary": [
           {
            "type": "scatterternary",
            "marker": {
             "colorbar": {
              "outlinewidth": 0,
              "ticks": ""
             }
            }
           }
          ],
          "scattercarpet": [
           {
            "type": "scattercarpet",
            "marker": {
             "colorbar": {
              "outlinewidth": 0,
              "ticks": ""
             }
            }
           }
          ],
          "carpet": [
           {
            "aaxis": {
             "endlinecolor": "#2a3f5f",
             "gridcolor": "white",
             "linecolor": "white",
             "minorgridcolor": "white",
             "startlinecolor": "#2a3f5f"
            },
            "baxis": {
             "endlinecolor": "#2a3f5f",
             "gridcolor": "white",
             "linecolor": "white",
             "minorgridcolor": "white",
             "startlinecolor": "#2a3f5f"
            },
            "type": "carpet"
           }
          ],
          "table": [
           {
            "cells": {
             "fill": {
              "color": "#EBF0F8"
             },
             "line": {
              "color": "white"
             }
            },
            "header": {
             "fill": {
              "color": "#C8D4E3"
             },
             "line": {
              "color": "white"
             }
            },
            "type": "table"
           }
          ],
          "barpolar": [
           {
            "marker": {
             "line": {
              "color": "#E5ECF6",
              "width": 0.5
             },
             "pattern": {
              "fillmode": "overlay",
              "size": 10,
              "solidity": 0.2
             }
            },
            "type": "barpolar"
           }
          ],
          "pie": [
           {
            "automargin": true,
            "type": "pie"
           }
          ]
         },
         "layout": {
          "autotypenumbers": "strict",
          "colorway": [
           "#636efa",
           "#EF553B",
           "#00cc96",
           "#ab63fa",
           "#FFA15A",
           "#19d3f3",
           "#FF6692",
           "#B6E880",
           "#FF97FF",
           "#FECB52"
          ],
          "font": {
           "color": "#2a3f5f"
          },
          "hovermode": "closest",
          "hoverlabel": {
           "align": "left"
          },
          "paper_bgcolor": "white",
          "plot_bgcolor": "#E5ECF6",
          "polar": {
           "bgcolor": "#E5ECF6",
           "angularaxis": {
            "gridcolor": "white",
            "linecolor": "white",
            "ticks": ""
           },
           "radialaxis": {
            "gridcolor": "white",
            "linecolor": "white",
            "ticks": ""
           }
          },
          "ternary": {
           "bgcolor": "#E5ECF6",
           "aaxis": {
            "gridcolor": "white",
            "linecolor": "white",
            "ticks": ""
           },
           "baxis": {
            "gridcolor": "white",
            "linecolor": "white",
            "ticks": ""
           },
           "caxis": {
            "gridcolor": "white",
            "linecolor": "white",
            "ticks": ""
           }
          },
          "coloraxis": {
           "colorbar": {
            "outlinewidth": 0,
            "ticks": ""
           }
          },
          "colorscale": {
           "sequential": [
            [
             0.0,
             "#0d0887"
            ],
            [
             0.1111111111111111,
             "#46039f"
            ],
            [
             0.2222222222222222,
             "#7201a8"
            ],
            [
             0.3333333333333333,
             "#9c179e"
            ],
            [
             0.4444444444444444,
             "#bd3786"
            ],
            [
             0.5555555555555556,
             "#d8576b"
            ],
            [
             0.6666666666666666,
             "#ed7953"
            ],
            [
             0.7777777777777778,
             "#fb9f3a"
            ],
            [
             0.8888888888888888,
             "#fdca26"
            ],
            [
             1.0,
             "#f0f921"
            ]
           ],
           "sequentialminus": [
            [
             0.0,
             "#0d0887"
            ],
            [
             0.1111111111111111,
             "#46039f"
            ],
            [
             0.2222222222222222,
             "#7201a8"
            ],
            [
             0.3333333333333333,
             "#9c179e"
            ],
            [
             0.4444444444444444,
             "#bd3786"
            ],
            [
             0.5555555555555556,
             "#d8576b"
            ],
            [
             0.6666666666666666,
             "#ed7953"
            ],
            [
             0.7777777777777778,
             "#fb9f3a"
            ],
            [
             0.8888888888888888,
             "#fdca26"
            ],
            [
             1.0,
             "#f0f921"
            ]
           ],
           "diverging": [
            [
             0,
             "#8e0152"
            ],
            [
             0.1,
             "#c51b7d"
            ],
            [
             0.2,
             "#de77ae"
            ],
            [
             0.3,
             "#f1b6da"
            ],
            [
             0.4,
             "#fde0ef"
            ],
            [
             0.5,
             "#f7f7f7"
            ],
            [
             0.6,
             "#e6f5d0"
            ],
            [
             0.7,
             "#b8e186"
            ],
            [
             0.8,
             "#7fbc41"
            ],
            [
             0.9,
             "#4d9221"
            ],
            [
             1,
             "#276419"
            ]
           ]
          },
          "xaxis": {
           "gridcolor": "white",
           "linecolor": "white",
           "ticks": "",
           "title": {
            "standoff": 15
           },
           "zerolinecolor": "white",
           "automargin": true,
           "zerolinewidth": 2
          },
          "yaxis": {
           "gridcolor": "white",
           "linecolor": "white",
           "ticks": "",
           "title": {
            "standoff": 15
           },
           "zerolinecolor": "white",
           "automargin": true,
           "zerolinewidth": 2
          },
          "scene": {
           "xaxis": {
            "backgroundcolor": "#E5ECF6",
            "gridcolor": "white",
            "linecolor": "white",
            "showbackground": true,
            "ticks": "",
            "zerolinecolor": "white",
            "gridwidth": 2
           },
           "yaxis": {
            "backgroundcolor": "#E5ECF6",
            "gridcolor": "white",
            "linecolor": "white",
            "showbackground": true,
            "ticks": "",
            "zerolinecolor": "white",
            "gridwidth": 2
           },
           "zaxis": {
            "backgroundcolor": "#E5ECF6",
            "gridcolor": "white",
            "linecolor": "white",
            "showbackground": true,
            "ticks": "",
            "zerolinecolor": "white",
            "gridwidth": 2
           }
          },
          "shapedefaults": {
           "line": {
            "color": "#2a3f5f"
           }
          },
          "annotationdefaults": {
           "arrowcolor": "#2a3f5f",
           "arrowhead": 0,
           "arrowwidth": 1
          },
          "geo": {
           "bgcolor": "white",
           "landcolor": "#E5ECF6",
           "subunitcolor": "white",
           "showland": true,
           "showlakes": true,
           "lakecolor": "white"
          },
          "title": {
           "x": 0.05
          },
          "mapbox": {
           "style": "light"
          }
         }
        },
        "xaxis": {
         "anchor": "y",
         "domain": [
          0.0,
          1.0
         ],
         "title": {
          "text": "date_mensuelle"
         },
         "categoryorder": "array",
         "categoryarray": [
          "2013-01-01",
          "2013-02-01",
          "2013-03-01",
          "2013-04-01",
          "2013-05-01",
          "2013-06-01",
          "2013-07-01",
          "2013-08-01",
          "2013-09-01",
          "2013-10-01",
          "2013-11-01",
          "2013-12-01",
          "2014-01-01",
          "2014-02-01",
          "2014-03-01",
          "2014-04-01",
          "2014-05-01",
          "2014-06-01",
          "2014-07-01",
          "2014-08-01",
          "2014-09-01",
          "2014-10-01",
          "2014-11-01",
          "2014-12-01",
          "2015-01-01",
          "2015-02-01",
          "2015-03-01",
          "2015-04-01",
          "2015-05-01",
          "2015-06-01",
          "2015-07-01",
          "2015-08-01",
          "2015-09-01",
          "2015-10-01",
          "2015-11-01",
          "2015-12-01",
          "2016-01-01",
          "2016-02-01",
          "2016-03-01",
          "2016-04-01",
          "2016-05-01",
          "2016-06-01",
          "2016-07-01",
          "2016-08-01",
          "2016-09-01",
          "2016-10-01",
          "2016-11-01",
          "2016-12-01",
          "2017-01-01",
          "2017-02-01",
          "2017-03-01",
          "2017-04-01",
          "2017-05-01",
          "2017-06-01",
          "2017-07-01",
          "2017-08-01",
          "2017-09-01",
          "2017-10-01",
          "2017-11-01",
          "2017-12-01",
          "2018-01-01",
          "2018-02-01",
          "2018-03-01",
          "2018-04-01",
          "2018-05-01",
          "2018-06-01",
          "2018-07-01",
          "2018-08-01",
          "2018-09-01",
          "2018-10-01",
          "2018-11-01",
          "2018-12-01",
          "2019-01-01",
          "2019-02-01",
          "2019-03-01",
          "2019-04-01",
          "2019-05-01",
          "2019-06-01",
          "2019-07-01",
          "2019-08-01",
          "2019-09-01",
          "2019-10-01",
          "2019-11-01",
          "2019-12-01",
          "2020-01-01",
          "2020-02-01",
          "2020-03-01",
          "2020-04-01",
          "2020-05-01",
          "2020-06-01",
          "2020-07-01",
          "2020-08-01",
          "2020-09-01",
          "2020-10-01",
          "2020-11-01",
          "2020-12-01"
         ]
        },
        "yaxis": {
         "anchor": "x",
         "domain": [
          0.0,
          1.0
         ],
         "title": {
          "text": "TARGET"
         }
        },
        "legend": {
         "tracegroupgap": 0
        },
        "title": {
         "text": "Stabilité temporelle de AMT_CREDIT_SUM_DEBT_disc_int"
        },
        "updatemenus": [
         {
          "buttons": [
           {
            "args": [
             null,
             {
              "frame": {
               "duration": 500,
               "redraw": false
              },
              "mode": "immediate",
              "fromcurrent": true,
              "transition": {
               "duration": 500,
               "easing": "linear"
              }
             }
            ],
            "label": "&#9654;",
            "method": "animate"
           },
           {
            "args": [
             [
              null
             ],
             {
              "frame": {
               "duration": 0,
               "redraw": false
              },
              "mode": "immediate",
              "fromcurrent": true,
              "transition": {
               "duration": 0,
               "easing": "linear"
              }
             }
            ],
            "label": "&#9724;",
            "method": "animate"
           }
          ],
          "direction": "left",
          "pad": {
           "r": 10,
           "t": 70
          },
          "showactive": false,
          "type": "buttons",
          "x": 0.1,
          "xanchor": "right",
          "y": 0,
          "yanchor": "top"
         }
        ],
        "sliders": [
         {
          "active": 0,
          "currentvalue": {
           "prefix": "date_mensuelle="
          },
          "len": 0.9,
          "pad": {
           "b": 10,
           "t": 60
          },
          "steps": [
           {
            "args": [
             [
              "2013-01-01"
             ],
             {
              "frame": {
               "duration": 0,
               "redraw": false
              },
              "mode": "immediate",
              "fromcurrent": true,
              "transition": {
               "duration": 0,
               "easing": "linear"
              }
             }
            ],
            "label": "2013-01-01",
            "method": "animate"
           },
           {
            "args": [
             [
              "2013-02-01"
             ],
             {
              "frame": {
               "duration": 0,
               "redraw": false
              },
              "mode": "immediate",
              "fromcurrent": true,
              "transition": {
               "duration": 0,
               "easing": "linear"
              }
             }
            ],
            "label": "2013-02-01",
            "method": "animate"
           },
           {
            "args": [
             [
              "2013-03-01"
             ],
             {
              "frame": {
               "duration": 0,
               "redraw": false
              },
              "mode": "immediate",
              "fromcurrent": true,
              "transition": {
               "duration": 0,
               "easing": "linear"
              }
             }
            ],
            "label": "2013-03-01",
            "method": "animate"
           },
           {
            "args": [
             [
              "2013-04-01"
             ],
             {
              "frame": {
               "duration": 0,
               "redraw": false
              },
              "mode": "immediate",
              "fromcurrent": true,
              "transition": {
               "duration": 0,
               "easing": "linear"
              }
             }
            ],
            "label": "2013-04-01",
            "method": "animate"
           },
           {
            "args": [
             [
              "2013-05-01"
             ],
             {
              "frame": {
               "duration": 0,
               "redraw": false
              },
              "mode": "immediate",
              "fromcurrent": true,
              "transition": {
               "duration": 0,
               "easing": "linear"
              }
             }
            ],
            "label": "2013-05-01",
            "method": "animate"
           },
           {
            "args": [
             [
              "2013-06-01"
             ],
             {
              "frame": {
               "duration": 0,
               "redraw": false
              },
              "mode": "immediate",
              "fromcurrent": true,
              "transition": {
               "duration": 0,
               "easing": "linear"
              }
             }
            ],
            "label": "2013-06-01",
            "method": "animate"
           },
           {
            "args": [
             [
              "2013-07-01"
             ],
             {
              "frame": {
               "duration": 0,
               "redraw": false
              },
              "mode": "immediate",
              "fromcurrent": true,
              "transition": {
               "duration": 0,
               "easing": "linear"
              }
             }
            ],
            "label": "2013-07-01",
            "method": "animate"
           },
           {
            "args": [
             [
              "2013-08-01"
             ],
             {
              "frame": {
               "duration": 0,
               "redraw": false
              },
              "mode": "immediate",
              "fromcurrent": true,
              "transition": {
               "duration": 0,
               "easing": "linear"
              }
             }
            ],
            "label": "2013-08-01",
            "method": "animate"
           },
           {
            "args": [
             [
              "2013-09-01"
             ],
             {
              "frame": {
               "duration": 0,
               "redraw": false
              },
              "mode": "immediate",
              "fromcurrent": true,
              "transition": {
               "duration": 0,
               "easing": "linear"
              }
             }
            ],
            "label": "2013-09-01",
            "method": "animate"
           },
           {
            "args": [
             [
              "2013-10-01"
             ],
             {
              "frame": {
               "duration": 0,
               "redraw": false
              },
              "mode": "immediate",
              "fromcurrent": true,
              "transition": {
               "duration": 0,
               "easing": "linear"
              }
             }
            ],
            "label": "2013-10-01",
            "method": "animate"
           },
           {
            "args": [
             [
              "2013-11-01"
             ],
             {
              "frame": {
               "duration": 0,
               "redraw": false
              },
              "mode": "immediate",
              "fromcurrent": true,
              "transition": {
               "duration": 0,
               "easing": "linear"
              }
             }
            ],
            "label": "2013-11-01",
            "method": "animate"
           },
           {
            "args": [
             [
              "2013-12-01"
             ],
             {
              "frame": {
               "duration": 0,
               "redraw": false
              },
              "mode": "immediate",
              "fromcurrent": true,
              "transition": {
               "duration": 0,
               "easing": "linear"
              }
             }
            ],
            "label": "2013-12-01",
            "method": "animate"
           },
           {
            "args": [
             [
              "2014-01-01"
             ],
             {
              "frame": {
               "duration": 0,
               "redraw": false
              },
              "mode": "immediate",
              "fromcurrent": true,
              "transition": {
               "duration": 0,
               "easing": "linear"
              }
             }
            ],
            "label": "2014-01-01",
            "method": "animate"
           },
           {
            "args": [
             [
              "2014-02-01"
             ],
             {
              "frame": {
               "duration": 0,
               "redraw": false
              },
              "mode": "immediate",
              "fromcurrent": true,
              "transition": {
               "duration": 0,
               "easing": "linear"
              }
             }
            ],
            "label": "2014-02-01",
            "method": "animate"
           },
           {
            "args": [
             [
              "2014-03-01"
             ],
             {
              "frame": {
               "duration": 0,
               "redraw": false
              },
              "mode": "immediate",
              "fromcurrent": true,
              "transition": {
               "duration": 0,
               "easing": "linear"
              }
             }
            ],
            "label": "2014-03-01",
            "method": "animate"
           },
           {
            "args": [
             [
              "2014-04-01"
             ],
             {
              "frame": {
               "duration": 0,
               "redraw": false
              },
              "mode": "immediate",
              "fromcurrent": true,
              "transition": {
               "duration": 0,
               "easing": "linear"
              }
             }
            ],
            "label": "2014-04-01",
            "method": "animate"
           },
           {
            "args": [
             [
              "2014-05-01"
             ],
             {
              "frame": {
               "duration": 0,
               "redraw": false
              },
              "mode": "immediate",
              "fromcurrent": true,
              "transition": {
               "duration": 0,
               "easing": "linear"
              }
             }
            ],
            "label": "2014-05-01",
            "method": "animate"
           },
           {
            "args": [
             [
              "2014-06-01"
             ],
             {
              "frame": {
               "duration": 0,
               "redraw": false
              },
              "mode": "immediate",
              "fromcurrent": true,
              "transition": {
               "duration": 0,
               "easing": "linear"
              }
             }
            ],
            "label": "2014-06-01",
            "method": "animate"
           },
           {
            "args": [
             [
              "2014-07-01"
             ],
             {
              "frame": {
               "duration": 0,
               "redraw": false
              },
              "mode": "immediate",
              "fromcurrent": true,
              "transition": {
               "duration": 0,
               "easing": "linear"
              }
             }
            ],
            "label": "2014-07-01",
            "method": "animate"
           },
           {
            "args": [
             [
              "2014-08-01"
             ],
             {
              "frame": {
               "duration": 0,
               "redraw": false
              },
              "mode": "immediate",
              "fromcurrent": true,
              "transition": {
               "duration": 0,
               "easing": "linear"
              }
             }
            ],
            "label": "2014-08-01",
            "method": "animate"
           },
           {
            "args": [
             [
              "2014-09-01"
             ],
             {
              "frame": {
               "duration": 0,
               "redraw": false
              },
              "mode": "immediate",
              "fromcurrent": true,
              "transition": {
               "duration": 0,
               "easing": "linear"
              }
             }
            ],
            "label": "2014-09-01",
            "method": "animate"
           },
           {
            "args": [
             [
              "2014-10-01"
             ],
             {
              "frame": {
               "duration": 0,
               "redraw": false
              },
              "mode": "immediate",
              "fromcurrent": true,
              "transition": {
               "duration": 0,
               "easing": "linear"
              }
             }
            ],
            "label": "2014-10-01",
            "method": "animate"
           },
           {
            "args": [
             [
              "2014-11-01"
             ],
             {
              "frame": {
               "duration": 0,
               "redraw": false
              },
              "mode": "immediate",
              "fromcurrent": true,
              "transition": {
               "duration": 0,
               "easing": "linear"
              }
             }
            ],
            "label": "2014-11-01",
            "method": "animate"
           },
           {
            "args": [
             [
              "2014-12-01"
             ],
             {
              "frame": {
               "duration": 0,
               "redraw": false
              },
              "mode": "immediate",
              "fromcurrent": true,
              "transition": {
               "duration": 0,
               "easing": "linear"
              }
             }
            ],
            "label": "2014-12-01",
            "method": "animate"
           },
           {
            "args": [
             [
              "2015-01-01"
             ],
             {
              "frame": {
               "duration": 0,
               "redraw": false
              },
              "mode": "immediate",
              "fromcurrent": true,
              "transition": {
               "duration": 0,
               "easing": "linear"
              }
             }
            ],
            "label": "2015-01-01",
            "method": "animate"
           },
           {
            "args": [
             [
              "2015-02-01"
             ],
             {
              "frame": {
               "duration": 0,
               "redraw": false
              },
              "mode": "immediate",
              "fromcurrent": true,
              "transition": {
               "duration": 0,
               "easing": "linear"
              }
             }
            ],
            "label": "2015-02-01",
            "method": "animate"
           },
           {
            "args": [
             [
              "2015-03-01"
             ],
             {
              "frame": {
               "duration": 0,
               "redraw": false
              },
              "mode": "immediate",
              "fromcurrent": true,
              "transition": {
               "duration": 0,
               "easing": "linear"
              }
             }
            ],
            "label": "2015-03-01",
            "method": "animate"
           },
           {
            "args": [
             [
              "2015-04-01"
             ],
             {
              "frame": {
               "duration": 0,
               "redraw": false
              },
              "mode": "immediate",
              "fromcurrent": true,
              "transition": {
               "duration": 0,
               "easing": "linear"
              }
             }
            ],
            "label": "2015-04-01",
            "method": "animate"
           },
           {
            "args": [
             [
              "2015-05-01"
             ],
             {
              "frame": {
               "duration": 0,
               "redraw": false
              },
              "mode": "immediate",
              "fromcurrent": true,
              "transition": {
               "duration": 0,
               "easing": "linear"
              }
             }
            ],
            "label": "2015-05-01",
            "method": "animate"
           },
           {
            "args": [
             [
              "2015-06-01"
             ],
             {
              "frame": {
               "duration": 0,
               "redraw": false
              },
              "mode": "immediate",
              "fromcurrent": true,
              "transition": {
               "duration": 0,
               "easing": "linear"
              }
             }
            ],
            "label": "2015-06-01",
            "method": "animate"
           },
           {
            "args": [
             [
              "2015-07-01"
             ],
             {
              "frame": {
               "duration": 0,
               "redraw": false
              },
              "mode": "immediate",
              "fromcurrent": true,
              "transition": {
               "duration": 0,
               "easing": "linear"
              }
             }
            ],
            "label": "2015-07-01",
            "method": "animate"
           },
           {
            "args": [
             [
              "2015-08-01"
             ],
             {
              "frame": {
               "duration": 0,
               "redraw": false
              },
              "mode": "immediate",
              "fromcurrent": true,
              "transition": {
               "duration": 0,
               "easing": "linear"
              }
             }
            ],
            "label": "2015-08-01",
            "method": "animate"
           },
           {
            "args": [
             [
              "2015-09-01"
             ],
             {
              "frame": {
               "duration": 0,
               "redraw": false
              },
              "mode": "immediate",
              "fromcurrent": true,
              "transition": {
               "duration": 0,
               "easing": "linear"
              }
             }
            ],
            "label": "2015-09-01",
            "method": "animate"
           },
           {
            "args": [
             [
              "2015-10-01"
             ],
             {
              "frame": {
               "duration": 0,
               "redraw": false
              },
              "mode": "immediate",
              "fromcurrent": true,
              "transition": {
               "duration": 0,
               "easing": "linear"
              }
             }
            ],
            "label": "2015-10-01",
            "method": "animate"
           },
           {
            "args": [
             [
              "2015-11-01"
             ],
             {
              "frame": {
               "duration": 0,
               "redraw": false
              },
              "mode": "immediate",
              "fromcurrent": true,
              "transition": {
               "duration": 0,
               "easing": "linear"
              }
             }
            ],
            "label": "2015-11-01",
            "method": "animate"
           },
           {
            "args": [
             [
              "2015-12-01"
             ],
             {
              "frame": {
               "duration": 0,
               "redraw": false
              },
              "mode": "immediate",
              "fromcurrent": true,
              "transition": {
               "duration": 0,
               "easing": "linear"
              }
             }
            ],
            "label": "2015-12-01",
            "method": "animate"
           },
           {
            "args": [
             [
              "2016-01-01"
             ],
             {
              "frame": {
               "duration": 0,
               "redraw": false
              },
              "mode": "immediate",
              "fromcurrent": true,
              "transition": {
               "duration": 0,
               "easing": "linear"
              }
             }
            ],
            "label": "2016-01-01",
            "method": "animate"
           },
           {
            "args": [
             [
              "2016-02-01"
             ],
             {
              "frame": {
               "duration": 0,
               "redraw": false
              },
              "mode": "immediate",
              "fromcurrent": true,
              "transition": {
               "duration": 0,
               "easing": "linear"
              }
             }
            ],
            "label": "2016-02-01",
            "method": "animate"
           },
           {
            "args": [
             [
              "2016-03-01"
             ],
             {
              "frame": {
               "duration": 0,
               "redraw": false
              },
              "mode": "immediate",
              "fromcurrent": true,
              "transition": {
               "duration": 0,
               "easing": "linear"
              }
             }
            ],
            "label": "2016-03-01",
            "method": "animate"
           },
           {
            "args": [
             [
              "2016-04-01"
             ],
             {
              "frame": {
               "duration": 0,
               "redraw": false
              },
              "mode": "immediate",
              "fromcurrent": true,
              "transition": {
               "duration": 0,
               "easing": "linear"
              }
             }
            ],
            "label": "2016-04-01",
            "method": "animate"
           },
           {
            "args": [
             [
              "2016-05-01"
             ],
             {
              "frame": {
               "duration": 0,
               "redraw": false
              },
              "mode": "immediate",
              "fromcurrent": true,
              "transition": {
               "duration": 0,
               "easing": "linear"
              }
             }
            ],
            "label": "2016-05-01",
            "method": "animate"
           },
           {
            "args": [
             [
              "2016-06-01"
             ],
             {
              "frame": {
               "duration": 0,
               "redraw": false
              },
              "mode": "immediate",
              "fromcurrent": true,
              "transition": {
               "duration": 0,
               "easing": "linear"
              }
             }
            ],
            "label": "2016-06-01",
            "method": "animate"
           },
           {
            "args": [
             [
              "2016-07-01"
             ],
             {
              "frame": {
               "duration": 0,
               "redraw": false
              },
              "mode": "immediate",
              "fromcurrent": true,
              "transition": {
               "duration": 0,
               "easing": "linear"
              }
             }
            ],
            "label": "2016-07-01",
            "method": "animate"
           },
           {
            "args": [
             [
              "2016-08-01"
             ],
             {
              "frame": {
               "duration": 0,
               "redraw": false
              },
              "mode": "immediate",
              "fromcurrent": true,
              "transition": {
               "duration": 0,
               "easing": "linear"
              }
             }
            ],
            "label": "2016-08-01",
            "method": "animate"
           },
           {
            "args": [
             [
              "2016-09-01"
             ],
             {
              "frame": {
               "duration": 0,
               "redraw": false
              },
              "mode": "immediate",
              "fromcurrent": true,
              "transition": {
               "duration": 0,
               "easing": "linear"
              }
             }
            ],
            "label": "2016-09-01",
            "method": "animate"
           },
           {
            "args": [
             [
              "2016-10-01"
             ],
             {
              "frame": {
               "duration": 0,
               "redraw": false
              },
              "mode": "immediate",
              "fromcurrent": true,
              "transition": {
               "duration": 0,
               "easing": "linear"
              }
             }
            ],
            "label": "2016-10-01",
            "method": "animate"
           },
           {
            "args": [
             [
              "2016-11-01"
             ],
             {
              "frame": {
               "duration": 0,
               "redraw": false
              },
              "mode": "immediate",
              "fromcurrent": true,
              "transition": {
               "duration": 0,
               "easing": "linear"
              }
             }
            ],
            "label": "2016-11-01",
            "method": "animate"
           },
           {
            "args": [
             [
              "2016-12-01"
             ],
             {
              "frame": {
               "duration": 0,
               "redraw": false
              },
              "mode": "immediate",
              "fromcurrent": true,
              "transition": {
               "duration": 0,
               "easing": "linear"
              }
             }
            ],
            "label": "2016-12-01",
            "method": "animate"
           },
           {
            "args": [
             [
              "2017-01-01"
             ],
             {
              "frame": {
               "duration": 0,
               "redraw": false
              },
              "mode": "immediate",
              "fromcurrent": true,
              "transition": {
               "duration": 0,
               "easing": "linear"
              }
             }
            ],
            "label": "2017-01-01",
            "method": "animate"
           },
           {
            "args": [
             [
              "2017-02-01"
             ],
             {
              "frame": {
               "duration": 0,
               "redraw": false
              },
              "mode": "immediate",
              "fromcurrent": true,
              "transition": {
               "duration": 0,
               "easing": "linear"
              }
             }
            ],
            "label": "2017-02-01",
            "method": "animate"
           },
           {
            "args": [
             [
              "2017-03-01"
             ],
             {
              "frame": {
               "duration": 0,
               "redraw": false
              },
              "mode": "immediate",
              "fromcurrent": true,
              "transition": {
               "duration": 0,
               "easing": "linear"
              }
             }
            ],
            "label": "2017-03-01",
            "method": "animate"
           },
           {
            "args": [
             [
              "2017-04-01"
             ],
             {
              "frame": {
               "duration": 0,
               "redraw": false
              },
              "mode": "immediate",
              "fromcurrent": true,
              "transition": {
               "duration": 0,
               "easing": "linear"
              }
             }
            ],
            "label": "2017-04-01",
            "method": "animate"
           },
           {
            "args": [
             [
              "2017-05-01"
             ],
             {
              "frame": {
               "duration": 0,
               "redraw": false
              },
              "mode": "immediate",
              "fromcurrent": true,
              "transition": {
               "duration": 0,
               "easing": "linear"
              }
             }
            ],
            "label": "2017-05-01",
            "method": "animate"
           },
           {
            "args": [
             [
              "2017-06-01"
             ],
             {
              "frame": {
               "duration": 0,
               "redraw": false
              },
              "mode": "immediate",
              "fromcurrent": true,
              "transition": {
               "duration": 0,
               "easing": "linear"
              }
             }
            ],
            "label": "2017-06-01",
            "method": "animate"
           },
           {
            "args": [
             [
              "2017-07-01"
             ],
             {
              "frame": {
               "duration": 0,
               "redraw": false
              },
              "mode": "immediate",
              "fromcurrent": true,
              "transition": {
               "duration": 0,
               "easing": "linear"
              }
             }
            ],
            "label": "2017-07-01",
            "method": "animate"
           },
           {
            "args": [
             [
              "2017-08-01"
             ],
             {
              "frame": {
               "duration": 0,
               "redraw": false
              },
              "mode": "immediate",
              "fromcurrent": true,
              "transition": {
               "duration": 0,
               "easing": "linear"
              }
             }
            ],
            "label": "2017-08-01",
            "method": "animate"
           },
           {
            "args": [
             [
              "2017-09-01"
             ],
             {
              "frame": {
               "duration": 0,
               "redraw": false
              },
              "mode": "immediate",
              "fromcurrent": true,
              "transition": {
               "duration": 0,
               "easing": "linear"
              }
             }
            ],
            "label": "2017-09-01",
            "method": "animate"
           },
           {
            "args": [
             [
              "2017-10-01"
             ],
             {
              "frame": {
               "duration": 0,
               "redraw": false
              },
              "mode": "immediate",
              "fromcurrent": true,
              "transition": {
               "duration": 0,
               "easing": "linear"
              }
             }
            ],
            "label": "2017-10-01",
            "method": "animate"
           },
           {
            "args": [
             [
              "2017-11-01"
             ],
             {
              "frame": {
               "duration": 0,
               "redraw": false
              },
              "mode": "immediate",
              "fromcurrent": true,
              "transition": {
               "duration": 0,
               "easing": "linear"
              }
             }
            ],
            "label": "2017-11-01",
            "method": "animate"
           },
           {
            "args": [
             [
              "2017-12-01"
             ],
             {
              "frame": {
               "duration": 0,
               "redraw": false
              },
              "mode": "immediate",
              "fromcurrent": true,
              "transition": {
               "duration": 0,
               "easing": "linear"
              }
             }
            ],
            "label": "2017-12-01",
            "method": "animate"
           },
           {
            "args": [
             [
              "2018-01-01"
             ],
             {
              "frame": {
               "duration": 0,
               "redraw": false
              },
              "mode": "immediate",
              "fromcurrent": true,
              "transition": {
               "duration": 0,
               "easing": "linear"
              }
             }
            ],
            "label": "2018-01-01",
            "method": "animate"
           },
           {
            "args": [
             [
              "2018-02-01"
             ],
             {
              "frame": {
               "duration": 0,
               "redraw": false
              },
              "mode": "immediate",
              "fromcurrent": true,
              "transition": {
               "duration": 0,
               "easing": "linear"
              }
             }
            ],
            "label": "2018-02-01",
            "method": "animate"
           },
           {
            "args": [
             [
              "2018-03-01"
             ],
             {
              "frame": {
               "duration": 0,
               "redraw": false
              },
              "mode": "immediate",
              "fromcurrent": true,
              "transition": {
               "duration": 0,
               "easing": "linear"
              }
             }
            ],
            "label": "2018-03-01",
            "method": "animate"
           },
           {
            "args": [
             [
              "2018-04-01"
             ],
             {
              "frame": {
               "duration": 0,
               "redraw": false
              },
              "mode": "immediate",
              "fromcurrent": true,
              "transition": {
               "duration": 0,
               "easing": "linear"
              }
             }
            ],
            "label": "2018-04-01",
            "method": "animate"
           },
           {
            "args": [
             [
              "2018-05-01"
             ],
             {
              "frame": {
               "duration": 0,
               "redraw": false
              },
              "mode": "immediate",
              "fromcurrent": true,
              "transition": {
               "duration": 0,
               "easing": "linear"
              }
             }
            ],
            "label": "2018-05-01",
            "method": "animate"
           },
           {
            "args": [
             [
              "2018-06-01"
             ],
             {
              "frame": {
               "duration": 0,
               "redraw": false
              },
              "mode": "immediate",
              "fromcurrent": true,
              "transition": {
               "duration": 0,
               "easing": "linear"
              }
             }
            ],
            "label": "2018-06-01",
            "method": "animate"
           },
           {
            "args": [
             [
              "2018-07-01"
             ],
             {
              "frame": {
               "duration": 0,
               "redraw": false
              },
              "mode": "immediate",
              "fromcurrent": true,
              "transition": {
               "duration": 0,
               "easing": "linear"
              }
             }
            ],
            "label": "2018-07-01",
            "method": "animate"
           },
           {
            "args": [
             [
              "2018-08-01"
             ],
             {
              "frame": {
               "duration": 0,
               "redraw": false
              },
              "mode": "immediate",
              "fromcurrent": true,
              "transition": {
               "duration": 0,
               "easing": "linear"
              }
             }
            ],
            "label": "2018-08-01",
            "method": "animate"
           },
           {
            "args": [
             [
              "2018-09-01"
             ],
             {
              "frame": {
               "duration": 0,
               "redraw": false
              },
              "mode": "immediate",
              "fromcurrent": true,
              "transition": {
               "duration": 0,
               "easing": "linear"
              }
             }
            ],
            "label": "2018-09-01",
            "method": "animate"
           },
           {
            "args": [
             [
              "2018-10-01"
             ],
             {
              "frame": {
               "duration": 0,
               "redraw": false
              },
              "mode": "immediate",
              "fromcurrent": true,
              "transition": {
               "duration": 0,
               "easing": "linear"
              }
             }
            ],
            "label": "2018-10-01",
            "method": "animate"
           },
           {
            "args": [
             [
              "2018-11-01"
             ],
             {
              "frame": {
               "duration": 0,
               "redraw": false
              },
              "mode": "immediate",
              "fromcurrent": true,
              "transition": {
               "duration": 0,
               "easing": "linear"
              }
             }
            ],
            "label": "2018-11-01",
            "method": "animate"
           },
           {
            "args": [
             [
              "2018-12-01"
             ],
             {
              "frame": {
               "duration": 0,
               "redraw": false
              },
              "mode": "immediate",
              "fromcurrent": true,
              "transition": {
               "duration": 0,
               "easing": "linear"
              }
             }
            ],
            "label": "2018-12-01",
            "method": "animate"
           },
           {
            "args": [
             [
              "2019-01-01"
             ],
             {
              "frame": {
               "duration": 0,
               "redraw": false
              },
              "mode": "immediate",
              "fromcurrent": true,
              "transition": {
               "duration": 0,
               "easing": "linear"
              }
             }
            ],
            "label": "2019-01-01",
            "method": "animate"
           },
           {
            "args": [
             [
              "2019-02-01"
             ],
             {
              "frame": {
               "duration": 0,
               "redraw": false
              },
              "mode": "immediate",
              "fromcurrent": true,
              "transition": {
               "duration": 0,
               "easing": "linear"
              }
             }
            ],
            "label": "2019-02-01",
            "method": "animate"
           },
           {
            "args": [
             [
              "2019-03-01"
             ],
             {
              "frame": {
               "duration": 0,
               "redraw": false
              },
              "mode": "immediate",
              "fromcurrent": true,
              "transition": {
               "duration": 0,
               "easing": "linear"
              }
             }
            ],
            "label": "2019-03-01",
            "method": "animate"
           },
           {
            "args": [
             [
              "2019-04-01"
             ],
             {
              "frame": {
               "duration": 0,
               "redraw": false
              },
              "mode": "immediate",
              "fromcurrent": true,
              "transition": {
               "duration": 0,
               "easing": "linear"
              }
             }
            ],
            "label": "2019-04-01",
            "method": "animate"
           },
           {
            "args": [
             [
              "2019-05-01"
             ],
             {
              "frame": {
               "duration": 0,
               "redraw": false
              },
              "mode": "immediate",
              "fromcurrent": true,
              "transition": {
               "duration": 0,
               "easing": "linear"
              }
             }
            ],
            "label": "2019-05-01",
            "method": "animate"
           },
           {
            "args": [
             [
              "2019-06-01"
             ],
             {
              "frame": {
               "duration": 0,
               "redraw": false
              },
              "mode": "immediate",
              "fromcurrent": true,
              "transition": {
               "duration": 0,
               "easing": "linear"
              }
             }
            ],
            "label": "2019-06-01",
            "method": "animate"
           },
           {
            "args": [
             [
              "2019-07-01"
             ],
             {
              "frame": {
               "duration": 0,
               "redraw": false
              },
              "mode": "immediate",
              "fromcurrent": true,
              "transition": {
               "duration": 0,
               "easing": "linear"
              }
             }
            ],
            "label": "2019-07-01",
            "method": "animate"
           },
           {
            "args": [
             [
              "2019-08-01"
             ],
             {
              "frame": {
               "duration": 0,
               "redraw": false
              },
              "mode": "immediate",
              "fromcurrent": true,
              "transition": {
               "duration": 0,
               "easing": "linear"
              }
             }
            ],
            "label": "2019-08-01",
            "method": "animate"
           },
           {
            "args": [
             [
              "2019-09-01"
             ],
             {
              "frame": {
               "duration": 0,
               "redraw": false
              },
              "mode": "immediate",
              "fromcurrent": true,
              "transition": {
               "duration": 0,
               "easing": "linear"
              }
             }
            ],
            "label": "2019-09-01",
            "method": "animate"
           },
           {
            "args": [
             [
              "2019-10-01"
             ],
             {
              "frame": {
               "duration": 0,
               "redraw": false
              },
              "mode": "immediate",
              "fromcurrent": true,
              "transition": {
               "duration": 0,
               "easing": "linear"
              }
             }
            ],
            "label": "2019-10-01",
            "method": "animate"
           },
           {
            "args": [
             [
              "2019-11-01"
             ],
             {
              "frame": {
               "duration": 0,
               "redraw": false
              },
              "mode": "immediate",
              "fromcurrent": true,
              "transition": {
               "duration": 0,
               "easing": "linear"
              }
             }
            ],
            "label": "2019-11-01",
            "method": "animate"
           },
           {
            "args": [
             [
              "2019-12-01"
             ],
             {
              "frame": {
               "duration": 0,
               "redraw": false
              },
              "mode": "immediate",
              "fromcurrent": true,
              "transition": {
               "duration": 0,
               "easing": "linear"
              }
             }
            ],
            "label": "2019-12-01",
            "method": "animate"
           },
           {
            "args": [
             [
              "2020-01-01"
             ],
             {
              "frame": {
               "duration": 0,
               "redraw": false
              },
              "mode": "immediate",
              "fromcurrent": true,
              "transition": {
               "duration": 0,
               "easing": "linear"
              }
             }
            ],
            "label": "2020-01-01",
            "method": "animate"
           },
           {
            "args": [
             [
              "2020-02-01"
             ],
             {
              "frame": {
               "duration": 0,
               "redraw": false
              },
              "mode": "immediate",
              "fromcurrent": true,
              "transition": {
               "duration": 0,
               "easing": "linear"
              }
             }
            ],
            "label": "2020-02-01",
            "method": "animate"
           },
           {
            "args": [
             [
              "2020-03-01"
             ],
             {
              "frame": {
               "duration": 0,
               "redraw": false
              },
              "mode": "immediate",
              "fromcurrent": true,
              "transition": {
               "duration": 0,
               "easing": "linear"
              }
             }
            ],
            "label": "2020-03-01",
            "method": "animate"
           },
           {
            "args": [
             [
              "2020-04-01"
             ],
             {
              "frame": {
               "duration": 0,
               "redraw": false
              },
              "mode": "immediate",
              "fromcurrent": true,
              "transition": {
               "duration": 0,
               "easing": "linear"
              }
             }
            ],
            "label": "2020-04-01",
            "method": "animate"
           },
           {
            "args": [
             [
              "2020-05-01"
             ],
             {
              "frame": {
               "duration": 0,
               "redraw": false
              },
              "mode": "immediate",
              "fromcurrent": true,
              "transition": {
               "duration": 0,
               "easing": "linear"
              }
             }
            ],
            "label": "2020-05-01",
            "method": "animate"
           },
           {
            "args": [
             [
              "2020-06-01"
             ],
             {
              "frame": {
               "duration": 0,
               "redraw": false
              },
              "mode": "immediate",
              "fromcurrent": true,
              "transition": {
               "duration": 0,
               "easing": "linear"
              }
             }
            ],
            "label": "2020-06-01",
            "method": "animate"
           },
           {
            "args": [
             [
              "2020-07-01"
             ],
             {
              "frame": {
               "duration": 0,
               "redraw": false
              },
              "mode": "immediate",
              "fromcurrent": true,
              "transition": {
               "duration": 0,
               "easing": "linear"
              }
             }
            ],
            "label": "2020-07-01",
            "method": "animate"
           },
           {
            "args": [
             [
              "2020-08-01"
             ],
             {
              "frame": {
               "duration": 0,
               "redraw": false
              },
              "mode": "immediate",
              "fromcurrent": true,
              "transition": {
               "duration": 0,
               "easing": "linear"
              }
             }
            ],
            "label": "2020-08-01",
            "method": "animate"
           },
           {
            "args": [
             [
              "2020-09-01"
             ],
             {
              "frame": {
               "duration": 0,
               "redraw": false
              },
              "mode": "immediate",
              "fromcurrent": true,
              "transition": {
               "duration": 0,
               "easing": "linear"
              }
             }
            ],
            "label": "2020-09-01",
            "method": "animate"
           },
           {
            "args": [
             [
              "2020-10-01"
             ],
             {
              "frame": {
               "duration": 0,
               "redraw": false
              },
              "mode": "immediate",
              "fromcurrent": true,
              "transition": {
               "duration": 0,
               "easing": "linear"
              }
             }
            ],
            "label": "2020-10-01",
            "method": "animate"
           },
           {
            "args": [
             [
              "2020-11-01"
             ],
             {
              "frame": {
               "duration": 0,
               "redraw": false
              },
              "mode": "immediate",
              "fromcurrent": true,
              "transition": {
               "duration": 0,
               "easing": "linear"
              }
             }
            ],
            "label": "2020-11-01",
            "method": "animate"
           },
           {
            "args": [
             [
              "2020-12-01"
             ],
             {
              "frame": {
               "duration": 0,
               "redraw": false
              },
              "mode": "immediate",
              "fromcurrent": true,
              "transition": {
               "duration": 0,
               "easing": "linear"
              }
             }
            ],
            "label": "2020-12-01",
            "method": "animate"
           }
          ],
          "x": 0.1,
          "xanchor": "left",
          "y": 0,
          "yanchor": "top"
         }
        ]
       },
       "frames": [
        {
         "data": [
          {
           "hovertemplate": "date_mensuelle=%{x}<br>TARGET=%{y}<extra></extra>",
           "ids": [
            0.1041069723018147,
            0.06436567164179105
           ],
           "legendgroup": "",
           "line": {
            "color": "#636efa",
            "dash": "solid"
           },
           "marker": {
            "symbol": "circle"
           },
           "mode": "lines",
           "name": "",
           "orientation": "v",
           "showlegend": false,
           "x": [
            "2013-01-01",
            "2013-01-01"
           ],
           "xaxis": "x",
           "y": [
            0.1041069723018147,
            0.06436567164179105
           ],
           "yaxis": "y",
           "type": "scatter"
          }
         ],
         "name": "2013-01-01"
        },
        {
         "data": [
          {
           "hovertemplate": "date_mensuelle=%{x}<br>TARGET=%{y}<extra></extra>",
           "ids": [
            0.08783783783783784,
            0.07453703703703704
           ],
           "legendgroup": "",
           "line": {
            "color": "#636efa",
            "dash": "solid"
           },
           "marker": {
            "symbol": "circle"
           },
           "mode": "lines",
           "name": "",
           "orientation": "v",
           "showlegend": false,
           "x": [
            "2013-02-01",
            "2013-02-01"
           ],
           "xaxis": "x",
           "y": [
            0.08783783783783784,
            0.07453703703703704
           ],
           "yaxis": "y",
           "type": "scatter"
          }
         ],
         "name": "2013-02-01"
        },
        {
         "data": [
          {
           "hovertemplate": "date_mensuelle=%{x}<br>TARGET=%{y}<extra></extra>",
           "ids": [
            0.103515625,
            0.06678949792722248
           ],
           "legendgroup": "",
           "line": {
            "color": "#636efa",
            "dash": "solid"
           },
           "marker": {
            "symbol": "circle"
           },
           "mode": "lines",
           "name": "",
           "orientation": "v",
           "showlegend": false,
           "x": [
            "2013-03-01",
            "2013-03-01"
           ],
           "xaxis": "x",
           "y": [
            0.103515625,
            0.06678949792722248
           ],
           "yaxis": "y",
           "type": "scatter"
          }
         ],
         "name": "2013-03-01"
        },
        {
         "data": [
          {
           "hovertemplate": "date_mensuelle=%{x}<br>TARGET=%{y}<extra></extra>",
           "ids": [
            0.07866273352999016,
            0.07724137931034483
           ],
           "legendgroup": "",
           "line": {
            "color": "#636efa",
            "dash": "solid"
           },
           "marker": {
            "symbol": "circle"
           },
           "mode": "lines",
           "name": "",
           "orientation": "v",
           "showlegend": false,
           "x": [
            "2013-04-01",
            "2013-04-01"
           ],
           "xaxis": "x",
           "y": [
            0.07866273352999016,
            0.07724137931034483
           ],
           "yaxis": "y",
           "type": "scatter"
          }
         ],
         "name": "2013-04-01"
        },
        {
         "data": [
          {
           "hovertemplate": "date_mensuelle=%{x}<br>TARGET=%{y}<extra></extra>",
           "ids": [
            0.09840674789128398,
            0.06992022524636321
           ],
           "legendgroup": "",
           "line": {
            "color": "#636efa",
            "dash": "solid"
           },
           "marker": {
            "symbol": "circle"
           },
           "mode": "lines",
           "name": "",
           "orientation": "v",
           "showlegend": false,
           "x": [
            "2013-05-01",
            "2013-05-01"
           ],
           "xaxis": "x",
           "y": [
            0.09840674789128398,
            0.06992022524636321
           ],
           "yaxis": "y",
           "type": "scatter"
          }
         ],
         "name": "2013-05-01"
        },
        {
         "data": [
          {
           "hovertemplate": "date_mensuelle=%{x}<br>TARGET=%{y}<extra></extra>",
           "ids": [
            0.0915032679738562,
            0.07072135785007072
           ],
           "legendgroup": "",
           "line": {
            "color": "#636efa",
            "dash": "solid"
           },
           "marker": {
            "symbol": "circle"
           },
           "mode": "lines",
           "name": "",
           "orientation": "v",
           "showlegend": false,
           "x": [
            "2013-06-01",
            "2013-06-01"
           ],
           "xaxis": "x",
           "y": [
            0.0915032679738562,
            0.07072135785007072
           ],
           "yaxis": "y",
           "type": "scatter"
          }
         ],
         "name": "2013-06-01"
        },
        {
         "data": [
          {
           "hovertemplate": "date_mensuelle=%{x}<br>TARGET=%{y}<extra></extra>",
           "ids": [
            0.10029498525073746,
            0.06712643678160919
           ],
           "legendgroup": "",
           "line": {
            "color": "#636efa",
            "dash": "solid"
           },
           "marker": {
            "symbol": "circle"
           },
           "mode": "lines",
           "name": "",
           "orientation": "v",
           "showlegend": false,
           "x": [
            "2013-07-01",
            "2013-07-01"
           ],
           "xaxis": "x",
           "y": [
            0.10029498525073746,
            0.06712643678160919
           ],
           "yaxis": "y",
           "type": "scatter"
          }
         ],
         "name": "2013-07-01"
        },
        {
         "data": [
          {
           "hovertemplate": "date_mensuelle=%{x}<br>TARGET=%{y}<extra></extra>",
           "ids": [
            0.09322865554465162,
            0.07211759301791457
           ],
           "legendgroup": "",
           "line": {
            "color": "#636efa",
            "dash": "solid"
           },
           "marker": {
            "symbol": "circle"
           },
           "mode": "lines",
           "name": "",
           "orientation": "v",
           "showlegend": false,
           "x": [
            "2013-08-01",
            "2013-08-01"
           ],
           "xaxis": "x",
           "y": [
            0.09322865554465162,
            0.07211759301791457
           ],
           "yaxis": "y",
           "type": "scatter"
          }
         ],
         "name": "2013-08-01"
        },
        {
         "data": [
          {
           "hovertemplate": "date_mensuelle=%{x}<br>TARGET=%{y}<extra></extra>",
           "ids": [
            0.08522727272727272,
            0.07613264829518916
           ],
           "legendgroup": "",
           "line": {
            "color": "#636efa",
            "dash": "solid"
           },
           "marker": {
            "symbol": "circle"
           },
           "mode": "lines",
           "name": "",
           "orientation": "v",
           "showlegend": false,
           "x": [
            "2013-09-01",
            "2013-09-01"
           ],
           "xaxis": "x",
           "y": [
            0.08522727272727272,
            0.07613264829518916
           ],
           "yaxis": "y",
           "type": "scatter"
          }
         ],
         "name": "2013-09-01"
        },
        {
         "data": [
          {
           "hovertemplate": "date_mensuelle=%{x}<br>TARGET=%{y}<extra></extra>",
           "ids": [
            0.08745247148288973,
            0.07159569489939167
           ],
           "legendgroup": "",
           "line": {
            "color": "#636efa",
            "dash": "solid"
           },
           "marker": {
            "symbol": "circle"
           },
           "mode": "lines",
           "name": "",
           "orientation": "v",
           "showlegend": false,
           "x": [
            "2013-10-01",
            "2013-10-01"
           ],
           "xaxis": "x",
           "y": [
            0.08745247148288973,
            0.07159569489939167
           ],
           "yaxis": "y",
           "type": "scatter"
          }
         ],
         "name": "2013-10-01"
        },
        {
         "data": [
          {
           "hovertemplate": "date_mensuelle=%{x}<br>TARGET=%{y}<extra></extra>",
           "ids": [
            0.08245445829338446,
            0.07710171853228054
           ],
           "legendgroup": "",
           "line": {
            "color": "#636efa",
            "dash": "solid"
           },
           "marker": {
            "symbol": "circle"
           },
           "mode": "lines",
           "name": "",
           "orientation": "v",
           "showlegend": false,
           "x": [
            "2013-11-01",
            "2013-11-01"
           ],
           "xaxis": "x",
           "y": [
            0.08245445829338446,
            0.07710171853228054
           ],
           "yaxis": "y",
           "type": "scatter"
          }
         ],
         "name": "2013-11-01"
        },
        {
         "data": [
          {
           "hovertemplate": "date_mensuelle=%{x}<br>TARGET=%{y}<extra></extra>",
           "ids": [
            0.0879848628192999,
            0.07390084190832553
           ],
           "legendgroup": "",
           "line": {
            "color": "#636efa",
            "dash": "solid"
           },
           "marker": {
            "symbol": "circle"
           },
           "mode": "lines",
           "name": "",
           "orientation": "v",
           "showlegend": false,
           "x": [
            "2013-12-01",
            "2013-12-01"
           ],
           "xaxis": "x",
           "y": [
            0.0879848628192999,
            0.07390084190832553
           ],
           "yaxis": "y",
           "type": "scatter"
          }
         ],
         "name": "2013-12-01"
        },
        {
         "data": [
          {
           "hovertemplate": "date_mensuelle=%{x}<br>TARGET=%{y}<extra></extra>",
           "ids": [
            0.09591642924976258,
            0.06959364782811771
           ],
           "legendgroup": "",
           "line": {
            "color": "#636efa",
            "dash": "solid"
           },
           "marker": {
            "symbol": "circle"
           },
           "mode": "lines",
           "name": "",
           "orientation": "v",
           "showlegend": false,
           "x": [
            "2014-01-01",
            "2014-01-01"
           ],
           "xaxis": "x",
           "y": [
            0.09591642924976258,
            0.06959364782811771
           ],
           "yaxis": "y",
           "type": "scatter"
          }
         ],
         "name": "2014-01-01"
        },
        {
         "data": [
          {
           "hovertemplate": "date_mensuelle=%{x}<br>TARGET=%{y}<extra></extra>",
           "ids": [
            0.07736943907156674,
            0.07955596669750231
           ],
           "legendgroup": "",
           "line": {
            "color": "#636efa",
            "dash": "solid"
           },
           "marker": {
            "symbol": "circle"
           },
           "mode": "lines",
           "name": "",
           "orientation": "v",
           "showlegend": false,
           "x": [
            "2014-02-01",
            "2014-02-01"
           ],
           "xaxis": "x",
           "y": [
            0.07736943907156674,
            0.07955596669750231
           ],
           "yaxis": "y",
           "type": "scatter"
          }
         ],
         "name": "2014-02-01"
        },
        {
         "data": [
          {
           "hovertemplate": "date_mensuelle=%{x}<br>TARGET=%{y}<extra></extra>",
           "ids": [
            0.09401709401709402,
            0.06965871902758299
           ],
           "legendgroup": "",
           "line": {
            "color": "#636efa",
            "dash": "solid"
           },
           "marker": {
            "symbol": "circle"
           },
           "mode": "lines",
           "name": "",
           "orientation": "v",
           "showlegend": false,
           "x": [
            "2014-03-01",
            "2014-03-01"
           ],
           "xaxis": "x",
           "y": [
            0.09401709401709402,
            0.06965871902758299
           ],
           "yaxis": "y",
           "type": "scatter"
          }
         ],
         "name": "2014-03-01"
        },
        {
         "data": [
          {
           "hovertemplate": "date_mensuelle=%{x}<br>TARGET=%{y}<extra></extra>",
           "ids": [
            0.0987535953978907,
            0.06790697674418604
           ],
           "legendgroup": "",
           "line": {
            "color": "#636efa",
            "dash": "solid"
           },
           "marker": {
            "symbol": "circle"
           },
           "mode": "lines",
           "name": "",
           "orientation": "v",
           "showlegend": false,
           "x": [
            "2014-04-01",
            "2014-04-01"
           ],
           "xaxis": "x",
           "y": [
            0.0987535953978907,
            0.06790697674418604
           ],
           "yaxis": "y",
           "type": "scatter"
          }
         ],
         "name": "2014-04-01"
        },
        {
         "data": [
          {
           "hovertemplate": "date_mensuelle=%{x}<br>TARGET=%{y}<extra></extra>",
           "ids": [
            0.08169291338582677,
            0.07709958696649839
           ],
           "legendgroup": "",
           "line": {
            "color": "#636efa",
            "dash": "solid"
           },
           "marker": {
            "symbol": "circle"
           },
           "mode": "lines",
           "name": "",
           "orientation": "v",
           "showlegend": false,
           "x": [
            "2014-05-01",
            "2014-05-01"
           ],
           "xaxis": "x",
           "y": [
            0.08169291338582677,
            0.07709958696649839
           ],
           "yaxis": "y",
           "type": "scatter"
          }
         ],
         "name": "2014-05-01"
        },
        {
         "data": [
          {
           "hovertemplate": "date_mensuelle=%{x}<br>TARGET=%{y}<extra></extra>",
           "ids": [
            0.07247796278158668,
            0.08183908045977012
           ],
           "legendgroup": "",
           "line": {
            "color": "#636efa",
            "dash": "solid"
           },
           "marker": {
            "symbol": "circle"
           },
           "mode": "lines",
           "name": "",
           "orientation": "v",
           "showlegend": false,
           "x": [
            "2014-06-01",
            "2014-06-01"
           ],
           "xaxis": "x",
           "y": [
            0.07247796278158668,
            0.08183908045977012
           ],
           "yaxis": "y",
           "type": "scatter"
          }
         ],
         "name": "2014-06-01"
        },
        {
         "data": [
          {
           "hovertemplate": "date_mensuelle=%{x}<br>TARGET=%{y}<extra></extra>",
           "ids": [
            0.08486017357762778,
            0.07467532467532467
           ],
           "legendgroup": "",
           "line": {
            "color": "#636efa",
            "dash": "solid"
           },
           "marker": {
            "symbol": "circle"
           },
           "mode": "lines",
           "name": "",
           "orientation": "v",
           "showlegend": false,
           "x": [
            "2014-07-01",
            "2014-07-01"
           ],
           "xaxis": "x",
           "y": [
            0.08486017357762778,
            0.07467532467532467
           ],
           "yaxis": "y",
           "type": "scatter"
          }
         ],
         "name": "2014-07-01"
        },
        {
         "data": [
          {
           "hovertemplate": "date_mensuelle=%{x}<br>TARGET=%{y}<extra></extra>",
           "ids": [
            0.08695652173913043,
            0.07353608715388107
           ],
           "legendgroup": "",
           "line": {
            "color": "#636efa",
            "dash": "solid"
           },
           "marker": {
            "symbol": "circle"
           },
           "mode": "lines",
           "name": "",
           "orientation": "v",
           "showlegend": false,
           "x": [
            "2014-08-01",
            "2014-08-01"
           ],
           "xaxis": "x",
           "y": [
            0.08695652173913043,
            0.07353608715388107
           ],
           "yaxis": "y",
           "type": "scatter"
          }
         ],
         "name": "2014-08-01"
        },
        {
         "data": [
          {
           "hovertemplate": "date_mensuelle=%{x}<br>TARGET=%{y}<extra></extra>",
           "ids": [
            0.093841642228739,
            0.07050691244239632
           ],
           "legendgroup": "",
           "line": {
            "color": "#636efa",
            "dash": "solid"
           },
           "marker": {
            "symbol": "circle"
           },
           "mode": "lines",
           "name": "",
           "orientation": "v",
           "showlegend": false,
           "x": [
            "2014-09-01",
            "2014-09-01"
           ],
           "xaxis": "x",
           "y": [
            0.093841642228739,
            0.07050691244239632
           ],
           "yaxis": "y",
           "type": "scatter"
          }
         ],
         "name": "2014-09-01"
        },
        {
         "data": [
          {
           "hovertemplate": "date_mensuelle=%{x}<br>TARGET=%{y}<extra></extra>",
           "ids": [
            0.09633911368015415,
            0.07086614173228346
           ],
           "legendgroup": "",
           "line": {
            "color": "#636efa",
            "dash": "solid"
           },
           "marker": {
            "symbol": "circle"
           },
           "mode": "lines",
           "name": "",
           "orientation": "v",
           "showlegend": false,
           "x": [
            "2014-10-01",
            "2014-10-01"
           ],
           "xaxis": "x",
           "y": [
            0.09633911368015415,
            0.07086614173228346
           ],
           "yaxis": "y",
           "type": "scatter"
          }
         ],
         "name": "2014-10-01"
        },
        {
         "data": [
          {
           "hovertemplate": "date_mensuelle=%{x}<br>TARGET=%{y}<extra></extra>",
           "ids": [
            0.09746588693957114,
            0.06961733517750116
           ],
           "legendgroup": "",
           "line": {
            "color": "#636efa",
            "dash": "solid"
           },
           "marker": {
            "symbol": "circle"
           },
           "mode": "lines",
           "name": "",
           "orientation": "v",
           "showlegend": false,
           "x": [
            "2014-11-01",
            "2014-11-01"
           ],
           "xaxis": "x",
           "y": [
            0.09746588693957114,
            0.06961733517750116
           ],
           "yaxis": "y",
           "type": "scatter"
          }
         ],
         "name": "2014-11-01"
        },
        {
         "data": [
          {
           "hovertemplate": "date_mensuelle=%{x}<br>TARGET=%{y}<extra></extra>",
           "ids": [
            0.10102899906454631,
            0.06857679661813058
           ],
           "legendgroup": "",
           "line": {
            "color": "#636efa",
            "dash": "solid"
           },
           "marker": {
            "symbol": "circle"
           },
           "mode": "lines",
           "name": "",
           "orientation": "v",
           "showlegend": false,
           "x": [
            "2014-12-01",
            "2014-12-01"
           ],
           "xaxis": "x",
           "y": [
            0.10102899906454631,
            0.06857679661813058
           ],
           "yaxis": "y",
           "type": "scatter"
          }
         ],
         "name": "2014-12-01"
        },
        {
         "data": [
          {
           "hovertemplate": "date_mensuelle=%{x}<br>TARGET=%{y}<extra></extra>",
           "ids": [
            0.07841239109390126,
            0.07948243992606285
           ],
           "legendgroup": "",
           "line": {
            "color": "#636efa",
            "dash": "solid"
           },
           "marker": {
            "symbol": "circle"
           },
           "mode": "lines",
           "name": "",
           "orientation": "v",
           "showlegend": false,
           "x": [
            "2015-01-01",
            "2015-01-01"
           ],
           "xaxis": "x",
           "y": [
            0.07841239109390126,
            0.07948243992606285
           ],
           "yaxis": "y",
           "type": "scatter"
          }
         ],
         "name": "2015-01-01"
        },
        {
         "data": [
          {
           "hovertemplate": "date_mensuelle=%{x}<br>TARGET=%{y}<extra></extra>",
           "ids": [
            0.09284332688588008,
            0.07086614173228346
           ],
           "legendgroup": "",
           "line": {
            "color": "#636efa",
            "dash": "solid"
           },
           "marker": {
            "symbol": "circle"
           },
           "mode": "lines",
           "name": "",
           "orientation": "v",
           "showlegend": false,
           "x": [
            "2015-02-01",
            "2015-02-01"
           ],
           "xaxis": "x",
           "y": [
            0.09284332688588008,
            0.07086614173228346
           ],
           "yaxis": "y",
           "type": "scatter"
          }
         ],
         "name": "2015-02-01"
        },
        {
         "data": [
          {
           "hovertemplate": "date_mensuelle=%{x}<br>TARGET=%{y}<extra></extra>",
           "ids": [
            0.09159584513692162,
            0.07079231129864041
           ],
           "legendgroup": "",
           "line": {
            "color": "#636efa",
            "dash": "solid"
           },
           "marker": {
            "symbol": "circle"
           },
           "mode": "lines",
           "name": "",
           "orientation": "v",
           "showlegend": false,
           "x": [
            "2015-03-01",
            "2015-03-01"
           ],
           "xaxis": "x",
           "y": [
            0.09159584513692162,
            0.07079231129864041
           ],
           "yaxis": "y",
           "type": "scatter"
          }
         ],
         "name": "2015-03-01"
        },
        {
         "data": [
          {
           "hovertemplate": "date_mensuelle=%{x}<br>TARGET=%{y}<extra></extra>",
           "ids": [
            0.08703878902554399,
            0.07393542349087506
           ],
           "legendgroup": "",
           "line": {
            "color": "#636efa",
            "dash": "solid"
           },
           "marker": {
            "symbol": "circle"
           },
           "mode": "lines",
           "name": "",
           "orientation": "v",
           "showlegend": false,
           "x": [
            "2015-04-01",
            "2015-04-01"
           ],
           "xaxis": "x",
           "y": [
            0.08703878902554399,
            0.07393542349087506
           ],
           "yaxis": "y",
           "type": "scatter"
          }
         ],
         "name": "2015-04-01"
        },
        {
         "data": [
          {
           "hovertemplate": "date_mensuelle=%{x}<br>TARGET=%{y}<extra></extra>",
           "ids": [
            0.09125475285171103,
            0.07232851143257116
           ],
           "legendgroup": "",
           "line": {
            "color": "#636efa",
            "dash": "solid"
           },
           "marker": {
            "symbol": "circle"
           },
           "mode": "lines",
           "name": "",
           "orientation": "v",
           "showlegend": false,
           "x": [
            "2015-05-01",
            "2015-05-01"
           ],
           "xaxis": "x",
           "y": [
            0.09125475285171103,
            0.07232851143257116
           ],
           "yaxis": "y",
           "type": "scatter"
          }
         ],
         "name": "2015-05-01"
        },
        {
         "data": [
          {
           "hovertemplate": "date_mensuelle=%{x}<br>TARGET=%{y}<extra></extra>",
           "ids": [
            0.08284600389863547,
            0.07568066451315182
           ],
           "legendgroup": "",
           "line": {
            "color": "#636efa",
            "dash": "solid"
           },
           "marker": {
            "symbol": "circle"
           },
           "mode": "lines",
           "name": "",
           "orientation": "v",
           "showlegend": false,
           "x": [
            "2015-06-01",
            "2015-06-01"
           ],
           "xaxis": "x",
           "y": [
            0.08284600389863547,
            0.07568066451315182
           ],
           "yaxis": "y",
           "type": "scatter"
          }
         ],
         "name": "2015-06-01"
        },
        {
         "data": [
          {
           "hovertemplate": "date_mensuelle=%{x}<br>TARGET=%{y}<extra></extra>",
           "ids": [
            0.09090909090909091,
            0.0714615029967727
           ],
           "legendgroup": "",
           "line": {
            "color": "#636efa",
            "dash": "solid"
           },
           "marker": {
            "symbol": "circle"
           },
           "mode": "lines",
           "name": "",
           "orientation": "v",
           "showlegend": false,
           "x": [
            "2015-07-01",
            "2015-07-01"
           ],
           "xaxis": "x",
           "y": [
            0.09090909090909091,
            0.0714615029967727
           ],
           "yaxis": "y",
           "type": "scatter"
          }
         ],
         "name": "2015-07-01"
        },
        {
         "data": [
          {
           "hovertemplate": "date_mensuelle=%{x}<br>TARGET=%{y}<extra></extra>",
           "ids": [
            0.09196515004840271,
            0.07215541165587419
           ],
           "legendgroup": "",
           "line": {
            "color": "#636efa",
            "dash": "solid"
           },
           "marker": {
            "symbol": "circle"
           },
           "mode": "lines",
           "name": "",
           "orientation": "v",
           "showlegend": false,
           "x": [
            "2015-08-01",
            "2015-08-01"
           ],
           "xaxis": "x",
           "y": [
            0.09196515004840271,
            0.07215541165587419
           ],
           "yaxis": "y",
           "type": "scatter"
          }
         ],
         "name": "2015-08-01"
        },
        {
         "data": [
          {
           "hovertemplate": "date_mensuelle=%{x}<br>TARGET=%{y}<extra></extra>",
           "ids": [
            0.1,
            0.06991429860171403
           ],
           "legendgroup": "",
           "line": {
            "color": "#636efa",
            "dash": "solid"
           },
           "marker": {
            "symbol": "circle"
           },
           "mode": "lines",
           "name": "",
           "orientation": "v",
           "showlegend": false,
           "x": [
            "2015-09-01",
            "2015-09-01"
           ],
           "xaxis": "x",
           "y": [
            0.1,
            0.06991429860171403
           ],
           "yaxis": "y",
           "type": "scatter"
          }
         ],
         "name": "2015-09-01"
        },
        {
         "data": [
          {
           "hovertemplate": "date_mensuelle=%{x}<br>TARGET=%{y}<extra></extra>",
           "ids": [
            0.09073900841908325,
            0.07287259050305595
           ],
           "legendgroup": "",
           "line": {
            "color": "#636efa",
            "dash": "solid"
           },
           "marker": {
            "symbol": "circle"
           },
           "mode": "lines",
           "name": "",
           "orientation": "v",
           "showlegend": false,
           "x": [
            "2015-10-01",
            "2015-10-01"
           ],
           "xaxis": "x",
           "y": [
            0.09073900841908325,
            0.07287259050305595
           ],
           "yaxis": "y",
           "type": "scatter"
          }
         ],
         "name": "2015-10-01"
        },
        {
         "data": [
          {
           "hovertemplate": "date_mensuelle=%{x}<br>TARGET=%{y}<extra></extra>",
           "ids": [
            0.09390125847047434,
            0.07251732101616629
           ],
           "legendgroup": "",
           "line": {
            "color": "#636efa",
            "dash": "solid"
           },
           "marker": {
            "symbol": "circle"
           },
           "mode": "lines",
           "name": "",
           "orientation": "v",
           "showlegend": false,
           "x": [
            "2015-11-01",
            "2015-11-01"
           ],
           "xaxis": "x",
           "y": [
            0.09390125847047434,
            0.07251732101616629
           ],
           "yaxis": "y",
           "type": "scatter"
          }
         ],
         "name": "2015-11-01"
        },
        {
         "data": [
          {
           "hovertemplate": "date_mensuelle=%{x}<br>TARGET=%{y}<extra></extra>",
           "ids": [
            0.09933142311365807,
            0.06843575418994413
           ],
           "legendgroup": "",
           "line": {
            "color": "#636efa",
            "dash": "solid"
           },
           "marker": {
            "symbol": "circle"
           },
           "mode": "lines",
           "name": "",
           "orientation": "v",
           "showlegend": false,
           "x": [
            "2015-12-01",
            "2015-12-01"
           ],
           "xaxis": "x",
           "y": [
            0.09933142311365807,
            0.06843575418994413
           ],
           "yaxis": "y",
           "type": "scatter"
          }
         ],
         "name": "2015-12-01"
        },
        {
         "data": [
          {
           "hovertemplate": "date_mensuelle=%{x}<br>TARGET=%{y}<extra></extra>",
           "ids": [
            0.08599033816425121,
            0.07414272474513438
           ],
           "legendgroup": "",
           "line": {
            "color": "#636efa",
            "dash": "solid"
           },
           "marker": {
            "symbol": "circle"
           },
           "mode": "lines",
           "name": "",
           "orientation": "v",
           "showlegend": false,
           "x": [
            "2016-01-01",
            "2016-01-01"
           ],
           "xaxis": "x",
           "y": [
            0.08599033816425121,
            0.07414272474513438
           ],
           "yaxis": "y",
           "type": "scatter"
          }
         ],
         "name": "2016-01-01"
        },
        {
         "data": [
          {
           "hovertemplate": "date_mensuelle=%{x}<br>TARGET=%{y}<extra></extra>",
           "ids": [
            0.08605341246290801,
            0.07339449541284404
           ],
           "legendgroup": "",
           "line": {
            "color": "#636efa",
            "dash": "solid"
           },
           "marker": {
            "symbol": "circle"
           },
           "mode": "lines",
           "name": "",
           "orientation": "v",
           "showlegend": false,
           "x": [
            "2016-02-01",
            "2016-02-01"
           ],
           "xaxis": "x",
           "y": [
            0.08605341246290801,
            0.07339449541284404
           ],
           "yaxis": "y",
           "type": "scatter"
          }
         ],
         "name": "2016-02-01"
        },
        {
         "data": [
          {
           "hovertemplate": "date_mensuelle=%{x}<br>TARGET=%{y}<extra></extra>",
           "ids": [
            0.08849557522123894,
            0.07264367816091954
           ],
           "legendgroup": "",
           "line": {
            "color": "#636efa",
            "dash": "solid"
           },
           "marker": {
            "symbol": "circle"
           },
           "mode": "lines",
           "name": "",
           "orientation": "v",
           "showlegend": false,
           "x": [
            "2016-03-01",
            "2016-03-01"
           ],
           "xaxis": "x",
           "y": [
            0.08849557522123894,
            0.07264367816091954
           ],
           "yaxis": "y",
           "type": "scatter"
          }
         ],
         "name": "2016-03-01"
        },
        {
         "data": [
          {
           "hovertemplate": "date_mensuelle=%{x}<br>TARGET=%{y}<extra></extra>",
           "ids": [
            0.0935672514619883,
            0.07017543859649122
           ],
           "legendgroup": "",
           "line": {
            "color": "#636efa",
            "dash": "solid"
           },
           "marker": {
            "symbol": "circle"
           },
           "mode": "lines",
           "name": "",
           "orientation": "v",
           "showlegend": false,
           "x": [
            "2016-04-01",
            "2016-04-01"
           ],
           "xaxis": "x",
           "y": [
            0.0935672514619883,
            0.07017543859649122
           ],
           "yaxis": "y",
           "type": "scatter"
          }
         ],
         "name": "2016-04-01"
        },
        {
         "data": [
          {
           "hovertemplate": "date_mensuelle=%{x}<br>TARGET=%{y}<extra></extra>",
           "ids": [
            0.09048507462686567,
            0.07210179076343072
           ],
           "legendgroup": "",
           "line": {
            "color": "#636efa",
            "dash": "solid"
           },
           "marker": {
            "symbol": "circle"
           },
           "mode": "lines",
           "name": "",
           "orientation": "v",
           "showlegend": false,
           "x": [
            "2016-05-01",
            "2016-05-01"
           ],
           "xaxis": "x",
           "y": [
            0.09048507462686567,
            0.07210179076343072
           ],
           "yaxis": "y",
           "type": "scatter"
          }
         ],
         "name": "2016-05-01"
        },
        {
         "data": [
          {
           "hovertemplate": "date_mensuelle=%{x}<br>TARGET=%{y}<extra></extra>",
           "ids": [
            0.08498583569405099,
            0.075374531835206
           ],
           "legendgroup": "",
           "line": {
            "color": "#636efa",
            "dash": "solid"
           },
           "marker": {
            "symbol": "circle"
           },
           "mode": "lines",
           "name": "",
           "orientation": "v",
           "showlegend": false,
           "x": [
            "2016-06-01",
            "2016-06-01"
           ],
           "xaxis": "x",
           "y": [
            0.08498583569405099,
            0.075374531835206
           ],
           "yaxis": "y",
           "type": "scatter"
          }
         ],
         "name": "2016-06-01"
        },
        {
         "data": [
          {
           "hovertemplate": "date_mensuelle=%{x}<br>TARGET=%{y}<extra></extra>",
           "ids": [
            0.09287054409005628,
            0.07183098591549296
           ],
           "legendgroup": "",
           "line": {
            "color": "#636efa",
            "dash": "solid"
           },
           "marker": {
            "symbol": "circle"
           },
           "mode": "lines",
           "name": "",
           "orientation": "v",
           "showlegend": false,
           "x": [
            "2016-07-01",
            "2016-07-01"
           ],
           "xaxis": "x",
           "y": [
            0.09287054409005628,
            0.07183098591549296
           ],
           "yaxis": "y",
           "type": "scatter"
          }
         ],
         "name": "2016-07-01"
        },
        {
         "data": [
          {
           "hovertemplate": "date_mensuelle=%{x}<br>TARGET=%{y}<extra></extra>",
           "ids": [
            0.09712586719524281,
            0.06999085086916743
           ],
           "legendgroup": "",
           "line": {
            "color": "#636efa",
            "dash": "solid"
           },
           "marker": {
            "symbol": "circle"
           },
           "mode": "lines",
           "name": "",
           "orientation": "v",
           "showlegend": false,
           "x": [
            "2016-08-01",
            "2016-08-01"
           ],
           "xaxis": "x",
           "y": [
            0.09712586719524281,
            0.06999085086916743
           ],
           "yaxis": "y",
           "type": "scatter"
          }
         ],
         "name": "2016-08-01"
        },
        {
         "data": [
          {
           "hovertemplate": "date_mensuelle=%{x}<br>TARGET=%{y}<extra></extra>",
           "ids": [
            0.09328358208955224,
            0.0706880301602262
           ],
           "legendgroup": "",
           "line": {
            "color": "#636efa",
            "dash": "solid"
           },
           "marker": {
            "symbol": "circle"
           },
           "mode": "lines",
           "name": "",
           "orientation": "v",
           "showlegend": false,
           "x": [
            "2016-09-01",
            "2016-09-01"
           ],
           "xaxis": "x",
           "y": [
            0.09328358208955224,
            0.0706880301602262
           ],
           "yaxis": "y",
           "type": "scatter"
          }
         ],
         "name": "2016-09-01"
        },
        {
         "data": [
          {
           "hovertemplate": "date_mensuelle=%{x}<br>TARGET=%{y}<extra></extra>",
           "ids": [
            0.09784735812133072,
            0.0703448275862069
           ],
           "legendgroup": "",
           "line": {
            "color": "#636efa",
            "dash": "solid"
           },
           "marker": {
            "symbol": "circle"
           },
           "mode": "lines",
           "name": "",
           "orientation": "v",
           "showlegend": false,
           "x": [
            "2016-10-01",
            "2016-10-01"
           ],
           "xaxis": "x",
           "y": [
            0.09784735812133072,
            0.0703448275862069
           ],
           "yaxis": "y",
           "type": "scatter"
          }
         ],
         "name": "2016-10-01"
        },
        {
         "data": [
          {
           "hovertemplate": "date_mensuelle=%{x}<br>TARGET=%{y}<extra></extra>",
           "ids": [
            0.1,
            0.06864988558352403
           ],
           "legendgroup": "",
           "line": {
            "color": "#636efa",
            "dash": "solid"
           },
           "marker": {
            "symbol": "circle"
           },
           "mode": "lines",
           "name": "",
           "orientation": "v",
           "showlegend": false,
           "x": [
            "2016-11-01",
            "2016-11-01"
           ],
           "xaxis": "x",
           "y": [
            0.1,
            0.06864988558352403
           ],
           "yaxis": "y",
           "type": "scatter"
          }
         ],
         "name": "2016-11-01"
        },
        {
         "data": [
          {
           "hovertemplate": "date_mensuelle=%{x}<br>TARGET=%{y}<extra></extra>",
           "ids": [
            0.0805168986083499,
            0.07681755829903979
           ],
           "legendgroup": "",
           "line": {
            "color": "#636efa",
            "dash": "solid"
           },
           "marker": {
            "symbol": "circle"
           },
           "mode": "lines",
           "name": "",
           "orientation": "v",
           "showlegend": false,
           "x": [
            "2016-12-01",
            "2016-12-01"
           ],
           "xaxis": "x",
           "y": [
            0.0805168986083499,
            0.07681755829903979
           ],
           "yaxis": "y",
           "type": "scatter"
          }
         ],
         "name": "2016-12-01"
        },
        {
         "data": [
          {
           "hovertemplate": "date_mensuelle=%{x}<br>TARGET=%{y}<extra></extra>",
           "ids": [
            0.08610567514677103,
            0.07373271889400922
           ],
           "legendgroup": "",
           "line": {
            "color": "#636efa",
            "dash": "solid"
           },
           "marker": {
            "symbol": "circle"
           },
           "mode": "lines",
           "name": "",
           "orientation": "v",
           "showlegend": false,
           "x": [
            "2017-01-01",
            "2017-01-01"
           ],
           "xaxis": "x",
           "y": [
            0.08610567514677103,
            0.07373271889400922
           ],
           "yaxis": "y",
           "type": "scatter"
          }
         ],
         "name": "2017-01-01"
        },
        {
         "data": [
          {
           "hovertemplate": "date_mensuelle=%{x}<br>TARGET=%{y}<extra></extra>",
           "ids": [
            0.089128305582762,
            0.07188940092165899
           ],
           "legendgroup": "",
           "line": {
            "color": "#636efa",
            "dash": "solid"
           },
           "marker": {
            "symbol": "circle"
           },
           "mode": "lines",
           "name": "",
           "orientation": "v",
           "showlegend": false,
           "x": [
            "2017-02-01",
            "2017-02-01"
           ],
           "xaxis": "x",
           "y": [
            0.089128305582762,
            0.07188940092165899
           ],
           "yaxis": "y",
           "type": "scatter"
          }
         ],
         "name": "2017-02-01"
        },
        {
         "data": [
          {
           "hovertemplate": "date_mensuelle=%{x}<br>TARGET=%{y}<extra></extra>",
           "ids": [
            0.09170731707317073,
            0.07106598984771574
           ],
           "legendgroup": "",
           "line": {
            "color": "#636efa",
            "dash": "solid"
           },
           "marker": {
            "symbol": "circle"
           },
           "mode": "lines",
           "name": "",
           "orientation": "v",
           "showlegend": false,
           "x": [
            "2017-03-01",
            "2017-03-01"
           ],
           "xaxis": "x",
           "y": [
            0.09170731707317073,
            0.07106598984771574
           ],
           "yaxis": "y",
           "type": "scatter"
          }
         ],
         "name": "2017-03-01"
        },
        {
         "data": [
          {
           "hovertemplate": "date_mensuelle=%{x}<br>TARGET=%{y}<extra></extra>",
           "ids": [
            0.09196515004840271,
            0.07043558850787766
           ],
           "legendgroup": "",
           "line": {
            "color": "#636efa",
            "dash": "solid"
           },
           "marker": {
            "symbol": "circle"
           },
           "mode": "lines",
           "name": "",
           "orientation": "v",
           "showlegend": false,
           "x": [
            "2017-04-01",
            "2017-04-01"
           ],
           "xaxis": "x",
           "y": [
            0.09196515004840271,
            0.07043558850787766
           ],
           "yaxis": "y",
           "type": "scatter"
          }
         ],
         "name": "2017-04-01"
        },
        {
         "data": [
          {
           "hovertemplate": "date_mensuelle=%{x}<br>TARGET=%{y}<extra></extra>",
           "ids": [
            0.09257473481195758,
            0.07096474953617811
           ],
           "legendgroup": "",
           "line": {
            "color": "#636efa",
            "dash": "solid"
           },
           "marker": {
            "symbol": "circle"
           },
           "mode": "lines",
           "name": "",
           "orientation": "v",
           "showlegend": false,
           "x": [
            "2017-05-01",
            "2017-05-01"
           ],
           "xaxis": "x",
           "y": [
            0.09257473481195758,
            0.07096474953617811
           ],
           "yaxis": "y",
           "type": "scatter"
          }
         ],
         "name": "2017-05-01"
        },
        {
         "data": [
          {
           "hovertemplate": "date_mensuelle=%{x}<br>TARGET=%{y}<extra></extra>",
           "ids": [
            0.09980988593155894,
            0.06856343283582089
           ],
           "legendgroup": "",
           "line": {
            "color": "#636efa",
            "dash": "solid"
           },
           "marker": {
            "symbol": "circle"
           },
           "mode": "lines",
           "name": "",
           "orientation": "v",
           "showlegend": false,
           "x": [
            "2017-06-01",
            "2017-06-01"
           ],
           "xaxis": "x",
           "y": [
            0.09980988593155894,
            0.06856343283582089
           ],
           "yaxis": "y",
           "type": "scatter"
          }
         ],
         "name": "2017-06-01"
        },
        {
         "data": [
          {
           "hovertemplate": "date_mensuelle=%{x}<br>TARGET=%{y}<extra></extra>",
           "ids": [
            0.0979431929480901,
            0.06945722171113156
           ],
           "legendgroup": "",
           "line": {
            "color": "#636efa",
            "dash": "solid"
           },
           "marker": {
            "symbol": "circle"
           },
           "mode": "lines",
           "name": "",
           "orientation": "v",
           "showlegend": false,
           "x": [
            "2017-07-01",
            "2017-07-01"
           ],
           "xaxis": "x",
           "y": [
            0.0979431929480901,
            0.06945722171113156
           ],
           "yaxis": "y",
           "type": "scatter"
          }
         ],
         "name": "2017-07-01"
        },
        {
         "data": [
          {
           "hovertemplate": "date_mensuelle=%{x}<br>TARGET=%{y}<extra></extra>",
           "ids": [
            0.0891089108910891,
            0.07410795974382434
           ],
           "legendgroup": "",
           "line": {
            "color": "#636efa",
            "dash": "solid"
           },
           "marker": {
            "symbol": "circle"
           },
           "mode": "lines",
           "name": "",
           "orientation": "v",
           "showlegend": false,
           "x": [
            "2017-08-01",
            "2017-08-01"
           ],
           "xaxis": "x",
           "y": [
            0.0891089108910891,
            0.07410795974382434
           ],
           "yaxis": "y",
           "type": "scatter"
          }
         ],
         "name": "2017-08-01"
        },
        {
         "data": [
          {
           "hovertemplate": "date_mensuelle=%{x}<br>TARGET=%{y}<extra></extra>",
           "ids": [
            0.1082375478927203,
            0.06415620641562064
           ],
           "legendgroup": "",
           "line": {
            "color": "#636efa",
            "dash": "solid"
           },
           "marker": {
            "symbol": "circle"
           },
           "mode": "lines",
           "name": "",
           "orientation": "v",
           "showlegend": false,
           "x": [
            "2017-09-01",
            "2017-09-01"
           ],
           "xaxis": "x",
           "y": [
            0.1082375478927203,
            0.06415620641562064
           ],
           "yaxis": "y",
           "type": "scatter"
          }
         ],
         "name": "2017-09-01"
        },
        {
         "data": [
          {
           "hovertemplate": "date_mensuelle=%{x}<br>TARGET=%{y}<extra></extra>",
           "ids": [
            0.10097087378640776,
            0.06703652334720296
           ],
           "legendgroup": "",
           "line": {
            "color": "#636efa",
            "dash": "solid"
           },
           "marker": {
            "symbol": "circle"
           },
           "mode": "lines",
           "name": "",
           "orientation": "v",
           "showlegend": false,
           "x": [
            "2017-10-01",
            "2017-10-01"
           ],
           "xaxis": "x",
           "y": [
            0.10097087378640776,
            0.06703652334720296
           ],
           "yaxis": "y",
           "type": "scatter"
          }
         ],
         "name": "2017-10-01"
        },
        {
         "data": [
          {
           "hovertemplate": "date_mensuelle=%{x}<br>TARGET=%{y}<extra></extra>",
           "ids": [
            0.0945179584120983,
            0.06935332708528585
           ],
           "legendgroup": "",
           "line": {
            "color": "#636efa",
            "dash": "solid"
           },
           "marker": {
            "symbol": "circle"
           },
           "mode": "lines",
           "name": "",
           "orientation": "v",
           "showlegend": false,
           "x": [
            "2017-11-01",
            "2017-11-01"
           ],
           "xaxis": "x",
           "y": [
            0.0945179584120983,
            0.06935332708528585
           ],
           "yaxis": "y",
           "type": "scatter"
          }
         ],
         "name": "2017-11-01"
        },
        {
         "data": [
          {
           "hovertemplate": "date_mensuelle=%{x}<br>TARGET=%{y}<extra></extra>",
           "ids": [
            0.0892156862745098,
            0.07313707451701931
           ],
           "legendgroup": "",
           "line": {
            "color": "#636efa",
            "dash": "solid"
           },
           "marker": {
            "symbol": "circle"
           },
           "mode": "lines",
           "name": "",
           "orientation": "v",
           "showlegend": false,
           "x": [
            "2017-12-01",
            "2017-12-01"
           ],
           "xaxis": "x",
           "y": [
            0.0892156862745098,
            0.07313707451701931
           ],
           "yaxis": "y",
           "type": "scatter"
          }
         ],
         "name": "2017-12-01"
        },
        {
         "data": [
          {
           "hovertemplate": "date_mensuelle=%{x}<br>TARGET=%{y}<extra></extra>",
           "ids": [
            0.09837728194726167,
            0.06971480307831598
           ],
           "legendgroup": "",
           "line": {
            "color": "#636efa",
            "dash": "solid"
           },
           "marker": {
            "symbol": "circle"
           },
           "mode": "lines",
           "name": "",
           "orientation": "v",
           "showlegend": false,
           "x": [
            "2018-01-01",
            "2018-01-01"
           ],
           "xaxis": "x",
           "y": [
            0.09837728194726167,
            0.06971480307831598
           ],
           "yaxis": "y",
           "type": "scatter"
          }
         ],
         "name": "2018-01-01"
        },
        {
         "data": [
          {
           "hovertemplate": "date_mensuelle=%{x}<br>TARGET=%{y}<extra></extra>",
           "ids": [
            0.09443339960238568,
            0.07168949771689498
           ],
           "legendgroup": "",
           "line": {
            "color": "#636efa",
            "dash": "solid"
           },
           "marker": {
            "symbol": "circle"
           },
           "mode": "lines",
           "name": "",
           "orientation": "v",
           "showlegend": false,
           "x": [
            "2018-02-01",
            "2018-02-01"
           ],
           "xaxis": "x",
           "y": [
            0.09443339960238568,
            0.07168949771689498
           ],
           "yaxis": "y",
           "type": "scatter"
          }
         ],
         "name": "2018-02-01"
        },
        {
         "data": [
          {
           "hovertemplate": "date_mensuelle=%{x}<br>TARGET=%{y}<extra></extra>",
           "ids": [
            0.09196515004840271,
            0.07215541165587419
           ],
           "legendgroup": "",
           "line": {
            "color": "#636efa",
            "dash": "solid"
           },
           "marker": {
            "symbol": "circle"
           },
           "mode": "lines",
           "name": "",
           "orientation": "v",
           "showlegend": false,
           "x": [
            "2018-03-01",
            "2018-03-01"
           ],
           "xaxis": "x",
           "y": [
            0.09196515004840271,
            0.07215541165587419
           ],
           "yaxis": "y",
           "type": "scatter"
          }
         ],
         "name": "2018-03-01"
        },
        {
         "data": [
          {
           "hovertemplate": "date_mensuelle=%{x}<br>TARGET=%{y}<extra></extra>",
           "ids": [
            0.09390125847047434,
            0.07037037037037037
           ],
           "legendgroup": "",
           "line": {
            "color": "#636efa",
            "dash": "solid"
           },
           "marker": {
            "symbol": "circle"
           },
           "mode": "lines",
           "name": "",
           "orientation": "v",
           "showlegend": false,
           "x": [
            "2018-04-01",
            "2018-04-01"
           ],
           "xaxis": "x",
           "y": [
            0.09390125847047434,
            0.07037037037037037
           ],
           "yaxis": "y",
           "type": "scatter"
          }
         ],
         "name": "2018-04-01"
        },
        {
         "data": [
          {
           "hovertemplate": "date_mensuelle=%{x}<br>TARGET=%{y}<extra></extra>",
           "ids": [
            0.07996146435452794,
            0.0766016713091922
           ],
           "legendgroup": "",
           "line": {
            "color": "#636efa",
            "dash": "solid"
           },
           "marker": {
            "symbol": "circle"
           },
           "mode": "lines",
           "name": "",
           "orientation": "v",
           "showlegend": false,
           "x": [
            "2018-05-01",
            "2018-05-01"
           ],
           "xaxis": "x",
           "y": [
            0.07996146435452794,
            0.0766016713091922
           ],
           "yaxis": "y",
           "type": "scatter"
          }
         ],
         "name": "2018-05-01"
        },
        {
         "data": [
          {
           "hovertemplate": "date_mensuelle=%{x}<br>TARGET=%{y}<extra></extra>",
           "ids": [
            0.09029126213592233,
            0.07126330402591392
           ],
           "legendgroup": "",
           "line": {
            "color": "#636efa",
            "dash": "solid"
           },
           "marker": {
            "symbol": "circle"
           },
           "mode": "lines",
           "name": "",
           "orientation": "v",
           "showlegend": false,
           "x": [
            "2018-06-01",
            "2018-06-01"
           ],
           "xaxis": "x",
           "y": [
            0.09029126213592233,
            0.07126330402591392
           ],
           "yaxis": "y",
           "type": "scatter"
          }
         ],
         "name": "2018-06-01"
        },
        {
         "data": [
          {
           "hovertemplate": "date_mensuelle=%{x}<br>TARGET=%{y}<extra></extra>",
           "ids": [
            0.08483033932135728,
            0.07442922374429224
           ],
           "legendgroup": "",
           "line": {
            "color": "#636efa",
            "dash": "solid"
           },
           "marker": {
            "symbol": "circle"
           },
           "mode": "lines",
           "name": "",
           "orientation": "v",
           "showlegend": false,
           "x": [
            "2018-07-01",
            "2018-07-01"
           ],
           "xaxis": "x",
           "y": [
            0.08483033932135728,
            0.07442922374429224
           ],
           "yaxis": "y",
           "type": "scatter"
          }
         ],
         "name": "2018-07-01"
        },
        {
         "data": [
          {
           "hovertemplate": "date_mensuelle=%{x}<br>TARGET=%{y}<extra></extra>",
           "ids": [
            0.10122699386503067,
            0.06856111862877763
           ],
           "legendgroup": "",
           "line": {
            "color": "#636efa",
            "dash": "solid"
           },
           "marker": {
            "symbol": "circle"
           },
           "mode": "lines",
           "name": "",
           "orientation": "v",
           "showlegend": false,
           "x": [
            "2018-08-01",
            "2018-08-01"
           ],
           "xaxis": "x",
           "y": [
            0.10122699386503067,
            0.06856111862877763
           ],
           "yaxis": "y",
           "type": "scatter"
          }
         ],
         "name": "2018-08-01"
        },
        {
         "data": [
          {
           "hovertemplate": "date_mensuelle=%{x}<br>TARGET=%{y}<extra></extra>",
           "ids": [
            0.09504550050556117,
            0.0707482993197279
           ],
           "legendgroup": "",
           "line": {
            "color": "#636efa",
            "dash": "solid"
           },
           "marker": {
            "symbol": "circle"
           },
           "mode": "lines",
           "name": "",
           "orientation": "v",
           "showlegend": false,
           "x": [
            "2018-09-01",
            "2018-09-01"
           ],
           "xaxis": "x",
           "y": [
            0.09504550050556117,
            0.0707482993197279
           ],
           "yaxis": "y",
           "type": "scatter"
          }
         ],
         "name": "2018-09-01"
        },
        {
         "data": [
          {
           "hovertemplate": "date_mensuelle=%{x}<br>TARGET=%{y}<extra></extra>",
           "ids": [
            0.08751229105211406,
            0.07480495640201927
           ],
           "legendgroup": "",
           "line": {
            "color": "#636efa",
            "dash": "solid"
           },
           "marker": {
            "symbol": "circle"
           },
           "mode": "lines",
           "name": "",
           "orientation": "v",
           "showlegend": false,
           "x": [
            "2018-10-01",
            "2018-10-01"
           ],
           "xaxis": "x",
           "y": [
            0.08751229105211406,
            0.07480495640201927
           ],
           "yaxis": "y",
           "type": "scatter"
          }
         ],
         "name": "2018-10-01"
        },
        {
         "data": [
          {
           "hovertemplate": "date_mensuelle=%{x}<br>TARGET=%{y}<extra></extra>",
           "ids": [
            0.08308895405669599,
            0.07557603686635944
           ],
           "legendgroup": "",
           "line": {
            "color": "#636efa",
            "dash": "solid"
           },
           "marker": {
            "symbol": "circle"
           },
           "mode": "lines",
           "name": "",
           "orientation": "v",
           "showlegend": false,
           "x": [
            "2018-11-01",
            "2018-11-01"
           ],
           "xaxis": "x",
           "y": [
            0.08308895405669599,
            0.07557603686635944
           ],
           "yaxis": "y",
           "type": "scatter"
          }
         ],
         "name": "2018-11-01"
        },
        {
         "data": [
          {
           "hovertemplate": "date_mensuelle=%{x}<br>TARGET=%{y}<extra></extra>",
           "ids": [
            0.08382642998027613,
            0.0735632183908046
           ],
           "legendgroup": "",
           "line": {
            "color": "#636efa",
            "dash": "solid"
           },
           "marker": {
            "symbol": "circle"
           },
           "mode": "lines",
           "name": "",
           "orientation": "v",
           "showlegend": false,
           "x": [
            "2018-12-01",
            "2018-12-01"
           ],
           "xaxis": "x",
           "y": [
            0.08382642998027613,
            0.0735632183908046
           ],
           "yaxis": "y",
           "type": "scatter"
          }
         ],
         "name": "2018-12-01"
        },
        {
         "data": [
          {
           "hovertemplate": "date_mensuelle=%{x}<br>TARGET=%{y}<extra></extra>",
           "ids": [
            0.07247706422018349,
            0.06256062075654704
           ],
           "legendgroup": "",
           "line": {
            "color": "#636efa",
            "dash": "solid"
           },
           "marker": {
            "symbol": "circle"
           },
           "mode": "lines",
           "name": "",
           "orientation": "v",
           "showlegend": false,
           "x": [
            "2019-01-01",
            "2019-01-01"
           ],
           "xaxis": "x",
           "y": [
            0.07247706422018349,
            0.06256062075654704
           ],
           "yaxis": "y",
           "type": "scatter"
          }
         ],
         "name": "2019-01-01"
        },
        {
         "data": [
          {
           "hovertemplate": "date_mensuelle=%{x}<br>TARGET=%{y}<extra></extra>",
           "ids": [
            0.07191448007774538,
            0.06179245283018868
           ],
           "legendgroup": "",
           "line": {
            "color": "#636efa",
            "dash": "solid"
           },
           "marker": {
            "symbol": "circle"
           },
           "mode": "lines",
           "name": "",
           "orientation": "v",
           "showlegend": false,
           "x": [
            "2019-02-01",
            "2019-02-01"
           ],
           "xaxis": "x",
           "y": [
            0.07191448007774538,
            0.06179245283018868
           ],
           "yaxis": "y",
           "type": "scatter"
          }
         ],
         "name": "2019-02-01"
        },
        {
         "data": [
          {
           "hovertemplate": "date_mensuelle=%{x}<br>TARGET=%{y}<extra></extra>",
           "ids": [
            0.06951340615690169,
            0.061711079943899017
           ],
           "legendgroup": "",
           "line": {
            "color": "#636efa",
            "dash": "solid"
           },
           "marker": {
            "symbol": "circle"
           },
           "mode": "lines",
           "name": "",
           "orientation": "v",
           "showlegend": false,
           "x": [
            "2019-03-01",
            "2019-03-01"
           ],
           "xaxis": "x",
           "y": [
            0.06951340615690169,
            0.061711079943899017
           ],
           "yaxis": "y",
           "type": "scatter"
          }
         ],
         "name": "2019-03-01"
        },
        {
         "data": [
          {
           "hovertemplate": "date_mensuelle=%{x}<br>TARGET=%{y}<extra></extra>",
           "ids": [
            0.07077856420626896,
            0.060324825986078884
           ],
           "legendgroup": "",
           "line": {
            "color": "#636efa",
            "dash": "solid"
           },
           "marker": {
            "symbol": "circle"
           },
           "mode": "lines",
           "name": "",
           "orientation": "v",
           "showlegend": false,
           "x": [
            "2019-04-01",
            "2019-04-01"
           ],
           "xaxis": "x",
           "y": [
            0.07077856420626896,
            0.060324825986078884
           ],
           "yaxis": "y",
           "type": "scatter"
          }
         ],
         "name": "2019-04-01"
        },
        {
         "data": [
          {
           "hovertemplate": "date_mensuelle=%{x}<br>TARGET=%{y}<extra></extra>",
           "ids": [
            0.0755813953488372,
            0.05821107430194037
           ],
           "legendgroup": "",
           "line": {
            "color": "#636efa",
            "dash": "solid"
           },
           "marker": {
            "symbol": "circle"
           },
           "mode": "lines",
           "name": "",
           "orientation": "v",
           "showlegend": false,
           "x": [
            "2019-05-01",
            "2019-05-01"
           ],
           "xaxis": "x",
           "y": [
            0.0755813953488372,
            0.05821107430194037
           ],
           "yaxis": "y",
           "type": "scatter"
          }
         ],
         "name": "2019-05-01"
        },
        {
         "data": [
          {
           "hovertemplate": "date_mensuelle=%{x}<br>TARGET=%{y}<extra></extra>",
           "ids": [
            0.07904761904761905,
            0.05722460658082976
           ],
           "legendgroup": "",
           "line": {
            "color": "#636efa",
            "dash": "solid"
           },
           "marker": {
            "symbol": "circle"
           },
           "mode": "lines",
           "name": "",
           "orientation": "v",
           "showlegend": false,
           "x": [
            "2019-06-01",
            "2019-06-01"
           ],
           "xaxis": "x",
           "y": [
            0.07904761904761905,
            0.05722460658082976
           ],
           "yaxis": "y",
           "type": "scatter"
          }
         ],
         "name": "2019-06-01"
        },
        {
         "data": [
          {
           "hovertemplate": "date_mensuelle=%{x}<br>TARGET=%{y}<extra></extra>",
           "ids": [
            0.08268482490272373,
            0.0547945205479452
           ],
           "legendgroup": "",
           "line": {
            "color": "#636efa",
            "dash": "solid"
           },
           "marker": {
            "symbol": "circle"
           },
           "mode": "lines",
           "name": "",
           "orientation": "v",
           "showlegend": false,
           "x": [
            "2019-07-01",
            "2019-07-01"
           ],
           "xaxis": "x",
           "y": [
            0.08268482490272373,
            0.0547945205479452
           ],
           "yaxis": "y",
           "type": "scatter"
          }
         ],
         "name": "2019-07-01"
        },
        {
         "data": [
          {
           "hovertemplate": "date_mensuelle=%{x}<br>TARGET=%{y}<extra></extra>",
           "ids": [
            0.06906906906906907,
            0.06281991624011168
           ],
           "legendgroup": "",
           "line": {
            "color": "#636efa",
            "dash": "solid"
           },
           "marker": {
            "symbol": "circle"
           },
           "mode": "lines",
           "name": "",
           "orientation": "v",
           "showlegend": false,
           "x": [
            "2019-08-01",
            "2019-08-01"
           ],
           "xaxis": "x",
           "y": [
            0.06906906906906907,
            0.06281991624011168
           ],
           "yaxis": "y",
           "type": "scatter"
          }
         ],
         "name": "2019-08-01"
        },
        {
         "data": [
          {
           "hovertemplate": "date_mensuelle=%{x}<br>TARGET=%{y}<extra></extra>",
           "ids": [
            0.07372793354101766,
            0.06086956521739131
           ],
           "legendgroup": "",
           "line": {
            "color": "#636efa",
            "dash": "solid"
           },
           "marker": {
            "symbol": "circle"
           },
           "mode": "lines",
           "name": "",
           "orientation": "v",
           "showlegend": false,
           "x": [
            "2019-09-01",
            "2019-09-01"
           ],
           "xaxis": "x",
           "y": [
            0.07372793354101766,
            0.06086956521739131
           ],
           "yaxis": "y",
           "type": "scatter"
          }
         ],
         "name": "2019-09-01"
        },
        {
         "data": [
          {
           "hovertemplate": "date_mensuelle=%{x}<br>TARGET=%{y}<extra></extra>",
           "ids": [
            0.071,
            0.062354583527221966
           ],
           "legendgroup": "",
           "line": {
            "color": "#636efa",
            "dash": "solid"
           },
           "marker": {
            "symbol": "circle"
           },
           "mode": "lines",
           "name": "",
           "orientation": "v",
           "showlegend": false,
           "x": [
            "2019-10-01",
            "2019-10-01"
           ],
           "xaxis": "x",
           "y": [
            0.071,
            0.062354583527221966
           ],
           "yaxis": "y",
           "type": "scatter"
          }
         ],
         "name": "2019-10-01"
        },
        {
         "data": [
          {
           "hovertemplate": "date_mensuelle=%{x}<br>TARGET=%{y}<extra></extra>",
           "ids": [
            0.07317073170731707,
            0.06164705882352941
           ],
           "legendgroup": "",
           "line": {
            "color": "#636efa",
            "dash": "solid"
           },
           "marker": {
            "symbol": "circle"
           },
           "mode": "lines",
           "name": "",
           "orientation": "v",
           "showlegend": false,
           "x": [
            "2019-11-01",
            "2019-11-01"
           ],
           "xaxis": "x",
           "y": [
            0.07317073170731707,
            0.06164705882352941
           ],
           "yaxis": "y",
           "type": "scatter"
          }
         ],
         "name": "2019-11-01"
        },
        {
         "data": [
          {
           "hovertemplate": "date_mensuelle=%{x}<br>TARGET=%{y}<extra></extra>",
           "ids": [
            0.07875647668393783,
            0.06035665294924554
           ],
           "legendgroup": "",
           "line": {
            "color": "#636efa",
            "dash": "solid"
           },
           "marker": {
            "symbol": "circle"
           },
           "mode": "lines",
           "name": "",
           "orientation": "v",
           "showlegend": false,
           "x": [
            "2019-12-01",
            "2019-12-01"
           ],
           "xaxis": "x",
           "y": [
            0.07875647668393783,
            0.06035665294924554
           ],
           "yaxis": "y",
           "type": "scatter"
          }
         ],
         "name": "2019-12-01"
        },
        {
         "data": [
          {
           "hovertemplate": "date_mensuelle=%{x}<br>TARGET=%{y}<extra></extra>",
           "ids": [
            0.08585858585858586,
            0.06295955882352941
           ],
           "legendgroup": "",
           "line": {
            "color": "#636efa",
            "dash": "solid"
           },
           "marker": {
            "symbol": "circle"
           },
           "mode": "lines",
           "name": "",
           "orientation": "v",
           "showlegend": false,
           "x": [
            "2020-01-01",
            "2020-01-01"
           ],
           "xaxis": "x",
           "y": [
            0.08585858585858586,
            0.06295955882352941
           ],
           "yaxis": "y",
           "type": "scatter"
          }
         ],
         "name": "2020-01-01"
        },
        {
         "data": [
          {
           "hovertemplate": "date_mensuelle=%{x}<br>TARGET=%{y}<extra></extra>",
           "ids": [
            0.08958130477117819,
            0.06558139534883721
           ],
           "legendgroup": "",
           "line": {
            "color": "#636efa",
            "dash": "solid"
           },
           "marker": {
            "symbol": "circle"
           },
           "mode": "lines",
           "name": "",
           "orientation": "v",
           "showlegend": false,
           "x": [
            "2020-02-01",
            "2020-02-01"
           ],
           "xaxis": "x",
           "y": [
            0.08958130477117819,
            0.06558139534883721
           ],
           "yaxis": "y",
           "type": "scatter"
          }
         ],
         "name": "2020-02-01"
        },
        {
         "data": [
          {
           "hovertemplate": "date_mensuelle=%{x}<br>TARGET=%{y}<extra></extra>",
           "ids": [
            0.09201877934272301,
            0.07052186177715092
           ],
           "legendgroup": "",
           "line": {
            "color": "#636efa",
            "dash": "solid"
           },
           "marker": {
            "symbol": "circle"
           },
           "mode": "lines",
           "name": "",
           "orientation": "v",
           "showlegend": false,
           "x": [
            "2020-03-01",
            "2020-03-01"
           ],
           "xaxis": "x",
           "y": [
            0.09201877934272301,
            0.07052186177715092
           ],
           "yaxis": "y",
           "type": "scatter"
          }
         ],
         "name": "2020-03-01"
        },
        {
         "data": [
          {
           "hovertemplate": "date_mensuelle=%{x}<br>TARGET=%{y}<extra></extra>",
           "ids": [
            0.08641975308641975,
            0.07642124883504194
           ],
           "legendgroup": "",
           "line": {
            "color": "#636efa",
            "dash": "solid"
           },
           "marker": {
            "symbol": "circle"
           },
           "mode": "lines",
           "name": "",
           "orientation": "v",
           "showlegend": false,
           "x": [
            "2020-04-01",
            "2020-04-01"
           ],
           "xaxis": "x",
           "y": [
            0.08641975308641975,
            0.07642124883504194
           ],
           "yaxis": "y",
           "type": "scatter"
          }
         ],
         "name": "2020-04-01"
        },
        {
         "data": [
          {
           "hovertemplate": "date_mensuelle=%{x}<br>TARGET=%{y}<extra></extra>",
           "ids": [
            0.08868778280542987,
            0.0780580675868634
           ],
           "legendgroup": "",
           "line": {
            "color": "#636efa",
            "dash": "solid"
           },
           "marker": {
            "symbol": "circle"
           },
           "mode": "lines",
           "name": "",
           "orientation": "v",
           "showlegend": false,
           "x": [
            "2020-05-01",
            "2020-05-01"
           ],
           "xaxis": "x",
           "y": [
            0.08868778280542987,
            0.0780580675868634
           ],
           "yaxis": "y",
           "type": "scatter"
          }
         ],
         "name": "2020-05-01"
        },
        {
         "data": [
          {
           "hovertemplate": "date_mensuelle=%{x}<br>TARGET=%{y}<extra></extra>",
           "ids": [
            0.10594059405940594,
            0.07142857142857142
           ],
           "legendgroup": "",
           "line": {
            "color": "#636efa",
            "dash": "solid"
           },
           "marker": {
            "symbol": "circle"
           },
           "mode": "lines",
           "name": "",
           "orientation": "v",
           "showlegend": false,
           "x": [
            "2020-06-01",
            "2020-06-01"
           ],
           "xaxis": "x",
           "y": [
            0.10594059405940594,
            0.07142857142857142
           ],
           "yaxis": "y",
           "type": "scatter"
          }
         ],
         "name": "2020-06-01"
        },
        {
         "data": [
          {
           "hovertemplate": "date_mensuelle=%{x}<br>TARGET=%{y}<extra></extra>",
           "ids": [
            0.09737827715355805,
            0.07259953161592506
           ],
           "legendgroup": "",
           "line": {
            "color": "#636efa",
            "dash": "solid"
           },
           "marker": {
            "symbol": "circle"
           },
           "mode": "lines",
           "name": "",
           "orientation": "v",
           "showlegend": false,
           "x": [
            "2020-07-01",
            "2020-07-01"
           ],
           "xaxis": "x",
           "y": [
            0.09737827715355805,
            0.07259953161592506
           ],
           "yaxis": "y",
           "type": "scatter"
          }
         ],
         "name": "2020-07-01"
        },
        {
         "data": [
          {
           "hovertemplate": "date_mensuelle=%{x}<br>TARGET=%{y}<extra></extra>",
           "ids": [
            0.09782608695652174,
            0.07344890510948905
           ],
           "legendgroup": "",
           "line": {
            "color": "#636efa",
            "dash": "solid"
           },
           "marker": {
            "symbol": "circle"
           },
           "mode": "lines",
           "name": "",
           "orientation": "v",
           "showlegend": false,
           "x": [
            "2020-08-01",
            "2020-08-01"
           ],
           "xaxis": "x",
           "y": [
            0.09782608695652174,
            0.07344890510948905
           ],
           "yaxis": "y",
           "type": "scatter"
          }
         ],
         "name": "2020-08-01"
        },
        {
         "data": [
          {
           "hovertemplate": "date_mensuelle=%{x}<br>TARGET=%{y}<extra></extra>",
           "ids": [
            0.08708414872798434,
            0.07836846929422549
           ],
           "legendgroup": "",
           "line": {
            "color": "#636efa",
            "dash": "solid"
           },
           "marker": {
            "symbol": "circle"
           },
           "mode": "lines",
           "name": "",
           "orientation": "v",
           "showlegend": false,
           "x": [
            "2020-09-01",
            "2020-09-01"
           ],
           "xaxis": "x",
           "y": [
            0.08708414872798434,
            0.07836846929422549
           ],
           "yaxis": "y",
           "type": "scatter"
          }
         ],
         "name": "2020-09-01"
        },
        {
         "data": [
          {
           "hovertemplate": "date_mensuelle=%{x}<br>TARGET=%{y}<extra></extra>",
           "ids": [
            0.10068426197458455,
            0.07113354749885269
           ],
           "legendgroup": "",
           "line": {
            "color": "#636efa",
            "dash": "solid"
           },
           "marker": {
            "symbol": "circle"
           },
           "mode": "lines",
           "name": "",
           "orientation": "v",
           "showlegend": false,
           "x": [
            "2020-10-01",
            "2020-10-01"
           ],
           "xaxis": "x",
           "y": [
            0.10068426197458455,
            0.07113354749885269
           ],
           "yaxis": "y",
           "type": "scatter"
          }
         ],
         "name": "2020-10-01"
        },
        {
         "data": [
          {
           "hovertemplate": "date_mensuelle=%{x}<br>TARGET=%{y}<extra></extra>",
           "ids": [
            0.09227683049147442,
            0.07486388384754991
           ],
           "legendgroup": "",
           "line": {
            "color": "#636efa",
            "dash": "solid"
           },
           "marker": {
            "symbol": "circle"
           },
           "mode": "lines",
           "name": "",
           "orientation": "v",
           "showlegend": false,
           "x": [
            "2020-11-01",
            "2020-11-01"
           ],
           "xaxis": "x",
           "y": [
            0.09227683049147442,
            0.07486388384754991
           ],
           "yaxis": "y",
           "type": "scatter"
          }
         ],
         "name": "2020-11-01"
        },
        {
         "data": [
          {
           "hovertemplate": "date_mensuelle=%{x}<br>TARGET=%{y}<extra></extra>",
           "ids": [
            0.09933774834437085,
            0.07132867132867132
           ],
           "legendgroup": "",
           "line": {
            "color": "#636efa",
            "dash": "solid"
           },
           "marker": {
            "symbol": "circle"
           },
           "mode": "lines",
           "name": "",
           "orientation": "v",
           "showlegend": false,
           "x": [
            "2020-12-01",
            "2020-12-01"
           ],
           "xaxis": "x",
           "y": [
            0.09933774834437085,
            0.07132867132867132
           ],
           "yaxis": "y",
           "type": "scatter"
          }
         ],
         "name": "2020-12-01"
        }
       ],
       "config": {
        "plotlyServerURL": "https://plot.ly"
       }
      },
      "text/html": "<div>                            <div id=\"062d69e7-a924-43f7-9820-4d41ac0aa9e8\" class=\"plotly-graph-div\" style=\"height:525px; width:100%;\"></div>            <script type=\"text/javascript\">                require([\"plotly\"], function(Plotly) {                    window.PLOTLYENV=window.PLOTLYENV || {};                                    if (document.getElementById(\"062d69e7-a924-43f7-9820-4d41ac0aa9e8\")) {                    Plotly.newPlot(                        \"062d69e7-a924-43f7-9820-4d41ac0aa9e8\",                        [{\"hovertemplate\":\"date_mensuelle=%{x}\\u003cbr\\u003eTARGET=%{y}\\u003cextra\\u003e\\u003c\\u002fextra\\u003e\",\"ids\":[0.1041069723018147,0.06436567164179105],\"legendgroup\":\"\",\"line\":{\"color\":\"#636efa\",\"dash\":\"solid\"},\"marker\":{\"symbol\":\"circle\"},\"mode\":\"lines\",\"name\":\"\",\"orientation\":\"v\",\"showlegend\":false,\"x\":[\"2013-01-01\",\"2013-01-01\"],\"xaxis\":\"x\",\"y\":[0.1041069723018147,0.06436567164179105],\"yaxis\":\"y\",\"type\":\"scatter\"}],                        {\"template\":{\"data\":{\"histogram2dcontour\":[{\"type\":\"histogram2dcontour\",\"colorbar\":{\"outlinewidth\":0,\"ticks\":\"\"},\"colorscale\":[[0.0,\"#0d0887\"],[0.1111111111111111,\"#46039f\"],[0.2222222222222222,\"#7201a8\"],[0.3333333333333333,\"#9c179e\"],[0.4444444444444444,\"#bd3786\"],[0.5555555555555556,\"#d8576b\"],[0.6666666666666666,\"#ed7953\"],[0.7777777777777778,\"#fb9f3a\"],[0.8888888888888888,\"#fdca26\"],[1.0,\"#f0f921\"]]}],\"choropleth\":[{\"type\":\"choropleth\",\"colorbar\":{\"outlinewidth\":0,\"ticks\":\"\"}}],\"histogram2d\":[{\"type\":\"histogram2d\",\"colorbar\":{\"outlinewidth\":0,\"ticks\":\"\"},\"colorscale\":[[0.0,\"#0d0887\"],[0.1111111111111111,\"#46039f\"],[0.2222222222222222,\"#7201a8\"],[0.3333333333333333,\"#9c179e\"],[0.4444444444444444,\"#bd3786\"],[0.5555555555555556,\"#d8576b\"],[0.6666666666666666,\"#ed7953\"],[0.7777777777777778,\"#fb9f3a\"],[0.8888888888888888,\"#fdca26\"],[1.0,\"#f0f921\"]]}],\"heatmap\":[{\"type\":\"heatmap\",\"colorbar\":{\"outlinewidth\":0,\"ticks\":\"\"},\"colorscale\":[[0.0,\"#0d0887\"],[0.1111111111111111,\"#46039f\"],[0.2222222222222222,\"#7201a8\"],[0.3333333333333333,\"#9c179e\"],[0.4444444444444444,\"#bd3786\"],[0.5555555555555556,\"#d8576b\"],[0.6666666666666666,\"#ed7953\"],[0.7777777777777778,\"#fb9f3a\"],[0.8888888888888888,\"#fdca26\"],[1.0,\"#f0f921\"]]}],\"heatmapgl\":[{\"type\":\"heatmapgl\",\"colorbar\":{\"outlinewidth\":0,\"ticks\":\"\"},\"colorscale\":[[0.0,\"#0d0887\"],[0.1111111111111111,\"#46039f\"],[0.2222222222222222,\"#7201a8\"],[0.3333333333333333,\"#9c179e\"],[0.4444444444444444,\"#bd3786\"],[0.5555555555555556,\"#d8576b\"],[0.6666666666666666,\"#ed7953\"],[0.7777777777777778,\"#fb9f3a\"],[0.8888888888888888,\"#fdca26\"],[1.0,\"#f0f921\"]]}],\"contourcarpet\":[{\"type\":\"contourcarpet\",\"colorbar\":{\"outlinewidth\":0,\"ticks\":\"\"}}],\"contour\":[{\"type\":\"contour\",\"colorbar\":{\"outlinewidth\":0,\"ticks\":\"\"},\"colorscale\":[[0.0,\"#0d0887\"],[0.1111111111111111,\"#46039f\"],[0.2222222222222222,\"#7201a8\"],[0.3333333333333333,\"#9c179e\"],[0.4444444444444444,\"#bd3786\"],[0.5555555555555556,\"#d8576b\"],[0.6666666666666666,\"#ed7953\"],[0.7777777777777778,\"#fb9f3a\"],[0.8888888888888888,\"#fdca26\"],[1.0,\"#f0f921\"]]}],\"surface\":[{\"type\":\"surface\",\"colorbar\":{\"outlinewidth\":0,\"ticks\":\"\"},\"colorscale\":[[0.0,\"#0d0887\"],[0.1111111111111111,\"#46039f\"],[0.2222222222222222,\"#7201a8\"],[0.3333333333333333,\"#9c179e\"],[0.4444444444444444,\"#bd3786\"],[0.5555555555555556,\"#d8576b\"],[0.6666666666666666,\"#ed7953\"],[0.7777777777777778,\"#fb9f3a\"],[0.8888888888888888,\"#fdca26\"],[1.0,\"#f0f921\"]]}],\"mesh3d\":[{\"type\":\"mesh3d\",\"colorbar\":{\"outlinewidth\":0,\"ticks\":\"\"}}],\"scatter\":[{\"fillpattern\":{\"fillmode\":\"overlay\",\"size\":10,\"solidity\":0.2},\"type\":\"scatter\"}],\"parcoords\":[{\"type\":\"parcoords\",\"line\":{\"colorbar\":{\"outlinewidth\":0,\"ticks\":\"\"}}}],\"scatterpolargl\":[{\"type\":\"scatterpolargl\",\"marker\":{\"colorbar\":{\"outlinewidth\":0,\"ticks\":\"\"}}}],\"bar\":[{\"error_x\":{\"color\":\"#2a3f5f\"},\"error_y\":{\"color\":\"#2a3f5f\"},\"marker\":{\"line\":{\"color\":\"#E5ECF6\",\"width\":0.5},\"pattern\":{\"fillmode\":\"overlay\",\"size\":10,\"solidity\":0.2}},\"type\":\"bar\"}],\"scattergeo\":[{\"type\":\"scattergeo\",\"marker\":{\"colorbar\":{\"outlinewidth\":0,\"ticks\":\"\"}}}],\"scatterpolar\":[{\"type\":\"scatterpolar\",\"marker\":{\"colorbar\":{\"outlinewidth\":0,\"ticks\":\"\"}}}],\"histogram\":[{\"marker\":{\"pattern\":{\"fillmode\":\"overlay\",\"size\":10,\"solidity\":0.2}},\"type\":\"histogram\"}],\"scattergl\":[{\"type\":\"scattergl\",\"marker\":{\"colorbar\":{\"outlinewidth\":0,\"ticks\":\"\"}}}],\"scatter3d\":[{\"type\":\"scatter3d\",\"line\":{\"colorbar\":{\"outlinewidth\":0,\"ticks\":\"\"}},\"marker\":{\"colorbar\":{\"outlinewidth\":0,\"ticks\":\"\"}}}],\"scattermapbox\":[{\"type\":\"scattermapbox\",\"marker\":{\"colorbar\":{\"outlinewidth\":0,\"ticks\":\"\"}}}],\"scatterternary\":[{\"type\":\"scatterternary\",\"marker\":{\"colorbar\":{\"outlinewidth\":0,\"ticks\":\"\"}}}],\"scattercarpet\":[{\"type\":\"scattercarpet\",\"marker\":{\"colorbar\":{\"outlinewidth\":0,\"ticks\":\"\"}}}],\"carpet\":[{\"aaxis\":{\"endlinecolor\":\"#2a3f5f\",\"gridcolor\":\"white\",\"linecolor\":\"white\",\"minorgridcolor\":\"white\",\"startlinecolor\":\"#2a3f5f\"},\"baxis\":{\"endlinecolor\":\"#2a3f5f\",\"gridcolor\":\"white\",\"linecolor\":\"white\",\"minorgridcolor\":\"white\",\"startlinecolor\":\"#2a3f5f\"},\"type\":\"carpet\"}],\"table\":[{\"cells\":{\"fill\":{\"color\":\"#EBF0F8\"},\"line\":{\"color\":\"white\"}},\"header\":{\"fill\":{\"color\":\"#C8D4E3\"},\"line\":{\"color\":\"white\"}},\"type\":\"table\"}],\"barpolar\":[{\"marker\":{\"line\":{\"color\":\"#E5ECF6\",\"width\":0.5},\"pattern\":{\"fillmode\":\"overlay\",\"size\":10,\"solidity\":0.2}},\"type\":\"barpolar\"}],\"pie\":[{\"automargin\":true,\"type\":\"pie\"}]},\"layout\":{\"autotypenumbers\":\"strict\",\"colorway\":[\"#636efa\",\"#EF553B\",\"#00cc96\",\"#ab63fa\",\"#FFA15A\",\"#19d3f3\",\"#FF6692\",\"#B6E880\",\"#FF97FF\",\"#FECB52\"],\"font\":{\"color\":\"#2a3f5f\"},\"hovermode\":\"closest\",\"hoverlabel\":{\"align\":\"left\"},\"paper_bgcolor\":\"white\",\"plot_bgcolor\":\"#E5ECF6\",\"polar\":{\"bgcolor\":\"#E5ECF6\",\"angularaxis\":{\"gridcolor\":\"white\",\"linecolor\":\"white\",\"ticks\":\"\"},\"radialaxis\":{\"gridcolor\":\"white\",\"linecolor\":\"white\",\"ticks\":\"\"}},\"ternary\":{\"bgcolor\":\"#E5ECF6\",\"aaxis\":{\"gridcolor\":\"white\",\"linecolor\":\"white\",\"ticks\":\"\"},\"baxis\":{\"gridcolor\":\"white\",\"linecolor\":\"white\",\"ticks\":\"\"},\"caxis\":{\"gridcolor\":\"white\",\"linecolor\":\"white\",\"ticks\":\"\"}},\"coloraxis\":{\"colorbar\":{\"outlinewidth\":0,\"ticks\":\"\"}},\"colorscale\":{\"sequential\":[[0.0,\"#0d0887\"],[0.1111111111111111,\"#46039f\"],[0.2222222222222222,\"#7201a8\"],[0.3333333333333333,\"#9c179e\"],[0.4444444444444444,\"#bd3786\"],[0.5555555555555556,\"#d8576b\"],[0.6666666666666666,\"#ed7953\"],[0.7777777777777778,\"#fb9f3a\"],[0.8888888888888888,\"#fdca26\"],[1.0,\"#f0f921\"]],\"sequentialminus\":[[0.0,\"#0d0887\"],[0.1111111111111111,\"#46039f\"],[0.2222222222222222,\"#7201a8\"],[0.3333333333333333,\"#9c179e\"],[0.4444444444444444,\"#bd3786\"],[0.5555555555555556,\"#d8576b\"],[0.6666666666666666,\"#ed7953\"],[0.7777777777777778,\"#fb9f3a\"],[0.8888888888888888,\"#fdca26\"],[1.0,\"#f0f921\"]],\"diverging\":[[0,\"#8e0152\"],[0.1,\"#c51b7d\"],[0.2,\"#de77ae\"],[0.3,\"#f1b6da\"],[0.4,\"#fde0ef\"],[0.5,\"#f7f7f7\"],[0.6,\"#e6f5d0\"],[0.7,\"#b8e186\"],[0.8,\"#7fbc41\"],[0.9,\"#4d9221\"],[1,\"#276419\"]]},\"xaxis\":{\"gridcolor\":\"white\",\"linecolor\":\"white\",\"ticks\":\"\",\"title\":{\"standoff\":15},\"zerolinecolor\":\"white\",\"automargin\":true,\"zerolinewidth\":2},\"yaxis\":{\"gridcolor\":\"white\",\"linecolor\":\"white\",\"ticks\":\"\",\"title\":{\"standoff\":15},\"zerolinecolor\":\"white\",\"automargin\":true,\"zerolinewidth\":2},\"scene\":{\"xaxis\":{\"backgroundcolor\":\"#E5ECF6\",\"gridcolor\":\"white\",\"linecolor\":\"white\",\"showbackground\":true,\"ticks\":\"\",\"zerolinecolor\":\"white\",\"gridwidth\":2},\"yaxis\":{\"backgroundcolor\":\"#E5ECF6\",\"gridcolor\":\"white\",\"linecolor\":\"white\",\"showbackground\":true,\"ticks\":\"\",\"zerolinecolor\":\"white\",\"gridwidth\":2},\"zaxis\":{\"backgroundcolor\":\"#E5ECF6\",\"gridcolor\":\"white\",\"linecolor\":\"white\",\"showbackground\":true,\"ticks\":\"\",\"zerolinecolor\":\"white\",\"gridwidth\":2}},\"shapedefaults\":{\"line\":{\"color\":\"#2a3f5f\"}},\"annotationdefaults\":{\"arrowcolor\":\"#2a3f5f\",\"arrowhead\":0,\"arrowwidth\":1},\"geo\":{\"bgcolor\":\"white\",\"landcolor\":\"#E5ECF6\",\"subunitcolor\":\"white\",\"showland\":true,\"showlakes\":true,\"lakecolor\":\"white\"},\"title\":{\"x\":0.05},\"mapbox\":{\"style\":\"light\"}}},\"xaxis\":{\"anchor\":\"y\",\"domain\":[0.0,1.0],\"title\":{\"text\":\"date_mensuelle\"},\"categoryorder\":\"array\",\"categoryarray\":[\"2013-01-01\",\"2013-02-01\",\"2013-03-01\",\"2013-04-01\",\"2013-05-01\",\"2013-06-01\",\"2013-07-01\",\"2013-08-01\",\"2013-09-01\",\"2013-10-01\",\"2013-11-01\",\"2013-12-01\",\"2014-01-01\",\"2014-02-01\",\"2014-03-01\",\"2014-04-01\",\"2014-05-01\",\"2014-06-01\",\"2014-07-01\",\"2014-08-01\",\"2014-09-01\",\"2014-10-01\",\"2014-11-01\",\"2014-12-01\",\"2015-01-01\",\"2015-02-01\",\"2015-03-01\",\"2015-04-01\",\"2015-05-01\",\"2015-06-01\",\"2015-07-01\",\"2015-08-01\",\"2015-09-01\",\"2015-10-01\",\"2015-11-01\",\"2015-12-01\",\"2016-01-01\",\"2016-02-01\",\"2016-03-01\",\"2016-04-01\",\"2016-05-01\",\"2016-06-01\",\"2016-07-01\",\"2016-08-01\",\"2016-09-01\",\"2016-10-01\",\"2016-11-01\",\"2016-12-01\",\"2017-01-01\",\"2017-02-01\",\"2017-03-01\",\"2017-04-01\",\"2017-05-01\",\"2017-06-01\",\"2017-07-01\",\"2017-08-01\",\"2017-09-01\",\"2017-10-01\",\"2017-11-01\",\"2017-12-01\",\"2018-01-01\",\"2018-02-01\",\"2018-03-01\",\"2018-04-01\",\"2018-05-01\",\"2018-06-01\",\"2018-07-01\",\"2018-08-01\",\"2018-09-01\",\"2018-10-01\",\"2018-11-01\",\"2018-12-01\",\"2019-01-01\",\"2019-02-01\",\"2019-03-01\",\"2019-04-01\",\"2019-05-01\",\"2019-06-01\",\"2019-07-01\",\"2019-08-01\",\"2019-09-01\",\"2019-10-01\",\"2019-11-01\",\"2019-12-01\",\"2020-01-01\",\"2020-02-01\",\"2020-03-01\",\"2020-04-01\",\"2020-05-01\",\"2020-06-01\",\"2020-07-01\",\"2020-08-01\",\"2020-09-01\",\"2020-10-01\",\"2020-11-01\",\"2020-12-01\"]},\"yaxis\":{\"anchor\":\"x\",\"domain\":[0.0,1.0],\"title\":{\"text\":\"TARGET\"}},\"legend\":{\"tracegroupgap\":0},\"title\":{\"text\":\"Stabilit\\u00e9 temporelle de AMT_CREDIT_SUM_DEBT_disc_int\"},\"updatemenus\":[{\"buttons\":[{\"args\":[null,{\"frame\":{\"duration\":500,\"redraw\":false},\"mode\":\"immediate\",\"fromcurrent\":true,\"transition\":{\"duration\":500,\"easing\":\"linear\"}}],\"label\":\"&#9654;\",\"method\":\"animate\"},{\"args\":[[null],{\"frame\":{\"duration\":0,\"redraw\":false},\"mode\":\"immediate\",\"fromcurrent\":true,\"transition\":{\"duration\":0,\"easing\":\"linear\"}}],\"label\":\"&#9724;\",\"method\":\"animate\"}],\"direction\":\"left\",\"pad\":{\"r\":10,\"t\":70},\"showactive\":false,\"type\":\"buttons\",\"x\":0.1,\"xanchor\":\"right\",\"y\":0,\"yanchor\":\"top\"}],\"sliders\":[{\"active\":0,\"currentvalue\":{\"prefix\":\"date_mensuelle=\"},\"len\":0.9,\"pad\":{\"b\":10,\"t\":60},\"steps\":[{\"args\":[[\"2013-01-01\"],{\"frame\":{\"duration\":0,\"redraw\":false},\"mode\":\"immediate\",\"fromcurrent\":true,\"transition\":{\"duration\":0,\"easing\":\"linear\"}}],\"label\":\"2013-01-01\",\"method\":\"animate\"},{\"args\":[[\"2013-02-01\"],{\"frame\":{\"duration\":0,\"redraw\":false},\"mode\":\"immediate\",\"fromcurrent\":true,\"transition\":{\"duration\":0,\"easing\":\"linear\"}}],\"label\":\"2013-02-01\",\"method\":\"animate\"},{\"args\":[[\"2013-03-01\"],{\"frame\":{\"duration\":0,\"redraw\":false},\"mode\":\"immediate\",\"fromcurrent\":true,\"transition\":{\"duration\":0,\"easing\":\"linear\"}}],\"label\":\"2013-03-01\",\"method\":\"animate\"},{\"args\":[[\"2013-04-01\"],{\"frame\":{\"duration\":0,\"redraw\":false},\"mode\":\"immediate\",\"fromcurrent\":true,\"transition\":{\"duration\":0,\"easing\":\"linear\"}}],\"label\":\"2013-04-01\",\"method\":\"animate\"},{\"args\":[[\"2013-05-01\"],{\"frame\":{\"duration\":0,\"redraw\":false},\"mode\":\"immediate\",\"fromcurrent\":true,\"transition\":{\"duration\":0,\"easing\":\"linear\"}}],\"label\":\"2013-05-01\",\"method\":\"animate\"},{\"args\":[[\"2013-06-01\"],{\"frame\":{\"duration\":0,\"redraw\":false},\"mode\":\"immediate\",\"fromcurrent\":true,\"transition\":{\"duration\":0,\"easing\":\"linear\"}}],\"label\":\"2013-06-01\",\"method\":\"animate\"},{\"args\":[[\"2013-07-01\"],{\"frame\":{\"duration\":0,\"redraw\":false},\"mode\":\"immediate\",\"fromcurrent\":true,\"transition\":{\"duration\":0,\"easing\":\"linear\"}}],\"label\":\"2013-07-01\",\"method\":\"animate\"},{\"args\":[[\"2013-08-01\"],{\"frame\":{\"duration\":0,\"redraw\":false},\"mode\":\"immediate\",\"fromcurrent\":true,\"transition\":{\"duration\":0,\"easing\":\"linear\"}}],\"label\":\"2013-08-01\",\"method\":\"animate\"},{\"args\":[[\"2013-09-01\"],{\"frame\":{\"duration\":0,\"redraw\":false},\"mode\":\"immediate\",\"fromcurrent\":true,\"transition\":{\"duration\":0,\"easing\":\"linear\"}}],\"label\":\"2013-09-01\",\"method\":\"animate\"},{\"args\":[[\"2013-10-01\"],{\"frame\":{\"duration\":0,\"redraw\":false},\"mode\":\"immediate\",\"fromcurrent\":true,\"transition\":{\"duration\":0,\"easing\":\"linear\"}}],\"label\":\"2013-10-01\",\"method\":\"animate\"},{\"args\":[[\"2013-11-01\"],{\"frame\":{\"duration\":0,\"redraw\":false},\"mode\":\"immediate\",\"fromcurrent\":true,\"transition\":{\"duration\":0,\"easing\":\"linear\"}}],\"label\":\"2013-11-01\",\"method\":\"animate\"},{\"args\":[[\"2013-12-01\"],{\"frame\":{\"duration\":0,\"redraw\":false},\"mode\":\"immediate\",\"fromcurrent\":true,\"transition\":{\"duration\":0,\"easing\":\"linear\"}}],\"label\":\"2013-12-01\",\"method\":\"animate\"},{\"args\":[[\"2014-01-01\"],{\"frame\":{\"duration\":0,\"redraw\":false},\"mode\":\"immediate\",\"fromcurrent\":true,\"transition\":{\"duration\":0,\"easing\":\"linear\"}}],\"label\":\"2014-01-01\",\"method\":\"animate\"},{\"args\":[[\"2014-02-01\"],{\"frame\":{\"duration\":0,\"redraw\":false},\"mode\":\"immediate\",\"fromcurrent\":true,\"transition\":{\"duration\":0,\"easing\":\"linear\"}}],\"label\":\"2014-02-01\",\"method\":\"animate\"},{\"args\":[[\"2014-03-01\"],{\"frame\":{\"duration\":0,\"redraw\":false},\"mode\":\"immediate\",\"fromcurrent\":true,\"transition\":{\"duration\":0,\"easing\":\"linear\"}}],\"label\":\"2014-03-01\",\"method\":\"animate\"},{\"args\":[[\"2014-04-01\"],{\"frame\":{\"duration\":0,\"redraw\":false},\"mode\":\"immediate\",\"fromcurrent\":true,\"transition\":{\"duration\":0,\"easing\":\"linear\"}}],\"label\":\"2014-04-01\",\"method\":\"animate\"},{\"args\":[[\"2014-05-01\"],{\"frame\":{\"duration\":0,\"redraw\":false},\"mode\":\"immediate\",\"fromcurrent\":true,\"transition\":{\"duration\":0,\"easing\":\"linear\"}}],\"label\":\"2014-05-01\",\"method\":\"animate\"},{\"args\":[[\"2014-06-01\"],{\"frame\":{\"duration\":0,\"redraw\":false},\"mode\":\"immediate\",\"fromcurrent\":true,\"transition\":{\"duration\":0,\"easing\":\"linear\"}}],\"label\":\"2014-06-01\",\"method\":\"animate\"},{\"args\":[[\"2014-07-01\"],{\"frame\":{\"duration\":0,\"redraw\":false},\"mode\":\"immediate\",\"fromcurrent\":true,\"transition\":{\"duration\":0,\"easing\":\"linear\"}}],\"label\":\"2014-07-01\",\"method\":\"animate\"},{\"args\":[[\"2014-08-01\"],{\"frame\":{\"duration\":0,\"redraw\":false},\"mode\":\"immediate\",\"fromcurrent\":true,\"transition\":{\"duration\":0,\"easing\":\"linear\"}}],\"label\":\"2014-08-01\",\"method\":\"animate\"},{\"args\":[[\"2014-09-01\"],{\"frame\":{\"duration\":0,\"redraw\":false},\"mode\":\"immediate\",\"fromcurrent\":true,\"transition\":{\"duration\":0,\"easing\":\"linear\"}}],\"label\":\"2014-09-01\",\"method\":\"animate\"},{\"args\":[[\"2014-10-01\"],{\"frame\":{\"duration\":0,\"redraw\":false},\"mode\":\"immediate\",\"fromcurrent\":true,\"transition\":{\"duration\":0,\"easing\":\"linear\"}}],\"label\":\"2014-10-01\",\"method\":\"animate\"},{\"args\":[[\"2014-11-01\"],{\"frame\":{\"duration\":0,\"redraw\":false},\"mode\":\"immediate\",\"fromcurrent\":true,\"transition\":{\"duration\":0,\"easing\":\"linear\"}}],\"label\":\"2014-11-01\",\"method\":\"animate\"},{\"args\":[[\"2014-12-01\"],{\"frame\":{\"duration\":0,\"redraw\":false},\"mode\":\"immediate\",\"fromcurrent\":true,\"transition\":{\"duration\":0,\"easing\":\"linear\"}}],\"label\":\"2014-12-01\",\"method\":\"animate\"},{\"args\":[[\"2015-01-01\"],{\"frame\":{\"duration\":0,\"redraw\":false},\"mode\":\"immediate\",\"fromcurrent\":true,\"transition\":{\"duration\":0,\"easing\":\"linear\"}}],\"label\":\"2015-01-01\",\"method\":\"animate\"},{\"args\":[[\"2015-02-01\"],{\"frame\":{\"duration\":0,\"redraw\":false},\"mode\":\"immediate\",\"fromcurrent\":true,\"transition\":{\"duration\":0,\"easing\":\"linear\"}}],\"label\":\"2015-02-01\",\"method\":\"animate\"},{\"args\":[[\"2015-03-01\"],{\"frame\":{\"duration\":0,\"redraw\":false},\"mode\":\"immediate\",\"fromcurrent\":true,\"transition\":{\"duration\":0,\"easing\":\"linear\"}}],\"label\":\"2015-03-01\",\"method\":\"animate\"},{\"args\":[[\"2015-04-01\"],{\"frame\":{\"duration\":0,\"redraw\":false},\"mode\":\"immediate\",\"fromcurrent\":true,\"transition\":{\"duration\":0,\"easing\":\"linear\"}}],\"label\":\"2015-04-01\",\"method\":\"animate\"},{\"args\":[[\"2015-05-01\"],{\"frame\":{\"duration\":0,\"redraw\":false},\"mode\":\"immediate\",\"fromcurrent\":true,\"transition\":{\"duration\":0,\"easing\":\"linear\"}}],\"label\":\"2015-05-01\",\"method\":\"animate\"},{\"args\":[[\"2015-06-01\"],{\"frame\":{\"duration\":0,\"redraw\":false},\"mode\":\"immediate\",\"fromcurrent\":true,\"transition\":{\"duration\":0,\"easing\":\"linear\"}}],\"label\":\"2015-06-01\",\"method\":\"animate\"},{\"args\":[[\"2015-07-01\"],{\"frame\":{\"duration\":0,\"redraw\":false},\"mode\":\"immediate\",\"fromcurrent\":true,\"transition\":{\"duration\":0,\"easing\":\"linear\"}}],\"label\":\"2015-07-01\",\"method\":\"animate\"},{\"args\":[[\"2015-08-01\"],{\"frame\":{\"duration\":0,\"redraw\":false},\"mode\":\"immediate\",\"fromcurrent\":true,\"transition\":{\"duration\":0,\"easing\":\"linear\"}}],\"label\":\"2015-08-01\",\"method\":\"animate\"},{\"args\":[[\"2015-09-01\"],{\"frame\":{\"duration\":0,\"redraw\":false},\"mode\":\"immediate\",\"fromcurrent\":true,\"transition\":{\"duration\":0,\"easing\":\"linear\"}}],\"label\":\"2015-09-01\",\"method\":\"animate\"},{\"args\":[[\"2015-10-01\"],{\"frame\":{\"duration\":0,\"redraw\":false},\"mode\":\"immediate\",\"fromcurrent\":true,\"transition\":{\"duration\":0,\"easing\":\"linear\"}}],\"label\":\"2015-10-01\",\"method\":\"animate\"},{\"args\":[[\"2015-11-01\"],{\"frame\":{\"duration\":0,\"redraw\":false},\"mode\":\"immediate\",\"fromcurrent\":true,\"transition\":{\"duration\":0,\"easing\":\"linear\"}}],\"label\":\"2015-11-01\",\"method\":\"animate\"},{\"args\":[[\"2015-12-01\"],{\"frame\":{\"duration\":0,\"redraw\":false},\"mode\":\"immediate\",\"fromcurrent\":true,\"transition\":{\"duration\":0,\"easing\":\"linear\"}}],\"label\":\"2015-12-01\",\"method\":\"animate\"},{\"args\":[[\"2016-01-01\"],{\"frame\":{\"duration\":0,\"redraw\":false},\"mode\":\"immediate\",\"fromcurrent\":true,\"transition\":{\"duration\":0,\"easing\":\"linear\"}}],\"label\":\"2016-01-01\",\"method\":\"animate\"},{\"args\":[[\"2016-02-01\"],{\"frame\":{\"duration\":0,\"redraw\":false},\"mode\":\"immediate\",\"fromcurrent\":true,\"transition\":{\"duration\":0,\"easing\":\"linear\"}}],\"label\":\"2016-02-01\",\"method\":\"animate\"},{\"args\":[[\"2016-03-01\"],{\"frame\":{\"duration\":0,\"redraw\":false},\"mode\":\"immediate\",\"fromcurrent\":true,\"transition\":{\"duration\":0,\"easing\":\"linear\"}}],\"label\":\"2016-03-01\",\"method\":\"animate\"},{\"args\":[[\"2016-04-01\"],{\"frame\":{\"duration\":0,\"redraw\":false},\"mode\":\"immediate\",\"fromcurrent\":true,\"transition\":{\"duration\":0,\"easing\":\"linear\"}}],\"label\":\"2016-04-01\",\"method\":\"animate\"},{\"args\":[[\"2016-05-01\"],{\"frame\":{\"duration\":0,\"redraw\":false},\"mode\":\"immediate\",\"fromcurrent\":true,\"transition\":{\"duration\":0,\"easing\":\"linear\"}}],\"label\":\"2016-05-01\",\"method\":\"animate\"},{\"args\":[[\"2016-06-01\"],{\"frame\":{\"duration\":0,\"redraw\":false},\"mode\":\"immediate\",\"fromcurrent\":true,\"transition\":{\"duration\":0,\"easing\":\"linear\"}}],\"label\":\"2016-06-01\",\"method\":\"animate\"},{\"args\":[[\"2016-07-01\"],{\"frame\":{\"duration\":0,\"redraw\":false},\"mode\":\"immediate\",\"fromcurrent\":true,\"transition\":{\"duration\":0,\"easing\":\"linear\"}}],\"label\":\"2016-07-01\",\"method\":\"animate\"},{\"args\":[[\"2016-08-01\"],{\"frame\":{\"duration\":0,\"redraw\":false},\"mode\":\"immediate\",\"fromcurrent\":true,\"transition\":{\"duration\":0,\"easing\":\"linear\"}}],\"label\":\"2016-08-01\",\"method\":\"animate\"},{\"args\":[[\"2016-09-01\"],{\"frame\":{\"duration\":0,\"redraw\":false},\"mode\":\"immediate\",\"fromcurrent\":true,\"transition\":{\"duration\":0,\"easing\":\"linear\"}}],\"label\":\"2016-09-01\",\"method\":\"animate\"},{\"args\":[[\"2016-10-01\"],{\"frame\":{\"duration\":0,\"redraw\":false},\"mode\":\"immediate\",\"fromcurrent\":true,\"transition\":{\"duration\":0,\"easing\":\"linear\"}}],\"label\":\"2016-10-01\",\"method\":\"animate\"},{\"args\":[[\"2016-11-01\"],{\"frame\":{\"duration\":0,\"redraw\":false},\"mode\":\"immediate\",\"fromcurrent\":true,\"transition\":{\"duration\":0,\"easing\":\"linear\"}}],\"label\":\"2016-11-01\",\"method\":\"animate\"},{\"args\":[[\"2016-12-01\"],{\"frame\":{\"duration\":0,\"redraw\":false},\"mode\":\"immediate\",\"fromcurrent\":true,\"transition\":{\"duration\":0,\"easing\":\"linear\"}}],\"label\":\"2016-12-01\",\"method\":\"animate\"},{\"args\":[[\"2017-01-01\"],{\"frame\":{\"duration\":0,\"redraw\":false},\"mode\":\"immediate\",\"fromcurrent\":true,\"transition\":{\"duration\":0,\"easing\":\"linear\"}}],\"label\":\"2017-01-01\",\"method\":\"animate\"},{\"args\":[[\"2017-02-01\"],{\"frame\":{\"duration\":0,\"redraw\":false},\"mode\":\"immediate\",\"fromcurrent\":true,\"transition\":{\"duration\":0,\"easing\":\"linear\"}}],\"label\":\"2017-02-01\",\"method\":\"animate\"},{\"args\":[[\"2017-03-01\"],{\"frame\":{\"duration\":0,\"redraw\":false},\"mode\":\"immediate\",\"fromcurrent\":true,\"transition\":{\"duration\":0,\"easing\":\"linear\"}}],\"label\":\"2017-03-01\",\"method\":\"animate\"},{\"args\":[[\"2017-04-01\"],{\"frame\":{\"duration\":0,\"redraw\":false},\"mode\":\"immediate\",\"fromcurrent\":true,\"transition\":{\"duration\":0,\"easing\":\"linear\"}}],\"label\":\"2017-04-01\",\"method\":\"animate\"},{\"args\":[[\"2017-05-01\"],{\"frame\":{\"duration\":0,\"redraw\":false},\"mode\":\"immediate\",\"fromcurrent\":true,\"transition\":{\"duration\":0,\"easing\":\"linear\"}}],\"label\":\"2017-05-01\",\"method\":\"animate\"},{\"args\":[[\"2017-06-01\"],{\"frame\":{\"duration\":0,\"redraw\":false},\"mode\":\"immediate\",\"fromcurrent\":true,\"transition\":{\"duration\":0,\"easing\":\"linear\"}}],\"label\":\"2017-06-01\",\"method\":\"animate\"},{\"args\":[[\"2017-07-01\"],{\"frame\":{\"duration\":0,\"redraw\":false},\"mode\":\"immediate\",\"fromcurrent\":true,\"transition\":{\"duration\":0,\"easing\":\"linear\"}}],\"label\":\"2017-07-01\",\"method\":\"animate\"},{\"args\":[[\"2017-08-01\"],{\"frame\":{\"duration\":0,\"redraw\":false},\"mode\":\"immediate\",\"fromcurrent\":true,\"transition\":{\"duration\":0,\"easing\":\"linear\"}}],\"label\":\"2017-08-01\",\"method\":\"animate\"},{\"args\":[[\"2017-09-01\"],{\"frame\":{\"duration\":0,\"redraw\":false},\"mode\":\"immediate\",\"fromcurrent\":true,\"transition\":{\"duration\":0,\"easing\":\"linear\"}}],\"label\":\"2017-09-01\",\"method\":\"animate\"},{\"args\":[[\"2017-10-01\"],{\"frame\":{\"duration\":0,\"redraw\":false},\"mode\":\"immediate\",\"fromcurrent\":true,\"transition\":{\"duration\":0,\"easing\":\"linear\"}}],\"label\":\"2017-10-01\",\"method\":\"animate\"},{\"args\":[[\"2017-11-01\"],{\"frame\":{\"duration\":0,\"redraw\":false},\"mode\":\"immediate\",\"fromcurrent\":true,\"transition\":{\"duration\":0,\"easing\":\"linear\"}}],\"label\":\"2017-11-01\",\"method\":\"animate\"},{\"args\":[[\"2017-12-01\"],{\"frame\":{\"duration\":0,\"redraw\":false},\"mode\":\"immediate\",\"fromcurrent\":true,\"transition\":{\"duration\":0,\"easing\":\"linear\"}}],\"label\":\"2017-12-01\",\"method\":\"animate\"},{\"args\":[[\"2018-01-01\"],{\"frame\":{\"duration\":0,\"redraw\":false},\"mode\":\"immediate\",\"fromcurrent\":true,\"transition\":{\"duration\":0,\"easing\":\"linear\"}}],\"label\":\"2018-01-01\",\"method\":\"animate\"},{\"args\":[[\"2018-02-01\"],{\"frame\":{\"duration\":0,\"redraw\":false},\"mode\":\"immediate\",\"fromcurrent\":true,\"transition\":{\"duration\":0,\"easing\":\"linear\"}}],\"label\":\"2018-02-01\",\"method\":\"animate\"},{\"args\":[[\"2018-03-01\"],{\"frame\":{\"duration\":0,\"redraw\":false},\"mode\":\"immediate\",\"fromcurrent\":true,\"transition\":{\"duration\":0,\"easing\":\"linear\"}}],\"label\":\"2018-03-01\",\"method\":\"animate\"},{\"args\":[[\"2018-04-01\"],{\"frame\":{\"duration\":0,\"redraw\":false},\"mode\":\"immediate\",\"fromcurrent\":true,\"transition\":{\"duration\":0,\"easing\":\"linear\"}}],\"label\":\"2018-04-01\",\"method\":\"animate\"},{\"args\":[[\"2018-05-01\"],{\"frame\":{\"duration\":0,\"redraw\":false},\"mode\":\"immediate\",\"fromcurrent\":true,\"transition\":{\"duration\":0,\"easing\":\"linear\"}}],\"label\":\"2018-05-01\",\"method\":\"animate\"},{\"args\":[[\"2018-06-01\"],{\"frame\":{\"duration\":0,\"redraw\":false},\"mode\":\"immediate\",\"fromcurrent\":true,\"transition\":{\"duration\":0,\"easing\":\"linear\"}}],\"label\":\"2018-06-01\",\"method\":\"animate\"},{\"args\":[[\"2018-07-01\"],{\"frame\":{\"duration\":0,\"redraw\":false},\"mode\":\"immediate\",\"fromcurrent\":true,\"transition\":{\"duration\":0,\"easing\":\"linear\"}}],\"label\":\"2018-07-01\",\"method\":\"animate\"},{\"args\":[[\"2018-08-01\"],{\"frame\":{\"duration\":0,\"redraw\":false},\"mode\":\"immediate\",\"fromcurrent\":true,\"transition\":{\"duration\":0,\"easing\":\"linear\"}}],\"label\":\"2018-08-01\",\"method\":\"animate\"},{\"args\":[[\"2018-09-01\"],{\"frame\":{\"duration\":0,\"redraw\":false},\"mode\":\"immediate\",\"fromcurrent\":true,\"transition\":{\"duration\":0,\"easing\":\"linear\"}}],\"label\":\"2018-09-01\",\"method\":\"animate\"},{\"args\":[[\"2018-10-01\"],{\"frame\":{\"duration\":0,\"redraw\":false},\"mode\":\"immediate\",\"fromcurrent\":true,\"transition\":{\"duration\":0,\"easing\":\"linear\"}}],\"label\":\"2018-10-01\",\"method\":\"animate\"},{\"args\":[[\"2018-11-01\"],{\"frame\":{\"duration\":0,\"redraw\":false},\"mode\":\"immediate\",\"fromcurrent\":true,\"transition\":{\"duration\":0,\"easing\":\"linear\"}}],\"label\":\"2018-11-01\",\"method\":\"animate\"},{\"args\":[[\"2018-12-01\"],{\"frame\":{\"duration\":0,\"redraw\":false},\"mode\":\"immediate\",\"fromcurrent\":true,\"transition\":{\"duration\":0,\"easing\":\"linear\"}}],\"label\":\"2018-12-01\",\"method\":\"animate\"},{\"args\":[[\"2019-01-01\"],{\"frame\":{\"duration\":0,\"redraw\":false},\"mode\":\"immediate\",\"fromcurrent\":true,\"transition\":{\"duration\":0,\"easing\":\"linear\"}}],\"label\":\"2019-01-01\",\"method\":\"animate\"},{\"args\":[[\"2019-02-01\"],{\"frame\":{\"duration\":0,\"redraw\":false},\"mode\":\"immediate\",\"fromcurrent\":true,\"transition\":{\"duration\":0,\"easing\":\"linear\"}}],\"label\":\"2019-02-01\",\"method\":\"animate\"},{\"args\":[[\"2019-03-01\"],{\"frame\":{\"duration\":0,\"redraw\":false},\"mode\":\"immediate\",\"fromcurrent\":true,\"transition\":{\"duration\":0,\"easing\":\"linear\"}}],\"label\":\"2019-03-01\",\"method\":\"animate\"},{\"args\":[[\"2019-04-01\"],{\"frame\":{\"duration\":0,\"redraw\":false},\"mode\":\"immediate\",\"fromcurrent\":true,\"transition\":{\"duration\":0,\"easing\":\"linear\"}}],\"label\":\"2019-04-01\",\"method\":\"animate\"},{\"args\":[[\"2019-05-01\"],{\"frame\":{\"duration\":0,\"redraw\":false},\"mode\":\"immediate\",\"fromcurrent\":true,\"transition\":{\"duration\":0,\"easing\":\"linear\"}}],\"label\":\"2019-05-01\",\"method\":\"animate\"},{\"args\":[[\"2019-06-01\"],{\"frame\":{\"duration\":0,\"redraw\":false},\"mode\":\"immediate\",\"fromcurrent\":true,\"transition\":{\"duration\":0,\"easing\":\"linear\"}}],\"label\":\"2019-06-01\",\"method\":\"animate\"},{\"args\":[[\"2019-07-01\"],{\"frame\":{\"duration\":0,\"redraw\":false},\"mode\":\"immediate\",\"fromcurrent\":true,\"transition\":{\"duration\":0,\"easing\":\"linear\"}}],\"label\":\"2019-07-01\",\"method\":\"animate\"},{\"args\":[[\"2019-08-01\"],{\"frame\":{\"duration\":0,\"redraw\":false},\"mode\":\"immediate\",\"fromcurrent\":true,\"transition\":{\"duration\":0,\"easing\":\"linear\"}}],\"label\":\"2019-08-01\",\"method\":\"animate\"},{\"args\":[[\"2019-09-01\"],{\"frame\":{\"duration\":0,\"redraw\":false},\"mode\":\"immediate\",\"fromcurrent\":true,\"transition\":{\"duration\":0,\"easing\":\"linear\"}}],\"label\":\"2019-09-01\",\"method\":\"animate\"},{\"args\":[[\"2019-10-01\"],{\"frame\":{\"duration\":0,\"redraw\":false},\"mode\":\"immediate\",\"fromcurrent\":true,\"transition\":{\"duration\":0,\"easing\":\"linear\"}}],\"label\":\"2019-10-01\",\"method\":\"animate\"},{\"args\":[[\"2019-11-01\"],{\"frame\":{\"duration\":0,\"redraw\":false},\"mode\":\"immediate\",\"fromcurrent\":true,\"transition\":{\"duration\":0,\"easing\":\"linear\"}}],\"label\":\"2019-11-01\",\"method\":\"animate\"},{\"args\":[[\"2019-12-01\"],{\"frame\":{\"duration\":0,\"redraw\":false},\"mode\":\"immediate\",\"fromcurrent\":true,\"transition\":{\"duration\":0,\"easing\":\"linear\"}}],\"label\":\"2019-12-01\",\"method\":\"animate\"},{\"args\":[[\"2020-01-01\"],{\"frame\":{\"duration\":0,\"redraw\":false},\"mode\":\"immediate\",\"fromcurrent\":true,\"transition\":{\"duration\":0,\"easing\":\"linear\"}}],\"label\":\"2020-01-01\",\"method\":\"animate\"},{\"args\":[[\"2020-02-01\"],{\"frame\":{\"duration\":0,\"redraw\":false},\"mode\":\"immediate\",\"fromcurrent\":true,\"transition\":{\"duration\":0,\"easing\":\"linear\"}}],\"label\":\"2020-02-01\",\"method\":\"animate\"},{\"args\":[[\"2020-03-01\"],{\"frame\":{\"duration\":0,\"redraw\":false},\"mode\":\"immediate\",\"fromcurrent\":true,\"transition\":{\"duration\":0,\"easing\":\"linear\"}}],\"label\":\"2020-03-01\",\"method\":\"animate\"},{\"args\":[[\"2020-04-01\"],{\"frame\":{\"duration\":0,\"redraw\":false},\"mode\":\"immediate\",\"fromcurrent\":true,\"transition\":{\"duration\":0,\"easing\":\"linear\"}}],\"label\":\"2020-04-01\",\"method\":\"animate\"},{\"args\":[[\"2020-05-01\"],{\"frame\":{\"duration\":0,\"redraw\":false},\"mode\":\"immediate\",\"fromcurrent\":true,\"transition\":{\"duration\":0,\"easing\":\"linear\"}}],\"label\":\"2020-05-01\",\"method\":\"animate\"},{\"args\":[[\"2020-06-01\"],{\"frame\":{\"duration\":0,\"redraw\":false},\"mode\":\"immediate\",\"fromcurrent\":true,\"transition\":{\"duration\":0,\"easing\":\"linear\"}}],\"label\":\"2020-06-01\",\"method\":\"animate\"},{\"args\":[[\"2020-07-01\"],{\"frame\":{\"duration\":0,\"redraw\":false},\"mode\":\"immediate\",\"fromcurrent\":true,\"transition\":{\"duration\":0,\"easing\":\"linear\"}}],\"label\":\"2020-07-01\",\"method\":\"animate\"},{\"args\":[[\"2020-08-01\"],{\"frame\":{\"duration\":0,\"redraw\":false},\"mode\":\"immediate\",\"fromcurrent\":true,\"transition\":{\"duration\":0,\"easing\":\"linear\"}}],\"label\":\"2020-08-01\",\"method\":\"animate\"},{\"args\":[[\"2020-09-01\"],{\"frame\":{\"duration\":0,\"redraw\":false},\"mode\":\"immediate\",\"fromcurrent\":true,\"transition\":{\"duration\":0,\"easing\":\"linear\"}}],\"label\":\"2020-09-01\",\"method\":\"animate\"},{\"args\":[[\"2020-10-01\"],{\"frame\":{\"duration\":0,\"redraw\":false},\"mode\":\"immediate\",\"fromcurrent\":true,\"transition\":{\"duration\":0,\"easing\":\"linear\"}}],\"label\":\"2020-10-01\",\"method\":\"animate\"},{\"args\":[[\"2020-11-01\"],{\"frame\":{\"duration\":0,\"redraw\":false},\"mode\":\"immediate\",\"fromcurrent\":true,\"transition\":{\"duration\":0,\"easing\":\"linear\"}}],\"label\":\"2020-11-01\",\"method\":\"animate\"},{\"args\":[[\"2020-12-01\"],{\"frame\":{\"duration\":0,\"redraw\":false},\"mode\":\"immediate\",\"fromcurrent\":true,\"transition\":{\"duration\":0,\"easing\":\"linear\"}}],\"label\":\"2020-12-01\",\"method\":\"animate\"}],\"x\":0.1,\"xanchor\":\"left\",\"y\":0,\"yanchor\":\"top\"}]},                        {\"responsive\": true}                    ).then(function(){\n                            Plotly.addFrames('062d69e7-a924-43f7-9820-4d41ac0aa9e8', [{\"data\":[{\"hovertemplate\":\"date_mensuelle=%{x}\\u003cbr\\u003eTARGET=%{y}\\u003cextra\\u003e\\u003c\\u002fextra\\u003e\",\"ids\":[0.1041069723018147,0.06436567164179105],\"legendgroup\":\"\",\"line\":{\"color\":\"#636efa\",\"dash\":\"solid\"},\"marker\":{\"symbol\":\"circle\"},\"mode\":\"lines\",\"name\":\"\",\"orientation\":\"v\",\"showlegend\":false,\"x\":[\"2013-01-01\",\"2013-01-01\"],\"xaxis\":\"x\",\"y\":[0.1041069723018147,0.06436567164179105],\"yaxis\":\"y\",\"type\":\"scatter\"}],\"name\":\"2013-01-01\"},{\"data\":[{\"hovertemplate\":\"date_mensuelle=%{x}\\u003cbr\\u003eTARGET=%{y}\\u003cextra\\u003e\\u003c\\u002fextra\\u003e\",\"ids\":[0.08783783783783784,0.07453703703703704],\"legendgroup\":\"\",\"line\":{\"color\":\"#636efa\",\"dash\":\"solid\"},\"marker\":{\"symbol\":\"circle\"},\"mode\":\"lines\",\"name\":\"\",\"orientation\":\"v\",\"showlegend\":false,\"x\":[\"2013-02-01\",\"2013-02-01\"],\"xaxis\":\"x\",\"y\":[0.08783783783783784,0.07453703703703704],\"yaxis\":\"y\",\"type\":\"scatter\"}],\"name\":\"2013-02-01\"},{\"data\":[{\"hovertemplate\":\"date_mensuelle=%{x}\\u003cbr\\u003eTARGET=%{y}\\u003cextra\\u003e\\u003c\\u002fextra\\u003e\",\"ids\":[0.103515625,0.06678949792722248],\"legendgroup\":\"\",\"line\":{\"color\":\"#636efa\",\"dash\":\"solid\"},\"marker\":{\"symbol\":\"circle\"},\"mode\":\"lines\",\"name\":\"\",\"orientation\":\"v\",\"showlegend\":false,\"x\":[\"2013-03-01\",\"2013-03-01\"],\"xaxis\":\"x\",\"y\":[0.103515625,0.06678949792722248],\"yaxis\":\"y\",\"type\":\"scatter\"}],\"name\":\"2013-03-01\"},{\"data\":[{\"hovertemplate\":\"date_mensuelle=%{x}\\u003cbr\\u003eTARGET=%{y}\\u003cextra\\u003e\\u003c\\u002fextra\\u003e\",\"ids\":[0.07866273352999016,0.07724137931034483],\"legendgroup\":\"\",\"line\":{\"color\":\"#636efa\",\"dash\":\"solid\"},\"marker\":{\"symbol\":\"circle\"},\"mode\":\"lines\",\"name\":\"\",\"orientation\":\"v\",\"showlegend\":false,\"x\":[\"2013-04-01\",\"2013-04-01\"],\"xaxis\":\"x\",\"y\":[0.07866273352999016,0.07724137931034483],\"yaxis\":\"y\",\"type\":\"scatter\"}],\"name\":\"2013-04-01\"},{\"data\":[{\"hovertemplate\":\"date_mensuelle=%{x}\\u003cbr\\u003eTARGET=%{y}\\u003cextra\\u003e\\u003c\\u002fextra\\u003e\",\"ids\":[0.09840674789128398,0.06992022524636321],\"legendgroup\":\"\",\"line\":{\"color\":\"#636efa\",\"dash\":\"solid\"},\"marker\":{\"symbol\":\"circle\"},\"mode\":\"lines\",\"name\":\"\",\"orientation\":\"v\",\"showlegend\":false,\"x\":[\"2013-05-01\",\"2013-05-01\"],\"xaxis\":\"x\",\"y\":[0.09840674789128398,0.06992022524636321],\"yaxis\":\"y\",\"type\":\"scatter\"}],\"name\":\"2013-05-01\"},{\"data\":[{\"hovertemplate\":\"date_mensuelle=%{x}\\u003cbr\\u003eTARGET=%{y}\\u003cextra\\u003e\\u003c\\u002fextra\\u003e\",\"ids\":[0.0915032679738562,0.07072135785007072],\"legendgroup\":\"\",\"line\":{\"color\":\"#636efa\",\"dash\":\"solid\"},\"marker\":{\"symbol\":\"circle\"},\"mode\":\"lines\",\"name\":\"\",\"orientation\":\"v\",\"showlegend\":false,\"x\":[\"2013-06-01\",\"2013-06-01\"],\"xaxis\":\"x\",\"y\":[0.0915032679738562,0.07072135785007072],\"yaxis\":\"y\",\"type\":\"scatter\"}],\"name\":\"2013-06-01\"},{\"data\":[{\"hovertemplate\":\"date_mensuelle=%{x}\\u003cbr\\u003eTARGET=%{y}\\u003cextra\\u003e\\u003c\\u002fextra\\u003e\",\"ids\":[0.10029498525073746,0.06712643678160919],\"legendgroup\":\"\",\"line\":{\"color\":\"#636efa\",\"dash\":\"solid\"},\"marker\":{\"symbol\":\"circle\"},\"mode\":\"lines\",\"name\":\"\",\"orientation\":\"v\",\"showlegend\":false,\"x\":[\"2013-07-01\",\"2013-07-01\"],\"xaxis\":\"x\",\"y\":[0.10029498525073746,0.06712643678160919],\"yaxis\":\"y\",\"type\":\"scatter\"}],\"name\":\"2013-07-01\"},{\"data\":[{\"hovertemplate\":\"date_mensuelle=%{x}\\u003cbr\\u003eTARGET=%{y}\\u003cextra\\u003e\\u003c\\u002fextra\\u003e\",\"ids\":[0.09322865554465162,0.07211759301791457],\"legendgroup\":\"\",\"line\":{\"color\":\"#636efa\",\"dash\":\"solid\"},\"marker\":{\"symbol\":\"circle\"},\"mode\":\"lines\",\"name\":\"\",\"orientation\":\"v\",\"showlegend\":false,\"x\":[\"2013-08-01\",\"2013-08-01\"],\"xaxis\":\"x\",\"y\":[0.09322865554465162,0.07211759301791457],\"yaxis\":\"y\",\"type\":\"scatter\"}],\"name\":\"2013-08-01\"},{\"data\":[{\"hovertemplate\":\"date_mensuelle=%{x}\\u003cbr\\u003eTARGET=%{y}\\u003cextra\\u003e\\u003c\\u002fextra\\u003e\",\"ids\":[0.08522727272727272,0.07613264829518916],\"legendgroup\":\"\",\"line\":{\"color\":\"#636efa\",\"dash\":\"solid\"},\"marker\":{\"symbol\":\"circle\"},\"mode\":\"lines\",\"name\":\"\",\"orientation\":\"v\",\"showlegend\":false,\"x\":[\"2013-09-01\",\"2013-09-01\"],\"xaxis\":\"x\",\"y\":[0.08522727272727272,0.07613264829518916],\"yaxis\":\"y\",\"type\":\"scatter\"}],\"name\":\"2013-09-01\"},{\"data\":[{\"hovertemplate\":\"date_mensuelle=%{x}\\u003cbr\\u003eTARGET=%{y}\\u003cextra\\u003e\\u003c\\u002fextra\\u003e\",\"ids\":[0.08745247148288973,0.07159569489939167],\"legendgroup\":\"\",\"line\":{\"color\":\"#636efa\",\"dash\":\"solid\"},\"marker\":{\"symbol\":\"circle\"},\"mode\":\"lines\",\"name\":\"\",\"orientation\":\"v\",\"showlegend\":false,\"x\":[\"2013-10-01\",\"2013-10-01\"],\"xaxis\":\"x\",\"y\":[0.08745247148288973,0.07159569489939167],\"yaxis\":\"y\",\"type\":\"scatter\"}],\"name\":\"2013-10-01\"},{\"data\":[{\"hovertemplate\":\"date_mensuelle=%{x}\\u003cbr\\u003eTARGET=%{y}\\u003cextra\\u003e\\u003c\\u002fextra\\u003e\",\"ids\":[0.08245445829338446,0.07710171853228054],\"legendgroup\":\"\",\"line\":{\"color\":\"#636efa\",\"dash\":\"solid\"},\"marker\":{\"symbol\":\"circle\"},\"mode\":\"lines\",\"name\":\"\",\"orientation\":\"v\",\"showlegend\":false,\"x\":[\"2013-11-01\",\"2013-11-01\"],\"xaxis\":\"x\",\"y\":[0.08245445829338446,0.07710171853228054],\"yaxis\":\"y\",\"type\":\"scatter\"}],\"name\":\"2013-11-01\"},{\"data\":[{\"hovertemplate\":\"date_mensuelle=%{x}\\u003cbr\\u003eTARGET=%{y}\\u003cextra\\u003e\\u003c\\u002fextra\\u003e\",\"ids\":[0.0879848628192999,0.07390084190832553],\"legendgroup\":\"\",\"line\":{\"color\":\"#636efa\",\"dash\":\"solid\"},\"marker\":{\"symbol\":\"circle\"},\"mode\":\"lines\",\"name\":\"\",\"orientation\":\"v\",\"showlegend\":false,\"x\":[\"2013-12-01\",\"2013-12-01\"],\"xaxis\":\"x\",\"y\":[0.0879848628192999,0.07390084190832553],\"yaxis\":\"y\",\"type\":\"scatter\"}],\"name\":\"2013-12-01\"},{\"data\":[{\"hovertemplate\":\"date_mensuelle=%{x}\\u003cbr\\u003eTARGET=%{y}\\u003cextra\\u003e\\u003c\\u002fextra\\u003e\",\"ids\":[0.09591642924976258,0.06959364782811771],\"legendgroup\":\"\",\"line\":{\"color\":\"#636efa\",\"dash\":\"solid\"},\"marker\":{\"symbol\":\"circle\"},\"mode\":\"lines\",\"name\":\"\",\"orientation\":\"v\",\"showlegend\":false,\"x\":[\"2014-01-01\",\"2014-01-01\"],\"xaxis\":\"x\",\"y\":[0.09591642924976258,0.06959364782811771],\"yaxis\":\"y\",\"type\":\"scatter\"}],\"name\":\"2014-01-01\"},{\"data\":[{\"hovertemplate\":\"date_mensuelle=%{x}\\u003cbr\\u003eTARGET=%{y}\\u003cextra\\u003e\\u003c\\u002fextra\\u003e\",\"ids\":[0.07736943907156674,0.07955596669750231],\"legendgroup\":\"\",\"line\":{\"color\":\"#636efa\",\"dash\":\"solid\"},\"marker\":{\"symbol\":\"circle\"},\"mode\":\"lines\",\"name\":\"\",\"orientation\":\"v\",\"showlegend\":false,\"x\":[\"2014-02-01\",\"2014-02-01\"],\"xaxis\":\"x\",\"y\":[0.07736943907156674,0.07955596669750231],\"yaxis\":\"y\",\"type\":\"scatter\"}],\"name\":\"2014-02-01\"},{\"data\":[{\"hovertemplate\":\"date_mensuelle=%{x}\\u003cbr\\u003eTARGET=%{y}\\u003cextra\\u003e\\u003c\\u002fextra\\u003e\",\"ids\":[0.09401709401709402,0.06965871902758299],\"legendgroup\":\"\",\"line\":{\"color\":\"#636efa\",\"dash\":\"solid\"},\"marker\":{\"symbol\":\"circle\"},\"mode\":\"lines\",\"name\":\"\",\"orientation\":\"v\",\"showlegend\":false,\"x\":[\"2014-03-01\",\"2014-03-01\"],\"xaxis\":\"x\",\"y\":[0.09401709401709402,0.06965871902758299],\"yaxis\":\"y\",\"type\":\"scatter\"}],\"name\":\"2014-03-01\"},{\"data\":[{\"hovertemplate\":\"date_mensuelle=%{x}\\u003cbr\\u003eTARGET=%{y}\\u003cextra\\u003e\\u003c\\u002fextra\\u003e\",\"ids\":[0.0987535953978907,0.06790697674418604],\"legendgroup\":\"\",\"line\":{\"color\":\"#636efa\",\"dash\":\"solid\"},\"marker\":{\"symbol\":\"circle\"},\"mode\":\"lines\",\"name\":\"\",\"orientation\":\"v\",\"showlegend\":false,\"x\":[\"2014-04-01\",\"2014-04-01\"],\"xaxis\":\"x\",\"y\":[0.0987535953978907,0.06790697674418604],\"yaxis\":\"y\",\"type\":\"scatter\"}],\"name\":\"2014-04-01\"},{\"data\":[{\"hovertemplate\":\"date_mensuelle=%{x}\\u003cbr\\u003eTARGET=%{y}\\u003cextra\\u003e\\u003c\\u002fextra\\u003e\",\"ids\":[0.08169291338582677,0.07709958696649839],\"legendgroup\":\"\",\"line\":{\"color\":\"#636efa\",\"dash\":\"solid\"},\"marker\":{\"symbol\":\"circle\"},\"mode\":\"lines\",\"name\":\"\",\"orientation\":\"v\",\"showlegend\":false,\"x\":[\"2014-05-01\",\"2014-05-01\"],\"xaxis\":\"x\",\"y\":[0.08169291338582677,0.07709958696649839],\"yaxis\":\"y\",\"type\":\"scatter\"}],\"name\":\"2014-05-01\"},{\"data\":[{\"hovertemplate\":\"date_mensuelle=%{x}\\u003cbr\\u003eTARGET=%{y}\\u003cextra\\u003e\\u003c\\u002fextra\\u003e\",\"ids\":[0.07247796278158668,0.08183908045977012],\"legendgroup\":\"\",\"line\":{\"color\":\"#636efa\",\"dash\":\"solid\"},\"marker\":{\"symbol\":\"circle\"},\"mode\":\"lines\",\"name\":\"\",\"orientation\":\"v\",\"showlegend\":false,\"x\":[\"2014-06-01\",\"2014-06-01\"],\"xaxis\":\"x\",\"y\":[0.07247796278158668,0.08183908045977012],\"yaxis\":\"y\",\"type\":\"scatter\"}],\"name\":\"2014-06-01\"},{\"data\":[{\"hovertemplate\":\"date_mensuelle=%{x}\\u003cbr\\u003eTARGET=%{y}\\u003cextra\\u003e\\u003c\\u002fextra\\u003e\",\"ids\":[0.08486017357762778,0.07467532467532467],\"legendgroup\":\"\",\"line\":{\"color\":\"#636efa\",\"dash\":\"solid\"},\"marker\":{\"symbol\":\"circle\"},\"mode\":\"lines\",\"name\":\"\",\"orientation\":\"v\",\"showlegend\":false,\"x\":[\"2014-07-01\",\"2014-07-01\"],\"xaxis\":\"x\",\"y\":[0.08486017357762778,0.07467532467532467],\"yaxis\":\"y\",\"type\":\"scatter\"}],\"name\":\"2014-07-01\"},{\"data\":[{\"hovertemplate\":\"date_mensuelle=%{x}\\u003cbr\\u003eTARGET=%{y}\\u003cextra\\u003e\\u003c\\u002fextra\\u003e\",\"ids\":[0.08695652173913043,0.07353608715388107],\"legendgroup\":\"\",\"line\":{\"color\":\"#636efa\",\"dash\":\"solid\"},\"marker\":{\"symbol\":\"circle\"},\"mode\":\"lines\",\"name\":\"\",\"orientation\":\"v\",\"showlegend\":false,\"x\":[\"2014-08-01\",\"2014-08-01\"],\"xaxis\":\"x\",\"y\":[0.08695652173913043,0.07353608715388107],\"yaxis\":\"y\",\"type\":\"scatter\"}],\"name\":\"2014-08-01\"},{\"data\":[{\"hovertemplate\":\"date_mensuelle=%{x}\\u003cbr\\u003eTARGET=%{y}\\u003cextra\\u003e\\u003c\\u002fextra\\u003e\",\"ids\":[0.093841642228739,0.07050691244239632],\"legendgroup\":\"\",\"line\":{\"color\":\"#636efa\",\"dash\":\"solid\"},\"marker\":{\"symbol\":\"circle\"},\"mode\":\"lines\",\"name\":\"\",\"orientation\":\"v\",\"showlegend\":false,\"x\":[\"2014-09-01\",\"2014-09-01\"],\"xaxis\":\"x\",\"y\":[0.093841642228739,0.07050691244239632],\"yaxis\":\"y\",\"type\":\"scatter\"}],\"name\":\"2014-09-01\"},{\"data\":[{\"hovertemplate\":\"date_mensuelle=%{x}\\u003cbr\\u003eTARGET=%{y}\\u003cextra\\u003e\\u003c\\u002fextra\\u003e\",\"ids\":[0.09633911368015415,0.07086614173228346],\"legendgroup\":\"\",\"line\":{\"color\":\"#636efa\",\"dash\":\"solid\"},\"marker\":{\"symbol\":\"circle\"},\"mode\":\"lines\",\"name\":\"\",\"orientation\":\"v\",\"showlegend\":false,\"x\":[\"2014-10-01\",\"2014-10-01\"],\"xaxis\":\"x\",\"y\":[0.09633911368015415,0.07086614173228346],\"yaxis\":\"y\",\"type\":\"scatter\"}],\"name\":\"2014-10-01\"},{\"data\":[{\"hovertemplate\":\"date_mensuelle=%{x}\\u003cbr\\u003eTARGET=%{y}\\u003cextra\\u003e\\u003c\\u002fextra\\u003e\",\"ids\":[0.09746588693957114,0.06961733517750116],\"legendgroup\":\"\",\"line\":{\"color\":\"#636efa\",\"dash\":\"solid\"},\"marker\":{\"symbol\":\"circle\"},\"mode\":\"lines\",\"name\":\"\",\"orientation\":\"v\",\"showlegend\":false,\"x\":[\"2014-11-01\",\"2014-11-01\"],\"xaxis\":\"x\",\"y\":[0.09746588693957114,0.06961733517750116],\"yaxis\":\"y\",\"type\":\"scatter\"}],\"name\":\"2014-11-01\"},{\"data\":[{\"hovertemplate\":\"date_mensuelle=%{x}\\u003cbr\\u003eTARGET=%{y}\\u003cextra\\u003e\\u003c\\u002fextra\\u003e\",\"ids\":[0.10102899906454631,0.06857679661813058],\"legendgroup\":\"\",\"line\":{\"color\":\"#636efa\",\"dash\":\"solid\"},\"marker\":{\"symbol\":\"circle\"},\"mode\":\"lines\",\"name\":\"\",\"orientation\":\"v\",\"showlegend\":false,\"x\":[\"2014-12-01\",\"2014-12-01\"],\"xaxis\":\"x\",\"y\":[0.10102899906454631,0.06857679661813058],\"yaxis\":\"y\",\"type\":\"scatter\"}],\"name\":\"2014-12-01\"},{\"data\":[{\"hovertemplate\":\"date_mensuelle=%{x}\\u003cbr\\u003eTARGET=%{y}\\u003cextra\\u003e\\u003c\\u002fextra\\u003e\",\"ids\":[0.07841239109390126,0.07948243992606285],\"legendgroup\":\"\",\"line\":{\"color\":\"#636efa\",\"dash\":\"solid\"},\"marker\":{\"symbol\":\"circle\"},\"mode\":\"lines\",\"name\":\"\",\"orientation\":\"v\",\"showlegend\":false,\"x\":[\"2015-01-01\",\"2015-01-01\"],\"xaxis\":\"x\",\"y\":[0.07841239109390126,0.07948243992606285],\"yaxis\":\"y\",\"type\":\"scatter\"}],\"name\":\"2015-01-01\"},{\"data\":[{\"hovertemplate\":\"date_mensuelle=%{x}\\u003cbr\\u003eTARGET=%{y}\\u003cextra\\u003e\\u003c\\u002fextra\\u003e\",\"ids\":[0.09284332688588008,0.07086614173228346],\"legendgroup\":\"\",\"line\":{\"color\":\"#636efa\",\"dash\":\"solid\"},\"marker\":{\"symbol\":\"circle\"},\"mode\":\"lines\",\"name\":\"\",\"orientation\":\"v\",\"showlegend\":false,\"x\":[\"2015-02-01\",\"2015-02-01\"],\"xaxis\":\"x\",\"y\":[0.09284332688588008,0.07086614173228346],\"yaxis\":\"y\",\"type\":\"scatter\"}],\"name\":\"2015-02-01\"},{\"data\":[{\"hovertemplate\":\"date_mensuelle=%{x}\\u003cbr\\u003eTARGET=%{y}\\u003cextra\\u003e\\u003c\\u002fextra\\u003e\",\"ids\":[0.09159584513692162,0.07079231129864041],\"legendgroup\":\"\",\"line\":{\"color\":\"#636efa\",\"dash\":\"solid\"},\"marker\":{\"symbol\":\"circle\"},\"mode\":\"lines\",\"name\":\"\",\"orientation\":\"v\",\"showlegend\":false,\"x\":[\"2015-03-01\",\"2015-03-01\"],\"xaxis\":\"x\",\"y\":[0.09159584513692162,0.07079231129864041],\"yaxis\":\"y\",\"type\":\"scatter\"}],\"name\":\"2015-03-01\"},{\"data\":[{\"hovertemplate\":\"date_mensuelle=%{x}\\u003cbr\\u003eTARGET=%{y}\\u003cextra\\u003e\\u003c\\u002fextra\\u003e\",\"ids\":[0.08703878902554399,0.07393542349087506],\"legendgroup\":\"\",\"line\":{\"color\":\"#636efa\",\"dash\":\"solid\"},\"marker\":{\"symbol\":\"circle\"},\"mode\":\"lines\",\"name\":\"\",\"orientation\":\"v\",\"showlegend\":false,\"x\":[\"2015-04-01\",\"2015-04-01\"],\"xaxis\":\"x\",\"y\":[0.08703878902554399,0.07393542349087506],\"yaxis\":\"y\",\"type\":\"scatter\"}],\"name\":\"2015-04-01\"},{\"data\":[{\"hovertemplate\":\"date_mensuelle=%{x}\\u003cbr\\u003eTARGET=%{y}\\u003cextra\\u003e\\u003c\\u002fextra\\u003e\",\"ids\":[0.09125475285171103,0.07232851143257116],\"legendgroup\":\"\",\"line\":{\"color\":\"#636efa\",\"dash\":\"solid\"},\"marker\":{\"symbol\":\"circle\"},\"mode\":\"lines\",\"name\":\"\",\"orientation\":\"v\",\"showlegend\":false,\"x\":[\"2015-05-01\",\"2015-05-01\"],\"xaxis\":\"x\",\"y\":[0.09125475285171103,0.07232851143257116],\"yaxis\":\"y\",\"type\":\"scatter\"}],\"name\":\"2015-05-01\"},{\"data\":[{\"hovertemplate\":\"date_mensuelle=%{x}\\u003cbr\\u003eTARGET=%{y}\\u003cextra\\u003e\\u003c\\u002fextra\\u003e\",\"ids\":[0.08284600389863547,0.07568066451315182],\"legendgroup\":\"\",\"line\":{\"color\":\"#636efa\",\"dash\":\"solid\"},\"marker\":{\"symbol\":\"circle\"},\"mode\":\"lines\",\"name\":\"\",\"orientation\":\"v\",\"showlegend\":false,\"x\":[\"2015-06-01\",\"2015-06-01\"],\"xaxis\":\"x\",\"y\":[0.08284600389863547,0.07568066451315182],\"yaxis\":\"y\",\"type\":\"scatter\"}],\"name\":\"2015-06-01\"},{\"data\":[{\"hovertemplate\":\"date_mensuelle=%{x}\\u003cbr\\u003eTARGET=%{y}\\u003cextra\\u003e\\u003c\\u002fextra\\u003e\",\"ids\":[0.09090909090909091,0.0714615029967727],\"legendgroup\":\"\",\"line\":{\"color\":\"#636efa\",\"dash\":\"solid\"},\"marker\":{\"symbol\":\"circle\"},\"mode\":\"lines\",\"name\":\"\",\"orientation\":\"v\",\"showlegend\":false,\"x\":[\"2015-07-01\",\"2015-07-01\"],\"xaxis\":\"x\",\"y\":[0.09090909090909091,0.0714615029967727],\"yaxis\":\"y\",\"type\":\"scatter\"}],\"name\":\"2015-07-01\"},{\"data\":[{\"hovertemplate\":\"date_mensuelle=%{x}\\u003cbr\\u003eTARGET=%{y}\\u003cextra\\u003e\\u003c\\u002fextra\\u003e\",\"ids\":[0.09196515004840271,0.07215541165587419],\"legendgroup\":\"\",\"line\":{\"color\":\"#636efa\",\"dash\":\"solid\"},\"marker\":{\"symbol\":\"circle\"},\"mode\":\"lines\",\"name\":\"\",\"orientation\":\"v\",\"showlegend\":false,\"x\":[\"2015-08-01\",\"2015-08-01\"],\"xaxis\":\"x\",\"y\":[0.09196515004840271,0.07215541165587419],\"yaxis\":\"y\",\"type\":\"scatter\"}],\"name\":\"2015-08-01\"},{\"data\":[{\"hovertemplate\":\"date_mensuelle=%{x}\\u003cbr\\u003eTARGET=%{y}\\u003cextra\\u003e\\u003c\\u002fextra\\u003e\",\"ids\":[0.1,0.06991429860171403],\"legendgroup\":\"\",\"line\":{\"color\":\"#636efa\",\"dash\":\"solid\"},\"marker\":{\"symbol\":\"circle\"},\"mode\":\"lines\",\"name\":\"\",\"orientation\":\"v\",\"showlegend\":false,\"x\":[\"2015-09-01\",\"2015-09-01\"],\"xaxis\":\"x\",\"y\":[0.1,0.06991429860171403],\"yaxis\":\"y\",\"type\":\"scatter\"}],\"name\":\"2015-09-01\"},{\"data\":[{\"hovertemplate\":\"date_mensuelle=%{x}\\u003cbr\\u003eTARGET=%{y}\\u003cextra\\u003e\\u003c\\u002fextra\\u003e\",\"ids\":[0.09073900841908325,0.07287259050305595],\"legendgroup\":\"\",\"line\":{\"color\":\"#636efa\",\"dash\":\"solid\"},\"marker\":{\"symbol\":\"circle\"},\"mode\":\"lines\",\"name\":\"\",\"orientation\":\"v\",\"showlegend\":false,\"x\":[\"2015-10-01\",\"2015-10-01\"],\"xaxis\":\"x\",\"y\":[0.09073900841908325,0.07287259050305595],\"yaxis\":\"y\",\"type\":\"scatter\"}],\"name\":\"2015-10-01\"},{\"data\":[{\"hovertemplate\":\"date_mensuelle=%{x}\\u003cbr\\u003eTARGET=%{y}\\u003cextra\\u003e\\u003c\\u002fextra\\u003e\",\"ids\":[0.09390125847047434,0.07251732101616629],\"legendgroup\":\"\",\"line\":{\"color\":\"#636efa\",\"dash\":\"solid\"},\"marker\":{\"symbol\":\"circle\"},\"mode\":\"lines\",\"name\":\"\",\"orientation\":\"v\",\"showlegend\":false,\"x\":[\"2015-11-01\",\"2015-11-01\"],\"xaxis\":\"x\",\"y\":[0.09390125847047434,0.07251732101616629],\"yaxis\":\"y\",\"type\":\"scatter\"}],\"name\":\"2015-11-01\"},{\"data\":[{\"hovertemplate\":\"date_mensuelle=%{x}\\u003cbr\\u003eTARGET=%{y}\\u003cextra\\u003e\\u003c\\u002fextra\\u003e\",\"ids\":[0.09933142311365807,0.06843575418994413],\"legendgroup\":\"\",\"line\":{\"color\":\"#636efa\",\"dash\":\"solid\"},\"marker\":{\"symbol\":\"circle\"},\"mode\":\"lines\",\"name\":\"\",\"orientation\":\"v\",\"showlegend\":false,\"x\":[\"2015-12-01\",\"2015-12-01\"],\"xaxis\":\"x\",\"y\":[0.09933142311365807,0.06843575418994413],\"yaxis\":\"y\",\"type\":\"scatter\"}],\"name\":\"2015-12-01\"},{\"data\":[{\"hovertemplate\":\"date_mensuelle=%{x}\\u003cbr\\u003eTARGET=%{y}\\u003cextra\\u003e\\u003c\\u002fextra\\u003e\",\"ids\":[0.08599033816425121,0.07414272474513438],\"legendgroup\":\"\",\"line\":{\"color\":\"#636efa\",\"dash\":\"solid\"},\"marker\":{\"symbol\":\"circle\"},\"mode\":\"lines\",\"name\":\"\",\"orientation\":\"v\",\"showlegend\":false,\"x\":[\"2016-01-01\",\"2016-01-01\"],\"xaxis\":\"x\",\"y\":[0.08599033816425121,0.07414272474513438],\"yaxis\":\"y\",\"type\":\"scatter\"}],\"name\":\"2016-01-01\"},{\"data\":[{\"hovertemplate\":\"date_mensuelle=%{x}\\u003cbr\\u003eTARGET=%{y}\\u003cextra\\u003e\\u003c\\u002fextra\\u003e\",\"ids\":[0.08605341246290801,0.07339449541284404],\"legendgroup\":\"\",\"line\":{\"color\":\"#636efa\",\"dash\":\"solid\"},\"marker\":{\"symbol\":\"circle\"},\"mode\":\"lines\",\"name\":\"\",\"orientation\":\"v\",\"showlegend\":false,\"x\":[\"2016-02-01\",\"2016-02-01\"],\"xaxis\":\"x\",\"y\":[0.08605341246290801,0.07339449541284404],\"yaxis\":\"y\",\"type\":\"scatter\"}],\"name\":\"2016-02-01\"},{\"data\":[{\"hovertemplate\":\"date_mensuelle=%{x}\\u003cbr\\u003eTARGET=%{y}\\u003cextra\\u003e\\u003c\\u002fextra\\u003e\",\"ids\":[0.08849557522123894,0.07264367816091954],\"legendgroup\":\"\",\"line\":{\"color\":\"#636efa\",\"dash\":\"solid\"},\"marker\":{\"symbol\":\"circle\"},\"mode\":\"lines\",\"name\":\"\",\"orientation\":\"v\",\"showlegend\":false,\"x\":[\"2016-03-01\",\"2016-03-01\"],\"xaxis\":\"x\",\"y\":[0.08849557522123894,0.07264367816091954],\"yaxis\":\"y\",\"type\":\"scatter\"}],\"name\":\"2016-03-01\"},{\"data\":[{\"hovertemplate\":\"date_mensuelle=%{x}\\u003cbr\\u003eTARGET=%{y}\\u003cextra\\u003e\\u003c\\u002fextra\\u003e\",\"ids\":[0.0935672514619883,0.07017543859649122],\"legendgroup\":\"\",\"line\":{\"color\":\"#636efa\",\"dash\":\"solid\"},\"marker\":{\"symbol\":\"circle\"},\"mode\":\"lines\",\"name\":\"\",\"orientation\":\"v\",\"showlegend\":false,\"x\":[\"2016-04-01\",\"2016-04-01\"],\"xaxis\":\"x\",\"y\":[0.0935672514619883,0.07017543859649122],\"yaxis\":\"y\",\"type\":\"scatter\"}],\"name\":\"2016-04-01\"},{\"data\":[{\"hovertemplate\":\"date_mensuelle=%{x}\\u003cbr\\u003eTARGET=%{y}\\u003cextra\\u003e\\u003c\\u002fextra\\u003e\",\"ids\":[0.09048507462686567,0.07210179076343072],\"legendgroup\":\"\",\"line\":{\"color\":\"#636efa\",\"dash\":\"solid\"},\"marker\":{\"symbol\":\"circle\"},\"mode\":\"lines\",\"name\":\"\",\"orientation\":\"v\",\"showlegend\":false,\"x\":[\"2016-05-01\",\"2016-05-01\"],\"xaxis\":\"x\",\"y\":[0.09048507462686567,0.07210179076343072],\"yaxis\":\"y\",\"type\":\"scatter\"}],\"name\":\"2016-05-01\"},{\"data\":[{\"hovertemplate\":\"date_mensuelle=%{x}\\u003cbr\\u003eTARGET=%{y}\\u003cextra\\u003e\\u003c\\u002fextra\\u003e\",\"ids\":[0.08498583569405099,0.075374531835206],\"legendgroup\":\"\",\"line\":{\"color\":\"#636efa\",\"dash\":\"solid\"},\"marker\":{\"symbol\":\"circle\"},\"mode\":\"lines\",\"name\":\"\",\"orientation\":\"v\",\"showlegend\":false,\"x\":[\"2016-06-01\",\"2016-06-01\"],\"xaxis\":\"x\",\"y\":[0.08498583569405099,0.075374531835206],\"yaxis\":\"y\",\"type\":\"scatter\"}],\"name\":\"2016-06-01\"},{\"data\":[{\"hovertemplate\":\"date_mensuelle=%{x}\\u003cbr\\u003eTARGET=%{y}\\u003cextra\\u003e\\u003c\\u002fextra\\u003e\",\"ids\":[0.09287054409005628,0.07183098591549296],\"legendgroup\":\"\",\"line\":{\"color\":\"#636efa\",\"dash\":\"solid\"},\"marker\":{\"symbol\":\"circle\"},\"mode\":\"lines\",\"name\":\"\",\"orientation\":\"v\",\"showlegend\":false,\"x\":[\"2016-07-01\",\"2016-07-01\"],\"xaxis\":\"x\",\"y\":[0.09287054409005628,0.07183098591549296],\"yaxis\":\"y\",\"type\":\"scatter\"}],\"name\":\"2016-07-01\"},{\"data\":[{\"hovertemplate\":\"date_mensuelle=%{x}\\u003cbr\\u003eTARGET=%{y}\\u003cextra\\u003e\\u003c\\u002fextra\\u003e\",\"ids\":[0.09712586719524281,0.06999085086916743],\"legendgroup\":\"\",\"line\":{\"color\":\"#636efa\",\"dash\":\"solid\"},\"marker\":{\"symbol\":\"circle\"},\"mode\":\"lines\",\"name\":\"\",\"orientation\":\"v\",\"showlegend\":false,\"x\":[\"2016-08-01\",\"2016-08-01\"],\"xaxis\":\"x\",\"y\":[0.09712586719524281,0.06999085086916743],\"yaxis\":\"y\",\"type\":\"scatter\"}],\"name\":\"2016-08-01\"},{\"data\":[{\"hovertemplate\":\"date_mensuelle=%{x}\\u003cbr\\u003eTARGET=%{y}\\u003cextra\\u003e\\u003c\\u002fextra\\u003e\",\"ids\":[0.09328358208955224,0.0706880301602262],\"legendgroup\":\"\",\"line\":{\"color\":\"#636efa\",\"dash\":\"solid\"},\"marker\":{\"symbol\":\"circle\"},\"mode\":\"lines\",\"name\":\"\",\"orientation\":\"v\",\"showlegend\":false,\"x\":[\"2016-09-01\",\"2016-09-01\"],\"xaxis\":\"x\",\"y\":[0.09328358208955224,0.0706880301602262],\"yaxis\":\"y\",\"type\":\"scatter\"}],\"name\":\"2016-09-01\"},{\"data\":[{\"hovertemplate\":\"date_mensuelle=%{x}\\u003cbr\\u003eTARGET=%{y}\\u003cextra\\u003e\\u003c\\u002fextra\\u003e\",\"ids\":[0.09784735812133072,0.0703448275862069],\"legendgroup\":\"\",\"line\":{\"color\":\"#636efa\",\"dash\":\"solid\"},\"marker\":{\"symbol\":\"circle\"},\"mode\":\"lines\",\"name\":\"\",\"orientation\":\"v\",\"showlegend\":false,\"x\":[\"2016-10-01\",\"2016-10-01\"],\"xaxis\":\"x\",\"y\":[0.09784735812133072,0.0703448275862069],\"yaxis\":\"y\",\"type\":\"scatter\"}],\"name\":\"2016-10-01\"},{\"data\":[{\"hovertemplate\":\"date_mensuelle=%{x}\\u003cbr\\u003eTARGET=%{y}\\u003cextra\\u003e\\u003c\\u002fextra\\u003e\",\"ids\":[0.1,0.06864988558352403],\"legendgroup\":\"\",\"line\":{\"color\":\"#636efa\",\"dash\":\"solid\"},\"marker\":{\"symbol\":\"circle\"},\"mode\":\"lines\",\"name\":\"\",\"orientation\":\"v\",\"showlegend\":false,\"x\":[\"2016-11-01\",\"2016-11-01\"],\"xaxis\":\"x\",\"y\":[0.1,0.06864988558352403],\"yaxis\":\"y\",\"type\":\"scatter\"}],\"name\":\"2016-11-01\"},{\"data\":[{\"hovertemplate\":\"date_mensuelle=%{x}\\u003cbr\\u003eTARGET=%{y}\\u003cextra\\u003e\\u003c\\u002fextra\\u003e\",\"ids\":[0.0805168986083499,0.07681755829903979],\"legendgroup\":\"\",\"line\":{\"color\":\"#636efa\",\"dash\":\"solid\"},\"marker\":{\"symbol\":\"circle\"},\"mode\":\"lines\",\"name\":\"\",\"orientation\":\"v\",\"showlegend\":false,\"x\":[\"2016-12-01\",\"2016-12-01\"],\"xaxis\":\"x\",\"y\":[0.0805168986083499,0.07681755829903979],\"yaxis\":\"y\",\"type\":\"scatter\"}],\"name\":\"2016-12-01\"},{\"data\":[{\"hovertemplate\":\"date_mensuelle=%{x}\\u003cbr\\u003eTARGET=%{y}\\u003cextra\\u003e\\u003c\\u002fextra\\u003e\",\"ids\":[0.08610567514677103,0.07373271889400922],\"legendgroup\":\"\",\"line\":{\"color\":\"#636efa\",\"dash\":\"solid\"},\"marker\":{\"symbol\":\"circle\"},\"mode\":\"lines\",\"name\":\"\",\"orientation\":\"v\",\"showlegend\":false,\"x\":[\"2017-01-01\",\"2017-01-01\"],\"xaxis\":\"x\",\"y\":[0.08610567514677103,0.07373271889400922],\"yaxis\":\"y\",\"type\":\"scatter\"}],\"name\":\"2017-01-01\"},{\"data\":[{\"hovertemplate\":\"date_mensuelle=%{x}\\u003cbr\\u003eTARGET=%{y}\\u003cextra\\u003e\\u003c\\u002fextra\\u003e\",\"ids\":[0.089128305582762,0.07188940092165899],\"legendgroup\":\"\",\"line\":{\"color\":\"#636efa\",\"dash\":\"solid\"},\"marker\":{\"symbol\":\"circle\"},\"mode\":\"lines\",\"name\":\"\",\"orientation\":\"v\",\"showlegend\":false,\"x\":[\"2017-02-01\",\"2017-02-01\"],\"xaxis\":\"x\",\"y\":[0.089128305582762,0.07188940092165899],\"yaxis\":\"y\",\"type\":\"scatter\"}],\"name\":\"2017-02-01\"},{\"data\":[{\"hovertemplate\":\"date_mensuelle=%{x}\\u003cbr\\u003eTARGET=%{y}\\u003cextra\\u003e\\u003c\\u002fextra\\u003e\",\"ids\":[0.09170731707317073,0.07106598984771574],\"legendgroup\":\"\",\"line\":{\"color\":\"#636efa\",\"dash\":\"solid\"},\"marker\":{\"symbol\":\"circle\"},\"mode\":\"lines\",\"name\":\"\",\"orientation\":\"v\",\"showlegend\":false,\"x\":[\"2017-03-01\",\"2017-03-01\"],\"xaxis\":\"x\",\"y\":[0.09170731707317073,0.07106598984771574],\"yaxis\":\"y\",\"type\":\"scatter\"}],\"name\":\"2017-03-01\"},{\"data\":[{\"hovertemplate\":\"date_mensuelle=%{x}\\u003cbr\\u003eTARGET=%{y}\\u003cextra\\u003e\\u003c\\u002fextra\\u003e\",\"ids\":[0.09196515004840271,0.07043558850787766],\"legendgroup\":\"\",\"line\":{\"color\":\"#636efa\",\"dash\":\"solid\"},\"marker\":{\"symbol\":\"circle\"},\"mode\":\"lines\",\"name\":\"\",\"orientation\":\"v\",\"showlegend\":false,\"x\":[\"2017-04-01\",\"2017-04-01\"],\"xaxis\":\"x\",\"y\":[0.09196515004840271,0.07043558850787766],\"yaxis\":\"y\",\"type\":\"scatter\"}],\"name\":\"2017-04-01\"},{\"data\":[{\"hovertemplate\":\"date_mensuelle=%{x}\\u003cbr\\u003eTARGET=%{y}\\u003cextra\\u003e\\u003c\\u002fextra\\u003e\",\"ids\":[0.09257473481195758,0.07096474953617811],\"legendgroup\":\"\",\"line\":{\"color\":\"#636efa\",\"dash\":\"solid\"},\"marker\":{\"symbol\":\"circle\"},\"mode\":\"lines\",\"name\":\"\",\"orientation\":\"v\",\"showlegend\":false,\"x\":[\"2017-05-01\",\"2017-05-01\"],\"xaxis\":\"x\",\"y\":[0.09257473481195758,0.07096474953617811],\"yaxis\":\"y\",\"type\":\"scatter\"}],\"name\":\"2017-05-01\"},{\"data\":[{\"hovertemplate\":\"date_mensuelle=%{x}\\u003cbr\\u003eTARGET=%{y}\\u003cextra\\u003e\\u003c\\u002fextra\\u003e\",\"ids\":[0.09980988593155894,0.06856343283582089],\"legendgroup\":\"\",\"line\":{\"color\":\"#636efa\",\"dash\":\"solid\"},\"marker\":{\"symbol\":\"circle\"},\"mode\":\"lines\",\"name\":\"\",\"orientation\":\"v\",\"showlegend\":false,\"x\":[\"2017-06-01\",\"2017-06-01\"],\"xaxis\":\"x\",\"y\":[0.09980988593155894,0.06856343283582089],\"yaxis\":\"y\",\"type\":\"scatter\"}],\"name\":\"2017-06-01\"},{\"data\":[{\"hovertemplate\":\"date_mensuelle=%{x}\\u003cbr\\u003eTARGET=%{y}\\u003cextra\\u003e\\u003c\\u002fextra\\u003e\",\"ids\":[0.0979431929480901,0.06945722171113156],\"legendgroup\":\"\",\"line\":{\"color\":\"#636efa\",\"dash\":\"solid\"},\"marker\":{\"symbol\":\"circle\"},\"mode\":\"lines\",\"name\":\"\",\"orientation\":\"v\",\"showlegend\":false,\"x\":[\"2017-07-01\",\"2017-07-01\"],\"xaxis\":\"x\",\"y\":[0.0979431929480901,0.06945722171113156],\"yaxis\":\"y\",\"type\":\"scatter\"}],\"name\":\"2017-07-01\"},{\"data\":[{\"hovertemplate\":\"date_mensuelle=%{x}\\u003cbr\\u003eTARGET=%{y}\\u003cextra\\u003e\\u003c\\u002fextra\\u003e\",\"ids\":[0.0891089108910891,0.07410795974382434],\"legendgroup\":\"\",\"line\":{\"color\":\"#636efa\",\"dash\":\"solid\"},\"marker\":{\"symbol\":\"circle\"},\"mode\":\"lines\",\"name\":\"\",\"orientation\":\"v\",\"showlegend\":false,\"x\":[\"2017-08-01\",\"2017-08-01\"],\"xaxis\":\"x\",\"y\":[0.0891089108910891,0.07410795974382434],\"yaxis\":\"y\",\"type\":\"scatter\"}],\"name\":\"2017-08-01\"},{\"data\":[{\"hovertemplate\":\"date_mensuelle=%{x}\\u003cbr\\u003eTARGET=%{y}\\u003cextra\\u003e\\u003c\\u002fextra\\u003e\",\"ids\":[0.1082375478927203,0.06415620641562064],\"legendgroup\":\"\",\"line\":{\"color\":\"#636efa\",\"dash\":\"solid\"},\"marker\":{\"symbol\":\"circle\"},\"mode\":\"lines\",\"name\":\"\",\"orientation\":\"v\",\"showlegend\":false,\"x\":[\"2017-09-01\",\"2017-09-01\"],\"xaxis\":\"x\",\"y\":[0.1082375478927203,0.06415620641562064],\"yaxis\":\"y\",\"type\":\"scatter\"}],\"name\":\"2017-09-01\"},{\"data\":[{\"hovertemplate\":\"date_mensuelle=%{x}\\u003cbr\\u003eTARGET=%{y}\\u003cextra\\u003e\\u003c\\u002fextra\\u003e\",\"ids\":[0.10097087378640776,0.06703652334720296],\"legendgroup\":\"\",\"line\":{\"color\":\"#636efa\",\"dash\":\"solid\"},\"marker\":{\"symbol\":\"circle\"},\"mode\":\"lines\",\"name\":\"\",\"orientation\":\"v\",\"showlegend\":false,\"x\":[\"2017-10-01\",\"2017-10-01\"],\"xaxis\":\"x\",\"y\":[0.10097087378640776,0.06703652334720296],\"yaxis\":\"y\",\"type\":\"scatter\"}],\"name\":\"2017-10-01\"},{\"data\":[{\"hovertemplate\":\"date_mensuelle=%{x}\\u003cbr\\u003eTARGET=%{y}\\u003cextra\\u003e\\u003c\\u002fextra\\u003e\",\"ids\":[0.0945179584120983,0.06935332708528585],\"legendgroup\":\"\",\"line\":{\"color\":\"#636efa\",\"dash\":\"solid\"},\"marker\":{\"symbol\":\"circle\"},\"mode\":\"lines\",\"name\":\"\",\"orientation\":\"v\",\"showlegend\":false,\"x\":[\"2017-11-01\",\"2017-11-01\"],\"xaxis\":\"x\",\"y\":[0.0945179584120983,0.06935332708528585],\"yaxis\":\"y\",\"type\":\"scatter\"}],\"name\":\"2017-11-01\"},{\"data\":[{\"hovertemplate\":\"date_mensuelle=%{x}\\u003cbr\\u003eTARGET=%{y}\\u003cextra\\u003e\\u003c\\u002fextra\\u003e\",\"ids\":[0.0892156862745098,0.07313707451701931],\"legendgroup\":\"\",\"line\":{\"color\":\"#636efa\",\"dash\":\"solid\"},\"marker\":{\"symbol\":\"circle\"},\"mode\":\"lines\",\"name\":\"\",\"orientation\":\"v\",\"showlegend\":false,\"x\":[\"2017-12-01\",\"2017-12-01\"],\"xaxis\":\"x\",\"y\":[0.0892156862745098,0.07313707451701931],\"yaxis\":\"y\",\"type\":\"scatter\"}],\"name\":\"2017-12-01\"},{\"data\":[{\"hovertemplate\":\"date_mensuelle=%{x}\\u003cbr\\u003eTARGET=%{y}\\u003cextra\\u003e\\u003c\\u002fextra\\u003e\",\"ids\":[0.09837728194726167,0.06971480307831598],\"legendgroup\":\"\",\"line\":{\"color\":\"#636efa\",\"dash\":\"solid\"},\"marker\":{\"symbol\":\"circle\"},\"mode\":\"lines\",\"name\":\"\",\"orientation\":\"v\",\"showlegend\":false,\"x\":[\"2018-01-01\",\"2018-01-01\"],\"xaxis\":\"x\",\"y\":[0.09837728194726167,0.06971480307831598],\"yaxis\":\"y\",\"type\":\"scatter\"}],\"name\":\"2018-01-01\"},{\"data\":[{\"hovertemplate\":\"date_mensuelle=%{x}\\u003cbr\\u003eTARGET=%{y}\\u003cextra\\u003e\\u003c\\u002fextra\\u003e\",\"ids\":[0.09443339960238568,0.07168949771689498],\"legendgroup\":\"\",\"line\":{\"color\":\"#636efa\",\"dash\":\"solid\"},\"marker\":{\"symbol\":\"circle\"},\"mode\":\"lines\",\"name\":\"\",\"orientation\":\"v\",\"showlegend\":false,\"x\":[\"2018-02-01\",\"2018-02-01\"],\"xaxis\":\"x\",\"y\":[0.09443339960238568,0.07168949771689498],\"yaxis\":\"y\",\"type\":\"scatter\"}],\"name\":\"2018-02-01\"},{\"data\":[{\"hovertemplate\":\"date_mensuelle=%{x}\\u003cbr\\u003eTARGET=%{y}\\u003cextra\\u003e\\u003c\\u002fextra\\u003e\",\"ids\":[0.09196515004840271,0.07215541165587419],\"legendgroup\":\"\",\"line\":{\"color\":\"#636efa\",\"dash\":\"solid\"},\"marker\":{\"symbol\":\"circle\"},\"mode\":\"lines\",\"name\":\"\",\"orientation\":\"v\",\"showlegend\":false,\"x\":[\"2018-03-01\",\"2018-03-01\"],\"xaxis\":\"x\",\"y\":[0.09196515004840271,0.07215541165587419],\"yaxis\":\"y\",\"type\":\"scatter\"}],\"name\":\"2018-03-01\"},{\"data\":[{\"hovertemplate\":\"date_mensuelle=%{x}\\u003cbr\\u003eTARGET=%{y}\\u003cextra\\u003e\\u003c\\u002fextra\\u003e\",\"ids\":[0.09390125847047434,0.07037037037037037],\"legendgroup\":\"\",\"line\":{\"color\":\"#636efa\",\"dash\":\"solid\"},\"marker\":{\"symbol\":\"circle\"},\"mode\":\"lines\",\"name\":\"\",\"orientation\":\"v\",\"showlegend\":false,\"x\":[\"2018-04-01\",\"2018-04-01\"],\"xaxis\":\"x\",\"y\":[0.09390125847047434,0.07037037037037037],\"yaxis\":\"y\",\"type\":\"scatter\"}],\"name\":\"2018-04-01\"},{\"data\":[{\"hovertemplate\":\"date_mensuelle=%{x}\\u003cbr\\u003eTARGET=%{y}\\u003cextra\\u003e\\u003c\\u002fextra\\u003e\",\"ids\":[0.07996146435452794,0.0766016713091922],\"legendgroup\":\"\",\"line\":{\"color\":\"#636efa\",\"dash\":\"solid\"},\"marker\":{\"symbol\":\"circle\"},\"mode\":\"lines\",\"name\":\"\",\"orientation\":\"v\",\"showlegend\":false,\"x\":[\"2018-05-01\",\"2018-05-01\"],\"xaxis\":\"x\",\"y\":[0.07996146435452794,0.0766016713091922],\"yaxis\":\"y\",\"type\":\"scatter\"}],\"name\":\"2018-05-01\"},{\"data\":[{\"hovertemplate\":\"date_mensuelle=%{x}\\u003cbr\\u003eTARGET=%{y}\\u003cextra\\u003e\\u003c\\u002fextra\\u003e\",\"ids\":[0.09029126213592233,0.07126330402591392],\"legendgroup\":\"\",\"line\":{\"color\":\"#636efa\",\"dash\":\"solid\"},\"marker\":{\"symbol\":\"circle\"},\"mode\":\"lines\",\"name\":\"\",\"orientation\":\"v\",\"showlegend\":false,\"x\":[\"2018-06-01\",\"2018-06-01\"],\"xaxis\":\"x\",\"y\":[0.09029126213592233,0.07126330402591392],\"yaxis\":\"y\",\"type\":\"scatter\"}],\"name\":\"2018-06-01\"},{\"data\":[{\"hovertemplate\":\"date_mensuelle=%{x}\\u003cbr\\u003eTARGET=%{y}\\u003cextra\\u003e\\u003c\\u002fextra\\u003e\",\"ids\":[0.08483033932135728,0.07442922374429224],\"legendgroup\":\"\",\"line\":{\"color\":\"#636efa\",\"dash\":\"solid\"},\"marker\":{\"symbol\":\"circle\"},\"mode\":\"lines\",\"name\":\"\",\"orientation\":\"v\",\"showlegend\":false,\"x\":[\"2018-07-01\",\"2018-07-01\"],\"xaxis\":\"x\",\"y\":[0.08483033932135728,0.07442922374429224],\"yaxis\":\"y\",\"type\":\"scatter\"}],\"name\":\"2018-07-01\"},{\"data\":[{\"hovertemplate\":\"date_mensuelle=%{x}\\u003cbr\\u003eTARGET=%{y}\\u003cextra\\u003e\\u003c\\u002fextra\\u003e\",\"ids\":[0.10122699386503067,0.06856111862877763],\"legendgroup\":\"\",\"line\":{\"color\":\"#636efa\",\"dash\":\"solid\"},\"marker\":{\"symbol\":\"circle\"},\"mode\":\"lines\",\"name\":\"\",\"orientation\":\"v\",\"showlegend\":false,\"x\":[\"2018-08-01\",\"2018-08-01\"],\"xaxis\":\"x\",\"y\":[0.10122699386503067,0.06856111862877763],\"yaxis\":\"y\",\"type\":\"scatter\"}],\"name\":\"2018-08-01\"},{\"data\":[{\"hovertemplate\":\"date_mensuelle=%{x}\\u003cbr\\u003eTARGET=%{y}\\u003cextra\\u003e\\u003c\\u002fextra\\u003e\",\"ids\":[0.09504550050556117,0.0707482993197279],\"legendgroup\":\"\",\"line\":{\"color\":\"#636efa\",\"dash\":\"solid\"},\"marker\":{\"symbol\":\"circle\"},\"mode\":\"lines\",\"name\":\"\",\"orientation\":\"v\",\"showlegend\":false,\"x\":[\"2018-09-01\",\"2018-09-01\"],\"xaxis\":\"x\",\"y\":[0.09504550050556117,0.0707482993197279],\"yaxis\":\"y\",\"type\":\"scatter\"}],\"name\":\"2018-09-01\"},{\"data\":[{\"hovertemplate\":\"date_mensuelle=%{x}\\u003cbr\\u003eTARGET=%{y}\\u003cextra\\u003e\\u003c\\u002fextra\\u003e\",\"ids\":[0.08751229105211406,0.07480495640201927],\"legendgroup\":\"\",\"line\":{\"color\":\"#636efa\",\"dash\":\"solid\"},\"marker\":{\"symbol\":\"circle\"},\"mode\":\"lines\",\"name\":\"\",\"orientation\":\"v\",\"showlegend\":false,\"x\":[\"2018-10-01\",\"2018-10-01\"],\"xaxis\":\"x\",\"y\":[0.08751229105211406,0.07480495640201927],\"yaxis\":\"y\",\"type\":\"scatter\"}],\"name\":\"2018-10-01\"},{\"data\":[{\"hovertemplate\":\"date_mensuelle=%{x}\\u003cbr\\u003eTARGET=%{y}\\u003cextra\\u003e\\u003c\\u002fextra\\u003e\",\"ids\":[0.08308895405669599,0.07557603686635944],\"legendgroup\":\"\",\"line\":{\"color\":\"#636efa\",\"dash\":\"solid\"},\"marker\":{\"symbol\":\"circle\"},\"mode\":\"lines\",\"name\":\"\",\"orientation\":\"v\",\"showlegend\":false,\"x\":[\"2018-11-01\",\"2018-11-01\"],\"xaxis\":\"x\",\"y\":[0.08308895405669599,0.07557603686635944],\"yaxis\":\"y\",\"type\":\"scatter\"}],\"name\":\"2018-11-01\"},{\"data\":[{\"hovertemplate\":\"date_mensuelle=%{x}\\u003cbr\\u003eTARGET=%{y}\\u003cextra\\u003e\\u003c\\u002fextra\\u003e\",\"ids\":[0.08382642998027613,0.0735632183908046],\"legendgroup\":\"\",\"line\":{\"color\":\"#636efa\",\"dash\":\"solid\"},\"marker\":{\"symbol\":\"circle\"},\"mode\":\"lines\",\"name\":\"\",\"orientation\":\"v\",\"showlegend\":false,\"x\":[\"2018-12-01\",\"2018-12-01\"],\"xaxis\":\"x\",\"y\":[0.08382642998027613,0.0735632183908046],\"yaxis\":\"y\",\"type\":\"scatter\"}],\"name\":\"2018-12-01\"},{\"data\":[{\"hovertemplate\":\"date_mensuelle=%{x}\\u003cbr\\u003eTARGET=%{y}\\u003cextra\\u003e\\u003c\\u002fextra\\u003e\",\"ids\":[0.07247706422018349,0.06256062075654704],\"legendgroup\":\"\",\"line\":{\"color\":\"#636efa\",\"dash\":\"solid\"},\"marker\":{\"symbol\":\"circle\"},\"mode\":\"lines\",\"name\":\"\",\"orientation\":\"v\",\"showlegend\":false,\"x\":[\"2019-01-01\",\"2019-01-01\"],\"xaxis\":\"x\",\"y\":[0.07247706422018349,0.06256062075654704],\"yaxis\":\"y\",\"type\":\"scatter\"}],\"name\":\"2019-01-01\"},{\"data\":[{\"hovertemplate\":\"date_mensuelle=%{x}\\u003cbr\\u003eTARGET=%{y}\\u003cextra\\u003e\\u003c\\u002fextra\\u003e\",\"ids\":[0.07191448007774538,0.06179245283018868],\"legendgroup\":\"\",\"line\":{\"color\":\"#636efa\",\"dash\":\"solid\"},\"marker\":{\"symbol\":\"circle\"},\"mode\":\"lines\",\"name\":\"\",\"orientation\":\"v\",\"showlegend\":false,\"x\":[\"2019-02-01\",\"2019-02-01\"],\"xaxis\":\"x\",\"y\":[0.07191448007774538,0.06179245283018868],\"yaxis\":\"y\",\"type\":\"scatter\"}],\"name\":\"2019-02-01\"},{\"data\":[{\"hovertemplate\":\"date_mensuelle=%{x}\\u003cbr\\u003eTARGET=%{y}\\u003cextra\\u003e\\u003c\\u002fextra\\u003e\",\"ids\":[0.06951340615690169,0.061711079943899017],\"legendgroup\":\"\",\"line\":{\"color\":\"#636efa\",\"dash\":\"solid\"},\"marker\":{\"symbol\":\"circle\"},\"mode\":\"lines\",\"name\":\"\",\"orientation\":\"v\",\"showlegend\":false,\"x\":[\"2019-03-01\",\"2019-03-01\"],\"xaxis\":\"x\",\"y\":[0.06951340615690169,0.061711079943899017],\"yaxis\":\"y\",\"type\":\"scatter\"}],\"name\":\"2019-03-01\"},{\"data\":[{\"hovertemplate\":\"date_mensuelle=%{x}\\u003cbr\\u003eTARGET=%{y}\\u003cextra\\u003e\\u003c\\u002fextra\\u003e\",\"ids\":[0.07077856420626896,0.060324825986078884],\"legendgroup\":\"\",\"line\":{\"color\":\"#636efa\",\"dash\":\"solid\"},\"marker\":{\"symbol\":\"circle\"},\"mode\":\"lines\",\"name\":\"\",\"orientation\":\"v\",\"showlegend\":false,\"x\":[\"2019-04-01\",\"2019-04-01\"],\"xaxis\":\"x\",\"y\":[0.07077856420626896,0.060324825986078884],\"yaxis\":\"y\",\"type\":\"scatter\"}],\"name\":\"2019-04-01\"},{\"data\":[{\"hovertemplate\":\"date_mensuelle=%{x}\\u003cbr\\u003eTARGET=%{y}\\u003cextra\\u003e\\u003c\\u002fextra\\u003e\",\"ids\":[0.0755813953488372,0.05821107430194037],\"legendgroup\":\"\",\"line\":{\"color\":\"#636efa\",\"dash\":\"solid\"},\"marker\":{\"symbol\":\"circle\"},\"mode\":\"lines\",\"name\":\"\",\"orientation\":\"v\",\"showlegend\":false,\"x\":[\"2019-05-01\",\"2019-05-01\"],\"xaxis\":\"x\",\"y\":[0.0755813953488372,0.05821107430194037],\"yaxis\":\"y\",\"type\":\"scatter\"}],\"name\":\"2019-05-01\"},{\"data\":[{\"hovertemplate\":\"date_mensuelle=%{x}\\u003cbr\\u003eTARGET=%{y}\\u003cextra\\u003e\\u003c\\u002fextra\\u003e\",\"ids\":[0.07904761904761905,0.05722460658082976],\"legendgroup\":\"\",\"line\":{\"color\":\"#636efa\",\"dash\":\"solid\"},\"marker\":{\"symbol\":\"circle\"},\"mode\":\"lines\",\"name\":\"\",\"orientation\":\"v\",\"showlegend\":false,\"x\":[\"2019-06-01\",\"2019-06-01\"],\"xaxis\":\"x\",\"y\":[0.07904761904761905,0.05722460658082976],\"yaxis\":\"y\",\"type\":\"scatter\"}],\"name\":\"2019-06-01\"},{\"data\":[{\"hovertemplate\":\"date_mensuelle=%{x}\\u003cbr\\u003eTARGET=%{y}\\u003cextra\\u003e\\u003c\\u002fextra\\u003e\",\"ids\":[0.08268482490272373,0.0547945205479452],\"legendgroup\":\"\",\"line\":{\"color\":\"#636efa\",\"dash\":\"solid\"},\"marker\":{\"symbol\":\"circle\"},\"mode\":\"lines\",\"name\":\"\",\"orientation\":\"v\",\"showlegend\":false,\"x\":[\"2019-07-01\",\"2019-07-01\"],\"xaxis\":\"x\",\"y\":[0.08268482490272373,0.0547945205479452],\"yaxis\":\"y\",\"type\":\"scatter\"}],\"name\":\"2019-07-01\"},{\"data\":[{\"hovertemplate\":\"date_mensuelle=%{x}\\u003cbr\\u003eTARGET=%{y}\\u003cextra\\u003e\\u003c\\u002fextra\\u003e\",\"ids\":[0.06906906906906907,0.06281991624011168],\"legendgroup\":\"\",\"line\":{\"color\":\"#636efa\",\"dash\":\"solid\"},\"marker\":{\"symbol\":\"circle\"},\"mode\":\"lines\",\"name\":\"\",\"orientation\":\"v\",\"showlegend\":false,\"x\":[\"2019-08-01\",\"2019-08-01\"],\"xaxis\":\"x\",\"y\":[0.06906906906906907,0.06281991624011168],\"yaxis\":\"y\",\"type\":\"scatter\"}],\"name\":\"2019-08-01\"},{\"data\":[{\"hovertemplate\":\"date_mensuelle=%{x}\\u003cbr\\u003eTARGET=%{y}\\u003cextra\\u003e\\u003c\\u002fextra\\u003e\",\"ids\":[0.07372793354101766,0.06086956521739131],\"legendgroup\":\"\",\"line\":{\"color\":\"#636efa\",\"dash\":\"solid\"},\"marker\":{\"symbol\":\"circle\"},\"mode\":\"lines\",\"name\":\"\",\"orientation\":\"v\",\"showlegend\":false,\"x\":[\"2019-09-01\",\"2019-09-01\"],\"xaxis\":\"x\",\"y\":[0.07372793354101766,0.06086956521739131],\"yaxis\":\"y\",\"type\":\"scatter\"}],\"name\":\"2019-09-01\"},{\"data\":[{\"hovertemplate\":\"date_mensuelle=%{x}\\u003cbr\\u003eTARGET=%{y}\\u003cextra\\u003e\\u003c\\u002fextra\\u003e\",\"ids\":[0.071,0.062354583527221966],\"legendgroup\":\"\",\"line\":{\"color\":\"#636efa\",\"dash\":\"solid\"},\"marker\":{\"symbol\":\"circle\"},\"mode\":\"lines\",\"name\":\"\",\"orientation\":\"v\",\"showlegend\":false,\"x\":[\"2019-10-01\",\"2019-10-01\"],\"xaxis\":\"x\",\"y\":[0.071,0.062354583527221966],\"yaxis\":\"y\",\"type\":\"scatter\"}],\"name\":\"2019-10-01\"},{\"data\":[{\"hovertemplate\":\"date_mensuelle=%{x}\\u003cbr\\u003eTARGET=%{y}\\u003cextra\\u003e\\u003c\\u002fextra\\u003e\",\"ids\":[0.07317073170731707,0.06164705882352941],\"legendgroup\":\"\",\"line\":{\"color\":\"#636efa\",\"dash\":\"solid\"},\"marker\":{\"symbol\":\"circle\"},\"mode\":\"lines\",\"name\":\"\",\"orientation\":\"v\",\"showlegend\":false,\"x\":[\"2019-11-01\",\"2019-11-01\"],\"xaxis\":\"x\",\"y\":[0.07317073170731707,0.06164705882352941],\"yaxis\":\"y\",\"type\":\"scatter\"}],\"name\":\"2019-11-01\"},{\"data\":[{\"hovertemplate\":\"date_mensuelle=%{x}\\u003cbr\\u003eTARGET=%{y}\\u003cextra\\u003e\\u003c\\u002fextra\\u003e\",\"ids\":[0.07875647668393783,0.06035665294924554],\"legendgroup\":\"\",\"line\":{\"color\":\"#636efa\",\"dash\":\"solid\"},\"marker\":{\"symbol\":\"circle\"},\"mode\":\"lines\",\"name\":\"\",\"orientation\":\"v\",\"showlegend\":false,\"x\":[\"2019-12-01\",\"2019-12-01\"],\"xaxis\":\"x\",\"y\":[0.07875647668393783,0.06035665294924554],\"yaxis\":\"y\",\"type\":\"scatter\"}],\"name\":\"2019-12-01\"},{\"data\":[{\"hovertemplate\":\"date_mensuelle=%{x}\\u003cbr\\u003eTARGET=%{y}\\u003cextra\\u003e\\u003c\\u002fextra\\u003e\",\"ids\":[0.08585858585858586,0.06295955882352941],\"legendgroup\":\"\",\"line\":{\"color\":\"#636efa\",\"dash\":\"solid\"},\"marker\":{\"symbol\":\"circle\"},\"mode\":\"lines\",\"name\":\"\",\"orientation\":\"v\",\"showlegend\":false,\"x\":[\"2020-01-01\",\"2020-01-01\"],\"xaxis\":\"x\",\"y\":[0.08585858585858586,0.06295955882352941],\"yaxis\":\"y\",\"type\":\"scatter\"}],\"name\":\"2020-01-01\"},{\"data\":[{\"hovertemplate\":\"date_mensuelle=%{x}\\u003cbr\\u003eTARGET=%{y}\\u003cextra\\u003e\\u003c\\u002fextra\\u003e\",\"ids\":[0.08958130477117819,0.06558139534883721],\"legendgroup\":\"\",\"line\":{\"color\":\"#636efa\",\"dash\":\"solid\"},\"marker\":{\"symbol\":\"circle\"},\"mode\":\"lines\",\"name\":\"\",\"orientation\":\"v\",\"showlegend\":false,\"x\":[\"2020-02-01\",\"2020-02-01\"],\"xaxis\":\"x\",\"y\":[0.08958130477117819,0.06558139534883721],\"yaxis\":\"y\",\"type\":\"scatter\"}],\"name\":\"2020-02-01\"},{\"data\":[{\"hovertemplate\":\"date_mensuelle=%{x}\\u003cbr\\u003eTARGET=%{y}\\u003cextra\\u003e\\u003c\\u002fextra\\u003e\",\"ids\":[0.09201877934272301,0.07052186177715092],\"legendgroup\":\"\",\"line\":{\"color\":\"#636efa\",\"dash\":\"solid\"},\"marker\":{\"symbol\":\"circle\"},\"mode\":\"lines\",\"name\":\"\",\"orientation\":\"v\",\"showlegend\":false,\"x\":[\"2020-03-01\",\"2020-03-01\"],\"xaxis\":\"x\",\"y\":[0.09201877934272301,0.07052186177715092],\"yaxis\":\"y\",\"type\":\"scatter\"}],\"name\":\"2020-03-01\"},{\"data\":[{\"hovertemplate\":\"date_mensuelle=%{x}\\u003cbr\\u003eTARGET=%{y}\\u003cextra\\u003e\\u003c\\u002fextra\\u003e\",\"ids\":[0.08641975308641975,0.07642124883504194],\"legendgroup\":\"\",\"line\":{\"color\":\"#636efa\",\"dash\":\"solid\"},\"marker\":{\"symbol\":\"circle\"},\"mode\":\"lines\",\"name\":\"\",\"orientation\":\"v\",\"showlegend\":false,\"x\":[\"2020-04-01\",\"2020-04-01\"],\"xaxis\":\"x\",\"y\":[0.08641975308641975,0.07642124883504194],\"yaxis\":\"y\",\"type\":\"scatter\"}],\"name\":\"2020-04-01\"},{\"data\":[{\"hovertemplate\":\"date_mensuelle=%{x}\\u003cbr\\u003eTARGET=%{y}\\u003cextra\\u003e\\u003c\\u002fextra\\u003e\",\"ids\":[0.08868778280542987,0.0780580675868634],\"legendgroup\":\"\",\"line\":{\"color\":\"#636efa\",\"dash\":\"solid\"},\"marker\":{\"symbol\":\"circle\"},\"mode\":\"lines\",\"name\":\"\",\"orientation\":\"v\",\"showlegend\":false,\"x\":[\"2020-05-01\",\"2020-05-01\"],\"xaxis\":\"x\",\"y\":[0.08868778280542987,0.0780580675868634],\"yaxis\":\"y\",\"type\":\"scatter\"}],\"name\":\"2020-05-01\"},{\"data\":[{\"hovertemplate\":\"date_mensuelle=%{x}\\u003cbr\\u003eTARGET=%{y}\\u003cextra\\u003e\\u003c\\u002fextra\\u003e\",\"ids\":[0.10594059405940594,0.07142857142857142],\"legendgroup\":\"\",\"line\":{\"color\":\"#636efa\",\"dash\":\"solid\"},\"marker\":{\"symbol\":\"circle\"},\"mode\":\"lines\",\"name\":\"\",\"orientation\":\"v\",\"showlegend\":false,\"x\":[\"2020-06-01\",\"2020-06-01\"],\"xaxis\":\"x\",\"y\":[0.10594059405940594,0.07142857142857142],\"yaxis\":\"y\",\"type\":\"scatter\"}],\"name\":\"2020-06-01\"},{\"data\":[{\"hovertemplate\":\"date_mensuelle=%{x}\\u003cbr\\u003eTARGET=%{y}\\u003cextra\\u003e\\u003c\\u002fextra\\u003e\",\"ids\":[0.09737827715355805,0.07259953161592506],\"legendgroup\":\"\",\"line\":{\"color\":\"#636efa\",\"dash\":\"solid\"},\"marker\":{\"symbol\":\"circle\"},\"mode\":\"lines\",\"name\":\"\",\"orientation\":\"v\",\"showlegend\":false,\"x\":[\"2020-07-01\",\"2020-07-01\"],\"xaxis\":\"x\",\"y\":[0.09737827715355805,0.07259953161592506],\"yaxis\":\"y\",\"type\":\"scatter\"}],\"name\":\"2020-07-01\"},{\"data\":[{\"hovertemplate\":\"date_mensuelle=%{x}\\u003cbr\\u003eTARGET=%{y}\\u003cextra\\u003e\\u003c\\u002fextra\\u003e\",\"ids\":[0.09782608695652174,0.07344890510948905],\"legendgroup\":\"\",\"line\":{\"color\":\"#636efa\",\"dash\":\"solid\"},\"marker\":{\"symbol\":\"circle\"},\"mode\":\"lines\",\"name\":\"\",\"orientation\":\"v\",\"showlegend\":false,\"x\":[\"2020-08-01\",\"2020-08-01\"],\"xaxis\":\"x\",\"y\":[0.09782608695652174,0.07344890510948905],\"yaxis\":\"y\",\"type\":\"scatter\"}],\"name\":\"2020-08-01\"},{\"data\":[{\"hovertemplate\":\"date_mensuelle=%{x}\\u003cbr\\u003eTARGET=%{y}\\u003cextra\\u003e\\u003c\\u002fextra\\u003e\",\"ids\":[0.08708414872798434,0.07836846929422549],\"legendgroup\":\"\",\"line\":{\"color\":\"#636efa\",\"dash\":\"solid\"},\"marker\":{\"symbol\":\"circle\"},\"mode\":\"lines\",\"name\":\"\",\"orientation\":\"v\",\"showlegend\":false,\"x\":[\"2020-09-01\",\"2020-09-01\"],\"xaxis\":\"x\",\"y\":[0.08708414872798434,0.07836846929422549],\"yaxis\":\"y\",\"type\":\"scatter\"}],\"name\":\"2020-09-01\"},{\"data\":[{\"hovertemplate\":\"date_mensuelle=%{x}\\u003cbr\\u003eTARGET=%{y}\\u003cextra\\u003e\\u003c\\u002fextra\\u003e\",\"ids\":[0.10068426197458455,0.07113354749885269],\"legendgroup\":\"\",\"line\":{\"color\":\"#636efa\",\"dash\":\"solid\"},\"marker\":{\"symbol\":\"circle\"},\"mode\":\"lines\",\"name\":\"\",\"orientation\":\"v\",\"showlegend\":false,\"x\":[\"2020-10-01\",\"2020-10-01\"],\"xaxis\":\"x\",\"y\":[0.10068426197458455,0.07113354749885269],\"yaxis\":\"y\",\"type\":\"scatter\"}],\"name\":\"2020-10-01\"},{\"data\":[{\"hovertemplate\":\"date_mensuelle=%{x}\\u003cbr\\u003eTARGET=%{y}\\u003cextra\\u003e\\u003c\\u002fextra\\u003e\",\"ids\":[0.09227683049147442,0.07486388384754991],\"legendgroup\":\"\",\"line\":{\"color\":\"#636efa\",\"dash\":\"solid\"},\"marker\":{\"symbol\":\"circle\"},\"mode\":\"lines\",\"name\":\"\",\"orientation\":\"v\",\"showlegend\":false,\"x\":[\"2020-11-01\",\"2020-11-01\"],\"xaxis\":\"x\",\"y\":[0.09227683049147442,0.07486388384754991],\"yaxis\":\"y\",\"type\":\"scatter\"}],\"name\":\"2020-11-01\"},{\"data\":[{\"hovertemplate\":\"date_mensuelle=%{x}\\u003cbr\\u003eTARGET=%{y}\\u003cextra\\u003e\\u003c\\u002fextra\\u003e\",\"ids\":[0.09933774834437085,0.07132867132867132],\"legendgroup\":\"\",\"line\":{\"color\":\"#636efa\",\"dash\":\"solid\"},\"marker\":{\"symbol\":\"circle\"},\"mode\":\"lines\",\"name\":\"\",\"orientation\":\"v\",\"showlegend\":false,\"x\":[\"2020-12-01\",\"2020-12-01\"],\"xaxis\":\"x\",\"y\":[0.09933774834437085,0.07132867132867132],\"yaxis\":\"y\",\"type\":\"scatter\"}],\"name\":\"2020-12-01\"}]);\n                        }).then(function(){\n                            \nvar gd = document.getElementById('062d69e7-a924-43f7-9820-4d41ac0aa9e8');\nvar x = new MutationObserver(function (mutations, observer) {{\n        var display = window.getComputedStyle(gd).display;\n        if (!display || display === 'none') {{\n            console.log([gd, 'removed!']);\n            Plotly.purge(gd);\n            observer.disconnect();\n        }}\n}});\n\n// Listen for the removal of the full notebook cells\nvar notebookContainer = gd.closest('#notebook-container');\nif (notebookContainer) {{\n    x.observe(notebookContainer, {childList: true});\n}}\n\n// Listen for the clearing of the current output cell\nvar outputEl = gd.closest('.output');\nif (outputEl) {{\n    x.observe(outputEl, {childList: true});\n}}\n\n                        })                };                });            </script>        </div>"
     },
     "metadata": {},
     "output_type": "display_data"
    }
   ],
   "source": [
    "stability_df = df.groupby([\"date_mensuelle\", \"AMT_PAYMENT_disc_int\"])[\"TARGET\"].mean().reset_index()\n",
    "\n",
    "# Création du graphique animé\n",
    "fig = px.line(stability_df,\n",
    "              x=\"date_mensuelle\",\n",
    "              y=\"TARGET\",\n",
    "              title=f'Stabilité temporelle de AMT_CREDIT_SUM_DEBT_disc_int',\n",
    "              animation_frame=\"date_mensuelle\",  # Use the date as the animation frame\n",
    "              animation_group=\"TARGET\")  # Group by the discretized debt feature\n",
    "\n",
    "fig.show()"
   ],
   "metadata": {
    "collapsed": false,
    "ExecuteTime": {
     "end_time": "2024-03-31T20:23:29.390131Z",
     "start_time": "2024-03-31T20:23:29.073002Z"
    }
   },
   "id": "7fa8fd3e56adf0b"
  },
  {
   "cell_type": "code",
   "execution_count": null,
   "outputs": [],
   "source": [],
   "metadata": {
    "collapsed": false
   },
   "id": "5d2e1b88f572a0e"
  }
 ],
 "metadata": {
  "kernelspec": {
   "display_name": "Python 3",
   "language": "python",
   "name": "python3"
  },
  "language_info": {
   "codemirror_mode": {
    "name": "ipython",
    "version": 2
   },
   "file_extension": ".py",
   "mimetype": "text/x-python",
   "name": "python",
   "nbconvert_exporter": "python",
   "pygments_lexer": "ipython2",
   "version": "2.7.6"
  }
 },
 "nbformat": 4,
 "nbformat_minor": 5
}
