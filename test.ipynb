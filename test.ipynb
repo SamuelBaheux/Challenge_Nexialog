{
 "cells": [
  {
   "cell_type": "code",
   "execution_count": 2,
   "outputs": [],
   "source": [
    "import warnings\n",
    "from concurrent.futures import ProcessPoolExecutor\n",
    "from functools import partial\n",
    "\n",
    "import matplotlib.pyplot as plt\n",
    "import numpy as np\n",
    "import pandas as pd\n",
    "from deap import base, creator, tools, algorithms\n",
    "from scipy.stats import chi2_contingency\n",
    "from tqdm import tqdm\n"
   ],
   "metadata": {
    "collapsed": false,
    "ExecuteTime": {
     "end_time": "2024-03-21T09:39:24.045126Z",
     "start_time": "2024-03-21T09:39:24.029823Z"
    }
   },
   "id": "f02d84cc39101f5c"
  },
  {
   "cell_type": "code",
   "execution_count": 30,
   "outputs": [],
   "source": [
    "class Genetic_Numerical_Discretisation():\n",
    "    def __init__(self, train, variables_dict, plot=False):\n",
    "        self.train = train\n",
    "        self.variables_dict = variables_dict\n",
    "        self.plot = plot\n",
    "\n",
    "    def evalChi2(self, individual, variable, dataset):\n",
    "        individual_sorted = sorted(individual)\n",
    "        percentiles = [max(0, min(i * 100, 100)) for i in individual_sorted]\n",
    "        thresholds = np.percentile(dataset[variable], percentiles)\n",
    "\n",
    "        thresholds = np.unique(thresholds)\n",
    "\n",
    "        disc_var = np.digitize(dataset[variable].dropna(), thresholds)\n",
    "        dataset['disc_var'] = disc_var\n",
    "\n",
    "        contingency_table = pd.crosstab(dataset['disc_var'], dataset['TARGET'])\n",
    "        chi2, p, dof, expected = chi2_contingency(contingency_table)\n",
    "\n",
    "        return chi2,\n",
    "\n",
    "    def plot_stability(self, variable):\n",
    "        fig, axes = plt.subplots(nrows=1, ncols=2, figsize=(20, 5))\n",
    "\n",
    "        stability_volume_df = self.train.groupby(['date_trimestrielle', variable]).size().unstack()\n",
    "\n",
    "        for class_label in stability_volume_df.columns:\n",
    "            values = stability_volume_df[class_label]\n",
    "            axes[0].plot(stability_volume_df.index, values, label=f'Classe {class_label}', marker='o')\n",
    "\n",
    "        axes[0].set_title(f'Stabilité de volume pour {variable}')\n",
    "        axes[0].set_xlabel('Date')\n",
    "        axes[0].set_ylabel('Nombre d\\'observations')\n",
    "        axes[0].legend(title='Classes de_binned', loc='upper left', bbox_to_anchor=(1, 1))\n",
    "        axes[0].tick_params(axis='x', rotation=45)\n",
    "\n",
    "        stability_taux_df = self.train.groupby(['date_trimestrielle', variable])['TARGET'].mean().unstack()\n",
    "        stability_taux_df['stability'] = stability_taux_df.std(axis=1) / stability_taux_df.mean(axis=1)\n",
    "\n",
    "        for class_label in stability_taux_df.drop('stability', axis=1).columns:\n",
    "            values = stability_taux_df[class_label]\n",
    "            axes[1].plot(stability_taux_df.index, values, label=f'Classe {class_label}', marker='o')\n",
    "\n",
    "        axes[1].set_title(f'Stabilité de taux pour {variable}')\n",
    "        axes[1].set_xlabel('Date')\n",
    "        axes[1].set_ylabel('Proportion de la cible TARGET')\n",
    "        axes[1].legend(title='Classes de_binned', loc='upper left', bbox_to_anchor=(1, 1))\n",
    "        axes[1].tick_params(axis='x', rotation=45)\n",
    "\n",
    "        plt.tight_layout()\n",
    "        plt.show()\n",
    "\n",
    "    def genetic_discretisation(self, train_set, variable, nb_classes_max):\n",
    "        temp = train_set[[variable, 'TARGET']].copy()\n",
    "        NB_GEN = 5\n",
    "        POP_SIZE = 100\n",
    "        CXPB, MUTPB = 0.5, 0.2\n",
    "\n",
    "        creator.create(\"FitnessMax\", base.Fitness, weights=(1.0,))\n",
    "        creator.create(\"Individual\", list, fitness=creator.FitnessMax)\n",
    "\n",
    "        def custom_crossover(ind1, ind2):\n",
    "            if len(ind1) > 1 and len(ind2) > 1:\n",
    "                return tools.cxTwoPoint(ind1, ind2)\n",
    "            else:\n",
    "                return ind1, ind2\n",
    "\n",
    "        toolbox = base.Toolbox()\n",
    "        toolbox.register(\"attr_float\", np.random.uniform, 0, 1)\n",
    "        toolbox.register(\"individual\", tools.initRepeat, creator.Individual, toolbox.attr_float, n=nb_classes_max)\n",
    "        toolbox.register(\"population\", tools.initRepeat, list, toolbox.individual)\n",
    "        toolbox.register(\"evaluate\", partial(self.evalChi2, variable=variable, dataset=temp))\n",
    "        toolbox.register(\"mate\", custom_crossover)\n",
    "        toolbox.register(\"mutate\", tools.mutGaussian, mu=0, sigma=1, indpb=0.2)\n",
    "        toolbox.register(\"select\", tools.selTournament, tournsize=3)\n",
    "\n",
    "        population = toolbox.population(n=POP_SIZE)\n",
    "        algorithms.eaSimple(population, toolbox, cxpb=CXPB, mutpb=MUTPB, ngen=NB_GEN, verbose=False)\n",
    "\n",
    "        best_ind = tools.selBest(population, 1)[0]\n",
    "        return (best_ind)\n",
    "\n",
    "    def run_discretisation(self):\n",
    "        self.train[\"date_mensuelle\"] = pd.to_datetime(self.train[\"date_mensuelle\"])\n",
    "        self.train['date_trimestrielle'] = (self.train['date_mensuelle'].dt.year.astype(str) + '_' +\n",
    "                                            self.train['date_mensuelle'].dt.quarter.astype(str))\n",
    "\n",
    "        self.intervalles_dic = {}\n",
    "\n",
    "        def discretize_variable(variable):\n",
    "            bins = self.genetic_discretisation(self.train, variable, self.variables_dict[variable] - 1)\n",
    "            bins_normalise = sorted([min(1, max(0, val)) for val in bins])\n",
    "\n",
    "            seuils = np.percentile(self.train[variable], [val * 100 for val in bins_normalise])\n",
    "            seuils_uniques = np.unique(seuils)\n",
    "\n",
    "            self.train[f'{variable}_disc'] = np.digitize(self.train[variable], seuils_uniques)\n",
    "\n",
    "            intervalles = self.train.groupby(f'{variable}_disc')[variable].agg(['min', 'max'])\n",
    "\n",
    "            dict_renommage = {modalite: f'[{round(row[\"min\"], 2)};{round(row[\"max\"], 2)}]' for modalite, row in\n",
    "                              intervalles.iterrows()}\n",
    "\n",
    "            self.intervalles_dic[variable] = dict_renommage\n",
    "\n",
    "            self.train[f'{variable}_disc_int'] = self.train[f'{variable}_disc'].map(dict_renommage)\n",
    "\n",
    "        ProcessPoolExecutor().map(discretize_variable, self.variables_dict)\n",
    "\n",
    "        return self.train"
   ],
   "metadata": {
    "collapsed": false,
    "ExecuteTime": {
     "end_time": "2024-03-21T09:45:04.754033Z",
     "start_time": "2024-03-21T09:45:04.746227Z"
    }
   },
   "id": "644fc01d542d9206"
  },
  {
   "cell_type": "code",
   "execution_count": 31,
   "outputs": [],
   "source": [
    "train = pd.read_csv(\"./data/application_train_vf.csv\")"
   ],
   "metadata": {
    "collapsed": false,
    "ExecuteTime": {
     "end_time": "2024-03-21T09:45:08.295927Z",
     "start_time": "2024-03-21T09:45:05.356566Z"
    }
   },
   "id": "a7a0cb77ac55d6a1"
  },
  {
   "cell_type": "code",
   "execution_count": 32,
   "outputs": [],
   "source": [
    "dict_variable = {\n",
    "    \"EXT_SOURCE_2\" : 3,\n",
    "    \"EXT_SOURCE_1\" : 2, \n",
    "    \"EXT_SOURCE_3\" :2\n",
    "}"
   ],
   "metadata": {
    "collapsed": false,
    "ExecuteTime": {
     "end_time": "2024-03-21T09:45:09.546962Z",
     "start_time": "2024-03-21T09:45:09.539822Z"
    }
   },
   "id": "c2df8c9e2fbe7972"
  },
  {
   "cell_type": "code",
   "execution_count": 33,
   "outputs": [],
   "source": [
    "discretizer = Genetic_Numerical_Discretisation(train, dict_variable, False)"
   ],
   "metadata": {
    "collapsed": false,
    "ExecuteTime": {
     "end_time": "2024-03-21T09:45:09.847854Z",
     "start_time": "2024-03-21T09:45:09.843760Z"
    }
   },
   "id": "4a9448ade7231de5"
  },
  {
   "cell_type": "code",
   "execution_count": 34,
   "outputs": [],
   "source": [
    "t = discretizer.run_discretisation()"
   ],
   "metadata": {
    "collapsed": false,
    "ExecuteTime": {
     "end_time": "2024-03-21T09:45:10.789784Z",
     "start_time": "2024-03-21T09:45:10.420561Z"
    }
   },
   "id": "1c9d7147bfdd3190"
  },
  {
   "cell_type": "code",
   "execution_count": 29,
   "outputs": [
    {
     "ename": "KeyError",
     "evalue": "'EXT_SOURCE_2_disc_int'",
     "output_type": "error",
     "traceback": [
      "\u001B[0;31m---------------------------------------------------------------------------\u001B[0m",
      "\u001B[0;31mKeyError\u001B[0m                                  Traceback (most recent call last)",
      "File \u001B[0;32m~/Documents/École/Université/M2/M2_S1/Challenge_Nexialog/venv/lib/python3.9/site-packages/pandas/core/indexes/base.py:3791\u001B[0m, in \u001B[0;36mIndex.get_loc\u001B[0;34m(self, key)\u001B[0m\n\u001B[1;32m   3790\u001B[0m \u001B[38;5;28;01mtry\u001B[39;00m:\n\u001B[0;32m-> 3791\u001B[0m     \u001B[38;5;28;01mreturn\u001B[39;00m \u001B[38;5;28;43mself\u001B[39;49m\u001B[38;5;241;43m.\u001B[39;49m\u001B[43m_engine\u001B[49m\u001B[38;5;241;43m.\u001B[39;49m\u001B[43mget_loc\u001B[49m\u001B[43m(\u001B[49m\u001B[43mcasted_key\u001B[49m\u001B[43m)\u001B[49m\n\u001B[1;32m   3792\u001B[0m \u001B[38;5;28;01mexcept\u001B[39;00m \u001B[38;5;167;01mKeyError\u001B[39;00m \u001B[38;5;28;01mas\u001B[39;00m err:\n",
      "File \u001B[0;32mindex.pyx:152\u001B[0m, in \u001B[0;36mpandas._libs.index.IndexEngine.get_loc\u001B[0;34m()\u001B[0m\n",
      "File \u001B[0;32mindex.pyx:181\u001B[0m, in \u001B[0;36mpandas._libs.index.IndexEngine.get_loc\u001B[0;34m()\u001B[0m\n",
      "File \u001B[0;32mpandas/_libs/hashtable_class_helper.pxi:7080\u001B[0m, in \u001B[0;36mpandas._libs.hashtable.PyObjectHashTable.get_item\u001B[0;34m()\u001B[0m\n",
      "File \u001B[0;32mpandas/_libs/hashtable_class_helper.pxi:7088\u001B[0m, in \u001B[0;36mpandas._libs.hashtable.PyObjectHashTable.get_item\u001B[0;34m()\u001B[0m\n",
      "\u001B[0;31mKeyError\u001B[0m: 'EXT_SOURCE_2_disc_int'",
      "\nThe above exception was the direct cause of the following exception:\n",
      "\u001B[0;31mKeyError\u001B[0m                                  Traceback (most recent call last)",
      "Cell \u001B[0;32mIn[29], line 1\u001B[0m\n\u001B[0;32m----> 1\u001B[0m \u001B[43mt\u001B[49m\u001B[43m[\u001B[49m\u001B[38;5;124;43m\"\u001B[39;49m\u001B[38;5;124;43mEXT_SOURCE_2_disc_int\u001B[39;49m\u001B[38;5;124;43m\"\u001B[39;49m\u001B[43m]\u001B[49m\n",
      "File \u001B[0;32m~/Documents/École/Université/M2/M2_S1/Challenge_Nexialog/venv/lib/python3.9/site-packages/pandas/core/frame.py:3893\u001B[0m, in \u001B[0;36mDataFrame.__getitem__\u001B[0;34m(self, key)\u001B[0m\n\u001B[1;32m   3891\u001B[0m \u001B[38;5;28;01mif\u001B[39;00m \u001B[38;5;28mself\u001B[39m\u001B[38;5;241m.\u001B[39mcolumns\u001B[38;5;241m.\u001B[39mnlevels \u001B[38;5;241m>\u001B[39m \u001B[38;5;241m1\u001B[39m:\n\u001B[1;32m   3892\u001B[0m     \u001B[38;5;28;01mreturn\u001B[39;00m \u001B[38;5;28mself\u001B[39m\u001B[38;5;241m.\u001B[39m_getitem_multilevel(key)\n\u001B[0;32m-> 3893\u001B[0m indexer \u001B[38;5;241m=\u001B[39m \u001B[38;5;28;43mself\u001B[39;49m\u001B[38;5;241;43m.\u001B[39;49m\u001B[43mcolumns\u001B[49m\u001B[38;5;241;43m.\u001B[39;49m\u001B[43mget_loc\u001B[49m\u001B[43m(\u001B[49m\u001B[43mkey\u001B[49m\u001B[43m)\u001B[49m\n\u001B[1;32m   3894\u001B[0m \u001B[38;5;28;01mif\u001B[39;00m is_integer(indexer):\n\u001B[1;32m   3895\u001B[0m     indexer \u001B[38;5;241m=\u001B[39m [indexer]\n",
      "File \u001B[0;32m~/Documents/École/Université/M2/M2_S1/Challenge_Nexialog/venv/lib/python3.9/site-packages/pandas/core/indexes/base.py:3798\u001B[0m, in \u001B[0;36mIndex.get_loc\u001B[0;34m(self, key)\u001B[0m\n\u001B[1;32m   3793\u001B[0m     \u001B[38;5;28;01mif\u001B[39;00m \u001B[38;5;28misinstance\u001B[39m(casted_key, \u001B[38;5;28mslice\u001B[39m) \u001B[38;5;129;01mor\u001B[39;00m (\n\u001B[1;32m   3794\u001B[0m         \u001B[38;5;28misinstance\u001B[39m(casted_key, abc\u001B[38;5;241m.\u001B[39mIterable)\n\u001B[1;32m   3795\u001B[0m         \u001B[38;5;129;01mand\u001B[39;00m \u001B[38;5;28many\u001B[39m(\u001B[38;5;28misinstance\u001B[39m(x, \u001B[38;5;28mslice\u001B[39m) \u001B[38;5;28;01mfor\u001B[39;00m x \u001B[38;5;129;01min\u001B[39;00m casted_key)\n\u001B[1;32m   3796\u001B[0m     ):\n\u001B[1;32m   3797\u001B[0m         \u001B[38;5;28;01mraise\u001B[39;00m InvalidIndexError(key)\n\u001B[0;32m-> 3798\u001B[0m     \u001B[38;5;28;01mraise\u001B[39;00m \u001B[38;5;167;01mKeyError\u001B[39;00m(key) \u001B[38;5;28;01mfrom\u001B[39;00m \u001B[38;5;21;01merr\u001B[39;00m\n\u001B[1;32m   3799\u001B[0m \u001B[38;5;28;01mexcept\u001B[39;00m \u001B[38;5;167;01mTypeError\u001B[39;00m:\n\u001B[1;32m   3800\u001B[0m     \u001B[38;5;66;03m# If we have a listlike key, _check_indexing_error will raise\u001B[39;00m\n\u001B[1;32m   3801\u001B[0m     \u001B[38;5;66;03m#  InvalidIndexError. Otherwise we fall through and re-raise\u001B[39;00m\n\u001B[1;32m   3802\u001B[0m     \u001B[38;5;66;03m#  the TypeError.\u001B[39;00m\n\u001B[1;32m   3803\u001B[0m     \u001B[38;5;28mself\u001B[39m\u001B[38;5;241m.\u001B[39m_check_indexing_error(key)\n",
      "\u001B[0;31mKeyError\u001B[0m: 'EXT_SOURCE_2_disc_int'"
     ]
    }
   ],
   "source": [
    "t[\"EXT_SOURCE_2_disc_int\"]"
   ],
   "metadata": {
    "collapsed": false,
    "ExecuteTime": {
     "end_time": "2024-03-21T09:44:38.305716Z",
     "start_time": "2024-03-21T09:44:38.259458Z"
    }
   },
   "id": "b1b8d3c7f43e3ac0"
  },
  {
   "cell_type": "code",
   "execution_count": null,
   "outputs": [],
   "source": [],
   "metadata": {
    "collapsed": false
   },
   "id": "838605efd931a2c1"
  }
 ],
 "metadata": {
  "kernelspec": {
   "display_name": "Python 3",
   "language": "python",
   "name": "python3"
  },
  "language_info": {
   "codemirror_mode": {
    "name": "ipython",
    "version": 2
   },
   "file_extension": ".py",
   "mimetype": "text/x-python",
   "name": "python",
   "nbconvert_exporter": "python",
   "pygments_lexer": "ipython2",
   "version": "2.7.6"
  }
 },
 "nbformat": 4,
 "nbformat_minor": 5
}
