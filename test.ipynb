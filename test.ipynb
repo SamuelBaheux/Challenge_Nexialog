{
 "cells": [
  {
   "cell_type": "code",
   "execution_count": 1,
   "id": "initial_id",
   "metadata": {
    "collapsed": true,
    "ExecuteTime": {
     "end_time": "2024-03-20T14:39:00.849146Z",
     "start_time": "2024-03-20T14:38:58.995238Z"
    }
   },
   "outputs": [],
   "source": [
    "import sys \n",
    "sys.path.append(\"./script\")\n",
    "\n",
    "from data_preparation import DashDataPreparation\n",
    "from Logit_utils import GridScore, LogitModel\n",
    "from XGB_utils import XGB_model, GridScoreXGB"
   ]
  },
  {
   "cell_type": "markdown",
   "source": [
    "# Préparation des données"
   ],
   "metadata": {
    "collapsed": false
   },
   "id": "115a38acb49afa9d"
  },
  {
   "cell_type": "code",
   "execution_count": 2,
   "outputs": [],
   "source": [
    "dataprep = DashDataPreparation()"
   ],
   "metadata": {
    "collapsed": false,
    "ExecuteTime": {
     "end_time": "2024-03-20T14:39:04.609562Z",
     "start_time": "2024-03-20T14:39:02.087456Z"
    }
   },
   "id": "7f8b07fe858e05c"
  },
  {
   "cell_type": "code",
   "execution_count": 3,
   "outputs": [
    {
     "name": "stdout",
     "output_type": "stream",
     "text": [
      "Variables extérieures récupérées ✅\n",
      "Type des variables convertis ✅\n",
      "Valeurs manquantes traitées ✅\n"
     ]
    }
   ],
   "source": [
    "dataprep.intialize_data()"
   ],
   "metadata": {
    "collapsed": false,
    "ExecuteTime": {
     "end_time": "2024-03-20T14:39:35.676866Z",
     "start_time": "2024-03-20T14:39:04.597017Z"
    }
   },
   "id": "2d3611bf4977027"
  },
  {
   "cell_type": "code",
   "execution_count": 4,
   "outputs": [],
   "source": [
    "dataprep.init_vars( ['REGION_RATING_CLIENT_W_CITY', 'DAYS_CREDIT_ENDDATE', 'RATE_DOWN_PAYMENT', 'AMT_PAYMENT', 'NAME_INCOME_TYPE', 'OCCUPATION_TYPE'])"
   ],
   "metadata": {
    "collapsed": false,
    "ExecuteTime": {
     "end_time": "2024-03-20T14:39:35.796933Z",
     "start_time": "2024-03-20T14:39:35.681459Z"
    }
   },
   "id": "47d86d0648f57fa6"
  },
  {
   "cell_type": "code",
   "execution_count": 5,
   "outputs": [
    {
     "name": "stdout",
     "output_type": "stream",
     "text": [
      "Discrétisation des variables numériques en cours ... \n"
     ]
    },
    {
     "name": "stderr",
     "output_type": "stream",
     "text": [
      "100%|██████████| 3/3 [00:58<00:00, 19.56s/it]\n"
     ]
    },
    {
     "name": "stdout",
     "output_type": "stream",
     "text": [
      "Variables numériques discrétisées ✅\n",
      "Discrétisation des variables catégorielles en cours ... \n",
      "Variables catégorielles discrétisées ✅\n"
     ]
    }
   ],
   "source": [
    "train_prepared = dataprep.get_prepared_data()"
   ],
   "metadata": {
    "collapsed": false,
    "ExecuteTime": {
     "end_time": "2024-03-20T14:40:35.075164Z",
     "start_time": "2024-03-20T14:39:35.808225Z"
    }
   },
   "id": "8515b60d5c27cce"
  },
  {
   "cell_type": "markdown",
   "source": [
    "# Modèle XGB"
   ],
   "metadata": {
    "collapsed": false
   },
   "id": "c1b37f4f54abcf97"
  },
  {
   "cell_type": "code",
   "execution_count": 6,
   "outputs": [],
   "source": [
    "model = XGB_model(train_prepared, dataprep.discretizer.intervalles_dic)\n",
    "shap_df = model.run_xgb_model()"
   ],
   "metadata": {
    "collapsed": false,
    "ExecuteTime": {
     "end_time": "2024-03-20T14:40:41.244774Z",
     "start_time": "2024-03-20T14:40:35.093498Z"
    }
   },
   "id": "4b065d1a706f81ff"
  },
  {
   "cell_type": "code",
   "execution_count": 7,
   "outputs": [
    {
     "data": {
      "text/plain": "                        Variable                     Modality  Coefficient  \\\n0     RATE_DOWN_PAYMENT_disc_int               [0.2;4.48]_ref    -0.173039   \n1     RATE_DOWN_PAYMENT_disc_int                   [-0.0;0.2]     0.073328   \n2           AMT_PAYMENT_disc_int  [123720.66;25537053.78]_ref    -0.057911   \n3           AMT_PAYMENT_disc_int              [0.0;123720.16]     0.138762   \n4    REGION_RATING_CLIENT_W_CITY                  un_deux_ref    -0.071786   \n5    REGION_RATING_CLIENT_W_CITY                        trois     0.363954   \n6        OCCUPATION_TYPE_discret             high_skilled_ref    -0.285343   \n7        OCCUPATION_TYPE_discret                  low_skilled     0.075684   \n8       NAME_INCOME_TYPE_discret               Low_income_ref    -0.382180   \n9       NAME_INCOME_TYPE_discret                  high_income     0.103660   \n10  DAYS_CREDIT_ENDDATE_disc_int       [-155271.0;-207.0]_ref    -0.273230   \n11  DAYS_CREDIT_ENDDATE_disc_int            [-206.0;214193.0]     0.183862   \n\n         Score  Contribution  Pcentage_Défaut  Pcentage_Classe  \n0   112.870810          11.0             2.03            32.47  \n1     0.000000          11.0             5.64            67.53  \n2    90.103632           9.0             5.17            72.52  \n3     0.000000           9.0             2.50            27.48  \n4   199.629595          20.0             6.13            85.76  \n5     0.000000          20.0             1.55            14.24  \n6   165.400836          17.0             1.35            23.12  \n7     0.000000          17.0             6.32            76.88  \n8   222.582780          22.0             1.31            25.11  \n9     0.000000          22.0             6.36            74.89  \n10  209.412347          21.0             2.60            45.01  \n11    0.000000          21.0             5.07            54.99  ",
      "text/html": "<div>\n<style scoped>\n    .dataframe tbody tr th:only-of-type {\n        vertical-align: middle;\n    }\n\n    .dataframe tbody tr th {\n        vertical-align: top;\n    }\n\n    .dataframe thead th {\n        text-align: right;\n    }\n</style>\n<table border=\"1\" class=\"dataframe\">\n  <thead>\n    <tr style=\"text-align: right;\">\n      <th></th>\n      <th>Variable</th>\n      <th>Modality</th>\n      <th>Coefficient</th>\n      <th>Score</th>\n      <th>Contribution</th>\n      <th>Pcentage_Défaut</th>\n      <th>Pcentage_Classe</th>\n    </tr>\n  </thead>\n  <tbody>\n    <tr>\n      <th>0</th>\n      <td>RATE_DOWN_PAYMENT_disc_int</td>\n      <td>[0.2;4.48]_ref</td>\n      <td>-0.173039</td>\n      <td>112.870810</td>\n      <td>11.0</td>\n      <td>2.03</td>\n      <td>32.47</td>\n    </tr>\n    <tr>\n      <th>1</th>\n      <td>RATE_DOWN_PAYMENT_disc_int</td>\n      <td>[-0.0;0.2]</td>\n      <td>0.073328</td>\n      <td>0.000000</td>\n      <td>11.0</td>\n      <td>5.64</td>\n      <td>67.53</td>\n    </tr>\n    <tr>\n      <th>2</th>\n      <td>AMT_PAYMENT_disc_int</td>\n      <td>[123720.66;25537053.78]_ref</td>\n      <td>-0.057911</td>\n      <td>90.103632</td>\n      <td>9.0</td>\n      <td>5.17</td>\n      <td>72.52</td>\n    </tr>\n    <tr>\n      <th>3</th>\n      <td>AMT_PAYMENT_disc_int</td>\n      <td>[0.0;123720.16]</td>\n      <td>0.138762</td>\n      <td>0.000000</td>\n      <td>9.0</td>\n      <td>2.50</td>\n      <td>27.48</td>\n    </tr>\n    <tr>\n      <th>4</th>\n      <td>REGION_RATING_CLIENT_W_CITY</td>\n      <td>un_deux_ref</td>\n      <td>-0.071786</td>\n      <td>199.629595</td>\n      <td>20.0</td>\n      <td>6.13</td>\n      <td>85.76</td>\n    </tr>\n    <tr>\n      <th>5</th>\n      <td>REGION_RATING_CLIENT_W_CITY</td>\n      <td>trois</td>\n      <td>0.363954</td>\n      <td>0.000000</td>\n      <td>20.0</td>\n      <td>1.55</td>\n      <td>14.24</td>\n    </tr>\n    <tr>\n      <th>6</th>\n      <td>OCCUPATION_TYPE_discret</td>\n      <td>high_skilled_ref</td>\n      <td>-0.285343</td>\n      <td>165.400836</td>\n      <td>17.0</td>\n      <td>1.35</td>\n      <td>23.12</td>\n    </tr>\n    <tr>\n      <th>7</th>\n      <td>OCCUPATION_TYPE_discret</td>\n      <td>low_skilled</td>\n      <td>0.075684</td>\n      <td>0.000000</td>\n      <td>17.0</td>\n      <td>6.32</td>\n      <td>76.88</td>\n    </tr>\n    <tr>\n      <th>8</th>\n      <td>NAME_INCOME_TYPE_discret</td>\n      <td>Low_income_ref</td>\n      <td>-0.382180</td>\n      <td>222.582780</td>\n      <td>22.0</td>\n      <td>1.31</td>\n      <td>25.11</td>\n    </tr>\n    <tr>\n      <th>9</th>\n      <td>NAME_INCOME_TYPE_discret</td>\n      <td>high_income</td>\n      <td>0.103660</td>\n      <td>0.000000</td>\n      <td>22.0</td>\n      <td>6.36</td>\n      <td>74.89</td>\n    </tr>\n    <tr>\n      <th>10</th>\n      <td>DAYS_CREDIT_ENDDATE_disc_int</td>\n      <td>[-155271.0;-207.0]_ref</td>\n      <td>-0.273230</td>\n      <td>209.412347</td>\n      <td>21.0</td>\n      <td>2.60</td>\n      <td>45.01</td>\n    </tr>\n    <tr>\n      <th>11</th>\n      <td>DAYS_CREDIT_ENDDATE_disc_int</td>\n      <td>[-206.0;214193.0]</td>\n      <td>0.183862</td>\n      <td>0.000000</td>\n      <td>21.0</td>\n      <td>5.07</td>\n      <td>54.99</td>\n    </tr>\n  </tbody>\n</table>\n</div>"
     },
     "execution_count": 7,
     "metadata": {},
     "output_type": "execute_result"
    }
   ],
   "source": [
    "gs = GridScoreXGB(train_prepared, shap_df)\n",
    "grid_score = gs.compute_grid_score()\n",
    "grid_score"
   ],
   "metadata": {
    "collapsed": false,
    "ExecuteTime": {
     "end_time": "2024-03-20T14:40:42.159499Z",
     "start_time": "2024-03-20T14:40:41.275856Z"
    }
   },
   "id": "5596ec383250c624"
  },
  {
   "cell_type": "code",
   "execution_count": 8,
   "outputs": [
    {
     "data": {
      "text/plain": "{'roc_auc': 0.6177352120548587,\n 'gini': 0.2354704241097174,\n 'fpr': array([0.        , 0.00870411, 0.02782839, 0.0298452 , 0.03596639,\n        0.09953118, 0.10282176, 0.11154356, 0.11476338, 0.1216276 ,\n        0.24352057, 0.25797435, 0.2594958 , 0.26007961, 0.27538257,\n        0.28387439, 0.2848651 , 0.28534277, 0.32544892, 0.32728881,\n        0.329341  , 0.33286157, 0.35469261, 0.42331712, 0.43302963,\n        0.45233083, 0.45250774, 0.45730208, 0.49997346, 0.50367094,\n        0.50687307, 0.5076161 , 0.52053074, 0.52605042, 0.61427687,\n        0.65882353, 0.65981424, 0.66430783, 0.66828837, 0.66906678,\n        0.67840778, 0.6793985 , 0.68320212, 0.69772667, 0.72242371,\n        0.7407165 , 0.80769571, 0.80946484, 0.81797435, 0.81935427,\n        0.8377709 , 0.83789474, 0.84229987, 0.87302963, 0.87686864,\n        0.88260062, 0.88702344, 0.88806723, 0.93551526, 0.93838125,\n        0.96212295, 0.98715613, 0.98798762, 0.99501106, 1.        ]),\n 'tpr': array([0.        , 0.02618693, 0.0685544 , 0.07238663, 0.08196721,\n        0.1835214 , 0.18799234, 0.20502448, 0.20928252, 0.21992761,\n        0.39344262, 0.41728763, 0.41877794, 0.41962955, 0.44304875,\n        0.45390675, 0.45497126, 0.45624867, 0.50010645, 0.50159676,\n        0.50308708, 0.50649351, 0.5290611 , 0.59463487, 0.60634448,\n        0.62486694, 0.62507984, 0.63125399, 0.66936342, 0.67255695,\n        0.67596338, 0.67617628, 0.68831169, 0.69171812, 0.76729828,\n        0.79859485, 0.79965936, 0.80242708, 0.80732382, 0.80774963,\n        0.81371088, 0.81456249, 0.81711731, 0.82584628, 0.84202683,\n        0.85437513, 0.90142644, 0.90334256, 0.9078135 , 0.9080264 ,\n        0.91569087, 0.91569087, 0.91845859, 0.93485203, 0.93868427,\n        0.9420907 , 0.94592293, 0.94677454, 0.96849053, 0.96998084,\n        0.98275495, 0.99489036, 0.99552906, 0.99850969, 1.        ])}"
     },
     "execution_count": 8,
     "metadata": {},
     "output_type": "execute_result"
    }
   ],
   "source": [
    "model.compute_metrics()"
   ],
   "metadata": {
    "collapsed": false,
    "ExecuteTime": {
     "end_time": "2024-03-20T14:40:42.212290Z",
     "start_time": "2024-03-20T14:40:42.159119Z"
    }
   },
   "id": "ad966129958c8ba1"
  },
  {
   "cell_type": "markdown",
   "source": [
    "# Modèle Logit"
   ],
   "metadata": {
    "collapsed": false
   },
   "id": "53dbbe8a66c10e95"
  },
  {
   "cell_type": "code",
   "execution_count": 9,
   "outputs": [],
   "source": [
    "model = LogitModel(train_prepared, dataprep.discretizer.intervalles_dic)"
   ],
   "metadata": {
    "collapsed": false,
    "ExecuteTime": {
     "end_time": "2024-03-20T14:40:47.623473Z",
     "start_time": "2024-03-20T14:40:47.621281Z"
    }
   },
   "id": "e9340b1699900c41"
  },
  {
   "cell_type": "code",
   "execution_count": 10,
   "outputs": [
    {
     "name": "stdout",
     "output_type": "stream",
     "text": [
      "Optimization terminated successfully.\n",
      "         Current function value: 0.261461\n",
      "         Iterations 7\n"
     ]
    }
   ],
   "source": [
    "logit = model.run_model()"
   ],
   "metadata": {
    "collapsed": false,
    "ExecuteTime": {
     "end_time": "2024-03-20T14:40:52.806894Z",
     "start_time": "2024-03-20T14:40:48.385571Z"
    }
   },
   "id": "1616c1b4e86a5f03"
  },
  {
   "cell_type": "code",
   "execution_count": 11,
   "outputs": [
    {
     "data": {
      "text/plain": "                        Variable                     Modality  Coefficient  \\\n0                      Intercept                            -    -3.865127   \n1   DAYS_CREDIT_ENDDATE_disc_int       [-155271.0;-207.0]_ref     0.000000   \n2   DAYS_CREDIT_ENDDATE_disc_int            [-206.0;214193.0]     0.460000   \n3     RATE_DOWN_PAYMENT_disc_int               [0.2;4.48]_ref     0.000000   \n4     RATE_DOWN_PAYMENT_disc_int                   [-0.0;0.2]     0.240000   \n5           AMT_PAYMENT_disc_int  [123720.66;25537053.78]_ref     0.000000   \n6           AMT_PAYMENT_disc_int              [0.0;123720.16]     0.200000   \n7       NAME_INCOME_TYPE_discret               Low_income_ref     0.000000   \n8       NAME_INCOME_TYPE_discret                  high_income     0.550000   \n9        OCCUPATION_TYPE_discret             high_skilled_ref     0.000000   \n10       OCCUPATION_TYPE_discret                  low_skilled     0.430000   \n11   REGION_RATING_CLIENT_W_CITY                  un_deux_ref     0.000000   \n12   REGION_RATING_CLIENT_W_CITY                        trois     0.470000   \n\n    P-Value       Score  Contribution  Pcentage_Défaut  Pcentage_Classe  \n0       0.0    0.000000           0.0             0.00             0.00  \n1       0.0  195.744681          20.0             2.60            45.01  \n2       0.0    0.000000          20.0             5.07            54.99  \n3       0.0  102.127660          10.0             2.03            32.47  \n4       0.0    0.000000          10.0             5.64            67.53  \n5       0.0   85.106383           9.0             5.17            72.52  \n6       0.0    0.000000           9.0             2.50            27.48  \n7       0.0  234.042553          23.0             1.31            25.11  \n8       0.0    0.000000          23.0             6.36            74.89  \n9       0.0  182.978723          18.0             1.35            23.12  \n10      0.0    0.000000          18.0             6.32            76.88  \n11      0.0  200.000000          20.0             6.13            85.76  \n12      0.0    0.000000          20.0             1.55            14.24  ",
      "text/html": "<div>\n<style scoped>\n    .dataframe tbody tr th:only-of-type {\n        vertical-align: middle;\n    }\n\n    .dataframe tbody tr th {\n        vertical-align: top;\n    }\n\n    .dataframe thead th {\n        text-align: right;\n    }\n</style>\n<table border=\"1\" class=\"dataframe\">\n  <thead>\n    <tr style=\"text-align: right;\">\n      <th></th>\n      <th>Variable</th>\n      <th>Modality</th>\n      <th>Coefficient</th>\n      <th>P-Value</th>\n      <th>Score</th>\n      <th>Contribution</th>\n      <th>Pcentage_Défaut</th>\n      <th>Pcentage_Classe</th>\n    </tr>\n  </thead>\n  <tbody>\n    <tr>\n      <th>0</th>\n      <td>Intercept</td>\n      <td>-</td>\n      <td>-3.865127</td>\n      <td>0.0</td>\n      <td>0.000000</td>\n      <td>0.0</td>\n      <td>0.00</td>\n      <td>0.00</td>\n    </tr>\n    <tr>\n      <th>1</th>\n      <td>DAYS_CREDIT_ENDDATE_disc_int</td>\n      <td>[-155271.0;-207.0]_ref</td>\n      <td>0.000000</td>\n      <td>0.0</td>\n      <td>195.744681</td>\n      <td>20.0</td>\n      <td>2.60</td>\n      <td>45.01</td>\n    </tr>\n    <tr>\n      <th>2</th>\n      <td>DAYS_CREDIT_ENDDATE_disc_int</td>\n      <td>[-206.0;214193.0]</td>\n      <td>0.460000</td>\n      <td>0.0</td>\n      <td>0.000000</td>\n      <td>20.0</td>\n      <td>5.07</td>\n      <td>54.99</td>\n    </tr>\n    <tr>\n      <th>3</th>\n      <td>RATE_DOWN_PAYMENT_disc_int</td>\n      <td>[0.2;4.48]_ref</td>\n      <td>0.000000</td>\n      <td>0.0</td>\n      <td>102.127660</td>\n      <td>10.0</td>\n      <td>2.03</td>\n      <td>32.47</td>\n    </tr>\n    <tr>\n      <th>4</th>\n      <td>RATE_DOWN_PAYMENT_disc_int</td>\n      <td>[-0.0;0.2]</td>\n      <td>0.240000</td>\n      <td>0.0</td>\n      <td>0.000000</td>\n      <td>10.0</td>\n      <td>5.64</td>\n      <td>67.53</td>\n    </tr>\n    <tr>\n      <th>5</th>\n      <td>AMT_PAYMENT_disc_int</td>\n      <td>[123720.66;25537053.78]_ref</td>\n      <td>0.000000</td>\n      <td>0.0</td>\n      <td>85.106383</td>\n      <td>9.0</td>\n      <td>5.17</td>\n      <td>72.52</td>\n    </tr>\n    <tr>\n      <th>6</th>\n      <td>AMT_PAYMENT_disc_int</td>\n      <td>[0.0;123720.16]</td>\n      <td>0.200000</td>\n      <td>0.0</td>\n      <td>0.000000</td>\n      <td>9.0</td>\n      <td>2.50</td>\n      <td>27.48</td>\n    </tr>\n    <tr>\n      <th>7</th>\n      <td>NAME_INCOME_TYPE_discret</td>\n      <td>Low_income_ref</td>\n      <td>0.000000</td>\n      <td>0.0</td>\n      <td>234.042553</td>\n      <td>23.0</td>\n      <td>1.31</td>\n      <td>25.11</td>\n    </tr>\n    <tr>\n      <th>8</th>\n      <td>NAME_INCOME_TYPE_discret</td>\n      <td>high_income</td>\n      <td>0.550000</td>\n      <td>0.0</td>\n      <td>0.000000</td>\n      <td>23.0</td>\n      <td>6.36</td>\n      <td>74.89</td>\n    </tr>\n    <tr>\n      <th>9</th>\n      <td>OCCUPATION_TYPE_discret</td>\n      <td>high_skilled_ref</td>\n      <td>0.000000</td>\n      <td>0.0</td>\n      <td>182.978723</td>\n      <td>18.0</td>\n      <td>1.35</td>\n      <td>23.12</td>\n    </tr>\n    <tr>\n      <th>10</th>\n      <td>OCCUPATION_TYPE_discret</td>\n      <td>low_skilled</td>\n      <td>0.430000</td>\n      <td>0.0</td>\n      <td>0.000000</td>\n      <td>18.0</td>\n      <td>6.32</td>\n      <td>76.88</td>\n    </tr>\n    <tr>\n      <th>11</th>\n      <td>REGION_RATING_CLIENT_W_CITY</td>\n      <td>un_deux_ref</td>\n      <td>0.000000</td>\n      <td>0.0</td>\n      <td>200.000000</td>\n      <td>20.0</td>\n      <td>6.13</td>\n      <td>85.76</td>\n    </tr>\n    <tr>\n      <th>12</th>\n      <td>REGION_RATING_CLIENT_W_CITY</td>\n      <td>trois</td>\n      <td>0.470000</td>\n      <td>0.0</td>\n      <td>0.000000</td>\n      <td>20.0</td>\n      <td>1.55</td>\n      <td>14.24</td>\n    </tr>\n  </tbody>\n</table>\n</div>"
     },
     "execution_count": 11,
     "metadata": {},
     "output_type": "execute_result"
    }
   ],
   "source": [
    "GS = GridScore(train_prepared, logit)\n",
    "grid_score = GS.compute_grid_score()\n",
    "grid_score"
   ],
   "metadata": {
    "collapsed": false,
    "ExecuteTime": {
     "end_time": "2024-03-20T14:40:54.639436Z",
     "start_time": "2024-03-20T14:40:52.812734Z"
    }
   },
   "id": "8eabceab69faed26"
  },
  {
   "cell_type": "code",
   "execution_count": 13,
   "outputs": [
    {
     "data": {
      "text/plain": "{'fpr': array([0.        , 0.00975282, 0.02904826, 0.03136035, 0.03560619,\n        0.04552716, 0.05170674, 0.11484782, 0.11753825, 0.12506306,\n        0.14007062, 0.25971078, 0.26034135, 0.26185472, 0.2785438 ,\n        0.28682529, 0.28716159, 0.29018833, 0.29229023, 0.31457037,\n        0.32428115, 0.39171011, 0.43055322, 0.43156213, 0.43479906,\n        0.43807802, 0.45800404, 0.46317471, 0.5042038 , 0.59420716,\n        0.59492181, 0.60076509, 0.60328737, 0.61514209, 0.62443249,\n        0.66932907, 0.66937111, 0.6701278 , 0.67407937, 0.67731629,\n        0.70144611, 0.71607533, 0.78346225, 0.78442912, 0.78501766,\n        0.78896923, 0.79296284, 0.81141752, 0.82886329, 0.85879435,\n        0.86320834, 0.86467967, 0.87418026, 0.92138894, 0.92147301,\n        0.92269211, 0.92723222, 0.95186649, 0.95295948, 0.95808811,\n        0.96065243, 0.98680007, 0.99365226, 0.9945771 , 1.        ]),\n 'tpr': array([0.        , 0.02716688, 0.07546356, 0.08020699, 0.08710651,\n        0.09874946, 0.11082363, 0.20439845, 0.21172919, 0.22294092,\n        0.24708926, 0.41699008, 0.41785252, 0.42130229, 0.44415696,\n        0.45278137, 0.45321259, 0.45493747, 0.45623113, 0.48037947,\n        0.4894351 , 0.55023717, 0.59465287, 0.59724019, 0.60068995,\n        0.60672704, 0.62699439, 0.62958172, 0.67184131, 0.74816731,\n        0.74946097, 0.75334196, 0.75463562, 0.76584735, 0.77231565,\n        0.80767572, 0.80767572, 0.80810694, 0.81112549, 0.81328159,\n        0.83009918, 0.84001725, 0.88184562, 0.88313928, 0.88400172,\n        0.88658905, 0.88917637, 0.9025442 , 0.91375593, 0.93359207,\n        0.93876671, 0.94006037, 0.94523502, 0.96722725, 0.96765847,\n        0.96765847, 0.96981458, 0.97800776, 0.97843898, 0.98231997,\n        0.98318241, 0.99439414, 0.9978439 , 0.99870634, 1.        ]),\n 'roc_auc': 0.6163651060869505,\n 'gini': 0.232730212173901}"
     },
     "execution_count": 13,
     "metadata": {},
     "output_type": "execute_result"
    }
   ],
   "source": [
    "model.get_metrics()"
   ],
   "metadata": {
    "collapsed": false,
    "ExecuteTime": {
     "end_time": "2024-03-20T14:40:57.125115Z",
     "start_time": "2024-03-20T14:40:56.954271Z"
    }
   },
   "id": "3c2eabdb748b19be"
  },
  {
   "cell_type": "code",
   "execution_count": null,
   "outputs": [],
   "source": [],
   "metadata": {
    "collapsed": false
   },
   "id": "d5765c0f5c2831ac"
  }
 ],
 "metadata": {
  "kernelspec": {
   "display_name": "Python 3",
   "language": "python",
   "name": "python3"
  },
  "language_info": {
   "codemirror_mode": {
    "name": "ipython",
    "version": 2
   },
   "file_extension": ".py",
   "mimetype": "text/x-python",
   "name": "python",
   "nbconvert_exporter": "python",
   "pygments_lexer": "ipython2",
   "version": "2.7.6"
  }
 },
 "nbformat": 4,
 "nbformat_minor": 5
}
