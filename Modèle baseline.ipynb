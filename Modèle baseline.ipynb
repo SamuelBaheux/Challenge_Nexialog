{
 "cells": [
  {
   "cell_type": "markdown",
   "source": [
    "# Imports"
   ],
   "metadata": {
    "collapsed": false
   },
   "id": "bb3747e2de32b992"
  },
  {
   "cell_type": "code",
   "execution_count": 41,
   "outputs": [],
   "source": [
    "import pandas as pd\n",
    "import matplotlib.pyplot as plt\n",
    "import seaborn as sns\n",
    "import plotly.express as px\n",
    "from scipy.stats import zscore\n",
    "import scipy.stats as stats\n",
    "from scipy.stats import chi2_contingency\n",
    "import numpy as np\n",
    "from sklearn.model_selection import train_test_split\n",
    "from sklearn.linear_model import LogisticRegression\n",
    "from sklearn.preprocessing import MinMaxScaler\n",
    "from sklearn.metrics import roc_curve, auc\n",
    "from mlxtend.evaluate import permutation_test\n",
    "import statsmodels.api as sm"
   ],
   "metadata": {
    "collapsed": false,
    "ExecuteTime": {
     "end_time": "2024-01-07T18:30:21.816666600Z",
     "start_time": "2024-01-07T18:30:18.437148400Z"
    }
   },
   "id": "initial_id"
  },
  {
   "cell_type": "code",
   "execution_count": 3,
   "outputs": [],
   "source": [
    "data = pd.read_csv('./data/df_train.csv')"
   ],
   "metadata": {
    "collapsed": false,
    "ExecuteTime": {
     "end_time": "2024-01-07T18:00:41.946702Z",
     "start_time": "2024-01-07T18:00:40.615506500Z"
    }
   },
   "id": "80509399f40920f"
  },
  {
   "cell_type": "markdown",
   "source": [
    "# Preprocessing"
   ],
   "metadata": {
    "collapsed": false
   },
   "id": "21756d4744ecb3e3"
  },
  {
   "cell_type": "code",
   "execution_count": 7,
   "outputs": [],
   "source": [
    "data.drop(columns = 'Unnamed: 0',inplace = True)"
   ],
   "metadata": {
    "collapsed": false,
    "ExecuteTime": {
     "end_time": "2024-01-07T18:02:03.349145700Z",
     "start_time": "2024-01-07T18:02:03.269464400Z"
    }
   },
   "id": "a9868fb1a2f78f28"
  },
  {
   "cell_type": "code",
   "execution_count": 11,
   "outputs": [
    {
     "data": {
      "text/plain": "CNT_CHILDREN                    0.000000\nAMT_INCOME_TOTAL                0.000000\nAMT_CREDIT                      0.000000\nREGION_POPULATION_RELATIVE      0.000000\nDAYS_BIRTH                      0.000000\nDAYS_EMPLOYED                   0.000000\nDAYS_REGISTRATION               0.000000\nDAYS_ID_PUBLISH                 0.000000\nFLAG_EMP_PHONE                  0.000000\nFLAG_WORK_PHONE                 0.000000\nFLAG_PHONE                      0.000000\nREGION_RATING_CLIENT            0.000000\nREGION_RATING_CLIENT_W_CITY     0.000000\nHOUR_APPR_PROCESS_START         0.000000\nREG_REGION_NOT_LIVE_REGION      0.000000\nREG_REGION_NOT_WORK_REGION      0.000000\nREG_CITY_NOT_LIVE_CITY          0.000000\nREG_CITY_NOT_WORK_CITY          0.000000\nLIVE_CITY_NOT_WORK_CITY         0.000000\nFLAG_DOCUMENT_2                 0.000000\nFLAG_DOCUMENT_3                 0.000000\nFLAG_DOCUMENT_6                 0.000000\nFLAG_DOCUMENT_8                 0.000000\nFLAG_DOCUMENT_9                 0.000000\nFLAG_DOCUMENT_11                0.000000\nFLAG_DOCUMENT_13                0.000000\nFLAG_DOCUMENT_14                0.000000\nFLAG_DOCUMENT_15                0.000000\nFLAG_DOCUMENT_16                0.000000\nFLAG_DOCUMENT_18                0.000000\nNAME_CONTRACT_TYPE              0.000000\nCODE_GENDER                     0.000000\nFLAG_OWN_CAR                    0.000000\nFLAG_OWN_REALTY                 0.000000\nNAME_TYPE_SUITE                 0.420115\nNAME_INCOME_TYPE                0.000000\nNAME_EDUCATION_TYPE             0.000000\nNAME_FAMILY_STATUS              0.000000\nNAME_HOUSING_TYPE               0.000000\nOCCUPATION_TYPE                31.377590\nWEEKDAY_APPR_PROCESS_START      0.000000\nORGANIZATION_TYPE               0.000000\nFONDKAPREMONT_MODE             68.363677\nHOUSETYPE_MODE                 50.143577\nWALLSMATERIAL_MODE             50.813278\nEMERGENCYSTATE_MODE            47.368404\nTARGET                          0.000000\ndtype: float64"
     },
     "execution_count": 11,
     "metadata": {},
     "output_type": "execute_result"
    }
   ],
   "source": [
    "data.isna().sum()/len(data)*100"
   ],
   "metadata": {
    "collapsed": false,
    "ExecuteTime": {
     "end_time": "2024-01-07T18:03:57.066711Z",
     "start_time": "2024-01-07T18:03:56.916624300Z"
    }
   },
   "id": "b5ba818656e36ecf"
  },
  {
   "cell_type": "code",
   "execution_count": 13,
   "outputs": [],
   "source": [
    "data.drop(columns = ['FONDKAPREMONT_MODE','WALLSMATERIAL_MODE','HOUSETYPE_MODE','EMERGENCYSTATE_MODE','OCCUPATION_TYPE'], inplace = True)"
   ],
   "metadata": {
    "collapsed": false,
    "ExecuteTime": {
     "end_time": "2024-01-07T18:06:03.221055700Z",
     "start_time": "2024-01-07T18:06:03.153016300Z"
    }
   },
   "id": "59caabfb4cfc0cf5"
  },
  {
   "cell_type": "code",
   "execution_count": 14,
   "outputs": [],
   "source": [
    "data.dropna(inplace = True)"
   ],
   "metadata": {
    "collapsed": false,
    "ExecuteTime": {
     "end_time": "2024-01-07T18:06:20.874075200Z",
     "start_time": "2024-01-07T18:06:20.711837Z"
    }
   },
   "id": "8221d8de0002057"
  },
  {
   "cell_type": "markdown",
   "source": [
    "# Encoding"
   ],
   "metadata": {
    "collapsed": false
   },
   "id": "cef75d5de1636629"
  },
  {
   "cell_type": "code",
   "execution_count": 23,
   "outputs": [],
   "source": [
    "for col in data.select_dtypes(include = 'object').columns:\n",
    "    print(f\"{col} : {data[col].nunique()}\")"
   ],
   "metadata": {
    "collapsed": false,
    "ExecuteTime": {
     "end_time": "2024-01-07T18:13:18.622298Z",
     "start_time": "2024-01-07T18:13:18.594418100Z"
    }
   },
   "id": "d72263cb4fdb207f"
  },
  {
   "cell_type": "markdown",
   "source": [
    "### Impact encoding\n",
    "\n",
    "Pour les variables qu'on ne peut pas OHE en raison de leur nombre de modalités"
   ],
   "metadata": {
    "collapsed": false
   },
   "id": "5ce56920d3801fc5"
  },
  {
   "cell_type": "code",
   "execution_count": 19,
   "outputs": [],
   "source": [
    "impact_dicts = {}\n",
    "categorical_columns = data.select_dtypes(include = 'object')\n",
    "\n",
    "for categorical_feature in ['ORGANIZATION_TYPE'] :\n",
    "\n",
    "    category_means = data.groupby(categorical_feature)['TARGET'].mean()\n",
    "    category_impacts = category_means - category_means.mean()\n",
    "\n",
    "    impact_dicts[categorical_feature] = category_impacts.to_dict()\n",
    "\n",
    "    data['encoded_' + categorical_feature] = data[categorical_feature].map(impact_dicts[categorical_feature])\n",
    "    data.drop(columns= categorical_feature, inplace=True)   "
   ],
   "metadata": {
    "collapsed": false,
    "ExecuteTime": {
     "end_time": "2024-01-07T18:10:00.418723800Z",
     "start_time": "2024-01-07T18:10:00.274717800Z"
    }
   },
   "id": "77b6baf764684eaf"
  },
  {
   "cell_type": "markdown",
   "source": [
    "### OHE"
   ],
   "metadata": {
    "collapsed": false
   },
   "id": "5ad6b35ada4985e2"
  },
  {
   "cell_type": "code",
   "execution_count": 22,
   "outputs": [],
   "source": [
    "categorical_columns = data.select_dtypes(include='object').columns\n",
    "\n",
    "data = pd.get_dummies(data, columns=categorical_columns, dtype='int')"
   ],
   "metadata": {
    "collapsed": false,
    "ExecuteTime": {
     "end_time": "2024-01-07T18:13:13.966706200Z",
     "start_time": "2024-01-07T18:13:13.498556700Z"
    }
   },
   "id": "3972519dfe44ac89"
  },
  {
   "cell_type": "markdown",
   "source": [
    "# Train test split"
   ],
   "metadata": {
    "collapsed": false
   },
   "id": "b617e3bb5cb61498"
  },
  {
   "cell_type": "code",
   "execution_count": 46,
   "outputs": [],
   "source": [
    "X = data.drop('TARGET', axis=1)\n",
    "y = data['TARGET']\n",
    "\n",
    "X_train, X_test, y_train, y_test = train_test_split(X, y, test_size=0.2, random_state=889)"
   ],
   "metadata": {
    "collapsed": false,
    "ExecuteTime": {
     "end_time": "2024-01-07T18:32:45.379778900Z",
     "start_time": "2024-01-07T18:32:45.122850Z"
    }
   },
   "id": "430465fa145ef15f"
  },
  {
   "cell_type": "markdown",
   "source": [
    "# Standardisation"
   ],
   "metadata": {
    "collapsed": false
   },
   "id": "25c0e57425d5c214"
  },
  {
   "cell_type": "code",
   "execution_count": 47,
   "outputs": [],
   "source": [
    "scaler = MinMaxScaler()\n",
    "X_train_scaled = scaler.fit_transform(X_train)\n",
    "X_test_scaled = scaler.transform(X_test)"
   ],
   "metadata": {
    "collapsed": false,
    "ExecuteTime": {
     "end_time": "2024-01-07T18:32:47.710705200Z",
     "start_time": "2024-01-07T18:32:47.191616Z"
    }
   },
   "id": "87cc9e55a2bf22f"
  },
  {
   "cell_type": "markdown",
   "source": [
    "# LOGIT"
   ],
   "metadata": {
    "collapsed": false
   },
   "id": "5302d424139ddc9f"
  },
  {
   "cell_type": "code",
   "execution_count": 48,
   "outputs": [
    {
     "name": "stderr",
     "output_type": "stream",
     "text": [
      "C:\\Users\\baheu\\Documents\\M2 MoSEF\\Challenge Nexialog\\venv\\lib\\site-packages\\sklearn\\linear_model\\_logistic.py:460: ConvergenceWarning: lbfgs failed to converge (status=1):\n",
      "STOP: TOTAL NO. of ITERATIONS REACHED LIMIT.\n",
      "\n",
      "Increase the number of iterations (max_iter) or scale the data as shown in:\n",
      "    https://scikit-learn.org/stable/modules/preprocessing.html\n",
      "Please also refer to the documentation for alternative solver options:\n",
      "    https://scikit-learn.org/stable/modules/linear_model.html#logistic-regression\n",
      "  n_iter_i = _check_optimize_result(\n"
     ]
    },
    {
     "data": {
      "text/plain": "LogisticRegression()",
      "text/html": "<style>#sk-container-id-2 {color: black;}#sk-container-id-2 pre{padding: 0;}#sk-container-id-2 div.sk-toggleable {background-color: white;}#sk-container-id-2 label.sk-toggleable__label {cursor: pointer;display: block;width: 100%;margin-bottom: 0;padding: 0.3em;box-sizing: border-box;text-align: center;}#sk-container-id-2 label.sk-toggleable__label-arrow:before {content: \"▸\";float: left;margin-right: 0.25em;color: #696969;}#sk-container-id-2 label.sk-toggleable__label-arrow:hover:before {color: black;}#sk-container-id-2 div.sk-estimator:hover label.sk-toggleable__label-arrow:before {color: black;}#sk-container-id-2 div.sk-toggleable__content {max-height: 0;max-width: 0;overflow: hidden;text-align: left;background-color: #f0f8ff;}#sk-container-id-2 div.sk-toggleable__content pre {margin: 0.2em;color: black;border-radius: 0.25em;background-color: #f0f8ff;}#sk-container-id-2 input.sk-toggleable__control:checked~div.sk-toggleable__content {max-height: 200px;max-width: 100%;overflow: auto;}#sk-container-id-2 input.sk-toggleable__control:checked~label.sk-toggleable__label-arrow:before {content: \"▾\";}#sk-container-id-2 div.sk-estimator input.sk-toggleable__control:checked~label.sk-toggleable__label {background-color: #d4ebff;}#sk-container-id-2 div.sk-label input.sk-toggleable__control:checked~label.sk-toggleable__label {background-color: #d4ebff;}#sk-container-id-2 input.sk-hidden--visually {border: 0;clip: rect(1px 1px 1px 1px);clip: rect(1px, 1px, 1px, 1px);height: 1px;margin: -1px;overflow: hidden;padding: 0;position: absolute;width: 1px;}#sk-container-id-2 div.sk-estimator {font-family: monospace;background-color: #f0f8ff;border: 1px dotted black;border-radius: 0.25em;box-sizing: border-box;margin-bottom: 0.5em;}#sk-container-id-2 div.sk-estimator:hover {background-color: #d4ebff;}#sk-container-id-2 div.sk-parallel-item::after {content: \"\";width: 100%;border-bottom: 1px solid gray;flex-grow: 1;}#sk-container-id-2 div.sk-label:hover label.sk-toggleable__label {background-color: #d4ebff;}#sk-container-id-2 div.sk-serial::before {content: \"\";position: absolute;border-left: 1px solid gray;box-sizing: border-box;top: 0;bottom: 0;left: 50%;z-index: 0;}#sk-container-id-2 div.sk-serial {display: flex;flex-direction: column;align-items: center;background-color: white;padding-right: 0.2em;padding-left: 0.2em;position: relative;}#sk-container-id-2 div.sk-item {position: relative;z-index: 1;}#sk-container-id-2 div.sk-parallel {display: flex;align-items: stretch;justify-content: center;background-color: white;position: relative;}#sk-container-id-2 div.sk-item::before, #sk-container-id-2 div.sk-parallel-item::before {content: \"\";position: absolute;border-left: 1px solid gray;box-sizing: border-box;top: 0;bottom: 0;left: 50%;z-index: -1;}#sk-container-id-2 div.sk-parallel-item {display: flex;flex-direction: column;z-index: 1;position: relative;background-color: white;}#sk-container-id-2 div.sk-parallel-item:first-child::after {align-self: flex-end;width: 50%;}#sk-container-id-2 div.sk-parallel-item:last-child::after {align-self: flex-start;width: 50%;}#sk-container-id-2 div.sk-parallel-item:only-child::after {width: 0;}#sk-container-id-2 div.sk-dashed-wrapped {border: 1px dashed gray;margin: 0 0.4em 0.5em 0.4em;box-sizing: border-box;padding-bottom: 0.4em;background-color: white;}#sk-container-id-2 div.sk-label label {font-family: monospace;font-weight: bold;display: inline-block;line-height: 1.2em;}#sk-container-id-2 div.sk-label-container {text-align: center;}#sk-container-id-2 div.sk-container {/* jupyter's `normalize.less` sets `[hidden] { display: none; }` but bootstrap.min.css set `[hidden] { display: none !important; }` so we also need the `!important` here to be able to override the default hidden behavior on the sphinx rendered scikit-learn.org. See: https://github.com/scikit-learn/scikit-learn/issues/21755 */display: inline-block !important;position: relative;}#sk-container-id-2 div.sk-text-repr-fallback {display: none;}</style><div id=\"sk-container-id-2\" class=\"sk-top-container\"><div class=\"sk-text-repr-fallback\"><pre>LogisticRegression()</pre><b>In a Jupyter environment, please rerun this cell to show the HTML representation or trust the notebook. <br />On GitHub, the HTML representation is unable to render, please try loading this page with nbviewer.org.</b></div><div class=\"sk-container\" hidden><div class=\"sk-item\"><div class=\"sk-estimator sk-toggleable\"><input class=\"sk-toggleable__control sk-hidden--visually\" id=\"sk-estimator-id-2\" type=\"checkbox\" checked><label for=\"sk-estimator-id-2\" class=\"sk-toggleable__label sk-toggleable__label-arrow\">LogisticRegression</label><div class=\"sk-toggleable__content\"><pre>LogisticRegression()</pre></div></div></div></div></div>"
     },
     "execution_count": 48,
     "metadata": {},
     "output_type": "execute_result"
    }
   ],
   "source": [
    "model = LogisticRegression()\n",
    "\n",
    "model.fit(X_train_scaled, y_train)"
   ],
   "metadata": {
    "collapsed": false,
    "ExecuteTime": {
     "end_time": "2024-01-07T18:33:22.345083700Z",
     "start_time": "2024-01-07T18:33:17.810915400Z"
    }
   },
   "id": "be7417aef7550400"
  },
  {
   "cell_type": "markdown",
   "source": [
    "# Résultats"
   ],
   "metadata": {
    "collapsed": false
   },
   "id": "7326019c0d69be72"
  },
  {
   "cell_type": "code",
   "execution_count": 49,
   "outputs": [
    {
     "data": {
      "text/plain": "<Figure size 800x600 with 1 Axes>",
      "image/png": "[encoded data removed]"
     },
     "metadata": {},
     "output_type": "display_data"
    }
   ],
   "source": [
    "y_prob = model.predict_proba(X_test_scaled)[:, 1]\n",
    "\n",
    "fpr, tpr, thresholds = roc_curve(y_test, y_prob)\n",
    "\n",
    "roc_auc = auc(fpr, tpr)\n",
    "\n",
    "plt.figure(figsize=(8, 6))\n",
    "plt.plot(fpr, tpr, color='darkorange', lw=2, label='ROC curve (AUC = {:.2f})'.format(roc_auc))\n",
    "plt.plot([0, 1], [0, 1], color='navy', lw=2, linestyle='--')\n",
    "plt.xlabel('False Positive Rate')\n",
    "plt.ylabel('True Positive Rate')\n",
    "plt.title('Receiver Operating Characteristic (ROC) Curve')\n",
    "plt.legend(loc='lower right')\n",
    "plt.show()"
   ],
   "metadata": {
    "collapsed": false,
    "ExecuteTime": {
     "end_time": "2024-01-07T18:33:22.637635100Z",
     "start_time": "2024-01-07T18:33:22.345083700Z"
    }
   },
   "id": "8efadf97484eba9c"
  },
  {
   "cell_type": "code",
   "execution_count": null,
   "outputs": [],
   "source": [],
   "metadata": {
    "collapsed": false
   },
   "id": "d1c165c966e6bde5"
  }
 ],
 "metadata": {
  "kernelspec": {
   "display_name": "Python 3",
   "language": "python",
   "name": "python3"
  },
  "language_info": {
   "codemirror_mode": {
    "name": "ipython",
    "version": 2
   },
   "file_extension": ".py",
   "mimetype": "text/x-python",
   "name": "python",
   "nbconvert_exporter": "python",
   "pygments_lexer": "ipython2",
   "version": "2.7.6"
  }
 },
 "nbformat": 4,
 "nbformat_minor": 5
}
