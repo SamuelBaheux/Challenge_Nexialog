{
 "cells": [
  {
   "cell_type": "markdown",
   "source": [
    "# Imports"
   ],
   "metadata": {
    "collapsed": false
   },
   "id": "bb3747e2de32b992"
  },
  {
   "cell_type": "code",
   "execution_count": 2,
   "outputs": [],
   "source": [
    "import pandas as pd\n",
    "import matplotlib.pyplot as plt\n",
    "import seaborn as sns\n",
    "import plotly.express as px\n",
    "from scipy.stats import zscore\n",
    "import scipy.stats as stats\n",
    "from scipy.stats import chi2_contingency\n",
    "import numpy as np\n",
    "from sklearn.model_selection import train_test_split\n",
    "from sklearn.linear_model import LogisticRegression\n",
    "from sklearn.preprocessing import MinMaxScaler\n",
    "from sklearn.metrics import roc_curve, auc\n",
    "from mlxtend.evaluate import permutation_test\n",
    "import statsmodels.api as sm"
   ],
   "metadata": {
    "collapsed": false,
    "ExecuteTime": {
     "end_time": "2024-02-20T18:42:45.855195300Z",
     "start_time": "2024-02-20T18:42:43.383902200Z"
    }
   },
   "id": "initial_id"
  },
  {
   "cell_type": "code",
   "execution_count": 3,
   "outputs": [],
   "source": [
    "df_cat = pd.read_csv('./data/data_categorielles (1).csv')\n",
    "df_num = pd.read_csv('./data/var_num.csv')\n",
    "df_app = pd.read_csv('./data/application_train_vf.csv')"
   ],
   "metadata": {
    "collapsed": false,
    "ExecuteTime": {
     "end_time": "2024-02-20T18:42:52.164390700Z",
     "start_time": "2024-02-20T18:42:45.855195300Z"
    }
   },
   "id": "80509399f40920f"
  },
  {
   "cell_type": "code",
   "execution_count": 4,
   "outputs": [],
   "source": [
    "df2 = df_app[['WALLSMATERIAL_MODE',\n",
    "'HOUSETYPE_MODE',\n",
    "'EMERGENCYSTATE_MODE',\n",
    "'OCCUPATION_TYPE','OWN_CAR_AGE',\n",
    "'EXT_SOURCE_1',\n",
    "'YEARS_BEGINEXPLUATATION_MEDI',\n",
    "'YEARS_BEGINEXPLUATATION_MODE',\n",
    "'YEARS_BEGINEXPLUATATION_AVG']]"
   ],
   "metadata": {
    "collapsed": false,
    "ExecuteTime": {
     "end_time": "2024-02-20T18:42:52.214853600Z",
     "start_time": "2024-02-20T18:42:52.168378800Z"
    }
   },
   "id": "787ee5f14a7dacc6"
  },
  {
   "cell_type": "code",
   "execution_count": 4,
   "outputs": [],
   "source": [],
   "metadata": {
    "collapsed": false,
    "ExecuteTime": {
     "end_time": "2024-02-20T18:42:52.214853600Z",
     "start_time": "2024-02-20T18:42:52.199516Z"
    }
   },
   "id": "b1e85349793ba47c"
  },
  {
   "cell_type": "markdown",
   "source": [
    "# Preprocessing"
   ],
   "metadata": {
    "collapsed": false
   },
   "id": "21756d4744ecb3e3"
  },
  {
   "cell_type": "code",
   "execution_count": 5,
   "outputs": [],
   "source": [
    "data = pd.concat([df_num,df_cat,df2],axis = 1)"
   ],
   "metadata": {
    "collapsed": false,
    "ExecuteTime": {
     "end_time": "2024-02-20T18:42:52.288498300Z",
     "start_time": "2024-02-20T18:42:52.217923800Z"
    }
   },
   "id": "7c55f54e716e076c"
  },
  {
   "cell_type": "code",
   "execution_count": 6,
   "outputs": [],
   "source": [
    "data['date'] = df_app['date_mensuelle'].copy()"
   ],
   "metadata": {
    "collapsed": false,
    "ExecuteTime": {
     "end_time": "2024-02-20T18:42:52.341081200Z",
     "start_time": "2024-02-20T18:42:52.292520600Z"
    }
   },
   "id": "764553a620159798"
  },
  {
   "cell_type": "code",
   "execution_count": 7,
   "outputs": [],
   "source": [
    "data['date'] = pd.to_datetime(data['date'])"
   ],
   "metadata": {
    "collapsed": false,
    "ExecuteTime": {
     "end_time": "2024-02-20T18:42:52.406512500Z",
     "start_time": "2024-02-20T18:42:52.323048600Z"
    }
   },
   "id": "40e08914354c313a"
  },
  {
   "cell_type": "code",
   "execution_count": 8,
   "outputs": [],
   "source": [
    "data.drop(columns = ['Unnamed: 0','NAME_HOUSING_TYPE','AMT_ANNUITY_disc_int'],inplace = True)\n",
    "data['CODE_GENDER'] = data['CODE_GENDER'].apply(lambda x : 'F' if x == 'XNA' else x)"
   ],
   "metadata": {
    "collapsed": false,
    "ExecuteTime": {
     "end_time": "2024-02-20T18:42:52.551330500Z",
     "start_time": "2024-02-20T18:42:52.379886300Z"
    }
   },
   "id": "a9868fb1a2f78f28"
  },
  {
   "cell_type": "markdown",
   "source": [
    "# Regroupement categories"
   ],
   "metadata": {
    "collapsed": false
   },
   "id": "664a016cbac68b49"
  },
  {
   "cell_type": "code",
   "execution_count": 9,
   "outputs": [],
   "source": [
    "list_mean = []\n",
    "liste_freq = []\n",
    "\n",
    "# Calcul des moyennes et des fréquences\n",
    "for cat in data['OCCUPATION_TYPE'].unique():\n",
    "    moyenne = data.loc[data['OCCUPATION_TYPE'] == cat, 'TARGET'].mean()\n",
    "    freq = round(data[data['OCCUPATION_TYPE'] == cat].shape[0]/data.shape[0]*100,1)\n",
    "    list_mean.append(moyenne)\n",
    "    liste_freq.append(freq)\n",
    "    \n",
    "# Création du DataFrame CP\n",
    "CP = pd.DataFrame({'mean': list_mean, 'freq': liste_freq, 'OCCUPATION_TYPE': data['OCCUPATION_TYPE'].unique()})\n",
    "precaire = CP[CP['mean']>0.099]['OCCUPATION_TYPE']\n",
    "\n",
    "\n",
    "data['OCCUPATION_TYPE'] = np.where(data['OCCUPATION_TYPE'].isin(precaire), 'Mauvais type', 'Bon type')\n"
   ],
   "metadata": {
    "collapsed": false,
    "ExecuteTime": {
     "end_time": "2024-02-20T18:42:53.466979900Z",
     "start_time": "2024-02-20T18:42:52.556280100Z"
    }
   },
   "id": "cdeeb9b5ff922086"
  },
  {
   "cell_type": "code",
   "execution_count": 9,
   "outputs": [],
   "source": [],
   "metadata": {
    "collapsed": false,
    "ExecuteTime": {
     "end_time": "2024-02-20T18:42:53.484631500Z",
     "start_time": "2024-02-20T18:42:53.468429200Z"
    }
   },
   "id": "88badaa0a2037f4c"
  },
  {
   "cell_type": "markdown",
   "source": [
    "# Encoding"
   ],
   "metadata": {
    "collapsed": false
   },
   "id": "cef75d5de1636629"
  },
  {
   "cell_type": "code",
   "execution_count": 10,
   "outputs": [],
   "source": [
    "#data = data[['EXT_SOURCE_2_disc_int', 'EXT_SOURCE_3_disc_int', 'EXT_SOURCE_1','TARGET','date','SK_ID_CURR']]"
   ],
   "metadata": {
    "collapsed": false,
    "ExecuteTime": {
     "end_time": "2024-02-20T18:42:53.511453Z",
     "start_time": "2024-02-20T18:42:53.485633300Z"
    }
   },
   "id": "e77599cdee57ad2c"
  },
  {
   "cell_type": "code",
   "execution_count": 11,
   "outputs": [
    {
     "name": "stdout",
     "output_type": "stream",
     "text": [
      "DAYS_BIRTH_disc_int : 3\n",
      "EXT_SOURCE_2_disc_int : 3\n",
      "AMT_GOODS_PRICE_disc_int : 2\n",
      "REGION_POPULATION_RELATIVE_disc_int : 2\n",
      "DAYS_EMPLOYED_disc_int : 2\n",
      "DAYS_REGISTRATION_disc_int : 2\n",
      "EXT_SOURCE_3_disc_int : 2\n",
      "AMT_CREDIT_disc_int : 2\n",
      "NAME_CONTRACT_TYPE : 2\n",
      "CODE_GENDER : 2\n",
      "FLAG_OWN_CAR : 2\n",
      "FLAG_OWN_REALTY : 2\n",
      "NAME_INCOME_TYPE_discret : 2\n",
      "NAME_EDUCATION_TYPE_discret : 2\n",
      "NAME_FAMILY_STATUS_discret : 2\n",
      "WALLSMATERIAL_MODE : 7\n",
      "HOUSETYPE_MODE : 3\n",
      "EMERGENCYSTATE_MODE : 2\n",
      "OCCUPATION_TYPE : 2\n"
     ]
    }
   ],
   "source": [
    "for col in data.select_dtypes(include = 'object').columns:\n",
    "    print(f\"{col} : {data[col].nunique()}\")"
   ],
   "metadata": {
    "collapsed": false,
    "ExecuteTime": {
     "end_time": "2024-02-20T18:42:53.968011700Z",
     "start_time": "2024-02-20T18:42:53.500661Z"
    }
   },
   "id": "d72263cb4fdb207f"
  },
  {
   "cell_type": "code",
   "execution_count": 12,
   "outputs": [
    {
     "name": "stderr",
     "output_type": "stream",
     "text": [
      "C:\\Users\\baheu\\AppData\\Local\\Temp\\ipykernel_15936\\590291046.py:4: FutureWarning: A value is trying to be set on a copy of a DataFrame or Series through chained assignment using an inplace method.\n",
      "The behavior will change in pandas 3.0. This inplace method will never work because the intermediate object on which we are setting values always behaves as a copy.\n",
      "\n",
      "For example, when doing 'df[col].method(value, inplace=True)', try using 'df.method({col: value}, inplace=True)' or df[col] = df[col].method(value) instead, to perform the operation inplace on the original object.\n",
      "\n",
      "\n",
      "  data[col].fillna(mode, inplace=True)\n",
      "C:\\Users\\baheu\\AppData\\Local\\Temp\\ipykernel_15936\\590291046.py:7: FutureWarning: A value is trying to be set on a copy of a DataFrame or Series through chained assignment using an inplace method.\n",
      "The behavior will change in pandas 3.0. This inplace method will never work because the intermediate object on which we are setting values always behaves as a copy.\n",
      "\n",
      "For example, when doing 'df[col].method(value, inplace=True)', try using 'df.method({col: value}, inplace=True)' or df[col] = df[col].method(value) instead, to perform the operation inplace on the original object.\n",
      "\n",
      "\n",
      "  data[col].fillna(moyenne, inplace=True)\n"
     ]
    }
   ],
   "source": [
    "for col in data.columns:\n",
    "    if data[col].dtype == 'object':\n",
    "        mode = data[col].mode()[0]  \n",
    "        data[col].fillna(mode, inplace=True)  \n",
    "    elif data[col].dtype in ['int', 'float']:  \n",
    "        moyenne = data[col].mean()  \n",
    "        data[col].fillna(moyenne, inplace=True)"
   ],
   "metadata": {
    "collapsed": false,
    "ExecuteTime": {
     "end_time": "2024-02-20T18:42:54.614912Z",
     "start_time": "2024-02-20T18:42:53.964791200Z"
    }
   },
   "id": "25249a2dbd9514da"
  },
  {
   "cell_type": "markdown",
   "source": [
    "# Encoding"
   ],
   "metadata": {
    "collapsed": false
   },
   "id": "89b891daac49169b"
  },
  {
   "cell_type": "code",
   "execution_count": 13,
   "outputs": [
    {
     "name": "stdout",
     "output_type": "stream",
     "text": [
      "DAYS_BIRTH_disc_int : ['[-13537--7489]' '[-19303--13538]' '[-25229--19304]']\n",
      "EXT_SOURCE_2_disc_int : ['[0.48-0.85]' '[0.0-0.15]' '[0.15-0.48]']\n",
      "AMT_GOODS_PRICE_disc_int : ['[679500.0-4050000.0]' '[40500.0-676278.0]']\n",
      "REGION_POPULATION_RELATIVE_disc_int : ['[0.0-0.03]' '[0.03-0.07]']\n",
      "DAYS_EMPLOYED_disc_int : ['[-2443-365243]' '[-17912--2444]']\n",
      "DAYS_REGISTRATION_disc_int : ['[-6170.0-0.0]' '[-24672.0--6171.0]']\n",
      "EXT_SOURCE_3_disc_int : ['[0.32-0.9]' '[0.0-0.32]']\n",
      "AMT_CREDIT_disc_int : ['[675000.0-4050000.0]' '[45000.0-674842.5]']\n",
      "NAME_CONTRACT_TYPE : ['Cash loans' 'Revolving loans']\n",
      "CODE_GENDER : ['M' 'F']\n",
      "FLAG_OWN_CAR : ['Y' 'N']\n",
      "FLAG_OWN_REALTY : ['Y' 'N']\n",
      "NAME_INCOME_TYPE_discret : ['high_income' 'low_income']\n",
      "NAME_EDUCATION_TYPE_discret : ['lower' 'higher']\n",
      "NAME_FAMILY_STATUS_discret : ['couple' 'alone']\n",
      "WALLSMATERIAL_MODE : ['Panel' 'Stone, brick' 'Block' 'Monolithic' 'Wooden' 'Mixed' 'Others']\n",
      "HOUSETYPE_MODE : ['block of flats' 'specific housing' 'terraced house']\n",
      "EMERGENCYSTATE_MODE : ['No' 'Yes']\n",
      "OCCUPATION_TYPE : ['Mauvais type' 'Bon type']\n"
     ]
    }
   ],
   "source": [
    "for col in data.select_dtypes(include = 'object').columns :\n",
    "    print(f'{col} : {data[col].unique()}')"
   ],
   "metadata": {
    "collapsed": false,
    "ExecuteTime": {
     "end_time": "2024-02-20T18:42:55.119240400Z",
     "start_time": "2024-02-20T18:42:54.621229200Z"
    }
   },
   "id": "e7538b7d4954546f"
  },
  {
   "cell_type": "code",
   "execution_count": 14,
   "outputs": [],
   "source": [
    "for col in data.select_dtypes(include='object').columns:\n",
    "    one_hot_encoded = pd.get_dummies(data[col], prefix=col, drop_first=True)\n",
    "    data = data.drop(col, axis=1)\n",
    "    data = data.join(one_hot_encoded)\n",
    "\n",
    "# Encoding boolean values as 1 for True and 0 for False\n",
    "for col in data.select_dtypes(include=bool).columns:\n",
    "    data[col] = data[col].astype(int)"
   ],
   "metadata": {
    "collapsed": false,
    "ExecuteTime": {
     "end_time": "2024-02-20T18:42:58.055209100Z",
     "start_time": "2024-02-20T18:42:55.084447600Z"
    }
   },
   "id": "6eba48a9629e0ba3"
  },
  {
   "cell_type": "markdown",
   "source": [
    "# Train test split"
   ],
   "metadata": {
    "collapsed": false
   },
   "id": "b617e3bb5cb61498"
  },
  {
   "cell_type": "code",
   "execution_count": 15,
   "outputs": [],
   "source": [
    "X2 = data.drop(columns = ['SK_ID_CURR'], axis=1).copy()\n",
    "\n",
    "# train\n",
    "X_ech_0 = X2[X2['TARGET']==0].iloc[:20000,:]\n",
    "X_ech_1 = X2[X2['TARGET']==1].iloc[:20000,:]\n",
    "X_ech_train = pd.concat([X_ech_0,X_ech_1],axis=0)\n",
    "\n",
    "# test\n",
    "X_ech_0_test = X2[X2['TARGET']==0].iloc[20001:23000,:]\n",
    "X_ech_1_test = X2[X2['TARGET']==1].iloc[20001:23000,:]\n",
    "X_ech_test = pd.concat([X_ech_0_test,X_ech_1_test],axis=0)\n",
    "\n",
    "# y test et train\n",
    "y_ech_train = X_ech_train['TARGET'].copy()\n",
    "y_ech_test = X_ech_test['TARGET'].copy()\n",
    "\n",
    "# drop de target\n",
    "X_ech_test.drop(columns=['TARGET','date'],inplace=True)\n",
    "X_ech_train.drop(columns=['TARGET','date'],inplace=True)"
   ],
   "metadata": {
    "collapsed": false,
    "ExecuteTime": {
     "end_time": "2024-02-20T18:42:58.331375600Z",
     "start_time": "2024-02-20T18:42:58.066936600Z"
    }
   },
   "id": "c7bc6518eaf27dd2"
  },
  {
   "cell_type": "code",
   "execution_count": 16,
   "outputs": [],
   "source": [
    "X = data.drop(columns = ['TARGET', 'SK_ID_CURR'], axis=1).copy()\n",
    "X = X[X['date']<'2020-01-01']\n",
    "y = data[data['date']<'2020-01-01']['TARGET']\n",
    "\n",
    "X_train, X_test, y_train, y_test = train_test_split(X, y, test_size=0.2, random_state=42, stratify = y)\n",
    "X.drop(columns='date',inplace=True)"
   ],
   "metadata": {
    "collapsed": false,
    "ExecuteTime": {
     "end_time": "2024-02-20T18:42:58.840363800Z",
     "start_time": "2024-02-20T18:42:58.334982100Z"
    }
   },
   "id": "430465fa145ef15f"
  },
  {
   "cell_type": "code",
   "execution_count": 17,
   "outputs": [],
   "source": [
    "X_train.drop(columns = ['date'],inplace = True)\n",
    "X_test.drop(columns =['date'],inplace = True)"
   ],
   "metadata": {
    "collapsed": false,
    "ExecuteTime": {
     "end_time": "2024-02-20T18:42:58.898700100Z",
     "start_time": "2024-02-20T18:42:58.844366900Z"
    }
   },
   "id": "c7169ea85beca5a3"
  },
  {
   "cell_type": "markdown",
   "source": [
    "# Test avec fonction de perte customisée"
   ],
   "metadata": {
    "collapsed": false
   },
   "id": "4ad199e123e24714"
  },
  {
   "cell_type": "code",
   "execution_count": 25,
   "outputs": [
    {
     "name": "stdout",
     "output_type": "stream",
     "text": [
      "Matrice de confusion:\n",
      "[[49429    30]\n",
      " [ 4074    15]]\n",
      "AUC: 0.7180685973566838\n",
      "Coefficient de Gini: 0.43613719471336765\n"
     ]
    }
   ],
   "source": [
    "import numpy as np\n",
    "from sklearn.linear_model import LogisticRegression\n",
    "from sklearn.metrics import confusion_matrix\n",
    "\n",
    "from sklearn.metrics import roc_auc_score\n",
    "\n",
    "\n",
    "class_weight = {0: 1, 1: 1}  # Pénaliser plus fortement la classe 1 (positifs)\n",
    "\n",
    "\n",
    "\n",
    "model = LogisticRegression(class_weight=class_weight,penalty='l2',max_iter=10000)\n",
    "model.fit(X_train, y_train)\n",
    "\n",
    "y_pred = model.predict(X_test)\n",
    "\n",
    "conf_matrix = confusion_matrix(y_test, y_pred)\n",
    "print(\"Matrice de confusion:\")\n",
    "print(conf_matrix)\n",
    "\n",
    "auc = roc_auc_score(y_test, model.predict_proba(X_test)[:, 1])\n",
    "print(\"AUC:\", auc)\n",
    "\n",
    "\n",
    "# Calculer le coefficient de Gini\n",
    "gini_coefficient = 2 * auc - 1\n",
    "print(\"Coefficient de Gini:\", gini_coefficient)"
   ],
   "metadata": {
    "collapsed": false,
    "ExecuteTime": {
     "end_time": "2024-02-20T18:46:03.866163600Z",
     "start_time": "2024-02-20T18:46:01.470270300Z"
    }
   },
   "id": "c5cded30d7c7f9c4"
  },
  {
   "cell_type": "markdown",
   "source": [
    "# LOGIT"
   ],
   "metadata": {
    "collapsed": false
   },
   "id": "5302d424139ddc9f"
  },
  {
   "cell_type": "code",
   "execution_count": 19,
   "outputs": [
    {
     "name": "stdout",
     "output_type": "stream",
     "text": [
      "Optimization terminated successfully    (Exit mode 0)\n",
      "            Current function value: 0.24611226899478053\n",
      "            Iterations: 292\n",
      "            Function evaluations: 296\n",
      "            Gradient evaluations: 292\n",
      "Optimization terminated successfully    (Exit mode 0)\n",
      "            Current function value: 0.2459803503583517\n",
      "            Iterations: 248\n",
      "            Function evaluations: 251\n",
      "            Gradient evaluations: 248\n",
      "Optimization terminated successfully    (Exit mode 0)\n",
      "            Current function value: 0.24652184957400003\n",
      "            Iterations: 252\n",
      "            Function evaluations: 255\n",
      "            Gradient evaluations: 252\n",
      "Optimization terminated successfully    (Exit mode 0)\n",
      "            Current function value: 0.24591019786301813\n",
      "            Iterations: 298\n",
      "            Function evaluations: 301\n",
      "            Gradient evaluations: 298\n",
      "Optimization terminated successfully    (Exit mode 0)\n",
      "            Current function value: 0.24576759580090124\n",
      "            Iterations: 244\n",
      "            Function evaluations: 248\n",
      "            Gradient evaluations: 244\n"
     ]
    },
    {
     "data": {
      "text/plain": "<Figure size 800x600 with 2 Axes>",
      "image/png": "[encoded data removed]"
     },
     "metadata": {},
     "output_type": "display_data"
    }
   ],
   "source": [
    "import statsmodels.api as sm\n",
    "from sklearn.metrics import confusion_matrix\n",
    "import seaborn as sns\n",
    "import matplotlib.pyplot as plt\n",
    "from sklearn.model_selection import StratifiedKFold\n",
    "\n",
    "# Convert DataFrame to numpy arrays\n",
    "X = X.values\n",
    "y = y.values\n",
    "\n",
    "# Define the number of folds for cross-validation\n",
    "n_splits = 5\n",
    "\n",
    "# Initialize StratifiedKFold with ensuring at least one positive instance in each fold\n",
    "skf = StratifiedKFold(n_splits=n_splits, shuffle=True, random_state=42)\n",
    "\n",
    "# Lists to store confusion matrices from each fold\n",
    "conf_matrices = []\n",
    "\n",
    "# Iterate over folds\n",
    "for train_index, test_index in skf.split(X, y):\n",
    "    # Split data into train and test sets\n",
    "    X_train, X_test = X[train_index], X[test_index]\n",
    "    y_train, y_test = y[train_index], y[test_index]\n",
    "    \n",
    "    X_train_scaled = sm.add_constant(X_train)\n",
    "    X_test_scaled = sm.add_constant(X_test)\n",
    "\n",
    "    # Fit logistic regression model\n",
    "    model = sm.Logit(y_train, X_train_scaled)\n",
    "    result = model.fit_regularized(method='l1')\n",
    "\n",
    "    # Predictions on testing set\n",
    "    y_pred = result.predict(X_test_scaled)\n",
    "    y_pred = (y_pred > 0.5).astype(int)\n",
    "\n",
    "    # Confusion matrix\n",
    "    conf_matrix = confusion_matrix(y_test, y_pred)\n",
    "    conf_matrices.append(conf_matrix)\n",
    "\n",
    "# Average confusion matrix across folds\n",
    "avg_conf_matrix = sum(conf_matrices) / n_splits\n",
    "\n",
    "# Plot average confusion matrix as heatmap\n",
    "plt.figure(figsize=(8, 6))\n",
    "sns.heatmap(avg_conf_matrix, annot=True, fmt=\".2f\", cmap=\"Blues\", \n",
    "            xticklabels=['Non Défaut', 'Défaut'], \n",
    "            yticklabels=['Non Défaut', 'Défaut'])\n",
    "plt.xlabel('Prédiction')\n",
    "plt.ylabel('Vraie Valeur')\n",
    "plt.title('Matrice de Confusion (Moyenne de la validation croisée)')\n",
    "plt.show()\n"
   ],
   "metadata": {
    "collapsed": false,
    "ExecuteTime": {
     "end_time": "2024-02-20T18:43:34.537209900Z",
     "start_time": "2024-02-20T18:43:00.017438800Z"
    }
   },
   "id": "be7417aef7550400"
  },
  {
   "cell_type": "markdown",
   "source": [
    "# Résultats"
   ],
   "metadata": {
    "collapsed": false
   },
   "id": "7326019c0d69be72"
  },
  {
   "cell_type": "code",
   "execution_count": 20,
   "outputs": [
    {
     "data": {
      "text/plain": "<Figure size 800x600 with 1 Axes>",
      "image/png": "[encoded data removed]"
     },
     "metadata": {},
     "output_type": "display_data"
    },
    {
     "name": "stdout",
     "output_type": "stream",
     "text": [
      "Coefficient de Gini: 0.43634019331030194\n"
     ]
    }
   ],
   "source": [
    "import statsmodels.api as sm\n",
    "import matplotlib.pyplot as plt\n",
    "from sklearn.metrics import roc_curve, auc\n",
    "\n",
    "X_test_scaled = sm.add_constant(X_test)\n",
    "\n",
    "\n",
    "y_prob = result.predict(X_test_scaled)\n",
    "\n",
    "\n",
    "fpr, tpr, thresholds = roc_curve(y_test, y_prob)\n",
    "roc_auc = auc(fpr, tpr)\n",
    "\n",
    "plt.figure(figsize=(8, 6))\n",
    "plt.plot(fpr, tpr, color='darkorange', lw=2, label='ROC curve (AUC = {:.2f})'.format(roc_auc))\n",
    "plt.plot([0, 1], [0, 1], color='navy', lw=2, linestyle='--')\n",
    "plt.xlabel('False Positive Rate')\n",
    "plt.ylabel('True Positive Rate')\n",
    "plt.title('Receiver Operating Characteristic (ROC) Curve')\n",
    "plt.legend(loc='lower right')\n",
    "plt.show()\n",
    "\n",
    "y_prob = result.predict(X_test_scaled)\n",
    "\n",
    "# Calculer le taux de faux positifs (FPR), le taux de vrais positifs (TPR) et les seuils\n",
    "fpr, tpr, thresholds = roc_curve(y_test, y_prob)\n",
    "\n",
    "# Calculer l'aire sous la courbe ROC (AUC)\n",
    "roc_auc = auc(fpr, tpr)\n",
    "\n",
    "# Calculer le coefficient de Gini\n",
    "gini_coefficient = 2 * roc_auc - 1\n",
    "print(\"Coefficient de Gini:\", gini_coefficient)"
   ],
   "metadata": {
    "collapsed": false,
    "ExecuteTime": {
     "end_time": "2024-02-20T18:43:34.865652700Z",
     "start_time": "2024-02-20T18:43:34.538217600Z"
    }
   },
   "id": "8efadf97484eba9c"
  },
  {
   "cell_type": "markdown",
   "source": [
    "\n",
    "# Coefficients"
   ],
   "metadata": {
    "collapsed": false
   },
   "id": "4e01d1138e8bf562"
  },
  {
   "cell_type": "code",
   "execution_count": 21,
   "outputs": [
    {
     "ename": "AttributeError",
     "evalue": "'numpy.ndarray' object has no attribute 'columns'",
     "output_type": "error",
     "traceback": [
      "\u001B[1;31m---------------------------------------------------------------------------\u001B[0m",
      "\u001B[1;31mAttributeError\u001B[0m                            Traceback (most recent call last)",
      "Cell \u001B[1;32mIn[21], line 4\u001B[0m\n\u001B[0;32m      1\u001B[0m coefficients \u001B[38;5;241m=\u001B[39m result\u001B[38;5;241m.\u001B[39mparams\n\u001B[0;32m      2\u001B[0m pvalues \u001B[38;5;241m=\u001B[39m result\u001B[38;5;241m.\u001B[39mpvalues\n\u001B[1;32m----> 4\u001B[0m var_signif \u001B[38;5;241m=\u001B[39m [variable \u001B[38;5;28;01mfor\u001B[39;00m variable, p_value \u001B[38;5;129;01min\u001B[39;00m \u001B[38;5;28mzip\u001B[39m(\u001B[43mX_test_scaled\u001B[49m\u001B[38;5;241;43m.\u001B[39;49m\u001B[43mcolumns\u001B[49m, pvalues) \u001B[38;5;28;01mif\u001B[39;00m p_value \u001B[38;5;241m<\u001B[39m \u001B[38;5;241m0.05\u001B[39m]\n\u001B[0;32m      6\u001B[0m \u001B[38;5;66;03m# Plot des coefficients avec des couleurs différentes en fonction des p-values (transposé)\u001B[39;00m\n\u001B[0;32m      7\u001B[0m colors \u001B[38;5;241m=\u001B[39m [\u001B[38;5;124m'\u001B[39m\u001B[38;5;124mred\u001B[39m\u001B[38;5;124m'\u001B[39m \u001B[38;5;28;01mif\u001B[39;00m p \u001B[38;5;241m>\u001B[39m \u001B[38;5;241m0.05\u001B[39m \u001B[38;5;28;01melse\u001B[39;00m \u001B[38;5;124m'\u001B[39m\u001B[38;5;124mgreen\u001B[39m\u001B[38;5;124m'\u001B[39m \u001B[38;5;28;01mfor\u001B[39;00m p \u001B[38;5;129;01min\u001B[39;00m pvalues]\n",
      "\u001B[1;31mAttributeError\u001B[0m: 'numpy.ndarray' object has no attribute 'columns'"
     ]
    }
   ],
   "source": [
    "coefficients = result.params\n",
    "pvalues = result.pvalues\n",
    "\n",
    "var_signif = [variable for variable, p_value in zip(X_test_scaled.columns, pvalues) if p_value < 0.05]\n",
    "\n",
    "# Plot des coefficients avec des couleurs différentes en fonction des p-values (transposé)\n",
    "colors = ['red' if p > 0.05 else 'green' for p in pvalues]\n",
    "\n",
    "plt.figure(figsize=(15, 15))\n",
    "plt.barh(range(len(coefficients)), coefficients, color=colors)\n",
    "plt.yticks(range(len(coefficients)), X_test_scaled.columns)\n",
    "plt.xlabel('Coefficients')\n",
    "plt.title('Logistic Regression Coefficients with P-values (Transposed)')\n",
    "plt.show()"
   ],
   "metadata": {
    "collapsed": false,
    "ExecuteTime": {
     "end_time": "2024-02-20T18:43:35.049670900Z",
     "start_time": "2024-02-20T18:43:34.871399900Z"
    }
   },
   "id": "d1c165c966e6bde5"
  },
  {
   "cell_type": "code",
   "execution_count": null,
   "outputs": [],
   "source": [
    "var_signif.pop(0)"
   ],
   "metadata": {
    "collapsed": false,
    "ExecuteTime": {
     "end_time": "2024-02-20T18:43:35.056241800Z",
     "start_time": "2024-02-20T18:43:35.052191Z"
    }
   },
   "id": "cae48b50d4b00edd"
  },
  {
   "cell_type": "code",
   "execution_count": null,
   "outputs": [],
   "source": [],
   "metadata": {
    "collapsed": false,
    "ExecuteTime": {
     "end_time": "2024-02-20T18:43:35.074897Z",
     "start_time": "2024-02-20T18:43:35.057258600Z"
    }
   },
   "id": "a47e13b7ae9dd278"
  }
 ],
 "metadata": {
  "kernelspec": {
   "display_name": "Python 3",
   "language": "python",
   "name": "python3"
  },
  "language_info": {
   "codemirror_mode": {
    "name": "ipython",
    "version": 2
   },
   "file_extension": ".py",
   "mimetype": "text/x-python",
   "name": "python",
   "nbconvert_exporter": "python",
   "pygments_lexer": "ipython2",
   "version": "2.7.6"
  }
 },
 "nbformat": 4,
 "nbformat_minor": 5
}
