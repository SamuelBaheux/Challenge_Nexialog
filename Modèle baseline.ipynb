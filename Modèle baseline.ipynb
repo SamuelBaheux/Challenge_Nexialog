{
 "cells": [
  {
   "cell_type": "markdown",
   "source": [
    "# Imports"
   ],
   "metadata": {
    "collapsed": false
   },
   "id": "bb3747e2de32b992"
  },
  {
   "cell_type": "code",
   "execution_count": 1,
   "outputs": [],
   "source": [
    "import pandas as pd\n",
    "import matplotlib.pyplot as plt\n",
    "import seaborn as sns\n",
    "import plotly.express as px\n",
    "from scipy.stats import zscore\n",
    "import scipy.stats as stats\n",
    "from scipy.stats import chi2_contingency\n",
    "import numpy as np\n",
    "from sklearn.model_selection import train_test_split\n",
    "from sklearn.linear_model import LogisticRegression\n",
    "from sklearn.preprocessing import MinMaxScaler\n",
    "from sklearn.metrics import roc_curve, auc\n",
    "from mlxtend.evaluate import permutation_test\n",
    "import statsmodels.api as sm"
   ],
   "metadata": {
    "collapsed": false,
    "ExecuteTime": {
     "end_time": "2024-01-17T18:29:20.783506600Z",
     "start_time": "2024-01-17T18:29:14.722234400Z"
    }
   },
   "id": "initial_id"
  },
  {
   "cell_type": "code",
   "execution_count": 2,
   "outputs": [],
   "source": [
    "data = pd.read_csv('./data/df_train.csv')"
   ],
   "metadata": {
    "collapsed": false,
    "ExecuteTime": {
     "end_time": "2024-01-17T18:29:22.655524400Z",
     "start_time": "2024-01-17T18:29:20.789514Z"
    }
   },
   "id": "80509399f40920f"
  },
  {
   "cell_type": "code",
   "execution_count": 3,
   "outputs": [
    {
     "data": {
      "text/plain": "(306107, 48)"
     },
     "execution_count": 3,
     "metadata": {},
     "output_type": "execute_result"
    }
   ],
   "source": [
    "data.shape"
   ],
   "metadata": {
    "collapsed": false,
    "ExecuteTime": {
     "end_time": "2024-01-17T18:29:22.688311500Z",
     "start_time": "2024-01-17T18:29:22.658984900Z"
    }
   },
   "id": "221fffa08fa23540"
  },
  {
   "cell_type": "markdown",
   "source": [
    "# Preprocessing"
   ],
   "metadata": {
    "collapsed": false
   },
   "id": "21756d4744ecb3e3"
  },
  {
   "cell_type": "code",
   "execution_count": 4,
   "outputs": [],
   "source": [
    "data.drop(columns = 'Unnamed: 0',inplace = True)"
   ],
   "metadata": {
    "collapsed": false,
    "ExecuteTime": {
     "end_time": "2024-01-17T18:29:22.837548600Z",
     "start_time": "2024-01-17T18:29:22.677065800Z"
    }
   },
   "id": "a9868fb1a2f78f28"
  },
  {
   "cell_type": "code",
   "execution_count": 5,
   "outputs": [
    {
     "data": {
      "text/plain": "CNT_CHILDREN                    0.000000\nAMT_INCOME_TOTAL                0.000000\nAMT_CREDIT                      0.000000\nREGION_POPULATION_RELATIVE      0.000000\nDAYS_BIRTH                      0.000000\nDAYS_EMPLOYED                   0.000000\nDAYS_REGISTRATION               0.000000\nDAYS_ID_PUBLISH                 0.000000\nFLAG_EMP_PHONE                  0.000000\nFLAG_WORK_PHONE                 0.000000\nFLAG_PHONE                      0.000000\nREGION_RATING_CLIENT            0.000000\nREGION_RATING_CLIENT_W_CITY     0.000000\nHOUR_APPR_PROCESS_START         0.000000\nREG_REGION_NOT_LIVE_REGION      0.000000\nREG_REGION_NOT_WORK_REGION      0.000000\nREG_CITY_NOT_LIVE_CITY          0.000000\nREG_CITY_NOT_WORK_CITY          0.000000\nLIVE_CITY_NOT_WORK_CITY         0.000000\nFLAG_DOCUMENT_2                 0.000000\nFLAG_DOCUMENT_3                 0.000000\nFLAG_DOCUMENT_6                 0.000000\nFLAG_DOCUMENT_8                 0.000000\nFLAG_DOCUMENT_9                 0.000000\nFLAG_DOCUMENT_11                0.000000\nFLAG_DOCUMENT_13                0.000000\nFLAG_DOCUMENT_14                0.000000\nFLAG_DOCUMENT_15                0.000000\nFLAG_DOCUMENT_16                0.000000\nFLAG_DOCUMENT_18                0.000000\nNAME_CONTRACT_TYPE              0.000000\nCODE_GENDER                     0.000000\nFLAG_OWN_CAR                    0.000000\nFLAG_OWN_REALTY                 0.000000\nNAME_TYPE_SUITE                 0.420115\nNAME_INCOME_TYPE                0.000000\nNAME_EDUCATION_TYPE             0.000000\nNAME_FAMILY_STATUS              0.000000\nNAME_HOUSING_TYPE               0.000000\nOCCUPATION_TYPE                31.377590\nWEEKDAY_APPR_PROCESS_START      0.000000\nORGANIZATION_TYPE               0.000000\nFONDKAPREMONT_MODE             68.363677\nHOUSETYPE_MODE                 50.143577\nWALLSMATERIAL_MODE             50.813278\nEMERGENCYSTATE_MODE            47.368404\nTARGET                          0.000000\ndtype: float64"
     },
     "execution_count": 5,
     "metadata": {},
     "output_type": "execute_result"
    }
   ],
   "source": [
    "data.isna().sum()/len(data)*100 "
   ],
   "metadata": {
    "collapsed": false,
    "ExecuteTime": {
     "end_time": "2024-01-17T18:29:23.093914600Z",
     "start_time": "2024-01-17T18:29:22.833547300Z"
    }
   },
   "id": "b5ba818656e36ecf"
  },
  {
   "cell_type": "code",
   "execution_count": 6,
   "outputs": [],
   "source": [
    "data.drop(columns = ['FONDKAPREMONT_MODE','WALLSMATERIAL_MODE','HOUSETYPE_MODE','EMERGENCYSTATE_MODE','OCCUPATION_TYPE'], inplace = True)"
   ],
   "metadata": {
    "collapsed": false,
    "ExecuteTime": {
     "end_time": "2024-01-17T18:29:23.188252600Z",
     "start_time": "2024-01-17T18:29:23.082480300Z"
    }
   },
   "id": "59caabfb4cfc0cf5"
  },
  {
   "cell_type": "code",
   "execution_count": 7,
   "outputs": [],
   "source": [
    "data.dropna(inplace = True)"
   ],
   "metadata": {
    "collapsed": false,
    "ExecuteTime": {
     "end_time": "2024-01-17T18:29:23.400952500Z",
     "start_time": "2024-01-17T18:29:23.188252600Z"
    }
   },
   "id": "8221d8de0002057"
  },
  {
   "cell_type": "markdown",
   "source": [
    "# Encoding"
   ],
   "metadata": {
    "collapsed": false
   },
   "id": "cef75d5de1636629"
  },
  {
   "cell_type": "code",
   "execution_count": 8,
   "outputs": [
    {
     "name": "stdout",
     "output_type": "stream",
     "text": [
      "NAME_CONTRACT_TYPE : 2\n",
      "CODE_GENDER : 3\n",
      "FLAG_OWN_CAR : 2\n",
      "FLAG_OWN_REALTY : 2\n",
      "NAME_TYPE_SUITE : 7\n",
      "NAME_INCOME_TYPE : 8\n",
      "NAME_EDUCATION_TYPE : 5\n",
      "NAME_FAMILY_STATUS : 5\n",
      "NAME_HOUSING_TYPE : 6\n",
      "WEEKDAY_APPR_PROCESS_START : 7\n",
      "ORGANIZATION_TYPE : 58\n"
     ]
    }
   ],
   "source": [
    "for col in data.select_dtypes(include = 'object').columns:\n",
    "    print(f\"{col} : {data[col].nunique()}\")"
   ],
   "metadata": {
    "collapsed": false,
    "ExecuteTime": {
     "end_time": "2024-01-17T18:29:23.619862700Z",
     "start_time": "2024-01-17T18:29:23.405140Z"
    }
   },
   "id": "d72263cb4fdb207f"
  },
  {
   "cell_type": "markdown",
   "source": [
    "### Impact encoding\n",
    "\n",
    "Pour les variables qu'on ne peut pas OHE en raison de leur nombre de modalités"
   ],
   "metadata": {
    "collapsed": false
   },
   "id": "5ce56920d3801fc5"
  },
  {
   "cell_type": "code",
   "execution_count": 9,
   "outputs": [
    {
     "ename": "KeyError",
     "evalue": "'Transport: type 3'",
     "output_type": "error",
     "traceback": [
      "\u001B[1;31m---------------------------------------------------------------------------\u001B[0m",
      "\u001B[1;31mKeyError\u001B[0m                                  Traceback (most recent call last)",
      "Cell \u001B[1;32mIn[9], line 6\u001B[0m\n\u001B[0;32m      2\u001B[0m categorical_columns \u001B[38;5;241m=\u001B[39m data\u001B[38;5;241m.\u001B[39mselect_dtypes(include \u001B[38;5;241m=\u001B[39m \u001B[38;5;124m'\u001B[39m\u001B[38;5;124mobject\u001B[39m\u001B[38;5;124m'\u001B[39m)\n\u001B[0;32m      4\u001B[0m \u001B[38;5;28;01mfor\u001B[39;00m categorical_feature \u001B[38;5;129;01min\u001B[39;00m data[\u001B[38;5;124m'\u001B[39m\u001B[38;5;124mORGANIZATION_TYPE\u001B[39m\u001B[38;5;124m'\u001B[39m] :\u001B[38;5;66;03m#.select_dtypes(include = 'object').columns :#\u001B[39;00m\n\u001B[1;32m----> 6\u001B[0m     category_means \u001B[38;5;241m=\u001B[39m \u001B[43mdata\u001B[49m\u001B[38;5;241;43m.\u001B[39;49m\u001B[43mgroupby\u001B[49m\u001B[43m(\u001B[49m\u001B[43mcategorical_feature\u001B[49m\u001B[43m)\u001B[49m[\u001B[38;5;124m'\u001B[39m\u001B[38;5;124mTARGET\u001B[39m\u001B[38;5;124m'\u001B[39m]\u001B[38;5;241m.\u001B[39mmean()\n\u001B[0;32m      7\u001B[0m     category_impacts \u001B[38;5;241m=\u001B[39m category_means \u001B[38;5;241m-\u001B[39m category_means\u001B[38;5;241m.\u001B[39mmean()\n\u001B[0;32m      9\u001B[0m     impact_dicts[categorical_feature] \u001B[38;5;241m=\u001B[39m category_impacts\u001B[38;5;241m.\u001B[39mto_dict()\n",
      "File \u001B[1;32m~\\Documents\\M2 MoSEF\\Challenge Nexialog\\venv\\lib\\site-packages\\pandas\\core\\frame.py:8869\u001B[0m, in \u001B[0;36mDataFrame.groupby\u001B[1;34m(self, by, axis, level, as_index, sort, group_keys, observed, dropna)\u001B[0m\n\u001B[0;32m   8866\u001B[0m \u001B[38;5;28;01mif\u001B[39;00m level \u001B[38;5;129;01mis\u001B[39;00m \u001B[38;5;28;01mNone\u001B[39;00m \u001B[38;5;129;01mand\u001B[39;00m by \u001B[38;5;129;01mis\u001B[39;00m \u001B[38;5;28;01mNone\u001B[39;00m:\n\u001B[0;32m   8867\u001B[0m     \u001B[38;5;28;01mraise\u001B[39;00m \u001B[38;5;167;01mTypeError\u001B[39;00m(\u001B[38;5;124m\"\u001B[39m\u001B[38;5;124mYou have to supply one of \u001B[39m\u001B[38;5;124m'\u001B[39m\u001B[38;5;124mby\u001B[39m\u001B[38;5;124m'\u001B[39m\u001B[38;5;124m and \u001B[39m\u001B[38;5;124m'\u001B[39m\u001B[38;5;124mlevel\u001B[39m\u001B[38;5;124m'\u001B[39m\u001B[38;5;124m\"\u001B[39m)\n\u001B[1;32m-> 8869\u001B[0m \u001B[38;5;28;01mreturn\u001B[39;00m \u001B[43mDataFrameGroupBy\u001B[49m\u001B[43m(\u001B[49m\n\u001B[0;32m   8870\u001B[0m \u001B[43m    \u001B[49m\u001B[43mobj\u001B[49m\u001B[38;5;241;43m=\u001B[39;49m\u001B[38;5;28;43mself\u001B[39;49m\u001B[43m,\u001B[49m\n\u001B[0;32m   8871\u001B[0m \u001B[43m    \u001B[49m\u001B[43mkeys\u001B[49m\u001B[38;5;241;43m=\u001B[39;49m\u001B[43mby\u001B[49m\u001B[43m,\u001B[49m\n\u001B[0;32m   8872\u001B[0m \u001B[43m    \u001B[49m\u001B[43maxis\u001B[49m\u001B[38;5;241;43m=\u001B[39;49m\u001B[43maxis\u001B[49m\u001B[43m,\u001B[49m\n\u001B[0;32m   8873\u001B[0m \u001B[43m    \u001B[49m\u001B[43mlevel\u001B[49m\u001B[38;5;241;43m=\u001B[39;49m\u001B[43mlevel\u001B[49m\u001B[43m,\u001B[49m\n\u001B[0;32m   8874\u001B[0m \u001B[43m    \u001B[49m\u001B[43mas_index\u001B[49m\u001B[38;5;241;43m=\u001B[39;49m\u001B[43mas_index\u001B[49m\u001B[43m,\u001B[49m\n\u001B[0;32m   8875\u001B[0m \u001B[43m    \u001B[49m\u001B[43msort\u001B[49m\u001B[38;5;241;43m=\u001B[39;49m\u001B[43msort\u001B[49m\u001B[43m,\u001B[49m\n\u001B[0;32m   8876\u001B[0m \u001B[43m    \u001B[49m\u001B[43mgroup_keys\u001B[49m\u001B[38;5;241;43m=\u001B[39;49m\u001B[43mgroup_keys\u001B[49m\u001B[43m,\u001B[49m\n\u001B[0;32m   8877\u001B[0m \u001B[43m    \u001B[49m\u001B[43mobserved\u001B[49m\u001B[38;5;241;43m=\u001B[39;49m\u001B[43mobserved\u001B[49m\u001B[43m,\u001B[49m\n\u001B[0;32m   8878\u001B[0m \u001B[43m    \u001B[49m\u001B[43mdropna\u001B[49m\u001B[38;5;241;43m=\u001B[39;49m\u001B[43mdropna\u001B[49m\u001B[43m,\u001B[49m\n\u001B[0;32m   8879\u001B[0m \u001B[43m\u001B[49m\u001B[43m)\u001B[49m\n",
      "File \u001B[1;32m~\\Documents\\M2 MoSEF\\Challenge Nexialog\\venv\\lib\\site-packages\\pandas\\core\\groupby\\groupby.py:1278\u001B[0m, in \u001B[0;36mGroupBy.__init__\u001B[1;34m(self, obj, keys, axis, level, grouper, exclusions, selection, as_index, sort, group_keys, observed, dropna)\u001B[0m\n\u001B[0;32m   1275\u001B[0m \u001B[38;5;28mself\u001B[39m\u001B[38;5;241m.\u001B[39mdropna \u001B[38;5;241m=\u001B[39m dropna\n\u001B[0;32m   1277\u001B[0m \u001B[38;5;28;01mif\u001B[39;00m grouper \u001B[38;5;129;01mis\u001B[39;00m \u001B[38;5;28;01mNone\u001B[39;00m:\n\u001B[1;32m-> 1278\u001B[0m     grouper, exclusions, obj \u001B[38;5;241m=\u001B[39m \u001B[43mget_grouper\u001B[49m\u001B[43m(\u001B[49m\n\u001B[0;32m   1279\u001B[0m \u001B[43m        \u001B[49m\u001B[43mobj\u001B[49m\u001B[43m,\u001B[49m\n\u001B[0;32m   1280\u001B[0m \u001B[43m        \u001B[49m\u001B[43mkeys\u001B[49m\u001B[43m,\u001B[49m\n\u001B[0;32m   1281\u001B[0m \u001B[43m        \u001B[49m\u001B[43maxis\u001B[49m\u001B[38;5;241;43m=\u001B[39;49m\u001B[43maxis\u001B[49m\u001B[43m,\u001B[49m\n\u001B[0;32m   1282\u001B[0m \u001B[43m        \u001B[49m\u001B[43mlevel\u001B[49m\u001B[38;5;241;43m=\u001B[39;49m\u001B[43mlevel\u001B[49m\u001B[43m,\u001B[49m\n\u001B[0;32m   1283\u001B[0m \u001B[43m        \u001B[49m\u001B[43msort\u001B[49m\u001B[38;5;241;43m=\u001B[39;49m\u001B[43msort\u001B[49m\u001B[43m,\u001B[49m\n\u001B[0;32m   1284\u001B[0m \u001B[43m        \u001B[49m\u001B[43mobserved\u001B[49m\u001B[38;5;241;43m=\u001B[39;49m\u001B[38;5;28;43;01mFalse\u001B[39;49;00m\u001B[43m \u001B[49m\u001B[38;5;28;43;01mif\u001B[39;49;00m\u001B[43m \u001B[49m\u001B[43mobserved\u001B[49m\u001B[43m \u001B[49m\u001B[38;5;129;43;01mis\u001B[39;49;00m\u001B[43m \u001B[49m\u001B[43mlib\u001B[49m\u001B[38;5;241;43m.\u001B[39;49m\u001B[43mno_default\u001B[49m\u001B[43m \u001B[49m\u001B[38;5;28;43;01melse\u001B[39;49;00m\u001B[43m \u001B[49m\u001B[43mobserved\u001B[49m\u001B[43m,\u001B[49m\n\u001B[0;32m   1285\u001B[0m \u001B[43m        \u001B[49m\u001B[43mdropna\u001B[49m\u001B[38;5;241;43m=\u001B[39;49m\u001B[38;5;28;43mself\u001B[39;49m\u001B[38;5;241;43m.\u001B[39;49m\u001B[43mdropna\u001B[49m\u001B[43m,\u001B[49m\n\u001B[0;32m   1286\u001B[0m \u001B[43m    \u001B[49m\u001B[43m)\u001B[49m\n\u001B[0;32m   1288\u001B[0m \u001B[38;5;28;01mif\u001B[39;00m observed \u001B[38;5;129;01mis\u001B[39;00m lib\u001B[38;5;241m.\u001B[39mno_default:\n\u001B[0;32m   1289\u001B[0m     \u001B[38;5;28;01mif\u001B[39;00m \u001B[38;5;28many\u001B[39m(ping\u001B[38;5;241m.\u001B[39m_passed_categorical \u001B[38;5;28;01mfor\u001B[39;00m ping \u001B[38;5;129;01min\u001B[39;00m grouper\u001B[38;5;241m.\u001B[39mgroupings):\n",
      "File \u001B[1;32m~\\Documents\\M2 MoSEF\\Challenge Nexialog\\venv\\lib\\site-packages\\pandas\\core\\groupby\\grouper.py:1009\u001B[0m, in \u001B[0;36mget_grouper\u001B[1;34m(obj, key, axis, level, sort, observed, validate, dropna)\u001B[0m\n\u001B[0;32m   1007\u001B[0m         in_axis, level, gpr \u001B[38;5;241m=\u001B[39m \u001B[38;5;28;01mFalse\u001B[39;00m, gpr, \u001B[38;5;28;01mNone\u001B[39;00m\n\u001B[0;32m   1008\u001B[0m     \u001B[38;5;28;01melse\u001B[39;00m:\n\u001B[1;32m-> 1009\u001B[0m         \u001B[38;5;28;01mraise\u001B[39;00m \u001B[38;5;167;01mKeyError\u001B[39;00m(gpr)\n\u001B[0;32m   1010\u001B[0m \u001B[38;5;28;01melif\u001B[39;00m \u001B[38;5;28misinstance\u001B[39m(gpr, Grouper) \u001B[38;5;129;01mand\u001B[39;00m gpr\u001B[38;5;241m.\u001B[39mkey \u001B[38;5;129;01mis\u001B[39;00m \u001B[38;5;129;01mnot\u001B[39;00m \u001B[38;5;28;01mNone\u001B[39;00m:\n\u001B[0;32m   1011\u001B[0m     \u001B[38;5;66;03m# Add key to exclusions\u001B[39;00m\n\u001B[0;32m   1012\u001B[0m     exclusions\u001B[38;5;241m.\u001B[39madd(gpr\u001B[38;5;241m.\u001B[39mkey)\n",
      "\u001B[1;31mKeyError\u001B[0m: 'Transport: type 3'"
     ]
    }
   ],
   "source": [
    "impact_dicts = {}\n",
    "categorical_columns = data.select_dtypes(include = 'object')\n",
    "\n",
    "for categorical_feature in data['ORGANIZATION_TYPE'] :#.select_dtypes(include = 'object').columns :#\n",
    "\n",
    "    category_means = data.groupby(categorical_feature)['TARGET'].mean()\n",
    "    category_impacts = category_means - category_means.mean()\n",
    "\n",
    "    impact_dicts[categorical_feature] = category_impacts.to_dict()\n",
    "\n",
    "    data['encoded_' + categorical_feature] = data[categorical_feature].map(impact_dicts[categorical_feature])\n",
    "    data.drop(columns= categorical_feature, inplace=True)   "
   ],
   "metadata": {
    "collapsed": false,
    "ExecuteTime": {
     "end_time": "2024-01-17T18:29:25.411308Z",
     "start_time": "2024-01-17T18:29:23.624864300Z"
    }
   },
   "id": "77b6baf764684eaf"
  },
  {
   "cell_type": "markdown",
   "source": [
    "### OHE"
   ],
   "metadata": {
    "collapsed": false
   },
   "id": "5ad6b35ada4985e2"
  },
  {
   "cell_type": "code",
   "execution_count": null,
   "outputs": [],
   "source": [
    "categorical_columns = data.select_dtypes(include='object').columns\n",
    "\n",
    "data = pd.get_dummies(data, columns=categorical_columns, dtype='int',drop_first=True)"
   ],
   "metadata": {
    "collapsed": false,
    "ExecuteTime": {
     "start_time": "2024-01-17T18:29:25.403306200Z"
    }
   },
   "id": "3972519dfe44ac89"
  },
  {
   "cell_type": "markdown",
   "source": [
    "# Train test split"
   ],
   "metadata": {
    "collapsed": false
   },
   "id": "b617e3bb5cb61498"
  },
  {
   "cell_type": "code",
   "execution_count": null,
   "outputs": [],
   "source": [
    "X = data.drop('TARGET', axis=1)\n",
    "y = data['TARGET']\n",
    "\n",
    "X_train, X_test, y_train, y_test = train_test_split(X, y, test_size=0.2, random_state=889)"
   ],
   "metadata": {
    "collapsed": false,
    "ExecuteTime": {
     "end_time": "2024-01-17T18:29:25.412305Z",
     "start_time": "2024-01-17T18:29:25.411308Z"
    }
   },
   "id": "430465fa145ef15f"
  },
  {
   "cell_type": "markdown",
   "source": [
    "# LOGIT"
   ],
   "metadata": {
    "collapsed": false
   },
   "id": "5302d424139ddc9f"
  },
  {
   "cell_type": "code",
   "execution_count": null,
   "outputs": [],
   "source": [
    "import statsmodels.api as sm\n",
    "\n",
    "X_train_scaled = sm.add_constant(X_train)\n",
    "\n",
    "model = sm.Logit(y_train, X_train)\n",
    "result = model.fit_regularized(method='l1')\n",
    "\n",
    "# Affichage des résultats\n",
    "print(result.summary())\n"
   ],
   "metadata": {
    "collapsed": false,
    "ExecuteTime": {
     "start_time": "2024-01-17T18:29:25.417585300Z"
    }
   },
   "id": "be7417aef7550400"
  },
  {
   "cell_type": "markdown",
   "source": [
    "# Résultats"
   ],
   "metadata": {
    "collapsed": false
   },
   "id": "7326019c0d69be72"
  },
  {
   "cell_type": "code",
   "execution_count": null,
   "outputs": [],
   "source": [
    "import statsmodels.api as sm\n",
    "import matplotlib.pyplot as plt\n",
    "from sklearn.metrics import roc_curve, auc\n",
    "\n",
    "X_test_scaled = sm.add_constant(X_test)\n",
    "\n",
    "\n",
    "y_prob = result.predict(X_test)\n",
    "\n",
    "\n",
    "fpr, tpr, thresholds = roc_curve(y_test, y_prob)\n",
    "roc_auc = auc(fpr, tpr)\n",
    "\n",
    "plt.figure(figsize=(8, 6))\n",
    "plt.plot(fpr, tpr, color='darkorange', lw=2, label='ROC curve (AUC = {:.2f})'.format(roc_auc))\n",
    "plt.plot([0, 1], [0, 1], color='navy', lw=2, linestyle='--')\n",
    "plt.xlabel('False Positive Rate')\n",
    "plt.ylabel('True Positive Rate')\n",
    "plt.title('Receiver Operating Characteristic (ROC) Curve')\n",
    "plt.legend(loc='lower right')\n",
    "plt.show()"
   ],
   "metadata": {
    "collapsed": false,
    "ExecuteTime": {
     "end_time": "2024-01-17T18:29:25.500700800Z",
     "start_time": "2024-01-17T18:29:25.425433600Z"
    }
   },
   "id": "8efadf97484eba9c"
  },
  {
   "cell_type": "markdown",
   "source": [
    "# Feature importance"
   ],
   "metadata": {
    "collapsed": false
   },
   "id": "4e01d1138e8bf562"
  },
  {
   "cell_type": "code",
   "execution_count": null,
   "outputs": [],
   "source": [
    "coefficients = result.params\n",
    "pvalues = result.pvalues\n",
    "\n",
    "var_signif = [variable for variable, p_value in zip(X.columns, pvalues) if p_value < 0.05]\n",
    "\n",
    "# Plot des coefficients avec des couleurs différentes en fonction des p-values (transposé)\n",
    "colors = ['red' if p > 0.05 else 'green' for p in pvalues]\n",
    "\n",
    "plt.figure(figsize=(15, 15))\n",
    "plt.barh(range(len(coefficients)), coefficients, color=colors)\n",
    "plt.yticks(range(len(coefficients)), X.columns)\n",
    "plt.xlabel('Coefficients')\n",
    "plt.title('Logistic Regression Coefficients with P-values (Transposed)')\n",
    "plt.show()"
   ],
   "metadata": {
    "collapsed": false,
    "ExecuteTime": {
     "start_time": "2024-01-17T18:29:25.430435900Z"
    }
   },
   "id": "d1c165c966e6bde5"
  },
  {
   "cell_type": "code",
   "execution_count": null,
   "outputs": [],
   "source": [
    "var_signif"
   ],
   "metadata": {
    "collapsed": false,
    "ExecuteTime": {
     "start_time": "2024-01-17T18:29:25.436945900Z"
    }
   },
   "id": "cae48b50d4b00edd"
  },
  {
   "cell_type": "code",
   "execution_count": null,
   "outputs": [],
   "source": [
    "data.shape"
   ],
   "metadata": {
    "collapsed": false,
    "ExecuteTime": {
     "start_time": "2024-01-17T18:29:25.441636800Z"
    }
   },
   "id": "52056e3c907f3758"
  },
  {
   "cell_type": "markdown",
   "source": [
    "# Deuxième modèle avec uniquement les var correlées à + de 5% avec TARGET"
   ],
   "metadata": {
    "collapsed": false
   },
   "id": "9b175f5c4eca0908"
  },
  {
   "cell_type": "code",
   "execution_count": null,
   "outputs": [],
   "source": [
    "X_bis = data[var_signif]\n",
    "\n",
    "X_train, X_test, y_train, y_test = train_test_split(X_bis, y, test_size=0.2, random_state=889)\n",
    "\n",
    "\n",
    "X_train_scaled = sm.add_constant(X_train)\n",
    "\n",
    "model = sm.Logit(y_train, X_train)\n",
    "result = model.fit_regularized(method='l1')"
   ],
   "metadata": {
    "collapsed": false,
    "ExecuteTime": {
     "start_time": "2024-01-17T18:29:25.444843600Z"
    }
   },
   "id": "be351db7b476c095"
  },
  {
   "cell_type": "code",
   "execution_count": null,
   "outputs": [],
   "source": [
    "print(result.summary())"
   ],
   "metadata": {
    "collapsed": false,
    "ExecuteTime": {
     "start_time": "2024-01-17T18:29:25.447234100Z"
    }
   },
   "id": "4c3df0dd148e04a0"
  },
  {
   "cell_type": "code",
   "execution_count": null,
   "outputs": [],
   "source": [
    "#X_test_cst = sm.add_constant(X_test)\n",
    "\n",
    "\n",
    "y_prob = result.predict(X_test)\n",
    "\n",
    "\n",
    "fpr, tpr, thresholds = roc_curve(y_test, y_prob)\n",
    "roc_auc = auc(fpr, tpr)\n",
    "\n",
    "plt.figure(figsize=(8, 6))\n",
    "plt.plot(fpr, tpr, color='darkorange', lw=2, label='ROC curve (AUC = {:.2f})'.format(roc_auc))\n",
    "plt.plot([0, 1], [0, 1], color='navy', lw=2, linestyle='--')\n",
    "plt.xlabel('False Positive Rate')\n",
    "plt.ylabel('True Positive Rate')\n",
    "plt.title('Receiver Operating Characteristic (ROC) Curve')\n",
    "plt.legend(loc='lower right')\n",
    "plt.show()"
   ],
   "metadata": {
    "collapsed": false,
    "ExecuteTime": {
     "start_time": "2024-01-17T18:29:25.450236500Z"
    }
   },
   "id": "bfa70715128f91ab"
  },
  {
   "cell_type": "code",
   "execution_count": null,
   "outputs": [],
   "source": [
    "coefficients = result.params\n",
    "pvalues = result.pvalues\n",
    "\n",
    "var_signif = [variable for variable, p_value in zip(X.columns, pvalues) if p_value < 0.05]\n",
    "\n",
    "# Plot des coefficients avec des couleurs différentes en fonction des p-values (transposé)\n",
    "colors = ['red' if p > 0.05 else 'green' for p in pvalues]\n",
    "\n",
    "plt.figure(figsize=(15, 15))\n",
    "plt.barh(range(len(coefficients)), coefficients, color=colors)\n",
    "plt.yticks(range(len(coefficients)), X.columns)\n",
    "plt.xlabel('Coefficients')\n",
    "plt.title('Logistic Regression Coefficients with P-values (Transposed)')\n",
    "plt.show()"
   ],
   "metadata": {
    "collapsed": false,
    "ExecuteTime": {
     "start_time": "2024-01-17T18:29:25.452234500Z"
    }
   },
   "id": "da94a04f807ae37a"
  }
 ],
 "metadata": {
  "kernelspec": {
   "display_name": "Python 3",
   "language": "python",
   "name": "python3"
  },
  "language_info": {
   "codemirror_mode": {
    "name": "ipython",
    "version": 2
   },
   "file_extension": ".py",
   "mimetype": "text/x-python",
   "name": "python",
   "nbconvert_exporter": "python",
   "pygments_lexer": "ipython2",
   "version": "2.7.6"
  }
 },
 "nbformat": 4,
 "nbformat_minor": 5
}
