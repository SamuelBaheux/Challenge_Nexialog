{
 "cells": [
  {
   "cell_type": "code",
   "execution_count": 2,
   "id": "initial_id",
   "metadata": {
    "collapsed": true,
    "ExecuteTime": {
     "end_time": "2024-02-22T14:01:00.745986Z",
     "start_time": "2024-02-22T14:00:58.936770Z"
    }
   },
   "outputs": [],
   "source": [
    "import sys\n",
    "sys.path.append(\"../script\")\n",
    "from data_preparation import *\n",
    "from utils import GridScore\n",
    "import pandas as pd\n",
    "import matplotlib.pyplot as plt\n",
    "from sklearn.metrics import roc_curve, auc, confusion_matrix\n",
    "from statsmodels.discrete.discrete_model import Logit"
   ]
  },
  {
   "cell_type": "markdown",
   "source": [
    "# Import et préparation des données"
   ],
   "metadata": {
    "collapsed": false
   },
   "id": "6c2e6735dd75b317"
  },
  {
   "cell_type": "code",
   "execution_count": 3,
   "outputs": [],
   "source": [
    "train = pd.read_csv(\"../data/application_train_vf.csv\")\n",
    "test = pd.read_csv(\"../data/application_test_vf.csv\")"
   ],
   "metadata": {
    "collapsed": false,
    "ExecuteTime": {
     "end_time": "2024-02-22T14:01:03.553727Z",
     "start_time": "2024-02-22T14:01:00.746645Z"
    }
   },
   "id": "cb7ad9a26d1ca1a5"
  },
  {
   "cell_type": "code",
   "execution_count": null,
   "outputs": [],
   "source": [
    "dataprep = DataPreparation(train, test, 0.3, plot = True)\n",
    "train_prepared, test_prepared = dataprep.get_prepared_data()"
   ],
   "metadata": {
    "collapsed": false
   },
   "id": "cfa67b02c946a089"
  },
  {
   "cell_type": "code",
   "execution_count": 4,
   "outputs": [],
   "source": [
    "#train_prepared.to_csv(\"../data/train_prepared.csv\")\n",
    "#test_prepared.to_csv(\"../data/test_prepared.csv\")\n",
    "train_prepared = pd.read_csv(\"../data/train_prepared.csv\", index_col=[0])\n",
    "test_prepared = pd.read_csv(\"../data/test_prepared.csv\", index_col=[0])"
   ],
   "metadata": {
    "collapsed": false,
    "ExecuteTime": {
     "end_time": "2024-02-22T14:01:05.135036Z",
     "start_time": "2024-02-22T14:01:03.555022Z"
    }
   },
   "id": "bc6e6cacbd553b75"
  },
  {
   "cell_type": "code",
   "execution_count": 5,
   "outputs": [],
   "source": [
    "df_train = train_prepared.copy()"
   ],
   "metadata": {
    "collapsed": false,
    "ExecuteTime": {
     "end_time": "2024-02-22T14:01:05.203373Z",
     "start_time": "2024-02-22T14:01:05.136093Z"
    }
   },
   "id": "a6248134b7318925"
  },
  {
   "cell_type": "code",
   "execution_count": 6,
   "outputs": [],
   "source": [
    "df_train[\"TARGET\"] = df_train[\"TARGET\"].astype(\"int\")"
   ],
   "metadata": {
    "collapsed": false,
    "ExecuteTime": {
     "end_time": "2024-02-22T14:01:05.210044Z",
     "start_time": "2024-02-22T14:01:05.205401Z"
    }
   },
   "id": "6cc070c6bfe32f67"
  },
  {
   "cell_type": "code",
   "execution_count": 7,
   "outputs": [],
   "source": [
    "df_validation = df_train.iloc[280000:,:]\n",
    "df_train = df_train.iloc[:280000,:]"
   ],
   "metadata": {
    "collapsed": false,
    "ExecuteTime": {
     "end_time": "2024-02-22T14:01:05.216007Z",
     "start_time": "2024-02-22T14:01:05.209963Z"
    }
   },
   "id": "dd298c88e4473077"
  },
  {
   "cell_type": "code",
   "execution_count": 8,
   "outputs": [],
   "source": [
    "for var in train_prepared[['FLAG_EMP_PHONE', 'REG_CITY_NOT_LIVE_CITY',\n",
    "       'REG_CITY_NOT_WORK_CITY', 'REGION_RATING_CLIENT',\n",
    "       'REGION_RATING_CLIENT_W_CITY', 'FLAG_WORK_PHONE', 'FLAG_PHONE',\n",
    "       'LIVE_CITY_NOT_WORK_CITY']].columns : \n",
    "    df_validation[var] = df_validation[var].replace(1, 'un')\n",
    "    df_validation[var] = df_validation[var].replace(0, 'zero')\n",
    "    df_validation[var] = df_validation[var].replace(2, 'deux')\n",
    "    df_validation[var] = df_validation[var].replace(3, 'trois')\n",
    "    df_train[var] = df_train[var].replace(1, 'un')\n",
    "    df_train[var] = df_train[var].replace(0, 'zero')\n",
    "    df_train[var] = df_train[var].replace(2, 'deux')\n",
    "    df_train[var] = df_train[var].replace(3, 'trois')\n",
    "    train_prepared[var] = train_prepared[var].replace(1, 'un')\n",
    "    train_prepared[var] = train_prepared[var].replace(0, 'zero')\n",
    "    train_prepared[var] = train_prepared[var].replace(2, 'deux')\n",
    "    train_prepared[var] = train_prepared[var].replace(3, 'trois')"
   ],
   "metadata": {
    "collapsed": false,
    "ExecuteTime": {
     "end_time": "2024-02-22T14:01:06.557769Z",
     "start_time": "2024-02-22T14:01:05.217397Z"
    }
   },
   "id": "94ab1d80805fd63d"
  },
  {
   "cell_type": "markdown",
   "source": [
    "# Modélisation"
   ],
   "metadata": {
    "collapsed": false
   },
   "id": "6a9748c39f3c2b7b"
  },
  {
   "cell_type": "code",
   "execution_count": 24,
   "outputs": [],
   "source": [
    "features = list(train_prepared.iloc[:,2:].columns)"
   ],
   "metadata": {
    "collapsed": false,
    "ExecuteTime": {
     "end_time": "2024-02-22T14:02:07.869314Z",
     "start_time": "2024-02-22T14:02:07.720080Z"
    }
   },
   "id": "3366bdc2ae479a76"
  },
  {
   "cell_type": "code",
   "execution_count": 25,
   "outputs": [],
   "source": [
    "reference_categories = {var : train_prepared[var].mode()[0] for var in features}"
   ],
   "metadata": {
    "collapsed": false,
    "ExecuteTime": {
     "end_time": "2024-02-22T14:02:08.313541Z",
     "start_time": "2024-02-22T14:02:07.887346Z"
    }
   },
   "id": "9043ac1a12a3f906"
  },
  {
   "cell_type": "code",
   "execution_count": 26,
   "outputs": [],
   "source": [
    "formula_parts = []\n",
    "for var in features:\n",
    "    if var in reference_categories:\n",
    "        ref_category = reference_categories[var]\n",
    "        formula_parts.append(f'C({var}, Treatment(reference=\"{ref_category}\"))')\n",
    "\n",
    "formula = 'TARGET ~ ' + ' + '.join(formula_parts)"
   ],
   "metadata": {
    "collapsed": false,
    "ExecuteTime": {
     "end_time": "2024-02-22T14:02:08.322579Z",
     "start_time": "2024-02-22T14:02:08.312528Z"
    }
   },
   "id": "61111164c1ddef45"
  },
  {
   "cell_type": "code",
   "execution_count": 27,
   "outputs": [
    {
     "name": "stdout",
     "output_type": "stream",
     "text": [
      "Optimization terminated successfully    (Exit mode 0)\n",
      "            Current function value: 0.24642995848192825\n",
      "            Iterations: 320\n",
      "            Function evaluations: 321\n",
      "            Gradient evaluations: 320\n"
     ]
    }
   ],
   "source": [
    "model = Logit.from_formula(formula=formula, data=train_prepared)\n",
    "logit_model = model.fit_regularized(maxiter = 500, method='l1')"
   ],
   "metadata": {
    "collapsed": false,
    "ExecuteTime": {
     "end_time": "2024-02-22T14:02:46.069112Z",
     "start_time": "2024-02-22T14:02:08.330464Z"
    }
   },
   "id": "bb8f778b54d972ad"
  },
  {
   "cell_type": "markdown",
   "source": [
    "# Prédiction"
   ],
   "metadata": {
    "collapsed": false
   },
   "id": "94aa359bb0eb4a45"
  },
  {
   "cell_type": "code",
   "execution_count": 28,
   "outputs": [],
   "source": [
    "pred = logit_model.predict(df_validation)"
   ],
   "metadata": {
    "collapsed": false,
    "ExecuteTime": {
     "end_time": "2024-02-22T14:02:47.166470Z",
     "start_time": "2024-02-22T14:02:46.088137Z"
    }
   },
   "id": "92e0882be303d025"
  },
  {
   "cell_type": "code",
   "execution_count": 29,
   "outputs": [],
   "source": [
    "pred = pred.apply(lambda x : 0 if x < 0.5 else 1)"
   ],
   "metadata": {
    "collapsed": false,
    "ExecuteTime": {
     "end_time": "2024-02-22T14:02:47.206095Z",
     "start_time": "2024-02-22T14:02:47.178019Z"
    }
   },
   "id": "5983ff72b2ca6cdc"
  },
  {
   "cell_type": "code",
   "execution_count": 30,
   "outputs": [
    {
     "data": {
      "text/plain": "array([[23769,  2307],\n       [   19,    12]])"
     },
     "execution_count": 30,
     "metadata": {},
     "output_type": "execute_result"
    }
   ],
   "source": [
    "confusion_matrix(pred, df_validation[\"TARGET\"])"
   ],
   "metadata": {
    "collapsed": false,
    "ExecuteTime": {
     "end_time": "2024-02-22T14:02:47.214832Z",
     "start_time": "2024-02-22T14:02:47.203573Z"
    }
   },
   "id": "9d917c29f161365f"
  },
  {
   "cell_type": "code",
   "execution_count": 31,
   "outputs": [
    {
     "data": {
      "text/plain": "<Figure size 800x600 with 1 Axes>",
      "image/png": "[encoded data removed]"
     },
     "metadata": {},
     "output_type": "display_data"
    }
   ],
   "source": [
    "fpr, tpr, thresholds = roc_curve(pred, df_validation[\"TARGET\"])\n",
    "roc_auc = auc(fpr, tpr)\n",
    "\n",
    "plt.figure(figsize=(8, 6))\n",
    "plt.plot(fpr, tpr, color='darkorange', lw=2, label='ROC curve (AUC = {:.2f})'.format(roc_auc))\n",
    "plt.plot([0, 1], [0, 1], color='navy', lw=2, linestyle='--')\n",
    "plt.xlabel('False Positive Rate')\n",
    "plt.ylabel('True Positive Rate')\n",
    "plt.title('Receiver Operating Characteristic (ROC) Curve')\n",
    "plt.legend(loc='lower right')\n",
    "plt.show()"
   ],
   "metadata": {
    "collapsed": false,
    "ExecuteTime": {
     "end_time": "2024-02-22T14:02:47.406738Z",
     "start_time": "2024-02-22T14:02:47.218859Z"
    }
   },
   "id": "a871c36ce03a159"
  },
  {
   "cell_type": "code",
   "execution_count": 32,
   "outputs": [
    {
     "data": {
      "text/plain": "0.2986246158870598"
     },
     "execution_count": 32,
     "metadata": {},
     "output_type": "execute_result"
    }
   ],
   "source": [
    "roc_auc = auc(fpr, tpr)\n",
    "gini_coefficient = 2 * roc_auc - 1\n",
    "gini_coefficient"
   ],
   "metadata": {
    "collapsed": false,
    "ExecuteTime": {
     "end_time": "2024-02-22T14:02:47.449328Z",
     "start_time": "2024-02-22T14:02:47.428422Z"
    }
   },
   "id": "b7b991285c7fb196"
  },
  {
   "cell_type": "markdown",
   "source": [
    "# Grille de score"
   ],
   "metadata": {
    "collapsed": false
   },
   "id": "e9cc4452cabbaa3"
  },
  {
   "cell_type": "code",
   "execution_count": 33,
   "outputs": [],
   "source": [
    "g = GridScore(train_prepared, logit_model).compute_grid_score()"
   ],
   "metadata": {
    "collapsed": false,
    "ExecuteTime": {
     "end_time": "2024-02-22T14:03:00.912859Z",
     "start_time": "2024-02-22T14:02:47.433471Z"
    }
   },
   "id": "f99d003c7bf3a9f6"
  },
  {
   "cell_type": "code",
   "execution_count": 34,
   "outputs": [
    {
     "data": {
      "text/plain": "                 Variable             Modality  Coefficient  P-Value  \\\n0               Intercept                    -    -2.484269   0.0000   \n1     DAYS_BIRTH_disc_int  [-18807;-13580]_ref     0.000000   0.0000   \n2     DAYS_BIRTH_disc_int       [-13579;-7489]     0.010000   0.5809   \n3     DAYS_BIRTH_disc_int      [-25229;-18808]    -0.230000   0.0000   \n4   EXT_SOURCE_2_disc_int      [0.48;0.85]_ref     0.000000   0.0000   \n..                    ...                  ...          ...      ...   \n68           FLAG_OWN_CAR                    Y    -0.260000   0.0043   \n69        FLAG_OWN_REALTY                Y_ref     0.000000   0.0000   \n70        FLAG_OWN_REALTY                    N    -0.060000   0.0001   \n71            CODE_GENDER                F_ref     0.000000   0.0000   \n72            CODE_GENDER                    M     0.310000   0.0000   \n\n         Score  Contribution  Pcentage_Défaut  Pcentage_Classe  \n0     0.000000           0.0             0.00             0.00  \n1     0.896057           2.0             2.68            36.16  \n2     0.000000           2.0             3.37            33.31  \n3    21.505376           2.0             1.61            30.53  \n4   101.254480          10.0             3.44            65.31  \n..         ...           ...              ...              ...  \n68   23.297491           3.0             2.34            34.02  \n69    0.000000           1.0             5.25            69.37  \n70    5.376344           1.0             2.43            30.63  \n71   27.777778           3.0             4.37            65.87  \n72    0.000000           3.0             3.30            34.13  \n\n[73 rows x 8 columns]",
      "text/html": "<div>\n<style scoped>\n    .dataframe tbody tr th:only-of-type {\n        vertical-align: middle;\n    }\n\n    .dataframe tbody tr th {\n        vertical-align: top;\n    }\n\n    .dataframe thead th {\n        text-align: right;\n    }\n</style>\n<table border=\"1\" class=\"dataframe\">\n  <thead>\n    <tr style=\"text-align: right;\">\n      <th></th>\n      <th>Variable</th>\n      <th>Modality</th>\n      <th>Coefficient</th>\n      <th>P-Value</th>\n      <th>Score</th>\n      <th>Contribution</th>\n      <th>Pcentage_Défaut</th>\n      <th>Pcentage_Classe</th>\n    </tr>\n  </thead>\n  <tbody>\n    <tr>\n      <th>0</th>\n      <td>Intercept</td>\n      <td>-</td>\n      <td>-2.484269</td>\n      <td>0.0000</td>\n      <td>0.000000</td>\n      <td>0.0</td>\n      <td>0.00</td>\n      <td>0.00</td>\n    </tr>\n    <tr>\n      <th>1</th>\n      <td>DAYS_BIRTH_disc_int</td>\n      <td>[-18807;-13580]_ref</td>\n      <td>0.000000</td>\n      <td>0.0000</td>\n      <td>0.896057</td>\n      <td>2.0</td>\n      <td>2.68</td>\n      <td>36.16</td>\n    </tr>\n    <tr>\n      <th>2</th>\n      <td>DAYS_BIRTH_disc_int</td>\n      <td>[-13579;-7489]</td>\n      <td>0.010000</td>\n      <td>0.5809</td>\n      <td>0.000000</td>\n      <td>2.0</td>\n      <td>3.37</td>\n      <td>33.31</td>\n    </tr>\n    <tr>\n      <th>3</th>\n      <td>DAYS_BIRTH_disc_int</td>\n      <td>[-25229;-18808]</td>\n      <td>-0.230000</td>\n      <td>0.0000</td>\n      <td>21.505376</td>\n      <td>2.0</td>\n      <td>1.61</td>\n      <td>30.53</td>\n    </tr>\n    <tr>\n      <th>4</th>\n      <td>EXT_SOURCE_2_disc_int</td>\n      <td>[0.48;0.85]_ref</td>\n      <td>0.000000</td>\n      <td>0.0000</td>\n      <td>101.254480</td>\n      <td>10.0</td>\n      <td>3.44</td>\n      <td>65.31</td>\n    </tr>\n    <tr>\n      <th>...</th>\n      <td>...</td>\n      <td>...</td>\n      <td>...</td>\n      <td>...</td>\n      <td>...</td>\n      <td>...</td>\n      <td>...</td>\n      <td>...</td>\n    </tr>\n    <tr>\n      <th>68</th>\n      <td>FLAG_OWN_CAR</td>\n      <td>Y</td>\n      <td>-0.260000</td>\n      <td>0.0043</td>\n      <td>23.297491</td>\n      <td>3.0</td>\n      <td>2.34</td>\n      <td>34.02</td>\n    </tr>\n    <tr>\n      <th>69</th>\n      <td>FLAG_OWN_REALTY</td>\n      <td>Y_ref</td>\n      <td>0.000000</td>\n      <td>0.0000</td>\n      <td>0.000000</td>\n      <td>1.0</td>\n      <td>5.25</td>\n      <td>69.37</td>\n    </tr>\n    <tr>\n      <th>70</th>\n      <td>FLAG_OWN_REALTY</td>\n      <td>N</td>\n      <td>-0.060000</td>\n      <td>0.0001</td>\n      <td>5.376344</td>\n      <td>1.0</td>\n      <td>2.43</td>\n      <td>30.63</td>\n    </tr>\n    <tr>\n      <th>71</th>\n      <td>CODE_GENDER</td>\n      <td>F_ref</td>\n      <td>0.000000</td>\n      <td>0.0000</td>\n      <td>27.777778</td>\n      <td>3.0</td>\n      <td>4.37</td>\n      <td>65.87</td>\n    </tr>\n    <tr>\n      <th>72</th>\n      <td>CODE_GENDER</td>\n      <td>M</td>\n      <td>0.310000</td>\n      <td>0.0000</td>\n      <td>0.000000</td>\n      <td>3.0</td>\n      <td>3.30</td>\n      <td>34.13</td>\n    </tr>\n  </tbody>\n</table>\n<p>73 rows × 8 columns</p>\n</div>"
     },
     "execution_count": 34,
     "metadata": {},
     "output_type": "execute_result"
    }
   ],
   "source": [
    "g"
   ],
   "metadata": {
    "collapsed": false,
    "ExecuteTime": {
     "end_time": "2024-02-22T14:03:00.923947Z",
     "start_time": "2024-02-22T14:03:00.921241Z"
    }
   },
   "id": "87634b5bf9c06063"
  },
  {
   "cell_type": "markdown",
   "source": [
    "## Calcul des scores individuels"
   ],
   "metadata": {
    "collapsed": false
   },
   "id": "132b7e2b01745bec"
  },
  {
   "cell_type": "code",
   "execution_count": 35,
   "outputs": [],
   "source": [
    "score_dict = {}\n",
    "for index, row in g.iterrows():\n",
    "    var = row[\"Variable\"]\n",
    "    mod = row[\"Modality\"].split(\"_ref\")[0]\n",
    "    score = row[\"Score\"]\n",
    "    \n",
    "    if var not in score_dict:\n",
    "        score_dict[var] = {}\n",
    "    score_dict[var][mod] = score"
   ],
   "metadata": {
    "collapsed": false,
    "ExecuteTime": {
     "end_time": "2024-02-22T14:03:00.932036Z",
     "start_time": "2024-02-22T14:03:00.929949Z"
    }
   },
   "id": "716802d0d02416dc"
  },
  {
   "cell_type": "code",
   "execution_count": 36,
   "outputs": [],
   "source": [
    "def compute_score(row, features):\n",
    "    score = 0\n",
    "    for var in features :\n",
    "        modality = row[var]\n",
    "        score += score_dict[var][modality]\n",
    "    return(score)"
   ],
   "metadata": {
    "collapsed": false,
    "ExecuteTime": {
     "end_time": "2024-02-22T14:03:00.949352Z",
     "start_time": "2024-02-22T14:03:00.934103Z"
    }
   },
   "id": "16361c92203766ef"
  },
  {
   "cell_type": "code",
   "execution_count": 37,
   "outputs": [],
   "source": [
    "def compute_individual_score(df, features):\n",
    "    df_score = df.copy()\n",
    "    df_score[\"Score_ind\"] = 0\n",
    "    df_score[\"Score_ind\"] = df_score.apply(lambda row : compute_score(row, features), axis = 1)\n",
    "    return(df_score)"
   ],
   "metadata": {
    "collapsed": false,
    "ExecuteTime": {
     "end_time": "2024-02-22T14:03:00.975382Z",
     "start_time": "2024-02-22T14:03:00.941888Z"
    }
   },
   "id": "e591a5af8bc9146e"
  },
  {
   "cell_type": "code",
   "execution_count": 38,
   "outputs": [],
   "source": [
    "df2 = compute_individual_score(df_train, features)"
   ],
   "metadata": {
    "collapsed": false,
    "ExecuteTime": {
     "end_time": "2024-02-22T14:03:21.676592Z",
     "start_time": "2024-02-22T14:03:00.950194Z"
    }
   },
   "id": "62380a152d3601"
  },
  {
   "cell_type": "code",
   "execution_count": 42,
   "outputs": [
    {
     "data": {
      "text/plain": "(array([1.4100e+02, 1.9080e+03, 8.9680e+03, 2.6566e+04, 5.6447e+04,\n        8.8152e+04, 7.2215e+04, 2.3056e+04, 2.4780e+03, 6.9000e+01]),\n array([282.25806452, 339.60573477, 396.95340502, 454.30107527,\n        511.64874552, 568.99641577, 626.34408602, 683.69175627,\n        741.03942652, 798.38709677, 855.73476703]),\n <BarContainer object of 10 artists>)"
     },
     "execution_count": 42,
     "metadata": {},
     "output_type": "execute_result"
    },
    {
     "data": {
      "text/plain": "<Figure size 640x480 with 1 Axes>",
      "image/png": "[encoded data removed]"
     },
     "metadata": {},
     "output_type": "display_data"
    }
   ],
   "source": [
    "plt.hist(df2[\"Score_ind\"])"
   ],
   "metadata": {
    "collapsed": false,
    "ExecuteTime": {
     "end_time": "2024-02-22T14:04:45.110488Z",
     "start_time": "2024-02-22T14:04:45.007374Z"
    }
   },
   "id": "df1e4a4b5ab5cebb"
  },
  {
   "cell_type": "code",
   "execution_count": 44,
   "outputs": [],
   "source": [
    "df2.to_csv(\"../data/df_score.csv\")"
   ],
   "metadata": {
    "collapsed": false,
    "ExecuteTime": {
     "end_time": "2024-02-22T15:09:17.642663Z",
     "start_time": "2024-02-22T15:09:14.523950Z"
    }
   },
   "id": "a19d38da1e09140a"
  },
  {
   "cell_type": "code",
   "execution_count": null,
   "outputs": [],
   "source": [],
   "metadata": {
    "collapsed": false
   },
   "id": "f113cc9c3e8dc48f"
  }
 ],
 "metadata": {
  "kernelspec": {
   "display_name": "Python 3",
   "language": "python",
   "name": "python3"
  },
  "language_info": {
   "codemirror_mode": {
    "name": "ipython",
    "version": 2
   },
   "file_extension": ".py",
   "mimetype": "text/x-python",
   "name": "python",
   "nbconvert_exporter": "python",
   "pygments_lexer": "ipython2",
   "version": "2.7.6"
  }
 },
 "nbformat": 4,
 "nbformat_minor": 5
}
