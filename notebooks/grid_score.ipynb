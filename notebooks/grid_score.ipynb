{
 "cells": [
  {
   "cell_type": "code",
   "execution_count": 1,
   "id": "initial_id",
   "metadata": {
    "collapsed": true,
    "ExecuteTime": {
     "end_time": "2024-02-21T10:17:08.854054Z",
     "start_time": "2024-02-21T10:17:07.479671Z"
    }
   },
   "outputs": [],
   "source": [
    "import sys\n",
    "sys.path.append(\"../script\")\n",
    "from data_preparation import *\n",
    "from utils import GridScore\n",
    "import re\n",
    "import pandas as pd\n",
    "import matplotlib.pyplot as plt\n",
    "from sklearn.metrics import roc_curve, auc\n",
    "from statsmodels.discrete.discrete_model import Logit\n",
    "import statsmodels.formula.api as smf"
   ]
  },
  {
   "cell_type": "markdown",
   "source": [
    "# Import et préparation des données"
   ],
   "metadata": {
    "collapsed": false
   },
   "id": "6c2e6735dd75b317"
  },
  {
   "cell_type": "code",
   "execution_count": 2,
   "outputs": [],
   "source": [
    "train = pd.read_csv(\"../data/application_train_vf.csv\")\n",
    "test = pd.read_csv(\"../data/application_test_vf.csv\")"
   ],
   "metadata": {
    "collapsed": false,
    "ExecuteTime": {
     "end_time": "2024-02-21T10:17:12.653873Z",
     "start_time": "2024-02-21T10:17:09.773240Z"
    }
   },
   "id": "cb7ad9a26d1ca1a5"
  },
  {
   "cell_type": "code",
   "execution_count": 3,
   "outputs": [],
   "source": [
    "train_prepared = pd.read_csv(\"../data/train_prepared.csv\", index_col=[0])\n",
    "test_prepared = pd.read_csv(\"../data/test_prepared.csv\", index_col=[0])"
   ],
   "metadata": {
    "collapsed": false,
    "ExecuteTime": {
     "end_time": "2024-02-21T10:17:14.230596Z",
     "start_time": "2024-02-21T10:17:12.654035Z"
    }
   },
   "id": "2be2791ce3002cf4"
  },
  {
   "cell_type": "code",
   "execution_count": 7,
   "outputs": [
    {
     "name": "stdout",
     "output_type": "stream",
     "text": [
      "Type des variables convertis ✅\n"
     ]
    },
    {
     "ename": "KeyboardInterrupt",
     "evalue": "",
     "output_type": "error",
     "traceback": [
      "\u001B[0;31m---------------------------------------------------------------------------\u001B[0m",
      "\u001B[0;31mKeyboardInterrupt\u001B[0m                         Traceback (most recent call last)",
      "Cell \u001B[0;32mIn[7], line 2\u001B[0m\n\u001B[1;32m      1\u001B[0m dataprep \u001B[38;5;241m=\u001B[39m DataPreparation(train, test, \u001B[38;5;241m0.3\u001B[39m)\n\u001B[0;32m----> 2\u001B[0m train_prepared, test_prepared \u001B[38;5;241m=\u001B[39m \u001B[43mdataprep\u001B[49m\u001B[38;5;241;43m.\u001B[39;49m\u001B[43mget_prepared_data\u001B[49m\u001B[43m(\u001B[49m\u001B[43m)\u001B[49m\n",
      "File \u001B[0;32m~/Documents/École/Université/M2/M2_S1/Challenge_Nexialog/notebooks/../script/data_preparation.py:258\u001B[0m, in \u001B[0;36mDataPreparation.get_prepared_data\u001B[0;34m(self)\u001B[0m\n\u001B[1;32m    256\u001B[0m \u001B[38;5;28;01mdef\u001B[39;00m \u001B[38;5;21mget_prepared_data\u001B[39m(\u001B[38;5;28mself\u001B[39m):\n\u001B[1;32m    257\u001B[0m     \u001B[38;5;28mself\u001B[39m\u001B[38;5;241m.\u001B[39mconvert_type()\n\u001B[0;32m--> 258\u001B[0m     \u001B[38;5;28;43mself\u001B[39;49m\u001B[38;5;241;43m.\u001B[39;49m\u001B[43mremove_and_impute_nan\u001B[49m\u001B[43m(\u001B[49m\u001B[43m)\u001B[49m\n\u001B[1;32m    259\u001B[0m     \u001B[38;5;28mself\u001B[39m\u001B[38;5;241m.\u001B[39mnumericals_discretisation()\n\u001B[1;32m    260\u001B[0m     \u001B[38;5;28mself\u001B[39m\u001B[38;5;241m.\u001B[39mcategorical_discretisation()\n",
      "File \u001B[0;32m~/Documents/École/Université/M2/M2_S1/Challenge_Nexialog/notebooks/../script/data_preparation.py:149\u001B[0m, in \u001B[0;36mDataPreparation.remove_and_impute_nan\u001B[0;34m(self)\u001B[0m\n\u001B[1;32m    147\u001B[0m \u001B[38;5;28;01mif\u001B[39;00m pcentage_nan \u001B[38;5;241m!=\u001B[39m \u001B[38;5;241m0\u001B[39m :\n\u001B[1;32m    148\u001B[0m     \u001B[38;5;28;01mif\u001B[39;00m pcentage_nan \u001B[38;5;241m>\u001B[39m \u001B[38;5;28mself\u001B[39m\u001B[38;5;241m.\u001B[39mnan_treshold :\n\u001B[0;32m--> 149\u001B[0m         \u001B[38;5;28;43mself\u001B[39;49m\u001B[38;5;241;43m.\u001B[39;49m\u001B[43mtrain\u001B[49m\u001B[38;5;241;43m.\u001B[39;49m\u001B[43mdrop\u001B[49m\u001B[43m(\u001B[49m\u001B[43mcolumns\u001B[49m\u001B[43m \u001B[49m\u001B[38;5;241;43m=\u001B[39;49m\u001B[43m \u001B[49m\u001B[43m[\u001B[49m\u001B[43mvar\u001B[49m\u001B[43m]\u001B[49m\u001B[43m,\u001B[49m\u001B[43m \u001B[49m\u001B[43minplace\u001B[49m\u001B[43m \u001B[49m\u001B[38;5;241;43m=\u001B[39;49m\u001B[43m \u001B[49m\u001B[38;5;28;43;01mTrue\u001B[39;49;00m\u001B[43m)\u001B[49m\n\u001B[1;32m    150\u001B[0m         \u001B[38;5;28mself\u001B[39m\u001B[38;5;241m.\u001B[39mtest\u001B[38;5;241m.\u001B[39mdrop(columns \u001B[38;5;241m=\u001B[39m [var], inplace\u001B[38;5;241m=\u001B[39m\u001B[38;5;28;01mTrue\u001B[39;00m)\n\u001B[1;32m    151\u001B[0m     \u001B[38;5;28;01melse\u001B[39;00m :\n",
      "File \u001B[0;32m~/Documents/École/Université/M2/M2_S1/Challenge_Nexialog/venv/lib/python3.9/site-packages/pandas/core/frame.py:5344\u001B[0m, in \u001B[0;36mDataFrame.drop\u001B[0;34m(self, labels, axis, index, columns, level, inplace, errors)\u001B[0m\n\u001B[1;32m   5196\u001B[0m \u001B[38;5;28;01mdef\u001B[39;00m \u001B[38;5;21mdrop\u001B[39m(\n\u001B[1;32m   5197\u001B[0m     \u001B[38;5;28mself\u001B[39m,\n\u001B[1;32m   5198\u001B[0m     labels: IndexLabel \u001B[38;5;241m|\u001B[39m \u001B[38;5;28;01mNone\u001B[39;00m \u001B[38;5;241m=\u001B[39m \u001B[38;5;28;01mNone\u001B[39;00m,\n\u001B[0;32m   (...)\u001B[0m\n\u001B[1;32m   5205\u001B[0m     errors: IgnoreRaise \u001B[38;5;241m=\u001B[39m \u001B[38;5;124m\"\u001B[39m\u001B[38;5;124mraise\u001B[39m\u001B[38;5;124m\"\u001B[39m,\n\u001B[1;32m   5206\u001B[0m ) \u001B[38;5;241m-\u001B[39m\u001B[38;5;241m>\u001B[39m DataFrame \u001B[38;5;241m|\u001B[39m \u001B[38;5;28;01mNone\u001B[39;00m:\n\u001B[1;32m   5207\u001B[0m \u001B[38;5;250m    \u001B[39m\u001B[38;5;124;03m\"\"\"\u001B[39;00m\n\u001B[1;32m   5208\u001B[0m \u001B[38;5;124;03m    Drop specified labels from rows or columns.\u001B[39;00m\n\u001B[1;32m   5209\u001B[0m \n\u001B[0;32m   (...)\u001B[0m\n\u001B[1;32m   5342\u001B[0m \u001B[38;5;124;03m            weight  1.0     0.8\u001B[39;00m\n\u001B[1;32m   5343\u001B[0m \u001B[38;5;124;03m    \"\"\"\u001B[39;00m\n\u001B[0;32m-> 5344\u001B[0m     \u001B[38;5;28;01mreturn\u001B[39;00m \u001B[38;5;28;43msuper\u001B[39;49m\u001B[43m(\u001B[49m\u001B[43m)\u001B[49m\u001B[38;5;241;43m.\u001B[39;49m\u001B[43mdrop\u001B[49m\u001B[43m(\u001B[49m\n\u001B[1;32m   5345\u001B[0m \u001B[43m        \u001B[49m\u001B[43mlabels\u001B[49m\u001B[38;5;241;43m=\u001B[39;49m\u001B[43mlabels\u001B[49m\u001B[43m,\u001B[49m\n\u001B[1;32m   5346\u001B[0m \u001B[43m        \u001B[49m\u001B[43maxis\u001B[49m\u001B[38;5;241;43m=\u001B[39;49m\u001B[43maxis\u001B[49m\u001B[43m,\u001B[49m\n\u001B[1;32m   5347\u001B[0m \u001B[43m        \u001B[49m\u001B[43mindex\u001B[49m\u001B[38;5;241;43m=\u001B[39;49m\u001B[43mindex\u001B[49m\u001B[43m,\u001B[49m\n\u001B[1;32m   5348\u001B[0m \u001B[43m        \u001B[49m\u001B[43mcolumns\u001B[49m\u001B[38;5;241;43m=\u001B[39;49m\u001B[43mcolumns\u001B[49m\u001B[43m,\u001B[49m\n\u001B[1;32m   5349\u001B[0m \u001B[43m        \u001B[49m\u001B[43mlevel\u001B[49m\u001B[38;5;241;43m=\u001B[39;49m\u001B[43mlevel\u001B[49m\u001B[43m,\u001B[49m\n\u001B[1;32m   5350\u001B[0m \u001B[43m        \u001B[49m\u001B[43minplace\u001B[49m\u001B[38;5;241;43m=\u001B[39;49m\u001B[43minplace\u001B[49m\u001B[43m,\u001B[49m\n\u001B[1;32m   5351\u001B[0m \u001B[43m        \u001B[49m\u001B[43merrors\u001B[49m\u001B[38;5;241;43m=\u001B[39;49m\u001B[43merrors\u001B[49m\u001B[43m,\u001B[49m\n\u001B[1;32m   5352\u001B[0m \u001B[43m    \u001B[49m\u001B[43m)\u001B[49m\n",
      "File \u001B[0;32m~/Documents/École/Université/M2/M2_S1/Challenge_Nexialog/venv/lib/python3.9/site-packages/pandas/core/generic.py:4711\u001B[0m, in \u001B[0;36mNDFrame.drop\u001B[0;34m(self, labels, axis, index, columns, level, inplace, errors)\u001B[0m\n\u001B[1;32m   4709\u001B[0m \u001B[38;5;28;01mfor\u001B[39;00m axis, labels \u001B[38;5;129;01min\u001B[39;00m axes\u001B[38;5;241m.\u001B[39mitems():\n\u001B[1;32m   4710\u001B[0m     \u001B[38;5;28;01mif\u001B[39;00m labels \u001B[38;5;129;01mis\u001B[39;00m \u001B[38;5;129;01mnot\u001B[39;00m \u001B[38;5;28;01mNone\u001B[39;00m:\n\u001B[0;32m-> 4711\u001B[0m         obj \u001B[38;5;241m=\u001B[39m \u001B[43mobj\u001B[49m\u001B[38;5;241;43m.\u001B[39;49m\u001B[43m_drop_axis\u001B[49m\u001B[43m(\u001B[49m\u001B[43mlabels\u001B[49m\u001B[43m,\u001B[49m\u001B[43m \u001B[49m\u001B[43maxis\u001B[49m\u001B[43m,\u001B[49m\u001B[43m \u001B[49m\u001B[43mlevel\u001B[49m\u001B[38;5;241;43m=\u001B[39;49m\u001B[43mlevel\u001B[49m\u001B[43m,\u001B[49m\u001B[43m \u001B[49m\u001B[43merrors\u001B[49m\u001B[38;5;241;43m=\u001B[39;49m\u001B[43merrors\u001B[49m\u001B[43m)\u001B[49m\n\u001B[1;32m   4713\u001B[0m \u001B[38;5;28;01mif\u001B[39;00m inplace:\n\u001B[1;32m   4714\u001B[0m     \u001B[38;5;28mself\u001B[39m\u001B[38;5;241m.\u001B[39m_update_inplace(obj)\n",
      "File \u001B[0;32m~/Documents/École/Université/M2/M2_S1/Challenge_Nexialog/venv/lib/python3.9/site-packages/pandas/core/generic.py:4792\u001B[0m, in \u001B[0;36mNDFrame._drop_axis\u001B[0;34m(self, labels, axis, level, errors, only_slice)\u001B[0m\n\u001B[1;32m   4789\u001B[0m     new_axis \u001B[38;5;241m=\u001B[39m axis\u001B[38;5;241m.\u001B[39mtake(indexer)\n\u001B[1;32m   4791\u001B[0m bm_axis \u001B[38;5;241m=\u001B[39m \u001B[38;5;28mself\u001B[39m\u001B[38;5;241m.\u001B[39mndim \u001B[38;5;241m-\u001B[39m axis_num \u001B[38;5;241m-\u001B[39m \u001B[38;5;241m1\u001B[39m\n\u001B[0;32m-> 4792\u001B[0m new_mgr \u001B[38;5;241m=\u001B[39m \u001B[38;5;28;43mself\u001B[39;49m\u001B[38;5;241;43m.\u001B[39;49m\u001B[43m_mgr\u001B[49m\u001B[38;5;241;43m.\u001B[39;49m\u001B[43mreindex_indexer\u001B[49m\u001B[43m(\u001B[49m\n\u001B[1;32m   4793\u001B[0m \u001B[43m    \u001B[49m\u001B[43mnew_axis\u001B[49m\u001B[43m,\u001B[49m\n\u001B[1;32m   4794\u001B[0m \u001B[43m    \u001B[49m\u001B[43mindexer\u001B[49m\u001B[43m,\u001B[49m\n\u001B[1;32m   4795\u001B[0m \u001B[43m    \u001B[49m\u001B[43maxis\u001B[49m\u001B[38;5;241;43m=\u001B[39;49m\u001B[43mbm_axis\u001B[49m\u001B[43m,\u001B[49m\n\u001B[1;32m   4796\u001B[0m \u001B[43m    \u001B[49m\u001B[43mallow_dups\u001B[49m\u001B[38;5;241;43m=\u001B[39;49m\u001B[38;5;28;43;01mTrue\u001B[39;49;00m\u001B[43m,\u001B[49m\n\u001B[1;32m   4797\u001B[0m \u001B[43m    \u001B[49m\u001B[43mcopy\u001B[49m\u001B[38;5;241;43m=\u001B[39;49m\u001B[38;5;28;43;01mNone\u001B[39;49;00m\u001B[43m,\u001B[49m\n\u001B[1;32m   4798\u001B[0m \u001B[43m    \u001B[49m\u001B[43monly_slice\u001B[49m\u001B[38;5;241;43m=\u001B[39;49m\u001B[43monly_slice\u001B[49m\u001B[43m,\u001B[49m\n\u001B[1;32m   4799\u001B[0m \u001B[43m\u001B[49m\u001B[43m)\u001B[49m\n\u001B[1;32m   4800\u001B[0m result \u001B[38;5;241m=\u001B[39m \u001B[38;5;28mself\u001B[39m\u001B[38;5;241m.\u001B[39m_constructor_from_mgr(new_mgr, axes\u001B[38;5;241m=\u001B[39mnew_mgr\u001B[38;5;241m.\u001B[39maxes)\n\u001B[1;32m   4801\u001B[0m \u001B[38;5;28;01mif\u001B[39;00m \u001B[38;5;28mself\u001B[39m\u001B[38;5;241m.\u001B[39mndim \u001B[38;5;241m==\u001B[39m \u001B[38;5;241m1\u001B[39m:\n",
      "File \u001B[0;32m~/Documents/École/Université/M2/M2_S1/Challenge_Nexialog/venv/lib/python3.9/site-packages/pandas/core/internals/managers.py:663\u001B[0m, in \u001B[0;36mBaseBlockManager.reindex_indexer\u001B[0;34m(self, new_axis, indexer, axis, fill_value, allow_dups, copy, only_slice, use_na_proxy)\u001B[0m\n\u001B[1;32m    660\u001B[0m     \u001B[38;5;28;01mraise\u001B[39;00m \u001B[38;5;167;01mIndexError\u001B[39;00m(\u001B[38;5;124m\"\u001B[39m\u001B[38;5;124mRequested axis not found in manager\u001B[39m\u001B[38;5;124m\"\u001B[39m)\n\u001B[1;32m    662\u001B[0m \u001B[38;5;28;01mif\u001B[39;00m axis \u001B[38;5;241m==\u001B[39m \u001B[38;5;241m0\u001B[39m:\n\u001B[0;32m--> 663\u001B[0m     new_blocks \u001B[38;5;241m=\u001B[39m \u001B[38;5;28;43mself\u001B[39;49m\u001B[38;5;241;43m.\u001B[39;49m\u001B[43m_slice_take_blocks_ax0\u001B[49m\u001B[43m(\u001B[49m\n\u001B[1;32m    664\u001B[0m \u001B[43m        \u001B[49m\u001B[43mindexer\u001B[49m\u001B[43m,\u001B[49m\n\u001B[1;32m    665\u001B[0m \u001B[43m        \u001B[49m\u001B[43mfill_value\u001B[49m\u001B[38;5;241;43m=\u001B[39;49m\u001B[43mfill_value\u001B[49m\u001B[43m,\u001B[49m\n\u001B[1;32m    666\u001B[0m \u001B[43m        \u001B[49m\u001B[43monly_slice\u001B[49m\u001B[38;5;241;43m=\u001B[39;49m\u001B[43monly_slice\u001B[49m\u001B[43m,\u001B[49m\n\u001B[1;32m    667\u001B[0m \u001B[43m        \u001B[49m\u001B[43muse_na_proxy\u001B[49m\u001B[38;5;241;43m=\u001B[39;49m\u001B[43muse_na_proxy\u001B[49m\u001B[43m,\u001B[49m\n\u001B[1;32m    668\u001B[0m \u001B[43m    \u001B[49m\u001B[43m)\u001B[49m\n\u001B[1;32m    669\u001B[0m \u001B[38;5;28;01melse\u001B[39;00m:\n\u001B[1;32m    670\u001B[0m     new_blocks \u001B[38;5;241m=\u001B[39m [\n\u001B[1;32m    671\u001B[0m         blk\u001B[38;5;241m.\u001B[39mtake_nd(\n\u001B[1;32m    672\u001B[0m             indexer,\n\u001B[0;32m   (...)\u001B[0m\n\u001B[1;32m    678\u001B[0m         \u001B[38;5;28;01mfor\u001B[39;00m blk \u001B[38;5;129;01min\u001B[39;00m \u001B[38;5;28mself\u001B[39m\u001B[38;5;241m.\u001B[39mblocks\n\u001B[1;32m    679\u001B[0m     ]\n",
      "File \u001B[0;32m~/Documents/École/Université/M2/M2_S1/Challenge_Nexialog/venv/lib/python3.9/site-packages/pandas/core/internals/managers.py:826\u001B[0m, in \u001B[0;36mBaseBlockManager._slice_take_blocks_ax0\u001B[0;34m(self, slice_or_indexer, fill_value, only_slice, use_na_proxy, ref_inplace_op)\u001B[0m\n\u001B[1;32m    824\u001B[0m                     blocks\u001B[38;5;241m.\u001B[39mappend(nb)\n\u001B[1;32m    825\u001B[0m             \u001B[38;5;28;01melse\u001B[39;00m:\n\u001B[0;32m--> 826\u001B[0m                 nb \u001B[38;5;241m=\u001B[39m \u001B[43mblk\u001B[49m\u001B[38;5;241;43m.\u001B[39;49m\u001B[43mtake_nd\u001B[49m\u001B[43m(\u001B[49m\u001B[43mtaker\u001B[49m\u001B[43m,\u001B[49m\u001B[43m \u001B[49m\u001B[43maxis\u001B[49m\u001B[38;5;241;43m=\u001B[39;49m\u001B[38;5;241;43m0\u001B[39;49m\u001B[43m,\u001B[49m\u001B[43m \u001B[49m\u001B[43mnew_mgr_locs\u001B[49m\u001B[38;5;241;43m=\u001B[39;49m\u001B[43mmgr_locs\u001B[49m\u001B[43m)\u001B[49m\n\u001B[1;32m    827\u001B[0m                 blocks\u001B[38;5;241m.\u001B[39mappend(nb)\n\u001B[1;32m    829\u001B[0m \u001B[38;5;28;01mreturn\u001B[39;00m blocks\n",
      "File \u001B[0;32m~/Documents/École/Université/M2/M2_S1/Challenge_Nexialog/venv/lib/python3.9/site-packages/pandas/core/internals/blocks.py:1061\u001B[0m, in \u001B[0;36mBlock.take_nd\u001B[0;34m(self, indexer, axis, new_mgr_locs, fill_value)\u001B[0m\n\u001B[1;32m   1058\u001B[0m     allow_fill \u001B[38;5;241m=\u001B[39m \u001B[38;5;28;01mTrue\u001B[39;00m\n\u001B[1;32m   1060\u001B[0m \u001B[38;5;66;03m# Note: algos.take_nd has upcast logic similar to coerce_to_target_dtype\u001B[39;00m\n\u001B[0;32m-> 1061\u001B[0m new_values \u001B[38;5;241m=\u001B[39m \u001B[43malgos\u001B[49m\u001B[38;5;241;43m.\u001B[39;49m\u001B[43mtake_nd\u001B[49m\u001B[43m(\u001B[49m\n\u001B[1;32m   1062\u001B[0m \u001B[43m    \u001B[49m\u001B[43mvalues\u001B[49m\u001B[43m,\u001B[49m\u001B[43m \u001B[49m\u001B[43mindexer\u001B[49m\u001B[43m,\u001B[49m\u001B[43m \u001B[49m\u001B[43maxis\u001B[49m\u001B[38;5;241;43m=\u001B[39;49m\u001B[43maxis\u001B[49m\u001B[43m,\u001B[49m\u001B[43m \u001B[49m\u001B[43mallow_fill\u001B[49m\u001B[38;5;241;43m=\u001B[39;49m\u001B[43mallow_fill\u001B[49m\u001B[43m,\u001B[49m\u001B[43m \u001B[49m\u001B[43mfill_value\u001B[49m\u001B[38;5;241;43m=\u001B[39;49m\u001B[43mfill_value\u001B[49m\n\u001B[1;32m   1063\u001B[0m \u001B[43m\u001B[49m\u001B[43m)\u001B[49m\n\u001B[1;32m   1065\u001B[0m \u001B[38;5;66;03m# Called from three places in managers, all of which satisfy\u001B[39;00m\n\u001B[1;32m   1066\u001B[0m \u001B[38;5;66;03m#  these assertions\u001B[39;00m\n\u001B[1;32m   1067\u001B[0m \u001B[38;5;28;01mif\u001B[39;00m \u001B[38;5;28misinstance\u001B[39m(\u001B[38;5;28mself\u001B[39m, ExtensionBlock):\n\u001B[1;32m   1068\u001B[0m     \u001B[38;5;66;03m# NB: in this case, the 'axis' kwarg will be ignored in the\u001B[39;00m\n\u001B[1;32m   1069\u001B[0m     \u001B[38;5;66;03m#  algos.take_nd call above.\u001B[39;00m\n",
      "File \u001B[0;32m~/Documents/École/Université/M2/M2_S1/Challenge_Nexialog/venv/lib/python3.9/site-packages/pandas/core/array_algos/take.py:118\u001B[0m, in \u001B[0;36mtake_nd\u001B[0;34m(arr, indexer, axis, fill_value, allow_fill)\u001B[0m\n\u001B[1;32m    115\u001B[0m     \u001B[38;5;28;01mreturn\u001B[39;00m arr\u001B[38;5;241m.\u001B[39mtake(indexer, fill_value\u001B[38;5;241m=\u001B[39mfill_value, allow_fill\u001B[38;5;241m=\u001B[39mallow_fill)\n\u001B[1;32m    117\u001B[0m arr \u001B[38;5;241m=\u001B[39m np\u001B[38;5;241m.\u001B[39masarray(arr)\n\u001B[0;32m--> 118\u001B[0m \u001B[38;5;28;01mreturn\u001B[39;00m \u001B[43m_take_nd_ndarray\u001B[49m\u001B[43m(\u001B[49m\u001B[43marr\u001B[49m\u001B[43m,\u001B[49m\u001B[43m \u001B[49m\u001B[43mindexer\u001B[49m\u001B[43m,\u001B[49m\u001B[43m \u001B[49m\u001B[43maxis\u001B[49m\u001B[43m,\u001B[49m\u001B[43m \u001B[49m\u001B[43mfill_value\u001B[49m\u001B[43m,\u001B[49m\u001B[43m \u001B[49m\u001B[43mallow_fill\u001B[49m\u001B[43m)\u001B[49m\n",
      "File \u001B[0;32m~/Documents/École/Université/M2/M2_S1/Challenge_Nexialog/venv/lib/python3.9/site-packages/pandas/core/array_algos/take.py:163\u001B[0m, in \u001B[0;36m_take_nd_ndarray\u001B[0;34m(arr, indexer, axis, fill_value, allow_fill)\u001B[0m\n\u001B[1;32m    158\u001B[0m     out \u001B[38;5;241m=\u001B[39m np\u001B[38;5;241m.\u001B[39mempty(out_shape, dtype\u001B[38;5;241m=\u001B[39mdtype)\n\u001B[1;32m    160\u001B[0m func \u001B[38;5;241m=\u001B[39m _get_take_nd_function(\n\u001B[1;32m    161\u001B[0m     arr\u001B[38;5;241m.\u001B[39mndim, arr\u001B[38;5;241m.\u001B[39mdtype, out\u001B[38;5;241m.\u001B[39mdtype, axis\u001B[38;5;241m=\u001B[39maxis, mask_info\u001B[38;5;241m=\u001B[39mmask_info\n\u001B[1;32m    162\u001B[0m )\n\u001B[0;32m--> 163\u001B[0m \u001B[43mfunc\u001B[49m\u001B[43m(\u001B[49m\u001B[43marr\u001B[49m\u001B[43m,\u001B[49m\u001B[43m \u001B[49m\u001B[43mindexer\u001B[49m\u001B[43m,\u001B[49m\u001B[43m \u001B[49m\u001B[43mout\u001B[49m\u001B[43m,\u001B[49m\u001B[43m \u001B[49m\u001B[43mfill_value\u001B[49m\u001B[43m)\u001B[49m\n\u001B[1;32m    165\u001B[0m \u001B[38;5;28;01mif\u001B[39;00m flip_order:\n\u001B[1;32m    166\u001B[0m     out \u001B[38;5;241m=\u001B[39m out\u001B[38;5;241m.\u001B[39mT\n",
      "\u001B[0;31mKeyboardInterrupt\u001B[0m: "
     ]
    }
   ],
   "source": [
    "dataprep = DataPreparation(train, test, 0.3)\n",
    "train_prepared, test_prepared = dataprep.get_prepared_data()"
   ],
   "metadata": {
    "collapsed": false,
    "ExecuteTime": {
     "end_time": "2024-02-20T22:20:16.553301Z",
     "start_time": "2024-02-20T22:20:10.849217Z"
    }
   },
   "id": "cfa67b02c946a089"
  },
  {
   "cell_type": "code",
   "execution_count": 4,
   "outputs": [],
   "source": [
    "df_train = train_prepared.copy()"
   ],
   "metadata": {
    "collapsed": false,
    "ExecuteTime": {
     "end_time": "2024-02-21T10:17:14.526591Z",
     "start_time": "2024-02-21T10:17:14.457649Z"
    }
   },
   "id": "a6248134b7318925"
  },
  {
   "cell_type": "code",
   "execution_count": 5,
   "outputs": [],
   "source": [
    "df_train[\"TARGET\"] = df_train[\"TARGET\"].astype(\"int\")"
   ],
   "metadata": {
    "collapsed": false,
    "ExecuteTime": {
     "end_time": "2024-02-21T10:17:14.532292Z",
     "start_time": "2024-02-21T10:17:14.528091Z"
    }
   },
   "id": "6cc070c6bfe32f67"
  },
  {
   "cell_type": "code",
   "execution_count": 6,
   "outputs": [],
   "source": [
    "df_validation = df_train.iloc[280000:,:]\n",
    "df_train = df_train.iloc[:280000,:]"
   ],
   "metadata": {
    "collapsed": false,
    "ExecuteTime": {
     "end_time": "2024-02-21T10:17:14.888758Z",
     "start_time": "2024-02-21T10:17:14.885664Z"
    }
   },
   "id": "dd298c88e4473077"
  },
  {
   "cell_type": "markdown",
   "source": [
    "# Modélisation"
   ],
   "metadata": {
    "collapsed": false
   },
   "id": "6a9748c39f3c2b7b"
  },
  {
   "cell_type": "code",
   "execution_count": 7,
   "outputs": [],
   "source": [
    "features = list(df_train.iloc[:,2:7].columns)"
   ],
   "metadata": {
    "collapsed": false,
    "ExecuteTime": {
     "end_time": "2024-02-21T10:17:15.247654Z",
     "start_time": "2024-02-21T10:17:15.226623Z"
    }
   },
   "id": "3366bdc2ae479a76"
  },
  {
   "cell_type": "code",
   "execution_count": 8,
   "outputs": [],
   "source": [
    "formula = f'TARGET ~ {\" + \".join(f\"C({var})\" for var in features)}'"
   ],
   "metadata": {
    "collapsed": false,
    "ExecuteTime": {
     "end_time": "2024-02-21T10:17:15.617148Z",
     "start_time": "2024-02-21T10:17:15.607879Z"
    }
   },
   "id": "4a77b91a0a7ef42"
  },
  {
   "cell_type": "code",
   "execution_count": 9,
   "outputs": [],
   "source": [
    "reference_categories = {var : df_train[var].mode()[0] for var in features}"
   ],
   "metadata": {
    "collapsed": false,
    "ExecuteTime": {
     "end_time": "2024-02-21T10:17:15.687942Z",
     "start_time": "2024-02-21T10:17:15.685119Z"
    }
   },
   "id": "9043ac1a12a3f906"
  },
  {
   "cell_type": "code",
   "execution_count": 10,
   "outputs": [],
   "source": [
    "formula_parts = []\n",
    "for var in features:\n",
    "    if var in reference_categories:\n",
    "        ref_category = reference_categories[var]\n",
    "        formula_parts.append(f'C({var}, Treatment(reference=\"{ref_category}\"))')\n",
    "    else:\n",
    "        formula_parts.append(f'C({var})')  # Ou simplement 'var' si c'est une variable continue\n",
    "\n",
    "formula = 'TARGET ~ ' + ' + '.join(formula_parts)"
   ],
   "metadata": {
    "collapsed": false,
    "ExecuteTime": {
     "end_time": "2024-02-21T10:17:16.026565Z",
     "start_time": "2024-02-21T10:17:16.020136Z"
    }
   },
   "id": "61111164c1ddef45"
  },
  {
   "cell_type": "code",
   "execution_count": 11,
   "outputs": [
    {
     "name": "stdout",
     "output_type": "stream",
     "text": [
      "Optimization terminated successfully    (Exit mode 0)\n",
      "            Current function value: 0.2538339716351152\n",
      "            Iterations: 67\n",
      "            Function evaluations: 67\n",
      "            Gradient evaluations: 67\n"
     ]
    }
   ],
   "source": [
    "model = Logit.from_formula(formula=formula, data=df_train)\n",
    "logit_model = model.fit_regularized(maxiter = 500, method='l1')"
   ],
   "metadata": {
    "collapsed": false,
    "ExecuteTime": {
     "end_time": "2024-02-21T10:17:21.108184Z",
     "start_time": "2024-02-21T10:17:16.033472Z"
    }
   },
   "id": "bb8f778b54d972ad"
  },
  {
   "cell_type": "markdown",
   "source": [
    "# Prédiction"
   ],
   "metadata": {
    "collapsed": false
   },
   "id": "94aa359bb0eb4a45"
  },
  {
   "cell_type": "code",
   "execution_count": 12,
   "outputs": [],
   "source": [
    "pred = logit_model.predict(df_validation[features])"
   ],
   "metadata": {
    "collapsed": false,
    "ExecuteTime": {
     "end_time": "2024-02-21T10:17:21.357355Z",
     "start_time": "2024-02-21T10:17:21.110479Z"
    }
   },
   "id": "92e0882be303d025"
  },
  {
   "cell_type": "code",
   "execution_count": 13,
   "outputs": [],
   "source": [
    "pred = pred.apply(lambda x : 0 if x < 0.5 else 1)"
   ],
   "metadata": {
    "collapsed": false,
    "ExecuteTime": {
     "end_time": "2024-02-21T10:17:21.376829Z",
     "start_time": "2024-02-21T10:17:21.371764Z"
    }
   },
   "id": "5983ff72b2ca6cdc"
  },
  {
   "cell_type": "code",
   "execution_count": 14,
   "outputs": [
    {
     "name": "stderr",
     "output_type": "stream",
     "text": [
      "/Users/axel/Documents/École/Université/M2/M2_S1/Challenge_Nexialog/venv/lib/python3.9/site-packages/sklearn/metrics/_ranking.py:1146: UndefinedMetricWarning: No positive samples in y_true, true positive value should be meaningless\n",
      "  warnings.warn(\n"
     ]
    },
    {
     "data": {
      "text/plain": "<Figure size 800x600 with 1 Axes>",
      "image/png": "[encoded data removed]"
     },
     "metadata": {},
     "output_type": "display_data"
    }
   ],
   "source": [
    "fpr, tpr, thresholds = roc_curve(pred, df_validation[\"TARGET\"])\n",
    "roc_auc = auc(fpr, tpr)\n",
    "\n",
    "plt.figure(figsize=(8, 6))\n",
    "plt.plot(fpr, tpr, color='darkorange', lw=2, label='ROC curve (AUC = {:.2f})'.format(roc_auc))\n",
    "plt.plot([0, 1], [0, 1], color='navy', lw=2, linestyle='--')\n",
    "plt.xlabel('False Positive Rate')\n",
    "plt.ylabel('True Positive Rate')\n",
    "plt.title('Receiver Operating Characteristic (ROC) Curve')\n",
    "plt.legend(loc='lower right')\n",
    "plt.show()"
   ],
   "metadata": {
    "collapsed": false,
    "ExecuteTime": {
     "end_time": "2024-02-21T10:17:21.623090Z",
     "start_time": "2024-02-21T10:17:21.393652Z"
    }
   },
   "id": "a871c36ce03a159"
  },
  {
   "cell_type": "code",
   "execution_count": 15,
   "outputs": [
    {
     "data": {
      "text/plain": "nan"
     },
     "execution_count": 15,
     "metadata": {},
     "output_type": "execute_result"
    }
   ],
   "source": [
    "roc_auc = auc(fpr, tpr)\n",
    "gini_coefficient = 2 * roc_auc - 1\n",
    "gini_coefficient"
   ],
   "metadata": {
    "collapsed": false,
    "ExecuteTime": {
     "end_time": "2024-02-21T10:17:21.679343Z",
     "start_time": "2024-02-21T10:17:21.623307Z"
    }
   },
   "id": "b7b991285c7fb196"
  },
  {
   "cell_type": "markdown",
   "source": [
    "# Grille de score"
   ],
   "metadata": {
    "collapsed": false
   },
   "id": "e9cc4452cabbaa3"
  },
  {
   "cell_type": "code",
   "execution_count": 16,
   "outputs": [
    {
     "data": {
      "text/plain": "                      Variable                Modality  Coefficient  \\\n0                    Intercept                       -    -2.584353   \n1          DAYS_BIRTH_disc_int     [-19590;-13345]_ref     0.000000   \n2          DAYS_BIRTH_disc_int          [-13344;-7489]     0.130000   \n3          DAYS_BIRTH_disc_int         [-25229;-19591]    -0.470000   \n4        EXT_SOURCE_2_disc_int         [0.51;0.85]_ref     0.000000   \n5        EXT_SOURCE_2_disc_int              [0.0;0.15]     1.400000   \n6        EXT_SOURCE_2_disc_int             [0.15;0.51]     0.660000   \n7        EXT_SOURCE_1_disc_int           [0.0;0.4]_ref     0.000000   \n8        EXT_SOURCE_1_disc_int              [0.4;0.67]    -0.470000   \n9        EXT_SOURCE_1_disc_int             [0.67;0.96]    -0.840000   \n10    AMT_GOODS_PRICE_disc_int  [40500.0;676278.0]_ref     0.000000   \n11    AMT_GOODS_PRICE_disc_int    [679500.0;4050000.0]    -0.320000   \n12  DAYS_REGISTRATION_disc_int       [-5725.0;0.0]_ref     0.000000   \n13  DAYS_REGISTRATION_disc_int      [-24672.0;-5726.0]    -0.130000   \n\n    Contribution  P-Value  Normalized Score  Pcentage_Défaut  Pcentage_Classe  \n0            0.0      0.0              0.00             0.00             0.00  \n1           20.0      0.0              0.00             3.10            42.80  \n2           20.0      0.0            567.52             3.18            31.49  \n3           20.0      0.0            835.03             1.28            25.71  \n4            9.0      0.0              0.00             3.07            61.19  \n5            9.0      0.0              1.27             1.17             5.86  \n6            9.0      0.0            331.21             3.31            32.95  \n7           30.0      0.0              0.00             6.26            71.58  \n8           30.0      0.0            835.03             0.94            16.95  \n9           30.0      0.0           1000.00             0.35            11.48  \n10          22.0      0.0              0.00             6.16            73.77  \n11          22.0      0.0            768.16             1.40            26.23  \n12          19.0      0.0              0.00             5.16            62.09  \n13          19.0      0.0            683.44             2.40            37.91  ",
      "text/html": "<div>\n<style scoped>\n    .dataframe tbody tr th:only-of-type {\n        vertical-align: middle;\n    }\n\n    .dataframe tbody tr th {\n        vertical-align: top;\n    }\n\n    .dataframe thead th {\n        text-align: right;\n    }\n</style>\n<table border=\"1\" class=\"dataframe\">\n  <thead>\n    <tr style=\"text-align: right;\">\n      <th></th>\n      <th>Variable</th>\n      <th>Modality</th>\n      <th>Coefficient</th>\n      <th>Contribution</th>\n      <th>P-Value</th>\n      <th>Normalized Score</th>\n      <th>Pcentage_Défaut</th>\n      <th>Pcentage_Classe</th>\n    </tr>\n  </thead>\n  <tbody>\n    <tr>\n      <th>0</th>\n      <td>Intercept</td>\n      <td>-</td>\n      <td>-2.584353</td>\n      <td>0.0</td>\n      <td>0.0</td>\n      <td>0.00</td>\n      <td>0.00</td>\n      <td>0.00</td>\n    </tr>\n    <tr>\n      <th>1</th>\n      <td>DAYS_BIRTH_disc_int</td>\n      <td>[-19590;-13345]_ref</td>\n      <td>0.000000</td>\n      <td>20.0</td>\n      <td>0.0</td>\n      <td>0.00</td>\n      <td>3.10</td>\n      <td>42.80</td>\n    </tr>\n    <tr>\n      <th>2</th>\n      <td>DAYS_BIRTH_disc_int</td>\n      <td>[-13344;-7489]</td>\n      <td>0.130000</td>\n      <td>20.0</td>\n      <td>0.0</td>\n      <td>567.52</td>\n      <td>3.18</td>\n      <td>31.49</td>\n    </tr>\n    <tr>\n      <th>3</th>\n      <td>DAYS_BIRTH_disc_int</td>\n      <td>[-25229;-19591]</td>\n      <td>-0.470000</td>\n      <td>20.0</td>\n      <td>0.0</td>\n      <td>835.03</td>\n      <td>1.28</td>\n      <td>25.71</td>\n    </tr>\n    <tr>\n      <th>4</th>\n      <td>EXT_SOURCE_2_disc_int</td>\n      <td>[0.51;0.85]_ref</td>\n      <td>0.000000</td>\n      <td>9.0</td>\n      <td>0.0</td>\n      <td>0.00</td>\n      <td>3.07</td>\n      <td>61.19</td>\n    </tr>\n    <tr>\n      <th>5</th>\n      <td>EXT_SOURCE_2_disc_int</td>\n      <td>[0.0;0.15]</td>\n      <td>1.400000</td>\n      <td>9.0</td>\n      <td>0.0</td>\n      <td>1.27</td>\n      <td>1.17</td>\n      <td>5.86</td>\n    </tr>\n    <tr>\n      <th>6</th>\n      <td>EXT_SOURCE_2_disc_int</td>\n      <td>[0.15;0.51]</td>\n      <td>0.660000</td>\n      <td>9.0</td>\n      <td>0.0</td>\n      <td>331.21</td>\n      <td>3.31</td>\n      <td>32.95</td>\n    </tr>\n    <tr>\n      <th>7</th>\n      <td>EXT_SOURCE_1_disc_int</td>\n      <td>[0.0;0.4]_ref</td>\n      <td>0.000000</td>\n      <td>30.0</td>\n      <td>0.0</td>\n      <td>0.00</td>\n      <td>6.26</td>\n      <td>71.58</td>\n    </tr>\n    <tr>\n      <th>8</th>\n      <td>EXT_SOURCE_1_disc_int</td>\n      <td>[0.4;0.67]</td>\n      <td>-0.470000</td>\n      <td>30.0</td>\n      <td>0.0</td>\n      <td>835.03</td>\n      <td>0.94</td>\n      <td>16.95</td>\n    </tr>\n    <tr>\n      <th>9</th>\n      <td>EXT_SOURCE_1_disc_int</td>\n      <td>[0.67;0.96]</td>\n      <td>-0.840000</td>\n      <td>30.0</td>\n      <td>0.0</td>\n      <td>1000.00</td>\n      <td>0.35</td>\n      <td>11.48</td>\n    </tr>\n    <tr>\n      <th>10</th>\n      <td>AMT_GOODS_PRICE_disc_int</td>\n      <td>[40500.0;676278.0]_ref</td>\n      <td>0.000000</td>\n      <td>22.0</td>\n      <td>0.0</td>\n      <td>0.00</td>\n      <td>6.16</td>\n      <td>73.77</td>\n    </tr>\n    <tr>\n      <th>11</th>\n      <td>AMT_GOODS_PRICE_disc_int</td>\n      <td>[679500.0;4050000.0]</td>\n      <td>-0.320000</td>\n      <td>22.0</td>\n      <td>0.0</td>\n      <td>768.16</td>\n      <td>1.40</td>\n      <td>26.23</td>\n    </tr>\n    <tr>\n      <th>12</th>\n      <td>DAYS_REGISTRATION_disc_int</td>\n      <td>[-5725.0;0.0]_ref</td>\n      <td>0.000000</td>\n      <td>19.0</td>\n      <td>0.0</td>\n      <td>0.00</td>\n      <td>5.16</td>\n      <td>62.09</td>\n    </tr>\n    <tr>\n      <th>13</th>\n      <td>DAYS_REGISTRATION_disc_int</td>\n      <td>[-24672.0;-5726.0]</td>\n      <td>-0.130000</td>\n      <td>19.0</td>\n      <td>0.0</td>\n      <td>683.44</td>\n      <td>2.40</td>\n      <td>37.91</td>\n    </tr>\n  </tbody>\n</table>\n</div>"
     },
     "execution_count": 16,
     "metadata": {},
     "output_type": "execute_result"
    }
   ],
   "source": [
    "GridScore(df_train, logit_model).compute_grid_score()"
   ],
   "metadata": {
    "collapsed": false,
    "ExecuteTime": {
     "end_time": "2024-02-21T10:17:24.084927Z",
     "start_time": "2024-02-21T10:17:21.633622Z"
    }
   },
   "id": "c6ef689f2b81ed24"
  },
  {
   "cell_type": "code",
   "execution_count": 16,
   "outputs": [],
   "source": [],
   "metadata": {
    "collapsed": false,
    "ExecuteTime": {
     "end_time": "2024-02-21T10:17:24.087851Z",
     "start_time": "2024-02-21T10:17:24.083471Z"
    }
   },
   "id": "b6cb66dba5259427"
  },
  {
   "cell_type": "code",
   "execution_count": null,
   "outputs": [],
   "source": [],
   "metadata": {
    "collapsed": false
   },
   "id": "989d5fd5195ac592"
  }
 ],
 "metadata": {
  "kernelspec": {
   "display_name": "Python 3",
   "language": "python",
   "name": "python3"
  },
  "language_info": {
   "codemirror_mode": {
    "name": "ipython",
    "version": 2
   },
   "file_extension": ".py",
   "mimetype": "text/x-python",
   "name": "python",
   "nbconvert_exporter": "python",
   "pygments_lexer": "ipython2",
   "version": "2.7.6"
  }
 },
 "nbformat": 4,
 "nbformat_minor": 5
}
