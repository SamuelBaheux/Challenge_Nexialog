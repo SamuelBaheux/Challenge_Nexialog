{
 "cells": [
  {
   "cell_type": "code",
   "execution_count": 3,
   "id": "initial_id",
   "metadata": {
    "collapsed": true,
    "ExecuteTime": {
     "end_time": "2024-02-23T09:25:37.406384Z",
     "start_time": "2024-02-23T09:25:37.403322Z"
    }
   },
   "outputs": [],
   "source": [
    "import sys\n",
    "sys.path.append(\"../script\")\n",
    "from data_preparation import *\n",
    "from utils import GridScore\n",
    "import pandas as pd\n",
    "import matplotlib.pyplot as plt\n",
    "from sklearn.metrics import roc_curve, auc, confusion_matrix\n",
    "from statsmodels.discrete.discrete_model import Logit"
   ]
  },
  {
   "cell_type": "markdown",
   "source": [
    "# Import et préparation des données"
   ],
   "metadata": {
    "collapsed": false
   },
   "id": "6c2e6735dd75b317"
  },
  {
   "cell_type": "code",
   "execution_count": 4,
   "outputs": [],
   "source": [
    "train = pd.read_csv(\"../data/application_train_vf.csv\")\n",
    "test = pd.read_csv(\"../data/application_test_vf.csv\")"
   ],
   "metadata": {
    "collapsed": false,
    "ExecuteTime": {
     "end_time": "2024-02-23T09:25:41.107143Z",
     "start_time": "2024-02-23T09:25:37.983787Z"
    }
   },
   "id": "cb7ad9a26d1ca1a5"
  },
  {
   "cell_type": "code",
   "execution_count": null,
   "outputs": [],
   "source": [
    "dataprep = DataPreparation(train, test, 0.3)\n",
    "train_prepared, test_prepared = dataprep.get_prepared_data()"
   ],
   "metadata": {
    "collapsed": false,
    "ExecuteTime": {
     "end_time": "2024-02-23T09:25:35.422115Z",
     "start_time": "2024-02-23T09:25:35.419294Z"
    }
   },
   "id": "cfa67b02c946a089"
  },
  {
   "cell_type": "code",
   "execution_count": 5,
   "outputs": [],
   "source": [
    "#train_prepared.to_csv(\"../data/train_prepared.csv\")\n",
    "#test_prepared.to_csv(\"../data/test_prepared.csv\")\n",
    "train_prepared = pd.read_csv(\"../data/train_prepared.csv\", index_col=[0])\n",
    "test_prepared = pd.read_csv(\"../data/test_prepared.csv\", index_col=[0])"
   ],
   "metadata": {
    "collapsed": false,
    "ExecuteTime": {
     "end_time": "2024-02-23T09:25:42.704839Z",
     "start_time": "2024-02-23T09:25:41.110373Z"
    }
   },
   "id": "bc6e6cacbd553b75"
  },
  {
   "cell_type": "code",
   "execution_count": 6,
   "outputs": [],
   "source": [
    "df_train = train_prepared.copy()"
   ],
   "metadata": {
    "collapsed": false,
    "ExecuteTime": {
     "end_time": "2024-02-23T09:25:42.789150Z",
     "start_time": "2024-02-23T09:25:42.705157Z"
    }
   },
   "id": "a6248134b7318925"
  },
  {
   "cell_type": "code",
   "execution_count": 7,
   "outputs": [],
   "source": [
    "df_validation = df_train.iloc[280000:,:]\n",
    "df_train = df_train.iloc[:280000,:]"
   ],
   "metadata": {
    "collapsed": false,
    "ExecuteTime": {
     "end_time": "2024-02-23T09:25:42.794636Z",
     "start_time": "2024-02-23T09:25:42.791153Z"
    }
   },
   "id": "dd298c88e4473077"
  },
  {
   "cell_type": "markdown",
   "source": [
    "# Modélisation"
   ],
   "metadata": {
    "collapsed": false
   },
   "id": "6a9748c39f3c2b7b"
  },
  {
   "cell_type": "code",
   "execution_count": 22,
   "outputs": [],
   "source": [
    "features = list(train_prepared.iloc[:,2:].columns)"
   ],
   "metadata": {
    "collapsed": false,
    "ExecuteTime": {
     "end_time": "2024-02-23T09:26:42.131114Z",
     "start_time": "2024-02-23T09:26:42.129336Z"
    }
   },
   "id": "3366bdc2ae479a76"
  },
  {
   "cell_type": "code",
   "execution_count": 23,
   "outputs": [],
   "source": [
    "reference_categories = {var : train_prepared[var].mode()[0] for var in features}"
   ],
   "metadata": {
    "collapsed": false,
    "ExecuteTime": {
     "end_time": "2024-02-23T09:26:43.186626Z",
     "start_time": "2024-02-23T09:26:42.716785Z"
    }
   },
   "id": "9043ac1a12a3f906"
  },
  {
   "cell_type": "code",
   "execution_count": 24,
   "outputs": [],
   "source": [
    "formula_parts = []\n",
    "for var in features:\n",
    "    if var in reference_categories:\n",
    "        ref_category = reference_categories[var]\n",
    "        formula_parts.append(f'C({var}, Treatment(reference=\"{ref_category}\"))')\n",
    "\n",
    "formula = 'TARGET ~ ' + ' + '.join(formula_parts)"
   ],
   "metadata": {
    "collapsed": false,
    "ExecuteTime": {
     "end_time": "2024-02-23T09:26:43.186910Z",
     "start_time": "2024-02-23T09:26:43.182437Z"
    }
   },
   "id": "61111164c1ddef45"
  },
  {
   "cell_type": "code",
   "execution_count": 25,
   "outputs": [
    {
     "name": "stdout",
     "output_type": "stream",
     "text": [
      "Optimization terminated successfully    (Exit mode 0)\n",
      "            Current function value: 0.2464855970725259\n",
      "            Iterations: 322\n",
      "            Function evaluations: 323\n",
      "            Gradient evaluations: 322\n"
     ]
    }
   ],
   "source": [
    "model = Logit.from_formula(formula=formula, data=train_prepared)\n",
    "logit_model = model.fit_regularized(maxiter = 500, method='l1')"
   ],
   "metadata": {
    "collapsed": false,
    "ExecuteTime": {
     "end_time": "2024-02-23T09:27:20.678634Z",
     "start_time": "2024-02-23T09:26:43.184903Z"
    }
   },
   "id": "bb8f778b54d972ad"
  },
  {
   "cell_type": "markdown",
   "source": [
    "# Prédiction"
   ],
   "metadata": {
    "collapsed": false
   },
   "id": "94aa359bb0eb4a45"
  },
  {
   "cell_type": "code",
   "execution_count": 26,
   "outputs": [],
   "source": [
    "pred = logit_model.predict(df_validation)"
   ],
   "metadata": {
    "collapsed": false,
    "ExecuteTime": {
     "end_time": "2024-02-23T09:27:21.779596Z",
     "start_time": "2024-02-23T09:27:20.695693Z"
    }
   },
   "id": "92e0882be303d025"
  },
  {
   "cell_type": "code",
   "execution_count": 27,
   "outputs": [],
   "source": [
    "pred = pred.apply(lambda x : 0 if x < 0.5 else 1)"
   ],
   "metadata": {
    "collapsed": false,
    "ExecuteTime": {
     "end_time": "2024-02-23T09:27:21.803587Z",
     "start_time": "2024-02-23T09:27:21.795330Z"
    }
   },
   "id": "5983ff72b2ca6cdc"
  },
  {
   "cell_type": "code",
   "execution_count": 28,
   "outputs": [
    {
     "data": {
      "text/plain": "array([[23775,  2309],\n       [   13,    10]])"
     },
     "execution_count": 28,
     "metadata": {},
     "output_type": "execute_result"
    }
   ],
   "source": [
    "confusion_matrix(pred, df_validation[\"TARGET\"])"
   ],
   "metadata": {
    "collapsed": false,
    "ExecuteTime": {
     "end_time": "2024-02-23T09:27:21.832716Z",
     "start_time": "2024-02-23T09:27:21.819149Z"
    }
   },
   "id": "9d917c29f161365f"
  },
  {
   "cell_type": "code",
   "execution_count": 29,
   "outputs": [
    {
     "data": {
      "text/plain": "<Figure size 800x600 with 1 Axes>",
      "image/png": "[encoded data removed]"
     },
     "metadata": {},
     "output_type": "display_data"
    }
   ],
   "source": [
    "fpr, tpr, thresholds = roc_curve(pred, df_validation[\"TARGET\"])\n",
    "roc_auc = auc(fpr, tpr)\n",
    "\n",
    "plt.figure(figsize=(8, 6))\n",
    "plt.plot(fpr, tpr, color='darkorange', lw=2, label='ROC curve (AUC = {:.2f})'.format(roc_auc))\n",
    "plt.plot([0, 1], [0, 1], color='navy', lw=2, linestyle='--')\n",
    "plt.xlabel('False Positive Rate')\n",
    "plt.ylabel('True Positive Rate')\n",
    "plt.title('Receiver Operating Characteristic (ROC) Curve')\n",
    "plt.legend(loc='lower right')\n",
    "plt.show()"
   ],
   "metadata": {
    "collapsed": false,
    "ExecuteTime": {
     "end_time": "2024-02-23T09:27:22.021492Z",
     "start_time": "2024-02-23T09:27:21.829528Z"
    }
   },
   "id": "a871c36ce03a159"
  },
  {
   "cell_type": "code",
   "execution_count": 30,
   "outputs": [
    {
     "data": {
      "text/plain": "0.3462609095697513"
     },
     "execution_count": 30,
     "metadata": {},
     "output_type": "execute_result"
    }
   ],
   "source": [
    "roc_auc = auc(fpr, tpr)\n",
    "gini_coefficient = 2 * roc_auc - 1\n",
    "gini_coefficient"
   ],
   "metadata": {
    "collapsed": false,
    "ExecuteTime": {
     "end_time": "2024-02-23T09:27:22.032Z",
     "start_time": "2024-02-23T09:27:22.028096Z"
    }
   },
   "id": "b7b991285c7fb196"
  },
  {
   "cell_type": "markdown",
   "source": [
    "# Grille de score"
   ],
   "metadata": {
    "collapsed": false
   },
   "id": "e9cc4452cabbaa3"
  },
  {
   "cell_type": "code",
   "execution_count": 31,
   "outputs": [],
   "source": [
    "GS = GridScore(df_train, logit_model)\n",
    "grid_score = GS.compute_grid_score()"
   ],
   "metadata": {
    "collapsed": false,
    "ExecuteTime": {
     "end_time": "2024-02-23T09:27:34.223132Z",
     "start_time": "2024-02-23T09:27:22.032412Z"
    }
   },
   "id": "f99d003c7bf3a9f6"
  },
  {
   "cell_type": "code",
   "execution_count": 32,
   "outputs": [
    {
     "data": {
      "text/plain": "                 Variable             Modality  Coefficient  P-Value  \\\n0               Intercept                    -    -2.490171   0.0000   \n1     DAYS_BIRTH_disc_int  [-19553;-13376]_ref     0.000000   0.0000   \n2     DAYS_BIRTH_disc_int       [-13375;-7489]     0.020000   0.2329   \n3     DAYS_BIRTH_disc_int      [-25229;-19554]    -0.240000   0.0000   \n4   EXT_SOURCE_2_disc_int      [0.49;0.85]_ref     0.000000   0.0000   \n..                    ...                  ...          ...      ...   \n68           FLAG_OWN_CAR                    Y    -0.260000   0.0039   \n69        FLAG_OWN_REALTY                Y_ref     0.000000   0.0000   \n70        FLAG_OWN_REALTY                    N    -0.060000   0.0001   \n71            CODE_GENDER                F_ref     0.000000   0.0000   \n72            CODE_GENDER                    M     0.310000   0.0000   \n\n         Score  Contribution  Pcentage_Défaut  Pcentage_Classe  \n0     0.000000           0.0             0.00             0.00  \n1     1.800180           2.0             3.07            42.32  \n2     0.000000           2.0             3.20            31.71  \n3    23.402340           2.0             1.30            25.97  \n4   108.010801          10.0             3.29            64.07  \n..         ...           ...              ...              ...  \n68   23.402340           3.0             2.32            34.04  \n69    0.000000           1.0             5.17            69.36  \n70    5.400540           1.0             2.39            30.64  \n71   27.902790           3.0             4.30            65.84  \n72    0.000000           3.0             3.26            34.16  \n\n[73 rows x 8 columns]",
      "text/html": "<div>\n<style scoped>\n    .dataframe tbody tr th:only-of-type {\n        vertical-align: middle;\n    }\n\n    .dataframe tbody tr th {\n        vertical-align: top;\n    }\n\n    .dataframe thead th {\n        text-align: right;\n    }\n</style>\n<table border=\"1\" class=\"dataframe\">\n  <thead>\n    <tr style=\"text-align: right;\">\n      <th></th>\n      <th>Variable</th>\n      <th>Modality</th>\n      <th>Coefficient</th>\n      <th>P-Value</th>\n      <th>Score</th>\n      <th>Contribution</th>\n      <th>Pcentage_Défaut</th>\n      <th>Pcentage_Classe</th>\n    </tr>\n  </thead>\n  <tbody>\n    <tr>\n      <th>0</th>\n      <td>Intercept</td>\n      <td>-</td>\n      <td>-2.490171</td>\n      <td>0.0000</td>\n      <td>0.000000</td>\n      <td>0.0</td>\n      <td>0.00</td>\n      <td>0.00</td>\n    </tr>\n    <tr>\n      <th>1</th>\n      <td>DAYS_BIRTH_disc_int</td>\n      <td>[-19553;-13376]_ref</td>\n      <td>0.000000</td>\n      <td>0.0000</td>\n      <td>1.800180</td>\n      <td>2.0</td>\n      <td>3.07</td>\n      <td>42.32</td>\n    </tr>\n    <tr>\n      <th>2</th>\n      <td>DAYS_BIRTH_disc_int</td>\n      <td>[-13375;-7489]</td>\n      <td>0.020000</td>\n      <td>0.2329</td>\n      <td>0.000000</td>\n      <td>2.0</td>\n      <td>3.20</td>\n      <td>31.71</td>\n    </tr>\n    <tr>\n      <th>3</th>\n      <td>DAYS_BIRTH_disc_int</td>\n      <td>[-25229;-19554]</td>\n      <td>-0.240000</td>\n      <td>0.0000</td>\n      <td>23.402340</td>\n      <td>2.0</td>\n      <td>1.30</td>\n      <td>25.97</td>\n    </tr>\n    <tr>\n      <th>4</th>\n      <td>EXT_SOURCE_2_disc_int</td>\n      <td>[0.49;0.85]_ref</td>\n      <td>0.000000</td>\n      <td>0.0000</td>\n      <td>108.010801</td>\n      <td>10.0</td>\n      <td>3.29</td>\n      <td>64.07</td>\n    </tr>\n    <tr>\n      <th>...</th>\n      <td>...</td>\n      <td>...</td>\n      <td>...</td>\n      <td>...</td>\n      <td>...</td>\n      <td>...</td>\n      <td>...</td>\n      <td>...</td>\n    </tr>\n    <tr>\n      <th>68</th>\n      <td>FLAG_OWN_CAR</td>\n      <td>Y</td>\n      <td>-0.260000</td>\n      <td>0.0039</td>\n      <td>23.402340</td>\n      <td>3.0</td>\n      <td>2.32</td>\n      <td>34.04</td>\n    </tr>\n    <tr>\n      <th>69</th>\n      <td>FLAG_OWN_REALTY</td>\n      <td>Y_ref</td>\n      <td>0.000000</td>\n      <td>0.0000</td>\n      <td>0.000000</td>\n      <td>1.0</td>\n      <td>5.17</td>\n      <td>69.36</td>\n    </tr>\n    <tr>\n      <th>70</th>\n      <td>FLAG_OWN_REALTY</td>\n      <td>N</td>\n      <td>-0.060000</td>\n      <td>0.0001</td>\n      <td>5.400540</td>\n      <td>1.0</td>\n      <td>2.39</td>\n      <td>30.64</td>\n    </tr>\n    <tr>\n      <th>71</th>\n      <td>CODE_GENDER</td>\n      <td>F_ref</td>\n      <td>0.000000</td>\n      <td>0.0000</td>\n      <td>27.902790</td>\n      <td>3.0</td>\n      <td>4.30</td>\n      <td>65.84</td>\n    </tr>\n    <tr>\n      <th>72</th>\n      <td>CODE_GENDER</td>\n      <td>M</td>\n      <td>0.310000</td>\n      <td>0.0000</td>\n      <td>0.000000</td>\n      <td>3.0</td>\n      <td>3.26</td>\n      <td>34.16</td>\n    </tr>\n  </tbody>\n</table>\n<p>73 rows × 8 columns</p>\n</div>"
     },
     "execution_count": 32,
     "metadata": {},
     "output_type": "execute_result"
    }
   ],
   "source": [
    "grid_score"
   ],
   "metadata": {
    "collapsed": false,
    "ExecuteTime": {
     "end_time": "2024-02-23T09:27:34.233859Z",
     "start_time": "2024-02-23T09:27:34.231523Z"
    }
   },
   "id": "87634b5bf9c06063"
  },
  {
   "cell_type": "markdown",
   "source": [
    "## Calcul des scores individuels"
   ],
   "metadata": {
    "collapsed": false
   },
   "id": "132b7e2b01745bec"
  },
  {
   "cell_type": "code",
   "execution_count": 33,
   "outputs": [],
   "source": [
    "df_score = GS.get_individual_score()"
   ],
   "metadata": {
    "collapsed": false,
    "ExecuteTime": {
     "end_time": "2024-02-23T09:27:54.001137Z",
     "start_time": "2024-02-23T09:27:34.238290Z"
    }
   },
   "id": "62380a152d3601"
  },
  {
   "cell_type": "code",
   "execution_count": 34,
   "outputs": [
    {
     "data": {
      "text/plain": "(array([1.2100e+02, 1.6350e+03, 8.8280e+03, 2.7259e+04, 6.1231e+04,\n        9.1633e+04, 6.6025e+04, 2.0671e+04, 2.5250e+03, 7.2000e+01]),\n array([270.0270027 , 329.5229523 , 389.01890189, 448.51485149,\n        508.01080108, 567.50675068, 627.00270027, 686.49864986,\n        745.99459946, 805.49054905, 864.98649865]),\n <BarContainer object of 10 artists>)"
     },
     "execution_count": 34,
     "metadata": {},
     "output_type": "execute_result"
    },
    {
     "data": {
      "text/plain": "<Figure size 640x480 with 1 Axes>",
      "image/png": "[encoded data removed]"
     },
     "metadata": {},
     "output_type": "display_data"
    }
   ],
   "source": [
    "plt.hist(df_score[\"Score_ind\"])"
   ],
   "metadata": {
    "collapsed": false,
    "ExecuteTime": {
     "end_time": "2024-02-23T09:27:54.112871Z",
     "start_time": "2024-02-23T09:27:54.010567Z"
    }
   },
   "id": "f113cc9c3e8dc48f"
  },
  {
   "cell_type": "code",
   "execution_count": null,
   "outputs": [],
   "source": [],
   "metadata": {
    "collapsed": false
   },
   "id": "5e3938a41f1ee964"
  }
 ],
 "metadata": {
  "kernelspec": {
   "display_name": "Python 3",
   "language": "python",
   "name": "python3"
  },
  "language_info": {
   "codemirror_mode": {
    "name": "ipython",
    "version": 2
   },
   "file_extension": ".py",
   "mimetype": "text/x-python",
   "name": "python",
   "nbconvert_exporter": "python",
   "pygments_lexer": "ipython2",
   "version": "2.7.6"
  }
 },
 "nbformat": 4,
 "nbformat_minor": 5
}
