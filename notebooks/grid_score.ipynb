{
 "cells": [
  {
   "cell_type": "code",
   "execution_count": 1,
   "id": "initial_id",
   "metadata": {
    "collapsed": true,
    "ExecuteTime": {
     "end_time": "2024-02-21T18:44:31.490359Z",
     "start_time": "2024-02-21T18:44:29.693099Z"
    }
   },
   "outputs": [],
   "source": [
    "import sys\n",
    "sys.path.append(\"../script\")\n",
    "from data_preparation import *\n",
    "from utils import GridScore\n",
    "import pandas as pd\n",
    "import matplotlib.pyplot as plt\n",
    "from sklearn.metrics import roc_curve, auc\n",
    "from statsmodels.discrete.discrete_model import Logit"
   ]
  },
  {
   "cell_type": "markdown",
   "source": [
    "# Import et préparation des données"
   ],
   "metadata": {
    "collapsed": false
   },
   "id": "6c2e6735dd75b317"
  },
  {
   "cell_type": "code",
   "execution_count": 2,
   "outputs": [],
   "source": [
    "train = pd.read_csv(\"../data/application_train_vf.csv\")\n",
    "test = pd.read_csv(\"../data/application_test_vf.csv\")"
   ],
   "metadata": {
    "collapsed": false,
    "ExecuteTime": {
     "end_time": "2024-02-21T18:44:34.247075Z",
     "start_time": "2024-02-21T18:44:31.490752Z"
    }
   },
   "id": "cb7ad9a26d1ca1a5"
  },
  {
   "cell_type": "code",
   "execution_count": null,
   "outputs": [],
   "source": [
    "dataprep = DataPreparation(train, test, 0.3, plot = True)\n",
    "train_prepared, test_prepared = dataprep.get_prepared_data()"
   ],
   "metadata": {
    "collapsed": false
   },
   "id": "cfa67b02c946a089"
  },
  {
   "cell_type": "code",
   "execution_count": 3,
   "outputs": [],
   "source": [
    "#train_prepared.to_csv(\"../data/train_prepared.csv\")\n",
    "#test_prepared.to_csv(\"../data/test_prepared.csv\")\n",
    "train_prepared = pd.read_csv(\"../data/train_prepared.csv\", index_col=[0])\n",
    "test_prepared = pd.read_csv(\"../data/test_prepared.csv\", index_col=[0])"
   ],
   "metadata": {
    "collapsed": false,
    "ExecuteTime": {
     "end_time": "2024-02-21T18:44:36.174415Z",
     "start_time": "2024-02-21T18:44:34.249567Z"
    }
   },
   "id": "bc6e6cacbd553b75"
  },
  {
   "cell_type": "code",
   "execution_count": 4,
   "outputs": [],
   "source": [
    "df_train = train_prepared.copy()"
   ],
   "metadata": {
    "collapsed": false,
    "ExecuteTime": {
     "end_time": "2024-02-21T18:44:36.245326Z",
     "start_time": "2024-02-21T18:44:36.175847Z"
    }
   },
   "id": "a6248134b7318925"
  },
  {
   "cell_type": "code",
   "execution_count": 5,
   "outputs": [],
   "source": [
    "df_train[\"TARGET\"] = df_train[\"TARGET\"].astype(\"int\")"
   ],
   "metadata": {
    "collapsed": false,
    "ExecuteTime": {
     "end_time": "2024-02-21T18:44:36.252119Z",
     "start_time": "2024-02-21T18:44:36.245714Z"
    }
   },
   "id": "6cc070c6bfe32f67"
  },
  {
   "cell_type": "code",
   "execution_count": 6,
   "outputs": [],
   "source": [
    "df_validation = df_train.iloc[280000:,:]\n",
    "df_train = df_train.iloc[:280000,:]"
   ],
   "metadata": {
    "collapsed": false,
    "ExecuteTime": {
     "end_time": "2024-02-21T18:44:36.258638Z",
     "start_time": "2024-02-21T18:44:36.252782Z"
    }
   },
   "id": "dd298c88e4473077"
  },
  {
   "cell_type": "markdown",
   "source": [
    "# Modélisation"
   ],
   "metadata": {
    "collapsed": false
   },
   "id": "6a9748c39f3c2b7b"
  },
  {
   "cell_type": "code",
   "execution_count": 7,
   "outputs": [],
   "source": [
    "features = list(df_train.iloc[:,2:4].columns)"
   ],
   "metadata": {
    "collapsed": false,
    "ExecuteTime": {
     "end_time": "2024-02-21T18:44:36.269358Z",
     "start_time": "2024-02-21T18:44:36.256962Z"
    }
   },
   "id": "3366bdc2ae479a76"
  },
  {
   "cell_type": "code",
   "execution_count": 8,
   "outputs": [],
   "source": [
    "formula = f'TARGET ~ {\" + \".join(f\"C({var})\" for var in features)}'"
   ],
   "metadata": {
    "collapsed": false,
    "ExecuteTime": {
     "end_time": "2024-02-21T18:44:36.275328Z",
     "start_time": "2024-02-21T18:44:36.267968Z"
    }
   },
   "id": "4a77b91a0a7ef42"
  },
  {
   "cell_type": "code",
   "execution_count": 9,
   "outputs": [],
   "source": [
    "reference_categories = {var : df_train[var].mode()[0] for var in features}"
   ],
   "metadata": {
    "collapsed": false,
    "ExecuteTime": {
     "end_time": "2024-02-21T18:44:36.303838Z",
     "start_time": "2024-02-21T18:44:36.286508Z"
    }
   },
   "id": "9043ac1a12a3f906"
  },
  {
   "cell_type": "code",
   "execution_count": 10,
   "outputs": [],
   "source": [
    "formula_parts = []\n",
    "for var in features:\n",
    "    if var in reference_categories:\n",
    "        ref_category = reference_categories[var]\n",
    "        formula_parts.append(f'C({var}, Treatment(reference=\"{ref_category}\"))')\n",
    "    else:\n",
    "        formula_parts.append(f'C({var})')  # Ou simplement 'var' si c'est une variable continue\n",
    "\n",
    "formula = 'TARGET ~ ' + ' + '.join(formula_parts)"
   ],
   "metadata": {
    "collapsed": false,
    "ExecuteTime": {
     "end_time": "2024-02-21T18:44:36.310097Z",
     "start_time": "2024-02-21T18:44:36.305102Z"
    }
   },
   "id": "61111164c1ddef45"
  },
  {
   "cell_type": "code",
   "execution_count": 11,
   "outputs": [
    {
     "name": "stdout",
     "output_type": "stream",
     "text": [
      "Optimization terminated successfully    (Exit mode 0)\n",
      "            Current function value: 0.2567339735493347\n",
      "            Iterations: 39\n",
      "            Function evaluations: 39\n",
      "            Gradient evaluations: 39\n"
     ]
    }
   ],
   "source": [
    "model = Logit.from_formula(formula=formula, data=df_train)\n",
    "logit_model = model.fit_regularized(maxiter = 500, method='l1')"
   ],
   "metadata": {
    "collapsed": false,
    "ExecuteTime": {
     "end_time": "2024-02-21T18:44:39.304459Z",
     "start_time": "2024-02-21T18:44:36.321126Z"
    }
   },
   "id": "bb8f778b54d972ad"
  },
  {
   "cell_type": "markdown",
   "source": [
    "# Prédiction"
   ],
   "metadata": {
    "collapsed": false
   },
   "id": "94aa359bb0eb4a45"
  },
  {
   "cell_type": "code",
   "execution_count": 12,
   "outputs": [],
   "source": [
    "pred = logit_model.predict(df_validation[features])"
   ],
   "metadata": {
    "collapsed": false,
    "ExecuteTime": {
     "end_time": "2024-02-21T18:44:39.365469Z",
     "start_time": "2024-02-21T18:44:39.307044Z"
    }
   },
   "id": "92e0882be303d025"
  },
  {
   "cell_type": "code",
   "execution_count": 13,
   "outputs": [],
   "source": [
    "pred = pred.apply(lambda x : 0 if x < 0.5 else 1)"
   ],
   "metadata": {
    "collapsed": false,
    "ExecuteTime": {
     "end_time": "2024-02-21T18:44:39.384943Z",
     "start_time": "2024-02-21T18:44:39.365667Z"
    }
   },
   "id": "5983ff72b2ca6cdc"
  },
  {
   "cell_type": "code",
   "execution_count": 14,
   "outputs": [
    {
     "name": "stderr",
     "output_type": "stream",
     "text": [
      "/Users/axel/Documents/École/Université/M2/M2_S1/Challenge_Nexialog/venv/lib/python3.9/site-packages/sklearn/metrics/_ranking.py:1146: UndefinedMetricWarning: No positive samples in y_true, true positive value should be meaningless\n",
      "  warnings.warn(\n"
     ]
    },
    {
     "data": {
      "text/plain": "<Figure size 800x600 with 1 Axes>",
      "image/png": "[encoded data removed]"
     },
     "metadata": {},
     "output_type": "display_data"
    }
   ],
   "source": [
    "fpr, tpr, thresholds = roc_curve(pred, df_validation[\"TARGET\"])\n",
    "roc_auc = auc(fpr, tpr)\n",
    "\n",
    "plt.figure(figsize=(8, 6))\n",
    "plt.plot(fpr, tpr, color='darkorange', lw=2, label='ROC curve (AUC = {:.2f})'.format(roc_auc))\n",
    "plt.plot([0, 1], [0, 1], color='navy', lw=2, linestyle='--')\n",
    "plt.xlabel('False Positive Rate')\n",
    "plt.ylabel('True Positive Rate')\n",
    "plt.title('Receiver Operating Characteristic (ROC) Curve')\n",
    "plt.legend(loc='lower right')\n",
    "plt.show()"
   ],
   "metadata": {
    "collapsed": false,
    "ExecuteTime": {
     "end_time": "2024-02-21T18:44:39.702042Z",
     "start_time": "2024-02-21T18:44:39.388Z"
    }
   },
   "id": "a871c36ce03a159"
  },
  {
   "cell_type": "code",
   "execution_count": 15,
   "outputs": [
    {
     "data": {
      "text/plain": "nan"
     },
     "execution_count": 15,
     "metadata": {},
     "output_type": "execute_result"
    }
   ],
   "source": [
    "roc_auc = auc(fpr, tpr)\n",
    "gini_coefficient = 2 * roc_auc - 1\n",
    "gini_coefficient"
   ],
   "metadata": {
    "collapsed": false,
    "ExecuteTime": {
     "end_time": "2024-02-21T18:44:39.702275Z",
     "start_time": "2024-02-21T18:44:39.693018Z"
    }
   },
   "id": "b7b991285c7fb196"
  },
  {
   "cell_type": "markdown",
   "source": [
    "# Grille de score"
   ],
   "metadata": {
    "collapsed": false
   },
   "id": "e9cc4452cabbaa3"
  },
  {
   "cell_type": "code",
   "execution_count": 16,
   "outputs": [],
   "source": [
    "g = GridScore(train_prepared, logit_model).compute_grid_score()"
   ],
   "metadata": {
    "collapsed": false,
    "ExecuteTime": {
     "end_time": "2024-02-21T18:44:41.230557Z",
     "start_time": "2024-02-21T18:44:39.701320Z"
    }
   },
   "id": "f99d003c7bf3a9f6"
  },
  {
   "cell_type": "code",
   "execution_count": 17,
   "outputs": [
    {
     "data": {
      "text/plain": "                Variable             Modality  Coefficient  P-Value  \\\n0              Intercept                    -    -2.879932      0.0   \n1    DAYS_BIRTH_disc_int  [-18807;-13580]_ref     0.000000      0.0   \n2    DAYS_BIRTH_disc_int       [-13579;-7489]     0.240000      0.0   \n3    DAYS_BIRTH_disc_int      [-25229;-18808]    -0.400000      0.0   \n4  EXT_SOURCE_2_disc_int      [0.48;0.85]_ref     0.000000      0.0   \n5  EXT_SOURCE_2_disc_int           [0.0;0.16]     1.460000      0.0   \n6  EXT_SOURCE_2_disc_int          [0.16;0.48]     0.720000      0.0   \n\n        Score  Contribution  Pcentage_Défaut  Pcentage_Classe  \n0    0.000000           0.0             0.00             0.00  \n1  114.285714          30.0             2.68            36.16  \n2    0.000000          30.0             3.37            33.31  \n3  304.761905          30.0             1.61            30.53  \n4  695.238095          70.0             3.44            65.31  \n5    0.000000          70.0             1.25             6.23  \n6  352.380952          70.0             2.98            28.45  ",
      "text/html": "<div>\n<style scoped>\n    .dataframe tbody tr th:only-of-type {\n        vertical-align: middle;\n    }\n\n    .dataframe tbody tr th {\n        vertical-align: top;\n    }\n\n    .dataframe thead th {\n        text-align: right;\n    }\n</style>\n<table border=\"1\" class=\"dataframe\">\n  <thead>\n    <tr style=\"text-align: right;\">\n      <th></th>\n      <th>Variable</th>\n      <th>Modality</th>\n      <th>Coefficient</th>\n      <th>P-Value</th>\n      <th>Score</th>\n      <th>Contribution</th>\n      <th>Pcentage_Défaut</th>\n      <th>Pcentage_Classe</th>\n    </tr>\n  </thead>\n  <tbody>\n    <tr>\n      <th>0</th>\n      <td>Intercept</td>\n      <td>-</td>\n      <td>-2.879932</td>\n      <td>0.0</td>\n      <td>0.000000</td>\n      <td>0.0</td>\n      <td>0.00</td>\n      <td>0.00</td>\n    </tr>\n    <tr>\n      <th>1</th>\n      <td>DAYS_BIRTH_disc_int</td>\n      <td>[-18807;-13580]_ref</td>\n      <td>0.000000</td>\n      <td>0.0</td>\n      <td>114.285714</td>\n      <td>30.0</td>\n      <td>2.68</td>\n      <td>36.16</td>\n    </tr>\n    <tr>\n      <th>2</th>\n      <td>DAYS_BIRTH_disc_int</td>\n      <td>[-13579;-7489]</td>\n      <td>0.240000</td>\n      <td>0.0</td>\n      <td>0.000000</td>\n      <td>30.0</td>\n      <td>3.37</td>\n      <td>33.31</td>\n    </tr>\n    <tr>\n      <th>3</th>\n      <td>DAYS_BIRTH_disc_int</td>\n      <td>[-25229;-18808]</td>\n      <td>-0.400000</td>\n      <td>0.0</td>\n      <td>304.761905</td>\n      <td>30.0</td>\n      <td>1.61</td>\n      <td>30.53</td>\n    </tr>\n    <tr>\n      <th>4</th>\n      <td>EXT_SOURCE_2_disc_int</td>\n      <td>[0.48;0.85]_ref</td>\n      <td>0.000000</td>\n      <td>0.0</td>\n      <td>695.238095</td>\n      <td>70.0</td>\n      <td>3.44</td>\n      <td>65.31</td>\n    </tr>\n    <tr>\n      <th>5</th>\n      <td>EXT_SOURCE_2_disc_int</td>\n      <td>[0.0;0.16]</td>\n      <td>1.460000</td>\n      <td>0.0</td>\n      <td>0.000000</td>\n      <td>70.0</td>\n      <td>1.25</td>\n      <td>6.23</td>\n    </tr>\n    <tr>\n      <th>6</th>\n      <td>EXT_SOURCE_2_disc_int</td>\n      <td>[0.16;0.48]</td>\n      <td>0.720000</td>\n      <td>0.0</td>\n      <td>352.380952</td>\n      <td>70.0</td>\n      <td>2.98</td>\n      <td>28.45</td>\n    </tr>\n  </tbody>\n</table>\n</div>"
     },
     "execution_count": 17,
     "metadata": {},
     "output_type": "execute_result"
    }
   ],
   "source": [
    "g"
   ],
   "metadata": {
    "collapsed": false,
    "ExecuteTime": {
     "end_time": "2024-02-21T18:44:41.251178Z",
     "start_time": "2024-02-21T18:44:41.231006Z"
    }
   },
   "id": "87634b5bf9c06063"
  },
  {
   "cell_type": "markdown",
   "source": [
    "## Calcul des scores individuels"
   ],
   "metadata": {
    "collapsed": false
   },
   "id": "132b7e2b01745bec"
  },
  {
   "cell_type": "code",
   "execution_count": 69,
   "outputs": [],
   "source": [
    "score_dict = {}\n",
    "for index, row in g.iterrows():\n",
    "    var = row[\"Variable\"]\n",
    "    mod = row[\"Modality\"].split(\"_ref\")[0]\n",
    "    score = row[\"Score\"]\n",
    "    \n",
    "    if var not in score_dict:\n",
    "        score_dict[var] = {}\n",
    "    score_dict[var][mod] = score"
   ],
   "metadata": {
    "collapsed": false,
    "ExecuteTime": {
     "end_time": "2024-02-21T16:32:44.422783Z",
     "start_time": "2024-02-21T16:32:44.416071Z"
    }
   },
   "id": "716802d0d02416dc"
  },
  {
   "cell_type": "code",
   "execution_count": 70,
   "outputs": [],
   "source": [
    "def compute_score(row, features):\n",
    "    score = 0\n",
    "    for var in features :\n",
    "        modality = row[var]\n",
    "        score += score_dict[var][modality]\n",
    "    return(score)"
   ],
   "metadata": {
    "collapsed": false,
    "ExecuteTime": {
     "end_time": "2024-02-21T16:32:44.423905Z",
     "start_time": "2024-02-21T16:32:44.421250Z"
    }
   },
   "id": "16361c92203766ef"
  },
  {
   "cell_type": "code",
   "execution_count": 71,
   "outputs": [],
   "source": [
    "def compute_individual_score(df, features):\n",
    "    df_score = df.copy()\n",
    "    df_score[\"Score_ind\"] = 0\n",
    "    df_score[\"Score_ind\"] = df_score.apply(lambda row : compute_score(row, features), axis = 1)\n",
    "    return(df_score)"
   ],
   "metadata": {
    "collapsed": false,
    "ExecuteTime": {
     "end_time": "2024-02-21T16:32:44.430661Z",
     "start_time": "2024-02-21T16:32:44.424917Z"
    }
   },
   "id": "e591a5af8bc9146e"
  },
  {
   "cell_type": "code",
   "execution_count": 50,
   "outputs": [],
   "source": [
    "df2 = compute_individual_score(train_prepared, features)"
   ],
   "metadata": {
    "collapsed": false,
    "ExecuteTime": {
     "end_time": "2024-02-21T16:18:42.588696Z",
     "start_time": "2024-02-21T16:18:37.498106Z"
    }
   },
   "id": "62380a152d3601"
  },
  {
   "cell_type": "code",
   "execution_count": null,
   "outputs": [],
   "source": [],
   "metadata": {
    "collapsed": false
   },
   "id": "9f65f724e260828"
  }
 ],
 "metadata": {
  "kernelspec": {
   "display_name": "Python 3",
   "language": "python",
   "name": "python3"
  },
  "language_info": {
   "codemirror_mode": {
    "name": "ipython",
    "version": 2
   },
   "file_extension": ".py",
   "mimetype": "text/x-python",
   "name": "python",
   "nbconvert_exporter": "python",
   "pygments_lexer": "ipython2",
   "version": "2.7.6"
  }
 },
 "nbformat": 4,
 "nbformat_minor": 5
}
