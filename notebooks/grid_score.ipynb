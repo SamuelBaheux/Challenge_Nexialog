{
 "cells": [
  {
   "cell_type": "code",
   "execution_count": 1,
   "id": "initial_id",
   "metadata": {
    "collapsed": true,
    "ExecuteTime": {
     "end_time": "2024-02-23T15:49:41.995818Z",
     "start_time": "2024-02-23T15:49:40.989741Z"
    }
   },
   "outputs": [],
   "source": [
    "import sys\n",
    "sys.path.append(\"../script\")\n",
    "from data_preparation import *\n",
    "from utils import GridScore\n",
    "import pandas as pd\n",
    "import matplotlib.pyplot as plt\n",
    "from sklearn.metrics import roc_curve, auc, confusion_matrix\n",
    "from statsmodels.discrete.discrete_model import Logit"
   ]
  },
  {
   "cell_type": "markdown",
   "source": [
    "# Import et préparation des données"
   ],
   "metadata": {
    "collapsed": false
   },
   "id": "6c2e6735dd75b317"
  },
  {
   "cell_type": "code",
   "execution_count": 2,
   "outputs": [],
   "source": [
    "train = pd.read_csv(\"../data/application_train_vf.csv\")\n",
    "test = pd.read_csv(\"../data/application_test_vf.csv\")"
   ],
   "metadata": {
    "collapsed": false,
    "ExecuteTime": {
     "end_time": "2024-02-23T15:49:44.738207Z",
     "start_time": "2024-02-23T15:49:42.867208Z"
    }
   },
   "id": "cb7ad9a26d1ca1a5"
  },
  {
   "cell_type": "code",
   "execution_count": 3,
   "outputs": [
    {
     "name": "stdout",
     "output_type": "stream",
     "text": [
      "Type des variables convertis ✅\n"
     ]
    },
    {
     "ename": "KeyError",
     "evalue": "'AMT_CREDIT_SUM_DEBT'",
     "output_type": "error",
     "traceback": [
      "\u001B[0;31m---------------------------------------------------------------------------\u001B[0m",
      "\u001B[0;31mKeyError\u001B[0m                                  Traceback (most recent call last)",
      "File \u001B[0;32m~/Documents/École/Université/M2/M2_S1/Challenge_Nexialog/venv/lib/python3.9/site-packages/pandas/core/indexes/base.py:3791\u001B[0m, in \u001B[0;36mIndex.get_loc\u001B[0;34m(self, key)\u001B[0m\n\u001B[1;32m   3790\u001B[0m \u001B[38;5;28;01mtry\u001B[39;00m:\n\u001B[0;32m-> 3791\u001B[0m     \u001B[38;5;28;01mreturn\u001B[39;00m \u001B[38;5;28;43mself\u001B[39;49m\u001B[38;5;241;43m.\u001B[39;49m\u001B[43m_engine\u001B[49m\u001B[38;5;241;43m.\u001B[39;49m\u001B[43mget_loc\u001B[49m\u001B[43m(\u001B[49m\u001B[43mcasted_key\u001B[49m\u001B[43m)\u001B[49m\n\u001B[1;32m   3792\u001B[0m \u001B[38;5;28;01mexcept\u001B[39;00m \u001B[38;5;167;01mKeyError\u001B[39;00m \u001B[38;5;28;01mas\u001B[39;00m err:\n",
      "File \u001B[0;32mindex.pyx:152\u001B[0m, in \u001B[0;36mpandas._libs.index.IndexEngine.get_loc\u001B[0;34m()\u001B[0m\n",
      "File \u001B[0;32mindex.pyx:181\u001B[0m, in \u001B[0;36mpandas._libs.index.IndexEngine.get_loc\u001B[0;34m()\u001B[0m\n",
      "File \u001B[0;32mpandas/_libs/hashtable_class_helper.pxi:7080\u001B[0m, in \u001B[0;36mpandas._libs.hashtable.PyObjectHashTable.get_item\u001B[0;34m()\u001B[0m\n",
      "File \u001B[0;32mpandas/_libs/hashtable_class_helper.pxi:7088\u001B[0m, in \u001B[0;36mpandas._libs.hashtable.PyObjectHashTable.get_item\u001B[0;34m()\u001B[0m\n",
      "\u001B[0;31mKeyError\u001B[0m: 'AMT_CREDIT_SUM_DEBT'",
      "\nThe above exception was the direct cause of the following exception:\n",
      "\u001B[0;31mKeyError\u001B[0m                                  Traceback (most recent call last)",
      "Cell \u001B[0;32mIn[3], line 2\u001B[0m\n\u001B[1;32m      1\u001B[0m dataprep \u001B[38;5;241m=\u001B[39m DataPreparation(train, test, \u001B[38;5;241m0.3\u001B[39m, plot \u001B[38;5;241m=\u001B[39m \u001B[38;5;28;01mTrue\u001B[39;00m)\n\u001B[0;32m----> 2\u001B[0m train_prepared, test_prepared \u001B[38;5;241m=\u001B[39m \u001B[43mdataprep\u001B[49m\u001B[38;5;241;43m.\u001B[39;49m\u001B[43mget_prepared_data\u001B[49m\u001B[43m(\u001B[49m\u001B[43m)\u001B[49m\n",
      "File \u001B[0;32m~/Documents/École/Université/M2/M2_S1/Challenge_Nexialog/notebooks/../script/data_preparation.py:301\u001B[0m, in \u001B[0;36mDataPreparation.get_prepared_data\u001B[0;34m(self)\u001B[0m\n\u001B[1;32m    299\u001B[0m \u001B[38;5;28mself\u001B[39m\u001B[38;5;241m.\u001B[39madd_bureau_features()\n\u001B[1;32m    300\u001B[0m \u001B[38;5;28mself\u001B[39m\u001B[38;5;241m.\u001B[39mconvert_type()\n\u001B[0;32m--> 301\u001B[0m \u001B[38;5;28;43mself\u001B[39;49m\u001B[38;5;241;43m.\u001B[39;49m\u001B[43mremove_and_impute_nan\u001B[49m\u001B[43m(\u001B[49m\u001B[43m)\u001B[49m\n\u001B[1;32m    302\u001B[0m \u001B[38;5;28mself\u001B[39m\u001B[38;5;241m.\u001B[39mnumericals_discretisation()\n\u001B[1;32m    303\u001B[0m \u001B[38;5;28mself\u001B[39m\u001B[38;5;241m.\u001B[39mcategorical_discretisation()\n",
      "File \u001B[0;32m~/Documents/École/Université/M2/M2_S1/Challenge_Nexialog/notebooks/../script/data_preparation.py:158\u001B[0m, in \u001B[0;36mDataPreparation.remove_and_impute_nan\u001B[0;34m(self)\u001B[0m\n\u001B[1;32m    156\u001B[0m \u001B[38;5;28;01mfor\u001B[39;00m var \u001B[38;5;129;01min\u001B[39;00m impute_0:\n\u001B[1;32m    157\u001B[0m     \u001B[38;5;28mself\u001B[39m\u001B[38;5;241m.\u001B[39mtrain[var]\u001B[38;5;241m.\u001B[39mfillna(\u001B[38;5;241m0\u001B[39m, inplace\u001B[38;5;241m=\u001B[39m\u001B[38;5;28;01mTrue\u001B[39;00m)\n\u001B[0;32m--> 158\u001B[0m     \u001B[38;5;28;43mself\u001B[39;49m\u001B[38;5;241;43m.\u001B[39;49m\u001B[43mtest\u001B[49m\u001B[43m[\u001B[49m\u001B[43mvar\u001B[49m\u001B[43m]\u001B[49m\u001B[38;5;241m.\u001B[39mfillna(\u001B[38;5;241m0\u001B[39m, inplace\u001B[38;5;241m=\u001B[39m\u001B[38;5;28;01mTrue\u001B[39;00m)\n\u001B[1;32m    160\u001B[0m impute_mod \u001B[38;5;241m=\u001B[39m [\u001B[38;5;124m\"\u001B[39m\u001B[38;5;124mOCCUPATION_TYPE\u001B[39m\u001B[38;5;124m\"\u001B[39m]\n\u001B[1;32m    162\u001B[0m \u001B[38;5;66;03m### Others ####\u001B[39;00m\n",
      "File \u001B[0;32m~/Documents/École/Université/M2/M2_S1/Challenge_Nexialog/venv/lib/python3.9/site-packages/pandas/core/frame.py:3893\u001B[0m, in \u001B[0;36mDataFrame.__getitem__\u001B[0;34m(self, key)\u001B[0m\n\u001B[1;32m   3891\u001B[0m \u001B[38;5;28;01mif\u001B[39;00m \u001B[38;5;28mself\u001B[39m\u001B[38;5;241m.\u001B[39mcolumns\u001B[38;5;241m.\u001B[39mnlevels \u001B[38;5;241m>\u001B[39m \u001B[38;5;241m1\u001B[39m:\n\u001B[1;32m   3892\u001B[0m     \u001B[38;5;28;01mreturn\u001B[39;00m \u001B[38;5;28mself\u001B[39m\u001B[38;5;241m.\u001B[39m_getitem_multilevel(key)\n\u001B[0;32m-> 3893\u001B[0m indexer \u001B[38;5;241m=\u001B[39m \u001B[38;5;28;43mself\u001B[39;49m\u001B[38;5;241;43m.\u001B[39;49m\u001B[43mcolumns\u001B[49m\u001B[38;5;241;43m.\u001B[39;49m\u001B[43mget_loc\u001B[49m\u001B[43m(\u001B[49m\u001B[43mkey\u001B[49m\u001B[43m)\u001B[49m\n\u001B[1;32m   3894\u001B[0m \u001B[38;5;28;01mif\u001B[39;00m is_integer(indexer):\n\u001B[1;32m   3895\u001B[0m     indexer \u001B[38;5;241m=\u001B[39m [indexer]\n",
      "File \u001B[0;32m~/Documents/École/Université/M2/M2_S1/Challenge_Nexialog/venv/lib/python3.9/site-packages/pandas/core/indexes/base.py:3798\u001B[0m, in \u001B[0;36mIndex.get_loc\u001B[0;34m(self, key)\u001B[0m\n\u001B[1;32m   3793\u001B[0m     \u001B[38;5;28;01mif\u001B[39;00m \u001B[38;5;28misinstance\u001B[39m(casted_key, \u001B[38;5;28mslice\u001B[39m) \u001B[38;5;129;01mor\u001B[39;00m (\n\u001B[1;32m   3794\u001B[0m         \u001B[38;5;28misinstance\u001B[39m(casted_key, abc\u001B[38;5;241m.\u001B[39mIterable)\n\u001B[1;32m   3795\u001B[0m         \u001B[38;5;129;01mand\u001B[39;00m \u001B[38;5;28many\u001B[39m(\u001B[38;5;28misinstance\u001B[39m(x, \u001B[38;5;28mslice\u001B[39m) \u001B[38;5;28;01mfor\u001B[39;00m x \u001B[38;5;129;01min\u001B[39;00m casted_key)\n\u001B[1;32m   3796\u001B[0m     ):\n\u001B[1;32m   3797\u001B[0m         \u001B[38;5;28;01mraise\u001B[39;00m InvalidIndexError(key)\n\u001B[0;32m-> 3798\u001B[0m     \u001B[38;5;28;01mraise\u001B[39;00m \u001B[38;5;167;01mKeyError\u001B[39;00m(key) \u001B[38;5;28;01mfrom\u001B[39;00m \u001B[38;5;21;01merr\u001B[39;00m\n\u001B[1;32m   3799\u001B[0m \u001B[38;5;28;01mexcept\u001B[39;00m \u001B[38;5;167;01mTypeError\u001B[39;00m:\n\u001B[1;32m   3800\u001B[0m     \u001B[38;5;66;03m# If we have a listlike key, _check_indexing_error will raise\u001B[39;00m\n\u001B[1;32m   3801\u001B[0m     \u001B[38;5;66;03m#  InvalidIndexError. Otherwise we fall through and re-raise\u001B[39;00m\n\u001B[1;32m   3802\u001B[0m     \u001B[38;5;66;03m#  the TypeError.\u001B[39;00m\n\u001B[1;32m   3803\u001B[0m     \u001B[38;5;28mself\u001B[39m\u001B[38;5;241m.\u001B[39m_check_indexing_error(key)\n",
      "\u001B[0;31mKeyError\u001B[0m: 'AMT_CREDIT_SUM_DEBT'"
     ]
    }
   ],
   "source": [
    "dataprep = DataPreparation(train, test, 0.3, plot = True)\n",
    "train_prepared, test_prepared = dataprep.get_prepared_data()"
   ],
   "metadata": {
    "collapsed": false,
    "ExecuteTime": {
     "end_time": "2024-02-23T15:49:48.187393Z",
     "start_time": "2024-02-23T15:49:45.293153Z"
    }
   },
   "id": "cfa67b02c946a089"
  },
  {
   "cell_type": "code",
   "execution_count": 5,
   "outputs": [],
   "source": [
    "#train_prepared.to_csv(\"../data/train_prepared.csv\")\n",
    "#test_prepared.to_csv(\"../data/test_prepared.csv\")\n",
    "train_prepared = pd.read_csv(\"../data/train_prepared.csv\", index_col=[0])\n",
    "test_prepared = pd.read_csv(\"../data/test_prepared.csv\", index_col=[0])"
   ],
   "metadata": {
    "collapsed": false,
    "ExecuteTime": {
     "end_time": "2024-02-23T09:25:42.704839Z",
     "start_time": "2024-02-23T09:25:41.110373Z"
    }
   },
   "id": "bc6e6cacbd553b75"
  },
  {
   "cell_type": "code",
   "execution_count": 6,
   "outputs": [],
   "source": [
    "df_train = train_prepared.copy()"
   ],
   "metadata": {
    "collapsed": false,
    "ExecuteTime": {
     "end_time": "2024-02-23T09:25:42.789150Z",
     "start_time": "2024-02-23T09:25:42.705157Z"
    }
   },
   "id": "a6248134b7318925"
  },
  {
   "cell_type": "code",
   "execution_count": 7,
   "outputs": [],
   "source": [
    "df_validation = df_train.iloc[280000:,:]\n",
    "df_train = df_train.iloc[:280000,:]"
   ],
   "metadata": {
    "collapsed": false,
    "ExecuteTime": {
     "end_time": "2024-02-23T09:25:42.794636Z",
     "start_time": "2024-02-23T09:25:42.791153Z"
    }
   },
   "id": "dd298c88e4473077"
  },
  {
   "cell_type": "markdown",
   "source": [
    "# Modélisation"
   ],
   "metadata": {
    "collapsed": false
   },
   "id": "6a9748c39f3c2b7b"
  },
  {
   "cell_type": "code",
   "execution_count": 53,
   "outputs": [],
   "source": [
    "features = list(train_prepared.iloc[:,-7:].columns)"
   ],
   "metadata": {
    "collapsed": false,
    "ExecuteTime": {
     "end_time": "2024-02-23T10:07:31.531888Z",
     "start_time": "2024-02-23T10:07:31.499628Z"
    }
   },
   "id": "3366bdc2ae479a76"
  },
  {
   "cell_type": "code",
   "execution_count": 54,
   "outputs": [],
   "source": [
    "reference_categories = {var : train_prepared[var].mode()[0] for var in features}"
   ],
   "metadata": {
    "collapsed": false,
    "ExecuteTime": {
     "end_time": "2024-02-23T10:07:32.288195Z",
     "start_time": "2024-02-23T10:07:32.165137Z"
    }
   },
   "id": "9043ac1a12a3f906"
  },
  {
   "cell_type": "code",
   "execution_count": 55,
   "outputs": [],
   "source": [
    "formula_parts = []\n",
    "for var in features:\n",
    "    if var in reference_categories:\n",
    "        ref_category = reference_categories[var]\n",
    "        formula_parts.append(f'C({var}, Treatment(reference=\"{ref_category}\"))')\n",
    "\n",
    "formula = 'TARGET ~ ' + ' + '.join(formula_parts)"
   ],
   "metadata": {
    "collapsed": false,
    "ExecuteTime": {
     "end_time": "2024-02-23T10:07:32.288477Z",
     "start_time": "2024-02-23T10:07:32.281621Z"
    }
   },
   "id": "61111164c1ddef45"
  },
  {
   "cell_type": "code",
   "execution_count": 56,
   "outputs": [
    {
     "name": "stdout",
     "output_type": "stream",
     "text": [
      "Optimization terminated successfully    (Exit mode 0)\n",
      "            Current function value: 0.2668318327789872\n",
      "            Iterations: 51\n",
      "            Function evaluations: 51\n",
      "            Gradient evaluations: 51\n"
     ]
    }
   ],
   "source": [
    "model = Logit.from_formula(formula=formula, data=train_prepared)\n",
    "logit_model = model.fit_regularized(maxiter = 500, method='l1')"
   ],
   "metadata": {
    "collapsed": false,
    "ExecuteTime": {
     "end_time": "2024-02-23T10:07:39.153277Z",
     "start_time": "2024-02-23T10:07:32.358895Z"
    }
   },
   "id": "bb8f778b54d972ad"
  },
  {
   "cell_type": "markdown",
   "source": [
    "# Prédiction"
   ],
   "metadata": {
    "collapsed": false
   },
   "id": "94aa359bb0eb4a45"
  },
  {
   "cell_type": "code",
   "execution_count": 42,
   "outputs": [],
   "source": [
    "pred = logit_model.predict(df_validation)"
   ],
   "metadata": {
    "collapsed": false,
    "ExecuteTime": {
     "end_time": "2024-02-23T09:46:48.404736Z",
     "start_time": "2024-02-23T09:46:48.040476Z"
    }
   },
   "id": "92e0882be303d025"
  },
  {
   "cell_type": "code",
   "execution_count": 43,
   "outputs": [],
   "source": [
    "pred = pred.apply(lambda x : 0 if x < 0.5 else 1)"
   ],
   "metadata": {
    "collapsed": false,
    "ExecuteTime": {
     "end_time": "2024-02-23T09:46:48.443972Z",
     "start_time": "2024-02-23T09:46:48.423265Z"
    }
   },
   "id": "5983ff72b2ca6cdc"
  },
  {
   "cell_type": "code",
   "execution_count": 44,
   "outputs": [
    {
     "data": {
      "text/plain": "array([[23788,  2319],\n       [    0,     0]])"
     },
     "execution_count": 44,
     "metadata": {},
     "output_type": "execute_result"
    }
   ],
   "source": [
    "confusion_matrix(pred, df_validation[\"TARGET\"])"
   ],
   "metadata": {
    "collapsed": false,
    "ExecuteTime": {
     "end_time": "2024-02-23T09:46:48.503363Z",
     "start_time": "2024-02-23T09:46:48.462640Z"
    }
   },
   "id": "9d917c29f161365f"
  },
  {
   "cell_type": "code",
   "execution_count": 45,
   "outputs": [
    {
     "name": "stderr",
     "output_type": "stream",
     "text": [
      "/Users/axel/Documents/École/Université/M2/M2_S1/Challenge_Nexialog/venv/lib/python3.9/site-packages/sklearn/metrics/_ranking.py:1146: UndefinedMetricWarning: No positive samples in y_true, true positive value should be meaningless\n",
      "  warnings.warn(\n"
     ]
    },
    {
     "data": {
      "text/plain": "<Figure size 800x600 with 1 Axes>",
      "image/png": "[encoded data removed]"
     },
     "metadata": {},
     "output_type": "display_data"
    }
   ],
   "source": [
    "fpr, tpr, thresholds = roc_curve(pred, df_validation[\"TARGET\"])\n",
    "roc_auc = auc(fpr, tpr)\n",
    "\n",
    "plt.figure(figsize=(8, 6))\n",
    "plt.plot(fpr, tpr, color='darkorange', lw=2, label='ROC curve (AUC = {:.2f})'.format(roc_auc))\n",
    "plt.plot([0, 1], [0, 1], color='navy', lw=2, linestyle='--')\n",
    "plt.xlabel('False Positive Rate')\n",
    "plt.ylabel('True Positive Rate')\n",
    "plt.title('Receiver Operating Characteristic (ROC) Curve')\n",
    "plt.legend(loc='lower right')\n",
    "plt.show()"
   ],
   "metadata": {
    "collapsed": false,
    "ExecuteTime": {
     "end_time": "2024-02-23T09:46:48.717017Z",
     "start_time": "2024-02-23T09:46:48.511666Z"
    }
   },
   "id": "a871c36ce03a159"
  },
  {
   "cell_type": "code",
   "execution_count": 46,
   "outputs": [
    {
     "data": {
      "text/plain": "nan"
     },
     "execution_count": 46,
     "metadata": {},
     "output_type": "execute_result"
    }
   ],
   "source": [
    "roc_auc = auc(fpr, tpr)\n",
    "gini_coefficient = 2 * roc_auc - 1\n",
    "gini_coefficient"
   ],
   "metadata": {
    "collapsed": false,
    "ExecuteTime": {
     "end_time": "2024-02-23T09:46:48.722533Z",
     "start_time": "2024-02-23T09:46:48.716807Z"
    }
   },
   "id": "b7b991285c7fb196"
  },
  {
   "cell_type": "markdown",
   "source": [
    "# Grille de score"
   ],
   "metadata": {
    "collapsed": false
   },
   "id": "e9cc4452cabbaa3"
  },
  {
   "cell_type": "code",
   "execution_count": 47,
   "outputs": [],
   "source": [
    "GS = GridScore(df_train, logit_model)\n",
    "grid_score = GS.compute_grid_score()"
   ],
   "metadata": {
    "collapsed": false,
    "ExecuteTime": {
     "end_time": "2024-02-23T09:46:52.067504Z",
     "start_time": "2024-02-23T09:46:48.736169Z"
    }
   },
   "id": "f99d003c7bf3a9f6"
  },
  {
   "cell_type": "code",
   "execution_count": 58,
   "outputs": [
    {
     "data": {
      "text/plain": "                                                       Coef.  Std.Err.  \\\nIntercept                                          -2.542790  0.011658   \nC(FLAG_WORK_PHONE, Treatment(reference=\"zero\"))...  0.285968  0.017184   \nC(FLAG_PHONE, Treatment(reference=\"zero\"))[T.un]   -0.276432  0.016590   \nC(LIVE_CITY_NOT_WORK_CITY, Treatment(reference=...  0.197495  0.016893   \nC(NAME_CONTRACT_TYPE, Treatment(reference=\"Cash... -0.453466  0.027566   \nC(FLAG_OWN_CAR, Treatment(reference=\"N\"))[T.Y]     -0.373044  0.015758   \nC(FLAG_OWN_REALTY, Treatment(reference=\"Y\"))[T.N]  -0.016116  0.014841   \nC(CODE_GENDER, Treatment(reference=\"F\"))[T.M]       0.496581  0.014835   \n\n                                                             z          P>|z|  \\\nIntercept                                          -218.108399   0.000000e+00   \nC(FLAG_WORK_PHONE, Treatment(reference=\"zero\"))...   16.641398   3.493639e-62   \nC(FLAG_PHONE, Treatment(reference=\"zero\"))[T.un]    -16.662967   2.436317e-62   \nC(LIVE_CITY_NOT_WORK_CITY, Treatment(reference=...   11.690796   1.420488e-31   \nC(NAME_CONTRACT_TYPE, Treatment(reference=\"Cash...  -16.450491   8.319097e-61   \nC(FLAG_OWN_CAR, Treatment(reference=\"N\"))[T.Y]      -23.672733  6.886137e-124   \nC(FLAG_OWN_REALTY, Treatment(reference=\"Y\"))[T.N]    -1.085879   2.775325e-01   \nC(CODE_GENDER, Treatment(reference=\"F\"))[T.M]        33.473465  1.172893e-245   \n\n                                                      [0.025    0.975]  \nIntercept                                          -2.565640 -2.519940  \nC(FLAG_WORK_PHONE, Treatment(reference=\"zero\"))...  0.252288  0.319648  \nC(FLAG_PHONE, Treatment(reference=\"zero\"))[T.un]   -0.308947 -0.243917  \nC(LIVE_CITY_NOT_WORK_CITY, Treatment(reference=...  0.164385  0.230605  \nC(NAME_CONTRACT_TYPE, Treatment(reference=\"Cash... -0.507494 -0.399439  \nC(FLAG_OWN_CAR, Treatment(reference=\"N\"))[T.Y]     -0.403930 -0.342158  \nC(FLAG_OWN_REALTY, Treatment(reference=\"Y\"))[T.N]  -0.045204  0.012972  \nC(CODE_GENDER, Treatment(reference=\"F\"))[T.M]       0.467505  0.525658  ",
      "text/html": "<div>\n<style scoped>\n    .dataframe tbody tr th:only-of-type {\n        vertical-align: middle;\n    }\n\n    .dataframe tbody tr th {\n        vertical-align: top;\n    }\n\n    .dataframe thead th {\n        text-align: right;\n    }\n</style>\n<table border=\"1\" class=\"dataframe\">\n  <thead>\n    <tr style=\"text-align: right;\">\n      <th></th>\n      <th>Coef.</th>\n      <th>Std.Err.</th>\n      <th>z</th>\n      <th>P&gt;|z|</th>\n      <th>[0.025</th>\n      <th>0.975]</th>\n    </tr>\n  </thead>\n  <tbody>\n    <tr>\n      <th>Intercept</th>\n      <td>-2.542790</td>\n      <td>0.011658</td>\n      <td>-218.108399</td>\n      <td>0.000000e+00</td>\n      <td>-2.565640</td>\n      <td>-2.519940</td>\n    </tr>\n    <tr>\n      <th>C(FLAG_WORK_PHONE, Treatment(reference=\"zero\"))[T.un]</th>\n      <td>0.285968</td>\n      <td>0.017184</td>\n      <td>16.641398</td>\n      <td>3.493639e-62</td>\n      <td>0.252288</td>\n      <td>0.319648</td>\n    </tr>\n    <tr>\n      <th>C(FLAG_PHONE, Treatment(reference=\"zero\"))[T.un]</th>\n      <td>-0.276432</td>\n      <td>0.016590</td>\n      <td>-16.662967</td>\n      <td>2.436317e-62</td>\n      <td>-0.308947</td>\n      <td>-0.243917</td>\n    </tr>\n    <tr>\n      <th>C(LIVE_CITY_NOT_WORK_CITY, Treatment(reference=\"zero\"))[T.un]</th>\n      <td>0.197495</td>\n      <td>0.016893</td>\n      <td>11.690796</td>\n      <td>1.420488e-31</td>\n      <td>0.164385</td>\n      <td>0.230605</td>\n    </tr>\n    <tr>\n      <th>C(NAME_CONTRACT_TYPE, Treatment(reference=\"Cash loans\"))[T.Revolving loans]</th>\n      <td>-0.453466</td>\n      <td>0.027566</td>\n      <td>-16.450491</td>\n      <td>8.319097e-61</td>\n      <td>-0.507494</td>\n      <td>-0.399439</td>\n    </tr>\n    <tr>\n      <th>C(FLAG_OWN_CAR, Treatment(reference=\"N\"))[T.Y]</th>\n      <td>-0.373044</td>\n      <td>0.015758</td>\n      <td>-23.672733</td>\n      <td>6.886137e-124</td>\n      <td>-0.403930</td>\n      <td>-0.342158</td>\n    </tr>\n    <tr>\n      <th>C(FLAG_OWN_REALTY, Treatment(reference=\"Y\"))[T.N]</th>\n      <td>-0.016116</td>\n      <td>0.014841</td>\n      <td>-1.085879</td>\n      <td>2.775325e-01</td>\n      <td>-0.045204</td>\n      <td>0.012972</td>\n    </tr>\n    <tr>\n      <th>C(CODE_GENDER, Treatment(reference=\"F\"))[T.M]</th>\n      <td>0.496581</td>\n      <td>0.014835</td>\n      <td>33.473465</td>\n      <td>1.172893e-245</td>\n      <td>0.467505</td>\n      <td>0.525658</td>\n    </tr>\n  </tbody>\n</table>\n</div>"
     },
     "execution_count": 58,
     "metadata": {},
     "output_type": "execute_result"
    }
   ],
   "source": [
    "logit_model.summary2().tables[1]"
   ],
   "metadata": {
    "collapsed": false,
    "ExecuteTime": {
     "end_time": "2024-02-23T10:07:51.332909Z",
     "start_time": "2024-02-23T10:07:49.694253Z"
    }
   },
   "id": "82a85fbdb977d82d"
  },
  {
   "cell_type": "code",
   "execution_count": 48,
   "outputs": [
    {
     "data": {
      "text/plain": "                   Variable         Modality  Coefficient  P-Value  \\\n0                 Intercept                -     -2.54279   0.0000   \n1           FLAG_WORK_PHONE         zero_ref      0.00000   0.0000   \n2           FLAG_WORK_PHONE               un      0.29000   0.0000   \n3                FLAG_PHONE         zero_ref      0.00000   0.0000   \n4                FLAG_PHONE               un     -0.28000   0.0000   \n5   LIVE_CITY_NOT_WORK_CITY         zero_ref      0.00000   0.0000   \n6   LIVE_CITY_NOT_WORK_CITY               un      0.20000   0.0000   \n7        NAME_CONTRACT_TYPE   Cash loans_ref      0.00000   0.0000   \n8        NAME_CONTRACT_TYPE  Revolving loans     -0.45000   0.0000   \n9              FLAG_OWN_CAR            N_ref      0.00000   0.0000   \n10             FLAG_OWN_CAR                Y     -0.37000   0.0000   \n11          FLAG_OWN_REALTY            Y_ref      0.00000   0.0000   \n12          FLAG_OWN_REALTY                N     -0.02000   0.2775   \n13              CODE_GENDER            F_ref      0.00000   0.0000   \n14              CODE_GENDER                M      0.50000   0.0000   \n\n         Score  Contribution  Pcentage_Défaut  Pcentage_Classe  \n0     0.000000           0.0             0.00             0.00  \n1   137.440758          14.0             5.76            80.11  \n2     0.000000          14.0             1.80            19.89  \n3     0.000000          13.0             5.71            71.86  \n4   132.701422          13.0             1.85            28.14  \n5    94.786730           9.0             5.90            82.10  \n6     0.000000           9.0             1.66            17.90  \n7     0.000000          21.0             7.07            90.48  \n8   213.270142          21.0             0.48             9.52  \n9     0.000000          18.0             5.24            65.96  \n10  175.355450          18.0             2.32            34.04  \n11    0.000000           1.0             5.17            69.36  \n12    9.478673           1.0             2.39            30.64  \n13  236.966825          24.0             4.30            65.84  \n14    0.000000          24.0             3.26            34.16  ",
      "text/html": "<div>\n<style scoped>\n    .dataframe tbody tr th:only-of-type {\n        vertical-align: middle;\n    }\n\n    .dataframe tbody tr th {\n        vertical-align: top;\n    }\n\n    .dataframe thead th {\n        text-align: right;\n    }\n</style>\n<table border=\"1\" class=\"dataframe\">\n  <thead>\n    <tr style=\"text-align: right;\">\n      <th></th>\n      <th>Variable</th>\n      <th>Modality</th>\n      <th>Coefficient</th>\n      <th>P-Value</th>\n      <th>Score</th>\n      <th>Contribution</th>\n      <th>Pcentage_Défaut</th>\n      <th>Pcentage_Classe</th>\n    </tr>\n  </thead>\n  <tbody>\n    <tr>\n      <th>0</th>\n      <td>Intercept</td>\n      <td>-</td>\n      <td>-2.54279</td>\n      <td>0.0000</td>\n      <td>0.000000</td>\n      <td>0.0</td>\n      <td>0.00</td>\n      <td>0.00</td>\n    </tr>\n    <tr>\n      <th>1</th>\n      <td>FLAG_WORK_PHONE</td>\n      <td>zero_ref</td>\n      <td>0.00000</td>\n      <td>0.0000</td>\n      <td>137.440758</td>\n      <td>14.0</td>\n      <td>5.76</td>\n      <td>80.11</td>\n    </tr>\n    <tr>\n      <th>2</th>\n      <td>FLAG_WORK_PHONE</td>\n      <td>un</td>\n      <td>0.29000</td>\n      <td>0.0000</td>\n      <td>0.000000</td>\n      <td>14.0</td>\n      <td>1.80</td>\n      <td>19.89</td>\n    </tr>\n    <tr>\n      <th>3</th>\n      <td>FLAG_PHONE</td>\n      <td>zero_ref</td>\n      <td>0.00000</td>\n      <td>0.0000</td>\n      <td>0.000000</td>\n      <td>13.0</td>\n      <td>5.71</td>\n      <td>71.86</td>\n    </tr>\n    <tr>\n      <th>4</th>\n      <td>FLAG_PHONE</td>\n      <td>un</td>\n      <td>-0.28000</td>\n      <td>0.0000</td>\n      <td>132.701422</td>\n      <td>13.0</td>\n      <td>1.85</td>\n      <td>28.14</td>\n    </tr>\n    <tr>\n      <th>5</th>\n      <td>LIVE_CITY_NOT_WORK_CITY</td>\n      <td>zero_ref</td>\n      <td>0.00000</td>\n      <td>0.0000</td>\n      <td>94.786730</td>\n      <td>9.0</td>\n      <td>5.90</td>\n      <td>82.10</td>\n    </tr>\n    <tr>\n      <th>6</th>\n      <td>LIVE_CITY_NOT_WORK_CITY</td>\n      <td>un</td>\n      <td>0.20000</td>\n      <td>0.0000</td>\n      <td>0.000000</td>\n      <td>9.0</td>\n      <td>1.66</td>\n      <td>17.90</td>\n    </tr>\n    <tr>\n      <th>7</th>\n      <td>NAME_CONTRACT_TYPE</td>\n      <td>Cash loans_ref</td>\n      <td>0.00000</td>\n      <td>0.0000</td>\n      <td>0.000000</td>\n      <td>21.0</td>\n      <td>7.07</td>\n      <td>90.48</td>\n    </tr>\n    <tr>\n      <th>8</th>\n      <td>NAME_CONTRACT_TYPE</td>\n      <td>Revolving loans</td>\n      <td>-0.45000</td>\n      <td>0.0000</td>\n      <td>213.270142</td>\n      <td>21.0</td>\n      <td>0.48</td>\n      <td>9.52</td>\n    </tr>\n    <tr>\n      <th>9</th>\n      <td>FLAG_OWN_CAR</td>\n      <td>N_ref</td>\n      <td>0.00000</td>\n      <td>0.0000</td>\n      <td>0.000000</td>\n      <td>18.0</td>\n      <td>5.24</td>\n      <td>65.96</td>\n    </tr>\n    <tr>\n      <th>10</th>\n      <td>FLAG_OWN_CAR</td>\n      <td>Y</td>\n      <td>-0.37000</td>\n      <td>0.0000</td>\n      <td>175.355450</td>\n      <td>18.0</td>\n      <td>2.32</td>\n      <td>34.04</td>\n    </tr>\n    <tr>\n      <th>11</th>\n      <td>FLAG_OWN_REALTY</td>\n      <td>Y_ref</td>\n      <td>0.00000</td>\n      <td>0.0000</td>\n      <td>0.000000</td>\n      <td>1.0</td>\n      <td>5.17</td>\n      <td>69.36</td>\n    </tr>\n    <tr>\n      <th>12</th>\n      <td>FLAG_OWN_REALTY</td>\n      <td>N</td>\n      <td>-0.02000</td>\n      <td>0.2775</td>\n      <td>9.478673</td>\n      <td>1.0</td>\n      <td>2.39</td>\n      <td>30.64</td>\n    </tr>\n    <tr>\n      <th>13</th>\n      <td>CODE_GENDER</td>\n      <td>F_ref</td>\n      <td>0.00000</td>\n      <td>0.0000</td>\n      <td>236.966825</td>\n      <td>24.0</td>\n      <td>4.30</td>\n      <td>65.84</td>\n    </tr>\n    <tr>\n      <th>14</th>\n      <td>CODE_GENDER</td>\n      <td>M</td>\n      <td>0.50000</td>\n      <td>0.0000</td>\n      <td>0.000000</td>\n      <td>24.0</td>\n      <td>3.26</td>\n      <td>34.16</td>\n    </tr>\n  </tbody>\n</table>\n</div>"
     },
     "execution_count": 48,
     "metadata": {},
     "output_type": "execute_result"
    }
   ],
   "source": [
    "grid_score"
   ],
   "metadata": {
    "collapsed": false,
    "ExecuteTime": {
     "end_time": "2024-02-23T09:46:52.078206Z",
     "start_time": "2024-02-23T09:46:52.075949Z"
    }
   },
   "id": "87634b5bf9c06063"
  },
  {
   "cell_type": "markdown",
   "source": [
    "## Calcul des scores individuels"
   ],
   "metadata": {
    "collapsed": false
   },
   "id": "132b7e2b01745bec"
  },
  {
   "cell_type": "code",
   "execution_count": 49,
   "outputs": [],
   "source": [
    "df_score = GS.get_individual_score()"
   ],
   "metadata": {
    "collapsed": false,
    "ExecuteTime": {
     "end_time": "2024-02-23T09:46:57.243446Z",
     "start_time": "2024-02-23T09:46:52.079672Z"
    }
   },
   "id": "62380a152d3601"
  },
  {
   "cell_type": "code",
   "execution_count": 50,
   "outputs": [
    {
     "data": {
      "text/plain": "(array([  2897.,   9333.,  28181.,  36510., 113993.,  18879.,  57595.,\n          7132.,   4813.,    667.]),\n array([   0.,  100.,  200.,  300.,  400.,  500.,  600.,  700.,  800.,\n         900., 1000.]),\n <BarContainer object of 10 artists>)"
     },
     "execution_count": 50,
     "metadata": {},
     "output_type": "execute_result"
    },
    {
     "data": {
      "text/plain": "<Figure size 640x480 with 1 Axes>",
      "image/png": "[encoded data removed]"
     },
     "metadata": {},
     "output_type": "display_data"
    }
   ],
   "source": [
    "plt.hist(df_score[\"Score_ind\"])"
   ],
   "metadata": {
    "collapsed": false,
    "ExecuteTime": {
     "end_time": "2024-02-23T09:46:57.365201Z",
     "start_time": "2024-02-23T09:46:57.244549Z"
    }
   },
   "id": "f113cc9c3e8dc48f"
  },
  {
   "cell_type": "code",
   "execution_count": 51,
   "outputs": [],
   "source": [
    "df_score.to_csv(\"../data/df_score.csv\")"
   ],
   "metadata": {
    "collapsed": false,
    "ExecuteTime": {
     "end_time": "2024-02-23T09:48:03.242950Z",
     "start_time": "2024-02-23T09:48:00.126462Z"
    }
   },
   "id": "5e3938a41f1ee964"
  },
  {
   "cell_type": "code",
   "execution_count": null,
   "outputs": [],
   "source": [],
   "metadata": {
    "collapsed": false
   },
   "id": "ff0255019918e6d3"
  }
 ],
 "metadata": {
  "kernelspec": {
   "display_name": "Python 3",
   "language": "python",
   "name": "python3"
  },
  "language_info": {
   "codemirror_mode": {
    "name": "ipython",
    "version": 2
   },
   "file_extension": ".py",
   "mimetype": "text/x-python",
   "name": "python",
   "nbconvert_exporter": "python",
   "pygments_lexer": "ipython2",
   "version": "2.7.6"
  }
 },
 "nbformat": 4,
 "nbformat_minor": 5
}
