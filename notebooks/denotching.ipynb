{
 "cells": [
  {
   "cell_type": "code",
   "execution_count": 1,
   "metadata": {},
   "outputs": [],
   "source": [
    "import pandas as pd\n",
    "import matplotlib.pyplot as plt\n",
    "import seaborn as sns\n",
    "from scipy.stats import zscore\n",
    "import scipy.stats as stats\n",
    "from scipy.stats import chi2_contingency\n",
    "import numpy as np\n",
    "import plotly.express as px\n",
    "from wordcloud import WordCloud \n",
    "import plotly.graph_objects as go\n"
   ]
  },
  {
   "cell_type": "code",
   "execution_count": 2,
   "metadata": {},
   "outputs": [],
   "source": [
    "import sys\n",
    "sys.path.append(\"C:/Users/baheu/Documents/M2 MoSEF/Challenge_Nexialog/script/\") \n",
    "from modelization import *\n",
    "from data_preparation import *"
   ]
  },
  {
   "cell_type": "code",
   "execution_count": 3,
   "metadata": {},
   "outputs": [
    {
     "name": "stdout",
     "output_type": "stream",
     "text": [
      "TARGET\n",
      "date_mensuelle\n",
      "Variables extérieures récupérées ✅\n",
      "Type des variables convertis ✅\n",
      "Valeurs manquantes traitées ✅\n",
      "Discrétisation des variables numériques en cours ... \n",
      "Variables numériques discrétisées ✅\n",
      "Discrétisation des variables catégorielles en cours ... \n",
      "Variables catégorielles discrétisées ✅\n"
     ]
    },
    {
     "data": {
      "text/html": [
       "<div>\n",
       "<style scoped>\n",
       "    .dataframe tbody tr th:only-of-type {\n",
       "        vertical-align: middle;\n",
       "    }\n",
       "\n",
       "    .dataframe tbody tr th {\n",
       "        vertical-align: top;\n",
       "    }\n",
       "\n",
       "    .dataframe thead th {\n",
       "        text-align: right;\n",
       "    }\n",
       "</style>\n",
       "<table border=\"1\" class=\"dataframe\">\n",
       "  <thead>\n",
       "    <tr style=\"text-align: right;\">\n",
       "      <th></th>\n",
       "      <th>date_mensuelle</th>\n",
       "      <th>TARGET</th>\n",
       "      <th>AMT_CREDIT_SUM_disc_int</th>\n",
       "      <th>AMT_CREDIT_SUM_DEBT_disc_int</th>\n",
       "      <th>DAYS_CREDIT_ENDDATE_disc_int</th>\n",
       "      <th>DAYS_FIRST_DRAWING_disc_int</th>\n",
       "      <th>RATE_DOWN_PAYMENT_disc_int</th>\n",
       "      <th>AMT_PAYMENT_disc_int</th>\n",
       "    </tr>\n",
       "  </thead>\n",
       "  <tbody>\n",
       "    <tr>\n",
       "      <th>0</th>\n",
       "      <td>2013-01-01</td>\n",
       "      <td>0</td>\n",
       "      <td>[999000.0;1017957917.38]</td>\n",
       "      <td>[12141.0;334498331.21]</td>\n",
       "      <td>[-90.0;214193.0]</td>\n",
       "      <td>[730486.0;9131075.0]</td>\n",
       "      <td>[-0.0;0.2]</td>\n",
       "      <td>[130825.17;25537053.78]</td>\n",
       "    </tr>\n",
       "    <tr>\n",
       "      <th>1</th>\n",
       "      <td>2013-01-01</td>\n",
       "      <td>0</td>\n",
       "      <td>[0.0;998991.0]</td>\n",
       "      <td>[-6981558.21;12132.04]</td>\n",
       "      <td>[-155271.0;-91.0]</td>\n",
       "      <td>[730486.0;9131075.0]</td>\n",
       "      <td>[-0.0;0.2]</td>\n",
       "      <td>[130825.17;25537053.78]</td>\n",
       "    </tr>\n",
       "    <tr>\n",
       "      <th>2</th>\n",
       "      <td>2013-01-01</td>\n",
       "      <td>0</td>\n",
       "      <td>[0.0;998991.0]</td>\n",
       "      <td>[12141.0;334498331.21]</td>\n",
       "      <td>[-90.0;214193.0]</td>\n",
       "      <td>[-3505.0;730484.0]</td>\n",
       "      <td>[-0.0;0.2]</td>\n",
       "      <td>[0.0;130824.09]</td>\n",
       "    </tr>\n",
       "    <tr>\n",
       "      <th>3</th>\n",
       "      <td>2013-01-01</td>\n",
       "      <td>0</td>\n",
       "      <td>[0.0;998991.0]</td>\n",
       "      <td>[-6981558.21;12132.04]</td>\n",
       "      <td>[-155271.0;-91.0]</td>\n",
       "      <td>[-3505.0;730484.0]</td>\n",
       "      <td>[-0.0;0.2]</td>\n",
       "      <td>[0.0;130824.09]</td>\n",
       "    </tr>\n",
       "    <tr>\n",
       "      <th>4</th>\n",
       "      <td>2013-01-01</td>\n",
       "      <td>0</td>\n",
       "      <td>[0.0;998991.0]</td>\n",
       "      <td>[-6981558.21;12132.04]</td>\n",
       "      <td>[-90.0;214193.0]</td>\n",
       "      <td>[-3505.0;730484.0]</td>\n",
       "      <td>[-0.0;0.2]</td>\n",
       "      <td>[0.0;130824.09]</td>\n",
       "    </tr>\n",
       "  </tbody>\n",
       "</table>\n",
       "</div>"
      ],
      "text/plain": [
       "  date_mensuelle  TARGET   AMT_CREDIT_SUM_disc_int  \\\n",
       "0     2013-01-01       0  [999000.0;1017957917.38]   \n",
       "1     2013-01-01       0            [0.0;998991.0]   \n",
       "2     2013-01-01       0            [0.0;998991.0]   \n",
       "3     2013-01-01       0            [0.0;998991.0]   \n",
       "4     2013-01-01       0            [0.0;998991.0]   \n",
       "\n",
       "  AMT_CREDIT_SUM_DEBT_disc_int DAYS_CREDIT_ENDDATE_disc_int  \\\n",
       "0       [12141.0;334498331.21]             [-90.0;214193.0]   \n",
       "1       [-6981558.21;12132.04]            [-155271.0;-91.0]   \n",
       "2       [12141.0;334498331.21]             [-90.0;214193.0]   \n",
       "3       [-6981558.21;12132.04]            [-155271.0;-91.0]   \n",
       "4       [-6981558.21;12132.04]             [-90.0;214193.0]   \n",
       "\n",
       "  DAYS_FIRST_DRAWING_disc_int RATE_DOWN_PAYMENT_disc_int  \\\n",
       "0        [730486.0;9131075.0]                 [-0.0;0.2]   \n",
       "1        [730486.0;9131075.0]                 [-0.0;0.2]   \n",
       "2          [-3505.0;730484.0]                 [-0.0;0.2]   \n",
       "3          [-3505.0;730484.0]                 [-0.0;0.2]   \n",
       "4          [-3505.0;730484.0]                 [-0.0;0.2]   \n",
       "\n",
       "      AMT_PAYMENT_disc_int  \n",
       "0  [130825.17;25537053.78]  \n",
       "1  [130825.17;25537053.78]  \n",
       "2          [0.0;130824.09]  \n",
       "3          [0.0;130824.09]  \n",
       "4          [0.0;130824.09]  "
      ]
     },
     "execution_count": 3,
     "metadata": {},
     "output_type": "execute_result"
    }
   ],
   "source": [
    "# Charger les données\n",
    "train_data = pd.read_csv(\"../../data/application_train_vf.csv\")\n",
    "\n",
    "# Instancier la classe DashDataPreparation\n",
    "data_preparator = DashDataPreparation()\n",
    "\n",
    "# Initialiser les données\n",
    "data_preparator.initialize_df(train_data)\n",
    "\n",
    "# Initialiser la cible\n",
    "data_preparator.init_target(\"TARGET\")\n",
    "\n",
    "# Initialiser la date\n",
    "data_preparator.init_date(\"date_mensuelle\")\n",
    "\n",
    "# Initialiser les variables\n",
    "selected_vars = ['DAYS_CREDIT_ENDDATE', \"AMT_CREDIT_SUM\", \"AMT_CREDIT_SUM_DEBT\",'DAYS_FIRST_DRAWING', 'RATE_DOWN_PAYMENT','AMT_PAYMENT']\n",
    "data_preparator.initialize_data(selected_vars)\n",
    "\n",
    "# Préparation des données\n",
    "prepared_data = data_preparator.get_prepared_data()\n",
    "\n",
    "# Récupérer les caractéristiques explicatives\n",
    "#explicative_features, features_label = constant_features.get_explicative_features()\n",
    "\n",
    "# Afficher les données préparées\n",
    "prepared_data.head()\n"
   ]
  },
  {
   "cell_type": "code",
   "execution_count": 4,
   "metadata": {},
   "outputs": [
    {
     "name": "stdout",
     "output_type": "stream",
     "text": [
      "Optimization terminated successfully.\n",
      "         Current function value: 0.267081\n",
      "         Iterations 7\n",
      "Calcul de la grille de score ✅\n",
      "Segmentation en cours ... \n",
      "[0, 101, 246, 413, 587, 775, 825]\n",
      "Métriques du modèle: {'fpr': array([0.        , 0.05923647, 0.10356657, 0.11431754, 0.14789666,\n",
      "       0.15661415, 0.23121673, 0.26327516, 0.26854455, 0.27379626,\n",
      "       0.28196559, 0.30044383, 0.30619065, 0.316977  , 0.37145686,\n",
      "       0.42194048, 0.43470727, 0.4390218 , 0.44393755, 0.45101056,\n",
      "       0.45681043, 0.48031051, 0.48216717, 0.48510247, 0.49076088,\n",
      "       0.49219316, 0.52485279, 0.57591993, 0.59701519, 0.60999416,\n",
      "       0.61422029, 0.61604159, 0.62033844, 0.62454689, 0.62518346,\n",
      "       0.62620904, 0.6307004 , 0.63218574, 0.66189238, 0.66275883,\n",
      "       0.71306562, 0.7405089 , 0.74767033, 0.75133061, 0.76006578,\n",
      "       0.78195675, 0.7877743 , 0.7943522 , 0.79498877, 0.79567839,\n",
      "       0.80195569, 0.80646473, 0.8601312 , 0.91158736, 0.91786466,\n",
      "       0.92265662, 0.92329319, 0.92661751, 0.93197532, 0.93301858,\n",
      "       0.94293848, 0.98703871, 0.98820575, 0.98923134, 1.        ]), 'tpr': array([0.        , 0.10561268, 0.17502142, 0.19387318, 0.23693231,\n",
      "       0.2491431 , 0.33890317, 0.38367609, 0.3916024 , 0.39738646,\n",
      "       0.40766924, 0.42523565, 0.43059126, 0.44215938, 0.50814053,\n",
      "       0.56041131, 0.57283633, 0.5769066 , 0.58076264, 0.58697515,\n",
      "       0.59340189, 0.61268209, 0.61525278, 0.61760925, 0.62125107,\n",
      "       0.62317909, 0.65059983, 0.69944302, 0.72000857, 0.73243359,\n",
      "       0.73693231, 0.739503  , 0.74528706, 0.74957155, 0.75021422,\n",
      "       0.75128535, 0.75556984, 0.75749786, 0.78770351, 0.78856041,\n",
      "       0.8277635 , 0.84383033, 0.85004284, 0.85175664, 0.85796915,\n",
      "       0.87382177, 0.87703513, 0.88346187, 0.88346187, 0.88410454,\n",
      "       0.88731791, 0.89117395, 0.92330763, 0.95329906, 0.9562982 ,\n",
      "       0.95886889, 0.95886889, 0.96101114, 0.9667952 , 0.96722365,\n",
      "       0.97322194, 0.99378749, 0.99421594, 0.99443016, 1.        ]), 'roc_auc': 0.5950582868848782, 'gini': 0.19011657376975633}\n",
      "Métriques de segmentation: {'count_seg': 85.71428571428571, 'count_monotonie': 85.71428571428571}\n",
      "MOC-C:    Classe       LRA     Moc_C\n",
      "0     1.0  0.122962  0.002329\n",
      "1     2.0  0.097178  0.001828\n",
      "2     3.0  0.081835  0.001309\n",
      "3     4.0  0.065953  0.001137\n",
      "4     5.0  0.052187  0.001268\n",
      "5     6.0  0.061589  0.006582\n",
      "6     7.0  0.038979  0.001815\n",
      "MOC-A:    CHR     MOC_A\n",
      "0    1  0.001489\n",
      "1    2  0.012408\n",
      "2    3  0.007068\n",
      "3    4  0.000000\n",
      "4    5  0.011840\n",
      "5    6  0.000000\n",
      "6    7  0.000000\n",
      "Probabilité de défaut: None\n"
     ]
    }
   ],
   "source": [
    "# Import des bibliothèques nécessaires\n",
    "import jenkspy\n",
    "from logit_utils import *\n",
    "from xgb_utils import *\n",
    "\n",
    "# Instanciation de la classe Modelization\n",
    "modelisation = Modelization()\n",
    "\n",
    "# Initialisation du modèle de régression logistique\n",
    "modelisation.init_model('logit')\n",
    "\n",
    "# Initialisation des données\n",
    "data = prepared_data.copy() # Supposons que train_prepared soit déjà chargé\n",
    "intervalles_dic = data_preparator.discretizer.intervalles_dic # Dictionnaire des intervalles, à fournir\n",
    "target = 'TARGET'\n",
    "date = 'date_mensuelle'\n",
    "\n",
    "modelisation.init_data(data, intervalles_dic, target, date)\n",
    "\n",
    "# Exécution du modèle\n",
    "modelisation.run_model()\n",
    "\n",
    "# Calcul des métriques\n",
    "metrics = modelisation.get_metrics()\n",
    "\n",
    "# Calcul du score de grille\n",
    "modelisation.get_grid_score(prepared_data, target)\n",
    "\n",
    "# Calcul de la segmentation\n",
    "modelisation.get_segmentation(target)\n",
    "\n",
    "# Mise à jour de la segmentation (si nécessaire)\n",
    "#new_breaks = [valeur_1, valeur_2, ...] # Nouveaux points de rupture\n",
    "#modelisation.update_segmentation(new_breaks, target)\n",
    "\n",
    "# Calcul des métriques de segmentation\n",
    "segmentation_metrics = modelisation.get_segmentation_metrics(target, date)\n",
    "\n",
    "# Calcul du MOC-C\n",
    "moc_c = modelisation.get_moc_c(target)\n",
    "\n",
    "# Calcul du MOC-A\n",
    "moc_a = modelisation.get_moc_a(target, date)\n",
    "\n",
    "# Calcul de la probabilité de défaut\n",
    "default_proba = modelisation.get_default_proba(target, date)\n",
    "\n",
    "# Affichage des résultats\n",
    "print(\"Métriques du modèle:\", metrics)\n",
    "print(\"Métriques de segmentation:\", segmentation_metrics)\n",
    "print(\"MOC-C:\", moc_c)\n",
    "print(\"MOC-A:\", moc_a)\n",
    "print(\"Probabilité de défaut:\", default_proba)\n",
    "\n",
    "\n"
   ]
  },
  {
   "cell_type": "code",
   "execution_count": 12,
   "metadata": {},
   "outputs": [
    {
     "data": {
      "text/html": [
       "<div>\n",
       "<style scoped>\n",
       "    .dataframe tbody tr th:only-of-type {\n",
       "        vertical-align: middle;\n",
       "    }\n",
       "\n",
       "    .dataframe tbody tr th {\n",
       "        vertical-align: top;\n",
       "    }\n",
       "\n",
       "    .dataframe thead th {\n",
       "        text-align: right;\n",
       "    }\n",
       "</style>\n",
       "<table border=\"1\" class=\"dataframe\">\n",
       "  <thead>\n",
       "    <tr style=\"text-align: right;\">\n",
       "      <th></th>\n",
       "      <th>Classe</th>\n",
       "      <th>LRA</th>\n",
       "      <th>Probabilité_Défaut</th>\n",
       "    </tr>\n",
       "  </thead>\n",
       "  <tbody>\n",
       "    <tr>\n",
       "      <th>0</th>\n",
       "      <td>1.0</td>\n",
       "      <td>0.122962</td>\n",
       "      <td>0.126780</td>\n",
       "    </tr>\n",
       "    <tr>\n",
       "      <th>1</th>\n",
       "      <td>2.0</td>\n",
       "      <td>0.097178</td>\n",
       "      <td>0.111414</td>\n",
       "    </tr>\n",
       "    <tr>\n",
       "      <th>2</th>\n",
       "      <td>3.0</td>\n",
       "      <td>0.081835</td>\n",
       "      <td>0.090213</td>\n",
       "    </tr>\n",
       "    <tr>\n",
       "      <th>3</th>\n",
       "      <td>4.0</td>\n",
       "      <td>0.065953</td>\n",
       "      <td>0.067090</td>\n",
       "    </tr>\n",
       "    <tr>\n",
       "      <th>4</th>\n",
       "      <td>5.0</td>\n",
       "      <td>0.052187</td>\n",
       "      <td>0.065294</td>\n",
       "    </tr>\n",
       "    <tr>\n",
       "      <th>5</th>\n",
       "      <td>6.0</td>\n",
       "      <td>0.061589</td>\n",
       "      <td>0.068171</td>\n",
       "    </tr>\n",
       "    <tr>\n",
       "      <th>6</th>\n",
       "      <td>7.0</td>\n",
       "      <td>0.038979</td>\n",
       "      <td>0.040795</td>\n",
       "    </tr>\n",
       "  </tbody>\n",
       "</table>\n",
       "</div>"
      ],
      "text/plain": [
       "   Classe       LRA  Probabilité_Défaut\n",
       "0     1.0  0.122962            0.126780\n",
       "1     2.0  0.097178            0.111414\n",
       "2     3.0  0.081835            0.090213\n",
       "3     4.0  0.065953            0.067090\n",
       "4     5.0  0.052187            0.065294\n",
       "5     6.0  0.061589            0.068171\n",
       "6     7.0  0.038979            0.040795"
      ]
     },
     "execution_count": 12,
     "metadata": {},
     "output_type": "execute_result"
    }
   ],
   "source": [
    "default_proba_avant = moc_c.copy()\n",
    "default_proba_avant[\"MOC_A\"] = moc_a[\"MOC_A\"]\n",
    "default_proba_avant[\"Moc_C\"] = default_proba_avant[\"Moc_C\"].apply(lambda x: 0 if x < 0 else x)\n",
    "default_proba_avant[\"Probabilité_Défaut\"] = default_proba_avant[\"LRA\"] + default_proba_avant[\"Moc_C\"] + default_proba_avant[\"MOC_A\"]\n",
    "default_proba_avant = default_proba_avant[['Classe', 'LRA', 'Probabilité_Défaut']]\n",
    "default_proba_avant "
   ]
  },
  {
   "cell_type": "code",
   "execution_count": 20,
   "metadata": {},
   "outputs": [
    {
     "name": "stdout",
     "output_type": "stream",
     "text": [
      "Optimization terminated successfully.\n",
      "         Current function value: 0.267081\n",
      "         Iterations 7\n",
      "Calcul de la grille de score ✅\n",
      "Segmentation en cours ... \n",
      "[0, 101, 246, 413, 587, 775, 825]\n",
      "Métriques du modèle: {'fpr': array([0.        , 0.05923647, 0.10356657, 0.11431754, 0.14789666,\n",
      "       0.15661415, 0.23121673, 0.26327516, 0.26854455, 0.27379626,\n",
      "       0.28196559, 0.30044383, 0.30619065, 0.316977  , 0.37145686,\n",
      "       0.42194048, 0.43470727, 0.4390218 , 0.44393755, 0.45101056,\n",
      "       0.45681043, 0.48031051, 0.48216717, 0.48510247, 0.49076088,\n",
      "       0.49219316, 0.52485279, 0.57591993, 0.59701519, 0.60999416,\n",
      "       0.61422029, 0.61604159, 0.62033844, 0.62454689, 0.62518346,\n",
      "       0.62620904, 0.6307004 , 0.63218574, 0.66189238, 0.66275883,\n",
      "       0.71306562, 0.7405089 , 0.74767033, 0.75133061, 0.76006578,\n",
      "       0.78195675, 0.7877743 , 0.7943522 , 0.79498877, 0.79567839,\n",
      "       0.80195569, 0.80646473, 0.8601312 , 0.91158736, 0.91786466,\n",
      "       0.92265662, 0.92329319, 0.92661751, 0.93197532, 0.93301858,\n",
      "       0.94293848, 0.98703871, 0.98820575, 0.98923134, 1.        ]), 'tpr': array([0.        , 0.10561268, 0.17502142, 0.19387318, 0.23693231,\n",
      "       0.2491431 , 0.33890317, 0.38367609, 0.3916024 , 0.39738646,\n",
      "       0.40766924, 0.42523565, 0.43059126, 0.44215938, 0.50814053,\n",
      "       0.56041131, 0.57283633, 0.5769066 , 0.58076264, 0.58697515,\n",
      "       0.59340189, 0.61268209, 0.61525278, 0.61760925, 0.62125107,\n",
      "       0.62317909, 0.65059983, 0.69944302, 0.72000857, 0.73243359,\n",
      "       0.73693231, 0.739503  , 0.74528706, 0.74957155, 0.75021422,\n",
      "       0.75128535, 0.75556984, 0.75749786, 0.78770351, 0.78856041,\n",
      "       0.8277635 , 0.84383033, 0.85004284, 0.85175664, 0.85796915,\n",
      "       0.87382177, 0.87703513, 0.88346187, 0.88346187, 0.88410454,\n",
      "       0.88731791, 0.89117395, 0.92330763, 0.95329906, 0.9562982 ,\n",
      "       0.95886889, 0.95886889, 0.96101114, 0.9667952 , 0.96722365,\n",
      "       0.97322194, 0.99378749, 0.99421594, 0.99443016, 1.        ]), 'roc_auc': 0.5950582868848782, 'gini': 0.19011657376975633}\n",
      "Métriques de segmentation: {'count_seg': 85.71428571428571, 'count_monotonie': 100.0}\n",
      "MOC-C:    Classe       LRA     Moc_C\n",
      "0     1.0  0.128577  0.003208\n",
      "1     2.0  0.118485  0.003133\n",
      "2     3.0  0.092382  0.001419\n",
      "3     4.0  0.077778  0.001379\n",
      "4     5.0  0.065648  0.001119\n",
      "5     6.0  0.052819  0.004926\n",
      "6     7.0  0.045541  0.001109\n",
      "MOC-A:    CHR     MOC_A\n",
      "0    1  0.007876\n",
      "1    2  0.008185\n",
      "2    3  0.009928\n",
      "3    4  0.006179\n",
      "4    5  0.006804\n",
      "5    6  0.000000\n",
      "6    7  0.002743\n",
      "Probabilité de défaut: None\n"
     ]
    }
   ],
   "source": [
    "# Import des bibliothèques nécessaires\n",
    "import jenkspy\n",
    "from logit_utils import *\n",
    "from xgb_utils import *\n",
    "\n",
    "# Instanciation de la classe Modelization\n",
    "modelisation = Modelization()\n",
    "\n",
    "# Initialisation du modèle de régression logistique\n",
    "modelisation.init_model('logit')\n",
    "\n",
    "# Initialisation des données\n",
    "data = prepared_data.copy() # Supposons que train_prepared soit déjà chargé\n",
    "intervalles_dic = data_preparator.discretizer.intervalles_dic # Dictionnaire des intervalles, à fournir\n",
    "target = 'TARGET'\n",
    "date = 'date_mensuelle'\n",
    "\n",
    "modelisation.init_data(data, intervalles_dic, target, date)\n",
    "\n",
    "# Exécution du modèle\n",
    "modelisation.run_model()\n",
    "\n",
    "# Calcul des métriques\n",
    "metrics = modelisation.get_metrics()\n",
    "\n",
    "# Calcul du score de grille\n",
    "modelisation.get_grid_score(prepared_data, target)\n",
    "\n",
    "# Calcul de la segmentation\n",
    "modelisation.get_segmentation(target)\n",
    "\n",
    "# Mise à jour de la segmentation (si nécessaire)\n",
    "new_breaks = [modelisation.breaks[i] - [0,50,120,130,130,130,130][i] for i in range(len(modelisation.breaks))]\n",
    "modelisation.update_segmentation(new_breaks, target)\n",
    "\n",
    "# Calcul des métriques de segmentation\n",
    "segmentation_metrics = modelisation.get_segmentation_metrics(target, date)\n",
    "\n",
    "# Calcul du MOC-C\n",
    "moc_c = modelisation.get_moc_c(target)\n",
    "\n",
    "# Calcul du MOC-A\n",
    "moc_a = modelisation.get_moc_a(target, date)\n",
    "\n",
    "# Calcul de la probabilité de défaut\n",
    "default_proba = modelisation.get_default_proba(target, date)\n",
    "\n",
    "# Affichage des résultats\n",
    "print(\"Métriques du modèle:\", metrics)\n",
    "print(\"Métriques de segmentation:\", segmentation_metrics)\n",
    "print(\"MOC-C:\", moc_c)\n",
    "print(\"MOC-A:\", moc_a)\n",
    "print(\"Probabilité de défaut:\", default_proba)\n",
    "\n",
    "\n"
   ]
  },
  {
   "cell_type": "code",
   "execution_count": 21,
   "metadata": {},
   "outputs": [
    {
     "data": {
      "text/html": [
       "<div>\n",
       "<style scoped>\n",
       "    .dataframe tbody tr th:only-of-type {\n",
       "        vertical-align: middle;\n",
       "    }\n",
       "\n",
       "    .dataframe tbody tr th {\n",
       "        vertical-align: top;\n",
       "    }\n",
       "\n",
       "    .dataframe thead th {\n",
       "        text-align: right;\n",
       "    }\n",
       "</style>\n",
       "<table border=\"1\" class=\"dataframe\">\n",
       "  <thead>\n",
       "    <tr style=\"text-align: right;\">\n",
       "      <th></th>\n",
       "      <th>Classe</th>\n",
       "      <th>LRA</th>\n",
       "      <th>Probabilité_Défaut</th>\n",
       "    </tr>\n",
       "  </thead>\n",
       "  <tbody>\n",
       "    <tr>\n",
       "      <th>0</th>\n",
       "      <td>1.0</td>\n",
       "      <td>0.128577</td>\n",
       "      <td>0.139660</td>\n",
       "    </tr>\n",
       "    <tr>\n",
       "      <th>1</th>\n",
       "      <td>2.0</td>\n",
       "      <td>0.118485</td>\n",
       "      <td>0.129802</td>\n",
       "    </tr>\n",
       "    <tr>\n",
       "      <th>2</th>\n",
       "      <td>3.0</td>\n",
       "      <td>0.092382</td>\n",
       "      <td>0.103729</td>\n",
       "    </tr>\n",
       "    <tr>\n",
       "      <th>3</th>\n",
       "      <td>4.0</td>\n",
       "      <td>0.077778</td>\n",
       "      <td>0.085335</td>\n",
       "    </tr>\n",
       "    <tr>\n",
       "      <th>4</th>\n",
       "      <td>5.0</td>\n",
       "      <td>0.065648</td>\n",
       "      <td>0.073571</td>\n",
       "    </tr>\n",
       "    <tr>\n",
       "      <th>5</th>\n",
       "      <td>6.0</td>\n",
       "      <td>0.052819</td>\n",
       "      <td>0.057745</td>\n",
       "    </tr>\n",
       "    <tr>\n",
       "      <th>6</th>\n",
       "      <td>7.0</td>\n",
       "      <td>0.045541</td>\n",
       "      <td>0.049393</td>\n",
       "    </tr>\n",
       "  </tbody>\n",
       "</table>\n",
       "</div>"
      ],
      "text/plain": [
       "   Classe       LRA  Probabilité_Défaut\n",
       "0     1.0  0.128577            0.139660\n",
       "1     2.0  0.118485            0.129802\n",
       "2     3.0  0.092382            0.103729\n",
       "3     4.0  0.077778            0.085335\n",
       "4     5.0  0.065648            0.073571\n",
       "5     6.0  0.052819            0.057745\n",
       "6     7.0  0.045541            0.049393"
      ]
     },
     "execution_count": 21,
     "metadata": {},
     "output_type": "execute_result"
    }
   ],
   "source": [
    "default_proba_apres = moc_c.copy()\n",
    "default_proba_apres[\"MOC_A\"] = moc_a[\"MOC_A\"]\n",
    "default_proba_apres[\"Moc_C\"] = default_proba_apres[\"Moc_C\"].apply(lambda x: 0 if x < 0 else x)\n",
    "default_proba_apres[\"Probabilité_Défaut\"] = default_proba_apres[\"LRA\"] + default_proba_apres[\"Moc_C\"] + default_proba_apres[\"MOC_A\"]\n",
    "default_proba_apres = default_proba_apres[['Classe', 'LRA', 'Probabilité_Défaut']]\n",
    "default_proba_apres "
   ]
  },
  {
   "cell_type": "code",
   "execution_count": 24,
   "metadata": {},
   "outputs": [
    {
     "data": {
      "application/vnd.plotly.v1+json": {
       "config": {
        "plotlyServerURL": "https://plot.ly"
       },
       "data": [
        {
         "name": "Avant",
         "type": "bar",
         "x": [
          1,
          2,
          3,
          4,
          5,
          6,
          7
         ],
         "y": [
          0.12677995780723933,
          0.11141420554160127,
          0.09021292885638431,
          0.06708955609529223,
          0.06529422626265263,
          0.06817113305124589,
          0.0407947153446624
         ]
        },
        {
         "name": "Après",
         "type": "bar",
         "x": [
          1,
          2,
          3,
          4,
          5,
          6,
          7
         ],
         "y": [
          0.13966045888167739,
          0.12980239298234483,
          0.10372851369509622,
          0.08533505481829606,
          0.0735708781287114,
          0.05774493705528188,
          0.049392767715649946
         ]
        },
        {
         "name": "Différence",
         "type": "bar",
         "x": [
          1,
          2,
          3,
          4,
          5,
          6,
          7
         ],
         "y": [
          0.012880501074438055,
          0.018388187440743567,
          0.013515584838711917,
          0.018245498723003836,
          0.008276651866058762,
          -0.010426195995964012,
          0.008598052370987548
         ]
        }
       ],
       "layout": {
        "barmode": "group",
        "template": {
         "data": {
          "bar": [
           {
            "error_x": {
             "color": "#2a3f5f"
            },
            "error_y": {
             "color": "#2a3f5f"
            },
            "marker": {
             "line": {
              "color": "#E5ECF6",
              "width": 0.5
             },
             "pattern": {
              "fillmode": "overlay",
              "size": 10,
              "solidity": 0.2
             }
            },
            "type": "bar"
           }
          ],
          "barpolar": [
           {
            "marker": {
             "line": {
              "color": "#E5ECF6",
              "width": 0.5
             },
             "pattern": {
              "fillmode": "overlay",
              "size": 10,
              "solidity": 0.2
             }
            },
            "type": "barpolar"
           }
          ],
          "carpet": [
           {
            "aaxis": {
             "endlinecolor": "#2a3f5f",
             "gridcolor": "white",
             "linecolor": "white",
             "minorgridcolor": "white",
             "startlinecolor": "#2a3f5f"
            },
            "baxis": {
             "endlinecolor": "#2a3f5f",
             "gridcolor": "white",
             "linecolor": "white",
             "minorgridcolor": "white",
             "startlinecolor": "#2a3f5f"
            },
            "type": "carpet"
           }
          ],
          "choropleth": [
           {
            "colorbar": {
             "outlinewidth": 0,
             "ticks": ""
            },
            "type": "choropleth"
           }
          ],
          "contour": [
           {
            "colorbar": {
             "outlinewidth": 0,
             "ticks": ""
            },
            "colorscale": [
             [
              0,
              "#0d0887"
             ],
             [
              0.1111111111111111,
              "#46039f"
             ],
             [
              0.2222222222222222,
              "#7201a8"
             ],
             [
              0.3333333333333333,
              "#9c179e"
             ],
             [
              0.4444444444444444,
              "#bd3786"
             ],
             [
              0.5555555555555556,
              "#d8576b"
             ],
             [
              0.6666666666666666,
              "#ed7953"
             ],
             [
              0.7777777777777778,
              "#fb9f3a"
             ],
             [
              0.8888888888888888,
              "#fdca26"
             ],
             [
              1,
              "#f0f921"
             ]
            ],
            "type": "contour"
           }
          ],
          "contourcarpet": [
           {
            "colorbar": {
             "outlinewidth": 0,
             "ticks": ""
            },
            "type": "contourcarpet"
           }
          ],
          "heatmap": [
           {
            "colorbar": {
             "outlinewidth": 0,
             "ticks": ""
            },
            "colorscale": [
             [
              0,
              "#0d0887"
             ],
             [
              0.1111111111111111,
              "#46039f"
             ],
             [
              0.2222222222222222,
              "#7201a8"
             ],
             [
              0.3333333333333333,
              "#9c179e"
             ],
             [
              0.4444444444444444,
              "#bd3786"
             ],
             [
              0.5555555555555556,
              "#d8576b"
             ],
             [
              0.6666666666666666,
              "#ed7953"
             ],
             [
              0.7777777777777778,
              "#fb9f3a"
             ],
             [
              0.8888888888888888,
              "#fdca26"
             ],
             [
              1,
              "#f0f921"
             ]
            ],
            "type": "heatmap"
           }
          ],
          "heatmapgl": [
           {
            "colorbar": {
             "outlinewidth": 0,
             "ticks": ""
            },
            "colorscale": [
             [
              0,
              "#0d0887"
             ],
             [
              0.1111111111111111,
              "#46039f"
             ],
             [
              0.2222222222222222,
              "#7201a8"
             ],
             [
              0.3333333333333333,
              "#9c179e"
             ],
             [
              0.4444444444444444,
              "#bd3786"
             ],
             [
              0.5555555555555556,
              "#d8576b"
             ],
             [
              0.6666666666666666,
              "#ed7953"
             ],
             [
              0.7777777777777778,
              "#fb9f3a"
             ],
             [
              0.8888888888888888,
              "#fdca26"
             ],
             [
              1,
              "#f0f921"
             ]
            ],
            "type": "heatmapgl"
           }
          ],
          "histogram": [
           {
            "marker": {
             "pattern": {
              "fillmode": "overlay",
              "size": 10,
              "solidity": 0.2
             }
            },
            "type": "histogram"
           }
          ],
          "histogram2d": [
           {
            "colorbar": {
             "outlinewidth": 0,
             "ticks": ""
            },
            "colorscale": [
             [
              0,
              "#0d0887"
             ],
             [
              0.1111111111111111,
              "#46039f"
             ],
             [
              0.2222222222222222,
              "#7201a8"
             ],
             [
              0.3333333333333333,
              "#9c179e"
             ],
             [
              0.4444444444444444,
              "#bd3786"
             ],
             [
              0.5555555555555556,
              "#d8576b"
             ],
             [
              0.6666666666666666,
              "#ed7953"
             ],
             [
              0.7777777777777778,
              "#fb9f3a"
             ],
             [
              0.8888888888888888,
              "#fdca26"
             ],
             [
              1,
              "#f0f921"
             ]
            ],
            "type": "histogram2d"
           }
          ],
          "histogram2dcontour": [
           {
            "colorbar": {
             "outlinewidth": 0,
             "ticks": ""
            },
            "colorscale": [
             [
              0,
              "#0d0887"
             ],
             [
              0.1111111111111111,
              "#46039f"
             ],
             [
              0.2222222222222222,
              "#7201a8"
             ],
             [
              0.3333333333333333,
              "#9c179e"
             ],
             [
              0.4444444444444444,
              "#bd3786"
             ],
             [
              0.5555555555555556,
              "#d8576b"
             ],
             [
              0.6666666666666666,
              "#ed7953"
             ],
             [
              0.7777777777777778,
              "#fb9f3a"
             ],
             [
              0.8888888888888888,
              "#fdca26"
             ],
             [
              1,
              "#f0f921"
             ]
            ],
            "type": "histogram2dcontour"
           }
          ],
          "mesh3d": [
           {
            "colorbar": {
             "outlinewidth": 0,
             "ticks": ""
            },
            "type": "mesh3d"
           }
          ],
          "parcoords": [
           {
            "line": {
             "colorbar": {
              "outlinewidth": 0,
              "ticks": ""
             }
            },
            "type": "parcoords"
           }
          ],
          "pie": [
           {
            "automargin": true,
            "type": "pie"
           }
          ],
          "scatter": [
           {
            "fillpattern": {
             "fillmode": "overlay",
             "size": 10,
             "solidity": 0.2
            },
            "type": "scatter"
           }
          ],
          "scatter3d": [
           {
            "line": {
             "colorbar": {
              "outlinewidth": 0,
              "ticks": ""
             }
            },
            "marker": {
             "colorbar": {
              "outlinewidth": 0,
              "ticks": ""
             }
            },
            "type": "scatter3d"
           }
          ],
          "scattercarpet": [
           {
            "marker": {
             "colorbar": {
              "outlinewidth": 0,
              "ticks": ""
             }
            },
            "type": "scattercarpet"
           }
          ],
          "scattergeo": [
           {
            "marker": {
             "colorbar": {
              "outlinewidth": 0,
              "ticks": ""
             }
            },
            "type": "scattergeo"
           }
          ],
          "scattergl": [
           {
            "marker": {
             "colorbar": {
              "outlinewidth": 0,
              "ticks": ""
             }
            },
            "type": "scattergl"
           }
          ],
          "scattermapbox": [
           {
            "marker": {
             "colorbar": {
              "outlinewidth": 0,
              "ticks": ""
             }
            },
            "type": "scattermapbox"
           }
          ],
          "scatterpolar": [
           {
            "marker": {
             "colorbar": {
              "outlinewidth": 0,
              "ticks": ""
             }
            },
            "type": "scatterpolar"
           }
          ],
          "scatterpolargl": [
           {
            "marker": {
             "colorbar": {
              "outlinewidth": 0,
              "ticks": ""
             }
            },
            "type": "scatterpolargl"
           }
          ],
          "scatterternary": [
           {
            "marker": {
             "colorbar": {
              "outlinewidth": 0,
              "ticks": ""
             }
            },
            "type": "scatterternary"
           }
          ],
          "surface": [
           {
            "colorbar": {
             "outlinewidth": 0,
             "ticks": ""
            },
            "colorscale": [
             [
              0,
              "#0d0887"
             ],
             [
              0.1111111111111111,
              "#46039f"
             ],
             [
              0.2222222222222222,
              "#7201a8"
             ],
             [
              0.3333333333333333,
              "#9c179e"
             ],
             [
              0.4444444444444444,
              "#bd3786"
             ],
             [
              0.5555555555555556,
              "#d8576b"
             ],
             [
              0.6666666666666666,
              "#ed7953"
             ],
             [
              0.7777777777777778,
              "#fb9f3a"
             ],
             [
              0.8888888888888888,
              "#fdca26"
             ],
             [
              1,
              "#f0f921"
             ]
            ],
            "type": "surface"
           }
          ],
          "table": [
           {
            "cells": {
             "fill": {
              "color": "#EBF0F8"
             },
             "line": {
              "color": "white"
             }
            },
            "header": {
             "fill": {
              "color": "#C8D4E3"
             },
             "line": {
              "color": "white"
             }
            },
            "type": "table"
           }
          ]
         },
         "layout": {
          "annotationdefaults": {
           "arrowcolor": "#2a3f5f",
           "arrowhead": 0,
           "arrowwidth": 1
          },
          "autotypenumbers": "strict",
          "coloraxis": {
           "colorbar": {
            "outlinewidth": 0,
            "ticks": ""
           }
          },
          "colorscale": {
           "diverging": [
            [
             0,
             "#8e0152"
            ],
            [
             0.1,
             "#c51b7d"
            ],
            [
             0.2,
             "#de77ae"
            ],
            [
             0.3,
             "#f1b6da"
            ],
            [
             0.4,
             "#fde0ef"
            ],
            [
             0.5,
             "#f7f7f7"
            ],
            [
             0.6,
             "#e6f5d0"
            ],
            [
             0.7,
             "#b8e186"
            ],
            [
             0.8,
             "#7fbc41"
            ],
            [
             0.9,
             "#4d9221"
            ],
            [
             1,
             "#276419"
            ]
           ],
           "sequential": [
            [
             0,
             "#0d0887"
            ],
            [
             0.1111111111111111,
             "#46039f"
            ],
            [
             0.2222222222222222,
             "#7201a8"
            ],
            [
             0.3333333333333333,
             "#9c179e"
            ],
            [
             0.4444444444444444,
             "#bd3786"
            ],
            [
             0.5555555555555556,
             "#d8576b"
            ],
            [
             0.6666666666666666,
             "#ed7953"
            ],
            [
             0.7777777777777778,
             "#fb9f3a"
            ],
            [
             0.8888888888888888,
             "#fdca26"
            ],
            [
             1,
             "#f0f921"
            ]
           ],
           "sequentialminus": [
            [
             0,
             "#0d0887"
            ],
            [
             0.1111111111111111,
             "#46039f"
            ],
            [
             0.2222222222222222,
             "#7201a8"
            ],
            [
             0.3333333333333333,
             "#9c179e"
            ],
            [
             0.4444444444444444,
             "#bd3786"
            ],
            [
             0.5555555555555556,
             "#d8576b"
            ],
            [
             0.6666666666666666,
             "#ed7953"
            ],
            [
             0.7777777777777778,
             "#fb9f3a"
            ],
            [
             0.8888888888888888,
             "#fdca26"
            ],
            [
             1,
             "#f0f921"
            ]
           ]
          },
          "colorway": [
           "#636efa",
           "#EF553B",
           "#00cc96",
           "#ab63fa",
           "#FFA15A",
           "#19d3f3",
           "#FF6692",
           "#B6E880",
           "#FF97FF",
           "#FECB52"
          ],
          "font": {
           "color": "#2a3f5f"
          },
          "geo": {
           "bgcolor": "white",
           "lakecolor": "white",
           "landcolor": "#E5ECF6",
           "showlakes": true,
           "showland": true,
           "subunitcolor": "white"
          },
          "hoverlabel": {
           "align": "left"
          },
          "hovermode": "closest",
          "mapbox": {
           "style": "light"
          },
          "paper_bgcolor": "white",
          "plot_bgcolor": "#E5ECF6",
          "polar": {
           "angularaxis": {
            "gridcolor": "white",
            "linecolor": "white",
            "ticks": ""
           },
           "bgcolor": "#E5ECF6",
           "radialaxis": {
            "gridcolor": "white",
            "linecolor": "white",
            "ticks": ""
           }
          },
          "scene": {
           "xaxis": {
            "backgroundcolor": "#E5ECF6",
            "gridcolor": "white",
            "gridwidth": 2,
            "linecolor": "white",
            "showbackground": true,
            "ticks": "",
            "zerolinecolor": "white"
           },
           "yaxis": {
            "backgroundcolor": "#E5ECF6",
            "gridcolor": "white",
            "gridwidth": 2,
            "linecolor": "white",
            "showbackground": true,
            "ticks": "",
            "zerolinecolor": "white"
           },
           "zaxis": {
            "backgroundcolor": "#E5ECF6",
            "gridcolor": "white",
            "gridwidth": 2,
            "linecolor": "white",
            "showbackground": true,
            "ticks": "",
            "zerolinecolor": "white"
           }
          },
          "shapedefaults": {
           "line": {
            "color": "#2a3f5f"
           }
          },
          "ternary": {
           "aaxis": {
            "gridcolor": "white",
            "linecolor": "white",
            "ticks": ""
           },
           "baxis": {
            "gridcolor": "white",
            "linecolor": "white",
            "ticks": ""
           },
           "bgcolor": "#E5ECF6",
           "caxis": {
            "gridcolor": "white",
            "linecolor": "white",
            "ticks": ""
           }
          },
          "title": {
           "x": 0.05
          },
          "xaxis": {
           "automargin": true,
           "gridcolor": "white",
           "linecolor": "white",
           "ticks": "",
           "title": {
            "standoff": 15
           },
           "zerolinecolor": "white",
           "zerolinewidth": 2
          },
          "yaxis": {
           "automargin": true,
           "gridcolor": "white",
           "linecolor": "white",
           "ticks": "",
           "title": {
            "standoff": 15
           },
           "zerolinecolor": "white",
           "zerolinewidth": 2
          }
         }
        },
        "title": {
         "text": "Comparaison Avant/Après"
        },
        "xaxis": {
         "title": {
          "text": "Classe"
         }
        },
        "yaxis": {
         "title": {
          "text": "Probabilité de Défaut"
         }
        }
       }
      }
     },
     "metadata": {},
     "output_type": "display_data"
    }
   ],
   "source": [
    "import plotly.graph_objects as go\n",
    "\n",
    "# Données avant et après\n",
    "classes = default_proba_avant['Classe']\n",
    "prob_avant = default_proba_avant['Probabilité_Défaut']\n",
    "prob_apres = default_proba_apres['Probabilité_Défaut']\n",
    "\n",
    "# Calcul des différences\n",
    "diff_prob = [p2 - p1 for p1, p2 in zip(prob_avant, prob_apres)]\n",
    "\n",
    "# Création des traces\n",
    "trace_avant = go.Bar(x=classes, y=prob_avant, name='Avant')\n",
    "trace_apres = go.Bar(x=classes, y=prob_apres, name='Après')\n",
    "trace_diff = go.Bar(x=classes, y=diff_prob, name='Différence')\n",
    "\n",
    "# Création de la figure\n",
    "fig = go.Figure(data=[trace_avant, trace_apres, trace_diff])\n",
    "\n",
    "# Mise en forme du graphique\n",
    "fig.update_layout(\n",
    "    title='Comparaison Avant/Après',\n",
    "    xaxis=dict(title='Classe'),\n",
    "    yaxis=dict(title='Probabilité de Défaut'),\n",
    "    barmode='group'\n",
    ")\n",
    "\n",
    "fig.show()"
   ]
  },
  {
   "cell_type": "code",
   "execution_count": 29,
   "metadata": {},
   "outputs": [
    {
     "data": {
      "application/vnd.plotly.v1+json": {
       "config": {
        "plotlyServerURL": "https://plot.ly"
       },
       "data": [
        {
         "line": {
          "color": "blue"
         },
         "mode": "lines+markers",
         "name": "Avant",
         "type": "scatter",
         "x": [
          1,
          2,
          3,
          4,
          5,
          6,
          7
         ],
         "y": [
          0.128577,
          0.118485,
          0.092382,
          0.077778,
          0.065648,
          0.052819,
          0.045541
         ]
        },
        {
         "line": {
          "color": "red"
         },
         "mode": "lines+markers",
         "name": "Après",
         "type": "scatter",
         "x": [
          1,
          2,
          3,
          4,
          5,
          6,
          7
         ],
         "y": [
          0.122962,
          0.097178,
          0.081835,
          0.065953,
          0.052187,
          0.061589,
          0.038979
         ]
        }
       ],
       "layout": {
        "template": {
         "data": {
          "bar": [
           {
            "error_x": {
             "color": "#2a3f5f"
            },
            "error_y": {
             "color": "#2a3f5f"
            },
            "marker": {
             "line": {
              "color": "#E5ECF6",
              "width": 0.5
             },
             "pattern": {
              "fillmode": "overlay",
              "size": 10,
              "solidity": 0.2
             }
            },
            "type": "bar"
           }
          ],
          "barpolar": [
           {
            "marker": {
             "line": {
              "color": "#E5ECF6",
              "width": 0.5
             },
             "pattern": {
              "fillmode": "overlay",
              "size": 10,
              "solidity": 0.2
             }
            },
            "type": "barpolar"
           }
          ],
          "carpet": [
           {
            "aaxis": {
             "endlinecolor": "#2a3f5f",
             "gridcolor": "white",
             "linecolor": "white",
             "minorgridcolor": "white",
             "startlinecolor": "#2a3f5f"
            },
            "baxis": {
             "endlinecolor": "#2a3f5f",
             "gridcolor": "white",
             "linecolor": "white",
             "minorgridcolor": "white",
             "startlinecolor": "#2a3f5f"
            },
            "type": "carpet"
           }
          ],
          "choropleth": [
           {
            "colorbar": {
             "outlinewidth": 0,
             "ticks": ""
            },
            "type": "choropleth"
           }
          ],
          "contour": [
           {
            "colorbar": {
             "outlinewidth": 0,
             "ticks": ""
            },
            "colorscale": [
             [
              0,
              "#0d0887"
             ],
             [
              0.1111111111111111,
              "#46039f"
             ],
             [
              0.2222222222222222,
              "#7201a8"
             ],
             [
              0.3333333333333333,
              "#9c179e"
             ],
             [
              0.4444444444444444,
              "#bd3786"
             ],
             [
              0.5555555555555556,
              "#d8576b"
             ],
             [
              0.6666666666666666,
              "#ed7953"
             ],
             [
              0.7777777777777778,
              "#fb9f3a"
             ],
             [
              0.8888888888888888,
              "#fdca26"
             ],
             [
              1,
              "#f0f921"
             ]
            ],
            "type": "contour"
           }
          ],
          "contourcarpet": [
           {
            "colorbar": {
             "outlinewidth": 0,
             "ticks": ""
            },
            "type": "contourcarpet"
           }
          ],
          "heatmap": [
           {
            "colorbar": {
             "outlinewidth": 0,
             "ticks": ""
            },
            "colorscale": [
             [
              0,
              "#0d0887"
             ],
             [
              0.1111111111111111,
              "#46039f"
             ],
             [
              0.2222222222222222,
              "#7201a8"
             ],
             [
              0.3333333333333333,
              "#9c179e"
             ],
             [
              0.4444444444444444,
              "#bd3786"
             ],
             [
              0.5555555555555556,
              "#d8576b"
             ],
             [
              0.6666666666666666,
              "#ed7953"
             ],
             [
              0.7777777777777778,
              "#fb9f3a"
             ],
             [
              0.8888888888888888,
              "#fdca26"
             ],
             [
              1,
              "#f0f921"
             ]
            ],
            "type": "heatmap"
           }
          ],
          "heatmapgl": [
           {
            "colorbar": {
             "outlinewidth": 0,
             "ticks": ""
            },
            "colorscale": [
             [
              0,
              "#0d0887"
             ],
             [
              0.1111111111111111,
              "#46039f"
             ],
             [
              0.2222222222222222,
              "#7201a8"
             ],
             [
              0.3333333333333333,
              "#9c179e"
             ],
             [
              0.4444444444444444,
              "#bd3786"
             ],
             [
              0.5555555555555556,
              "#d8576b"
             ],
             [
              0.6666666666666666,
              "#ed7953"
             ],
             [
              0.7777777777777778,
              "#fb9f3a"
             ],
             [
              0.8888888888888888,
              "#fdca26"
             ],
             [
              1,
              "#f0f921"
             ]
            ],
            "type": "heatmapgl"
           }
          ],
          "histogram": [
           {
            "marker": {
             "pattern": {
              "fillmode": "overlay",
              "size": 10,
              "solidity": 0.2
             }
            },
            "type": "histogram"
           }
          ],
          "histogram2d": [
           {
            "colorbar": {
             "outlinewidth": 0,
             "ticks": ""
            },
            "colorscale": [
             [
              0,
              "#0d0887"
             ],
             [
              0.1111111111111111,
              "#46039f"
             ],
             [
              0.2222222222222222,
              "#7201a8"
             ],
             [
              0.3333333333333333,
              "#9c179e"
             ],
             [
              0.4444444444444444,
              "#bd3786"
             ],
             [
              0.5555555555555556,
              "#d8576b"
             ],
             [
              0.6666666666666666,
              "#ed7953"
             ],
             [
              0.7777777777777778,
              "#fb9f3a"
             ],
             [
              0.8888888888888888,
              "#fdca26"
             ],
             [
              1,
              "#f0f921"
             ]
            ],
            "type": "histogram2d"
           }
          ],
          "histogram2dcontour": [
           {
            "colorbar": {
             "outlinewidth": 0,
             "ticks": ""
            },
            "colorscale": [
             [
              0,
              "#0d0887"
             ],
             [
              0.1111111111111111,
              "#46039f"
             ],
             [
              0.2222222222222222,
              "#7201a8"
             ],
             [
              0.3333333333333333,
              "#9c179e"
             ],
             [
              0.4444444444444444,
              "#bd3786"
             ],
             [
              0.5555555555555556,
              "#d8576b"
             ],
             [
              0.6666666666666666,
              "#ed7953"
             ],
             [
              0.7777777777777778,
              "#fb9f3a"
             ],
             [
              0.8888888888888888,
              "#fdca26"
             ],
             [
              1,
              "#f0f921"
             ]
            ],
            "type": "histogram2dcontour"
           }
          ],
          "mesh3d": [
           {
            "colorbar": {
             "outlinewidth": 0,
             "ticks": ""
            },
            "type": "mesh3d"
           }
          ],
          "parcoords": [
           {
            "line": {
             "colorbar": {
              "outlinewidth": 0,
              "ticks": ""
             }
            },
            "type": "parcoords"
           }
          ],
          "pie": [
           {
            "automargin": true,
            "type": "pie"
           }
          ],
          "scatter": [
           {
            "fillpattern": {
             "fillmode": "overlay",
             "size": 10,
             "solidity": 0.2
            },
            "type": "scatter"
           }
          ],
          "scatter3d": [
           {
            "line": {
             "colorbar": {
              "outlinewidth": 0,
              "ticks": ""
             }
            },
            "marker": {
             "colorbar": {
              "outlinewidth": 0,
              "ticks": ""
             }
            },
            "type": "scatter3d"
           }
          ],
          "scattercarpet": [
           {
            "marker": {
             "colorbar": {
              "outlinewidth": 0,
              "ticks": ""
             }
            },
            "type": "scattercarpet"
           }
          ],
          "scattergeo": [
           {
            "marker": {
             "colorbar": {
              "outlinewidth": 0,
              "ticks": ""
             }
            },
            "type": "scattergeo"
           }
          ],
          "scattergl": [
           {
            "marker": {
             "colorbar": {
              "outlinewidth": 0,
              "ticks": ""
             }
            },
            "type": "scattergl"
           }
          ],
          "scattermapbox": [
           {
            "marker": {
             "colorbar": {
              "outlinewidth": 0,
              "ticks": ""
             }
            },
            "type": "scattermapbox"
           }
          ],
          "scatterpolar": [
           {
            "marker": {
             "colorbar": {
              "outlinewidth": 0,
              "ticks": ""
             }
            },
            "type": "scatterpolar"
           }
          ],
          "scatterpolargl": [
           {
            "marker": {
             "colorbar": {
              "outlinewidth": 0,
              "ticks": ""
             }
            },
            "type": "scatterpolargl"
           }
          ],
          "scatterternary": [
           {
            "marker": {
             "colorbar": {
              "outlinewidth": 0,
              "ticks": ""
             }
            },
            "type": "scatterternary"
           }
          ],
          "surface": [
           {
            "colorbar": {
             "outlinewidth": 0,
             "ticks": ""
            },
            "colorscale": [
             [
              0,
              "#0d0887"
             ],
             [
              0.1111111111111111,
              "#46039f"
             ],
             [
              0.2222222222222222,
              "#7201a8"
             ],
             [
              0.3333333333333333,
              "#9c179e"
             ],
             [
              0.4444444444444444,
              "#bd3786"
             ],
             [
              0.5555555555555556,
              "#d8576b"
             ],
             [
              0.6666666666666666,
              "#ed7953"
             ],
             [
              0.7777777777777778,
              "#fb9f3a"
             ],
             [
              0.8888888888888888,
              "#fdca26"
             ],
             [
              1,
              "#f0f921"
             ]
            ],
            "type": "surface"
           }
          ],
          "table": [
           {
            "cells": {
             "fill": {
              "color": "#EBF0F8"
             },
             "line": {
              "color": "white"
             }
            },
            "header": {
             "fill": {
              "color": "#C8D4E3"
             },
             "line": {
              "color": "white"
             }
            },
            "type": "table"
           }
          ]
         },
         "layout": {
          "annotationdefaults": {
           "arrowcolor": "#2a3f5f",
           "arrowhead": 0,
           "arrowwidth": 1
          },
          "autotypenumbers": "strict",
          "coloraxis": {
           "colorbar": {
            "outlinewidth": 0,
            "ticks": ""
           }
          },
          "colorscale": {
           "diverging": [
            [
             0,
             "#8e0152"
            ],
            [
             0.1,
             "#c51b7d"
            ],
            [
             0.2,
             "#de77ae"
            ],
            [
             0.3,
             "#f1b6da"
            ],
            [
             0.4,
             "#fde0ef"
            ],
            [
             0.5,
             "#f7f7f7"
            ],
            [
             0.6,
             "#e6f5d0"
            ],
            [
             0.7,
             "#b8e186"
            ],
            [
             0.8,
             "#7fbc41"
            ],
            [
             0.9,
             "#4d9221"
            ],
            [
             1,
             "#276419"
            ]
           ],
           "sequential": [
            [
             0,
             "#0d0887"
            ],
            [
             0.1111111111111111,
             "#46039f"
            ],
            [
             0.2222222222222222,
             "#7201a8"
            ],
            [
             0.3333333333333333,
             "#9c179e"
            ],
            [
             0.4444444444444444,
             "#bd3786"
            ],
            [
             0.5555555555555556,
             "#d8576b"
            ],
            [
             0.6666666666666666,
             "#ed7953"
            ],
            [
             0.7777777777777778,
             "#fb9f3a"
            ],
            [
             0.8888888888888888,
             "#fdca26"
            ],
            [
             1,
             "#f0f921"
            ]
           ],
           "sequentialminus": [
            [
             0,
             "#0d0887"
            ],
            [
             0.1111111111111111,
             "#46039f"
            ],
            [
             0.2222222222222222,
             "#7201a8"
            ],
            [
             0.3333333333333333,
             "#9c179e"
            ],
            [
             0.4444444444444444,
             "#bd3786"
            ],
            [
             0.5555555555555556,
             "#d8576b"
            ],
            [
             0.6666666666666666,
             "#ed7953"
            ],
            [
             0.7777777777777778,
             "#fb9f3a"
            ],
            [
             0.8888888888888888,
             "#fdca26"
            ],
            [
             1,
             "#f0f921"
            ]
           ]
          },
          "colorway": [
           "#636efa",
           "#EF553B",
           "#00cc96",
           "#ab63fa",
           "#FFA15A",
           "#19d3f3",
           "#FF6692",
           "#B6E880",
           "#FF97FF",
           "#FECB52"
          ],
          "font": {
           "color": "#2a3f5f"
          },
          "geo": {
           "bgcolor": "white",
           "lakecolor": "white",
           "landcolor": "#E5ECF6",
           "showlakes": true,
           "showland": true,
           "subunitcolor": "white"
          },
          "hoverlabel": {
           "align": "left"
          },
          "hovermode": "closest",
          "mapbox": {
           "style": "light"
          },
          "paper_bgcolor": "white",
          "plot_bgcolor": "#E5ECF6",
          "polar": {
           "angularaxis": {
            "gridcolor": "white",
            "linecolor": "white",
            "ticks": ""
           },
           "bgcolor": "#E5ECF6",
           "radialaxis": {
            "gridcolor": "white",
            "linecolor": "white",
            "ticks": ""
           }
          },
          "scene": {
           "xaxis": {
            "backgroundcolor": "#E5ECF6",
            "gridcolor": "white",
            "gridwidth": 2,
            "linecolor": "white",
            "showbackground": true,
            "ticks": "",
            "zerolinecolor": "white"
           },
           "yaxis": {
            "backgroundcolor": "#E5ECF6",
            "gridcolor": "white",
            "gridwidth": 2,
            "linecolor": "white",
            "showbackground": true,
            "ticks": "",
            "zerolinecolor": "white"
           },
           "zaxis": {
            "backgroundcolor": "#E5ECF6",
            "gridcolor": "white",
            "gridwidth": 2,
            "linecolor": "white",
            "showbackground": true,
            "ticks": "",
            "zerolinecolor": "white"
           }
          },
          "shapedefaults": {
           "line": {
            "color": "#2a3f5f"
           }
          },
          "ternary": {
           "aaxis": {
            "gridcolor": "white",
            "linecolor": "white",
            "ticks": ""
           },
           "baxis": {
            "gridcolor": "white",
            "linecolor": "white",
            "ticks": ""
           },
           "bgcolor": "#E5ECF6",
           "caxis": {
            "gridcolor": "white",
            "linecolor": "white",
            "ticks": ""
           }
          },
          "title": {
           "x": 0.05
          },
          "xaxis": {
           "automargin": true,
           "gridcolor": "white",
           "linecolor": "white",
           "ticks": "",
           "title": {
            "standoff": 15
           },
           "zerolinecolor": "white",
           "zerolinewidth": 2
          },
          "yaxis": {
           "automargin": true,
           "gridcolor": "white",
           "linecolor": "white",
           "ticks": "",
           "title": {
            "standoff": 15
           },
           "zerolinecolor": "white",
           "zerolinewidth": 2
          }
         }
        },
        "title": {
         "text": "Probabilité de Défaut par Classe"
        },
        "xaxis": {
         "title": {
          "text": "Classe"
         }
        },
        "yaxis": {
         "title": {
          "text": "Probabilité de Défaut"
         }
        }
       }
      }
     },
     "metadata": {},
     "output_type": "display_data"
    },
    {
     "data": {
      "application/vnd.plotly.v1+json": {
       "config": {
        "plotlyServerURL": "https://plot.ly"
       },
       "data": [
        {
         "marker": {
          "color": "green"
         },
         "type": "bar",
         "x": [
          1,
          2,
          3,
          4,
          5,
          6,
          7
         ],
         "y": [
          0.005614999999999995,
          0.021306999999999993,
          0.010547,
          0.011825000000000002,
          0.013461,
          -0.00877,
          0.006561999999999998
         ]
        }
       ],
       "layout": {
        "template": {
         "data": {
          "bar": [
           {
            "error_x": {
             "color": "#2a3f5f"
            },
            "error_y": {
             "color": "#2a3f5f"
            },
            "marker": {
             "line": {
              "color": "#E5ECF6",
              "width": 0.5
             },
             "pattern": {
              "fillmode": "overlay",
              "size": 10,
              "solidity": 0.2
             }
            },
            "type": "bar"
           }
          ],
          "barpolar": [
           {
            "marker": {
             "line": {
              "color": "#E5ECF6",
              "width": 0.5
             },
             "pattern": {
              "fillmode": "overlay",
              "size": 10,
              "solidity": 0.2
             }
            },
            "type": "barpolar"
           }
          ],
          "carpet": [
           {
            "aaxis": {
             "endlinecolor": "#2a3f5f",
             "gridcolor": "white",
             "linecolor": "white",
             "minorgridcolor": "white",
             "startlinecolor": "#2a3f5f"
            },
            "baxis": {
             "endlinecolor": "#2a3f5f",
             "gridcolor": "white",
             "linecolor": "white",
             "minorgridcolor": "white",
             "startlinecolor": "#2a3f5f"
            },
            "type": "carpet"
           }
          ],
          "choropleth": [
           {
            "colorbar": {
             "outlinewidth": 0,
             "ticks": ""
            },
            "type": "choropleth"
           }
          ],
          "contour": [
           {
            "colorbar": {
             "outlinewidth": 0,
             "ticks": ""
            },
            "colorscale": [
             [
              0,
              "#0d0887"
             ],
             [
              0.1111111111111111,
              "#46039f"
             ],
             [
              0.2222222222222222,
              "#7201a8"
             ],
             [
              0.3333333333333333,
              "#9c179e"
             ],
             [
              0.4444444444444444,
              "#bd3786"
             ],
             [
              0.5555555555555556,
              "#d8576b"
             ],
             [
              0.6666666666666666,
              "#ed7953"
             ],
             [
              0.7777777777777778,
              "#fb9f3a"
             ],
             [
              0.8888888888888888,
              "#fdca26"
             ],
             [
              1,
              "#f0f921"
             ]
            ],
            "type": "contour"
           }
          ],
          "contourcarpet": [
           {
            "colorbar": {
             "outlinewidth": 0,
             "ticks": ""
            },
            "type": "contourcarpet"
           }
          ],
          "heatmap": [
           {
            "colorbar": {
             "outlinewidth": 0,
             "ticks": ""
            },
            "colorscale": [
             [
              0,
              "#0d0887"
             ],
             [
              0.1111111111111111,
              "#46039f"
             ],
             [
              0.2222222222222222,
              "#7201a8"
             ],
             [
              0.3333333333333333,
              "#9c179e"
             ],
             [
              0.4444444444444444,
              "#bd3786"
             ],
             [
              0.5555555555555556,
              "#d8576b"
             ],
             [
              0.6666666666666666,
              "#ed7953"
             ],
             [
              0.7777777777777778,
              "#fb9f3a"
             ],
             [
              0.8888888888888888,
              "#fdca26"
             ],
             [
              1,
              "#f0f921"
             ]
            ],
            "type": "heatmap"
           }
          ],
          "heatmapgl": [
           {
            "colorbar": {
             "outlinewidth": 0,
             "ticks": ""
            },
            "colorscale": [
             [
              0,
              "#0d0887"
             ],
             [
              0.1111111111111111,
              "#46039f"
             ],
             [
              0.2222222222222222,
              "#7201a8"
             ],
             [
              0.3333333333333333,
              "#9c179e"
             ],
             [
              0.4444444444444444,
              "#bd3786"
             ],
             [
              0.5555555555555556,
              "#d8576b"
             ],
             [
              0.6666666666666666,
              "#ed7953"
             ],
             [
              0.7777777777777778,
              "#fb9f3a"
             ],
             [
              0.8888888888888888,
              "#fdca26"
             ],
             [
              1,
              "#f0f921"
             ]
            ],
            "type": "heatmapgl"
           }
          ],
          "histogram": [
           {
            "marker": {
             "pattern": {
              "fillmode": "overlay",
              "size": 10,
              "solidity": 0.2
             }
            },
            "type": "histogram"
           }
          ],
          "histogram2d": [
           {
            "colorbar": {
             "outlinewidth": 0,
             "ticks": ""
            },
            "colorscale": [
             [
              0,
              "#0d0887"
             ],
             [
              0.1111111111111111,
              "#46039f"
             ],
             [
              0.2222222222222222,
              "#7201a8"
             ],
             [
              0.3333333333333333,
              "#9c179e"
             ],
             [
              0.4444444444444444,
              "#bd3786"
             ],
             [
              0.5555555555555556,
              "#d8576b"
             ],
             [
              0.6666666666666666,
              "#ed7953"
             ],
             [
              0.7777777777777778,
              "#fb9f3a"
             ],
             [
              0.8888888888888888,
              "#fdca26"
             ],
             [
              1,
              "#f0f921"
             ]
            ],
            "type": "histogram2d"
           }
          ],
          "histogram2dcontour": [
           {
            "colorbar": {
             "outlinewidth": 0,
             "ticks": ""
            },
            "colorscale": [
             [
              0,
              "#0d0887"
             ],
             [
              0.1111111111111111,
              "#46039f"
             ],
             [
              0.2222222222222222,
              "#7201a8"
             ],
             [
              0.3333333333333333,
              "#9c179e"
             ],
             [
              0.4444444444444444,
              "#bd3786"
             ],
             [
              0.5555555555555556,
              "#d8576b"
             ],
             [
              0.6666666666666666,
              "#ed7953"
             ],
             [
              0.7777777777777778,
              "#fb9f3a"
             ],
             [
              0.8888888888888888,
              "#fdca26"
             ],
             [
              1,
              "#f0f921"
             ]
            ],
            "type": "histogram2dcontour"
           }
          ],
          "mesh3d": [
           {
            "colorbar": {
             "outlinewidth": 0,
             "ticks": ""
            },
            "type": "mesh3d"
           }
          ],
          "parcoords": [
           {
            "line": {
             "colorbar": {
              "outlinewidth": 0,
              "ticks": ""
             }
            },
            "type": "parcoords"
           }
          ],
          "pie": [
           {
            "automargin": true,
            "type": "pie"
           }
          ],
          "scatter": [
           {
            "fillpattern": {
             "fillmode": "overlay",
             "size": 10,
             "solidity": 0.2
            },
            "type": "scatter"
           }
          ],
          "scatter3d": [
           {
            "line": {
             "colorbar": {
              "outlinewidth": 0,
              "ticks": ""
             }
            },
            "marker": {
             "colorbar": {
              "outlinewidth": 0,
              "ticks": ""
             }
            },
            "type": "scatter3d"
           }
          ],
          "scattercarpet": [
           {
            "marker": {
             "colorbar": {
              "outlinewidth": 0,
              "ticks": ""
             }
            },
            "type": "scattercarpet"
           }
          ],
          "scattergeo": [
           {
            "marker": {
             "colorbar": {
              "outlinewidth": 0,
              "ticks": ""
             }
            },
            "type": "scattergeo"
           }
          ],
          "scattergl": [
           {
            "marker": {
             "colorbar": {
              "outlinewidth": 0,
              "ticks": ""
             }
            },
            "type": "scattergl"
           }
          ],
          "scattermapbox": [
           {
            "marker": {
             "colorbar": {
              "outlinewidth": 0,
              "ticks": ""
             }
            },
            "type": "scattermapbox"
           }
          ],
          "scatterpolar": [
           {
            "marker": {
             "colorbar": {
              "outlinewidth": 0,
              "ticks": ""
             }
            },
            "type": "scatterpolar"
           }
          ],
          "scatterpolargl": [
           {
            "marker": {
             "colorbar": {
              "outlinewidth": 0,
              "ticks": ""
             }
            },
            "type": "scatterpolargl"
           }
          ],
          "scatterternary": [
           {
            "marker": {
             "colorbar": {
              "outlinewidth": 0,
              "ticks": ""
             }
            },
            "type": "scatterternary"
           }
          ],
          "surface": [
           {
            "colorbar": {
             "outlinewidth": 0,
             "ticks": ""
            },
            "colorscale": [
             [
              0,
              "#0d0887"
             ],
             [
              0.1111111111111111,
              "#46039f"
             ],
             [
              0.2222222222222222,
              "#7201a8"
             ],
             [
              0.3333333333333333,
              "#9c179e"
             ],
             [
              0.4444444444444444,
              "#bd3786"
             ],
             [
              0.5555555555555556,
              "#d8576b"
             ],
             [
              0.6666666666666666,
              "#ed7953"
             ],
             [
              0.7777777777777778,
              "#fb9f3a"
             ],
             [
              0.8888888888888888,
              "#fdca26"
             ],
             [
              1,
              "#f0f921"
             ]
            ],
            "type": "surface"
           }
          ],
          "table": [
           {
            "cells": {
             "fill": {
              "color": "#EBF0F8"
             },
             "line": {
              "color": "white"
             }
            },
            "header": {
             "fill": {
              "color": "#C8D4E3"
             },
             "line": {
              "color": "white"
             }
            },
            "type": "table"
           }
          ]
         },
         "layout": {
          "annotationdefaults": {
           "arrowcolor": "#2a3f5f",
           "arrowhead": 0,
           "arrowwidth": 1
          },
          "autotypenumbers": "strict",
          "coloraxis": {
           "colorbar": {
            "outlinewidth": 0,
            "ticks": ""
           }
          },
          "colorscale": {
           "diverging": [
            [
             0,
             "#8e0152"
            ],
            [
             0.1,
             "#c51b7d"
            ],
            [
             0.2,
             "#de77ae"
            ],
            [
             0.3,
             "#f1b6da"
            ],
            [
             0.4,
             "#fde0ef"
            ],
            [
             0.5,
             "#f7f7f7"
            ],
            [
             0.6,
             "#e6f5d0"
            ],
            [
             0.7,
             "#b8e186"
            ],
            [
             0.8,
             "#7fbc41"
            ],
            [
             0.9,
             "#4d9221"
            ],
            [
             1,
             "#276419"
            ]
           ],
           "sequential": [
            [
             0,
             "#0d0887"
            ],
            [
             0.1111111111111111,
             "#46039f"
            ],
            [
             0.2222222222222222,
             "#7201a8"
            ],
            [
             0.3333333333333333,
             "#9c179e"
            ],
            [
             0.4444444444444444,
             "#bd3786"
            ],
            [
             0.5555555555555556,
             "#d8576b"
            ],
            [
             0.6666666666666666,
             "#ed7953"
            ],
            [
             0.7777777777777778,
             "#fb9f3a"
            ],
            [
             0.8888888888888888,
             "#fdca26"
            ],
            [
             1,
             "#f0f921"
            ]
           ],
           "sequentialminus": [
            [
             0,
             "#0d0887"
            ],
            [
             0.1111111111111111,
             "#46039f"
            ],
            [
             0.2222222222222222,
             "#7201a8"
            ],
            [
             0.3333333333333333,
             "#9c179e"
            ],
            [
             0.4444444444444444,
             "#bd3786"
            ],
            [
             0.5555555555555556,
             "#d8576b"
            ],
            [
             0.6666666666666666,
             "#ed7953"
            ],
            [
             0.7777777777777778,
             "#fb9f3a"
            ],
            [
             0.8888888888888888,
             "#fdca26"
            ],
            [
             1,
             "#f0f921"
            ]
           ]
          },
          "colorway": [
           "#636efa",
           "#EF553B",
           "#00cc96",
           "#ab63fa",
           "#FFA15A",
           "#19d3f3",
           "#FF6692",
           "#B6E880",
           "#FF97FF",
           "#FECB52"
          ],
          "font": {
           "color": "#2a3f5f"
          },
          "geo": {
           "bgcolor": "white",
           "lakecolor": "white",
           "landcolor": "#E5ECF6",
           "showlakes": true,
           "showland": true,
           "subunitcolor": "white"
          },
          "hoverlabel": {
           "align": "left"
          },
          "hovermode": "closest",
          "mapbox": {
           "style": "light"
          },
          "paper_bgcolor": "white",
          "plot_bgcolor": "#E5ECF6",
          "polar": {
           "angularaxis": {
            "gridcolor": "white",
            "linecolor": "white",
            "ticks": ""
           },
           "bgcolor": "#E5ECF6",
           "radialaxis": {
            "gridcolor": "white",
            "linecolor": "white",
            "ticks": ""
           }
          },
          "scene": {
           "xaxis": {
            "backgroundcolor": "#E5ECF6",
            "gridcolor": "white",
            "gridwidth": 2,
            "linecolor": "white",
            "showbackground": true,
            "ticks": "",
            "zerolinecolor": "white"
           },
           "yaxis": {
            "backgroundcolor": "#E5ECF6",
            "gridcolor": "white",
            "gridwidth": 2,
            "linecolor": "white",
            "showbackground": true,
            "ticks": "",
            "zerolinecolor": "white"
           },
           "zaxis": {
            "backgroundcolor": "#E5ECF6",
            "gridcolor": "white",
            "gridwidth": 2,
            "linecolor": "white",
            "showbackground": true,
            "ticks": "",
            "zerolinecolor": "white"
           }
          },
          "shapedefaults": {
           "line": {
            "color": "#2a3f5f"
           }
          },
          "ternary": {
           "aaxis": {
            "gridcolor": "white",
            "linecolor": "white",
            "ticks": ""
           },
           "baxis": {
            "gridcolor": "white",
            "linecolor": "white",
            "ticks": ""
           },
           "bgcolor": "#E5ECF6",
           "caxis": {
            "gridcolor": "white",
            "linecolor": "white",
            "ticks": ""
           }
          },
          "title": {
           "x": 0.05
          },
          "xaxis": {
           "automargin": true,
           "gridcolor": "white",
           "linecolor": "white",
           "ticks": "",
           "title": {
            "standoff": 15
           },
           "zerolinecolor": "white",
           "zerolinewidth": 2
          },
          "yaxis": {
           "automargin": true,
           "gridcolor": "white",
           "linecolor": "white",
           "ticks": "",
           "title": {
            "standoff": 15
           },
           "zerolinecolor": "white",
           "zerolinewidth": 2
          }
         }
        },
        "title": {
         "text": "Différence de Probabilité de Défaut (Avant - Après)"
        },
        "xaxis": {
         "title": {
          "text": "Classe"
         }
        },
        "yaxis": {
         "title": {
          "text": "Différence de Probabilité de Défaut"
         }
        }
       }
      }
     },
     "metadata": {},
     "output_type": "display_data"
    }
   ],
   "source": [
    "trace_avant = go.Scatter(x=classes, y=prob_avant, mode='lines+markers', name='Avant', line=dict(color='blue'))\n",
    "trace_apres = go.Scatter(x=classes, y=prob_apres, mode='lines+markers', name='Après', line=dict(color='red'))\n",
    "\n",
    "# Création du graphique pour les probabilités de défaut avant et après\n",
    "fig1 = go.Figure(data=[trace_avant, trace_apres])\n",
    "fig1.update_layout(title='Probabilité de Défaut par Classe',\n",
    "                   xaxis_title='Classe',\n",
    "                   yaxis_title='Probabilité de Défaut')\n",
    "\n",
    "# Création du graphique pour la différence de probabilité de défaut\n",
    "fig2 = go.Figure([go.Bar(x=classes, y=diff_prob, marker=dict(color='green'))])\n",
    "fig2.update_layout(title='Différence de Probabilité de Défaut (Avant - Après)',\n",
    "                   xaxis_title='Classe',\n",
    "                   yaxis_title='Différence de Probabilité de Défaut')\n",
    "\n",
    "# Affichage des graphiques\n",
    "fig1.show()\n",
    "fig2.show()"
   ]
  }
 ],
 "metadata": {
  "kernelspec": {
   "display_name": "venv",
   "language": "python",
   "name": "python3"
  },
  "language_info": {
   "codemirror_mode": {
    "name": "ipython",
    "version": 3
   },
   "file_extension": ".py",
   "mimetype": "text/x-python",
   "name": "python",
   "nbconvert_exporter": "python",
   "pygments_lexer": "ipython3",
   "version": "3.10.11"
  }
 },
 "nbformat": 4,
 "nbformat_minor": 2
}
