{
 "cells": [
  {
   "cell_type": "code",
   "execution_count": 1,
   "id": "initial_id",
   "metadata": {
    "collapsed": true,
    "ExecuteTime": {
     "end_time": "2024-02-26T14:51:28.961474Z",
     "start_time": "2024-02-26T14:51:28.575960Z"
    }
   },
   "outputs": [],
   "source": [
    "import pandas as pd\n",
    "import numpy as np"
   ]
  },
  {
   "cell_type": "code",
   "execution_count": 2,
   "outputs": [],
   "source": [
    "df = pd.read_csv(\"../../data/df_segmentation.csv\", index_col=[0])\n",
    "df[\"date_mensuelle\"] = pd.to_datetime(df[\"date_mensuelle\"])"
   ],
   "metadata": {
    "collapsed": false,
    "ExecuteTime": {
     "end_time": "2024-02-26T14:51:29.693067Z",
     "start_time": "2024-02-26T14:51:28.960554Z"
    }
   },
   "id": "d28f6fe35024c091"
  },
  {
   "cell_type": "markdown",
   "source": [
    "# MOC C"
   ],
   "metadata": {
    "collapsed": false
   },
   "id": "e91a3a799ebe862b"
  },
  {
   "cell_type": "code",
   "execution_count": 3,
   "outputs": [],
   "source": [
    "resultats = df.groupby(\"Classes\").agg(moyenne_TARGET=(\"TARGET\", \"mean\")).to_dict()[\"moyenne_TARGET\"]"
   ],
   "metadata": {
    "collapsed": false,
    "ExecuteTime": {
     "end_time": "2024-02-26T14:51:29.904798Z",
     "start_time": "2024-02-26T14:51:29.898614Z"
    }
   },
   "id": "fc22be3053d435d2"
  },
  {
   "cell_type": "code",
   "execution_count": 4,
   "outputs": [
    {
     "data": {
      "text/plain": "{1: 0.17558199689601656,\n 2: 0.11039856923863056,\n 3: 0.0796209282499653,\n 4: 0.06726292921028129,\n 5: 0.050026666666666664,\n 6: 0.0385176539247155,\n 7: 0.03720294586591755}"
     },
     "execution_count": 4,
     "metadata": {},
     "output_type": "execute_result"
    }
   ],
   "source": [
    "resultats"
   ],
   "metadata": {
    "collapsed": false,
    "ExecuteTime": {
     "end_time": "2024-02-26T14:51:30.364325Z",
     "start_time": "2024-02-26T14:51:30.357548Z"
    }
   },
   "id": "4164ff9f89c66551"
  },
  {
   "cell_type": "code",
   "execution_count": 5,
   "outputs": [],
   "source": [
    "def Boostrapping_Classes(classe):\n",
    "    df_classe = df[df['Classes'] == classe]\n",
    "    tx_defaut_liste = []\n",
    "\n",
    "    for _ in range(1000):\n",
    "        echantillon = df_classe[\"TARGET\"].sample(n=len(df_classe), replace=True)\n",
    "        tx_defaut_liste.append(echantillon.mean())\n",
    "        \n",
    "    tx_defaut_liste = np.array(tx_defaut_liste)\n",
    "\n",
    "    decile9 = np.percentile(tx_defaut_liste, 90)\n",
    "\n",
    "    MOC_C = decile9 - resultats[classe]\n",
    "    \n",
    "    return(classe, resultats[classe], decile9, MOC_C)"
   ],
   "metadata": {
    "collapsed": false,
    "ExecuteTime": {
     "end_time": "2024-02-26T14:51:30.475894Z",
     "start_time": "2024-02-26T14:51:30.467823Z"
    }
   },
   "id": "d407000f977faabf"
  },
  {
   "cell_type": "code",
   "execution_count": 6,
   "outputs": [],
   "source": [
    "MOC_C = pd.DataFrame(columns = [\"Classe\", \"LRA\", \"Décile9\", \"Moc_C\"])"
   ],
   "metadata": {
    "collapsed": false,
    "ExecuteTime": {
     "end_time": "2024-02-26T14:51:30.598379Z",
     "start_time": "2024-02-26T14:51:30.591723Z"
    }
   },
   "id": "934435464fc9ae6b"
  },
  {
   "cell_type": "code",
   "execution_count": 7,
   "outputs": [],
   "source": [
    "for i in range(1,8):\n",
    "    classe, LRA, decile9, MOC_C_classe = Boostrapping_Classes(i)\n",
    "    MOC_C.loc[len(MOC_C)] = [classe, LRA, decile9, MOC_C_classe]"
   ],
   "metadata": {
    "collapsed": false,
    "ExecuteTime": {
     "end_time": "2024-02-26T14:51:35.515074Z",
     "start_time": "2024-02-26T14:51:30.604279Z"
    }
   },
   "id": "cc909699ebc2913f"
  },
  {
   "cell_type": "code",
   "execution_count": 8,
   "outputs": [
    {
     "data": {
      "text/plain": "   Classe       LRA   Décile9     Moc_C\n0     1.0  0.175582  0.180341  0.004759\n1     2.0  0.110399  0.111884  0.001486\n2     3.0  0.079621  0.081227  0.001606\n3     4.0  0.067263  0.068406  0.001143\n4     5.0  0.050027  0.051200  0.001173\n5     6.0  0.038518  0.040050  0.001532\n6     7.0  0.037203  0.039329  0.002126",
      "text/html": "<div>\n<style scoped>\n    .dataframe tbody tr th:only-of-type {\n        vertical-align: middle;\n    }\n\n    .dataframe tbody tr th {\n        vertical-align: top;\n    }\n\n    .dataframe thead th {\n        text-align: right;\n    }\n</style>\n<table border=\"1\" class=\"dataframe\">\n  <thead>\n    <tr style=\"text-align: right;\">\n      <th></th>\n      <th>Classe</th>\n      <th>LRA</th>\n      <th>Décile9</th>\n      <th>Moc_C</th>\n    </tr>\n  </thead>\n  <tbody>\n    <tr>\n      <th>0</th>\n      <td>1.0</td>\n      <td>0.175582</td>\n      <td>0.180341</td>\n      <td>0.004759</td>\n    </tr>\n    <tr>\n      <th>1</th>\n      <td>2.0</td>\n      <td>0.110399</td>\n      <td>0.111884</td>\n      <td>0.001486</td>\n    </tr>\n    <tr>\n      <th>2</th>\n      <td>3.0</td>\n      <td>0.079621</td>\n      <td>0.081227</td>\n      <td>0.001606</td>\n    </tr>\n    <tr>\n      <th>3</th>\n      <td>4.0</td>\n      <td>0.067263</td>\n      <td>0.068406</td>\n      <td>0.001143</td>\n    </tr>\n    <tr>\n      <th>4</th>\n      <td>5.0</td>\n      <td>0.050027</td>\n      <td>0.051200</td>\n      <td>0.001173</td>\n    </tr>\n    <tr>\n      <th>5</th>\n      <td>6.0</td>\n      <td>0.038518</td>\n      <td>0.040050</td>\n      <td>0.001532</td>\n    </tr>\n    <tr>\n      <th>6</th>\n      <td>7.0</td>\n      <td>0.037203</td>\n      <td>0.039329</td>\n      <td>0.002126</td>\n    </tr>\n  </tbody>\n</table>\n</div>"
     },
     "execution_count": 8,
     "metadata": {},
     "output_type": "execute_result"
    }
   ],
   "source": [
    "MOC_C"
   ],
   "metadata": {
    "collapsed": false,
    "ExecuteTime": {
     "end_time": "2024-02-26T14:51:35.525124Z",
     "start_time": "2024-02-26T14:51:35.517298Z"
    }
   },
   "id": "e69ff148f41720c6"
  },
  {
   "cell_type": "markdown",
   "source": [
    "# MOC A\n",
    "### Valeurs manquantes dans les variables explicatives"
   ],
   "metadata": {
    "collapsed": false
   },
   "id": "68069f1e267d46fa"
  },
  {
   "cell_type": "code",
   "execution_count": 9,
   "outputs": [],
   "source": [
    "var_explicatives = ['REGION_RATING_CLIENT_W_CITY', 'DAYS_CREDIT_ENDDATE', 'RATE_DOWN_PAYMENT', 'AMT_PAYMENT', 'NAME_INCOME_TYPE', 'OCCUPATION_TYPE']"
   ],
   "metadata": {
    "collapsed": false,
    "ExecuteTime": {
     "end_time": "2024-02-26T14:51:35.525441Z",
     "start_time": "2024-02-26T14:51:35.522774Z"
    }
   },
   "id": "e3943a41144152a5"
  },
  {
   "cell_type": "code",
   "execution_count": 11,
   "outputs": [],
   "source": [
    "train = pd.read_csv(\"../../data/application_train_vf.csv\")\n",
    "df_bur = pd.read_csv('../../data/bureau.csv')\n",
    "df_bur_group = df_bur[['DAYS_CREDIT_ENDDATE', 'SK_ID_CURR']].groupby('SK_ID_CURR').sum()\n",
    "df_bur_group.reset_index(inplace=True)\n",
    "\n",
    "df_prev = pd.read_csv('../../data/previous_application.csv')\n",
    "df_prev_group = df_prev[['SK_ID_CURR', 'DAYS_FIRST_DRAWING', 'RATE_DOWN_PAYMENT']].groupby(\n",
    "    'SK_ID_CURR').sum()\n",
    "df_prev_group.reset_index(inplace=True)\n",
    "\n",
    "df_ins = pd.read_csv('../../data/installments_payments.csv')\n",
    "df_ins_group = df_ins[['SK_ID_CURR', 'AMT_PAYMENT']].groupby('SK_ID_CURR').sum()\n",
    "df_ins_group.reset_index(inplace=True)\n",
    "\n",
    "train = train.merge(df_bur_group, on='SK_ID_CURR', how='left')\n",
    "train = train.merge(df_prev_group, on='SK_ID_CURR', how='left')\n",
    "train = train.merge(df_ins_group, on='SK_ID_CURR', how='left')"
   ],
   "metadata": {
    "collapsed": false,
    "ExecuteTime": {
     "end_time": "2024-02-26T14:52:04.935726Z",
     "start_time": "2024-02-26T14:51:52.138266Z"
    }
   },
   "id": "d59f33e7aa2ecd89"
  },
  {
   "cell_type": "code",
   "execution_count": 12,
   "outputs": [
    {
     "data": {
      "text/plain": "REGION_RATING_CLIENT_W_CITY        0\nDAYS_CREDIT_ENDDATE            43764\nRATE_DOWN_PAYMENT              16395\nAMT_PAYMENT                    15810\nNAME_INCOME_TYPE                   0\nOCCUPATION_TYPE                96049\ndtype: int64"
     },
     "execution_count": 12,
     "metadata": {},
     "output_type": "execute_result"
    }
   ],
   "source": [
    "train[var_explicatives].isna().sum()"
   ],
   "metadata": {
    "collapsed": false,
    "ExecuteTime": {
     "end_time": "2024-02-26T14:52:04.962924Z",
     "start_time": "2024-02-26T14:52:04.934272Z"
    }
   },
   "id": "c6694a21c5272417"
  },
  {
   "cell_type": "markdown",
   "source": [
    "### Période Manquante"
   ],
   "metadata": {
    "collapsed": false
   },
   "id": "958c1738dec3edfa"
  },
  {
   "cell_type": "code",
   "execution_count": 13,
   "outputs": [],
   "source": [
    "max_year = df[\"date_mensuelle\"].dt.year.max()\n",
    "min_year = df[\"date_mensuelle\"].dt.year.min()"
   ],
   "metadata": {
    "collapsed": false,
    "ExecuteTime": {
     "end_time": "2024-02-26T14:52:04.972971Z",
     "start_time": "2024-02-26T14:52:04.961479Z"
    }
   },
   "id": "bcbf201af3252123"
  },
  {
   "cell_type": "code",
   "execution_count": 14,
   "outputs": [
    {
     "name": "stdout",
     "output_type": "stream",
     "text": [
      "Périodes manquantes dans les données : set()\n"
     ]
    }
   ],
   "source": [
    "periodes_attendues = [f\"{year}_{quarter}\" for year in range(min_year, max_year) for quarter in range(1, 5)]\n",
    "periodes_reelles = df['date_trimestrielle'].unique()\n",
    "\n",
    "periodes_manquantes = set(periodes_attendues) - set(periodes_reelles)\n",
    "print(\"Périodes manquantes dans les données :\", periodes_manquantes)"
   ],
   "metadata": {
    "collapsed": false,
    "ExecuteTime": {
     "end_time": "2024-02-26T14:52:04.987645Z",
     "start_time": "2024-02-26T14:52:04.980718Z"
    }
   },
   "id": "9d2b281e8e264e53"
  },
  {
   "cell_type": "markdown",
   "source": [
    "### Crise Covid"
   ],
   "metadata": {
    "collapsed": false
   },
   "id": "7d4ecd6c7bba4990"
  },
  {
   "cell_type": "code",
   "execution_count": 15,
   "outputs": [],
   "source": [
    "df['periode_crise_covid'] = ((df['date_trimestrielle'] == '2020_1') | (df['date_trimestrielle'] == '2020_2'))\n",
    "\n",
    "sans_covid = df[df['periode_crise_covid'] == False].copy()"
   ],
   "metadata": {
    "collapsed": false,
    "ExecuteTime": {
     "end_time": "2024-02-26T14:52:05.118868Z",
     "start_time": "2024-02-26T14:52:05.005473Z"
    }
   },
   "id": "a63973b110adcbf6"
  },
  {
   "cell_type": "code",
   "execution_count": 16,
   "outputs": [],
   "source": [
    "Covid_défaut = pd.DataFrame(columns = [\"Classe\", \"Taux avec Covid\", \"Taux sans Covid\", \"Marge Conservatisme (%)\"])"
   ],
   "metadata": {
    "collapsed": false,
    "ExecuteTime": {
     "end_time": "2024-02-26T14:52:05.124341Z",
     "start_time": "2024-02-26T14:52:05.120850Z"
    }
   },
   "id": "20b0edd21401fbb7"
  },
  {
   "cell_type": "code",
   "execution_count": 17,
   "outputs": [],
   "source": [
    "for i in range(1,8):\n",
    "    tx_ss_covid = sans_covid[sans_covid[\"Classes\"]==i][\"TARGET\"].mean()\n",
    "    marge = ((tx_ss_covid/resultats[i])-1)*100\n",
    "    Covid_défaut.loc[len(Covid_défaut)] = [i, resultats[i], tx_ss_covid, marge]"
   ],
   "metadata": {
    "collapsed": false,
    "ExecuteTime": {
     "end_time": "2024-02-26T14:52:05.204336Z",
     "start_time": "2024-02-26T14:52:05.125060Z"
    }
   },
   "id": "c31fc046d67dd4d2"
  },
  {
   "cell_type": "code",
   "execution_count": 18,
   "outputs": [
    {
     "data": {
      "text/plain": "   Classe  Taux avec Covid  Taux sans Covid  Marge Conservatisme (%)\n0     1.0         0.175582         0.175284                -0.169793\n1     2.0         0.110399         0.110143                -0.231685\n2     3.0         0.079621         0.079729                 0.136291\n3     4.0         0.067263         0.067335                 0.106997\n4     5.0         0.050027         0.050113                 0.172120\n5     6.0         0.038518         0.038307                -0.546085\n6     7.0         0.037203         0.037127                -0.204379",
      "text/html": "<div>\n<style scoped>\n    .dataframe tbody tr th:only-of-type {\n        vertical-align: middle;\n    }\n\n    .dataframe tbody tr th {\n        vertical-align: top;\n    }\n\n    .dataframe thead th {\n        text-align: right;\n    }\n</style>\n<table border=\"1\" class=\"dataframe\">\n  <thead>\n    <tr style=\"text-align: right;\">\n      <th></th>\n      <th>Classe</th>\n      <th>Taux avec Covid</th>\n      <th>Taux sans Covid</th>\n      <th>Marge Conservatisme (%)</th>\n    </tr>\n  </thead>\n  <tbody>\n    <tr>\n      <th>0</th>\n      <td>1.0</td>\n      <td>0.175582</td>\n      <td>0.175284</td>\n      <td>-0.169793</td>\n    </tr>\n    <tr>\n      <th>1</th>\n      <td>2.0</td>\n      <td>0.110399</td>\n      <td>0.110143</td>\n      <td>-0.231685</td>\n    </tr>\n    <tr>\n      <th>2</th>\n      <td>3.0</td>\n      <td>0.079621</td>\n      <td>0.079729</td>\n      <td>0.136291</td>\n    </tr>\n    <tr>\n      <th>3</th>\n      <td>4.0</td>\n      <td>0.067263</td>\n      <td>0.067335</td>\n      <td>0.106997</td>\n    </tr>\n    <tr>\n      <th>4</th>\n      <td>5.0</td>\n      <td>0.050027</td>\n      <td>0.050113</td>\n      <td>0.172120</td>\n    </tr>\n    <tr>\n      <th>5</th>\n      <td>6.0</td>\n      <td>0.038518</td>\n      <td>0.038307</td>\n      <td>-0.546085</td>\n    </tr>\n    <tr>\n      <th>6</th>\n      <td>7.0</td>\n      <td>0.037203</td>\n      <td>0.037127</td>\n      <td>-0.204379</td>\n    </tr>\n  </tbody>\n</table>\n</div>"
     },
     "execution_count": 18,
     "metadata": {},
     "output_type": "execute_result"
    }
   ],
   "source": [
    "Covid_défaut"
   ],
   "metadata": {
    "collapsed": false,
    "ExecuteTime": {
     "end_time": "2024-02-26T14:52:05.242650Z",
     "start_time": "2024-02-26T14:52:05.207018Z"
    }
   },
   "id": "2b725568c301e8ac"
  }
 ],
 "metadata": {
  "kernelspec": {
   "display_name": "Python 3",
   "language": "python",
   "name": "python3"
  },
  "language_info": {
   "codemirror_mode": {
    "name": "ipython",
    "version": 2
   },
   "file_extension": ".py",
   "mimetype": "text/x-python",
   "name": "python",
   "nbconvert_exporter": "python",
   "pygments_lexer": "ipython2",
   "version": "2.7.6"
  }
 },
 "nbformat": 4,
 "nbformat_minor": 5
}
