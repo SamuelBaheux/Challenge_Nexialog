{
 "cells": [
  {
   "cell_type": "code",
   "execution_count": 1,
   "id": "initial_id",
   "metadata": {
    "collapsed": true,
    "ExecuteTime": {
     "end_time": "2024-03-21T11:38:27.197275Z",
     "start_time": "2024-03-21T11:38:26.043646Z"
    }
   },
   "outputs": [],
   "source": [
    "import sys\n",
    "sys.path.append(\"../../script\")\n",
    "\n",
    "import pandas as pd\n",
    "import matplotlib.pyplot as plt\n",
    "from sklearn.metrics import courbe_roc, auc\n",
    "from statsmodels.discrete.discrete_model import Logit\n",
    "\n",
    "from data_preparation import *\n",
    "from Logit_utils import GridScore"
   ]
  },
  {
   "cell_type": "markdown",
   "source": [
    "# Import et préparation des données"
   ],
   "metadata": {
    "collapsed": false
   },
   "id": "6c2e6735dd75b317"
  },
  {
   "cell_type": "code",
   "execution_count": 10,
   "outputs": [],
   "source": [
    "train = pd.read_csv(\"../../data/application_train_vf.csv\")"
   ],
   "metadata": {
    "collapsed": false,
    "ExecuteTime": {
     "end_time": "2024-03-21T13:02:00.988872Z",
     "start_time": "2024-03-21T13:01:58.629320Z"
    }
   },
   "id": "cb7ad9a26d1ca1a5"
  },
  {
   "cell_type": "code",
   "execution_count": 12,
   "outputs": [
    {
     "data": {
      "text/plain": "['Unnamed: 0',\n 'SK_ID_CURR',\n 'TARGET',\n 'NAME_CONTRACT_TYPE',\n 'CODE_GENDER',\n 'FLAG_OWN_CAR',\n 'FLAG_OWN_REALTY',\n 'CNT_CHILDREN',\n 'AMT_INCOME_TOTAL',\n 'AMT_CREDIT',\n 'AMT_ANNUITY',\n 'AMT_GOODS_PRICE',\n 'NAME_TYPE_SUITE',\n 'NAME_INCOME_TYPE',\n 'NAME_EDUCATION_TYPE',\n 'NAME_FAMILY_STATUS',\n 'NAME_HOUSING_TYPE',\n 'REGION_POPULATION_RELATIVE',\n 'DAYS_BIRTH',\n 'DAYS_EMPLOYED',\n 'DAYS_REGISTRATION',\n 'DAYS_ID_PUBLISH',\n 'OWN_CAR_AGE',\n 'FLAG_MOBIL',\n 'FLAG_EMP_PHONE',\n 'FLAG_WORK_PHONE',\n 'FLAG_CONT_MOBILE',\n 'FLAG_PHONE',\n 'FLAG_EMAIL',\n 'OCCUPATION_TYPE',\n 'CNT_FAM_MEMBERS',\n 'REGION_RATING_CLIENT',\n 'REGION_RATING_CLIENT_W_CITY',\n 'WEEKDAY_APPR_PROCESS_START',\n 'HOUR_APPR_PROCESS_START',\n 'REG_REGION_NOT_LIVE_REGION',\n 'REG_REGION_NOT_WORK_REGION',\n 'LIVE_REGION_NOT_WORK_REGION',\n 'REG_CITY_NOT_LIVE_CITY',\n 'REG_CITY_NOT_WORK_CITY',\n 'LIVE_CITY_NOT_WORK_CITY',\n 'ORGANIZATION_TYPE',\n 'EXT_SOURCE_1',\n 'EXT_SOURCE_2',\n 'EXT_SOURCE_3',\n 'APARTMENTS_AVG',\n 'BASEMENTAREA_AVG',\n 'YEARS_BEGINEXPLUATATION_AVG',\n 'YEARS_BUILD_AVG',\n 'COMMONAREA_AVG',\n 'ELEVATORS_AVG',\n 'ENTRANCES_AVG',\n 'FLOORSMAX_AVG',\n 'FLOORSMIN_AVG',\n 'LANDAREA_AVG',\n 'LIVINGAPARTMENTS_AVG',\n 'LIVINGAREA_AVG',\n 'NONLIVINGAPARTMENTS_AVG',\n 'NONLIVINGAREA_AVG',\n 'APARTMENTS_MODE',\n 'BASEMENTAREA_MODE',\n 'YEARS_BEGINEXPLUATATION_MODE',\n 'YEARS_BUILD_MODE',\n 'COMMONAREA_MODE',\n 'ELEVATORS_MODE',\n 'ENTRANCES_MODE',\n 'FLOORSMAX_MODE',\n 'FLOORSMIN_MODE',\n 'LANDAREA_MODE',\n 'LIVINGAPARTMENTS_MODE',\n 'LIVINGAREA_MODE',\n 'NONLIVINGAPARTMENTS_MODE',\n 'NONLIVINGAREA_MODE',\n 'APARTMENTS_MEDI',\n 'BASEMENTAREA_MEDI',\n 'YEARS_BEGINEXPLUATATION_MEDI',\n 'YEARS_BUILD_MEDI',\n 'COMMONAREA_MEDI',\n 'ELEVATORS_MEDI',\n 'ENTRANCES_MEDI',\n 'FLOORSMAX_MEDI',\n 'FLOORSMIN_MEDI',\n 'LANDAREA_MEDI',\n 'LIVINGAPARTMENTS_MEDI',\n 'LIVINGAREA_MEDI',\n 'NONLIVINGAPARTMENTS_MEDI',\n 'NONLIVINGAREA_MEDI',\n 'FONDKAPREMONT_MODE',\n 'HOUSETYPE_MODE',\n 'TOTALAREA_MODE',\n 'WALLSMATERIAL_MODE',\n 'EMERGENCYSTATE_MODE',\n 'OBS_30_CNT_SOCIAL_CIRCLE',\n 'DEF_30_CNT_SOCIAL_CIRCLE',\n 'OBS_60_CNT_SOCIAL_CIRCLE',\n 'DEF_60_CNT_SOCIAL_CIRCLE',\n 'DAYS_LAST_PHONE_CHANGE',\n 'FLAG_DOCUMENT_2',\n 'FLAG_DOCUMENT_3',\n 'FLAG_DOCUMENT_4',\n 'FLAG_DOCUMENT_5',\n 'FLAG_DOCUMENT_6',\n 'FLAG_DOCUMENT_7',\n 'FLAG_DOCUMENT_8',\n 'FLAG_DOCUMENT_9',\n 'FLAG_DOCUMENT_10',\n 'FLAG_DOCUMENT_11',\n 'FLAG_DOCUMENT_12',\n 'FLAG_DOCUMENT_13',\n 'FLAG_DOCUMENT_14',\n 'FLAG_DOCUMENT_15',\n 'FLAG_DOCUMENT_16',\n 'FLAG_DOCUMENT_17',\n 'FLAG_DOCUMENT_18',\n 'FLAG_DOCUMENT_19',\n 'FLAG_DOCUMENT_20',\n 'FLAG_DOCUMENT_21',\n 'AMT_REQ_CREDIT_BUREAU_HOUR',\n 'AMT_REQ_CREDIT_BUREAU_DAY',\n 'AMT_REQ_CREDIT_BUREAU_WEEK',\n 'AMT_REQ_CREDIT_BUREAU_MON',\n 'AMT_REQ_CREDIT_BUREAU_QRT',\n 'AMT_REQ_CREDIT_BUREAU_YEAR',\n 'date_mensuelle']"
     },
     "execution_count": 12,
     "metadata": {},
     "output_type": "execute_result"
    }
   ],
   "source": [
    "train.columns.to_list()"
   ],
   "metadata": {
    "collapsed": false,
    "ExecuteTime": {
     "end_time": "2024-03-21T13:02:18.218020Z",
     "start_time": "2024-03-21T13:02:18.205357Z"
    }
   },
   "id": "9f5e39205577a11"
  },
  {
   "cell_type": "code",
   "execution_count": 2,
   "outputs": [],
   "source": [
    "dataprep = DashDataPreparation()"
   ],
   "metadata": {
    "collapsed": false,
    "ExecuteTime": {
     "end_time": "2024-03-21T11:38:30.919590Z",
     "start_time": "2024-03-21T11:38:28.575658Z"
    }
   },
   "id": "cfa67b02c946a089"
  },
  {
   "cell_type": "code",
   "execution_count": 3,
   "outputs": [],
   "source": [
    "selected_vars = ['AMT_GOODS_PRICE','DAYS_LAST_PHONE_CHANGE','AMT_CREDIT','AMT_ANNUITY',\n",
    " 'REGION_POPULATION_RELATIVE','DAYS_ID_PUBLISH','AMT_REQ_CREDIT_BUREAU_MON',\n",
    " 'YEARS_BEGINEXPLUATATION_MEDI','YEARS_BEGINEXPLUATATION_MODE']"
   ],
   "metadata": {
    "collapsed": false,
    "ExecuteTime": {
     "end_time": "2024-03-21T11:38:36.931826Z",
     "start_time": "2024-03-21T11:38:36.926635Z"
    }
   },
   "id": "c3b7a403fabe9604"
  },
  {
   "cell_type": "code",
   "execution_count": 4,
   "outputs": [
    {
     "name": "stdout",
     "output_type": "stream",
     "text": [
      "Variables extérieures récupérées ✅\n",
      "Type des variables convertis ✅\n",
      "Valeurs manquantes traitées ✅\n"
     ]
    }
   ],
   "source": [
    "dataprep.initialize_data(selected_vars)"
   ],
   "metadata": {
    "collapsed": false,
    "ExecuteTime": {
     "end_time": "2024-03-21T11:38:37.908305Z",
     "start_time": "2024-03-21T11:38:37.694451Z"
    }
   },
   "id": "1b5dd8ac214edcd0"
  },
  {
   "cell_type": "code",
   "execution_count": 5,
   "outputs": [
    {
     "name": "stdout",
     "output_type": "stream",
     "text": [
      "Discrétisation des variables numériques en cours ... \n",
      "Variables numériques discrétisées ✅\n",
      "Discrétisation des variables catégorielles en cours ... \n",
      "Variables catégorielles discrétisées ✅\n"
     ]
    }
   ],
   "source": [
    "train_prepared = dataprep.get_prepared_data()"
   ],
   "metadata": {
    "collapsed": false,
    "ExecuteTime": {
     "end_time": "2024-03-21T11:40:03.380841Z",
     "start_time": "2024-03-21T11:39:06.704913Z"
    }
   },
   "id": "f6f8764703b06be2"
  },
  {
   "cell_type": "code",
   "execution_count": 6,
   "outputs": [],
   "source": [
    "df_train = train_prepared.iloc[:280000,:]\n",
    "df_test = train_prepared.iloc[280000:,:]"
   ],
   "metadata": {
    "collapsed": false,
    "ExecuteTime": {
     "end_time": "2024-03-21T11:40:06.208480Z",
     "start_time": "2024-03-21T11:40:06.201633Z"
    }
   },
   "id": "67c11535c464b91e"
  },
  {
   "cell_type": "markdown",
   "source": [
    "# Modélisation"
   ],
   "metadata": {
    "collapsed": false
   },
   "id": "6a9748c39f3c2b7b"
  },
  {
   "cell_type": "code",
   "execution_count": 7,
   "outputs": [],
   "source": [
    "features = ['REGION_RATING_CLIENT_W_CITY', 'DAYS_CREDIT_ENDDATE_disc_int', 'RATE_DOWN_PAYMENT_disc_int', 'AMT_PAYMENT_disc_int', 'NAME_INCOME_TYPE_discret', 'OCCUPATION_TYPE_discret']"
   ],
   "metadata": {
    "collapsed": false,
    "ExecuteTime": {
     "end_time": "2024-03-21T11:40:08.102477Z",
     "start_time": "2024-03-21T11:40:08.095423Z"
    }
   },
   "id": "3366bdc2ae479a76"
  },
  {
   "cell_type": "code",
   "execution_count": 9,
   "outputs": [
    {
     "data": {
      "text/plain": "       date_mensuelle  TARGET AMT_GOODS_PRICE_disc_int  \\\n0          2013-01-01       0     [679500.0;4050000.0]   \n1          2013-01-01       0       [40500.0;676278.0]   \n2          2013-01-01       0       [40500.0;676278.0]   \n3          2013-01-01       0     [679500.0;4050000.0]   \n4          2013-01-01       0       [40500.0;676278.0]   \n...               ...     ...                      ...   \n306102     2020-12-01       0       [40500.0;676278.0]   \n306103     2020-12-01       0       [40500.0;676278.0]   \n306104     2020-12-01       0     [679500.0;4050000.0]   \n306105     2020-12-01       0       [40500.0;676278.0]   \n306106     2020-12-01       1       [40500.0;676278.0]   \n\n       DAYS_LAST_PHONE_CHANGE_disc_int   AMT_CREDIT_disc_int  \\\n0                        [-1079.0;0.0]  [675000.0;4050000.0]   \n1                        [-1079.0;0.0]    [45000.0;674842.5]   \n2                        [-1079.0;0.0]    [45000.0;674842.5]   \n3                        [-1079.0;0.0]  [675000.0;4050000.0]   \n4                    [-4292.0;-1080.0]    [45000.0;674842.5]   \n...                                ...                   ...   \n306102               [-4292.0;-1080.0]    [45000.0;674842.5]   \n306103               [-4292.0;-1080.0]    [45000.0;674842.5]   \n306104                   [-1079.0;0.0]  [675000.0;4050000.0]   \n306105                   [-1079.0;0.0]    [45000.0;674842.5]   \n306106                   [-1079.0;0.0]    [45000.0;674842.5]   \n\n       AMT_ANNUITY_disc_int REGION_POPULATION_RELATIVE_disc_int  \\\n0          [1615.5;41778.0]                          [0.0;0.03]   \n1          [1615.5;41778.0]                          [0.0;0.03]   \n2          [1615.5;41778.0]                          [0.0;0.03]   \n3          [1615.5;41778.0]                         [0.03;0.07]   \n4          [1615.5;41778.0]                          [0.0;0.03]   \n...                     ...                                 ...   \n306102     [1615.5;41778.0]                          [0.0;0.03]   \n306103     [1615.5;41778.0]                         [0.03;0.07]   \n306104   [41787.0;258025.5]                         [0.03;0.07]   \n306105     [1615.5;41778.0]                          [0.0;0.03]   \n306106     [1615.5;41778.0]                         [0.03;0.07]   \n\n       DAYS_ID_PUBLISH_disc_int AMT_REQ_CREDIT_BUREAU_MON_disc_int  \\\n0                 [-7197;-3094]                          [0.0;1.0]   \n1                     [-3093;0]                          [0.0;1.0]   \n2                     [-3093;0]                          [0.0;1.0]   \n3                 [-7197;-3094]                          [0.0;1.0]   \n4                 [-7197;-3094]                          [0.0;1.0]   \n...                         ...                                ...   \n306102                [-3093;0]                          [0.0;1.0]   \n306103                [-3093;0]                          [0.0;1.0]   \n306104                [-3093;0]                          [0.0;1.0]   \n306105            [-7197;-3094]                          [0.0;1.0]   \n306106                [-3093;0]                          [0.0;1.0]   \n\n       YEARS_BEGINEXPLUATATION_MEDI_disc_int  \\\n0                                 [0.97;1.0]   \n1                                 [0.0;0.97]   \n2                                 [0.97;1.0]   \n3                                 [0.97;1.0]   \n4                                 [0.0;0.97]   \n...                                      ...   \n306102                            [0.97;1.0]   \n306103                            [0.0;0.97]   \n306104                            [0.97;1.0]   \n306105                            [0.0;0.97]   \n306106                            [0.0;0.97]   \n\n       YEARS_BEGINEXPLUATATION_MODE_disc_int  \n0                                 [0.97;1.0]  \n1                                 [0.0;0.97]  \n2                                 [0.97;1.0]  \n3                                 [0.97;1.0]  \n4                                 [0.0;0.97]  \n...                                      ...  \n306102                            [0.97;1.0]  \n306103                            [0.0;0.97]  \n306104                            [0.97;1.0]  \n306105                            [0.0;0.97]  \n306106                            [0.0;0.97]  \n\n[306107 rows x 11 columns]",
      "text/html": "<div>\n<style scoped>\n    .dataframe tbody tr th:only-of-type {\n        vertical-align: middle;\n    }\n\n    .dataframe tbody tr th {\n        vertical-align: top;\n    }\n\n    .dataframe thead th {\n        text-align: right;\n    }\n</style>\n<table border=\"1\" class=\"dataframe\">\n  <thead>\n    <tr style=\"text-align: right;\">\n      <th></th>\n      <th>date_mensuelle</th>\n      <th>TARGET</th>\n      <th>AMT_GOODS_PRICE_disc_int</th>\n      <th>DAYS_LAST_PHONE_CHANGE_disc_int</th>\n      <th>AMT_CREDIT_disc_int</th>\n      <th>AMT_ANNUITY_disc_int</th>\n      <th>REGION_POPULATION_RELATIVE_disc_int</th>\n      <th>DAYS_ID_PUBLISH_disc_int</th>\n      <th>AMT_REQ_CREDIT_BUREAU_MON_disc_int</th>\n      <th>YEARS_BEGINEXPLUATATION_MEDI_disc_int</th>\n      <th>YEARS_BEGINEXPLUATATION_MODE_disc_int</th>\n    </tr>\n  </thead>\n  <tbody>\n    <tr>\n      <th>0</th>\n      <td>2013-01-01</td>\n      <td>0</td>\n      <td>[679500.0;4050000.0]</td>\n      <td>[-1079.0;0.0]</td>\n      <td>[675000.0;4050000.0]</td>\n      <td>[1615.5;41778.0]</td>\n      <td>[0.0;0.03]</td>\n      <td>[-7197;-3094]</td>\n      <td>[0.0;1.0]</td>\n      <td>[0.97;1.0]</td>\n      <td>[0.97;1.0]</td>\n    </tr>\n    <tr>\n      <th>1</th>\n      <td>2013-01-01</td>\n      <td>0</td>\n      <td>[40500.0;676278.0]</td>\n      <td>[-1079.0;0.0]</td>\n      <td>[45000.0;674842.5]</td>\n      <td>[1615.5;41778.0]</td>\n      <td>[0.0;0.03]</td>\n      <td>[-3093;0]</td>\n      <td>[0.0;1.0]</td>\n      <td>[0.0;0.97]</td>\n      <td>[0.0;0.97]</td>\n    </tr>\n    <tr>\n      <th>2</th>\n      <td>2013-01-01</td>\n      <td>0</td>\n      <td>[40500.0;676278.0]</td>\n      <td>[-1079.0;0.0]</td>\n      <td>[45000.0;674842.5]</td>\n      <td>[1615.5;41778.0]</td>\n      <td>[0.0;0.03]</td>\n      <td>[-3093;0]</td>\n      <td>[0.0;1.0]</td>\n      <td>[0.97;1.0]</td>\n      <td>[0.97;1.0]</td>\n    </tr>\n    <tr>\n      <th>3</th>\n      <td>2013-01-01</td>\n      <td>0</td>\n      <td>[679500.0;4050000.0]</td>\n      <td>[-1079.0;0.0]</td>\n      <td>[675000.0;4050000.0]</td>\n      <td>[1615.5;41778.0]</td>\n      <td>[0.03;0.07]</td>\n      <td>[-7197;-3094]</td>\n      <td>[0.0;1.0]</td>\n      <td>[0.97;1.0]</td>\n      <td>[0.97;1.0]</td>\n    </tr>\n    <tr>\n      <th>4</th>\n      <td>2013-01-01</td>\n      <td>0</td>\n      <td>[40500.0;676278.0]</td>\n      <td>[-4292.0;-1080.0]</td>\n      <td>[45000.0;674842.5]</td>\n      <td>[1615.5;41778.0]</td>\n      <td>[0.0;0.03]</td>\n      <td>[-7197;-3094]</td>\n      <td>[0.0;1.0]</td>\n      <td>[0.0;0.97]</td>\n      <td>[0.0;0.97]</td>\n    </tr>\n    <tr>\n      <th>...</th>\n      <td>...</td>\n      <td>...</td>\n      <td>...</td>\n      <td>...</td>\n      <td>...</td>\n      <td>...</td>\n      <td>...</td>\n      <td>...</td>\n      <td>...</td>\n      <td>...</td>\n      <td>...</td>\n    </tr>\n    <tr>\n      <th>306102</th>\n      <td>2020-12-01</td>\n      <td>0</td>\n      <td>[40500.0;676278.0]</td>\n      <td>[-4292.0;-1080.0]</td>\n      <td>[45000.0;674842.5]</td>\n      <td>[1615.5;41778.0]</td>\n      <td>[0.0;0.03]</td>\n      <td>[-3093;0]</td>\n      <td>[0.0;1.0]</td>\n      <td>[0.97;1.0]</td>\n      <td>[0.97;1.0]</td>\n    </tr>\n    <tr>\n      <th>306103</th>\n      <td>2020-12-01</td>\n      <td>0</td>\n      <td>[40500.0;676278.0]</td>\n      <td>[-4292.0;-1080.0]</td>\n      <td>[45000.0;674842.5]</td>\n      <td>[1615.5;41778.0]</td>\n      <td>[0.03;0.07]</td>\n      <td>[-3093;0]</td>\n      <td>[0.0;1.0]</td>\n      <td>[0.0;0.97]</td>\n      <td>[0.0;0.97]</td>\n    </tr>\n    <tr>\n      <th>306104</th>\n      <td>2020-12-01</td>\n      <td>0</td>\n      <td>[679500.0;4050000.0]</td>\n      <td>[-1079.0;0.0]</td>\n      <td>[675000.0;4050000.0]</td>\n      <td>[41787.0;258025.5]</td>\n      <td>[0.03;0.07]</td>\n      <td>[-3093;0]</td>\n      <td>[0.0;1.0]</td>\n      <td>[0.97;1.0]</td>\n      <td>[0.97;1.0]</td>\n    </tr>\n    <tr>\n      <th>306105</th>\n      <td>2020-12-01</td>\n      <td>0</td>\n      <td>[40500.0;676278.0]</td>\n      <td>[-1079.0;0.0]</td>\n      <td>[45000.0;674842.5]</td>\n      <td>[1615.5;41778.0]</td>\n      <td>[0.0;0.03]</td>\n      <td>[-7197;-3094]</td>\n      <td>[0.0;1.0]</td>\n      <td>[0.0;0.97]</td>\n      <td>[0.0;0.97]</td>\n    </tr>\n    <tr>\n      <th>306106</th>\n      <td>2020-12-01</td>\n      <td>1</td>\n      <td>[40500.0;676278.0]</td>\n      <td>[-1079.0;0.0]</td>\n      <td>[45000.0;674842.5]</td>\n      <td>[1615.5;41778.0]</td>\n      <td>[0.03;0.07]</td>\n      <td>[-3093;0]</td>\n      <td>[0.0;1.0]</td>\n      <td>[0.0;0.97]</td>\n      <td>[0.0;0.97]</td>\n    </tr>\n  </tbody>\n</table>\n<p>306107 rows × 11 columns</p>\n</div>"
     },
     "execution_count": 9,
     "metadata": {},
     "output_type": "execute_result"
    }
   ],
   "source": [
    "train_prepared"
   ],
   "metadata": {
    "collapsed": false,
    "ExecuteTime": {
     "end_time": "2024-03-21T11:40:19.531305Z",
     "start_time": "2024-03-21T11:40:19.521582Z"
    }
   },
   "id": "d383566adb8f4c7f"
  },
  {
   "cell_type": "code",
   "execution_count": 16,
   "outputs": [],
   "source": [
    "reference_categories = {\n",
    "    'REGION_RATING_CLIENT_W_CITY' : \"un_deux\",\n",
    "    'DAYS_CREDIT_ENDDATE_disc_int' : \"[-155271.0;-39.0]\",\n",
    "    'RATE_DOWN_PAYMENT_disc_int' : \"[0.21;4.48]\",\n",
    "    'AMT_PAYMENT_disc_int' : \"[149850.4;25537053.78]\",\n",
    "    'NAME_INCOME_TYPE_discret' : \"Low_income\",\n",
    "    'OCCUPATION_TYPE_discret' : \"high_skilled\",\n",
    "    'NAME_CONTRACT_TYPE' : \"Revolving loans\"\n",
    "}"
   ],
   "metadata": {
    "collapsed": false,
    "ExecuteTime": {
     "end_time": "2024-02-26T14:44:25.234144Z",
     "start_time": "2024-02-26T14:44:25.222797Z"
    }
   },
   "id": "249f5ea098dc6b4"
  },
  {
   "cell_type": "code",
   "execution_count": 17,
   "outputs": [],
   "source": [
    "formula_parts = []\n",
    "for var in features:\n",
    "    if var in reference_categories:\n",
    "        ref_category = reference_categories[var]\n",
    "        formula_parts.append(f'C({var}, Treatment(reference=\"{ref_category}\"))')\n",
    "\n",
    "formula = 'TARGET ~ ' + ' + '.join(formula_parts)"
   ],
   "metadata": {
    "collapsed": false,
    "ExecuteTime": {
     "end_time": "2024-02-26T14:44:25.602127Z",
     "start_time": "2024-02-26T14:44:25.600374Z"
    }
   },
   "id": "9043ac1a12a3f906"
  },
  {
   "cell_type": "code",
   "execution_count": 18,
   "outputs": [
    {
     "name": "stdout",
     "output_type": "stream",
     "text": [
      "Optimization terminated successfully.\n",
      "         Current function value: 0.261444\n",
      "         Iterations 7\n"
     ]
    }
   ],
   "source": [
    "model = Logit.from_formula(formula=formula, data=df_train)\n",
    "logit_model = model.fit()"
   ],
   "metadata": {
    "collapsed": false,
    "ExecuteTime": {
     "end_time": "2024-02-26T14:44:29.307980Z",
     "start_time": "2024-02-26T14:44:26.021648Z"
    }
   },
   "id": "bb8f778b54d972ad"
  },
  {
   "cell_type": "markdown",
   "source": [
    "# Prédiction"
   ],
   "metadata": {
    "collapsed": false
   },
   "id": "94aa359bb0eb4a45"
  },
  {
   "cell_type": "code",
   "execution_count": 19,
   "outputs": [
    {
     "data": {
      "text/plain": "<Figure size 800x600 with 1 Axes>",
      "image/png": "[encoded data removed]"
     },
     "metadata": {},
     "output_type": "display_data"
    },
    {
     "data": {
      "text/plain": "0.23375538472548918"
     },
     "execution_count": 19,
     "metadata": {},
     "output_type": "execute_result"
    }
   ],
   "source": [
    "pred = logit_model.predict(df_test)\n",
    "fpr, tpr, thresholds = courbe_roc(df_test[\"TARGET\"],pred)\n",
    "roc_auc = auc(fpr, tpr)\n",
    "\n",
    "plt.figure(figsize=(8, 6))\n",
    "plt.plot(fpr, tpr, color='darkorange', lw=2, label='ROC curve (AUC = {:.2f})'.format(roc_auc))\n",
    "plt.plot([0, 1], [0, 1], color='navy', lw=2, linestyle='--')\n",
    "plt.xlabel('False Positive Rate')\n",
    "plt.ylabel('True Positive Rate')\n",
    "plt.title('Receiver Operating Characteristic (ROC) Curve')\n",
    "plt.legend(loc='lower right')\n",
    "plt.show()\n",
    "roc_auc = auc(fpr, tpr)\n",
    "gini_coefficient = 2 * roc_auc - 1\n",
    "gini_coefficient"
   ],
   "metadata": {
    "collapsed": false,
    "ExecuteTime": {
     "end_time": "2024-02-26T14:44:52.529184Z",
     "start_time": "2024-02-26T14:44:52.135201Z"
    }
   },
   "id": "a871c36ce03a159"
  },
  {
   "cell_type": "markdown",
   "source": [
    "# Grille de score"
   ],
   "metadata": {
    "collapsed": false
   },
   "id": "e9cc4452cabbaa3"
  },
  {
   "cell_type": "code",
   "execution_count": 20,
   "outputs": [],
   "source": [
    "GS = GridScore(train_prepared, logit_model)\n",
    "grid_score = GS.compute_grid_score()"
   ],
   "metadata": {
    "collapsed": false,
    "ExecuteTime": {
     "end_time": "2024-02-26T14:44:56.636790Z",
     "start_time": "2024-02-26T14:44:55.020803Z"
    }
   },
   "id": "f99d003c7bf3a9f6"
  },
  {
   "cell_type": "code",
   "execution_count": 21,
   "outputs": [
    {
     "data": {
      "text/plain": "                        Variable                    Modality  Coefficient  \\\n0                      Intercept                           -    -3.871112   \n1    REGION_RATING_CLIENT_W_CITY                 un_deux_ref     0.000000   \n2    REGION_RATING_CLIENT_W_CITY                       trois     0.470000   \n3   DAYS_CREDIT_ENDDATE_disc_int       [-155271.0;-39.0]_ref     0.000000   \n4   DAYS_CREDIT_ENDDATE_disc_int            [-38.0;214193.0]     0.460000   \n5     RATE_DOWN_PAYMENT_disc_int             [0.21;4.48]_ref     0.000000   \n6     RATE_DOWN_PAYMENT_disc_int                 [-0.0;0.21]     0.250000   \n7           AMT_PAYMENT_disc_int  [149850.4;25537053.78]_ref     0.000000   \n8           AMT_PAYMENT_disc_int              [0.0;149849.5]     0.190000   \n9       NAME_INCOME_TYPE_discret              Low_income_ref     0.000000   \n10      NAME_INCOME_TYPE_discret                 high_income     0.550000   \n11       OCCUPATION_TYPE_discret            high_skilled_ref     0.000000   \n12       OCCUPATION_TYPE_discret                 low_skilled     0.430000   \n\n    P-Value       Score  Contribution  Pcentage_Défaut  Pcentage_Classe  \n0       0.0    0.000000           0.0             0.00             0.00  \n1       0.0  200.000000          20.0             6.13            85.76  \n2       0.0    0.000000          20.0             1.55            14.24  \n3       0.0  195.744681          20.0             2.77            47.29  \n4       0.0    0.000000          20.0             4.90            52.71  \n5       0.0  106.382979          11.0             1.88            30.47  \n6       0.0    0.000000          11.0             5.79            69.53  \n7       0.0   80.851064           8.0             4.78            67.70  \n8       0.0    0.000000           8.0             2.89            32.30  \n9       0.0  234.042553          23.0             1.31            25.11  \n10      0.0    0.000000          23.0             6.36            74.89  \n11      0.0  182.978723          18.0             1.35            23.12  \n12      0.0    0.000000          18.0             6.32            76.88  ",
      "text/html": "<div>\n<style scoped>\n    .dataframe tbody tr th:only-of-type {\n        vertical-align: middle;\n    }\n\n    .dataframe tbody tr th {\n        vertical-align: top;\n    }\n\n    .dataframe thead th {\n        text-align: right;\n    }\n</style>\n<table border=\"1\" class=\"dataframe\">\n  <thead>\n    <tr style=\"text-align: right;\">\n      <th></th>\n      <th>Variable</th>\n      <th>Modality</th>\n      <th>Coefficient</th>\n      <th>P-Value</th>\n      <th>Score</th>\n      <th>Contribution</th>\n      <th>Pcentage_Défaut</th>\n      <th>Pcentage_Classe</th>\n    </tr>\n  </thead>\n  <tbody>\n    <tr>\n      <th>0</th>\n      <td>Intercept</td>\n      <td>-</td>\n      <td>-3.871112</td>\n      <td>0.0</td>\n      <td>0.000000</td>\n      <td>0.0</td>\n      <td>0.00</td>\n      <td>0.00</td>\n    </tr>\n    <tr>\n      <th>1</th>\n      <td>REGION_RATING_CLIENT_W_CITY</td>\n      <td>un_deux_ref</td>\n      <td>0.000000</td>\n      <td>0.0</td>\n      <td>200.000000</td>\n      <td>20.0</td>\n      <td>6.13</td>\n      <td>85.76</td>\n    </tr>\n    <tr>\n      <th>2</th>\n      <td>REGION_RATING_CLIENT_W_CITY</td>\n      <td>trois</td>\n      <td>0.470000</td>\n      <td>0.0</td>\n      <td>0.000000</td>\n      <td>20.0</td>\n      <td>1.55</td>\n      <td>14.24</td>\n    </tr>\n    <tr>\n      <th>3</th>\n      <td>DAYS_CREDIT_ENDDATE_disc_int</td>\n      <td>[-155271.0;-39.0]_ref</td>\n      <td>0.000000</td>\n      <td>0.0</td>\n      <td>195.744681</td>\n      <td>20.0</td>\n      <td>2.77</td>\n      <td>47.29</td>\n    </tr>\n    <tr>\n      <th>4</th>\n      <td>DAYS_CREDIT_ENDDATE_disc_int</td>\n      <td>[-38.0;214193.0]</td>\n      <td>0.460000</td>\n      <td>0.0</td>\n      <td>0.000000</td>\n      <td>20.0</td>\n      <td>4.90</td>\n      <td>52.71</td>\n    </tr>\n    <tr>\n      <th>5</th>\n      <td>RATE_DOWN_PAYMENT_disc_int</td>\n      <td>[0.21;4.48]_ref</td>\n      <td>0.000000</td>\n      <td>0.0</td>\n      <td>106.382979</td>\n      <td>11.0</td>\n      <td>1.88</td>\n      <td>30.47</td>\n    </tr>\n    <tr>\n      <th>6</th>\n      <td>RATE_DOWN_PAYMENT_disc_int</td>\n      <td>[-0.0;0.21]</td>\n      <td>0.250000</td>\n      <td>0.0</td>\n      <td>0.000000</td>\n      <td>11.0</td>\n      <td>5.79</td>\n      <td>69.53</td>\n    </tr>\n    <tr>\n      <th>7</th>\n      <td>AMT_PAYMENT_disc_int</td>\n      <td>[149850.4;25537053.78]_ref</td>\n      <td>0.000000</td>\n      <td>0.0</td>\n      <td>80.851064</td>\n      <td>8.0</td>\n      <td>4.78</td>\n      <td>67.70</td>\n    </tr>\n    <tr>\n      <th>8</th>\n      <td>AMT_PAYMENT_disc_int</td>\n      <td>[0.0;149849.5]</td>\n      <td>0.190000</td>\n      <td>0.0</td>\n      <td>0.000000</td>\n      <td>8.0</td>\n      <td>2.89</td>\n      <td>32.30</td>\n    </tr>\n    <tr>\n      <th>9</th>\n      <td>NAME_INCOME_TYPE_discret</td>\n      <td>Low_income_ref</td>\n      <td>0.000000</td>\n      <td>0.0</td>\n      <td>234.042553</td>\n      <td>23.0</td>\n      <td>1.31</td>\n      <td>25.11</td>\n    </tr>\n    <tr>\n      <th>10</th>\n      <td>NAME_INCOME_TYPE_discret</td>\n      <td>high_income</td>\n      <td>0.550000</td>\n      <td>0.0</td>\n      <td>0.000000</td>\n      <td>23.0</td>\n      <td>6.36</td>\n      <td>74.89</td>\n    </tr>\n    <tr>\n      <th>11</th>\n      <td>OCCUPATION_TYPE_discret</td>\n      <td>high_skilled_ref</td>\n      <td>0.000000</td>\n      <td>0.0</td>\n      <td>182.978723</td>\n      <td>18.0</td>\n      <td>1.35</td>\n      <td>23.12</td>\n    </tr>\n    <tr>\n      <th>12</th>\n      <td>OCCUPATION_TYPE_discret</td>\n      <td>low_skilled</td>\n      <td>0.430000</td>\n      <td>0.0</td>\n      <td>0.000000</td>\n      <td>18.0</td>\n      <td>6.32</td>\n      <td>76.88</td>\n    </tr>\n  </tbody>\n</table>\n</div>"
     },
     "execution_count": 21,
     "metadata": {},
     "output_type": "execute_result"
    }
   ],
   "source": [
    "grid_score"
   ],
   "metadata": {
    "collapsed": false,
    "ExecuteTime": {
     "end_time": "2024-02-26T14:44:57.378416Z",
     "start_time": "2024-02-26T14:44:57.373368Z"
    }
   },
   "id": "87634b5bf9c06063"
  },
  {
   "cell_type": "markdown",
   "source": [
    "## Calcul des scores individuels"
   ],
   "metadata": {
    "collapsed": false
   },
   "id": "132b7e2b01745bec"
  },
  {
   "cell_type": "code",
   "execution_count": 22,
   "outputs": [],
   "source": [
    "df_score = GS.get_individual_score()"
   ],
   "metadata": {
    "collapsed": false,
    "ExecuteTime": {
     "end_time": "2024-02-26T14:45:03.898342Z",
     "start_time": "2024-02-26T14:45:00.703817Z"
    }
   },
   "id": "62380a152d3601"
  },
  {
   "cell_type": "code",
   "execution_count": 25,
   "outputs": [
    {
     "data": {
      "text/plain": "(array([ 3869.,  5796.,   706.,  6254., 23812., 41453.,  8508., 45590.,\n         9293., 43504., 21793., 31655., 14231., 13578., 16232.,  6662.,\n         9385.,  2045.,   348.,  1393.]),\n array([   0.,   50.,  100.,  150.,  200.,  250.,  300.,  350.,  400.,\n         450.,  500.,  550.,  600.,  650.,  700.,  750.,  800.,  850.,\n         900.,  950., 1000.]),\n <BarContainer object of 20 artists>)"
     },
     "execution_count": 25,
     "metadata": {},
     "output_type": "execute_result"
    },
    {
     "data": {
      "text/plain": "<Figure size 640x480 with 1 Axes>",
      "image/png": "[encoded data removed]"
     },
     "metadata": {},
     "output_type": "display_data"
    }
   ],
   "source": [
    "plt.hist(df_score[\"Score_ind\"], bins=20)"
   ],
   "metadata": {
    "collapsed": false,
    "ExecuteTime": {
     "end_time": "2024-02-26T14:45:15.972153Z",
     "start_time": "2024-02-26T14:45:15.883862Z"
    }
   },
   "id": "f113cc9c3e8dc48f"
  },
  {
   "cell_type": "code",
   "execution_count": 27,
   "outputs": [],
   "source": [
    "df_score.to_csv(\"../../data/df_score.csv\")"
   ],
   "metadata": {
    "collapsed": false,
    "ExecuteTime": {
     "end_time": "2024-02-26T14:45:28.210395Z",
     "start_time": "2024-02-26T14:45:26.702860Z"
    }
   },
   "id": "5e3938a41f1ee964"
  }
 ],
 "metadata": {
  "kernelspec": {
   "display_name": "Python 3",
   "language": "python",
   "name": "python3"
  },
  "language_info": {
   "codemirror_mode": {
    "name": "ipython",
    "version": 2
   },
   "file_extension": ".py",
   "mimetype": "text/x-python",
   "name": "python",
   "nbconvert_exporter": "python",
   "pygments_lexer": "ipython2",
   "version": "2.7.6"
  }
 },
 "nbformat": 4,
 "nbformat_minor": 5
}
