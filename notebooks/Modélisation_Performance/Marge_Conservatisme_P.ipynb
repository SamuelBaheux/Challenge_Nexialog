{
 "cells": [
  {
   "cell_type": "code",
   "execution_count": 1,
   "id": "initial_id",
   "metadata": {
    "collapsed": true,
    "ExecuteTime": {
     "end_time": "2024-02-26T21:51:30.062083Z",
     "start_time": "2024-02-26T21:51:29.682739Z"
    }
   },
   "outputs": [],
   "source": [
    "import pandas as pd\n",
    "import numpy as np"
   ]
  },
  {
   "cell_type": "code",
   "execution_count": 2,
   "outputs": [],
   "source": [
    "df = pd.read_csv(\"../../data/df_segmentation_P.csv\", index_col=[0])\n",
    "df[\"date_mensuelle\"] = pd.to_datetime(df[\"date_mensuelle\"])"
   ],
   "metadata": {
    "collapsed": false,
    "ExecuteTime": {
     "end_time": "2024-02-26T21:51:31.490936Z",
     "start_time": "2024-02-26T21:51:30.060335Z"
    }
   },
   "id": "d28f6fe35024c091"
  },
  {
   "cell_type": "markdown",
   "source": [
    "# MOC C"
   ],
   "metadata": {
    "collapsed": false
   },
   "id": "e91a3a799ebe862b"
  },
  {
   "cell_type": "code",
   "execution_count": 3,
   "outputs": [],
   "source": [
    "resultats = df.groupby(\"Classes\").agg(moyenne_TARGET=(\"TARGET\", \"mean\")).to_dict()[\"moyenne_TARGET\"]"
   ],
   "metadata": {
    "collapsed": false,
    "ExecuteTime": {
     "end_time": "2024-02-26T21:51:31.555516Z",
     "start_time": "2024-02-26T21:51:31.495001Z"
    }
   },
   "id": "fc22be3053d435d2"
  },
  {
   "cell_type": "code",
   "execution_count": 4,
   "outputs": [
    {
     "data": {
      "text/plain": "{1: 0.25674217907227614,\n 2: 0.17383829218205263,\n 3: 0.12256764090239554,\n 4: 0.07622553278882763,\n 5: 0.050153307052124396,\n 6: 0.03261193020424726,\n 7: 0.02263618402483771}"
     },
     "execution_count": 4,
     "metadata": {},
     "output_type": "execute_result"
    }
   ],
   "source": [
    "resultats"
   ],
   "metadata": {
    "collapsed": false,
    "ExecuteTime": {
     "end_time": "2024-02-26T21:51:31.555987Z",
     "start_time": "2024-02-26T21:51:31.549828Z"
    }
   },
   "id": "4164ff9f89c66551"
  },
  {
   "cell_type": "code",
   "execution_count": 5,
   "outputs": [],
   "source": [
    "def Boostrapping_Classes(classe):\n",
    "    df_classe = df[df['Classes'] == classe]\n",
    "    tx_defaut_liste = []\n",
    "\n",
    "    for _ in range(1000):\n",
    "        echantillon = df_classe[\"TARGET\"].sample(n=len(df_classe), replace=True)\n",
    "        tx_defaut_liste.append(echantillon.mean())\n",
    "        \n",
    "    tx_defaut_liste = np.array(tx_defaut_liste)\n",
    "\n",
    "    decile9 = np.percentile(tx_defaut_liste, 90)\n",
    "\n",
    "    MOC_C = decile9 - resultats[classe]\n",
    "    \n",
    "    return(classe, resultats[classe], decile9, MOC_C)"
   ],
   "metadata": {
    "collapsed": false,
    "ExecuteTime": {
     "end_time": "2024-02-26T21:51:31.556112Z",
     "start_time": "2024-02-26T21:51:31.550007Z"
    }
   },
   "id": "d407000f977faabf"
  },
  {
   "cell_type": "code",
   "execution_count": 6,
   "outputs": [],
   "source": [
    "MOC_C = pd.DataFrame(columns = [\"Classe\", \"LRA\", \"Décile9\", \"Moc_C\"])"
   ],
   "metadata": {
    "collapsed": false,
    "ExecuteTime": {
     "end_time": "2024-02-26T21:51:31.556361Z",
     "start_time": "2024-02-26T21:51:31.553137Z"
    }
   },
   "id": "934435464fc9ae6b"
  },
  {
   "cell_type": "code",
   "execution_count": 7,
   "outputs": [],
   "source": [
    "for i in range(1,8):\n",
    "    classe, LRA, decile9, MOC_C_classe = Boostrapping_Classes(i)\n",
    "    MOC_C.loc[len(MOC_C)] = [classe, LRA, decile9, MOC_C_classe]"
   ],
   "metadata": {
    "collapsed": false,
    "ExecuteTime": {
     "end_time": "2024-02-26T21:51:40.075922Z",
     "start_time": "2024-02-26T21:51:31.558315Z"
    }
   },
   "id": "cc909699ebc2913f"
  },
  {
   "cell_type": "code",
   "execution_count": 8,
   "outputs": [
    {
     "data": {
      "text/plain": "   Classe       LRA   Décile9     Moc_C\n0     1.0  0.256742  0.261201  0.004459\n1     2.0  0.173838  0.176990  0.003152\n2     3.0  0.122568  0.124661  0.002093\n3     4.0  0.076226  0.077521  0.001295\n4     5.0  0.050153  0.051134  0.000980\n5     6.0  0.032612  0.033384  0.000772\n6     7.0  0.022636  0.024160  0.001524",
      "text/html": "<div>\n<style scoped>\n    .dataframe tbody tr th:only-of-type {\n        vertical-align: middle;\n    }\n\n    .dataframe tbody tr th {\n        vertical-align: top;\n    }\n\n    .dataframe thead th {\n        text-align: right;\n    }\n</style>\n<table border=\"1\" class=\"dataframe\">\n  <thead>\n    <tr style=\"text-align: right;\">\n      <th></th>\n      <th>Classe</th>\n      <th>LRA</th>\n      <th>Décile9</th>\n      <th>Moc_C</th>\n    </tr>\n  </thead>\n  <tbody>\n    <tr>\n      <th>0</th>\n      <td>1.0</td>\n      <td>0.256742</td>\n      <td>0.261201</td>\n      <td>0.004459</td>\n    </tr>\n    <tr>\n      <th>1</th>\n      <td>2.0</td>\n      <td>0.173838</td>\n      <td>0.176990</td>\n      <td>0.003152</td>\n    </tr>\n    <tr>\n      <th>2</th>\n      <td>3.0</td>\n      <td>0.122568</td>\n      <td>0.124661</td>\n      <td>0.002093</td>\n    </tr>\n    <tr>\n      <th>3</th>\n      <td>4.0</td>\n      <td>0.076226</td>\n      <td>0.077521</td>\n      <td>0.001295</td>\n    </tr>\n    <tr>\n      <th>4</th>\n      <td>5.0</td>\n      <td>0.050153</td>\n      <td>0.051134</td>\n      <td>0.000980</td>\n    </tr>\n    <tr>\n      <th>5</th>\n      <td>6.0</td>\n      <td>0.032612</td>\n      <td>0.033384</td>\n      <td>0.000772</td>\n    </tr>\n    <tr>\n      <th>6</th>\n      <td>7.0</td>\n      <td>0.022636</td>\n      <td>0.024160</td>\n      <td>0.001524</td>\n    </tr>\n  </tbody>\n</table>\n</div>"
     },
     "execution_count": 8,
     "metadata": {},
     "output_type": "execute_result"
    }
   ],
   "source": [
    "MOC_C"
   ],
   "metadata": {
    "collapsed": false,
    "ExecuteTime": {
     "end_time": "2024-02-26T21:51:40.088838Z",
     "start_time": "2024-02-26T21:51:40.077132Z"
    }
   },
   "id": "e69ff148f41720c6"
  },
  {
   "cell_type": "markdown",
   "source": [
    "# MOC A\n",
    "### Valeurs manquantes dans les variables explicatives"
   ],
   "metadata": {
    "collapsed": false
   },
   "id": "68069f1e267d46fa"
  },
  {
   "cell_type": "code",
   "execution_count": 9,
   "outputs": [],
   "source": [
    "var_explicatives = ['REGION_RATING_CLIENT_W_CITY', 'DAYS_CREDIT_ENDDATE', 'RATE_DOWN_PAYMENT', 'AMT_PAYMENT', 'NAME_INCOME_TYPE', 'OCCUPATION_TYPE']"
   ],
   "metadata": {
    "collapsed": false,
    "ExecuteTime": {
     "end_time": "2024-02-26T21:51:40.090178Z",
     "start_time": "2024-02-26T21:51:40.087820Z"
    }
   },
   "id": "e3943a41144152a5"
  },
  {
   "cell_type": "code",
   "execution_count": 10,
   "outputs": [],
   "source": [
    "train = pd.read_csv(\"../../data/application_train_vf.csv\")\n",
    "df_bur = pd.read_csv('../../data/bureau.csv')\n",
    "df_bur_group = df_bur[['DAYS_CREDIT_ENDDATE', 'SK_ID_CURR']].groupby('SK_ID_CURR').sum()\n",
    "df_bur_group.reset_index(inplace=True)\n",
    "\n",
    "df_prev = pd.read_csv('../../data/previous_application.csv')\n",
    "df_prev_group = df_prev[['SK_ID_CURR', 'DAYS_FIRST_DRAWING', 'RATE_DOWN_PAYMENT']].groupby(\n",
    "    'SK_ID_CURR').sum()\n",
    "df_prev_group.reset_index(inplace=True)\n",
    "\n",
    "df_ins = pd.read_csv('../../data/installments_payments.csv')\n",
    "df_ins_group = df_ins[['SK_ID_CURR', 'AMT_PAYMENT']].groupby('SK_ID_CURR').sum()\n",
    "df_ins_group.reset_index(inplace=True)\n",
    "\n",
    "train = train.merge(df_bur_group, on='SK_ID_CURR', how='left')\n",
    "train = train.merge(df_prev_group, on='SK_ID_CURR', how='left')\n",
    "train = train.merge(df_ins_group, on='SK_ID_CURR', how='left')"
   ],
   "metadata": {
    "collapsed": false,
    "ExecuteTime": {
     "end_time": "2024-02-26T21:51:58.630991Z",
     "start_time": "2024-02-26T21:51:40.094041Z"
    }
   },
   "id": "d59f33e7aa2ecd89"
  },
  {
   "cell_type": "code",
   "execution_count": 11,
   "outputs": [
    {
     "data": {
      "text/plain": "REGION_RATING_CLIENT_W_CITY        0\nDAYS_CREDIT_ENDDATE            43764\nRATE_DOWN_PAYMENT              16395\nAMT_PAYMENT                    15810\nNAME_INCOME_TYPE                   0\nOCCUPATION_TYPE                96049\ndtype: int64"
     },
     "execution_count": 11,
     "metadata": {},
     "output_type": "execute_result"
    }
   ],
   "source": [
    "train[var_explicatives].isna().sum()"
   ],
   "metadata": {
    "collapsed": false,
    "ExecuteTime": {
     "end_time": "2024-02-26T21:51:58.662487Z",
     "start_time": "2024-02-26T21:51:58.629908Z"
    }
   },
   "id": "c6694a21c5272417"
  },
  {
   "cell_type": "markdown",
   "source": [
    "### Période Manquante"
   ],
   "metadata": {
    "collapsed": false
   },
   "id": "958c1738dec3edfa"
  },
  {
   "cell_type": "code",
   "execution_count": 12,
   "outputs": [],
   "source": [
    "max_year = df[\"date_mensuelle\"].dt.year.max()\n",
    "min_year = df[\"date_mensuelle\"].dt.year.min()"
   ],
   "metadata": {
    "collapsed": false,
    "ExecuteTime": {
     "end_time": "2024-02-26T21:51:58.676116Z",
     "start_time": "2024-02-26T21:51:58.660794Z"
    }
   },
   "id": "bcbf201af3252123"
  },
  {
   "cell_type": "code",
   "execution_count": 13,
   "outputs": [
    {
     "name": "stdout",
     "output_type": "stream",
     "text": [
      "Périodes manquantes dans les données : set()\n"
     ]
    }
   ],
   "source": [
    "periodes_attendues = [f\"{year}_{quarter}\" for year in range(min_year, max_year) for quarter in range(1, 5)]\n",
    "periodes_reelles = df['date_trimestrielle'].unique()\n",
    "\n",
    "periodes_manquantes = set(periodes_attendues) - set(periodes_reelles)\n",
    "print(\"Périodes manquantes dans les données :\", periodes_manquantes)"
   ],
   "metadata": {
    "collapsed": false,
    "ExecuteTime": {
     "end_time": "2024-02-26T21:51:58.696351Z",
     "start_time": "2024-02-26T21:51:58.688597Z"
    }
   },
   "id": "9d2b281e8e264e53"
  },
  {
   "cell_type": "markdown",
   "source": [
    "### Crise Covid"
   ],
   "metadata": {
    "collapsed": false
   },
   "id": "7d4ecd6c7bba4990"
  },
  {
   "cell_type": "code",
   "execution_count": 14,
   "outputs": [],
   "source": [
    "df['periode_crise_covid'] = ((df['date_trimestrielle'] == '2020_1') | (df['date_trimestrielle'] == '2020_2'))\n",
    "\n",
    "sans_covid = df[df['periode_crise_covid'] == False].copy()"
   ],
   "metadata": {
    "collapsed": false,
    "ExecuteTime": {
     "end_time": "2024-02-26T21:51:58.914791Z",
     "start_time": "2024-02-26T21:51:58.694735Z"
    }
   },
   "id": "a63973b110adcbf6"
  },
  {
   "cell_type": "code",
   "execution_count": 15,
   "outputs": [],
   "source": [
    "Covid_défaut = pd.DataFrame(columns = [\"Classe\", \"Taux avec Covid\", \"Taux sans Covid\", \"Marge Conservatisme (%)\"])"
   ],
   "metadata": {
    "collapsed": false,
    "ExecuteTime": {
     "end_time": "2024-02-26T21:51:58.920586Z",
     "start_time": "2024-02-26T21:51:58.916187Z"
    }
   },
   "id": "20b0edd21401fbb7"
  },
  {
   "cell_type": "code",
   "execution_count": 16,
   "outputs": [],
   "source": [
    "for i in range(1,8):\n",
    "    tx_ss_covid = sans_covid[sans_covid[\"Classes\"]==i][\"TARGET\"].mean()\n",
    "    marge = ((tx_ss_covid/resultats[i])-1)*100\n",
    "    Covid_défaut.loc[len(Covid_défaut)] = [i, resultats[i], tx_ss_covid, marge]"
   ],
   "metadata": {
    "collapsed": false,
    "ExecuteTime": {
     "end_time": "2024-02-26T21:51:59.055305Z",
     "start_time": "2024-02-26T21:51:58.922004Z"
    }
   },
   "id": "c31fc046d67dd4d2"
  },
  {
   "cell_type": "code",
   "execution_count": 17,
   "outputs": [
    {
     "data": {
      "text/plain": "   Classe  Taux avec Covid  Taux sans Covid  Marge Conservatisme (%)\n0     1.0         0.256742         0.257824                 0.421554\n1     2.0         0.173838         0.173345                -0.283846\n2     3.0         0.122568         0.122432                -0.110606\n3     4.0         0.076226         0.076292                 0.087472\n4     5.0         0.050153         0.050057                -0.192103\n5     6.0         0.032612         0.032470                -0.434446\n6     7.0         0.022636         0.022651                 0.063696",
      "text/html": "<div>\n<style scoped>\n    .dataframe tbody tr th:only-of-type {\n        vertical-align: middle;\n    }\n\n    .dataframe tbody tr th {\n        vertical-align: top;\n    }\n\n    .dataframe thead th {\n        text-align: right;\n    }\n</style>\n<table border=\"1\" class=\"dataframe\">\n  <thead>\n    <tr style=\"text-align: right;\">\n      <th></th>\n      <th>Classe</th>\n      <th>Taux avec Covid</th>\n      <th>Taux sans Covid</th>\n      <th>Marge Conservatisme (%)</th>\n    </tr>\n  </thead>\n  <tbody>\n    <tr>\n      <th>0</th>\n      <td>1.0</td>\n      <td>0.256742</td>\n      <td>0.257824</td>\n      <td>0.421554</td>\n    </tr>\n    <tr>\n      <th>1</th>\n      <td>2.0</td>\n      <td>0.173838</td>\n      <td>0.173345</td>\n      <td>-0.283846</td>\n    </tr>\n    <tr>\n      <th>2</th>\n      <td>3.0</td>\n      <td>0.122568</td>\n      <td>0.122432</td>\n      <td>-0.110606</td>\n    </tr>\n    <tr>\n      <th>3</th>\n      <td>4.0</td>\n      <td>0.076226</td>\n      <td>0.076292</td>\n      <td>0.087472</td>\n    </tr>\n    <tr>\n      <th>4</th>\n      <td>5.0</td>\n      <td>0.050153</td>\n      <td>0.050057</td>\n      <td>-0.192103</td>\n    </tr>\n    <tr>\n      <th>5</th>\n      <td>6.0</td>\n      <td>0.032612</td>\n      <td>0.032470</td>\n      <td>-0.434446</td>\n    </tr>\n    <tr>\n      <th>6</th>\n      <td>7.0</td>\n      <td>0.022636</td>\n      <td>0.022651</td>\n      <td>0.063696</td>\n    </tr>\n  </tbody>\n</table>\n</div>"
     },
     "execution_count": 17,
     "metadata": {},
     "output_type": "execute_result"
    }
   ],
   "source": [
    "Covid_défaut"
   ],
   "metadata": {
    "collapsed": false,
    "ExecuteTime": {
     "end_time": "2024-02-26T21:51:59.063151Z",
     "start_time": "2024-02-26T21:51:59.059524Z"
    }
   },
   "id": "2b725568c301e8ac"
  }
 ],
 "metadata": {
  "kernelspec": {
   "display_name": "Python 3",
   "language": "python",
   "name": "python3"
  },
  "language_info": {
   "codemirror_mode": {
    "name": "ipython",
    "version": 2
   },
   "file_extension": ".py",
   "mimetype": "text/x-python",
   "name": "python",
   "nbconvert_exporter": "python",
   "pygments_lexer": "ipython2",
   "version": "2.7.6"
  }
 },
 "nbformat": 4,
 "nbformat_minor": 5
}
