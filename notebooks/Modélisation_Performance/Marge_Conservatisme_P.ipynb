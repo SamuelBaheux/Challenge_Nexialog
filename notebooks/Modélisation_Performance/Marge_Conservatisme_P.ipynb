{
 "cells": [
  {
   "cell_type": "code",
   "execution_count": 1,
   "id": "initial_id",
   "metadata": {
    "collapsed": true,
    "ExecuteTime": {
     "end_time": "2024-04-01T15:30:59.718945Z",
     "start_time": "2024-04-01T15:30:59.164009Z"
    }
   },
   "outputs": [],
   "source": [
    "import pandas as pd\n",
    "import numpy as np"
   ]
  },
  {
   "cell_type": "code",
   "execution_count": 2,
   "outputs": [],
   "source": [
    "df = pd.read_csv(\"../../data/df_segmentation_P.csv\", index_col=[0])\n",
    "df[\"date_mensuelle\"] = pd.to_datetime(df[\"date_mensuelle\"])\n",
    "df['date_trimestrielle'] = df['date_mensuelle'].dt.year.astype(str) + '_' + df['date_mensuelle'].dt.quarter.astype(str)"
   ],
   "metadata": {
    "collapsed": false,
    "ExecuteTime": {
     "end_time": "2024-04-01T15:31:02.117746Z",
     "start_time": "2024-04-01T15:31:00.645517Z"
    }
   },
   "id": "d28f6fe35024c091"
  },
  {
   "cell_type": "markdown",
   "source": [
    "# MOC C"
   ],
   "metadata": {
    "collapsed": false
   },
   "id": "e91a3a799ebe862b"
  },
  {
   "cell_type": "code",
   "execution_count": 3,
   "outputs": [],
   "source": [
    "resultats = df.groupby(\"Classes\").agg(moyenne_TARGET=(\"TARGET\", \"mean\")).to_dict()[\"moyenne_TARGET\"]"
   ],
   "metadata": {
    "collapsed": false,
    "ExecuteTime": {
     "end_time": "2024-04-01T15:31:02.131684Z",
     "start_time": "2024-04-01T15:31:02.121338Z"
    }
   },
   "id": "fc22be3053d435d2"
  },
  {
   "cell_type": "code",
   "execution_count": 4,
   "outputs": [
    {
     "data": {
      "text/plain": "{1: 0.25674217907227614,\n 2: 0.17383829218205263,\n 3: 0.12256764090239554,\n 4: 0.07622553278882763,\n 5: 0.050153307052124396,\n 6: 0.03261193020424726,\n 7: 0.02263618402483771}"
     },
     "execution_count": 4,
     "metadata": {},
     "output_type": "execute_result"
    }
   ],
   "source": [
    "resultats"
   ],
   "metadata": {
    "collapsed": false,
    "ExecuteTime": {
     "end_time": "2024-04-01T15:31:02.165945Z",
     "start_time": "2024-04-01T15:31:02.135068Z"
    }
   },
   "id": "4164ff9f89c66551"
  },
  {
   "cell_type": "code",
   "execution_count": 5,
   "outputs": [],
   "source": [
    "def Boostrapping_Classes(classe):\n",
    "    df_classe = df[df['Classes'] == classe]\n",
    "    tx_defaut_liste = []\n",
    "\n",
    "    for _ in range(1000):\n",
    "        echantillon = df_classe[\"TARGET\"].sample(n=len(df_classe), replace=True)\n",
    "        tx_defaut_liste.append(echantillon.mean())\n",
    "        \n",
    "    tx_defaut_liste = np.array(tx_defaut_liste)\n",
    "\n",
    "    decile9 = np.percentile(tx_defaut_liste, 90)\n",
    "\n",
    "    MOC_C = decile9 - resultats[classe]\n",
    "    \n",
    "    return(classe, resultats[classe], decile9, MOC_C)"
   ],
   "metadata": {
    "collapsed": false,
    "ExecuteTime": {
     "end_time": "2024-04-01T15:31:02.175194Z",
     "start_time": "2024-04-01T15:31:02.141957Z"
    }
   },
   "id": "d407000f977faabf"
  },
  {
   "cell_type": "code",
   "execution_count": 6,
   "outputs": [],
   "source": [
    "MOC_C = pd.DataFrame(columns = [\"Classe\", \"LRA\", \"Décile9\", \"Moc_C\"])"
   ],
   "metadata": {
    "collapsed": false,
    "ExecuteTime": {
     "end_time": "2024-04-01T15:31:02.175847Z",
     "start_time": "2024-04-01T15:31:02.149271Z"
    }
   },
   "id": "934435464fc9ae6b"
  },
  {
   "cell_type": "code",
   "execution_count": 7,
   "outputs": [],
   "source": [
    "for i in range(1,8):\n",
    "    classe, LRA, decile9, MOC_C_classe = Boostrapping_Classes(i)\n",
    "    MOC_C.loc[len(MOC_C)] = [classe, LRA, decile9, MOC_C_classe]"
   ],
   "metadata": {
    "collapsed": false,
    "ExecuteTime": {
     "end_time": "2024-04-01T15:31:10.223318Z",
     "start_time": "2024-04-01T15:31:02.154251Z"
    }
   },
   "id": "cc909699ebc2913f"
  },
  {
   "cell_type": "code",
   "execution_count": 8,
   "outputs": [
    {
     "data": {
      "text/plain": "   Classe       LRA   Décile9     Moc_C\n0     1.0  0.256742  0.261489  0.004746\n1     2.0  0.173838  0.177086  0.003248\n2     3.0  0.122568  0.124687  0.002119\n3     4.0  0.076226  0.077568  0.001343\n4     5.0  0.050153  0.051158  0.001005\n5     6.0  0.032612  0.033464  0.000852\n6     7.0  0.022636  0.024104  0.001468",
      "text/html": "<div>\n<style scoped>\n    .dataframe tbody tr th:only-of-type {\n        vertical-align: middle;\n    }\n\n    .dataframe tbody tr th {\n        vertical-align: top;\n    }\n\n    .dataframe thead th {\n        text-align: right;\n    }\n</style>\n<table border=\"1\" class=\"dataframe\">\n  <thead>\n    <tr style=\"text-align: right;\">\n      <th></th>\n      <th>Classe</th>\n      <th>LRA</th>\n      <th>Décile9</th>\n      <th>Moc_C</th>\n    </tr>\n  </thead>\n  <tbody>\n    <tr>\n      <th>0</th>\n      <td>1.0</td>\n      <td>0.256742</td>\n      <td>0.261489</td>\n      <td>0.004746</td>\n    </tr>\n    <tr>\n      <th>1</th>\n      <td>2.0</td>\n      <td>0.173838</td>\n      <td>0.177086</td>\n      <td>0.003248</td>\n    </tr>\n    <tr>\n      <th>2</th>\n      <td>3.0</td>\n      <td>0.122568</td>\n      <td>0.124687</td>\n      <td>0.002119</td>\n    </tr>\n    <tr>\n      <th>3</th>\n      <td>4.0</td>\n      <td>0.076226</td>\n      <td>0.077568</td>\n      <td>0.001343</td>\n    </tr>\n    <tr>\n      <th>4</th>\n      <td>5.0</td>\n      <td>0.050153</td>\n      <td>0.051158</td>\n      <td>0.001005</td>\n    </tr>\n    <tr>\n      <th>5</th>\n      <td>6.0</td>\n      <td>0.032612</td>\n      <td>0.033464</td>\n      <td>0.000852</td>\n    </tr>\n    <tr>\n      <th>6</th>\n      <td>7.0</td>\n      <td>0.022636</td>\n      <td>0.024104</td>\n      <td>0.001468</td>\n    </tr>\n  </tbody>\n</table>\n</div>"
     },
     "execution_count": 8,
     "metadata": {},
     "output_type": "execute_result"
    }
   ],
   "source": [
    "MOC_C"
   ],
   "metadata": {
    "collapsed": false,
    "ExecuteTime": {
     "end_time": "2024-04-01T15:31:10.237894Z",
     "start_time": "2024-04-01T15:31:10.224053Z"
    }
   },
   "id": "e69ff148f41720c6"
  },
  {
   "cell_type": "markdown",
   "source": [
    "# MOC A\n",
    "### Crise Covid"
   ],
   "metadata": {
    "collapsed": false
   },
   "id": "7d4ecd6c7bba4990"
  },
  {
   "cell_type": "code",
   "execution_count": 9,
   "outputs": [],
   "source": [
    "avant_covid = df[df['date_trimestrielle'] < '2020_2']\n",
    "\n",
    "taux_defaut_avant_covid = avant_covid.groupby('Classes')['TARGET'].mean()\n",
    "taux_defaut_pendant_covid = df.groupby('Classes')['TARGET'].mean()\n",
    "\n",
    "impact_covid_par_classe = (taux_defaut_avant_covid/taux_defaut_pendant_covid)-1"
   ],
   "metadata": {
    "collapsed": false,
    "ExecuteTime": {
     "end_time": "2024-04-01T15:31:10.362270Z",
     "start_time": "2024-04-01T15:31:10.249459Z"
    }
   },
   "id": "66ecab74783f469f"
  },
  {
   "cell_type": "code",
   "execution_count": 10,
   "outputs": [
    {
     "data": {
      "text/plain": "Classes\n1    0.000614\n2   -0.002937\n3   -0.007154\n4   -0.003364\n5   -0.009690\n6   -0.002816\n7   -0.013034\nName: TARGET, dtype: float64"
     },
     "execution_count": 10,
     "metadata": {},
     "output_type": "execute_result"
    }
   ],
   "source": [
    "impact_covid_par_classe"
   ],
   "metadata": {
    "collapsed": false,
    "ExecuteTime": {
     "end_time": "2024-04-01T15:31:10.372164Z",
     "start_time": "2024-04-01T15:31:10.359646Z"
    }
   },
   "id": "25dfc7e8042267c8"
  },
  {
   "cell_type": "code",
   "execution_count": 11,
   "outputs": [
    {
     "data": {
      "text/plain": "Classes\n1    0.190839\n2    0.143625\n3    0.107548\n4    0.070416\n5    0.047639\n6    0.031549\n7    0.022125\nName: TARGET, dtype: float64"
     },
     "execution_count": 11,
     "metadata": {},
     "output_type": "execute_result"
    }
   ],
   "source": [
    "variance_taux_defaut_pendant_covid = df.groupby('Classes')['TARGET'].var()\n",
    "variance_taux_defaut_pendant_covid"
   ],
   "metadata": {
    "collapsed": false,
    "ExecuteTime": {
     "end_time": "2024-04-01T15:31:10.382985Z",
     "start_time": "2024-04-01T15:31:10.366826Z"
    }
   },
   "id": "4d7b84ecefa74916"
  },
  {
   "cell_type": "code",
   "execution_count": 12,
   "outputs": [
    {
     "data": {
      "text/plain": "            1         2         3         4         5         6         7\n0   -0.029866 -0.079585  0.071060  0.038974 -0.017930  0.000765 -0.044065\n1    0.190391 -0.066032  0.006576  0.002126 -0.028625  0.012336  0.012273\n2   -0.118212  0.223370 -0.172215  0.027188 -0.013745 -0.005388 -0.012243\n3   -0.109836 -0.000530  0.071185  0.028454 -0.026984  0.031598 -0.016289\n4   -0.164794  0.033931 -0.103553  0.035774  0.064859 -0.049031 -0.033077\n..        ...       ...       ...       ...       ...       ...       ...\n995 -0.186169  0.220387 -0.195824 -0.105867 -0.005717 -0.003255 -0.007378\n996 -0.092668 -0.041153 -0.160650  0.063698  0.026208  0.002531  0.003010\n997  0.054906 -0.140993 -0.160194 -0.040641  0.012093  0.005730 -0.002500\n998  0.124506 -0.038782 -0.035862 -0.027345 -0.022432 -0.043598  0.002127\n999 -0.167568  0.008843 -0.183138 -0.069888  0.056753 -0.047683  0.018782\n\n[1000 rows x 7 columns]",
      "text/html": "<div>\n<style scoped>\n    .dataframe tbody tr th:only-of-type {\n        vertical-align: middle;\n    }\n\n    .dataframe tbody tr th {\n        vertical-align: top;\n    }\n\n    .dataframe thead th {\n        text-align: right;\n    }\n</style>\n<table border=\"1\" class=\"dataframe\">\n  <thead>\n    <tr style=\"text-align: right;\">\n      <th></th>\n      <th>1</th>\n      <th>2</th>\n      <th>3</th>\n      <th>4</th>\n      <th>5</th>\n      <th>6</th>\n      <th>7</th>\n    </tr>\n  </thead>\n  <tbody>\n    <tr>\n      <th>0</th>\n      <td>-0.029866</td>\n      <td>-0.079585</td>\n      <td>0.071060</td>\n      <td>0.038974</td>\n      <td>-0.017930</td>\n      <td>0.000765</td>\n      <td>-0.044065</td>\n    </tr>\n    <tr>\n      <th>1</th>\n      <td>0.190391</td>\n      <td>-0.066032</td>\n      <td>0.006576</td>\n      <td>0.002126</td>\n      <td>-0.028625</td>\n      <td>0.012336</td>\n      <td>0.012273</td>\n    </tr>\n    <tr>\n      <th>2</th>\n      <td>-0.118212</td>\n      <td>0.223370</td>\n      <td>-0.172215</td>\n      <td>0.027188</td>\n      <td>-0.013745</td>\n      <td>-0.005388</td>\n      <td>-0.012243</td>\n    </tr>\n    <tr>\n      <th>3</th>\n      <td>-0.109836</td>\n      <td>-0.000530</td>\n      <td>0.071185</td>\n      <td>0.028454</td>\n      <td>-0.026984</td>\n      <td>0.031598</td>\n      <td>-0.016289</td>\n    </tr>\n    <tr>\n      <th>4</th>\n      <td>-0.164794</td>\n      <td>0.033931</td>\n      <td>-0.103553</td>\n      <td>0.035774</td>\n      <td>0.064859</td>\n      <td>-0.049031</td>\n      <td>-0.033077</td>\n    </tr>\n    <tr>\n      <th>...</th>\n      <td>...</td>\n      <td>...</td>\n      <td>...</td>\n      <td>...</td>\n      <td>...</td>\n      <td>...</td>\n      <td>...</td>\n    </tr>\n    <tr>\n      <th>995</th>\n      <td>-0.186169</td>\n      <td>0.220387</td>\n      <td>-0.195824</td>\n      <td>-0.105867</td>\n      <td>-0.005717</td>\n      <td>-0.003255</td>\n      <td>-0.007378</td>\n    </tr>\n    <tr>\n      <th>996</th>\n      <td>-0.092668</td>\n      <td>-0.041153</td>\n      <td>-0.160650</td>\n      <td>0.063698</td>\n      <td>0.026208</td>\n      <td>0.002531</td>\n      <td>0.003010</td>\n    </tr>\n    <tr>\n      <th>997</th>\n      <td>0.054906</td>\n      <td>-0.140993</td>\n      <td>-0.160194</td>\n      <td>-0.040641</td>\n      <td>0.012093</td>\n      <td>0.005730</td>\n      <td>-0.002500</td>\n    </tr>\n    <tr>\n      <th>998</th>\n      <td>0.124506</td>\n      <td>-0.038782</td>\n      <td>-0.035862</td>\n      <td>-0.027345</td>\n      <td>-0.022432</td>\n      <td>-0.043598</td>\n      <td>0.002127</td>\n    </tr>\n    <tr>\n      <th>999</th>\n      <td>-0.167568</td>\n      <td>0.008843</td>\n      <td>-0.183138</td>\n      <td>-0.069888</td>\n      <td>0.056753</td>\n      <td>-0.047683</td>\n      <td>0.018782</td>\n    </tr>\n  </tbody>\n</table>\n<p>1000 rows × 7 columns</p>\n</div>"
     },
     "execution_count": 12,
     "metadata": {},
     "output_type": "execute_result"
    }
   ],
   "source": [
    "simulations = pd.DataFrame()\n",
    "\n",
    "for classe in impact_covid_par_classe.index:\n",
    "    moyenne_impact = impact_covid_par_classe[classe]\n",
    "    variance_impact = variance_taux_defaut_pendant_covid[classe]\n",
    "\n",
    "    variance_impact = variance_impact if variance_impact > 0 else 0.001\n",
    "\n",
    "    tirages = np.random.normal(moyenne_impact, variance_impact, 1000)\n",
    "\n",
    "    simulations[classe] = tirages\n",
    "    \n",
    "simulations"
   ],
   "metadata": {
    "collapsed": false,
    "ExecuteTime": {
     "end_time": "2024-04-01T15:31:10.408118Z",
     "start_time": "2024-04-01T15:31:10.382097Z"
    }
   },
   "id": "3bbf4340a51b00a5"
  },
  {
   "cell_type": "code",
   "execution_count": 13,
   "outputs": [
    {
     "data": {
      "text/plain": "1   -0.010823\n2    0.007615\n3    0.012518\n4    0.010275\n5   -0.000617\n6    0.005205\n7   -0.006966\ndtype: float64"
     },
     "execution_count": 13,
     "metadata": {},
     "output_type": "execute_result"
    }
   ],
   "source": [
    "moyenne_empirique = simulations.mean()\n",
    "percentile_90 = simulations.quantile(0.90)\n",
    "MOC_A = percentile_90 - taux_defaut_pendant_covid\n",
    "MOC_A"
   ],
   "metadata": {
    "collapsed": false,
    "ExecuteTime": {
     "end_time": "2024-04-01T15:31:10.408830Z",
     "start_time": "2024-04-01T15:31:10.395197Z"
    }
   },
   "id": "7bdbb9fb92aaf59b"
  },
  {
   "cell_type": "code",
   "execution_count": 15,
   "outputs": [],
   "source": [
    "MOC_A = MOC_A.reset_index()"
   ],
   "metadata": {
    "collapsed": false,
    "ExecuteTime": {
     "end_time": "2024-04-01T15:31:29.282942Z",
     "start_time": "2024-04-01T15:31:29.273867Z"
    }
   },
   "id": "f0e866aba7e01b42"
  },
  {
   "cell_type": "code",
   "execution_count": 17,
   "outputs": [],
   "source": [
    "MOC_A.columns = [\"CHR\", \"MOC_A\"]"
   ],
   "metadata": {
    "collapsed": false,
    "ExecuteTime": {
     "end_time": "2024-04-01T15:31:47.314250Z",
     "start_time": "2024-04-01T15:31:47.282483Z"
    }
   },
   "id": "84e771513891370a"
  },
  {
   "cell_type": "code",
   "execution_count": 18,
   "outputs": [
    {
     "data": {
      "text/plain": "   CHR     MOC_A\n0    1 -0.010823\n1    2  0.007615\n2    3  0.012518\n3    4  0.010275\n4    5 -0.000617\n5    6  0.005205\n6    7 -0.006966",
      "text/html": "<div>\n<style scoped>\n    .dataframe tbody tr th:only-of-type {\n        vertical-align: middle;\n    }\n\n    .dataframe tbody tr th {\n        vertical-align: top;\n    }\n\n    .dataframe thead th {\n        text-align: right;\n    }\n</style>\n<table border=\"1\" class=\"dataframe\">\n  <thead>\n    <tr style=\"text-align: right;\">\n      <th></th>\n      <th>CHR</th>\n      <th>MOC_A</th>\n    </tr>\n  </thead>\n  <tbody>\n    <tr>\n      <th>0</th>\n      <td>1</td>\n      <td>-0.010823</td>\n    </tr>\n    <tr>\n      <th>1</th>\n      <td>2</td>\n      <td>0.007615</td>\n    </tr>\n    <tr>\n      <th>2</th>\n      <td>3</td>\n      <td>0.012518</td>\n    </tr>\n    <tr>\n      <th>3</th>\n      <td>4</td>\n      <td>0.010275</td>\n    </tr>\n    <tr>\n      <th>4</th>\n      <td>5</td>\n      <td>-0.000617</td>\n    </tr>\n    <tr>\n      <th>5</th>\n      <td>6</td>\n      <td>0.005205</td>\n    </tr>\n    <tr>\n      <th>6</th>\n      <td>7</td>\n      <td>-0.006966</td>\n    </tr>\n  </tbody>\n</table>\n</div>"
     },
     "execution_count": 18,
     "metadata": {},
     "output_type": "execute_result"
    }
   ],
   "source": [
    "MOC_A"
   ],
   "metadata": {
    "collapsed": false,
    "ExecuteTime": {
     "end_time": "2024-04-01T15:31:50.940654Z",
     "start_time": "2024-04-01T15:31:50.932715Z"
    }
   },
   "id": "5b2af16886b350cb"
  },
  {
   "cell_type": "markdown",
   "source": [
    "# Conclusion"
   ],
   "metadata": {
    "collapsed": false
   },
   "id": "ffac25efbf412d35"
  },
  {
   "cell_type": "code",
   "execution_count": 16,
   "outputs": [],
   "source": [
    "MOC = pd.DataFrame(columns = [\"Classe\", \"LRA\", \"MOC_A\", \"MOC_C\"])\n",
    "MOC[\"LRA\"] = taux_defaut_avant_covid.reset_index(drop=True)\n",
    "MOC[\"MOC_A\"] = MOC_A.reset_index(drop=True).apply(lambda x : 0 if x < 0 else x)\n",
    "MOC[\"MOC_C\"] = MOC_C[\"Moc_C\"].reset_index(drop=True)\n",
    "MOC[\"Classe\"] = range(1,8)\n",
    "MOC[\"LRA + MOC\"] = MOC[\"LRA\"] + MOC[\"MOC_A\"] + MOC[\"MOC_C\"]"
   ],
   "metadata": {
    "collapsed": false,
    "ExecuteTime": {
     "end_time": "2024-02-27T17:35:54.003438Z",
     "start_time": "2024-02-27T17:35:53.996540Z"
    }
   },
   "id": "ede2fb48ec425a32"
  },
  {
   "cell_type": "code",
   "execution_count": 17,
   "outputs": [
    {
     "data": {
      "text/plain": "   Classe       LRA     MOC_A     MOC_C  LRA + MOC\n0       1  0.256900  0.000000  0.005041   0.261941\n1       2  0.173328  0.002676  0.003439   0.179442\n2       3  0.121691  0.001133  0.002042   0.124865\n3       4  0.075969  0.012848  0.001265   0.090083\n4       5  0.049667  0.000612  0.000993   0.051273\n5       6  0.032520  0.006496  0.000852   0.039869\n6       7  0.022341  0.000000  0.001411   0.023752",
      "text/html": "<div>\n<style scoped>\n    .dataframe tbody tr th:only-of-type {\n        vertical-align: middle;\n    }\n\n    .dataframe tbody tr th {\n        vertical-align: top;\n    }\n\n    .dataframe thead th {\n        text-align: right;\n    }\n</style>\n<table border=\"1\" class=\"dataframe\">\n  <thead>\n    <tr style=\"text-align: right;\">\n      <th></th>\n      <th>Classe</th>\n      <th>LRA</th>\n      <th>MOC_A</th>\n      <th>MOC_C</th>\n      <th>LRA + MOC</th>\n    </tr>\n  </thead>\n  <tbody>\n    <tr>\n      <th>0</th>\n      <td>1</td>\n      <td>0.256900</td>\n      <td>0.000000</td>\n      <td>0.005041</td>\n      <td>0.261941</td>\n    </tr>\n    <tr>\n      <th>1</th>\n      <td>2</td>\n      <td>0.173328</td>\n      <td>0.002676</td>\n      <td>0.003439</td>\n      <td>0.179442</td>\n    </tr>\n    <tr>\n      <th>2</th>\n      <td>3</td>\n      <td>0.121691</td>\n      <td>0.001133</td>\n      <td>0.002042</td>\n      <td>0.124865</td>\n    </tr>\n    <tr>\n      <th>3</th>\n      <td>4</td>\n      <td>0.075969</td>\n      <td>0.012848</td>\n      <td>0.001265</td>\n      <td>0.090083</td>\n    </tr>\n    <tr>\n      <th>4</th>\n      <td>5</td>\n      <td>0.049667</td>\n      <td>0.000612</td>\n      <td>0.000993</td>\n      <td>0.051273</td>\n    </tr>\n    <tr>\n      <th>5</th>\n      <td>6</td>\n      <td>0.032520</td>\n      <td>0.006496</td>\n      <td>0.000852</td>\n      <td>0.039869</td>\n    </tr>\n    <tr>\n      <th>6</th>\n      <td>7</td>\n      <td>0.022341</td>\n      <td>0.000000</td>\n      <td>0.001411</td>\n      <td>0.023752</td>\n    </tr>\n  </tbody>\n</table>\n</div>"
     },
     "execution_count": 17,
     "metadata": {},
     "output_type": "execute_result"
    }
   ],
   "source": [
    "MOC"
   ],
   "metadata": {
    "collapsed": false,
    "ExecuteTime": {
     "end_time": "2024-02-27T17:35:54.010389Z",
     "start_time": "2024-02-27T17:35:54.002949Z"
    }
   },
   "id": "bccb5b8ea06f3897"
  }
 ],
 "metadata": {
  "kernelspec": {
   "display_name": "Python 3",
   "language": "python",
   "name": "python3"
  },
  "language_info": {
   "codemirror_mode": {
    "name": "ipython",
    "version": 2
   },
   "file_extension": ".py",
   "mimetype": "text/x-python",
   "name": "python",
   "nbconvert_exporter": "python",
   "pygments_lexer": "ipython2",
   "version": "2.7.6"
  }
 },
 "nbformat": 4,
 "nbformat_minor": 5
}
