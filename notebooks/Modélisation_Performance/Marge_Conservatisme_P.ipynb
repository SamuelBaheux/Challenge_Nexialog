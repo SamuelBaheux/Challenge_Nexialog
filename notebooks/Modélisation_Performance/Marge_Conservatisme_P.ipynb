{
 "cells": [
  {
   "cell_type": "code",
   "execution_count": 3,
   "id": "initial_id",
   "metadata": {
    "collapsed": true,
    "ExecuteTime": {
     "end_time": "2024-02-27T17:35:44.550827Z",
     "start_time": "2024-02-27T17:35:44.489187Z"
    }
   },
   "outputs": [],
   "source": [
    "import pandas as pd\n",
    "import numpy as np"
   ]
  },
  {
   "cell_type": "code",
   "execution_count": 4,
   "outputs": [],
   "source": [
    "df = pd.read_csv(\"../../data/df_segmentation_P.csv\", index_col=[0])\n",
    "df[\"date_mensuelle\"] = pd.to_datetime(df[\"date_mensuelle\"])\n",
    "df['date_trimestrielle'] = df['date_mensuelle'].dt.year.astype(str) + '_' + df['date_mensuelle'].dt.quarter.astype(str)"
   ],
   "metadata": {
    "collapsed": false,
    "ExecuteTime": {
     "end_time": "2024-02-27T17:35:45.952215Z",
     "start_time": "2024-02-27T17:35:44.496313Z"
    }
   },
   "id": "d28f6fe35024c091"
  },
  {
   "cell_type": "markdown",
   "source": [
    "# MOC C"
   ],
   "metadata": {
    "collapsed": false
   },
   "id": "e91a3a799ebe862b"
  },
  {
   "cell_type": "code",
   "execution_count": 5,
   "outputs": [],
   "source": [
    "resultats = df.groupby(\"Classes\").agg(moyenne_TARGET=(\"TARGET\", \"mean\")).to_dict()[\"moyenne_TARGET\"]"
   ],
   "metadata": {
    "collapsed": false,
    "ExecuteTime": {
     "end_time": "2024-02-27T17:35:45.964841Z",
     "start_time": "2024-02-27T17:35:45.955220Z"
    }
   },
   "id": "fc22be3053d435d2"
  },
  {
   "cell_type": "code",
   "execution_count": 6,
   "outputs": [
    {
     "data": {
      "text/plain": "{1: 0.25674217907227614,\n 2: 0.17383829218205263,\n 3: 0.12256764090239554,\n 4: 0.07622553278882763,\n 5: 0.050153307052124396,\n 6: 0.03261193020424726,\n 7: 0.02263618402483771}"
     },
     "execution_count": 6,
     "metadata": {},
     "output_type": "execute_result"
    }
   ],
   "source": [
    "resultats"
   ],
   "metadata": {
    "collapsed": false,
    "ExecuteTime": {
     "end_time": "2024-02-27T17:35:45.970898Z",
     "start_time": "2024-02-27T17:35:45.967152Z"
    }
   },
   "id": "4164ff9f89c66551"
  },
  {
   "cell_type": "code",
   "execution_count": 7,
   "outputs": [],
   "source": [
    "def Boostrapping_Classes(classe):\n",
    "    df_classe = df[df['Classes'] == classe]\n",
    "    tx_defaut_liste = []\n",
    "\n",
    "    for _ in range(1000):\n",
    "        echantillon = df_classe[\"TARGET\"].sample(n=len(df_classe), replace=True)\n",
    "        tx_defaut_liste.append(echantillon.mean())\n",
    "        \n",
    "    tx_defaut_liste = np.array(tx_defaut_liste)\n",
    "\n",
    "    decile9 = np.percentile(tx_defaut_liste, 90)\n",
    "\n",
    "    MOC_C = decile9 - resultats[classe]\n",
    "    \n",
    "    return(classe, resultats[classe], decile9, MOC_C)"
   ],
   "metadata": {
    "collapsed": false,
    "ExecuteTime": {
     "end_time": "2024-02-27T17:35:45.996722Z",
     "start_time": "2024-02-27T17:35:45.973796Z"
    }
   },
   "id": "d407000f977faabf"
  },
  {
   "cell_type": "code",
   "execution_count": 8,
   "outputs": [],
   "source": [
    "MOC_C = pd.DataFrame(columns = [\"Classe\", \"LRA\", \"Décile9\", \"Moc_C\"])"
   ],
   "metadata": {
    "collapsed": false,
    "ExecuteTime": {
     "end_time": "2024-02-27T17:35:46.002949Z",
     "start_time": "2024-02-27T17:35:45.978448Z"
    }
   },
   "id": "934435464fc9ae6b"
  },
  {
   "cell_type": "code",
   "execution_count": 9,
   "outputs": [],
   "source": [
    "for i in range(1,8):\n",
    "    classe, LRA, decile9, MOC_C_classe = Boostrapping_Classes(i)\n",
    "    MOC_C.loc[len(MOC_C)] = [classe, LRA, decile9, MOC_C_classe]"
   ],
   "metadata": {
    "collapsed": false,
    "ExecuteTime": {
     "end_time": "2024-02-27T17:35:53.816365Z",
     "start_time": "2024-02-27T17:35:45.982720Z"
    }
   },
   "id": "cc909699ebc2913f"
  },
  {
   "cell_type": "code",
   "execution_count": 10,
   "outputs": [
    {
     "data": {
      "text/plain": "   Classe       LRA   Décile9     Moc_C\n0     1.0  0.256742  0.261784  0.005041\n1     2.0  0.173838  0.177277  0.003439\n2     3.0  0.122568  0.124609  0.002042\n3     4.0  0.076226  0.077491  0.001265\n4     5.0  0.050153  0.051147  0.000993\n5     6.0  0.032612  0.033464  0.000852\n6     7.0  0.022636  0.024047  0.001411",
      "text/html": "<div>\n<style scoped>\n    .dataframe tbody tr th:only-of-type {\n        vertical-align: middle;\n    }\n\n    .dataframe tbody tr th {\n        vertical-align: top;\n    }\n\n    .dataframe thead th {\n        text-align: right;\n    }\n</style>\n<table border=\"1\" class=\"dataframe\">\n  <thead>\n    <tr style=\"text-align: right;\">\n      <th></th>\n      <th>Classe</th>\n      <th>LRA</th>\n      <th>Décile9</th>\n      <th>Moc_C</th>\n    </tr>\n  </thead>\n  <tbody>\n    <tr>\n      <th>0</th>\n      <td>1.0</td>\n      <td>0.256742</td>\n      <td>0.261784</td>\n      <td>0.005041</td>\n    </tr>\n    <tr>\n      <th>1</th>\n      <td>2.0</td>\n      <td>0.173838</td>\n      <td>0.177277</td>\n      <td>0.003439</td>\n    </tr>\n    <tr>\n      <th>2</th>\n      <td>3.0</td>\n      <td>0.122568</td>\n      <td>0.124609</td>\n      <td>0.002042</td>\n    </tr>\n    <tr>\n      <th>3</th>\n      <td>4.0</td>\n      <td>0.076226</td>\n      <td>0.077491</td>\n      <td>0.001265</td>\n    </tr>\n    <tr>\n      <th>4</th>\n      <td>5.0</td>\n      <td>0.050153</td>\n      <td>0.051147</td>\n      <td>0.000993</td>\n    </tr>\n    <tr>\n      <th>5</th>\n      <td>6.0</td>\n      <td>0.032612</td>\n      <td>0.033464</td>\n      <td>0.000852</td>\n    </tr>\n    <tr>\n      <th>6</th>\n      <td>7.0</td>\n      <td>0.022636</td>\n      <td>0.024047</td>\n      <td>0.001411</td>\n    </tr>\n  </tbody>\n</table>\n</div>"
     },
     "execution_count": 10,
     "metadata": {},
     "output_type": "execute_result"
    }
   ],
   "source": [
    "MOC_C"
   ],
   "metadata": {
    "collapsed": false,
    "ExecuteTime": {
     "end_time": "2024-02-27T17:35:53.829661Z",
     "start_time": "2024-02-27T17:35:53.816763Z"
    }
   },
   "id": "e69ff148f41720c6"
  },
  {
   "cell_type": "markdown",
   "source": [
    "# MOC A\n",
    "### Crise Covid"
   ],
   "metadata": {
    "collapsed": false
   },
   "id": "7d4ecd6c7bba4990"
  },
  {
   "cell_type": "code",
   "execution_count": 11,
   "outputs": [],
   "source": [
    "avant_covid = df[df['date_trimestrielle'] < '2020_2']\n",
    "\n",
    "taux_defaut_avant_covid = avant_covid.groupby('Classes')['TARGET'].mean()\n",
    "taux_defaut_pendant_covid = df.groupby('Classes')['TARGET'].mean()\n",
    "\n",
    "impact_covid_par_classe = (taux_defaut_avant_covid/taux_defaut_pendant_covid)-1"
   ],
   "metadata": {
    "collapsed": false,
    "ExecuteTime": {
     "end_time": "2024-02-27T17:35:53.959722Z",
     "start_time": "2024-02-27T17:35:53.838710Z"
    }
   },
   "id": "66ecab74783f469f"
  },
  {
   "cell_type": "code",
   "execution_count": 12,
   "outputs": [
    {
     "data": {
      "text/plain": "Classes\n1    0.000614\n2   -0.002937\n3   -0.007154\n4   -0.003364\n5   -0.009690\n6   -0.002816\n7   -0.013034\nName: TARGET, dtype: float64"
     },
     "execution_count": 12,
     "metadata": {},
     "output_type": "execute_result"
    }
   ],
   "source": [
    "impact_covid_par_classe"
   ],
   "metadata": {
    "collapsed": false,
    "ExecuteTime": {
     "end_time": "2024-02-27T17:35:53.960019Z",
     "start_time": "2024-02-27T17:35:53.955603Z"
    }
   },
   "id": "25dfc7e8042267c8"
  },
  {
   "cell_type": "code",
   "execution_count": 13,
   "outputs": [
    {
     "data": {
      "text/plain": "Classes\n1    0.190839\n2    0.143625\n3    0.107548\n4    0.070416\n5    0.047639\n6    0.031549\n7    0.022125\nName: TARGET, dtype: float64"
     },
     "execution_count": 13,
     "metadata": {},
     "output_type": "execute_result"
    }
   ],
   "source": [
    "variance_taux_defaut_pendant_covid = df.groupby('Classes')['TARGET'].var()\n",
    "variance_taux_defaut_pendant_covid"
   ],
   "metadata": {
    "collapsed": false,
    "ExecuteTime": {
     "end_time": "2024-02-27T17:35:53.975845Z",
     "start_time": "2024-02-27T17:35:53.962281Z"
    }
   },
   "id": "4d7b84ecefa74916"
  },
  {
   "cell_type": "code",
   "execution_count": 14,
   "outputs": [
    {
     "data": {
      "text/plain": "            1         2         3         4         5         6         7\n0    0.046132  0.019495  0.150000 -0.153623 -0.064094 -0.009338  0.012030\n1    0.073875  0.270020  0.106451  0.125480 -0.131534  0.044782 -0.026733\n2   -0.265271 -0.143513 -0.014463 -0.092259 -0.035069 -0.006863 -0.005180\n3   -0.072478  0.020564 -0.085758  0.102765  0.058380  0.010071 -0.005464\n4    0.004406 -0.084484  0.095201 -0.000529 -0.076346  0.011909 -0.027805\n..        ...       ...       ...       ...       ...       ...       ...\n995 -0.218146 -0.211661 -0.008148 -0.199096 -0.072964  0.054705 -0.011457\n996  0.068108  0.190884 -0.041770 -0.124589 -0.087080 -0.046353 -0.022066\n997 -0.293067 -0.256781  0.168177 -0.109017 -0.077985  0.031303 -0.052808\n998  0.392361 -0.268687 -0.059230  0.020920 -0.015399 -0.027881 -0.016212\n999 -0.004958 -0.083580  0.198170 -0.081267 -0.030275 -0.013197 -0.009184\n\n[1000 rows x 7 columns]",
      "text/html": "<div>\n<style scoped>\n    .dataframe tbody tr th:only-of-type {\n        vertical-align: middle;\n    }\n\n    .dataframe tbody tr th {\n        vertical-align: top;\n    }\n\n    .dataframe thead th {\n        text-align: right;\n    }\n</style>\n<table border=\"1\" class=\"dataframe\">\n  <thead>\n    <tr style=\"text-align: right;\">\n      <th></th>\n      <th>1</th>\n      <th>2</th>\n      <th>3</th>\n      <th>4</th>\n      <th>5</th>\n      <th>6</th>\n      <th>7</th>\n    </tr>\n  </thead>\n  <tbody>\n    <tr>\n      <th>0</th>\n      <td>0.046132</td>\n      <td>0.019495</td>\n      <td>0.150000</td>\n      <td>-0.153623</td>\n      <td>-0.064094</td>\n      <td>-0.009338</td>\n      <td>0.012030</td>\n    </tr>\n    <tr>\n      <th>1</th>\n      <td>0.073875</td>\n      <td>0.270020</td>\n      <td>0.106451</td>\n      <td>0.125480</td>\n      <td>-0.131534</td>\n      <td>0.044782</td>\n      <td>-0.026733</td>\n    </tr>\n    <tr>\n      <th>2</th>\n      <td>-0.265271</td>\n      <td>-0.143513</td>\n      <td>-0.014463</td>\n      <td>-0.092259</td>\n      <td>-0.035069</td>\n      <td>-0.006863</td>\n      <td>-0.005180</td>\n    </tr>\n    <tr>\n      <th>3</th>\n      <td>-0.072478</td>\n      <td>0.020564</td>\n      <td>-0.085758</td>\n      <td>0.102765</td>\n      <td>0.058380</td>\n      <td>0.010071</td>\n      <td>-0.005464</td>\n    </tr>\n    <tr>\n      <th>4</th>\n      <td>0.004406</td>\n      <td>-0.084484</td>\n      <td>0.095201</td>\n      <td>-0.000529</td>\n      <td>-0.076346</td>\n      <td>0.011909</td>\n      <td>-0.027805</td>\n    </tr>\n    <tr>\n      <th>...</th>\n      <td>...</td>\n      <td>...</td>\n      <td>...</td>\n      <td>...</td>\n      <td>...</td>\n      <td>...</td>\n      <td>...</td>\n    </tr>\n    <tr>\n      <th>995</th>\n      <td>-0.218146</td>\n      <td>-0.211661</td>\n      <td>-0.008148</td>\n      <td>-0.199096</td>\n      <td>-0.072964</td>\n      <td>0.054705</td>\n      <td>-0.011457</td>\n    </tr>\n    <tr>\n      <th>996</th>\n      <td>0.068108</td>\n      <td>0.190884</td>\n      <td>-0.041770</td>\n      <td>-0.124589</td>\n      <td>-0.087080</td>\n      <td>-0.046353</td>\n      <td>-0.022066</td>\n    </tr>\n    <tr>\n      <th>997</th>\n      <td>-0.293067</td>\n      <td>-0.256781</td>\n      <td>0.168177</td>\n      <td>-0.109017</td>\n      <td>-0.077985</td>\n      <td>0.031303</td>\n      <td>-0.052808</td>\n    </tr>\n    <tr>\n      <th>998</th>\n      <td>0.392361</td>\n      <td>-0.268687</td>\n      <td>-0.059230</td>\n      <td>0.020920</td>\n      <td>-0.015399</td>\n      <td>-0.027881</td>\n      <td>-0.016212</td>\n    </tr>\n    <tr>\n      <th>999</th>\n      <td>-0.004958</td>\n      <td>-0.083580</td>\n      <td>0.198170</td>\n      <td>-0.081267</td>\n      <td>-0.030275</td>\n      <td>-0.013197</td>\n      <td>-0.009184</td>\n    </tr>\n  </tbody>\n</table>\n<p>1000 rows × 7 columns</p>\n</div>"
     },
     "execution_count": 14,
     "metadata": {},
     "output_type": "execute_result"
    }
   ],
   "source": [
    "simulations = pd.DataFrame()\n",
    "\n",
    "for classe in impact_covid_par_classe.index:\n",
    "    moyenne_impact = impact_covid_par_classe[classe]\n",
    "    variance_impact = variance_taux_defaut_pendant_covid[classe]\n",
    "\n",
    "    variance_impact = variance_impact if variance_impact > 0 else 0.001\n",
    "\n",
    "    tirages = np.random.normal(moyenne_impact, variance_impact, 1000)\n",
    "\n",
    "    simulations[classe] = tirages\n",
    "    \n",
    "simulations"
   ],
   "metadata": {
    "collapsed": false,
    "ExecuteTime": {
     "end_time": "2024-02-27T17:35:53.987346Z",
     "start_time": "2024-02-27T17:35:53.974472Z"
    }
   },
   "id": "3bbf4340a51b00a5"
  },
  {
   "cell_type": "code",
   "execution_count": 15,
   "outputs": [
    {
     "data": {
      "text/plain": "1   -0.007236\n2    0.002676\n3    0.001133\n4    0.012848\n5    0.000612\n6    0.006496\n7   -0.006731\ndtype: float64"
     },
     "execution_count": 15,
     "metadata": {},
     "output_type": "execute_result"
    }
   ],
   "source": [
    "moyenne_empirique = simulations.mean()\n",
    "percentile_90 = simulations.quantile(0.90)\n",
    "MOC_A = percentile_90 - taux_defaut_pendant_covid\n",
    "MOC_A"
   ],
   "metadata": {
    "collapsed": false,
    "ExecuteTime": {
     "end_time": "2024-02-27T17:35:53.995288Z",
     "start_time": "2024-02-27T17:35:53.986551Z"
    }
   },
   "id": "7bdbb9fb92aaf59b"
  },
  {
   "cell_type": "markdown",
   "source": [
    "# Conclusion"
   ],
   "metadata": {
    "collapsed": false
   },
   "id": "ffac25efbf412d35"
  },
  {
   "cell_type": "code",
   "execution_count": 16,
   "outputs": [],
   "source": [
    "MOC = pd.DataFrame(columns = [\"Classe\", \"LRA\", \"MOC_A\", \"MOC_C\"])\n",
    "MOC[\"LRA\"] = taux_defaut_avant_covid.reset_index(drop=True)\n",
    "MOC[\"MOC_A\"] = MOC_A.reset_index(drop=True).apply(lambda x : 0 if x < 0 else x)\n",
    "MOC[\"MOC_C\"] = MOC_C[\"Moc_C\"].reset_index(drop=True)\n",
    "MOC[\"Classe\"] = range(1,8)\n",
    "MOC[\"LRA + MOC\"] = MOC[\"LRA\"] + MOC[\"MOC_A\"] + MOC[\"MOC_C\"]"
   ],
   "metadata": {
    "collapsed": false,
    "ExecuteTime": {
     "end_time": "2024-02-27T17:35:54.003438Z",
     "start_time": "2024-02-27T17:35:53.996540Z"
    }
   },
   "id": "ede2fb48ec425a32"
  },
  {
   "cell_type": "code",
   "execution_count": 17,
   "outputs": [
    {
     "data": {
      "text/plain": "   Classe       LRA     MOC_A     MOC_C  LRA + MOC\n0       1  0.256900  0.000000  0.005041   0.261941\n1       2  0.173328  0.002676  0.003439   0.179442\n2       3  0.121691  0.001133  0.002042   0.124865\n3       4  0.075969  0.012848  0.001265   0.090083\n4       5  0.049667  0.000612  0.000993   0.051273\n5       6  0.032520  0.006496  0.000852   0.039869\n6       7  0.022341  0.000000  0.001411   0.023752",
      "text/html": "<div>\n<style scoped>\n    .dataframe tbody tr th:only-of-type {\n        vertical-align: middle;\n    }\n\n    .dataframe tbody tr th {\n        vertical-align: top;\n    }\n\n    .dataframe thead th {\n        text-align: right;\n    }\n</style>\n<table border=\"1\" class=\"dataframe\">\n  <thead>\n    <tr style=\"text-align: right;\">\n      <th></th>\n      <th>Classe</th>\n      <th>LRA</th>\n      <th>MOC_A</th>\n      <th>MOC_C</th>\n      <th>LRA + MOC</th>\n    </tr>\n  </thead>\n  <tbody>\n    <tr>\n      <th>0</th>\n      <td>1</td>\n      <td>0.256900</td>\n      <td>0.000000</td>\n      <td>0.005041</td>\n      <td>0.261941</td>\n    </tr>\n    <tr>\n      <th>1</th>\n      <td>2</td>\n      <td>0.173328</td>\n      <td>0.002676</td>\n      <td>0.003439</td>\n      <td>0.179442</td>\n    </tr>\n    <tr>\n      <th>2</th>\n      <td>3</td>\n      <td>0.121691</td>\n      <td>0.001133</td>\n      <td>0.002042</td>\n      <td>0.124865</td>\n    </tr>\n    <tr>\n      <th>3</th>\n      <td>4</td>\n      <td>0.075969</td>\n      <td>0.012848</td>\n      <td>0.001265</td>\n      <td>0.090083</td>\n    </tr>\n    <tr>\n      <th>4</th>\n      <td>5</td>\n      <td>0.049667</td>\n      <td>0.000612</td>\n      <td>0.000993</td>\n      <td>0.051273</td>\n    </tr>\n    <tr>\n      <th>5</th>\n      <td>6</td>\n      <td>0.032520</td>\n      <td>0.006496</td>\n      <td>0.000852</td>\n      <td>0.039869</td>\n    </tr>\n    <tr>\n      <th>6</th>\n      <td>7</td>\n      <td>0.022341</td>\n      <td>0.000000</td>\n      <td>0.001411</td>\n      <td>0.023752</td>\n    </tr>\n  </tbody>\n</table>\n</div>"
     },
     "execution_count": 17,
     "metadata": {},
     "output_type": "execute_result"
    }
   ],
   "source": [
    "MOC"
   ],
   "metadata": {
    "collapsed": false,
    "ExecuteTime": {
     "end_time": "2024-02-27T17:35:54.010389Z",
     "start_time": "2024-02-27T17:35:54.002949Z"
    }
   },
   "id": "bccb5b8ea06f3897"
  }
 ],
 "metadata": {
  "kernelspec": {
   "display_name": "Python 3",
   "language": "python",
   "name": "python3"
  },
  "language_info": {
   "codemirror_mode": {
    "name": "ipython",
    "version": 2
   },
   "file_extension": ".py",
   "mimetype": "text/x-python",
   "name": "python",
   "nbconvert_exporter": "python",
   "pygments_lexer": "ipython2",
   "version": "2.7.6"
  }
 },
 "nbformat": 4,
 "nbformat_minor": 5
}
