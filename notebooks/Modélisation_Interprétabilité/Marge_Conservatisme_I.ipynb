{
 "cells": [
  {
   "cell_type": "code",
   "execution_count": 1,
   "id": "initial_id",
   "metadata": {
    "collapsed": true,
    "ExecuteTime": {
     "end_time": "2024-02-27T17:08:38.503049Z",
     "start_time": "2024-02-27T17:08:38.087838Z"
    }
   },
   "outputs": [],
   "source": [
    "import pandas as pd\n",
    "import numpy as np"
   ]
  },
  {
   "cell_type": "code",
   "execution_count": 2,
   "outputs": [],
   "source": [
    "df = pd.read_csv(\"../../data/df_segmentation.csv\", index_col=[0])\n",
    "df[\"date_mensuelle\"] = pd.to_datetime(df[\"date_mensuelle\"])\n",
    "df['date_trimestrielle'] = df['date_mensuelle'].dt.year.astype(str) + '_' + df['date_mensuelle'].dt.quarter.astype(str)"
   ],
   "metadata": {
    "collapsed": false,
    "ExecuteTime": {
     "end_time": "2024-02-27T17:08:40.423702Z",
     "start_time": "2024-02-27T17:08:38.504684Z"
    }
   },
   "id": "d28f6fe35024c091"
  },
  {
   "cell_type": "markdown",
   "source": [
    "# MOC C"
   ],
   "metadata": {
    "collapsed": false
   },
   "id": "e91a3a799ebe862b"
  },
  {
   "cell_type": "code",
   "execution_count": 3,
   "outputs": [],
   "source": [
    "resultats = df.groupby(\"Classes\").agg(moyenne_TARGET=(\"TARGET\", \"mean\")).to_dict()[\"moyenne_TARGET\"]"
   ],
   "metadata": {
    "collapsed": false,
    "ExecuteTime": {
     "end_time": "2024-02-27T17:08:40.439935Z",
     "start_time": "2024-02-27T17:08:40.426274Z"
    }
   },
   "id": "fc22be3053d435d2"
  },
  {
   "cell_type": "code",
   "execution_count": 4,
   "outputs": [
    {
     "data": {
      "text/plain": "{1: 0.24321912034511825,\n 2: 0.1326317821973354,\n 3: 0.08159497151836574,\n 4: 0.0542754044301488,\n 5: 0.03653685245805381,\n 6: 0.02628501257236419,\n 7: 0.02181450447847443}"
     },
     "execution_count": 4,
     "metadata": {},
     "output_type": "execute_result"
    }
   ],
   "source": [
    "resultats"
   ],
   "metadata": {
    "collapsed": false,
    "ExecuteTime": {
     "end_time": "2024-02-27T17:08:40.451190Z",
     "start_time": "2024-02-27T17:08:40.444141Z"
    }
   },
   "id": "4164ff9f89c66551"
  },
  {
   "cell_type": "code",
   "execution_count": 5,
   "outputs": [],
   "source": [
    "def Boostrapping_Classes(classe):\n",
    "    df_classe = df[df['Classes'] == classe]\n",
    "    tx_defaut_liste = []\n",
    "\n",
    "    for _ in range(1000):\n",
    "        echantillon = df_classe[\"TARGET\"].sample(n=len(df_classe), replace=True)\n",
    "        tx_defaut_liste.append(echantillon.mean())\n",
    "        \n",
    "    tx_defaut_liste = np.array(tx_defaut_liste)\n",
    "\n",
    "    decile9 = np.percentile(tx_defaut_liste, 90)\n",
    "\n",
    "    MOC_C = decile9 - resultats[classe]\n",
    "    \n",
    "    return(classe, resultats[classe], decile9, MOC_C)"
   ],
   "metadata": {
    "collapsed": false,
    "ExecuteTime": {
     "end_time": "2024-02-27T17:08:40.459494Z",
     "start_time": "2024-02-27T17:08:40.452056Z"
    }
   },
   "id": "d407000f977faabf"
  },
  {
   "cell_type": "code",
   "execution_count": 6,
   "outputs": [],
   "source": [
    "MOC_C = pd.DataFrame(columns = [\"Classe\", \"LRA\", \"Décile9\", \"Moc_C\"])"
   ],
   "metadata": {
    "collapsed": false,
    "ExecuteTime": {
     "end_time": "2024-02-27T17:08:40.460527Z",
     "start_time": "2024-02-27T17:08:40.457348Z"
    }
   },
   "id": "934435464fc9ae6b"
  },
  {
   "cell_type": "code",
   "execution_count": 7,
   "outputs": [],
   "source": [
    "for i in range(1,8):\n",
    "    classe, LRA, decile9, MOC_C_classe = Boostrapping_Classes(i)\n",
    "    MOC_C.loc[len(MOC_C)] = [classe, LRA, decile9, MOC_C_classe]"
   ],
   "metadata": {
    "collapsed": false,
    "ExecuteTime": {
     "end_time": "2024-02-27T17:08:48.876276Z",
     "start_time": "2024-02-27T17:08:40.461673Z"
    }
   },
   "id": "cc909699ebc2913f"
  },
  {
   "cell_type": "code",
   "execution_count": 8,
   "outputs": [
    {
     "data": {
      "text/plain": "   Classe       LRA   Décile9     Moc_C\n0     1.0  0.243219  0.246794  0.003575\n1     2.0  0.132632  0.134526  0.001894\n2     3.0  0.081595  0.083225  0.001630\n3     4.0  0.054275  0.055275  0.001000\n4     5.0  0.036537  0.037462  0.000925\n5     6.0  0.026285  0.027455  0.001170\n6     7.0  0.021815  0.023982  0.002167",
      "text/html": "<div>\n<style scoped>\n    .dataframe tbody tr th:only-of-type {\n        vertical-align: middle;\n    }\n\n    .dataframe tbody tr th {\n        vertical-align: top;\n    }\n\n    .dataframe thead th {\n        text-align: right;\n    }\n</style>\n<table border=\"1\" class=\"dataframe\">\n  <thead>\n    <tr style=\"text-align: right;\">\n      <th></th>\n      <th>Classe</th>\n      <th>LRA</th>\n      <th>Décile9</th>\n      <th>Moc_C</th>\n    </tr>\n  </thead>\n  <tbody>\n    <tr>\n      <th>0</th>\n      <td>1.0</td>\n      <td>0.243219</td>\n      <td>0.246794</td>\n      <td>0.003575</td>\n    </tr>\n    <tr>\n      <th>1</th>\n      <td>2.0</td>\n      <td>0.132632</td>\n      <td>0.134526</td>\n      <td>0.001894</td>\n    </tr>\n    <tr>\n      <th>2</th>\n      <td>3.0</td>\n      <td>0.081595</td>\n      <td>0.083225</td>\n      <td>0.001630</td>\n    </tr>\n    <tr>\n      <th>3</th>\n      <td>4.0</td>\n      <td>0.054275</td>\n      <td>0.055275</td>\n      <td>0.001000</td>\n    </tr>\n    <tr>\n      <th>4</th>\n      <td>5.0</td>\n      <td>0.036537</td>\n      <td>0.037462</td>\n      <td>0.000925</td>\n    </tr>\n    <tr>\n      <th>5</th>\n      <td>6.0</td>\n      <td>0.026285</td>\n      <td>0.027455</td>\n      <td>0.001170</td>\n    </tr>\n    <tr>\n      <th>6</th>\n      <td>7.0</td>\n      <td>0.021815</td>\n      <td>0.023982</td>\n      <td>0.002167</td>\n    </tr>\n  </tbody>\n</table>\n</div>"
     },
     "execution_count": 8,
     "metadata": {},
     "output_type": "execute_result"
    }
   ],
   "source": [
    "MOC_C"
   ],
   "metadata": {
    "collapsed": false,
    "ExecuteTime": {
     "end_time": "2024-02-27T17:08:48.885041Z",
     "start_time": "2024-02-27T17:08:48.876628Z"
    }
   },
   "id": "e69ff148f41720c6"
  },
  {
   "cell_type": "markdown",
   "source": [
    "# MOC A\n",
    "### Crise Covid"
   ],
   "metadata": {
    "collapsed": false
   },
   "id": "7d4ecd6c7bba4990"
  },
  {
   "cell_type": "code",
   "execution_count": 49,
   "outputs": [],
   "source": [
    "avant_covid = df[df['date_trimestrielle'] < '2020_2']\n",
    "\n",
    "taux_defaut_avant_covid = avant_covid.groupby('Classes')['TARGET'].mean()\n",
    "taux_defaut_pendant_covid = df.groupby('Classes')['TARGET'].mean()\n",
    "\n",
    "impact_covid_par_classe = (taux_defaut_avant_covid/taux_defaut_pendant_covid)-1"
   ],
   "metadata": {
    "collapsed": false,
    "ExecuteTime": {
     "end_time": "2024-02-27T17:18:42.610055Z",
     "start_time": "2024-02-27T17:18:42.510114Z"
    }
   },
   "id": "66ecab74783f469f"
  },
  {
   "cell_type": "code",
   "execution_count": 84,
   "outputs": [
    {
     "data": {
      "text/plain": "Classes\n1    0.243219\n2    0.132632\n3    0.081595\n4    0.054275\n5    0.036537\n6    0.026285\n7    0.021815\nName: TARGET, dtype: float64"
     },
     "execution_count": 84,
     "metadata": {},
     "output_type": "execute_result"
    }
   ],
   "source": [
    "taux_defaut_pendant_covid"
   ],
   "metadata": {
    "collapsed": false,
    "ExecuteTime": {
     "end_time": "2024-02-27T17:48:41.775305Z",
     "start_time": "2024-02-27T17:48:41.761769Z"
    }
   },
   "id": "9d10a489d1805208"
  },
  {
   "cell_type": "code",
   "execution_count": 50,
   "outputs": [
    {
     "data": {
      "text/plain": "Classes\n1    0.002053\n2   -0.003810\n3   -0.001246\n4   -0.009041\n5   -0.003066\n6   -0.011353\n7   -0.066636\nName: TARGET, dtype: float64"
     },
     "execution_count": 50,
     "metadata": {},
     "output_type": "execute_result"
    }
   ],
   "source": [
    "impact_covid_par_classe"
   ],
   "metadata": {
    "collapsed": false,
    "ExecuteTime": {
     "end_time": "2024-02-27T17:18:48.473929Z",
     "start_time": "2024-02-27T17:18:48.459695Z"
    }
   },
   "id": "25dfc7e8042267c8"
  },
  {
   "cell_type": "code",
   "execution_count": 51,
   "outputs": [
    {
     "data": {
      "text/plain": "Classes\n1    0.184073\n2    0.115043\n3    0.074939\n4    0.051330\n5    0.035202\n6    0.025595\n7    0.021342\nName: TARGET, dtype: float64"
     },
     "execution_count": 51,
     "metadata": {},
     "output_type": "execute_result"
    }
   ],
   "source": [
    "variance_taux_defaut_pendant_covid = df.groupby('Classes')['TARGET'].var()\n",
    "variance_taux_defaut_pendant_covid"
   ],
   "metadata": {
    "collapsed": false,
    "ExecuteTime": {
     "end_time": "2024-02-27T17:19:19.090610Z",
     "start_time": "2024-02-27T17:19:19.077099Z"
    }
   },
   "id": "4d7b84ecefa74916"
  },
  {
   "cell_type": "code",
   "execution_count": 59,
   "outputs": [
    {
     "data": {
      "text/plain": "            1         2         3         4         5         6         7\n0   -0.346145 -0.051989  0.114444 -0.026010 -0.056267 -0.044933 -0.081634\n1   -0.178987 -0.164608 -0.058947  0.094995 -0.017860 -0.026594 -0.041274\n2   -0.128608  0.002690 -0.013009  0.028531  0.004325 -0.009335 -0.067733\n3    0.197386 -0.171325  0.074937 -0.048536 -0.004639 -0.040266 -0.072280\n4   -0.426201  0.059713 -0.017533 -0.062809  0.070576 -0.020448 -0.047354\n..        ...       ...       ...       ...       ...       ...       ...\n995 -0.003313 -0.176039  0.056152 -0.002449 -0.006753 -0.022806 -0.045307\n996 -0.119887 -0.062121 -0.095822  0.029216  0.013937 -0.005151 -0.083355\n997  0.254355  0.208906 -0.047767 -0.038243 -0.061123 -0.041613 -0.045726\n998  0.239641  0.072327 -0.117108 -0.025546 -0.029324  0.003206 -0.032865\n999  0.233140 -0.125226  0.004883 -0.093083  0.004985 -0.048226 -0.075633\n\n[1000 rows x 7 columns]",
      "text/html": "<div>\n<style scoped>\n    .dataframe tbody tr th:only-of-type {\n        vertical-align: middle;\n    }\n\n    .dataframe tbody tr th {\n        vertical-align: top;\n    }\n\n    .dataframe thead th {\n        text-align: right;\n    }\n</style>\n<table border=\"1\" class=\"dataframe\">\n  <thead>\n    <tr style=\"text-align: right;\">\n      <th></th>\n      <th>1</th>\n      <th>2</th>\n      <th>3</th>\n      <th>4</th>\n      <th>5</th>\n      <th>6</th>\n      <th>7</th>\n    </tr>\n  </thead>\n  <tbody>\n    <tr>\n      <th>0</th>\n      <td>-0.346145</td>\n      <td>-0.051989</td>\n      <td>0.114444</td>\n      <td>-0.026010</td>\n      <td>-0.056267</td>\n      <td>-0.044933</td>\n      <td>-0.081634</td>\n    </tr>\n    <tr>\n      <th>1</th>\n      <td>-0.178987</td>\n      <td>-0.164608</td>\n      <td>-0.058947</td>\n      <td>0.094995</td>\n      <td>-0.017860</td>\n      <td>-0.026594</td>\n      <td>-0.041274</td>\n    </tr>\n    <tr>\n      <th>2</th>\n      <td>-0.128608</td>\n      <td>0.002690</td>\n      <td>-0.013009</td>\n      <td>0.028531</td>\n      <td>0.004325</td>\n      <td>-0.009335</td>\n      <td>-0.067733</td>\n    </tr>\n    <tr>\n      <th>3</th>\n      <td>0.197386</td>\n      <td>-0.171325</td>\n      <td>0.074937</td>\n      <td>-0.048536</td>\n      <td>-0.004639</td>\n      <td>-0.040266</td>\n      <td>-0.072280</td>\n    </tr>\n    <tr>\n      <th>4</th>\n      <td>-0.426201</td>\n      <td>0.059713</td>\n      <td>-0.017533</td>\n      <td>-0.062809</td>\n      <td>0.070576</td>\n      <td>-0.020448</td>\n      <td>-0.047354</td>\n    </tr>\n    <tr>\n      <th>...</th>\n      <td>...</td>\n      <td>...</td>\n      <td>...</td>\n      <td>...</td>\n      <td>...</td>\n      <td>...</td>\n      <td>...</td>\n    </tr>\n    <tr>\n      <th>995</th>\n      <td>-0.003313</td>\n      <td>-0.176039</td>\n      <td>0.056152</td>\n      <td>-0.002449</td>\n      <td>-0.006753</td>\n      <td>-0.022806</td>\n      <td>-0.045307</td>\n    </tr>\n    <tr>\n      <th>996</th>\n      <td>-0.119887</td>\n      <td>-0.062121</td>\n      <td>-0.095822</td>\n      <td>0.029216</td>\n      <td>0.013937</td>\n      <td>-0.005151</td>\n      <td>-0.083355</td>\n    </tr>\n    <tr>\n      <th>997</th>\n      <td>0.254355</td>\n      <td>0.208906</td>\n      <td>-0.047767</td>\n      <td>-0.038243</td>\n      <td>-0.061123</td>\n      <td>-0.041613</td>\n      <td>-0.045726</td>\n    </tr>\n    <tr>\n      <th>998</th>\n      <td>0.239641</td>\n      <td>0.072327</td>\n      <td>-0.117108</td>\n      <td>-0.025546</td>\n      <td>-0.029324</td>\n      <td>0.003206</td>\n      <td>-0.032865</td>\n    </tr>\n    <tr>\n      <th>999</th>\n      <td>0.233140</td>\n      <td>-0.125226</td>\n      <td>0.004883</td>\n      <td>-0.093083</td>\n      <td>0.004985</td>\n      <td>-0.048226</td>\n      <td>-0.075633</td>\n    </tr>\n  </tbody>\n</table>\n<p>1000 rows × 7 columns</p>\n</div>"
     },
     "execution_count": 59,
     "metadata": {},
     "output_type": "execute_result"
    }
   ],
   "source": [
    "simulations = pd.DataFrame()\n",
    "\n",
    "for classe in impact_covid_par_classe.index:\n",
    "    moyenne_impact = impact_covid_par_classe[classe]\n",
    "    variance_impact = variance_taux_defaut_pendant_covid[classe]\n",
    "\n",
    "    variance_impact = variance_impact if variance_impact > 0 else 0.001\n",
    "\n",
    "    tirages = np.random.normal(moyenne_impact, variance_impact, 1000)\n",
    "\n",
    "    simulations[classe] = tirages\n",
    "    \n",
    "simulations"
   ],
   "metadata": {
    "collapsed": false,
    "ExecuteTime": {
     "end_time": "2024-02-27T17:23:41.474583Z",
     "start_time": "2024-02-27T17:23:41.455759Z"
    }
   },
   "id": "3bbf4340a51b00a5"
  },
  {
   "cell_type": "code",
   "execution_count": 65,
   "outputs": [
    {
     "data": {
      "text/plain": "1   -0.005899\n2    0.013013\n3    0.010834\n4    0.004667\n5    0.005521\n6   -0.005061\n7   -0.060818\ndtype: float64"
     },
     "execution_count": 65,
     "metadata": {},
     "output_type": "execute_result"
    }
   ],
   "source": [
    "moyenne_empirique = simulations.mean()\n",
    "percentile_90 = simulations.quantile(0.90)\n",
    "MOC_A = percentile_90 - taux_defaut_pendant_covid\n",
    "MOC_A"
   ],
   "metadata": {
    "collapsed": false,
    "ExecuteTime": {
     "end_time": "2024-02-27T17:26:18.383970Z",
     "start_time": "2024-02-27T17:26:18.359490Z"
    }
   },
   "id": "7bdbb9fb92aaf59b"
  },
  {
   "cell_type": "markdown",
   "source": [
    "# Conclusion"
   ],
   "metadata": {
    "collapsed": false
   },
   "id": "ffac25efbf412d35"
  },
  {
   "cell_type": "code",
   "execution_count": 81,
   "outputs": [],
   "source": [
    "MOC = pd.DataFrame(columns = [\"Classe\", \"LRA\", \"MOC_A\", \"MOC_C\"])\n",
    "MOC[\"LRA\"] = taux_defaut_avant_covid.reset_index(drop=True)\n",
    "MOC[\"MOC_A\"] = MOC_A.reset_index(drop=True).apply(lambda x : 0 if x < 0 else x)\n",
    "MOC[\"MOC_C\"] = MOC_C[\"Moc_C\"].reset_index(drop=True)\n",
    "MOC[\"Classe\"] = range(1,8)\n",
    "MOC[\"LRA + MOC\"] = MOC[\"LRA\"] + MOC[\"MOC_A\"] + MOC[\"MOC_C\"]"
   ],
   "metadata": {
    "collapsed": false,
    "ExecuteTime": {
     "end_time": "2024-02-27T17:33:35.041329Z",
     "start_time": "2024-02-27T17:33:35.033961Z"
    }
   },
   "id": "ede2fb48ec425a32"
  },
  {
   "cell_type": "code",
   "execution_count": 82,
   "outputs": [
    {
     "data": {
      "text/plain": "   Classe       LRA     MOC_A     MOC_C  LRA + MOC\n0       1  0.243718  0.000000  0.003575   0.247294\n1       2  0.132126  0.013013  0.001894   0.147033\n2       3  0.081493  0.010834  0.001630   0.093957\n3       4  0.053785  0.004667  0.001000   0.059451\n4       5  0.036425  0.005521  0.000925   0.042870\n5       6  0.025987  0.000000  0.001170   0.027156\n6       7  0.020361  0.000000  0.002167   0.022528",
      "text/html": "<div>\n<style scoped>\n    .dataframe tbody tr th:only-of-type {\n        vertical-align: middle;\n    }\n\n    .dataframe tbody tr th {\n        vertical-align: top;\n    }\n\n    .dataframe thead th {\n        text-align: right;\n    }\n</style>\n<table border=\"1\" class=\"dataframe\">\n  <thead>\n    <tr style=\"text-align: right;\">\n      <th></th>\n      <th>Classe</th>\n      <th>LRA</th>\n      <th>MOC_A</th>\n      <th>MOC_C</th>\n      <th>LRA + MOC</th>\n    </tr>\n  </thead>\n  <tbody>\n    <tr>\n      <th>0</th>\n      <td>1</td>\n      <td>0.243718</td>\n      <td>0.000000</td>\n      <td>0.003575</td>\n      <td>0.247294</td>\n    </tr>\n    <tr>\n      <th>1</th>\n      <td>2</td>\n      <td>0.132126</td>\n      <td>0.013013</td>\n      <td>0.001894</td>\n      <td>0.147033</td>\n    </tr>\n    <tr>\n      <th>2</th>\n      <td>3</td>\n      <td>0.081493</td>\n      <td>0.010834</td>\n      <td>0.001630</td>\n      <td>0.093957</td>\n    </tr>\n    <tr>\n      <th>3</th>\n      <td>4</td>\n      <td>0.053785</td>\n      <td>0.004667</td>\n      <td>0.001000</td>\n      <td>0.059451</td>\n    </tr>\n    <tr>\n      <th>4</th>\n      <td>5</td>\n      <td>0.036425</td>\n      <td>0.005521</td>\n      <td>0.000925</td>\n      <td>0.042870</td>\n    </tr>\n    <tr>\n      <th>5</th>\n      <td>6</td>\n      <td>0.025987</td>\n      <td>0.000000</td>\n      <td>0.001170</td>\n      <td>0.027156</td>\n    </tr>\n    <tr>\n      <th>6</th>\n      <td>7</td>\n      <td>0.020361</td>\n      <td>0.000000</td>\n      <td>0.002167</td>\n      <td>0.022528</td>\n    </tr>\n  </tbody>\n</table>\n</div>"
     },
     "execution_count": 82,
     "metadata": {},
     "output_type": "execute_result"
    }
   ],
   "source": [
    "MOC"
   ],
   "metadata": {
    "collapsed": false,
    "ExecuteTime": {
     "end_time": "2024-02-27T17:33:35.608196Z",
     "start_time": "2024-02-27T17:33:35.600430Z"
    }
   },
   "id": "bccb5b8ea06f3897"
  }
 ],
 "metadata": {
  "kernelspec": {
   "display_name": "Python 3",
   "language": "python",
   "name": "python3"
  },
  "language_info": {
   "codemirror_mode": {
    "name": "ipython",
    "version": 2
   },
   "file_extension": ".py",
   "mimetype": "text/x-python",
   "name": "python",
   "nbconvert_exporter": "python",
   "pygments_lexer": "ipython2",
   "version": "2.7.6"
  }
 },
 "nbformat": 4,
 "nbformat_minor": 5
}
