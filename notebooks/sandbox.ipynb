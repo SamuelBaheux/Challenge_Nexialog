{
 "cells": [
  {
   "cell_type": "code",
   "execution_count": 1,
   "id": "initial_id",
   "metadata": {
    "collapsed": true,
    "ExecuteTime": {
     "end_time": "2024-02-18T15:14:58.313266Z",
     "start_time": "2024-02-18T15:14:57.460138Z"
    }
   },
   "outputs": [],
   "source": [
    "import sys\n",
    "sys.path.append(\"../script\")\n",
    "from data_preparation import *\n",
    "import pandas as pd\n",
    "import numpy as np"
   ]
  },
  {
   "cell_type": "code",
   "execution_count": 2,
   "outputs": [],
   "source": [
    "train = pd.read_csv(\"../data/application_train_vf.csv\")\n",
    "test = pd.read_csv(\"../data/application_test_vf.csv\")"
   ],
   "metadata": {
    "collapsed": false,
    "ExecuteTime": {
     "end_time": "2024-02-18T15:15:00.058250Z",
     "start_time": "2024-02-18T15:14:58.314269Z"
    }
   },
   "id": "cb7ad9a26d1ca1a5"
  },
  {
   "cell_type": "code",
   "execution_count": 3,
   "outputs": [],
   "source": [
    "dataprep = DataPreparation(train, test, 0.3)"
   ],
   "metadata": {
    "collapsed": false,
    "ExecuteTime": {
     "end_time": "2024-02-18T15:15:00.061014Z",
     "start_time": "2024-02-18T15:15:00.058428Z"
    }
   },
   "id": "cfa67b02c946a089"
  },
  {
   "cell_type": "code",
   "execution_count": 4,
   "outputs": [
    {
     "name": "stdout",
     "output_type": "stream",
     "text": [
      "Type des variables convertis ✅\n",
      "Valeurs manquantes traitées ✅\n",
      "Discrétisation des variables numériques en cours ... \n"
     ]
    },
    {
     "name": "stderr",
     "output_type": "stream",
     "text": [
      "100%|██████████| 12/12 [05:36<00:00, 28.05s/it]"
     ]
    },
    {
     "name": "stdout",
     "output_type": "stream",
     "text": [
      "Variables numériques discrétisées ✅\n",
      "Discrétisation des variables catégorielles en cours ... \n",
      "Variables catégorielles discrétisées ✅\n"
     ]
    },
    {
     "name": "stderr",
     "output_type": "stream",
     "text": [
      "\n"
     ]
    }
   ],
   "source": [
    "train_prepared, test_prepared = dataprep.get_prepared_data()"
   ],
   "metadata": {
    "collapsed": false,
    "ExecuteTime": {
     "end_time": "2024-02-18T15:20:48.846675Z",
     "start_time": "2024-02-18T15:15:00.061739Z"
    }
   },
   "id": "96a8cf0b54c9d4f2"
  }
 ],
 "metadata": {
  "kernelspec": {
   "display_name": "Python 3",
   "language": "python",
   "name": "python3"
  },
  "language_info": {
   "codemirror_mode": {
    "name": "ipython",
    "version": 2
   },
   "file_extension": ".py",
   "mimetype": "text/x-python",
   "name": "python",
   "nbconvert_exporter": "python",
   "pygments_lexer": "ipython2",
   "version": "2.7.6"
  }
 },
 "nbformat": 4,
 "nbformat_minor": 5
}
