{
 "cells": [
  {
   "cell_type": "code",
   "execution_count": 47,
   "id": "initial_id",
   "metadata": {
    "collapsed": true,
    "ExecuteTime": {
     "end_time": "2024-02-18T17:08:17.567723Z",
     "start_time": "2024-02-18T17:08:17.560898Z"
    }
   },
   "outputs": [],
   "source": [
    "import sys\n",
    "sys.path.append(\"../script\")\n",
    "from data_preparation import *\n",
    "import pandas as pd\n",
    "from patsy import dmatrices\n",
    "import statsmodels.formula.api as smf"
   ]
  },
  {
   "cell_type": "code",
   "execution_count": 2,
   "outputs": [],
   "source": [
    "train = pd.read_csv(\"../data/application_train_vf.csv\")\n",
    "test = pd.read_csv(\"../data/application_test_vf.csv\")"
   ],
   "metadata": {
    "collapsed": false,
    "ExecuteTime": {
     "end_time": "2024-02-18T15:15:00.058250Z",
     "start_time": "2024-02-18T15:14:58.314269Z"
    }
   },
   "id": "cb7ad9a26d1ca1a5"
  },
  {
   "cell_type": "code",
   "execution_count": 3,
   "outputs": [],
   "source": [
    "dataprep = DataPreparation(train, test, 0.3)"
   ],
   "metadata": {
    "collapsed": false,
    "ExecuteTime": {
     "end_time": "2024-02-18T15:15:00.061014Z",
     "start_time": "2024-02-18T15:15:00.058428Z"
    }
   },
   "id": "cfa67b02c946a089"
  },
  {
   "cell_type": "code",
   "execution_count": 4,
   "outputs": [
    {
     "name": "stdout",
     "output_type": "stream",
     "text": [
      "Type des variables convertis ✅\n",
      "Valeurs manquantes traitées ✅\n",
      "Discrétisation des variables numériques en cours ... \n"
     ]
    },
    {
     "name": "stderr",
     "output_type": "stream",
     "text": [
      "100%|██████████| 12/12 [05:36<00:00, 28.05s/it]"
     ]
    },
    {
     "name": "stdout",
     "output_type": "stream",
     "text": [
      "Variables numériques discrétisées ✅\n",
      "Discrétisation des variables catégorielles en cours ... \n",
      "Variables catégorielles discrétisées ✅\n"
     ]
    },
    {
     "name": "stderr",
     "output_type": "stream",
     "text": [
      "\n"
     ]
    }
   ],
   "source": [
    "train_prepared, test_prepared = dataprep.get_prepared_data()"
   ],
   "metadata": {
    "collapsed": false,
    "ExecuteTime": {
     "end_time": "2024-02-18T15:20:48.846675Z",
     "start_time": "2024-02-18T15:15:00.061739Z"
    }
   },
   "id": "96a8cf0b54c9d4f2"
  },
  {
   "cell_type": "code",
   "execution_count": 8,
   "outputs": [],
   "source": [
    "df_train = train_prepared.copy()"
   ],
   "metadata": {
    "collapsed": false,
    "ExecuteTime": {
     "end_time": "2024-02-18T16:30:16.211421Z",
     "start_time": "2024-02-18T16:30:15.945213Z"
    }
   },
   "id": "a6248134b7318925"
  },
  {
   "cell_type": "code",
   "execution_count": 50,
   "outputs": [
    {
     "data": {
      "text/plain": "        TARGET date_mensuelle DAYS_BIRTH_disc_int EXT_SOURCE_2_disc_int  \\\n0            0     2013-01-01      [-13434--7489]           [0.46-0.85]   \n1            0     2013-01-01      [-13434--7489]           [0.46-0.85]   \n2            0     2013-01-01      [-13434--7489]           [0.46-0.85]   \n3            0     2013-01-01     [-19539--13435]           [0.46-0.85]   \n4            0     2013-01-01     [-19539--13435]            [0.0-0.16]   \n...        ...            ...                 ...                   ...   \n279995       1     2020-04-01     [-19539--13435]           [0.46-0.85]   \n279996       1     2020-04-01     [-19539--13435]           [0.46-0.85]   \n279997       1     2020-04-01      [-13434--7489]           [0.46-0.85]   \n279998       1     2020-04-01      [-13434--7489]           [0.16-0.46]   \n279999       1     2020-04-01      [-13434--7489]           [0.46-0.85]   \n\n       AMT_GOODS_PRICE_disc_int DAYS_REGISTRATION_disc_int  \\\n0          [454500.0-4050000.0]              [-6206.0-0.0]   \n1            [40500.0-453465.0]              [-6206.0-0.0]   \n2            [40500.0-453465.0]         [-24672.0--6207.0]   \n3          [454500.0-4050000.0]         [-24672.0--6207.0]   \n4            [40500.0-453465.0]              [-6206.0-0.0]   \n...                         ...                        ...   \n279995     [454500.0-4050000.0]         [-24672.0--6207.0]   \n279996     [454500.0-4050000.0]              [-6206.0-0.0]   \n279997     [454500.0-4050000.0]              [-6206.0-0.0]   \n279998       [40500.0-453465.0]              [-6206.0-0.0]   \n279999       [40500.0-453465.0]              [-6206.0-0.0]   \n\n       DAYS_LAST_PHONE_CHANGE_disc_int EXT_SOURCE_3_disc_int  \\\n0                        [-1021.0-0.0]            [0.27-0.9]   \n1                        [-1021.0-0.0]            [0.27-0.9]   \n2                        [-1021.0-0.0]            [0.27-0.9]   \n3                        [-1021.0-0.0]            [0.27-0.9]   \n4                    [-4292.0--1022.0]            [0.27-0.9]   \n...                                ...                   ...   \n279995                   [-1021.0-0.0]            [0.27-0.9]   \n279996               [-4292.0--1022.0]            [0.27-0.9]   \n279997               [-4292.0--1022.0]            [0.27-0.9]   \n279998               [-4292.0--1022.0]            [0.27-0.9]   \n279999                   [-1021.0-0.0]            [0.27-0.9]   \n\n         AMT_CREDIT_disc_int AMT_ANNUITY_disc_int  ... REGION_RATING_CLIENT  \\\n0       [675000.0-4050000.0]     [1615.5-41625.0]  ...                    3   \n1         [45000.0-674842.5]     [1615.5-41625.0]  ...                    3   \n2         [45000.0-674842.5]     [1615.5-41625.0]  ...                    2   \n3       [675000.0-4050000.0]     [1615.5-41625.0]  ...                    1   \n4         [45000.0-674842.5]     [1615.5-41625.0]  ...                    2   \n...                      ...                  ...  ...                  ...   \n279995  [675000.0-4050000.0]     [1615.5-41625.0]  ...                    2   \n279996  [675000.0-4050000.0]     [1615.5-41625.0]  ...                    2   \n279997  [675000.0-4050000.0]   [41629.5-258025.5]  ...                    2   \n279998    [45000.0-674842.5]     [1615.5-41625.0]  ...                    2   \n279999    [45000.0-674842.5]     [1615.5-41625.0]  ...                    2   \n\n       REGION_RATING_CLIENT_W_CITY FLAG_WORK_PHONE FLAG_PHONE  \\\n0                                3               0          1   \n1                                3               0          1   \n2                                2               1          0   \n3                                1               0          0   \n4                                2               0          1   \n...                            ...             ...        ...   \n279995                           2               0          0   \n279996                           2               0          0   \n279997                           2               0          0   \n279998                           2               0          1   \n279999                           2               0          0   \n\n       LIVE_CITY_NOT_WORK_CITY NAME_CONTRACT_TYPE CODE_GENDER FLAG_OWN_CAR  \\\n0                            0         Cash loans           M            Y   \n1                            0         Cash loans           F            N   \n2                            0         Cash loans           F            Y   \n3                            0         Cash loans           F            Y   \n4                            1         Cash loans           F            N   \n...                        ...                ...         ...          ...   \n279995                       0         Cash loans           F            N   \n279996                       0         Cash loans           F            N   \n279997                       0         Cash loans           F            Y   \n279998                       1         Cash loans           F            N   \n279999                       0    Revolving loans           M            N   \n\n       FLAG_OWN_REALTY  NAME_HOUSING_TYPE  \n0                    Y  House / apartment  \n1                    Y       With parents  \n2                    N  House / apartment  \n3                    Y  House / apartment  \n4                    N  House / apartment  \n...                ...                ...  \n279995               Y  House / apartment  \n279996               N  House / apartment  \n279997               Y  House / apartment  \n279998               Y   Rented apartment  \n279999               Y    Co-op apartment  \n\n[280000 rows x 30 columns]",
      "text/html": "<div>\n<style scoped>\n    .dataframe tbody tr th:only-of-type {\n        vertical-align: middle;\n    }\n\n    .dataframe tbody tr th {\n        vertical-align: top;\n    }\n\n    .dataframe thead th {\n        text-align: right;\n    }\n</style>\n<table border=\"1\" class=\"dataframe\">\n  <thead>\n    <tr style=\"text-align: right;\">\n      <th></th>\n      <th>TARGET</th>\n      <th>date_mensuelle</th>\n      <th>DAYS_BIRTH_disc_int</th>\n      <th>EXT_SOURCE_2_disc_int</th>\n      <th>AMT_GOODS_PRICE_disc_int</th>\n      <th>DAYS_REGISTRATION_disc_int</th>\n      <th>DAYS_LAST_PHONE_CHANGE_disc_int</th>\n      <th>EXT_SOURCE_3_disc_int</th>\n      <th>AMT_CREDIT_disc_int</th>\n      <th>AMT_ANNUITY_disc_int</th>\n      <th>...</th>\n      <th>REGION_RATING_CLIENT</th>\n      <th>REGION_RATING_CLIENT_W_CITY</th>\n      <th>FLAG_WORK_PHONE</th>\n      <th>FLAG_PHONE</th>\n      <th>LIVE_CITY_NOT_WORK_CITY</th>\n      <th>NAME_CONTRACT_TYPE</th>\n      <th>CODE_GENDER</th>\n      <th>FLAG_OWN_CAR</th>\n      <th>FLAG_OWN_REALTY</th>\n      <th>NAME_HOUSING_TYPE</th>\n    </tr>\n  </thead>\n  <tbody>\n    <tr>\n      <th>0</th>\n      <td>0</td>\n      <td>2013-01-01</td>\n      <td>[-13434--7489]</td>\n      <td>[0.46-0.85]</td>\n      <td>[454500.0-4050000.0]</td>\n      <td>[-6206.0-0.0]</td>\n      <td>[-1021.0-0.0]</td>\n      <td>[0.27-0.9]</td>\n      <td>[675000.0-4050000.0]</td>\n      <td>[1615.5-41625.0]</td>\n      <td>...</td>\n      <td>3</td>\n      <td>3</td>\n      <td>0</td>\n      <td>1</td>\n      <td>0</td>\n      <td>Cash loans</td>\n      <td>M</td>\n      <td>Y</td>\n      <td>Y</td>\n      <td>House / apartment</td>\n    </tr>\n    <tr>\n      <th>1</th>\n      <td>0</td>\n      <td>2013-01-01</td>\n      <td>[-13434--7489]</td>\n      <td>[0.46-0.85]</td>\n      <td>[40500.0-453465.0]</td>\n      <td>[-6206.0-0.0]</td>\n      <td>[-1021.0-0.0]</td>\n      <td>[0.27-0.9]</td>\n      <td>[45000.0-674842.5]</td>\n      <td>[1615.5-41625.0]</td>\n      <td>...</td>\n      <td>3</td>\n      <td>3</td>\n      <td>0</td>\n      <td>1</td>\n      <td>0</td>\n      <td>Cash loans</td>\n      <td>F</td>\n      <td>N</td>\n      <td>Y</td>\n      <td>With parents</td>\n    </tr>\n    <tr>\n      <th>2</th>\n      <td>0</td>\n      <td>2013-01-01</td>\n      <td>[-13434--7489]</td>\n      <td>[0.46-0.85]</td>\n      <td>[40500.0-453465.0]</td>\n      <td>[-24672.0--6207.0]</td>\n      <td>[-1021.0-0.0]</td>\n      <td>[0.27-0.9]</td>\n      <td>[45000.0-674842.5]</td>\n      <td>[1615.5-41625.0]</td>\n      <td>...</td>\n      <td>2</td>\n      <td>2</td>\n      <td>1</td>\n      <td>0</td>\n      <td>0</td>\n      <td>Cash loans</td>\n      <td>F</td>\n      <td>Y</td>\n      <td>N</td>\n      <td>House / apartment</td>\n    </tr>\n    <tr>\n      <th>3</th>\n      <td>0</td>\n      <td>2013-01-01</td>\n      <td>[-19539--13435]</td>\n      <td>[0.46-0.85]</td>\n      <td>[454500.0-4050000.0]</td>\n      <td>[-24672.0--6207.0]</td>\n      <td>[-1021.0-0.0]</td>\n      <td>[0.27-0.9]</td>\n      <td>[675000.0-4050000.0]</td>\n      <td>[1615.5-41625.0]</td>\n      <td>...</td>\n      <td>1</td>\n      <td>1</td>\n      <td>0</td>\n      <td>0</td>\n      <td>0</td>\n      <td>Cash loans</td>\n      <td>F</td>\n      <td>Y</td>\n      <td>Y</td>\n      <td>House / apartment</td>\n    </tr>\n    <tr>\n      <th>4</th>\n      <td>0</td>\n      <td>2013-01-01</td>\n      <td>[-19539--13435]</td>\n      <td>[0.0-0.16]</td>\n      <td>[40500.0-453465.0]</td>\n      <td>[-6206.0-0.0]</td>\n      <td>[-4292.0--1022.0]</td>\n      <td>[0.27-0.9]</td>\n      <td>[45000.0-674842.5]</td>\n      <td>[1615.5-41625.0]</td>\n      <td>...</td>\n      <td>2</td>\n      <td>2</td>\n      <td>0</td>\n      <td>1</td>\n      <td>1</td>\n      <td>Cash loans</td>\n      <td>F</td>\n      <td>N</td>\n      <td>N</td>\n      <td>House / apartment</td>\n    </tr>\n    <tr>\n      <th>...</th>\n      <td>...</td>\n      <td>...</td>\n      <td>...</td>\n      <td>...</td>\n      <td>...</td>\n      <td>...</td>\n      <td>...</td>\n      <td>...</td>\n      <td>...</td>\n      <td>...</td>\n      <td>...</td>\n      <td>...</td>\n      <td>...</td>\n      <td>...</td>\n      <td>...</td>\n      <td>...</td>\n      <td>...</td>\n      <td>...</td>\n      <td>...</td>\n      <td>...</td>\n      <td>...</td>\n    </tr>\n    <tr>\n      <th>279995</th>\n      <td>1</td>\n      <td>2020-04-01</td>\n      <td>[-19539--13435]</td>\n      <td>[0.46-0.85]</td>\n      <td>[454500.0-4050000.0]</td>\n      <td>[-24672.0--6207.0]</td>\n      <td>[-1021.0-0.0]</td>\n      <td>[0.27-0.9]</td>\n      <td>[675000.0-4050000.0]</td>\n      <td>[1615.5-41625.0]</td>\n      <td>...</td>\n      <td>2</td>\n      <td>2</td>\n      <td>0</td>\n      <td>0</td>\n      <td>0</td>\n      <td>Cash loans</td>\n      <td>F</td>\n      <td>N</td>\n      <td>Y</td>\n      <td>House / apartment</td>\n    </tr>\n    <tr>\n      <th>279996</th>\n      <td>1</td>\n      <td>2020-04-01</td>\n      <td>[-19539--13435]</td>\n      <td>[0.46-0.85]</td>\n      <td>[454500.0-4050000.0]</td>\n      <td>[-6206.0-0.0]</td>\n      <td>[-4292.0--1022.0]</td>\n      <td>[0.27-0.9]</td>\n      <td>[675000.0-4050000.0]</td>\n      <td>[1615.5-41625.0]</td>\n      <td>...</td>\n      <td>2</td>\n      <td>2</td>\n      <td>0</td>\n      <td>0</td>\n      <td>0</td>\n      <td>Cash loans</td>\n      <td>F</td>\n      <td>N</td>\n      <td>N</td>\n      <td>House / apartment</td>\n    </tr>\n    <tr>\n      <th>279997</th>\n      <td>1</td>\n      <td>2020-04-01</td>\n      <td>[-13434--7489]</td>\n      <td>[0.46-0.85]</td>\n      <td>[454500.0-4050000.0]</td>\n      <td>[-6206.0-0.0]</td>\n      <td>[-4292.0--1022.0]</td>\n      <td>[0.27-0.9]</td>\n      <td>[675000.0-4050000.0]</td>\n      <td>[41629.5-258025.5]</td>\n      <td>...</td>\n      <td>2</td>\n      <td>2</td>\n      <td>0</td>\n      <td>0</td>\n      <td>0</td>\n      <td>Cash loans</td>\n      <td>F</td>\n      <td>Y</td>\n      <td>Y</td>\n      <td>House / apartment</td>\n    </tr>\n    <tr>\n      <th>279998</th>\n      <td>1</td>\n      <td>2020-04-01</td>\n      <td>[-13434--7489]</td>\n      <td>[0.16-0.46]</td>\n      <td>[40500.0-453465.0]</td>\n      <td>[-6206.0-0.0]</td>\n      <td>[-4292.0--1022.0]</td>\n      <td>[0.27-0.9]</td>\n      <td>[45000.0-674842.5]</td>\n      <td>[1615.5-41625.0]</td>\n      <td>...</td>\n      <td>2</td>\n      <td>2</td>\n      <td>0</td>\n      <td>1</td>\n      <td>1</td>\n      <td>Cash loans</td>\n      <td>F</td>\n      <td>N</td>\n      <td>Y</td>\n      <td>Rented apartment</td>\n    </tr>\n    <tr>\n      <th>279999</th>\n      <td>1</td>\n      <td>2020-04-01</td>\n      <td>[-13434--7489]</td>\n      <td>[0.46-0.85]</td>\n      <td>[40500.0-453465.0]</td>\n      <td>[-6206.0-0.0]</td>\n      <td>[-1021.0-0.0]</td>\n      <td>[0.27-0.9]</td>\n      <td>[45000.0-674842.5]</td>\n      <td>[1615.5-41625.0]</td>\n      <td>...</td>\n      <td>2</td>\n      <td>2</td>\n      <td>0</td>\n      <td>0</td>\n      <td>0</td>\n      <td>Revolving loans</td>\n      <td>M</td>\n      <td>N</td>\n      <td>Y</td>\n      <td>Co-op apartment</td>\n    </tr>\n  </tbody>\n</table>\n<p>280000 rows × 30 columns</p>\n</div>"
     },
     "execution_count": 50,
     "metadata": {},
     "output_type": "execute_result"
    }
   ],
   "source": [
    "df_train"
   ],
   "metadata": {
    "collapsed": false,
    "ExecuteTime": {
     "end_time": "2024-02-18T17:11:04.791734Z",
     "start_time": "2024-02-18T17:11:04.747496Z"
    }
   },
   "id": "ebb9e6f2c98d1ba8"
  },
  {
   "cell_type": "markdown",
   "source": [
    "# Modélisation"
   ],
   "metadata": {
    "collapsed": false
   },
   "id": "6a9748c39f3c2b7b"
  },
  {
   "cell_type": "code",
   "execution_count": 23,
   "outputs": [],
   "source": [
    "df_validation = df_train.iloc[280000:,:]\n",
    "df_train = df_train.iloc[:280000,:]"
   ],
   "metadata": {
    "collapsed": false,
    "ExecuteTime": {
     "end_time": "2024-02-18T16:41:56.352696Z",
     "start_time": "2024-02-18T16:41:56.349588Z"
    }
   },
   "id": "4144740999d1960"
  },
  {
   "cell_type": "code",
   "execution_count": 19,
   "outputs": [],
   "source": [
    "df_train[\"TARGET\"] = df_train[\"TARGET\"].astype(\"int\")"
   ],
   "metadata": {
    "collapsed": false,
    "ExecuteTime": {
     "end_time": "2024-02-18T16:36:27.478528Z",
     "start_time": "2024-02-18T16:36:27.435500Z"
    }
   },
   "id": "163a1b3c7e7352a9"
  },
  {
   "cell_type": "code",
   "execution_count": 84,
   "outputs": [],
   "source": [
    "def calculate_percentage_default(row, data_frame):\n",
    "    variable = row['Variable']\n",
    "    modality = row['Modality']\n",
    "    if modality.isdigit() :\n",
    "        modality = int(modality)\n",
    "\n",
    "    default_count = data_frame[data_frame[variable] == modality][\"TARGET\"].sum()\n",
    "    total_count = data_frame.shape[0]\n",
    "    return round((default_count / total_count)*100,2)\n",
    "\n",
    "def calculate_pcentage_class(row, data_frame):\n",
    "    variable = row['Variable']\n",
    "    modality = row['Modality']\n",
    "    if modality.isdigit() :\n",
    "        modality = int(modality)\n",
    "\n",
    "    default_count = data_frame[data_frame[variable] == modality].shape[0]\n",
    "    total_count = data_frame.shape[0]\n",
    "    return round((default_count / total_count)*100,2)"
   ],
   "metadata": {
    "collapsed": false,
    "ExecuteTime": {
     "end_time": "2024-02-18T17:47:01.861723Z",
     "start_time": "2024-02-18T17:47:01.856174Z"
    }
   },
   "id": "f53604372f70c06"
  },
  {
   "cell_type": "code",
   "execution_count": 88,
   "outputs": [
    {
     "name": "stdout",
     "output_type": "stream",
     "text": [
      "Optimization terminated successfully.\n",
      "         Current function value: 0.257106\n",
      "         Iterations 7\n"
     ]
    },
    {
     "data": {
      "text/plain": "                 Variable     Modality  Coefficient  P-Value  \\\n0          FLAG_EMP_PHONE            1         0.51      0.0   \n1  REG_CITY_NOT_LIVE_CITY            1         0.41      0.0   \n2   EXT_SOURCE_2_disc_int  [0.16-0.46]        -0.72      0.0   \n3   EXT_SOURCE_2_disc_int  [0.46-0.85]        -1.48      0.0   \n\n   Normalized Score  Pcentage_Défaut  Pcentage_Classe  \n0              0.00             6.65            81.94  \n1             48.51             0.91             7.81  \n2            617.39             2.73            25.60  \n3           1000.00             3.62            68.30  ",
      "text/html": "<div>\n<style scoped>\n    .dataframe tbody tr th:only-of-type {\n        vertical-align: middle;\n    }\n\n    .dataframe tbody tr th {\n        vertical-align: top;\n    }\n\n    .dataframe thead th {\n        text-align: right;\n    }\n</style>\n<table border=\"1\" class=\"dataframe\">\n  <thead>\n    <tr style=\"text-align: right;\">\n      <th></th>\n      <th>Variable</th>\n      <th>Modality</th>\n      <th>Coefficient</th>\n      <th>P-Value</th>\n      <th>Normalized Score</th>\n      <th>Pcentage_Défaut</th>\n      <th>Pcentage_Classe</th>\n    </tr>\n  </thead>\n  <tbody>\n    <tr>\n      <th>0</th>\n      <td>FLAG_EMP_PHONE</td>\n      <td>1</td>\n      <td>0.51</td>\n      <td>0.0</td>\n      <td>0.00</td>\n      <td>6.65</td>\n      <td>81.94</td>\n    </tr>\n    <tr>\n      <th>1</th>\n      <td>REG_CITY_NOT_LIVE_CITY</td>\n      <td>1</td>\n      <td>0.41</td>\n      <td>0.0</td>\n      <td>48.51</td>\n      <td>0.91</td>\n      <td>7.81</td>\n    </tr>\n    <tr>\n      <th>2</th>\n      <td>EXT_SOURCE_2_disc_int</td>\n      <td>[0.16-0.46]</td>\n      <td>-0.72</td>\n      <td>0.0</td>\n      <td>617.39</td>\n      <td>2.73</td>\n      <td>25.60</td>\n    </tr>\n    <tr>\n      <th>3</th>\n      <td>EXT_SOURCE_2_disc_int</td>\n      <td>[0.46-0.85]</td>\n      <td>-1.48</td>\n      <td>0.0</td>\n      <td>1000.00</td>\n      <td>3.62</td>\n      <td>68.30</td>\n    </tr>\n  </tbody>\n</table>\n</div>"
     },
     "execution_count": 88,
     "metadata": {},
     "output_type": "execute_result"
    }
   ],
   "source": [
    "formula = 'TARGET ~ C(FLAG_EMP_PHONE) + C(REG_CITY_NOT_LIVE_CITY) + C(EXT_SOURCE_2_disc_int)'\n",
    "model = smf.logit(formula=formula, data=df_train)\n",
    "logit_model = model.fit()\n",
    "\n",
    "results_summary_frame = logit_model.summary2().tables[1]\n",
    "\n",
    "coefs = results_summary_frame['Coef.']\n",
    "p_values = results_summary_frame['P>|z|']\n",
    "\n",
    "max_coef = coefs.loc[coefs.index != 'Intercept'].max()\n",
    "min_coef = coefs.loc[coefs.index != 'Intercept'].min()\n",
    "\n",
    "score_card = pd.DataFrame(columns=['Variable', 'Coefficient', 'P-Value', 'Score'])\n",
    "\n",
    "for variable in coefs.index[1:]:  \n",
    "    coef = round(coefs[variable],2)\n",
    "    p_value = round(p_values[variable],4)\n",
    "    score = round(abs(max_coef - coef) / (max_coef - min_coef) * 1000, 2)\n",
    "    \n",
    "    score_card.loc[len(score_card)] = [variable, coef, p_value, score]\n",
    "\n",
    "score_card['Normalized Score'] = round((score_card['Score'] - score_card['Score'].min()) / (score_card['Score'].max() - score_card['Score'].min()) * 1000,2)\n",
    "\n",
    "score_card[\"Modality\"] = score_card[\"Variable\"].apply(lambda x: x.split(\"[T.\")[1][:-1])\n",
    "score_card[\"Variable\"] = score_card[\"Variable\"].apply(lambda x: (x.split(\"C(\")[1]).split(\")\")[0])\n",
    "\n",
    "score_card[\"Pcentage_Défaut\"] = score_card.apply(lambda row: calculate_percentage_default(row, df_train), axis=1)\n",
    "score_card[\"Pcentage_Classe\"] = score_card.apply(lambda row: calculate_pcentage_class(row, df_train), axis=1)\n",
    "\n",
    "\n",
    "score_card = score_card[['Variable', \"Modality\", 'Coefficient', 'P-Value', 'Normalized Score', \"Pcentage_Défaut\", \"Pcentage_Classe\"]]\n",
    "\n",
    "score_card"
   ],
   "metadata": {
    "collapsed": false,
    "ExecuteTime": {
     "end_time": "2024-02-18T17:48:53.739845Z",
     "start_time": "2024-02-18T17:48:51.313225Z"
    }
   },
   "id": "d9827e8656c708fe"
  },
  {
   "cell_type": "code",
   "execution_count": 57,
   "outputs": [
    {
     "name": "stdout",
     "output_type": "stream",
     "text": [
      "{'variable1': [0.8192319205190405, 0.8192319205190405], 'variable2': [0.5734623443633283, 0.5734623443633283]}\n"
     ]
    }
   ],
   "source": [
    "import numpy as np\n",
    "\n",
    "def calculate_contributions(N_scores, r_proportions, k_variables):\n",
    "    \"\"\"\n",
    "    Calculate the contribution of modalities for each variable.\n",
    "\n",
    "    Parameters:\n",
    "    - N_scores: A dictionary where keys are variables and values are lists of tuples with the modality score and its average.\n",
    "    - r_proportions: A dictionary where keys are variables and values are lists of the population proportion for each modality.\n",
    "    - k_variables: The number of variables in the model.\n",
    "\n",
    "    Returns:\n",
    "    A dictionary with the contribution of each modality for each variable.\n",
    "    \"\"\"\n",
    "    contributions = {}\n",
    "    for variable, scores in N_scores.items():\n",
    "        # Calculate average score for the variable\n",
    "        N_bar = np.mean([score[0] for score in scores])\n",
    "\n",
    "        # Calculate the numerator for the variable's contribution\n",
    "        numerator = np.sqrt(sum([r_proportions[variable][j] * (score[0] - N_bar) ** 2 for j, score in enumerate(scores)]))\n",
    "        \n",
    "        # Calculate the denominator for the variable's contribution\n",
    "        denominator = np.sqrt(sum([\n",
    "            sum([r_proportions[var][j] * (score[0] - np.mean([s[0] for s in N_scores[var]])) ** 2\n",
    "                 for j, score in enumerate(N_scores[var])])\n",
    "            for var in N_scores\n",
    "        ]))\n",
    "        \n",
    "        # Calculate contributions for each modality\n",
    "        contributions[variable] = [numerator / denominator for score in scores]\n",
    "\n",
    "    return contributions\n",
    "\n",
    "# Example usage:\n",
    "# Assuming you have calculated the N_scores and r_proportions for each variable\n",
    "N_scores = {\n",
    "    'variable1': [(100, 90), (200, 180)], 'variable2': [(30, 120), (100, 90)], # example (score, average score) for each modality\n",
    "    # ... other variables\n",
    "}\n",
    "r_proportions = {\n",
    "    'variable1': [0.5, 0.5], 'variable2' : [0.2, 0.8]  # example population proportion for each modality\n",
    "    # ... other variables\n",
    "}\n",
    "k_variables = 2  # example number of variables\n",
    "\n",
    "contributions = calculate_contributions(N_scores, r_proportions, k_variables)\n",
    "print(contributions)\n"
   ],
   "metadata": {
    "collapsed": false,
    "ExecuteTime": {
     "end_time": "2024-02-18T17:20:39.130028Z",
     "start_time": "2024-02-18T17:20:39.123147Z"
    }
   },
   "id": "2b23b3369b3826a0"
  },
  {
   "cell_type": "code",
   "execution_count": null,
   "outputs": [],
   "source": [],
   "metadata": {
    "collapsed": false
   },
   "id": "9def02968b3b15ab"
  }
 ],
 "metadata": {
  "kernelspec": {
   "display_name": "Python 3",
   "language": "python",
   "name": "python3"
  },
  "language_info": {
   "codemirror_mode": {
    "name": "ipython",
    "version": 2
   },
   "file_extension": ".py",
   "mimetype": "text/x-python",
   "name": "python",
   "nbconvert_exporter": "python",
   "pygments_lexer": "ipython2",
   "version": "2.7.6"
  }
 },
 "nbformat": 4,
 "nbformat_minor": 5
}
