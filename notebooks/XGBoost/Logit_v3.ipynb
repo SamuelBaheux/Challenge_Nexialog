{
 "cells": [
  {
   "cell_type": "code",
   "execution_count": 72,
   "outputs": [],
   "source": [
    "import sys\n",
    "sys.path.append(\"../../script\")\n",
    "\n",
    "import pandas as pd\n",
    "pd.options.mode.chained_assignment = None \n",
    "import matplotlib.pyplot as plt\n",
    "from sklearn.metrics import roc_curve, auc\n",
    "from statsmodels.discrete.discrete_model import Logit\n",
    "\n",
    "from data_preparation import *\n",
    "from utils import GridScore"
   ],
   "metadata": {
    "collapsed": false,
    "ExecuteTime": {
     "end_time": "2024-02-27T10:53:29.323404Z",
     "start_time": "2024-02-27T10:53:29.295920Z"
    }
   },
   "id": "2342321997f8ad07"
  },
  {
   "cell_type": "markdown",
   "source": [
    "# Import et Préparation des données"
   ],
   "metadata": {
    "collapsed": false
   },
   "id": "e8edee32c0b0a304"
  },
  {
   "cell_type": "code",
   "execution_count": null,
   "outputs": [],
   "source": [],
   "metadata": {
    "collapsed": false
   },
   "id": "ed729961d0bd47fd"
  },
  {
   "cell_type": "code",
   "execution_count": 2,
   "outputs": [],
   "source": [
    "train = pd.read_csv(\"../../data/application_train_vf.csv\")"
   ],
   "metadata": {
    "collapsed": false,
    "ExecuteTime": {
     "end_time": "2024-02-27T10:05:08.916797Z",
     "start_time": "2024-02-27T10:05:06.276254Z"
    }
   },
   "id": "e2099f2d44040920"
  },
  {
   "cell_type": "code",
   "execution_count": 177,
   "outputs": [
    {
     "data": {
      "text/plain": "0         Cash_loans\n1         Cash_loans\n2         Cash_loans\n3         Cash_loans\n4         Cash_loans\n             ...    \n306102    Cash_loans\n306103    Cash_loans\n306104    Cash_loans\n306105    Cash_loans\n306106    Cash_loans\nName: NAME_CONTRACT_TYPE, Length: 306107, dtype: object"
     },
     "execution_count": 177,
     "metadata": {},
     "output_type": "execute_result"
    }
   ],
   "source": [
    "train[\"NAME_CONTRACT_TYPE\"].str.replace(' ', '_')"
   ],
   "metadata": {
    "collapsed": false,
    "ExecuteTime": {
     "end_time": "2024-02-27T11:44:50.226442Z",
     "start_time": "2024-02-27T11:44:50.184780Z"
    }
   },
   "id": "4105ef72e5da3c72"
  },
  {
   "cell_type": "code",
   "execution_count": 3,
   "outputs": [
    {
     "name": "stdout",
     "output_type": "stream",
     "text": [
      "Variables extérieures récupérées ✅\n",
      "Type des variables convertis ✅\n",
      "Valeurs manquantes traitées ✅\n",
      "Discrétisation des variables numériques en cours ... \n"
     ]
    },
    {
     "name": "stderr",
     "output_type": "stream",
     "text": [
      "100%|██████████| 10/10 [02:55<00:00, 17.60s/it]\n"
     ]
    },
    {
     "name": "stdout",
     "output_type": "stream",
     "text": [
      "Variables numériques discrétisées ✅\n",
      "Discrétisation des variables catégorielles en cours ... \n",
      "Variables catégorielles discrétisées ✅\n"
     ]
    }
   ],
   "source": [
    "dataprep = DataPreparation(train, 0.3)\n",
    "train_prepared = dataprep.get_prepared_data()"
   ],
   "metadata": {
    "collapsed": false,
    "ExecuteTime": {
     "end_time": "2024-02-27T10:08:37.091830Z",
     "start_time": "2024-02-27T10:05:08.917997Z"
    }
   },
   "id": "58e15b528038f66a"
  },
  {
   "cell_type": "code",
   "execution_count": 179,
   "outputs": [],
   "source": [
    "train_prepared[\"NAME_CONTRACT_TYPE\"] = train_prepared[\"NAME_CONTRACT_TYPE\"].str.replace(\" \", \"_\")"
   ],
   "metadata": {
    "collapsed": false,
    "ExecuteTime": {
     "end_time": "2024-02-27T11:46:07.667687Z",
     "start_time": "2024-02-27T11:46:07.658199Z"
    }
   },
   "id": "f0eba6ed2ef33c77"
  },
  {
   "cell_type": "code",
   "execution_count": 180,
   "outputs": [],
   "source": [
    "df_train = train_prepared.iloc[:280000, :]\n",
    "df_test = train_prepared.iloc[280000:, :]"
   ],
   "metadata": {
    "collapsed": false,
    "ExecuteTime": {
     "end_time": "2024-02-27T11:46:09.214449Z",
     "start_time": "2024-02-27T11:46:09.197744Z"
    }
   },
   "id": "bfd06b977c7ee046"
  },
  {
   "cell_type": "code",
   "execution_count": 181,
   "outputs": [],
   "source": [
    "features = ['REGION_RATING_CLIENT_W_CITY', 'DAYS_CREDIT_ENDDATE_disc_int', 'RATE_DOWN_PAYMENT_disc_int', 'AMT_PAYMENT_disc_int', 'NAME_INCOME_TYPE_discret', 'OCCUPATION_TYPE_discret', 'NAME_CONTRACT_TYPE','TARGET']"
   ],
   "metadata": {
    "collapsed": false,
    "ExecuteTime": {
     "end_time": "2024-02-27T11:46:11.038380Z",
     "start_time": "2024-02-27T11:46:11.027778Z"
    }
   },
   "id": "91360f9691cbb50a"
  },
  {
   "cell_type": "code",
   "execution_count": 182,
   "outputs": [
    {
     "data": {
      "text/plain": "       REGION_RATING_CLIENT_W_CITY DAYS_CREDIT_ENDDATE_disc_int  \\\n0                            trois            [-243.0;214193.0]   \n1                            trois           [-155271.0;-244.0]   \n2                          un_deux            [-243.0;214193.0]   \n3                          un_deux           [-155271.0;-244.0]   \n4                          un_deux            [-243.0;214193.0]   \n...                            ...                          ...   \n279995                     un_deux           [-155271.0;-244.0]   \n279996                     un_deux           [-155271.0;-244.0]   \n279997                     un_deux           [-155271.0;-244.0]   \n279998                     un_deux            [-243.0;214193.0]   \n279999                     un_deux            [-243.0;214193.0]   \n\n       RATE_DOWN_PAYMENT_disc_int     AMT_PAYMENT_disc_int  \\\n0                     [-0.0;0.21]  [128559.46;25537053.78]   \n1                     [-0.0;0.21]  [128559.46;25537053.78]   \n2                     [-0.0;0.21]          [0.0;128559.02]   \n3                     [-0.0;0.21]          [0.0;128559.02]   \n4                     [-0.0;0.21]          [0.0;128559.02]   \n...                           ...                      ...   \n279995                [-0.0;0.21]  [128559.46;25537053.78]   \n279996                [-0.0;0.21]  [128559.46;25537053.78]   \n279997                [0.21;4.48]  [128559.46;25537053.78]   \n279998                [-0.0;0.21]  [128559.46;25537053.78]   \n279999                [-0.0;0.21]          [0.0;128559.02]   \n\n       NAME_INCOME_TYPE_discret OCCUPATION_TYPE_discret NAME_CONTRACT_TYPE  \\\n0                   high_income             low_skilled         Cash_loans   \n1                   high_income             low_skilled         Cash_loans   \n2                   high_income             low_skilled         Cash_loans   \n3                   high_income             low_skilled         Cash_loans   \n4                   high_income             low_skilled         Cash_loans   \n...                         ...                     ...                ...   \n279995              high_income             low_skilled         Cash_loans   \n279996              high_income             low_skilled         Cash_loans   \n279997              high_income             low_skilled         Cash_loans   \n279998              high_income             low_skilled         Cash_loans   \n279999              high_income             low_skilled    Revolving_loans   \n\n        TARGET  \n0            0  \n1            0  \n2            0  \n3            0  \n4            0  \n...        ...  \n279995       1  \n279996       1  \n279997       1  \n279998       1  \n279999       1  \n\n[280000 rows x 8 columns]",
      "text/html": "<div>\n<style scoped>\n    .dataframe tbody tr th:only-of-type {\n        vertical-align: middle;\n    }\n\n    .dataframe tbody tr th {\n        vertical-align: top;\n    }\n\n    .dataframe thead th {\n        text-align: right;\n    }\n</style>\n<table border=\"1\" class=\"dataframe\">\n  <thead>\n    <tr style=\"text-align: right;\">\n      <th></th>\n      <th>REGION_RATING_CLIENT_W_CITY</th>\n      <th>DAYS_CREDIT_ENDDATE_disc_int</th>\n      <th>RATE_DOWN_PAYMENT_disc_int</th>\n      <th>AMT_PAYMENT_disc_int</th>\n      <th>NAME_INCOME_TYPE_discret</th>\n      <th>OCCUPATION_TYPE_discret</th>\n      <th>NAME_CONTRACT_TYPE</th>\n      <th>TARGET</th>\n    </tr>\n  </thead>\n  <tbody>\n    <tr>\n      <th>0</th>\n      <td>trois</td>\n      <td>[-243.0;214193.0]</td>\n      <td>[-0.0;0.21]</td>\n      <td>[128559.46;25537053.78]</td>\n      <td>high_income</td>\n      <td>low_skilled</td>\n      <td>Cash_loans</td>\n      <td>0</td>\n    </tr>\n    <tr>\n      <th>1</th>\n      <td>trois</td>\n      <td>[-155271.0;-244.0]</td>\n      <td>[-0.0;0.21]</td>\n      <td>[128559.46;25537053.78]</td>\n      <td>high_income</td>\n      <td>low_skilled</td>\n      <td>Cash_loans</td>\n      <td>0</td>\n    </tr>\n    <tr>\n      <th>2</th>\n      <td>un_deux</td>\n      <td>[-243.0;214193.0]</td>\n      <td>[-0.0;0.21]</td>\n      <td>[0.0;128559.02]</td>\n      <td>high_income</td>\n      <td>low_skilled</td>\n      <td>Cash_loans</td>\n      <td>0</td>\n    </tr>\n    <tr>\n      <th>3</th>\n      <td>un_deux</td>\n      <td>[-155271.0;-244.0]</td>\n      <td>[-0.0;0.21]</td>\n      <td>[0.0;128559.02]</td>\n      <td>high_income</td>\n      <td>low_skilled</td>\n      <td>Cash_loans</td>\n      <td>0</td>\n    </tr>\n    <tr>\n      <th>4</th>\n      <td>un_deux</td>\n      <td>[-243.0;214193.0]</td>\n      <td>[-0.0;0.21]</td>\n      <td>[0.0;128559.02]</td>\n      <td>high_income</td>\n      <td>low_skilled</td>\n      <td>Cash_loans</td>\n      <td>0</td>\n    </tr>\n    <tr>\n      <th>...</th>\n      <td>...</td>\n      <td>...</td>\n      <td>...</td>\n      <td>...</td>\n      <td>...</td>\n      <td>...</td>\n      <td>...</td>\n      <td>...</td>\n    </tr>\n    <tr>\n      <th>279995</th>\n      <td>un_deux</td>\n      <td>[-155271.0;-244.0]</td>\n      <td>[-0.0;0.21]</td>\n      <td>[128559.46;25537053.78]</td>\n      <td>high_income</td>\n      <td>low_skilled</td>\n      <td>Cash_loans</td>\n      <td>1</td>\n    </tr>\n    <tr>\n      <th>279996</th>\n      <td>un_deux</td>\n      <td>[-155271.0;-244.0]</td>\n      <td>[-0.0;0.21]</td>\n      <td>[128559.46;25537053.78]</td>\n      <td>high_income</td>\n      <td>low_skilled</td>\n      <td>Cash_loans</td>\n      <td>1</td>\n    </tr>\n    <tr>\n      <th>279997</th>\n      <td>un_deux</td>\n      <td>[-155271.0;-244.0]</td>\n      <td>[0.21;4.48]</td>\n      <td>[128559.46;25537053.78]</td>\n      <td>high_income</td>\n      <td>low_skilled</td>\n      <td>Cash_loans</td>\n      <td>1</td>\n    </tr>\n    <tr>\n      <th>279998</th>\n      <td>un_deux</td>\n      <td>[-243.0;214193.0]</td>\n      <td>[-0.0;0.21]</td>\n      <td>[128559.46;25537053.78]</td>\n      <td>high_income</td>\n      <td>low_skilled</td>\n      <td>Cash_loans</td>\n      <td>1</td>\n    </tr>\n    <tr>\n      <th>279999</th>\n      <td>un_deux</td>\n      <td>[-243.0;214193.0]</td>\n      <td>[-0.0;0.21]</td>\n      <td>[0.0;128559.02]</td>\n      <td>high_income</td>\n      <td>low_skilled</td>\n      <td>Revolving_loans</td>\n      <td>1</td>\n    </tr>\n  </tbody>\n</table>\n<p>280000 rows × 8 columns</p>\n</div>"
     },
     "execution_count": 182,
     "metadata": {},
     "output_type": "execute_result"
    }
   ],
   "source": [
    "df_train[features]"
   ],
   "metadata": {
    "collapsed": false,
    "ExecuteTime": {
     "end_time": "2024-02-27T11:46:11.405298Z",
     "start_time": "2024-02-27T11:46:11.402265Z"
    }
   },
   "id": "2584b365046d5acf"
  },
  {
   "cell_type": "code",
   "execution_count": 183,
   "outputs": [],
   "source": [
    "dic_ref = {\n",
    "    'REGION_RATING_CLIENT_W_CITY' : \"un_deux\",\n",
    "    'DAYS_CREDIT_ENDDATE_disc_int' : \"[-155271.0;-244.0]\",\n",
    "    'RATE_DOWN_PAYMENT_disc_int' : \"[0.21;4.48]\",\n",
    "    'AMT_PAYMENT_disc_int' : \"[128559.46;25537053.78]\",\n",
    "    'NAME_INCOME_TYPE_discret' : \"Low_income\",\n",
    "    'OCCUPATION_TYPE_discret' : \"high_skilled\",\n",
    "    'NAME_CONTRACT_TYPE' : \"Revolving_loans\"\n",
    "}"
   ],
   "metadata": {
    "collapsed": false,
    "ExecuteTime": {
     "end_time": "2024-02-27T11:46:16.400439Z",
     "start_time": "2024-02-27T11:46:16.370381Z"
    }
   },
   "id": "5462e48e3fa25ab5"
  },
  {
   "cell_type": "code",
   "execution_count": 183,
   "outputs": [],
   "source": [],
   "metadata": {
    "collapsed": false,
    "ExecuteTime": {
     "end_time": "2024-02-27T11:46:16.949139Z",
     "start_time": "2024-02-27T11:46:16.938079Z"
    }
   },
   "id": "4b846f033437afde"
  },
  {
   "cell_type": "code",
   "execution_count": 184,
   "outputs": [],
   "source": [
    "new_var = []\n",
    "for var in dic_ref.keys(): \n",
    "    new_var.append(f'{var}_{dic_ref[var]}')\n",
    "    df_train[f'{var}_{dic_ref[var]}'] = df_train[var].apply(lambda x : 0 if x == dic_ref[var] else 1)"
   ],
   "metadata": {
    "collapsed": false,
    "ExecuteTime": {
     "end_time": "2024-02-27T11:46:17.837552Z",
     "start_time": "2024-02-27T11:46:17.567985Z"
    }
   },
   "id": "25866f775bc69567"
  },
  {
   "cell_type": "code",
   "execution_count": 185,
   "outputs": [
    {
     "data": {
      "text/plain": "['REGION_RATING_CLIENT_W_CITY_un_deux',\n 'DAYS_CREDIT_ENDDATE_disc_int_[-155271.0;-244.0]',\n 'RATE_DOWN_PAYMENT_disc_int_[0.21;4.48]',\n 'AMT_PAYMENT_disc_int_[128559.46;25537053.78]',\n 'NAME_INCOME_TYPE_discret_Low_income',\n 'OCCUPATION_TYPE_discret_high_skilled',\n 'NAME_CONTRACT_TYPE_Revolving_loans']"
     },
     "execution_count": 185,
     "metadata": {},
     "output_type": "execute_result"
    }
   ],
   "source": [
    "new_var"
   ],
   "metadata": {
    "collapsed": false,
    "ExecuteTime": {
     "end_time": "2024-02-27T11:46:18.436184Z",
     "start_time": "2024-02-27T11:46:18.424409Z"
    }
   },
   "id": "628222ca6446b685"
  },
  {
   "cell_type": "code",
   "execution_count": 186,
   "outputs": [
    {
     "data": {
      "text/plain": "{'REGION_RATING_CLIENT_W_CITY': 'un_deux',\n 'DAYS_CREDIT_ENDDATE_disc_int': '[-155271.0;-244.0]',\n 'RATE_DOWN_PAYMENT_disc_int': '[0.21;4.48]',\n 'AMT_PAYMENT_disc_int': '[128559.46;25537053.78]',\n 'NAME_INCOME_TYPE_discret': 'Low_income',\n 'OCCUPATION_TYPE_discret': 'high_skilled',\n 'NAME_CONTRACT_TYPE': 'Revolving_loans'}"
     },
     "execution_count": 186,
     "metadata": {},
     "output_type": "execute_result"
    }
   ],
   "source": [
    "dic_ref"
   ],
   "metadata": {
    "collapsed": false,
    "ExecuteTime": {
     "end_time": "2024-02-27T11:46:23.545234Z",
     "start_time": "2024-02-27T11:46:23.529770Z"
    }
   },
   "id": "9d5a8a044802d877"
  },
  {
   "cell_type": "code",
   "execution_count": 187,
   "outputs": [
    {
     "name": "stdout",
     "output_type": "stream",
     "text": [
      "{'REGION_RATING_CLIENT_W_CITY': 'trois', 'DAYS_CREDIT_ENDDATE_disc_int': '[-243.0;214193.0]', 'RATE_DOWN_PAYMENT_disc_int': '[-0.0;0.21]', 'AMT_PAYMENT_disc_int': '[0.0;128559.02]', 'NAME_INCOME_TYPE_discret': 'high_income', 'OCCUPATION_TYPE_discret': 'low_skilled', 'NAME_CONTRACT_TYPE': 'Cash_loans'}\n"
     ]
    }
   ],
   "source": [
    "dic_not_ref = {}\n",
    "for var in dic_ref.keys():\n",
    "    modality = df_train[df_train[var] != dic_ref[var]][var].mode()[0]\n",
    "    dic_not_ref[var] = modality\n",
    "\n",
    "print(dic_not_ref)"
   ],
   "metadata": {
    "collapsed": false,
    "ExecuteTime": {
     "end_time": "2024-02-27T11:46:25.044073Z",
     "start_time": "2024-02-27T11:46:24.599899Z"
    }
   },
   "id": "679d51fc6a767dc3"
  },
  {
   "cell_type": "code",
   "execution_count": 295,
   "outputs": [],
   "source": [
    "from sklearn.model_selection import train_test_split\n",
    "import xgboost as xgb\n",
    "import shap\n",
    "import re\n",
    "\n",
    "class XGB_model():\n",
    "    def __init__(self, train, dic_ref):\n",
    "        self.train = train\n",
    "        self.dic_ref = dic_ref\n",
    "    \n",
    "    def get_dic_notref(self):\n",
    "        self.dic_not_ref = {}\n",
    "        for var in self.dic_ref.keys():\n",
    "            modality = self.train[self.train[var] != self.dic_ref[var]][var].mode()[0]\n",
    "            self.dic_not_ref[var] = modality\n",
    "    \n",
    "    def prepare_data(self):\n",
    "        self.new_var = {}\n",
    "        translation_table = str.maketrans({'[': 'zz',\n",
    "                                           ']': 'vv',\n",
    "                                           ';': 'ww',\n",
    "                                           '-': 'ff',\n",
    "                                           '.': 'pp'})\n",
    "        \n",
    "        for var in self.dic_ref.keys(): \n",
    "            self.new_var[f'{var}_{self.dic_ref[var]}'] = f'{var}_{self.dic_ref[var]}'.translate(translation_table)\n",
    "            self.train.loc[:, f'{var}_{self.dic_ref[var]}'] = self.train[var].apply(lambda x: 0 if x == self.dic_ref[var] else 1)\n",
    "            self.train = self.train.rename(columns = {f'{var}_{self.dic_ref[var]}' : self.new_var[f'{var}_{self.dic_ref[var]}']})\n",
    "        \n",
    "    def split_data(self):\n",
    "        X = self.train[self.new_var.values()]\n",
    "        y = self.train[\"TARGET\"]\n",
    "        \n",
    "        self.X_train, self.X_test, self.y_train, self.y_test = train_test_split(X, y, test_size=0.2, random_state=42, stratify = y)\n",
    "\n",
    "    def train_model(self):\n",
    "        params = {'max_depth': 10, 'eta': 0.06739876573943267, 'gamma': 1.0887983081146109e-05, 'colsample_bytree': 0.5551288232191764, 'subsample': 0.9618418605416359, 'n_estimators': 97, 'alpha': 0.48989283547214435}\n",
    "        self.model = xgb.XGBClassifier(**params)\n",
    "        self.model.fit(self.X_train, self.y_train)\n",
    "    \n",
    "    def compute_metrics(self):\n",
    "        y_prob = self.model.predict_proba(self.X_test)[:, 1]\n",
    "        fpr, tpr, thresholds = roc_curve(self.y_test, y_prob)\n",
    "        self.roc_auc = auc(fpr, tpr)\n",
    "        self.gini = 2*self.roc_auc-1\n",
    "        \n",
    "    def compute_shap_values(self):\n",
    "        explainer = shap.TreeExplainer(self.model)\n",
    "\n",
    "        self.shap_values = explainer.shap_values(self.X_train)\n",
    "        #shap.summary_plot(self.shap_values, self.X_train)\n",
    "        \n",
    "        #shap_values_single = explainer.shap_values(self.X_train.iloc[[0]])\n",
    "        #shap.force_plot(explainer.expected_value, shap_values_single, self.X_train.iloc[[0]])\n",
    "    \n",
    "    def extract_features_name(self, string):\n",
    "        bracket_content = re.search(r'(\\[[^\\]]+\\])', string)\n",
    "        if bracket_content:\n",
    "            return(string.split(bracket_content.group(1))[0][:-1])\n",
    "        else:\n",
    "            last_part = re.search(r'[^_]+_[^_]+$', string)\n",
    "            if last_part:\n",
    "                return(string.split(last_part.group(0))[0][:-1])\n",
    "    \n",
    "    def get_modality(self, row):\n",
    "        var = row[\"Var_ref\"]\n",
    "        if '_ref' in var :\n",
    "            return(dic_ref[var.split('_ref')[0]] + '_ref')\n",
    "        else :\n",
    "            return(dic_not_ref[var])\n",
    "\n",
    "    \n",
    "    def get_shap_coef(self):\n",
    "        shaps = pd.DataFrame(self.shap_values,columns = self.X_train.columns)\n",
    "        shaps['TARGET'] = self.y_train.values\n",
    "        \n",
    "        shapley_values = pd.DataFrame(columns=['Coef','Variable'])\n",
    "\n",
    "        dic_temp = {value : key for key, value in self.new_var.items()}\n",
    "        for col in self.X_train.columns:\n",
    "            shapley_values.loc[len(shapley_values)] = [shaps[shaps[col] < 0][col].mean(),dic_temp[col]]\n",
    "            shapley_values.loc[len(shapley_values)] = [shaps[shaps[col] > 0][col].mean(),dic_temp[col]]\n",
    "\n",
    "        shapley_values[\"Var_ok\"] = shapley_values[\"Variable\"].apply(lambda x: self.extract_features_name(x))\n",
    "\n",
    "        unique_var_ok_indexes = shapley_values.drop_duplicates('Var_ok', keep='first').index\n",
    "        shapley_values[\"Var_ref\"] = shapley_values[\"Var_ok\"].copy()\n",
    "        shapley_values.loc[unique_var_ok_indexes, 'Var_ref'] += '_ref'\n",
    "        shapley_values[\"Modality\"] = shapley_values.apply(lambda x: self.get_modality(x), axis=1)\n",
    "        shapley_values[\"Var_ref\"] = shapley_values[\"Var_ref\"].apply(lambda x : x.split(\"_ref\")[0])\n",
    "        \n",
    "        shapley_values = shapley_values[[\"Coef\", \"Var_ref\", \"Modality\"]]\n",
    "        shapley_values = shapley_values.rename(columns = {\"Coef\" : \"Coefficient\", \n",
    "                                                          \"Var_ref\" : \"Variable\"})\n",
    "\n",
    "        return(shapley_values)\n",
    "    \n",
    "    def run_xgb_model(self):\n",
    "        self.get_dic_notref()\n",
    "        self.prepare_data()\n",
    "        self.split_data()\n",
    "        self.train_model()\n",
    "        self.compute_metrics()\n",
    "        self.compute_shap_values()\n",
    "        return(self.get_shap_coef())"
   ],
   "metadata": {
    "collapsed": false,
    "ExecuteTime": {
     "end_time": "2024-02-27T13:26:42.367033Z",
     "start_time": "2024-02-27T13:26:42.339986Z"
    }
   },
   "id": "336835fa28db3fb4"
  },
  {
   "cell_type": "code",
   "execution_count": 296,
   "outputs": [],
   "source": [
    "test = XGB_model(train_prepared[features], dic_ref)"
   ],
   "metadata": {
    "collapsed": false,
    "ExecuteTime": {
     "end_time": "2024-02-27T13:26:43.359139Z",
     "start_time": "2024-02-27T13:26:43.250232Z"
    }
   },
   "id": "5a04ec9d8dba84ce"
  },
  {
   "cell_type": "code",
   "execution_count": 297,
   "outputs": [],
   "source": [
    "sh = test.run_xgb_model()"
   ],
   "metadata": {
    "collapsed": false,
    "ExecuteTime": {
     "end_time": "2024-02-27T13:26:53.970121Z",
     "start_time": "2024-02-27T13:26:43.870477Z"
    }
   },
   "id": "7585395035ec9827"
  },
  {
   "cell_type": "code",
   "execution_count": 298,
   "outputs": [],
   "source": [
    "import re\n",
    "import warnings\n",
    "\n",
    "import numpy as np\n",
    "import pandas as pd\n",
    "\n",
    "warnings.filterwarnings('ignore', category=FutureWarning,\n",
    "                        message=\"Series.__getitem__ treating keys as positions is deprecated\")\n",
    "\n",
    "\n",
    "class GridScoreXGB():\n",
    "    def __init__(self, df, shap_df):\n",
    "        self.df = df\n",
    "        self.shap_df = shap_df\n",
    "        self.variable_pattern = r'C\\(\\s*([^,]+?)(?=,|\\))'\n",
    "        self.reference_pattern = r'Treatment\\(reference=\"([^\"]+)\"\\)'\n",
    "\n",
    "    def calculate_percentage_default(self, row, data_frame):\n",
    "        variable = row['Variable']\n",
    "\n",
    "        if variable == \"Intercept\":\n",
    "            return (0)\n",
    "\n",
    "        modality = row['Modality']\n",
    "        if modality.isdigit():\n",
    "            modality = int(modality)\n",
    "\n",
    "        if '_ref' in modality:\n",
    "            modality = modality.split('_ref')[0]\n",
    "\n",
    "        default_count = data_frame[data_frame[variable] == modality][\"TARGET\"].sum()\n",
    "        total_count = data_frame.shape[0]\n",
    "        return round((default_count / total_count) * 100, 2)\n",
    "\n",
    "    def calculate_pcentage_class(self, row, data_frame):\n",
    "        variable = row['Variable']\n",
    "        if variable == \"Intercept\":\n",
    "            return (0)\n",
    "\n",
    "        modality = row['Modality']\n",
    "        if modality.isdigit():\n",
    "            modality = int(modality)\n",
    "\n",
    "        if '_ref' in modality:\n",
    "            modality = modality.split('_ref')[0]\n",
    "\n",
    "        default_count = data_frame[data_frame[variable] == modality].shape[0]\n",
    "        total_count = data_frame.shape[0]\n",
    "        return round((default_count / total_count) * 100, 2)\n",
    "\n",
    "    def calculate_contribution(self, score_card):\n",
    "        mean_scores = score_card.groupby('Variable')['Score'].mean().to_dict()\n",
    "        score_card['Contribution'] = score_card.apply(\n",
    "            lambda x: (x[\"Pcentage_Classe\"] / 100) * (x[\"Score\"] - mean_scores.get(x[\"Variable\"], 0)) ** 2,\n",
    "            axis=1)\n",
    "        contributions = np.sqrt(score_card.groupby('Variable')['Contribution'].sum()).to_dict()\n",
    "\n",
    "        contrib_totale = sum(contributions.values())\n",
    "        pcentage_contrib = {key: value / contrib_totale for key, value in contributions.items()}\n",
    "        score_card['Contribution'] = score_card.apply(lambda x: round(pcentage_contrib[x[\"Variable\"]], 2) * 100, axis=1)\n",
    "\n",
    "        return (score_card)\n",
    "\n",
    "    def compute_score(self, row):\n",
    "        num = np.abs(self.max[row[\"Variable\"]] - row[\"Coefficient\"])\n",
    "        denominateur = sum(self.max[key] - self.min[key] for key in self.min)\n",
    "        return ((num / denominateur) * 1000)\n",
    "\n",
    "    def extract_modality(self, reference_string):\n",
    "        modality_pattern = r'\\[T\\.([^\\]]+\\]?)'\n",
    "        match = re.search(modality_pattern, reference_string)\n",
    "\n",
    "        if match:\n",
    "            modality = match.group(1)\n",
    "            if modality[-1] == \"]\" and not re.search(r'\\d+\\]$', modality):\n",
    "                return modality[:-1]\n",
    "            return modality\n",
    "        else:\n",
    "            return 'N/A'\n",
    "\n",
    "    def compute_grid_score(self):\n",
    "        score_card = self.shap_df.copy()\n",
    "        \n",
    "        self.max = score_card.groupby(\"Variable\")[\"Coefficient\"].max().to_dict()\n",
    "        self.min = score_card.groupby(\"Variable\")[\"Coefficient\"].min().to_dict()\n",
    "\n",
    "        score_card[\"Score\"] = 0\n",
    "        score_card[\"Score\"] = score_card.apply(lambda x: self.compute_score(x), axis=1)\n",
    "\n",
    "        score_card[\"Pcentage_Défaut\"] = score_card.apply(lambda row: self.calculate_percentage_default(row, self.df),\n",
    "                                                         axis=1)\n",
    "        score_card[\"Pcentage_Classe\"] = score_card.apply(lambda row: self.calculate_pcentage_class(row, self.df),\n",
    "                                                         axis=1)\n",
    "\n",
    "        score_card = self.calculate_contribution(score_card)\n",
    "\n",
    "        self.score_card = score_card[['Variable', \"Modality\", 'Coefficient', \"Score\",\n",
    "                                 \"Contribution\", \"Pcentage_Défaut\", \"Pcentage_Classe\"]]\n",
    "\n",
    "        return self.score_card\n",
    "\n",
    "    def compute_individual_score(self, row, features):\n",
    "        score = 0\n",
    "        for var in features :\n",
    "            modality = row[var]\n",
    "            score += self.score_dict[var][modality]\n",
    "        return (score)\n",
    "\n",
    "    def get_individual_score(self):\n",
    "        self.score_dict = {}\n",
    "        for index, row in self.score_card.iterrows():\n",
    "            var = row[\"Variable\"]\n",
    "            mod = row[\"Modality\"].split(\"_ref\")[0]\n",
    "            score = row[\"Score\"]\n",
    "\n",
    "            if var not in self.score_dict:\n",
    "                self.score_dict[var] = {}\n",
    "            self.score_dict[var][mod] = score\n",
    "\n",
    "        features = list(self.score_dict.keys())\n",
    "\n",
    "        df_score = self.df.copy()\n",
    "        df_score[\"Score_ind\"] = 0\n",
    "        df_score[\"Score_ind\"] = df_score.apply(lambda row: self.compute_individual_score(row, features), axis=1)\n",
    "        return (df_score)\n"
   ],
   "metadata": {
    "collapsed": false,
    "ExecuteTime": {
     "end_time": "2024-02-27T13:26:54.029075Z",
     "start_time": "2024-02-27T13:26:54.010211Z"
    }
   },
   "id": "2b5244093f79b65"
  },
  {
   "cell_type": "code",
   "execution_count": 299,
   "outputs": [],
   "source": [
    "gs = GridScoreXGB(train_prepared, sh)"
   ],
   "metadata": {
    "collapsed": false,
    "ExecuteTime": {
     "end_time": "2024-02-27T13:26:54.029404Z",
     "start_time": "2024-02-27T13:26:54.016430Z"
    }
   },
   "id": "50449c5aa720c7d2"
  },
  {
   "cell_type": "code",
   "execution_count": 300,
   "outputs": [],
   "source": [
    "grid_score = gs.compute_grid_score()"
   ],
   "metadata": {
    "collapsed": false,
    "ExecuteTime": {
     "end_time": "2024-02-27T13:26:56.342519Z",
     "start_time": "2024-02-27T13:26:54.075914Z"
    }
   },
   "id": "6384d5e8baac4b17"
  },
  {
   "cell_type": "code",
   "execution_count": 303,
   "outputs": [
    {
     "data": {
      "text/plain": "                        Variable                     Modality  Coefficient  \\\n0    REGION_RATING_CLIENT_W_CITY                  un_deux_ref    -0.065662   \n1    REGION_RATING_CLIENT_W_CITY                        trois     0.338098   \n2   DAYS_CREDIT_ENDDATE_disc_int       [-155271.0;-244.0]_ref    -0.270392   \n3   DAYS_CREDIT_ENDDATE_disc_int            [-243.0;214193.0]     0.179438   \n4     RATE_DOWN_PAYMENT_disc_int              [0.21;4.48]_ref    -0.180778   \n5     RATE_DOWN_PAYMENT_disc_int                  [-0.0;0.21]     0.071789   \n6           AMT_PAYMENT_disc_int  [128559.46;25537053.78]_ref    -0.063947   \n7           AMT_PAYMENT_disc_int              [0.0;128559.02]     0.144950   \n8       NAME_INCOME_TYPE_discret               Low_income_ref    -0.372623   \n9       NAME_INCOME_TYPE_discret                  high_income     0.101248   \n10       OCCUPATION_TYPE_discret             high_skilled_ref    -0.275336   \n11       OCCUPATION_TYPE_discret                  low_skilled     0.073715   \n12            NAME_CONTRACT_TYPE          Revolving_loans_ref    -0.450024   \n13            NAME_CONTRACT_TYPE                   Cash_loans     0.040175   \n\n         Score  Contribution  Pcentage_Défaut  Pcentage_Classe  \n0   153.627288          15.0             6.13            85.76  \n1     0.000000          15.0             1.55            14.24  \n2   171.156802          17.0             2.57            44.56  \n3     0.000000          17.0             5.10            55.44  \n4    96.099949          10.0             1.92            31.08  \n5     0.000000          10.0             5.75            68.92  \n6    79.483662           8.0             5.09            71.57  \n7     0.000000           8.0             2.58            28.43  \n8   180.304408          18.0             1.31            25.11  \n9     0.000000          18.0             6.36            74.89  \n10  132.810950          13.0             1.35            23.12  \n11    0.000000          13.0             6.32            76.88  \n12  186.516941          19.0             0.49             9.53  \n13    0.000000          19.0             7.18            90.47  ",
      "text/html": "<div>\n<style scoped>\n    .dataframe tbody tr th:only-of-type {\n        vertical-align: middle;\n    }\n\n    .dataframe tbody tr th {\n        vertical-align: top;\n    }\n\n    .dataframe thead th {\n        text-align: right;\n    }\n</style>\n<table border=\"1\" class=\"dataframe\">\n  <thead>\n    <tr style=\"text-align: right;\">\n      <th></th>\n      <th>Variable</th>\n      <th>Modality</th>\n      <th>Coefficient</th>\n      <th>Score</th>\n      <th>Contribution</th>\n      <th>Pcentage_Défaut</th>\n      <th>Pcentage_Classe</th>\n    </tr>\n  </thead>\n  <tbody>\n    <tr>\n      <th>0</th>\n      <td>REGION_RATING_CLIENT_W_CITY</td>\n      <td>un_deux_ref</td>\n      <td>-0.065662</td>\n      <td>153.627288</td>\n      <td>15.0</td>\n      <td>6.13</td>\n      <td>85.76</td>\n    </tr>\n    <tr>\n      <th>1</th>\n      <td>REGION_RATING_CLIENT_W_CITY</td>\n      <td>trois</td>\n      <td>0.338098</td>\n      <td>0.000000</td>\n      <td>15.0</td>\n      <td>1.55</td>\n      <td>14.24</td>\n    </tr>\n    <tr>\n      <th>2</th>\n      <td>DAYS_CREDIT_ENDDATE_disc_int</td>\n      <td>[-155271.0;-244.0]_ref</td>\n      <td>-0.270392</td>\n      <td>171.156802</td>\n      <td>17.0</td>\n      <td>2.57</td>\n      <td>44.56</td>\n    </tr>\n    <tr>\n      <th>3</th>\n      <td>DAYS_CREDIT_ENDDATE_disc_int</td>\n      <td>[-243.0;214193.0]</td>\n      <td>0.179438</td>\n      <td>0.000000</td>\n      <td>17.0</td>\n      <td>5.10</td>\n      <td>55.44</td>\n    </tr>\n    <tr>\n      <th>4</th>\n      <td>RATE_DOWN_PAYMENT_disc_int</td>\n      <td>[0.21;4.48]_ref</td>\n      <td>-0.180778</td>\n      <td>96.099949</td>\n      <td>10.0</td>\n      <td>1.92</td>\n      <td>31.08</td>\n    </tr>\n    <tr>\n      <th>5</th>\n      <td>RATE_DOWN_PAYMENT_disc_int</td>\n      <td>[-0.0;0.21]</td>\n      <td>0.071789</td>\n      <td>0.000000</td>\n      <td>10.0</td>\n      <td>5.75</td>\n      <td>68.92</td>\n    </tr>\n    <tr>\n      <th>6</th>\n      <td>AMT_PAYMENT_disc_int</td>\n      <td>[128559.46;25537053.78]_ref</td>\n      <td>-0.063947</td>\n      <td>79.483662</td>\n      <td>8.0</td>\n      <td>5.09</td>\n      <td>71.57</td>\n    </tr>\n    <tr>\n      <th>7</th>\n      <td>AMT_PAYMENT_disc_int</td>\n      <td>[0.0;128559.02]</td>\n      <td>0.144950</td>\n      <td>0.000000</td>\n      <td>8.0</td>\n      <td>2.58</td>\n      <td>28.43</td>\n    </tr>\n    <tr>\n      <th>8</th>\n      <td>NAME_INCOME_TYPE_discret</td>\n      <td>Low_income_ref</td>\n      <td>-0.372623</td>\n      <td>180.304408</td>\n      <td>18.0</td>\n      <td>1.31</td>\n      <td>25.11</td>\n    </tr>\n    <tr>\n      <th>9</th>\n      <td>NAME_INCOME_TYPE_discret</td>\n      <td>high_income</td>\n      <td>0.101248</td>\n      <td>0.000000</td>\n      <td>18.0</td>\n      <td>6.36</td>\n      <td>74.89</td>\n    </tr>\n    <tr>\n      <th>10</th>\n      <td>OCCUPATION_TYPE_discret</td>\n      <td>high_skilled_ref</td>\n      <td>-0.275336</td>\n      <td>132.810950</td>\n      <td>13.0</td>\n      <td>1.35</td>\n      <td>23.12</td>\n    </tr>\n    <tr>\n      <th>11</th>\n      <td>OCCUPATION_TYPE_discret</td>\n      <td>low_skilled</td>\n      <td>0.073715</td>\n      <td>0.000000</td>\n      <td>13.0</td>\n      <td>6.32</td>\n      <td>76.88</td>\n    </tr>\n    <tr>\n      <th>12</th>\n      <td>NAME_CONTRACT_TYPE</td>\n      <td>Revolving_loans_ref</td>\n      <td>-0.450024</td>\n      <td>186.516941</td>\n      <td>19.0</td>\n      <td>0.49</td>\n      <td>9.53</td>\n    </tr>\n    <tr>\n      <th>13</th>\n      <td>NAME_CONTRACT_TYPE</td>\n      <td>Cash_loans</td>\n      <td>0.040175</td>\n      <td>0.000000</td>\n      <td>19.0</td>\n      <td>7.18</td>\n      <td>90.47</td>\n    </tr>\n  </tbody>\n</table>\n</div>"
     },
     "execution_count": 303,
     "metadata": {},
     "output_type": "execute_result"
    }
   ],
   "source": [
    "grid_score"
   ],
   "metadata": {
    "collapsed": false,
    "ExecuteTime": {
     "end_time": "2024-02-27T13:27:14.276718Z",
     "start_time": "2024-02-27T13:27:14.251697Z"
    }
   },
   "id": "7608a952175be0e6"
  },
  {
   "cell_type": "code",
   "execution_count": 305,
   "outputs": [
    {
     "data": {
      "text/plain": "200.0"
     },
     "execution_count": 305,
     "metadata": {},
     "output_type": "execute_result"
    }
   ],
   "source": [
    "grid_score[\"Contribution\"].sum()"
   ],
   "metadata": {
    "collapsed": false,
    "ExecuteTime": {
     "end_time": "2024-02-27T13:27:25.091440Z",
     "start_time": "2024-02-27T13:27:25.059885Z"
    }
   },
   "id": "f113daa640802baf"
  },
  {
   "cell_type": "code",
   "execution_count": null,
   "outputs": [],
   "source": [],
   "metadata": {
    "collapsed": false
   },
   "id": "43629cc34e887e42"
  },
  {
   "cell_type": "markdown",
   "source": [
    "# Xgboost"
   ],
   "metadata": {
    "collapsed": false
   },
   "id": "48d27bd614d6b5a3"
  },
  {
   "cell_type": "code",
   "execution_count": 9,
   "outputs": [
    {
     "data": {
      "text/plain": "       REGION_RATING_CLIENT_W_CITY DAYS_CREDIT_ENDDATE_disc_int  \\\n0                            trois            [-243.0;214193.0]   \n1                            trois           [-155271.0;-244.0]   \n2                          un_deux            [-243.0;214193.0]   \n3                          un_deux           [-155271.0;-244.0]   \n4                          un_deux            [-243.0;214193.0]   \n...                            ...                          ...   \n279995                     un_deux           [-155271.0;-244.0]   \n279996                     un_deux           [-155271.0;-244.0]   \n279997                     un_deux           [-155271.0;-244.0]   \n279998                     un_deux            [-243.0;214193.0]   \n279999                     un_deux            [-243.0;214193.0]   \n\n       RATE_DOWN_PAYMENT_disc_int     AMT_PAYMENT_disc_int  \\\n0                     [-0.0;0.21]  [128559.46;25537053.78]   \n1                     [-0.0;0.21]  [128559.46;25537053.78]   \n2                     [-0.0;0.21]          [0.0;128559.02]   \n3                     [-0.0;0.21]          [0.0;128559.02]   \n4                     [-0.0;0.21]          [0.0;128559.02]   \n...                           ...                      ...   \n279995                [-0.0;0.21]  [128559.46;25537053.78]   \n279996                [-0.0;0.21]  [128559.46;25537053.78]   \n279997                [0.21;4.48]  [128559.46;25537053.78]   \n279998                [-0.0;0.21]  [128559.46;25537053.78]   \n279999                [-0.0;0.21]          [0.0;128559.02]   \n\n       NAME_INCOME_TYPE_discret OCCUPATION_TYPE_discret NAME_CONTRACT_TYPE  \\\n0                   high_income             low_skilled         Cash loans   \n1                   high_income             low_skilled         Cash loans   \n2                   high_income             low_skilled         Cash loans   \n3                   high_income             low_skilled         Cash loans   \n4                   high_income             low_skilled         Cash loans   \n...                         ...                     ...                ...   \n279995              high_income             low_skilled         Cash loans   \n279996              high_income             low_skilled         Cash loans   \n279997              high_income             low_skilled         Cash loans   \n279998              high_income             low_skilled         Cash loans   \n279999              high_income             low_skilled    Revolving loans   \n\n        TARGET  \n0            0  \n1            0  \n2            0  \n3            0  \n4            0  \n...        ...  \n279995       1  \n279996       1  \n279997       1  \n279998       1  \n279999       1  \n\n[280000 rows x 8 columns]",
      "text/html": "<div>\n<style scoped>\n    .dataframe tbody tr th:only-of-type {\n        vertical-align: middle;\n    }\n\n    .dataframe tbody tr th {\n        vertical-align: top;\n    }\n\n    .dataframe thead th {\n        text-align: right;\n    }\n</style>\n<table border=\"1\" class=\"dataframe\">\n  <thead>\n    <tr style=\"text-align: right;\">\n      <th></th>\n      <th>REGION_RATING_CLIENT_W_CITY</th>\n      <th>DAYS_CREDIT_ENDDATE_disc_int</th>\n      <th>RATE_DOWN_PAYMENT_disc_int</th>\n      <th>AMT_PAYMENT_disc_int</th>\n      <th>NAME_INCOME_TYPE_discret</th>\n      <th>OCCUPATION_TYPE_discret</th>\n      <th>NAME_CONTRACT_TYPE</th>\n      <th>TARGET</th>\n    </tr>\n  </thead>\n  <tbody>\n    <tr>\n      <th>0</th>\n      <td>trois</td>\n      <td>[-243.0;214193.0]</td>\n      <td>[-0.0;0.21]</td>\n      <td>[128559.46;25537053.78]</td>\n      <td>high_income</td>\n      <td>low_skilled</td>\n      <td>Cash loans</td>\n      <td>0</td>\n    </tr>\n    <tr>\n      <th>1</th>\n      <td>trois</td>\n      <td>[-155271.0;-244.0]</td>\n      <td>[-0.0;0.21]</td>\n      <td>[128559.46;25537053.78]</td>\n      <td>high_income</td>\n      <td>low_skilled</td>\n      <td>Cash loans</td>\n      <td>0</td>\n    </tr>\n    <tr>\n      <th>2</th>\n      <td>un_deux</td>\n      <td>[-243.0;214193.0]</td>\n      <td>[-0.0;0.21]</td>\n      <td>[0.0;128559.02]</td>\n      <td>high_income</td>\n      <td>low_skilled</td>\n      <td>Cash loans</td>\n      <td>0</td>\n    </tr>\n    <tr>\n      <th>3</th>\n      <td>un_deux</td>\n      <td>[-155271.0;-244.0]</td>\n      <td>[-0.0;0.21]</td>\n      <td>[0.0;128559.02]</td>\n      <td>high_income</td>\n      <td>low_skilled</td>\n      <td>Cash loans</td>\n      <td>0</td>\n    </tr>\n    <tr>\n      <th>4</th>\n      <td>un_deux</td>\n      <td>[-243.0;214193.0]</td>\n      <td>[-0.0;0.21]</td>\n      <td>[0.0;128559.02]</td>\n      <td>high_income</td>\n      <td>low_skilled</td>\n      <td>Cash loans</td>\n      <td>0</td>\n    </tr>\n    <tr>\n      <th>...</th>\n      <td>...</td>\n      <td>...</td>\n      <td>...</td>\n      <td>...</td>\n      <td>...</td>\n      <td>...</td>\n      <td>...</td>\n      <td>...</td>\n    </tr>\n    <tr>\n      <th>279995</th>\n      <td>un_deux</td>\n      <td>[-155271.0;-244.0]</td>\n      <td>[-0.0;0.21]</td>\n      <td>[128559.46;25537053.78]</td>\n      <td>high_income</td>\n      <td>low_skilled</td>\n      <td>Cash loans</td>\n      <td>1</td>\n    </tr>\n    <tr>\n      <th>279996</th>\n      <td>un_deux</td>\n      <td>[-155271.0;-244.0]</td>\n      <td>[-0.0;0.21]</td>\n      <td>[128559.46;25537053.78]</td>\n      <td>high_income</td>\n      <td>low_skilled</td>\n      <td>Cash loans</td>\n      <td>1</td>\n    </tr>\n    <tr>\n      <th>279997</th>\n      <td>un_deux</td>\n      <td>[-155271.0;-244.0]</td>\n      <td>[0.21;4.48]</td>\n      <td>[128559.46;25537053.78]</td>\n      <td>high_income</td>\n      <td>low_skilled</td>\n      <td>Cash loans</td>\n      <td>1</td>\n    </tr>\n    <tr>\n      <th>279998</th>\n      <td>un_deux</td>\n      <td>[-243.0;214193.0]</td>\n      <td>[-0.0;0.21]</td>\n      <td>[128559.46;25537053.78]</td>\n      <td>high_income</td>\n      <td>low_skilled</td>\n      <td>Cash loans</td>\n      <td>1</td>\n    </tr>\n    <tr>\n      <th>279999</th>\n      <td>un_deux</td>\n      <td>[-243.0;214193.0]</td>\n      <td>[-0.0;0.21]</td>\n      <td>[0.0;128559.02]</td>\n      <td>high_income</td>\n      <td>low_skilled</td>\n      <td>Revolving loans</td>\n      <td>1</td>\n    </tr>\n  </tbody>\n</table>\n<p>280000 rows × 8 columns</p>\n</div>"
     },
     "execution_count": 9,
     "metadata": {},
     "output_type": "execute_result"
    }
   ],
   "source": [
    "df_train[['REGION_RATING_CLIENT_W_CITY', 'DAYS_CREDIT_ENDDATE_disc_int', 'RATE_DOWN_PAYMENT_disc_int', 'AMT_PAYMENT_disc_int', 'NAME_INCOME_TYPE_discret', 'OCCUPATION_TYPE_discret', 'NAME_CONTRACT_TYPE','TARGET']]"
   ],
   "metadata": {
    "collapsed": false,
    "ExecuteTime": {
     "end_time": "2024-02-27T10:09:26.763806Z",
     "start_time": "2024-02-27T10:09:26.722699Z"
    }
   },
   "id": "ca8de1b20065f81c"
  },
  {
   "cell_type": "code",
   "execution_count": 11,
   "outputs": [
    {
     "name": "stderr",
     "output_type": "stream",
     "text": [
      "/var/folders/12/33kq22951gn7jfpz3d32v_qc0000gn/T/ipykernel_1607/1767289003.py:1: SettingWithCopyWarning: \n",
      "A value is trying to be set on a copy of a slice from a DataFrame.\n",
      "Try using .loc[row_indexer,col_indexer] = value instead\n",
      "\n",
      "See the caveats in the documentation: https://pandas.pydata.org/pandas-docs/stable/user_guide/indexing.html#returning-a-view-versus-a-copy\n",
      "  df_train['NAME_INCOME_TYPE_discret_high_income'] = df_train['NAME_INCOME_TYPE_discret'].apply(lambda x : 1 if x == 'high_income' else 0)\n",
      "/var/folders/12/33kq22951gn7jfpz3d32v_qc0000gn/T/ipykernel_1607/1767289003.py:2: SettingWithCopyWarning: \n",
      "A value is trying to be set on a copy of a slice from a DataFrame.\n",
      "Try using .loc[row_indexer,col_indexer] = value instead\n",
      "\n",
      "See the caveats in the documentation: https://pandas.pydata.org/pandas-docs/stable/user_guide/indexing.html#returning-a-view-versus-a-copy\n",
      "  df_train['RATE_DOWN_PAYMENT_[0;0.2]'] = df_train['RATE_DOWN_PAYMENT_disc_int'].apply(lambda x : 1 if x == 0 else 0)\n",
      "/var/folders/12/33kq22951gn7jfpz3d32v_qc0000gn/T/ipykernel_1607/1767289003.py:3: SettingWithCopyWarning: \n",
      "A value is trying to be set on a copy of a slice from a DataFrame.\n",
      "Try using .loc[row_indexer,col_indexer] = value instead\n",
      "\n",
      "See the caveats in the documentation: https://pandas.pydata.org/pandas-docs/stable/user_guide/indexing.html#returning-a-view-versus-a-copy\n",
      "  df_train['AMT_PAYMENT_[0;146933]'] = df_train['AMT_PAYMENT_disc_int'].apply(lambda x : 1 if x == 0 else 0)\n",
      "/var/folders/12/33kq22951gn7jfpz3d32v_qc0000gn/T/ipykernel_1607/1767289003.py:4: SettingWithCopyWarning: \n",
      "A value is trying to be set on a copy of a slice from a DataFrame.\n",
      "Try using .loc[row_indexer,col_indexer] = value instead\n",
      "\n",
      "See the caveats in the documentation: https://pandas.pydata.org/pandas-docs/stable/user_guide/indexing.html#returning-a-view-versus-a-copy\n",
      "  df_train['NAME_CONTRACT_TYPE_Cash_loans'] = df_train['NAME_CONTRACT_TYPE'].apply(lambda x : 1 if x == 'Cash loans' else 0)\n",
      "/var/folders/12/33kq22951gn7jfpz3d32v_qc0000gn/T/ipykernel_1607/1767289003.py:5: SettingWithCopyWarning: \n",
      "A value is trying to be set on a copy of a slice from a DataFrame.\n",
      "Try using .loc[row_indexer,col_indexer] = value instead\n",
      "\n",
      "See the caveats in the documentation: https://pandas.pydata.org/pandas-docs/stable/user_guide/indexing.html#returning-a-view-versus-a-copy\n",
      "  df_train['OCCUPATION_TYPE_discret_low_skilled'] = df_train['OCCUPATION_TYPE_discret'].apply(lambda x : 1 if x == 'low_skilled' else 0)\n"
     ]
    }
   ],
   "source": [
    "df_train['NAME_INCOME_TYPE_discret_high_income'] = df_train['NAME_INCOME_TYPE_discret'].apply(lambda x : 1 if x == 'high_income' else 0)\n",
    "df_train['RATE_DOWN_PAYMENT_[0;0.2]'] = df_train['RATE_DOWN_PAYMENT_disc_int'].apply(lambda x : 1 if x == 0 else 0)\n",
    "df_train['AMT_PAYMENT_[0;146933]'] = df_train['AMT_PAYMENT_disc_int'].apply(lambda x : 1 if x == 0 else 0)\n",
    "df_train['NAME_CONTRACT_TYPE_Cash_loans'] = df_train['NAME_CONTRACT_TYPE'].apply(lambda x : 1 if x == 'Cash loans' else 0)\n",
    "df_train['OCCUPATION_TYPE_discret_low_skilled'] = df_train['OCCUPATION_TYPE_discret'].apply(lambda x : 1 if x == 'low_skilled' else 0)"
   ],
   "metadata": {
    "collapsed": false,
    "ExecuteTime": {
     "end_time": "2024-02-27T10:11:28.153439Z",
     "start_time": "2024-02-27T10:11:27.779640Z"
    }
   },
   "id": "b55cd17fd3ce54f9"
  },
  {
   "cell_type": "code",
   "execution_count": 13,
   "outputs": [
    {
     "name": "stderr",
     "output_type": "stream",
     "text": [
      "/var/folders/12/33kq22951gn7jfpz3d32v_qc0000gn/T/ipykernel_1607/795465578.py:1: SettingWithCopyWarning: \n",
      "A value is trying to be set on a copy of a slice from a DataFrame\n",
      "\n",
      "See the caveats in the documentation: https://pandas.pydata.org/pandas-docs/stable/user_guide/indexing.html#returning-a-view-versus-a-copy\n",
      "  df_train.drop(columns = ['OCCUPATION_TYPE_discret','NAME_CONTRACT_TYPE','AMT_PAYMENT_disc_int','RATE_DOWN_PAYMENT_disc_int','NAME_INCOME_TYPE_discret'],inplace = True)\n"
     ]
    }
   ],
   "source": [
    "df_train.drop(columns = ['OCCUPATION_TYPE_discret','NAME_CONTRACT_TYPE','AMT_PAYMENT_disc_int','RATE_DOWN_PAYMENT_disc_int','NAME_INCOME_TYPE_discret'],inplace = True)"
   ],
   "metadata": {
    "collapsed": false,
    "ExecuteTime": {
     "end_time": "2024-02-27T10:11:47.388451Z",
     "start_time": "2024-02-27T10:11:47.320928Z"
    }
   },
   "id": "27608abcb5a3eb6b"
  },
  {
   "cell_type": "code",
   "execution_count": 14,
   "outputs": [
    {
     "name": "stderr",
     "output_type": "stream",
     "text": [
      "/var/folders/12/33kq22951gn7jfpz3d32v_qc0000gn/T/ipykernel_1607/3714237082.py:1: SettingWithCopyWarning: \n",
      "A value is trying to be set on a copy of a slice from a DataFrame\n",
      "\n",
      "See the caveats in the documentation: https://pandas.pydata.org/pandas-docs/stable/user_guide/indexing.html#returning-a-view-versus-a-copy\n",
      "  df_train.rename(columns = {'REGION_RATING_CLIENT_W_CITY_disc': 'REGION_RATING_CLIENT_W_CITY_[3;3]','DAYS_CREDIT_ENDDATE_disc' : 'DAYS_CREDIT_ENDDATE_[0;214193]'},inplace = True)\n"
     ]
    }
   ],
   "source": [
    "df_train.rename(columns = {'REGION_RATING_CLIENT_W_CITY_disc': 'REGION_RATING_CLIENT_W_CITY_[3;3]','DAYS_CREDIT_ENDDATE_disc' : 'DAYS_CREDIT_ENDDATE_[0;214193]'},inplace = True)"
   ],
   "metadata": {
    "collapsed": false,
    "ExecuteTime": {
     "end_time": "2024-02-27T10:11:52.496769Z",
     "start_time": "2024-02-27T10:11:52.437091Z"
    }
   },
   "id": "76721a1db94426c5"
  },
  {
   "cell_type": "code",
   "execution_count": 149,
   "outputs": [],
   "source": [
    "X = train_prepared2.drop(columns = ['TARGET'])\n",
    "y = train_prepared2['TARGET']\n",
    "\n",
    "X_train2, X_test2, y_train, y_test = train_test_split(X, y, test_size=0.2, random_state=42, stratify = y)"
   ],
   "metadata": {
    "collapsed": false,
    "ExecuteTime": {
     "end_time": "2024-02-27T09:47:51.101606200Z",
     "start_time": "2024-02-27T09:47:50.758781700Z"
    }
   },
   "id": "e1b83a7a7dc063d9"
  },
  {
   "cell_type": "code",
   "execution_count": 150,
   "outputs": [],
   "source": [
    "new_columns = []\n",
    "for col in X_train2.columns:\n",
    "    new_col = col.replace('[', 'zz').replace(']', 'vv').replace(';', 'ww').replace('-', 'ff').replace('.', 'pp')\n",
    "    new_columns.append(new_col)\n",
    "\n",
    "X_train2.columns = new_columns\n",
    "\n",
    "\n",
    "new_columns = []\n",
    "for col in X_test2.columns:\n",
    "    new_col = col.replace('[', 'zz').replace(']', 'vv').replace(';', 'ww').replace('-', 'ff').replace('.', 'pp')\n",
    "    new_columns.append(new_col)\n",
    "\n",
    "X_test2.columns = new_columns"
   ],
   "metadata": {
    "collapsed": false,
    "ExecuteTime": {
     "end_time": "2024-02-27T09:47:53.459125600Z",
     "start_time": "2024-02-27T09:47:53.378210400Z"
    }
   },
   "id": "9c24c7f7ecdeccdf"
  },
  {
   "cell_type": "code",
   "execution_count": 151,
   "outputs": [
    {
     "data": {
      "text/plain": "Index(['REGION_RATING_CLIENT_W_CITY_zz3ww3vv',\n       'DAYS_CREDIT_ENDDATE_zz0ww214193vv',\n       'NAME_INCOME_TYPE_discret_high_income', 'RATE_DOWN_PAYMENT_zz0ww0pp2vv',\n       'AMT_PAYMENT_zz0ww146933vv', 'NAME_CONTRACT_TYPE_Cash_loans',\n       'OCCUPATION_TYPE_discret_low_skilled'],\n      dtype='object')"
     },
     "execution_count": 151,
     "metadata": {},
     "output_type": "execute_result"
    }
   ],
   "source": [
    "X_test2.columns "
   ],
   "metadata": {
    "collapsed": false,
    "ExecuteTime": {
     "end_time": "2024-02-27T09:47:57.929674600Z",
     "start_time": "2024-02-27T09:47:57.842137700Z"
    }
   },
   "id": "c972b1482e60099e"
  },
  {
   "cell_type": "code",
   "execution_count": 152,
   "outputs": [
    {
     "name": "stderr",
     "output_type": "stream",
     "text": [
      "[I 2024-02-27 10:48:06,299] A new study created in memory with name: no-name-8428425e-47cc-47f0-8a23-c9392eaf9684\n",
      "[I 2024-02-27 10:48:07,795] Trial 0 finished with value: 0.6233696835860393 and parameters: {'max_depth': 19, 'eta': 0.2948754837163624, 'gamma': 1.6638940623102458e-08, 'colsample_bytree': 0.615557306663375, 'subsample': 0.6322377617370255, 'n_estimators': 95, 'alpha': 0.15439516676842827}. Best is trial 0 with value: 0.6233696835860393.\n",
      "[I 2024-02-27 10:48:09,782] Trial 1 finished with value: 0.624502351572051 and parameters: {'max_depth': 20, 'eta': 0.09039346279705804, 'gamma': 0.1022394923288858, 'colsample_bytree': 0.44427941301462115, 'subsample': 0.9449338377441103, 'n_estimators': 104, 'alpha': 0.6050820852748322}. Best is trial 1 with value: 0.624502351572051.\n",
      "[I 2024-02-27 10:48:11,917] Trial 2 finished with value: 0.6228267640886457 and parameters: {'max_depth': 8, 'eta': 0.16580815967129212, 'gamma': 0.03138405464861721, 'colsample_bytree': 0.9291043169676325, 'subsample': 0.6471146854818869, 'n_estimators': 147, 'alpha': 0.11947016681849469}. Best is trial 1 with value: 0.624502351572051.\n",
      "[I 2024-02-27 10:48:12,936] Trial 3 finished with value: 0.6244253792190655 and parameters: {'max_depth': 11, 'eta': 0.07538373357971313, 'gamma': 7.630201292695631e-08, 'colsample_bytree': 0.4017119998260821, 'subsample': 0.7801697244921174, 'n_estimators': 131, 'alpha': 0.4405217986516221}. Best is trial 1 with value: 0.624502351572051.\n",
      "[I 2024-02-27 10:48:13,951] Trial 4 finished with value: 0.6245449131099611 and parameters: {'max_depth': 17, 'eta': 0.07837389999417517, 'gamma': 0.6169051172720034, 'colsample_bytree': 0.7047663888822426, 'subsample': 0.9008835127869204, 'n_estimators': 129, 'alpha': 0.10125881474403416}. Best is trial 4 with value: 0.6245449131099611.\n",
      "[I 2024-02-27 10:48:15,112] Trial 5 finished with value: 0.6224749647290087 and parameters: {'max_depth': 12, 'eta': 0.38460072085304264, 'gamma': 3.179217213136512e-07, 'colsample_bytree': 0.5874847384986331, 'subsample': 0.6836317241345593, 'n_estimators': 122, 'alpha': 0.05201068241659028}. Best is trial 4 with value: 0.6245449131099611.\n",
      "[I 2024-02-27 10:48:16,393] Trial 6 finished with value: 0.6221170560937528 and parameters: {'max_depth': 17, 'eta': 0.2543959899374507, 'gamma': 9.479977825485833e-05, 'colsample_bytree': 0.8942992570915105, 'subsample': 0.8159897776684178, 'n_estimators': 111, 'alpha': 0.9741962187474912}. Best is trial 4 with value: 0.6245449131099611.\n",
      "[I 2024-02-27 10:48:17,859] Trial 7 finished with value: 0.6234580722241048 and parameters: {'max_depth': 12, 'eta': 0.10682321010220765, 'gamma': 1.3489985900146954e-08, 'colsample_bytree': 0.8502102617267542, 'subsample': 0.60490794301148, 'n_estimators': 115, 'alpha': 0.6422516742029912}. Best is trial 4 with value: 0.6245449131099611.\n",
      "[I 2024-02-27 10:48:18,917] Trial 8 finished with value: 0.6244286259487716 and parameters: {'max_depth': 5, 'eta': 0.0758988002789743, 'gamma': 0.001331864896456936, 'colsample_bytree': 0.3535789015578962, 'subsample': 0.9735771947382733, 'n_estimators': 143, 'alpha': 0.09977867373032005}. Best is trial 4 with value: 0.6245449131099611.\n",
      "[I 2024-02-27 10:48:20,257] Trial 9 finished with value: 0.6226967480065991 and parameters: {'max_depth': 6, 'eta': 0.16002120300413647, 'gamma': 4.1202826504776475e-06, 'colsample_bytree': 0.7219025691129655, 'subsample': 0.9607335367462813, 'n_estimators': 118, 'alpha': 0.31935221646437456}. Best is trial 4 with value: 0.6245449131099611.\n",
      "[I 2024-02-27 10:48:21,489] Trial 10 finished with value: 0.6241564128985188 and parameters: {'max_depth': 16, 'eta': 0.05292534690043326, 'gamma': 0.6069925720391105, 'colsample_bytree': 0.7444620801709855, 'subsample': 0.8550262896075184, 'n_estimators': 134, 'alpha': 0.053417460092315315}. Best is trial 4 with value: 0.6245449131099611.\n",
      "[I 2024-02-27 10:48:22,304] Trial 11 finished with value: 0.6246492340759349 and parameters: {'max_depth': 20, 'eta': 0.10369044246932099, 'gamma': 0.8808576939949481, 'colsample_bytree': 0.4907007220831726, 'subsample': 0.8811613930646754, 'n_estimators': 97, 'alpha': 0.23615679661313557}. Best is trial 11 with value: 0.6246492340759349.\n",
      "[I 2024-02-27 10:48:23,113] Trial 12 finished with value: 0.6247058484543712 and parameters: {'max_depth': 16, 'eta': 0.1235097671987297, 'gamma': 0.010012475614695678, 'colsample_bytree': 0.5110659485890864, 'subsample': 0.8890928588930939, 'n_estimators': 92, 'alpha': 0.20844263694914886}. Best is trial 12 with value: 0.6247058484543712.\n",
      "[I 2024-02-27 10:48:23,940] Trial 13 finished with value: 0.6245418321065974 and parameters: {'max_depth': 15, 'eta': 0.12527764788077067, 'gamma': 0.004561205165123975, 'colsample_bytree': 0.5048677339991715, 'subsample': 0.7483850218608461, 'n_estimators': 90, 'alpha': 0.261605499487769}. Best is trial 12 with value: 0.6247058484543712.\n",
      "[I 2024-02-27 10:48:24,806] Trial 14 finished with value: 0.6245630902765058 and parameters: {'max_depth': 14, 'eta': 0.18128213475738988, 'gamma': 0.0006497652024685834, 'colsample_bytree': 0.5052047805375234, 'subsample': 0.8805106088131808, 'n_estimators': 100, 'alpha': 0.1821879969088528}. Best is trial 12 with value: 0.6247058484543712.\n",
      "[I 2024-02-27 10:48:25,612] Trial 15 finished with value: 0.6236053954093992 and parameters: {'max_depth': 19, 'eta': 0.05139805249291968, 'gamma': 0.028489682129086535, 'colsample_bytree': 0.3122553309124908, 'subsample': 0.91914919455038, 'n_estimators': 106, 'alpha': 0.30712782330377103}. Best is trial 12 with value: 0.6247058484543712.\n",
      "[I 2024-02-27 10:48:26,426] Trial 16 finished with value: 0.6246003523379703 and parameters: {'max_depth': 18, 'eta': 0.1237568272309413, 'gamma': 3.475639491035049e-05, 'colsample_bytree': 0.5312003473390617, 'subsample': 0.8327720222395907, 'n_estimators': 90, 'alpha': 0.16858690479833338}. Best is trial 12 with value: 0.6247058484543712.\n",
      "[I 2024-02-27 10:48:27,199] Trial 17 finished with value: 0.6243598683492536 and parameters: {'max_depth': 14, 'eta': 0.21008512065440713, 'gamma': 0.007588665335679012, 'colsample_bytree': 0.4245634873931129, 'subsample': 0.7418614255166035, 'n_estimators': 98, 'alpha': 0.39557147128322534}. Best is trial 12 with value: 0.6247058484543712.\n",
      "[I 2024-02-27 10:48:28,123] Trial 18 finished with value: 0.6244023997551017 and parameters: {'max_depth': 10, 'eta': 0.10124449678110284, 'gamma': 0.1827518597105689, 'colsample_bytree': 0.5687198821023719, 'subsample': 0.9983168895456886, 'n_estimators': 107, 'alpha': 0.2211649242661377}. Best is trial 12 with value: 0.6247058484543712.\n",
      "[I 2024-02-27 10:48:29,080] Trial 19 finished with value: 0.623929420540669 and parameters: {'max_depth': 20, 'eta': 0.13261342927418993, 'gamma': 0.000603510648266609, 'colsample_bytree': 0.6812710679814068, 'subsample': 0.8706231862831403, 'n_estimators': 95, 'alpha': 0.07463212458918919}. Best is trial 12 with value: 0.6247058484543712.\n",
      "[I 2024-02-27 10:48:30,333] Trial 20 finished with value: 0.6234047610729913 and parameters: {'max_depth': 15, 'eta': 0.06343067234417911, 'gamma': 0.027398275342749787, 'colsample_bytree': 0.8034458339407182, 'subsample': 0.783696515576513, 'n_estimators': 112, 'alpha': 0.2244975175440142}. Best is trial 12 with value: 0.6247058484543712.\n",
      "[I 2024-02-27 10:48:31,176] Trial 21 finished with value: 0.6246149513221244 and parameters: {'max_depth': 18, 'eta': 0.11804079193246689, 'gamma': 3.778502379849342e-05, 'colsample_bytree': 0.5156682329081971, 'subsample': 0.8306573146717969, 'n_estimators': 91, 'alpha': 0.14269609018355187}. Best is trial 12 with value: 0.6247058484543712.\n",
      "[I 2024-02-27 10:48:32,069] Trial 22 finished with value: 0.6245608153058071 and parameters: {'max_depth': 18, 'eta': 0.1083059369717362, 'gamma': 7.757123772590674e-06, 'colsample_bytree': 0.4448495702544209, 'subsample': 0.9152247771457664, 'n_estimators': 101, 'alpha': 0.13890776696833274}. Best is trial 12 with value: 0.6247058484543712.\n",
      "[I 2024-02-27 10:48:33,024] Trial 23 finished with value: 0.6237521536185264 and parameters: {'max_depth': 17, 'eta': 0.14465822112626692, 'gamma': 3.5271261565793054e-06, 'colsample_bytree': 0.6322722396320509, 'subsample': 0.8406830315358536, 'n_estimators': 94, 'alpha': 0.20688741009574668}. Best is trial 12 with value: 0.6247058484543712.\n",
      "[I 2024-02-27 10:48:33,876] Trial 24 finished with value: 0.6245582804460714 and parameters: {'max_depth': 20, 'eta': 0.09192360052511496, 'gamma': 0.00020036572477924195, 'colsample_bytree': 0.49034389317570165, 'subsample': 0.7995665832953104, 'n_estimators': 93, 'alpha': 0.08178804093886899}. Best is trial 12 with value: 0.6247058484543712.\n",
      "[I 2024-02-27 10:48:34,725] Trial 25 finished with value: 0.6245485440234607 and parameters: {'max_depth': 18, 'eta': 0.1907887366301442, 'gamma': 0.0034650988951595127, 'colsample_bytree': 0.5548797045755921, 'subsample': 0.8699475209229354, 'n_estimators': 99, 'alpha': 0.12829392913726567}. Best is trial 12 with value: 0.6247058484543712.\n",
      "[I 2024-02-27 10:48:35,552] Trial 26 finished with value: 0.6246083185019242 and parameters: {'max_depth': 16, 'eta': 0.11857084336031222, 'gamma': 2.0477576341186148e-05, 'colsample_bytree': 0.469334131693404, 'subsample': 0.9055263634294518, 'n_estimators': 90, 'alpha': 0.2762885491696343}. Best is trial 12 with value: 0.6247058484543712.\n",
      "[I 2024-02-27 10:48:36,346] Trial 27 finished with value: 0.6244539670131132 and parameters: {'max_depth': 13, 'eta': 0.14745064027150145, 'gamma': 0.9919822469524255, 'colsample_bytree': 0.33834994748577163, 'subsample': 0.7470260752981102, 'n_estimators': 102, 'alpha': 0.40336772155670725}. Best is trial 12 with value: 0.6247058484543712.\n",
      "[I 2024-02-27 10:48:37,772] Trial 28 finished with value: 0.6221847741371235 and parameters: {'max_depth': 19, 'eta': 0.09063547938254105, 'gamma': 4.445041924795625e-07, 'colsample_bytree': 0.9866092065072447, 'subsample': 0.8181776900877005, 'n_estimators': 109, 'alpha': 0.1773026148005844}. Best is trial 12 with value: 0.6247058484543712.\n",
      "[I 2024-02-27 10:48:38,714] Trial 29 finished with value: 0.6243768214007699 and parameters: {'max_depth': 16, 'eta': 0.06397976768494386, 'gamma': 0.0979061111859647, 'colsample_bytree': 0.605878915238179, 'subsample': 0.9370922649628611, 'n_estimators': 96, 'alpha': 0.14615393634437515}. Best is trial 12 with value: 0.6247058484543712.\n",
      "[I 2024-02-27 10:48:39,637] Trial 30 finished with value: 0.6242063869237395 and parameters: {'max_depth': 19, 'eta': 0.2466341928821709, 'gamma': 0.00020329956437368238, 'colsample_bytree': 0.38689784661653664, 'subsample': 0.8484062989658167, 'n_estimators': 122, 'alpha': 0.10675404702682477}. Best is trial 12 with value: 0.6247058484543712.\n",
      "[I 2024-02-27 10:48:40,490] Trial 31 finished with value: 0.6246529214870513 and parameters: {'max_depth': 16, 'eta': 0.11573250939607924, 'gamma': 2.8475420238304297e-05, 'colsample_bytree': 0.4681876829986271, 'subsample': 0.8947394498005492, 'n_estimators': 90, 'alpha': 0.2772720474169583}. Best is trial 12 with value: 0.6247058484543712.\n",
      "[I 2024-02-27 10:48:41,369] Trial 32 finished with value: 0.6246471323645939 and parameters: {'max_depth': 20, 'eta': 0.11152477052367066, 'gamma': 4.529427780443382e-05, 'colsample_bytree': 0.5451156999265203, 'subsample': 0.8836575481756617, 'n_estimators': 94, 'alpha': 0.3451849518941022}. Best is trial 12 with value: 0.6247058484543712.\n",
      "[I 2024-02-27 10:48:42,399] Trial 33 finished with value: 0.6240667097492381 and parameters: {'max_depth': 20, 'eta': 0.09874900333612481, 'gamma': 9.997551577064922e-07, 'colsample_bytree': 0.6529886703923267, 'subsample': 0.8853776002443812, 'n_estimators': 104, 'alpha': 0.5142833155042514}. Best is trial 12 with value: 0.6247058484543712.\n",
      "[I 2024-02-27 10:48:43,245] Trial 34 finished with value: 0.6245971583393732 and parameters: {'max_depth': 8, 'eta': 0.08408479943813695, 'gamma': 0.15776006302959153, 'colsample_bytree': 0.4557610865292531, 'subsample': 0.9381874727638847, 'n_estimators': 97, 'alpha': 0.34634373821034614}. Best is trial 12 with value: 0.6247058484543712.\n",
      "[I 2024-02-27 10:48:44,004] Trial 35 finished with value: 0.6243542411866306 and parameters: {'max_depth': 20, 'eta': 0.13812873868156045, 'gamma': 0.00965877101890367, 'colsample_bytree': 0.39256221900277644, 'subsample': 0.8985803676065636, 'n_estimators': 94, 'alpha': 0.253159797586365}. Best is trial 12 with value: 0.6247058484543712.\n",
      "[I 2024-02-27 10:48:44,879] Trial 36 finished with value: 0.6248177551670132 and parameters: {'max_depth': 10, 'eta': 0.06739876573943267, 'gamma': 1.0887983081146109e-05, 'colsample_bytree': 0.5551288232191764, 'subsample': 0.9618418605416359, 'n_estimators': 97, 'alpha': 0.48989283547214435}. Best is trial 36 with value: 0.6248177551670132.\n",
      "[I 2024-02-27 10:48:45,921] Trial 37 finished with value: 0.6244387616212066 and parameters: {'max_depth': 8, 'eta': 0.061508559755596146, 'gamma': 3.957293902843213e-08, 'colsample_bytree': 0.5973928964851194, 'subsample': 0.9825609021602515, 'n_estimators': 103, 'alpha': 0.6691989281101995}. Best is trial 36 with value: 0.6248177551670132.\n",
      "[I 2024-02-27 10:48:46,720] Trial 38 finished with value: 0.6241370229164692 and parameters: {'max_depth': 10, 'eta': 0.07104861432302806, 'gamma': 1.3952183579289046e-06, 'colsample_bytree': 0.4133698949576713, 'subsample': 0.9526816080314434, 'n_estimators': 100, 'alpha': 0.5032348483007172}. Best is trial 36 with value: 0.6248177551670132.\n",
      "[I 2024-02-27 10:48:47,684] Trial 39 finished with value: 0.6245979455394991 and parameters: {'max_depth': 11, 'eta': 0.08259440405378496, 'gamma': 1.229292863860347e-05, 'colsample_bytree': 0.4703167479386961, 'subsample': 0.9275762615003933, 'n_estimators': 105, 'alpha': 0.794715722752985}. Best is trial 36 with value: 0.6248177551670132.\n",
      "[I 2024-02-27 10:48:48,928] Trial 40 finished with value: 0.6237947000904057 and parameters: {'max_depth': 11, 'eta': 0.15564891131621242, 'gamma': 0.00010467900679982033, 'colsample_bytree': 0.576842383969576, 'subsample': 0.9682146188446863, 'n_estimators': 128, 'alpha': 0.5075743142493178}. Best is trial 36 with value: 0.6248177551670132.\n",
      "[I 2024-02-27 10:48:49,765] Trial 41 finished with value: 0.6246185521035617 and parameters: {'max_depth': 13, 'eta': 0.10915791452813883, 'gamma': 5.915880358285445e-05, 'colsample_bytree': 0.5367464237018159, 'subsample': 0.8622821389142007, 'n_estimators': 93, 'alpha': 0.33194932131745697}. Best is trial 36 with value: 0.6248177551670132.\n",
      "[I 2024-02-27 10:48:50,657] Trial 42 finished with value: 0.6245221634029721 and parameters: {'max_depth': 9, 'eta': 0.09289124006300443, 'gamma': 0.0003663859862070619, 'colsample_bytree': 0.5462736120036872, 'subsample': 0.8994112316740475, 'n_estimators': 97, 'alpha': 0.36924365954580174}. Best is trial 36 with value: 0.6248177551670132.\n",
      "[I 2024-02-27 10:48:52,194] Trial 43 finished with value: 0.6236192825235829 and parameters: {'max_depth': 17, 'eta': 0.17444360142343676, 'gamma': 0.001852543382114372, 'colsample_bytree': 0.6388671699037147, 'subsample': 0.8915309957914431, 'n_estimators': 93, 'alpha': 0.28403220939097523}. Best is trial 36 with value: 0.6248177551670132.\n",
      "[I 2024-02-27 10:48:54,232] Trial 44 finished with value: 0.6245693954105291 and parameters: {'max_depth': 7, 'eta': 0.07331405493008676, 'gamma': 4.796784249301672e-06, 'colsample_bytree': 0.5014718533659861, 'subsample': 0.9508819962837783, 'n_estimators': 139, 'alpha': 0.4398875752231713}. Best is trial 36 with value: 0.6248177551670132.\n",
      "[I 2024-02-27 10:48:56,027] Trial 45 finished with value: 0.6245894219323938 and parameters: {'max_depth': 13, 'eta': 0.10550673506721463, 'gamma': 1.9839620409613556e-05, 'colsample_bytree': 0.4800639941578866, 'subsample': 0.9186366287235421, 'n_estimators': 97, 'alpha': 0.2426744652321005}. Best is trial 36 with value: 0.6248177551670132.\n",
      "[I 2024-02-27 10:48:57,613] Trial 46 finished with value: 0.6243662977780334 and parameters: {'max_depth': 15, 'eta': 0.13253418774388945, 'gamma': 1.5986696050862036e-06, 'colsample_bytree': 0.3595429205384083, 'subsample': 0.9918100745797382, 'n_estimators': 92, 'alpha': 0.5735267386936096}. Best is trial 36 with value: 0.6248177551670132.\n",
      "[I 2024-02-27 10:48:59,883] Trial 47 finished with value: 0.6244811649657901 and parameters: {'max_depth': 19, 'eta': 0.11857356048316602, 'gamma': 0.06148876753202581, 'colsample_bytree': 0.667640319700008, 'subsample': 0.6565007610574609, 'n_estimators': 113, 'alpha': 0.1999585576708381}. Best is trial 36 with value: 0.6248177551670132.\n",
      "[I 2024-02-27 10:49:02,218] Trial 48 finished with value: 0.6240646005048814 and parameters: {'max_depth': 12, 'eta': 0.08410949900978798, 'gamma': 0.00010659447999794953, 'colsample_bytree': 0.5799949303161527, 'subsample': 0.881376463247712, 'n_estimators': 99, 'alpha': 0.3052745849132194}. Best is trial 36 with value: 0.6248177551670132.\n",
      "[I 2024-02-27 10:49:04,503] Trial 49 finished with value: 0.6241255087021866 and parameters: {'max_depth': 14, 'eta': 0.055427473252281104, 'gamma': 0.0010740284993720113, 'colsample_bytree': 0.4256641857063067, 'subsample': 0.8101356491841314, 'n_estimators': 108, 'alpha': 0.798670235080647}. Best is trial 36 with value: 0.6248177551670132.\n"
     ]
    },
    {
     "name": "stdout",
     "output_type": "stream",
     "text": [
      "Best parameters: {'max_depth': 10, 'eta': 0.06739876573943267, 'gamma': 1.0887983081146109e-05, 'colsample_bytree': 0.5551288232191764, 'subsample': 0.9618418605416359, 'n_estimators': 97, 'alpha': 0.48989283547214435}\n",
      "Best positive f1 score: 0.6248177551670132\n"
     ]
    }
   ],
   "source": [
    "import optuna\n",
    "import xgboost as xgb\n",
    "from sklearn.metrics import roc_auc_score\n",
    "\n",
    "liste_var =X_train2.columns\n",
    "\n",
    "def objective(trial):\n",
    "    params = {\n",
    "        'objective': 'binary:logistic',\n",
    "        'eval_metric': 'auc',  # Utilisation de l'aire sous la courbe ROC comme métrique d'évaluation\n",
    "        'max_depth': trial.suggest_int('max_depth', 4, 20),\n",
    "        'eta': trial.suggest_loguniform('eta', 0.05, 0.4),\n",
    "        'gamma': trial.suggest_loguniform('gamma', 1e-8, 1.0),\n",
    "        'colsample_bytree': trial.suggest_uniform('colsample_bytree', 0.3, 1.0),\n",
    "        'subsample': trial.suggest_uniform('subsample', 0.6, 1.0),\n",
    "        'n_estimators': trial.suggest_int('n_estimators', 90, 150),\n",
    "        'alpha': trial.suggest_loguniform('alpha', 0.05, 1.0)\n",
    "    }\n",
    "\n",
    "    model = xgb.XGBClassifier(**params)\n",
    "    model.fit(X_train2[liste_var], y_train)\n",
    "    y_pred_proba = model.predict_proba(X_test2[liste_var])[:, 1]  # Probabilité de la classe positive\n",
    "    auc_score = roc_auc_score(y_test, y_pred_proba)  # Calcul de l'aire sous la courbe ROC\n",
    "    return auc_score\n",
    "\n",
    "# Create an Optuna study object and perform the optimization\n",
    "study = optuna.create_study(direction='maximize')\n",
    "study.optimize(objective, n_trials=50)\n",
    "\n",
    "# Display the optimization results\n",
    "print(f\"Best parameters: {study.best_params}\")\n",
    "print(f\"Best positive f1 score: {study.best_value}\")\n"
   ],
   "metadata": {
    "collapsed": false,
    "ExecuteTime": {
     "end_time": "2024-02-27T09:49:04.576076800Z",
     "start_time": "2024-02-27T09:48:06.298249500Z"
    }
   },
   "id": "e0b832cfe9badba6"
  },
  {
   "cell_type": "code",
   "execution_count": 153,
   "outputs": [
    {
     "data": {
      "text/plain": "<Figure size 800x600 with 1 Axes>",
      "image/png": "[encoded data removed]"
     },
     "metadata": {},
     "output_type": "display_data"
    }
   ],
   "source": [
    "params = study.best_params\n",
    "\n",
    "# Créer le modèle avec les hyperparamètres spécifiés\n",
    "model = xgb.XGBClassifier(**params)\n",
    "\n",
    "# Entraîner le modèle\n",
    "model.fit(X_train2[liste_var], y_train)\n",
    "\n",
    "# Faire des prédictions sur l'ensemble de test\n",
    "y_prob = model.predict_proba(X_test2[liste_var])[:, 1]\n",
    "\n",
    "# Calculer la courbe ROC\n",
    "fpr, tpr, thresholds = roc_curve(y_test, y_prob)\n",
    "roc_auc = auc(fpr, tpr)\n",
    "\n",
    "# Afficher la courbe ROC\n",
    "plt.figure(figsize=(8, 6))\n",
    "plt.plot(fpr, tpr, color='darkorange', lw=2, label=f'AUC = {roc_auc:.2f}')\n",
    "plt.plot([0, 1], [0, 1], color='navy', lw=2, linestyle='--')\n",
    "plt.xlabel('Taux de faux positifs')\n",
    "plt.ylabel('Taux de vrais positifs')\n",
    "plt.title('Courbe ROC')\n",
    "plt.legend(loc='lower right')\n",
    "plt.show()"
   ],
   "metadata": {
    "collapsed": false,
    "ExecuteTime": {
     "end_time": "2024-02-27T09:49:13.439619100Z",
     "start_time": "2024-02-27T09:49:10.886774500Z"
    }
   },
   "id": "b11de68cfc986081"
  },
  {
   "cell_type": "code",
   "execution_count": 154,
   "outputs": [
    {
     "data": {
      "text/plain": "<Figure size 800x430 with 2 Axes>",
      "image/png": "[encoded data removed]"
     },
     "metadata": {},
     "output_type": "display_data"
    },
    {
     "data": {
      "text/plain": "<shap.plots._force.AdditiveForceVisualizer at 0x2142e77db10>",
      "text/html": "\n<div id='iO9LPU2CSDLC9H5WRCK28'>\n<div style='color: #900; text-align: center;'>\n  <b>Visualization omitted, Javascript library not loaded!</b><br>\n  Have you run `initjs()` in this notebook? If this notebook was from another\n  user you must also trust this notebook (File -> Trust notebook). If you are viewing\n  this notebook on github the Javascript has been stripped for security. If you are using\n  JupyterLab this error is because a JupyterLab extension has not yet been written.\n</div></div>\n <script>\n   if (window.SHAP) SHAP.ReactDom.render(\n    SHAP.React.createElement(SHAP.AdditiveForceVisualizer, {\"outNames\": [\"f(x)\"], \"baseValue\": -2.4901719093322754, \"outValue\": -3.070079803466797, \"link\": \"identity\", \"featureNames\": [\"REGION_RATING_CLIENT_W_CITY_zz3ww3vv\", \"DAYS_CREDIT_ENDDATE_zz0ww214193vv\", \"NAME_INCOME_TYPE_discret_high_income\", \"RATE_DOWN_PAYMENT_zz0ww0pp2vv\", \"AMT_PAYMENT_zz0ww146933vv\", \"NAME_CONTRACT_TYPE_Cash_loans\", \"OCCUPATION_TYPE_discret_low_skilled\"], \"features\": {\"0\": {\"effect\": -0.06432701647281647, \"value\": 0.0}, \"1\": {\"effect\": -0.2393207550048828, \"value\": 0.0}, \"2\": {\"effect\": -0.37277713418006897, \"value\": 0.0}, \"3\": {\"effect\": 0.06764283031225204, \"value\": 1.0}, \"4\": {\"effect\": -0.06456616520881653, \"value\": 0.0}, \"5\": {\"effect\": 0.033680886030197144, \"value\": 1.0}, \"6\": {\"effect\": 0.05975929647684097, \"value\": 1.0}}, \"plot_cmap\": \"RdBu\", \"labelMargin\": 20}),\n    document.getElementById('iO9LPU2CSDLC9H5WRCK28')\n  );\n</script>"
     },
     "execution_count": 154,
     "metadata": {},
     "output_type": "execute_result"
    }
   ],
   "source": [
    "import shap\n",
    "explainer = shap.TreeExplainer(model)\n",
    "\n",
    "shap_values = explainer.shap_values(X_train2[liste_var])\n",
    "\n",
    "shap.summary_plot(shap_values, X_train2[liste_var])\n",
    "\n",
    "shap_values_single = explainer.shap_values(X_train2[liste_var].iloc[[0]])\n",
    "shap.force_plot(explainer.expected_value, shap_values_single, X_train2[liste_var].iloc[[0]])"
   ],
   "metadata": {
    "collapsed": false,
    "ExecuteTime": {
     "end_time": "2024-02-27T09:49:35.835948100Z",
     "start_time": "2024-02-27T09:49:14.963907400Z"
    }
   },
   "id": "8f57b667d9143b8d"
  },
  {
   "cell_type": "markdown",
   "source": [
    "# Création de coefficients shapley values"
   ],
   "metadata": {
    "collapsed": false
   },
   "id": "cc6ccf4e6230b4f"
  },
  {
   "cell_type": "code",
   "execution_count": 59,
   "outputs": [],
   "source": [
    "shaps = pd.DataFrame(shap_values,columns = X_train2.columns)\n",
    "shaps['TARGET'] = y_train.values"
   ],
   "metadata": {
    "collapsed": false,
    "ExecuteTime": {
     "end_time": "2024-02-26T21:40:11.171560300Z",
     "start_time": "2024-02-26T21:40:11.093434900Z"
    }
   },
   "id": "a0398b212e6a4092"
  },
  {
   "cell_type": "code",
   "execution_count": 60,
   "outputs": [
    {
     "data": {
      "text/plain": "        REGION_RATING_CLIENT_W_CITY_disc  DAYS_CREDIT_ENDDATE_disc  \\\n0                              -0.066720                 -0.251011   \n1                              -0.070565                  0.182007   \n2                              -0.066834                 -0.232114   \n3                               0.366480                 -0.263360   \n4                              -0.066605                 -0.231165   \n...                                  ...                       ...   \n244880                         -0.064549                  0.177453   \n244881                         -0.075476                  0.186962   \n244882                         -0.069298                  0.171578   \n244883                         -0.071964                 -0.251005   \n244884                         -0.074737                  0.175252   \n\n        RATE_DOWN_PAYMENT_disc  AMT_PAYMENT_disc  \\\n0                     0.065394         -0.066431   \n1                    -0.182797         -0.066050   \n2                     0.077214          0.165621   \n3                     0.084811         -0.071767   \n4                    -0.169437         -0.059263   \n...                        ...               ...   \n244880                0.066857         -0.071835   \n244881                0.079868         -0.067628   \n244882               -0.179001         -0.056885   \n244883                0.078079         -0.070711   \n244884                0.067069          0.132020   \n\n        NAME_INCOME_TYPE_discret_other  OCCUPATION_TYPE_discret_low_skilled  \\\n0                            -0.412013                             0.051475   \n1                             0.105519                             0.082628   \n2                             0.112255                             0.093326   \n3                             0.125953                             0.078753   \n4                             0.082586                            -0.278735   \n...                                ...                                  ...   \n244880                       -0.392974                             0.062623   \n244881                        0.113611                             0.083602   \n244882                        0.079778                            -0.296408   \n244883                        0.115987                             0.077677   \n244884                       -0.320004                            -0.219270   \n\n        NAME_CONTRACT_TYPE_Revolving loans  TARGET  \n0                                 0.035209     0.0  \n1                                 0.041166     0.0  \n2                                -0.428789     0.0  \n3                                 0.042268     0.0  \n4                                 0.042980     0.0  \n...                                    ...     ...  \n244880                           -0.431893     0.0  \n244881                            0.041977     0.0  \n244882                            0.045657     0.0  \n244883                            0.039159     0.0  \n244884                            0.041555     0.0  \n\n[244885 rows x 8 columns]",
      "text/html": "<div>\n<style scoped>\n    .dataframe tbody tr th:only-of-type {\n        vertical-align: middle;\n    }\n\n    .dataframe tbody tr th {\n        vertical-align: top;\n    }\n\n    .dataframe thead th {\n        text-align: right;\n    }\n</style>\n<table border=\"1\" class=\"dataframe\">\n  <thead>\n    <tr style=\"text-align: right;\">\n      <th></th>\n      <th>REGION_RATING_CLIENT_W_CITY_disc</th>\n      <th>DAYS_CREDIT_ENDDATE_disc</th>\n      <th>RATE_DOWN_PAYMENT_disc</th>\n      <th>AMT_PAYMENT_disc</th>\n      <th>NAME_INCOME_TYPE_discret_other</th>\n      <th>OCCUPATION_TYPE_discret_low_skilled</th>\n      <th>NAME_CONTRACT_TYPE_Revolving loans</th>\n      <th>TARGET</th>\n    </tr>\n  </thead>\n  <tbody>\n    <tr>\n      <th>0</th>\n      <td>-0.066720</td>\n      <td>-0.251011</td>\n      <td>0.065394</td>\n      <td>-0.066431</td>\n      <td>-0.412013</td>\n      <td>0.051475</td>\n      <td>0.035209</td>\n      <td>0.0</td>\n    </tr>\n    <tr>\n      <th>1</th>\n      <td>-0.070565</td>\n      <td>0.182007</td>\n      <td>-0.182797</td>\n      <td>-0.066050</td>\n      <td>0.105519</td>\n      <td>0.082628</td>\n      <td>0.041166</td>\n      <td>0.0</td>\n    </tr>\n    <tr>\n      <th>2</th>\n      <td>-0.066834</td>\n      <td>-0.232114</td>\n      <td>0.077214</td>\n      <td>0.165621</td>\n      <td>0.112255</td>\n      <td>0.093326</td>\n      <td>-0.428789</td>\n      <td>0.0</td>\n    </tr>\n    <tr>\n      <th>3</th>\n      <td>0.366480</td>\n      <td>-0.263360</td>\n      <td>0.084811</td>\n      <td>-0.071767</td>\n      <td>0.125953</td>\n      <td>0.078753</td>\n      <td>0.042268</td>\n      <td>0.0</td>\n    </tr>\n    <tr>\n      <th>4</th>\n      <td>-0.066605</td>\n      <td>-0.231165</td>\n      <td>-0.169437</td>\n      <td>-0.059263</td>\n      <td>0.082586</td>\n      <td>-0.278735</td>\n      <td>0.042980</td>\n      <td>0.0</td>\n    </tr>\n    <tr>\n      <th>...</th>\n      <td>...</td>\n      <td>...</td>\n      <td>...</td>\n      <td>...</td>\n      <td>...</td>\n      <td>...</td>\n      <td>...</td>\n      <td>...</td>\n    </tr>\n    <tr>\n      <th>244880</th>\n      <td>-0.064549</td>\n      <td>0.177453</td>\n      <td>0.066857</td>\n      <td>-0.071835</td>\n      <td>-0.392974</td>\n      <td>0.062623</td>\n      <td>-0.431893</td>\n      <td>0.0</td>\n    </tr>\n    <tr>\n      <th>244881</th>\n      <td>-0.075476</td>\n      <td>0.186962</td>\n      <td>0.079868</td>\n      <td>-0.067628</td>\n      <td>0.113611</td>\n      <td>0.083602</td>\n      <td>0.041977</td>\n      <td>0.0</td>\n    </tr>\n    <tr>\n      <th>244882</th>\n      <td>-0.069298</td>\n      <td>0.171578</td>\n      <td>-0.179001</td>\n      <td>-0.056885</td>\n      <td>0.079778</td>\n      <td>-0.296408</td>\n      <td>0.045657</td>\n      <td>0.0</td>\n    </tr>\n    <tr>\n      <th>244883</th>\n      <td>-0.071964</td>\n      <td>-0.251005</td>\n      <td>0.078079</td>\n      <td>-0.070711</td>\n      <td>0.115987</td>\n      <td>0.077677</td>\n      <td>0.039159</td>\n      <td>0.0</td>\n    </tr>\n    <tr>\n      <th>244884</th>\n      <td>-0.074737</td>\n      <td>0.175252</td>\n      <td>0.067069</td>\n      <td>0.132020</td>\n      <td>-0.320004</td>\n      <td>-0.219270</td>\n      <td>0.041555</td>\n      <td>0.0</td>\n    </tr>\n  </tbody>\n</table>\n<p>244885 rows × 8 columns</p>\n</div>"
     },
     "execution_count": 60,
     "metadata": {},
     "output_type": "execute_result"
    }
   ],
   "source": [
    "shaps"
   ],
   "metadata": {
    "collapsed": false,
    "ExecuteTime": {
     "end_time": "2024-02-26T21:40:11.171560300Z",
     "start_time": "2024-02-26T21:40:11.109052100Z"
    }
   },
   "id": "4a7fb83065922e1d"
  },
  {
   "cell_type": "code",
   "execution_count": 61,
   "outputs": [
    {
     "data": {
      "text/plain": "0.35830802"
     },
     "execution_count": 61,
     "metadata": {},
     "output_type": "execute_result"
    }
   ],
   "source": [
    "shaps[shaps['REGION_RATING_CLIENT_W_CITY_disc']>0]['REGION_RATING_CLIENT_W_CITY_disc'].mean()"
   ],
   "metadata": {
    "collapsed": false,
    "ExecuteTime": {
     "end_time": "2024-02-26T21:40:11.171560300Z",
     "start_time": "2024-02-26T21:40:11.140302600Z"
    }
   },
   "id": "77751c4d52d0102a"
  },
  {
   "cell_type": "code",
   "execution_count": null,
   "outputs": [],
   "source": [
    "shapley_values = pd.DataFrame()\n"
   ],
   "metadata": {
    "collapsed": false
   },
   "id": "a5a6af82f054bdf"
  },
  {
   "cell_type": "code",
   "execution_count": 62,
   "outputs": [],
   "source": [
    "X =shaps.drop(columns = ['TARGET'])\n",
    "y = shaps['TARGET']\n",
    "X = sm.add_constant(X)\n",
    "\n",
    "shap_train, shap_test, y_train_shap, y_test_shap = train_test_split(X, y, test_size=0.2, random_state=42, stratify = y)"
   ],
   "metadata": {
    "collapsed": false,
    "ExecuteTime": {
     "end_time": "2024-02-26T21:40:11.594140900Z",
     "start_time": "2024-02-26T21:40:11.171560300Z"
    }
   },
   "id": "4f6bdccbc41625b9"
  },
  {
   "cell_type": "code",
   "execution_count": 63,
   "outputs": [
    {
     "name": "stdout",
     "output_type": "stream",
     "text": [
      "Optimization terminated successfully.\n",
      "         Current function value: 0.263239\n",
      "         Iterations 7\n",
      "                           Logit Regression Results                           \n",
      "==============================================================================\n",
      "Dep. Variable:                 TARGET   No. Observations:               195908\n",
      "Model:                          Logit   Df Residuals:                   195900\n",
      "Method:                           MLE   Df Model:                            7\n",
      "Date:                Mon, 26 Feb 2024   Pseudo R-squ.:                 0.02746\n",
      "Time:                        22:40:11   Log-Likelihood:                -51571.\n",
      "converged:                       True   LL-Null:                       -53027.\n",
      "Covariance Type:            nonrobust   LLR p-value:                     0.000\n",
      "=======================================================================================================\n",
      "                                          coef    std err          z      P>|z|      [0.025      0.975]\n",
      "-------------------------------------------------------------------------------------------------------\n",
      "const                                  -2.4979      0.009   -285.429      0.000      -2.515      -2.481\n",
      "REGION_RATING_CLIENT_W_CITY_disc        1.0497      0.049     21.233      0.000       0.953       1.147\n",
      "DAYS_CREDIT_ENDDATE_disc                1.0963      0.041     26.501      0.000       1.015       1.177\n",
      "RATE_DOWN_PAYMENT_disc                  1.0955      0.077     14.301      0.000       0.945       1.246\n",
      "AMT_PAYMENT_disc                        0.9957      0.082     12.168      0.000       0.835       1.156\n",
      "NAME_INCOME_TYPE_discret_other          1.0529      0.044     24.054      0.000       0.967       1.139\n",
      "OCCUPATION_TYPE_discret_low_skilled     1.0824      0.060     18.087      0.000       0.965       1.200\n",
      "NAME_CONTRACT_TYPE_Revolving loans      1.0678      0.070     15.321      0.000       0.931       1.204\n",
      "=======================================================================================================\n"
     ]
    }
   ],
   "source": [
    "# Créer le modèle de régression logistique\n",
    "logit_model = sm.Logit(y_train_shap, shap_train)\n",
    "\n",
    "# Ajuster le modèle aux données\n",
    "result = logit_model.fit()\n",
    "\n",
    "# Afficher un résumé des résultats\n",
    "print(result.summary())"
   ],
   "metadata": {
    "collapsed": false,
    "ExecuteTime": {
     "end_time": "2024-02-26T21:40:12.059609700Z",
     "start_time": "2024-02-26T21:40:11.303496800Z"
    }
   },
   "id": "b9af892b83fac43"
  },
  {
   "cell_type": "code",
   "execution_count": 64,
   "outputs": [
    {
     "name": "stdout",
     "output_type": "stream",
     "text": [
      "AUC sur le jeu de test: 0.6270340212349597\n"
     ]
    }
   ],
   "source": [
    "predicted_probabilities = result.predict(shap_test)\n",
    "\n",
    "# Calculer l'AUC en utilisant les probabilités prédites et les vraies étiquettes de classe du jeu de test\n",
    "auc = roc_auc_score(y_test_shap, predicted_probabilities)\n",
    "\n",
    "print(\"AUC sur le jeu de test:\", auc)"
   ],
   "metadata": {
    "collapsed": false,
    "ExecuteTime": {
     "end_time": "2024-02-26T21:40:12.059609700Z",
     "start_time": "2024-02-26T21:40:11.991015700Z"
    }
   },
   "id": "ce0c96f22230b53e"
  },
  {
   "cell_type": "code",
   "execution_count": null,
   "outputs": [],
   "source": [],
   "metadata": {
    "collapsed": false
   },
   "id": "c8b6faa200fd0829"
  }
 ],
 "metadata": {
  "kernelspec": {
   "display_name": "Python 3",
   "language": "python",
   "name": "python3"
  },
  "language_info": {
   "codemirror_mode": {
    "name": "ipython",
    "version": 2
   },
   "file_extension": ".py",
   "mimetype": "text/x-python",
   "name": "python",
   "nbconvert_exporter": "python",
   "pygments_lexer": "ipython2",
   "version": "2.7.6"
  }
 },
 "nbformat": 4,
 "nbformat_minor": 5
}
