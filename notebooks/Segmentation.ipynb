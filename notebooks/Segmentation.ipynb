{
 "cells": [
  {
   "cell_type": "code",
   "execution_count": 1,
   "id": "initial_id",
   "metadata": {
    "collapsed": true,
    "ExecuteTime": {
     "end_time": "2024-02-22T16:41:14.512426Z",
     "start_time": "2024-02-22T16:41:13.969287Z"
    }
   },
   "outputs": [],
   "source": [
    "import pandas as pd\n",
    "from deap import base, creator, tools, algorithms\n",
    "import numpy as np\n",
    "import random\n",
    "import warnings\n",
    "warnings.filterwarnings(\"ignore\", category=RuntimeWarning, module=\"deap.creator\")\n",
    "warnings.filterwarnings(\"ignore\", category=pd.errors.PerformanceWarning)"
   ]
  },
  {
   "cell_type": "code",
   "execution_count": 2,
   "outputs": [],
   "source": [
    "df = pd.read_csv(\"../data/df_score.csv\", index_col=[0])"
   ],
   "metadata": {
    "collapsed": false,
    "ExecuteTime": {
     "end_time": "2024-02-22T16:41:15.684379Z",
     "start_time": "2024-02-22T16:41:14.512946Z"
    }
   },
   "id": "8ccc5e22a2d7e31b"
  },
  {
   "cell_type": "code",
   "execution_count": 48,
   "outputs": [],
   "source": [
    "df[\"Score_2\"] = [np.random.randint(0,1000) for _ in range(df.shape[0])]"
   ],
   "metadata": {
    "collapsed": false,
    "ExecuteTime": {
     "end_time": "2024-02-22T15:40:34.719315Z",
     "start_time": "2024-02-22T15:40:34.033444Z"
    }
   },
   "id": "79d3a2afb837f11d"
  },
  {
   "cell_type": "code",
   "execution_count": 69,
   "outputs": [
    {
     "name": "stdout",
     "output_type": "stream",
     "text": [
      "Generation: 1\n",
      "  Meilleur individu: [282.258064516129, 391.16793193689904, 470.1454720491761, 569.6479512680978, 646.2699853138931, 839.5374419427122], Fitness: (-100.0,)\n",
      "Generation: 2\n",
      "  Meilleur individu: [282.258064516129, 511.29510076958803, 515.9341645466097, 593.8185222647608, 751.8801662833594, 801.3932352681909], Fitness: (-100.0,)\n",
      "Generation: 3\n",
      "  Meilleur individu: [282.258064516129, 546.4389006773979, 552.5609694682423, 579.4819481015817, 746.6059753513906, 840.6170050102032], Fitness: (-100.0,)\n",
      "Generation: 4\n",
      "  Meilleur individu: [282.258064516129, 429.5999198569358, 522.9595423774244, 545.241910943506, 594.745644048201, 672.7660068255207], Fitness: (-100.0,)\n",
      "Generation: 5\n",
      "  Meilleur individu: [282.258064516129, 491.1155375295941, 504.28838822383545, 516.8504814960169, 629.4722452470862, 732.327109437473], Fitness: (-100.0,)\n",
      "Generation: 6\n",
      "  Meilleur individu: [282.258064516129, 481.9976199144504, 647.9910695369414, 716.8115765418875, 751.9392009034457, 774.9602879326195], Fitness: (-100.0,)\n",
      "Generation: 7\n",
      "  Meilleur individu: [282.258064516129, 484.0821295235453, 494.38016007118995, 495.51674966069214, 662.4532504161699, 727.5823928589255], Fitness: (-100.0,)\n",
      "Generation: 8\n",
      "  Meilleur individu: [282.258064516129, 440.44001110567046, 469.8334817064301, 540.3658585903436, 583.1439931928585, 614.3468740941667], Fitness: (-100.0,)\n",
      "Generation: 9\n",
      "  Meilleur individu: [282.258064516129, 307.4069340620858, 384.17965600354586, 588.5180363441208, 686.9219389281418, 855.7347670250897], Fitness: (-100.0,)\n",
      "Generation: 10\n",
      "  Meilleur individu: [282.258064516129, 466.34927025612967, 488.1966407906019, 609.584352406978, 715.4889120636728, 743.5189528977983], Fitness: (-100.0,)\n",
      "Generation: 11\n",
      "  Meilleur individu: [282.258064516129, 351.62491869204337, 448.05494122156404, 513.3698488273977, 580.4873494461534, 714.8612002909201], Fitness: (-100.0,)\n",
      "Generation: 12\n",
      "  Meilleur individu: [282.258064516129, 411.27389293210246, 441.8151633261438, 449.37849278086463, 687.8586868527949, 755.8739658006652], Fitness: (-100.0,)\n",
      "Generation: 13\n",
      "  Meilleur individu: [282.258064516129, 294.24057003751716, 355.9028126141185, 382.45500492185556, 587.5085518666413, 784.9728738061755], Fitness: (-100.0,)\n",
      "Generation: 14\n",
      "  Meilleur individu: [282.258064516129, 349.59841341497986, 354.09793836262827, 598.7765199578789, 616.8920633333926, 855.7347670250897], Fitness: (-100.0,)\n",
      "Generation: 15\n",
      "  Meilleur individu: [282.258064516129, 398.6080076182119, 426.2346043310325, 576.6439234461737, 695.2966224387822, 805.3734661035513], Fitness: (-100.0,)\n",
      "Generation: 16\n",
      "  Meilleur individu: [282.258064516129, 292.66888042443736, 481.017222852204, 601.232930565081, 608.3081915615955, 643.702092440402], Fitness: (-100.0,)\n",
      "Generation: 17\n",
      "  Meilleur individu: [282.258064516129, 417.0847419893777, 441.8151633261438, 449.37849278086463, 686.0170215718352, 755.8739658006652], Fitness: (-100.0,)\n",
      "Generation: 18\n",
      "  Meilleur individu: [282.258064516129, 417.0847419893777, 441.8151633261438, 449.37849278086463, 686.0170215718352, 755.8739658006652], Fitness: (-100.0,)\n",
      "Generation: 19\n",
      "  Meilleur individu: [282.258064516129, 491.9130577922151, 577.7325338639674, 605.5609945814475, 682.9847460444877, 733.021985986257], Fitness: (-100.0,)\n",
      "Generation: 20\n",
      "  Meilleur individu: [282.258064516129, 613.5380717667637, 636.282281104953, 693.2886153755132, 851.7154032464625, 855.7347670250897], Fitness: (-100.0,)\n",
      "Generation: 21\n",
      "  Meilleur individu: [282.258064516129, 301.8176753259192, 536.6334545888707, 554.3690201054851, 673.7008968888545, 687.793510943657], Fitness: (-100.0,)\n",
      "Generation: 22\n",
      "  Meilleur individu: [282.258064516129, 505.89674256000467, 662.3113515094417, 665.7833515262178, 673.3393101353041, 790.4600801385851], Fitness: (-100.0,)\n",
      "Generation: 23\n",
      "  Meilleur individu: [282.258064516129, 412.84179917764027, 429.18898789503675, 619.6892908576774, 693.8750797105488, 770.0546096365383], Fitness: (-100.0,)\n",
      "Generation: 24\n",
      "  Meilleur individu: [282.258064516129, 504.02427045612325, 529.4489359176404, 629.9676558304906, 792.1815465622064, 826.8263865215556], Fitness: (-100.0,)\n",
      "Generation: 25\n",
      "  Meilleur individu: [282.258064516129, 467.94615881051095, 476.54769004500076, 523.0667450764456, 654.4021569076893, 685.422552624397], Fitness: (-100.0,)\n",
      "Generation: 26\n",
      "  Meilleur individu: [282.258064516129, 322.2820580658698, 398.6705336227472, 459.9588886204091, 699.9377488543008, 710.8120155071389], Fitness: (-100.0,)\n",
      "Generation: 27\n",
      "  Meilleur individu: [282.258064516129, 348.1042813478724, 448.43534775554724, 535.1456594936225, 648.1287582213411, 736.7174782691097], Fitness: (-100.0,)\n",
      "Generation: 28\n",
      "  Meilleur individu: [282.258064516129, 499.298169946459, 538.2778174761145, 546.8344803783433, 661.9711654881179, 754.4344020618473], Fitness: (-100.0,)\n",
      "Generation: 29\n",
      "  Meilleur individu: [282.258064516129, 495.75914972629437, 546.5293910729902, 582.3014479260976, 645.6770976893856, 699.8705188428193], Fitness: (-100.0,)\n",
      "Generation: 30\n",
      "  Meilleur individu: [282.258064516129, 291.43952714124873, 459.25136388791975, 543.7628951257432, 552.2275668811726, 625.5986323123836], Fitness: (-100.0,)\n",
      "Generation: 31\n",
      "  Meilleur individu: [282.258064516129, 467.9562215343337, 510.0615915911352, 580.1181318497186, 585.494653214458, 734.2141689683879], Fitness: (-100.0,)\n",
      "Generation: 32\n",
      "  Meilleur individu: [282.258064516129, 502.86737440560967, 568.8145511101749, 572.6662675661195, 583.5506676113613, 702.7336072043743], Fitness: (-100.0,)\n",
      "Generation: 33\n",
      "  Meilleur individu: [282.258064516129, 331.3671395638572, 543.2600708667435, 544.8454110456533, 643.8968462403566, 677.4837075289905], Fitness: (-100.0,)\n",
      "Generation: 34\n",
      "  Meilleur individu: [282.258064516129, 500.349283331302, 523.3652910667132, 554.166242332871, 680.9762810894626, 828.0354125632318], Fitness: (-100.0,)\n",
      "Generation: 35\n",
      "  Meilleur individu: [282.258064516129, 487.07902085163846, 549.9551856449841, 569.0578699865646, 702.780278200901, 727.6834429439552], Fitness: (-100.0,)\n",
      "Generation: 36\n",
      "  Meilleur individu: [282.258064516129, 491.6640120011762, 516.0816686833116, 554.3266710624016, 702.9994703237082, 812.8046837883601], Fitness: (-100.0,)\n",
      "Generation: 37\n",
      "  Meilleur individu: [282.258064516129, 489.6791403406207, 556.2698630883308, 581.7950146607166, 647.3049644888417, 703.5683929369599], Fitness: (-100.0,)\n",
      "Generation: 38\n",
      "  Meilleur individu: [282.258064516129, 465.57088897212867, 545.0167088717379, 547.9716256944811, 639.0687453225573, 737.6702099241868], Fitness: (-100.0,)\n",
      "Generation: 39\n",
      "  Meilleur individu: [282.258064516129, 392.91478678363393, 468.6367809277991, 552.1755385362239, 633.932914543324, 701.615914385387], Fitness: (-100.0,)\n",
      "Generation: 40\n",
      "  Meilleur individu: [282.258064516129, 359.3001298098211, 538.802103754267, 557.5257923987253, 720.347271011971, 852.8806601834405], Fitness: (-100.0,)\n",
      "Meilleur individu est [359.3001298098211, 720.347271011971, 282.258064516129, 557.5257923987253, 852.8806601834405, 538.802103754267], (-100.0,)\n"
     ]
    }
   ],
   "source": [
    "def taux_defaut(limites):\n",
    "    df[\"Classes\"] = np.digitize(df[\"Score_ind\"], bins=limites)\n",
    "    defaut = df.groupby(\"Classes\")[\"TARGET\"].mean()\n",
    "    return defaut\n",
    "\n",
    "def evalSegmentation1(individu):\n",
    "    limites = sorted(individu)  \n",
    "    taux = taux_defaut(limites)\n",
    "    \n",
    "    if len(taux) != 7 : \n",
    "        return(0, )\n",
    "    if all(taux[i] <= taux[i+1] for i in range(1, len(taux)-1)):\n",
    "        return len(set(np.digitize(df[\"Score_ind\"], bins=limites))),\n",
    "    else : \n",
    "        return 0,\n",
    "    \n",
    "def evalSegmentation(individu, seuil_minimum=7):\n",
    "    limites = sorted(individu)\n",
    "    # Supposons que taux_defaut(limites) renvoie une liste des taux de défaut pour chaque segment\n",
    "    taux = taux_defaut(limites)\n",
    "    \n",
    "    if len(taux)<7 : \n",
    "        penalites_seuil = 7 - len(taux)\n",
    "        fitness = -(penalites_seuil * 100) \n",
    "    else : \n",
    "        # Calculer les différences entre les taux de défaut successifs\n",
    "        diffs = [taux[i+1] - taux[i] for i in range(1, len(taux)-1)]\n",
    "        \n",
    "        # Pénaliser les configurations où le taux de défaut diminue entre deux segments consécutifs\n",
    "        penalites_diffs = sum(d < 0 for d in diffs)\n",
    "        \n",
    "        # La fitness pourrait être la somme des différences positives moins une pénalité pour les configurations non désirées\n",
    "        fitness = sum(d for d in diffs if d > 0) - (penalites_diffs * 100) # Pénalité lourde pour encourager l'ordre correct et le respect du seuil\n",
    "    \n",
    "    return fitness,\n",
    "\n",
    "creator.create(\"FitnessMax\", base.Fitness, weights=(1.0,))\n",
    "creator.create(\"Individual\", list, fitness=creator.FitnessMax)\n",
    "\n",
    "toolbox = base.Toolbox()\n",
    "toolbox.register(\"attr_float\", random.uniform, min(df[\"Score_ind\"]), max(df[\"Score_ind\"]))  # Attributs aléatoires entre 0 et 100\n",
    "toolbox.register(\"individual\", tools.initRepeat, creator.Individual, toolbox.attr_float, n=6)\n",
    "toolbox.register(\"population\", tools.initRepeat, list, toolbox.individual)\n",
    "\n",
    "def checkBounds(min, max):\n",
    "    def decorator(func):\n",
    "        def wrapper(*args, **kargs):\n",
    "            offspring = func(*args, **kargs)\n",
    "            for child in offspring:\n",
    "                for i in range(len(child)):\n",
    "                    if child[i] > max:\n",
    "                        child[i] = max\n",
    "                    elif child[i] < min:\n",
    "                        child[i] = min\n",
    "            return offspring\n",
    "        return wrapper\n",
    "    return decorator\n",
    "\n",
    "toolbox.register(\"mate\", tools.cxBlend, alpha=0.5)\n",
    "toolbox.register(\"mutate\", tools.mutGaussian, mu=0, sigma=10, indpb=0.2)\n",
    "toolbox.decorate(\"mate\", checkBounds(min(df[\"Score_ind\"]), max(df[\"Score_ind\"])))\n",
    "toolbox.decorate(\"mutate\", checkBounds(min(df[\"Score_ind\"]), max(df[\"Score_ind\"])))\n",
    "\n",
    "toolbox.register(\"select\", tools.selTournament, tournsize=3)\n",
    "toolbox.register(\"evaluate\", evalSegmentation)\n",
    "\n",
    "# Paramètres de l'algorithme\n",
    "population = toolbox.population(n=50)\n",
    "CXPB, MUTPB, NGEN = 0.5, 0.2, 40\n",
    "\n",
    "# Algorithme évolutif\n",
    "for gen in range(NGEN):\n",
    "    print(f\"Generation: {gen + 1}\")\n",
    "    offspring = algorithms.varAnd(population, toolbox, cxpb=CXPB, mutpb=MUTPB)\n",
    "    fits = toolbox.map(toolbox.evaluate, offspring)\n",
    "    for fit, ind in zip(fits, offspring):\n",
    "        ind.fitness.values = fit\n",
    "    population = toolbox.select(offspring, k=len(population))\n",
    "\n",
    "    # Affichage du meilleur individu pour la génération actuelle\n",
    "    best_ind = tools.selBest(population, 1)[0]\n",
    "    print(f\"  Meilleur individu: {sorted(best_ind)}, Fitness: {best_ind.fitness.values}\")\n",
    "\n",
    "# Affichage du meilleur individu\n",
    "best_ind = tools.selBest(population, 1)[0]\n",
    "print(\"Meilleur individu est %s, %s\" % (best_ind, best_ind.fitness.values))"
   ],
   "metadata": {
    "collapsed": false,
    "ExecuteTime": {
     "end_time": "2024-02-22T16:29:55.158960Z",
     "start_time": "2024-02-22T16:29:23.195436Z"
    }
   },
   "id": "72fda4203c3f25ff"
  },
  {
   "cell_type": "code",
   "execution_count": 70,
   "outputs": [],
   "source": [
    "df[\"Classes\"] = np.digitize(df[\"Score_2\"], bins=sorted(best_ind))\n",
    "defaut = df.groupby(\"Classes\")[\"TARGET\"].mean()"
   ],
   "metadata": {
    "collapsed": false,
    "ExecuteTime": {
     "end_time": "2024-02-22T16:29:58.572373Z",
     "start_time": "2024-02-22T16:29:58.547170Z"
    }
   },
   "id": "aeedc416c114be13"
  },
  {
   "cell_type": "code",
   "execution_count": 71,
   "outputs": [
    {
     "data": {
      "text/plain": "Classes\n0    0.075688\n1    0.076333\n2    0.074388\n3    0.079685\n4    0.075819\n5    0.075185\n6    0.076029\nName: TARGET, dtype: float64"
     },
     "execution_count": 71,
     "metadata": {},
     "output_type": "execute_result"
    }
   ],
   "source": [
    "defaut"
   ],
   "metadata": {
    "collapsed": false,
    "ExecuteTime": {
     "end_time": "2024-02-22T16:29:58.840420Z",
     "start_time": "2024-02-22T16:29:58.833428Z"
    }
   },
   "id": "cc83967d25fbe0c3"
  },
  {
   "cell_type": "code",
   "execution_count": 13,
   "outputs": [
    {
     "name": "stdout",
     "output_type": "stream",
     "text": [
      "[282.258064516129, 471.326164874552, 534.9462365591398, 585.125448028674, 629.9283154121865, 679.2114695340504, 855.7347670250897]\n"
     ]
    }
   ],
   "source": [
    "import jenkspy\n",
    "\n",
    "scores_clients = df[\"Score_ind\"]\n",
    "nombre_de_classes = 6 \n",
    "\n",
    "breaks = jenkspy.jenks_breaks(scores_clients, nombre_de_classes)\n",
    "print(breaks)"
   ],
   "metadata": {
    "collapsed": false,
    "ExecuteTime": {
     "end_time": "2024-02-22T17:03:16.880996Z",
     "start_time": "2024-02-22T16:59:28.915597Z"
    }
   },
   "id": "aec4aee80dab8fea"
  },
  {
   "cell_type": "code",
   "execution_count": 14,
   "outputs": [
    {
     "name": "stdout",
     "output_type": "stream",
     "text": [
      "         moyenne_TARGET  nb_individus  taux_individus\n",
      "Classes                                              \n",
      "1              0.263700         16405        5.858929\n",
      "2              0.146754         39706       14.180714\n",
      "3              0.084419         61775       22.062500\n",
      "4              0.048868         70578       25.206429\n",
      "5              0.029348         62593       22.354643\n",
      "6              0.017621         28942       10.336429\n",
      "7              0.000000             1        0.000357\n"
     ]
    }
   ],
   "source": [
    "df[\"Classes\"] = np.digitize(df[\"Score_ind\"], bins=sorted(breaks))\n",
    "\n",
    "# Calcul de la moyenne de TARGET et du nombre d'individus par classe\n",
    "resultats = df.groupby(\"Classes\").agg(\n",
    "    moyenne_TARGET=(\"TARGET\", \"mean\"),\n",
    "    nb_individus=(\"TARGET\", \"size\")  # ou utilisez \"count\" à la place de \"size\" si vous voulez exclure les NaN\n",
    ")\n",
    "resultats['taux_individus'] = (resultats['nb_individus'] / df.shape[0]) * 100\n",
    "\n",
    "print(resultats)"
   ],
   "metadata": {
    "collapsed": false,
    "ExecuteTime": {
     "end_time": "2024-02-22T17:03:18.832302Z",
     "start_time": "2024-02-22T17:03:18.797447Z"
    }
   },
   "id": "8578711a9ab4e6eb"
  },
  {
   "cell_type": "code",
   "execution_count": null,
   "outputs": [],
   "source": [],
   "metadata": {
    "collapsed": false
   },
   "id": "ac6b6247dc7caa5f"
  }
 ],
 "metadata": {
  "kernelspec": {
   "display_name": "Python 3",
   "language": "python",
   "name": "python3"
  },
  "language_info": {
   "codemirror_mode": {
    "name": "ipython",
    "version": 2
   },
   "file_extension": ".py",
   "mimetype": "text/x-python",
   "name": "python",
   "nbconvert_exporter": "python",
   "pygments_lexer": "ipython2",
   "version": "2.7.6"
  }
 },
 "nbformat": 4,
 "nbformat_minor": 5
}
