{
 "cells": [
  {
   "cell_type": "code",
   "execution_count": 12,
   "id": "initial_id",
   "metadata": {
    "collapsed": true,
    "ExecuteTime": {
     "end_time": "2024-02-25T21:44:48.636110Z",
     "start_time": "2024-02-25T21:44:48.604215Z"
    }
   },
   "outputs": [],
   "source": [
    "import pandas as pd\n",
    "import numpy as np"
   ]
  },
  {
   "cell_type": "code",
   "execution_count": 24,
   "outputs": [],
   "source": [
    "df = pd.read_csv(\"../data/df_segmentation.csv\", index_col=[0])\n",
    "df[\"date_mensuelle\"] = pd.to_datetime(df[\"date_mensuelle\"])"
   ],
   "metadata": {
    "collapsed": false,
    "ExecuteTime": {
     "end_time": "2024-02-25T21:46:23.100968Z",
     "start_time": "2024-02-25T21:46:22.062178Z"
    }
   },
   "id": "d28f6fe35024c091"
  },
  {
   "cell_type": "markdown",
   "source": [
    "# MOC C"
   ],
   "metadata": {
    "collapsed": false
   },
   "id": "e91a3a799ebe862b"
  },
  {
   "cell_type": "code",
   "execution_count": 25,
   "outputs": [],
   "source": [
    "resultats = df.groupby(\"Classes\").agg(moyenne_TARGET=(\"TARGET\", \"mean\")).to_dict()[\"moyenne_TARGET\"]"
   ],
   "metadata": {
    "collapsed": false,
    "ExecuteTime": {
     "end_time": "2024-02-25T21:46:23.113541Z",
     "start_time": "2024-02-25T21:46:23.104513Z"
    }
   },
   "id": "fc22be3053d435d2"
  },
  {
   "cell_type": "code",
   "execution_count": 26,
   "outputs": [
    {
     "data": {
      "text/plain": "{1: 0.17363251155624038,\n 2: 0.11102387595160318,\n 3: 0.08076662977990902,\n 4: 0.06629496923052204,\n 5: 0.05008281539546401,\n 6: 0.036547911547911545,\n 7: 0.03700090063044131}"
     },
     "execution_count": 26,
     "metadata": {},
     "output_type": "execute_result"
    }
   ],
   "source": [
    "resultats"
   ],
   "metadata": {
    "collapsed": false,
    "ExecuteTime": {
     "end_time": "2024-02-25T21:46:23.122682Z",
     "start_time": "2024-02-25T21:46:23.114544Z"
    }
   },
   "id": "4164ff9f89c66551"
  },
  {
   "cell_type": "code",
   "execution_count": 27,
   "outputs": [],
   "source": [
    "def Boostrapping_Classes(classe):\n",
    "    df_classe = df[df['Classes'] == classe]\n",
    "    tx_defaut_liste = []\n",
    "\n",
    "    for _ in range(1000):\n",
    "        echantillon = df_classe[\"TARGET\"].sample(n=len(df_classe), replace=True)\n",
    "        tx_defaut_liste.append(echantillon.mean())\n",
    "        \n",
    "    tx_defaut_liste = np.array(tx_defaut_liste)\n",
    "\n",
    "    decile9 = np.percentile(tx_defaut_liste, 90)\n",
    "\n",
    "    MOC_C = decile9 - resultats[classe]\n",
    "    \n",
    "    return(classe, resultats[classe], decile9, MOC_C)"
   ],
   "metadata": {
    "collapsed": false,
    "ExecuteTime": {
     "end_time": "2024-02-25T21:46:23.145703Z",
     "start_time": "2024-02-25T21:46:23.122060Z"
    }
   },
   "id": "d407000f977faabf"
  },
  {
   "cell_type": "code",
   "execution_count": 28,
   "outputs": [],
   "source": [
    "MOC_C = pd.DataFrame(columns = [\"Classe\", \"LRA\", \"Décile9\", \"Moc_C\"])"
   ],
   "metadata": {
    "collapsed": false,
    "ExecuteTime": {
     "end_time": "2024-02-25T21:46:23.164339Z",
     "start_time": "2024-02-25T21:46:23.127557Z"
    }
   },
   "id": "934435464fc9ae6b"
  },
  {
   "cell_type": "code",
   "execution_count": 29,
   "outputs": [],
   "source": [
    "for i in range(1,8):\n",
    "    classe, LRA, decile9, MOC_C_classe = Boostrapping_Classes(i)\n",
    "    MOC_C.loc[len(MOC_C)] = [classe, LRA, decile9, MOC_C_classe]"
   ],
   "metadata": {
    "collapsed": false,
    "ExecuteTime": {
     "end_time": "2024-02-25T21:46:29.690612Z",
     "start_time": "2024-02-25T21:46:23.132549Z"
    }
   },
   "id": "cc909699ebc2913f"
  },
  {
   "cell_type": "code",
   "execution_count": 30,
   "outputs": [
    {
     "data": {
      "text/plain": "   Classe       LRA   Décile9     Moc_C\n0     1.0  0.173633  0.178448  0.004815\n1     2.0  0.111024  0.112538  0.001514\n2     3.0  0.080767  0.082182  0.001416\n3     4.0  0.066295  0.067645  0.001350\n4     5.0  0.050083  0.051313  0.001230\n5     6.0  0.036548  0.038127  0.001580\n6     7.0  0.037001  0.039102  0.002101",
      "text/html": "<div>\n<style scoped>\n    .dataframe tbody tr th:only-of-type {\n        vertical-align: middle;\n    }\n\n    .dataframe tbody tr th {\n        vertical-align: top;\n    }\n\n    .dataframe thead th {\n        text-align: right;\n    }\n</style>\n<table border=\"1\" class=\"dataframe\">\n  <thead>\n    <tr style=\"text-align: right;\">\n      <th></th>\n      <th>Classe</th>\n      <th>LRA</th>\n      <th>Décile9</th>\n      <th>Moc_C</th>\n    </tr>\n  </thead>\n  <tbody>\n    <tr>\n      <th>0</th>\n      <td>1.0</td>\n      <td>0.173633</td>\n      <td>0.178448</td>\n      <td>0.004815</td>\n    </tr>\n    <tr>\n      <th>1</th>\n      <td>2.0</td>\n      <td>0.111024</td>\n      <td>0.112538</td>\n      <td>0.001514</td>\n    </tr>\n    <tr>\n      <th>2</th>\n      <td>3.0</td>\n      <td>0.080767</td>\n      <td>0.082182</td>\n      <td>0.001416</td>\n    </tr>\n    <tr>\n      <th>3</th>\n      <td>4.0</td>\n      <td>0.066295</td>\n      <td>0.067645</td>\n      <td>0.001350</td>\n    </tr>\n    <tr>\n      <th>4</th>\n      <td>5.0</td>\n      <td>0.050083</td>\n      <td>0.051313</td>\n      <td>0.001230</td>\n    </tr>\n    <tr>\n      <th>5</th>\n      <td>6.0</td>\n      <td>0.036548</td>\n      <td>0.038127</td>\n      <td>0.001580</td>\n    </tr>\n    <tr>\n      <th>6</th>\n      <td>7.0</td>\n      <td>0.037001</td>\n      <td>0.039102</td>\n      <td>0.002101</td>\n    </tr>\n  </tbody>\n</table>\n</div>"
     },
     "execution_count": 30,
     "metadata": {},
     "output_type": "execute_result"
    }
   ],
   "source": [
    "MOC_C"
   ],
   "metadata": {
    "collapsed": false,
    "ExecuteTime": {
     "end_time": "2024-02-25T21:46:29.698782Z",
     "start_time": "2024-02-25T21:46:29.694899Z"
    }
   },
   "id": "e69ff148f41720c6"
  },
  {
   "cell_type": "markdown",
   "source": [
    "# MOC A\n",
    "### Valeurs manquantes dans les variables explicatives"
   ],
   "metadata": {
    "collapsed": false
   },
   "id": "68069f1e267d46fa"
  },
  {
   "cell_type": "code",
   "execution_count": 31,
   "outputs": [],
   "source": [
    "var_explicatives = ['REGION_RATING_CLIENT_W_CITY', 'DAYS_CREDIT_ENDDATE', 'RATE_DOWN_PAYMENT', 'AMT_PAYMENT', 'NAME_INCOME_TYPE', 'OCCUPATION_TYPE']"
   ],
   "metadata": {
    "collapsed": false,
    "ExecuteTime": {
     "end_time": "2024-02-25T21:46:29.706419Z",
     "start_time": "2024-02-25T21:46:29.700723Z"
    }
   },
   "id": "e3943a41144152a5"
  },
  {
   "cell_type": "code",
   "execution_count": 32,
   "outputs": [],
   "source": [
    "train = pd.read_csv(\"../data/application_train_vf.csv\")\n",
    "df_bur = pd.read_csv('../data/bureau.csv')\n",
    "df_bur_group = df_bur[['DAYS_CREDIT_ENDDATE', 'SK_ID_CURR']].groupby('SK_ID_CURR').sum()\n",
    "df_bur_group.reset_index(inplace=True)\n",
    "\n",
    "df_prev = pd.read_csv('../data/previous_application.csv')\n",
    "df_prev_group = df_prev[['SK_ID_CURR', 'DAYS_FIRST_DRAWING', 'RATE_DOWN_PAYMENT']].groupby(\n",
    "    'SK_ID_CURR').sum()\n",
    "df_prev_group.reset_index(inplace=True)\n",
    "\n",
    "df_ins = pd.read_csv('../data/installments_payments.csv')\n",
    "df_ins_group = df_ins[['SK_ID_CURR', 'AMT_PAYMENT']].groupby('SK_ID_CURR').sum()\n",
    "df_ins_group.reset_index(inplace=True)\n",
    "\n",
    "train = train.merge(df_bur_group, on='SK_ID_CURR', how='left')\n",
    "train = train.merge(df_prev_group, on='SK_ID_CURR', how='left')\n",
    "train = train.merge(df_ins_group, on='SK_ID_CURR', how='left')"
   ],
   "metadata": {
    "collapsed": false,
    "ExecuteTime": {
     "end_time": "2024-02-25T21:46:49.632256Z",
     "start_time": "2024-02-25T21:46:29.702209Z"
    }
   },
   "id": "d59f33e7aa2ecd89"
  },
  {
   "cell_type": "code",
   "execution_count": 33,
   "outputs": [
    {
     "data": {
      "text/plain": "REGION_RATING_CLIENT_W_CITY        0\nDAYS_CREDIT_ENDDATE            43764\nRATE_DOWN_PAYMENT              16395\nAMT_PAYMENT                    15810\nNAME_INCOME_TYPE                   0\nOCCUPATION_TYPE                96049\ndtype: int64"
     },
     "execution_count": 33,
     "metadata": {},
     "output_type": "execute_result"
    }
   ],
   "source": [
    "train[var_explicatives].isna().sum()"
   ],
   "metadata": {
    "collapsed": false,
    "ExecuteTime": {
     "end_time": "2024-02-25T21:46:49.669375Z",
     "start_time": "2024-02-25T21:46:49.631092Z"
    }
   },
   "id": "c6694a21c5272417"
  },
  {
   "cell_type": "markdown",
   "source": [
    "### Période Manquante"
   ],
   "metadata": {
    "collapsed": false
   },
   "id": "958c1738dec3edfa"
  },
  {
   "cell_type": "code",
   "execution_count": 34,
   "outputs": [],
   "source": [
    "max_year = df[\"date_mensuelle\"].dt.year.max()\n",
    "min_year = df[\"date_mensuelle\"].dt.year.min()"
   ],
   "metadata": {
    "collapsed": false,
    "ExecuteTime": {
     "end_time": "2024-02-25T21:46:49.682316Z",
     "start_time": "2024-02-25T21:46:49.667748Z"
    }
   },
   "id": "bcbf201af3252123"
  },
  {
   "cell_type": "code",
   "execution_count": 35,
   "outputs": [
    {
     "name": "stdout",
     "output_type": "stream",
     "text": [
      "Périodes manquantes dans les données : set()\n"
     ]
    }
   ],
   "source": [
    "periodes_attendues = [f\"{year}_{quarter}\" for year in range(min_year, max_year) for quarter in range(1, 5)]\n",
    "periodes_reelles = df['date_trimestrielle'].unique()\n",
    "\n",
    "periodes_manquantes = set(periodes_attendues) - set(periodes_reelles)\n",
    "print(\"Périodes manquantes dans les données :\", periodes_manquantes)"
   ],
   "metadata": {
    "collapsed": false,
    "ExecuteTime": {
     "end_time": "2024-02-25T21:46:49.705031Z",
     "start_time": "2024-02-25T21:46:49.693141Z"
    }
   },
   "id": "9d2b281e8e264e53"
  },
  {
   "cell_type": "markdown",
   "source": [
    "### Crise Covid"
   ],
   "metadata": {
    "collapsed": false
   },
   "id": "7d4ecd6c7bba4990"
  },
  {
   "cell_type": "code",
   "execution_count": 36,
   "outputs": [],
   "source": [
    "df['periode_crise_covid'] = ((df['date_trimestrielle'] == '2020_1') | (df['date_trimestrielle'] == '2020_2'))\n",
    "\n",
    "sans_covid = df[df['periode_crise_covid'] == False].copy()"
   ],
   "metadata": {
    "collapsed": false,
    "ExecuteTime": {
     "end_time": "2024-02-25T21:46:49.918189Z",
     "start_time": "2024-02-25T21:46:49.734906Z"
    }
   },
   "id": "a63973b110adcbf6"
  },
  {
   "cell_type": "code",
   "execution_count": 37,
   "outputs": [],
   "source": [
    "Covid_défaut = pd.DataFrame(columns = [\"Classe\", \"Taux avec Covid\", \"Taux sans Covid\", \"Marge Conservatisme (%)\"])"
   ],
   "metadata": {
    "collapsed": false,
    "ExecuteTime": {
     "end_time": "2024-02-25T21:46:49.924786Z",
     "start_time": "2024-02-25T21:46:49.919818Z"
    }
   },
   "id": "20b0edd21401fbb7"
  },
  {
   "cell_type": "code",
   "execution_count": 38,
   "outputs": [],
   "source": [
    "for i in range(1,8):\n",
    "    tx_ss_covid = sans_covid[sans_covid[\"Classes\"]==i][\"TARGET\"].mean()\n",
    "    marge = ((tx_ss_covid/resultats[i])-1)*100\n",
    "    Covid_défaut.loc[len(Covid_défaut)] = [i, resultats[i], tx_ss_covid, marge]"
   ],
   "metadata": {
    "collapsed": false,
    "ExecuteTime": {
     "end_time": "2024-02-25T21:46:50.034109Z",
     "start_time": "2024-02-25T21:46:49.922766Z"
    }
   },
   "id": "c31fc046d67dd4d2"
  },
  {
   "cell_type": "code",
   "execution_count": 39,
   "outputs": [
    {
     "data": {
      "text/plain": "   Classe  Taux avec Covid  Taux sans Covid  Marge Conservatisme (%)\n0     1.0         0.173633         0.173409                -0.128943\n1     2.0         0.111024         0.110641                -0.345114\n2     3.0         0.080767         0.080970                 0.252129\n3     4.0         0.066295         0.066394                 0.148771\n4     5.0         0.050083         0.050024                -0.118193\n5     6.0         0.036548         0.036559                 0.030722\n6     7.0         0.037001         0.036939                -0.166446",
      "text/html": "<div>\n<style scoped>\n    .dataframe tbody tr th:only-of-type {\n        vertical-align: middle;\n    }\n\n    .dataframe tbody tr th {\n        vertical-align: top;\n    }\n\n    .dataframe thead th {\n        text-align: right;\n    }\n</style>\n<table border=\"1\" class=\"dataframe\">\n  <thead>\n    <tr style=\"text-align: right;\">\n      <th></th>\n      <th>Classe</th>\n      <th>Taux avec Covid</th>\n      <th>Taux sans Covid</th>\n      <th>Marge Conservatisme (%)</th>\n    </tr>\n  </thead>\n  <tbody>\n    <tr>\n      <th>0</th>\n      <td>1.0</td>\n      <td>0.173633</td>\n      <td>0.173409</td>\n      <td>-0.128943</td>\n    </tr>\n    <tr>\n      <th>1</th>\n      <td>2.0</td>\n      <td>0.111024</td>\n      <td>0.110641</td>\n      <td>-0.345114</td>\n    </tr>\n    <tr>\n      <th>2</th>\n      <td>3.0</td>\n      <td>0.080767</td>\n      <td>0.080970</td>\n      <td>0.252129</td>\n    </tr>\n    <tr>\n      <th>3</th>\n      <td>4.0</td>\n      <td>0.066295</td>\n      <td>0.066394</td>\n      <td>0.148771</td>\n    </tr>\n    <tr>\n      <th>4</th>\n      <td>5.0</td>\n      <td>0.050083</td>\n      <td>0.050024</td>\n      <td>-0.118193</td>\n    </tr>\n    <tr>\n      <th>5</th>\n      <td>6.0</td>\n      <td>0.036548</td>\n      <td>0.036559</td>\n      <td>0.030722</td>\n    </tr>\n    <tr>\n      <th>6</th>\n      <td>7.0</td>\n      <td>0.037001</td>\n      <td>0.036939</td>\n      <td>-0.166446</td>\n    </tr>\n  </tbody>\n</table>\n</div>"
     },
     "execution_count": 39,
     "metadata": {},
     "output_type": "execute_result"
    }
   ],
   "source": [
    "Covid_défaut"
   ],
   "metadata": {
    "collapsed": false,
    "ExecuteTime": {
     "end_time": "2024-02-25T21:46:50.042413Z",
     "start_time": "2024-02-25T21:46:50.038345Z"
    }
   },
   "id": "2b725568c301e8ac"
  },
  {
   "cell_type": "code",
   "execution_count": null,
   "outputs": [],
   "source": [],
   "metadata": {
    "collapsed": false
   },
   "id": "d3860204a6b1a923"
  }
 ],
 "metadata": {
  "kernelspec": {
   "display_name": "Python 3",
   "language": "python",
   "name": "python3"
  },
  "language_info": {
   "codemirror_mode": {
    "name": "ipython",
    "version": 2
   },
   "file_extension": ".py",
   "mimetype": "text/x-python",
   "name": "python",
   "nbconvert_exporter": "python",
   "pygments_lexer": "ipython2",
   "version": "2.7.6"
  }
 },
 "nbformat": 4,
 "nbformat_minor": 5
}
