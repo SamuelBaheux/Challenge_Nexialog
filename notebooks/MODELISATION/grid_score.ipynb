{
 "cells": [
  {
   "cell_type": "code",
   "execution_count": 1,
   "metadata": {},
   "outputs": [],
   "source": [
    "import sys\n",
    "sys.path.append(\"/Users/SamuelLP/Desktop/git/Challenge_Nexialog/script\")\n",
    "from data_preparation import *\n",
    "from utils import GridScore\n",
    "import pandas as pd\n",
    "import matplotlib.pyplot as plt\n",
    "from sklearn.metrics import roc_curve, auc, confusion_matrix\n",
    "from statsmodels.discrete.discrete_model import Logit"
   ]
  },
  {
   "cell_type": "code",
   "execution_count": 2,
   "metadata": {},
   "outputs": [
    {
     "name": "stdout",
     "output_type": "stream",
     "text": [
      "Type des variables convertis ✅\n"
     ]
    },
    {
     "name": "stderr",
     "output_type": "stream",
     "text": [
      "/Users/SamuelLP/Desktop/git/Challenge_Nexialog/script/data_preparation.py:155: FutureWarning: A value is trying to be set on a copy of a DataFrame or Series through chained assignment using an inplace method.\n",
      "The behavior will change in pandas 3.0. This inplace method will never work because the intermediate object on which we are setting values always behaves as a copy.\n",
      "\n",
      "For example, when doing 'df[col].method(value, inplace=True)', try using 'df.method({col: value}, inplace=True)' or df[col] = df[col].method(value) instead, to perform the operation inplace on the original object.\n",
      "\n",
      "\n",
      "  self.train[var].fillna(0, inplace=True)\n",
      "/Users/SamuelLP/Desktop/git/Challenge_Nexialog/script/data_preparation.py:158: FutureWarning: A value is trying to be set on a copy of a DataFrame or Series through chained assignment using an inplace method.\n",
      "The behavior will change in pandas 3.0. This inplace method will never work because the intermediate object on which we are setting values always behaves as a copy.\n",
      "\n",
      "For example, when doing 'df[col].method(value, inplace=True)', try using 'df.method({col: value}, inplace=True)' or df[col] = df[col].method(value) instead, to perform the operation inplace on the original object.\n",
      "\n",
      "\n",
      "  self.train[var].fillna(self.train[var].median(), inplace = True)\n",
      "/Users/SamuelLP/Desktop/git/Challenge_Nexialog/script/data_preparation.py:158: FutureWarning: A value is trying to be set on a copy of a DataFrame or Series through chained assignment using an inplace method.\n",
      "The behavior will change in pandas 3.0. This inplace method will never work because the intermediate object on which we are setting values always behaves as a copy.\n",
      "\n",
      "For example, when doing 'df[col].method(value, inplace=True)', try using 'df.method({col: value}, inplace=True)' or df[col] = df[col].method(value) instead, to perform the operation inplace on the original object.\n",
      "\n",
      "\n",
      "  self.train[var].fillna(self.train[var].median(), inplace = True)\n",
      "/Users/SamuelLP/Desktop/git/Challenge_Nexialog/script/data_preparation.py:161: FutureWarning: A value is trying to be set on a copy of a DataFrame or Series through chained assignment using an inplace method.\n",
      "The behavior will change in pandas 3.0. This inplace method will never work because the intermediate object on which we are setting values always behaves as a copy.\n",
      "\n",
      "For example, when doing 'df[col].method(value, inplace=True)', try using 'df.method({col: value}, inplace=True)' or df[col] = df[col].method(value) instead, to perform the operation inplace on the original object.\n",
      "\n",
      "\n",
      "  self.train['EXT_SOURCE_1'].fillna(self.train['EXT_SOURCE_2'], inplace=True)\n",
      "/Users/SamuelLP/Desktop/git/Challenge_Nexialog/script/data_preparation.py:162: FutureWarning: A value is trying to be set on a copy of a DataFrame or Series through chained assignment using an inplace method.\n",
      "The behavior will change in pandas 3.0. This inplace method will never work because the intermediate object on which we are setting values always behaves as a copy.\n",
      "\n",
      "For example, when doing 'df[col].method(value, inplace=True)', try using 'df.method({col: value}, inplace=True)' or df[col] = df[col].method(value) instead, to perform the operation inplace on the original object.\n",
      "\n",
      "\n",
      "  self.train['EXT_SOURCE_1'].fillna(self.train[\"EXT_SOURCE_1\"].mean(), inplace=True)\n",
      "/Users/SamuelLP/Desktop/git/Challenge_Nexialog/script/data_preparation.py:163: FutureWarning: A value is trying to be set on a copy of a DataFrame or Series through chained assignment using an inplace method.\n",
      "The behavior will change in pandas 3.0. This inplace method will never work because the intermediate object on which we are setting values always behaves as a copy.\n",
      "\n",
      "For example, when doing 'df[col].method(value, inplace=True)', try using 'df.method({col: value}, inplace=True)' or df[col] = df[col].method(value) instead, to perform the operation inplace on the original object.\n",
      "\n",
      "\n",
      "  self.train['EXT_SOURCE_3'].fillna(self.train['EXT_SOURCE_2'], inplace=True)\n",
      "/Users/SamuelLP/Desktop/git/Challenge_Nexialog/script/data_preparation.py:164: FutureWarning: A value is trying to be set on a copy of a DataFrame or Series through chained assignment using an inplace method.\n",
      "The behavior will change in pandas 3.0. This inplace method will never work because the intermediate object on which we are setting values always behaves as a copy.\n",
      "\n",
      "For example, when doing 'df[col].method(value, inplace=True)', try using 'df.method({col: value}, inplace=True)' or df[col] = df[col].method(value) instead, to perform the operation inplace on the original object.\n",
      "\n",
      "\n",
      "  self.train['EXT_SOURCE_3'].fillna(self.train[\"EXT_SOURCE_3\"].mean(), inplace=True)\n",
      "/Users/SamuelLP/Desktop/git/Challenge_Nexialog/script/data_preparation.py:169: FutureWarning: A value is trying to be set on a copy of a DataFrame or Series through chained assignment using an inplace method.\n",
      "The behavior will change in pandas 3.0. This inplace method will never work because the intermediate object on which we are setting values always behaves as a copy.\n",
      "\n",
      "For example, when doing 'df[col].method(value, inplace=True)', try using 'df.method({col: value}, inplace=True)' or df[col] = df[col].method(value) instead, to perform the operation inplace on the original object.\n",
      "\n",
      "\n",
      "  self.train[var].fillna(self.train[var].mode()[0], inplace=True)\n",
      "/Users/SamuelLP/Desktop/git/Challenge_Nexialog/script/data_preparation.py:180: FutureWarning: A value is trying to be set on a copy of a DataFrame or Series through chained assignment using an inplace method.\n",
      "The behavior will change in pandas 3.0. This inplace method will never work because the intermediate object on which we are setting values always behaves as a copy.\n",
      "\n",
      "For example, when doing 'df[col].method(value, inplace=True)', try using 'df.method({col: value}, inplace=True)' or df[col] = df[col].method(value) instead, to perform the operation inplace on the original object.\n",
      "\n",
      "\n",
      "  self.train[var].fillna(mean, inplace=True)\n",
      "/Users/SamuelLP/Desktop/git/Challenge_Nexialog/script/data_preparation.py:183: FutureWarning: A value is trying to be set on a copy of a DataFrame or Series through chained assignment using an inplace method.\n",
      "The behavior will change in pandas 3.0. This inplace method will never work because the intermediate object on which we are setting values always behaves as a copy.\n",
      "\n",
      "For example, when doing 'df[col].method(value, inplace=True)', try using 'df.method({col: value}, inplace=True)' or df[col] = df[col].method(value) instead, to perform the operation inplace on the original object.\n",
      "\n",
      "\n",
      "  self.train[var].fillna(mode[0], inplace=True)\n",
      "/Users/SamuelLP/Desktop/git/Challenge_Nexialog/script/data_preparation.py:183: FutureWarning: Downcasting object dtype arrays on .fillna, .ffill, .bfill is deprecated and will change in a future version. Call result.infer_objects(copy=False) instead. To opt-in to the future behavior, set `pd.set_option('future.no_silent_downcasting', True)`\n",
      "  self.train[var].fillna(mode[0], inplace=True)\n",
      "/Users/SamuelLP/Desktop/git/Challenge_Nexialog/script/data_preparation.py:180: FutureWarning: A value is trying to be set on a copy of a DataFrame or Series through chained assignment using an inplace method.\n",
      "The behavior will change in pandas 3.0. This inplace method will never work because the intermediate object on which we are setting values always behaves as a copy.\n",
      "\n",
      "For example, when doing 'df[col].method(value, inplace=True)', try using 'df.method({col: value}, inplace=True)' or df[col] = df[col].method(value) instead, to perform the operation inplace on the original object.\n",
      "\n",
      "\n",
      "  self.train[var].fillna(mean, inplace=True)\n",
      "/Users/SamuelLP/Desktop/git/Challenge_Nexialog/script/data_preparation.py:183: FutureWarning: A value is trying to be set on a copy of a DataFrame or Series through chained assignment using an inplace method.\n",
      "The behavior will change in pandas 3.0. This inplace method will never work because the intermediate object on which we are setting values always behaves as a copy.\n",
      "\n",
      "For example, when doing 'df[col].method(value, inplace=True)', try using 'df.method({col: value}, inplace=True)' or df[col] = df[col].method(value) instead, to perform the operation inplace on the original object.\n",
      "\n",
      "\n",
      "  self.train[var].fillna(mode[0], inplace=True)\n",
      "/Users/SamuelLP/Desktop/git/Challenge_Nexialog/script/data_preparation.py:183: FutureWarning: Downcasting object dtype arrays on .fillna, .ffill, .bfill is deprecated and will change in a future version. Call result.infer_objects(copy=False) instead. To opt-in to the future behavior, set `pd.set_option('future.no_silent_downcasting', True)`\n",
      "  self.train[var].fillna(mode[0], inplace=True)\n"
     ]
    },
    {
     "name": "stdout",
     "output_type": "stream",
     "text": [
      "Valeurs manquantes traitées ✅\n",
      "Discrétisation des variables numériques en cours ... \n"
     ]
    },
    {
     "name": "stderr",
     "output_type": "stream",
     "text": [
      "100%|██████████| 19/19 [04:50<00:00, 15.30s/it]\n"
     ]
    },
    {
     "name": "stdout",
     "output_type": "stream",
     "text": [
      "Variables numériques discrétisées ✅\n",
      "Discrétisation des variables catégorielles en cours ... \n"
     ]
    },
    {
     "name": "stderr",
     "output_type": "stream",
     "text": [
      "/Users/SamuelLP/Desktop/git/Challenge_Nexialog/script/data_preparation.py:261: FutureWarning: A value is trying to be set on a copy of a DataFrame or Series through chained assignment using an inplace method.\n",
      "The behavior will change in pandas 3.0. This inplace method will never work because the intermediate object on which we are setting values always behaves as a copy.\n",
      "\n",
      "For example, when doing 'df[col].method(value, inplace=True)', try using 'df.method({col: value}, inplace=True)' or df[col] = df[col].method(value) instead, to perform the operation inplace on the original object.\n",
      "\n",
      "\n",
      "  self.train['CODE_GENDER'].replace('XNA', mode_gender, inplace=True)\n"
     ]
    },
    {
     "name": "stdout",
     "output_type": "stream",
     "text": [
      "Variables catégorielles discrétisées ✅\n"
     ]
    }
   ],
   "source": [
    "train = pd.read_csv(\"/Users/SamuelLP/Desktop/git/Challenge_Nexialog/data/application_train_vf.csv\")\n",
    "dataprep = DataPreparation(train, 0.3)\n",
    "train_prepared, test_prepared = dataprep.get_prepared_data()"
   ]
  },
  {
   "cell_type": "code",
   "execution_count": 3,
   "metadata": {},
   "outputs": [],
   "source": [
    "train_prepared.to_csv(\"/Users/SamuelLP/Desktop/git/Challenge_Nexialog/data/train_preparedV2.csv\")\n",
    "test_prepared.to_csv(\"/Users/SamuelLP/Desktop/git/Challenge_Nexialog/data/test_preparedV2.csv\")"
   ]
  },
  {
   "cell_type": "markdown",
   "metadata": {},
   "source": [
    "## Modélisation"
   ]
  },
  {
   "cell_type": "code",
   "execution_count": 4,
   "metadata": {},
   "outputs": [
    {
     "data": {
      "text/html": [
       "<div>\n",
       "<style scoped>\n",
       "    .dataframe tbody tr th:only-of-type {\n",
       "        vertical-align: middle;\n",
       "    }\n",
       "\n",
       "    .dataframe tbody tr th {\n",
       "        vertical-align: top;\n",
       "    }\n",
       "\n",
       "    .dataframe thead th {\n",
       "        text-align: right;\n",
       "    }\n",
       "</style>\n",
       "<table border=\"1\" class=\"dataframe\">\n",
       "  <thead>\n",
       "    <tr style=\"text-align: right;\">\n",
       "      <th></th>\n",
       "      <th>AMT_CREDIT_SUM_DEBT_disc_int</th>\n",
       "      <th>AMT_CREDIT_SUM_disc_int</th>\n",
       "      <th>EXT_SOURCE_2_disc_int</th>\n",
       "      <th>EXT_SOURCE_1_disc_int</th>\n",
       "      <th>EXT_SOURCE_3_disc_int</th>\n",
       "      <th>DAYS_EMPLOYED_disc_int</th>\n",
       "    </tr>\n",
       "  </thead>\n",
       "  <tbody>\n",
       "    <tr>\n",
       "      <th>0</th>\n",
       "      <td>[32168.25;43650000.0]</td>\n",
       "      <td>[0.0;632934.0]</td>\n",
       "      <td>[0.47;0.85]</td>\n",
       "      <td>[0.4;0.96]</td>\n",
       "      <td>[0.33;0.9]</td>\n",
       "      <td>[-2407;365243]</td>\n",
       "    </tr>\n",
       "    <tr>\n",
       "      <th>1</th>\n",
       "      <td>[-1083614.67;32167.93]</td>\n",
       "      <td>[0.0;632934.0]</td>\n",
       "      <td>[0.47;0.85]</td>\n",
       "      <td>[0.4;0.96]</td>\n",
       "      <td>[0.33;0.9]</td>\n",
       "      <td>[-17912;-2408]</td>\n",
       "    </tr>\n",
       "    <tr>\n",
       "      <th>2</th>\n",
       "      <td>[32168.25;43650000.0]</td>\n",
       "      <td>[632936.25;198072344.25]</td>\n",
       "      <td>[0.47;0.85]</td>\n",
       "      <td>[0.12;0.4]</td>\n",
       "      <td>[0.33;0.9]</td>\n",
       "      <td>[-2407;365243]</td>\n",
       "    </tr>\n",
       "    <tr>\n",
       "      <th>3</th>\n",
       "      <td>[-1083614.67;32167.93]</td>\n",
       "      <td>[0.0;632934.0]</td>\n",
       "      <td>[0.47;0.85]</td>\n",
       "      <td>[0.12;0.4]</td>\n",
       "      <td>[0.33;0.9]</td>\n",
       "      <td>[-2407;365243]</td>\n",
       "    </tr>\n",
       "    <tr>\n",
       "      <th>4</th>\n",
       "      <td>[-1083614.67;32167.93]</td>\n",
       "      <td>[0.0;632934.0]</td>\n",
       "      <td>[0.0;0.15]</td>\n",
       "      <td>[0.0;0.12]</td>\n",
       "      <td>[0.33;0.9]</td>\n",
       "      <td>[-2407;365243]</td>\n",
       "    </tr>\n",
       "    <tr>\n",
       "      <th>...</th>\n",
       "      <td>...</td>\n",
       "      <td>...</td>\n",
       "      <td>...</td>\n",
       "      <td>...</td>\n",
       "      <td>...</td>\n",
       "      <td>...</td>\n",
       "    </tr>\n",
       "    <tr>\n",
       "      <th>279995</th>\n",
       "      <td>[-1083614.67;32167.93]</td>\n",
       "      <td>[0.0;632934.0]</td>\n",
       "      <td>[0.47;0.85]</td>\n",
       "      <td>[0.4;0.96]</td>\n",
       "      <td>[0.33;0.9]</td>\n",
       "      <td>[-2407;365243]</td>\n",
       "    </tr>\n",
       "    <tr>\n",
       "      <th>279996</th>\n",
       "      <td>[32168.25;43650000.0]</td>\n",
       "      <td>[0.0;632934.0]</td>\n",
       "      <td>[0.47;0.85]</td>\n",
       "      <td>[0.4;0.96]</td>\n",
       "      <td>[0.0;0.33]</td>\n",
       "      <td>[-2407;365243]</td>\n",
       "    </tr>\n",
       "    <tr>\n",
       "      <th>279997</th>\n",
       "      <td>[32168.25;43650000.0]</td>\n",
       "      <td>[0.0;632934.0]</td>\n",
       "      <td>[0.47;0.85]</td>\n",
       "      <td>[0.4;0.96]</td>\n",
       "      <td>[0.33;0.9]</td>\n",
       "      <td>[-2407;365243]</td>\n",
       "    </tr>\n",
       "    <tr>\n",
       "      <th>279998</th>\n",
       "      <td>[32168.25;43650000.0]</td>\n",
       "      <td>[0.0;632934.0]</td>\n",
       "      <td>[0.15;0.47]</td>\n",
       "      <td>[0.12;0.4]</td>\n",
       "      <td>[0.0;0.33]</td>\n",
       "      <td>[-2407;365243]</td>\n",
       "    </tr>\n",
       "    <tr>\n",
       "      <th>279999</th>\n",
       "      <td>[32168.25;43650000.0]</td>\n",
       "      <td>[0.0;632934.0]</td>\n",
       "      <td>[0.47;0.85]</td>\n",
       "      <td>[0.4;0.96]</td>\n",
       "      <td>[0.33;0.9]</td>\n",
       "      <td>[-2407;365243]</td>\n",
       "    </tr>\n",
       "  </tbody>\n",
       "</table>\n",
       "<p>280000 rows × 6 columns</p>\n",
       "</div>"
      ],
      "text/plain": [
       "       AMT_CREDIT_SUM_DEBT_disc_int   AMT_CREDIT_SUM_disc_int  \\\n",
       "0             [32168.25;43650000.0]            [0.0;632934.0]   \n",
       "1            [-1083614.67;32167.93]            [0.0;632934.0]   \n",
       "2             [32168.25;43650000.0]  [632936.25;198072344.25]   \n",
       "3            [-1083614.67;32167.93]            [0.0;632934.0]   \n",
       "4            [-1083614.67;32167.93]            [0.0;632934.0]   \n",
       "...                             ...                       ...   \n",
       "279995       [-1083614.67;32167.93]            [0.0;632934.0]   \n",
       "279996        [32168.25;43650000.0]            [0.0;632934.0]   \n",
       "279997        [32168.25;43650000.0]            [0.0;632934.0]   \n",
       "279998        [32168.25;43650000.0]            [0.0;632934.0]   \n",
       "279999        [32168.25;43650000.0]            [0.0;632934.0]   \n",
       "\n",
       "       EXT_SOURCE_2_disc_int EXT_SOURCE_1_disc_int EXT_SOURCE_3_disc_int  \\\n",
       "0                [0.47;0.85]            [0.4;0.96]            [0.33;0.9]   \n",
       "1                [0.47;0.85]            [0.4;0.96]            [0.33;0.9]   \n",
       "2                [0.47;0.85]            [0.12;0.4]            [0.33;0.9]   \n",
       "3                [0.47;0.85]            [0.12;0.4]            [0.33;0.9]   \n",
       "4                 [0.0;0.15]            [0.0;0.12]            [0.33;0.9]   \n",
       "...                      ...                   ...                   ...   \n",
       "279995           [0.47;0.85]            [0.4;0.96]            [0.33;0.9]   \n",
       "279996           [0.47;0.85]            [0.4;0.96]            [0.0;0.33]   \n",
       "279997           [0.47;0.85]            [0.4;0.96]            [0.33;0.9]   \n",
       "279998           [0.15;0.47]            [0.12;0.4]            [0.0;0.33]   \n",
       "279999           [0.47;0.85]            [0.4;0.96]            [0.33;0.9]   \n",
       "\n",
       "       DAYS_EMPLOYED_disc_int  \n",
       "0              [-2407;365243]  \n",
       "1              [-17912;-2408]  \n",
       "2              [-2407;365243]  \n",
       "3              [-2407;365243]  \n",
       "4              [-2407;365243]  \n",
       "...                       ...  \n",
       "279995         [-2407;365243]  \n",
       "279996         [-2407;365243]  \n",
       "279997         [-2407;365243]  \n",
       "279998         [-2407;365243]  \n",
       "279999         [-2407;365243]  \n",
       "\n",
       "[280000 rows x 6 columns]"
      ]
     },
     "execution_count": 4,
     "metadata": {},
     "output_type": "execute_result"
    }
   ],
   "source": [
    "features = ['AMT_CREDIT_SUM_DEBT_disc_int', 'AMT_CREDIT_SUM_disc_int', 'EXT_SOURCE_2_disc_int',  'EXT_SOURCE_1_disc_int', 'EXT_SOURCE_3_disc_int', 'DAYS_EMPLOYED_disc_int']\n",
    "train_prepared[features]"
   ]
  },
  {
   "cell_type": "code",
   "execution_count": 14,
   "metadata": {},
   "outputs": [],
   "source": [
    "reference_categories = {\n",
    "    'AMT_CREDIT_SUM_DEBT_disc_int' : \"[-1083614.67;32167.93]\",\n",
    "    'AMT_CREDIT_SUM_disc_int' : \"[632936.25;198072344.25]\", \n",
    "    'EXT_SOURCE_2_disc_int' : \"[0.47;0.85]\",  \n",
    "    'EXT_SOURCE_1_disc_int' : \"[0.4;0.96]\", \n",
    "    'EXT_SOURCE_3_disc_int' : \"[0.33;0.9]\", \n",
    "    'DAYS_EMPLOYED_disc_int' : \"[-17912;-2408]\"}"
   ]
  },
  {
   "cell_type": "code",
   "execution_count": 15,
   "metadata": {},
   "outputs": [],
   "source": [
    "formula_parts = []\n",
    "for var in features:\n",
    "    if var in reference_categories:\n",
    "        ref_category = reference_categories[var]\n",
    "        formula_parts.append(f'C({var}, Treatment(reference=\"{ref_category}\"))')\n",
    "\n",
    "formula = 'TARGET ~ ' + ' + '.join(formula_parts)"
   ]
  },
  {
   "cell_type": "code",
   "execution_count": 16,
   "metadata": {},
   "outputs": [
    {
     "name": "stdout",
     "output_type": "stream",
     "text": [
      "Optimization terminated successfully.\n",
      "         Current function value: 0.249169\n",
      "         Iterations 7\n"
     ]
    }
   ],
   "source": [
    "model = Logit.from_formula(formula=formula, data=train_prepared)\n",
    "logit_model = model.fit()"
   ]
  },
  {
   "cell_type": "markdown",
   "metadata": {},
   "source": []
  },
  {
   "cell_type": "markdown",
   "metadata": {},
   "source": [
    "# Modélisation"
   ]
  },
  {
   "cell_type": "code",
   "execution_count": 5,
   "metadata": {},
   "outputs": [
    {
     "name": "stdout",
     "output_type": "stream",
     "text": [
      "Optimization terminated successfully    (Exit mode 0)\n",
      "            Current function value: 0.2640676817106269\n",
      "            Iterations: 51\n",
      "            Function evaluations: 51\n",
      "            Gradient evaluations: 51\n"
     ]
    }
   ],
   "source": [
    "features = list(df_train.iloc[:,-7:].columns)\n",
    "reference_categories = {var : df_train[var].mode()[0] for var in features}\n",
    "formula_parts = []\n",
    "for var in features:\n",
    "    if var in reference_categories:\n",
    "        ref_category = reference_categories[var]\n",
    "        formula_parts.append(f'C({var}, Treatment(reference=\"{ref_category}\"))')\n",
    "\n",
    "formula = 'TARGET ~ ' + ' + '.join(formula_parts)\n",
    "\n",
    "model = Logit.from_formula(formula=formula, data=df_train)\n",
    "logit_model = model.fit_regularized(maxiter = 500, method='l1')"
   ]
  },
  {
   "cell_type": "markdown",
   "metadata": {},
   "source": [
    "## Prédictions"
   ]
  },
  {
   "cell_type": "code",
   "execution_count": 17,
   "metadata": {},
   "outputs": [
    {
     "data": {
      "image/png": "[encoded data removed]",
      "text/plain": [
       "<Figure size 800x600 with 1 Axes>"
      ]
     },
     "metadata": {},
     "output_type": "display_data"
    },
    {
     "data": {
      "text/plain": [
       "0.3946427777696806"
      ]
     },
     "execution_count": 17,
     "metadata": {},
     "output_type": "execute_result"
    }
   ],
   "source": [
    "pred = logit_model.predict(test_prepared)\n",
    "fpr, tpr, thresholds = roc_curve(test_prepared[\"TARGET\"],pred)\n",
    "roc_auc = auc(fpr, tpr)\n",
    "\n",
    "plt.figure(figsize=(8, 6))\n",
    "plt.plot(fpr, tpr, color='darkorange', lw=2, label='ROC curve (AUC = {:.2f})'.format(roc_auc))\n",
    "plt.plot([0, 1], [0, 1], color='navy', lw=2, linestyle='--')\n",
    "plt.xlabel('False Positive Rate')\n",
    "plt.ylabel('True Positive Rate')\n",
    "plt.title('Receiver Operating Characteristic (ROC) Curve')\n",
    "plt.legend(loc='lower right')\n",
    "plt.show()\n",
    "roc_auc = auc(fpr, tpr)\n",
    "gini_coefficient = 2 * roc_auc - 1\n",
    "gini_coefficient"
   ]
  },
  {
   "cell_type": "code",
   "execution_count": 18,
   "metadata": {},
   "outputs": [
    {
     "data": {
      "text/plain": [
       "array([[23788,     0],\n",
       "       [ 2319,     0]])"
      ]
     },
     "execution_count": 18,
     "metadata": {},
     "output_type": "execute_result"
    }
   ],
   "source": [
    "confusion_matrix(test_prepared[\"TARGET\"], np.round(pred))\n"
   ]
  },
  {
   "cell_type": "code",
   "execution_count": 8,
   "metadata": {},
   "outputs": [
    {
     "data": {
      "text/plain": [
       "nan"
      ]
     },
     "execution_count": 8,
     "metadata": {},
     "output_type": "execute_result"
    }
   ],
   "source": [
    "roc_auc = auc(fpr, tpr)\n",
    "gini_coefficient = 2 * roc_auc - 1\n",
    "gini_coefficient"
   ]
  },
  {
   "cell_type": "markdown",
   "metadata": {},
   "source": [
    "## Grille de score"
   ]
  },
  {
   "cell_type": "code",
   "execution_count": 19,
   "metadata": {},
   "outputs": [],
   "source": [
    "GS = GridScore(train_prepared, logit_model)\n",
    "grid_score = GS.compute_grid_score()"
   ]
  },
  {
   "cell_type": "code",
   "execution_count": 20,
   "metadata": {},
   "outputs": [
    {
     "data": {
      "text/html": [
       "<div>\n",
       "<style scoped>\n",
       "    .dataframe tbody tr th:only-of-type {\n",
       "        vertical-align: middle;\n",
       "    }\n",
       "\n",
       "    .dataframe tbody tr th {\n",
       "        vertical-align: top;\n",
       "    }\n",
       "\n",
       "    .dataframe thead th {\n",
       "        text-align: right;\n",
       "    }\n",
       "</style>\n",
       "<table border=\"1\" class=\"dataframe\">\n",
       "  <thead>\n",
       "    <tr style=\"text-align: right;\">\n",
       "      <th></th>\n",
       "      <th>Variable</th>\n",
       "      <th>Modality</th>\n",
       "      <th>Coefficient</th>\n",
       "      <th>P-Value</th>\n",
       "      <th>Score</th>\n",
       "      <th>Contribution</th>\n",
       "      <th>Pcentage_Défaut</th>\n",
       "      <th>Pcentage_Classe</th>\n",
       "    </tr>\n",
       "  </thead>\n",
       "  <tbody>\n",
       "    <tr>\n",
       "      <th>0</th>\n",
       "      <td>Intercept</td>\n",
       "      <td>-</td>\n",
       "      <td>-3.796052</td>\n",
       "      <td>0.0</td>\n",
       "      <td>0.000000</td>\n",
       "      <td>0.0</td>\n",
       "      <td>0.00</td>\n",
       "      <td>0.00</td>\n",
       "    </tr>\n",
       "    <tr>\n",
       "      <th>1</th>\n",
       "      <td>AMT_CREDIT_SUM_DEBT_disc_int</td>\n",
       "      <td>[-1083614.67;32167.93]_ref</td>\n",
       "      <td>0.000000</td>\n",
       "      <td>0.0</td>\n",
       "      <td>105.263158</td>\n",
       "      <td>11.0</td>\n",
       "      <td>2.12</td>\n",
       "      <td>37.39</td>\n",
       "    </tr>\n",
       "    <tr>\n",
       "      <th>2</th>\n",
       "      <td>AMT_CREDIT_SUM_DEBT_disc_int</td>\n",
       "      <td>[32168.25;43650000.0]</td>\n",
       "      <td>0.340000</td>\n",
       "      <td>0.0</td>\n",
       "      <td>0.000000</td>\n",
       "      <td>11.0</td>\n",
       "      <td>5.44</td>\n",
       "      <td>62.61</td>\n",
       "    </tr>\n",
       "    <tr>\n",
       "      <th>3</th>\n",
       "      <td>AMT_CREDIT_SUM_disc_int</td>\n",
       "      <td>[632936.25;198072344.25]_ref</td>\n",
       "      <td>0.000000</td>\n",
       "      <td>0.0</td>\n",
       "      <td>74.303406</td>\n",
       "      <td>8.0</td>\n",
       "      <td>0.66</td>\n",
       "      <td>11.58</td>\n",
       "    </tr>\n",
       "    <tr>\n",
       "      <th>4</th>\n",
       "      <td>AMT_CREDIT_SUM_disc_int</td>\n",
       "      <td>[0.0;632934.0]</td>\n",
       "      <td>0.240000</td>\n",
       "      <td>0.0</td>\n",
       "      <td>0.000000</td>\n",
       "      <td>8.0</td>\n",
       "      <td>6.90</td>\n",
       "      <td>88.42</td>\n",
       "    </tr>\n",
       "    <tr>\n",
       "      <th>5</th>\n",
       "      <td>EXT_SOURCE_2_disc_int</td>\n",
       "      <td>[0.47;0.85]_ref</td>\n",
       "      <td>0.000000</td>\n",
       "      <td>0.0</td>\n",
       "      <td>201.238390</td>\n",
       "      <td>19.0</td>\n",
       "      <td>3.51</td>\n",
       "      <td>66.99</td>\n",
       "    </tr>\n",
       "    <tr>\n",
       "      <th>6</th>\n",
       "      <td>EXT_SOURCE_2_disc_int</td>\n",
       "      <td>[0.0;0.15]</td>\n",
       "      <td>0.650000</td>\n",
       "      <td>0.0</td>\n",
       "      <td>0.000000</td>\n",
       "      <td>19.0</td>\n",
       "      <td>1.17</td>\n",
       "      <td>5.82</td>\n",
       "    </tr>\n",
       "    <tr>\n",
       "      <th>7</th>\n",
       "      <td>EXT_SOURCE_2_disc_int</td>\n",
       "      <td>[0.15;0.47]</td>\n",
       "      <td>0.350000</td>\n",
       "      <td>0.0</td>\n",
       "      <td>92.879257</td>\n",
       "      <td>19.0</td>\n",
       "      <td>2.88</td>\n",
       "      <td>27.20</td>\n",
       "    </tr>\n",
       "    <tr>\n",
       "      <th>8</th>\n",
       "      <td>EXT_SOURCE_1_disc_int</td>\n",
       "      <td>[0.4;0.96]_ref</td>\n",
       "      <td>0.000000</td>\n",
       "      <td>0.0</td>\n",
       "      <td>272.445820</td>\n",
       "      <td>25.0</td>\n",
       "      <td>3.60</td>\n",
       "      <td>68.88</td>\n",
       "    </tr>\n",
       "    <tr>\n",
       "      <th>9</th>\n",
       "      <td>EXT_SOURCE_1_disc_int</td>\n",
       "      <td>[0.0;0.12]</td>\n",
       "      <td>0.880000</td>\n",
       "      <td>0.0</td>\n",
       "      <td>0.000000</td>\n",
       "      <td>25.0</td>\n",
       "      <td>0.88</td>\n",
       "      <td>3.93</td>\n",
       "    </tr>\n",
       "    <tr>\n",
       "      <th>10</th>\n",
       "      <td>EXT_SOURCE_1_disc_int</td>\n",
       "      <td>[0.12;0.4]</td>\n",
       "      <td>0.460000</td>\n",
       "      <td>0.0</td>\n",
       "      <td>130.030960</td>\n",
       "      <td>25.0</td>\n",
       "      <td>3.08</td>\n",
       "      <td>27.19</td>\n",
       "    </tr>\n",
       "    <tr>\n",
       "      <th>11</th>\n",
       "      <td>EXT_SOURCE_3_disc_int</td>\n",
       "      <td>[0.33;0.9]_ref</td>\n",
       "      <td>0.000000</td>\n",
       "      <td>0.0</td>\n",
       "      <td>256.965944</td>\n",
       "      <td>27.0</td>\n",
       "      <td>4.34</td>\n",
       "      <td>79.29</td>\n",
       "    </tr>\n",
       "    <tr>\n",
       "      <th>12</th>\n",
       "      <td>EXT_SOURCE_3_disc_int</td>\n",
       "      <td>[0.0;0.33]</td>\n",
       "      <td>0.830000</td>\n",
       "      <td>0.0</td>\n",
       "      <td>0.000000</td>\n",
       "      <td>27.0</td>\n",
       "      <td>3.22</td>\n",
       "      <td>20.71</td>\n",
       "    </tr>\n",
       "    <tr>\n",
       "      <th>13</th>\n",
       "      <td>DAYS_EMPLOYED_disc_int</td>\n",
       "      <td>[-17912;-2408]_ref</td>\n",
       "      <td>0.000000</td>\n",
       "      <td>0.0</td>\n",
       "      <td>89.783282</td>\n",
       "      <td>10.0</td>\n",
       "      <td>1.63</td>\n",
       "      <td>29.41</td>\n",
       "    </tr>\n",
       "    <tr>\n",
       "      <th>14</th>\n",
       "      <td>DAYS_EMPLOYED_disc_int</td>\n",
       "      <td>[-2407;365243]</td>\n",
       "      <td>0.290000</td>\n",
       "      <td>0.0</td>\n",
       "      <td>0.000000</td>\n",
       "      <td>10.0</td>\n",
       "      <td>5.93</td>\n",
       "      <td>70.59</td>\n",
       "    </tr>\n",
       "  </tbody>\n",
       "</table>\n",
       "</div>"
      ],
      "text/plain": [
       "                        Variable                      Modality  Coefficient  \\\n",
       "0                      Intercept                             -    -3.796052   \n",
       "1   AMT_CREDIT_SUM_DEBT_disc_int    [-1083614.67;32167.93]_ref     0.000000   \n",
       "2   AMT_CREDIT_SUM_DEBT_disc_int         [32168.25;43650000.0]     0.340000   \n",
       "3        AMT_CREDIT_SUM_disc_int  [632936.25;198072344.25]_ref     0.000000   \n",
       "4        AMT_CREDIT_SUM_disc_int                [0.0;632934.0]     0.240000   \n",
       "5          EXT_SOURCE_2_disc_int               [0.47;0.85]_ref     0.000000   \n",
       "6          EXT_SOURCE_2_disc_int                    [0.0;0.15]     0.650000   \n",
       "7          EXT_SOURCE_2_disc_int                   [0.15;0.47]     0.350000   \n",
       "8          EXT_SOURCE_1_disc_int                [0.4;0.96]_ref     0.000000   \n",
       "9          EXT_SOURCE_1_disc_int                    [0.0;0.12]     0.880000   \n",
       "10         EXT_SOURCE_1_disc_int                    [0.12;0.4]     0.460000   \n",
       "11         EXT_SOURCE_3_disc_int                [0.33;0.9]_ref     0.000000   \n",
       "12         EXT_SOURCE_3_disc_int                    [0.0;0.33]     0.830000   \n",
       "13        DAYS_EMPLOYED_disc_int            [-17912;-2408]_ref     0.000000   \n",
       "14        DAYS_EMPLOYED_disc_int                [-2407;365243]     0.290000   \n",
       "\n",
       "    P-Value       Score  Contribution  Pcentage_Défaut  Pcentage_Classe  \n",
       "0       0.0    0.000000           0.0             0.00             0.00  \n",
       "1       0.0  105.263158          11.0             2.12            37.39  \n",
       "2       0.0    0.000000          11.0             5.44            62.61  \n",
       "3       0.0   74.303406           8.0             0.66            11.58  \n",
       "4       0.0    0.000000           8.0             6.90            88.42  \n",
       "5       0.0  201.238390          19.0             3.51            66.99  \n",
       "6       0.0    0.000000          19.0             1.17             5.82  \n",
       "7       0.0   92.879257          19.0             2.88            27.20  \n",
       "8       0.0  272.445820          25.0             3.60            68.88  \n",
       "9       0.0    0.000000          25.0             0.88             3.93  \n",
       "10      0.0  130.030960          25.0             3.08            27.19  \n",
       "11      0.0  256.965944          27.0             4.34            79.29  \n",
       "12      0.0    0.000000          27.0             3.22            20.71  \n",
       "13      0.0   89.783282          10.0             1.63            29.41  \n",
       "14      0.0    0.000000          10.0             5.93            70.59  "
      ]
     },
     "execution_count": 20,
     "metadata": {},
     "output_type": "execute_result"
    }
   ],
   "source": [
    "grid_score"
   ]
  },
  {
   "cell_type": "markdown",
   "metadata": {},
   "source": [
    "## Calcul des scores individuels\n"
   ]
  },
  {
   "cell_type": "code",
   "execution_count": 21,
   "metadata": {},
   "outputs": [
    {
     "data": {
      "text/plain": [
       "(array([ 3466.,  2645., 13064., 14696., 29502., 34863., 25835., 60650.,\n",
       "        74857., 20422.]),\n",
       " array([   0.,  100.,  200.,  300.,  400.,  500.,  600.,  700.,  800.,\n",
       "         900., 1000.]),\n",
       " <BarContainer object of 10 artists>)"
      ]
     },
     "execution_count": 21,
     "metadata": {},
     "output_type": "execute_result"
    },
    {
     "data": {
      "image/png": "[encoded data removed]",
      "text/plain": [
       "<Figure size 640x480 with 1 Axes>"
      ]
     },
     "metadata": {},
     "output_type": "display_data"
    }
   ],
   "source": [
    "df_score = GS.get_individual_score()\n",
    "plt.hist(df_score[\"Score_ind\"])\n"
   ]
  },
  {
   "cell_type": "code",
   "execution_count": 22,
   "metadata": {},
   "outputs": [],
   "source": [
    "df_score.to_csv(\"/Users/SamuelLP/Desktop/git/Challenge_Nexialog/data/df_score.csv\")\n"
   ]
  },
  {
   "cell_type": "code",
   "execution_count": null,
   "metadata": {},
   "outputs": [],
   "source": []
  }
 ],
 "metadata": {
  "kernelspec": {
   "display_name": ".nexialog_venv",
   "language": "python",
   "name": "python3"
  },
  "language_info": {
   "codemirror_mode": {
    "name": "ipython",
    "version": 3
   },
   "file_extension": ".py",
   "mimetype": "text/x-python",
   "name": "python",
   "nbconvert_exporter": "python",
   "pygments_lexer": "ipython3",
   "version": "3.10.0"
  }
 },
 "nbformat": 4,
 "nbformat_minor": 2
}
