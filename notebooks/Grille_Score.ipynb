{
 "cells": [
  {
   "cell_type": "code",
   "execution_count": 2,
   "id": "initial_id",
   "metadata": {
    "collapsed": true,
    "ExecuteTime": {
     "end_time": "2024-02-25T20:42:01.444626Z",
     "start_time": "2024-02-25T20:41:59.596381Z"
    }
   },
   "outputs": [],
   "source": [
    "import sys\n",
    "\n",
    "import numpy as np\n",
    "\n",
    "sys.path.append(\"../script\")\n",
    "from data_preparation import *\n",
    "from utils import GridScore\n",
    "import pandas as pd\n",
    "import matplotlib.pyplot as plt\n",
    "from sklearn.metrics import roc_curve, auc, confusion_matrix\n",
    "from statsmodels.discrete.discrete_model import Logit"
   ]
  },
  {
   "cell_type": "markdown",
   "source": [
    "# Import et préparation des données"
   ],
   "metadata": {
    "collapsed": false
   },
   "id": "6c2e6735dd75b317"
  },
  {
   "cell_type": "code",
   "execution_count": 3,
   "outputs": [],
   "source": [
    "train = pd.read_csv(\"../data/application_train_vf.csv\")"
   ],
   "metadata": {
    "collapsed": false,
    "ExecuteTime": {
     "end_time": "2024-02-25T20:42:03.851327Z",
     "start_time": "2024-02-25T20:42:01.446137Z"
    }
   },
   "id": "cb7ad9a26d1ca1a5"
  },
  {
   "cell_type": "code",
   "execution_count": 4,
   "outputs": [
    {
     "name": "stdout",
     "output_type": "stream",
     "text": [
      "Type des variables convertis ✅\n",
      "Valeurs manquantes traitées ✅\n",
      "Discrétisation des variables numériques en cours ... \n"
     ]
    },
    {
     "name": "stderr",
     "output_type": "stream",
     "text": [
      "100%|██████████| 4/4 [01:15<00:00, 18.79s/it]\n"
     ]
    },
    {
     "name": "stdout",
     "output_type": "stream",
     "text": [
      "Variables numériques discrétisées ✅\n",
      "Discrétisation des variables catégorielles en cours ... \n",
      "Variables catégorielles discrétisées ✅\n"
     ]
    }
   ],
   "source": [
    "dataprep = DataPreparation(train, 0.3)\n",
    "train_prepared = dataprep.get_prepared_data()"
   ],
   "metadata": {
    "collapsed": false,
    "ExecuteTime": {
     "end_time": "2024-02-25T20:43:53.251151Z",
     "start_time": "2024-02-25T20:42:05.724228Z"
    }
   },
   "id": "cfa67b02c946a089"
  },
  {
   "cell_type": "code",
   "execution_count": 25,
   "outputs": [],
   "source": [
    "train_prepared.to_csv(\"../data/train_prepared_70.csv\")\n",
    "test_prepared.to_csv(\"../data/test_prepared_70.csv\")\n",
    "#train_prepared = pd.read_csv(\"../data/train_preparedV2.csv\", index_col=[0])\n",
    "#test_prepared = pd.read_csv(\"../data/test_preparedv2.csv\", index_col=[0])"
   ],
   "metadata": {
    "collapsed": false,
    "ExecuteTime": {
     "end_time": "2024-02-24T15:38:29.404102Z",
     "start_time": "2024-02-24T15:38:25.782331Z"
    }
   },
   "id": "bc6e6cacbd553b75"
  },
  {
   "cell_type": "code",
   "execution_count": 5,
   "outputs": [],
   "source": [
    "df_train = train_prepared.iloc[:280000,:]\n",
    "df_test = train_prepared.iloc[280000:,:]"
   ],
   "metadata": {
    "collapsed": false,
    "ExecuteTime": {
     "end_time": "2024-02-25T20:44:01.216876Z",
     "start_time": "2024-02-25T20:44:01.210971Z"
    }
   },
   "id": "67c11535c464b91e"
  },
  {
   "cell_type": "markdown",
   "source": [
    "# Modélisation"
   ],
   "metadata": {
    "collapsed": false
   },
   "id": "6a9748c39f3c2b7b"
  },
  {
   "cell_type": "code",
   "execution_count": 21,
   "outputs": [],
   "source": [
    "features = ['REGION_RATING_CLIENT_W_CITY', 'DAYS_CREDIT_ENDDATE_disc_int', 'RATE_DOWN_PAYMENT_disc_int', 'AMT_PAYMENT_disc_int', 'NAME_INCOME_TYPE_discret', 'OCCUPATION_TYPE_discret']"
   ],
   "metadata": {
    "collapsed": false,
    "ExecuteTime": {
     "end_time": "2024-02-25T21:01:38.681726Z",
     "start_time": "2024-02-25T21:01:38.664247Z"
    }
   },
   "id": "3366bdc2ae479a76"
  },
  {
   "cell_type": "code",
   "execution_count": 22,
   "outputs": [
    {
     "data": {
      "text/plain": "       REGION_RATING_CLIENT_W_CITY DAYS_CREDIT_ENDDATE_disc_int  \\\n0                            trois             [-58.0;214193.0]   \n1                            trois            [-155271.0;-59.0]   \n2                          un_deux             [-58.0;214193.0]   \n3                          un_deux            [-155271.0;-59.0]   \n4                          un_deux             [-58.0;214193.0]   \n...                            ...                          ...   \n306102                       trois             [-58.0;214193.0]   \n306103                     un_deux            [-155271.0;-59.0]   \n306104                     un_deux             [-58.0;214193.0]   \n306105                       trois             [-58.0;214193.0]   \n306106                     un_deux             [-58.0;214193.0]   \n\n       RATE_DOWN_PAYMENT_disc_int     AMT_PAYMENT_disc_int  \\\n0                     [-0.0;0.21]  [148458.51;25537053.78]   \n1                     [-0.0;0.21]  [148458.51;25537053.78]   \n2                     [-0.0;0.21]          [0.0;148457.61]   \n3                     [-0.0;0.21]          [0.0;148457.61]   \n4                     [-0.0;0.21]          [0.0;148457.61]   \n...                           ...                      ...   \n306102                [-0.0;0.21]          [0.0;148457.61]   \n306103                [0.21;4.48]  [148458.51;25537053.78]   \n306104                [-0.0;0.21]          [0.0;148457.61]   \n306105                [-0.0;0.21]          [0.0;148457.61]   \n306106                [-0.0;0.21]          [0.0;148457.61]   \n\n       NAME_INCOME_TYPE_discret OCCUPATION_TYPE_discret  \n0                   high_income             low_skilled  \n1                   high_income             low_skilled  \n2                   high_income             low_skilled  \n3                   high_income             low_skilled  \n4                   high_income             low_skilled  \n...                         ...                     ...  \n306102                    other             low_skilled  \n306103              high_income             low_skilled  \n306104              high_income             low_skilled  \n306105                    other             low_skilled  \n306106              high_income             low_skilled  \n\n[306107 rows x 6 columns]",
      "text/html": "<div>\n<style scoped>\n    .dataframe tbody tr th:only-of-type {\n        vertical-align: middle;\n    }\n\n    .dataframe tbody tr th {\n        vertical-align: top;\n    }\n\n    .dataframe thead th {\n        text-align: right;\n    }\n</style>\n<table border=\"1\" class=\"dataframe\">\n  <thead>\n    <tr style=\"text-align: right;\">\n      <th></th>\n      <th>REGION_RATING_CLIENT_W_CITY</th>\n      <th>DAYS_CREDIT_ENDDATE_disc_int</th>\n      <th>RATE_DOWN_PAYMENT_disc_int</th>\n      <th>AMT_PAYMENT_disc_int</th>\n      <th>NAME_INCOME_TYPE_discret</th>\n      <th>OCCUPATION_TYPE_discret</th>\n    </tr>\n  </thead>\n  <tbody>\n    <tr>\n      <th>0</th>\n      <td>trois</td>\n      <td>[-58.0;214193.0]</td>\n      <td>[-0.0;0.21]</td>\n      <td>[148458.51;25537053.78]</td>\n      <td>high_income</td>\n      <td>low_skilled</td>\n    </tr>\n    <tr>\n      <th>1</th>\n      <td>trois</td>\n      <td>[-155271.0;-59.0]</td>\n      <td>[-0.0;0.21]</td>\n      <td>[148458.51;25537053.78]</td>\n      <td>high_income</td>\n      <td>low_skilled</td>\n    </tr>\n    <tr>\n      <th>2</th>\n      <td>un_deux</td>\n      <td>[-58.0;214193.0]</td>\n      <td>[-0.0;0.21]</td>\n      <td>[0.0;148457.61]</td>\n      <td>high_income</td>\n      <td>low_skilled</td>\n    </tr>\n    <tr>\n      <th>3</th>\n      <td>un_deux</td>\n      <td>[-155271.0;-59.0]</td>\n      <td>[-0.0;0.21]</td>\n      <td>[0.0;148457.61]</td>\n      <td>high_income</td>\n      <td>low_skilled</td>\n    </tr>\n    <tr>\n      <th>4</th>\n      <td>un_deux</td>\n      <td>[-58.0;214193.0]</td>\n      <td>[-0.0;0.21]</td>\n      <td>[0.0;148457.61]</td>\n      <td>high_income</td>\n      <td>low_skilled</td>\n    </tr>\n    <tr>\n      <th>...</th>\n      <td>...</td>\n      <td>...</td>\n      <td>...</td>\n      <td>...</td>\n      <td>...</td>\n      <td>...</td>\n    </tr>\n    <tr>\n      <th>306102</th>\n      <td>trois</td>\n      <td>[-58.0;214193.0]</td>\n      <td>[-0.0;0.21]</td>\n      <td>[0.0;148457.61]</td>\n      <td>other</td>\n      <td>low_skilled</td>\n    </tr>\n    <tr>\n      <th>306103</th>\n      <td>un_deux</td>\n      <td>[-155271.0;-59.0]</td>\n      <td>[0.21;4.48]</td>\n      <td>[148458.51;25537053.78]</td>\n      <td>high_income</td>\n      <td>low_skilled</td>\n    </tr>\n    <tr>\n      <th>306104</th>\n      <td>un_deux</td>\n      <td>[-58.0;214193.0]</td>\n      <td>[-0.0;0.21]</td>\n      <td>[0.0;148457.61]</td>\n      <td>high_income</td>\n      <td>low_skilled</td>\n    </tr>\n    <tr>\n      <th>306105</th>\n      <td>trois</td>\n      <td>[-58.0;214193.0]</td>\n      <td>[-0.0;0.21]</td>\n      <td>[0.0;148457.61]</td>\n      <td>other</td>\n      <td>low_skilled</td>\n    </tr>\n    <tr>\n      <th>306106</th>\n      <td>un_deux</td>\n      <td>[-58.0;214193.0]</td>\n      <td>[-0.0;0.21]</td>\n      <td>[0.0;148457.61]</td>\n      <td>high_income</td>\n      <td>low_skilled</td>\n    </tr>\n  </tbody>\n</table>\n<p>306107 rows × 6 columns</p>\n</div>"
     },
     "execution_count": 22,
     "metadata": {},
     "output_type": "execute_result"
    }
   ],
   "source": [
    "train_prepared[features]"
   ],
   "metadata": {
    "collapsed": false,
    "ExecuteTime": {
     "end_time": "2024-02-25T21:01:39.612199Z",
     "start_time": "2024-02-25T21:01:39.593531Z"
    }
   },
   "id": "d383566adb8f4c7f"
  },
  {
   "cell_type": "code",
   "execution_count": 23,
   "outputs": [],
   "source": [
    "reference_categories = {\n",
    "    'REGION_RATING_CLIENT_W_CITY' : \"un_deux\",\n",
    "    'DAYS_CREDIT_ENDDATE_disc_int' : \"[-155271.0;-59.0]\",\n",
    "    'RATE_DOWN_PAYMENT_disc_int' : \"[0.21;4.48]\",\n",
    "    'AMT_PAYMENT_disc_int' : \"[148458.51;25537053.78]\",\n",
    "    'NAME_INCOME_TYPE_discret' : \"other\",\n",
    "    'OCCUPATION_TYPE_discret' : \"high_skilled\",\n",
    "    'NAME_CONTRACT_TYPE' : \"Revolving loans\"\n",
    "}\n"
   ],
   "metadata": {
    "collapsed": false,
    "ExecuteTime": {
     "end_time": "2024-02-25T21:01:39.618038Z",
     "start_time": "2024-02-25T21:01:39.613456Z"
    }
   },
   "id": "249f5ea098dc6b4"
  },
  {
   "cell_type": "code",
   "execution_count": 24,
   "outputs": [],
   "source": [
    "formula_parts = []\n",
    "for var in features:\n",
    "    if var in reference_categories:\n",
    "        ref_category = reference_categories[var]\n",
    "        formula_parts.append(f'C({var}, Treatment(reference=\"{ref_category}\"))')\n",
    "\n",
    "formula = 'TARGET ~ ' + ' + '.join(formula_parts)"
   ],
   "metadata": {
    "collapsed": false,
    "ExecuteTime": {
     "end_time": "2024-02-25T21:01:39.623379Z",
     "start_time": "2024-02-25T21:01:39.618268Z"
    }
   },
   "id": "9043ac1a12a3f906"
  },
  {
   "cell_type": "code",
   "execution_count": 25,
   "outputs": [
    {
     "name": "stdout",
     "output_type": "stream",
     "text": [
      "Optimization terminated successfully.\n",
      "         Current function value: 0.261441\n",
      "         Iterations 7\n"
     ]
    }
   ],
   "source": [
    "model = Logit.from_formula(formula=formula, data=df_train)\n",
    "logit_model = model.fit()"
   ],
   "metadata": {
    "collapsed": false,
    "ExecuteTime": {
     "end_time": "2024-02-25T21:01:44.033070Z",
     "start_time": "2024-02-25T21:01:39.985458Z"
    }
   },
   "id": "bb8f778b54d972ad"
  },
  {
   "cell_type": "markdown",
   "source": [
    "# Prédiction"
   ],
   "metadata": {
    "collapsed": false
   },
   "id": "94aa359bb0eb4a45"
  },
  {
   "cell_type": "code",
   "execution_count": 26,
   "outputs": [
    {
     "data": {
      "text/plain": "<Figure size 800x600 with 1 Axes>",
      "image/png": "[encoded data removed]"
     },
     "metadata": {},
     "output_type": "display_data"
    },
    {
     "data": {
      "text/plain": "0.23540347744736412"
     },
     "execution_count": 26,
     "metadata": {},
     "output_type": "execute_result"
    }
   ],
   "source": [
    "pred = logit_model.predict(df_test)\n",
    "fpr, tpr, thresholds = roc_curve(df_test[\"TARGET\"],pred)\n",
    "roc_auc = auc(fpr, tpr)\n",
    "\n",
    "plt.figure(figsize=(8, 6))\n",
    "plt.plot(fpr, tpr, color='darkorange', lw=2, label='ROC curve (AUC = {:.2f})'.format(roc_auc))\n",
    "plt.plot([0, 1], [0, 1], color='navy', lw=2, linestyle='--')\n",
    "plt.xlabel('False Positive Rate')\n",
    "plt.ylabel('True Positive Rate')\n",
    "plt.title('Receiver Operating Characteristic (ROC) Curve')\n",
    "plt.legend(loc='lower right')\n",
    "plt.show()\n",
    "roc_auc = auc(fpr, tpr)\n",
    "gini_coefficient = 2 * roc_auc - 1\n",
    "gini_coefficient"
   ],
   "metadata": {
    "collapsed": false,
    "ExecuteTime": {
     "end_time": "2024-02-25T21:01:44.694260Z",
     "start_time": "2024-02-25T21:01:44.086477Z"
    }
   },
   "id": "a871c36ce03a159"
  },
  {
   "cell_type": "markdown",
   "source": [
    "# Grille de score"
   ],
   "metadata": {
    "collapsed": false
   },
   "id": "e9cc4452cabbaa3"
  },
  {
   "cell_type": "code",
   "execution_count": 27,
   "outputs": [],
   "source": [
    "GS = GridScore(train_prepared, logit_model)\n",
    "grid_score = GS.compute_grid_score()"
   ],
   "metadata": {
    "collapsed": false,
    "ExecuteTime": {
     "end_time": "2024-02-25T21:01:46.835654Z",
     "start_time": "2024-02-25T21:01:44.643607Z"
    }
   },
   "id": "f99d003c7bf3a9f6"
  },
  {
   "cell_type": "code",
   "execution_count": 28,
   "outputs": [
    {
     "data": {
      "text/plain": "                        Variable                     Modality  Coefficient  \\\n0                      Intercept                            -    -3.870713   \n1    REGION_RATING_CLIENT_W_CITY                  un_deux_ref     0.000000   \n2    REGION_RATING_CLIENT_W_CITY                        trois     0.470000   \n3   DAYS_CREDIT_ENDDATE_disc_int        [-155271.0;-59.0]_ref     0.000000   \n4   DAYS_CREDIT_ENDDATE_disc_int             [-58.0;214193.0]     0.460000   \n5     RATE_DOWN_PAYMENT_disc_int              [0.21;4.48]_ref     0.000000   \n6     RATE_DOWN_PAYMENT_disc_int                  [-0.0;0.21]     0.250000   \n7           AMT_PAYMENT_disc_int  [148458.51;25537053.78]_ref     0.000000   \n8           AMT_PAYMENT_disc_int              [0.0;148457.61]     0.190000   \n9       NAME_INCOME_TYPE_discret                    other_ref     0.000000   \n10      NAME_INCOME_TYPE_discret                  high_income     0.550000   \n11       OCCUPATION_TYPE_discret             high_skilled_ref     0.000000   \n12       OCCUPATION_TYPE_discret                  low_skilled     0.430000   \n\n    P-Value       Score  Contribution  Pcentage_Défaut  Pcentage_Classe  \n0       0.0    0.000000           0.0             0.00             0.00  \n1       0.0  200.000000          20.0             6.13            85.76  \n2       0.0    0.000000          20.0             1.55            14.24  \n3       0.0  195.744681          20.0             2.75            47.00  \n4       0.0    0.000000          20.0             4.92            53.00  \n5       0.0  106.382979          11.0             1.92            31.04  \n6       0.0    0.000000          11.0             5.75            68.96  \n7       0.0   80.851064           8.0             4.80            67.93  \n8       0.0    0.000000           8.0             2.87            32.07  \n9       0.0  234.042553          23.0             1.31            25.11  \n10      0.0    0.000000          23.0             6.36            74.89  \n11      0.0  182.978723          18.0             1.35            23.12  \n12      0.0    0.000000          18.0             6.32            76.88  ",
      "text/html": "<div>\n<style scoped>\n    .dataframe tbody tr th:only-of-type {\n        vertical-align: middle;\n    }\n\n    .dataframe tbody tr th {\n        vertical-align: top;\n    }\n\n    .dataframe thead th {\n        text-align: right;\n    }\n</style>\n<table border=\"1\" class=\"dataframe\">\n  <thead>\n    <tr style=\"text-align: right;\">\n      <th></th>\n      <th>Variable</th>\n      <th>Modality</th>\n      <th>Coefficient</th>\n      <th>P-Value</th>\n      <th>Score</th>\n      <th>Contribution</th>\n      <th>Pcentage_Défaut</th>\n      <th>Pcentage_Classe</th>\n    </tr>\n  </thead>\n  <tbody>\n    <tr>\n      <th>0</th>\n      <td>Intercept</td>\n      <td>-</td>\n      <td>-3.870713</td>\n      <td>0.0</td>\n      <td>0.000000</td>\n      <td>0.0</td>\n      <td>0.00</td>\n      <td>0.00</td>\n    </tr>\n    <tr>\n      <th>1</th>\n      <td>REGION_RATING_CLIENT_W_CITY</td>\n      <td>un_deux_ref</td>\n      <td>0.000000</td>\n      <td>0.0</td>\n      <td>200.000000</td>\n      <td>20.0</td>\n      <td>6.13</td>\n      <td>85.76</td>\n    </tr>\n    <tr>\n      <th>2</th>\n      <td>REGION_RATING_CLIENT_W_CITY</td>\n      <td>trois</td>\n      <td>0.470000</td>\n      <td>0.0</td>\n      <td>0.000000</td>\n      <td>20.0</td>\n      <td>1.55</td>\n      <td>14.24</td>\n    </tr>\n    <tr>\n      <th>3</th>\n      <td>DAYS_CREDIT_ENDDATE_disc_int</td>\n      <td>[-155271.0;-59.0]_ref</td>\n      <td>0.000000</td>\n      <td>0.0</td>\n      <td>195.744681</td>\n      <td>20.0</td>\n      <td>2.75</td>\n      <td>47.00</td>\n    </tr>\n    <tr>\n      <th>4</th>\n      <td>DAYS_CREDIT_ENDDATE_disc_int</td>\n      <td>[-58.0;214193.0]</td>\n      <td>0.460000</td>\n      <td>0.0</td>\n      <td>0.000000</td>\n      <td>20.0</td>\n      <td>4.92</td>\n      <td>53.00</td>\n    </tr>\n    <tr>\n      <th>5</th>\n      <td>RATE_DOWN_PAYMENT_disc_int</td>\n      <td>[0.21;4.48]_ref</td>\n      <td>0.000000</td>\n      <td>0.0</td>\n      <td>106.382979</td>\n      <td>11.0</td>\n      <td>1.92</td>\n      <td>31.04</td>\n    </tr>\n    <tr>\n      <th>6</th>\n      <td>RATE_DOWN_PAYMENT_disc_int</td>\n      <td>[-0.0;0.21]</td>\n      <td>0.250000</td>\n      <td>0.0</td>\n      <td>0.000000</td>\n      <td>11.0</td>\n      <td>5.75</td>\n      <td>68.96</td>\n    </tr>\n    <tr>\n      <th>7</th>\n      <td>AMT_PAYMENT_disc_int</td>\n      <td>[148458.51;25537053.78]_ref</td>\n      <td>0.000000</td>\n      <td>0.0</td>\n      <td>80.851064</td>\n      <td>8.0</td>\n      <td>4.80</td>\n      <td>67.93</td>\n    </tr>\n    <tr>\n      <th>8</th>\n      <td>AMT_PAYMENT_disc_int</td>\n      <td>[0.0;148457.61]</td>\n      <td>0.190000</td>\n      <td>0.0</td>\n      <td>0.000000</td>\n      <td>8.0</td>\n      <td>2.87</td>\n      <td>32.07</td>\n    </tr>\n    <tr>\n      <th>9</th>\n      <td>NAME_INCOME_TYPE_discret</td>\n      <td>other_ref</td>\n      <td>0.000000</td>\n      <td>0.0</td>\n      <td>234.042553</td>\n      <td>23.0</td>\n      <td>1.31</td>\n      <td>25.11</td>\n    </tr>\n    <tr>\n      <th>10</th>\n      <td>NAME_INCOME_TYPE_discret</td>\n      <td>high_income</td>\n      <td>0.550000</td>\n      <td>0.0</td>\n      <td>0.000000</td>\n      <td>23.0</td>\n      <td>6.36</td>\n      <td>74.89</td>\n    </tr>\n    <tr>\n      <th>11</th>\n      <td>OCCUPATION_TYPE_discret</td>\n      <td>high_skilled_ref</td>\n      <td>0.000000</td>\n      <td>0.0</td>\n      <td>182.978723</td>\n      <td>18.0</td>\n      <td>1.35</td>\n      <td>23.12</td>\n    </tr>\n    <tr>\n      <th>12</th>\n      <td>OCCUPATION_TYPE_discret</td>\n      <td>low_skilled</td>\n      <td>0.430000</td>\n      <td>0.0</td>\n      <td>0.000000</td>\n      <td>18.0</td>\n      <td>6.32</td>\n      <td>76.88</td>\n    </tr>\n  </tbody>\n</table>\n</div>"
     },
     "execution_count": 28,
     "metadata": {},
     "output_type": "execute_result"
    }
   ],
   "source": [
    "grid_score"
   ],
   "metadata": {
    "collapsed": false,
    "ExecuteTime": {
     "end_time": "2024-02-25T21:01:46.846245Z",
     "start_time": "2024-02-25T21:01:46.842553Z"
    }
   },
   "id": "87634b5bf9c06063"
  },
  {
   "cell_type": "markdown",
   "source": [
    "## Calcul des scores individuels"
   ],
   "metadata": {
    "collapsed": false
   },
   "id": "132b7e2b01745bec"
  },
  {
   "cell_type": "code",
   "execution_count": 29,
   "outputs": [],
   "source": [
    "df_score = GS.get_individual_score()"
   ],
   "metadata": {
    "collapsed": false,
    "ExecuteTime": {
     "end_time": "2024-02-25T21:02:07.399609Z",
     "start_time": "2024-02-25T21:02:02.217604Z"
    }
   },
   "id": "62380a152d3601"
  },
  {
   "cell_type": "code",
   "execution_count": 33,
   "outputs": [
    {
     "data": {
      "text/plain": "(array([ 3828.,     0.,  5819.,   737.,     0.,  6259., 22406.,  3152.,\n        39510.,  8437.,   211., 45618.,  2401., 20076., 30021., 20266.,\n         2587., 30933., 14239.,  8963.,  4528., 14448.,  8344.,     0.,\n         9541.,     0.,  2014.,   353.,     0.,  1416.]),\n array([   0.        ,   33.33333333,   66.66666667,  100.        ,\n         133.33333333,  166.66666667,  200.        ,  233.33333333,\n         266.66666667,  300.        ,  333.33333333,  366.66666667,\n         400.        ,  433.33333333,  466.66666667,  500.        ,\n         533.33333333,  566.66666667,  600.        ,  633.33333333,\n         666.66666667,  700.        ,  733.33333333,  766.66666667,\n         800.        ,  833.33333333,  866.66666667,  900.        ,\n         933.33333333,  966.66666667, 1000.        ]),\n <BarContainer object of 30 artists>)"
     },
     "execution_count": 33,
     "metadata": {},
     "output_type": "execute_result"
    },
    {
     "data": {
      "text/plain": "<Figure size 640x480 with 1 Axes>",
      "image/png": "[encoded data removed]"
     },
     "metadata": {},
     "output_type": "display_data"
    }
   ],
   "source": [
    "plt.hist(df_score[\"Score_ind\"], bins=30)"
   ],
   "metadata": {
    "collapsed": false,
    "ExecuteTime": {
     "end_time": "2024-02-25T21:11:47.263983Z",
     "start_time": "2024-02-25T21:11:47.118832Z"
    }
   },
   "id": "f113cc9c3e8dc48f"
  },
  {
   "cell_type": "code",
   "execution_count": 31,
   "outputs": [],
   "source": [
    "df_score.to_csv(\"../data/df_score.csv\")"
   ],
   "metadata": {
    "collapsed": false,
    "ExecuteTime": {
     "end_time": "2024-02-25T21:02:17.657193Z",
     "start_time": "2024-02-25T21:02:15.368313Z"
    }
   },
   "id": "5e3938a41f1ee964"
  },
  {
   "cell_type": "code",
   "execution_count": null,
   "outputs": [],
   "source": [],
   "metadata": {
    "collapsed": false
   },
   "id": "b73cca07793afe7a"
  }
 ],
 "metadata": {
  "kernelspec": {
   "display_name": "Python 3",
   "language": "python",
   "name": "python3"
  },
  "language_info": {
   "codemirror_mode": {
    "name": "ipython",
    "version": 2
   },
   "file_extension": ".py",
   "mimetype": "text/x-python",
   "name": "python",
   "nbconvert_exporter": "python",
   "pygments_lexer": "ipython2",
   "version": "2.7.6"
  }
 },
 "nbformat": 4,
 "nbformat_minor": 5
}
