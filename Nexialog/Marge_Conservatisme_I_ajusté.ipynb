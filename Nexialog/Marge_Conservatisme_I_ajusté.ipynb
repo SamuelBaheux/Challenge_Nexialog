{
 "cells": [
  {
   "cell_type": "code",
   "execution_count": 1,
   "id": "initial_id",
   "metadata": {
    "ExecuteTime": {
     "end_time": "2024-02-26T14:51:28.961474Z",
     "start_time": "2024-02-26T14:51:28.575960Z"
    },
    "collapsed": true
   },
   "outputs": [],
   "source": [
    "import pandas as pd\n",
    "import numpy as np"
   ]
  },
  {
   "cell_type": "code",
   "execution_count": 2,
   "id": "d28f6fe35024c091",
   "metadata": {
    "ExecuteTime": {
     "end_time": "2024-02-26T14:51:29.693067Z",
     "start_time": "2024-02-26T14:51:28.960554Z"
    },
    "collapsed": false
   },
   "outputs": [
    {
     "data": {
      "text/html": [
       "<div>\n",
       "<style scoped>\n",
       "    .dataframe tbody tr th:only-of-type {\n",
       "        vertical-align: middle;\n",
       "    }\n",
       "\n",
       "    .dataframe tbody tr th {\n",
       "        vertical-align: top;\n",
       "    }\n",
       "\n",
       "    .dataframe thead th {\n",
       "        text-align: right;\n",
       "    }\n",
       "</style>\n",
       "<table border=\"1\" class=\"dataframe\">\n",
       "  <thead>\n",
       "    <tr style=\"text-align: right;\">\n",
       "      <th></th>\n",
       "      <th>date_mensuelle</th>\n",
       "      <th>TARGET</th>\n",
       "      <th>DAYS_CREDIT_ENDDATE_disc_int</th>\n",
       "      <th>DAYS_FIRST_DRAWING_disc_int</th>\n",
       "      <th>RATE_DOWN_PAYMENT_disc_int</th>\n",
       "      <th>AMT_PAYMENT_disc_int</th>\n",
       "      <th>NAME_INCOME_TYPE_discret</th>\n",
       "      <th>NAME_EDUCATION_TYPE_discret</th>\n",
       "      <th>NAME_FAMILY_STATUS_discret</th>\n",
       "      <th>OCCUPATION_TYPE_discret</th>\n",
       "      <th>...</th>\n",
       "      <th>FLAG_WORK_PHONE</th>\n",
       "      <th>FLAG_PHONE</th>\n",
       "      <th>LIVE_CITY_NOT_WORK_CITY</th>\n",
       "      <th>NAME_CONTRACT_TYPE</th>\n",
       "      <th>FLAG_OWN_CAR</th>\n",
       "      <th>FLAG_OWN_REALTY</th>\n",
       "      <th>CODE_GENDER</th>\n",
       "      <th>Score_ind</th>\n",
       "      <th>date_trimestrielle</th>\n",
       "      <th>Classes</th>\n",
       "    </tr>\n",
       "  </thead>\n",
       "  <tbody>\n",
       "    <tr>\n",
       "      <th>0</th>\n",
       "      <td>2013-01-01</td>\n",
       "      <td>0</td>\n",
       "      <td>[0.0;214193.0]</td>\n",
       "      <td>[730486.0;9131075.0]</td>\n",
       "      <td>[-0.0;0.2]</td>\n",
       "      <td>[150217.24;25537053.78]</td>\n",
       "      <td>high_income</td>\n",
       "      <td>lower</td>\n",
       "      <td>couple</td>\n",
       "      <td>low_skilled</td>\n",
       "      <td>...</td>\n",
       "      <td>zero</td>\n",
       "      <td>un</td>\n",
       "      <td>zero</td>\n",
       "      <td>Cash loans</td>\n",
       "      <td>Y</td>\n",
       "      <td>Y</td>\n",
       "      <td>M</td>\n",
       "      <td>80.851064</td>\n",
       "      <td>2013_1</td>\n",
       "      <td>1</td>\n",
       "    </tr>\n",
       "    <tr>\n",
       "      <th>1</th>\n",
       "      <td>2013-01-01</td>\n",
       "      <td>0</td>\n",
       "      <td>[-155271.0;-1.0]</td>\n",
       "      <td>[730486.0;9131075.0]</td>\n",
       "      <td>[-0.0;0.2]</td>\n",
       "      <td>[150217.24;25537053.78]</td>\n",
       "      <td>high_income</td>\n",
       "      <td>higher</td>\n",
       "      <td>couple</td>\n",
       "      <td>low_skilled</td>\n",
       "      <td>...</td>\n",
       "      <td>zero</td>\n",
       "      <td>un</td>\n",
       "      <td>zero</td>\n",
       "      <td>Cash loans</td>\n",
       "      <td>N</td>\n",
       "      <td>Y</td>\n",
       "      <td>F</td>\n",
       "      <td>276.595745</td>\n",
       "      <td>2013_1</td>\n",
       "      <td>2</td>\n",
       "    </tr>\n",
       "    <tr>\n",
       "      <th>2</th>\n",
       "      <td>2013-01-01</td>\n",
       "      <td>0</td>\n",
       "      <td>[0.0;214193.0]</td>\n",
       "      <td>[-3505.0;730484.0]</td>\n",
       "      <td>[-0.0;0.2]</td>\n",
       "      <td>[0.0;150215.44]</td>\n",
       "      <td>high_income</td>\n",
       "      <td>lower</td>\n",
       "      <td>couple</td>\n",
       "      <td>low_skilled</td>\n",
       "      <td>...</td>\n",
       "      <td>un</td>\n",
       "      <td>zero</td>\n",
       "      <td>zero</td>\n",
       "      <td>Cash loans</td>\n",
       "      <td>Y</td>\n",
       "      <td>N</td>\n",
       "      <td>F</td>\n",
       "      <td>200.000000</td>\n",
       "      <td>2013_1</td>\n",
       "      <td>2</td>\n",
       "    </tr>\n",
       "    <tr>\n",
       "      <th>3</th>\n",
       "      <td>2013-01-01</td>\n",
       "      <td>0</td>\n",
       "      <td>[-155271.0;-1.0]</td>\n",
       "      <td>[-3505.0;730484.0]</td>\n",
       "      <td>[-0.0;0.2]</td>\n",
       "      <td>[0.0;150215.44]</td>\n",
       "      <td>high_income</td>\n",
       "      <td>lower</td>\n",
       "      <td>alone</td>\n",
       "      <td>low_skilled</td>\n",
       "      <td>...</td>\n",
       "      <td>zero</td>\n",
       "      <td>zero</td>\n",
       "      <td>zero</td>\n",
       "      <td>Cash loans</td>\n",
       "      <td>Y</td>\n",
       "      <td>Y</td>\n",
       "      <td>F</td>\n",
       "      <td>395.744681</td>\n",
       "      <td>2013_1</td>\n",
       "      <td>3</td>\n",
       "    </tr>\n",
       "    <tr>\n",
       "      <th>4</th>\n",
       "      <td>2013-01-01</td>\n",
       "      <td>0</td>\n",
       "      <td>[0.0;214193.0]</td>\n",
       "      <td>[-3505.0;730484.0]</td>\n",
       "      <td>[-0.0;0.2]</td>\n",
       "      <td>[0.0;150215.44]</td>\n",
       "      <td>high_income</td>\n",
       "      <td>lower</td>\n",
       "      <td>alone</td>\n",
       "      <td>low_skilled</td>\n",
       "      <td>...</td>\n",
       "      <td>zero</td>\n",
       "      <td>un</td>\n",
       "      <td>un</td>\n",
       "      <td>Cash loans</td>\n",
       "      <td>N</td>\n",
       "      <td>N</td>\n",
       "      <td>F</td>\n",
       "      <td>200.000000</td>\n",
       "      <td>2013_1</td>\n",
       "      <td>2</td>\n",
       "    </tr>\n",
       "    <tr>\n",
       "      <th>...</th>\n",
       "      <td>...</td>\n",
       "      <td>...</td>\n",
       "      <td>...</td>\n",
       "      <td>...</td>\n",
       "      <td>...</td>\n",
       "      <td>...</td>\n",
       "      <td>...</td>\n",
       "      <td>...</td>\n",
       "      <td>...</td>\n",
       "      <td>...</td>\n",
       "      <td>...</td>\n",
       "      <td>...</td>\n",
       "      <td>...</td>\n",
       "      <td>...</td>\n",
       "      <td>...</td>\n",
       "      <td>...</td>\n",
       "      <td>...</td>\n",
       "      <td>...</td>\n",
       "      <td>...</td>\n",
       "      <td>...</td>\n",
       "      <td>...</td>\n",
       "    </tr>\n",
       "    <tr>\n",
       "      <th>306102</th>\n",
       "      <td>2020-12-01</td>\n",
       "      <td>0</td>\n",
       "      <td>[0.0;214193.0]</td>\n",
       "      <td>[-3505.0;730484.0]</td>\n",
       "      <td>[-0.0;0.2]</td>\n",
       "      <td>[0.0;150215.44]</td>\n",
       "      <td>Low_income</td>\n",
       "      <td>lower</td>\n",
       "      <td>couple</td>\n",
       "      <td>low_skilled</td>\n",
       "      <td>...</td>\n",
       "      <td>zero</td>\n",
       "      <td>zero</td>\n",
       "      <td>zero</td>\n",
       "      <td>Cash loans</td>\n",
       "      <td>N</td>\n",
       "      <td>N</td>\n",
       "      <td>F</td>\n",
       "      <td>234.042553</td>\n",
       "      <td>2020_4</td>\n",
       "      <td>2</td>\n",
       "    </tr>\n",
       "    <tr>\n",
       "      <th>306103</th>\n",
       "      <td>2020-12-01</td>\n",
       "      <td>0</td>\n",
       "      <td>[-155271.0;-1.0]</td>\n",
       "      <td>[730486.0;9131075.0]</td>\n",
       "      <td>[0.2;4.48]</td>\n",
       "      <td>[150217.24;25537053.78]</td>\n",
       "      <td>high_income</td>\n",
       "      <td>lower</td>\n",
       "      <td>alone</td>\n",
       "      <td>low_skilled</td>\n",
       "      <td>...</td>\n",
       "      <td>zero</td>\n",
       "      <td>zero</td>\n",
       "      <td>un</td>\n",
       "      <td>Cash loans</td>\n",
       "      <td>N</td>\n",
       "      <td>Y</td>\n",
       "      <td>F</td>\n",
       "      <td>582.978723</td>\n",
       "      <td>2020_4</td>\n",
       "      <td>5</td>\n",
       "    </tr>\n",
       "    <tr>\n",
       "      <th>306104</th>\n",
       "      <td>2020-12-01</td>\n",
       "      <td>0</td>\n",
       "      <td>[0.0;214193.0]</td>\n",
       "      <td>[-3505.0;730484.0]</td>\n",
       "      <td>[-0.0;0.2]</td>\n",
       "      <td>[0.0;150215.44]</td>\n",
       "      <td>high_income</td>\n",
       "      <td>lower</td>\n",
       "      <td>couple</td>\n",
       "      <td>low_skilled</td>\n",
       "      <td>...</td>\n",
       "      <td>zero</td>\n",
       "      <td>un</td>\n",
       "      <td>zero</td>\n",
       "      <td>Cash loans</td>\n",
       "      <td>N</td>\n",
       "      <td>Y</td>\n",
       "      <td>F</td>\n",
       "      <td>200.000000</td>\n",
       "      <td>2020_4</td>\n",
       "      <td>2</td>\n",
       "    </tr>\n",
       "    <tr>\n",
       "      <th>306105</th>\n",
       "      <td>2020-12-01</td>\n",
       "      <td>0</td>\n",
       "      <td>[0.0;214193.0]</td>\n",
       "      <td>[-3505.0;730484.0]</td>\n",
       "      <td>[-0.0;0.2]</td>\n",
       "      <td>[0.0;150215.44]</td>\n",
       "      <td>Low_income</td>\n",
       "      <td>lower</td>\n",
       "      <td>alone</td>\n",
       "      <td>low_skilled</td>\n",
       "      <td>...</td>\n",
       "      <td>zero</td>\n",
       "      <td>zero</td>\n",
       "      <td>zero</td>\n",
       "      <td>Cash loans</td>\n",
       "      <td>N</td>\n",
       "      <td>Y</td>\n",
       "      <td>M</td>\n",
       "      <td>234.042553</td>\n",
       "      <td>2020_4</td>\n",
       "      <td>2</td>\n",
       "    </tr>\n",
       "    <tr>\n",
       "      <th>306106</th>\n",
       "      <td>2020-12-01</td>\n",
       "      <td>1</td>\n",
       "      <td>[0.0;214193.0]</td>\n",
       "      <td>[-3505.0;730484.0]</td>\n",
       "      <td>[-0.0;0.2]</td>\n",
       "      <td>[0.0;150215.44]</td>\n",
       "      <td>high_income</td>\n",
       "      <td>lower</td>\n",
       "      <td>couple</td>\n",
       "      <td>low_skilled</td>\n",
       "      <td>...</td>\n",
       "      <td>un</td>\n",
       "      <td>zero</td>\n",
       "      <td>un</td>\n",
       "      <td>Cash loans</td>\n",
       "      <td>N</td>\n",
       "      <td>N</td>\n",
       "      <td>M</td>\n",
       "      <td>200.000000</td>\n",
       "      <td>2020_4</td>\n",
       "      <td>2</td>\n",
       "    </tr>\n",
       "  </tbody>\n",
       "</table>\n",
       "<p>306107 rows × 25 columns</p>\n",
       "</div>"
      ],
      "text/plain": [
       "       date_mensuelle  TARGET DAYS_CREDIT_ENDDATE_disc_int  \\\n",
       "0          2013-01-01       0               [0.0;214193.0]   \n",
       "1          2013-01-01       0             [-155271.0;-1.0]   \n",
       "2          2013-01-01       0               [0.0;214193.0]   \n",
       "3          2013-01-01       0             [-155271.0;-1.0]   \n",
       "4          2013-01-01       0               [0.0;214193.0]   \n",
       "...               ...     ...                          ...   \n",
       "306102     2020-12-01       0               [0.0;214193.0]   \n",
       "306103     2020-12-01       0             [-155271.0;-1.0]   \n",
       "306104     2020-12-01       0               [0.0;214193.0]   \n",
       "306105     2020-12-01       0               [0.0;214193.0]   \n",
       "306106     2020-12-01       1               [0.0;214193.0]   \n",
       "\n",
       "       DAYS_FIRST_DRAWING_disc_int RATE_DOWN_PAYMENT_disc_int  \\\n",
       "0             [730486.0;9131075.0]                 [-0.0;0.2]   \n",
       "1             [730486.0;9131075.0]                 [-0.0;0.2]   \n",
       "2               [-3505.0;730484.0]                 [-0.0;0.2]   \n",
       "3               [-3505.0;730484.0]                 [-0.0;0.2]   \n",
       "4               [-3505.0;730484.0]                 [-0.0;0.2]   \n",
       "...                            ...                        ...   \n",
       "306102          [-3505.0;730484.0]                 [-0.0;0.2]   \n",
       "306103        [730486.0;9131075.0]                 [0.2;4.48]   \n",
       "306104          [-3505.0;730484.0]                 [-0.0;0.2]   \n",
       "306105          [-3505.0;730484.0]                 [-0.0;0.2]   \n",
       "306106          [-3505.0;730484.0]                 [-0.0;0.2]   \n",
       "\n",
       "           AMT_PAYMENT_disc_int NAME_INCOME_TYPE_discret  \\\n",
       "0       [150217.24;25537053.78]              high_income   \n",
       "1       [150217.24;25537053.78]              high_income   \n",
       "2               [0.0;150215.44]              high_income   \n",
       "3               [0.0;150215.44]              high_income   \n",
       "4               [0.0;150215.44]              high_income   \n",
       "...                         ...                      ...   \n",
       "306102          [0.0;150215.44]               Low_income   \n",
       "306103  [150217.24;25537053.78]              high_income   \n",
       "306104          [0.0;150215.44]              high_income   \n",
       "306105          [0.0;150215.44]               Low_income   \n",
       "306106          [0.0;150215.44]              high_income   \n",
       "\n",
       "       NAME_EDUCATION_TYPE_discret NAME_FAMILY_STATUS_discret  \\\n",
       "0                            lower                     couple   \n",
       "1                           higher                     couple   \n",
       "2                            lower                     couple   \n",
       "3                            lower                      alone   \n",
       "4                            lower                      alone   \n",
       "...                            ...                        ...   \n",
       "306102                       lower                     couple   \n",
       "306103                       lower                      alone   \n",
       "306104                       lower                     couple   \n",
       "306105                       lower                      alone   \n",
       "306106                       lower                     couple   \n",
       "\n",
       "       OCCUPATION_TYPE_discret  ... FLAG_WORK_PHONE FLAG_PHONE  \\\n",
       "0                  low_skilled  ...            zero         un   \n",
       "1                  low_skilled  ...            zero         un   \n",
       "2                  low_skilled  ...              un       zero   \n",
       "3                  low_skilled  ...            zero       zero   \n",
       "4                  low_skilled  ...            zero         un   \n",
       "...                        ...  ...             ...        ...   \n",
       "306102             low_skilled  ...            zero       zero   \n",
       "306103             low_skilled  ...            zero       zero   \n",
       "306104             low_skilled  ...            zero         un   \n",
       "306105             low_skilled  ...            zero       zero   \n",
       "306106             low_skilled  ...              un       zero   \n",
       "\n",
       "       LIVE_CITY_NOT_WORK_CITY NAME_CONTRACT_TYPE FLAG_OWN_CAR  \\\n",
       "0                         zero         Cash loans            Y   \n",
       "1                         zero         Cash loans            N   \n",
       "2                         zero         Cash loans            Y   \n",
       "3                         zero         Cash loans            Y   \n",
       "4                           un         Cash loans            N   \n",
       "...                        ...                ...          ...   \n",
       "306102                    zero         Cash loans            N   \n",
       "306103                      un         Cash loans            N   \n",
       "306104                    zero         Cash loans            N   \n",
       "306105                    zero         Cash loans            N   \n",
       "306106                      un         Cash loans            N   \n",
       "\n",
       "       FLAG_OWN_REALTY CODE_GENDER   Score_ind date_trimestrielle Classes  \n",
       "0                    Y           M   80.851064             2013_1       1  \n",
       "1                    Y           F  276.595745             2013_1       2  \n",
       "2                    N           F  200.000000             2013_1       2  \n",
       "3                    Y           F  395.744681             2013_1       3  \n",
       "4                    N           F  200.000000             2013_1       2  \n",
       "...                ...         ...         ...                ...     ...  \n",
       "306102               N           F  234.042553             2020_4       2  \n",
       "306103               Y           F  582.978723             2020_4       5  \n",
       "306104               Y           F  200.000000             2020_4       2  \n",
       "306105               Y           M  234.042553             2020_4       2  \n",
       "306106               N           M  200.000000             2020_4       2  \n",
       "\n",
       "[306107 rows x 25 columns]"
      ]
     },
     "execution_count": 2,
     "metadata": {},
     "output_type": "execute_result"
    }
   ],
   "source": [
    "df = pd.read_csv(\"../data/df_segmentation.csv\", index_col=[0])\n",
    "df[\"date_mensuelle\"] = pd.to_datetime(df[\"date_mensuelle\"])\n",
    "df"
   ]
  },
  {
   "cell_type": "markdown",
   "id": "e91a3a799ebe862b",
   "metadata": {
    "collapsed": false
   },
   "source": [
    "# MOC C"
   ]
  },
  {
   "cell_type": "code",
   "execution_count": 12,
   "id": "fc22be3053d435d2",
   "metadata": {
    "ExecuteTime": {
     "end_time": "2024-02-26T14:51:29.904798Z",
     "start_time": "2024-02-26T14:51:29.898614Z"
    },
    "collapsed": false
   },
   "outputs": [
    {
     "data": {
      "text/plain": [
       "{1: 0.17708784076157508,\n",
       " 2: 0.1113129079806275,\n",
       " 3: 0.08011071110594975,\n",
       " 4: 0.06767496258844383,\n",
       " 5: 0.05113112908178934,\n",
       " 6: 0.03869101428313144,\n",
       " 7: 0.03712362734679419}"
      ]
     },
     "execution_count": 12,
     "metadata": {},
     "output_type": "execute_result"
    }
   ],
   "source": [
    "resultats = df.groupby(\"Classes\").agg(moyenne_TARGET=(\"TARGET\", \"mean\")).to_dict()[\"moyenne_TARGET\"]\n",
    "# convertit le résultat de l'opération groupby en un dictionnaire \n",
    "# les clés sont les valeurs uniques de la colonne \"Classes\" et les valeurs sont les moyennes calculées pour chaque groupe. \n",
    "# L'index \"moyenne_TARGET\" est utilisé pour accéder aux valeurs de moyenne dans le dictionnaire résultant.\n",
    "\n",
    "resultats"
   ]
  },
  {
   "cell_type": "code",
   "execution_count": 4,
   "id": "4164ff9f89c66551",
   "metadata": {
    "ExecuteTime": {
     "end_time": "2024-02-26T14:51:30.364325Z",
     "start_time": "2024-02-26T14:51:30.357548Z"
    },
    "collapsed": false
   },
   "outputs": [
    {
     "data": {
      "text/plain": [
       "{1: 0.17558199689601656,\n",
       " 2: 0.11039856923863056,\n",
       " 3: 0.0796209282499653,\n",
       " 4: 0.06726292921028129,\n",
       " 5: 0.050026666666666664,\n",
       " 6: 0.0385176539247155,\n",
       " 7: 0.03720294586591755}"
      ]
     },
     "execution_count": 4,
     "metadata": {},
     "output_type": "execute_result"
    }
   ],
   "source": [
    "# resultats"
   ]
  },
  {
   "cell_type": "code",
   "execution_count": 5,
   "id": "d407000f977faabf",
   "metadata": {
    "ExecuteTime": {
     "end_time": "2024-02-26T14:51:30.475894Z",
     "start_time": "2024-02-26T14:51:30.467823Z"
    },
    "collapsed": false
   },
   "outputs": [],
   "source": [
    "def Boostrapping_Classes(classe):\n",
    "    df_classe = df[df['Classes'] == classe]\n",
    "    tx_defaut_liste = []\n",
    "\n",
    "    for _ in range(1000):\n",
    "        echantillon = df_classe[\"TARGET\"].sample(n=len(df_classe), replace=True)\n",
    "        tx_defaut_liste.append(echantillon.mean())\n",
    "        \n",
    "    tx_defaut_liste = np.array(tx_defaut_liste)\n",
    "\n",
    "    decile9 = np.percentile(tx_defaut_liste, 90)\n",
    "\n",
    "    MOC_C = decile9 - resultats[classe]\n",
    "    \n",
    "    return(classe, resultats[classe], decile9, MOC_C)"
   ]
  },
  {
   "cell_type": "code",
   "execution_count": 6,
   "id": "934435464fc9ae6b",
   "metadata": {
    "ExecuteTime": {
     "end_time": "2024-02-26T14:51:30.598379Z",
     "start_time": "2024-02-26T14:51:30.591723Z"
    },
    "collapsed": false
   },
   "outputs": [],
   "source": [
    "MOC_C = pd.DataFrame(columns = [\"Classe\", \"LRA\", \"Décile9\", \"Moc_C\"])"
   ]
  },
  {
   "cell_type": "code",
   "execution_count": 7,
   "id": "cc909699ebc2913f",
   "metadata": {
    "ExecuteTime": {
     "end_time": "2024-02-26T14:51:35.515074Z",
     "start_time": "2024-02-26T14:51:30.604279Z"
    },
    "collapsed": false
   },
   "outputs": [],
   "source": [
    "for i in range(1,8):\n",
    "    classe, LRA, decile9, MOC_C_classe = Boostrapping_Classes(i)\n",
    "    MOC_C.loc[len(MOC_C)] = [classe, LRA, decile9, MOC_C_classe]"
   ]
  },
  {
   "cell_type": "code",
   "execution_count": 8,
   "id": "e69ff148f41720c6",
   "metadata": {
    "ExecuteTime": {
     "end_time": "2024-02-26T14:51:35.525124Z",
     "start_time": "2024-02-26T14:51:35.517298Z"
    },
    "collapsed": false
   },
   "outputs": [
    {
     "data": {
      "text/html": [
       "<div>\n",
       "<style scoped>\n",
       "    .dataframe tbody tr th:only-of-type {\n",
       "        vertical-align: middle;\n",
       "    }\n",
       "\n",
       "    .dataframe tbody tr th {\n",
       "        vertical-align: top;\n",
       "    }\n",
       "\n",
       "    .dataframe thead th {\n",
       "        text-align: right;\n",
       "    }\n",
       "</style>\n",
       "<table border=\"1\" class=\"dataframe\">\n",
       "  <thead>\n",
       "    <tr style=\"text-align: right;\">\n",
       "      <th></th>\n",
       "      <th>Classe</th>\n",
       "      <th>LRA</th>\n",
       "      <th>Décile9</th>\n",
       "      <th>Moc_C</th>\n",
       "    </tr>\n",
       "  </thead>\n",
       "  <tbody>\n",
       "    <tr>\n",
       "      <th>0</th>\n",
       "      <td>1.0</td>\n",
       "      <td>0.175582</td>\n",
       "      <td>0.180341</td>\n",
       "      <td>0.004759</td>\n",
       "    </tr>\n",
       "    <tr>\n",
       "      <th>1</th>\n",
       "      <td>2.0</td>\n",
       "      <td>0.110399</td>\n",
       "      <td>0.111884</td>\n",
       "      <td>0.001486</td>\n",
       "    </tr>\n",
       "    <tr>\n",
       "      <th>2</th>\n",
       "      <td>3.0</td>\n",
       "      <td>0.079621</td>\n",
       "      <td>0.081227</td>\n",
       "      <td>0.001606</td>\n",
       "    </tr>\n",
       "    <tr>\n",
       "      <th>3</th>\n",
       "      <td>4.0</td>\n",
       "      <td>0.067263</td>\n",
       "      <td>0.068406</td>\n",
       "      <td>0.001143</td>\n",
       "    </tr>\n",
       "    <tr>\n",
       "      <th>4</th>\n",
       "      <td>5.0</td>\n",
       "      <td>0.050027</td>\n",
       "      <td>0.051200</td>\n",
       "      <td>0.001173</td>\n",
       "    </tr>\n",
       "    <tr>\n",
       "      <th>5</th>\n",
       "      <td>6.0</td>\n",
       "      <td>0.038518</td>\n",
       "      <td>0.040050</td>\n",
       "      <td>0.001532</td>\n",
       "    </tr>\n",
       "    <tr>\n",
       "      <th>6</th>\n",
       "      <td>7.0</td>\n",
       "      <td>0.037203</td>\n",
       "      <td>0.039329</td>\n",
       "      <td>0.002126</td>\n",
       "    </tr>\n",
       "  </tbody>\n",
       "</table>\n",
       "</div>"
      ],
      "text/plain": [
       "   Classe       LRA   Décile9     Moc_C\n",
       "0     1.0  0.175582  0.180341  0.004759\n",
       "1     2.0  0.110399  0.111884  0.001486\n",
       "2     3.0  0.079621  0.081227  0.001606\n",
       "3     4.0  0.067263  0.068406  0.001143\n",
       "4     5.0  0.050027  0.051200  0.001173\n",
       "5     6.0  0.038518  0.040050  0.001532\n",
       "6     7.0  0.037203  0.039329  0.002126"
      ]
     },
     "execution_count": 8,
     "metadata": {},
     "output_type": "execute_result"
    }
   ],
   "source": [
    "MOC_C"
   ]
  },
  {
   "cell_type": "markdown",
   "id": "68069f1e267d46fa",
   "metadata": {
    "collapsed": false
   },
   "source": [
    "# MOC A\n",
    "### Valeurs manquantes dans les variables explicatives"
   ]
  },
  {
   "cell_type": "code",
   "execution_count": 3,
   "id": "e3943a41144152a5",
   "metadata": {
    "ExecuteTime": {
     "end_time": "2024-02-26T14:51:35.525441Z",
     "start_time": "2024-02-26T14:51:35.522774Z"
    },
    "collapsed": false
   },
   "outputs": [
    {
     "data": {
      "text/plain": [
       "6"
      ]
     },
     "execution_count": 3,
     "metadata": {},
     "output_type": "execute_result"
    }
   ],
   "source": [
    "var_explicatives = ['REGION_RATING_CLIENT_W_CITY', 'DAYS_CREDIT_ENDDATE', 'RATE_DOWN_PAYMENT', 'AMT_PAYMENT', 'NAME_INCOME_TYPE', 'OCCUPATION_TYPE']\n",
    "len(var_explicatives)"
   ]
  },
  {
   "cell_type": "code",
   "execution_count": 4,
   "id": "d59f33e7aa2ecd89",
   "metadata": {
    "ExecuteTime": {
     "end_time": "2024-02-26T14:52:04.935726Z",
     "start_time": "2024-02-26T14:51:52.138266Z"
    },
    "collapsed": false
   },
   "outputs": [],
   "source": [
    "train = pd.read_csv(\"../data/application_train_vf.csv\")\n",
    "df_bur = pd.read_csv('../data/bureau.csv')\n",
    "df_bur_group = df_bur[['DAYS_CREDIT_ENDDATE', 'SK_ID_CURR']].groupby('SK_ID_CURR').sum()\n",
    "df_bur_group.reset_index(inplace=True)\n",
    "\n",
    "df_prev = pd.read_csv('../data/previous_application.csv')\n",
    "df_prev_group = df_prev[['SK_ID_CURR', 'DAYS_FIRST_DRAWING', 'RATE_DOWN_PAYMENT']].groupby(\n",
    "    'SK_ID_CURR').sum()\n",
    "df_prev_group.reset_index(inplace=True)\n",
    "\n",
    "df_ins = pd.read_csv('../data/installments_payments.csv')\n",
    "df_ins_group = df_ins[['SK_ID_CURR', 'AMT_PAYMENT']].groupby('SK_ID_CURR').sum()\n",
    "df_ins_group.reset_index(inplace=True)\n",
    "\n",
    "train = train.merge(df_bur_group, on='SK_ID_CURR', how='left')\n",
    "train = train.merge(df_prev_group, on='SK_ID_CURR', how='left')\n",
    "train = train.merge(df_ins_group, on='SK_ID_CURR', how='left')"
   ]
  },
  {
   "cell_type": "code",
   "execution_count": 5,
   "id": "c6694a21c5272417",
   "metadata": {
    "ExecuteTime": {
     "end_time": "2024-02-26T14:52:04.962924Z",
     "start_time": "2024-02-26T14:52:04.934272Z"
    },
    "collapsed": false
   },
   "outputs": [
    {
     "data": {
      "text/plain": [
       "REGION_RATING_CLIENT_W_CITY        0\n",
       "DAYS_CREDIT_ENDDATE            43764\n",
       "RATE_DOWN_PAYMENT              16395\n",
       "AMT_PAYMENT                    15810\n",
       "NAME_INCOME_TYPE                   0\n",
       "OCCUPATION_TYPE                96049\n",
       "dtype: int64"
      ]
     },
     "execution_count": 5,
     "metadata": {},
     "output_type": "execute_result"
    }
   ],
   "source": [
    "train[var_explicatives].isna().sum()"
   ]
  },
  {
   "cell_type": "markdown",
   "id": "958c1738dec3edfa",
   "metadata": {
    "collapsed": false
   },
   "source": [
    "### Période Manquante"
   ]
  },
  {
   "cell_type": "code",
   "execution_count": 6,
   "id": "bcbf201af3252123",
   "metadata": {
    "ExecuteTime": {
     "end_time": "2024-02-26T14:52:04.972971Z",
     "start_time": "2024-02-26T14:52:04.961479Z"
    },
    "collapsed": false
   },
   "outputs": [
    {
     "name": "stdout",
     "output_type": "stream",
     "text": [
      "2020\n",
      "2013\n"
     ]
    }
   ],
   "source": [
    "max_year = df[\"date_mensuelle\"].dt.year.max()\n",
    "print(max_year)\n",
    "min_year = df[\"date_mensuelle\"].dt.year.min()\n",
    "print(min_year)"
   ]
  },
  {
   "cell_type": "code",
   "execution_count": 7,
   "id": "00d2bbef",
   "metadata": {},
   "outputs": [
    {
     "name": "stdout",
     "output_type": "stream",
     "text": [
      "Date de début : 2013_1\n",
      "Date de fin : 2020_4\n"
     ]
    }
   ],
   "source": [
    "# Examiner les dates de début et de fin dans vos données\n",
    "date_debut = df['date_trimestrielle'].min()\n",
    "date_fin = df['date_trimestrielle'].max()\n",
    "print(\"Date de début :\", date_debut)\n",
    "print(\"Date de fin :\", date_fin)"
   ]
  },
  {
   "cell_type": "code",
   "execution_count": 8,
   "id": "9d2b281e8e264e53",
   "metadata": {
    "ExecuteTime": {
     "end_time": "2024-02-26T14:52:04.987645Z",
     "start_time": "2024-02-26T14:52:04.980718Z"
    },
    "collapsed": false
   },
   "outputs": [
    {
     "name": "stdout",
     "output_type": "stream",
     "text": [
      "Périodes manquantes dans les données : set()\n"
     ]
    }
   ],
   "source": [
    "periodes_attendues = [f\"{year}_{quarter}\" for year in range(min_year, max_year) for quarter in range(1, 5)]\n",
    "periodes_reelles = df['date_trimestrielle'].unique()\n",
    "\n",
    "periodes_manquantes = set(periodes_attendues) - set(periodes_reelles)\n",
    "print(\"Périodes manquantes dans les données :\", periodes_manquantes)"
   ]
  },
  {
   "cell_type": "markdown",
   "id": "7d4ecd6c7bba4990",
   "metadata": {
    "collapsed": false
   },
   "source": [
    "### Crise Covid"
   ]
  },
  {
   "cell_type": "code",
   "execution_count": 9,
   "id": "a63973b110adcbf6",
   "metadata": {
    "ExecuteTime": {
     "end_time": "2024-02-26T14:52:05.118868Z",
     "start_time": "2024-02-26T14:52:05.005473Z"
    },
    "collapsed": false
   },
   "outputs": [],
   "source": [
    "df['periode_crise_covid'] = ((df['date_trimestrielle'] == '2020_1') \n",
    "| (df['date_trimestrielle'] == '2020_2'))\n",
    "\n",
    "sans_covid = df[df['periode_crise_covid'] == False].copy()"
   ]
  },
  {
   "cell_type": "markdown",
   "id": "f51a7adb",
   "metadata": {},
   "source": [
    "## Version 2 ajusté "
   ]
  },
  {
   "cell_type": "code",
   "execution_count": 38,
   "id": "3365921d",
   "metadata": {},
   "outputs": [
    {
     "data": {
      "text/html": [
       "<div>\n",
       "<style scoped>\n",
       "    .dataframe tbody tr th:only-of-type {\n",
       "        vertical-align: middle;\n",
       "    }\n",
       "\n",
       "    .dataframe tbody tr th {\n",
       "        vertical-align: top;\n",
       "    }\n",
       "\n",
       "    .dataframe thead th {\n",
       "        text-align: right;\n",
       "    }\n",
       "</style>\n",
       "<table border=\"1\" class=\"dataframe\">\n",
       "  <thead>\n",
       "    <tr style=\"text-align: right;\">\n",
       "      <th></th>\n",
       "      <th>moyenne_TARGET</th>\n",
       "      <th>nb_individus</th>\n",
       "      <th>taux_individus</th>\n",
       "    </tr>\n",
       "    <tr>\n",
       "      <th>Classes</th>\n",
       "      <th></th>\n",
       "      <th></th>\n",
       "      <th></th>\n",
       "    </tr>\n",
       "  </thead>\n",
       "  <tbody>\n",
       "    <tr>\n",
       "      <th>1</th>\n",
       "      <td>0.177088</td>\n",
       "      <td>9244</td>\n",
       "      <td>3.019859</td>\n",
       "    </tr>\n",
       "    <tr>\n",
       "      <th>2</th>\n",
       "      <td>0.111313</td>\n",
       "      <td>75984</td>\n",
       "      <td>24.822693</td>\n",
       "    </tr>\n",
       "    <tr>\n",
       "      <th>3</th>\n",
       "      <td>0.080111</td>\n",
       "      <td>51666</td>\n",
       "      <td>16.878412</td>\n",
       "    </tr>\n",
       "    <tr>\n",
       "      <th>4</th>\n",
       "      <td>0.067675</td>\n",
       "      <td>68829</td>\n",
       "      <td>22.485275</td>\n",
       "    </tr>\n",
       "    <tr>\n",
       "      <th>5</th>\n",
       "      <td>0.051131</td>\n",
       "      <td>58614</td>\n",
       "      <td>19.148206</td>\n",
       "    </tr>\n",
       "    <tr>\n",
       "      <th>6</th>\n",
       "      <td>0.038691</td>\n",
       "      <td>27655</td>\n",
       "      <td>9.034423</td>\n",
       "    </tr>\n",
       "    <tr>\n",
       "      <th>7</th>\n",
       "      <td>0.037124</td>\n",
       "      <td>14115</td>\n",
       "      <td>4.611133</td>\n",
       "    </tr>\n",
       "  </tbody>\n",
       "</table>\n",
       "</div>"
      ],
      "text/plain": [
       "         moyenne_TARGET  nb_individus  taux_individus\n",
       "Classes                                              \n",
       "1              0.177088          9244        3.019859\n",
       "2              0.111313         75984       24.822693\n",
       "3              0.080111         51666       16.878412\n",
       "4              0.067675         68829       22.485275\n",
       "5              0.051131         58614       19.148206\n",
       "6              0.038691         27655        9.034423\n",
       "7              0.037124         14115        4.611133"
      ]
     },
     "execution_count": 38,
     "metadata": {},
     "output_type": "execute_result"
    }
   ],
   "source": [
    "resultats_I = df.groupby(\"Classes\").agg(\n",
    "    moyenne_TARGET=(\"TARGET\", \"mean\"),\n",
    "    nb_individus=(\"TARGET\", \"size\")\n",
    ")\n",
    "resultats_I['taux_individus'] = (resultats_I['nb_individus'] / df.shape[0]) * 100\n",
    "\n",
    "resultats_I"
   ]
  },
  {
   "cell_type": "code",
   "execution_count": 19,
   "id": "5a9f32b9",
   "metadata": {},
   "outputs": [
    {
     "data": {
      "text/plain": [
       "306107"
      ]
     },
     "execution_count": 19,
     "metadata": {},
     "output_type": "execute_result"
    }
   ],
   "source": [
    "sum(nb_total_individus_par_classe)"
   ]
  },
  {
   "cell_type": "code",
   "execution_count": 28,
   "id": "bd1f7c33",
   "metadata": {},
   "outputs": [],
   "source": [
    "Covid_défaut = pd.DataFrame(columns = [\"Classe\", \"Taux avec Covid\", \"Taux sans Covid\", \"Marge Conservatisme (%)\"])"
   ]
  },
  {
   "cell_type": "code",
   "execution_count": 29,
   "id": "c31fc046d67dd4d2",
   "metadata": {
    "ExecuteTime": {
     "end_time": "2024-02-26T14:52:05.204336Z",
     "start_time": "2024-02-26T14:52:05.125060Z"
    },
    "collapsed": false
   },
   "outputs": [],
   "source": [
    "for i in range(1,8): # 7 segmentations \n",
    "    tx_ss_covid = sans_covid[sans_covid[\"Classes\"]==i][\"TARGET\"].mean()\n",
    "    \n",
    "    marge = ((tx_ss_covid/resultats[i])-1)*100\n",
    "    \n",
    "    #ajouter une ligne au df \"Covid_défaut\" contenant les info suivant : \n",
    "    Covid_défaut.loc[len(Covid_défaut)] = [i, resultats[i], tx_ss_covid, marge]"
   ]
  },
  {
   "cell_type": "markdown",
   "id": "833b68d3",
   "metadata": {},
   "source": [
    "### V1"
   ]
  },
  {
   "cell_type": "code",
   "execution_count": 30,
   "id": "2b725568c301e8ac",
   "metadata": {
    "ExecuteTime": {
     "end_time": "2024-02-26T14:52:05.242650Z",
     "start_time": "2024-02-26T14:52:05.207018Z"
    },
    "collapsed": false
   },
   "outputs": [
    {
     "data": {
      "text/html": [
       "<div>\n",
       "<style scoped>\n",
       "    .dataframe tbody tr th:only-of-type {\n",
       "        vertical-align: middle;\n",
       "    }\n",
       "\n",
       "    .dataframe tbody tr th {\n",
       "        vertical-align: top;\n",
       "    }\n",
       "\n",
       "    .dataframe thead th {\n",
       "        text-align: right;\n",
       "    }\n",
       "</style>\n",
       "<table border=\"1\" class=\"dataframe\">\n",
       "  <thead>\n",
       "    <tr style=\"text-align: right;\">\n",
       "      <th></th>\n",
       "      <th>Classe</th>\n",
       "      <th>Taux avec Covid</th>\n",
       "      <th>Taux sans Covid</th>\n",
       "      <th>Marge Conservatisme (%)</th>\n",
       "    </tr>\n",
       "  </thead>\n",
       "  <tbody>\n",
       "    <tr>\n",
       "      <th>0</th>\n",
       "      <td>1.0</td>\n",
       "      <td>0.177088</td>\n",
       "      <td>0.176708</td>\n",
       "      <td>-0.214633</td>\n",
       "    </tr>\n",
       "    <tr>\n",
       "      <th>1</th>\n",
       "      <td>2.0</td>\n",
       "      <td>0.111313</td>\n",
       "      <td>0.111050</td>\n",
       "      <td>-0.235976</td>\n",
       "    </tr>\n",
       "    <tr>\n",
       "      <th>2</th>\n",
       "      <td>3.0</td>\n",
       "      <td>0.080111</td>\n",
       "      <td>0.080242</td>\n",
       "      <td>0.163658</td>\n",
       "    </tr>\n",
       "    <tr>\n",
       "      <th>3</th>\n",
       "      <td>4.0</td>\n",
       "      <td>0.067675</td>\n",
       "      <td>0.067785</td>\n",
       "      <td>0.163052</td>\n",
       "    </tr>\n",
       "    <tr>\n",
       "      <th>4</th>\n",
       "      <td>5.0</td>\n",
       "      <td>0.051131</td>\n",
       "      <td>0.051119</td>\n",
       "      <td>-0.024128</td>\n",
       "    </tr>\n",
       "    <tr>\n",
       "      <th>5</th>\n",
       "      <td>6.0</td>\n",
       "      <td>0.038691</td>\n",
       "      <td>0.038513</td>\n",
       "      <td>-0.458967</td>\n",
       "    </tr>\n",
       "    <tr>\n",
       "      <th>6</th>\n",
       "      <td>7.0</td>\n",
       "      <td>0.037124</td>\n",
       "      <td>0.037096</td>\n",
       "      <td>-0.074960</td>\n",
       "    </tr>\n",
       "  </tbody>\n",
       "</table>\n",
       "</div>"
      ],
      "text/plain": [
       "   Classe  Taux avec Covid  Taux sans Covid  Marge Conservatisme (%)\n",
       "0     1.0         0.177088         0.176708                -0.214633\n",
       "1     2.0         0.111313         0.111050                -0.235976\n",
       "2     3.0         0.080111         0.080242                 0.163658\n",
       "3     4.0         0.067675         0.067785                 0.163052\n",
       "4     5.0         0.051131         0.051119                -0.024128\n",
       "5     6.0         0.038691         0.038513                -0.458967\n",
       "6     7.0         0.037124         0.037096                -0.074960"
      ]
     },
     "execution_count": 30,
     "metadata": {},
     "output_type": "execute_result"
    }
   ],
   "source": [
    "Covid_défaut"
   ]
  },
  {
   "cell_type": "markdown",
   "id": "f1c1e82e",
   "metadata": {},
   "source": [
    "### V2"
   ]
  },
  {
   "cell_type": "code",
   "execution_count": 37,
   "id": "305d2a83",
   "metadata": {},
   "outputs": [
    {
     "data": {
      "text/html": [
       "<div>\n",
       "<style scoped>\n",
       "    .dataframe tbody tr th:only-of-type {\n",
       "        vertical-align: middle;\n",
       "    }\n",
       "\n",
       "    .dataframe tbody tr th {\n",
       "        vertical-align: top;\n",
       "    }\n",
       "\n",
       "    .dataframe thead th {\n",
       "        text-align: right;\n",
       "    }\n",
       "</style>\n",
       "<table border=\"1\" class=\"dataframe\">\n",
       "  <thead>\n",
       "    <tr style=\"text-align: right;\">\n",
       "      <th></th>\n",
       "      <th>Classe</th>\n",
       "      <th>Taux avec Covid</th>\n",
       "      <th>Taux sans Covid</th>\n",
       "      <th>Marge Conservatisme (%)</th>\n",
       "      <th>Impact ajusté</th>\n",
       "    </tr>\n",
       "  </thead>\n",
       "  <tbody>\n",
       "    <tr>\n",
       "      <th>0</th>\n",
       "      <td>1.0</td>\n",
       "      <td>0.177088</td>\n",
       "      <td>0.176708</td>\n",
       "      <td>-0.214633</td>\n",
       "      <td>-0.006482</td>\n",
       "    </tr>\n",
       "    <tr>\n",
       "      <th>1</th>\n",
       "      <td>2.0</td>\n",
       "      <td>0.111313</td>\n",
       "      <td>0.111050</td>\n",
       "      <td>-0.235976</td>\n",
       "      <td>-0.058576</td>\n",
       "    </tr>\n",
       "    <tr>\n",
       "      <th>2</th>\n",
       "      <td>3.0</td>\n",
       "      <td>0.080111</td>\n",
       "      <td>0.080242</td>\n",
       "      <td>0.163658</td>\n",
       "      <td>0.027623</td>\n",
       "    </tr>\n",
       "    <tr>\n",
       "      <th>3</th>\n",
       "      <td>4.0</td>\n",
       "      <td>0.067675</td>\n",
       "      <td>0.067785</td>\n",
       "      <td>0.163052</td>\n",
       "      <td>0.036663</td>\n",
       "    </tr>\n",
       "    <tr>\n",
       "      <th>4</th>\n",
       "      <td>5.0</td>\n",
       "      <td>0.051131</td>\n",
       "      <td>0.051119</td>\n",
       "      <td>-0.024128</td>\n",
       "      <td>-0.004620</td>\n",
       "    </tr>\n",
       "    <tr>\n",
       "      <th>5</th>\n",
       "      <td>6.0</td>\n",
       "      <td>0.038691</td>\n",
       "      <td>0.038513</td>\n",
       "      <td>-0.458967</td>\n",
       "      <td>-0.041465</td>\n",
       "    </tr>\n",
       "    <tr>\n",
       "      <th>6</th>\n",
       "      <td>7.0</td>\n",
       "      <td>0.037124</td>\n",
       "      <td>0.037096</td>\n",
       "      <td>-0.074960</td>\n",
       "      <td>-0.003457</td>\n",
       "    </tr>\n",
       "  </tbody>\n",
       "</table>\n",
       "</div>"
      ],
      "text/plain": [
       "   Classe  Taux avec Covid  Taux sans Covid  Marge Conservatisme (%)  \\\n",
       "0     1.0         0.177088         0.176708                -0.214633   \n",
       "1     2.0         0.111313         0.111050                -0.235976   \n",
       "2     3.0         0.080111         0.080242                 0.163658   \n",
       "3     4.0         0.067675         0.067785                 0.163052   \n",
       "4     5.0         0.051131         0.051119                -0.024128   \n",
       "5     6.0         0.038691         0.038513                -0.458967   \n",
       "6     7.0         0.037124         0.037096                -0.074960   \n",
       "\n",
       "   Impact ajusté  \n",
       "0      -0.006482  \n",
       "1      -0.058576  \n",
       "2       0.027623  \n",
       "3       0.036663  \n",
       "4      -0.004620  \n",
       "5      -0.041465  \n",
       "6      -0.003457  "
      ]
     },
     "execution_count": 37,
     "metadata": {},
     "output_type": "execute_result"
    }
   ],
   "source": [
    "# Calculer la somme totale des individus par classe\n",
    "total_individus_par_classe = resultats_I['nb_individus']\n",
    "\n",
    "Covid_defaut = Covid_défaut.copy()\n",
    "\n",
    "Covid_defaut['Impact ajusté'] = 0.0\n",
    "\n",
    "for index, row in Covid_defaut.iterrows():\n",
    "    classe = row['Classe']\n",
    "    # Calculer la différence entre le taux de défaut moyen avec et sans la crise COVID-19\n",
    "    difference =  row['Taux sans Covid'] - row['Taux avec Covid']\n",
    "    pourcentage = (difference / row['Taux avec Covid']) * 100\n",
    "    \n",
    "    # Ponderer la difference par le nombre d'individus dans cette classe\n",
    "    poids = total_individus_par_classe.loc[classe]\n",
    "    impact_pondere = pourcentage * poids / total_individus_par_classe.sum()\n",
    "    \n",
    "    # Affecter la valeur ajustée à la colonne correspondante\n",
    "    Covid_defaut.loc[index, 'Impact ajusté'] = impact_pondere\n",
    "\n",
    "Covid_defaut\n"
   ]
  }
 ],
 "metadata": {
  "kernelspec": {
   "display_name": "Python 3",
   "language": "python",
   "name": "python3"
  },
  "language_info": {
   "codemirror_mode": {
    "name": "ipython",
    "version": 3
   },
   "file_extension": ".py",
   "mimetype": "text/x-python",
   "name": "python",
   "nbconvert_exporter": "python",
   "pygments_lexer": "ipython3",
   "version": "3.10.11"
  }
 },
 "nbformat": 4,
 "nbformat_minor": 5
}
