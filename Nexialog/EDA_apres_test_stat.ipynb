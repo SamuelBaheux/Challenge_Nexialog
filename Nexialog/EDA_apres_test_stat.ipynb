{
 "cells": [
  {
   "cell_type": "markdown",
   "id": "adbc215e6518ec69",
   "metadata": {
    "collapsed": false
   },
   "source": [
    "# Imports"
   ]
  },
  {
   "cell_type": "code",
   "execution_count": 1,
   "id": "initial_id",
   "metadata": {
    "ExecuteTime": {
     "end_time": "2024-01-07T17:48:43.162933200Z",
     "start_time": "2024-01-07T17:48:43.040710600Z"
    },
    "collapsed": false
   },
   "outputs": [
    {
     "name": "stdout",
     "output_type": "stream",
     "text": [
      "(CVXPY) Feb 11 01:01:56 PM: Encountered unexpected exception importing solver GLOP:\n",
      "RuntimeError('Unrecognized new version of ortools (9.8.3296). Expected < 9.8.0. Please open a feature request on cvxpy to enable support for this version.')\n",
      "(CVXPY) Feb 11 01:01:56 PM: Encountered unexpected exception importing solver PDLP:\n",
      "RuntimeError('Unrecognized new version of ortools (9.8.3296). Expected < 9.8.0. Please open a feature request on cvxpy to enable support for this version.')\n"
     ]
    }
   ],
   "source": [
    "import pandas as pd\n",
    "import matplotlib.pyplot as plt\n",
    "import seaborn as sns\n",
    "import plotly.express as px\n",
    "from scipy.stats import spearmanr, pearsonr, chi2_contingency\n",
    "\n",
    "import numpy as np\n",
    "import plotly.graph_objects as go\n",
    "from optbinning import BinningProcess"
   ]
  },
  {
   "cell_type": "code",
   "execution_count": 2,
   "id": "6b6c3a90de056b25",
   "metadata": {
    "ExecuteTime": {
     "end_time": "2024-01-07T17:49:23.400300100Z",
     "start_time": "2024-01-07T17:48:43.056640500Z"
    },
    "collapsed": false
   },
   "outputs": [],
   "source": [
    "data = pd.read_csv('./data/application_train_vf.csv')\n",
    "# validation = pd.read_csv('./data/application_test_vf.csv')\n",
    "\n",
    "# bureau = pd.read_csv('./data/bureau.csv')\n",
    "# bureau_balance = pd.read_csv('./data/bureau_balance.csv')\n",
    "\n",
    "# previous_app = pd.read_csv('./data/previous_application.csv')\n",
    "\n",
    "# credit_card = pd.read_csv('./data/credit_card_balance.csv')\n",
    "# install_pay = pd.read_csv('./data/installments_payments.csv')\n",
    "# pos_cash = pd.read_csv('./data/POS_CASH_balance.csv')"
   ]
  },
  {
   "cell_type": "markdown",
   "id": "1d0028277d9f7d1b",
   "metadata": {
    "collapsed": false
   },
   "source": [
    "# Dates"
   ]
  },
  {
   "cell_type": "code",
   "execution_count": 3,
   "id": "f22acfafe89b813",
   "metadata": {
    "ExecuteTime": {
     "end_time": "2024-01-07T17:49:23.524798600Z",
     "start_time": "2024-01-07T17:49:23.461290400Z"
    },
    "collapsed": false
   },
   "outputs": [],
   "source": [
    "data['date_mensuelle'] = pd.to_datetime(data['date_mensuelle'])"
   ]
  },
  {
   "cell_type": "code",
   "execution_count": 4,
   "id": "6e4bc342",
   "metadata": {},
   "outputs": [],
   "source": [
    "data.drop(columns='Unnamed: 0',inplace = True)"
   ]
  },
  {
   "cell_type": "code",
   "execution_count": 5,
   "id": "392ec9f8",
   "metadata": {},
   "outputs": [
    {
     "data": {
      "text/plain": [
       "(306107, 123)"
      ]
     },
     "execution_count": 5,
     "metadata": {},
     "output_type": "execute_result"
    }
   ],
   "source": [
    "data.shape"
   ]
  },
  {
   "cell_type": "markdown",
   "id": "d10598c7",
   "metadata": {},
   "source": [
    "## drop NaN or remplace them by mean"
   ]
  },
  {
   "cell_type": "code",
   "execution_count": 6,
   "id": "bf1381b1",
   "metadata": {},
   "outputs": [
    {
     "name": "stdout",
     "output_type": "stream",
     "text": [
      "OWN_CAR_AGE 65.97758300202217\n",
      "EXT_SOURCE_1 56.37375166200054\n",
      "APARTMENTS_AVG 50.71788622932504\n",
      "BASEMENTAREA_AVG 58.49327196045827\n",
      "YEARS_BEGINEXPLUATATION_AVG 48.75354042867364\n",
      "YEARS_BUILD_AVG 66.4741413950024\n",
      "COMMONAREA_AVG 69.85498534826058\n",
      "ELEVATORS_AVG 53.267974923801155\n",
      "ENTRANCES_AVG 50.31802604971464\n",
      "FLOORSMAX_AVG 49.73064974012355\n",
      "FLOORSMIN_AVG 67.82562960010715\n",
      "LANDAREA_AVG 59.35146860411555\n",
      "LIVINGAPARTMENTS_AVG 68.33492863606516\n",
      "LIVINGAREA_AVG 50.16677174974764\n",
      "NONLIVINGAPARTMENTS_AVG 69.41232967557096\n",
      "NONLIVINGAREA_AVG 55.15326340135965\n",
      "APARTMENTS_MODE 50.71788622932504\n",
      "BASEMENTAREA_MODE 58.49327196045827\n",
      "YEARS_BEGINEXPLUATATION_MODE 48.75354042867364\n",
      "YEARS_BUILD_MODE 66.4741413950024\n",
      "COMMONAREA_MODE 69.85498534826058\n",
      "ELEVATORS_MODE 53.267974923801155\n",
      "ENTRANCES_MODE 50.31802604971464\n",
      "FLOORSMAX_MODE 49.73064974012355\n",
      "FLOORSMIN_MODE 67.82562960010715\n",
      "LANDAREA_MODE 59.35146860411555\n",
      "LIVINGAPARTMENTS_MODE 68.33492863606516\n",
      "LIVINGAREA_MODE 50.16677174974764\n",
      "NONLIVINGAPARTMENTS_MODE 69.41232967557096\n",
      "NONLIVINGAREA_MODE 55.15326340135965\n",
      "APARTMENTS_MEDI 50.71788622932504\n",
      "BASEMENTAREA_MEDI 58.49327196045827\n",
      "YEARS_BEGINEXPLUATATION_MEDI 48.75354042867364\n",
      "YEARS_BUILD_MEDI 66.4741413950024\n",
      "COMMONAREA_MEDI 69.85498534826058\n",
      "ELEVATORS_MEDI 53.267974923801155\n",
      "ENTRANCES_MEDI 50.31802604971464\n",
      "FLOORSMAX_MEDI 49.73064974012355\n",
      "FLOORSMIN_MEDI 67.82562960010715\n",
      "LANDAREA_MEDI 59.35146860411555\n",
      "LIVINGAPARTMENTS_MEDI 68.33492863606516\n",
      "LIVINGAREA_MEDI 50.16677174974764\n",
      "NONLIVINGAPARTMENTS_MEDI 69.41232967557096\n",
      "NONLIVINGAREA_MEDI 55.15326340135965\n",
      "TOTALAREA_MODE 48.2403211948763\n"
     ]
    }
   ],
   "source": [
    "for i in data.select_dtypes(include=['float', 'int']).columns:\n",
    "    if data[i].isna().sum() / len(data[i]) * 100 > 30:\n",
    "        print(i, data[i].isna().sum() / len(data[i]) * 100)\n",
    "        # supprimer les NaN\n",
    "        data.drop(columns = i, axis = 1, inplace= True)\n",
    "    else : data[i].fillna(data[i].mode()[0], inplace = True)"
   ]
  },
  {
   "cell_type": "code",
   "execution_count": 7,
   "id": "f4ec041f",
   "metadata": {},
   "outputs": [
    {
     "data": {
      "text/plain": [
       "(60, 16)"
      ]
     },
     "execution_count": 7,
     "metadata": {},
     "output_type": "execute_result"
    }
   ],
   "source": [
    "numerical_cols = data.select_dtypes(include=['int64', 'float64']).columns.tolist()\n",
    "categorical_cols = data.select_dtypes(include=['object']).columns.tolist()\n",
    "\n",
    "if 'TARGET' in numerical_cols:\n",
    "    numerical_cols.remove('TARGET')\n",
    "\n",
    "len(numerical_cols), len(categorical_cols)"
   ]
  },
  {
   "cell_type": "code",
   "execution_count": 8,
   "id": "a511fecd",
   "metadata": {},
   "outputs": [
    {
     "data": {
      "text/plain": [
       "(306107, 78)"
      ]
     },
     "execution_count": 8,
     "metadata": {},
     "output_type": "execute_result"
    }
   ],
   "source": [
    "data.shape"
   ]
  },
  {
   "cell_type": "code",
   "execution_count": 9,
   "id": "67f366f9",
   "metadata": {},
   "outputs": [
    {
     "data": {
      "text/plain": [
       "(43, 16)"
      ]
     },
     "execution_count": 9,
     "metadata": {},
     "output_type": "execute_result"
    }
   ],
   "source": [
    "dates = data.select_dtypes(include=['datetime64[ns]']).columns.tolist()\n",
    "numeric_columns = data.select_dtypes(include=[np.number]).columns.tolist()\n",
    "categorical_columns = data.select_dtypes(exclude=[np.number, 'datetime64[ns]']).columns.tolist()\n",
    "\n",
    "numeric_columns_specified = [col for col in numeric_columns ]\n",
    "categorical_columns_specified = [col for col in categorical_columns ]\n",
    "\n",
    "significant_numeric_vars = []\n",
    "for col in numeric_columns_specified:\n",
    "    corr, p_value = spearmanr(data[col], data['TARGET'])\n",
    "    if p_value <= 0.05:\n",
    "        significant_numeric_vars.append(col)\n",
    "\n",
    "significant_categorical_vars = []\n",
    "for col in categorical_columns_specified:\n",
    "    contingency_table = pd.crosstab(data[col], data['TARGET'])\n",
    "    chi2, p, dof, expected = chi2_contingency(contingency_table)\n",
    "    if p <= 0.05:\n",
    "        significant_categorical_vars.append(col)\n",
    "\n",
    "len(significant_numeric_vars), len(significant_categorical_vars)"
   ]
  },
  {
   "cell_type": "code",
   "execution_count": 10,
   "id": "435c239d",
   "metadata": {},
   "outputs": [
    {
     "data": {
      "text/plain": [
       "60"
      ]
     },
     "execution_count": 10,
     "metadata": {},
     "output_type": "execute_result"
    }
   ],
   "source": [
    "cols_to_keep = significant_numeric_vars + significant_categorical_vars + dates\n",
    "len(cols_to_keep)"
   ]
  },
  {
   "cell_type": "code",
   "execution_count": 11,
   "id": "cd5e20e4",
   "metadata": {},
   "outputs": [
    {
     "data": {
      "text/plain": [
       "(306107, 60)"
      ]
     },
     "execution_count": 11,
     "metadata": {},
     "output_type": "execute_result"
    }
   ],
   "source": [
    "data = data[cols_to_keep]\n",
    "data.shape"
   ]
  },
  {
   "cell_type": "markdown",
   "id": "8957c73a796c0e9c",
   "metadata": {
    "collapsed": false
   },
   "source": [
    "# Ma liste"
   ]
  },
  {
   "cell_type": "code",
   "execution_count": 12,
   "id": "2ea65824",
   "metadata": {},
   "outputs": [
    {
     "data": {
      "text/plain": [
       "11"
      ]
     },
     "execution_count": 12,
     "metadata": {},
     "output_type": "execute_result"
    }
   ],
   "source": [
    "sous_liste = [\"date_mensuelle\", 'HOUR_APPR_PROCESS_START', 'REG_REGION_NOT_LIVE_REGION',\n",
    "       'REG_REGION_NOT_WORK_REGION', 'LIVE_REGION_NOT_WORK_REGION',\n",
    "       'REG_CITY_NOT_LIVE_CITY', 'REG_CITY_NOT_WORK_CITY',\n",
    "       'LIVE_CITY_NOT_WORK_CITY', 'ORGANIZATION_TYPE', 'EXT_SOURCE_1',\n",
    "       'EXT_SOURCE_2', 'EXT_SOURCE_3', 'APARTMENTS_AVG', 'BASEMENTAREA_AVG',\n",
    "       'YEARS_BEGINEXPLUATATION_AVG', 'YEARS_BUILD_AVG', 'COMMONAREA_AVG',\n",
    "       'ELEVATORS_AVG', 'ENTRANCES_AVG', 'FLOORSMAX_AVG', 'FLOORSMIN_AVG',\n",
    "       'LANDAREA_AVG', 'LIVINGAPARTMENTS_AVG', 'LIVINGAREA_AVG',\n",
    "       'NONLIVINGAPARTMENTS_AVG', 'NONLIVINGAREA_AVG', 'APARTMENTS_MODE',\n",
    "       'BASEMENTAREA_MODE', 'YEARS_BEGINEXPLUATATION_MODE', 'YEARS_BUILD_MODE',\n",
    "       'COMMONAREA_MODE', 'TARGET']\n",
    "len(sous_liste) # 32 \n",
    "\n",
    "list_filtre = [col for col in sous_liste if col in data.columns]\n",
    "len(list_filtre)"
   ]
  },
  {
   "cell_type": "code",
   "execution_count": 13,
   "id": "54788286",
   "metadata": {},
   "outputs": [
    {
     "name": "stdout",
     "output_type": "stream",
     "text": [
      "(306107, 11)\n"
     ]
    },
    {
     "data": {
      "text/html": [
       "<div>\n",
       "<style scoped>\n",
       "    .dataframe tbody tr th:only-of-type {\n",
       "        vertical-align: middle;\n",
       "    }\n",
       "\n",
       "    .dataframe tbody tr th {\n",
       "        vertical-align: top;\n",
       "    }\n",
       "\n",
       "    .dataframe thead th {\n",
       "        text-align: right;\n",
       "    }\n",
       "</style>\n",
       "<table border=\"1\" class=\"dataframe\">\n",
       "  <thead>\n",
       "    <tr style=\"text-align: right;\">\n",
       "      <th></th>\n",
       "      <th>date_mensuelle</th>\n",
       "      <th>HOUR_APPR_PROCESS_START</th>\n",
       "      <th>REG_REGION_NOT_LIVE_REGION</th>\n",
       "      <th>REG_REGION_NOT_WORK_REGION</th>\n",
       "      <th>REG_CITY_NOT_LIVE_CITY</th>\n",
       "      <th>REG_CITY_NOT_WORK_CITY</th>\n",
       "      <th>LIVE_CITY_NOT_WORK_CITY</th>\n",
       "      <th>ORGANIZATION_TYPE</th>\n",
       "      <th>EXT_SOURCE_2</th>\n",
       "      <th>EXT_SOURCE_3</th>\n",
       "      <th>TARGET</th>\n",
       "    </tr>\n",
       "  </thead>\n",
       "  <tbody>\n",
       "    <tr>\n",
       "      <th>0</th>\n",
       "      <td>2013-01-01</td>\n",
       "      <td>9</td>\n",
       "      <td>0</td>\n",
       "      <td>0</td>\n",
       "      <td>0</td>\n",
       "      <td>0</td>\n",
       "      <td>0</td>\n",
       "      <td>Transport: type 3</td>\n",
       "      <td>0.616187</td>\n",
       "      <td>0.651260</td>\n",
       "      <td>0</td>\n",
       "    </tr>\n",
       "    <tr>\n",
       "      <th>1</th>\n",
       "      <td>2013-01-01</td>\n",
       "      <td>10</td>\n",
       "      <td>0</td>\n",
       "      <td>0</td>\n",
       "      <td>0</td>\n",
       "      <td>0</td>\n",
       "      <td>0</td>\n",
       "      <td>University</td>\n",
       "      <td>0.548623</td>\n",
       "      <td>0.413597</td>\n",
       "      <td>0</td>\n",
       "    </tr>\n",
       "    <tr>\n",
       "      <th>2</th>\n",
       "      <td>2013-01-01</td>\n",
       "      <td>10</td>\n",
       "      <td>0</td>\n",
       "      <td>0</td>\n",
       "      <td>0</td>\n",
       "      <td>0</td>\n",
       "      <td>0</td>\n",
       "      <td>Government</td>\n",
       "      <td>0.582081</td>\n",
       "      <td>0.399676</td>\n",
       "      <td>0</td>\n",
       "    </tr>\n",
       "    <tr>\n",
       "      <th>3</th>\n",
       "      <td>2013-01-01</td>\n",
       "      <td>10</td>\n",
       "      <td>0</td>\n",
       "      <td>0</td>\n",
       "      <td>0</td>\n",
       "      <td>0</td>\n",
       "      <td>0</td>\n",
       "      <td>Self-employed</td>\n",
       "      <td>0.607885</td>\n",
       "      <td>0.627991</td>\n",
       "      <td>0</td>\n",
       "    </tr>\n",
       "    <tr>\n",
       "      <th>4</th>\n",
       "      <td>2013-01-01</td>\n",
       "      <td>15</td>\n",
       "      <td>1</td>\n",
       "      <td>1</td>\n",
       "      <td>1</td>\n",
       "      <td>1</td>\n",
       "      <td>1</td>\n",
       "      <td>Industry: type 3</td>\n",
       "      <td>0.091309</td>\n",
       "      <td>0.463275</td>\n",
       "      <td>0</td>\n",
       "    </tr>\n",
       "  </tbody>\n",
       "</table>\n",
       "</div>"
      ],
      "text/plain": [
       "  date_mensuelle  HOUR_APPR_PROCESS_START  REG_REGION_NOT_LIVE_REGION  \\\n",
       "0     2013-01-01                        9                           0   \n",
       "1     2013-01-01                       10                           0   \n",
       "2     2013-01-01                       10                           0   \n",
       "3     2013-01-01                       10                           0   \n",
       "4     2013-01-01                       15                           1   \n",
       "\n",
       "   REG_REGION_NOT_WORK_REGION  REG_CITY_NOT_LIVE_CITY  REG_CITY_NOT_WORK_CITY  \\\n",
       "0                           0                       0                       0   \n",
       "1                           0                       0                       0   \n",
       "2                           0                       0                       0   \n",
       "3                           0                       0                       0   \n",
       "4                           1                       1                       1   \n",
       "\n",
       "   LIVE_CITY_NOT_WORK_CITY  ORGANIZATION_TYPE  EXT_SOURCE_2  EXT_SOURCE_3  \\\n",
       "0                        0  Transport: type 3      0.616187      0.651260   \n",
       "1                        0         University      0.548623      0.413597   \n",
       "2                        0         Government      0.582081      0.399676   \n",
       "3                        0      Self-employed      0.607885      0.627991   \n",
       "4                        1   Industry: type 3      0.091309      0.463275   \n",
       "\n",
       "   TARGET  \n",
       "0       0  \n",
       "1       0  \n",
       "2       0  \n",
       "3       0  \n",
       "4       0  "
      ]
     },
     "execution_count": 13,
     "metadata": {},
     "output_type": "execute_result"
    }
   ],
   "source": [
    "sous_data = data[list_filtre]\n",
    "print(sous_data.shape)\n",
    "sous_data.head()"
   ]
  },
  {
   "cell_type": "code",
   "execution_count": 14,
   "id": "fdcee4d8",
   "metadata": {},
   "outputs": [
    {
     "name": "stdout",
     "output_type": "stream",
     "text": [
      "2\n",
      "1\n",
      "7\n"
     ]
    }
   ],
   "source": [
    "# var num \n",
    "float_columns = sous_data.select_dtypes(include='float').columns\n",
    "\n",
    "# var quali\n",
    "obj_columns = sous_data.select_dtypes(include='object').columns\n",
    "\n",
    "# var indicatrices \n",
    "int_columns = sous_data.select_dtypes(include = 'int').columns \n",
    "\n",
    "print(len(float_columns))\n",
    "print(len(obj_columns))\n",
    "print(len(int_columns))\n",
    "# oublie pas dropper 'target'"
   ]
  },
  {
   "cell_type": "code",
   "execution_count": 15,
   "metadata": {},
   "outputs": [
    {
     "name": "stdout",
     "output_type": "stream",
     "text": [
      "variables type float Index(['EXT_SOURCE_2', 'EXT_SOURCE_3'], dtype='object')\n",
      "variables type object Index(['ORGANIZATION_TYPE'], dtype='object')\n",
      "variables type int Index(['HOUR_APPR_PROCESS_START', 'REG_REGION_NOT_LIVE_REGION',\n",
      "       'REG_REGION_NOT_WORK_REGION', 'REG_CITY_NOT_LIVE_CITY',\n",
      "       'REG_CITY_NOT_WORK_CITY', 'LIVE_CITY_NOT_WORK_CITY', 'TARGET'],\n",
      "      dtype='object')\n"
     ]
    }
   ],
   "source": [
    "print(f\"variables type float\", float_columns)\n",
    "\n",
    "print(f\"variables type object\", obj_columns)\n",
    "\n",
    "print(f\"variables type int\", int_columns)"
   ]
  },
  {
   "cell_type": "markdown",
   "id": "3f132053",
   "metadata": {},
   "source": [
    "## Variables numériques "
   ]
  },
  {
   "cell_type": "markdown",
   "id": "e84425c4",
   "metadata": {},
   "source": [
    "### discrétiser les var num"
   ]
  },
  {
   "cell_type": "code",
   "execution_count": 16,
   "id": "3d66b36c",
   "metadata": {},
   "outputs": [
    {
     "data": {
      "image/png": "[encoded data removed]",
      "text/plain": [
       "<Figure size 1500x400 with 2 Axes>"
      ]
     },
     "metadata": {},
     "output_type": "display_data"
    }
   ],
   "source": [
    "# float_columns = sous_data.select_dtypes(include='float').columns\n",
    "num_cols = 2\n",
    "num_rows = (len(float_columns) + 1) // 2  # Ajoutez 1 pour gérer les cas impairs\n",
    "\n",
    "fig, axes = plt.subplots(num_rows, num_cols, figsize=(15, 4 * num_rows))\n",
    "\n",
    "fig.subplots_adjust(hspace=0.5)\n",
    "\n",
    "axes = axes.flatten()\n",
    "\n",
    "for i, col in enumerate(float_columns):\n",
    "    sns.boxplot(x=sous_data[col], ax=axes[i])\n",
    "    axes[i].set_title(f'Boxplot de {col}')\n",
    "plt.show()"
   ]
  },
  {
   "cell_type": "code",
   "execution_count": 17,
   "id": "37b8b526",
   "metadata": {},
   "outputs": [
    {
     "data": {
      "image/png": "[encoded data removed]",
      "text/plain": [
       "<Figure size 1500x400 with 2 Axes>"
      ]
     },
     "metadata": {},
     "output_type": "display_data"
    }
   ],
   "source": [
    "num_cols = 2\n",
    "num_rows = (len(float_columns) + 1) // 2  # Ajoutez 1 pour gérer les cas impairs\n",
    "\n",
    "fig, axes = plt.subplots(num_rows, num_cols, figsize=(15, 4 * num_rows))\n",
    "\n",
    "fig.subplots_adjust(hspace=0.5)\n",
    "\n",
    "axes = axes.flatten()\n",
    "\n",
    "for i, col in enumerate(float_columns):\n",
    "    sns.kdeplot(x=data[col], ax=axes[i], fill=True)\n",
    "    axes[i].set_title(f'Kernel Plot de {col}')\n",
    "\n",
    "plt.show()"
   ]
  },
  {
   "cell_type": "markdown",
   "id": "990e0dc9",
   "metadata": {},
   "source": [
    "### Corrélation entre var num "
   ]
  },
  {
   "cell_type": "code",
   "execution_count": 18,
   "id": "f4d0b1b6",
   "metadata": {},
   "outputs": [
    {
     "data": {
      "text/html": [
       "<div>\n",
       "<style scoped>\n",
       "    .dataframe tbody tr th:only-of-type {\n",
       "        vertical-align: middle;\n",
       "    }\n",
       "\n",
       "    .dataframe tbody tr th {\n",
       "        vertical-align: top;\n",
       "    }\n",
       "\n",
       "    .dataframe thead th {\n",
       "        text-align: right;\n",
       "    }\n",
       "</style>\n",
       "<table border=\"1\" class=\"dataframe\">\n",
       "  <thead>\n",
       "    <tr style=\"text-align: right;\">\n",
       "      <th></th>\n",
       "      <th>EXT_SOURCE_2</th>\n",
       "      <th>EXT_SOURCE_3</th>\n",
       "      <th>TARGET</th>\n",
       "    </tr>\n",
       "  </thead>\n",
       "  <tbody>\n",
       "    <tr>\n",
       "      <th>EXT_SOURCE_2</th>\n",
       "      <td>1.000000</td>\n",
       "      <td>0.053142</td>\n",
       "      <td>-0.143575</td>\n",
       "    </tr>\n",
       "    <tr>\n",
       "      <th>EXT_SOURCE_3</th>\n",
       "      <td>0.053142</td>\n",
       "      <td>1.000000</td>\n",
       "      <td>-0.100629</td>\n",
       "    </tr>\n",
       "    <tr>\n",
       "      <th>TARGET</th>\n",
       "      <td>-0.143575</td>\n",
       "      <td>-0.100629</td>\n",
       "      <td>1.000000</td>\n",
       "    </tr>\n",
       "  </tbody>\n",
       "</table>\n",
       "</div>"
      ],
      "text/plain": [
       "              EXT_SOURCE_2  EXT_SOURCE_3    TARGET\n",
       "EXT_SOURCE_2      1.000000      0.053142 -0.143575\n",
       "EXT_SOURCE_3      0.053142      1.000000 -0.100629\n",
       "TARGET           -0.143575     -0.100629  1.000000"
      ]
     },
     "execution_count": 18,
     "metadata": {},
     "output_type": "execute_result"
    }
   ],
   "source": [
    "corr_matrix = sous_data.select_dtypes(include='number').corr(method='spearman')\n",
    "col_corr = np.transpose(corr_matrix[np.abs(corr_matrix['TARGET'])>0.05]).columns\n",
    "corr = corr_matrix.loc[col_corr,col_corr]\n",
    "corr\n",
    "\n",
    "# proche de 0 indique qu'il n'y a pas de corrélation linéaire entre les variables"
   ]
  },
  {
   "cell_type": "markdown",
   "id": "86b33380",
   "metadata": {},
   "source": [
    "### Discrétisation : BinningProcess"
   ]
  },
  {
   "cell_type": "code",
   "execution_count": 19,
   "id": "27c99ef8",
   "metadata": {},
   "outputs": [
    {
     "name": "stderr",
     "output_type": "stream",
     "text": [
      "C:\\Users\\jinzhou\\AppData\\Local\\Temp\\ipykernel_5220\\463342360.py:8: SettingWithCopyWarning: \n",
      "A value is trying to be set on a copy of a slice from a DataFrame.\n",
      "Try using .loc[row_indexer,col_indexer] = value instead\n",
      "\n",
      "See the caveats in the documentation: https://pandas.pydata.org/pandas-docs/stable/user_guide/indexing.html#returning-a-view-versus-a-copy\n",
      "  sous_data[bin_column_name] = binning_table[:, i]\n",
      "C:\\Users\\jinzhou\\AppData\\Local\\Temp\\ipykernel_5220\\463342360.py:8: SettingWithCopyWarning: \n",
      "A value is trying to be set on a copy of a slice from a DataFrame.\n",
      "Try using .loc[row_indexer,col_indexer] = value instead\n",
      "\n",
      "See the caveats in the documentation: https://pandas.pydata.org/pandas-docs/stable/user_guide/indexing.html#returning-a-view-versus-a-copy\n",
      "  sous_data[bin_column_name] = binning_table[:, i]\n"
     ]
    },
    {
     "data": {
      "text/html": [
       "<div>\n",
       "<style scoped>\n",
       "    .dataframe tbody tr th:only-of-type {\n",
       "        vertical-align: middle;\n",
       "    }\n",
       "\n",
       "    .dataframe tbody tr th {\n",
       "        vertical-align: top;\n",
       "    }\n",
       "\n",
       "    .dataframe thead th {\n",
       "        text-align: right;\n",
       "    }\n",
       "</style>\n",
       "<table border=\"1\" class=\"dataframe\">\n",
       "  <thead>\n",
       "    <tr style=\"text-align: right;\">\n",
       "      <th></th>\n",
       "      <th>date_mensuelle</th>\n",
       "      <th>HOUR_APPR_PROCESS_START</th>\n",
       "      <th>REG_REGION_NOT_LIVE_REGION</th>\n",
       "      <th>REG_REGION_NOT_WORK_REGION</th>\n",
       "      <th>REG_CITY_NOT_LIVE_CITY</th>\n",
       "      <th>REG_CITY_NOT_WORK_CITY</th>\n",
       "      <th>LIVE_CITY_NOT_WORK_CITY</th>\n",
       "      <th>ORGANIZATION_TYPE</th>\n",
       "      <th>EXT_SOURCE_2</th>\n",
       "      <th>EXT_SOURCE_3</th>\n",
       "      <th>TARGET</th>\n",
       "      <th>EXT_SOURCE_2_BIN</th>\n",
       "      <th>EXT_SOURCE_3_BIN</th>\n",
       "    </tr>\n",
       "  </thead>\n",
       "  <tbody>\n",
       "    <tr>\n",
       "      <th>0</th>\n",
       "      <td>2013-01-01</td>\n",
       "      <td>9</td>\n",
       "      <td>0</td>\n",
       "      <td>0</td>\n",
       "      <td>0</td>\n",
       "      <td>0</td>\n",
       "      <td>0</td>\n",
       "      <td>Transport: type 3</td>\n",
       "      <td>0.616187</td>\n",
       "      <td>0.651260</td>\n",
       "      <td>0</td>\n",
       "      <td>0.144656</td>\n",
       "      <td>0.235349</td>\n",
       "    </tr>\n",
       "    <tr>\n",
       "      <th>1</th>\n",
       "      <td>2013-01-01</td>\n",
       "      <td>10</td>\n",
       "      <td>0</td>\n",
       "      <td>0</td>\n",
       "      <td>0</td>\n",
       "      <td>0</td>\n",
       "      <td>0</td>\n",
       "      <td>University</td>\n",
       "      <td>0.548623</td>\n",
       "      <td>0.413597</td>\n",
       "      <td>0</td>\n",
       "      <td>0.144656</td>\n",
       "      <td>0.235349</td>\n",
       "    </tr>\n",
       "    <tr>\n",
       "      <th>2</th>\n",
       "      <td>2013-01-01</td>\n",
       "      <td>10</td>\n",
       "      <td>0</td>\n",
       "      <td>0</td>\n",
       "      <td>0</td>\n",
       "      <td>0</td>\n",
       "      <td>0</td>\n",
       "      <td>Government</td>\n",
       "      <td>0.582081</td>\n",
       "      <td>0.399676</td>\n",
       "      <td>0</td>\n",
       "      <td>0.144656</td>\n",
       "      <td>-0.430969</td>\n",
       "    </tr>\n",
       "    <tr>\n",
       "      <th>3</th>\n",
       "      <td>2013-01-01</td>\n",
       "      <td>10</td>\n",
       "      <td>0</td>\n",
       "      <td>0</td>\n",
       "      <td>0</td>\n",
       "      <td>0</td>\n",
       "      <td>0</td>\n",
       "      <td>Self-employed</td>\n",
       "      <td>0.607885</td>\n",
       "      <td>0.627991</td>\n",
       "      <td>0</td>\n",
       "      <td>0.144656</td>\n",
       "      <td>0.235349</td>\n",
       "    </tr>\n",
       "    <tr>\n",
       "      <th>4</th>\n",
       "      <td>2013-01-01</td>\n",
       "      <td>15</td>\n",
       "      <td>1</td>\n",
       "      <td>1</td>\n",
       "      <td>1</td>\n",
       "      <td>1</td>\n",
       "      <td>1</td>\n",
       "      <td>Industry: type 3</td>\n",
       "      <td>0.091309</td>\n",
       "      <td>0.463275</td>\n",
       "      <td>0</td>\n",
       "      <td>-1.172119</td>\n",
       "      <td>0.235349</td>\n",
       "    </tr>\n",
       "  </tbody>\n",
       "</table>\n",
       "</div>"
      ],
      "text/plain": [
       "  date_mensuelle  HOUR_APPR_PROCESS_START  REG_REGION_NOT_LIVE_REGION  \\\n",
       "0     2013-01-01                        9                           0   \n",
       "1     2013-01-01                       10                           0   \n",
       "2     2013-01-01                       10                           0   \n",
       "3     2013-01-01                       10                           0   \n",
       "4     2013-01-01                       15                           1   \n",
       "\n",
       "   REG_REGION_NOT_WORK_REGION  REG_CITY_NOT_LIVE_CITY  REG_CITY_NOT_WORK_CITY  \\\n",
       "0                           0                       0                       0   \n",
       "1                           0                       0                       0   \n",
       "2                           0                       0                       0   \n",
       "3                           0                       0                       0   \n",
       "4                           1                       1                       1   \n",
       "\n",
       "   LIVE_CITY_NOT_WORK_CITY  ORGANIZATION_TYPE  EXT_SOURCE_2  EXT_SOURCE_3  \\\n",
       "0                        0  Transport: type 3      0.616187      0.651260   \n",
       "1                        0         University      0.548623      0.413597   \n",
       "2                        0         Government      0.582081      0.399676   \n",
       "3                        0      Self-employed      0.607885      0.627991   \n",
       "4                        1   Industry: type 3      0.091309      0.463275   \n",
       "\n",
       "   TARGET  EXT_SOURCE_2_BIN  EXT_SOURCE_3_BIN  \n",
       "0       0          0.144656          0.235349  \n",
       "1       0          0.144656          0.235349  \n",
       "2       0          0.144656         -0.430969  \n",
       "3       0          0.144656          0.235349  \n",
       "4       0         -1.172119          0.235349  "
      ]
     },
     "execution_count": 19,
     "metadata": {},
     "output_type": "execute_result"
    }
   ],
   "source": [
    "# Effectuer le processus de binning\n",
    "binning_process = BinningProcess(variable_names=list(float_columns), max_n_bins=4)\n",
    "binning_table = binning_process.fit_transform(sous_data[float_columns].values, sous_data['TARGET'].values)\n",
    "\n",
    "# Ajouter les colonnes discrétisées à sous_data\n",
    "for i, column in enumerate(float_columns):\n",
    "    bin_column_name = f\"{column}_BIN\"\n",
    "    sous_data[bin_column_name] = binning_table[:, i]\n",
    "\n",
    "# Afficher les premières lignes de sous_data pour vérifier les modifications\n",
    "sous_data.head()"
   ]
  },
  {
   "cell_type": "markdown",
   "id": "3767d047",
   "metadata": {},
   "source": [
    "###### Ainsi, le graphique reflète la stabilité de l'impact de chaque classe spécifique sur la variable cible.\n",
    "\n",
    "###### Dans le contexte d'une var cible bianire, la moyenne de la variable binaiire est équivalente à la proportion de 1 dans la var >> ce qui est une mesure valide de la stabilité "
   ]
  },
  {
   "cell_type": "code",
   "execution_count": 20,
   "id": "9c3d3cc4",
   "metadata": {},
   "outputs": [
    {
     "data": {
      "image/png": "[encoded data removed]",
      "text/plain": [
       "<Figure size 640x480 with 2 Axes>"
      ]
     },
     "metadata": {},
     "output_type": "display_data"
    },
    {
     "name": "stdout",
     "output_type": "stream",
     "text": [
      "---------------------------------------------\n",
      "OptimalBinning: Binary Binning Table Analysis\n",
      "---------------------------------------------\n",
      "\n",
      "  General metrics\n",
      "\n",
      "    Gini index               0.28514125\n",
      "    IV (Jeffrey)             0.29294498\n",
      "    JS (Jensen-Shannon)      0.03546858\n",
      "    Hellinger                0.03602838\n",
      "    Triangular               0.13771985\n",
      "    KS                       0.21770087\n",
      "    HHI                      0.31750763\n",
      "    HHI (normalized)         0.18100916\n",
      "    Cramer's V               0.15532289\n",
      "    Quality score            0.76000082\n",
      "\n",
      "  Monotonic trend            descending\n",
      "\n",
      "  Significance tests\n",
      "\n",
      "    Bin A  Bin B  t-statistic       p-value  P[A > B]     P[B > A]\n",
      "        0      1  1138.701124 1.280995e-249       1.0 1.110223e-16\n",
      "        1      2  1223.030540 6.027811e-268       1.0 1.110223e-16\n",
      "        2      3   867.706916 1.028233e-190       1.0 1.110223e-16\n",
      "\n"
     ]
    },
    {
     "data": {
      "image/png": "[encoded data removed]",
      "text/plain": [
       "<Figure size 640x480 with 2 Axes>"
      ]
     },
     "metadata": {},
     "output_type": "display_data"
    },
    {
     "name": "stdout",
     "output_type": "stream",
     "text": [
      "---------------------------------------------\n",
      "OptimalBinning: Binary Binning Table Analysis\n",
      "---------------------------------------------\n",
      "\n",
      "  General metrics\n",
      "\n",
      "    Gini index               0.23552938\n",
      "    IV (Jeffrey)             0.24301407\n",
      "    JS (Jensen-Shannon)      0.02931519\n",
      "    Hellinger                0.02983036\n",
      "    Triangular               0.11347547\n",
      "    KS                       0.19730519\n",
      "    HHI                      0.49764845\n",
      "    HHI (normalized)         0.39717814\n",
      "    Cramer's V               0.14641667\n",
      "    Quality score            0.50544610\n",
      "\n",
      "  Monotonic trend            descending\n",
      "\n",
      "  Significance tests\n",
      "\n",
      "    Bin A  Bin B  t-statistic       p-value  P[A > B]     P[B > A]\n",
      "        0      1  1039.711114 4.194374e-228       1.0 1.110223e-16\n",
      "        1      2  1826.220030  0.000000e+00       1.0 1.110223e-16\n",
      "        2      3   397.143955  2.304970e-88       1.0 1.110223e-16\n",
      "\n"
     ]
    }
   ],
   "source": [
    "for variable in float_columns:\n",
    "    optb = binning_process.get_binned_variable(name=variable)\n",
    "    optb.binning_table.build()\n",
    "    optb.binning_table.plot()\n",
    "    optb.binning_table.analysis()"
   ]
  },
  {
   "cell_type": "markdown",
   "id": "db9523fe",
   "metadata": {},
   "source": [
    "#####    Gini index               0.28514125 pour 'EXT_SOURCE_2'\n",
    "#####    Gini index               0.23552938 pour 'EXT_SOURCE_3'"
   ]
  },
  {
   "cell_type": "code",
   "execution_count": 33,
   "id": "859fb1a5",
   "metadata": {},
   "outputs": [
    {
     "data": {
      "text/html": [
       "<div>\n",
       "<style scoped>\n",
       "    .dataframe tbody tr th:only-of-type {\n",
       "        vertical-align: middle;\n",
       "    }\n",
       "\n",
       "    .dataframe tbody tr th {\n",
       "        vertical-align: top;\n",
       "    }\n",
       "\n",
       "    .dataframe thead th {\n",
       "        text-align: right;\n",
       "    }\n",
       "</style>\n",
       "<table border=\"1\" class=\"dataframe\">\n",
       "  <thead>\n",
       "    <tr style=\"text-align: right;\">\n",
       "      <th>EXT_SOURCE_3_BIN</th>\n",
       "      <th>-1.1787955255359006</th>\n",
       "      <th>-0.43096870530152503</th>\n",
       "      <th>0.23534888899786685</th>\n",
       "      <th>0.9645270456825706</th>\n",
       "      <th>stability</th>\n",
       "    </tr>\n",
       "    <tr>\n",
       "      <th>date_mensuelle</th>\n",
       "      <th></th>\n",
       "      <th></th>\n",
       "      <th></th>\n",
       "      <th></th>\n",
       "      <th></th>\n",
       "    </tr>\n",
       "  </thead>\n",
       "  <tbody>\n",
       "    <tr>\n",
       "      <th>2013-01-01</th>\n",
       "      <td>0.231707</td>\n",
       "      <td>0.091954</td>\n",
       "      <td>0.064560</td>\n",
       "      <td>0.051282</td>\n",
       "      <td>0.755101</td>\n",
       "    </tr>\n",
       "    <tr>\n",
       "      <th>2013-02-01</th>\n",
       "      <td>0.216867</td>\n",
       "      <td>0.090461</td>\n",
       "      <td>0.071163</td>\n",
       "      <td>0.029412</td>\n",
       "      <td>0.791572</td>\n",
       "    </tr>\n",
       "    <tr>\n",
       "      <th>2013-03-01</th>\n",
       "      <td>0.210526</td>\n",
       "      <td>0.115570</td>\n",
       "      <td>0.064186</td>\n",
       "      <td>0.033333</td>\n",
       "      <td>0.732352</td>\n",
       "    </tr>\n",
       "    <tr>\n",
       "      <th>2013-04-01</th>\n",
       "      <td>0.185185</td>\n",
       "      <td>0.112698</td>\n",
       "      <td>0.065451</td>\n",
       "      <td>0.026820</td>\n",
       "      <td>0.698928</td>\n",
       "    </tr>\n",
       "    <tr>\n",
       "      <th>2013-05-01</th>\n",
       "      <td>0.190476</td>\n",
       "      <td>0.110260</td>\n",
       "      <td>0.068075</td>\n",
       "      <td>0.020243</td>\n",
       "      <td>0.742387</td>\n",
       "    </tr>\n",
       "    <tr>\n",
       "      <th>...</th>\n",
       "      <td>...</td>\n",
       "      <td>...</td>\n",
       "      <td>...</td>\n",
       "      <td>...</td>\n",
       "      <td>...</td>\n",
       "    </tr>\n",
       "    <tr>\n",
       "      <th>2020-08-01</th>\n",
       "      <td>0.217647</td>\n",
       "      <td>0.129485</td>\n",
       "      <td>0.060606</td>\n",
       "      <td>0.040323</td>\n",
       "      <td>0.715044</td>\n",
       "    </tr>\n",
       "    <tr>\n",
       "      <th>2020-09-01</th>\n",
       "      <td>0.137500</td>\n",
       "      <td>0.117199</td>\n",
       "      <td>0.069536</td>\n",
       "      <td>0.051282</td>\n",
       "      <td>0.428455</td>\n",
       "    </tr>\n",
       "    <tr>\n",
       "      <th>2020-10-01</th>\n",
       "      <td>0.252809</td>\n",
       "      <td>0.128637</td>\n",
       "      <td>0.058460</td>\n",
       "      <td>0.022472</td>\n",
       "      <td>0.878458</td>\n",
       "    </tr>\n",
       "    <tr>\n",
       "      <th>2020-11-01</th>\n",
       "      <td>0.213333</td>\n",
       "      <td>0.097674</td>\n",
       "      <td>0.073159</td>\n",
       "      <td>0.019231</td>\n",
       "      <td>0.811460</td>\n",
       "    </tr>\n",
       "    <tr>\n",
       "      <th>2020-12-01</th>\n",
       "      <td>0.254658</td>\n",
       "      <td>0.136792</td>\n",
       "      <td>0.056728</td>\n",
       "      <td>0.033088</td>\n",
       "      <td>0.830745</td>\n",
       "    </tr>\n",
       "  </tbody>\n",
       "</table>\n",
       "<p>96 rows × 5 columns</p>\n",
       "</div>"
      ],
      "text/plain": [
       "EXT_SOURCE_3_BIN  -1.1787955255359006  -0.43096870530152503  \\\n",
       "date_mensuelle                                                \n",
       "2013-01-01                   0.231707              0.091954   \n",
       "2013-02-01                   0.216867              0.090461   \n",
       "2013-03-01                   0.210526              0.115570   \n",
       "2013-04-01                   0.185185              0.112698   \n",
       "2013-05-01                   0.190476              0.110260   \n",
       "...                               ...                   ...   \n",
       "2020-08-01                   0.217647              0.129485   \n",
       "2020-09-01                   0.137500              0.117199   \n",
       "2020-10-01                   0.252809              0.128637   \n",
       "2020-11-01                   0.213333              0.097674   \n",
       "2020-12-01                   0.254658              0.136792   \n",
       "\n",
       "EXT_SOURCE_3_BIN  0.23534888899786685  0.9645270456825706  stability  \n",
       "date_mensuelle                                                        \n",
       "2013-01-01                   0.064560            0.051282   0.755101  \n",
       "2013-02-01                   0.071163            0.029412   0.791572  \n",
       "2013-03-01                   0.064186            0.033333   0.732352  \n",
       "2013-04-01                   0.065451            0.026820   0.698928  \n",
       "2013-05-01                   0.068075            0.020243   0.742387  \n",
       "...                               ...                 ...        ...  \n",
       "2020-08-01                   0.060606            0.040323   0.715044  \n",
       "2020-09-01                   0.069536            0.051282   0.428455  \n",
       "2020-10-01                   0.058460            0.022472   0.878458  \n",
       "2020-11-01                   0.073159            0.019231   0.811460  \n",
       "2020-12-01                   0.056728            0.033088   0.830745  \n",
       "\n",
       "[96 rows x 5 columns]"
      ]
     },
     "execution_count": 33,
     "metadata": {},
     "output_type": "execute_result"
    }
   ],
   "source": [
    "stability_df"
   ]
  },
  {
   "cell_type": "code",
   "execution_count": 22,
   "id": "07ef0219",
   "metadata": {},
   "outputs": [
    {
     "data": {
      "application/vnd.plotly.v1+json": {
       "config": {
        "plotlyServerURL": "https://plot.ly"
       },
       "data": [
        {
         "mode": "lines+markers",
         "name": "Classe -1.172119377133376",
         "type": "scatter",
         "x": [
          "2013-01-01T00:00:00",
          "2013-02-01T00:00:00",
          "2013-03-01T00:00:00",
          "2013-04-01T00:00:00",
          "2013-05-01T00:00:00",
          "2013-06-01T00:00:00",
          "2013-07-01T00:00:00",
          "2013-08-01T00:00:00",
          "2013-09-01T00:00:00",
          "2013-10-01T00:00:00",
          "2013-11-01T00:00:00",
          "2013-12-01T00:00:00",
          "2014-01-01T00:00:00",
          "2014-02-01T00:00:00",
          "2014-03-01T00:00:00",
          "2014-04-01T00:00:00",
          "2014-05-01T00:00:00",
          "2014-06-01T00:00:00",
          "2014-07-01T00:00:00",
          "2014-08-01T00:00:00",
          "2014-09-01T00:00:00",
          "2014-10-01T00:00:00",
          "2014-11-01T00:00:00",
          "2014-12-01T00:00:00",
          "2015-01-01T00:00:00",
          "2015-02-01T00:00:00",
          "2015-03-01T00:00:00",
          "2015-04-01T00:00:00",
          "2015-05-01T00:00:00",
          "2015-06-01T00:00:00",
          "2015-07-01T00:00:00",
          "2015-08-01T00:00:00",
          "2015-09-01T00:00:00",
          "2015-10-01T00:00:00",
          "2015-11-01T00:00:00",
          "2015-12-01T00:00:00",
          "2016-01-01T00:00:00",
          "2016-02-01T00:00:00",
          "2016-03-01T00:00:00",
          "2016-04-01T00:00:00",
          "2016-05-01T00:00:00",
          "2016-06-01T00:00:00",
          "2016-07-01T00:00:00",
          "2016-08-01T00:00:00",
          "2016-09-01T00:00:00",
          "2016-10-01T00:00:00",
          "2016-11-01T00:00:00",
          "2016-12-01T00:00:00",
          "2017-01-01T00:00:00",
          "2017-02-01T00:00:00",
          "2017-03-01T00:00:00",
          "2017-04-01T00:00:00",
          "2017-05-01T00:00:00",
          "2017-06-01T00:00:00",
          "2017-07-01T00:00:00",
          "2017-08-01T00:00:00",
          "2017-09-01T00:00:00",
          "2017-10-01T00:00:00",
          "2017-11-01T00:00:00",
          "2017-12-01T00:00:00",
          "2018-01-01T00:00:00",
          "2018-02-01T00:00:00",
          "2018-03-01T00:00:00",
          "2018-04-01T00:00:00",
          "2018-05-01T00:00:00",
          "2018-06-01T00:00:00",
          "2018-07-01T00:00:00",
          "2018-08-01T00:00:00",
          "2018-09-01T00:00:00",
          "2018-10-01T00:00:00",
          "2018-11-01T00:00:00",
          "2018-12-01T00:00:00",
          "2019-01-01T00:00:00",
          "2019-02-01T00:00:00",
          "2019-03-01T00:00:00",
          "2019-04-01T00:00:00",
          "2019-05-01T00:00:00",
          "2019-06-01T00:00:00",
          "2019-07-01T00:00:00",
          "2019-08-01T00:00:00",
          "2019-09-01T00:00:00",
          "2019-10-01T00:00:00",
          "2019-11-01T00:00:00",
          "2019-12-01T00:00:00",
          "2020-01-01T00:00:00",
          "2020-02-01T00:00:00",
          "2020-03-01T00:00:00",
          "2020-04-01T00:00:00",
          "2020-05-01T00:00:00",
          "2020-06-01T00:00:00",
          "2020-07-01T00:00:00",
          "2020-08-01T00:00:00",
          "2020-09-01T00:00:00",
          "2020-10-01T00:00:00",
          "2020-11-01T00:00:00",
          "2020-12-01T00:00:00"
         ],
         "y": [
          0.24293785310734464,
          0.19875776397515527,
          0.2127659574468085,
          0.1534090909090909,
          0.20441988950276244,
          0.21153846153846154,
          0.14465408805031446,
          0.24183006535947713,
          0.26436781609195403,
          0.22346368715083798,
          0.18181818181818182,
          0.2,
          0.21714285714285714,
          0.19875776397515527,
          0.19594594594594594,
          0.1895424836601307,
          0.18243243243243243,
          0.2463768115942029,
          0.23129251700680273,
          0.2302158273381295,
          0.20253164556962025,
          0.1896551724137931,
          0.21910112359550563,
          0.18238993710691823,
          0.24456521739130435,
          0.23493975903614459,
          0.2052980132450331,
          0.21604938271604937,
          0.1952662721893491,
          0.20588235294117646,
          0.2645161290322581,
          0.1875,
          0.16352201257861634,
          0.23353293413173654,
          0.17307692307692307,
          0.24561403508771928,
          0.17901234567901234,
          0.23270440251572327,
          0.17532467532467533,
          0.2254335260115607,
          0.20279720279720279,
          0.22012578616352202,
          0.2876712328767123,
          0.18072289156626506,
          0.23529411764705882,
          0.208955223880597,
          0.22807017543859648,
          0.18452380952380953,
          0.19875776397515527,
          0.25287356321839083,
          0.24022346368715083,
          0.2125,
          0.22818791946308725,
          0.20382165605095542,
          0.23469387755102042,
          0.18791946308724833,
          0.2360248447204969,
          0.14965986394557823,
          0.20958083832335328,
          0.1986754966887417,
          0.20958083832335328,
          0.25,
          0.2,
          0.2787878787878788,
          0.2037037037037037,
          0.23125,
          0.189873417721519,
          0.19411764705882353,
          0.22142857142857142,
          0.23870967741935484,
          0.21604938271604937,
          0.18994413407821228,
          0.17032967032967034,
          0.2152777777777778,
          0.16766467065868262,
          0.2206896551724138,
          0.18857142857142858,
          0.17692307692307693,
          0.20454545454545456,
          0.19230769230769232,
          0.16993464052287582,
          0.18181818181818182,
          0.1901840490797546,
          0.2446043165467626,
          0.184,
          0.1676300578034682,
          0.20441988950276244,
          0.26875,
          0.21893491124260356,
          0.22818791946308725,
          0.267515923566879,
          0.2275449101796407,
          0.21301775147928995,
          0.2658959537572254,
          0.24157303370786518,
          0.21604938271604937
         ]
        },
        {
         "mode": "lines+markers",
         "name": "Classe -0.4157304185668408",
         "type": "scatter",
         "x": [
          "2013-01-01T00:00:00",
          "2013-02-01T00:00:00",
          "2013-03-01T00:00:00",
          "2013-04-01T00:00:00",
          "2013-05-01T00:00:00",
          "2013-06-01T00:00:00",
          "2013-07-01T00:00:00",
          "2013-08-01T00:00:00",
          "2013-09-01T00:00:00",
          "2013-10-01T00:00:00",
          "2013-11-01T00:00:00",
          "2013-12-01T00:00:00",
          "2014-01-01T00:00:00",
          "2014-02-01T00:00:00",
          "2014-03-01T00:00:00",
          "2014-04-01T00:00:00",
          "2014-05-01T00:00:00",
          "2014-06-01T00:00:00",
          "2014-07-01T00:00:00",
          "2014-08-01T00:00:00",
          "2014-09-01T00:00:00",
          "2014-10-01T00:00:00",
          "2014-11-01T00:00:00",
          "2014-12-01T00:00:00",
          "2015-01-01T00:00:00",
          "2015-02-01T00:00:00",
          "2015-03-01T00:00:00",
          "2015-04-01T00:00:00",
          "2015-05-01T00:00:00",
          "2015-06-01T00:00:00",
          "2015-07-01T00:00:00",
          "2015-08-01T00:00:00",
          "2015-09-01T00:00:00",
          "2015-10-01T00:00:00",
          "2015-11-01T00:00:00",
          "2015-12-01T00:00:00",
          "2016-01-01T00:00:00",
          "2016-02-01T00:00:00",
          "2016-03-01T00:00:00",
          "2016-04-01T00:00:00",
          "2016-05-01T00:00:00",
          "2016-06-01T00:00:00",
          "2016-07-01T00:00:00",
          "2016-08-01T00:00:00",
          "2016-09-01T00:00:00",
          "2016-10-01T00:00:00",
          "2016-11-01T00:00:00",
          "2016-12-01T00:00:00",
          "2017-01-01T00:00:00",
          "2017-02-01T00:00:00",
          "2017-03-01T00:00:00",
          "2017-04-01T00:00:00",
          "2017-05-01T00:00:00",
          "2017-06-01T00:00:00",
          "2017-07-01T00:00:00",
          "2017-08-01T00:00:00",
          "2017-09-01T00:00:00",
          "2017-10-01T00:00:00",
          "2017-11-01T00:00:00",
          "2017-12-01T00:00:00",
          "2018-01-01T00:00:00",
          "2018-02-01T00:00:00",
          "2018-03-01T00:00:00",
          "2018-04-01T00:00:00",
          "2018-05-01T00:00:00",
          "2018-06-01T00:00:00",
          "2018-07-01T00:00:00",
          "2018-08-01T00:00:00",
          "2018-09-01T00:00:00",
          "2018-10-01T00:00:00",
          "2018-11-01T00:00:00",
          "2018-12-01T00:00:00",
          "2019-01-01T00:00:00",
          "2019-02-01T00:00:00",
          "2019-03-01T00:00:00",
          "2019-04-01T00:00:00",
          "2019-05-01T00:00:00",
          "2019-06-01T00:00:00",
          "2019-07-01T00:00:00",
          "2019-08-01T00:00:00",
          "2019-09-01T00:00:00",
          "2019-10-01T00:00:00",
          "2019-11-01T00:00:00",
          "2019-12-01T00:00:00",
          "2020-01-01T00:00:00",
          "2020-02-01T00:00:00",
          "2020-03-01T00:00:00",
          "2020-04-01T00:00:00",
          "2020-05-01T00:00:00",
          "2020-06-01T00:00:00",
          "2020-07-01T00:00:00",
          "2020-08-01T00:00:00",
          "2020-09-01T00:00:00",
          "2020-10-01T00:00:00",
          "2020-11-01T00:00:00",
          "2020-12-01T00:00:00"
         ],
         "y": [
          0.1127633209417596,
          0.12,
          0.11764705882352941,
          0.11485642946317104,
          0.09669211195928754,
          0.11153846153846154,
          0.125,
          0.09727626459143969,
          0.10673443456162643,
          0.10758620689655173,
          0.11336032388663968,
          0.10143042912873862,
          0.0952970297029703,
          0.11045130641330166,
          0.12836970474967907,
          0.11995104039167687,
          0.12,
          0.13333333333333333,
          0.1191969887076537,
          0.11346633416458853,
          0.10875331564986737,
          0.11311053984575835,
          0.11428571428571428,
          0.11636828644501279,
          0.11421319796954314,
          0.11435523114355231,
          0.10941475826972011,
          0.1111111111111111,
          0.12148337595907928,
          0.11298701298701298,
          0.11126005361930295,
          0.11439588688946016,
          0.12550066755674233,
          0.10986267166042447,
          0.10344827586206896,
          0.10078534031413612,
          0.10424242424242425,
          0.11436541143654114,
          0.12337662337662338,
          0.12583668005354753,
          0.12062256809338522,
          0.10392902408111533,
          0.11757105943152454,
          0.11780104712041885,
          0.11826544021024968,
          0.12054120541205413,
          0.10807453416149068,
          0.11984536082474227,
          0.12548015364916773,
          0.11296534017971759,
          0.11780455153949129,
          0.10925449871465295,
          0.10227272727272728,
          0.13324175824175824,
          0.1095890410958904,
          0.11458333333333333,
          0.1278772378516624,
          0.14705882352941177,
          0.10915934755332497,
          0.13020833333333334,
          0.10187667560321716,
          0.1088348271446863,
          0.1095360824742268,
          0.11528822055137844,
          0.11335012594458438,
          0.10512483574244415,
          0.11927710843373494,
          0.14054726368159204,
          0.12419974391805377,
          0.12895377128953772,
          0.10314465408805032,
          0.11454311454311454,
          0.09302325581395349,
          0.10493046776232617,
          0.08879781420765027,
          0.08668341708542714,
          0.09537166900420757,
          0.08816120906801007,
          0.0881578947368421,
          0.0758988015978695,
          0.09749303621169916,
          0.10225763612217796,
          0.08567774936061381,
          0.09898477157360407,
          0.10573248407643313,
          0.11216216216216217,
          0.10838709677419354,
          0.10651629072681704,
          0.11603650586701435,
          0.128,
          0.11961722488038277,
          0.10459183673469388,
          0.110397946084724,
          0.10493046776232617,
          0.1172680412371134,
          0.10975609756097561
         ]
        },
        {
         "mode": "lines+markers",
         "name": "Classe 0.1446555021229047",
         "type": "scatter",
         "x": [
          "2013-01-01T00:00:00",
          "2013-02-01T00:00:00",
          "2013-03-01T00:00:00",
          "2013-04-01T00:00:00",
          "2013-05-01T00:00:00",
          "2013-06-01T00:00:00",
          "2013-07-01T00:00:00",
          "2013-08-01T00:00:00",
          "2013-09-01T00:00:00",
          "2013-10-01T00:00:00",
          "2013-11-01T00:00:00",
          "2013-12-01T00:00:00",
          "2014-01-01T00:00:00",
          "2014-02-01T00:00:00",
          "2014-03-01T00:00:00",
          "2014-04-01T00:00:00",
          "2014-05-01T00:00:00",
          "2014-06-01T00:00:00",
          "2014-07-01T00:00:00",
          "2014-08-01T00:00:00",
          "2014-09-01T00:00:00",
          "2014-10-01T00:00:00",
          "2014-11-01T00:00:00",
          "2014-12-01T00:00:00",
          "2015-01-01T00:00:00",
          "2015-02-01T00:00:00",
          "2015-03-01T00:00:00",
          "2015-04-01T00:00:00",
          "2015-05-01T00:00:00",
          "2015-06-01T00:00:00",
          "2015-07-01T00:00:00",
          "2015-08-01T00:00:00",
          "2015-09-01T00:00:00",
          "2015-10-01T00:00:00",
          "2015-11-01T00:00:00",
          "2015-12-01T00:00:00",
          "2016-01-01T00:00:00",
          "2016-02-01T00:00:00",
          "2016-03-01T00:00:00",
          "2016-04-01T00:00:00",
          "2016-05-01T00:00:00",
          "2016-06-01T00:00:00",
          "2016-07-01T00:00:00",
          "2016-08-01T00:00:00",
          "2016-09-01T00:00:00",
          "2016-10-01T00:00:00",
          "2016-11-01T00:00:00",
          "2016-12-01T00:00:00",
          "2017-01-01T00:00:00",
          "2017-02-01T00:00:00",
          "2017-03-01T00:00:00",
          "2017-04-01T00:00:00",
          "2017-05-01T00:00:00",
          "2017-06-01T00:00:00",
          "2017-07-01T00:00:00",
          "2017-08-01T00:00:00",
          "2017-09-01T00:00:00",
          "2017-10-01T00:00:00",
          "2017-11-01T00:00:00",
          "2017-12-01T00:00:00",
          "2018-01-01T00:00:00",
          "2018-02-01T00:00:00",
          "2018-03-01T00:00:00",
          "2018-04-01T00:00:00",
          "2018-05-01T00:00:00",
          "2018-06-01T00:00:00",
          "2018-07-01T00:00:00",
          "2018-08-01T00:00:00",
          "2018-09-01T00:00:00",
          "2018-10-01T00:00:00",
          "2018-11-01T00:00:00",
          "2018-12-01T00:00:00",
          "2019-01-01T00:00:00",
          "2019-02-01T00:00:00",
          "2019-03-01T00:00:00",
          "2019-04-01T00:00:00",
          "2019-05-01T00:00:00",
          "2019-06-01T00:00:00",
          "2019-07-01T00:00:00",
          "2019-08-01T00:00:00",
          "2019-09-01T00:00:00",
          "2019-10-01T00:00:00",
          "2019-11-01T00:00:00",
          "2019-12-01T00:00:00",
          "2020-01-01T00:00:00",
          "2020-02-01T00:00:00",
          "2020-03-01T00:00:00",
          "2020-04-01T00:00:00",
          "2020-05-01T00:00:00",
          "2020-06-01T00:00:00",
          "2020-07-01T00:00:00",
          "2020-08-01T00:00:00",
          "2020-09-01T00:00:00",
          "2020-10-01T00:00:00",
          "2020-11-01T00:00:00",
          "2020-12-01T00:00:00"
         ],
         "y": [
          0.05855513307984791,
          0.07050796057619409,
          0.06529992406985573,
          0.07345065034429993,
          0.08188021228203184,
          0.07083647324792766,
          0.06738131699846861,
          0.07727272727272727,
          0.05973622963537626,
          0.0725925925925926,
          0.06867924528301887,
          0.06999255398361877,
          0.07164869029275808,
          0.06656101426307448,
          0.06713505074160812,
          0.0718608169440242,
          0.06642066420664207,
          0.059593023255813955,
          0.06576862123613313,
          0.06846153846153846,
          0.07473841554559044,
          0.07565011820330969,
          0.06333072713057075,
          0.06722689075630252,
          0.07197549770290965,
          0.06492478226444973,
          0.06804733727810651,
          0.06870799103808813,
          0.0661596958174905,
          0.07373965387509406,
          0.06809770540340489,
          0.06338028169014084,
          0.0693815987933635,
          0.07137129109863673,
          0.07948523845571537,
          0.06854531607006854,
          0.08046875,
          0.06806661839246922,
          0.07062359128474831,
          0.06507105459985041,
          0.07468259895444361,
          0.07109737248840804,
          0.06178489702517163,
          0.06656346749226007,
          0.05795981452859351,
          0.06312548113933796,
          0.0661596958174905,
          0.06551204819277108,
          0.061879297173414824,
          0.05989385898407885,
          0.058004640371229696,
          0.06744868035190615,
          0.07680491551459294,
          0.06415094339622641,
          0.065284178187404,
          0.0724191063174114,
          0.06254886630179828,
          0.05705474171164225,
          0.07158671586715867,
          0.06858407079646017,
          0.07793153678077203,
          0.06857573474001508,
          0.07985074626865672,
          0.053712480252764615,
          0.07033639143730887,
          0.07239819004524888,
          0.06924315619967794,
          0.06498470948012232,
          0.0684931506849315,
          0.05324074074074074,
          0.0730593607305936,
          0.07115531752104055,
          0.06060606060606061,
          0.04344391785150079,
          0.0641025641025641,
          0.05441640378548896,
          0.05895522388059701,
          0.05900383141762452,
          0.05480540111199365,
          0.06920152091254753,
          0.05733944954128441,
          0.05132075471698113,
          0.054373522458628844,
          0.06058221872541306,
          0.06973180076628352,
          0.06311044327573254,
          0.06953892668178382,
          0.06486486486486487,
          0.07494322482967448,
          0.07871064467766117,
          0.06429124709527498,
          0.07362885048835462,
          0.06479313036690086,
          0.07390300230946882,
          0.06413301662707839,
          0.07621951219512195
         ]
        },
        {
         "mode": "lines+markers",
         "name": "Classe 0.7488975815625657",
         "type": "scatter",
         "x": [
          "2013-01-01T00:00:00",
          "2013-02-01T00:00:00",
          "2013-03-01T00:00:00",
          "2013-04-01T00:00:00",
          "2013-05-01T00:00:00",
          "2013-06-01T00:00:00",
          "2013-07-01T00:00:00",
          "2013-08-01T00:00:00",
          "2013-09-01T00:00:00",
          "2013-10-01T00:00:00",
          "2013-11-01T00:00:00",
          "2013-12-01T00:00:00",
          "2014-01-01T00:00:00",
          "2014-02-01T00:00:00",
          "2014-03-01T00:00:00",
          "2014-04-01T00:00:00",
          "2014-05-01T00:00:00",
          "2014-06-01T00:00:00",
          "2014-07-01T00:00:00",
          "2014-08-01T00:00:00",
          "2014-09-01T00:00:00",
          "2014-10-01T00:00:00",
          "2014-11-01T00:00:00",
          "2014-12-01T00:00:00",
          "2015-01-01T00:00:00",
          "2015-02-01T00:00:00",
          "2015-03-01T00:00:00",
          "2015-04-01T00:00:00",
          "2015-05-01T00:00:00",
          "2015-06-01T00:00:00",
          "2015-07-01T00:00:00",
          "2015-08-01T00:00:00",
          "2015-09-01T00:00:00",
          "2015-10-01T00:00:00",
          "2015-11-01T00:00:00",
          "2015-12-01T00:00:00",
          "2016-01-01T00:00:00",
          "2016-02-01T00:00:00",
          "2016-03-01T00:00:00",
          "2016-04-01T00:00:00",
          "2016-05-01T00:00:00",
          "2016-06-01T00:00:00",
          "2016-07-01T00:00:00",
          "2016-08-01T00:00:00",
          "2016-09-01T00:00:00",
          "2016-10-01T00:00:00",
          "2016-11-01T00:00:00",
          "2016-12-01T00:00:00",
          "2017-01-01T00:00:00",
          "2017-02-01T00:00:00",
          "2017-03-01T00:00:00",
          "2017-04-01T00:00:00",
          "2017-05-01T00:00:00",
          "2017-06-01T00:00:00",
          "2017-07-01T00:00:00",
          "2017-08-01T00:00:00",
          "2017-09-01T00:00:00",
          "2017-10-01T00:00:00",
          "2017-11-01T00:00:00",
          "2017-12-01T00:00:00",
          "2018-01-01T00:00:00",
          "2018-02-01T00:00:00",
          "2018-03-01T00:00:00",
          "2018-04-01T00:00:00",
          "2018-05-01T00:00:00",
          "2018-06-01T00:00:00",
          "2018-07-01T00:00:00",
          "2018-08-01T00:00:00",
          "2018-09-01T00:00:00",
          "2018-10-01T00:00:00",
          "2018-11-01T00:00:00",
          "2018-12-01T00:00:00",
          "2019-01-01T00:00:00",
          "2019-02-01T00:00:00",
          "2019-03-01T00:00:00",
          "2019-04-01T00:00:00",
          "2019-05-01T00:00:00",
          "2019-06-01T00:00:00",
          "2019-07-01T00:00:00",
          "2019-08-01T00:00:00",
          "2019-09-01T00:00:00",
          "2019-10-01T00:00:00",
          "2019-11-01T00:00:00",
          "2019-12-01T00:00:00",
          "2020-01-01T00:00:00",
          "2020-02-01T00:00:00",
          "2020-03-01T00:00:00",
          "2020-04-01T00:00:00",
          "2020-05-01T00:00:00",
          "2020-06-01T00:00:00",
          "2020-07-01T00:00:00",
          "2020-08-01T00:00:00",
          "2020-09-01T00:00:00",
          "2020-10-01T00:00:00",
          "2020-11-01T00:00:00",
          "2020-12-01T00:00:00"
         ],
         "y": [
          0.04035874439461883,
          0.03384279475982533,
          0.03927813163481953,
          0.03634361233480176,
          0.03618421052631579,
          0.03659849300322928,
          0.039913700107874865,
          0.03991596638655462,
          0.048574445617740235,
          0.031016042780748664,
          0.04716981132075472,
          0.05251875669882101,
          0.04600219058050383,
          0.04618689581095596,
          0.03353658536585366,
          0.029966703662597113,
          0.04670912951167728,
          0.04012671594508976,
          0.037487335359675786,
          0.03785488958990536,
          0.03711558854718982,
          0.036885245901639344,
          0.04442148760330578,
          0.04852320675105485,
          0.026115342763873776,
          0.036093418259023353,
          0.04318936877076412,
          0.04293193717277487,
          0.038751345532831,
          0.031385281385281384,
          0.03404255319148936,
          0.04984423676012461,
          0.04257528556593977,
          0.03669724770642202,
          0.04371002132196162,
          0.044350580781414996,
          0.03347732181425486,
          0.03640256959314775,
          0.03415154749199573,
          0.029946524064171122,
          0.02975557917109458,
          0.04407135362014691,
          0.039378238341968914,
          0.046248715313463515,
          0.04643962848297214,
          0.03506787330316742,
          0.0420353982300885,
          0.04125950054288816,
          0.039319872476089264,
          0.03917301414581066,
          0.04316546762589928,
          0.04049493813273341,
          0.035789473684210524,
          0.038539553752535496,
          0.035794183445190156,
          0.04281345565749235,
          0.03391572456320658,
          0.03929679420889348,
          0.033218785796105384,
          0.029379760609358,
          0.036303630363036306,
          0.04411764705882353,
          0.03301384451544196,
          0.044605809128630707,
          0.03556034482758621,
          0.036016949152542374,
          0.034303534303534305,
          0.02190580503833516,
          0.03336809176225235,
          0.04333694474539545,
          0.039045553145336226,
          0.03131749460043196,
          0.031794871794871796,
          0.0379746835443038,
          0.026058631921824105,
          0.03208556149732621,
          0.022900763358778626,
          0.03594771241830065,
          0.030526315789473683,
          0.028077753779697623,
          0.034055727554179564,
          0.03489640130861505,
          0.041666666666666664,
          0.019916142557651992,
          0.026288117770767613,
          0.03965702036441586,
          0.038335158817086525,
          0.045454545454545456,
          0.03898840885142255,
          0.029743589743589743,
          0.036996735582154515,
          0.0455531453362256,
          0.05641025641025641,
          0.03514376996805112,
          0.042682926829268296,
          0.03634361233480176
         ]
        }
       ],
       "layout": {
        "annotations": [
         {
          "arrowcolor": "red",
          "arrowhead": 2,
          "ax": 0,
          "ay": -40,
          "showarrow": true,
          "text": "Max Stability\nDate: 2019-12-01 00:00:00\nValue: 0.92",
          "x": "2019-12-01T00:00:00",
          "y": 1.0230787731696835
         }
        ],
        "barmode": "stack",
        "legend": {
         "title": {
          "text": "Classes de EXT_SOURCE_2_BIN"
         }
        },
        "template": {
         "data": {
          "bar": [
           {
            "error_x": {
             "color": "#2a3f5f"
            },
            "error_y": {
             "color": "#2a3f5f"
            },
            "marker": {
             "line": {
              "color": "#E5ECF6",
              "width": 0.5
             },
             "pattern": {
              "fillmode": "overlay",
              "size": 10,
              "solidity": 0.2
             }
            },
            "type": "bar"
           }
          ],
          "barpolar": [
           {
            "marker": {
             "line": {
              "color": "#E5ECF6",
              "width": 0.5
             },
             "pattern": {
              "fillmode": "overlay",
              "size": 10,
              "solidity": 0.2
             }
            },
            "type": "barpolar"
           }
          ],
          "carpet": [
           {
            "aaxis": {
             "endlinecolor": "#2a3f5f",
             "gridcolor": "white",
             "linecolor": "white",
             "minorgridcolor": "white",
             "startlinecolor": "#2a3f5f"
            },
            "baxis": {
             "endlinecolor": "#2a3f5f",
             "gridcolor": "white",
             "linecolor": "white",
             "minorgridcolor": "white",
             "startlinecolor": "#2a3f5f"
            },
            "type": "carpet"
           }
          ],
          "choropleth": [
           {
            "colorbar": {
             "outlinewidth": 0,
             "ticks": ""
            },
            "type": "choropleth"
           }
          ],
          "contour": [
           {
            "colorbar": {
             "outlinewidth": 0,
             "ticks": ""
            },
            "colorscale": [
             [
              0,
              "#0d0887"
             ],
             [
              0.1111111111111111,
              "#46039f"
             ],
             [
              0.2222222222222222,
              "#7201a8"
             ],
             [
              0.3333333333333333,
              "#9c179e"
             ],
             [
              0.4444444444444444,
              "#bd3786"
             ],
             [
              0.5555555555555556,
              "#d8576b"
             ],
             [
              0.6666666666666666,
              "#ed7953"
             ],
             [
              0.7777777777777778,
              "#fb9f3a"
             ],
             [
              0.8888888888888888,
              "#fdca26"
             ],
             [
              1,
              "#f0f921"
             ]
            ],
            "type": "contour"
           }
          ],
          "contourcarpet": [
           {
            "colorbar": {
             "outlinewidth": 0,
             "ticks": ""
            },
            "type": "contourcarpet"
           }
          ],
          "heatmap": [
           {
            "colorbar": {
             "outlinewidth": 0,
             "ticks": ""
            },
            "colorscale": [
             [
              0,
              "#0d0887"
             ],
             [
              0.1111111111111111,
              "#46039f"
             ],
             [
              0.2222222222222222,
              "#7201a8"
             ],
             [
              0.3333333333333333,
              "#9c179e"
             ],
             [
              0.4444444444444444,
              "#bd3786"
             ],
             [
              0.5555555555555556,
              "#d8576b"
             ],
             [
              0.6666666666666666,
              "#ed7953"
             ],
             [
              0.7777777777777778,
              "#fb9f3a"
             ],
             [
              0.8888888888888888,
              "#fdca26"
             ],
             [
              1,
              "#f0f921"
             ]
            ],
            "type": "heatmap"
           }
          ],
          "heatmapgl": [
           {
            "colorbar": {
             "outlinewidth": 0,
             "ticks": ""
            },
            "colorscale": [
             [
              0,
              "#0d0887"
             ],
             [
              0.1111111111111111,
              "#46039f"
             ],
             [
              0.2222222222222222,
              "#7201a8"
             ],
             [
              0.3333333333333333,
              "#9c179e"
             ],
             [
              0.4444444444444444,
              "#bd3786"
             ],
             [
              0.5555555555555556,
              "#d8576b"
             ],
             [
              0.6666666666666666,
              "#ed7953"
             ],
             [
              0.7777777777777778,
              "#fb9f3a"
             ],
             [
              0.8888888888888888,
              "#fdca26"
             ],
             [
              1,
              "#f0f921"
             ]
            ],
            "type": "heatmapgl"
           }
          ],
          "histogram": [
           {
            "marker": {
             "pattern": {
              "fillmode": "overlay",
              "size": 10,
              "solidity": 0.2
             }
            },
            "type": "histogram"
           }
          ],
          "histogram2d": [
           {
            "colorbar": {
             "outlinewidth": 0,
             "ticks": ""
            },
            "colorscale": [
             [
              0,
              "#0d0887"
             ],
             [
              0.1111111111111111,
              "#46039f"
             ],
             [
              0.2222222222222222,
              "#7201a8"
             ],
             [
              0.3333333333333333,
              "#9c179e"
             ],
             [
              0.4444444444444444,
              "#bd3786"
             ],
             [
              0.5555555555555556,
              "#d8576b"
             ],
             [
              0.6666666666666666,
              "#ed7953"
             ],
             [
              0.7777777777777778,
              "#fb9f3a"
             ],
             [
              0.8888888888888888,
              "#fdca26"
             ],
             [
              1,
              "#f0f921"
             ]
            ],
            "type": "histogram2d"
           }
          ],
          "histogram2dcontour": [
           {
            "colorbar": {
             "outlinewidth": 0,
             "ticks": ""
            },
            "colorscale": [
             [
              0,
              "#0d0887"
             ],
             [
              0.1111111111111111,
              "#46039f"
             ],
             [
              0.2222222222222222,
              "#7201a8"
             ],
             [
              0.3333333333333333,
              "#9c179e"
             ],
             [
              0.4444444444444444,
              "#bd3786"
             ],
             [
              0.5555555555555556,
              "#d8576b"
             ],
             [
              0.6666666666666666,
              "#ed7953"
             ],
             [
              0.7777777777777778,
              "#fb9f3a"
             ],
             [
              0.8888888888888888,
              "#fdca26"
             ],
             [
              1,
              "#f0f921"
             ]
            ],
            "type": "histogram2dcontour"
           }
          ],
          "mesh3d": [
           {
            "colorbar": {
             "outlinewidth": 0,
             "ticks": ""
            },
            "type": "mesh3d"
           }
          ],
          "parcoords": [
           {
            "line": {
             "colorbar": {
              "outlinewidth": 0,
              "ticks": ""
             }
            },
            "type": "parcoords"
           }
          ],
          "pie": [
           {
            "automargin": true,
            "type": "pie"
           }
          ],
          "scatter": [
           {
            "fillpattern": {
             "fillmode": "overlay",
             "size": 10,
             "solidity": 0.2
            },
            "type": "scatter"
           }
          ],
          "scatter3d": [
           {
            "line": {
             "colorbar": {
              "outlinewidth": 0,
              "ticks": ""
             }
            },
            "marker": {
             "colorbar": {
              "outlinewidth": 0,
              "ticks": ""
             }
            },
            "type": "scatter3d"
           }
          ],
          "scattercarpet": [
           {
            "marker": {
             "colorbar": {
              "outlinewidth": 0,
              "ticks": ""
             }
            },
            "type": "scattercarpet"
           }
          ],
          "scattergeo": [
           {
            "marker": {
             "colorbar": {
              "outlinewidth": 0,
              "ticks": ""
             }
            },
            "type": "scattergeo"
           }
          ],
          "scattergl": [
           {
            "marker": {
             "colorbar": {
              "outlinewidth": 0,
              "ticks": ""
             }
            },
            "type": "scattergl"
           }
          ],
          "scattermapbox": [
           {
            "marker": {
             "colorbar": {
              "outlinewidth": 0,
              "ticks": ""
             }
            },
            "type": "scattermapbox"
           }
          ],
          "scatterpolar": [
           {
            "marker": {
             "colorbar": {
              "outlinewidth": 0,
              "ticks": ""
             }
            },
            "type": "scatterpolar"
           }
          ],
          "scatterpolargl": [
           {
            "marker": {
             "colorbar": {
              "outlinewidth": 0,
              "ticks": ""
             }
            },
            "type": "scatterpolargl"
           }
          ],
          "scatterternary": [
           {
            "marker": {
             "colorbar": {
              "outlinewidth": 0,
              "ticks": ""
             }
            },
            "type": "scatterternary"
           }
          ],
          "surface": [
           {
            "colorbar": {
             "outlinewidth": 0,
             "ticks": ""
            },
            "colorscale": [
             [
              0,
              "#0d0887"
             ],
             [
              0.1111111111111111,
              "#46039f"
             ],
             [
              0.2222222222222222,
              "#7201a8"
             ],
             [
              0.3333333333333333,
              "#9c179e"
             ],
             [
              0.4444444444444444,
              "#bd3786"
             ],
             [
              0.5555555555555556,
              "#d8576b"
             ],
             [
              0.6666666666666666,
              "#ed7953"
             ],
             [
              0.7777777777777778,
              "#fb9f3a"
             ],
             [
              0.8888888888888888,
              "#fdca26"
             ],
             [
              1,
              "#f0f921"
             ]
            ],
            "type": "surface"
           }
          ],
          "table": [
           {
            "cells": {
             "fill": {
              "color": "#EBF0F8"
             },
             "line": {
              "color": "white"
             }
            },
            "header": {
             "fill": {
              "color": "#C8D4E3"
             },
             "line": {
              "color": "white"
             }
            },
            "type": "table"
           }
          ]
         },
         "layout": {
          "annotationdefaults": {
           "arrowcolor": "#2a3f5f",
           "arrowhead": 0,
           "arrowwidth": 1
          },
          "autotypenumbers": "strict",
          "coloraxis": {
           "colorbar": {
            "outlinewidth": 0,
            "ticks": ""
           }
          },
          "colorscale": {
           "diverging": [
            [
             0,
             "#8e0152"
            ],
            [
             0.1,
             "#c51b7d"
            ],
            [
             0.2,
             "#de77ae"
            ],
            [
             0.3,
             "#f1b6da"
            ],
            [
             0.4,
             "#fde0ef"
            ],
            [
             0.5,
             "#f7f7f7"
            ],
            [
             0.6,
             "#e6f5d0"
            ],
            [
             0.7,
             "#b8e186"
            ],
            [
             0.8,
             "#7fbc41"
            ],
            [
             0.9,
             "#4d9221"
            ],
            [
             1,
             "#276419"
            ]
           ],
           "sequential": [
            [
             0,
             "#0d0887"
            ],
            [
             0.1111111111111111,
             "#46039f"
            ],
            [
             0.2222222222222222,
             "#7201a8"
            ],
            [
             0.3333333333333333,
             "#9c179e"
            ],
            [
             0.4444444444444444,
             "#bd3786"
            ],
            [
             0.5555555555555556,
             "#d8576b"
            ],
            [
             0.6666666666666666,
             "#ed7953"
            ],
            [
             0.7777777777777778,
             "#fb9f3a"
            ],
            [
             0.8888888888888888,
             "#fdca26"
            ],
            [
             1,
             "#f0f921"
            ]
           ],
           "sequentialminus": [
            [
             0,
             "#0d0887"
            ],
            [
             0.1111111111111111,
             "#46039f"
            ],
            [
             0.2222222222222222,
             "#7201a8"
            ],
            [
             0.3333333333333333,
             "#9c179e"
            ],
            [
             0.4444444444444444,
             "#bd3786"
            ],
            [
             0.5555555555555556,
             "#d8576b"
            ],
            [
             0.6666666666666666,
             "#ed7953"
            ],
            [
             0.7777777777777778,
             "#fb9f3a"
            ],
            [
             0.8888888888888888,
             "#fdca26"
            ],
            [
             1,
             "#f0f921"
            ]
           ]
          },
          "colorway": [
           "#636efa",
           "#EF553B",
           "#00cc96",
           "#ab63fa",
           "#FFA15A",
           "#19d3f3",
           "#FF6692",
           "#B6E880",
           "#FF97FF",
           "#FECB52"
          ],
          "font": {
           "color": "#2a3f5f"
          },
          "geo": {
           "bgcolor": "white",
           "lakecolor": "white",
           "landcolor": "#E5ECF6",
           "showlakes": true,
           "showland": true,
           "subunitcolor": "white"
          },
          "hoverlabel": {
           "align": "left"
          },
          "hovermode": "closest",
          "mapbox": {
           "style": "light"
          },
          "paper_bgcolor": "white",
          "plot_bgcolor": "#E5ECF6",
          "polar": {
           "angularaxis": {
            "gridcolor": "white",
            "linecolor": "white",
            "ticks": ""
           },
           "bgcolor": "#E5ECF6",
           "radialaxis": {
            "gridcolor": "white",
            "linecolor": "white",
            "ticks": ""
           }
          },
          "scene": {
           "xaxis": {
            "backgroundcolor": "#E5ECF6",
            "gridcolor": "white",
            "gridwidth": 2,
            "linecolor": "white",
            "showbackground": true,
            "ticks": "",
            "zerolinecolor": "white"
           },
           "yaxis": {
            "backgroundcolor": "#E5ECF6",
            "gridcolor": "white",
            "gridwidth": 2,
            "linecolor": "white",
            "showbackground": true,
            "ticks": "",
            "zerolinecolor": "white"
           },
           "zaxis": {
            "backgroundcolor": "#E5ECF6",
            "gridcolor": "white",
            "gridwidth": 2,
            "linecolor": "white",
            "showbackground": true,
            "ticks": "",
            "zerolinecolor": "white"
           }
          },
          "shapedefaults": {
           "line": {
            "color": "#2a3f5f"
           }
          },
          "ternary": {
           "aaxis": {
            "gridcolor": "white",
            "linecolor": "white",
            "ticks": ""
           },
           "baxis": {
            "gridcolor": "white",
            "linecolor": "white",
            "ticks": ""
           },
           "bgcolor": "#E5ECF6",
           "caxis": {
            "gridcolor": "white",
            "linecolor": "white",
            "ticks": ""
           }
          },
          "title": {
           "x": 0.05
          },
          "xaxis": {
           "automargin": true,
           "gridcolor": "white",
           "linecolor": "white",
           "ticks": "",
           "title": {
            "standoff": 15
           },
           "zerolinecolor": "white",
           "zerolinewidth": 2
          },
          "yaxis": {
           "automargin": true,
           "gridcolor": "white",
           "linecolor": "white",
           "ticks": "",
           "title": {
            "standoff": 15
           },
           "zerolinecolor": "white",
           "zerolinewidth": 2
          }
         }
        },
        "title": {
         "text": "Stabilité de l'impact sur la cible pour EXT_SOURCE_2"
        },
        "xaxis": {
         "title": {
          "text": "Date"
         }
        },
        "yaxis": {
         "title": {
          "text": "Proportion de la cible (TARGET)"
         }
        }
       }
      }
     },
     "metadata": {},
     "output_type": "display_data"
    },
    {
     "data": {
      "application/vnd.plotly.v1+json": {
       "config": {
        "plotlyServerURL": "https://plot.ly"
       },
       "data": [
        {
         "mode": "lines+markers",
         "name": "Classe -1.1787955255359006",
         "type": "scatter",
         "x": [
          "2013-01-01T00:00:00",
          "2013-02-01T00:00:00",
          "2013-03-01T00:00:00",
          "2013-04-01T00:00:00",
          "2013-05-01T00:00:00",
          "2013-06-01T00:00:00",
          "2013-07-01T00:00:00",
          "2013-08-01T00:00:00",
          "2013-09-01T00:00:00",
          "2013-10-01T00:00:00",
          "2013-11-01T00:00:00",
          "2013-12-01T00:00:00",
          "2014-01-01T00:00:00",
          "2014-02-01T00:00:00",
          "2014-03-01T00:00:00",
          "2014-04-01T00:00:00",
          "2014-05-01T00:00:00",
          "2014-06-01T00:00:00",
          "2014-07-01T00:00:00",
          "2014-08-01T00:00:00",
          "2014-09-01T00:00:00",
          "2014-10-01T00:00:00",
          "2014-11-01T00:00:00",
          "2014-12-01T00:00:00",
          "2015-01-01T00:00:00",
          "2015-02-01T00:00:00",
          "2015-03-01T00:00:00",
          "2015-04-01T00:00:00",
          "2015-05-01T00:00:00",
          "2015-06-01T00:00:00",
          "2015-07-01T00:00:00",
          "2015-08-01T00:00:00",
          "2015-09-01T00:00:00",
          "2015-10-01T00:00:00",
          "2015-11-01T00:00:00",
          "2015-12-01T00:00:00",
          "2016-01-01T00:00:00",
          "2016-02-01T00:00:00",
          "2016-03-01T00:00:00",
          "2016-04-01T00:00:00",
          "2016-05-01T00:00:00",
          "2016-06-01T00:00:00",
          "2016-07-01T00:00:00",
          "2016-08-01T00:00:00",
          "2016-09-01T00:00:00",
          "2016-10-01T00:00:00",
          "2016-11-01T00:00:00",
          "2016-12-01T00:00:00",
          "2017-01-01T00:00:00",
          "2017-02-01T00:00:00",
          "2017-03-01T00:00:00",
          "2017-04-01T00:00:00",
          "2017-05-01T00:00:00",
          "2017-06-01T00:00:00",
          "2017-07-01T00:00:00",
          "2017-08-01T00:00:00",
          "2017-09-01T00:00:00",
          "2017-10-01T00:00:00",
          "2017-11-01T00:00:00",
          "2017-12-01T00:00:00",
          "2018-01-01T00:00:00",
          "2018-02-01T00:00:00",
          "2018-03-01T00:00:00",
          "2018-04-01T00:00:00",
          "2018-05-01T00:00:00",
          "2018-06-01T00:00:00",
          "2018-07-01T00:00:00",
          "2018-08-01T00:00:00",
          "2018-09-01T00:00:00",
          "2018-10-01T00:00:00",
          "2018-11-01T00:00:00",
          "2018-12-01T00:00:00",
          "2019-01-01T00:00:00",
          "2019-02-01T00:00:00",
          "2019-03-01T00:00:00",
          "2019-04-01T00:00:00",
          "2019-05-01T00:00:00",
          "2019-06-01T00:00:00",
          "2019-07-01T00:00:00",
          "2019-08-01T00:00:00",
          "2019-09-01T00:00:00",
          "2019-10-01T00:00:00",
          "2019-11-01T00:00:00",
          "2019-12-01T00:00:00",
          "2020-01-01T00:00:00",
          "2020-02-01T00:00:00",
          "2020-03-01T00:00:00",
          "2020-04-01T00:00:00",
          "2020-05-01T00:00:00",
          "2020-06-01T00:00:00",
          "2020-07-01T00:00:00",
          "2020-08-01T00:00:00",
          "2020-09-01T00:00:00",
          "2020-10-01T00:00:00",
          "2020-11-01T00:00:00",
          "2020-12-01T00:00:00"
         ],
         "y": [
          0.23170731707317074,
          0.21686746987951808,
          0.21052631578947367,
          0.18518518518518517,
          0.19047619047619047,
          0.20245398773006135,
          0.22962962962962963,
          0.23178807947019867,
          0.21518987341772153,
          0.20121951219512196,
          0.19753086419753085,
          0.22988505747126436,
          0.21084337349397592,
          0.19083969465648856,
          0.16363636363636364,
          0.22784810126582278,
          0.25157232704402516,
          0.25,
          0.20270270270270271,
          0.25161290322580643,
          0.22085889570552147,
          0.2,
          0.1917808219178082,
          0.2275449101796407,
          0.16071428571428573,
          0.15757575757575756,
          0.2023121387283237,
          0.19333333333333333,
          0.25,
          0.1875,
          0.18181818181818182,
          0.25609756097560976,
          0.18902439024390244,
          0.2727272727272727,
          0.2138728323699422,
          0.2919254658385093,
          0.19753086419753085,
          0.20114942528735633,
          0.24475524475524477,
          0.2875816993464052,
          0.23809523809523808,
          0.24,
          0.25161290322580643,
          0.22,
          0.13836477987421383,
          0.29069767441860467,
          0.20348837209302326,
          0.17543859649122806,
          0.25517241379310346,
          0.17721518987341772,
          0.192090395480226,
          0.19553072625698323,
          0.19540229885057472,
          0.2138364779874214,
          0.20915032679738563,
          0.20710059171597633,
          0.21142857142857144,
          0.2191780821917808,
          0.24503311258278146,
          0.2057142857142857,
          0.24675324675324675,
          0.1736111111111111,
          0.24848484848484848,
          0.22560975609756098,
          0.18181818181818182,
          0.25157232704402516,
          0.2411764705882353,
          0.20833333333333334,
          0.1813186813186813,
          0.25555555555555554,
          0.14,
          0.2155688622754491,
          0.21935483870967742,
          0.15432098765432098,
          0.15950920245398773,
          0.234375,
          0.22580645161290322,
          0.19078947368421054,
          0.19760479041916168,
          0.17687074829931973,
          0.18055555555555555,
          0.2867132867132867,
          0.1506849315068493,
          0.1793103448275862,
          0.18604651162790697,
          0.21084337349397592,
          0.18012422360248448,
          0.21739130434782608,
          0.17073170731707318,
          0.26993865030674846,
          0.2754491017964072,
          0.21764705882352942,
          0.1375,
          0.25280898876404495,
          0.21333333333333335,
          0.2546583850931677
         ]
        },
        {
         "mode": "lines+markers",
         "name": "Classe -0.43096870530152503",
         "type": "scatter",
         "x": [
          "2013-01-01T00:00:00",
          "2013-02-01T00:00:00",
          "2013-03-01T00:00:00",
          "2013-04-01T00:00:00",
          "2013-05-01T00:00:00",
          "2013-06-01T00:00:00",
          "2013-07-01T00:00:00",
          "2013-08-01T00:00:00",
          "2013-09-01T00:00:00",
          "2013-10-01T00:00:00",
          "2013-11-01T00:00:00",
          "2013-12-01T00:00:00",
          "2014-01-01T00:00:00",
          "2014-02-01T00:00:00",
          "2014-03-01T00:00:00",
          "2014-04-01T00:00:00",
          "2014-05-01T00:00:00",
          "2014-06-01T00:00:00",
          "2014-07-01T00:00:00",
          "2014-08-01T00:00:00",
          "2014-09-01T00:00:00",
          "2014-10-01T00:00:00",
          "2014-11-01T00:00:00",
          "2014-12-01T00:00:00",
          "2015-01-01T00:00:00",
          "2015-02-01T00:00:00",
          "2015-03-01T00:00:00",
          "2015-04-01T00:00:00",
          "2015-05-01T00:00:00",
          "2015-06-01T00:00:00",
          "2015-07-01T00:00:00",
          "2015-08-01T00:00:00",
          "2015-09-01T00:00:00",
          "2015-10-01T00:00:00",
          "2015-11-01T00:00:00",
          "2015-12-01T00:00:00",
          "2016-01-01T00:00:00",
          "2016-02-01T00:00:00",
          "2016-03-01T00:00:00",
          "2016-04-01T00:00:00",
          "2016-05-01T00:00:00",
          "2016-06-01T00:00:00",
          "2016-07-01T00:00:00",
          "2016-08-01T00:00:00",
          "2016-09-01T00:00:00",
          "2016-10-01T00:00:00",
          "2016-11-01T00:00:00",
          "2016-12-01T00:00:00",
          "2017-01-01T00:00:00",
          "2017-02-01T00:00:00",
          "2017-03-01T00:00:00",
          "2017-04-01T00:00:00",
          "2017-05-01T00:00:00",
          "2017-06-01T00:00:00",
          "2017-07-01T00:00:00",
          "2017-08-01T00:00:00",
          "2017-09-01T00:00:00",
          "2017-10-01T00:00:00",
          "2017-11-01T00:00:00",
          "2017-12-01T00:00:00",
          "2018-01-01T00:00:00",
          "2018-02-01T00:00:00",
          "2018-03-01T00:00:00",
          "2018-04-01T00:00:00",
          "2018-05-01T00:00:00",
          "2018-06-01T00:00:00",
          "2018-07-01T00:00:00",
          "2018-08-01T00:00:00",
          "2018-09-01T00:00:00",
          "2018-10-01T00:00:00",
          "2018-11-01T00:00:00",
          "2018-12-01T00:00:00",
          "2019-01-01T00:00:00",
          "2019-02-01T00:00:00",
          "2019-03-01T00:00:00",
          "2019-04-01T00:00:00",
          "2019-05-01T00:00:00",
          "2019-06-01T00:00:00",
          "2019-07-01T00:00:00",
          "2019-08-01T00:00:00",
          "2019-09-01T00:00:00",
          "2019-10-01T00:00:00",
          "2019-11-01T00:00:00",
          "2019-12-01T00:00:00",
          "2020-01-01T00:00:00",
          "2020-02-01T00:00:00",
          "2020-03-01T00:00:00",
          "2020-04-01T00:00:00",
          "2020-05-01T00:00:00",
          "2020-06-01T00:00:00",
          "2020-07-01T00:00:00",
          "2020-08-01T00:00:00",
          "2020-09-01T00:00:00",
          "2020-10-01T00:00:00",
          "2020-11-01T00:00:00",
          "2020-12-01T00:00:00"
         ],
         "y": [
          0.09195402298850575,
          0.09046052631578948,
          0.11556982343499198,
          0.1126984126984127,
          0.11026033690658499,
          0.10851419031719532,
          0.11519198664440734,
          0.125,
          0.13009404388714735,
          0.11980830670926518,
          0.11456628477905073,
          0.11093247588424437,
          0.12575757575757576,
          0.12274959083469722,
          0.1430817610062893,
          0.1362126245847176,
          0.09967320261437909,
          0.12248322147651007,
          0.12006578947368421,
          0.11736334405144695,
          0.1320754716981132,
          0.1206611570247934,
          0.11783960720130933,
          0.10465116279069768,
          0.10603588907014681,
          0.1026438569206843,
          0.11556240369799692,
          0.11645962732919254,
          0.11589403973509933,
          0.11459968602825746,
          0.11812297734627832,
          0.12074303405572756,
          0.11480865224625623,
          0.12079510703363915,
          0.11764705882352941,
          0.11736334405144695,
          0.10452418096723869,
          0.09491525423728814,
          0.09983079526226735,
          0.10333863275039745,
          0.10580204778156997,
          0.13355048859934854,
          0.11794019933554817,
          0.10714285714285714,
          0.10965630114566285,
          0.11367127496159754,
          0.0998439937597504,
          0.12857142857142856,
          0.10082644628099173,
          0.09915966386554621,
          0.13915857605177995,
          0.10366826156299841,
          0.12866449511400652,
          0.10628019323671498,
          0.10552763819095477,
          0.13087248322147652,
          0.11900826446280992,
          0.1228878648233487,
          0.125,
          0.11620294599018004,
          0.10284810126582279,
          0.1189358372456964,
          0.10197368421052631,
          0.1140215716486903,
          0.10452418096723869,
          0.12172573189522343,
          0.1060842433697348,
          0.11974110032362459,
          0.13170731707317074,
          0.11077389984825493,
          0.11728395061728394,
          0.1076158940397351,
          0.11037891268533773,
          0.10286677908937605,
          0.08766233766233766,
          0.09470304975922954,
          0.10696095076400679,
          0.07796610169491526,
          0.088379705400982,
          0.1046875,
          0.09119496855345911,
          0.10033444816053512,
          0.09523809523809523,
          0.10894308943089431,
          0.10396039603960396,
          0.10708661417322834,
          0.13263785394932937,
          0.12878787878787878,
          0.11800302571860817,
          0.14218009478672985,
          0.096,
          0.1294851794071763,
          0.1171993911719939,
          0.12863705972434916,
          0.09767441860465116,
          0.13679245283018868
         ]
        },
        {
         "mode": "lines+markers",
         "name": "Classe 0.23534888899786685",
         "type": "scatter",
         "x": [
          "2013-01-01T00:00:00",
          "2013-02-01T00:00:00",
          "2013-03-01T00:00:00",
          "2013-04-01T00:00:00",
          "2013-05-01T00:00:00",
          "2013-06-01T00:00:00",
          "2013-07-01T00:00:00",
          "2013-08-01T00:00:00",
          "2013-09-01T00:00:00",
          "2013-10-01T00:00:00",
          "2013-11-01T00:00:00",
          "2013-12-01T00:00:00",
          "2014-01-01T00:00:00",
          "2014-02-01T00:00:00",
          "2014-03-01T00:00:00",
          "2014-04-01T00:00:00",
          "2014-05-01T00:00:00",
          "2014-06-01T00:00:00",
          "2014-07-01T00:00:00",
          "2014-08-01T00:00:00",
          "2014-09-01T00:00:00",
          "2014-10-01T00:00:00",
          "2014-11-01T00:00:00",
          "2014-12-01T00:00:00",
          "2015-01-01T00:00:00",
          "2015-02-01T00:00:00",
          "2015-03-01T00:00:00",
          "2015-04-01T00:00:00",
          "2015-05-01T00:00:00",
          "2015-06-01T00:00:00",
          "2015-07-01T00:00:00",
          "2015-08-01T00:00:00",
          "2015-09-01T00:00:00",
          "2015-10-01T00:00:00",
          "2015-11-01T00:00:00",
          "2015-12-01T00:00:00",
          "2016-01-01T00:00:00",
          "2016-02-01T00:00:00",
          "2016-03-01T00:00:00",
          "2016-04-01T00:00:00",
          "2016-05-01T00:00:00",
          "2016-06-01T00:00:00",
          "2016-07-01T00:00:00",
          "2016-08-01T00:00:00",
          "2016-09-01T00:00:00",
          "2016-10-01T00:00:00",
          "2016-11-01T00:00:00",
          "2016-12-01T00:00:00",
          "2017-01-01T00:00:00",
          "2017-02-01T00:00:00",
          "2017-03-01T00:00:00",
          "2017-04-01T00:00:00",
          "2017-05-01T00:00:00",
          "2017-06-01T00:00:00",
          "2017-07-01T00:00:00",
          "2017-08-01T00:00:00",
          "2017-09-01T00:00:00",
          "2017-10-01T00:00:00",
          "2017-11-01T00:00:00",
          "2017-12-01T00:00:00",
          "2018-01-01T00:00:00",
          "2018-02-01T00:00:00",
          "2018-03-01T00:00:00",
          "2018-04-01T00:00:00",
          "2018-05-01T00:00:00",
          "2018-06-01T00:00:00",
          "2018-07-01T00:00:00",
          "2018-08-01T00:00:00",
          "2018-09-01T00:00:00",
          "2018-10-01T00:00:00",
          "2018-11-01T00:00:00",
          "2018-12-01T00:00:00",
          "2019-01-01T00:00:00",
          "2019-02-01T00:00:00",
          "2019-03-01T00:00:00",
          "2019-04-01T00:00:00",
          "2019-05-01T00:00:00",
          "2019-06-01T00:00:00",
          "2019-07-01T00:00:00",
          "2019-08-01T00:00:00",
          "2019-09-01T00:00:00",
          "2019-10-01T00:00:00",
          "2019-11-01T00:00:00",
          "2019-12-01T00:00:00",
          "2020-01-01T00:00:00",
          "2020-02-01T00:00:00",
          "2020-03-01T00:00:00",
          "2020-04-01T00:00:00",
          "2020-05-01T00:00:00",
          "2020-06-01T00:00:00",
          "2020-07-01T00:00:00",
          "2020-08-01T00:00:00",
          "2020-09-01T00:00:00",
          "2020-10-01T00:00:00",
          "2020-11-01T00:00:00",
          "2020-12-01T00:00:00"
         ],
         "y": [
          0.06456043956043957,
          0.07116279069767442,
          0.0641860465116279,
          0.06545114539504442,
          0.06807511737089202,
          0.06614246068455135,
          0.06264288980338363,
          0.06192660550458716,
          0.055970149253731345,
          0.06013986013986014,
          0.06669776119402986,
          0.0630841121495327,
          0.061487130600571975,
          0.06603346901854365,
          0.05939675174013921,
          0.05583756345177665,
          0.066543438077634,
          0.0605080831408776,
          0.06241331484049931,
          0.05703599812996728,
          0.056137012369172214,
          0.06847426470588236,
          0.06651480637813212,
          0.06430568499534017,
          0.0713956701980654,
          0.07024988213107025,
          0.06121472979435677,
          0.06355140186915888,
          0.062384473197781884,
          0.06628787878787878,
          0.0641860465116279,
          0.05660377358490566,
          0.06614246068455135,
          0.05846007604562738,
          0.061420345489443376,
          0.0568234746157429,
          0.06613131790269249,
          0.06539888682745826,
          0.06780442804428044,
          0.06352941176470588,
          0.06273234200743494,
          0.055110692416391896,
          0.06322104291647439,
          0.06593406593406594,
          0.07076780758556891,
          0.056057007125890734,
          0.06792452830188679,
          0.06022944550669216,
          0.06523722627737226,
          0.06828597616865262,
          0.05783582089552239,
          0.06494117647058824,
          0.06183170618317062,
          0.06471135940409684,
          0.06827492034592626,
          0.05844454670961804,
          0.0639887902849136,
          0.06132958801498127,
          0.05758426966292135,
          0.061567164179104475,
          0.0648320895522388,
          0.06778087279480037,
          0.06341911764705882,
          0.05990566037735849,
          0.06928838951310862,
          0.053763440860215055,
          0.06273764258555133,
          0.06396989651928504,
          0.0602181128496918,
          0.061105722599418044,
          0.06625650733554188,
          0.06427573358174196,
          0.049070986183897096,
          0.0531015037593985,
          0.05625,
          0.04790981681540629,
          0.046610169491525424,
          0.056100981767180924,
          0.051330798479087454,
          0.05026078710289237,
          0.054441260744985676,
          0.04541198501872659,
          0.05674418604651163,
          0.04950495049504951,
          0.05694444444444444,
          0.05977229601518026,
          0.05832147937411095,
          0.05938697318007663,
          0.06811731315042574,
          0.0572093023255814,
          0.06771073238139107,
          0.06060606060606061,
          0.0695364238410596,
          0.05846007604562738,
          0.07315936626281454,
          0.05672761368963901
         ]
        },
        {
         "mode": "lines+markers",
         "name": "Classe 0.9645270456825706",
         "type": "scatter",
         "x": [
          "2013-01-01T00:00:00",
          "2013-02-01T00:00:00",
          "2013-03-01T00:00:00",
          "2013-04-01T00:00:00",
          "2013-05-01T00:00:00",
          "2013-06-01T00:00:00",
          "2013-07-01T00:00:00",
          "2013-08-01T00:00:00",
          "2013-09-01T00:00:00",
          "2013-10-01T00:00:00",
          "2013-11-01T00:00:00",
          "2013-12-01T00:00:00",
          "2014-01-01T00:00:00",
          "2014-02-01T00:00:00",
          "2014-03-01T00:00:00",
          "2014-04-01T00:00:00",
          "2014-05-01T00:00:00",
          "2014-06-01T00:00:00",
          "2014-07-01T00:00:00",
          "2014-08-01T00:00:00",
          "2014-09-01T00:00:00",
          "2014-10-01T00:00:00",
          "2014-11-01T00:00:00",
          "2014-12-01T00:00:00",
          "2015-01-01T00:00:00",
          "2015-02-01T00:00:00",
          "2015-03-01T00:00:00",
          "2015-04-01T00:00:00",
          "2015-05-01T00:00:00",
          "2015-06-01T00:00:00",
          "2015-07-01T00:00:00",
          "2015-08-01T00:00:00",
          "2015-09-01T00:00:00",
          "2015-10-01T00:00:00",
          "2015-11-01T00:00:00",
          "2015-12-01T00:00:00",
          "2016-01-01T00:00:00",
          "2016-02-01T00:00:00",
          "2016-03-01T00:00:00",
          "2016-04-01T00:00:00",
          "2016-05-01T00:00:00",
          "2016-06-01T00:00:00",
          "2016-07-01T00:00:00",
          "2016-08-01T00:00:00",
          "2016-09-01T00:00:00",
          "2016-10-01T00:00:00",
          "2016-11-01T00:00:00",
          "2016-12-01T00:00:00",
          "2017-01-01T00:00:00",
          "2017-02-01T00:00:00",
          "2017-03-01T00:00:00",
          "2017-04-01T00:00:00",
          "2017-05-01T00:00:00",
          "2017-06-01T00:00:00",
          "2017-07-01T00:00:00",
          "2017-08-01T00:00:00",
          "2017-09-01T00:00:00",
          "2017-10-01T00:00:00",
          "2017-11-01T00:00:00",
          "2017-12-01T00:00:00",
          "2018-01-01T00:00:00",
          "2018-02-01T00:00:00",
          "2018-03-01T00:00:00",
          "2018-04-01T00:00:00",
          "2018-05-01T00:00:00",
          "2018-06-01T00:00:00",
          "2018-07-01T00:00:00",
          "2018-08-01T00:00:00",
          "2018-09-01T00:00:00",
          "2018-10-01T00:00:00",
          "2018-11-01T00:00:00",
          "2018-12-01T00:00:00",
          "2019-01-01T00:00:00",
          "2019-02-01T00:00:00",
          "2019-03-01T00:00:00",
          "2019-04-01T00:00:00",
          "2019-05-01T00:00:00",
          "2019-06-01T00:00:00",
          "2019-07-01T00:00:00",
          "2019-08-01T00:00:00",
          "2019-09-01T00:00:00",
          "2019-10-01T00:00:00",
          "2019-11-01T00:00:00",
          "2019-12-01T00:00:00",
          "2020-01-01T00:00:00",
          "2020-02-01T00:00:00",
          "2020-03-01T00:00:00",
          "2020-04-01T00:00:00",
          "2020-05-01T00:00:00",
          "2020-06-01T00:00:00",
          "2020-07-01T00:00:00",
          "2020-08-01T00:00:00",
          "2020-09-01T00:00:00",
          "2020-10-01T00:00:00",
          "2020-11-01T00:00:00",
          "2020-12-01T00:00:00"
         ],
         "y": [
          0.05128205128205128,
          0.029411764705882353,
          0.03333333333333333,
          0.02681992337164751,
          0.020242914979757085,
          0.026119402985074626,
          0.04059040590405904,
          0.020080321285140562,
          0.0622568093385214,
          0.031496062992125984,
          0.025089605734767026,
          0.02702702702702703,
          0.011111111111111112,
          0.024691358024691357,
          0.00847457627118644,
          0.03759398496240601,
          0.023076923076923078,
          0.0353356890459364,
          0.040145985401459854,
          0.050724637681159424,
          0.03767123287671233,
          0,
          0.0205761316872428,
          0.053003533568904596,
          0.024489795918367346,
          0.030303030303030304,
          0.035842293906810034,
          0.038461538461538464,
          0.025830258302583026,
          0.011194029850746268,
          0.03333333333333333,
          0.04150943396226415,
          0.037037037037037035,
          0.03728813559322034,
          0.039568345323741004,
          0.033962264150943396,
          0.03663003663003663,
          0.055350553505535055,
          0.02413793103448276,
          0.014035087719298246,
          0.04513888888888889,
          0.0353356890459364,
          0.01838235294117647,
          0.040293040293040296,
          0.030534351145038167,
          0.040892193308550186,
          0.030534351145038167,
          0.04,
          0.028,
          0.04296875,
          0.015810276679841896,
          0.03461538461538462,
          0.011811023622047244,
          0.048507462686567165,
          0.024193548387096774,
          0.046511627906976744,
          0.01824817518248175,
          0.023076923076923078,
          0.03018867924528302,
          0.041666666666666664,
          0.033962264150943396,
          0.019305019305019305,
          0.04065040650406504,
          0.04230769230769231,
          0.019157088122605363,
          0.05327868852459016,
          0.02527075812274368,
          0.02120141342756184,
          0.03125,
          0.023728813559322035,
          0.0425531914893617,
          0.02214022140221402,
          0.013745704467353952,
          0.022556390977443608,
          0.017421602787456445,
          0.03409090909090909,
          0.01444043321299639,
          0.03007518796992481,
          0.022813688212927757,
          0.01984126984126984,
          0.021897810218978103,
          0.025735294117647058,
          0.0163265306122449,
          0.03690036900369004,
          0.04428044280442804,
          0.014925373134328358,
          0.027888446215139442,
          0.03793103448275862,
          0.0449438202247191,
          0.026717557251908396,
          0.025,
          0.04032258064516129,
          0.05128205128205128,
          0.02247191011235955,
          0.019230769230769232,
          0.03308823529411765
         ]
        }
       ],
       "layout": {
        "annotations": [
         {
          "arrowcolor": "red",
          "arrowhead": 2,
          "ax": 0,
          "ay": -40,
          "showarrow": true,
          "text": "Max Stability\nDate: 2019-10-01 00:00:00\nValue: 1.04",
          "x": "2019-10-01T00:00:00",
          "y": 1.1391938832949537
         }
        ],
        "barmode": "stack",
        "legend": {
         "title": {
          "text": "Classes de EXT_SOURCE_3_BIN"
         }
        },
        "template": {
         "data": {
          "bar": [
           {
            "error_x": {
             "color": "#2a3f5f"
            },
            "error_y": {
             "color": "#2a3f5f"
            },
            "marker": {
             "line": {
              "color": "#E5ECF6",
              "width": 0.5
             },
             "pattern": {
              "fillmode": "overlay",
              "size": 10,
              "solidity": 0.2
             }
            },
            "type": "bar"
           }
          ],
          "barpolar": [
           {
            "marker": {
             "line": {
              "color": "#E5ECF6",
              "width": 0.5
             },
             "pattern": {
              "fillmode": "overlay",
              "size": 10,
              "solidity": 0.2
             }
            },
            "type": "barpolar"
           }
          ],
          "carpet": [
           {
            "aaxis": {
             "endlinecolor": "#2a3f5f",
             "gridcolor": "white",
             "linecolor": "white",
             "minorgridcolor": "white",
             "startlinecolor": "#2a3f5f"
            },
            "baxis": {
             "endlinecolor": "#2a3f5f",
             "gridcolor": "white",
             "linecolor": "white",
             "minorgridcolor": "white",
             "startlinecolor": "#2a3f5f"
            },
            "type": "carpet"
           }
          ],
          "choropleth": [
           {
            "colorbar": {
             "outlinewidth": 0,
             "ticks": ""
            },
            "type": "choropleth"
           }
          ],
          "contour": [
           {
            "colorbar": {
             "outlinewidth": 0,
             "ticks": ""
            },
            "colorscale": [
             [
              0,
              "#0d0887"
             ],
             [
              0.1111111111111111,
              "#46039f"
             ],
             [
              0.2222222222222222,
              "#7201a8"
             ],
             [
              0.3333333333333333,
              "#9c179e"
             ],
             [
              0.4444444444444444,
              "#bd3786"
             ],
             [
              0.5555555555555556,
              "#d8576b"
             ],
             [
              0.6666666666666666,
              "#ed7953"
             ],
             [
              0.7777777777777778,
              "#fb9f3a"
             ],
             [
              0.8888888888888888,
              "#fdca26"
             ],
             [
              1,
              "#f0f921"
             ]
            ],
            "type": "contour"
           }
          ],
          "contourcarpet": [
           {
            "colorbar": {
             "outlinewidth": 0,
             "ticks": ""
            },
            "type": "contourcarpet"
           }
          ],
          "heatmap": [
           {
            "colorbar": {
             "outlinewidth": 0,
             "ticks": ""
            },
            "colorscale": [
             [
              0,
              "#0d0887"
             ],
             [
              0.1111111111111111,
              "#46039f"
             ],
             [
              0.2222222222222222,
              "#7201a8"
             ],
             [
              0.3333333333333333,
              "#9c179e"
             ],
             [
              0.4444444444444444,
              "#bd3786"
             ],
             [
              0.5555555555555556,
              "#d8576b"
             ],
             [
              0.6666666666666666,
              "#ed7953"
             ],
             [
              0.7777777777777778,
              "#fb9f3a"
             ],
             [
              0.8888888888888888,
              "#fdca26"
             ],
             [
              1,
              "#f0f921"
             ]
            ],
            "type": "heatmap"
           }
          ],
          "heatmapgl": [
           {
            "colorbar": {
             "outlinewidth": 0,
             "ticks": ""
            },
            "colorscale": [
             [
              0,
              "#0d0887"
             ],
             [
              0.1111111111111111,
              "#46039f"
             ],
             [
              0.2222222222222222,
              "#7201a8"
             ],
             [
              0.3333333333333333,
              "#9c179e"
             ],
             [
              0.4444444444444444,
              "#bd3786"
             ],
             [
              0.5555555555555556,
              "#d8576b"
             ],
             [
              0.6666666666666666,
              "#ed7953"
             ],
             [
              0.7777777777777778,
              "#fb9f3a"
             ],
             [
              0.8888888888888888,
              "#fdca26"
             ],
             [
              1,
              "#f0f921"
             ]
            ],
            "type": "heatmapgl"
           }
          ],
          "histogram": [
           {
            "marker": {
             "pattern": {
              "fillmode": "overlay",
              "size": 10,
              "solidity": 0.2
             }
            },
            "type": "histogram"
           }
          ],
          "histogram2d": [
           {
            "colorbar": {
             "outlinewidth": 0,
             "ticks": ""
            },
            "colorscale": [
             [
              0,
              "#0d0887"
             ],
             [
              0.1111111111111111,
              "#46039f"
             ],
             [
              0.2222222222222222,
              "#7201a8"
             ],
             [
              0.3333333333333333,
              "#9c179e"
             ],
             [
              0.4444444444444444,
              "#bd3786"
             ],
             [
              0.5555555555555556,
              "#d8576b"
             ],
             [
              0.6666666666666666,
              "#ed7953"
             ],
             [
              0.7777777777777778,
              "#fb9f3a"
             ],
             [
              0.8888888888888888,
              "#fdca26"
             ],
             [
              1,
              "#f0f921"
             ]
            ],
            "type": "histogram2d"
           }
          ],
          "histogram2dcontour": [
           {
            "colorbar": {
             "outlinewidth": 0,
             "ticks": ""
            },
            "colorscale": [
             [
              0,
              "#0d0887"
             ],
             [
              0.1111111111111111,
              "#46039f"
             ],
             [
              0.2222222222222222,
              "#7201a8"
             ],
             [
              0.3333333333333333,
              "#9c179e"
             ],
             [
              0.4444444444444444,
              "#bd3786"
             ],
             [
              0.5555555555555556,
              "#d8576b"
             ],
             [
              0.6666666666666666,
              "#ed7953"
             ],
             [
              0.7777777777777778,
              "#fb9f3a"
             ],
             [
              0.8888888888888888,
              "#fdca26"
             ],
             [
              1,
              "#f0f921"
             ]
            ],
            "type": "histogram2dcontour"
           }
          ],
          "mesh3d": [
           {
            "colorbar": {
             "outlinewidth": 0,
             "ticks": ""
            },
            "type": "mesh3d"
           }
          ],
          "parcoords": [
           {
            "line": {
             "colorbar": {
              "outlinewidth": 0,
              "ticks": ""
             }
            },
            "type": "parcoords"
           }
          ],
          "pie": [
           {
            "automargin": true,
            "type": "pie"
           }
          ],
          "scatter": [
           {
            "fillpattern": {
             "fillmode": "overlay",
             "size": 10,
             "solidity": 0.2
            },
            "type": "scatter"
           }
          ],
          "scatter3d": [
           {
            "line": {
             "colorbar": {
              "outlinewidth": 0,
              "ticks": ""
             }
            },
            "marker": {
             "colorbar": {
              "outlinewidth": 0,
              "ticks": ""
             }
            },
            "type": "scatter3d"
           }
          ],
          "scattercarpet": [
           {
            "marker": {
             "colorbar": {
              "outlinewidth": 0,
              "ticks": ""
             }
            },
            "type": "scattercarpet"
           }
          ],
          "scattergeo": [
           {
            "marker": {
             "colorbar": {
              "outlinewidth": 0,
              "ticks": ""
             }
            },
            "type": "scattergeo"
           }
          ],
          "scattergl": [
           {
            "marker": {
             "colorbar": {
              "outlinewidth": 0,
              "ticks": ""
             }
            },
            "type": "scattergl"
           }
          ],
          "scattermapbox": [
           {
            "marker": {
             "colorbar": {
              "outlinewidth": 0,
              "ticks": ""
             }
            },
            "type": "scattermapbox"
           }
          ],
          "scatterpolar": [
           {
            "marker": {
             "colorbar": {
              "outlinewidth": 0,
              "ticks": ""
             }
            },
            "type": "scatterpolar"
           }
          ],
          "scatterpolargl": [
           {
            "marker": {
             "colorbar": {
              "outlinewidth": 0,
              "ticks": ""
             }
            },
            "type": "scatterpolargl"
           }
          ],
          "scatterternary": [
           {
            "marker": {
             "colorbar": {
              "outlinewidth": 0,
              "ticks": ""
             }
            },
            "type": "scatterternary"
           }
          ],
          "surface": [
           {
            "colorbar": {
             "outlinewidth": 0,
             "ticks": ""
            },
            "colorscale": [
             [
              0,
              "#0d0887"
             ],
             [
              0.1111111111111111,
              "#46039f"
             ],
             [
              0.2222222222222222,
              "#7201a8"
             ],
             [
              0.3333333333333333,
              "#9c179e"
             ],
             [
              0.4444444444444444,
              "#bd3786"
             ],
             [
              0.5555555555555556,
              "#d8576b"
             ],
             [
              0.6666666666666666,
              "#ed7953"
             ],
             [
              0.7777777777777778,
              "#fb9f3a"
             ],
             [
              0.8888888888888888,
              "#fdca26"
             ],
             [
              1,
              "#f0f921"
             ]
            ],
            "type": "surface"
           }
          ],
          "table": [
           {
            "cells": {
             "fill": {
              "color": "#EBF0F8"
             },
             "line": {
              "color": "white"
             }
            },
            "header": {
             "fill": {
              "color": "#C8D4E3"
             },
             "line": {
              "color": "white"
             }
            },
            "type": "table"
           }
          ]
         },
         "layout": {
          "annotationdefaults": {
           "arrowcolor": "#2a3f5f",
           "arrowhead": 0,
           "arrowwidth": 1
          },
          "autotypenumbers": "strict",
          "coloraxis": {
           "colorbar": {
            "outlinewidth": 0,
            "ticks": ""
           }
          },
          "colorscale": {
           "diverging": [
            [
             0,
             "#8e0152"
            ],
            [
             0.1,
             "#c51b7d"
            ],
            [
             0.2,
             "#de77ae"
            ],
            [
             0.3,
             "#f1b6da"
            ],
            [
             0.4,
             "#fde0ef"
            ],
            [
             0.5,
             "#f7f7f7"
            ],
            [
             0.6,
             "#e6f5d0"
            ],
            [
             0.7,
             "#b8e186"
            ],
            [
             0.8,
             "#7fbc41"
            ],
            [
             0.9,
             "#4d9221"
            ],
            [
             1,
             "#276419"
            ]
           ],
           "sequential": [
            [
             0,
             "#0d0887"
            ],
            [
             0.1111111111111111,
             "#46039f"
            ],
            [
             0.2222222222222222,
             "#7201a8"
            ],
            [
             0.3333333333333333,
             "#9c179e"
            ],
            [
             0.4444444444444444,
             "#bd3786"
            ],
            [
             0.5555555555555556,
             "#d8576b"
            ],
            [
             0.6666666666666666,
             "#ed7953"
            ],
            [
             0.7777777777777778,
             "#fb9f3a"
            ],
            [
             0.8888888888888888,
             "#fdca26"
            ],
            [
             1,
             "#f0f921"
            ]
           ],
           "sequentialminus": [
            [
             0,
             "#0d0887"
            ],
            [
             0.1111111111111111,
             "#46039f"
            ],
            [
             0.2222222222222222,
             "#7201a8"
            ],
            [
             0.3333333333333333,
             "#9c179e"
            ],
            [
             0.4444444444444444,
             "#bd3786"
            ],
            [
             0.5555555555555556,
             "#d8576b"
            ],
            [
             0.6666666666666666,
             "#ed7953"
            ],
            [
             0.7777777777777778,
             "#fb9f3a"
            ],
            [
             0.8888888888888888,
             "#fdca26"
            ],
            [
             1,
             "#f0f921"
            ]
           ]
          },
          "colorway": [
           "#636efa",
           "#EF553B",
           "#00cc96",
           "#ab63fa",
           "#FFA15A",
           "#19d3f3",
           "#FF6692",
           "#B6E880",
           "#FF97FF",
           "#FECB52"
          ],
          "font": {
           "color": "#2a3f5f"
          },
          "geo": {
           "bgcolor": "white",
           "lakecolor": "white",
           "landcolor": "#E5ECF6",
           "showlakes": true,
           "showland": true,
           "subunitcolor": "white"
          },
          "hoverlabel": {
           "align": "left"
          },
          "hovermode": "closest",
          "mapbox": {
           "style": "light"
          },
          "paper_bgcolor": "white",
          "plot_bgcolor": "#E5ECF6",
          "polar": {
           "angularaxis": {
            "gridcolor": "white",
            "linecolor": "white",
            "ticks": ""
           },
           "bgcolor": "#E5ECF6",
           "radialaxis": {
            "gridcolor": "white",
            "linecolor": "white",
            "ticks": ""
           }
          },
          "scene": {
           "xaxis": {
            "backgroundcolor": "#E5ECF6",
            "gridcolor": "white",
            "gridwidth": 2,
            "linecolor": "white",
            "showbackground": true,
            "ticks": "",
            "zerolinecolor": "white"
           },
           "yaxis": {
            "backgroundcolor": "#E5ECF6",
            "gridcolor": "white",
            "gridwidth": 2,
            "linecolor": "white",
            "showbackground": true,
            "ticks": "",
            "zerolinecolor": "white"
           },
           "zaxis": {
            "backgroundcolor": "#E5ECF6",
            "gridcolor": "white",
            "gridwidth": 2,
            "linecolor": "white",
            "showbackground": true,
            "ticks": "",
            "zerolinecolor": "white"
           }
          },
          "shapedefaults": {
           "line": {
            "color": "#2a3f5f"
           }
          },
          "ternary": {
           "aaxis": {
            "gridcolor": "white",
            "linecolor": "white",
            "ticks": ""
           },
           "baxis": {
            "gridcolor": "white",
            "linecolor": "white",
            "ticks": ""
           },
           "bgcolor": "#E5ECF6",
           "caxis": {
            "gridcolor": "white",
            "linecolor": "white",
            "ticks": ""
           }
          },
          "title": {
           "x": 0.05
          },
          "xaxis": {
           "automargin": true,
           "gridcolor": "white",
           "linecolor": "white",
           "ticks": "",
           "title": {
            "standoff": 15
           },
           "zerolinecolor": "white",
           "zerolinewidth": 2
          },
          "yaxis": {
           "automargin": true,
           "gridcolor": "white",
           "linecolor": "white",
           "ticks": "",
           "title": {
            "standoff": 15
           },
           "zerolinecolor": "white",
           "zerolinewidth": 2
          }
         }
        },
        "title": {
         "text": "Stabilité de l'impact sur la cible pour EXT_SOURCE_3"
        },
        "xaxis": {
         "title": {
          "text": "Date"
         }
        },
        "yaxis": {
         "title": {
          "text": "Proportion de la cible (TARGET)"
         }
        }
       }
      }
     },
     "metadata": {},
     "output_type": "display_data"
    }
   ],
   "source": [
    "# Créer une fonction pour calculer la stabilité de l'impact sur la cible\n",
    "def calculate_stability(column):\n",
    "    stability_df = sous_data.groupby(['date_mensuelle', column])['TARGET'].mean().unstack()\n",
    "    \n",
    "    # Calcul de la stabilité pour chaque combinaison de 'date' et de la var disctétisée spécifiée 'column'\n",
    "    stability_df['stability'] = stability_df.std(axis=1) / stability_df.mean(axis=1)\n",
    "    return stability_df\n",
    "\n",
    "# Tracer la stabilité de l'impact sur la cible au fil du temps avec Plotly\n",
    "for column in float_columns:\n",
    "    stability_df = calculate_stability(f\"{column}_BIN\")  # Utilisez la colonne discrétisée\n",
    "    \n",
    "    # Créer un graphique en barres empilées avec Plotly\n",
    "    fig = go.Figure()\n",
    "    \n",
    "    for class_label in stability_df.columns[:-1]:\n",
    "        fig.add_trace(go.Scatter(x=stability_df.index, y=stability_df[class_label],\n",
    "                                 mode='lines+markers', name=f'Classe {class_label}'))\n",
    "    \n",
    "    # Ajouter une annotation pour le maximum de stabilité\n",
    "    max_stability_date = stability_df['stability'].idxmax()\n",
    "    max_stability_value = stability_df['stability'].max()\n",
    "    fig.add_annotation(text=f'Max Stability\\nDate: {max_stability_date}\\nValue: {max_stability_value:.2f}',\n",
    "                       x=max_stability_date, y=max_stability_value + 0.1, showarrow=True,\n",
    "                       arrowhead=2, arrowcolor='red', ax=0, ay=-40)\n",
    "    \n",
    "    # Personnaliser la mise en page\n",
    "    fig.update_layout(title=f'Stabilité de l\\'impact sur la cible pour {column}',\n",
    "                      xaxis_title='Date',\n",
    "                      yaxis_title='Proportion de la cible (TARGET)',\n",
    "                      legend_title=f'Classes de {column}_BIN',\n",
    "                      barmode='stack') # pour empiler les lignes les unes sur les autres pour chaque date\n",
    "    \n",
    "    # Afficher le graphique interactif\n",
    "    fig.show()"
   ]
  },
  {
   "cell_type": "code",
   "execution_count": 38,
   "id": "38b4bf5e",
   "metadata": {},
   "outputs": [
    {
     "name": "stdout",
     "output_type": "stream",
     "text": [
      "8.173616518884397e-08\n",
      "0.8549996664047012\n"
     ]
    }
   ],
   "source": [
    "print(data['EXT_SOURCE_2'].min())\n",
    "print(data['EXT_SOURCE_2'].max())"
   ]
  },
  {
   "cell_type": "code",
   "execution_count": 39,
   "id": "41ecfaa6",
   "metadata": {},
   "outputs": [
    {
     "name": "stdout",
     "output_type": "stream",
     "text": [
      "0.0005272652387098\n",
      "0.8960095494948396\n"
     ]
    }
   ],
   "source": [
    "print(data['EXT_SOURCE_3'].min())\n",
    "print(data['EXT_SOURCE_3'].max())"
   ]
  },
  {
   "cell_type": "markdown",
   "id": "da45d303",
   "metadata": {},
   "source": [
    "<a class=\"anchor\" id=\"section_3_1\"></a>\n",
    "\n",
    "<div style=\"border: 1px solid RGB(119, 150, 203);\" >\n",
    "    <h3 style=\"margin: auto; padding: 20px; color: RGB(119, 150, 203); \">Analyse des résultats</h3>\n",
    "</div>"
   ]
  },
  {
   "cell_type": "markdown",
   "id": "4037d337",
   "metadata": {},
   "source": [
    "<div>\n",
    "'EXT_SOURCE_2' : 0.15 et 0.75 les 2 classes sont les plus stables dans le temps \n",
    "(-1.17, 0.15] & (0.15, 0.75]\n",
    "<div>\n",
    "'EXT_SOURCE_3' : la classe 0.24 est la plus stable dans le temps (donc l'intervalle (0.24, 0.96])\n",
    "<div>\n",
    "4 points de coupure pour diviser 'EXT_SOURCE_3' en classes discrètes :\n",
    "<div>\n",
    "Classe 1 : <=-0.43\n",
    "<div>\n",
    "Classe 2 : (-0.43, -1.17]\n",
    "<div>\n",
    "Classe 3 : (-1.17,0.24]\n",
    "<div>\n",
    "Classe 4 : (0.24, 0.96]"
   ]
  },
  {
   "cell_type": "markdown",
   "id": "a8c74071",
   "metadata": {},
   "source": [
    "# var catégorielles : 'ORGANIZATION_TYPE'"
   ]
  },
  {
   "cell_type": "code",
   "execution_count": null,
   "id": "5fa648ba",
   "metadata": {},
   "outputs": [
    {
     "name": "stdout",
     "output_type": "stream",
     "text": [
      "ORGANIZATION_TYPE : 58\n"
     ]
    }
   ],
   "source": [
    "for col in obj_columns:\n",
    "    print(f\"{col} : {sous_data[col].nunique()}z\")"
   ]
  },
  {
   "cell_type": "markdown",
   "id": "3b9cbba2",
   "metadata": {},
   "source": [
    "# variables indicatrices"
   ]
  },
  {
   "cell_type": "code",
   "execution_count": 24,
   "id": "433b3970",
   "metadata": {},
   "outputs": [
    {
     "name": "stdout",
     "output_type": "stream",
     "text": [
      "HOUR_APPR_PROCESS_START : 24\n",
      "REG_REGION_NOT_LIVE_REGION : 2\n",
      "REG_REGION_NOT_WORK_REGION : 2\n",
      "REG_CITY_NOT_LIVE_CITY : 2\n",
      "REG_CITY_NOT_WORK_CITY : 2\n",
      "LIVE_CITY_NOT_WORK_CITY : 2\n",
      "TARGET : 2\n"
     ]
    }
   ],
   "source": [
    "for col in int_columns:\n",
    "    print(f\"{col} : {sous_data[col].nunique()}\")\n",
    "\n",
    "# \"HOUR_APPR_PROCESS_START\" : Label encoding "
   ]
  },
  {
   "cell_type": "code",
   "execution_count": 25,
   "id": "d55f2dd6",
   "metadata": {},
   "outputs": [
    {
     "name": "stderr",
     "output_type": "stream",
     "text": [
      "C:\\Users\\jinzhou\\AppData\\Local\\Temp\\ipykernel_5220\\2026607247.py:7: SettingWithCopyWarning:\n",
      "\n",
      "\n",
      "A value is trying to be set on a copy of a slice from a DataFrame.\n",
      "Try using .loc[row_indexer,col_indexer] = value instead\n",
      "\n",
      "See the caveats in the documentation: https://pandas.pydata.org/pandas-docs/stable/user_guide/indexing.html#returning-a-view-versus-a-copy\n",
      "\n"
     ]
    }
   ],
   "source": [
    "from sklearn.preprocessing import LabelEncoder\n",
    "\n",
    "# Créer un label encoder\n",
    "label_encoder = LabelEncoder()\n",
    "\n",
    "# Appliquer le label encoding à la variable \"HOUR_APPR_PROCESS_START\"\n",
    "sous_data['HOUR_APPR_PROCESS_START'] = label_encoder.fit_transform(sous_data['HOUR_APPR_PROCESS_START'])"
   ]
  },
  {
   "cell_type": "markdown",
   "id": "2546faf1",
   "metadata": {},
   "source": [
    "### OHE"
   ]
  },
  {
   "cell_type": "code",
   "execution_count": 26,
   "id": "45e59ae7",
   "metadata": {},
   "outputs": [],
   "source": [
    "int_columns = int_columns.drop(\"HOUR_APPR_PROCESS_START\")\n",
    "\n",
    "# Sélectionnez uniquement les colonnes de votre liste dans le DataFrame\n",
    "selected_columns = sous_data[int_columns]\n",
    "\n",
    "# Effectuez le codage one-hot\n",
    "sous_data_encoded = pd.get_dummies(selected_columns, columns=int_columns, drop_first=True)\n",
    "\n",
    "# Concaténez le DataFrame encodé avec le reste du DataFrame original\n",
    "sous_data = pd.concat([sous_data.drop(columns=selected_columns.columns), sous_data_encoded], axis=1)"
   ]
  },
  {
   "cell_type": "code",
   "execution_count": null,
   "id": "017ae2c4",
   "metadata": {},
   "outputs": [],
   "source": [
    "sous_data.head()"
   ]
  }
 ],
 "metadata": {
  "kernelspec": {
   "display_name": "myenv",
   "language": "python",
   "name": "myenv"
  },
  "language_info": {
   "codemirror_mode": {
    "name": "ipython",
    "version": 3
   },
   "file_extension": ".py",
   "mimetype": "text/x-python",
   "name": "python",
   "nbconvert_exporter": "python",
   "pygments_lexer": "ipython3",
   "version": "3.10.11"
  }
 },
 "nbformat": 4,
 "nbformat_minor": 5
}
