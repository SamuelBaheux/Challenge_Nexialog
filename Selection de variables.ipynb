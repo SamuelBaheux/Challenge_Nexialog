{
 "cells": [
  {
   "cell_type": "code",
   "execution_count": 33,
   "id": "initial_id",
   "metadata": {
    "collapsed": true,
    "ExecuteTime": {
     "end_time": "2024-02-18T16:33:08.588398200Z",
     "start_time": "2024-02-18T16:33:08.540541200Z"
    }
   },
   "outputs": [],
   "source": [
    "import pandas as pd\n",
    "import matplotlib.pyplot as plt\n",
    "import seaborn as sns\n",
    "import plotly.express as px\n",
    "from scipy.stats import zscore\n",
    "import scipy.stats as stats\n",
    "from scipy.stats import chi2_contingency\n",
    "import numpy as np\n",
    "from sklearn.model_selection import train_test_split\n",
    "from sklearn.linear_model import LogisticRegression\n",
    "from sklearn.preprocessing import MinMaxScaler\n",
    "from sklearn.metrics import roc_curve, auc\n",
    "from mlxtend.evaluate import permutation_test\n",
    "import statsmodels.api as sm\n",
    "import warnings\n",
    "from category_encoders import TargetEncoder\n",
    "\n",
    "# Ignorer les avertissements de dépassement de capacité et de division par zéro\n",
    "warnings.filterwarnings(\"ignore\", category=RuntimeWarning)"
   ]
  },
  {
   "cell_type": "code",
   "execution_count": 34,
   "outputs": [],
   "source": [
    "df_app = pd.read_csv('./data/application_train_vf.csv')"
   ],
   "metadata": {
    "collapsed": false,
    "ExecuteTime": {
     "end_time": "2024-02-18T16:33:11.867221200Z",
     "start_time": "2024-02-18T16:33:08.804241800Z"
    }
   },
   "id": "542ac1896fe7c55b"
  },
  {
   "cell_type": "code",
   "execution_count": 35,
   "outputs": [],
   "source": [
    "df_app['date_mensuelle'] = pd.to_datetime(df_app['date_mensuelle'])"
   ],
   "metadata": {
    "collapsed": false,
    "ExecuteTime": {
     "end_time": "2024-02-18T16:33:11.914499900Z",
     "start_time": "2024-02-18T16:33:11.867221200Z"
    }
   },
   "id": "88ac5db14189e3ba"
  },
  {
   "cell_type": "code",
   "execution_count": 37,
   "outputs": [],
   "source": [
    "X = df_app.drop(columns = ['SK_ID_CURR'], axis=1).copy()\n",
    "X = X[X['date_mensuelle']<'2020-01-01']\n",
    "y = df_app[df_app['date_mensuelle']<'2020-01-01']['TARGET']\n",
    "\n",
    "X_train, X_test, y_train, y_test = train_test_split(X, y, test_size=0.2, random_state=42, stratify = y)\n",
    "X_train.drop(columns = 'TARGET',inplace =True)\n",
    "X_test.drop(columns = 'TARGET',inplace =True)"
   ],
   "metadata": {
    "collapsed": false,
    "ExecuteTime": {
     "end_time": "2024-02-18T16:33:27.929400400Z",
     "start_time": "2024-02-18T16:33:26.570514700Z"
    }
   },
   "id": "7d150b68a2c33fa1"
  },
  {
   "cell_type": "code",
   "execution_count": 38,
   "outputs": [
    {
     "data": {
      "text/plain": "['CNT_CHILDREN',\n 'AMT_INCOME_TOTAL',\n 'AMT_CREDIT',\n 'AMT_ANNUITY',\n 'AMT_GOODS_PRICE',\n 'REGION_POPULATION_RELATIVE',\n 'DAYS_BIRTH',\n 'DAYS_EMPLOYED',\n 'DAYS_REGISTRATION',\n 'DAYS_ID_PUBLISH',\n 'OWN_CAR_AGE',\n 'FLAG_MOBIL',\n 'FLAG_EMP_PHONE',\n 'FLAG_WORK_PHONE',\n 'FLAG_CONT_MOBILE',\n 'FLAG_PHONE',\n 'FLAG_EMAIL',\n 'CNT_FAM_MEMBERS',\n 'REGION_RATING_CLIENT',\n 'REGION_RATING_CLIENT_W_CITY',\n 'HOUR_APPR_PROCESS_START',\n 'REG_REGION_NOT_LIVE_REGION',\n 'REG_REGION_NOT_WORK_REGION',\n 'LIVE_REGION_NOT_WORK_REGION',\n 'REG_CITY_NOT_LIVE_CITY',\n 'REG_CITY_NOT_WORK_CITY',\n 'LIVE_CITY_NOT_WORK_CITY',\n 'EXT_SOURCE_1',\n 'EXT_SOURCE_2',\n 'EXT_SOURCE_3',\n 'APARTMENTS_AVG',\n 'BASEMENTAREA_AVG',\n 'YEARS_BEGINEXPLUATATION_AVG',\n 'YEARS_BUILD_AVG',\n 'COMMONAREA_AVG',\n 'ELEVATORS_AVG',\n 'ENTRANCES_AVG',\n 'FLOORSMAX_AVG',\n 'FLOORSMIN_AVG',\n 'LANDAREA_AVG',\n 'LIVINGAPARTMENTS_AVG',\n 'LIVINGAREA_AVG',\n 'NONLIVINGAPARTMENTS_AVG',\n 'NONLIVINGAREA_AVG',\n 'APARTMENTS_MODE',\n 'BASEMENTAREA_MODE',\n 'YEARS_BEGINEXPLUATATION_MODE',\n 'YEARS_BUILD_MODE',\n 'COMMONAREA_MODE',\n 'ELEVATORS_MODE',\n 'ENTRANCES_MODE',\n 'FLOORSMAX_MODE',\n 'FLOORSMIN_MODE',\n 'LANDAREA_MODE',\n 'LIVINGAPARTMENTS_MODE',\n 'LIVINGAREA_MODE',\n 'NONLIVINGAPARTMENTS_MODE',\n 'NONLIVINGAREA_MODE',\n 'APARTMENTS_MEDI',\n 'BASEMENTAREA_MEDI',\n 'YEARS_BEGINEXPLUATATION_MEDI',\n 'YEARS_BUILD_MEDI',\n 'COMMONAREA_MEDI',\n 'ELEVATORS_MEDI',\n 'ENTRANCES_MEDI',\n 'FLOORSMAX_MEDI',\n 'FLOORSMIN_MEDI',\n 'LANDAREA_MEDI',\n 'LIVINGAPARTMENTS_MEDI',\n 'LIVINGAREA_MEDI',\n 'NONLIVINGAPARTMENTS_MEDI',\n 'NONLIVINGAREA_MEDI',\n 'TOTALAREA_MODE',\n 'OBS_30_CNT_SOCIAL_CIRCLE',\n 'DEF_30_CNT_SOCIAL_CIRCLE',\n 'OBS_60_CNT_SOCIAL_CIRCLE',\n 'DEF_60_CNT_SOCIAL_CIRCLE',\n 'DAYS_LAST_PHONE_CHANGE',\n 'FLAG_DOCUMENT_2',\n 'FLAG_DOCUMENT_3',\n 'FLAG_DOCUMENT_4',\n 'FLAG_DOCUMENT_5',\n 'FLAG_DOCUMENT_6',\n 'FLAG_DOCUMENT_7',\n 'FLAG_DOCUMENT_8',\n 'FLAG_DOCUMENT_9',\n 'FLAG_DOCUMENT_10',\n 'FLAG_DOCUMENT_11',\n 'FLAG_DOCUMENT_12',\n 'FLAG_DOCUMENT_13',\n 'FLAG_DOCUMENT_14',\n 'FLAG_DOCUMENT_15',\n 'FLAG_DOCUMENT_16',\n 'FLAG_DOCUMENT_17',\n 'FLAG_DOCUMENT_18',\n 'FLAG_DOCUMENT_19',\n 'FLAG_DOCUMENT_20',\n 'FLAG_DOCUMENT_21',\n 'AMT_REQ_CREDIT_BUREAU_HOUR',\n 'AMT_REQ_CREDIT_BUREAU_DAY',\n 'AMT_REQ_CREDIT_BUREAU_WEEK',\n 'AMT_REQ_CREDIT_BUREAU_MON',\n 'AMT_REQ_CREDIT_BUREAU_QRT',\n 'AMT_REQ_CREDIT_BUREAU_YEAR']"
     },
     "execution_count": 38,
     "metadata": {},
     "output_type": "execute_result"
    }
   ],
   "source": [
    "df_app.drop(columns = ['date_mensuelle','Unnamed: 0','SK_ID_CURR','TARGET']).select_dtypes(include ='number').columns.to_list()"
   ],
   "metadata": {
    "collapsed": false,
    "ExecuteTime": {
     "end_time": "2024-02-18T16:33:29.246461900Z",
     "start_time": "2024-02-18T16:33:28.992353100Z"
    }
   },
   "id": "23895455c1ab731"
  },
  {
   "cell_type": "code",
   "execution_count": 39,
   "outputs": [
    {
     "name": "stdout",
     "output_type": "stream",
     "text": [
      "CNT_CHILDREN gini : 0.03216619164155565\n",
      "AMT_INCOME_TOTAL gini : 0.04213384721289759\n",
      "AMT_CREDIT gini : 0.04107928355513213\n",
      "AMT_ANNUITY gini : 0.00598573174288175\n",
      "AMT_GOODS_PRICE gini : 0.06942864076560973\n",
      "REGION_POPULATION_RELATIVE gini : 0.05953560374272504\n",
      "DAYS_BIRTH gini : 0.15614267742882615\n",
      "DAYS_EMPLOYED gini : -0.053450406972955444\n",
      "DAYS_REGISTRATION gini : 0.08274027632448533\n",
      "DAYS_ID_PUBLISH gini : 0.09341884774246134\n",
      "OWN_CAR_AGE gini : 0.05660736343806838\n",
      "FLAG_EMP_PHONE gini : 0.0577214498634655\n",
      "FLAG_WORK_PHONE gini : 0.03612975627112758\n",
      "FLAG_CONT_MOBILE gini : -0.00017725304652438378\n",
      "FLAG_PHONE gini : 0.044516028673380115\n",
      "FLAG_EMAIL gini : 0.00795671263833797\n",
      "CNT_FAM_MEMBERS gini : 0.003484653084320666\n",
      "REGION_RATING_CLIENT gini : 0.09586979337717971\n",
      "REGION_RATING_CLIENT_W_CITY gini : 0.1002639857983958\n",
      "HOUR_APPR_PROCESS_START gini : 0.05513527510663718\n",
      "REG_REGION_NOT_LIVE_REGION gini : 0.0014036208315642007\n",
      "REG_REGION_NOT_WORK_REGION gini : -0.0010641907410500195\n",
      "LIVE_REGION_NOT_WORK_REGION gini : -0.0017964621977024642\n",
      "REG_CITY_NOT_LIVE_CITY gini : 0.05134579899698344\n",
      "REG_CITY_NOT_WORK_CITY gini : 0.08616948591375251\n",
      "LIVE_CITY_NOT_WORK_CITY gini : 0.04101127095596491\n",
      "EXT_SOURCE_1 gini : 0.16417549693204103\n",
      "EXT_SOURCE_2 gini : 0.32589210724541084\n",
      "EXT_SOURCE_3 gini : 0.3092739369489832\n",
      "APARTMENTS_AVG gini : 0.007923905397663855\n",
      "BASEMENTAREA_AVG gini : -0.004555746449030229\n",
      "YEARS_BEGINEXPLUATATION_AVG gini : 0.05876129352794002\n",
      "YEARS_BUILD_AVG gini : 0.019770226689874493\n",
      "COMMONAREA_AVG gini : -0.01075362508884159\n",
      "ELEVATORS_AVG gini : 0.017586950560303904\n",
      "ENTRANCES_AVG gini : -0.004035048318860035\n",
      "FLOORSMAX_AVG gini : 0.026587981701520658\n",
      "FLOORSMIN_AVG gini : 0.009830166779452254\n",
      "LANDAREA_AVG gini : -0.014668129666873031\n",
      "LIVINGAPARTMENTS_AVG gini : 0.0008053967441177257\n",
      "LIVINGAREA_AVG gini : 0.007557888339085439\n",
      "NONLIVINGAPARTMENTS_AVG gini : -0.03307929601545567\n",
      "NONLIVINGAREA_AVG gini : -0.03498618041341972\n",
      "APARTMENTS_MODE gini : 0.0016922751037693473\n",
      "BASEMENTAREA_MODE gini : -0.009815674236511196\n",
      "YEARS_BEGINEXPLUATATION_MODE gini : 0.06575318156065935\n",
      "YEARS_BUILD_MODE gini : 0.01681023728312714\n",
      "COMMONAREA_MODE gini : -0.011204970640609768\n",
      "ELEVATORS_MODE gini : 0.011052786578293228\n",
      "ENTRANCES_MODE gini : -0.009329731508706973\n",
      "FLOORSMAX_MODE gini : 0.021685778923995702\n",
      "FLOORSMIN_MODE gini : 0.006389169328577582\n",
      "LANDAREA_MODE gini : -0.01748302058415785\n",
      "LIVINGAPARTMENTS_MODE gini : -0.0025073829889092902\n",
      "LIVINGAREA_MODE gini : 0.0010225871053255453\n",
      "NONLIVINGAPARTMENTS_MODE gini : -0.03225116412550233\n",
      "NONLIVINGAREA_MODE gini : -0.03938544102177832\n",
      "APARTMENTS_MEDI gini : 0.0066150028030782515\n",
      "BASEMENTAREA_MEDI gini : -0.00565938993662729\n",
      "YEARS_BEGINEXPLUATATION_MEDI gini : 0.05858999869166581\n",
      "YEARS_BUILD_MEDI gini : 0.01958691654164313\n",
      "COMMONAREA_MEDI gini : -0.010873862266155054\n",
      "ELEVATORS_MEDI gini : 0.01729649151901924\n",
      "ENTRANCES_MEDI gini : -0.006012289043508812\n",
      "FLOORSMAX_MEDI gini : 0.025598676515860452\n",
      "FLOORSMIN_MEDI gini : 0.008390144002772049\n",
      "LANDAREA_MEDI gini : -0.015526057552652128\n",
      "LIVINGAPARTMENTS_MEDI gini : 0.002503002097389073\n",
      "LIVINGAREA_MEDI gini : 0.0065945124933037835\n",
      "NONLIVINGAPARTMENTS_MEDI gini : -0.034545549750956694\n",
      "NONLIVINGAREA_MEDI gini : -0.03690279573069788\n",
      "TOTALAREA_MODE gini : 0.0049815631713183706\n",
      "OBS_30_CNT_SOCIAL_CIRCLE gini : 0.01399154398934277\n",
      "DEF_30_CNT_SOCIAL_CIRCLE gini : 0.031380647357318825\n",
      "OBS_60_CNT_SOCIAL_CIRCLE gini : 0.015320996228576522\n",
      "DEF_60_CNT_SOCIAL_CIRCLE gini : 0.025390198491964666\n",
      "DAYS_LAST_PHONE_CHANGE gini : 0.10270470111194552\n",
      "FLAG_DOCUMENT_2 gini : -4.0436716538638784e-05\n",
      "FLAG_DOCUMENT_3 gini : 0.07601536061214587\n",
      "FLAG_DOCUMENT_4 gini : 6.0655074807902665e-05\n",
      "FLAG_DOCUMENT_5 gini : 0.0017573605158258676\n",
      "FLAG_DOCUMENT_6 gini : 0.024909422842759543\n",
      "FLAG_DOCUMENT_7 gini : 0.00018196522442393004\n",
      "FLAG_DOCUMENT_8 gini : 0.0100350946000618\n",
      "FLAG_DOCUMENT_9 gini : 0.0002780778309385834\n",
      "FLAG_DOCUMENT_10 gini : 6.0655074807902665e-05\n",
      "FLAG_DOCUMENT_11 gini : 0.0022143280468926996\n",
      "FLAG_DOCUMENT_12 gini : 0.0\n",
      "FLAG_DOCUMENT_13 gini : 0.0018263026946832017\n",
      "FLAG_DOCUMENT_14 gini : 0.0015654023097286807\n",
      "FLAG_DOCUMENT_15 gini : 0.0006816093635177989\n",
      "FLAG_DOCUMENT_16 gini : 0.005379754565249861\n",
      "FLAG_DOCUMENT_17 gini : 0.00018196522442393004\n",
      "FLAG_DOCUMENT_18 gini : 0.003964469486398281\n",
      "FLAG_DOCUMENT_19 gini : 5.677852971541775e-05\n",
      "FLAG_DOCUMENT_20 gini : -0.0001473433255237966\n",
      "FLAG_DOCUMENT_21 gini : 0.00041018198302489317\n",
      "AMT_REQ_CREDIT_BUREAU_HOUR gini : -0.03690547568916702\n",
      "AMT_REQ_CREDIT_BUREAU_DAY gini : 0.037264278615998236\n",
      "AMT_REQ_CREDIT_BUREAU_WEEK gini : -0.03551187256214017\n",
      "AMT_REQ_CREDIT_BUREAU_MON gini : -0.016321253643037714\n",
      "AMT_REQ_CREDIT_BUREAU_QRT gini : -0.010104590571075489\n",
      "AMT_REQ_CREDIT_BUREAU_YEAR gini : 0.04998215503668524\n"
     ]
    }
   ],
   "source": [
    "\n",
    "liste_gini = []\n",
    "\n",
    "for col in df_app.drop(columns = ['date_mensuelle','Unnamed: 0','SK_ID_CURR','TARGET','FLAG_MOBIL']).select_dtypes(include ='number').columns : \n",
    "    # NaN\n",
    "    moyenne = X_train[col].mean()\n",
    "    X_train[col] = X_train[col].fillna(moyenne)\n",
    "    X_test[col] = X_test[col].fillna(moyenne)\n",
    "    # Constante\n",
    "    X_train_scaled = X_train[col]\n",
    "    X_test_scaled = X_test[col]\n",
    "    X_train_scaled = sm.add_constant(X_train_scaled)\n",
    "    X_test_scaled = sm.add_constant(X_test_scaled)\n",
    "    \n",
    "    # Fit \n",
    "    model = sm.Logit(y_train, X_train_scaled)\n",
    "    result = model.fit_regularized(method='l1', disp=False)\n",
    "    \n",
    "    # Pred\n",
    "    y_pred = result.predict(X_test_scaled)\n",
    "    y_pred = (y_pred > 0.5).astype(int)\n",
    "    \n",
    "    y_prob = result.predict(X_test_scaled)\n",
    "    \n",
    "    # Calculer le taux de faux positifs (FPR), le taux de vrais positifs (TPR) et les seuils\n",
    "    fpr, tpr, thresholds = roc_curve(y_test, y_prob)\n",
    "    \n",
    "    # Calculer l'aire sous la courbe ROC (AUC)\n",
    "    roc_auc = auc(fpr, tpr)\n",
    "    \n",
    "    # Calculer le coefficient de Gini\n",
    "    gini_coefficient = 2 * roc_auc - 1\n",
    "    liste_gini.append(gini_coefficient)\n",
    "    print(f'{col} gini : {gini_coefficient}')\n",
    "df_selec_var_num = pd.DataFrame(liste_gini,index = df_app.drop(columns = ['date_mensuelle','Unnamed: 0','SK_ID_CURR','TARGET','FLAG_MOBIL']).select_dtypes(include ='number').columns, columns =['Gini'] )"
   ],
   "metadata": {
    "collapsed": false,
    "ExecuteTime": {
     "end_time": "2024-02-18T16:33:56.726355100Z",
     "start_time": "2024-02-18T16:33:33.493065400Z"
    }
   },
   "id": "9d3cd540208e2058"
  },
  {
   "cell_type": "code",
   "execution_count": 48,
   "outputs": [
    {
     "data": {
      "text/plain": "AMT_GOODS_PRICE                    277\nREGION_POPULATION_RELATIVE           0\nDAYS_BIRTH                           0\nDAYS_REGISTRATION                    0\nDAYS_ID_PUBLISH                      0\nOWN_CAR_AGE                     201962\nFLAG_EMP_PHONE                       0\nREGION_RATING_CLIENT                 0\nREGION_RATING_CLIENT_W_CITY          0\nHOUR_APPR_PROCESS_START              0\nREG_CITY_NOT_LIVE_CITY               0\nREG_CITY_NOT_WORK_CITY               0\nEXT_SOURCE_1                    172564\nEXT_SOURCE_2                       656\nEXT_SOURCE_3                     60640\nYEARS_BEGINEXPLUATATION_AVG     149238\nYEARS_BEGINEXPLUATATION_MODE    149238\nYEARS_BEGINEXPLUATATION_MEDI    149238\nDAYS_LAST_PHONE_CHANGE               1\nFLAG_DOCUMENT_3                      0\ndtype: int64"
     },
     "execution_count": 48,
     "metadata": {},
     "output_type": "execute_result"
    }
   ],
   "source": [
    "df_app[df_selec_var_num[df_selec_var_num['Gini']>0.05].index.to_list()].isna().sum()"
   ],
   "metadata": {
    "collapsed": false,
    "ExecuteTime": {
     "end_time": "2024-02-18T16:45:01.342868600Z",
     "start_time": "2024-02-18T16:45:01.276432100Z"
    }
   },
   "id": "117b596cf90d5937"
  },
  {
   "cell_type": "code",
   "execution_count": 41,
   "outputs": [
    {
     "name": "stdout",
     "output_type": "stream",
     "text": [
      "NAME_CONTRACT_TYPE gini : 0.03136489394830777\n",
      "CODE_GENDER gini : 0.08583451088335092\n",
      "FLAG_OWN_CAR gini : 0.04389878775885969\n",
      "FLAG_OWN_REALTY gini : -0.018553179424603883\n",
      "NAME_TYPE_SUITE gini : 0.016179542185958073\n",
      "NAME_INCOME_TYPE gini : 0.11789442882124268\n",
      "NAME_EDUCATION_TYPE gini : 0.09234891635236497\n",
      "NAME_FAMILY_STATUS gini : 0.08034609933033665\n",
      "NAME_HOUSING_TYPE gini : 0.032453535601962846\n",
      "OCCUPATION_TYPE gini : 0.1510958211733926\n",
      "WEEKDAY_APPR_PROCESS_START gini : -0.022032665430325782\n",
      "ORGANIZATION_TYPE gini : 0.1456220603896501\n",
      "FONDKAPREMONT_MODE gini : 0.051587361157631406\n",
      "HOUSETYPE_MODE gini : 0.08105337102680088\n",
      "WALLSMATERIAL_MODE gini : 0.08749990234468674\n",
      "EMERGENCYSTATE_MODE gini : 0.08847882887199354\n"
     ]
    }
   ],
   "source": [
    "\n",
    "liste_gini = []\n",
    "\n",
    "for col in df_app.drop(columns = ['date_mensuelle','Unnamed: 0','SK_ID_CURR','TARGET','FLAG_MOBIL']).select_dtypes(include ='object').columns : \n",
    "    # NaN\n",
    "    mode = X_train[col].mode()\n",
    "    X_train[col] = X_train[col].fillna(mode)\n",
    "    X_test[col] = X_test[col].fillna(mode)\n",
    "    \n",
    "    # Encoding\n",
    "    target_encoder = TargetEncoder()\n",
    "    target_encoder.fit(X_train[col],y_train)\n",
    "    X_train[col] = target_encoder.transform(X_train[col])\n",
    "    X_test[col] = target_encoder.transform(X_test[col])\n",
    "    \n",
    "    # Constante\n",
    "    X_train_scaled = X_train[col]\n",
    "    X_test_scaled = X_test[col]\n",
    "    X_train_scaled = sm.add_constant(X_train_scaled)\n",
    "    X_test_scaled = sm.add_constant(X_test_scaled)\n",
    "    \n",
    "    # Fit \n",
    "    model = sm.Logit(y_train, X_train_scaled)\n",
    "    result = model.fit_regularized(method='l1', disp=False)\n",
    "    \n",
    "    # Pred\n",
    "    y_pred = result.predict(X_test_scaled)\n",
    "    y_pred = (y_pred > 0.5).astype(int)\n",
    "    \n",
    "    y_prob = result.predict(X_test_scaled)\n",
    "    \n",
    "    # Calculer le taux de faux positifs (FPR), le taux de vrais positifs (TPR) et les seuils\n",
    "    fpr, tpr, thresholds = roc_curve(y_test, y_prob)\n",
    "    \n",
    "    # Calculer l'aire sous la courbe ROC (AUC)\n",
    "    roc_auc = auc(fpr, tpr)\n",
    "    \n",
    "    # Calculer le coefficient de Gini\n",
    "    gini_coefficient = 2 * roc_auc - 1\n",
    "    liste_gini.append(gini_coefficient)\n",
    "    print(f'{col} gini : {gini_coefficient}')\n",
    "df_selec_var_cat = pd.DataFrame(liste_gini,index = df_app.drop(columns = ['date_mensuelle','Unnamed: 0','SK_ID_CURR','TARGET','FLAG_MOBIL']).select_dtypes(include ='object').columns, columns =['Gini'] )"
   ],
   "metadata": {
    "collapsed": false,
    "ExecuteTime": {
     "end_time": "2024-02-18T16:34:29.778811900Z",
     "start_time": "2024-02-18T16:34:22.606429700Z"
    }
   },
   "id": "34853777c8671406"
  },
  {
   "cell_type": "code",
   "execution_count": 46,
   "outputs": [],
   "source": [
    "liste = df_selec_var_cat[df_selec_var_cat['Gini']>0.08].index.to_list()"
   ],
   "metadata": {
    "collapsed": false,
    "ExecuteTime": {
     "end_time": "2024-02-18T16:42:18.672903300Z",
     "start_time": "2024-02-18T16:42:18.656081900Z"
    }
   },
   "id": "773bf4797f250f7c"
  },
  {
   "cell_type": "code",
   "execution_count": 47,
   "outputs": [
    {
     "data": {
      "text/plain": "CODE_GENDER                 0\nNAME_INCOME_TYPE            0\nNAME_EDUCATION_TYPE         0\nNAME_FAMILY_STATUS          0\nOCCUPATION_TYPE         96049\nORGANIZATION_TYPE           0\nHOUSETYPE_MODE         153493\nWALLSMATERIAL_MODE     155543\nEMERGENCYSTATE_MODE    144998\ndtype: int64"
     },
     "execution_count": 47,
     "metadata": {},
     "output_type": "execute_result"
    }
   ],
   "source": [
    "df_app[liste].isna().sum()"
   ],
   "metadata": {
    "collapsed": false,
    "ExecuteTime": {
     "end_time": "2024-02-18T16:42:24.897695Z",
     "start_time": "2024-02-18T16:42:24.771558300Z"
    }
   },
   "id": "fb89d12ebcf7bdae"
  }
 ],
 "metadata": {
  "kernelspec": {
   "display_name": "Python 3",
   "language": "python",
   "name": "python3"
  },
  "language_info": {
   "codemirror_mode": {
    "name": "ipython",
    "version": 2
   },
   "file_extension": ".py",
   "mimetype": "text/x-python",
   "name": "python",
   "nbconvert_exporter": "python",
   "pygments_lexer": "ipython2",
   "version": "2.7.6"
  }
 },
 "nbformat": 4,
 "nbformat_minor": 5
}
